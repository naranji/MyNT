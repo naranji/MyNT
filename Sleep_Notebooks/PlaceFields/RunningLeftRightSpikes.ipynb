{
 "metadata": {
  "name": ""
 },
 "nbformat": 3,
 "nbformat_minor": 0,
 "worksheets": [
  {
   "cells": [
    {
     "cell_type": "code",
     "collapsed": false,
     "input": [
      "cd /home/chenani/ATLAS-clone/workspace/Sleep/src/"
     ],
     "language": "python",
     "metadata": {},
     "outputs": [
      {
       "output_type": "stream",
       "stream": "stdout",
       "text": [
        "/home/chenani/ATLAS-clone/workspace/Sleep/src\n"
       ]
      }
     ],
     "prompt_number": 54
    },
    {
     "cell_type": "code",
     "collapsed": false,
     "input": [
      "%matplotlib\n",
      "%load_ext autoreload\n",
      "%autoreload 2\n",
      "import numpy as np\n",
      "import matplotlib.pyplot as pl\n",
      "import pickle as pkl\n",
      "import random\n",
      "import os,sys\n",
      "import scipy.signal as scsig"
     ],
     "language": "python",
     "metadata": {},
     "outputs": [
      {
       "output_type": "stream",
       "stream": "stdout",
       "text": [
        "Using matplotlib backend: Qt4Agg\n",
        "The autoreload extension is already loaded. To reload it, use:\n",
        "  %reload_ext autoreload\n"
       ]
      }
     ],
     "prompt_number": 55
    },
    {
     "cell_type": "code",
     "collapsed": false,
     "input": [
      "import Recordings\n",
      "import signale, trajectory, custom_plot"
     ],
     "language": "python",
     "metadata": {},
     "outputs": [],
     "prompt_number": 56
    },
    {
     "cell_type": "code",
     "collapsed": false,
     "input": [
      "trajFile = '/home/chenani/DATA-clone/MECLesion/Rat434Lesion/Tfiles/linearTrack_Trajectory.traj'\n",
      "placeCellList = '/home/chenani/DATA-clone/MECLesion/Rat434Lesion/Tfiles/linearTrack_stList.spk'"
     ],
     "language": "python",
     "metadata": {},
     "outputs": [],
     "prompt_number": 57
    },
    {
     "cell_type": "code",
     "collapsed": false,
     "input": [
      "plzList = pkl.load(open(placeCellList,'rb'))\n",
      "traj = pkl.load(open(trajFile,'rb'))"
     ],
     "language": "python",
     "metadata": {},
     "outputs": [],
     "prompt_number": 58
    },
    {
     "cell_type": "code",
     "collapsed": false,
     "input": [
      "pl.plot(plzList.id_list,plzList.mean_rates())\n",
      "pl.axhline(5,color = 'm',alpha=0.5)"
     ],
     "language": "python",
     "metadata": {},
     "outputs": [
      {
       "metadata": {},
       "output_type": "pyout",
       "prompt_number": 59,
       "text": [
        "<matplotlib.lines.Line2D at 0x372d1d0>"
       ]
      }
     ],
     "prompt_number": 59
    },
    {
     "cell_type": "code",
     "collapsed": false,
     "input": [
      "interNeuronIDs = np.int0([])\n",
      "for jj,item in enumerate(plzList):\n",
      "    if item.mean_rate() > 4.5:\n",
      "        interNeuronIDs = np.append(interNeuronIDs,jj)\n",
      "placeCellIDs = np.array([item for item in plzList.id_list if item not in interNeuronIDs])"
     ],
     "language": "python",
     "metadata": {},
     "outputs": [],
     "prompt_number": 46
    },
    {
     "cell_type": "code",
     "collapsed": false,
     "input": [
      "interNeuronIDs,placeCellIDs"
     ],
     "language": "python",
     "metadata": {},
     "outputs": [
      {
       "metadata": {},
       "output_type": "pyout",
       "prompt_number": 47,
       "text": [
        "(array([  7,  14,  27,  31,  38,  92, 102]),\n",
        " array([  0,   1,   2,   3,   4,   5,   6,   8,   9,  10,  11,  12,  13,\n",
        "        15,  16,  17,  18,  19,  20,  21,  22,  23,  24,  25,  26,  28,\n",
        "        29,  30,  32,  33,  34,  35,  36,  37,  39,  40,  41,  42,  43,\n",
        "        44,  45,  46,  47,  48,  49,  50,  51,  52,  53,  54,  55,  56,\n",
        "        57,  58,  59,  60,  61,  62,  63,  64,  65,  66,  67,  68,  69,\n",
        "        70,  71,  72,  73,  74,  75,  76,  77,  78,  79,  80,  81,  82,\n",
        "        83,  84,  85,  86,  87,  88,  89,  90,  91,  93,  94,  95,  96,\n",
        "        97,  98,  99, 100, 101, 103, 104, 105, 106, 107, 108, 109, 110,\n",
        "       111, 112]))"
       ]
      }
     ],
     "prompt_number": 47
    },
    {
     "cell_type": "code",
     "collapsed": false,
     "input": [
      "print np.intersect1d(traj.links_places[:,0],traj.rechts_places[:,0]).size\n",
      "print traj.links_places.shape\n",
      "print traj.rechts_times.size\n",
      "print traj.times.size"
     ],
     "language": "python",
     "metadata": {},
     "outputs": [
      {
       "output_type": "stream",
       "stream": "stdout",
       "text": [
        "3471\n",
        "(35157, 3)\n",
        "35157\n",
        "35157\n"
       ]
      }
     ],
     "prompt_number": 6
    },
    {
     "cell_type": "code",
     "collapsed": false,
     "input": [
      "pl.plot(traj.places[:,0],traj.times,'.')\n",
      "pl.plot(traj.run_places[:,0],traj.run_times,'r.')"
     ],
     "language": "python",
     "metadata": {},
     "outputs": [
      {
       "metadata": {},
       "output_type": "pyout",
       "prompt_number": 7,
       "text": [
        "[<matplotlib.lines.Line2D at 0x3739b90>]"
       ]
      }
     ],
     "prompt_number": 7
    },
    {
     "cell_type": "code",
     "collapsed": false,
     "input": [
      "lt1List = plzList.time_slice(traj.t_start * 1000,traj.t_stop * 1000)"
     ],
     "language": "python",
     "metadata": {},
     "outputs": [],
     "prompt_number": 49
    },
    {
     "cell_type": "code",
     "collapsed": false,
     "input": [
      "lt1List._spikezugList__recalc_startstop()\n",
      "lt1List.changeTimeUnit('s')\n",
      "for item in lt1List:\n",
      "    item.traj = traj"
     ],
     "language": "python",
     "metadata": {},
     "outputs": [],
     "prompt_number": 50
    },
    {
     "cell_type": "code",
     "collapsed": false,
     "input": [
      "cell = lt1List[15]"
     ],
     "language": "python",
     "metadata": {},
     "outputs": [],
     "prompt_number": 303
    },
    {
     "cell_type": "code",
     "collapsed": false,
     "input": [
      "cell.getSpikePlaces()\n",
      "cell.getRunningSpikes(1)\n",
      "cell.getLeftAndRightwardSpikes(onlyRunning=True)"
     ],
     "language": "python",
     "metadata": {},
     "outputs": [
      {
       "output_type": "stream",
       "stream": "stdout",
       "text": [
        "NOTE: Using linear interpolation to get the places.\n",
        "NOTE: Reset threshspeed from"
       ]
      },
      {
       "output_type": "stream",
       "stream": "stdout",
       "text": [
        " 12 to 1 m/s\n",
        "NOTE: Now calculating running traj > 1 m/s\n",
        "calculating trajectory with running speed >= 1\n",
        "WARNING: Calculating without head directions! If head directions are needed                 calculate them first!\n",
        "WARNING: Calculating without spike phases! If spike phases are needed caluculate them before!\n",
        "WARNING: Calculating without spike head directions! If spike head directions are needed caluculate them before!\n",
        "WARNING: Calculating without spike phases! If spike phases are needed                 spike phases have to be calculated first!"
       ]
      },
      {
       "output_type": "stream",
       "stream": "stdout",
       "text": [
        "\n"
       ]
      }
     ],
     "prompt_number": 99
    },
    {
     "cell_type": "code",
     "collapsed": false,
     "input": [
      "float(np.intersect1d(cell.links_spikeTimes,cell.rechts_spikeTimes).size) / cell.spike_times.size"
     ],
     "language": "python",
     "metadata": {},
     "outputs": [
      {
       "metadata": {},
       "output_type": "pyout",
       "prompt_number": 100,
       "text": [
        "0.056782334384858045"
       ]
      }
     ],
     "prompt_number": 100
    },
    {
     "cell_type": "code",
     "collapsed": false,
     "input": [
      "notClassified = []\n",
      "overlap = []\n",
      "for jj in np.arange(0.4,1,0.02):\n",
      "    #cell.traj.getRunningTraj(threshspeed=float(jj+1)/33)\n",
      "    cell.getSpikePlaces()\n",
      "    cell.getRunningSpikes(threshspeed=jj)\n",
      "    cell.traj.getLeftAndRightwardRuns()\n",
      "    cell.getLeftAndRightwardSpikes(onlyRunning=True)\n",
      "    if (hasattr(cell,'links_spikeTimes') and hasattr(cell,'rechts_spikeTimes')):\n",
      "        overlap.append(float(np.intersect1d(cell.links_spikeTimes,cell.rechts_spikeTimes).size) / cell.spike_times.size)\n",
      "        notClassified.append(1 - ((cell.links_spikeTimes.size+cell.rechts_spikeTimes.size) / float(cell.spike_times.size)))\n",
      "    else:\n",
      "        overlap.append(np.nan)\n",
      "        notClassified.append(np.nan)\n",
      "overlap = np.array(overlap)\n",
      "#    ovMean.append(overlap.mean())\n",
      "#    ovSD.append(overlap.std())\n",
      "#ovMean = np.array(ovMean)\n",
      "#ovSD = np.array(ovSD)"
     ],
     "language": "python",
     "metadata": {},
     "outputs": [
      {
       "output_type": "stream",
       "stream": "stdout",
       "text": [
        "NOTE: Using linear interpolation to get the places.\n",
        "NOTE: Reset threshspeed from 0.98 to 0.4 m/s\n",
        "NOTE: Now calculating running traj > 0.4 m/s\n",
        "calculating trajectory with running speed >= 0.4\n",
        "WARNING: Calculating without head directions! If head directions are needed                 calculate them first!\n",
        "WARNING: Calculating without spike phases! If spike phases are needed caluculate them before!\n",
        "WARNING: Calculating without spike head directions! If spike head directions are needed caluculate them before!\n",
        "WARNING: Calculating without spike phases! If spike phases are needed                 spike phases have to be calculated first!\n",
        "NOTE: Using linear interpolation to get the places.\n",
        "NOTE: Reset threshspeed from 0.4 to 0.42 m/s\n",
        "NOTE: Now calculating running traj > 0.42 m/s\n",
        "calculating trajectory with running speed >= 0.42\n",
        "WARNING: Calculating without head directions! If head directions are needed                 calculate them first!\n",
        "WARNING: Calculating without spike phases! If spike phases are needed caluculate them before!\n",
        "WARNING: Calculating without spike head directions! If spike head directions are needed caluculate them before!\n",
        "WARNING: Calculating without spike phases! If spike phases are needed                 spike phases have to be calculated first!\n",
        "NOTE: Using linear interpolation to get the places.\n",
        "NOTE: Reset threshspeed from 0.42 to 0.44 m/s\n",
        "NOTE: Now calculating running traj > 0.44 m/s\n",
        "calculating trajectory with running speed >= 0.44\n",
        "WARNING: Calculating without head directions! If head directions are needed                 calculate them first!\n",
        "WARNING: Calculating without spike phases! If spike phases are needed caluculate them before!\n",
        "WARNING: Calculating without spike head directions! If spike head directions are needed caluculate them before!\n",
        "WARNING: Calculating without spike phases! If spike phases are needed                 spike phases have to be calculated first!\n",
        "NOTE: Using linear interpolation to get the places.\n",
        "NOTE: Reset threshspeed from 0.44 to 0.46 m/s\n",
        "NOTE: Now calculating running traj > 0.46 m/s\n",
        "calculating trajectory with running speed >= 0.46\n",
        "WARNING: Calculating without head directions! If head directions are needed                 calculate them first!\n",
        "WARNING: Calculating without spike phases! If spike phases are needed caluculate them before!\n",
        "WARNING: Calculating without spike head directions! If spike head directions are needed caluculate them before!\n",
        "WARNING: Calculating without spike phases! If spike phases are needed                 spike phases have to be calculated first!\n",
        "NOTE: Using linear interpolation to get the places.\n",
        "NOTE: Reset threshspeed from 0.46 to 0.48 m/s\n",
        "NOTE: Now calculating running traj > 0.48 m/s\n",
        "calculating trajectory with running speed >= 0.48\n",
        "WARNING: Calculating without head directions! If head directions are needed                 calculate them first!\n",
        "WARNING: Calculating without spike phases! If spike phases are needed caluculate them before!\n",
        "WARNING: Calculating without spike head directions! If spike head directions are needed caluculate them before!\n",
        "WARNING: Calculating without spike phases! If spike phases are needed                 spike phases have to be calculated first!\n",
        "NOTE: Using linear interpolation to get the places.\n",
        "NOTE: Reset threshspeed from 0.48 to 0.5 m/s\n",
        "NOTE: Now calculating running traj > 0.5 m/s\n",
        "calculating trajectory with running speed >= 0.5\n",
        "WARNING: Calculating without head directions! If head directions are needed                 calculate them first!\n",
        "WARNING: Calculating without spike phases! If spike phases are needed caluculate them before!\n",
        "WARNING: Calculating without spike head directions! If spike head directions are needed caluculate them before!\n",
        "WARNING: Calculating without spike phases! If spike phases are needed                 spike phases have to be calculated first!"
       ]
      },
      {
       "output_type": "stream",
       "stream": "stdout",
       "text": [
        "\n",
        "NOTE: Using linear interpolation to get the places.\n",
        "NOTE: Reset threshspeed from 0.5 to 0.52 m/s\n",
        "NOTE: Now calculating running traj > 0.52 m/s\n",
        "calculating trajectory with running speed >= 0.52\n",
        "WARNING: Calculating without head directions! If head directions are needed                 calculate them first!\n",
        "WARNING: Calculating without spike phases! If spike phases are needed caluculate them before!\n",
        "WARNING: Calculating without spike head directions! If spike head directions are needed caluculate them before!\n",
        "WARNING: Calculating without spike phases! If spike phases are needed                 spike phases have to be calculated first!\n",
        "NOTE: Using linear interpolation to get the places.\n",
        "NOTE: Reset threshspeed from 0.52 to 0.54 m/s\n",
        "NOTE: Now calculating running traj > 0.54 m/s\n",
        "calculating trajectory with running speed >= 0.54\n",
        "WARNING: Calculating without head directions! If head directions are needed                 calculate them first!\n",
        "WARNING: Calculating without spike phases! If spike phases are needed caluculate them before!\n",
        "WARNING: Calculating without spike head directions! If spike head directions are needed caluculate them before!\n",
        "WARNING: Calculating without spike phases! If spike phases are needed                 spike phases have to be calculated first!\n",
        "NOTE: Using linear interpolation to get the places.\n",
        "NOTE: Reset threshspeed from 0.54 to 0.56 m/s\n",
        "NOTE: Now calculating running traj > 0.56 m/s\n",
        "calculating trajectory with running speed >= 0.56\n",
        "WARNING: Calculating without head directions! If head directions are needed                 calculate them first!\n",
        "WARNING: Calculating without spike phases! If spike phases are needed caluculate them before!\n",
        "WARNING: Calculating without spike head directions! If spike head directions are needed caluculate them before!\n",
        "WARNING: Calculating without spike phases! If spike phases are needed                 spike phases have to be calculated first!\n",
        "NOTE: Using linear interpolation to get the places.\n",
        "NOTE: Reset threshspeed from 0.56 to 0.58 m/s\n",
        "NOTE: Now calculating running traj > 0.58 m/s\n",
        "calculating trajectory with running speed >= 0.58\n",
        "WARNING: Calculating without head directions! If head directions are needed                 calculate them first!\n",
        "WARNING: Calculating without spike phases! If spike phases are needed caluculate them before!\n",
        "WARNING: Calculating without spike head directions! If spike head directions are needed caluculate them before!\n",
        "WARNING: Calculating without spike phases! If spike phases are needed                 spike phases have to be calculated first!\n",
        "NOTE: Using linear interpolation to get the places.\n",
        "NOTE: Reset threshspeed from 0.58 to 0.6 m/s\n",
        "NOTE: Now calculating running traj > 0.6 m/s\n",
        "calculating trajectory with running speed >= 0.6\n",
        "WARNING: Calculating without head directions! If head directions are needed                 calculate them first!\n",
        "WARNING: Calculating without spike phases! If spike phases are needed caluculate them before!\n",
        "WARNING: Calculating without spike head directions! If spike head directions are needed caluculate them before!\n",
        "WARNING: Calculating without spike phases! If spike phases are needed                 spike phases have to be calculated first!\n",
        "NOTE: Using linear interpolation to get the places.\n",
        "NOTE: Reset threshspeed from 0.6 to 0.62 m/s\n",
        "NOTE: Now calculating running traj > 0.62 m/s\n",
        "calculating trajectory with running speed >= 0.62\n",
        "WARNING: Calculating without head directions! If head directions are needed                 calculate them first!\n",
        "WARNING: Calculating without spike phases! If spike phases are needed caluculate them before!\n",
        "WARNING: Calculating without spike head directions! If spike head directions are needed caluculate them before!\n",
        "WARNING: Calculating without spike phases! If spike phases are needed                 spike phases have to be calculated first!"
       ]
      },
      {
       "output_type": "stream",
       "stream": "stdout",
       "text": [
        "\n",
        "NOTE: Using linear interpolation to get the places.\n",
        "NOTE: Reset threshspeed from 0.62 to 0.64 m/s\n",
        "NOTE: Now calculating running traj > 0.64 m/s\n",
        "calculating trajectory with running speed >= 0.64\n",
        "WARNING: Calculating without head directions! If head directions are needed                 calculate them first!\n",
        "WARNING: Calculating without spike phases! If spike phases are needed caluculate them before!\n",
        "WARNING: Calculating without spike head directions! If spike head directions are needed caluculate them before!\n",
        "WARNING: Calculating without spike phases! If spike phases are needed                 spike phases have to be calculated first!\n",
        "NOTE: Using linear interpolation to get the places.\n",
        "NOTE: Reset threshspeed from 0.64 to 0.66 m/s\n",
        "NOTE: Now calculating running traj > 0.66 m/s\n",
        "calculating trajectory with running speed >= 0.66\n",
        "WARNING: Calculating without head directions! If head directions are needed                 calculate them first!\n",
        "WARNING: Calculating without spike phases! If spike phases are needed caluculate them before!\n",
        "WARNING: Calculating without spike head directions! If spike head directions are needed caluculate them before!\n",
        "WARNING: Calculating without spike phases! If spike phases are needed                 spike phases have to be calculated first!\n",
        "NOTE: Using linear interpolation to get the places.\n",
        "NOTE: Reset threshspeed from 0.66 to 0.68 m/s\n",
        "NOTE: Now calculating running traj > 0.68 m/s\n",
        "calculating trajectory with running speed >= 0.68\n",
        "WARNING: Calculating without head directions! If head directions are needed                 calculate them first!\n",
        "WARNING: Calculating without spike phases! If spike phases are needed caluculate them before!\n",
        "WARNING: Calculating without spike head directions! If spike head directions are needed caluculate them before!\n",
        "WARNING: Calculating without spike phases! If spike phases are needed                 spike phases have to be calculated first!\n",
        "NOTE: Using linear interpolation to get the places.\n",
        "NOTE: Reset threshspeed from 0.68 to 0.7 m/s\n",
        "NOTE: Now calculating running traj > 0.7 m/s\n",
        "calculating trajectory with running speed >= 0.7\n",
        "WARNING: Calculating without head directions! If head directions are needed                 calculate them first!\n",
        "WARNING: Calculating without spike phases! If spike phases are needed caluculate them before!\n",
        "WARNING: Calculating without spike head directions! If spike head directions are needed caluculate them before!\n",
        "WARNING: Calculating without spike phases! If spike phases are needed                 spike phases have to be calculated first!\n",
        "NOTE: Using linear interpolation to get the places.\n",
        "NOTE: Reset threshspeed from 0.7 to 0.72 m/s\n",
        "NOTE: Now calculating running traj > 0.72 m/s\n",
        "calculating trajectory with running speed >= 0.72\n",
        "WARNING: Calculating without head directions! If head directions are needed                 calculate them first!\n",
        "WARNING: Calculating without spike phases! If spike phases are needed caluculate them before!\n",
        "WARNING: Calculating without spike head directions! If spike head directions are needed caluculate them before!\n",
        "WARNING: Calculating without spike phases! If spike phases are needed                 spike phases have to be calculated first!\n",
        "NOTE: Using linear interpolation to get the places.\n",
        "NOTE: Reset threshspeed from 0.72 to 0.74 m/s\n",
        "NOTE: Now calculating running traj > 0.74 m/s\n",
        "calculating trajectory with running speed >= 0.74\n",
        "WARNING: Calculating without head directions! If head directions are needed                 calculate them first!\n",
        "WARNING: Calculating without spike phases! If spike phases are needed caluculate them before!\n",
        "WARNING: Calculating without spike head directions! If spike head directions are needed caluculate them before!\n",
        "WARNING: Calculating without spike phases! If spike phases are needed                 spike phases have to be calculated first!\n",
        "NOTE: Using linear interpolation to get the places."
       ]
      },
      {
       "output_type": "stream",
       "stream": "stdout",
       "text": [
        "\n",
        "NOTE: Reset threshspeed from 0.74 to 0.76 m/s\n",
        "NOTE: Now calculating running traj > 0.76 m/s\n",
        "calculating trajectory with running speed >= 0.76\n",
        "WARNING: Calculating without head directions! If head directions are needed                 calculate them first!\n",
        "WARNING: Calculating without spike phases! If spike phases are needed caluculate them before!\n",
        "WARNING: Calculating without spike head directions! If spike head directions are needed caluculate them before!\n",
        "WARNING: Calculating without spike phases! If spike phases are needed                 spike phases have to be calculated first!\n",
        "NOTE: Using linear interpolation to get the places.\n",
        "NOTE: Reset threshspeed from 0.76 to 0.78 m/s\n",
        "NOTE: Now calculating running traj > 0.78 m/s\n",
        "calculating trajectory with running speed >= 0.78\n",
        "WARNING: Calculating without head directions! If head directions are needed                 calculate them first!\n",
        "WARNING: Calculating without spike phases! If spike phases are needed caluculate them before!\n",
        "WARNING: Calculating without spike head directions! If spike head directions are needed caluculate them before!\n",
        "WARNING: Calculating without spike phases! If spike phases are needed                 spike phases have to be calculated first!\n",
        "NOTE: Using linear interpolation to get the places.\n",
        "NOTE: Reset threshspeed from 0.78 to 0.8 m/s\n",
        "NOTE: Now calculating running traj > 0.8 m/s\n",
        "calculating trajectory with running speed >= 0.8\n",
        "WARNING: Calculating without head directions! If head directions are needed                 calculate them first!\n",
        "WARNING: Calculating without spike phases! If spike phases are needed caluculate them before!\n",
        "WARNING: Calculating without spike head directions! If spike head directions are needed caluculate them before!\n",
        "WARNING: Calculating without spike phases! If spike phases are needed                 spike phases have to be calculated first!\n",
        "NOTE: Using linear interpolation to get the places.\n",
        "NOTE: Reset threshspeed from 0.8 to 0.82 m/s\n",
        "NOTE: Now calculating running traj > 0.82 m/s\n",
        "calculating trajectory with running speed >= 0.82\n",
        "WARNING: Calculating without head directions! If head directions are needed                 calculate them first!\n",
        "WARNING: Calculating without spike phases! If spike phases are needed caluculate them before!\n",
        "WARNING: Calculating without spike head directions! If spike head directions are needed caluculate them before!\n",
        "WARNING: Calculating without spike phases! If spike phases are needed                 spike phases have to be calculated first!\n",
        "NOTE: Using linear interpolation to get the places.\n",
        "NOTE: Reset threshspeed from 0.82 to 0.84 m/s\n",
        "NOTE: Now calculating running traj > 0.84 m/s\n",
        "calculating trajectory with running speed >= 0.84\n",
        "WARNING: Calculating without head directions! If head directions are needed                 calculate them first!\n",
        "WARNING: Calculating without spike phases! If spike phases are needed caluculate them before!\n",
        "WARNING: Calculating without spike head directions! If spike head directions are needed caluculate them before!\n",
        "WARNING: Calculating without spike phases! If spike phases are needed                 spike phases have to be calculated first!\n",
        "NOTE: Using linear interpolation to get the places.\n",
        "NOTE: Reset threshspeed from 0.84 to 0.86 m/s\n",
        "NOTE: Now calculating running traj > 0.86 m/s\n",
        "calculating trajectory with running speed >= 0.86\n",
        "WARNING: Calculating without head directions! If head directions are needed                 calculate them first!\n",
        "WARNING: Calculating without spike phases! If spike phases are needed caluculate them before!\n",
        "WARNING: Calculating without spike head directions! If spike head directions are needed caluculate them before!\n",
        "WARNING: Calculating without spike phases! If spike phases are needed                 spike phases have to be calculated first!\n",
        "NOTE: Using linear interpolation to get the places.\n",
        "NOTE: Reset threshspeed from 0.86 to 0.88 m/s\n",
        "NOTE: Now calculating running traj > 0.88 m/s\n",
        "calculating trajectory with running speed >= 0.88\n",
        "WARNING: Calculating without head directions! If head directions are needed                 calculate them first!\n",
        "WARNING: Calculating without spike phases! If spike phases are needed caluculate them before!\n",
        "WARNING: Calculating without spike head directions! If spike head directions are needed caluculate them before!\n",
        "WARNING: Calculating without spike phases! If spike phases are needed                 spike phases have to be calculated first!"
       ]
      },
      {
       "output_type": "stream",
       "stream": "stdout",
       "text": [
        "\n",
        "NOTE: Using linear interpolation to get the places.\n",
        "NOTE: Reset threshspeed from 0.88 to 0.9 m/s\n",
        "NOTE: Now calculating running traj > 0.9 m/s\n",
        "calculating trajectory with running speed >= 0.9\n",
        "WARNING: Calculating without head directions! If head directions are needed                 calculate them first!\n",
        "WARNING: Calculating without spike phases! If spike phases are needed caluculate them before!\n",
        "WARNING: Calculating without spike head directions! If spike head directions are needed caluculate them before!\n",
        "WARNING: Calculating without spike phases! If spike phases are needed                 spike phases have to be calculated first!\n",
        "NOTE: Using linear interpolation to get the places.\n",
        "NOTE: Reset threshspeed from 0.9 to 0.92 m/s\n",
        "NOTE: Now calculating running traj > 0.92 m/s\n",
        "calculating trajectory with running speed >= 0.92\n",
        "WARNING: Calculating without head directions! If head directions are needed                 calculate them first!\n",
        "WARNING: Calculating without spike phases! If spike phases are needed caluculate them before!\n",
        "WARNING: Calculating without spike head directions! If spike head directions are needed caluculate them before!\n",
        "WARNING: Calculating without spike phases! If spike phases are needed                 spike phases have to be calculated first!\n",
        "NOTE: Using linear interpolation to get the places.\n",
        "NOTE: Reset threshspeed from 0.92 to 0.94 m/s\n",
        "NOTE: Now calculating running traj > 0.94 m/s\n",
        "calculating trajectory with running speed >= 0.94\n",
        "WARNING: Calculating without head directions! If head directions are needed                 calculate them first!\n",
        "WARNING: Calculating without spike phases! If spike phases are needed caluculate them before!\n",
        "WARNING: Calculating without spike head directions! If spike head directions are needed caluculate them before!\n",
        "WARNING: Calculating without spike phases! If spike phases are needed                 spike phases have to be calculated first!\n",
        "NOTE: Using linear interpolation to get the places.\n",
        "NOTE: Reset threshspeed from 0.94 to 0.96 m/s\n",
        "NOTE: Now calculating running traj > 0.96 m/s\n",
        "calculating trajectory with running speed >= 0.96\n",
        "WARNING: Calculating without head directions! If head directions are needed                 calculate them first!\n",
        "WARNING: Calculating without spike phases! If spike phases are needed caluculate them before!\n",
        "WARNING: Calculating without spike head directions! If spike head directions are needed caluculate them before!\n",
        "WARNING: Calculating without spike phases! If spike phases are needed                 spike phases have to be calculated first!\n",
        "NOTE: Using linear interpolation to get the places.\n",
        "NOTE: Reset threshspeed from 0.96 to 0.98 m/s\n",
        "NOTE: Now calculating running traj > 0.98 m/s\n",
        "calculating trajectory with running speed >= 0.98\n",
        "WARNING: Calculating without head directions! If head directions are needed                 calculate them first!\n",
        "WARNING: Calculating without spike phases! If spike phases are needed caluculate them before!\n",
        "WARNING: Calculating without spike head directions! If spike head directions are needed caluculate them before!\n",
        "WARNING: Calculating without spike phases! If spike phases are needed                 spike phases have to be calculated first!\n"
       ]
      }
     ],
     "prompt_number": 304
    },
    {
     "cell_type": "code",
     "collapsed": false,
     "input": [
      "overlapC = []\n",
      "for jj in placeCellIDs:\n",
      "    #cell.traj.getRunningTraj(threshspeed=float(jj+1)/33)\n",
      "    lt1List[jj].getSpikePlaces()\n",
      "    lt1List[jj].getRunningSpikes(threshspeed=0.7)\n",
      "    lt1List[jj].traj.getLeftAndRightwardRuns()\n",
      "    lt1List[jj].getLeftAndRightwardSpikes(onlyRunning=True)\n",
      "    if (hasattr(lt1List[jj],'links_spikeTimes') and hasattr(lt1List[jj],'rechts_spikeTimes')):\n",
      "        overlapC.append(float(np.intersect1d(lt1List[jj].links_spikeTimes,lt1List[jj].rechts_spikeTimes).size) / lt1List[jj].spike_times.size)\n",
      "        #notClassified.append(1 - ((lt1List[jj].links_spikeTimes.size+lt1List[jj].rechts_spikeTimes.size) / float(lt1List[jj].spike_times.size)))\n",
      "    else:\n",
      "        overlapC.append(np.nan)\n",
      "\n",
      "overlapC = np.array(overlapC)"
     ],
     "language": "python",
     "metadata": {},
     "outputs": [
      {
       "output_type": "stream",
       "stream": "stdout",
       "text": [
        "NOTE: Using linear interpolation to get the places.\n",
        "NOTE: Reset threshspeed from"
       ]
      },
      {
       "output_type": "stream",
       "stream": "stdout",
       "text": [
        " 1.17611352708 to 0.7 m/s\n",
        "NOTE: Now calculating running traj > 0.7 m/s\n",
        "calculating trajectory with running speed >= 0.7\n",
        "WARNING: Calculating without head directions! If head directions are needed                 calculate them first!\n",
        "WARNING: Calculating without spike phases! If spike phases are needed caluculate them before!\n",
        "WARNING: Calculating without spike head directions! If spike head directions are needed caluculate them before!\n",
        "WARNING: Calculating without spike phases! If spike phases are needed                 spike phases have to be calculated first!"
       ]
      },
      {
       "output_type": "stream",
       "stream": "stdout",
       "text": [
        "\n",
        "NOTE: Using linear interpolation to get the places."
       ]
      },
      {
       "output_type": "stream",
       "stream": "stdout",
       "text": [
        "\n",
        "WARNING: Calculating without spike phases! If spike phases are needed caluculate them before!\n",
        "WARNING: Calculating without spike head directions! If spike head directions are needed caluculate them before!\n",
        "WARNING: Calculating without spike phases! If spike phases are needed                 spike phases have to be calculated first!\n",
        "NOTE: Using linear interpolation to get the places.\n",
        "WARNING: Calculating without spike phases!"
       ]
      },
      {
       "output_type": "stream",
       "stream": "stdout",
       "text": [
        " If spike phases are needed caluculate them before!\n",
        "WARNING: Calculating without spike head directions! If spike head directions are needed caluculate them before!\n",
        "WARNING: Calculating without spike phases! If spike phases are needed                 spike phases have to be calculated first!"
       ]
      },
      {
       "output_type": "stream",
       "stream": "stdout",
       "text": [
        "\n",
        "NOTE: Using linear interpolation to get the places."
       ]
      },
      {
       "output_type": "stream",
       "stream": "stdout",
       "text": [
        "\n",
        "WARNING: Calculating without spike phases!"
       ]
      },
      {
       "output_type": "stream",
       "stream": "stdout",
       "text": [
        " If spike phases are needed caluculate them before!\n",
        "WARNING: Calculating without spike head directions! If spike head directions are needed caluculate them before!\n",
        "WARNING: Calculating without spike phases! If spike phases are needed                 spike phases have to be calculated first!"
       ]
      },
      {
       "output_type": "stream",
       "stream": "stdout",
       "text": [
        "\n",
        "NOTE: Using linear interpolation to get the places."
       ]
      },
      {
       "output_type": "stream",
       "stream": "stdout",
       "text": [
        "\n",
        "WARNING: Calculating without spike phases!"
       ]
      },
      {
       "output_type": "stream",
       "stream": "stdout",
       "text": [
        " If spike phases are needed caluculate them before!\n",
        "WARNING: Calculating without spike head directions! If spike head directions are needed caluculate them before!\n",
        "WARNING: Calculating without spike phases! If spike phases are needed                 spike phases have to be calculated first!"
       ]
      },
      {
       "output_type": "stream",
       "stream": "stdout",
       "text": [
        "\n",
        "NOTE: Using linear interpolation to get the places."
       ]
      },
      {
       "output_type": "stream",
       "stream": "stdout",
       "text": [
        "\n",
        "WARNING: Calculating without spike phases!"
       ]
      },
      {
       "output_type": "stream",
       "stream": "stdout",
       "text": [
        " If spike phases are needed caluculate them before!\n",
        "WARNING: Calculating without spike head directions! If spike head directions are needed caluculate them before!\n",
        "WARNING: Calculating without spike phases! If spike phases are needed                 spike phases have to be calculated first!"
       ]
      },
      {
       "output_type": "stream",
       "stream": "stdout",
       "text": [
        "\n",
        "NOTE: Using linear interpolation to get the places."
       ]
      },
      {
       "output_type": "stream",
       "stream": "stdout",
       "text": [
        "\n",
        "WARNING: Calculating without spike phases!"
       ]
      },
      {
       "output_type": "stream",
       "stream": "stdout",
       "text": [
        " If spike phases are needed caluculate them before!\n",
        "WARNING: Calculating without spike head directions! If spike head directions are needed caluculate them before!\n",
        "WARNING: Calculating without spike phases! If spike phases are needed                 spike phases have to be calculated first!"
       ]
      },
      {
       "output_type": "stream",
       "stream": "stdout",
       "text": [
        "\n",
        "NOTE: Using linear interpolation to get the places."
       ]
      },
      {
       "output_type": "stream",
       "stream": "stdout",
       "text": [
        "\n",
        "WARNING: Calculating without spike phases! If spike phases are needed caluculate them before!\n",
        "WARNING: Calculating without spike head directions! If spike head directions are needed caluculate them before!\n",
        "WARNING: Calculating without spike phases! If spike phases are needed                 spike phases have to be calculated first!"
       ]
      },
      {
       "output_type": "stream",
       "stream": "stdout",
       "text": [
        "\n",
        "NOTE: Using linear interpolation to get the places."
       ]
      },
      {
       "output_type": "stream",
       "stream": "stdout",
       "text": [
        "\n",
        "WARNING: Calculating without spike phases!"
       ]
      },
      {
       "output_type": "stream",
       "stream": "stdout",
       "text": [
        " If spike phases are needed caluculate them before!\n",
        "WARNING: Calculating without spike head directions! If spike head directions are needed caluculate them before!\n",
        "WARNING: Calculating without spike phases! If spike phases are needed                 spike phases have to be calculated first!"
       ]
      },
      {
       "output_type": "stream",
       "stream": "stdout",
       "text": [
        "\n",
        "NOTE: Using linear interpolation to get the places."
       ]
      },
      {
       "output_type": "stream",
       "stream": "stdout",
       "text": [
        "\n",
        "WARNING: Calculating without spike phases! If spike phases are needed caluculate them before!\n",
        "WARNING: Calculating without spike head directions! If spike head directions are needed caluculate them before!\n",
        "WARNING: Calculating without spike phases! If spike phases are needed                 spike phases have to be calculated first!\n",
        "NOTE: Using linear interpolation to get the places.\n",
        "WARNING: Calculating without spike phases! If spike phases are needed caluculate them before!\n",
        "WARNING: Calculating without spike head directions! If spike head directions are needed caluculate them before!\n",
        "WARNING: Calculating without spike phases! If spike phases are needed                 spike phases have to be calculated first!"
       ]
      },
      {
       "output_type": "stream",
       "stream": "stdout",
       "text": [
        "\n",
        "NOTE: Using linear interpolation to get the places."
       ]
      },
      {
       "output_type": "stream",
       "stream": "stdout",
       "text": [
        "\n",
        "WARNING: Calculating without spike phases! If spike phases are needed caluculate them before!\n",
        "WARNING: Calculating without spike head directions! If spike head directions are needed caluculate them before!\n",
        "WARNING: Calculating without spike phases! If spike phases are needed                 spike phases have to be calculated first!\n",
        "NOTE: Using linear interpolation to get the places."
       ]
      },
      {
       "output_type": "stream",
       "stream": "stdout",
       "text": [
        "\n",
        "WARNING: Calculating without spike phases!"
       ]
      },
      {
       "output_type": "stream",
       "stream": "stdout",
       "text": [
        " If spike phases are needed caluculate them before!\n",
        "WARNING: Calculating without spike head directions! If spike head directions are needed caluculate them before!\n",
        "WARNING: Calculating without spike phases! If spike phases are needed                 spike phases have to be calculated first!"
       ]
      },
      {
       "output_type": "stream",
       "stream": "stdout",
       "text": [
        "\n",
        "NOTE: Using linear interpolation to get the places."
       ]
      },
      {
       "output_type": "stream",
       "stream": "stdout",
       "text": [
        "\n",
        "WARNING: Calculating without spike phases! If spike phases are needed caluculate them before!\n",
        "WARNING: Calculating without spike head directions! If spike head directions are needed caluculate them before!\n",
        "WARNING: Calculating without spike phases! If spike phases are needed                 spike phases have to be calculated first!\n",
        "NOTE: Using linear interpolation to get the places.\n",
        "WARNING: Calculating without spike phases! If spike phases are needed caluculate them before!\n",
        "WARNING: Calculating without spike head directions! If spike head directions are needed caluculate them before!\n",
        "WARNING: Calculating without spike phases! If spike phases are needed                 spike phases have to be calculated first!\n",
        "NOTE: Using linear interpolation to get the places.\n",
        "WARNING: Calculating without spike phases! If spike phases are needed caluculate them before!\n",
        "WARNING: Calculating without spike head directions! If spike head directions are needed caluculate them before!\n",
        "WARNING: Calculating without spike phases! If spike phases are needed                 spike phases have to be calculated first!"
       ]
      },
      {
       "output_type": "stream",
       "stream": "stdout",
       "text": [
        "\n",
        "NOTE: Using linear interpolation to get the places."
       ]
      },
      {
       "output_type": "stream",
       "stream": "stdout",
       "text": [
        "\n",
        "WARNING: Calculating without spike phases!"
       ]
      },
      {
       "output_type": "stream",
       "stream": "stdout",
       "text": [
        " If spike phases are needed caluculate them before!\n",
        "WARNING: Calculating without spike head directions! If spike head directions are needed caluculate them before!\n",
        "WARNING: Calculating without spike phases! If spike phases are needed                 spike phases have to be calculated first!"
       ]
      },
      {
       "output_type": "stream",
       "stream": "stdout",
       "text": [
        "\n",
        "NOTE: Using linear interpolation to get the places."
       ]
      },
      {
       "output_type": "stream",
       "stream": "stdout",
       "text": [
        "\n",
        "WARNING: Calculating without spike phases!"
       ]
      },
      {
       "output_type": "stream",
       "stream": "stdout",
       "text": [
        " If spike phases are needed caluculate them before!\n",
        "WARNING: Calculating without spike head directions! If spike head directions are needed caluculate them before!\n",
        "WARNING: Calculating without spike phases! If spike phases are needed                 spike phases have to be calculated first!"
       ]
      },
      {
       "output_type": "stream",
       "stream": "stdout",
       "text": [
        "\n",
        "NOTE: Using linear interpolation to get the places."
       ]
      },
      {
       "output_type": "stream",
       "stream": "stdout",
       "text": [
        "\n",
        "WARNING: Calculating without spike phases! If spike phases are needed caluculate them before!\n",
        "WARNING: Calculating without spike head directions! If spike head directions are needed caluculate them before!\n",
        "WARNING: Calculating without spike phases! If spike phases are needed                 spike phases have to be calculated first!"
       ]
      },
      {
       "output_type": "stream",
       "stream": "stdout",
       "text": [
        "\n",
        "NOTE: Using linear interpolation to get the places."
       ]
      },
      {
       "output_type": "stream",
       "stream": "stdout",
       "text": [
        "\n",
        "WARNING: Calculating without spike phases! If spike phases are needed caluculate them before!\n",
        "WARNING: Calculating without spike head directions! If spike head directions are needed caluculate them before!\n",
        "WARNING: Calculating without spike phases! If spike phases are needed                 spike phases have to be calculated first!"
       ]
      },
      {
       "output_type": "stream",
       "stream": "stdout",
       "text": [
        "\n",
        "NOTE: Using linear interpolation to get the places."
       ]
      },
      {
       "output_type": "stream",
       "stream": "stdout",
       "text": [
        "\n",
        "WARNING: Calculating without spike phases!"
       ]
      },
      {
       "output_type": "stream",
       "stream": "stdout",
       "text": [
        " If spike phases are needed caluculate them before!\n",
        "WARNING: Calculating without spike head directions! If spike head directions are needed caluculate them before!\n",
        "WARNING: Calculating without spike phases! If spike phases are needed                 spike phases have to be calculated first!"
       ]
      },
      {
       "output_type": "stream",
       "stream": "stdout",
       "text": [
        "\n",
        "NOTE: Using linear interpolation to get the places."
       ]
      },
      {
       "output_type": "stream",
       "stream": "stdout",
       "text": [
        "\n",
        "WARNING: Calculating without spike phases!"
       ]
      },
      {
       "output_type": "stream",
       "stream": "stdout",
       "text": [
        " If spike phases are needed caluculate them before!\n",
        "WARNING: Calculating without spike head directions! If spike head directions are needed caluculate them before!\n",
        "WARNING: Calculating without spike phases! If spike phases are needed                 spike phases have to be calculated first!"
       ]
      },
      {
       "output_type": "stream",
       "stream": "stdout",
       "text": [
        "\n",
        "NOTE: Using linear interpolation to get the places."
       ]
      },
      {
       "output_type": "stream",
       "stream": "stdout",
       "text": [
        "\n",
        "WARNING: Calculating without spike phases! If spike phases are needed caluculate them before!\n",
        "WARNING: Calculating without spike head directions! If spike head directions are needed caluculate them before!\n",
        "WARNING: Calculating without spike phases! If spike phases are needed                 spike phases have to be calculated first!\n",
        "NOTE: Using linear interpolation to get the places.\n",
        "WARNING: Calculating without spike phases! If spike phases are needed caluculate them before!\n",
        "WARNING: Calculating without spike head directions! If spike head directions are needed caluculate them before!\n",
        "WARNING: Calculating without spike phases! If spike phases are needed                 spike phases have to be calculated first!"
       ]
      },
      {
       "output_type": "stream",
       "stream": "stdout",
       "text": [
        "\n",
        "NOTE: Using linear interpolation to get the places."
       ]
      },
      {
       "output_type": "stream",
       "stream": "stdout",
       "text": [
        "\n",
        "WARNING: Calculating without spike phases! If spike phases are needed caluculate them before!\n",
        "WARNING: Calculating without spike head directions! If spike head directions are needed caluculate them before!\n",
        "WARNING: Calculating without spike phases! If spike phases are needed                 spike phases have to be calculated first!\n",
        "NOTE: Using linear interpolation to get the places.\n",
        "WARNING: Calculating without spike phases! If spike phases are needed caluculate them before!\n",
        "WARNING: Calculating without spike head directions! If spike head directions are needed caluculate them before!\n",
        "WARNING: Calculating without spike phases! If spike phases are needed                 spike phases have to be calculated first!"
       ]
      },
      {
       "output_type": "stream",
       "stream": "stdout",
       "text": [
        "\n",
        "NOTE: Using linear interpolation to get the places.\n",
        "WARNING: Calculating without spike phases!"
       ]
      },
      {
       "output_type": "stream",
       "stream": "stdout",
       "text": [
        " If spike phases are needed caluculate them before!\n",
        "WARNING: Calculating without spike head directions! If spike head directions are needed caluculate them before!\n",
        "WARNING: Calculating without spike phases! If spike phases are needed                 spike phases have to be calculated first!"
       ]
      },
      {
       "output_type": "stream",
       "stream": "stdout",
       "text": [
        "\n",
        "NOTE: Using linear interpolation to get the places."
       ]
      },
      {
       "output_type": "stream",
       "stream": "stdout",
       "text": [
        "\n",
        "WARNING: Calculating without spike phases!"
       ]
      },
      {
       "output_type": "stream",
       "stream": "stdout",
       "text": [
        " If spike phases are needed caluculate them before!\n",
        "WARNING: Calculating without spike head directions! If spike head directions are needed caluculate them before!\n",
        "WARNING: Calculating without spike phases! If spike phases are needed                 spike phases have to be calculated first!"
       ]
      },
      {
       "output_type": "stream",
       "stream": "stdout",
       "text": [
        "\n",
        "NOTE: Using linear interpolation to get the places."
       ]
      },
      {
       "output_type": "stream",
       "stream": "stdout",
       "text": [
        "\n",
        "WARNING: Calculating without spike phases! If spike phases are needed caluculate them before!\n",
        "WARNING: Calculating without spike head directions! If spike head directions are needed caluculate them before!\n",
        "WARNING: Calculating without spike phases! If spike phases are needed                 spike phases have to be calculated first!\n",
        "NOTE: Using linear interpolation to get the places.\n",
        "WARNING: Calculating without spike phases!"
       ]
      },
      {
       "output_type": "stream",
       "stream": "stdout",
       "text": [
        " If spike phases are needed caluculate them before!\n",
        "WARNING: Calculating without spike head directions! If spike head directions are needed caluculate them before!\n",
        "WARNING: Calculating without spike phases! If spike phases are needed                 spike phases have to be calculated first!"
       ]
      },
      {
       "output_type": "stream",
       "stream": "stdout",
       "text": [
        "\n",
        "NOTE: Using linear interpolation to get the places."
       ]
      },
      {
       "output_type": "stream",
       "stream": "stdout",
       "text": [
        "\n",
        "WARNING: Calculating without spike phases!"
       ]
      },
      {
       "output_type": "stream",
       "stream": "stdout",
       "text": [
        " If spike phases are needed caluculate them before!\n",
        "WARNING: Calculating without spike head directions! If spike head directions are needed caluculate them before!\n",
        "WARNING: Calculating without spike phases! If spike phases are needed                 spike phases have to be calculated first!"
       ]
      },
      {
       "output_type": "stream",
       "stream": "stdout",
       "text": [
        "\n",
        "NOTE: Using linear interpolation to get the places."
       ]
      },
      {
       "output_type": "stream",
       "stream": "stdout",
       "text": [
        "\n",
        "WARNING: Calculating without spike phases!"
       ]
      },
      {
       "output_type": "stream",
       "stream": "stdout",
       "text": [
        " If spike phases are needed caluculate them before!\n",
        "WARNING: Calculating without spike head directions! If spike head directions are needed caluculate them before!\n",
        "WARNING: Calculating without spike phases! If spike phases are needed                 spike phases have to be calculated first!"
       ]
      },
      {
       "output_type": "stream",
       "stream": "stdout",
       "text": [
        "\n",
        "NOTE: Using linear interpolation to get the places."
       ]
      },
      {
       "output_type": "stream",
       "stream": "stdout",
       "text": [
        "\n",
        "WARNING: Calculating without spike phases! If spike phases are needed caluculate them before!\n",
        "WARNING: Calculating without spike head directions! If spike head directions are needed caluculate them before!\n",
        "WARNING: Calculating without spike phases! If spike phases are needed                 spike phases have to be calculated first!\n",
        "NOTE: Using linear interpolation to get the places.\n",
        "WARNING: Calculating without spike phases! If spike phases are needed caluculate them before!\n",
        "WARNING: Calculating without spike head directions! If spike head directions are needed caluculate them before!\n",
        "WARNING: Calculating without spike phases! If spike phases are needed                 spike phases have to be calculated first!\n",
        "NOTE: Using linear interpolation to get the places."
       ]
      },
      {
       "output_type": "stream",
       "stream": "stdout",
       "text": [
        "\n",
        "WARNING: Calculating without spike phases! If spike phases are needed caluculate them before!\n",
        "WARNING: Calculating without spike head directions! If spike head directions are needed caluculate them before!\n",
        "WARNING: Calculating without spike phases! If spike phases are needed                 spike phases have to be calculated first!\n",
        "NOTE: Using linear interpolation to get the places.\n",
        "WARNING: Calculating without spike phases! If spike phases are needed caluculate them before!\n",
        "WARNING: Calculating without spike head directions! If spike head directions are needed caluculate them before!\n",
        "WARNING: Calculating without spike phases! If spike phases are needed                 spike phases have to be calculated first!\n",
        "NOTE: Using linear interpolation to get the places.\n",
        "WARNING: Calculating without spike phases!"
       ]
      },
      {
       "output_type": "stream",
       "stream": "stdout",
       "text": [
        " If spike phases are needed caluculate them before!\n",
        "WARNING: Calculating without spike head directions! If spike head directions are needed caluculate them before!\n",
        "WARNING: Calculating without spike phases! If spike phases are needed                 spike phases have to be calculated first!"
       ]
      },
      {
       "output_type": "stream",
       "stream": "stdout",
       "text": [
        "\n",
        "NOTE: Using linear interpolation to get the places."
       ]
      },
      {
       "output_type": "stream",
       "stream": "stdout",
       "text": [
        "\n",
        "WARNING: Calculating without spike phases! If spike phases are needed caluculate them before!\n",
        "WARNING: Calculating without spike head directions! If spike head directions are needed caluculate them before!\n",
        "WARNING: Calculating without spike phases! If spike phases are needed                 spike phases have to be calculated first!\n",
        "NOTE: Using linear interpolation to get the places.\n",
        "WARNING: Calculating without spike phases! If spike phases are needed caluculate them before!\n",
        "WARNING: Calculating without spike head directions! If spike head directions are needed caluculate them before!\n",
        "WARNING: Calculating without spike phases! If spike phases are needed                 spike phases have to be calculated first!"
       ]
      },
      {
       "output_type": "stream",
       "stream": "stdout",
       "text": [
        "\n",
        "NOTE: Using linear interpolation to get the places."
       ]
      },
      {
       "output_type": "stream",
       "stream": "stdout",
       "text": [
        "\n",
        "WARNING: Calculating without spike phases! If spike phases are needed caluculate them before!\n",
        "WARNING: Calculating without spike head directions! If spike head directions are needed caluculate them before!\n",
        "WARNING: Calculating without spike phases! If spike phases are needed                 spike phases have to be calculated first!\n",
        "NOTE: Using linear interpolation to get the places."
       ]
      },
      {
       "output_type": "stream",
       "stream": "stdout",
       "text": [
        "\n",
        "WARNING: Calculating without spike phases!"
       ]
      },
      {
       "output_type": "stream",
       "stream": "stdout",
       "text": [
        " If spike phases are needed caluculate them before!\n",
        "WARNING: Calculating without spike head directions! If spike head directions are needed caluculate them before!\n",
        "WARNING: Calculating without spike phases! If spike phases are needed                 spike phases have to be calculated first!"
       ]
      },
      {
       "output_type": "stream",
       "stream": "stdout",
       "text": [
        "\n",
        "NOTE: Using linear interpolation to get the places."
       ]
      },
      {
       "output_type": "stream",
       "stream": "stdout",
       "text": [
        "\n",
        "WARNING: Calculating without spike phases! If spike phases are needed caluculate them before!\n",
        "WARNING: Calculating without spike head directions! If spike head directions are needed caluculate them before!\n",
        "WARNING: Calculating without spike phases! If spike phases are needed                 spike phases have to be calculated first!\n",
        "NOTE: Using linear interpolation to get the places.\n",
        "WARNING: Calculating without spike phases! If spike phases are needed caluculate them before!\n",
        "WARNING: Calculating without spike head directions! If spike head directions are needed caluculate them before!\n",
        "WARNING: Calculating without spike phases! If spike phases are needed                 spike phases have to be calculated first!\n",
        "NOTE: Using linear interpolation to get the places."
       ]
      },
      {
       "output_type": "stream",
       "stream": "stdout",
       "text": [
        "\n",
        "WARNING: Calculating without spike phases! If spike phases are needed caluculate them before!\n",
        "WARNING: Calculating without spike head directions! If spike head directions are needed caluculate them before!\n",
        "WARNING: Calculating without spike phases! If spike phases are needed                 spike phases have to be calculated first!\n",
        "NOTE: Using linear interpolation to get the places."
       ]
      },
      {
       "output_type": "stream",
       "stream": "stdout",
       "text": [
        "\n",
        "WARNING: Calculating without spike phases!"
       ]
      },
      {
       "output_type": "stream",
       "stream": "stdout",
       "text": [
        " If spike phases are needed caluculate them before!\n",
        "WARNING: Calculating without spike head directions! If spike head directions are needed caluculate them before!\n",
        "WARNING: Calculating without spike phases! If spike phases are needed                 spike phases have to be calculated first!"
       ]
      },
      {
       "output_type": "stream",
       "stream": "stdout",
       "text": [
        "\n",
        "NOTE: Using linear interpolation to get the places."
       ]
      },
      {
       "output_type": "stream",
       "stream": "stdout",
       "text": [
        "\n",
        "WARNING: Calculating without spike phases! If spike phases are needed caluculate them before!\n",
        "WARNING: Calculating without spike head directions! If spike head directions are needed caluculate them before!\n",
        "WARNING: Calculating without spike phases! If spike phases are needed                 spike phases have to be calculated first!\n",
        "NOTE: Using linear interpolation to get the places."
       ]
      },
      {
       "output_type": "stream",
       "stream": "stdout",
       "text": [
        "\n",
        "WARNING: Calculating without spike phases! If spike phases are needed caluculate them before!\n",
        "WARNING: Calculating without spike head directions! If spike head directions are needed caluculate them before!\n",
        "WARNING: Calculating without spike phases! If spike phases are needed                 spike phases have to be calculated first!"
       ]
      },
      {
       "output_type": "stream",
       "stream": "stdout",
       "text": [
        "\n",
        "NOTE: Using linear interpolation to get the places."
       ]
      },
      {
       "output_type": "stream",
       "stream": "stdout",
       "text": [
        "\n",
        "WARNING: Calculating without spike phases! If spike phases are needed caluculate them before!\n",
        "WARNING: Calculating without spike head directions! If spike head directions are needed caluculate them before!\n",
        "WARNING: Calculating without spike phases! If spike phases are needed                 spike phases have to be calculated first!\n",
        "NOTE: Using linear interpolation to get the places.\n",
        "WARNING: Calculating without spike phases!"
       ]
      },
      {
       "output_type": "stream",
       "stream": "stdout",
       "text": [
        " If spike phases are needed caluculate them before!\n",
        "WARNING: Calculating without spike head directions! If spike head directions are needed caluculate them before!\n",
        "WARNING: Calculating without spike phases! If spike phases are needed                 spike phases have to be calculated first!"
       ]
      },
      {
       "output_type": "stream",
       "stream": "stdout",
       "text": [
        "\n",
        "NOTE: Using linear interpolation to get the places."
       ]
      },
      {
       "output_type": "stream",
       "stream": "stdout",
       "text": [
        "\n",
        "WARNING: Calculating without spike phases! If spike phases are needed caluculate them before!\n",
        "WARNING: Calculating without spike head directions! If spike head directions are needed caluculate them before!\n",
        "WARNING: Calculating without spike phases! If spike phases are needed                 spike phases have to be calculated first!\n",
        "NOTE: Using linear interpolation to get the places."
       ]
      },
      {
       "output_type": "stream",
       "stream": "stdout",
       "text": [
        "\n",
        "WARNING: Calculating without spike phases! If spike phases are needed caluculate them before!\n",
        "WARNING: Calculating without spike head directions! If spike head directions are needed caluculate them before!\n",
        "WARNING: Calculating without spike phases! If spike phases are needed                 spike phases have to be calculated first!\n",
        "NOTE: Using linear interpolation to get the places."
       ]
      },
      {
       "output_type": "stream",
       "stream": "stdout",
       "text": [
        "\n",
        "WARNING: Calculating without spike phases!"
       ]
      },
      {
       "output_type": "stream",
       "stream": "stdout",
       "text": [
        " If spike phases are needed caluculate them before!\n",
        "WARNING: Calculating without spike head directions! If spike head directions are needed caluculate them before!\n",
        "WARNING: Calculating without spike phases! If spike phases are needed                 spike phases have to be calculated first!"
       ]
      },
      {
       "output_type": "stream",
       "stream": "stdout",
       "text": [
        "\n",
        "NOTE: Using linear interpolation to get the places."
       ]
      },
      {
       "output_type": "stream",
       "stream": "stdout",
       "text": [
        "\n",
        "WARNING: Calculating without spike phases! If spike phases are needed caluculate them before!\n",
        "WARNING: Calculating without spike head directions! If spike head directions are needed caluculate them before!\n",
        "WARNING: Calculating without spike phases! If spike phases are needed                 spike phases have to be calculated first!\n",
        "NOTE: Using linear interpolation to get the places.\n",
        "WARNING: Calculating without spike phases! If spike phases are needed caluculate them before!\n",
        "WARNING: Calculating without spike head directions! If spike head directions are needed caluculate them before!\n",
        "WARNING: Calculating without spike phases! If spike phases are needed                 spike phases have to be calculated first!\n",
        "NOTE: Using linear interpolation to get the places."
       ]
      },
      {
       "output_type": "stream",
       "stream": "stdout",
       "text": [
        "\n",
        "WARNING: Calculating without spike phases! If spike phases are needed caluculate them before!\n",
        "WARNING: Calculating without spike head directions! If spike head directions are needed caluculate them before!\n",
        "WARNING: Calculating without spike phases! If spike phases are needed                 spike phases have to be calculated first!\n",
        "NOTE: Using linear interpolation to get the places.\n",
        "WARNING: Calculating without spike phases!"
       ]
      },
      {
       "output_type": "stream",
       "stream": "stdout",
       "text": [
        " If spike phases are needed caluculate them before!\n",
        "WARNING: Calculating without spike head directions! If spike head directions are needed caluculate them before!\n",
        "WARNING: Calculating without spike phases! If spike phases are needed                 spike phases have to be calculated first!"
       ]
      },
      {
       "output_type": "stream",
       "stream": "stdout",
       "text": [
        "\n",
        "NOTE: Using linear interpolation to get the places."
       ]
      },
      {
       "output_type": "stream",
       "stream": "stdout",
       "text": [
        "\n",
        "WARNING: Calculating without spike phases! If spike phases are needed caluculate them before!\n",
        "WARNING: Calculating without spike head directions! If spike head directions are needed caluculate them before!\n",
        "WARNING: Calculating without spike phases! If spike phases are needed                 spike phases have to be calculated first!\n",
        "NOTE: Using linear interpolation to get the places.\n",
        "WARNING: Calculating without spike phases! If spike phases are needed caluculate them before!\n",
        "WARNING: Calculating without spike head directions! If spike head directions are needed caluculate them before!\n",
        "WARNING: Calculating without spike phases! If spike phases are needed                 spike phases have to be calculated first!\n",
        "NOTE: Using linear interpolation to get the places.\n",
        "WARNING: Calculating without spike phases! If spike phases are needed caluculate them before!\n",
        "WARNING: Calculating without spike head directions! If spike head directions are needed caluculate them before!\n",
        "WARNING: Calculating without spike phases! If spike phases are needed                 spike phases have to be calculated first!\n",
        "NOTE: Using linear interpolation to get the places."
       ]
      },
      {
       "output_type": "stream",
       "stream": "stdout",
       "text": [
        "\n",
        "WARNING: Calculating without spike phases! If spike phases are needed caluculate them before!\n",
        "WARNING: Calculating without spike head directions! If spike head directions are needed caluculate them before!\n",
        "WARNING: Calculating without spike phases! If spike phases are needed                 spike phases have to be calculated first!\n",
        "NOTE: Using linear interpolation to get the places.\n",
        "WARNING: Calculating without spike phases! If spike phases are needed caluculate them before!\n",
        "WARNING: Calculating without spike head directions! If spike head directions are needed caluculate them before!\n",
        "WARNING: Calculating without spike phases! If spike phases are needed                 spike phases have to be calculated first!"
       ]
      },
      {
       "output_type": "stream",
       "stream": "stdout",
       "text": [
        "\n",
        "NOTE: Using linear interpolation to get the places.\n",
        "WARNING: Calculating without spike phases!"
       ]
      },
      {
       "output_type": "stream",
       "stream": "stdout",
       "text": [
        " If spike phases are needed caluculate them before!\n",
        "WARNING: Calculating without spike head directions! If spike head directions are needed caluculate them before!\n",
        "WARNING: Calculating without spike phases! If spike phases are needed                 spike phases have to be calculated first!"
       ]
      },
      {
       "output_type": "stream",
       "stream": "stdout",
       "text": [
        "\n",
        "NOTE: Using linear interpolation to get the places."
       ]
      },
      {
       "output_type": "stream",
       "stream": "stdout",
       "text": [
        "\n",
        "WARNING: Calculating without spike phases!"
       ]
      },
      {
       "output_type": "stream",
       "stream": "stdout",
       "text": [
        " If spike phases are needed caluculate them before!\n",
        "WARNING: Calculating without spike head directions! If spike head directions are needed caluculate them before!\n",
        "WARNING: Calculating without spike phases! If spike phases are needed                 spike phases have to be calculated first!"
       ]
      },
      {
       "output_type": "stream",
       "stream": "stdout",
       "text": [
        "\n",
        "NOTE: Using linear interpolation to get the places."
       ]
      },
      {
       "output_type": "stream",
       "stream": "stdout",
       "text": [
        "\n",
        "WARNING: Calculating without spike phases! If spike phases are needed caluculate them before!\n",
        "WARNING: Calculating without spike head directions! If spike head directions are needed caluculate them before!\n",
        "WARNING: Calculating without spike phases! If spike phases are needed                 spike phases have to be calculated first!\n",
        "NOTE: Using linear interpolation to get the places.\n",
        "WARNING: Calculating without spike phases! If spike phases are needed caluculate them before!\n",
        "WARNING: Calculating without spike head directions! If spike head directions are needed caluculate them before!\n",
        "WARNING: Calculating without spike phases! If spike phases are needed                 spike phases have to be calculated first!\n",
        "NOTE: Using linear interpolation to get the places.\n",
        "WARNING: Calculating without spike phases! If spike phases are needed caluculate them before!\n",
        "WARNING: Calculating without spike head directions! If spike head directions are needed caluculate them before!\n",
        "WARNING: Calculating without spike phases! If spike phases are needed                 spike phases have to be calculated first!"
       ]
      },
      {
       "output_type": "stream",
       "stream": "stdout",
       "text": [
        "\n",
        "NOTE: Using linear interpolation to get the places."
       ]
      },
      {
       "output_type": "stream",
       "stream": "stdout",
       "text": [
        "\n",
        "WARNING: Calculating without spike phases! If spike phases are needed caluculate them before!\n",
        "WARNING: Calculating without spike head directions! If spike head directions are needed caluculate them before!\n",
        "WARNING: Calculating without spike phases! If spike phases are needed                 spike phases have to be calculated first!"
       ]
      },
      {
       "output_type": "stream",
       "stream": "stdout",
       "text": [
        "\n",
        "NOTE: Using linear interpolation to get the places."
       ]
      },
      {
       "output_type": "stream",
       "stream": "stdout",
       "text": [
        "\n",
        "WARNING: Calculating without spike phases! If spike phases are needed caluculate them before!\n",
        "WARNING: Calculating without spike head directions! If spike head directions are needed caluculate them before!\n",
        "WARNING: Calculating without spike phases! If spike phases are needed                 spike phases have to be calculated first!\n",
        "NOTE: Using linear interpolation to get the places.\n",
        "WARNING: Calculating without spike phases! If spike phases are needed caluculate them before!\n",
        "WARNING: Calculating without spike head directions! If spike head directions are needed caluculate them before!\n",
        "WARNING: Calculating without spike phases! If spike phases are needed                 spike phases have to be calculated first!"
       ]
      },
      {
       "output_type": "stream",
       "stream": "stdout",
       "text": [
        "\n",
        "NOTE: Using linear interpolation to get the places."
       ]
      },
      {
       "output_type": "stream",
       "stream": "stdout",
       "text": [
        "\n",
        "WARNING: Calculating without spike phases! If spike phases are needed caluculate them before!\n",
        "WARNING: Calculating without spike head directions! If spike head directions are needed caluculate them before!\n",
        "WARNING: Calculating without spike phases! If spike phases are needed                 spike phases have to be calculated first!\n",
        "NOTE: Using linear interpolation to get the places.\n",
        "WARNING: Calculating without spike phases!"
       ]
      },
      {
       "output_type": "stream",
       "stream": "stdout",
       "text": [
        " If spike phases are needed caluculate them before!\n",
        "WARNING: Calculating without spike head directions! If spike head directions are needed caluculate them before!\n",
        "WARNING: Calculating without spike phases! If spike phases are needed                 spike phases have to be calculated first!"
       ]
      },
      {
       "output_type": "stream",
       "stream": "stdout",
       "text": [
        "\n",
        "NOTE: Using linear interpolation to get the places."
       ]
      },
      {
       "output_type": "stream",
       "stream": "stdout",
       "text": [
        "\n",
        "WARNING: Calculating without spike phases! If spike phases are needed caluculate them before!\n",
        "WARNING: Calculating without spike head directions! If spike head directions are needed caluculate them before!\n",
        "WARNING: Calculating without spike phases! If spike phases are needed                 spike phases have to be calculated first!"
       ]
      },
      {
       "output_type": "stream",
       "stream": "stdout",
       "text": [
        "\n",
        "NOTE: Using linear interpolation to get the places."
       ]
      },
      {
       "output_type": "stream",
       "stream": "stdout",
       "text": [
        "\n",
        "WARNING: Calculating without spike phases! If spike phases are needed caluculate them before!\n",
        "WARNING: Calculating without spike head directions! If spike head directions are needed caluculate them before!\n",
        "WARNING: Calculating without spike phases! If spike phases are needed                 spike phases have to be calculated first!\n",
        "NOTE: Using linear interpolation to get the places.\n",
        "WARNING: Calculating without spike phases!"
       ]
      },
      {
       "output_type": "stream",
       "stream": "stdout",
       "text": [
        " If spike phases are needed caluculate them before!\n",
        "WARNING: Calculating without spike head directions! If spike head directions are needed caluculate them before!\n",
        "WARNING: Calculating without spike phases! If spike phases are needed                 spike phases have to be calculated first!"
       ]
      },
      {
       "output_type": "stream",
       "stream": "stdout",
       "text": [
        "\n",
        "NOTE: Using linear interpolation to get the places."
       ]
      },
      {
       "output_type": "stream",
       "stream": "stdout",
       "text": [
        "\n",
        "WARNING: Calculating without spike phases! If spike phases are needed caluculate them before!\n",
        "WARNING: Calculating without spike head directions! If spike head directions are needed caluculate them before!\n",
        "WARNING: Calculating without spike phases! If spike phases are needed                 spike phases have to be calculated first!"
       ]
      },
      {
       "output_type": "stream",
       "stream": "stdout",
       "text": [
        "\n",
        "NOTE: Using linear interpolation to get the places."
       ]
      },
      {
       "output_type": "stream",
       "stream": "stdout",
       "text": [
        "\n",
        "WARNING: Calculating without spike phases!"
       ]
      },
      {
       "output_type": "stream",
       "stream": "stdout",
       "text": [
        " If spike phases are needed caluculate them before!\n",
        "WARNING: Calculating without spike head directions! If spike head directions are needed caluculate them before!\n",
        "WARNING: Calculating without spike phases! If spike phases are needed                 spike phases have to be calculated first!"
       ]
      },
      {
       "output_type": "stream",
       "stream": "stdout",
       "text": [
        "\n",
        "NOTE: Using linear interpolation to get the places."
       ]
      },
      {
       "output_type": "stream",
       "stream": "stdout",
       "text": [
        "\n",
        "WARNING: Calculating without spike phases!"
       ]
      },
      {
       "output_type": "stream",
       "stream": "stdout",
       "text": [
        " If spike phases are needed caluculate them before!\n",
        "WARNING: Calculating without spike head directions! If spike head directions are needed caluculate them before!\n",
        "WARNING: Calculating without spike phases! If spike phases are needed                 spike phases have to be calculated first!"
       ]
      },
      {
       "output_type": "stream",
       "stream": "stdout",
       "text": [
        "\n",
        "NOTE: Using linear interpolation to get the places."
       ]
      },
      {
       "output_type": "stream",
       "stream": "stdout",
       "text": [
        "\n",
        "WARNING: Calculating without spike phases!"
       ]
      },
      {
       "output_type": "stream",
       "stream": "stdout",
       "text": [
        " If spike phases are needed caluculate them before!\n",
        "WARNING: Calculating without spike head directions! If spike head directions are needed caluculate them before!\n",
        "WARNING: Calculating without spike phases! If spike phases are needed                 spike phases have to be calculated first!"
       ]
      },
      {
       "output_type": "stream",
       "stream": "stdout",
       "text": [
        "\n",
        "NOTE: Using linear interpolation to get the places."
       ]
      },
      {
       "output_type": "stream",
       "stream": "stdout",
       "text": [
        "\n",
        "WARNING: Calculating without spike phases!"
       ]
      },
      {
       "output_type": "stream",
       "stream": "stdout",
       "text": [
        " If spike phases are needed caluculate them before!\n",
        "WARNING: Calculating without spike head directions! If spike head directions are needed caluculate them before!\n",
        "WARNING: Calculating without spike phases! If spike phases are needed                 spike phases have to be calculated first!"
       ]
      },
      {
       "output_type": "stream",
       "stream": "stdout",
       "text": [
        "\n",
        "NOTE: Using linear interpolation to get the places."
       ]
      },
      {
       "output_type": "stream",
       "stream": "stdout",
       "text": [
        "\n",
        "WARNING: Calculating without spike phases! If spike phases are needed caluculate them before!\n",
        "WARNING: Calculating without spike head directions! If spike head directions are needed caluculate them before!\n",
        "WARNING: Calculating without spike phases! If spike phases are needed                 spike phases have to be calculated first!"
       ]
      },
      {
       "output_type": "stream",
       "stream": "stdout",
       "text": [
        "\n",
        "NOTE: Using linear interpolation to get the places."
       ]
      },
      {
       "output_type": "stream",
       "stream": "stdout",
       "text": [
        "\n",
        "WARNING: Calculating without spike phases!"
       ]
      },
      {
       "output_type": "stream",
       "stream": "stdout",
       "text": [
        " If spike phases are needed caluculate them before!\n",
        "WARNING: Calculating without spike head directions! If spike head directions are needed caluculate them before!\n",
        "WARNING: Calculating without spike phases! If spike phases are needed                 spike phases have to be calculated first!"
       ]
      },
      {
       "output_type": "stream",
       "stream": "stdout",
       "text": [
        "\n",
        "NOTE: Using linear interpolation to get the places."
       ]
      },
      {
       "output_type": "stream",
       "stream": "stdout",
       "text": [
        "\n",
        "WARNING: Calculating without spike phases!"
       ]
      },
      {
       "output_type": "stream",
       "stream": "stdout",
       "text": [
        " If spike phases are needed caluculate them before!\n",
        "WARNING: Calculating without spike head directions! If spike head directions are needed caluculate them before!\n",
        "WARNING: Calculating without spike phases! If spike phases are needed                 spike phases have to be calculated first!"
       ]
      },
      {
       "output_type": "stream",
       "stream": "stdout",
       "text": [
        "\n",
        "NOTE: Using linear interpolation to get the places."
       ]
      },
      {
       "output_type": "stream",
       "stream": "stdout",
       "text": [
        "\n",
        "WARNING: Calculating without spike phases! If spike phases are needed caluculate them before!\n",
        "WARNING: Calculating without spike head directions! If spike head directions are needed caluculate them before!\n",
        "WARNING: Calculating without spike phases! If spike phases are needed                 spike phases have to be calculated first!"
       ]
      },
      {
       "output_type": "stream",
       "stream": "stdout",
       "text": [
        "\n",
        "NOTE: Using linear interpolation to get the places."
       ]
      },
      {
       "output_type": "stream",
       "stream": "stdout",
       "text": [
        "\n",
        "WARNING: Calculating without spike phases!"
       ]
      },
      {
       "output_type": "stream",
       "stream": "stdout",
       "text": [
        " If spike phases are needed caluculate them before!\n",
        "WARNING: Calculating without spike head directions! If spike head directions are needed caluculate them before!\n",
        "WARNING: Calculating without spike phases! If spike phases are needed                 spike phases have to be calculated first!"
       ]
      },
      {
       "output_type": "stream",
       "stream": "stdout",
       "text": [
        "\n",
        "NOTE: Using linear interpolation to get the places."
       ]
      },
      {
       "output_type": "stream",
       "stream": "stdout",
       "text": [
        "\n",
        "WARNING: Calculating without spike phases!"
       ]
      },
      {
       "output_type": "stream",
       "stream": "stdout",
       "text": [
        " If spike phases are needed caluculate them before!\n",
        "WARNING: Calculating without spike head directions! If spike head directions are needed caluculate them before!\n",
        "WARNING: Calculating without spike phases! If spike phases are needed                 spike phases have to be calculated first!"
       ]
      },
      {
       "output_type": "stream",
       "stream": "stdout",
       "text": [
        "\n",
        "NOTE: Using linear interpolation to get the places."
       ]
      },
      {
       "output_type": "stream",
       "stream": "stdout",
       "text": [
        "\n",
        "WARNING: Calculating without spike phases! If spike phases are needed caluculate them before!\n",
        "WARNING: Calculating without spike head directions! If spike head directions are needed caluculate them before!\n",
        "WARNING: Calculating without spike phases! If spike phases are needed                 spike phases have to be calculated first!"
       ]
      },
      {
       "output_type": "stream",
       "stream": "stdout",
       "text": [
        "\n",
        "NOTE: Using linear interpolation to get the places."
       ]
      },
      {
       "output_type": "stream",
       "stream": "stdout",
       "text": [
        "\n",
        "WARNING: Calculating without spike phases!"
       ]
      },
      {
       "output_type": "stream",
       "stream": "stdout",
       "text": [
        " If spike phases are needed caluculate them before!\n",
        "WARNING: Calculating without spike head directions! If spike head directions are needed caluculate them before!\n",
        "WARNING: Calculating without spike phases! If spike phases are needed                 spike phases have to be calculated first!"
       ]
      },
      {
       "output_type": "stream",
       "stream": "stdout",
       "text": [
        "\n",
        "NOTE: Using linear interpolation to get the places."
       ]
      },
      {
       "output_type": "stream",
       "stream": "stdout",
       "text": [
        "\n",
        "WARNING: Calculating without spike phases! If spike phases are needed caluculate them before!\n",
        "WARNING: Calculating without spike head directions! If spike head directions are needed caluculate them before!\n",
        "WARNING: Calculating without spike phases! If spike phases are needed                 spike phases have to be calculated first!"
       ]
      },
      {
       "output_type": "stream",
       "stream": "stdout",
       "text": [
        "\n",
        "NOTE: Using linear interpolation to get the places."
       ]
      },
      {
       "output_type": "stream",
       "stream": "stdout",
       "text": [
        "\n",
        "WARNING: Calculating without spike phases!"
       ]
      },
      {
       "output_type": "stream",
       "stream": "stdout",
       "text": [
        " If spike phases are needed caluculate them before!\n",
        "WARNING: Calculating without spike head directions! If spike head directions are needed caluculate them before!\n",
        "WARNING: Calculating without spike phases! If spike phases are needed                 spike phases have to be calculated first!"
       ]
      },
      {
       "output_type": "stream",
       "stream": "stdout",
       "text": [
        "\n",
        "NOTE: Using linear interpolation to get the places."
       ]
      },
      {
       "output_type": "stream",
       "stream": "stdout",
       "text": [
        "\n",
        "WARNING: Calculating without spike phases! If spike phases are needed caluculate them before!\n",
        "WARNING: Calculating without spike head directions! If spike head directions are needed caluculate them before!\n",
        "WARNING: Calculating without spike phases! If spike phases are needed                 spike phases have to be calculated first!"
       ]
      },
      {
       "output_type": "stream",
       "stream": "stdout",
       "text": [
        "\n",
        "NOTE: Using linear interpolation to get the places."
       ]
      },
      {
       "output_type": "stream",
       "stream": "stdout",
       "text": [
        "\n",
        "WARNING: Calculating without spike phases! If spike phases are needed caluculate them before!\n",
        "WARNING: Calculating without spike head directions! If spike head directions are needed caluculate them before!\n",
        "WARNING: Calculating without spike phases! If spike phases are needed                 spike phases have to be calculated first!\n",
        "NOTE: Using linear interpolation to get the places."
       ]
      },
      {
       "output_type": "stream",
       "stream": "stdout",
       "text": [
        "\n",
        "WARNING: Calculating without spike phases! If spike phases are needed caluculate them before!\n",
        "WARNING: Calculating without spike head directions! If spike head directions are needed caluculate them before!\n",
        "WARNING: Calculating without spike phases! If spike phases are needed                 spike phases have to be calculated first!"
       ]
      },
      {
       "output_type": "stream",
       "stream": "stdout",
       "text": [
        "\n",
        "NOTE: Using linear interpolation to get the places."
       ]
      },
      {
       "output_type": "stream",
       "stream": "stdout",
       "text": [
        "\n",
        "WARNING: Calculating without spike phases! If spike phases are needed caluculate them before!\n",
        "WARNING: Calculating without spike head directions! If spike head directions are needed caluculate them before!\n",
        "WARNING: Calculating without spike phases! If spike phases are needed                 spike phases have to be calculated first!"
       ]
      },
      {
       "output_type": "stream",
       "stream": "stdout",
       "text": [
        "\n",
        "NOTE: Using linear interpolation to get the places."
       ]
      },
      {
       "output_type": "stream",
       "stream": "stdout",
       "text": [
        "\n",
        "WARNING: Calculating without spike phases!"
       ]
      },
      {
       "output_type": "stream",
       "stream": "stdout",
       "text": [
        " If spike phases are needed caluculate them before!\n",
        "WARNING: Calculating without spike head directions! If spike head directions are needed caluculate them before!\n",
        "WARNING: Calculating without spike phases! If spike phases are needed                 spike phases have to be calculated first!"
       ]
      },
      {
       "output_type": "stream",
       "stream": "stdout",
       "text": [
        "\n",
        "NOTE: Using linear interpolation to get the places."
       ]
      },
      {
       "output_type": "stream",
       "stream": "stdout",
       "text": [
        "\n",
        "WARNING: Calculating without spike phases!"
       ]
      },
      {
       "output_type": "stream",
       "stream": "stdout",
       "text": [
        " If spike phases are needed caluculate them before!\n",
        "WARNING: Calculating without spike head directions! If spike head directions are needed caluculate them before!\n",
        "WARNING: Calculating without spike phases! If spike phases are needed                 spike phases have to be calculated first!"
       ]
      },
      {
       "output_type": "stream",
       "stream": "stdout",
       "text": [
        "\n",
        "NOTE: Using linear interpolation to get the places."
       ]
      },
      {
       "output_type": "stream",
       "stream": "stdout",
       "text": [
        "\n",
        "WARNING: Calculating without spike phases!"
       ]
      },
      {
       "output_type": "stream",
       "stream": "stdout",
       "text": [
        " If spike phases are needed caluculate them before!\n",
        "WARNING: Calculating without spike head directions! If spike head directions are needed caluculate them before!\n",
        "WARNING: Calculating without spike phases! If spike phases are needed                 spike phases have to be calculated first!"
       ]
      },
      {
       "output_type": "stream",
       "stream": "stdout",
       "text": [
        "\n",
        "NOTE: Using linear interpolation to get the places."
       ]
      },
      {
       "output_type": "stream",
       "stream": "stdout",
       "text": [
        "\n",
        "WARNING: Calculating without spike phases! If spike phases are needed caluculate them before!\n",
        "WARNING: Calculating without spike head directions! If spike head directions are needed caluculate them before!\n",
        "WARNING: Calculating without spike phases! If spike phases are needed                 spike phases have to be calculated first!\n",
        "NOTE: Using linear interpolation to get the places."
       ]
      },
      {
       "output_type": "stream",
       "stream": "stdout",
       "text": [
        "\n",
        "WARNING: Calculating without spike phases! If spike phases are needed caluculate them before!\n",
        "WARNING: Calculating without spike head directions! If spike head directions are needed caluculate them before!\n",
        "WARNING: Calculating without spike phases! If spike phases are needed                 spike phases have to be calculated first!\n",
        "NOTE: Using linear interpolation to get the places."
       ]
      },
      {
       "output_type": "stream",
       "stream": "stdout",
       "text": [
        "\n",
        "WARNING: Calculating without spike phases! If spike phases are needed caluculate them before!\n",
        "WARNING: Calculating without spike head directions! If spike head directions are needed caluculate them before!\n",
        "WARNING: Calculating without spike phases! If spike phases are needed                 spike phases have to be calculated first!\n",
        "NOTE: Using linear interpolation to get the places.\n",
        "WARNING: Calculating without spike phases!"
       ]
      },
      {
       "output_type": "stream",
       "stream": "stdout",
       "text": [
        " If spike phases are needed caluculate them before!\n",
        "WARNING: Calculating without spike head directions! If spike head directions are needed caluculate them before!\n",
        "WARNING: Calculating without spike phases! If spike phases are needed                 spike phases have to be calculated first!"
       ]
      },
      {
       "output_type": "stream",
       "stream": "stdout",
       "text": [
        "\n",
        "NOTE: Using linear interpolation to get the places."
       ]
      },
      {
       "output_type": "stream",
       "stream": "stdout",
       "text": [
        "\n",
        "WARNING: Calculating without spike phases! If spike phases are needed caluculate them before!\n",
        "WARNING: Calculating without spike head directions! If spike head directions are needed caluculate them before!\n",
        "WARNING: Calculating without spike phases! If spike phases are needed                 spike phases have to be calculated first!\n",
        "NOTE: Using linear interpolation to get the places."
       ]
      },
      {
       "output_type": "stream",
       "stream": "stdout",
       "text": [
        "\n",
        "WARNING: Calculating without spike phases! If spike phases are needed caluculate them before!\n",
        "WARNING: Calculating without spike head directions! If spike head directions are needed caluculate them before!\n",
        "WARNING: Calculating without spike phases! If spike phases are needed                 spike phases have to be calculated first!\n",
        "NOTE: Using linear interpolation to get the places."
       ]
      },
      {
       "output_type": "stream",
       "stream": "stdout",
       "text": [
        "\n",
        "WARNING: Calculating without spike phases! If spike phases are needed caluculate them before!\n",
        "WARNING: Calculating without spike head directions! If spike head directions are needed caluculate them before!\n",
        "WARNING: Calculating without spike phases! If spike phases are needed                 spike phases have to be calculated first!\n",
        "NOTE: Using linear interpolation to get the places.\n",
        "WARNING: Calculating without spike phases!"
       ]
      },
      {
       "output_type": "stream",
       "stream": "stdout",
       "text": [
        " If spike phases are needed caluculate them before!\n",
        "WARNING: Calculating without spike head directions! If spike head directions are needed caluculate them before!\n",
        "WARNING: Calculating without spike phases! If spike phases are needed                 spike phases have to be calculated first!"
       ]
      },
      {
       "output_type": "stream",
       "stream": "stdout",
       "text": [
        "\n",
        "NOTE: Using linear interpolation to get the places."
       ]
      },
      {
       "output_type": "stream",
       "stream": "stdout",
       "text": [
        "\n",
        "WARNING: Calculating without spike phases! If spike phases are needed caluculate them before!\n",
        "WARNING: Calculating without spike head directions! If spike head directions are needed caluculate them before!\n",
        "WARNING: Calculating without spike phases! If spike phases are needed                 spike phases have to be calculated first!\n",
        "NOTE: Using linear interpolation to get the places.\n",
        "WARNING: Calculating without spike phases!"
       ]
      },
      {
       "output_type": "stream",
       "stream": "stdout",
       "text": [
        " If spike phases are needed caluculate them before!\n",
        "WARNING: Calculating without spike head directions! If spike head directions are needed caluculate them before!\n",
        "WARNING: Calculating without spike phases! If spike phases are needed                 spike phases have to be calculated first!"
       ]
      },
      {
       "output_type": "stream",
       "stream": "stdout",
       "text": [
        "\n"
       ]
      },
      {
       "output_type": "stream",
       "stream": "stderr",
       "text": [
        "/home/chenani/anaconda/lib/python2.7/site-packages/numpy/ma/core.py:2195: RuntimeWarning: invalid value encountered in less_equal\n",
        "  condition = umath.less_equal(mabs(xnew - value), atol + rtol * mabs(value))\n"
       ]
      }
     ],
     "prompt_number": 51
    },
    {
     "cell_type": "code",
     "collapsed": false,
     "input": [
      "overlapC.mean()"
     ],
     "language": "python",
     "metadata": {},
     "outputs": [
      {
       "metadata": {},
       "output_type": "pyout",
       "prompt_number": 53,
       "text": [
        "0.021404655487325834"
       ]
      }
     ],
     "prompt_number": 53
    },
    {
     "cell_type": "code",
     "collapsed": false,
     "input": [
      "np.ma.count_masked(np.ma.masked_values(cell.traj.rechts_times,cell.spike_times[0], atol=cell.traj.dt)) == 0\n"
     ],
     "language": "python",
     "metadata": {},
     "outputs": [
      {
       "metadata": {},
       "output_type": "pyout",
       "prompt_number": 120,
       "text": [
        "False"
       ]
      }
     ],
     "prompt_number": 120
    },
    {
     "cell_type": "code",
     "collapsed": false,
     "input": [
      "np.ma.count_masked(np.ma.masked_values([1,2,3,4,5,5],5))"
     ],
     "language": "python",
     "metadata": {},
     "outputs": [
      {
       "metadata": {},
       "output_type": "pyout",
       "prompt_number": 137,
       "text": [
        "2"
       ]
      }
     ],
     "prompt_number": 137
    },
    {
     "cell_type": "code",
     "collapsed": false,
     "input": [
      "np.arange(0.4,1,0.02)"
     ],
     "language": "python",
     "metadata": {},
     "outputs": [
      {
       "metadata": {},
       "output_type": "pyout",
       "prompt_number": 296,
       "text": [
        "array([ 0.4 ,  0.42,  0.44,  0.46,  0.48,  0.5 ,  0.52,  0.54,  0.56,\n",
        "        0.58,  0.6 ,  0.62,  0.64,  0.66,  0.68,  0.7 ,  0.72,  0.74,\n",
        "        0.76,  0.78,  0.8 ,  0.82,  0.84,  0.86,  0.88,  0.9 ,  0.92,\n",
        "        0.94,  0.96,  0.98])"
       ]
      }
     ],
     "prompt_number": 296
    },
    {
     "cell_type": "code",
     "collapsed": false,
     "input": [
      "f = pl.figure()\n",
      "ax = pl.subplot(111)"
     ],
     "language": "python",
     "metadata": {},
     "outputs": [],
     "prompt_number": 153
    },
    {
     "cell_type": "code",
     "collapsed": false,
     "input": [
      "time,speed = traj.getSpeed()"
     ],
     "language": "python",
     "metadata": {},
     "outputs": [],
     "prompt_number": 155
    },
    {
     "cell_type": "code",
     "collapsed": false,
     "input": [
      "pl.plot(time,speed)"
     ],
     "language": "python",
     "metadata": {},
     "outputs": [
      {
       "metadata": {},
       "output_type": "pyout",
       "prompt_number": 159,
       "text": [
        "[<matplotlib.lines.Line2D at 0xac78f50>]"
       ]
      }
     ],
     "prompt_number": 159
    },
    {
     "cell_type": "code",
     "collapsed": false,
     "input": [
      "vSmooth = np.convolve(np.diff(traj.places[:,0]),scsig.gaussian(10,3),'same')"
     ],
     "language": "python",
     "metadata": {},
     "outputs": [],
     "prompt_number": 174
    },
    {
     "cell_type": "code",
     "collapsed": false,
     "input": [
      "taxis = np.array([(traj.times[i] + traj.times[i+1])/2 for i in range(traj.times.size -1)])"
     ],
     "language": "python",
     "metadata": {},
     "outputs": [],
     "prompt_number": 168
    },
    {
     "cell_type": "code",
     "collapsed": false,
     "input": [
      "pl.plot(taxis,vSmooth)"
     ],
     "language": "python",
     "metadata": {},
     "outputs": [
      {
       "metadata": {},
       "output_type": "pyout",
       "prompt_number": 175,
       "text": [
        "[<matplotlib.lines.Line2D at 0xcab1ed0>]"
       ]
      }
     ],
     "prompt_number": 175
    },
    {
     "cell_type": "code",
     "collapsed": false,
     "input": [
      "traj.getRunningTraj(0.6)\n",
      "traj.getLeftAndRightwardRuns(onlyRunning=True)"
     ],
     "language": "python",
     "metadata": {},
     "outputs": [
      {
       "output_type": "stream",
       "stream": "stdout",
       "text": [
        "NOTE: Reset threshspeed from 0.7 to 0.6 m/s\n",
        "calculating trajectory with running speed >= 0.6\n",
        "WARNING: Calculating without head directions! If head directions are needed                 calculate them first!\n"
       ]
      }
     ],
     "prompt_number": 316
    },
    {
     "cell_type": "code",
     "collapsed": false,
     "input": [
      "pl.plot(traj.places[:,0],traj.times,'b.',alpha=0.5)\n",
      "pl.plot(traj.rechts_places[:,0],traj.rechts_times,'r*',markersize=10)\n",
      "pl.plot(traj.links_places[:,0],traj.links_times,'g*',markersize=10,alpha=0.5)"
     ],
     "language": "python",
     "metadata": {},
     "outputs": [
      {
       "metadata": {},
       "output_type": "pyout",
       "prompt_number": 325,
       "text": [
        "[<matplotlib.lines.Line2D at 0x2e4fb4d0>]"
       ]
      }
     ],
     "prompt_number": 325
    },
    {
     "cell_type": "code",
     "collapsed": false,
     "input": [
      "np.where(traj.places[:,0] > 1.86)[0].size"
     ],
     "language": "python",
     "metadata": {},
     "outputs": [
      {
       "metadata": {},
       "output_type": "pyout",
       "prompt_number": 329,
       "text": [
        "5531"
       ]
      }
     ],
     "prompt_number": 329
    },
    {
     "cell_type": "code",
     "collapsed": false,
     "input": [
      "np.where(traj.places[:,0] <0.14)[0].size"
     ],
     "language": "python",
     "metadata": {},
     "outputs": [
      {
       "metadata": {},
       "output_type": "pyout",
       "prompt_number": 328,
       "text": [
        "6000"
       ]
      }
     ],
     "prompt_number": 328
    },
    {
     "cell_type": "code",
     "collapsed": false,
     "input": [
      "traj.places.size"
     ],
     "language": "python",
     "metadata": {},
     "outputs": [
      {
       "metadata": {},
       "output_type": "pyout",
       "prompt_number": 330,
       "text": [
        "105471"
       ]
      }
     ],
     "prompt_number": 330
    },
    {
     "cell_type": "code",
     "collapsed": false,
     "input": [
      "11000./105000"
     ],
     "language": "python",
     "metadata": {},
     "outputs": [
      {
       "metadata": {},
       "output_type": "pyout",
       "prompt_number": 331,
       "text": [
        "0.10476190476190476"
       ]
      }
     ],
     "prompt_number": 331
    },
    {
     "cell_type": "code",
     "collapsed": false,
     "input": [],
     "language": "python",
     "metadata": {},
     "outputs": []
    }
   ],
   "metadata": {}
  }
 ]
}