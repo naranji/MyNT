{
 "cells": [
  {
   "cell_type": "code",
   "execution_count": 2,
   "metadata": {
    "collapsed": false
   },
   "outputs": [
    {
     "data": {
      "text/html": [
       "<style>.container { width:80% !important; }</style>"
      ],
      "text/plain": [
       "<IPython.core.display.HTML object>"
      ]
     },
     "metadata": {},
     "output_type": "display_data"
    }
   ],
   "source": [
    "from IPython.core.display import display, HTML\n",
    "display(HTML(\"<style>.container { width:80% !important; }</style>\"))\n",
    "import sys\n",
    "sys.path.append('/home/chenani/ownCloud/Workspaces/Eclipse/dataAnalysis/Sleep-current/src/')"
   ]
  },
  {
   "cell_type": "code",
   "execution_count": 3,
   "metadata": {
    "collapsed": false
   },
   "outputs": [
    {
     "name": "stderr",
     "output_type": "stream",
     "text": [
      "/home/chenani/anaconda/lib/python2.7/site-packages/ipykernel/__main__.py:10: DeprecationWarning: the sets module is deprecated\n",
      "/home/chenani/anaconda/lib/python2.7/site-packages/matplotlib/__init__.py:872: UserWarning: axes.color_cycle is deprecated and replaced with axes.prop_cycle; please use the latter.\n",
      "  warnings.warn(self.msg_depr % (key, alt_key))\n"
     ]
    }
   ],
   "source": [
    "%matplotlib inline\n",
    "%load_ext autoreload\n",
    "%autoreload 2\n",
    "import pandas as pd\n",
    "from scipy.misc import comb\n",
    "import scipy as scp\n",
    "import numpy as np\n",
    "import matplotlib.pyplot as pl\n",
    "import pickle as pkl\n",
    "import sets\n",
    "import random\n",
    "import itertools\n",
    "import os,sys,fnmatch\n",
    "import timeit\n",
    "import scipy.stats\n",
    "import seaborn as sns\n",
    "from IPython.core.display import display, HTML\n",
    "from scipy.stats import chisquare\n",
    "sns.set_style(\"white\",{ 'legend.frameon': False})\n"
   ]
  },
  {
   "cell_type": "code",
   "execution_count": 4,
   "metadata": {
    "collapsed": true
   },
   "outputs": [],
   "source": [
    "def locate(pattern, root=os.curdir):\n",
    "    '''Locate all files matching supplied filename pattern in and below\n",
    "        supplied root directory.\n",
    "    '''\n",
    "    for path, dirs, files in os.walk(os.path.abspath(root)):\n",
    "        for filename in fnmatch.filter(files, pattern):\n",
    "            yield [path,filename]\n",
    "clrs = [\"#cb535a\",\n",
    "\"#5ba952\",\n",
    "\"#c97d3d\",\n",
    "\"#9a993e\"]"
   ]
  },
  {
   "cell_type": "code",
   "execution_count": 5,
   "metadata": {
    "collapsed": false
   },
   "outputs": [
    {
     "data": {
      "text/plain": [
       "['/home/chenani/ownCloud/IpythonNotebooks/Sleep/MEC_Lesion_Project/control/Rat3839Control/dataFiles/sleepDB/3839-popDB-D5.db',\n",
       " '/home/chenani/ownCloud/IpythonNotebooks/Sleep/MEC_Lesion_Project/control/Rat3661Control/dataFiles/sleepDB/3661-popDB-D1.db',\n",
       " '/home/chenani/ownCloud/IpythonNotebooks/Sleep/MEC_Lesion_Project/control/Rat3661Control/dataFiles/sleepDB/3661-popDB-D3.db',\n",
       " '/home/chenani/ownCloud/IpythonNotebooks/Sleep/MEC_Lesion_Project/control/Rat3661Control/dataFiles/sleepDB/3661-popDB-D2.db',\n",
       " '/home/chenani/ownCloud/IpythonNotebooks/Sleep/MEC_Lesion_Project/control/Rat3906Control/dataFiles/sleepDB/3906-popDB-D4.db',\n",
       " '/home/chenani/ownCloud/IpythonNotebooks/Sleep/MEC_Lesion_Project/control/Rat3906Control/dataFiles/sleepDB/3906-popDB-D2.db',\n",
       " '/home/chenani/ownCloud/IpythonNotebooks/Sleep/MEC_Lesion_Project/control/Rat3906Control/dataFiles/sleepDB/3906-popDB-D1.db',\n",
       " '/home/chenani/ownCloud/IpythonNotebooks/Sleep/MEC_Lesion_Project/control/Rat3906Control/dataFiles/sleepDB/3906-popDB-D3.db',\n",
       " '/home/chenani/ownCloud/IpythonNotebooks/Sleep/MEC_Lesion_Project/lesion/Rat434Lesion/dataFiles/sleepDB/434-popDB-D1.db',\n",
       " '/home/chenani/ownCloud/IpythonNotebooks/Sleep/MEC_Lesion_Project/lesion/Rat3838Lesion/dataFiles/sleepDB/3838-popDB-D1.db',\n",
       " '/home/chenani/ownCloud/IpythonNotebooks/Sleep/MEC_Lesion_Project/lesion/Rat3838Lesion/dataFiles/sleepDB/3838-popDB-D4.db',\n",
       " '/home/chenani/ownCloud/IpythonNotebooks/Sleep/MEC_Lesion_Project/lesion/Rat3838Lesion/dataFiles/sleepDB/3838-popDB-D2.db',\n",
       " '/home/chenani/ownCloud/IpythonNotebooks/Sleep/MEC_Lesion_Project/lesion/Rat3656Lesion/dataFiles/sleepDB/3656-popDB-D1.db']"
      ]
     },
     "execution_count": 5,
     "metadata": {},
     "output_type": "execute_result"
    }
   ],
   "source": [
    "popDBList = [os.path.join(item[0],item[1])for item in locate('*popDB*.db','/home/chenani/ownCloud/IpythonNotebooks/Sleep/MEC_Lesion_Project/')]\n",
    "popDBList"
   ]
  },
  {
   "cell_type": "code",
   "execution_count": 100,
   "metadata": {
    "collapsed": false
   },
   "outputs": [
    {
     "name": "stdout",
     "output_type": "stream",
     "text": [
      "/home/chenani/ownCloud/IpythonNotebooks/Sleep/MEC_Lesion_Project/lesion/Rat434Lesion/dataFiles/sleepDB/434-popDB-D1.db\n",
      "/home/chenani/ownCloud/IpythonNotebooks/Sleep/MEC_Lesion_Project/lesion/Rat3838Lesion/dataFiles/sleepDB/3838-popDB-D1.db\n",
      "/home/chenani/ownCloud/IpythonNotebooks/Sleep/MEC_Lesion_Project/lesion/Rat3838Lesion/dataFiles/sleepDB/3838-popDB-D4.db\n",
      "/home/chenani/ownCloud/IpythonNotebooks/Sleep/MEC_Lesion_Project/lesion/Rat3838Lesion/dataFiles/sleepDB/3838-popDB-D2.db\n",
      "/home/chenani/ownCloud/IpythonNotebooks/Sleep/MEC_Lesion_Project/lesion/Rat3656Lesion/dataFiles/sleepDB/3656-popDB-D1.db\n"
     ]
    }
   ],
   "source": [
    "preDB = pd.DataFrame([],columns=[u't_start', u't_end', u'peak value', u't_peak', u'epoch', u'date',u'session', u'animal', u'Lcorr', u'Rcorr'])\n",
    "postDB = pd.DataFrame([],columns=[u't_start', u't_end', u'peak value', u't_peak', u'epoch', u'date',u'session', u'animal', u'Lcorr', u'Rcorr'])\n",
    "for item in popDBList:\n",
    "    if item.find('lesion')>0:\n",
    "        print item\n",
    "        popDB= pd.read_pickle(item)\n",
    "        #popDB = popDB[popDB.epoch=='sws']\n",
    "        if item.find('434')>0:\n",
    "            preDB = preDB.append(popDB[popDB.session=='sleep05'],ignore_index=True)\n",
    "            postDB = postDB.append(popDB[popDB.session=='sleep06'],ignore_index=True)\n",
    "        else:\n",
    "            preDB = preDB.append(popDB[popDB.session=='sleep01'],ignore_index=True)\n",
    "            postDB = postDB.append(popDB[popDB.session=='sleep02'],ignore_index=True)"
   ]
  },
  {
   "cell_type": "code",
   "execution_count": 101,
   "metadata": {
    "collapsed": false
   },
   "outputs": [],
   "source": [
    "corrBins = np.arange(-1.05,1.04,0.09)"
   ]
  },
  {
   "cell_type": "code",
   "execution_count": 102,
   "metadata": {
    "collapsed": true
   },
   "outputs": [],
   "source": [
    "crr92 = pkl.load(open('corr9.crr2','rb'))"
   ]
  },
  {
   "cell_type": "code",
   "execution_count": 103,
   "metadata": {
    "collapsed": false
   },
   "outputs": [],
   "source": [
    "corrMaxPre = []\n",
    "Lnan = np.isnan(preDB.Lcorr)\n",
    "Rnan = np.isnan(preDB.Rcorr)\n",
    "ValidIdx = preDB.index[np.logical_not(np.logical_and(Lnan,Rnan))]\n",
    "for idx in ValidIdx:\n",
    "    if np.isnan(preDB.Lcorr[idx]):\n",
    "        corrMaxPre.append(preDB.Rcorr[idx])\n",
    "    elif np.isnan(preDB.Rcorr[idx]):\n",
    "        corrMaxPre.append(preDB.Lcorr[idx])\n",
    "    else:\n",
    "        LRc = np.argmax([np.abs(preDB.Rcorr[idx]),np.abs(preDB.Lcorr[idx])])\n",
    "        if LRc:\n",
    "            corrMaxPre.append(preDB.Lcorr[idx])\n",
    "        else:\n",
    "            corrMaxPre.append(preDB.Rcorr[idx])\n",
    "###############################################################################\n",
    "corrMaxPost = []\n",
    "Lnan = np.isnan(postDB.Lcorr)\n",
    "Rnan = np.isnan(postDB.Rcorr)\n",
    "ValidIdx = postDB.index[np.logical_not(np.logical_and(Lnan,Rnan))]\n",
    "for idx in ValidIdx:\n",
    "    if np.isnan(postDB.Lcorr[idx]):\n",
    "        corrMaxPost.append(postDB.Rcorr[idx])\n",
    "    elif np.isnan(postDB.Rcorr[idx]):\n",
    "        corrMaxPost.append(postDB.Lcorr[idx])\n",
    "    else:\n",
    "        LRc = np.argmax([np.abs(postDB.Rcorr[idx]),np.abs(postDB.Lcorr[idx])])\n",
    "        if LRc:\n",
    "            corrMaxPost.append(postDB.Lcorr[idx])\n",
    "        else:\n",
    "            corrMaxPost.append(postDB.Rcorr[idx])\n",
    "################################################################################"
   ]
  },
  {
   "cell_type": "code",
   "execution_count": 104,
   "metadata": {
    "collapsed": false
   },
   "outputs": [
    {
     "data": {
      "image/png": "[encoded data removed]",
      "text/plain": [
       "<matplotlib.figure.Figure at 0x7f9858a010d0>"
      ]
     },
     "metadata": {},
     "output_type": "display_data"
    }
   ],
   "source": [
    "hstSorr = pl.hist(crr92,corrBins,normed=True)\n",
    "hstPre = pl.hist(corrMaxPre,corrBins,normed=True)\n",
    "hstPost = pl.hist(corrMaxPost,corrBins,normed=True,alpha=0.5)\n",
    "cumhstSorr = np.cumsum(hstSorr[0])\n",
    "cumhstPre = np.cumsum(hstPre[0])\n",
    "cumhstPost = np.cumsum(hstPost[0])"
   ]
  },
  {
   "cell_type": "code",
   "execution_count": 63,
   "metadata": {
    "collapsed": false
   },
   "outputs": [
    {
     "data": {
      "image/png": "[encoded data removed]",
      "text/plain": [
       "<matplotlib.figure.Figure at 0x7f9858cdf210>"
      ]
     },
     "metadata": {},
     "output_type": "display_data"
    }
   ],
   "source": [
    "f,ax = pl.subplots(1,1,figsize=[7,7])\n",
    "sns.kdeplot(crr92,linewidth=3,label='Surrogate')\n",
    "n, bins, patches = pl.hist([corrMaxPre,corrMaxPost],corrBins, normed=1,histtype='bar',\n",
    "                           stacked=True,fill=True,\n",
    "                           label=['Pre','Post'],\n",
    "                           color = [clrs[2],clrs[3]])\n",
    "pl.legend(loc=2,fontsize=18)\n",
    "pl.yticks([0,0.5,1],fontsize=24)\n",
    "pl.xticks([-1,-0.5,0,0.5,1],fontsize=24)\n",
    "pl.xlim(-1.05,1.02);\n"
   ]
  },
  {
   "cell_type": "code",
   "execution_count": 64,
   "metadata": {
    "collapsed": true
   },
   "outputs": [],
   "source": [
    "f.savefig('/home/chenani/ownCloud/Plots/SFN-poster/RO-plots/lesion-sleep.svg',transparent=True)\n",
    "f.savefig('/home/chenani/ownCloud/Plots/SFN-poster/RO-plots/lesion-sleep.pdf',transparent=True)\n",
    "f.savefig('/home/chenani/ownCloud/Plots/SFN-poster/RO-plots/lesion-sleep.eps',transparent=True)"
   ]
  },
  {
   "cell_type": "code",
   "execution_count": 65,
   "metadata": {
    "collapsed": false
   },
   "outputs": [
    {
     "data": {
      "image/png": "[encoded data removed]",
      "text/plain": [
       "<matplotlib.figure.Figure at 0x7f9859327690>"
      ]
     },
     "metadata": {},
     "output_type": "display_data"
    }
   ],
   "source": [
    "f2,ax = pl.subplots(1,1,figsize=[7,7])\n",
    "n, bins, patches = pl.hist(crr92,corrBins, normed=1,histtype='bar',\n",
    "                           stacked=True,fill=True,\n",
    "                           label=['Surrogate'])\n",
    "pl.legend(loc=2,fontsize=24)\n",
    "pl.yticks([0,0.5,1],fontsize=24)\n",
    "pl.xticks([-1,-0.5,0,0.5,1],fontsize=24)\n",
    "pl.xlim(-1.05,1.02);\n",
    "f2.savefig('/home/chenani/ownCloud/Plots/SFN-poster/RO-plots/Surrogate.svg',transparent=True)\n",
    "f2.savefig('/home/chenani/ownCloud/Plots/SFN-poster/RO-plots/Surrogate.pdf',transparent=True)\n",
    "f2.savefig('/home/chenani/ownCloud/Plots/SFN-poster/RO-plots/Surrogate.eps',transparent=True)"
   ]
  },
  {
   "cell_type": "code",
   "execution_count": 66,
   "metadata": {
    "collapsed": false
   },
   "outputs": [
    {
     "data": {
      "text/plain": [
       "[]"
      ]
     },
     "execution_count": 66,
     "metadata": {},
     "output_type": "execute_result"
    },
    {
     "data": {
      "image/png": "[encoded data removed]",
      "text/plain": [
       "<matplotlib.figure.Figure at 0x7f98598e8590>"
      ]
     },
     "metadata": {},
     "output_type": "display_data"
    }
   ],
   "source": [
    "f,ax = pl.subplots(1,1,figsize=[10,7],sharey=False)\n",
    "ax.plot(hstPre[1][1:],cumhstPre,label = 'Pre')\n",
    "ax.plot(hstPre[1][1:],cumhstPost,label = 'Post')\n",
    "ax.plot(hstPre[1][1:],cumhstSorr,label = 'Sorr')\n",
    "#ax.plot(bins[1:],bcdf,label='Cnt')\n",
    "#ax.plot(bins[1:],ccdf,label ='Lsn')\n",
    "ax.legend(loc=4,fontsize=24)\n",
    "ax.set_xticks([-1.0,0,1.0])\n",
    "ax.set_xticklabels([-1.0,0,1.0],fontsize=20)\n",
    "ax.set_yticks([])\n"
   ]
  },
  {
   "cell_type": "code",
   "execution_count": 67,
   "metadata": {
    "collapsed": false
   },
   "outputs": [],
   "source": [
    "SorrProbs = hstSorr[0]*0.09\n",
    "PreProbs = hstPre[0]*0.09\n",
    "PostProbs = hstPost[0]*0.09"
   ]
  },
  {
   "cell_type": "code",
   "execution_count": 15,
   "metadata": {
    "collapsed": false
   },
   "outputs": [
    {
     "ename": "NameError",
     "evalue": "name 'SorrProbs' is not defined",
     "output_type": "error",
     "traceback": [
      "\u001b[1;31m---------------------------------------------------------------------------\u001b[0m",
      "\u001b[1;31mNameError\u001b[0m                                 Traceback (most recent call last)",
      "\u001b[1;32m<ipython-input-15-7981dd718b1b>\u001b[0m in \u001b[0;36m<module>\u001b[1;34m()\u001b[0m\n\u001b[1;32m----> 1\u001b[1;33m \u001b[0mpl\u001b[0m\u001b[1;33m.\u001b[0m\u001b[0mplot\u001b[0m\u001b[1;33m(\u001b[0m\u001b[0mcorrBins\u001b[0m\u001b[1;33m[\u001b[0m\u001b[1;33m:\u001b[0m\u001b[1;33m-\u001b[0m\u001b[1;36m1\u001b[0m\u001b[1;33m]\u001b[0m\u001b[1;33m,\u001b[0m\u001b[0mSorrProbs\u001b[0m\u001b[1;33m,\u001b[0m\u001b[0mc\u001b[0m\u001b[1;33m=\u001b[0m\u001b[1;34m'k'\u001b[0m\u001b[1;33m,\u001b[0m\u001b[0mlw\u001b[0m\u001b[1;33m=\u001b[0m\u001b[1;36m2\u001b[0m\u001b[1;33m,\u001b[0m\u001b[0mlabel\u001b[0m\u001b[1;33m=\u001b[0m\u001b[1;34m'Sorr'\u001b[0m\u001b[1;33m)\u001b[0m\u001b[1;33m\u001b[0m\u001b[0m\n\u001b[0m\u001b[0;32m      2\u001b[0m \u001b[0mpl\u001b[0m\u001b[1;33m.\u001b[0m\u001b[0mplot\u001b[0m\u001b[1;33m(\u001b[0m\u001b[0mcorrBins\u001b[0m\u001b[1;33m[\u001b[0m\u001b[1;33m:\u001b[0m\u001b[1;33m-\u001b[0m\u001b[1;36m1\u001b[0m\u001b[1;33m]\u001b[0m\u001b[1;33m,\u001b[0m\u001b[0mPreProbs\u001b[0m\u001b[1;33m,\u001b[0m\u001b[0mc\u001b[0m\u001b[1;33m=\u001b[0m\u001b[0mclrs\u001b[0m\u001b[1;33m[\u001b[0m\u001b[1;36m2\u001b[0m\u001b[1;33m]\u001b[0m\u001b[1;33m,\u001b[0m\u001b[0mlabel\u001b[0m\u001b[1;33m=\u001b[0m\u001b[1;34m'Pre'\u001b[0m\u001b[1;33m)\u001b[0m\u001b[1;33m\u001b[0m\u001b[0m\n\u001b[0;32m      3\u001b[0m \u001b[0mpl\u001b[0m\u001b[1;33m.\u001b[0m\u001b[0mplot\u001b[0m\u001b[1;33m(\u001b[0m\u001b[0mcorrBins\u001b[0m\u001b[1;33m[\u001b[0m\u001b[1;33m:\u001b[0m\u001b[1;33m-\u001b[0m\u001b[1;36m1\u001b[0m\u001b[1;33m]\u001b[0m\u001b[1;33m,\u001b[0m\u001b[0mPostProbs\u001b[0m\u001b[1;33m,\u001b[0m\u001b[0mc\u001b[0m\u001b[1;33m=\u001b[0m\u001b[0mclrs\u001b[0m\u001b[1;33m[\u001b[0m\u001b[1;36m3\u001b[0m\u001b[1;33m]\u001b[0m\u001b[1;33m,\u001b[0m\u001b[0mlabel\u001b[0m \u001b[1;33m=\u001b[0m\u001b[1;34m'Post'\u001b[0m\u001b[1;33m)\u001b[0m\u001b[1;33m\u001b[0m\u001b[0m\n\u001b[0;32m      4\u001b[0m \u001b[0mpl\u001b[0m\u001b[1;33m.\u001b[0m\u001b[0mxlabel\u001b[0m\u001b[1;33m(\u001b[0m\u001b[1;34m'lesion-rem'\u001b[0m\u001b[1;33m,\u001b[0m\u001b[0mfontsize\u001b[0m\u001b[1;33m=\u001b[0m\u001b[1;36m22\u001b[0m\u001b[1;33m)\u001b[0m\u001b[1;33m\u001b[0m\u001b[0m\n\u001b[0;32m      5\u001b[0m \u001b[0mpl\u001b[0m\u001b[1;33m.\u001b[0m\u001b[0mlegend\u001b[0m\u001b[1;33m(\u001b[0m\u001b[1;33m)\u001b[0m\u001b[1;33m\u001b[0m\u001b[0m\n",
      "\u001b[1;31mNameError\u001b[0m: name 'SorrProbs' is not defined"
     ]
    }
   ],
   "source": [
    "pl.plot(corrBins[:-1],SorrProbs,c='k',lw=2,label='Sorr')\n",
    "pl.plot(corrBins[:-1],PreProbs,c=clrs[2],label='Pre')\n",
    "pl.plot(corrBins[:-1],PostProbs,c=clrs[3],label ='Post')\n",
    "pl.xlabel('lesion-rem',fontsize=22)\n",
    "pl.legend()"
   ]
  },
  {
   "cell_type": "code",
   "execution_count": 16,
   "metadata": {
    "collapsed": false
   },
   "outputs": [
    {
     "data": {
      "text/plain": [
       "<matplotlib.axes._subplots.AxesSubplot at 0x7f9889d83e10>"
      ]
     },
     "execution_count": 16,
     "metadata": {},
     "output_type": "execute_result"
    },
    {
     "data": {
      "image/png": "[encoded data removed]",
      "text/plain": [
       "<matplotlib.figure.Figure at 0x7f9889d83ad0>"
      ]
     },
     "metadata": {},
     "output_type": "display_data"
    }
   ],
   "source": [
    "sns.kdeplot(crr92)\n",
    "sns.kdeplot(np.array(corrMaxPre))\n",
    "sns.kdeplot(np.array(corrMaxPost))"
   ]
  },
  {
   "cell_type": "code",
   "execution_count": 17,
   "metadata": {
    "collapsed": false
   },
   "outputs": [
    {
     "data": {
      "text/plain": [
       "Power_divergenceResult(statistic=149513.7306873636, pvalue=0.0)"
      ]
     },
     "execution_count": 17,
     "metadata": {},
     "output_type": "execute_result"
    },
    {
     "data": {
      "image/png": "[encoded data removed]",
      "text/plain": [
       "<matplotlib.figure.Figure at 0x7f98594d0990>"
      ]
     },
     "metadata": {},
     "output_type": "display_data"
    }
   ],
   "source": [
    "rateBins = (np.arange(0,25,1))\n",
    "preRate  = 1e3/np.diff(preDB.t_peak)\n",
    "postRate = 1e3/np.diff(postDB.t_peak)           \n",
    "pl.hist([preRate,postRate],rateBins,label=['pre','post'],log=True);\n",
    "pl.legend()\n",
    "pl.xlabel('Control')\n",
    "chisquare(preRate[:8454],postRate[:])"
   ]
  },
  {
   "cell_type": "code",
   "execution_count": 18,
   "metadata": {
    "collapsed": false
   },
   "outputs": [],
   "source": [
    "corrMaxPost = np.array(corrMaxPost)\n",
    "corrMaxPre = np.array(corrMaxPre)"
   ]
  },
  {
   "cell_type": "code",
   "execution_count": 19,
   "metadata": {
    "collapsed": false
   },
   "outputs": [],
   "source": [
    "Lnan = np.isnan(postDB.Lcorr)\n",
    "Rnan = np.isnan(postDB.Rcorr)\n",
    "nanIdx = np.logical_and(Lnan,Rnan)"
   ]
  },
  {
   "cell_type": "code",
   "execution_count": 20,
   "metadata": {
    "collapsed": false
   },
   "outputs": [
    {
     "data": {
      "text/html": [
       "<div>\n",
       "<table border=\"1\" class=\"dataframe\">\n",
       "  <thead>\n",
       "    <tr style=\"text-align: right;\">\n",
       "      <th></th>\n",
       "      <th>t_start</th>\n",
       "      <th>t_end</th>\n",
       "      <th>peak value</th>\n",
       "      <th>t_peak</th>\n",
       "      <th>epoch</th>\n",
       "      <th>date</th>\n",
       "      <th>session</th>\n",
       "      <th>animal</th>\n",
       "      <th>Lcorr</th>\n",
       "      <th>Rcorr</th>\n",
       "    </tr>\n",
       "  </thead>\n",
       "  <tbody>\n",
       "    <tr>\n",
       "      <th>0</th>\n",
       "      <td>23599777.615105</td>\n",
       "      <td>23599908.615105</td>\n",
       "      <td>16.971934</td>\n",
       "      <td>23599807.615105</td>\n",
       "      <td>NA</td>\n",
       "      <td>Day1</td>\n",
       "      <td>sleep06</td>\n",
       "      <td>Rat434Lesion</td>\n",
       "      <td>-0.266173</td>\n",
       "      <td>-0.360469</td>\n",
       "    </tr>\n",
       "    <tr>\n",
       "      <th>1</th>\n",
       "      <td>23600101.615105</td>\n",
       "      <td>23600198.615105</td>\n",
       "      <td>10.281620</td>\n",
       "      <td>23600126.615105</td>\n",
       "      <td>NA</td>\n",
       "      <td>Day1</td>\n",
       "      <td>sleep06</td>\n",
       "      <td>Rat434Lesion</td>\n",
       "      <td>-0.750318</td>\n",
       "      <td>0.630769</td>\n",
       "    </tr>\n",
       "    <tr>\n",
       "      <th>2</th>\n",
       "      <td>23600251.615105</td>\n",
       "      <td>23600452.615105</td>\n",
       "      <td>16.280840</td>\n",
       "      <td>23600324.615105</td>\n",
       "      <td>NA</td>\n",
       "      <td>Day1</td>\n",
       "      <td>sleep06</td>\n",
       "      <td>Rat434Lesion</td>\n",
       "      <td>-0.434424</td>\n",
       "      <td>0.127378</td>\n",
       "    </tr>\n",
       "    <tr>\n",
       "      <th>3</th>\n",
       "      <td>23600521.615105</td>\n",
       "      <td>23601250.615105</td>\n",
       "      <td>18.776798</td>\n",
       "      <td>23600638.615105</td>\n",
       "      <td>NA</td>\n",
       "      <td>Day1</td>\n",
       "      <td>sleep06</td>\n",
       "      <td>Rat434Lesion</td>\n",
       "      <td>0.030865</td>\n",
       "      <td>-0.316875</td>\n",
       "    </tr>\n",
       "    <tr>\n",
       "      <th>4</th>\n",
       "      <td>23601282.615105</td>\n",
       "      <td>23601344.615105</td>\n",
       "      <td>9.511616</td>\n",
       "      <td>23601309.615105</td>\n",
       "      <td>NA</td>\n",
       "      <td>Day1</td>\n",
       "      <td>sleep06</td>\n",
       "      <td>Rat434Lesion</td>\n",
       "      <td>-0.910420</td>\n",
       "      <td>-0.853982</td>\n",
       "    </tr>\n",
       "    <tr>\n",
       "      <th>5</th>\n",
       "      <td>23601404.615105</td>\n",
       "      <td>23601452.615105</td>\n",
       "      <td>7.485433</td>\n",
       "      <td>23601429.615105</td>\n",
       "      <td>NA</td>\n",
       "      <td>Day1</td>\n",
       "      <td>sleep06</td>\n",
       "      <td>Rat434Lesion</td>\n",
       "      <td>-0.281865</td>\n",
       "      <td>-0.356250</td>\n",
       "    </tr>\n",
       "    <tr>\n",
       "      <th>6</th>\n",
       "      <td>23601525.615105</td>\n",
       "      <td>23601638.615105</td>\n",
       "      <td>10.696311</td>\n",
       "      <td>23601564.615105</td>\n",
       "      <td>NA</td>\n",
       "      <td>Day1</td>\n",
       "      <td>sleep06</td>\n",
       "      <td>Rat434Lesion</td>\n",
       "      <td>-0.392571</td>\n",
       "      <td>-0.493135</td>\n",
       "    </tr>\n",
       "    <tr>\n",
       "      <th>7</th>\n",
       "      <td>23601694.615105</td>\n",
       "      <td>23601782.615105</td>\n",
       "      <td>7.449954</td>\n",
       "      <td>23601719.615105</td>\n",
       "      <td>NA</td>\n",
       "      <td>Day1</td>\n",
       "      <td>sleep06</td>\n",
       "      <td>Rat434Lesion</td>\n",
       "      <td>-0.498150</td>\n",
       "      <td>-0.677152</td>\n",
       "    </tr>\n",
       "    <tr>\n",
       "      <th>8</th>\n",
       "      <td>23601935.615105</td>\n",
       "      <td>23602022.615105</td>\n",
       "      <td>11.795142</td>\n",
       "      <td>23601973.615105</td>\n",
       "      <td>NA</td>\n",
       "      <td>Day1</td>\n",
       "      <td>sleep06</td>\n",
       "      <td>Rat434Lesion</td>\n",
       "      <td>-0.194631</td>\n",
       "      <td>0.055026</td>\n",
       "    </tr>\n",
       "    <tr>\n",
       "      <th>9</th>\n",
       "      <td>23602249.615105</td>\n",
       "      <td>23602353.615105</td>\n",
       "      <td>9.262929</td>\n",
       "      <td>23602320.615105</td>\n",
       "      <td>NA</td>\n",
       "      <td>Day1</td>\n",
       "      <td>sleep06</td>\n",
       "      <td>Rat434Lesion</td>\n",
       "      <td>-0.716667</td>\n",
       "      <td>-0.318505</td>\n",
       "    </tr>\n",
       "    <tr>\n",
       "      <th>11</th>\n",
       "      <td>23605035.615105</td>\n",
       "      <td>23605130.615105</td>\n",
       "      <td>9.109257</td>\n",
       "      <td>23605067.615105</td>\n",
       "      <td>NA</td>\n",
       "      <td>Day1</td>\n",
       "      <td>sleep06</td>\n",
       "      <td>Rat434Lesion</td>\n",
       "      <td>-0.513549</td>\n",
       "      <td>-0.571429</td>\n",
       "    </tr>\n",
       "    <tr>\n",
       "      <th>12</th>\n",
       "      <td>23605177.615105</td>\n",
       "      <td>23605492.615105</td>\n",
       "      <td>10.294877</td>\n",
       "      <td>23605323.615105</td>\n",
       "      <td>NA</td>\n",
       "      <td>Day1</td>\n",
       "      <td>sleep06</td>\n",
       "      <td>Rat434Lesion</td>\n",
       "      <td>0.353379</td>\n",
       "      <td>0.338036</td>\n",
       "    </tr>\n",
       "    <tr>\n",
       "      <th>13</th>\n",
       "      <td>23605642.615105</td>\n",
       "      <td>23605712.615105</td>\n",
       "      <td>12.782791</td>\n",
       "      <td>23605680.615105</td>\n",
       "      <td>NA</td>\n",
       "      <td>Day1</td>\n",
       "      <td>sleep06</td>\n",
       "      <td>Rat434Lesion</td>\n",
       "      <td>0.767181</td>\n",
       "      <td>0.168980</td>\n",
       "    </tr>\n",
       "    <tr>\n",
       "      <th>14</th>\n",
       "      <td>23605744.615105</td>\n",
       "      <td>23606372.615105</td>\n",
       "      <td>18.574106</td>\n",
       "      <td>23606156.615105</td>\n",
       "      <td>NA</td>\n",
       "      <td>Day1</td>\n",
       "      <td>sleep06</td>\n",
       "      <td>Rat434Lesion</td>\n",
       "      <td>0.177707</td>\n",
       "      <td>0.281709</td>\n",
       "    </tr>\n",
       "    <tr>\n",
       "      <th>15</th>\n",
       "      <td>23606383.615105</td>\n",
       "      <td>23606464.615105</td>\n",
       "      <td>12.110865</td>\n",
       "      <td>23606409.615105</td>\n",
       "      <td>NA</td>\n",
       "      <td>Day1</td>\n",
       "      <td>sleep06</td>\n",
       "      <td>Rat434Lesion</td>\n",
       "      <td>-0.222930</td>\n",
       "      <td>-0.400402</td>\n",
       "    </tr>\n",
       "    <tr>\n",
       "      <th>16</th>\n",
       "      <td>23606541.615105</td>\n",
       "      <td>23606696.615105</td>\n",
       "      <td>13.597826</td>\n",
       "      <td>23606572.615105</td>\n",
       "      <td>NA</td>\n",
       "      <td>Day1</td>\n",
       "      <td>sleep06</td>\n",
       "      <td>Rat434Lesion</td>\n",
       "      <td>0.026205</td>\n",
       "      <td>-0.050946</td>\n",
       "    </tr>\n",
       "    <tr>\n",
       "      <th>17</th>\n",
       "      <td>23606757.615105</td>\n",
       "      <td>23606919.615105</td>\n",
       "      <td>9.429500</td>\n",
       "      <td>23606890.615105</td>\n",
       "      <td>NA</td>\n",
       "      <td>Day1</td>\n",
       "      <td>sleep06</td>\n",
       "      <td>Rat434Lesion</td>\n",
       "      <td>-0.355322</td>\n",
       "      <td>-0.330348</td>\n",
       "    </tr>\n",
       "    <tr>\n",
       "      <th>18</th>\n",
       "      <td>23606937.615105</td>\n",
       "      <td>23607024.615105</td>\n",
       "      <td>12.028647</td>\n",
       "      <td>23606988.615105</td>\n",
       "      <td>NA</td>\n",
       "      <td>Day1</td>\n",
       "      <td>sleep06</td>\n",
       "      <td>Rat434Lesion</td>\n",
       "      <td>-0.263158</td>\n",
       "      <td>-0.512766</td>\n",
       "    </tr>\n",
       "    <tr>\n",
       "      <th>19</th>\n",
       "      <td>23608179.615105</td>\n",
       "      <td>23608246.615105</td>\n",
       "      <td>10.006127</td>\n",
       "      <td>23608209.615105</td>\n",
       "      <td>NA</td>\n",
       "      <td>Day1</td>\n",
       "      <td>sleep06</td>\n",
       "      <td>Rat434Lesion</td>\n",
       "      <td>-0.450000</td>\n",
       "      <td>0.588571</td>\n",
       "    </tr>\n",
       "    <tr>\n",
       "      <th>20</th>\n",
       "      <td>23608299.615105</td>\n",
       "      <td>23608408.615105</td>\n",
       "      <td>14.249514</td>\n",
       "      <td>23608375.615105</td>\n",
       "      <td>NA</td>\n",
       "      <td>Day1</td>\n",
       "      <td>sleep06</td>\n",
       "      <td>Rat434Lesion</td>\n",
       "      <td>-0.504034</td>\n",
       "      <td>-0.136364</td>\n",
       "    </tr>\n",
       "    <tr>\n",
       "      <th>21</th>\n",
       "      <td>23608587.615105</td>\n",
       "      <td>23608666.615105</td>\n",
       "      <td>8.080527</td>\n",
       "      <td>23608632.615105</td>\n",
       "      <td>NA</td>\n",
       "      <td>Day1</td>\n",
       "      <td>sleep06</td>\n",
       "      <td>Rat434Lesion</td>\n",
       "      <td>-0.492105</td>\n",
       "      <td>0.259059</td>\n",
       "    </tr>\n",
       "    <tr>\n",
       "      <th>22</th>\n",
       "      <td>23608707.615105</td>\n",
       "      <td>23608841.615105</td>\n",
       "      <td>9.623981</td>\n",
       "      <td>23608787.615105</td>\n",
       "      <td>NA</td>\n",
       "      <td>Day1</td>\n",
       "      <td>sleep06</td>\n",
       "      <td>Rat434Lesion</td>\n",
       "      <td>-0.572927</td>\n",
       "      <td>-0.105837</td>\n",
       "    </tr>\n",
       "    <tr>\n",
       "      <th>23</th>\n",
       "      <td>23608858.615105</td>\n",
       "      <td>23609052.615105</td>\n",
       "      <td>8.097637</td>\n",
       "      <td>23608894.615105</td>\n",
       "      <td>NA</td>\n",
       "      <td>Day1</td>\n",
       "      <td>sleep06</td>\n",
       "      <td>Rat434Lesion</td>\n",
       "      <td>-0.072721</td>\n",
       "      <td>-0.182646</td>\n",
       "    </tr>\n",
       "    <tr>\n",
       "      <th>24</th>\n",
       "      <td>23609091.615105</td>\n",
       "      <td>23609268.615105</td>\n",
       "      <td>16.954234</td>\n",
       "      <td>23609155.615105</td>\n",
       "      <td>NA</td>\n",
       "      <td>Day1</td>\n",
       "      <td>sleep06</td>\n",
       "      <td>Rat434Lesion</td>\n",
       "      <td>-0.317417</td>\n",
       "      <td>0.124666</td>\n",
       "    </tr>\n",
       "    <tr>\n",
       "      <th>25</th>\n",
       "      <td>23609273.615105</td>\n",
       "      <td>23609786.615105</td>\n",
       "      <td>16.720243</td>\n",
       "      <td>23609590.615105</td>\n",
       "      <td>NA</td>\n",
       "      <td>Day1</td>\n",
       "      <td>sleep06</td>\n",
       "      <td>Rat434Lesion</td>\n",
       "      <td>-0.036921</td>\n",
       "      <td>0.178870</td>\n",
       "    </tr>\n",
       "    <tr>\n",
       "      <th>26</th>\n",
       "      <td>23609847.615105</td>\n",
       "      <td>23609994.615105</td>\n",
       "      <td>9.252238</td>\n",
       "      <td>23609928.615105</td>\n",
       "      <td>NA</td>\n",
       "      <td>Day1</td>\n",
       "      <td>sleep06</td>\n",
       "      <td>Rat434Lesion</td>\n",
       "      <td>-0.105188</td>\n",
       "      <td>-0.091464</td>\n",
       "    </tr>\n",
       "    <tr>\n",
       "      <th>27</th>\n",
       "      <td>23609997.615105</td>\n",
       "      <td>23610405.615105</td>\n",
       "      <td>14.260830</td>\n",
       "      <td>23610065.615105</td>\n",
       "      <td>NA</td>\n",
       "      <td>Day1</td>\n",
       "      <td>sleep06</td>\n",
       "      <td>Rat434Lesion</td>\n",
       "      <td>-0.008290</td>\n",
       "      <td>-0.178243</td>\n",
       "    </tr>\n",
       "    <tr>\n",
       "      <th>29</th>\n",
       "      <td>23614195.615105</td>\n",
       "      <td>23614245.615105</td>\n",
       "      <td>10.225278</td>\n",
       "      <td>23614218.615105</td>\n",
       "      <td>NA</td>\n",
       "      <td>Day1</td>\n",
       "      <td>sleep06</td>\n",
       "      <td>Rat434Lesion</td>\n",
       "      <td>0.959267</td>\n",
       "      <td>0.684211</td>\n",
       "    </tr>\n",
       "    <tr>\n",
       "      <th>30</th>\n",
       "      <td>23614249.615105</td>\n",
       "      <td>23614388.615105</td>\n",
       "      <td>10.900038</td>\n",
       "      <td>23614302.615105</td>\n",
       "      <td>NA</td>\n",
       "      <td>Day1</td>\n",
       "      <td>sleep06</td>\n",
       "      <td>Rat434Lesion</td>\n",
       "      <td>0.784566</td>\n",
       "      <td>0.555556</td>\n",
       "    </tr>\n",
       "    <tr>\n",
       "      <th>32</th>\n",
       "      <td>23614661.615105</td>\n",
       "      <td>23614730.615105</td>\n",
       "      <td>7.739904</td>\n",
       "      <td>23614692.615105</td>\n",
       "      <td>NA</td>\n",
       "      <td>Day1</td>\n",
       "      <td>sleep06</td>\n",
       "      <td>Rat434Lesion</td>\n",
       "      <td>-0.216216</td>\n",
       "      <td>-0.310044</td>\n",
       "    </tr>\n",
       "    <tr>\n",
       "      <th>...</th>\n",
       "      <td>...</td>\n",
       "      <td>...</td>\n",
       "      <td>...</td>\n",
       "      <td>...</td>\n",
       "      <td>...</td>\n",
       "      <td>...</td>\n",
       "      <td>...</td>\n",
       "      <td>...</td>\n",
       "      <td>...</td>\n",
       "      <td>...</td>\n",
       "    </tr>\n",
       "    <tr>\n",
       "      <th>6108</th>\n",
       "      <td>8628560.500000</td>\n",
       "      <td>8628636.500000</td>\n",
       "      <td>5.149666</td>\n",
       "      <td>8628606.500000</td>\n",
       "      <td>rem</td>\n",
       "      <td>Day2</td>\n",
       "      <td>sleep02</td>\n",
       "      <td>Rat3838</td>\n",
       "      <td>0.266529</td>\n",
       "      <td>0.646739</td>\n",
       "    </tr>\n",
       "    <tr>\n",
       "      <th>6227</th>\n",
       "      <td>8822099.500000</td>\n",
       "      <td>8822304.500000</td>\n",
       "      <td>10.269271</td>\n",
       "      <td>8822133.500000</td>\n",
       "      <td>sws</td>\n",
       "      <td>Day2</td>\n",
       "      <td>sleep02</td>\n",
       "      <td>Rat3838</td>\n",
       "      <td>-0.143725</td>\n",
       "      <td>NaN</td>\n",
       "    </tr>\n",
       "    <tr>\n",
       "      <th>6359</th>\n",
       "      <td>8998668.500000</td>\n",
       "      <td>8998774.500000</td>\n",
       "      <td>6.656609</td>\n",
       "      <td>8998707.500000</td>\n",
       "      <td>rem</td>\n",
       "      <td>Day2</td>\n",
       "      <td>sleep02</td>\n",
       "      <td>Rat3838</td>\n",
       "      <td>0.747164</td>\n",
       "      <td>0.987928</td>\n",
       "    </tr>\n",
       "    <tr>\n",
       "      <th>6397</th>\n",
       "      <td>9055883.500000</td>\n",
       "      <td>9055988.500000</td>\n",
       "      <td>6.812473</td>\n",
       "      <td>9055911.500000</td>\n",
       "      <td>sws</td>\n",
       "      <td>Day2</td>\n",
       "      <td>sleep02</td>\n",
       "      <td>Rat3838</td>\n",
       "      <td>-0.189840</td>\n",
       "      <td>NaN</td>\n",
       "    </tr>\n",
       "    <tr>\n",
       "      <th>6413</th>\n",
       "      <td>9086837.500000</td>\n",
       "      <td>9086986.500000</td>\n",
       "      <td>5.820330</td>\n",
       "      <td>9086876.500000</td>\n",
       "      <td>sws</td>\n",
       "      <td>Day2</td>\n",
       "      <td>sleep02</td>\n",
       "      <td>Rat3838</td>\n",
       "      <td>-0.441532</td>\n",
       "      <td>0.425926</td>\n",
       "    </tr>\n",
       "    <tr>\n",
       "      <th>6461</th>\n",
       "      <td>5532610.500000</td>\n",
       "      <td>5532710.500000</td>\n",
       "      <td>5.269512</td>\n",
       "      <td>5532652.500000</td>\n",
       "      <td>NA</td>\n",
       "      <td>Day1</td>\n",
       "      <td>sleep02</td>\n",
       "      <td>Rat3656</td>\n",
       "      <td>-0.708235</td>\n",
       "      <td>-0.790164</td>\n",
       "    </tr>\n",
       "    <tr>\n",
       "      <th>6482</th>\n",
       "      <td>5576462.500000</td>\n",
       "      <td>5576534.500000</td>\n",
       "      <td>11.745256</td>\n",
       "      <td>5576489.500000</td>\n",
       "      <td>sws</td>\n",
       "      <td>Day1</td>\n",
       "      <td>sleep02</td>\n",
       "      <td>Rat3656</td>\n",
       "      <td>-0.608280</td>\n",
       "      <td>-0.541353</td>\n",
       "    </tr>\n",
       "    <tr>\n",
       "      <th>6523</th>\n",
       "      <td>5628023.500000</td>\n",
       "      <td>5628085.500000</td>\n",
       "      <td>6.848300</td>\n",
       "      <td>5628059.500000</td>\n",
       "      <td>rem</td>\n",
       "      <td>Day1</td>\n",
       "      <td>sleep02</td>\n",
       "      <td>Rat3656</td>\n",
       "      <td>-0.609589</td>\n",
       "      <td>0.200000</td>\n",
       "    </tr>\n",
       "    <tr>\n",
       "      <th>6533</th>\n",
       "      <td>5648537.500000</td>\n",
       "      <td>5648622.500000</td>\n",
       "      <td>9.034036</td>\n",
       "      <td>5648590.500000</td>\n",
       "      <td>sws</td>\n",
       "      <td>Day1</td>\n",
       "      <td>sleep02</td>\n",
       "      <td>Rat3656</td>\n",
       "      <td>0.128571</td>\n",
       "      <td>-0.422764</td>\n",
       "    </tr>\n",
       "    <tr>\n",
       "      <th>6540</th>\n",
       "      <td>5665416.500000</td>\n",
       "      <td>5665525.500000</td>\n",
       "      <td>7.177070</td>\n",
       "      <td>5665490.500000</td>\n",
       "      <td>rem</td>\n",
       "      <td>Day1</td>\n",
       "      <td>sleep02</td>\n",
       "      <td>Rat3656</td>\n",
       "      <td>-0.535433</td>\n",
       "      <td>-0.616541</td>\n",
       "    </tr>\n",
       "    <tr>\n",
       "      <th>6542</th>\n",
       "      <td>5671154.500000</td>\n",
       "      <td>5671226.500000</td>\n",
       "      <td>7.817705</td>\n",
       "      <td>5671198.500000</td>\n",
       "      <td>rem</td>\n",
       "      <td>Day1</td>\n",
       "      <td>sleep02</td>\n",
       "      <td>Rat3656</td>\n",
       "      <td>-0.438356</td>\n",
       "      <td>0.100000</td>\n",
       "    </tr>\n",
       "    <tr>\n",
       "      <th>6689</th>\n",
       "      <td>5823858.500000</td>\n",
       "      <td>5823984.500000</td>\n",
       "      <td>6.483338</td>\n",
       "      <td>5823950.500000</td>\n",
       "      <td>NA</td>\n",
       "      <td>Day1</td>\n",
       "      <td>sleep02</td>\n",
       "      <td>Rat3656</td>\n",
       "      <td>0.942857</td>\n",
       "      <td>-0.031469</td>\n",
       "    </tr>\n",
       "    <tr>\n",
       "      <th>6743</th>\n",
       "      <td>5895756.500000</td>\n",
       "      <td>5895921.500000</td>\n",
       "      <td>6.294233</td>\n",
       "      <td>5895799.500000</td>\n",
       "      <td>rem</td>\n",
       "      <td>Day1</td>\n",
       "      <td>sleep02</td>\n",
       "      <td>Rat3656</td>\n",
       "      <td>0.703488</td>\n",
       "      <td>0.925234</td>\n",
       "    </tr>\n",
       "    <tr>\n",
       "      <th>6788</th>\n",
       "      <td>5952518.500000</td>\n",
       "      <td>5952672.500000</td>\n",
       "      <td>8.462256</td>\n",
       "      <td>5952602.500000</td>\n",
       "      <td>rem</td>\n",
       "      <td>Day1</td>\n",
       "      <td>sleep02</td>\n",
       "      <td>Rat3656</td>\n",
       "      <td>-0.065421</td>\n",
       "      <td>-0.698795</td>\n",
       "    </tr>\n",
       "    <tr>\n",
       "      <th>6801</th>\n",
       "      <td>5964467.500000</td>\n",
       "      <td>5964591.500000</td>\n",
       "      <td>8.746986</td>\n",
       "      <td>5964557.500000</td>\n",
       "      <td>rem</td>\n",
       "      <td>Day1</td>\n",
       "      <td>sleep02</td>\n",
       "      <td>Rat3656</td>\n",
       "      <td>0.856764</td>\n",
       "      <td>0.265625</td>\n",
       "    </tr>\n",
       "    <tr>\n",
       "      <th>6872</th>\n",
       "      <td>6059429.500000</td>\n",
       "      <td>6059523.500000</td>\n",
       "      <td>8.185800</td>\n",
       "      <td>6059472.500000</td>\n",
       "      <td>rem</td>\n",
       "      <td>Day1</td>\n",
       "      <td>sleep02</td>\n",
       "      <td>Rat3656</td>\n",
       "      <td>-0.200000</td>\n",
       "      <td>-0.355932</td>\n",
       "    </tr>\n",
       "    <tr>\n",
       "      <th>6951</th>\n",
       "      <td>6153295.500000</td>\n",
       "      <td>6153424.500000</td>\n",
       "      <td>9.664124</td>\n",
       "      <td>6153392.500000</td>\n",
       "      <td>rem</td>\n",
       "      <td>Day1</td>\n",
       "      <td>sleep02</td>\n",
       "      <td>Rat3656</td>\n",
       "      <td>-0.830065</td>\n",
       "      <td>-0.535433</td>\n",
       "    </tr>\n",
       "    <tr>\n",
       "      <th>7009</th>\n",
       "      <td>6264124.500000</td>\n",
       "      <td>6264277.500000</td>\n",
       "      <td>7.386189</td>\n",
       "      <td>6264164.500000</td>\n",
       "      <td>NA</td>\n",
       "      <td>Day1</td>\n",
       "      <td>sleep02</td>\n",
       "      <td>Rat3656</td>\n",
       "      <td>-0.771654</td>\n",
       "      <td>-0.917293</td>\n",
       "    </tr>\n",
       "    <tr>\n",
       "      <th>7049</th>\n",
       "      <td>6343088.500000</td>\n",
       "      <td>6343176.500000</td>\n",
       "      <td>4.237914</td>\n",
       "      <td>6343113.500000</td>\n",
       "      <td>rem</td>\n",
       "      <td>Day1</td>\n",
       "      <td>sleep02</td>\n",
       "      <td>Rat3656</td>\n",
       "      <td>-0.780822</td>\n",
       "      <td>0.100000</td>\n",
       "    </tr>\n",
       "    <tr>\n",
       "      <th>7131</th>\n",
       "      <td>6537113.500000</td>\n",
       "      <td>6537222.500000</td>\n",
       "      <td>6.294066</td>\n",
       "      <td>6537155.500000</td>\n",
       "      <td>sws</td>\n",
       "      <td>Day1</td>\n",
       "      <td>sleep02</td>\n",
       "      <td>Rat3656</td>\n",
       "      <td>-0.594488</td>\n",
       "      <td>-0.879699</td>\n",
       "    </tr>\n",
       "    <tr>\n",
       "      <th>7234</th>\n",
       "      <td>6761531.500000</td>\n",
       "      <td>6761593.500000</td>\n",
       "      <td>5.839052</td>\n",
       "      <td>6761554.500000</td>\n",
       "      <td>rem</td>\n",
       "      <td>Day1</td>\n",
       "      <td>sleep02</td>\n",
       "      <td>Rat3656</td>\n",
       "      <td>0.739264</td>\n",
       "      <td>0.280000</td>\n",
       "    </tr>\n",
       "    <tr>\n",
       "      <th>7295</th>\n",
       "      <td>6910882.500000</td>\n",
       "      <td>6911039.500000</td>\n",
       "      <td>7.381782</td>\n",
       "      <td>6910918.500000</td>\n",
       "      <td>sws</td>\n",
       "      <td>Day1</td>\n",
       "      <td>sleep02</td>\n",
       "      <td>Rat3656</td>\n",
       "      <td>-0.849315</td>\n",
       "      <td>0.000000</td>\n",
       "    </tr>\n",
       "    <tr>\n",
       "      <th>7317</th>\n",
       "      <td>6944958.500000</td>\n",
       "      <td>6945061.500000</td>\n",
       "      <td>5.954472</td>\n",
       "      <td>6945035.500000</td>\n",
       "      <td>NA</td>\n",
       "      <td>Day1</td>\n",
       "      <td>sleep02</td>\n",
       "      <td>Rat3656</td>\n",
       "      <td>0.822835</td>\n",
       "      <td>0.266917</td>\n",
       "    </tr>\n",
       "    <tr>\n",
       "      <th>7392</th>\n",
       "      <td>7078375.500000</td>\n",
       "      <td>7078461.500000</td>\n",
       "      <td>10.000006</td>\n",
       "      <td>7078422.500000</td>\n",
       "      <td>rem</td>\n",
       "      <td>Day1</td>\n",
       "      <td>sleep02</td>\n",
       "      <td>Rat3656</td>\n",
       "      <td>-0.288660</td>\n",
       "      <td>-0.250000</td>\n",
       "    </tr>\n",
       "    <tr>\n",
       "      <th>7689</th>\n",
       "      <td>7634052.500000</td>\n",
       "      <td>7634154.500000</td>\n",
       "      <td>4.914112</td>\n",
       "      <td>7634126.500000</td>\n",
       "      <td>NA</td>\n",
       "      <td>Day1</td>\n",
       "      <td>sleep02</td>\n",
       "      <td>Rat3656</td>\n",
       "      <td>0.128571</td>\n",
       "      <td>-0.311189</td>\n",
       "    </tr>\n",
       "    <tr>\n",
       "      <th>7892</th>\n",
       "      <td>8013079.500000</td>\n",
       "      <td>8013253.500000</td>\n",
       "      <td>10.730787</td>\n",
       "      <td>8013109.500000</td>\n",
       "      <td>rem</td>\n",
       "      <td>Day1</td>\n",
       "      <td>sleep02</td>\n",
       "      <td>Rat3656</td>\n",
       "      <td>-0.180982</td>\n",
       "      <td>-0.100000</td>\n",
       "    </tr>\n",
       "    <tr>\n",
       "      <th>7932</th>\n",
       "      <td>8091200.500000</td>\n",
       "      <td>8091318.500000</td>\n",
       "      <td>5.440695</td>\n",
       "      <td>8091227.500000</td>\n",
       "      <td>sws</td>\n",
       "      <td>Day1</td>\n",
       "      <td>sleep02</td>\n",
       "      <td>Rat3656</td>\n",
       "      <td>0.116541</td>\n",
       "      <td>-0.475000</td>\n",
       "    </tr>\n",
       "    <tr>\n",
       "      <th>8035</th>\n",
       "      <td>8257198.500000</td>\n",
       "      <td>8257287.500000</td>\n",
       "      <td>6.640744</td>\n",
       "      <td>8257255.500000</td>\n",
       "      <td>sws</td>\n",
       "      <td>Day1</td>\n",
       "      <td>sleep02</td>\n",
       "      <td>Rat3656</td>\n",
       "      <td>0.849624</td>\n",
       "      <td>-0.200000</td>\n",
       "    </tr>\n",
       "    <tr>\n",
       "      <th>8347</th>\n",
       "      <td>8750999.500000</td>\n",
       "      <td>8751159.500000</td>\n",
       "      <td>10.323759</td>\n",
       "      <td>8751029.500000</td>\n",
       "      <td>NA</td>\n",
       "      <td>Day1</td>\n",
       "      <td>sleep02</td>\n",
       "      <td>Rat3656</td>\n",
       "      <td>0.280242</td>\n",
       "      <td>0.393564</td>\n",
       "    </tr>\n",
       "    <tr>\n",
       "      <th>8412</th>\n",
       "      <td>8868409.500000</td>\n",
       "      <td>8868489.500000</td>\n",
       "      <td>6.131063</td>\n",
       "      <td>8868465.500000</td>\n",
       "      <td>sws</td>\n",
       "      <td>Day1</td>\n",
       "      <td>sleep02</td>\n",
       "      <td>Rat3656</td>\n",
       "      <td>0.043478</td>\n",
       "      <td>0.603659</td>\n",
       "    </tr>\n",
       "  </tbody>\n",
       "</table>\n",
       "<p>635 rows × 10 columns</p>\n",
       "</div>"
      ],
      "text/plain": [
       "              t_start            t_end  peak value           t_peak epoch  \\\n",
       "0     23599777.615105  23599908.615105   16.971934  23599807.615105    NA   \n",
       "1     23600101.615105  23600198.615105   10.281620  23600126.615105    NA   \n",
       "2     23600251.615105  23600452.615105   16.280840  23600324.615105    NA   \n",
       "3     23600521.615105  23601250.615105   18.776798  23600638.615105    NA   \n",
       "4     23601282.615105  23601344.615105    9.511616  23601309.615105    NA   \n",
       "5     23601404.615105  23601452.615105    7.485433  23601429.615105    NA   \n",
       "6     23601525.615105  23601638.615105   10.696311  23601564.615105    NA   \n",
       "7     23601694.615105  23601782.615105    7.449954  23601719.615105    NA   \n",
       "8     23601935.615105  23602022.615105   11.795142  23601973.615105    NA   \n",
       "9     23602249.615105  23602353.615105    9.262929  23602320.615105    NA   \n",
       "11    23605035.615105  23605130.615105    9.109257  23605067.615105    NA   \n",
       "12    23605177.615105  23605492.615105   10.294877  23605323.615105    NA   \n",
       "13    23605642.615105  23605712.615105   12.782791  23605680.615105    NA   \n",
       "14    23605744.615105  23606372.615105   18.574106  23606156.615105    NA   \n",
       "15    23606383.615105  23606464.615105   12.110865  23606409.615105    NA   \n",
       "16    23606541.615105  23606696.615105   13.597826  23606572.615105    NA   \n",
       "17    23606757.615105  23606919.615105    9.429500  23606890.615105    NA   \n",
       "18    23606937.615105  23607024.615105   12.028647  23606988.615105    NA   \n",
       "19    23608179.615105  23608246.615105   10.006127  23608209.615105    NA   \n",
       "20    23608299.615105  23608408.615105   14.249514  23608375.615105    NA   \n",
       "21    23608587.615105  23608666.615105    8.080527  23608632.615105    NA   \n",
       "22    23608707.615105  23608841.615105    9.623981  23608787.615105    NA   \n",
       "23    23608858.615105  23609052.615105    8.097637  23608894.615105    NA   \n",
       "24    23609091.615105  23609268.615105   16.954234  23609155.615105    NA   \n",
       "25    23609273.615105  23609786.615105   16.720243  23609590.615105    NA   \n",
       "26    23609847.615105  23609994.615105    9.252238  23609928.615105    NA   \n",
       "27    23609997.615105  23610405.615105   14.260830  23610065.615105    NA   \n",
       "29    23614195.615105  23614245.615105   10.225278  23614218.615105    NA   \n",
       "30    23614249.615105  23614388.615105   10.900038  23614302.615105    NA   \n",
       "32    23614661.615105  23614730.615105    7.739904  23614692.615105    NA   \n",
       "...               ...              ...         ...              ...   ...   \n",
       "6108   8628560.500000   8628636.500000    5.149666   8628606.500000   rem   \n",
       "6227   8822099.500000   8822304.500000   10.269271   8822133.500000   sws   \n",
       "6359   8998668.500000   8998774.500000    6.656609   8998707.500000   rem   \n",
       "6397   9055883.500000   9055988.500000    6.812473   9055911.500000   sws   \n",
       "6413   9086837.500000   9086986.500000    5.820330   9086876.500000   sws   \n",
       "6461   5532610.500000   5532710.500000    5.269512   5532652.500000    NA   \n",
       "6482   5576462.500000   5576534.500000   11.745256   5576489.500000   sws   \n",
       "6523   5628023.500000   5628085.500000    6.848300   5628059.500000   rem   \n",
       "6533   5648537.500000   5648622.500000    9.034036   5648590.500000   sws   \n",
       "6540   5665416.500000   5665525.500000    7.177070   5665490.500000   rem   \n",
       "6542   5671154.500000   5671226.500000    7.817705   5671198.500000   rem   \n",
       "6689   5823858.500000   5823984.500000    6.483338   5823950.500000    NA   \n",
       "6743   5895756.500000   5895921.500000    6.294233   5895799.500000   rem   \n",
       "6788   5952518.500000   5952672.500000    8.462256   5952602.500000   rem   \n",
       "6801   5964467.500000   5964591.500000    8.746986   5964557.500000   rem   \n",
       "6872   6059429.500000   6059523.500000    8.185800   6059472.500000   rem   \n",
       "6951   6153295.500000   6153424.500000    9.664124   6153392.500000   rem   \n",
       "7009   6264124.500000   6264277.500000    7.386189   6264164.500000    NA   \n",
       "7049   6343088.500000   6343176.500000    4.237914   6343113.500000   rem   \n",
       "7131   6537113.500000   6537222.500000    6.294066   6537155.500000   sws   \n",
       "7234   6761531.500000   6761593.500000    5.839052   6761554.500000   rem   \n",
       "7295   6910882.500000   6911039.500000    7.381782   6910918.500000   sws   \n",
       "7317   6944958.500000   6945061.500000    5.954472   6945035.500000    NA   \n",
       "7392   7078375.500000   7078461.500000   10.000006   7078422.500000   rem   \n",
       "7689   7634052.500000   7634154.500000    4.914112   7634126.500000    NA   \n",
       "7892   8013079.500000   8013253.500000   10.730787   8013109.500000   rem   \n",
       "7932   8091200.500000   8091318.500000    5.440695   8091227.500000   sws   \n",
       "8035   8257198.500000   8257287.500000    6.640744   8257255.500000   sws   \n",
       "8347   8750999.500000   8751159.500000   10.323759   8751029.500000    NA   \n",
       "8412   8868409.500000   8868489.500000    6.131063   8868465.500000   sws   \n",
       "\n",
       "      date  session        animal     Lcorr     Rcorr  \n",
       "0     Day1  sleep06  Rat434Lesion -0.266173 -0.360469  \n",
       "1     Day1  sleep06  Rat434Lesion -0.750318  0.630769  \n",
       "2     Day1  sleep06  Rat434Lesion -0.434424  0.127378  \n",
       "3     Day1  sleep06  Rat434Lesion  0.030865 -0.316875  \n",
       "4     Day1  sleep06  Rat434Lesion -0.910420 -0.853982  \n",
       "5     Day1  sleep06  Rat434Lesion -0.281865 -0.356250  \n",
       "6     Day1  sleep06  Rat434Lesion -0.392571 -0.493135  \n",
       "7     Day1  sleep06  Rat434Lesion -0.498150 -0.677152  \n",
       "8     Day1  sleep06  Rat434Lesion -0.194631  0.055026  \n",
       "9     Day1  sleep06  Rat434Lesion -0.716667 -0.318505  \n",
       "11    Day1  sleep06  Rat434Lesion -0.513549 -0.571429  \n",
       "12    Day1  sleep06  Rat434Lesion  0.353379  0.338036  \n",
       "13    Day1  sleep06  Rat434Lesion  0.767181  0.168980  \n",
       "14    Day1  sleep06  Rat434Lesion  0.177707  0.281709  \n",
       "15    Day1  sleep06  Rat434Lesion -0.222930 -0.400402  \n",
       "16    Day1  sleep06  Rat434Lesion  0.026205 -0.050946  \n",
       "17    Day1  sleep06  Rat434Lesion -0.355322 -0.330348  \n",
       "18    Day1  sleep06  Rat434Lesion -0.263158 -0.512766  \n",
       "19    Day1  sleep06  Rat434Lesion -0.450000  0.588571  \n",
       "20    Day1  sleep06  Rat434Lesion -0.504034 -0.136364  \n",
       "21    Day1  sleep06  Rat434Lesion -0.492105  0.259059  \n",
       "22    Day1  sleep06  Rat434Lesion -0.572927 -0.105837  \n",
       "23    Day1  sleep06  Rat434Lesion -0.072721 -0.182646  \n",
       "24    Day1  sleep06  Rat434Lesion -0.317417  0.124666  \n",
       "25    Day1  sleep06  Rat434Lesion -0.036921  0.178870  \n",
       "26    Day1  sleep06  Rat434Lesion -0.105188 -0.091464  \n",
       "27    Day1  sleep06  Rat434Lesion -0.008290 -0.178243  \n",
       "29    Day1  sleep06  Rat434Lesion  0.959267  0.684211  \n",
       "30    Day1  sleep06  Rat434Lesion  0.784566  0.555556  \n",
       "32    Day1  sleep06  Rat434Lesion -0.216216 -0.310044  \n",
       "...    ...      ...           ...       ...       ...  \n",
       "6108  Day2  sleep02       Rat3838  0.266529  0.646739  \n",
       "6227  Day2  sleep02       Rat3838 -0.143725       NaN  \n",
       "6359  Day2  sleep02       Rat3838  0.747164  0.987928  \n",
       "6397  Day2  sleep02       Rat3838 -0.189840       NaN  \n",
       "6413  Day2  sleep02       Rat3838 -0.441532  0.425926  \n",
       "6461  Day1  sleep02       Rat3656 -0.708235 -0.790164  \n",
       "6482  Day1  sleep02       Rat3656 -0.608280 -0.541353  \n",
       "6523  Day1  sleep02       Rat3656 -0.609589  0.200000  \n",
       "6533  Day1  sleep02       Rat3656  0.128571 -0.422764  \n",
       "6540  Day1  sleep02       Rat3656 -0.535433 -0.616541  \n",
       "6542  Day1  sleep02       Rat3656 -0.438356  0.100000  \n",
       "6689  Day1  sleep02       Rat3656  0.942857 -0.031469  \n",
       "6743  Day1  sleep02       Rat3656  0.703488  0.925234  \n",
       "6788  Day1  sleep02       Rat3656 -0.065421 -0.698795  \n",
       "6801  Day1  sleep02       Rat3656  0.856764  0.265625  \n",
       "6872  Day1  sleep02       Rat3656 -0.200000 -0.355932  \n",
       "6951  Day1  sleep02       Rat3656 -0.830065 -0.535433  \n",
       "7009  Day1  sleep02       Rat3656 -0.771654 -0.917293  \n",
       "7049  Day1  sleep02       Rat3656 -0.780822  0.100000  \n",
       "7131  Day1  sleep02       Rat3656 -0.594488 -0.879699  \n",
       "7234  Day1  sleep02       Rat3656  0.739264  0.280000  \n",
       "7295  Day1  sleep02       Rat3656 -0.849315  0.000000  \n",
       "7317  Day1  sleep02       Rat3656  0.822835  0.266917  \n",
       "7392  Day1  sleep02       Rat3656 -0.288660 -0.250000  \n",
       "7689  Day1  sleep02       Rat3656  0.128571 -0.311189  \n",
       "7892  Day1  sleep02       Rat3656 -0.180982 -0.100000  \n",
       "7932  Day1  sleep02       Rat3656  0.116541 -0.475000  \n",
       "8035  Day1  sleep02       Rat3656  0.849624 -0.200000  \n",
       "8347  Day1  sleep02       Rat3656  0.280242  0.393564  \n",
       "8412  Day1  sleep02       Rat3656  0.043478  0.603659  \n",
       "\n",
       "[635 rows x 10 columns]"
      ]
     },
     "execution_count": 20,
     "metadata": {},
     "output_type": "execute_result"
    }
   ],
   "source": [
    "postDB[np.logical_not(nanIdx)]"
   ]
  },
  {
   "cell_type": "code",
   "execution_count": 105,
   "metadata": {
    "collapsed": false
   },
   "outputs": [
    {
     "name": "stdout",
     "output_type": "stream",
     "text": [
      "13.7440758294 2.36966824645\n"
     ]
    }
   ],
   "source": [
    "nSigP  = np.histogram(corrMaxPre,corrBins)[0][20:].sum()\n",
    "nSigN  = np.histogram(corrMaxPre,corrBins)[0][:3].sum()\n",
    "Nreac = np.histogram(corrMaxPre,corrBins)[0].sum()\n",
    "print 100.0*nSigP/Nreac,100.0*nSigN/Nreac"
   ]
  },
  {
   "cell_type": "code",
   "execution_count": 106,
   "metadata": {
    "collapsed": false
   },
   "outputs": [
    {
     "name": "stdout",
     "output_type": "stream",
     "text": [
      "13.7440758294 3.31753554502\n",
      "6.61417322835 5.35433070866\n"
     ]
    }
   ],
   "source": [
    "corrMaxPre = np.array(corrMaxPre)\n",
    "nSigP1  = (corrMaxPre>0.75).sum()\n",
    "nSigN1  = (corrMaxPre<-0.75).sum()\n",
    "Nreac1 = corrMaxPre.size\n",
    "print 100.0*nSigP1/Nreac1,100.0*nSigN1/Nreac1\n",
    "corrMaxPost = np.array(corrMaxPost)\n",
    "nSigP2  = (corrMaxPost>0.75).sum()\n",
    "nSigN2  = (corrMaxPost<-0.75).sum()\n",
    "Nreac2 = corrMaxPost.size\n",
    "print 100.0*nSigP2/Nreac2,100.0*nSigN2/Nreac2"
   ]
  },
  {
   "cell_type": "code",
   "execution_count": 22,
   "metadata": {
    "collapsed": false
   },
   "outputs": [],
   "source": [
    "prePsigIdx = np.union1d(preDB[preDB.Lcorr>0.7].index,preDB[preDB.Rcorr>0.7].index)\n",
    "preNsigIdx = np.union1d(preDB[preDB.Lcorr<-0.7].index,preDB[preDB.Rcorr<-0.7].index)\n",
    "postPsigIdx = np.union1d(postDB[postDB.Lcorr>0.7].index,postDB[postDB.Rcorr>0.7].index)\n",
    "postNsigIdx = np.union1d(postDB[postDB.Lcorr<-0.7].index,postDB[postDB.Rcorr<-0.7].index)"
   ]
  },
  {
   "cell_type": "code",
   "execution_count": 42,
   "metadata": {
    "collapsed": false
   },
   "outputs": [
    {
     "data": {
      "text/plain": [
       "16.824644549763033"
      ]
     },
     "execution_count": 42,
     "metadata": {},
     "output_type": "execute_result"
    }
   ],
   "source": [
    "1e2*prePsigIdx.size/len(corrMaxPre)"
   ]
  },
  {
   "cell_type": "code",
   "execution_count": 23,
   "metadata": {
    "collapsed": false
   },
   "outputs": [
    {
     "data": {
      "text/plain": [
       "(0.41809523824084416, 0.38196593479859919)"
      ]
     },
     "execution_count": 23,
     "metadata": {},
     "output_type": "execute_result"
    }
   ],
   "source": [
    "(1e3/np.diff(preDB.t_peak[prePsigIdx])).mean(),(1e3/np.diff(preDB.t_peak[preNsigIdx])).mean()"
   ]
  },
  {
   "cell_type": "code",
   "execution_count": 24,
   "metadata": {
    "collapsed": false
   },
   "outputs": [
    {
     "data": {
      "text/plain": [
       "(0.54031296954231711, 0.15627139781708066)"
      ]
     },
     "execution_count": 24,
     "metadata": {},
     "output_type": "execute_result"
    }
   ],
   "source": [
    "(1e3/np.diff(postDB.t_peak[postPsigIdx])).mean(),(1e3/np.diff(postDB.t_peak[postNsigIdx])).mean()"
   ]
  },
  {
   "cell_type": "code",
   "execution_count": 25,
   "metadata": {
    "collapsed": false
   },
   "outputs": [
    {
     "data": {
      "text/plain": [
       "(2.3843398533554225, 2.5353280670840128)"
      ]
     },
     "execution_count": 25,
     "metadata": {},
     "output_type": "execute_result"
    }
   ],
   "source": [
    "(1e3/np.diff(preDB.t_peak)).mean(),(1e3/np.diff(postDB.t_peak)).mean()"
   ]
  },
  {
   "cell_type": "code",
   "execution_count": 26,
   "metadata": {
    "collapsed": false
   },
   "outputs": [
    {
     "data": {
      "text/plain": [
       "Power_divergenceResult(statistic=0.13218065698995396, pvalue=0.98771389474081839)"
      ]
     },
     "execution_count": 26,
     "metadata": {},
     "output_type": "execute_result"
    }
   ],
   "source": [
    "chisquare(hstPre[0][10:14],hstPost[0][10:14])"
   ]
  },
  {
   "cell_type": "code",
   "execution_count": 27,
   "metadata": {
    "collapsed": false
   },
   "outputs": [
    {
     "data": {
      "text/plain": [
       "Power_divergenceResult(statistic=1.0000889656168668, pvalue=0.80123042982644443)"
      ]
     },
     "execution_count": 27,
     "metadata": {},
     "output_type": "execute_result"
    }
   ],
   "source": [
    "chisquare(hstPre[0][19:],hstPost[0][19:])"
   ]
  },
  {
   "cell_type": "code",
   "execution_count": 28,
   "metadata": {
    "collapsed": false
   },
   "outputs": [
    {
     "data": {
      "text/plain": [
       "Power_divergenceResult(statistic=0.15969102609425437, pvalue=0.99697705271660109)"
      ]
     },
     "execution_count": 28,
     "metadata": {},
     "output_type": "execute_result"
    }
   ],
   "source": [
    "chisquare(hstPre[0][:5],hstPost[0][:5])"
   ]
  },
  {
   "cell_type": "code",
   "execution_count": 29,
   "metadata": {
    "collapsed": false
   },
   "outputs": [],
   "source": [
    "LprePos = hstPre[0][19:]\n",
    "LposPos = hstPost[0][19:]\n",
    "LpreNeg = hstPre[0][:5]\n",
    "LposNeg = hstPre[0][:5]"
   ]
  },
  {
   "cell_type": "code",
   "execution_count": 30,
   "metadata": {
    "collapsed": false
   },
   "outputs": [
    {
     "name": "stdout",
     "output_type": "stream",
     "text": [
      "Power_divergenceResult(statistic=0.0, pvalue=1.0)\n",
      "Power_divergenceResult(statistic=0.0, pvalue=1.0)\n"
     ]
    }
   ],
   "source": [
    "print chisquare(hstPre[0][19:],LprePos)\n",
    "print chisquare(hstPost[0][19:],LposPos)"
   ]
  },
  {
   "cell_type": "code",
   "execution_count": 31,
   "metadata": {
    "collapsed": false
   },
   "outputs": [
    {
     "name": "stdout",
     "output_type": "stream",
     "text": [
      "Power_divergenceResult(statistic=nan, pvalue=nan)\n",
      "Power_divergenceResult(statistic=inf, pvalue=nan)\n"
     ]
    }
   ],
   "source": [
    "print chisquare(hstPre[0][:5],LpreNeg)\n",
    "print chisquare(hstPost[0][:5],LposNeg)"
   ]
  },
  {
   "cell_type": "code",
   "execution_count": null,
   "metadata": {
    "collapsed": false
   },
   "outputs": [],
   "source": []
  },
  {
   "cell_type": "code",
   "execution_count": null,
   "metadata": {
    "collapsed": true
   },
   "outputs": [],
   "source": []
  },
  {
   "cell_type": "code",
   "execution_count": null,
   "metadata": {
    "collapsed": true
   },
   "outputs": [],
   "source": []
  }
 ],
 "metadata": {
  "kernelspec": {
   "display_name": "Python 2",
   "language": "python",
   "name": "python2"
  },
  "language_info": {
   "codemirror_mode": {
    "name": "ipython",
    "version": 2
   },
   "file_extension": ".py",
   "mimetype": "text/x-python",
   "name": "python",
   "nbconvert_exporter": "python",
   "pygments_lexer": "ipython2",
   "version": "2.7.12"
  }
 },
 "nbformat": 4,
 "nbformat_minor": 0
}
