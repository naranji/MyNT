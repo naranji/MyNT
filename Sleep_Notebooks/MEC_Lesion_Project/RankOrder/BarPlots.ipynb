{
 "cells": [
  {
   "cell_type": "code",
   "execution_count": 1,
   "metadata": {
    "collapsed": false
   },
   "outputs": [
    {
     "data": {
      "text/html": [
       "<style>.container { width:80% !important; }</style>"
      ],
      "text/plain": [
       "<IPython.core.display.HTML object>"
      ]
     },
     "metadata": {},
     "output_type": "display_data"
    }
   ],
   "source": [
    "from IPython.core.display import display, HTML\n",
    "display(HTML(\"<style>.container { width:80% !important; }</style>\"))\n",
    "import sys\n",
    "sys.path.append('/home/chenani/ownCloud/Workspaces/Eclipse/dataAnalysis/Sleep-current/src/')"
   ]
  },
  {
   "cell_type": "code",
   "execution_count": 1,
   "metadata": {
    "collapsed": false
   },
   "outputs": [
    {
     "name": "stderr",
     "output_type": "stream",
     "text": [
      "/home/chenani/anaconda/lib/python2.7/site-packages/ipykernel/__main__.py:10: DeprecationWarning: the sets module is deprecated\n",
      "/home/chenani/anaconda/lib/python2.7/site-packages/matplotlib/__init__.py:872: UserWarning: axes.color_cycle is deprecated and replaced with axes.prop_cycle; please use the latter.\n",
      "  warnings.warn(self.msg_depr % (key, alt_key))\n"
     ]
    }
   ],
   "source": [
    "%matplotlib inline\n",
    "%load_ext autoreload\n",
    "%autoreload 2\n",
    "import pandas as pd\n",
    "from scipy.misc import comb\n",
    "import scipy as scp\n",
    "import numpy as np\n",
    "import matplotlib.pyplot as pl\n",
    "import pickle as pkl\n",
    "import sets\n",
    "import random\n",
    "import itertools\n",
    "import os,sys,fnmatch\n",
    "import timeit\n",
    "import scipy.stats\n",
    "import seaborn as sns\n",
    "from IPython.core.display import display, HTML\n",
    "from scipy.stats import chisquare\n",
    "sns.set_style(\"ticks\",{ 'legend.frameon': False})"
   ]
  },
  {
   "cell_type": "code",
   "execution_count": 2,
   "metadata": {
    "collapsed": false
   },
   "outputs": [],
   "source": [
    "def locate(pattern, root=os.curdir):\n",
    "    '''Locate all files matching supplied filename pattern in and below\n",
    "        supplied root directory.\n",
    "    '''\n",
    "    for path, dirs, files in os.walk(os.path.abspath(root)):\n",
    "        for filename in fnmatch.filter(files, pattern):\n",
    "            yield [path,filename]\n",
    "clrs = [\"#c98c39\",\n",
    "\"#7dd94e\",\n",
    "\"#cc4967\",\n",
    "\"#d3d34b\",\n",
    "\"#632c25\",\n",
    "\"#6d9741\",\n",
    "\"#cf4c31\",\n",
    "\"#c9cb97\",\n",
    "\"#56562e\",\n",
    "\"#c1887a\"]\n",
    "cPalette = sns.color_palette(clrs)"
   ]
  },
  {
   "cell_type": "code",
   "execution_count": 3,
   "metadata": {
    "collapsed": false
   },
   "outputs": [
    {
     "data": {
      "text/plain": [
       "['/home/chenani/ownCloud/IpythonNotebooks/Sleep/MEC_Lesion_Project/control/Rat3839Control/dataFiles/sleepDB/3839-popDB-D5.db',\n",
       " '/home/chenani/ownCloud/IpythonNotebooks/Sleep/MEC_Lesion_Project/control/Rat3661Control/dataFiles/sleepDB/3661-popDB-D1.db',\n",
       " '/home/chenani/ownCloud/IpythonNotebooks/Sleep/MEC_Lesion_Project/control/Rat3661Control/dataFiles/sleepDB/3661-popDB-D3.db',\n",
       " '/home/chenani/ownCloud/IpythonNotebooks/Sleep/MEC_Lesion_Project/control/Rat3661Control/dataFiles/sleepDB/3661-popDB-D2.db',\n",
       " '/home/chenani/ownCloud/IpythonNotebooks/Sleep/MEC_Lesion_Project/control/Rat3906Control/dataFiles/sleepDB/3906-popDB-D4.db',\n",
       " '/home/chenani/ownCloud/IpythonNotebooks/Sleep/MEC_Lesion_Project/control/Rat3906Control/dataFiles/sleepDB/3906-popDB-D2.db',\n",
       " '/home/chenani/ownCloud/IpythonNotebooks/Sleep/MEC_Lesion_Project/control/Rat3906Control/dataFiles/sleepDB/3906-popDB-D1.db',\n",
       " '/home/chenani/ownCloud/IpythonNotebooks/Sleep/MEC_Lesion_Project/control/Rat3906Control/dataFiles/sleepDB/3906-popDB-D3.db',\n",
       " '/home/chenani/ownCloud/IpythonNotebooks/Sleep/MEC_Lesion_Project/lesion/Rat434Lesion/dataFiles/sleepDB/434-popDB-D1.db',\n",
       " '/home/chenani/ownCloud/IpythonNotebooks/Sleep/MEC_Lesion_Project/lesion/Rat3838Lesion/dataFiles/sleepDB/3838-popDB-D1.db',\n",
       " '/home/chenani/ownCloud/IpythonNotebooks/Sleep/MEC_Lesion_Project/lesion/Rat3838Lesion/dataFiles/sleepDB/3838-popDB-D4.db',\n",
       " '/home/chenani/ownCloud/IpythonNotebooks/Sleep/MEC_Lesion_Project/lesion/Rat3838Lesion/dataFiles/sleepDB/3838-popDB-D2.db',\n",
       " '/home/chenani/ownCloud/IpythonNotebooks/Sleep/MEC_Lesion_Project/lesion/Rat3656Lesion/dataFiles/sleepDB/3656-popDB-D1.db']"
      ]
     },
     "execution_count": 3,
     "metadata": {},
     "output_type": "execute_result"
    }
   ],
   "source": [
    "runDBList = [os.path.join(item[0],item[1])for item in locate('*All*','/home/chenani/ownCloud/IpythonNotebooks/Sleep/MEC_Lesion_Project/')]\n",
    "popDBList = [os.path.join(item[0],item[1])for item in locate('*popDB*.db','/home/chenani/ownCloud/IpythonNotebooks/Sleep/MEC_Lesion_Project/')]\n",
    "popDBList"
   ]
  },
  {
   "cell_type": "code",
   "execution_count": 4,
   "metadata": {
    "collapsed": false
   },
   "outputs": [
    {
     "name": "stdout",
     "output_type": "stream",
     "text": [
      "set(['sleep06', 'sleep05', 'sleep02', 'sleep01'])\n",
      "set(['sleep02', 'sleep01'])\n"
     ]
    }
   ],
   "source": [
    "sleepDB = pd.DataFrame([],columns=[u't_start', u't_end', u'peak value', u't_peak', u'epoch', u'date',u'session', u'animal', u'Lcorr', u'Rcorr'])\n",
    "#postDB = pd.DataFrame([],columns=[u't_start', u't_end', u'peak value', u't_peak', u'epoch', u'date',u'session', u'animal', u'Lcorr', u'Rcorr'])\n",
    "anigroup = []\n",
    "for item in popDBList:\n",
    "    if item.find('Project')>0:\n",
    "        splitted = item.split('/')\n",
    "        anigroup.append([splitted[8],splitted[7]])\n",
    "        popDB= pd.read_pickle(item)\n",
    "        sleepDB = sleepDB.append(popDB,ignore_index=True)\n",
    "print set(sleepDB.session)\n",
    "sleepDB = sleepDB.replace('sleep06','sleep02')\n",
    "sleepDB = sleepDB.replace('sleep05','sleep01')\n",
    "\n",
    "##############################################################################################\n",
    "corrMax= []\n",
    "Lnan = np.isnan(sleepDB.Lcorr)\n",
    "Rnan = np.isnan(sleepDB.Rcorr)\n",
    "ValidIdx = sleepDB.index[np.logical_not(np.logical_and(Lnan,Rnan))]\n",
    "for idx in ValidIdx:\n",
    "    gIdx = np.where(np.array([item.find(sleepDB.animal[idx])for item in np.array(anigroup)[:,0]])==0)[0][0]\n",
    "    group = anigroup[gIdx][-1]\n",
    "    if np.isnan(sleepDB.Lcorr[idx]):    \n",
    "        corrMax.append([sleepDB.animal[idx],group,sleepDB.session[idx],sleepDB.Rcorr[idx]])\n",
    "    elif np.isnan(sleepDB.Rcorr[idx]):\n",
    "        corrMax.append([sleepDB.animal[idx],group,sleepDB.session[idx],sleepDB.Lcorr[idx]])\n",
    "    else:\n",
    "        LRc = np.argmax([np.abs(sleepDB.Rcorr[idx]),np.abs(sleepDB.Lcorr[idx])])\n",
    "        if LRc:\n",
    "            corrMax.append([sleepDB.animal[idx],group,sleepDB.session[idx],sleepDB.Lcorr[idx]])\n",
    "            \n",
    "        else:\n",
    "            corrMax.append([sleepDB.animal[idx],group,sleepDB.session[idx],sleepDB.Rcorr[idx]])\n",
    "###############################################################################\n",
    "sleepDB = sleepDB.replace('Rat434Lesion','Rat434')\n",
    "print set(sleepDB.session)"
   ]
  },
  {
   "cell_type": "code",
   "execution_count": 5,
   "metadata": {
    "collapsed": false
   },
   "outputs": [
    {
     "data": {
      "text/plain": [
       "[['Rat3839Control', 'control'],\n",
       " ['Rat3661Control', 'control'],\n",
       " ['Rat3661Control', 'control'],\n",
       " ['Rat3661Control', 'control'],\n",
       " ['Rat3906Control', 'control'],\n",
       " ['Rat3906Control', 'control'],\n",
       " ['Rat3906Control', 'control'],\n",
       " ['Rat3906Control', 'control'],\n",
       " ['Rat434Lesion', 'lesion'],\n",
       " ['Rat3838Lesion', 'lesion'],\n",
       " ['Rat3838Lesion', 'lesion'],\n",
       " ['Rat3838Lesion', 'lesion'],\n",
       " ['Rat3656Lesion', 'lesion']]"
      ]
     },
     "execution_count": 5,
     "metadata": {},
     "output_type": "execute_result"
    }
   ],
   "source": [
    "anigroup"
   ]
  },
  {
   "cell_type": "code",
   "execution_count": 6,
   "metadata": {
    "collapsed": false
   },
   "outputs": [
    {
     "name": "stderr",
     "output_type": "stream",
     "text": [
      "/home/chenani/anaconda/lib/python2.7/site-packages/ipykernel/__main__.py:1: FutureWarning: convert_objects is deprecated.  Use the data-type specific converters pd.to_datetime, pd.to_timedelta and pd.to_numeric.\n",
      "  if __name__ == '__main__':\n"
     ]
    }
   ],
   "source": [
    "corrMax = pd.DataFrame(corrMax,columns=['animal','group','session','correlation']).convert_objects(convert_numeric=True)\n",
    "corrMax = corrMax.replace('sleep01',\"PRE\")\n",
    "corrMax = corrMax.replace('sleep02',\"POST\")\n",
    "corrMax = corrMax.replace('Rat434Lesion','Rat434')"
   ]
  },
  {
   "cell_type": "code",
   "execution_count": 7,
   "metadata": {
    "collapsed": false
   },
   "outputs": [
    {
     "name": "stderr",
     "output_type": "stream",
     "text": [
      "/home/chenani/anaconda/lib/python2.7/site-packages/ipykernel/__main__.py:6: DeprecationWarning: converting an array with ndim > 0 to an index will result in an error in the future\n",
      "/home/chenani/anaconda/lib/python2.7/site-packages/ipykernel/__main__.py:7: DeprecationWarning: converting an array with ndim > 0 to an index will result in an error in the future\n",
      "/home/chenani/anaconda/lib/python2.7/site-packages/ipykernel/__main__.py:14: DeprecationWarning: converting an array with ndim > 0 to an index will result in an error in the future\n",
      "/home/chenani/anaconda/lib/python2.7/site-packages/ipykernel/__main__.py:15: DeprecationWarning: converting an array with ndim > 0 to an index will result in an error in the future\n",
      "/home/chenani/anaconda/lib/python2.7/site-packages/ipykernel/__main__.py:19: FutureWarning: convert_objects is deprecated.  Use the data-type specific converters pd.to_datetime, pd.to_timedelta and pd.to_numeric.\n"
     ]
    }
   ],
   "source": [
    "replayDB = pd.DataFrame([],columns=['animal','group','session','correlation'])\n",
    "for item in runDBList:\n",
    "    if item.find('control')>0:\n",
    "        splitted = item.split('/')\n",
    "        Aidx = np.where(np.array([chunk.find('Rat')for chunk in splitted])==0)[0]\n",
    "        animal = splitted[Aidx].split('C')[0]\n",
    "        group = 'c'+splitted[Aidx].split('C')[1]\n",
    "        popDB= pd.read_pickle(item)\n",
    "        sad = pd.DataFrame(np.transpose([len(popDB)*[animal],len(popDB)*[group],len(popDB)*['RUN'],popDB]),columns=replayDB.columns)\n",
    "        replayDB = replayDB.append(sad,ignore_index=True)\n",
    "    elif item.find('lesion')>0:\n",
    "        splitted = item.split('/')\n",
    "        Aidx = np.where(np.array([chunk.find('Rat')for chunk in splitted])==0)[0]\n",
    "        animal = splitted[Aidx].split('L')[0]\n",
    "        group = 'l'+splitted[Aidx].split('L')[1]\n",
    "        popDB= pd.read_pickle(item)\n",
    "        sad = pd.DataFrame(np.transpose([len(popDB)*[animal],len(popDB)*[group],len(popDB)*['RUN'],popDB]),columns=replayDB.columns)\n",
    "        replayDB = replayDB.append(sad,ignore_index=True)\n",
    "replayDB = replayDB.convert_objects(convert_numeric=True)"
   ]
  },
  {
   "cell_type": "code",
   "execution_count": 8,
   "metadata": {
    "collapsed": false
   },
   "outputs": [
    {
     "name": "stderr",
     "output_type": "stream",
     "text": [
      "/home/chenani/anaconda/lib/python2.7/site-packages/ipykernel/__main__.py:9: FutureWarning: convert_objects is deprecated.  Use the data-type specific converters pd.to_datetime, pd.to_timedelta and pd.to_numeric.\n"
     ]
    }
   ],
   "source": [
    "prcndb =[]# = \n",
    "for animal in set(replayDB.animal):\n",
    "    df = replayDB[replayDB.animal==animal]\n",
    "    Pdf = df[df.correlation>0.75]\n",
    "    Ndf = df[df.correlation<-0.75]\n",
    "    dfsize = np.float(df.shape[0])\n",
    "    prcndb.append(np.transpose([1e2*Pdf.shape[0]/dfsize,'Pos.',df.group[df.index[0]],df.animal[df.index[0]],'RUN']))\n",
    "    prcndb.append(np.transpose([1e2*Ndf.shape[0]/dfsize,'Neg.',df.group[df.index[0]],df.animal[df.index[0]],'RUN']))\n",
    "prcndb = pd.DataFrame(prcndb,columns=['percentile','corr-sign','group','animal','session']).convert_objects(convert_numeric=True)"
   ]
  },
  {
   "cell_type": "code",
   "execution_count": 12,
   "metadata": {
    "collapsed": false
   },
   "outputs": [
    {
     "name": "stderr",
     "output_type": "stream",
     "text": [
      "/home/chenani/anaconda/lib/python2.7/site-packages/matplotlib/__init__.py:892: UserWarning: axes.color_cycle is deprecated and replaced with axes.prop_cycle; please use the latter.\n",
      "  warnings.warn(self.msg_depr % (key, alt_key))\n"
     ]
    },
    {
     "data": {
      "text/plain": [
       "<seaborn.axisgrid.FacetGrid at 0x7f39fc191950>"
      ]
     },
     "execution_count": 12,
     "metadata": {},
     "output_type": "execute_result"
    },
    {
     "data": {
      "image/png": "[encoded data removed]",
      "text/plain": [
       "<matplotlib.figure.Figure at 0x7f39fc0ae810>"
      ]
     },
     "metadata": {},
     "output_type": "display_data"
    }
   ],
   "source": [
    "sns.factorplot(x=\"group\", y=\"percentile\", data=slpDB,size=6,hue='session', kind=\"bar\", palette=\"muted\",col='corr-sign')\n",
    "#sns.factorplot(x=\"group\", y=\"Neg.\", data=prcndb,size=6, kind=\"violin\", palette=\"muted\")"
   ]
  },
  {
   "cell_type": "code",
   "execution_count": 16,
   "metadata": {
    "collapsed": false
   },
   "outputs": [
    {
     "name": "stdout",
     "output_type": "stream",
     "text": [
      "Rat3906\n",
      "288 3438.0 311 3985.0\n",
      "Rat434\n",
      "48 385.0 17 522.0\n",
      "Rat3661\n",
      "79 998.0 119 1122.0\n",
      "Rat3838\n",
      "2 31.0 11 88.0\n",
      "Rat3839\n",
      "1 18.0 6 117.0\n",
      "Rat3656\n",
      "0 6.0 5 25.0\n"
     ]
    },
    {
     "name": "stderr",
     "output_type": "stream",
     "text": [
      "/home/chenani/anaconda/lib/python2.7/site-packages/ipykernel/__main__.py:25: FutureWarning: convert_objects is deprecated.  Use the data-type specific converters pd.to_datetime, pd.to_timedelta and pd.to_numeric.\n"
     ]
    }
   ],
   "source": [
    "slpDB = []\n",
    "for animal in set(corrMax.animal):\n",
    "    print animal\n",
    "    df = corrMax[corrMax.animal==animal]\n",
    "    Pdf = df[df.correlation>0.80]\n",
    "    Pdf1 = Pdf[Pdf.session=='PRE']\n",
    "    Pdf2 = Pdf[Pdf.session=='POST']\n",
    "    Ndf = df[df.correlation<-0.8]\n",
    "    Ndf1 = Ndf[Ndf.session=='PRE']\n",
    "    Ndf2 = Ndf[Ndf.session=='POST']\n",
    "    df1size = np.float(df[df.session=='PRE'].shape[0])\n",
    "    df2size = np.float(df[df.session=='POST'].shape[0])\n",
    "    P1size = Pdf1.shape[0]\n",
    "    P2size = Pdf2.shape[0]\n",
    "    N1size = Ndf1.shape[0]\n",
    "    N2size = Ndf2.shape[0]\n",
    "    print P1size,df1size,P2size,df2size\n",
    "    if P1size:\n",
    "        #print Pdf1.group[Pdf1.index[0]],Pdf1.animal[Pdf1.index[0]],Pdf1.session[Pdf1.index[0]]\n",
    "        #print Ndf2.group[Ndf2.index[0]],Ndf2.animal[Ndf2.index[0]],Ndf2.session[Ndf2.index[0]]\n",
    "        slpDB.append(np.transpose([1e2*P1size/df1size,'Pos.',Pdf1.group[Pdf1.index[0]],Pdf1.animal[Pdf1.index[0]],Pdf1.session[Pdf1.index[0]]]))\n",
    "        slpDB.append(np.transpose([1e2*N1size/df1size,'Neg.',Pdf1.group[Pdf1.index[0]],Pdf1.animal[Pdf1.index[0]],Pdf1.session[Pdf1.index[0]]]))\n",
    "    slpDB.append(np.transpose([1e2*P2size/df2size,'Pos.',Ndf2.group[Ndf2.index[0]],Ndf2.animal[Ndf2.index[0]],Ndf2.session[Ndf2.index[0]]]))\n",
    "    slpDB.append(np.transpose([1e2*N2size/df2size,'Neg.',Ndf2.group[Ndf2.index[0]],Ndf2.animal[Ndf2.index[0]],Ndf2.session[Ndf2.index[0]]]))\n",
    "slpDB = pd.DataFrame(slpDB,columns=['percentile','corr-sign','group','animal','session']).convert_objects(convert_numeric=True)"
   ]
  },
  {
   "cell_type": "code",
   "execution_count": 14,
   "metadata": {
    "collapsed": false
   },
   "outputs": [
    {
     "data": {
      "text/html": [
       "<div>\n",
       "<table border=\"1\" class=\"dataframe\">\n",
       "  <thead>\n",
       "    <tr style=\"text-align: right;\">\n",
       "      <th></th>\n",
       "      <th>animal</th>\n",
       "      <th>group</th>\n",
       "      <th>session</th>\n",
       "      <th>correlation</th>\n",
       "    </tr>\n",
       "  </thead>\n",
       "  <tbody>\n",
       "    <tr>\n",
       "      <th>10721</th>\n",
       "      <td>Rat3656</td>\n",
       "      <td>lesion</td>\n",
       "      <td>POST</td>\n",
       "      <td>-0.830065</td>\n",
       "    </tr>\n",
       "    <tr>\n",
       "      <th>10722</th>\n",
       "      <td>Rat3656</td>\n",
       "      <td>lesion</td>\n",
       "      <td>POST</td>\n",
       "      <td>-0.917293</td>\n",
       "    </tr>\n",
       "    <tr>\n",
       "      <th>10724</th>\n",
       "      <td>Rat3656</td>\n",
       "      <td>lesion</td>\n",
       "      <td>POST</td>\n",
       "      <td>-0.879699</td>\n",
       "    </tr>\n",
       "    <tr>\n",
       "      <th>10726</th>\n",
       "      <td>Rat3656</td>\n",
       "      <td>lesion</td>\n",
       "      <td>POST</td>\n",
       "      <td>-0.849315</td>\n",
       "    </tr>\n",
       "  </tbody>\n",
       "</table>\n",
       "</div>"
      ],
      "text/plain": [
       "        animal   group session  correlation\n",
       "10721  Rat3656  lesion    POST    -0.830065\n",
       "10722  Rat3656  lesion    POST    -0.917293\n",
       "10724  Rat3656  lesion    POST    -0.879699\n",
       "10726  Rat3656  lesion    POST    -0.849315"
      ]
     },
     "execution_count": 14,
     "metadata": {},
     "output_type": "execute_result"
    }
   ],
   "source": [
    "Ndf"
   ]
  },
  {
   "cell_type": "code",
   "execution_count": 41,
   "metadata": {
    "collapsed": false
   },
   "outputs": [],
   "source": [
    "AllDB = prcndb.append(slpDB,ignore_index=True)"
   ]
  },
  {
   "cell_type": "code",
   "execution_count": 42,
   "metadata": {
    "collapsed": false
   },
   "outputs": [
    {
     "data": {
      "image/png": "[encoded data removed]",
      "text/plain": [
       "<matplotlib.figure.Figure at 0x7f3fea53b610>"
      ]
     },
     "metadata": {},
     "output_type": "display_data"
    }
   ],
   "source": [
    "g= sns.factorplot(x=\"group\", y=\"percentile\", data=AllDB,size=5,hue_order=['PRE','RUN','POST'],sharey=True,ci=66,\n",
    "                  order=['control','lesion'],hue='session',kind='bar', palette='Set1',col='corr-sign')\n",
    "g.set_axis_labels(\"\", \"%\")\n",
    "g.set_yticklabels([0,5,10,15,20,25,30],fontsize=18)\n",
    "g.set_xticklabels([\"Control\", \"Lesion\"],fontsize=18)\n",
    "g.set_titles(fontsize=24)\n",
    "g.despine(left=True)  \n",
    "g.savefig('/home/chenani/ownCloud/Plots/SFN-poster/percentiles.eps')"
   ]
  },
  {
   "cell_type": "code",
   "execution_count": 104,
   "metadata": {
    "collapsed": false
   },
   "outputs": [
    {
     "name": "stdout",
     "output_type": "stream",
     "text": [
      "Rat3906 0.837135763281 0.639615438397 0.459353317081\n",
      "Rat434 0.837135763281 0.639615438397 0.459353317081\n",
      "Rat3661 0.837135763281 0.639615438397 0.459353317081\n",
      "Rat3838 0.837135763281 0.639615438397 0.459353317081\n",
      "Rat3839 0.837135763281 0.639615438397 0.459353317081\n",
      "Rat3656 0.837135763281 0.639615438397 0.459353317081\n"
     ]
    },
    {
     "data": {
      "text/plain": [
       "([array([ 0.05787037,  0.32407407,  0.56712963,  0.83333333,  0.59027778,\n",
       "          0.69444444,  0.61342593,  0.47453704,  0.42824074,  0.3587963 ,\n",
       "          0.2662037 ,  0.27777778,  0.3587963 ,  0.16203704,  0.17361111,\n",
       "          0.16203704,  0.12731481,  0.21990741,  0.27777778,  0.18518519,\n",
       "          0.18518519,  0.13888889,  0.12731481,  0.11574074,  0.13888889,\n",
       "          0.10416667,  0.0462963 ,  0.18518519,  0.10416667,  0.12731481,\n",
       "          0.0462963 ,  0.0462963 ,  0.13888889,  0.13888889,  0.06944444,\n",
       "          0.15046296,  0.12731481,  0.11574074,  0.0462963 ,  0.0462963 ,\n",
       "          0.12731481,  0.06944444,  0.05787037,  0.0462963 ,  0.0462963 ,\n",
       "          0.06944444,  0.12731481,  0.06944444,  0.03472222]),\n",
       "  array([ 0.24271845,  1.32281553,  1.0315534 ,  0.87378641,  0.63106796,\n",
       "          0.61893204,  0.52184466,  0.35194175,  0.36407767,  0.25485437,\n",
       "          0.20631068,  0.2184466 ,  0.14563107,  0.15776699,  0.2184466 ,\n",
       "          0.13349515,  0.08495146,  0.19417476,  0.13349515,  0.12135922,\n",
       "          0.1092233 ,  0.12135922,  0.13349515,  0.12135922,  0.08495146,\n",
       "          0.12135922,  0.04854369,  0.06067961,  0.06067961,  0.08495146,\n",
       "          0.08495146,  0.07281553,  0.06067961,  0.07281553,  0.04854369,\n",
       "          0.03640777,  0.03640777,  0.08495146,  0.12135922,  0.1092233 ,\n",
       "          0.07281553,  0.03640777,  0.04854369,  0.07281553,  0.04854369,\n",
       "          0.07281553,  0.04854369,  0.04854369,  0.04854369])],\n",
       " array([ 0. ,  0.1,  0.2,  0.3,  0.4,  0.5,  0.6,  0.7,  0.8,  0.9,  1. ,\n",
       "         1.1,  1.2,  1.3,  1.4,  1.5,  1.6,  1.7,  1.8,  1.9,  2. ,  2.1,\n",
       "         2.2,  2.3,  2.4,  2.5,  2.6,  2.7,  2.8,  2.9,  3. ,  3.1,  3.2,\n",
       "         3.3,  3.4,  3.5,  3.6,  3.7,  3.8,  3.9,  4. ,  4.1,  4.2,  4.3,\n",
       "         4.4,  4.5,  4.6,  4.7,  4.8,  4.9]),\n",
       " <a list of 2 Lists of Patches objects>)"
      ]
     },
     "execution_count": 104,
     "metadata": {},
     "output_type": "execute_result"
    },
    {
     "data": {
      "image/png": "[encoded data removed]",
      "text/plain": [
       "<matplotlib.figure.Figure at 0x7f556216c250>"
      ]
     },
     "metadata": {},
     "output_type": "display_data"
    }
   ],
   "source": [
    "ratesDB = []\n",
    "for animal in set(sleepDB.animal):\n",
    "    df = sleepDB[sleepDB.animal=='Rat434']\n",
    "    dfPr = df[df.session=='sleep01']\n",
    "    dfPo = df[df.session=='sleep02']\n",
    "    ieiPr = np.diff(dfPr['t_peak'])\n",
    "    ieiPo = np.diff(dfPo['t_peak'])\n",
    "    print animal,1e3/(ieiPr.mean()),1e3/ieiPr.std(),1e3/ieiPo.mean()\n",
    "pl.hist([1e3/ieiPr,1e3/ieiPo],np.arange(0,5,0.1),normed=True);\n",
    "#pd.DataFrame(slpDB,columns=['percentile','corr-sign','group','animal','session']).convert_objects(convert_numeric=True)"
   ]
  },
  {
   "cell_type": "code",
   "execution_count": 47,
   "metadata": {
    "collapsed": false
   },
   "outputs": [
    {
     "name": "stderr",
     "output_type": "stream",
     "text": [
      "/home/chenani/anaconda/lib/python2.7/site-packages/pandas/core/frame.py:1997: UserWarning: Boolean Series key will be reindexed to match DataFrame index.\n",
      "  \"DataFrame index.\", UserWarning)\n"
     ]
    },
    {
     "ename": "IndexingError",
     "evalue": "Unalignable boolean Series key provided",
     "output_type": "error",
     "traceback": [
      "\u001b[1;31m---------------------------------------------------------------------------\u001b[0m",
      "\u001b[1;31mIndexingError\u001b[0m                             Traceback (most recent call last)",
      "\u001b[1;32m<ipython-input-47-c0f1e064ec9b>\u001b[0m in \u001b[0;36m<module>\u001b[1;34m()\u001b[0m\n\u001b[0;32m      1\u001b[0m \u001b[1;32mfor\u001b[0m \u001b[0manimal\u001b[0m \u001b[1;32min\u001b[0m \u001b[0mset\u001b[0m\u001b[1;33m(\u001b[0m\u001b[0mreplayDB\u001b[0m\u001b[1;33m.\u001b[0m\u001b[0manimal\u001b[0m\u001b[1;33m)\u001b[0m\u001b[1;33m:\u001b[0m\u001b[1;33m\u001b[0m\u001b[0m\n\u001b[1;32m----> 2\u001b[1;33m     \u001b[0mdf\u001b[0m \u001b[1;33m=\u001b[0m \u001b[0msleepDB\u001b[0m\u001b[1;33m[\u001b[0m\u001b[0mreplayDB\u001b[0m\u001b[1;33m.\u001b[0m\u001b[0manimal\u001b[0m\u001b[1;33m==\u001b[0m\u001b[0manimal\u001b[0m\u001b[1;33m]\u001b[0m\u001b[1;33m\u001b[0m\u001b[0m\n\u001b[0m\u001b[0;32m      3\u001b[0m     \u001b[0mdfPr\u001b[0m \u001b[1;33m=\u001b[0m \u001b[0mdf\u001b[0m\u001b[1;33m[\u001b[0m\u001b[0mdf\u001b[0m\u001b[1;33m.\u001b[0m\u001b[0msession\u001b[0m\u001b[1;33m==\u001b[0m\u001b[1;34m'sleep01'\u001b[0m\u001b[1;33m]\u001b[0m\u001b[1;33m\u001b[0m\u001b[0m\n\u001b[0;32m      4\u001b[0m     \u001b[0mdfPo\u001b[0m \u001b[1;33m=\u001b[0m \u001b[0mdf\u001b[0m\u001b[1;33m[\u001b[0m\u001b[0mdf\u001b[0m\u001b[1;33m.\u001b[0m\u001b[0msession\u001b[0m\u001b[1;33m==\u001b[0m\u001b[1;34m'sleep02'\u001b[0m\u001b[1;33m]\u001b[0m\u001b[1;33m\u001b[0m\u001b[0m\n\u001b[0;32m      5\u001b[0m     \u001b[0mieiPr\u001b[0m \u001b[1;33m=\u001b[0m \u001b[0mnp\u001b[0m\u001b[1;33m.\u001b[0m\u001b[0mdiff\u001b[0m\u001b[1;33m(\u001b[0m\u001b[0mdfPr\u001b[0m\u001b[1;33m[\u001b[0m\u001b[1;34m't_peak'\u001b[0m\u001b[1;33m]\u001b[0m\u001b[1;33m)\u001b[0m\u001b[1;33m\u001b[0m\u001b[0m\n",
      "\u001b[1;32m/home/chenani/anaconda/lib/python2.7/site-packages/pandas/core/frame.pyc\u001b[0m in \u001b[0;36m__getitem__\u001b[1;34m(self, key)\u001b[0m\n\u001b[0;32m   1961\u001b[0m         \u001b[1;32mif\u001b[0m \u001b[0misinstance\u001b[0m\u001b[1;33m(\u001b[0m\u001b[0mkey\u001b[0m\u001b[1;33m,\u001b[0m \u001b[1;33m(\u001b[0m\u001b[0mSeries\u001b[0m\u001b[1;33m,\u001b[0m \u001b[0mnp\u001b[0m\u001b[1;33m.\u001b[0m\u001b[0mndarray\u001b[0m\u001b[1;33m,\u001b[0m \u001b[0mIndex\u001b[0m\u001b[1;33m,\u001b[0m \u001b[0mlist\u001b[0m\u001b[1;33m)\u001b[0m\u001b[1;33m)\u001b[0m\u001b[1;33m:\u001b[0m\u001b[1;33m\u001b[0m\u001b[0m\n\u001b[0;32m   1962\u001b[0m             \u001b[1;31m# either boolean or fancy integer index\u001b[0m\u001b[1;33m\u001b[0m\u001b[1;33m\u001b[0m\u001b[0m\n\u001b[1;32m-> 1963\u001b[1;33m             \u001b[1;32mreturn\u001b[0m \u001b[0mself\u001b[0m\u001b[1;33m.\u001b[0m\u001b[0m_getitem_array\u001b[0m\u001b[1;33m(\u001b[0m\u001b[0mkey\u001b[0m\u001b[1;33m)\u001b[0m\u001b[1;33m\u001b[0m\u001b[0m\n\u001b[0m\u001b[0;32m   1964\u001b[0m         \u001b[1;32melif\u001b[0m \u001b[0misinstance\u001b[0m\u001b[1;33m(\u001b[0m\u001b[0mkey\u001b[0m\u001b[1;33m,\u001b[0m \u001b[0mDataFrame\u001b[0m\u001b[1;33m)\u001b[0m\u001b[1;33m:\u001b[0m\u001b[1;33m\u001b[0m\u001b[0m\n\u001b[0;32m   1965\u001b[0m             \u001b[1;32mreturn\u001b[0m \u001b[0mself\u001b[0m\u001b[1;33m.\u001b[0m\u001b[0m_getitem_frame\u001b[0m\u001b[1;33m(\u001b[0m\u001b[0mkey\u001b[0m\u001b[1;33m)\u001b[0m\u001b[1;33m\u001b[0m\u001b[0m\n",
      "\u001b[1;32m/home/chenani/anaconda/lib/python2.7/site-packages/pandas/core/frame.pyc\u001b[0m in \u001b[0;36m_getitem_array\u001b[1;34m(self, key)\u001b[0m\n\u001b[0;32m   2001\u001b[0m             \u001b[1;31m# check_bool_indexer will throw exception if Series key cannot\u001b[0m\u001b[1;33m\u001b[0m\u001b[1;33m\u001b[0m\u001b[0m\n\u001b[0;32m   2002\u001b[0m             \u001b[1;31m# be reindexed to match DataFrame rows\u001b[0m\u001b[1;33m\u001b[0m\u001b[1;33m\u001b[0m\u001b[0m\n\u001b[1;32m-> 2003\u001b[1;33m             \u001b[0mkey\u001b[0m \u001b[1;33m=\u001b[0m \u001b[0mcheck_bool_indexer\u001b[0m\u001b[1;33m(\u001b[0m\u001b[0mself\u001b[0m\u001b[1;33m.\u001b[0m\u001b[0mindex\u001b[0m\u001b[1;33m,\u001b[0m \u001b[0mkey\u001b[0m\u001b[1;33m)\u001b[0m\u001b[1;33m\u001b[0m\u001b[0m\n\u001b[0m\u001b[0;32m   2004\u001b[0m             \u001b[0mindexer\u001b[0m \u001b[1;33m=\u001b[0m \u001b[0mkey\u001b[0m\u001b[1;33m.\u001b[0m\u001b[0mnonzero\u001b[0m\u001b[1;33m(\u001b[0m\u001b[1;33m)\u001b[0m\u001b[1;33m[\u001b[0m\u001b[1;36m0\u001b[0m\u001b[1;33m]\u001b[0m\u001b[1;33m\u001b[0m\u001b[0m\n\u001b[0;32m   2005\u001b[0m             \u001b[1;32mreturn\u001b[0m \u001b[0mself\u001b[0m\u001b[1;33m.\u001b[0m\u001b[0mtake\u001b[0m\u001b[1;33m(\u001b[0m\u001b[0mindexer\u001b[0m\u001b[1;33m,\u001b[0m \u001b[0maxis\u001b[0m\u001b[1;33m=\u001b[0m\u001b[1;36m0\u001b[0m\u001b[1;33m,\u001b[0m \u001b[0mconvert\u001b[0m\u001b[1;33m=\u001b[0m\u001b[0mFalse\u001b[0m\u001b[1;33m)\u001b[0m\u001b[1;33m\u001b[0m\u001b[0m\n",
      "\u001b[1;32m/home/chenani/anaconda/lib/python2.7/site-packages/pandas/core/indexing.pyc\u001b[0m in \u001b[0;36mcheck_bool_indexer\u001b[1;34m(ax, key)\u001b[0m\n\u001b[0;32m   1696\u001b[0m         \u001b[0mmask\u001b[0m \u001b[1;33m=\u001b[0m \u001b[0mcom\u001b[0m\u001b[1;33m.\u001b[0m\u001b[0misnull\u001b[0m\u001b[1;33m(\u001b[0m\u001b[0mresult\u001b[0m\u001b[1;33m.\u001b[0m\u001b[0m_values\u001b[0m\u001b[1;33m)\u001b[0m\u001b[1;33m\u001b[0m\u001b[0m\n\u001b[0;32m   1697\u001b[0m         \u001b[1;32mif\u001b[0m \u001b[0mmask\u001b[0m\u001b[1;33m.\u001b[0m\u001b[0many\u001b[0m\u001b[1;33m(\u001b[0m\u001b[1;33m)\u001b[0m\u001b[1;33m:\u001b[0m\u001b[1;33m\u001b[0m\u001b[0m\n\u001b[1;32m-> 1698\u001b[1;33m             \u001b[1;32mraise\u001b[0m \u001b[0mIndexingError\u001b[0m\u001b[1;33m(\u001b[0m\u001b[1;34m'Unalignable boolean Series key provided'\u001b[0m\u001b[1;33m)\u001b[0m\u001b[1;33m\u001b[0m\u001b[0m\n\u001b[0m\u001b[0;32m   1699\u001b[0m \u001b[1;33m\u001b[0m\u001b[0m\n\u001b[0;32m   1700\u001b[0m         \u001b[0mresult\u001b[0m \u001b[1;33m=\u001b[0m \u001b[0mresult\u001b[0m\u001b[1;33m.\u001b[0m\u001b[0mastype\u001b[0m\u001b[1;33m(\u001b[0m\u001b[0mbool\u001b[0m\u001b[1;33m)\u001b[0m\u001b[1;33m.\u001b[0m\u001b[0m_values\u001b[0m\u001b[1;33m\u001b[0m\u001b[0m\n",
      "\u001b[1;31mIndexingError\u001b[0m: Unalignable boolean Series key provided"
     ]
    }
   ],
   "source": [
    "for animal in set(replayDB.animal):\n",
    "    df = sleepDB[replayDB.animal==animal]\n",
    "    dfPr = df[df.session=='sleep01']\n",
    "    dfPo = df[df.session=='sleep02']\n",
    "    ieiPr = np.diff(dfPr['t_peak'])\n",
    "    ieiPo = np.diff(dfPo['t_peak'])\n",
    "    print animal,1e3/ieiPr.mean(),1e3/ieiPo.mean()"
   ]
  },
  {
   "cell_type": "code",
   "execution_count": 60,
   "metadata": {
    "collapsed": false
   },
   "outputs": [
    {
     "name": "stdout",
     "output_type": "stream",
     "text": [
      "set(['Rat3906', 'Rat614', 'Rat3661', 'Rat616', 'Rat3839'])\n",
      "set(['Rat434', 'Rat3837', 'Rat3656', 'Rat405', 'Rat3838'])\n",
      "set(['Rat3906', 'Rat3661', 'Rat3839'])\n",
      "set(['Rat434', 'Rat3656', 'Rat3838'])\n"
     ]
    }
   ],
   "source": [
    "print set(AllDB[AllDB.group=='control'].animal)\n",
    "print set(AllDB[AllDB.group=='lesion'].animal)\n",
    "print set(slpDB[slpDB.group=='control'].animal)\n",
    "print set(slpDB[slpDB.group=='lesion'].animal)"
   ]
  },
  {
   "cell_type": "code",
   "execution_count": 66,
   "metadata": {
    "collapsed": false
   },
   "outputs": [
    {
     "data": {
      "text/html": [
       "<div>\n",
       "<table border=\"1\" class=\"dataframe\">\n",
       "  <thead>\n",
       "    <tr style=\"text-align: right;\">\n",
       "      <th></th>\n",
       "      <th>animal</th>\n",
       "      <th>group</th>\n",
       "      <th>session</th>\n",
       "      <th>correlation</th>\n",
       "    </tr>\n",
       "  </thead>\n",
       "  <tbody>\n",
       "    <tr>\n",
       "      <th>10710</th>\n",
       "      <td>Rat3656</td>\n",
       "      <td>lesion</td>\n",
       "      <td>POST</td>\n",
       "      <td>-0.790164</td>\n",
       "    </tr>\n",
       "    <tr>\n",
       "      <th>10721</th>\n",
       "      <td>Rat3656</td>\n",
       "      <td>lesion</td>\n",
       "      <td>POST</td>\n",
       "      <td>-0.830065</td>\n",
       "    </tr>\n",
       "    <tr>\n",
       "      <th>10722</th>\n",
       "      <td>Rat3656</td>\n",
       "      <td>lesion</td>\n",
       "      <td>POST</td>\n",
       "      <td>-0.917293</td>\n",
       "    </tr>\n",
       "    <tr>\n",
       "      <th>10723</th>\n",
       "      <td>Rat3656</td>\n",
       "      <td>lesion</td>\n",
       "      <td>POST</td>\n",
       "      <td>-0.780822</td>\n",
       "    </tr>\n",
       "    <tr>\n",
       "      <th>10724</th>\n",
       "      <td>Rat3656</td>\n",
       "      <td>lesion</td>\n",
       "      <td>POST</td>\n",
       "      <td>-0.879699</td>\n",
       "    </tr>\n",
       "    <tr>\n",
       "      <th>10726</th>\n",
       "      <td>Rat3656</td>\n",
       "      <td>lesion</td>\n",
       "      <td>POST</td>\n",
       "      <td>-0.849315</td>\n",
       "    </tr>\n",
       "  </tbody>\n",
       "</table>\n",
       "</div>"
      ],
      "text/plain": [
       "        animal   group session  correlation\n",
       "10710  Rat3656  lesion    POST    -0.790164\n",
       "10721  Rat3656  lesion    POST    -0.830065\n",
       "10722  Rat3656  lesion    POST    -0.917293\n",
       "10723  Rat3656  lesion    POST    -0.780822\n",
       "10724  Rat3656  lesion    POST    -0.879699\n",
       "10726  Rat3656  lesion    POST    -0.849315"
      ]
     },
     "execution_count": 66,
     "metadata": {},
     "output_type": "execute_result"
    }
   ],
   "source": [
    "Ndf"
   ]
  },
  {
   "cell_type": "code",
   "execution_count": null,
   "metadata": {
    "collapsed": true
   },
   "outputs": [],
   "source": []
  }
 ],
 "metadata": {
  "kernelspec": {
   "display_name": "Python 2",
   "language": "python",
   "name": "python2"
  },
  "language_info": {
   "codemirror_mode": {
    "name": "ipython",
    "version": 2
   },
   "file_extension": ".py",
   "mimetype": "text/x-python",
   "name": "python",
   "nbconvert_exporter": "python",
   "pygments_lexer": "ipython2",
   "version": "2.7.12"
  }
 },
 "nbformat": 4,
 "nbformat_minor": 0
}
