{
 "cells": [
  {
   "cell_type": "code",
   "execution_count": 1,
   "metadata": {
    "collapsed": false
   },
   "outputs": [
    {
     "name": "stdout",
     "output_type": "stream",
     "text": [
      "/mnt/Data/Scripts/Sleep-Oct14/src\n"
     ]
    }
   ],
   "source": [
    "cd /mnt/Data/Scripts/Sleep-Oct14/src/"
   ]
  },
  {
   "cell_type": "code",
   "execution_count": 2,
   "metadata": {
    "collapsed": false
   },
   "outputs": [
    {
     "name": "stderr",
     "output_type": "stream",
     "text": [
      "/home/chenani/anaconda/lib/python2.7/site-packages/ipykernel/__main__.py:9: DeprecationWarning: the sets module is deprecated\n"
     ]
    }
   ],
   "source": [
    "%matplotlib inline\n",
    "%load_ext autoreload\n",
    "%autoreload 2\n",
    "from scipy.misc import comb\n",
    "import scipy as scp\n",
    "import numpy as np\n",
    "import matplotlib.pyplot as pl\n",
    "import pickle as pkl\n",
    "import sets\n",
    "import random\n",
    "import itertools\n",
    "import os,sys,fnmatch\n",
    "import timeit\n",
    "import scipy.stats"
   ]
  },
  {
   "cell_type": "code",
   "execution_count": 3,
   "metadata": {
    "collapsed": false
   },
   "outputs": [
    {
     "name": "stderr",
     "output_type": "stream",
     "text": [
      "/home/chenani/anaconda/lib/python2.7/site-packages/matplotlib/__init__.py:1350: UserWarning:  This call to matplotlib.use() has no effect\n",
      "because the backend has already been chosen;\n",
      "matplotlib.use() must be called *before* pylab, matplotlib.pyplot,\n",
      "or matplotlib.backends is imported for the first time.\n",
      "\n",
      "  warnings.warn(_use_error_msg)\n"
     ]
    }
   ],
   "source": [
    "import Recordings\n",
    "import signale, trajectory, custom_plot"
   ]
  },
  {
   "cell_type": "code",
   "execution_count": 4,
   "metadata": {
    "collapsed": false
   },
   "outputs": [],
   "source": [
    "def subsequence(sub,ref):\n",
    "    '''\n",
    "    A function to determine the number of specefic sequence repeated within a larger sequence.\n",
    "    \n",
    "    Parameters:\n",
    "    sub:\n",
    "    ref:\n",
    "    \n",
    "    \n",
    "    Returns:\n",
    "    idx : This an array containing the index of elements of sub in the ref! if idx is stricktly increasing the sequence sub\n",
    "    is replayed whithin sequence ref!\n",
    "    '''\n",
    "    ref = np.array(ref)\n",
    "    idx = np.array([])\n",
    "    for ii in range(len(sub)):\n",
    "        index = np.where(ref == sub[ii])[0]\n",
    "        if index.size:\n",
    "            idx = np.append(idx,index)\n",
    "        else: \n",
    "            return [] , False\n",
    "    idx = np.int0(idx)\n",
    "    return idx, True\n",
    "\n",
    "def median(arr):\n",
    "    '''\n",
    "    mY median... ;)\n",
    "    '''\n",
    "    arr = np.array(arr)\n",
    "    if np.mod(arr.size,2) == 0 :\n",
    "        return arr[arr.size / 2 - 1]\n",
    "    else: \n",
    "        return arr[arr.size / 2 ]\n",
    "    \n",
    "def sequencer(arr,method = 'median'):\n",
    "    '''\n",
    "    This function sequences the given array(with possible repeated elements) into an array of distinct elements! Considering either \n",
    "    first or the midian position of repeated elements.\n",
    "    '''\n",
    "    arr = np.array(arr)\n",
    "    idx_seq = np.array([])\n",
    "    if method == 'median':\n",
    "        for item in set(arr):\n",
    "            idx_seq = np.append(idx_seq,median(np.where(arr == item)[0]))\n",
    "        idx_seq.sort()\n",
    "    if method == 'first':\n",
    "        for item in set(arr):\n",
    "            idx_seq = np.append(idx_seq,np.where(arr == item)[0][0])\n",
    "        idx_seq.sort()\n",
    "\n",
    "    return arr[np.int0(idx_seq)]\n",
    "\n",
    "def duplicate_indicator(arr_group,weights=np.array([])):\n",
    "    '''\n",
    "    Finds and counts the duplicates! This Function makes a frequency distribution the number of\n",
    "    arrays within a goup of arrays.\n",
    "    \n",
    "    Parameters:\n",
    "    -----------\n",
    "    arr_group: The one that you want to count\n",
    "    weights: an array containig the wights(results of a previous counting of etc.). \n",
    "    If non empty the distribution will be weighted \n",
    "             with respect to this array!\n",
    "    Returns:\n",
    "    -----------\n",
    "    arr_set: Set of distinct arrays in arr_group\n",
    "    arr_weights: repitition counts of elements in arr_set.\n",
    "    '''\n",
    "    \n",
    "    arr_cp = np.copy(arr_group)   \n",
    "    for ii in range(len(arr_group)):\n",
    "        for jj in range(len(arr_group)):\n",
    "            if np.array_equal(arr_cp[jj], arr_cp[ii]) and ii != jj:\n",
    "                arr_cp[jj] = np.array([-1])\n",
    "    arr_set = []\n",
    "    for item in arr_cp:\n",
    "        if item.sum() > 0:\n",
    "            arr_set.append(item)\n",
    "    arr_set = np.array(arr_set)\n",
    "    ### Counting number of repititions\n",
    "    arr_weights = np.zeros(len(arr_set))\n",
    "    for ii in range(len(arr_set)):\n",
    "        for jj in range(len(arr_group)):\n",
    "            if np.array_equal(arr_group[jj],arr_set[ii]):\n",
    "                if weights.size:\n",
    "                    arr_weights[ii] += weights[jj]\n",
    "                else:\n",
    "                    arr_weights[ii] += 1\n",
    "    return arr_set,arr_weights\n",
    "\n",
    "def next_permutation(arr):\n",
    "    '''\n",
    "    \n",
    "        Computes the next lexicographical permutation of the specified list in place,\n",
    "     returning whether a next permutation existed. (Returns False when the argument\n",
    "     is already the last possible permutation.)\n",
    "    \n",
    "    \n",
    "         Example:\n",
    "            arr = [0, 1, 0]\n",
    "            next_permutation(arr)  (returns True)\n",
    "            arr has been modified to be [1, 0, 0]\n",
    "    Reference:\n",
    "    -----------\n",
    "    Nayuki Minase, 2014. Public domain.\n",
    "    http://nayuki.eigenstate.org/page/next-lexicographical-permutation-algorithm\n",
    "            '''\n",
    "    \n",
    "    i = len(arr) - 1\n",
    "    while i > 0 and arr[i - 1] >= arr[i]:\n",
    "        i -= 1\n",
    "    if i <= 0:\n",
    "        return False\n",
    "    \n",
    "    # Find successor to pivot\n",
    "    j = len(arr) - 1\n",
    "    while arr[j] <= arr[i - 1]:\n",
    "        j -= 1\n",
    "    arr[i - 1], arr[j] = arr[j], arr[i - 1]\n",
    "    \n",
    "    # Reverse suffix\n",
    "    arr[i : ] = arr[len(arr) - 1 : i - 1 : -1]\n",
    "    return True\n",
    "\n",
    "def number_of_permutations(arr):\n",
    "    Cnk = [] #keep the combinations!\n",
    "    s = 0    # sum of repitiotions of elements in arr!\n",
    "    arrcp = np.array(arr).copy()\n",
    "    arrcp.sort()\n",
    "    for item in set(arrcp):\n",
    "        reps = np.where(arrcp == item)[0].size\n",
    "        Cnk.append(comb(arrcp.size - s,reps,True))\n",
    "        s += reps\n",
    "    return np.prod(np.array(Cnk))\n",
    "def all_permutations(arr):\n",
    "    '''\n",
    "    produces all possible permutations of a given array using lexographical ordering.\n",
    "    Sequence the arrays and returns the weights of all possible sequences!\n",
    "    This version is fast but memory consuming, better for the short arrays!\n",
    "    written by A. Chenani Sep. 2014\n",
    "    '''\n",
    "    sqStack = []\n",
    "    weightsStack = []\n",
    "    for item in arr:\n",
    "        item.sort()\n",
    "        arr_seqz = [sequencer(item)]\n",
    "        #####Cunstructing sequence set\n",
    "        start =  timeit.default_timer()\n",
    "        \n",
    "        arr_seqz_set = np.array([])\n",
    "        sample_seq = arr_seqz[0].copy()\n",
    "        sample_seq.sort()\n",
    "        arr_seqz_set = np.append(arr_seqz_set,sample_seq)\n",
    "        while next_permutation(sample_seq):\n",
    "            arr_seqz_set = np.append(arr_seqz_set,sample_seq)\n",
    "        arr_seqz_set = arr_seqz_set.reshape(np.math.factorial(sample_seq.size),arr_seqz[0].size)\n",
    "        \n",
    "        stop = timeit.default_timer()\n",
    "        print 'part one --> %f' %(stop - start)\n",
    "        \n",
    "        \n",
    "        #####creating MUA permutation list!\n",
    "        start =  timeit.default_timer()\n",
    "        \n",
    "        while next_permutation(item):\n",
    "            arr_seqz.append(sequencer(item))\n",
    "        arr_seqz = np.array(arr_seqz) #This contains all sequences coming from permutations of an specific MUA!\n",
    "       \n",
    "        stop = timeit.default_timer()\n",
    "        print 'part two --> %f' %(stop - start)\n",
    "        \n",
    "        #####Calculating the wights of all possible sequences\n",
    "        start =  timeit.default_timer()\n",
    "        weights = []\n",
    "        for item in arr_seqz_set:\n",
    "            selection = arr_seqz[np.where(arr_seqz[:,0]==item[0])[0]]\n",
    "            for ii in range(1,arr_seqz_set.shape[1]):\n",
    "                selection = selection[np.where(selection[:,ii]==item[ii])[0]]\n",
    "            weights.append(selection.size/float(arr_seqz.size))\n",
    "        weightsStack.append(np.array(weights))\n",
    "        sqStack.append(arr_seqz_set)\n",
    "        \n",
    "        stop = timeit.default_timer()\n",
    "        print 'part three --> %f' %(stop - start)\n",
    "    return sqStack,weightsStack\n",
    "def All_permutations(arr):\n",
    "    '''\n",
    "    produces all possible permutations of a given array using lexographical ordering.\n",
    "    Sequence the arrays and returns the weights of all possible sequences!\n",
    "    This version is not using that much memory but its slow, better for long arrays.\n",
    "    written by A. Chenani Sep. 2014\n",
    "    '''\n",
    "    sqStack = []\n",
    "    weightsStack = []\n",
    "    for item in arr:\n",
    "        item.sort()\n",
    "        #####Cunstructing sequence set\n",
    "        arr_seqz_set = np.array([])\n",
    "        sample_seq = sequencer(item)\n",
    "        sample_seq.sort()\n",
    "        arr_seqz_set = np.append(arr_seqz_set,sample_seq)\n",
    "        while next_permutation(sample_seq):\n",
    "            arr_seqz_set = np.append(arr_seqz_set,sample_seq)\n",
    "        arr_seqz_set = arr_seqz_set.reshape(np.math.factorial(sample_seq.size),sample_seq.size)\n",
    "        \n",
    "        \n",
    "        \n",
    "        \n",
    "        #####creating MUA permutation list!\n",
    "        start =  timeit.default_timer()\n",
    "        lexRank = [0]\n",
    "        while next_permutation(item):\n",
    "            selection = np.arange(arr_seqz_set.size)\n",
    "            for ii in range(arr_seqz_set[0].size -1 ):\n",
    "                selection = np.intersect1d(selection,np.where(arr_seqz_set[:,ii]==sequencer(item)[ii])[0])\n",
    "            lexRank.append(selection[0])\n",
    "        lexRank = np.array(lexRank)\n",
    "        stop = timeit.default_timer()\n",
    "        print 'part two --> %f' %(stop - start)\n",
    "        #####Calculating the wights of all possible sequences\n",
    "        weights = []\n",
    "        for ii,item in enumerate(arr_seqz_set):\n",
    "            weights.append(np.where(lexRank == ii)[0].size /float(lexRank.size))\n",
    "        weightsStack.append(np.array(weights))\n",
    "        sqStack.append(arr_seqz_set)\n",
    "    return sqStack,weightsStack\n",
    "\n",
    "def locate(pattern, root=os.curdir):\n",
    "    '''Locate all files matching supplied filename pattern in and below\n",
    "        supplied root directory.\n",
    "    '''\n",
    "    for path, dirs, files in os.walk(os.path.abspath(root)):\n",
    "        for filename in fnmatch.filter(files, pattern):\n",
    "            yield [path,filename]"
   ]
  },
  {
   "cell_type": "code",
   "execution_count": 5,
   "metadata": {
    "collapsed": false
   },
   "outputs": [],
   "source": [
    "placeCellList = '/home/chenani/dataWork/ali/MECLesion_SleepData/Marta/Rat3661/LinearTrack_03-05-15Day3/parrentData/placeCells.spk'\n",
    "placeCellLesion = '/mnt/Data/ephysdata/Rats/MECLesion/Rat434Lesion/linearTrack_stList.spk'\n",
    "sqz = '/mnt/Data/IpythonNotebooks/Sleep/MEC_Lesion_Project/Rat3661Control/dataFiles/rat3661D3postMedian.seqz'\n",
    "mua = '/mnt/Data/IpythonNotebooks/Sleep/MEC_Lesion_Project/Rat3661Control/dataFiles/rat3661D3post.mua'"
   ]
  },
  {
   "cell_type": "code",
   "execution_count": 12,
   "metadata": {
    "collapsed": false
   },
   "outputs": [
    {
     "data": {
      "text/plain": [
       "(array([5, 3, 7]), True)"
      ]
     },
     "execution_count": 12,
     "metadata": {},
     "output_type": "execute_result"
    }
   ],
   "source": [
    "subsequence([5,3,7],range(10))"
   ]
  },
  {
   "cell_type": "code",
   "execution_count": 6,
   "metadata": {
    "collapsed": false
   },
   "outputs": [
    {
     "ename": "IOError",
     "evalue": "[Errno 2] No such file or directory: '/mnt/Data/ephysdata/Rats/MECLesion/Rat434Lesion/linearTrack_stList.spk'",
     "output_type": "error",
     "traceback": [
      "\u001b[1;31m---------------------------------------------------------------------------\u001b[0m",
      "\u001b[1;31mIOError\u001b[0m                                   Traceback (most recent call last)",
      "\u001b[1;32m<ipython-input-6-5fa1c909fb3b>\u001b[0m in \u001b[0;36m<module>\u001b[1;34m()\u001b[0m\n\u001b[1;32m----> 1\u001b[1;33m \u001b[0mspikes\u001b[0m \u001b[1;33m=\u001b[0m \u001b[0mpkl\u001b[0m\u001b[1;33m.\u001b[0m\u001b[0mload\u001b[0m\u001b[1;33m(\u001b[0m\u001b[0mopen\u001b[0m\u001b[1;33m(\u001b[0m\u001b[0mplaceCellLesion\u001b[0m\u001b[1;33m,\u001b[0m\u001b[1;34m'rb'\u001b[0m\u001b[1;33m)\u001b[0m\u001b[1;33m)\u001b[0m\u001b[1;33m\u001b[0m\u001b[0m\n\u001b[0m",
      "\u001b[1;31mIOError\u001b[0m: [Errno 2] No such file or directory: '/mnt/Data/ephysdata/Rats/MECLesion/Rat434Lesion/linearTrack_stList.spk'"
     ]
    }
   ],
   "source": [
    "spikes = pkl.load(open(placeCellLesion,'rb'))"
   ]
  },
  {
   "cell_type": "code",
   "execution_count": 24,
   "metadata": {
    "collapsed": false
   },
   "outputs": [],
   "source": [
    "spikesControl = pkl.load(open(placeCellList,'rb'))"
   ]
  },
  {
   "cell_type": "code",
   "execution_count": 73,
   "metadata": {
    "collapsed": false
   },
   "outputs": [
    {
     "ename": "MemoryError",
     "evalue": "",
     "output_type": "error",
     "traceback": [
      "\u001b[1;31m---------------------------------------------------------------------------\u001b[0m\n\u001b[1;31mMemoryError\u001b[0m                               Traceback (most recent call last)",
      "\u001b[1;32m<ipython-input-73-985574af6af1>\u001b[0m in \u001b[0;36m<module>\u001b[1;34m()\u001b[0m\n\u001b[1;32m----> 1\u001b[1;33m \u001b[0mspikes\u001b[0m\u001b[1;33m.\u001b[0m\u001b[0mconvolveSpikes\u001b[0m\u001b[1;33m(\u001b[0m\u001b[0mkernel_width\u001b[0m\u001b[1;33m=\u001b[0m\u001b[1;36m15\u001b[0m\u001b[1;33m,\u001b[0m\u001b[0mbinwidth\u001b[0m\u001b[1;33m=\u001b[0m\u001b[1;36m1\u001b[0m\u001b[1;33m)\u001b[0m\u001b[1;33m\u001b[0m\u001b[0m\n\u001b[0m",
      "\u001b[1;32m/mnt/Data/Scripts/Sleep-Oct14/src/signale/spikes.py\u001b[0m in \u001b[0;36mconvolveSpikes\u001b[1;34m(self, kernel, kernel_width, kernel_offset, binwidth, display)\u001b[0m\n\u001b[0;32m    282\u001b[0m             \u001b[0mhist\u001b[0m \u001b[1;33m=\u001b[0m \u001b[0mnumpy\u001b[0m\u001b[1;33m.\u001b[0m\u001b[0mhistogram\u001b[0m\u001b[1;33m(\u001b[0m\u001b[0mtrain\u001b[0m\u001b[1;33m.\u001b[0m\u001b[0mspike_times\u001b[0m\u001b[1;33m,\u001b[0m\u001b[0mbins\u001b[0m\u001b[1;33m)\u001b[0m\u001b[1;33m[\u001b[0m\u001b[1;36m0\u001b[0m\u001b[1;33m]\u001b[0m\u001b[1;33m\u001b[0m\u001b[0m\n\u001b[0;32m    283\u001b[0m             \u001b[0mspikeTrainHist\u001b[0m\u001b[1;33m.\u001b[0m\u001b[0mappend\u001b[0m\u001b[1;33m(\u001b[0m\u001b[0mhist\u001b[0m\u001b[1;33m)\u001b[0m\u001b[1;33m\u001b[0m\u001b[0m\n\u001b[1;32m--> 284\u001b[1;33m             \u001b[0mconv\u001b[0m \u001b[1;33m=\u001b[0m \u001b[0mnumpy\u001b[0m\u001b[1;33m.\u001b[0m\u001b[0mconvolve\u001b[0m\u001b[1;33m(\u001b[0m\u001b[0mspikeTrainHist\u001b[0m\u001b[1;33m[\u001b[0m\u001b[1;33m-\u001b[0m\u001b[1;36m1\u001b[0m\u001b[1;33m]\u001b[0m\u001b[1;33m,\u001b[0m \u001b[0mkernel\u001b[0m\u001b[1;33m,\u001b[0m \u001b[0mmode\u001b[0m\u001b[1;33m=\u001b[0m\u001b[1;34m'same'\u001b[0m\u001b[1;33m)\u001b[0m\u001b[1;33m\u001b[0m\u001b[0m\n\u001b[0m\u001b[0;32m    285\u001b[0m             \u001b[1;31m#conv /= self.timeAxis.shape[-1]            # normalize convolution value\u001b[0m\u001b[1;33m\u001b[0m\u001b[1;33m\u001b[0m\u001b[0m\n\u001b[0;32m    286\u001b[0m             \u001b[0mconv\u001b[0m \u001b[1;33m=\u001b[0m \u001b[0mconv\u001b[0m\u001b[1;33m[\u001b[0m\u001b[0mkernel_offset\u001b[0m\u001b[1;33m:\u001b[0m\u001b[1;33m-\u001b[0m\u001b[0mkernel\u001b[0m\u001b[1;33m.\u001b[0m\u001b[0mshape\u001b[0m\u001b[1;33m[\u001b[0m\u001b[1;33m-\u001b[0m\u001b[1;36m1\u001b[0m\u001b[1;33m]\u001b[0m\u001b[1;33m+\u001b[0m\u001b[0mkernel_offset\u001b[0m\u001b[1;33m+\u001b[0m\u001b[1;36m1\u001b[0m\u001b[1;33m]\u001b[0m         \u001b[1;31m# reduce size so that conv has right shape and spikes and convolution are appropriately aligned\u001b[0m\u001b[1;33m\u001b[0m\u001b[0m\n",
      "\u001b[1;32m/usr/local/bin/anaconda/lib/python2.7/site-packages/numpy/core/numeric.pyc\u001b[0m in \u001b[0;36mconvolve\u001b[1;34m(a, v, mode)\u001b[0m\n\u001b[0;32m    994\u001b[0m         \u001b[1;32mraise\u001b[0m \u001b[0mValueError\u001b[0m\u001b[1;33m(\u001b[0m\u001b[1;34m'v cannot be empty'\u001b[0m\u001b[1;33m)\u001b[0m\u001b[1;33m\u001b[0m\u001b[0m\n\u001b[0;32m    995\u001b[0m     \u001b[0mmode\u001b[0m \u001b[1;33m=\u001b[0m \u001b[0m_mode_from_name\u001b[0m\u001b[1;33m(\u001b[0m\u001b[0mmode\u001b[0m\u001b[1;33m)\u001b[0m\u001b[1;33m\u001b[0m\u001b[0m\n\u001b[1;32m--> 996\u001b[1;33m     \u001b[1;32mreturn\u001b[0m \u001b[0mmultiarray\u001b[0m\u001b[1;33m.\u001b[0m\u001b[0mcorrelate\u001b[0m\u001b[1;33m(\u001b[0m\u001b[0ma\u001b[0m\u001b[1;33m,\u001b[0m \u001b[0mv\u001b[0m\u001b[1;33m[\u001b[0m\u001b[1;33m:\u001b[0m\u001b[1;33m:\u001b[0m\u001b[1;33m-\u001b[0m\u001b[1;36m1\u001b[0m\u001b[1;33m]\u001b[0m\u001b[1;33m,\u001b[0m \u001b[0mmode\u001b[0m\u001b[1;33m)\u001b[0m\u001b[1;33m\u001b[0m\u001b[0m\n\u001b[0m\u001b[0;32m    997\u001b[0m \u001b[1;33m\u001b[0m\u001b[0m\n\u001b[0;32m    998\u001b[0m \u001b[1;32mdef\u001b[0m \u001b[0mouter\u001b[0m\u001b[1;33m(\u001b[0m\u001b[0ma\u001b[0m\u001b[1;33m,\u001b[0m \u001b[0mb\u001b[0m\u001b[1;33m,\u001b[0m \u001b[0mout\u001b[0m\u001b[1;33m=\u001b[0m\u001b[0mNone\u001b[0m\u001b[1;33m)\u001b[0m\u001b[1;33m:\u001b[0m\u001b[1;33m\u001b[0m\u001b[0m\n",
      "\u001b[1;31mMemoryError\u001b[0m: "
     ]
    }
   ],
   "source": [
    "spikes.convolveSpikes(kernel_width=15,binwidth=1)"
   ]
  },
  {
   "cell_type": "code",
   "execution_count": 17,
   "metadata": {
    "collapsed": false
   },
   "outputs": [
    {
     "data": {
      "text/plain": [
       "<matplotlib.lines.Line2D at 0x7f314c04f910>"
      ]
     },
     "execution_count": 17,
     "metadata": {},
     "output_type": "execute_result"
    },
    {
     "data": {
      "image/png": "[encoded data removed]",
      "text/plain": [
       "<matplotlib.figure.Figure at 0x7f314c42c510>"
      ]
     },
     "metadata": {},
     "output_type": "display_data"
    }
   ],
   "source": [
    "f,ax = pl.subplots(1,1,figsize = [20,3])\n",
    "pl.plot(spikes.timeAxis[4000:5000],spikes.convolvedSpikeTrains[9][4000:5000])\n",
    "pl.axvline(spikes[9].spike_times[12],color = 'r',linewidth = 0.5)\n",
    "pl.axvline(spikes[9].spike_times[13],color = 'r',linewidth = 0.5)"
   ]
  },
  {
   "cell_type": "code",
   "execution_count": 18,
   "metadata": {
    "collapsed": false
   },
   "outputs": [
    {
     "name": "stdout",
     "output_type": "stream",
     "text": [
      "[    3     4    12 ..., 10211 10223 10233]\n",
      "1.89360589912\n",
      "2.01783218582\n",
      "2.21524881054\n",
      "1.53515198704\n",
      "1.53296449592\n",
      "1.4890275623\n",
      "2.21306131943\n",
      "1.8846843937\n",
      "1.88249690258\n",
      "2.50013655884\n",
      "2.82478902619\n",
      "1.88249690258\n",
      "1.76499380517\n",
      "1.93118312707\n",
      "1.89360589912\n",
      "1.8846843937\n",
      "1.4890275623\n",
      "2.20714936994\n",
      "2.20714936994\n",
      "2.20714936994\n",
      "1.92643383621\n",
      "2.50013655884\n",
      "1.50013655884\n",
      "1.88249690258\n"
     ]
    }
   ],
   "source": [
    "zug = spikes[9]\n",
    "zug.spike_times[:10]\n",
    "idx = np.where(np.diff(zug.spike_times)<10)[0]\n",
    "print idx\n",
    "zug.spike_times[idx]\n",
    "for cell in spikes.convolvedSpikeTrains:\n",
    "    print cell.max()"
   ]
  },
  {
   "cell_type": "code",
   "execution_count": 8,
   "metadata": {
    "collapsed": false
   },
   "outputs": [
    {
     "name": "stdout",
     "output_type": "stream",
     "text": [
      "Calculated time axis with 1 ms resolution\n"
     ]
    },
    {
     "data": {
      "text/plain": [
       "array([ 1.41227137,  1.50696977,  1.59865649, ...,  2.94556411,\n",
       "        2.67509158,  2.40055237])"
      ]
     },
     "execution_count": 8,
     "metadata": {},
     "output_type": "execute_result"
    }
   ],
   "source": [
    "spikes.sumConvolvedSpikeTrains(kernelWidth=50)"
   ]
  },
  {
   "cell_type": "code",
   "execution_count": 9,
   "metadata": {
    "collapsed": false
   },
   "outputs": [
    {
     "data": {
      "text/plain": [
       "13923621"
      ]
     },
     "execution_count": 9,
     "metadata": {},
     "output_type": "execute_result"
    },
    {
     "data": {
      "image/png": "[encoded data removed]",
      "text/plain": [
       "<matplotlib.figure.Figure at 0x7f140f235290>"
      ]
     },
     "metadata": {},
     "output_type": "display_data"
    }
   ],
   "source": [
    "idxmx = spikes.summedConvolvedSpikeTrains.argmax()\n",
    "pl.plot(spikes.timeAxis[idxmx-500:idxmx+500],spikes.summedConvolvedSpikeTrains[idxmx-500:idxmx+500])\n",
    "#spikes.timeAxis.size,spikes.summedConvolvedSpikeTrains.size,[spikes.convolvedSpikeTrains[ii].size for ii in spikes.id_list]\n",
    "spikes.summedConvolvedSpikeTrains.argmax()"
   ]
  },
  {
   "cell_type": "code",
   "execution_count": 10,
   "metadata": {
    "collapsed": false
   },
   "outputs": [
    {
     "name": "stdout",
     "output_type": "stream",
     "text": [
      "9.92446476365\n"
     ]
    },
    {
     "data": {
      "text/plain": [
       "0.015242092825709649"
      ]
     },
     "execution_count": 10,
     "metadata": {},
     "output_type": "execute_result"
    }
   ],
   "source": [
    "thresh = spikes.summedConvolvedSpikeTrains.mean() + 3 * spikes.summedConvolvedSpikeTrains.std()\n",
    "print thresh\n",
    "1.0*np.where(spikes.summedConvolvedSpikeTrains>thresh)[0].size/spikes.summedConvolvedSpikeTrains.size"
   ]
  },
  {
   "cell_type": "code",
   "execution_count": 11,
   "metadata": {
    "collapsed": false
   },
   "outputs": [],
   "source": [
    "spikes.burstDetector(minTime=5)"
   ]
  },
  {
   "cell_type": "code",
   "execution_count": 12,
   "metadata": {
    "collapsed": false
   },
   "outputs": [
    {
     "data": {
      "text/plain": [
       "<matplotlib.lines.Line2D at 0x7f140f212090>"
      ]
     },
     "execution_count": 12,
     "metadata": {},
     "output_type": "execute_result"
    },
    {
     "data": {
      "image/png": "[encoded data removed]",
      "text/plain": [
       "<matplotlib.figure.Figure at 0x7f140f236510>"
      ]
     },
     "metadata": {},
     "output_type": "display_data"
    }
   ],
   "source": [
    "alpha = 0.6\n",
    "BP = np.array([])\n",
    "BT = np.array([])\n",
    "for burst in spikes.bursts:\n",
    "    BT = np.append(BT,burst[1]-burst[0])\n",
    "for burst in spikes.bursts:\n",
    "    if burst[1] - burst[0] > BT.mean()+alpha * BT.std():\n",
    "        BP = np.append(BP,burst[2])\n",
    "f,ax = pl.subplots(1,2,figsize=[20,5])\n",
    "ax[0].hist(BP,20);\n",
    "ax[1].hist(BT,20);\n",
    "ax[1].axvline(BT.mean(),color='g')\n",
    "ax[1].axvline(BT.mean() + BT.std(),color='r')"
   ]
  },
  {
   "cell_type": "code",
   "execution_count": 25,
   "metadata": {
    "collapsed": false
   },
   "outputs": [
    {
     "name": "stdout",
     "output_type": "stream",
     "text": [
      "Calculated time axis with 1 ms resolution\n"
     ]
    },
    {
     "data": {
      "text/plain": [
       "array([ 1.42064922,  1.49211875,  1.55124652, ...,  0.9523448 ,\n",
       "        0.98257547,  0.99804878])"
      ]
     },
     "execution_count": 25,
     "metadata": {},
     "output_type": "execute_result"
    }
   ],
   "source": [
    "spikesControl.sumConvolvedSpikeTrains(kernelWidth=50)"
   ]
  },
  {
   "cell_type": "code",
   "execution_count": 26,
   "metadata": {
    "collapsed": false
   },
   "outputs": [],
   "source": [
    "spikesControl.burstDetector(minTime=10)"
   ]
  },
  {
   "cell_type": "code",
   "execution_count": 27,
   "metadata": {
    "collapsed": false
   },
   "outputs": [
    {
     "data": {
      "text/plain": [
       "<matplotlib.lines.Line2D at 0x7f1402472710>"
      ]
     },
     "execution_count": 27,
     "metadata": {},
     "output_type": "execute_result"
    },
    {
     "data": {
      "image/png": "[encoded data removed]",
      "text/plain": [
       "<matplotlib.figure.Figure at 0x7f140275c6d0>"
      ]
     },
     "metadata": {},
     "output_type": "display_data"
    }
   ],
   "source": [
    "alpha = 0.6\n",
    "BPC = np.array([])\n",
    "BTC = np.array([])\n",
    "for burst in spikesControl.bursts:\n",
    "    BTC = np.append(BTC,burst[1]-burst[0])\n",
    "for burst in spikesControl.bursts:\n",
    "    if burst[1] - burst[0] > BTC.mean()+alpha * BTC.std():\n",
    "        BPC = np.append(BPC,burst[2])\n",
    "f,ax = pl.subplots(1,2,figsize=[20,5])\n",
    "ax[0].hist(BPC,20);\n",
    "ax[1].hist(BTC,20);\n",
    "ax[1].axvline(BTC.mean(),color='g')\n",
    "ax[1].axvline(BTC.mean() + BTC.std(),color='r')"
   ]
  },
  {
   "cell_type": "code",
   "execution_count": 71,
   "metadata": {
    "collapsed": false
   },
   "outputs": [
    {
     "data": {
      "text/plain": [
       "0.11442076161598146"
      ]
     },
     "execution_count": 71,
     "metadata": {},
     "output_type": "execute_result"
    }
   ],
   "source": [
    "intersection = np.logical_and(BTC<28,BTC > 25)\n",
    "BTCm = BTC[np.logical_not(intersection)]\n",
    "BTC[intersection].size/1.0/BTC.size"
   ]
  },
  {
   "cell_type": "code",
   "execution_count": 140,
   "metadata": {
    "collapsed": false
   },
   "outputs": [
    {
     "data": {
      "text/plain": [
       "<matplotlib.lines.Line2D at 0x7f139b8c2f10>"
      ]
     },
     "execution_count": 140,
     "metadata": {},
     "output_type": "execute_result"
    },
    {
     "data": {
      "image/png": "[encoded data removed]",
      "text/plain": [
       "<matplotlib.figure.Figure at 0x7f139b949c90>"
      ]
     },
     "metadata": {},
     "output_type": "display_data"
    }
   ],
   "source": [
    "f,ax = pl.subplots(1,1,figsize=[20,5])\n",
    "bins = np.arange(BT.min(),300,5)\n",
    "ax.hist([BT,BTC,BTm],bins,log=False,normed=True);\n",
    "ax.axvline(BT.mean(),color='c')\n",
    "ax.axvline(BT.mean() + BT.std(),color='r')"
   ]
  },
  {
   "cell_type": "code",
   "execution_count": 89,
   "metadata": {
    "collapsed": false
   },
   "outputs": [
    {
     "data": {
      "text/plain": [
       "<matplotlib.collections.PathCollection at 0x7f13a7d7c610>"
      ]
     },
     "execution_count": 89,
     "metadata": {},
     "output_type": "execute_result"
    },
    {
     "data": {
      "image/png": "[encoded data removed]",
      "text/plain": [
       "<matplotlib.figure.Figure at 0x7f13a7cb81d0>"
      ]
     },
     "metadata": {},
     "output_type": "display_data"
    }
   ],
   "source": [
    "pl.scatter(range(106),spikes.mean_rates())\n",
    "pl.scatter(range(24),spikesControl.mean_rates(),marker='*',color = 'r')"
   ]
  },
  {
   "cell_type": "code",
   "execution_count": 155,
   "metadata": {
    "collapsed": false
   },
   "outputs": [
    {
     "name": "stdout",
     "output_type": "stream",
     "text": [
      "Calculated time axis with 1 ms resolution\n",
      "Calculated time axis with 1 ms resolution\n",
      "Calculated time axis with 1 ms resolution\n",
      "Calculated time axis with 1 ms resolution\n"
     ]
    }
   ],
   "source": [
    "timeSpans = np.array([])\n",
    "for kk in range(4):\n",
    "    ID = -1\n",
    "    stList = signale.spikezugList(t_start=None, t_stop=None, dims=[2])\n",
    "    idList = np.arange(kk*26,(kk+1)*26)\n",
    "    for ii in idList:\n",
    "        ID+=1\n",
    "        stList.__setitem__(ID, spikes.__getitem__(ii))\n",
    "    stList.sumConvolvedSpikeTrains(kernelWidth=50)\n",
    "    stList.burstDetector()\n",
    "    for burst in stList.bursts:\n",
    "        timeSpans = np.append(timeSpans,burst[1]-burst[0])\n",
    "    timeSpans = np.append(timeSpans,-1)"
   ]
  },
  {
   "cell_type": "code",
   "execution_count": 156,
   "metadata": {
    "collapsed": false
   },
   "outputs": [
    {
     "data": {
      "image/png": "[encoded data removed]",
      "text/plain": [
       "<matplotlib.figure.Figure at 0x7f139bf09b50>"
      ]
     },
     "metadata": {},
     "output_type": "display_data"
    }
   ],
   "source": [
    "f,ax = pl.subplots(1,1,figsize=[20,5])\n",
    "pl.hist([BTm,timeSpans],bins,normed=True);"
   ]
  },
  {
   "cell_type": "code",
   "execution_count": 158,
   "metadata": {
    "collapsed": false
   },
   "outputs": [
    {
     "data": {
      "text/plain": [
       "array([    0,  5040, 10080, 15120, 20160, 25200, 30240, 35280, 40320])"
      ]
     },
     "execution_count": 158,
     "metadata": {},
     "output_type": "execute_result"
    }
   ],
   "source": [
    "np.arange(0,np.math.factorial(8)+1,np.math.factorial(7))"
   ]
  },
  {
   "cell_type": "code",
   "execution_count": 136,
   "metadata": {
    "collapsed": false
   },
   "outputs": [],
   "source": [
    "stList.burstDetector(minTime=10)"
   ]
  },
  {
   "cell_type": "code",
   "execution_count": 137,
   "metadata": {
    "collapsed": false
   },
   "outputs": [],
   "source": [
    "BTm = np.array([])\n"
   ]
  },
  {
   "cell_type": "code",
   "execution_count": 142,
   "metadata": {
    "collapsed": false
   },
   "outputs": [
    {
     "data": {
      "image/png": "[encoded data removed]",
      "text/plain": [
       "<matplotlib.figure.Figure at 0x7f139bfc9a10>"
      ]
     },
     "metadata": {},
     "output_type": "display_data"
    }
   ],
   "source": [
    "pl.hist([BTC,BTm],bins);"
   ]
  },
  {
   "cell_type": "code",
   "execution_count": 99,
   "metadata": {
    "collapsed": false
   },
   "outputs": [
    {
     "data": {
      "text/plain": [
       "0"
      ]
     },
     "execution_count": 99,
     "metadata": {},
     "output_type": "execute_result"
    }
   ],
   "source": [
    "spikes.summedSpikeTrain.max()"
   ]
  },
  {
   "cell_type": "code",
   "execution_count": 141,
   "metadata": {
    "collapsed": false
   },
   "outputs": [
    {
     "data": {
      "text/plain": [
       "array([ 0,  1,  2,  3,  4,  5,  6,  7,  8,  9, 10, 11, 12, 13, 14, 15, 16,\n",
       "       17, 18, 19, 20, 21, 22, 23])"
      ]
     },
     "execution_count": 141,
     "metadata": {},
     "output_type": "execute_result"
    }
   ],
   "source": [
    "spikesControl.id_list"
   ]
  },
  {
   "cell_type": "code",
   "execution_count": null,
   "metadata": {
    "collapsed": false
   },
   "outputs": [],
   "source": []
  },
  {
   "cell_type": "code",
   "execution_count": 7,
   "metadata": {
    "collapsed": false
   },
   "outputs": [],
   "source": [
    "sqz = pkl.load(open(sqz,'rb'))\n",
    "seqz = [sqz[ii][:,0] for ii,sq in enumerate(sqz)]\n",
    "mua = pkl.load(open(mua,'rb'))\n",
    "#muaz = [mua[ii][:,0] for ii,mu in enumerate(mua)]\n",
    "leftFields = np.array([4,8,6,22])"
   ]
  },
  {
   "cell_type": "code",
   "execution_count": 74,
   "metadata": {
    "collapsed": false
   },
   "outputs": [
    {
     "ename": "NameError",
     "evalue": "name 'seqz' is not defined",
     "output_type": "error",
     "traceback": [
      "\u001b[1;31m---------------------------------------------------------------------------\u001b[0m\n\u001b[1;31mNameError\u001b[0m                                 Traceback (most recent call last)",
      "\u001b[1;32m<ipython-input-74-6920454e1bf6>\u001b[0m in \u001b[0;36m<module>\u001b[1;34m()\u001b[0m\n\u001b[0;32m      1\u001b[0m \u001b[0mPLrankCorrLPre\u001b[0m \u001b[1;33m=\u001b[0m \u001b[1;33m[\u001b[0m\u001b[1;33m]\u001b[0m\u001b[1;33m\u001b[0m\u001b[0m\n\u001b[1;32m----> 2\u001b[1;33m \u001b[1;32mfor\u001b[0m \u001b[0mii\u001b[0m\u001b[1;33m,\u001b[0m\u001b[0mitem\u001b[0m \u001b[1;32min\u001b[0m \u001b[0menumerate\u001b[0m\u001b[1;33m(\u001b[0m\u001b[0mseqz\u001b[0m\u001b[1;33m)\u001b[0m\u001b[1;33m:\u001b[0m\u001b[1;33m\u001b[0m\u001b[0m\n\u001b[0m\u001b[0;32m      3\u001b[0m     \u001b[1;32mif\u001b[0m \u001b[0msubsequence\u001b[0m\u001b[1;33m(\u001b[0m\u001b[0mitem\u001b[0m\u001b[1;33m,\u001b[0m\u001b[0mleftFields\u001b[0m\u001b[1;33m)\u001b[0m\u001b[1;33m[\u001b[0m\u001b[1;36m1\u001b[0m\u001b[1;33m]\u001b[0m \u001b[1;32mand\u001b[0m \u001b[0msubsequence\u001b[0m\u001b[1;33m(\u001b[0m\u001b[0mitem\u001b[0m\u001b[1;33m,\u001b[0m\u001b[0mleftFields\u001b[0m\u001b[1;33m)\u001b[0m\u001b[1;33m[\u001b[0m\u001b[1;36m0\u001b[0m\u001b[1;33m]\u001b[0m\u001b[1;33m.\u001b[0m\u001b[0msize\u001b[0m \u001b[1;33m>\u001b[0m \u001b[1;36m0\u001b[0m\u001b[1;33m:\u001b[0m\u001b[1;33m\u001b[0m\u001b[0m\n\u001b[0;32m      4\u001b[0m         \u001b[1;32mprint\u001b[0m \u001b[0mitem\u001b[0m\u001b[1;33m\u001b[0m\u001b[0m\n\u001b[0;32m      5\u001b[0m         \u001b[0mcorrPL\u001b[0m \u001b[1;33m=\u001b[0m  \u001b[0mscipy\u001b[0m\u001b[1;33m.\u001b[0m\u001b[0mstats\u001b[0m\u001b[1;33m.\u001b[0m\u001b[0mpearsonr\u001b[0m\u001b[1;33m(\u001b[0m\u001b[0msubsequence\u001b[0m\u001b[1;33m(\u001b[0m\u001b[0mitem\u001b[0m\u001b[1;33m,\u001b[0m\u001b[0mleftFields\u001b[0m\u001b[1;33m)\u001b[0m\u001b[1;33m[\u001b[0m\u001b[1;36m0\u001b[0m\u001b[1;33m]\u001b[0m\u001b[1;33m,\u001b[0m\u001b[0msorted\u001b[0m\u001b[1;33m(\u001b[0m\u001b[0msubsequence\u001b[0m\u001b[1;33m(\u001b[0m\u001b[0mitem\u001b[0m\u001b[1;33m,\u001b[0m\u001b[0mleftFields\u001b[0m\u001b[1;33m)\u001b[0m\u001b[1;33m[\u001b[0m\u001b[1;36m0\u001b[0m\u001b[1;33m]\u001b[0m\u001b[1;33m)\u001b[0m\u001b[1;33m)\u001b[0m\u001b[1;33m\u001b[0m\u001b[0m\n",
      "\u001b[1;31mNameError\u001b[0m: name 'seqz' is not defined"
     ]
    }
   ],
   "source": [
    "PLrankCorrLPre = []\n",
    "for ii,item in enumerate(seqz):\n",
    "    if subsequence(item,leftFields)[1] and subsequence(item,leftFields)[0].size > 0:\n",
    "        print item\n",
    "        corrPL =  scipy.stats.pearsonr(subsequence(item,leftFields)[0],sorted(subsequence(item,leftFields)[0]))\n",
    "        PLrankCorrLPre.append(corrPL)"
   ]
  },
  {
   "cell_type": "code",
   "execution_count": 10,
   "metadata": {
    "collapsed": false
   },
   "outputs": [
    {
     "data": {
      "image/png": "[encoded data removed]",
      "text/plain": [
       "<matplotlib.figure.Figure at 0x7f314c0432d0>"
      ]
     },
     "metadata": {},
     "output_type": "display_data"
    }
   ],
   "source": [
    "f,(ax1,ax2) = pl.subplots(1,2,figsize=[20,5],sharex=True,sharey=True)\n",
    "bins = np.arange(-1.0,1,0.05)\n",
    "ax1.hist(np.array(PLrankCorrLPre)[:,0],bins,normed=True);\n",
    "ax2.hist(permsCorr,bins,normed=True);"
   ]
  },
  {
   "cell_type": "code",
   "execution_count": 11,
   "metadata": {
    "collapsed": false
   },
   "outputs": [],
   "source": [
    "sqzSize = []\n",
    "cellHist = np.zeros(25)\n",
    "for item in seqz:\n",
    "    for cellTag in item:\n",
    "        cellHist[cellTag] +=1"
   ]
  },
  {
   "cell_type": "code",
   "execution_count": 9,
   "metadata": {
    "collapsed": false
   },
   "outputs": [
    {
     "name": "stdout",
     "output_type": "stream",
     "text": [
      "part one --> 0.000148\n",
      "part two --> 0.000417\n",
      "part three --> 0.000214\n"
     ]
    }
   ],
   "source": [
    "perms = all_permutations([range(3)])[0][0]\n",
    "permsCorr = [scipy.stats.pearsonr(perm,perms[0])[0] for perm in perms ]"
   ]
  }
 ],
 "metadata": {
  "kernelspec": {
   "display_name": "Python 2",
   "language": "python",
   "name": "python2"
  },
  "language_info": {
   "codemirror_mode": {
    "name": "ipython",
    "version": 2
   },
   "file_extension": ".py",
   "mimetype": "text/x-python",
   "name": "python",
   "nbconvert_exporter": "python",
   "pygments_lexer": "ipython2",
   "version": "2.7.11"
  }
 },
 "nbformat": 4,
 "nbformat_minor": 0
}
