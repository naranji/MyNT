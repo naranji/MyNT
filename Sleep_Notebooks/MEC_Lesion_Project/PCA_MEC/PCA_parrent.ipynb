{
 "cells": [
  {
   "cell_type": "code",
   "execution_count": 59,
   "metadata": {
    "collapsed": false
   },
   "outputs": [
    {
     "name": "stdout",
     "output_type": "stream",
     "text": [
      "/mnt/Data/Workspaces/Eclipse/dataAnalysis/Sleep-current\n"
     ]
    }
   ],
   "source": [
    "cd /mnt/Data/Workspaces/Eclipse/dataAnalysis/Sleep-current/"
   ]
  },
  {
   "cell_type": "code",
   "execution_count": 60,
   "metadata": {
    "collapsed": false
   },
   "outputs": [],
   "source": [
    "import sys\n",
    "extraPaths=[\"/home/chenani/pypacks/lib/python2.7/site-packages\",\n",
    "    \"/mnt/Data/Scripts/Sleep-Oct14/src/\",\n",
    "    \"/home/haas/.local/lib/\"]\n",
    "for p in extraPaths:\n",
    "    if not sys.path.count(p):\n",
    "        sys.path.insert(1, p)\n"
   ]
  },
  {
   "cell_type": "code",
   "execution_count": 61,
   "metadata": {
    "collapsed": false
   },
   "outputs": [
    {
     "name": "stdout",
     "output_type": "stream",
     "text": [
      "The autoreload extension is already loaded. To reload it, use:\n",
      "  %reload_ext autoreload\n"
     ]
    }
   ],
   "source": [
    "%matplotlib inline\n",
    "%load_ext autoreload\n",
    "%autoreload 2\n",
    "import numpy as np\n",
    "import matplotlib.pyplot as pl\n",
    "import pickle as pkl\n",
    "import Recordings\n",
    "import signale,trajectory\n",
    "import extras.trees\n",
    "import os\n",
    "import fnmatch"
   ]
  },
  {
   "cell_type": "markdown",
   "metadata": {},
   "source": [
    "#### Loading engine for T files"
   ]
  },
  {
   "cell_type": "code",
   "execution_count": 62,
   "metadata": {
    "collapsed": false
   },
   "outputs": [],
   "source": [
    "###################################################### initialization\n",
    "###################################################### Parameters\n",
    "expType = 'real'\n",
    "prefix = ''\n",
    "suffix = ''\n",
    "noSpeck = False\n",
    "onlyRunning = True\n",
    "showHeadDir = False\n",
    "saveFigs = True\n",
    "useRecommended = False\n",
    "TTName = '.t'\n",
    "\n",
    "# initialize in order to make them available globally\n",
    "spikes=[]\n",
    "ID=-1\n",
    "stList=signale.spikezugList(t_start=None, t_stop=None, dims=[2])\n",
    "traj = None\n",
    "eventData = None\n",
    "\n",
    "cwd=os.getcwd()\n",
    "\n",
    "\n",
    "###################################################### functions\n",
    "\n",
    "def getData(folderName):\n",
    "    global spikes, ID, traj, eventData\n",
    "\n",
    "    if os.path.isdir(folderName):\n",
    "        dirList=os.listdir(folderName)\n",
    "        os.chdir(folderName)\n",
    "    else:\n",
    "        dirList = [folderName]\n",
    "    for item in sorted(dirList):\n",
    "        if os.path.isfile(item):\n",
    "            if (TTName.__class__ == list and item in TTName) or\\\n",
    "                    (TTName.__class__ == str and item.endswith(suffix+'.t') and item.startswith(prefix)):\n",
    "                print 'loading', item , 'from folder: '+folderName\n",
    "                spikes = signale.load_tFile(item, showHeader=False)\n",
    "                ID += 1\n",
    "                stList.__setitem__(ID, spikes)\n",
    "                stList.addTags(ID, file=item, dir=folderName)\n",
    "            # real\n",
    "            elif expType == 'real':\n",
    "                if item.endswith('.nvt'):   ## or item.endswith('2.ncs'):\n",
    "                    print 'loading', item , 'from folder: '+folderName\n",
    "                    loadedSomething = True\n",
    "                    traj = trajectory.load_nvtFile(item, 'linearMaze', showHeader=False)\n",
    "                    HDtraj = traj[1]        # head direction\n",
    "                    traj = traj[0]          # trajectory\n",
    "        elif os.path.isdir(item):\n",
    "            getData(item)\n",
    "    os.chdir('..')\n"
   ]
  },
  {
   "cell_type": "code",
   "execution_count": 63,
   "metadata": {
    "collapsed": false
   },
   "outputs": [],
   "source": [
    "def locate(pattern, root=os.curdir):\n",
    "    '''\n",
    "    Locate all files matching supplied filename pattern in and below\n",
    "        supplied root directory.\n",
    "    Parameters\n",
    "    ----------\n",
    "        pattern : string\n",
    "            A string representing pattern you want to look for in the path.\n",
    "        root : string\n",
    "            contains the path address you want to look trough!\n",
    "    Returns\n",
    "    ----------\n",
    "        Array of strings consist of two column, first contains the path and second the file names that matched \n",
    "        the desired pattern.\n",
    "    '''\n",
    "    for path, dirs, files in os.walk(os.path.abspath(root)):\n",
    "        for filename in fnmatch.filter(files, pattern):\n",
    "            yield [path,filename]\n",
    "\n",
    "def nvt_loader(filename):\n",
    "    \"\"\" \n",
    "    Memory map the Neuralynx .nvt format\n",
    "    Fields\n",
    "    -------\n",
    "    swstx\n",
    "    swid\n",
    "    sw_data_size\n",
    "    qTimeStamps       Cheetah timestamp for this record. This value is in microseconds.\n",
    "    dwpoints          Points with the color bitfield values for this record.This is a 400\n",
    "                      element array.  See Video Tracker in reference. \n",
    "    sncrc\n",
    "    dnextracted_x     Extracted X location of the target being tracked. \n",
    "    dnextracted_y     Extracted Y location of the target being tracked.\n",
    "    dnextracted_angle The calculated head angle in degrees clockwise from the positive Y\n",
    "                      axis. Zero will be assigned if angle tracking is disabled.\n",
    "    dnTargets         Colored targets using the samebitfield format used by the dwPoints array.\n",
    "                      Instead of transitions, the bitfield indicates the colors that make up \n",
    "                      each particular target and the center point of that target.  This is a 50\n",
    "                      element array sorted by size from largest (index 0) to smallest(index 49).\n",
    "                      A target value of 0 means that no target is present in thatindex location.\n",
    "                      See Video Tracker Bitfield Information in reference. \n",
    "    \n",
    "    Reference:\n",
    "    ----------\n",
    "        http://neuralynx.com/software/NeuralynxDataFileFormats.pdf\n",
    "    \"\"\" \n",
    "    nev_dtype = np.dtype([\n",
    "        ('swstx'              , '<i2'),\n",
    "        ('swid'               , '<i2'),\n",
    "        ('sw_data_size'       , '<i2'),\n",
    "        ('qTimeStamps'        , '<u8'),\n",
    "        ('dwPoints'           , '<u4',(400,)),\n",
    "        ('sncrc'              , '<i2'),\n",
    "        ('dnextracted_x'      , '<i4'),\n",
    "        ('dnextracted_y'      , '<i4'),\n",
    "        ('dnextracted_angle'  , '<i4'),\n",
    "        ('dnTargets'          , '<i4',(50,)),\n",
    "    ])\n",
    "    return np.memmap(filename, dtype=nev_dtype, mode='readwrite',\n",
    "       offset=(16 * 2**10))\n",
    "def nev_loader(filename):\n",
    "    \"\"\" Memory map the Neuralynx .nev format \"\"\" \n",
    "    nev_dtype = np.dtype([\n",
    "        ('nstx'           , '<i2'),\n",
    "        ('npkt_id'        , '<i2'),\n",
    "        ('npkt_data_size' , '<i2'),\n",
    "        ('qTimeStamps'    , '<u8'),\n",
    "        ('nevent_id'      , '<i2'),\n",
    "        ('nttl'           , '<i2'),\n",
    "        ('ncrc'           , '<i2'),\n",
    "        ('ndummy1'        , '<i2'),\n",
    "        ('ndummy2'        , '<i2'),\n",
    "        ('dnExtra'        , '<i4',(8,)),\n",
    "        ('String'         , '<S128')\n",
    "    ])\n",
    "    return np.memmap(filename, dtype=nev_dtype, mode='r',\n",
    "       offset=(16 * 2**10))"
   ]
  },
  {
   "cell_type": "code",
   "execution_count": 64,
   "metadata": {
    "collapsed": true
   },
   "outputs": [],
   "source": [
    "traj = None\n",
    "HDtraj = None\n",
    "def getTraj(trajFile):\n",
    "    global traj\n",
    "    global HDtraj\n",
    "    print 'loading', trajFile\n",
    "    traj = trajectory.load_nvtFile(trajFile, 'linearMaze', showHeader=False)\n",
    "    HDtraj = traj[1]        # head direction\n",
    "    traj = traj[0]          # trajectory"
   ]
  },
  {
   "cell_type": "code",
   "execution_count": 65,
   "metadata": {
    "collapsed": false
   },
   "outputs": [
    {
     "name": "stdout",
     "output_type": "stream",
     "text": [
      "[]\n"
     ]
    }
   ],
   "source": [
    "vtList = sorted([os.path.join(item[0],item[1]) for item in locate('*.nvt',rat3656D1)])\n",
    "vtList = [item for item in vtList if item.split('/')[-2].startswith('0') ]\n",
    "print vtList\n",
    "#getTraj(rat3656D1)"
   ]
  },
  {
   "cell_type": "code",
   "execution_count": 66,
   "metadata": {
    "collapsed": false
   },
   "outputs": [],
   "source": [
    "WorkPath = '/mnt/Data/IpythonNotebooks/PCA_MEC/'\n",
    "rat3656D1 = '/home/chenani/dataWork/ali/MECLesion_SleepData/Marta/Rat3656/LinearTrack_03-03-2015_Day1/parrentData/'"
   ]
  },
  {
   "cell_type": "code",
   "execution_count": 67,
   "metadata": {
    "collapsed": false,
    "scrolled": false
   },
   "outputs": [
    {
     "name": "stdout",
     "output_type": "stream",
     "text": [
      "loading PL-TT9_01.t from folder: /home/chenani/dataWork/ali/MECLesion_SleepData/Marta/Rat3656/LinearTrack_03-03-2015_Day1/parrentData/\n",
      "loading TT10_01.t from folder: /home/chenani/dataWork/ali/MECLesion_SleepData/Marta/Rat3656/LinearTrack_03-03-2015_Day1/parrentData/\n",
      "loading TT10_02.t from folder: /home/chenani/dataWork/ali/MECLesion_SleepData/Marta/Rat3656/LinearTrack_03-03-2015_Day1/parrentData/\n",
      "loading TT10_03.t from folder: /home/chenani/dataWork/ali/MECLesion_SleepData/Marta/Rat3656/LinearTrack_03-03-2015_Day1/parrentData/\n",
      "loading TT10_04.t from folder: /home/chenani/dataWork/ali/MECLesion_SleepData/Marta/Rat3656/LinearTrack_03-03-2015_Day1/parrentData/\n",
      "loading TT10_05.t from folder: /home/chenani/dataWork/ali/MECLesion_SleepData/Marta/Rat3656/LinearTrack_03-03-2015_Day1/parrentData/\n",
      "loading TT10_06.t from folder: /home/chenani/dataWork/ali/MECLesion_SleepData/Marta/Rat3656/LinearTrack_03-03-2015_Day1/parrentData/\n",
      "loading TT10_07.t from folder: /home/chenani/dataWork/ali/MECLesion_SleepData/Marta/Rat3656/LinearTrack_03-03-2015_Day1/parrentData/\n",
      "loading TT10_08.t from folder: /home/chenani/dataWork/ali/MECLesion_SleepData/Marta/Rat3656/LinearTrack_03-03-2015_Day1/parrentData/\n",
      "loading TT10_09.t from folder: /home/chenani/dataWork/ali/MECLesion_SleepData/Marta/Rat3656/LinearTrack_03-03-2015_Day1/parrentData/\n",
      "loading TT10_10.t from folder: /home/chenani/dataWork/ali/MECLesion_SleepData/Marta/Rat3656/LinearTrack_03-03-2015_Day1/parrentData/\n",
      "loading TT10_11.t from folder: /home/chenani/dataWork/ali/MECLesion_SleepData/Marta/Rat3656/LinearTrack_03-03-2015_Day1/parrentData/\n",
      "loading TT10_12.t from folder: /home/chenani/dataWork/ali/MECLesion_SleepData/Marta/Rat3656/LinearTrack_03-03-2015_Day1/parrentData/\n",
      "loading TT10_13.t from folder: /home/chenani/dataWork/ali/MECLesion_SleepData/Marta/Rat3656/LinearTrack_03-03-2015_Day1/parrentData/\n",
      "loading TT1_01.t from folder: /home/chenani/dataWork/ali/MECLesion_SleepData/Marta/Rat3656/LinearTrack_03-03-2015_Day1/parrentData/\n",
      "loading TT1_02.t from folder: /home/chenani/dataWork/ali/MECLesion_SleepData/Marta/Rat3656/LinearTrack_03-03-2015_Day1/parrentData/\n",
      "loading TT1_03.t from folder: /home/chenani/dataWork/ali/MECLesion_SleepData/Marta/Rat3656/LinearTrack_03-03-2015_Day1/parrentData/\n",
      "loading TT1_04.t from folder: /home/chenani/dataWork/ali/MECLesion_SleepData/Marta/Rat3656/LinearTrack_03-03-2015_Day1/parrentData/\n",
      "loading TT1_05.t from folder: /home/chenani/dataWork/ali/MECLesion_SleepData/Marta/Rat3656/LinearTrack_03-03-2015_Day1/parrentData/\n",
      "loading TT1_06.t from folder: /home/chenani/dataWork/ali/MECLesion_SleepData/Marta/Rat3656/LinearTrack_03-03-2015_Day1/parrentData/\n",
      "loading TT1_07.t from folder: /home/chenani/dataWork/ali/MECLesion_SleepData/Marta/Rat3656/LinearTrack_03-03-2015_Day1/parrentData/\n",
      "loading TT1_08.t from folder: /home/chenani/dataWork/ali/MECLesion_SleepData/Marta/Rat3656/LinearTrack_03-03-2015_Day1/parrentData/\n",
      "loading TT1_09.t from folder: /home/chenani/dataWork/ali/MECLesion_SleepData/Marta/Rat3656/LinearTrack_03-03-2015_Day1/parrentData/\n",
      "loading TT1_10.t from folder: /home/chenani/dataWork/ali/MECLesion_SleepData/Marta/Rat3656/LinearTrack_03-03-2015_Day1/parrentData/\n",
      "loading TT1_11.t from folder: /home/chenani/dataWork/ali/MECLesion_SleepData/Marta/Rat3656/LinearTrack_03-03-2015_Day1/parrentData/\n",
      "loading TT1_12.t from folder: /home/chenani/dataWork/ali/MECLesion_SleepData/Marta/Rat3656/LinearTrack_03-03-2015_Day1/parrentData/\n",
      "loading TT2_01.t from folder: /home/chenani/dataWork/ali/MECLesion_SleepData/Marta/Rat3656/LinearTrack_03-03-2015_Day1/parrentData/\n",
      "loading TT2_02.t from folder: /home/chenani/dataWork/ali/MECLesion_SleepData/Marta/Rat3656/LinearTrack_03-03-2015_Day1/parrentData/\n",
      "loading TT2_03.t from folder: /home/chenani/dataWork/ali/MECLesion_SleepData/Marta/Rat3656/LinearTrack_03-03-2015_Day1/parrentData/\n",
      "loading TT2_05.t from folder: /home/chenani/dataWork/ali/MECLesion_SleepData/Marta/Rat3656/LinearTrack_03-03-2015_Day1/parrentData/\n",
      "loading TT9_01.t from folder: /home/chenani/dataWork/ali/MECLesion_SleepData/Marta/Rat3656/LinearTrack_03-03-2015_Day1/parrentData/\n",
      "loading TT9_02.t from folder: /home/chenani/dataWork/ali/MECLesion_SleepData/Marta/Rat3656/LinearTrack_03-03-2015_Day1/parrentData/\n",
      "loading TT9_03.t from folder: /home/chenani/dataWork/ali/MECLesion_SleepData/Marta/Rat3656/LinearTrack_03-03-2015_Day1/parrentData/\n",
      "loading TT9_04.t from folder: /home/chenani/dataWork/ali/MECLesion_SleepData/Marta/Rat3656/LinearTrack_03-03-2015_Day1/parrentData/\n",
      "loading VT1.nvt from folder: /home/chenani/dataWork/ali/MECLesion_SleepData/Marta/Rat3656/LinearTrack_03-03-2015_Day1/parrentData/\n",
      "loading pl-TT10_01.t from folder: /home/chenani/dataWork/ali/MECLesion_SleepData/Marta/Rat3656/LinearTrack_03-03-2015_Day1/parrentData/\n",
      "loading pl-TT10_02.t from folder: /home/chenani/dataWork/ali/MECLesion_SleepData/Marta/Rat3656/LinearTrack_03-03-2015_Day1/parrentData/\n",
      "loading pl-TT10_05.t from folder: /home/chenani/dataWork/ali/MECLesion_SleepData/Marta/Rat3656/LinearTrack_03-03-2015_Day1/parrentData/\n",
      "loading pl-TT10_10.t from folder: /home/chenani/dataWork/ali/MECLesion_SleepData/Marta/Rat3656/LinearTrack_03-03-2015_Day1/parrentData/\n",
      "loading pl-TT10_11.t from folder: /home/chenani/dataWork/ali/MECLesion_SleepData/Marta/Rat3656/LinearTrack_03-03-2015_Day1/parrentData/\n",
      "loading pl-TT10_12.t from folder: /home/chenani/dataWork/ali/MECLesion_SleepData/Marta/Rat3656/LinearTrack_03-03-2015_Day1/parrentData/\n",
      "loading pl-TT1_01.t from folder: /home/chenani/dataWork/ali/MECLesion_SleepData/Marta/Rat3656/LinearTrack_03-03-2015_Day1/parrentData/\n",
      "loading pl-TT1_03.t from folder: /home/chenani/dataWork/ali/MECLesion_SleepData/Marta/Rat3656/LinearTrack_03-03-2015_Day1/parrentData/\n",
      "loading pl-TT1_06.t from folder: /home/chenani/dataWork/ali/MECLesion_SleepData/Marta/Rat3656/LinearTrack_03-03-2015_Day1/parrentData/\n",
      "loading pl-TT1_07.t from folder: /home/chenani/dataWork/ali/MECLesion_SleepData/Marta/Rat3656/LinearTrack_03-03-2015_Day1/parrentData/\n",
      "loading pl-TT1_09.t from folder: /home/chenani/dataWork/ali/MECLesion_SleepData/Marta/Rat3656/LinearTrack_03-03-2015_Day1/parrentData/\n",
      "loading pl-TT1_11.t from folder: /home/chenani/dataWork/ali/MECLesion_SleepData/Marta/Rat3656/LinearTrack_03-03-2015_Day1/parrentData/\n",
      "loading pl-TT2_04.t from folder: /home/chenani/dataWork/ali/MECLesion_SleepData/Marta/Rat3656/LinearTrack_03-03-2015_Day1/parrentData/\n"
     ]
    }
   ],
   "source": [
    "getData(rat3656D1)\n",
    "events = nev_loader(rat3656D1+'Events.nev')"
   ]
  },
  {
   "cell_type": "code",
   "execution_count": 68,
   "metadata": {
    "collapsed": false
   },
   "outputs": [
    {
     "name": "stdout",
     "output_type": "stream",
     "text": [
      "sleep1 --- 1382503.774 --- 5684.652\n",
      "endsleep1 --- 4985406.539 --- 3602902.765\n",
      "Stopping Recording --- 4990462.122 --- 5055.583\n",
      "Starting Recording --- 3573599.092 --- 1.84467440723e+16\n",
      "begin1 --- 3597302.762 --- 23703.67\n",
      "end1 --- 5396764.144 --- 1799461.382\n",
      "Starting Recording --- 7657734.897 --- 2260970.753\n",
      "sleep2 --- 7660989.797 --- 3254.9\n",
      "endsleep2 --- 11260734.079 --- 3599744.282\n",
      "Stopping Recording --- 11262174.897 --- 1440.818\n"
     ]
    }
   ],
   "source": [
    "for ii in range (1,len(events)):\n",
    "    print '%s --- %s --- %s' %(events[ii]['String'],events[ii]['qTimeStamps']/1e3,np.diff(events['qTimeStamps'])[ii-1]/1e3,) "
   ]
  },
  {
   "cell_type": "code",
   "execution_count": 69,
   "metadata": {
    "collapsed": false
   },
   "outputs": [
    {
     "data": {
      "text/plain": [
       "5440062.9520000005"
      ]
     },
     "execution_count": 69,
     "metadata": {},
     "output_type": "execute_result"
    }
   ],
   "source": [
    "3602902.765 + 5684.652 +5055.583 +23703.67 + 1799461.382 +3254.9"
   ]
  },
  {
   "cell_type": "code",
   "execution_count": 70,
   "metadata": {
    "collapsed": false
   },
   "outputs": [
    {
     "data": {
      "text/plain": [
       "4990462122"
      ]
     },
     "execution_count": 70,
     "metadata": {},
     "output_type": "execute_result"
    }
   ],
   "source": [
    "4990462122"
   ]
  },
  {
   "cell_type": "code",
   "execution_count": 71,
   "metadata": {
    "collapsed": false
   },
   "outputs": [],
   "source": [
    "pre = stList.time_slice(5685,3608587)\n",
    "track = stList.time_slice(3637347,5436808)\n",
    "post = stList.time_slice(5440063,stList.t_stop)"
   ]
  },
  {
   "cell_type": "code",
   "execution_count": 72,
   "metadata": {
    "collapsed": false
   },
   "outputs": [],
   "source": [
    "ExperimentSessions = [pre,track,post]\n",
    "for item in ExperimentSessions:\n",
    "    item.timeAxis = item.time_axis(1)"
   ]
  },
  {
   "cell_type": "code",
   "execution_count": 73,
   "metadata": {
    "collapsed": false
   },
   "outputs": [
    {
     "ename": "SyntaxError",
     "evalue": "invalid syntax (<ipython-input-73-f91ffc29cead>, line 1)",
     "output_type": "error",
     "traceback": [
      "\u001b[1;36m  File \u001b[1;32m\"<ipython-input-73-f91ffc29cead>\"\u001b[1;36m, line \u001b[1;32m1\u001b[0m\n\u001b[1;33m    signale.spikezugList.\u001b[0m\n\u001b[1;37m                         ^\u001b[0m\n\u001b[1;31mSyntaxError\u001b[0m\u001b[1;31m:\u001b[0m invalid syntax\n"
     ]
    }
   ],
   "source": [
    "signale.spikezug."
   ]
  },
  {
   "cell_type": "code",
   "execution_count": 56,
   "metadata": {
    "collapsed": false
   },
   "outputs": [
    {
     "ename": "AttributeError",
     "evalue": "'spikezugList' object has no attribute 'PCA'",
     "output_type": "error",
     "traceback": [
      "\u001b[1;31m---------------------------------------------------------------------------\u001b[0m",
      "\u001b[1;31mAttributeError\u001b[0m                            Traceback (most recent call last)",
      "\u001b[1;32m<ipython-input-56-3610ec623c38>\u001b[0m in \u001b[0;36m<module>\u001b[1;34m()\u001b[0m\n\u001b[0;32m      5\u001b[0m \u001b[0mPs\u001b[0m \u001b[1;33m=\u001b[0m \u001b[1;33m[\u001b[0m\u001b[1;33m]\u001b[0m\u001b[1;33m\u001b[0m\u001b[0m\n\u001b[0;32m      6\u001b[0m \u001b[1;32mfor\u001b[0m \u001b[0mitem\u001b[0m \u001b[1;32min\u001b[0m \u001b[0mExperimentSessions\u001b[0m\u001b[1;33m:\u001b[0m\u001b[1;33m\u001b[0m\u001b[0m\n\u001b[1;32m----> 7\u001b[1;33m     \u001b[0mQ\u001b[0m\u001b[1;33m,\u001b[0m\u001b[0mC\u001b[0m\u001b[1;33m,\u001b[0m\u001b[0ml\u001b[0m\u001b[1;33m,\u001b[0m\u001b[0mV\u001b[0m\u001b[1;33m,\u001b[0m\u001b[0mP\u001b[0m \u001b[1;33m=\u001b[0m \u001b[0mitem\u001b[0m\u001b[1;33m.\u001b[0m\u001b[0mPCA\u001b[0m\u001b[1;33m(\u001b[0m\u001b[1;33m)\u001b[0m\u001b[1;33m\u001b[0m\u001b[0m\n\u001b[0m\u001b[0;32m      8\u001b[0m     \u001b[0mcorrMatrices\u001b[0m\u001b[1;33m.\u001b[0m\u001b[0mappend\u001b[0m\u001b[1;33m(\u001b[0m\u001b[0mC\u001b[0m\u001b[1;33m)\u001b[0m\u001b[1;33m\u001b[0m\u001b[0m\n\u001b[0;32m      9\u001b[0m     \u001b[0mQs\u001b[0m\u001b[1;33m.\u001b[0m\u001b[0mappend\u001b[0m\u001b[1;33m(\u001b[0m\u001b[0mQ\u001b[0m\u001b[1;33m)\u001b[0m\u001b[1;33m\u001b[0m\u001b[0m\n",
      "\u001b[1;31mAttributeError\u001b[0m: 'spikezugList' object has no attribute 'PCA'"
     ]
    }
   ],
   "source": [
    "corrMatrices = []\n",
    "Qs = []\n",
    "eigVals = []\n",
    "eigVecs = []\n",
    "Ps = []\n",
    "for item in ExperimentSessions:\n",
    "    Q,C,l,V,P = item.PCA()\n",
    "    corrMatrices.append(C)\n",
    "    Qs.append(Q)\n",
    "    eigVals.append(l)\n",
    "    eigVecs.append(V)\n",
    "    Ps.append(P)"
   ]
  },
  {
   "cell_type": "code",
   "execution_count": 55,
   "metadata": {
    "collapsed": false
   },
   "outputs": [
    {
     "ename": "IndexError",
     "evalue": "list index out of range",
     "output_type": "error",
     "traceback": [
      "\u001b[1;31m---------------------------------------------------------------------------\u001b[0m",
      "\u001b[1;31mIndexError\u001b[0m                                Traceback (most recent call last)",
      "\u001b[1;32m<ipython-input-55-bd955f0504fe>\u001b[0m in \u001b[0;36m<module>\u001b[1;34m()\u001b[0m\n\u001b[0;32m      1\u001b[0m \u001b[0mf\u001b[0m\u001b[1;33m,\u001b[0m\u001b[1;33m(\u001b[0m\u001b[0max1\u001b[0m\u001b[1;33m,\u001b[0m\u001b[0max2\u001b[0m\u001b[1;33m,\u001b[0m\u001b[0max3\u001b[0m\u001b[1;33m)\u001b[0m \u001b[1;33m=\u001b[0m \u001b[0mpl\u001b[0m\u001b[1;33m.\u001b[0m\u001b[0msubplots\u001b[0m\u001b[1;33m(\u001b[0m\u001b[1;36m1\u001b[0m\u001b[1;33m,\u001b[0m\u001b[1;36m3\u001b[0m\u001b[1;33m,\u001b[0m\u001b[0mfigsize\u001b[0m\u001b[1;33m=\u001b[0m\u001b[1;33m[\u001b[0m\u001b[1;36m20\u001b[0m\u001b[1;33m,\u001b[0m\u001b[1;36m5\u001b[0m\u001b[1;33m]\u001b[0m\u001b[1;33m)\u001b[0m\u001b[1;33m\u001b[0m\u001b[0m\n\u001b[1;32m----> 2\u001b[1;33m \u001b[0mim1\u001b[0m \u001b[1;33m=\u001b[0m \u001b[0max1\u001b[0m\u001b[1;33m.\u001b[0m\u001b[0mimshow\u001b[0m\u001b[1;33m(\u001b[0m\u001b[0mcorrMatrices\u001b[0m\u001b[1;33m[\u001b[0m\u001b[1;36m0\u001b[0m\u001b[1;33m]\u001b[0m\u001b[1;33m)\u001b[0m\u001b[1;33m;\u001b[0m\u001b[1;33m\u001b[0m\u001b[0m\n\u001b[0m\u001b[0;32m      3\u001b[0m \u001b[0mim2\u001b[0m \u001b[1;33m=\u001b[0m \u001b[0max2\u001b[0m\u001b[1;33m.\u001b[0m\u001b[0mimshow\u001b[0m\u001b[1;33m(\u001b[0m\u001b[0mcorrMatrices\u001b[0m\u001b[1;33m[\u001b[0m\u001b[1;36m1\u001b[0m\u001b[1;33m]\u001b[0m\u001b[1;33m)\u001b[0m\u001b[1;33m;\u001b[0m\u001b[1;33m\u001b[0m\u001b[0m\n\u001b[0;32m      4\u001b[0m \u001b[0mim3\u001b[0m \u001b[1;33m=\u001b[0m \u001b[0max3\u001b[0m\u001b[1;33m.\u001b[0m\u001b[0mimshow\u001b[0m\u001b[1;33m(\u001b[0m\u001b[0mcorrMatrices\u001b[0m\u001b[1;33m[\u001b[0m\u001b[1;36m2\u001b[0m\u001b[1;33m]\u001b[0m\u001b[1;33m)\u001b[0m\u001b[1;33m\u001b[0m\u001b[0m\n\u001b[0;32m      5\u001b[0m \u001b[0max1\u001b[0m\u001b[1;33m.\u001b[0m\u001b[0mset_title\u001b[0m\u001b[1;33m(\u001b[0m\u001b[1;34m'Sleep PRE'\u001b[0m\u001b[1;33m)\u001b[0m\u001b[1;33m\u001b[0m\u001b[0m\n",
      "\u001b[1;31mIndexError\u001b[0m: list index out of range"
     ]
    },
    {
     "data": {
      "image/png": "[encoded data removed]",
      "text/plain": [
       "<matplotlib.figure.Figure at 0x7fa9743942d0>"
      ]
     },
     "metadata": {},
     "output_type": "display_data"
    }
   ],
   "source": [
    "f,(ax1,ax2,ax3) = pl.subplots(1,3,figsize=[20,5])\n",
    "im1 = ax1.imshow(corrMatrices[0]);\n",
    "im2 = ax2.imshow(corrMatrices[1]);\n",
    "im3 = ax3.imshow(corrMatrices[2])\n",
    "ax1.set_title('Sleep PRE')\n",
    "ax2.set_title('LinearTrack')\n",
    "ax3.set_title('Sleep POST')\n",
    "pl.colorbar(im1);"
   ]
  },
  {
   "cell_type": "code",
   "execution_count": 128,
   "metadata": {
    "collapsed": false
   },
   "outputs": [
    {
     "name": "stdout",
     "output_type": "stream",
     "text": [
      "1513260\n",
      "755790\n",
      "1518762\n"
     ]
    }
   ],
   "source": [
    "N = pre.id_list.size\n",
    "lMax = []\n",
    "for item in Qs:\n",
    "    lMax.append(np.math.pow(1 + np.math.sqrt(N/item.size),2))\n",
    "    print item.size\n",
    "TW_limit =  np.math.pow(N,-0.6666666666)"
   ]
  },
  {
   "cell_type": "code",
   "execution_count": 129,
   "metadata": {
    "collapsed": false
   },
   "outputs": [
    {
     "data": {
      "image/png": "[encoded data removed]",
      "text/plain": [
       "<matplotlib.figure.Figure at 0x7fa45159a9d0>"
      ]
     },
     "metadata": {},
     "output_type": "display_data"
    }
   ],
   "source": [
    "f,(ax1,ax2,ax3) = pl.subplots(1,3,figsize=[20,5])\n",
    "ax1.plot(eigVals[0],'.')\n",
    "#ax1.axhline(lMax[0],color = 'k')\n",
    "ax1.axhline(lMax[0]+TW_limit,color = 'r',linestyle='--')\n",
    "ax2.plot(eigVals[1],'.')\n",
    "ax2.axhline(lMax[1]+TW_limit,color = 'r',linestyle='--')\n",
    "ax3.plot(eigVals[2],'.')\n",
    "ax3.axhline(lMax[2]+TW_limit,color = 'r',linestyle='--')\n",
    "ax1.set_ylabel('EigVals PRE')\n",
    "ax1.set_xlabel('#')\n",
    "ax2.set_ylabel('EigVals LinearTrack')\n",
    "ax2.set_xlabel('#')\n",
    "ax3.set_ylabel('EigVals POST')\n",
    "ax3.set_xlabel('#')\n",
    "ax1.set_title('Sleep PRE')\n",
    "ax2.set_title('LinearTrack')\n",
    "ax3.set_title('Sleep POST')\n",
    "ax2.yaxis.label.set_color('white')\n",
    "ax2.tick_params(axis='y', colors='white')\n",
    "ax3.yaxis.label.set_color('white')\n",
    "ax3.tick_params(axis='y', colors='white')"
   ]
  },
  {
   "cell_type": "code",
   "execution_count": 130,
   "metadata": {
    "collapsed": false
   },
   "outputs": [],
   "source": [
    "Gamma = []\n",
    "for ii in range(3):\n",
    "    G = []\n",
    "    for jj in range(N):\n",
    "        G.append(eigVecs[1][jj].T.dot(corrMatrices[ii]).dot(eigVecs[1][jj]))\n",
    "    Gamma.append(np.array(G))"
   ]
  },
  {
   "cell_type": "code",
   "execution_count": 131,
   "metadata": {
    "collapsed": false
   },
   "outputs": [
    {
     "data": {
      "text/plain": [
       "(0.0827625391845857, (array([32, 33, 34, 35, 36, 37, 38, 39, 40, 41]),))"
      ]
     },
     "execution_count": 131,
     "metadata": {},
     "output_type": "execute_result"
    }
   ],
   "source": [
    "TW_limit,np.where(eigVals[2]>lMax[2]+TW_limit)"
   ]
  },
  {
   "cell_type": "code",
   "execution_count": 140,
   "metadata": {
    "collapsed": false
   },
   "outputs": [
    {
     "data": {
      "text/plain": [
       "<matplotlib.text.Text at 0x7fa44ec45450>"
      ]
     },
     "execution_count": 140,
     "metadata": {},
     "output_type": "execute_result"
    },
    {
     "data": {
      "image/png": "[encoded data removed]",
      "text/plain": [
       "<matplotlib.figure.Figure at 0x7fa44f09e510>"
      ]
     },
     "metadata": {},
     "output_type": "display_data"
    }
   ],
   "source": [
    "f,(ax1,ax2,ax3) = pl.subplots(1,3,figsize=[20,5])\n",
    "ax1.scatter(eigVals[1][32:],Gamma[0][32:])\n",
    "ax2.scatter(eigVals[1][32:],Gamma[2][32:])\n",
    "ax3.scatter(Gamma[0][32:],Gamma[2][32:])\n",
    "ax3.plot([1,3.5],[1,3.5],'k--', lw=1)\n",
    "ax1.set_ylabel('Avg Reactivation PRE')\n",
    "ax1.set_xlabel('Signal EigVals LinearTrack')\n",
    "ax2.set_ylabel('Avg Reactivation POST')\n",
    "ax2.set_xlabel('Signal EigVals LinearTrack')\n",
    "ax3.set_ylabel('Avg Reactivation POST')\n",
    "ax3.set_xlabel('Avg Reactivation PRE')\n",
    "ax1.set_title('Sleep PRE')\n",
    "ax2.set_title('Sleep POST')\n",
    "ax3.set_title('PRE vs. POST')"
   ]
  },
  {
   "cell_type": "code",
   "execution_count": 137,
   "metadata": {
    "collapsed": false
   },
   "outputs": [],
   "source": [
    "k = 0\n",
    "for ii in range(N):\n",
    "    for jj in range(N):\n",
    "        k += Qs[0][ii]*Ps[2][N - 1][ii,jj]*Qs[0][jj]\n",
    "kk = 0\n",
    "for ii in range(N):\n",
    "    for jj in range(N):\n",
    "        kk += Qs[2][ii]*Ps[2][N - 1][ii,jj]*Qs[2][jj]"
   ]
  },
  {
   "cell_type": "code",
   "execution_count": 139,
   "metadata": {
    "collapsed": false
   },
   "outputs": [
    {
     "data": {
      "text/plain": [
       "<matplotlib.legend.Legend at 0x7fa44ee30d50>"
      ]
     },
     "execution_count": 139,
     "metadata": {},
     "output_type": "execute_result"
    },
    {
     "data": {
      "image/png": "[encoded data removed]",
      "text/plain": [
       "<matplotlib.figure.Figure at 0x7fa44eef8b10>"
      ]
     },
     "metadata": {},
     "output_type": "display_data"
    }
   ],
   "source": [
    "f,(ax1,ax2) = pl.subplots(1,2,figsize=[20,5],sharey=True)\n",
    "ax1.plot(np.arange(Qs[0][1].size)/10,k)\n",
    "ax2.plot(np.arange(Qs[2][1].size)/10,kk,'g',alpha=0.6,label = 'POST')\n",
    "ax1.set_ylim([0,1200])\n",
    "ax1.set_ylabel('R(t) PRE')\n",
    "ax1.set_xlabel('time')\n",
    "ax2.set_ylabel('R(t) POST')\n",
    "ax2.set_xlabel('time')\n",
    "pl.legend()"
   ]
  },
  {
   "cell_type": "code",
   "execution_count": 142,
   "metadata": {
    "collapsed": false
   },
   "outputs": [],
   "source": [
    "reactivationStrengths = np.array([Gamma[0][32:],Gamma[2][32:]])"
   ]
  },
  {
   "cell_type": "code",
   "execution_count": 154,
   "metadata": {
    "collapsed": false
   },
   "outputs": [],
   "source": [
    "pkl.dump(reactivationStrengths,open(WorkPath+'rat3656D1.cnt','wb'),pkl.HIGHEST_PROTOCOL)"
   ]
  },
  {
   "cell_type": "code",
   "execution_count": null,
   "metadata": {
    "collapsed": false
   },
   "outputs": [],
   "source": []
  }
 ],
 "metadata": {
  "kernelspec": {
   "display_name": "Python 2",
   "language": "python",
   "name": "python2"
  },
  "language_info": {
   "codemirror_mode": {
    "name": "ipython",
    "version": 2
   },
   "file_extension": ".py",
   "mimetype": "text/x-python",
   "name": "python",
   "nbconvert_exporter": "python",
   "pygments_lexer": "ipython2",
   "version": "2.7.11"
  }
 },
 "nbformat": 4,
 "nbformat_minor": 0
}
