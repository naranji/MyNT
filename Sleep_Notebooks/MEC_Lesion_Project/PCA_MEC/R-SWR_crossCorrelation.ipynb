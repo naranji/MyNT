{
 "cells": [
  {
   "cell_type": "code",
   "execution_count": 1,
   "metadata": {},
   "outputs": [
    {
     "data": {
      "text/html": [
       "<style>.container { width:90% !important; }</style>"
      ],
      "text/plain": [
       "<IPython.core.display.HTML object>"
      ]
     },
     "metadata": {},
     "output_type": "display_data"
    }
   ],
   "source": [
    "from IPython.core.display import display, HTML\n",
    "display(HTML(\"<style>.container { width:90% !important; }</style>\"))\n",
    "import sys\n",
    "sys.path.append('/home/chenani/ownCloud/Workspaces/Eclipse/dataAnalysis/Sleep-current/src/')"
   ]
  },
  {
   "cell_type": "code",
   "execution_count": 2,
   "metadata": {},
   "outputs": [
    {
     "name": "stdout",
     "output_type": "stream",
     "text": [
      "Using matplotlib backend: Qt4Agg\n"
     ]
    },
    {
     "name": "stderr",
     "output_type": "stream",
     "text": [
      "/home/chenani/anaconda/lib/python2.7/site-packages/IPython/html.py:14: ShimWarning: The `IPython.html` package has been deprecated. You should import from `notebook` instead. `IPython.html.widgets` has moved to `ipywidgets`.\n",
      "  \"`IPython.html.widgets` has moved to `ipywidgets`.\", ShimWarning)\n",
      "/home/chenani/anaconda/lib/python2.7/site-packages/matplotlib/__init__.py:1350: UserWarning:  This call to matplotlib.use() has no effect\n",
      "because the backend has already been chosen;\n",
      "matplotlib.use() must be called *before* pylab, matplotlib.pyplot,\n",
      "or matplotlib.backends is imported for the first time.\n",
      "\n",
      "  warnings.warn(_use_error_msg)\n"
     ]
    }
   ],
   "source": [
    "%matplotlib\n",
    "%load_ext autoreload\n",
    "%autoreload 2\n",
    "import numpy as np\n",
    "import matplotlib.pyplot as pl\n",
    "import pickle as pkl\n",
    "import fnmatch,os\n",
    "import itertools\n",
    "import statsmodels.formula.api as sm\n",
    "from scipy.stats import pearsonr,ttest_ind,ranksums,linregress\n",
    "import pandas as pd\n",
    "import seaborn as sns\n",
    "from signale.tools import locate\n",
    "import statsmodels.api as sm\n",
    "from matplotlib.gridspec import GridSpec\n",
    "from NeuroTools import analysis\n",
    "from scipy import stats"
   ]
  },
  {
   "cell_type": "code",
   "execution_count": 3,
   "metadata": {
    "collapsed": true
   },
   "outputs": [],
   "source": [
    "#spk = pkl.load(open('/home/chenani/dataWork/ali/MECLesion_SleepData/Marta/Rat3661/LinearTrack_03-04-15Day2/parrentData/FiringUnits-N.spk','rb'))\n",
    "#R0s = pkl.load(open('/home/chenani/ownCloud/IpythonNotebooks/Sleep/MEC_Lesion_Project/PCA_MEC/Rat3661-03-04-15Day2-theta.R0'))\n",
    "#Rls = pkl.load(open('/home/chenani/ownCloud/IpythonNotebooks/Sleep/MEC_Lesion_Project/PCA_MEC/Rat3661-03-04-15Day2-theta.Rl'))\n",
    "#tBins = pkl.load(open('/home/chenani/dataWork/ali/MECLesion_SleepData/Marta/Rat3661/LinearTrack_03-04-15Day2/parrentData/thBins.npArr'))\n",
    "#rippDB = pd.read_pickle('/home/chenani/ownCloud/IpythonNotebooks/Sleep/MEC_Lesion_Project/control/Rat3661Control/dataFiles/sleepDB/Rat3661-RipplesTimeDB-SKLRN.pd')\n",
    "#S1,LT,S2  = [spk.time_slice(item[0],item[-1]) for item in tBins]\n",
    "clr4 = [\"#cb535a\",\"#5ba952\",\"#c97d3d\",\"#9a993e\"]\n",
    "sns.set_style('ticks')"
   ]
  },
  {
   "cell_type": "code",
   "execution_count": 5,
   "metadata": {},
   "outputs": [
    {
     "data": {
      "text/plain": [
       "['/home/chenani/dataWork/ali/MECLesion_SleepData/Magda/Rat405Lesion/LinearTrack_0-0-0_Day1/parrentData/thBins.npArr',\n",
       " '/home/chenani/dataWork/ali/MECLesion_SleepData/Magda/Rat434Lesion/LinearTrack_0-0-0_Day1/parrentData/thBins.npArr',\n",
       " '/home/chenani/dataWork/ali/MECLesion_SleepData/Magda/Rat614Control/LinearTrack_05-31-13_Day1/parrentData/thBins.npArr',\n",
       " '/home/chenani/dataWork/ali/MECLesion_SleepData/Magda/Rat614Control/LinearTrack_06-01-13_Day2/parrentData/thBins.npArr',\n",
       " '/home/chenani/dataWork/ali/MECLesion_SleepData/Magda/Rat614Control/LinearTrack_06-11-13_Day3/parrentData/thBins.npArr',\n",
       " '/home/chenani/dataWork/ali/MECLesion_SleepData/Magda/Rat616Control/LinearTrack_2013-06-02_Day1/parrentData/thBins.npArr',\n",
       " '/home/chenani/dataWork/ali/MECLesion_SleepData/Marta/Rat3656/LinearTrack_03-03-2015_Day1/parrentData/thBins.npArr',\n",
       " '/home/chenani/dataWork/ali/MECLesion_SleepData/Marta/Rat3656/LinearTrack_03-04-2015_Day2/parrentData/thBins.npArr',\n",
       " '/home/chenani/dataWork/ali/MECLesion_SleepData/Marta/Rat3656/LinearTrack_03-05-2015_Day3/parrentData/thBins.npArr',\n",
       " '/home/chenani/dataWork/ali/MECLesion_SleepData/Marta/Rat3661/LinearTrack_03-03-15Day1/parrentData/thBins.npArr',\n",
       " '/home/chenani/dataWork/ali/MECLesion_SleepData/Marta/Rat3661/LinearTrack_03-04-15Day2/parrentData/thBins.npArr',\n",
       " '/home/chenani/dataWork/ali/MECLesion_SleepData/Marta/Rat3661/LinearTrack_03-05-15Day3/parrentData/thBins.npArr',\n",
       " '/home/chenani/dataWork/ali/MECLesion_SleepData/Marta/Rat3754/LinearTrack_07-06-15_Day1/parrentData/thBins.npArr',\n",
       " '/home/chenani/dataWork/ali/MECLesion_SleepData/Marta/Rat3754/LinearTrack_07-07-15_Day2/parrentData/thBins.npArr',\n",
       " '/home/chenani/dataWork/ali/MECLesion_SleepData/Marta/Rat3754/LinearTrack_07-09-15_Day3/parrentData/thBins.npArr',\n",
       " '/home/chenani/dataWork/ali/MECLesion_SleepData/Marta/Rat3837/LinearTrack_01-28-16_Day1/parrentData/thBins.npArr',\n",
       " '/home/chenani/dataWork/ali/MECLesion_SleepData/Marta/Rat3837/LinearTrack_01-29-16_Day2/parrentData/thBins.npArr',\n",
       " '/home/chenani/dataWork/ali/MECLesion_SleepData/Marta/Rat3837/LinearTrack_01-30-16_Day3/parrentData/thBins.npArr',\n",
       " '/home/chenani/dataWork/ali/MECLesion_SleepData/Marta/Rat3837/LinearTrack_02-01-16_Day4/parrentData/thBins.npArr',\n",
       " '/home/chenani/dataWork/ali/MECLesion_SleepData/Marta/Rat3838/LinearTrack_02-01-16_Day1/parrentData/thBins.npArr',\n",
       " '/home/chenani/dataWork/ali/MECLesion_SleepData/Marta/Rat3838/LinearTrack_02-02-16_Day2/parrentData/thBins.npArr',\n",
       " '/home/chenani/dataWork/ali/MECLesion_SleepData/Marta/Rat3838/LinearTrack_02-03-16_Day3/parrentData/thBins.npArr',\n",
       " '/home/chenani/dataWork/ali/MECLesion_SleepData/Marta/Rat3838/LinearTrack_02-04-16_Day4/parrentData/thBins.npArr',\n",
       " '/home/chenani/dataWork/ali/MECLesion_SleepData/Marta/Rat3839/LinearTrack_12-21-15_Day1/parrentData/thBins.npArr',\n",
       " '/home/chenani/dataWork/ali/MECLesion_SleepData/Marta/Rat3839/LinearTrack_12-22-15_Day2/parrentData/thBins.npArr',\n",
       " '/home/chenani/dataWork/ali/MECLesion_SleepData/Marta/Rat3839/LinearTrack_12-23-15_Day3/parrentData/thBins.npArr',\n",
       " '/home/chenani/dataWork/ali/MECLesion_SleepData/Marta/Rat3839/LinearTrack_12-24-15_Day4/parrentData/thBins.npArr',\n",
       " '/home/chenani/dataWork/ali/MECLesion_SleepData/Marta/Rat3839/LinearTrack_12-25-15_Day5/parrentData/thBins.npArr',\n",
       " '/home/chenani/dataWork/ali/MECLesion_SleepData/Marta/Rat3839/LinearTrack_12-28-15_Day6/parrentData/thBins.npArr',\n",
       " '/home/chenani/dataWork/ali/MECLesion_SleepData/Marta/Rat3903/LinearTrack_05-09-16_Day1/parrentData/thBins.npArr',\n",
       " '/home/chenani/dataWork/ali/MECLesion_SleepData/Marta/Rat3903/LinearTrack_05-10-16_Day2/parrentData/thBins.npArr',\n",
       " '/home/chenani/dataWork/ali/MECLesion_SleepData/Marta/Rat3903/LinearTrack_05-11-16_Day3/parrentData/thBins.npArr',\n",
       " '/home/chenani/dataWork/ali/MECLesion_SleepData/Marta/Rat3903/LinearTrack_05-12-16_Day4/parrentData/thBins.npArr',\n",
       " '/home/chenani/dataWork/ali/MECLesion_SleepData/Marta/Rat3906/LinearTrack_05-31-16_Day1/parrentData/thBins.npArr',\n",
       " '/home/chenani/dataWork/ali/MECLesion_SleepData/Marta/Rat3906/LinearTrack_06-01-16_Day2/parrentData/thBins.npArr',\n",
       " '/home/chenani/dataWork/ali/MECLesion_SleepData/Marta/Rat3906/LinearTrack_06-02-16_Day3/parrentData/thBins.npArr',\n",
       " '/home/chenani/dataWork/ali/MECLesion_SleepData/Marta/Rat3906/LinearTrack_06-03-16_Day4/parrentData/thBins.npArr']"
      ]
     },
     "execution_count": 5,
     "metadata": {},
     "output_type": "execute_result"
    }
   ],
   "source": [
    "r0List = sorted([os.path.join(pth[0],pth[1]) for pth in locate('*-theta.R0','/home/chenani/ownCloud/IpythonNotebooks/Sleep/MEC_Lesion_Project/PCA_MEC/DATA/')])\n",
    "rlList = sorted([os.path.join(pth[0],pth[1]) for pth in locate('*-theta.Rl','/home/chenani/ownCloud/IpythonNotebooks/Sleep/MEC_Lesion_Project/PCA_MEC/DATA/')])\n",
    "rippList = sorted([os.path.join(pth[0],pth[1]) for pth in locate('*RipplesTimeDB-SKLRN.pd','/home/chenani/ownCloud/IpythonNotebooks/Sleep/MEC_Lesion_Project/')])\n",
    "binList = sorted([os.path.join(pth[0],pth[1]) for pth in locate('thBins.npArr','/home/chenani/dataWork/ali/MECLesion_SleepData/')])\n",
    "lesList = [3656,3754,3837,3838,3903,434,405]\n",
    "binList"
   ]
  },
  {
   "cell_type": "code",
   "execution_count": 49,
   "metadata": {
    "scrolled": false
   },
   "outputs": [
    {
     "name": "stdout",
     "output_type": "stream",
     "text": [
      "0\n",
      "3656 Day1\n",
      "/home/chenani/dataWork/ali/MECLesion_SleepData/Marta/Rat3656/LinearTrack_03-03-2015_Day1/parrentData/thBins.npArr\n",
      "1102 839\n",
      "1\n",
      "3656 Day2\n",
      "/home/chenani/dataWork/ali/MECLesion_SleepData/Marta/Rat3656/LinearTrack_03-04-2015_Day2/parrentData/thBins.npArr\n",
      "814 874\n",
      "2\n",
      "3656 Day3\n",
      "/home/chenani/dataWork/ali/MECLesion_SleepData/Marta/Rat3656/LinearTrack_03-05-2015_Day3/parrentData/thBins.npArr\n",
      "484 403\n",
      "3\n",
      "3661 Day1\n",
      "/home/chenani/dataWork/ali/MECLesion_SleepData/Marta/Rat3661/LinearTrack_03-03-15Day1/parrentData/thBins.npArr\n",
      "945 1065\n",
      "4\n",
      "3661 Day2\n",
      "/home/chenani/dataWork/ali/MECLesion_SleepData/Marta/Rat3661/LinearTrack_03-04-15Day2/parrentData/thBins.npArr\n",
      "1493 1208\n",
      "5\n",
      "3661 Day3\n",
      "/home/chenani/dataWork/ali/MECLesion_SleepData/Marta/Rat3661/LinearTrack_03-05-15Day3/parrentData/thBins.npArr\n",
      "953 1018\n",
      "6\n",
      "3754 Day1\n",
      "/home/chenani/dataWork/ali/MECLesion_SleepData/Marta/Rat3754/LinearTrack_07-06-15_Day1/parrentData/thBins.npArr\n",
      "149 273\n",
      "7\n",
      "3754 Day2\n",
      "/home/chenani/dataWork/ali/MECLesion_SleepData/Marta/Rat3754/LinearTrack_07-07-15_Day2/parrentData/thBins.npArr\n",
      "304 314\n",
      "8\n",
      "3754 Day3\n",
      "/home/chenani/dataWork/ali/MECLesion_SleepData/Marta/Rat3754/LinearTrack_07-09-15_Day3/parrentData/thBins.npArr\n",
      "169 237\n",
      "9\n",
      "3837 Day1\n",
      "/home/chenani/dataWork/ali/MECLesion_SleepData/Marta/Rat3837/LinearTrack_01-28-16_Day1/parrentData/thBins.npArr\n",
      "1143 1268\n",
      "10\n",
      "3837 Day2\n",
      "/home/chenani/dataWork/ali/MECLesion_SleepData/Marta/Rat3837/LinearTrack_01-29-16_Day2/parrentData/thBins.npArr\n",
      "1535 619\n",
      "11\n",
      "3837 Day3\n",
      "/home/chenani/dataWork/ali/MECLesion_SleepData/Marta/Rat3837/LinearTrack_01-30-16_Day3/parrentData/thBins.npArr\n",
      "611 689\n",
      "12\n",
      "3837 Day4\n",
      "/home/chenani/dataWork/ali/MECLesion_SleepData/Marta/Rat3837/LinearTrack_02-01-16_Day4/parrentData/thBins.npArr\n",
      "11 39\n",
      "13\n",
      "3838 Day1\n",
      "/home/chenani/dataWork/ali/MECLesion_SleepData/Marta/Rat3838/LinearTrack_02-01-16_Day1/parrentData/thBins.npArr\n",
      "92 153\n",
      "14\n",
      "3838 Day3\n",
      "/home/chenani/dataWork/ali/MECLesion_SleepData/Marta/Rat3838/LinearTrack_02-03-16_Day3/parrentData/thBins.npArr\n",
      "208 153\n",
      "15\n",
      "3838 Day4\n",
      "/home/chenani/dataWork/ali/MECLesion_SleepData/Marta/Rat3838/LinearTrack_02-04-16_Day4/parrentData/thBins.npArr\n",
      "731 1079\n",
      "16\n",
      "3839 Day1\n",
      "/home/chenani/dataWork/ali/MECLesion_SleepData/Marta/Rat3839/LinearTrack_12-21-15_Day1/parrentData/thBins.npArr\n",
      "801 867\n",
      "17\n",
      "3839 Day2\n",
      "/home/chenani/dataWork/ali/MECLesion_SleepData/Marta/Rat3839/LinearTrack_12-22-15_Day2/parrentData/thBins.npArr\n",
      "438 422\n",
      "18\n",
      "3839 Day4\n",
      "/home/chenani/dataWork/ali/MECLesion_SleepData/Marta/Rat3839/LinearTrack_12-24-15_Day4/parrentData/thBins.npArr\n",
      "905 866\n",
      "19\n",
      "3839 Day5\n",
      "/home/chenani/dataWork/ali/MECLesion_SleepData/Marta/Rat3839/LinearTrack_12-25-15_Day5/parrentData/thBins.npArr\n",
      "8 38\n",
      "20\n",
      "3903 Day1\n",
      "/home/chenani/dataWork/ali/MECLesion_SleepData/Marta/Rat3903/LinearTrack_05-09-16_Day1/parrentData/thBins.npArr\n",
      "1623 0\n",
      "21\n",
      "3903 Day2\n",
      "/home/chenani/dataWork/ali/MECLesion_SleepData/Marta/Rat3903/LinearTrack_05-10-16_Day2/parrentData/thBins.npArr\n",
      "1239 665\n",
      "22\n",
      "3903 Day3\n",
      "/home/chenani/dataWork/ali/MECLesion_SleepData/Marta/Rat3903/LinearTrack_05-11-16_Day3/parrentData/thBins.npArr\n",
      "948 566\n",
      "23\n",
      "3903 Day4\n",
      "/home/chenani/dataWork/ali/MECLesion_SleepData/Marta/Rat3903/LinearTrack_05-12-16_Day4/parrentData/thBins.npArr\n",
      "1021 1468\n",
      "24\n",
      "3906 Day1\n",
      "/home/chenani/dataWork/ali/MECLesion_SleepData/Marta/Rat3906/LinearTrack_05-31-16_Day1/parrentData/thBins.npArr\n",
      "5262 2142\n",
      "25\n",
      "3906 Day2\n",
      "/home/chenani/dataWork/ali/MECLesion_SleepData/Marta/Rat3906/LinearTrack_06-01-16_Day2/parrentData/thBins.npArr\n",
      "1193 1414\n",
      "26\n",
      "3906 Day3\n",
      "/home/chenani/dataWork/ali/MECLesion_SleepData/Marta/Rat3906/LinearTrack_06-02-16_Day3/parrentData/thBins.npArr\n",
      "1226 1780\n",
      "27\n",
      "3906 Day4\n",
      "/home/chenani/dataWork/ali/MECLesion_SleepData/Marta/Rat3906/LinearTrack_06-03-16_Day4/parrentData/thBins.npArr\n",
      "914 1197\n",
      "28\n",
      "405 Day1\n",
      "/home/chenani/dataWork/ali/MECLesion_SleepData/Magda/Rat405Lesion/LinearTrack_0-0-0_Day1/parrentData/thBins.npArr\n",
      "72 244\n",
      "29\n",
      "434 Day1\n",
      "/home/chenani/dataWork/ali/MECLesion_SleepData/Magda/Rat434Lesion/LinearTrack_0-0-0_Day1/parrentData/thBins.npArr\n",
      "408 805\n",
      "30\n",
      "614 Day1\n",
      "/home/chenani/dataWork/ali/MECLesion_SleepData/Magda/Rat614Control/LinearTrack_05-31-13_Day1/parrentData/thBins.npArr\n",
      "155 497\n",
      "31\n",
      "614 Day2\n",
      "/home/chenani/dataWork/ali/MECLesion_SleepData/Magda/Rat614Control/LinearTrack_06-01-13_Day2/parrentData/thBins.npArr\n",
      "352 794\n",
      "32\n",
      "614 Day3\n",
      "/home/chenani/dataWork/ali/MECLesion_SleepData/Magda/Rat614Control/LinearTrack_06-11-13_Day3/parrentData/thBins.npArr\n",
      "484 440\n",
      "33\n",
      "616 Day1\n",
      "/home/chenani/dataWork/ali/MECLesion_SleepData/Magda/Rat616Control/LinearTrack_2013-06-02_Day1/parrentData/thBins.npArr\n",
      "184 339\n"
     ]
    }
   ],
   "source": [
    "patCCDF = pd.DataFrame([],columns=['ccdf','anDate','type','group','session','ptIdx'])\n",
    "sessList = ['PRE','POST']\n",
    "kk = 0\n",
    "for kk,rlFile in enumerate(rlList):\n",
    "    print kk\n",
    "    Rls = pkl.load(open(rlFile,'rb'))\n",
    "    fNmae = rlFile.split('/')[-1]\n",
    "    anName = fNmae.split('-')[0]\n",
    "    anID = anName.split('t')[-1]\n",
    "    dday = fNmae.split('-')[-2]\n",
    "    try:\n",
    "        anID = int(anID)\n",
    "        print anID,dday\n",
    "    except:\n",
    "        print 'No good file!!!'\n",
    "        anID = 0\n",
    "    if anID in lesList:\n",
    "        group = 'lesion'\n",
    "    else:\n",
    "        group = 'control'\n",
    "    bF = [binfile for binfile in binList if (binfile.find(anName)>0)and(binfile.find(dday)>0)]\n",
    "    if len(bF):\n",
    "        print bF[0]\n",
    "        tBins = pkl.load(open(bF[0],'rb'))\n",
    "    rippF = [rippfile for rippfile in rippList if (rippfile.find(anName)>0)]\n",
    "    if len(rippF):\n",
    "        rippDB = pd.read_pickle(rippF[-1])\n",
    "        rippDB = rippDB.replace('01-sleep01','PRE')\n",
    "        rippDB = rippDB.replace('05-sleep05','PRE')\n",
    "        rippDB = rippDB.replace('03-sleep02','POST')\n",
    "        rippDB = rippDB.replace('07-sleep06','POST')\n",
    "        rippDB = rippDB[rippDB.date==dday.lower()]\n",
    "    if anID:\n",
    "        tPre  = np.array([(t+tBins[0][ii+1])/2 for ii,t in enumerate(tBins[0][:-1])])\n",
    "        tPost = np.array([(t+tBins[2][ii+1])/2 for ii,t in enumerate(tBins[2][:-1])])\n",
    "        swrTstmpPRE = rippDB[(rippDB.session=='PRE')&(rippDB.wc==300)].t_peak.as_matrix()\n",
    "        swrTstmpPOS = rippDB[(rippDB.session=='POST')&(rippDB.wc==300)].t_peak.as_matrix()\n",
    "        fgbTstmpPRE = rippDB[(rippDB.session=='PRE')&(rippDB.wc==100)].t_peak.as_matrix()\n",
    "        fgbTstmpPOS = rippDB[(rippDB.session=='POST')&(rippDB.wc==100)].t_peak.as_matrix()\n",
    "        tBinCenters = [tPre,tPost]\n",
    "        swrStamps = [swrTstmpPRE,swrTstmpPOS]\n",
    "        fgbStamps = [fgbTstmpPRE,fgbTstmpPOS]\n",
    "        print swrTstmpPRE.size,swrTstmpPOS.size\n",
    "        for ii in range(1,10):\n",
    "            for jj in [0,1]:\n",
    "                pt = Rls[1][jj][10-ii]\n",
    "                ptPeaks = np.where(pt>(pt.mean()+3*pt.std()))[0]\n",
    "                ptTimestamps = tBinCenters[jj][ptPeaks][:-1]\n",
    "                for ptP in ptTimestamps:\n",
    "                    if swrStamps[jj].size and fgbStamps[jj].size:\n",
    "                        if (np.abs(swrStamps[jj]-ptP).min()<np.abs(fgbStamps[jj]-ptP).min()):\n",
    "                            patCCDF = patCCDF.append(pd.DataFrame([[np.abs(swrStamps[jj]-ptP).min(),kk,'swr',group,sessList[jj],ii]],\n",
    "                                                              columns=['ccdf','anDate','type','group','session','ptIdx']),ignore_index=True)\n",
    "                        else:\n",
    "                            patCCDF = patCCDF.append(pd.DataFrame([[np.abs(fgbStamps[jj]-ptP).min(),kk,'fgb',group,sessList[jj],ii]],\n",
    "                                                              columns=['ccdf','anDate','type','group','session','ptIdx']),ignore_index=True)\n",
    "                #diff,pred,N = analysis.crosscorrelate(ptTimestamps,swrStamps[jj],lag=500)\n",
    "                #diffg,pred,N = analysis.crosscorrelate(ptTimestamps,fgbStamps[jj],lag=500)\n",
    "                #hstSWR,bins= np.histogram(diff,bins=np.arange(-450,501,100),normed=True)\n",
    "                #hstFGB,bins= np.histogram(diffg,bins=np.arange(-450,501,100),normed=True)\n",
    "                #if diff.size:\n",
    "                #    swrSyncPrcnt = 1e2*np.sum(np.abs(diff)<50)/diff.size\n",
    "                #else:\n",
    "                #    swrSyncPrcnt = np.nan\n",
    "                #if diffg.size:\n",
    "                #    fgbSyncPrcnt = 1e2*np.sum(np.abs(diffg)<50)/diffg.size\n",
    "                #else:\n",
    "                #    fgbSyncPrcnt = np.nan\n",
    "                #if group=='lesion':\n",
    "                #    pl.scatter(ii+jj/2.0,hstSWR[4]-hstFGB[4],c=clr4[-1*jj])\n",
    "                    #patCCDF = patCCDF.append(pd.DataFrame([[hstSWR[4]-hstFGB[4],kk,group,sessList[jj],ii]],columns=['ccdf','anDate','group','session','ptIdx']),ignore_index=True)\n",
    "                #    patCCDF = patCCDF.append(pd.DataFrame([[swrSyncPrcnt,kk,group,sessList[jj],ii]],\n",
    "                #                                          columns=['ccdf','anDate','group','session','ptIdx']),ignore_index=True)\n",
    "                #else:\n",
    "                    #pl.scatter(ii+jj/2.0,hstSWR[4]-hstFGB[4],c=clr4[jj],s=1)\n",
    "                    #patCCDF = patCCDF.append(pd.DataFrame([[hstSWR[4]-hstFGB[4],kk,group,sessList[jj],ii]],\n",
    "                    #                                      columns=['ccdf','anDate','group','session','ptIdx']),ignore_index=True)\n",
    "                #    patCCDF = patCCDF.append(pd.DataFrame([[swrSyncPrcnt,kk,group,sessList[jj],ii]],\n",
    "                #                                          columns=['ccdf','anDate','group','session','ptIdx']),ignore_index=True)\n",
    "                                             \n",
    "                    #print hstSWR\n",
    "        #pl.plot(hstSWR)"
   ]
  },
  {
   "cell_type": "code",
   "execution_count": 111,
   "metadata": {},
   "outputs": [],
   "source": [
    "patCCDF.to_pickle('/home/chenani/ownCloud/IpythonNotebooks/Sleep/MEC_Lesion_Project/PCA_MEC/DATA/patCCDF.db')"
   ]
  },
  {
   "cell_type": "code",
   "execution_count": 63,
   "metadata": {},
   "outputs": [
    {
     "data": {
      "text/plain": [
       "<matplotlib.axes._subplots.AxesSubplot at 0x7ff96ec56c90>"
      ]
     },
     "execution_count": 63,
     "metadata": {},
     "output_type": "execute_result"
    }
   ],
   "source": [
    "sns.violinplot(x='session',y='ccdf',data=patCCDF[(patCCDF.ptIdx==1)&(patCCDF.group=='control')])"
   ]
  },
  {
   "cell_type": "code",
   "execution_count": 93,
   "metadata": {},
   "outputs": [],
   "source": [
    "syncPCdb = pd.DataFrame([],columns=['anID','group','patID','session','hfe_type','prcnt'])\n",
    "for anID in np.unique(patCCDF.anDate):\n",
    "    df = patCCDF[patCCDF.anDate==anID]\n",
    "    for ptID in range(1,10):\n",
    "        for sess in ['PRE','POST']:\n",
    "            dfSessID = df[(df.session==sess)&(df.ptIdx==ptID)]\n",
    "            if dfSessID.shape[0]:\n",
    "                for typ in ['swr','fgb']:\n",
    "                    dfTyp = dfSessID[dfSessID['type']==typ]\n",
    "                    if dfTyp.shape[0]:\n",
    "                        syncPCdb = syncPCdb.append(pd.DataFrame([[anID,np.unique(dfTyp.group)[0],ptID,sess,typ,\n",
    "                                                                  1e2*dfTyp[dfTyp.ccdf<50].shape[0]/dfSessID.shape[0]]]\n",
    "                                                  ,columns=['anID','group','patID','session','hfe_type','prcnt']),ignore_index=True)"
   ]
  },
  {
   "cell_type": "code",
   "execution_count": 110,
   "metadata": {},
   "outputs": [
    {
     "data": {
      "text/plain": [
       "<matplotlib.axes._subplots.AxesSubplot at 0x7ff970367350>"
      ]
     },
     "execution_count": 110,
     "metadata": {},
     "output_type": "execute_result"
    }
   ],
   "source": [
    "f,(ax,bx) = pl.subplots(1,2,sharey=True)\n",
    "sns.tsplot(time=\"patID\", value=\"prcnt\",unit=\"anID\", condition=\"group\",data=syncPCdb[(syncPCdb.session=='PRE')&(syncPCdb.hfe_type=='swr')],\n",
    "           interpolate=True,err_style=\"boot_traces\",n_boot=50,estimator=np.nanmean,color=['r','k'],ax=ax)\n",
    "sns.tsplot(time=\"patID\", value=\"prcnt\",unit=\"anID\", condition=\"group\",data=syncPCdb[(syncPCdb.session=='PRE')&(syncPCdb.hfe_type=='swr')],\n",
    "           interpolate=False,err_style=\"ci_bars\",estimator=np.nanmean,color=['r','k'],ax=ax)\n",
    "sns.tsplot(time=\"patID\", value=\"prcnt\",unit=\"anID\", condition=\"group\",data=syncPCdb[(syncPCdb.session=='POST')&(syncPCdb.hfe_type=='swr')],\n",
    "           interpolate=True,err_style=\"boot_traces\",n_boot=50,estimator=np.nanmean,color=['r','k'],ax=bx)\n",
    "sns.tsplot(time=\"patID\", value=\"prcnt\",unit=\"anID\", condition=\"group\",data=syncPCdb[(syncPCdb.session=='POST')&(syncPCdb.hfe_type=='swr')],\n",
    "           interpolate=False,err_style=\"ci_bars\",estimator=np.nanmean,color=['r','k'],ax=bx)"
   ]
  },
  {
   "cell_type": "code",
   "execution_count": 50,
   "metadata": {},
   "outputs": [
    {
     "ename": "ValueError",
     "evalue": "Index contains duplicate entries, cannot reshape",
     "output_type": "error",
     "traceback": [
      "\u001b[1;31m---------------------------------------------------------------------------\u001b[0m",
      "\u001b[1;31mValueError\u001b[0m                                Traceback (most recent call last)",
      "\u001b[1;32m<ipython-input-50-c63df3a24103>\u001b[0m in \u001b[0;36m<module>\u001b[1;34m()\u001b[0m\n\u001b[0;32m      1\u001b[0m \u001b[0mf\u001b[0m\u001b[1;33m,\u001b[0m\u001b[1;33m(\u001b[0m\u001b[0max\u001b[0m\u001b[1;33m,\u001b[0m\u001b[0mbx\u001b[0m\u001b[1;33m)\u001b[0m \u001b[1;33m=\u001b[0m \u001b[0mpl\u001b[0m\u001b[1;33m.\u001b[0m\u001b[0msubplots\u001b[0m\u001b[1;33m(\u001b[0m\u001b[1;36m1\u001b[0m\u001b[1;33m,\u001b[0m\u001b[1;36m2\u001b[0m\u001b[1;33m,\u001b[0m\u001b[0msharey\u001b[0m\u001b[1;33m=\u001b[0m\u001b[0mTrue\u001b[0m\u001b[1;33m)\u001b[0m\u001b[1;33m\u001b[0m\u001b[0m\n\u001b[0;32m      2\u001b[0m sns.tsplot(time=\"ptIdx\", value=\"ccdf\",unit=\"anDate\", condition=\"group\",data=patCCDF[patCCDF.session=='PRE'],\n\u001b[1;32m----> 3\u001b[1;33m            interpolate=True,err_style=\"boot_traces\",n_boot=50,estimator=np.nanmean,ax=ax)\n\u001b[0m\u001b[0;32m      4\u001b[0m sns.tsplot(time=\"ptIdx\", value=\"ccdf\",unit=\"anDate\", condition=\"group\",data=patCCDF[patCCDF.session=='PRE'],\n\u001b[0;32m      5\u001b[0m            interpolate=False,err_style=\"ci_bars\",estimator=np.nanmean,ax=ax)\n",
      "\u001b[1;32m/home/chenani/anaconda/lib/python2.7/site-packages/seaborn/timeseries.pyc\u001b[0m in \u001b[0;36mtsplot\u001b[1;34m(data, time, unit, condition, value, err_style, ci, interpolate, color, estimator, n_boot, err_palette, err_kws, legend, ax, **kwargs)\u001b[0m\n\u001b[0;32m    277\u001b[0m     \u001b[1;32mfor\u001b[0m \u001b[0mc\u001b[0m\u001b[1;33m,\u001b[0m \u001b[1;33m(\u001b[0m\u001b[0mcond\u001b[0m\u001b[1;33m,\u001b[0m \u001b[0mdf_c\u001b[0m\u001b[1;33m)\u001b[0m \u001b[1;32min\u001b[0m \u001b[0menumerate\u001b[0m\u001b[1;33m(\u001b[0m\u001b[0mdata\u001b[0m\u001b[1;33m.\u001b[0m\u001b[0mgroupby\u001b[0m\u001b[1;33m(\u001b[0m\u001b[0mcondition\u001b[0m\u001b[1;33m,\u001b[0m \u001b[0msort\u001b[0m\u001b[1;33m=\u001b[0m\u001b[0mFalse\u001b[0m\u001b[1;33m)\u001b[0m\u001b[1;33m)\u001b[0m\u001b[1;33m:\u001b[0m\u001b[1;33m\u001b[0m\u001b[0m\n\u001b[0;32m    278\u001b[0m \u001b[1;33m\u001b[0m\u001b[0m\n\u001b[1;32m--> 279\u001b[1;33m         \u001b[0mdf_c\u001b[0m \u001b[1;33m=\u001b[0m \u001b[0mdf_c\u001b[0m\u001b[1;33m.\u001b[0m\u001b[0mpivot\u001b[0m\u001b[1;33m(\u001b[0m\u001b[0munit\u001b[0m\u001b[1;33m,\u001b[0m \u001b[0mtime\u001b[0m\u001b[1;33m,\u001b[0m \u001b[0mvalue\u001b[0m\u001b[1;33m)\u001b[0m\u001b[1;33m\u001b[0m\u001b[0m\n\u001b[0m\u001b[0;32m    280\u001b[0m         \u001b[0mx\u001b[0m \u001b[1;33m=\u001b[0m \u001b[0mdf_c\u001b[0m\u001b[1;33m.\u001b[0m\u001b[0mcolumns\u001b[0m\u001b[1;33m.\u001b[0m\u001b[0mvalues\u001b[0m\u001b[1;33m.\u001b[0m\u001b[0mastype\u001b[0m\u001b[1;33m(\u001b[0m\u001b[0mnp\u001b[0m\u001b[1;33m.\u001b[0m\u001b[0mfloat\u001b[0m\u001b[1;33m)\u001b[0m\u001b[1;33m\u001b[0m\u001b[0m\n\u001b[0;32m    281\u001b[0m \u001b[1;33m\u001b[0m\u001b[0m\n",
      "\u001b[1;32m/home/chenani/anaconda/lib/python2.7/site-packages/pandas/core/frame.pyc\u001b[0m in \u001b[0;36mpivot\u001b[1;34m(self, index, columns, values)\u001b[0m\n\u001b[0;32m   3933\u001b[0m         \"\"\"\n\u001b[0;32m   3934\u001b[0m         \u001b[1;32mfrom\u001b[0m \u001b[0mpandas\u001b[0m\u001b[1;33m.\u001b[0m\u001b[0mcore\u001b[0m\u001b[1;33m.\u001b[0m\u001b[0mreshape\u001b[0m \u001b[1;32mimport\u001b[0m \u001b[0mpivot\u001b[0m\u001b[1;33m\u001b[0m\u001b[0m\n\u001b[1;32m-> 3935\u001b[1;33m         \u001b[1;32mreturn\u001b[0m \u001b[0mpivot\u001b[0m\u001b[1;33m(\u001b[0m\u001b[0mself\u001b[0m\u001b[1;33m,\u001b[0m \u001b[0mindex\u001b[0m\u001b[1;33m=\u001b[0m\u001b[0mindex\u001b[0m\u001b[1;33m,\u001b[0m \u001b[0mcolumns\u001b[0m\u001b[1;33m=\u001b[0m\u001b[0mcolumns\u001b[0m\u001b[1;33m,\u001b[0m \u001b[0mvalues\u001b[0m\u001b[1;33m=\u001b[0m\u001b[0mvalues\u001b[0m\u001b[1;33m)\u001b[0m\u001b[1;33m\u001b[0m\u001b[0m\n\u001b[0m\u001b[0;32m   3936\u001b[0m \u001b[1;33m\u001b[0m\u001b[0m\n\u001b[0;32m   3937\u001b[0m     \u001b[1;32mdef\u001b[0m \u001b[0mstack\u001b[0m\u001b[1;33m(\u001b[0m\u001b[0mself\u001b[0m\u001b[1;33m,\u001b[0m \u001b[0mlevel\u001b[0m\u001b[1;33m=\u001b[0m\u001b[1;33m-\u001b[0m\u001b[1;36m1\u001b[0m\u001b[1;33m,\u001b[0m \u001b[0mdropna\u001b[0m\u001b[1;33m=\u001b[0m\u001b[0mTrue\u001b[0m\u001b[1;33m)\u001b[0m\u001b[1;33m:\u001b[0m\u001b[1;33m\u001b[0m\u001b[0m\n",
      "\u001b[1;32m/home/chenani/anaconda/lib/python2.7/site-packages/pandas/core/reshape.pyc\u001b[0m in \u001b[0;36mpivot\u001b[1;34m(self, index, columns, values)\u001b[0m\n\u001b[0;32m    336\u001b[0m         indexed = Series(self[values].values,\n\u001b[0;32m    337\u001b[0m                          index=MultiIndex.from_arrays([index, self[columns]]))\n\u001b[1;32m--> 338\u001b[1;33m         \u001b[1;32mreturn\u001b[0m \u001b[0mindexed\u001b[0m\u001b[1;33m.\u001b[0m\u001b[0munstack\u001b[0m\u001b[1;33m(\u001b[0m\u001b[0mcolumns\u001b[0m\u001b[1;33m)\u001b[0m\u001b[1;33m\u001b[0m\u001b[0m\n\u001b[0m\u001b[0;32m    339\u001b[0m \u001b[1;33m\u001b[0m\u001b[0m\n\u001b[0;32m    340\u001b[0m \u001b[1;33m\u001b[0m\u001b[0m\n",
      "\u001b[1;32m/home/chenani/anaconda/lib/python2.7/site-packages/pandas/core/series.pyc\u001b[0m in \u001b[0;36munstack\u001b[1;34m(self, level, fill_value)\u001b[0m\n\u001b[0;32m   2088\u001b[0m         \"\"\"\n\u001b[0;32m   2089\u001b[0m         \u001b[1;32mfrom\u001b[0m \u001b[0mpandas\u001b[0m\u001b[1;33m.\u001b[0m\u001b[0mcore\u001b[0m\u001b[1;33m.\u001b[0m\u001b[0mreshape\u001b[0m \u001b[1;32mimport\u001b[0m \u001b[0munstack\u001b[0m\u001b[1;33m\u001b[0m\u001b[0m\n\u001b[1;32m-> 2090\u001b[1;33m         \u001b[1;32mreturn\u001b[0m \u001b[0munstack\u001b[0m\u001b[1;33m(\u001b[0m\u001b[0mself\u001b[0m\u001b[1;33m,\u001b[0m \u001b[0mlevel\u001b[0m\u001b[1;33m,\u001b[0m \u001b[0mfill_value\u001b[0m\u001b[1;33m)\u001b[0m\u001b[1;33m\u001b[0m\u001b[0m\n\u001b[0m\u001b[0;32m   2091\u001b[0m \u001b[1;33m\u001b[0m\u001b[0m\n\u001b[0;32m   2092\u001b[0m     \u001b[1;31m# ----------------------------------------------------------------------\u001b[0m\u001b[1;33m\u001b[0m\u001b[1;33m\u001b[0m\u001b[0m\n",
      "\u001b[1;32m/home/chenani/anaconda/lib/python2.7/site-packages/pandas/core/reshape.pyc\u001b[0m in \u001b[0;36munstack\u001b[1;34m(obj, level, fill_value)\u001b[0m\n\u001b[0;32m    411\u001b[0m     \u001b[1;32melse\u001b[0m\u001b[1;33m:\u001b[0m\u001b[1;33m\u001b[0m\u001b[0m\n\u001b[0;32m    412\u001b[0m         unstacker = _Unstacker(obj.values, obj.index, level=level,\n\u001b[1;32m--> 413\u001b[1;33m                                fill_value=fill_value)\n\u001b[0m\u001b[0;32m    414\u001b[0m         \u001b[1;32mreturn\u001b[0m \u001b[0munstacker\u001b[0m\u001b[1;33m.\u001b[0m\u001b[0mget_result\u001b[0m\u001b[1;33m(\u001b[0m\u001b[1;33m)\u001b[0m\u001b[1;33m\u001b[0m\u001b[0m\n\u001b[0;32m    415\u001b[0m \u001b[1;33m\u001b[0m\u001b[0m\n",
      "\u001b[1;32m/home/chenani/anaconda/lib/python2.7/site-packages/pandas/core/reshape.pyc\u001b[0m in \u001b[0;36m__init__\u001b[1;34m(self, values, index, level, value_columns, fill_value)\u001b[0m\n\u001b[0;32m    101\u001b[0m \u001b[1;33m\u001b[0m\u001b[0m\n\u001b[0;32m    102\u001b[0m         \u001b[0mself\u001b[0m\u001b[1;33m.\u001b[0m\u001b[0m_make_sorted_values_labels\u001b[0m\u001b[1;33m(\u001b[0m\u001b[1;33m)\u001b[0m\u001b[1;33m\u001b[0m\u001b[0m\n\u001b[1;32m--> 103\u001b[1;33m         \u001b[0mself\u001b[0m\u001b[1;33m.\u001b[0m\u001b[0m_make_selectors\u001b[0m\u001b[1;33m(\u001b[0m\u001b[1;33m)\u001b[0m\u001b[1;33m\u001b[0m\u001b[0m\n\u001b[0m\u001b[0;32m    104\u001b[0m \u001b[1;33m\u001b[0m\u001b[0m\n\u001b[0;32m    105\u001b[0m     \u001b[1;32mdef\u001b[0m \u001b[0m_make_sorted_values_labels\u001b[0m\u001b[1;33m(\u001b[0m\u001b[0mself\u001b[0m\u001b[1;33m)\u001b[0m\u001b[1;33m:\u001b[0m\u001b[1;33m\u001b[0m\u001b[0m\n",
      "\u001b[1;32m/home/chenani/anaconda/lib/python2.7/site-packages/pandas/core/reshape.pyc\u001b[0m in \u001b[0;36m_make_selectors\u001b[1;34m(self)\u001b[0m\n\u001b[0;32m    139\u001b[0m \u001b[1;33m\u001b[0m\u001b[0m\n\u001b[0;32m    140\u001b[0m         \u001b[1;32mif\u001b[0m \u001b[0mmask\u001b[0m\u001b[1;33m.\u001b[0m\u001b[0msum\u001b[0m\u001b[1;33m(\u001b[0m\u001b[1;33m)\u001b[0m \u001b[1;33m<\u001b[0m \u001b[0mlen\u001b[0m\u001b[1;33m(\u001b[0m\u001b[0mself\u001b[0m\u001b[1;33m.\u001b[0m\u001b[0mindex\u001b[0m\u001b[1;33m)\u001b[0m\u001b[1;33m:\u001b[0m\u001b[1;33m\u001b[0m\u001b[0m\n\u001b[1;32m--> 141\u001b[1;33m             raise ValueError('Index contains duplicate entries, '\n\u001b[0m\u001b[0;32m    142\u001b[0m                              'cannot reshape')\n\u001b[0;32m    143\u001b[0m \u001b[1;33m\u001b[0m\u001b[0m\n",
      "\u001b[1;31mValueError\u001b[0m: Index contains duplicate entries, cannot reshape"
     ]
    }
   ],
   "source": [
    "f,(ax,bx) = pl.subplots(1,2,sharey=True)\n",
    "sns.tsplot(time=\"ptIdx\", value=\"ccdf\",unit=\"anDate\", condition=\"group\",data=patCCDF[patCCDF.session=='PRE'],\n",
    "           interpolate=True,err_style=\"boot_traces\",n_boot=50,estimator=np.nanmean,ax=ax)\n",
    "sns.tsplot(time=\"ptIdx\", value=\"ccdf\",unit=\"anDate\", condition=\"group\",data=patCCDF[patCCDF.session=='PRE'],\n",
    "           interpolate=False,err_style=\"ci_bars\",estimator=np.nanmean,ax=ax)\n",
    "sns.tsplot(time=\"ptIdx\", value=\"ccdf\",unit=\"anDate\", condition=\"group\",data=patCCDF[patCCDF.session=='POST'],\n",
    "           interpolate=True,err_style=\"boot_traces\",n_boot=50,estimator=np.nanmean,ax=bx)\n",
    "sns.tsplot(time=\"ptIdx\", value=\"ccdf\",unit=\"anDate\", condition=\"group\",data=patCCDF[patCCDF.session=='POST'],\n",
    "           interpolate=False,err_style=\"ci_bars\",estimator=np.nanmean,ax=bx)\n",
    "#pl.xscale('log')\n",
    "#pl.xlim(0.5,4.5)"
   ]
  },
  {
   "cell_type": "code",
   "execution_count": 57,
   "metadata": {},
   "outputs": [
    {
     "data": {
      "text/plain": [
       "1"
      ]
     },
     "execution_count": 57,
     "metadata": {},
     "output_type": "execute_result"
    }
   ],
   "source": [
    "np.diff(patCCDF.index).min()\n"
   ]
  },
  {
   "cell_type": "code",
   "execution_count": null,
   "metadata": {
    "collapsed": true
   },
   "outputs": [],
   "source": []
  }
 ],
 "metadata": {
  "kernelspec": {
   "display_name": "Python 2",
   "language": "python",
   "name": "python2"
  },
  "language_info": {
   "codemirror_mode": {
    "name": "ipython",
    "version": 2
   },
   "file_extension": ".py",
   "mimetype": "text/x-python",
   "name": "python",
   "nbconvert_exporter": "python",
   "pygments_lexer": "ipython2",
   "version": "2.7.14"
  }
 },
 "nbformat": 4,
 "nbformat_minor": 1
}
