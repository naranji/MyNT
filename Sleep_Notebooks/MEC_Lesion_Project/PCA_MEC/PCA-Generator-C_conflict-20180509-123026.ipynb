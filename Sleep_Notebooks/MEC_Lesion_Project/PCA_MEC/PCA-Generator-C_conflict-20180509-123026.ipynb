{
 "cells": [
  {
   "cell_type": "code",
   "execution_count": 1,
   "metadata": {},
   "outputs": [
    {
     "data": {
      "text/html": [
       "<style>.container { width:90% !important; }</style>"
      ],
      "text/plain": [
       "<IPython.core.display.HTML object>"
      ]
     },
     "metadata": {},
     "output_type": "display_data"
    }
   ],
   "source": [
    "from IPython.core.display import display, HTML\n",
    "display(HTML(\"<style>.container { width:90% !important; }</style>\"))\n",
    "import sys\n",
    "sys.path.append('/home/aliche/ownCloud/Workspaces/Eclipse/dataAnalysis/Sleep-current/src/')\n",
    "    #'/home/achenani/ownCloud/Workspaces/Eclipse/dataAnalysis/Sleep-current/src/')"
   ]
  },
  {
   "cell_type": "code",
   "execution_count": 2,
   "metadata": {},
   "outputs": [
    {
     "name": "stdout",
     "output_type": "stream",
     "text": [
      "Using matplotlib backend: Qt5Agg\n"
     ]
    },
    {
     "name": "stderr",
     "output_type": "stream",
     "text": [
      "/home/aliche/anaconda3/envs/py27/lib/python2.7/site-packages/NeuroTools/analysis.py:34: UserWarning: \n",
      "This call to matplotlib.use() has no effect because the backend has already\n",
      "been chosen; matplotlib.use() must be called *before* pylab, matplotlib.pyplot,\n",
      "or matplotlib.backends is imported for the first time.\n",
      "\n",
      "The backend was *originally* set to u'Qt5Agg' by the following code:\n",
      "  File \"/home/aliche/anaconda3/envs/py27/lib/python2.7/runpy.py\", line 174, in _run_module_as_main\n",
      "    \"__main__\", fname, loader, pkg_name)\n",
      "  File \"/home/aliche/anaconda3/envs/py27/lib/python2.7/runpy.py\", line 72, in _run_code\n",
      "    exec code in run_globals\n",
      "  File \"/home/aliche/anaconda3/envs/py27/lib/python2.7/site-packages/ipykernel_launcher.py\", line 16, in <module>\n",
      "    app.launch_new_instance()\n",
      "  File \"/home/aliche/anaconda3/envs/py27/lib/python2.7/site-packages/traitlets/config/application.py\", line 658, in launch_instance\n",
      "    app.start()\n",
      "  File \"/home/aliche/anaconda3/envs/py27/lib/python2.7/site-packages/ipykernel/kernelapp.py\", line 478, in start\n",
      "    self.io_loop.start()\n",
      "  File \"/home/aliche/anaconda3/envs/py27/lib/python2.7/site-packages/zmq/eventloop/ioloop.py\", line 177, in start\n",
      "    super(ZMQIOLoop, self).start()\n",
      "  File \"/home/aliche/anaconda3/envs/py27/lib/python2.7/site-packages/tornado/ioloop.py\", line 888, in start\n",
      "    handler_func(fd_obj, events)\n",
      "  File \"/home/aliche/anaconda3/envs/py27/lib/python2.7/site-packages/tornado/stack_context.py\", line 277, in null_wrapper\n",
      "    return fn(*args, **kwargs)\n",
      "  File \"/home/aliche/anaconda3/envs/py27/lib/python2.7/site-packages/zmq/eventloop/zmqstream.py\", line 440, in _handle_events\n",
      "    self._handle_recv()\n",
      "  File \"/home/aliche/anaconda3/envs/py27/lib/python2.7/site-packages/zmq/eventloop/zmqstream.py\", line 472, in _handle_recv\n",
      "    self._run_callback(callback, msg)\n",
      "  File \"/home/aliche/anaconda3/envs/py27/lib/python2.7/site-packages/zmq/eventloop/zmqstream.py\", line 414, in _run_callback\n",
      "    callback(*args, **kwargs)\n",
      "  File \"/home/aliche/anaconda3/envs/py27/lib/python2.7/site-packages/tornado/stack_context.py\", line 277, in null_wrapper\n",
      "    return fn(*args, **kwargs)\n",
      "  File \"/home/aliche/anaconda3/envs/py27/lib/python2.7/site-packages/ipykernel/kernelbase.py\", line 283, in dispatcher\n",
      "    return self.dispatch_shell(stream, msg)\n",
      "  File \"/home/aliche/anaconda3/envs/py27/lib/python2.7/site-packages/ipykernel/kernelbase.py\", line 233, in dispatch_shell\n",
      "    handler(stream, idents, msg)\n",
      "  File \"/home/aliche/anaconda3/envs/py27/lib/python2.7/site-packages/ipykernel/kernelbase.py\", line 399, in execute_request\n",
      "    user_expressions, allow_stdin)\n",
      "  File \"/home/aliche/anaconda3/envs/py27/lib/python2.7/site-packages/ipykernel/ipkernel.py\", line 208, in do_execute\n",
      "    res = shell.run_cell(code, store_history=store_history, silent=silent)\n",
      "  File \"/home/aliche/anaconda3/envs/py27/lib/python2.7/site-packages/ipykernel/zmqshell.py\", line 537, in run_cell\n",
      "    return super(ZMQInteractiveShell, self).run_cell(*args, **kwargs)\n",
      "  File \"/home/aliche/anaconda3/envs/py27/lib/python2.7/site-packages/IPython/core/interactiveshell.py\", line 2718, in run_cell\n",
      "    interactivity=interactivity, compiler=compiler, result=result)\n",
      "  File \"/home/aliche/anaconda3/envs/py27/lib/python2.7/site-packages/IPython/core/interactiveshell.py\", line 2822, in run_ast_nodes\n",
      "    if self.run_code(code, result):\n",
      "  File \"/home/aliche/anaconda3/envs/py27/lib/python2.7/site-packages/IPython/core/interactiveshell.py\", line 2882, in run_code\n",
      "    exec(code_obj, self.user_global_ns, self.user_ns)\n",
      "  File \"<ipython-input-2-0a8239197952>\", line 1, in <module>\n",
      "    get_ipython().magic(u'matplotlib')\n",
      "  File \"/home/aliche/anaconda3/envs/py27/lib/python2.7/site-packages/IPython/core/interactiveshell.py\", line 2160, in magic\n",
      "    return self.run_line_magic(magic_name, magic_arg_s)\n",
      "  File \"/home/aliche/anaconda3/envs/py27/lib/python2.7/site-packages/IPython/core/interactiveshell.py\", line 2081, in run_line_magic\n",
      "    result = fn(*args,**kwargs)\n",
      "  File \"<decorator-gen-105>\", line 2, in matplotlib\n",
      "  File \"/home/aliche/anaconda3/envs/py27/lib/python2.7/site-packages/IPython/core/magic.py\", line 188, in <lambda>\n",
      "    call = lambda f, *a, **k: f(*a, **k)\n",
      "  File \"/home/aliche/anaconda3/envs/py27/lib/python2.7/site-packages/IPython/core/magics/pylab.py\", line 100, in matplotlib\n",
      "    gui, backend = self.shell.enable_matplotlib(args.gui)\n",
      "  File \"/home/aliche/anaconda3/envs/py27/lib/python2.7/site-packages/IPython/core/interactiveshell.py\", line 2950, in enable_matplotlib\n",
      "    pt.activate_matplotlib(backend)\n",
      "  File \"/home/aliche/anaconda3/envs/py27/lib/python2.7/site-packages/IPython/core/pylabtools.py\", line 308, in activate_matplotlib\n",
      "    matplotlib.pyplot.switch_backend(backend)\n",
      "  File \"/home/aliche/anaconda3/envs/py27/lib/python2.7/site-packages/matplotlib/pyplot.py\", line 232, in switch_backend\n",
      "    matplotlib.use(newbackend, warn=False, force=True)\n",
      "  File \"/home/aliche/anaconda3/envs/py27/lib/python2.7/site-packages/matplotlib/__init__.py\", line 1305, in use\n",
      "    reload(sys.modules['matplotlib.backends'])\n",
      "  File \"/home/aliche/anaconda3/envs/py27/lib/python2.7/site-packages/matplotlib/backends/__init__.py\", line 14, in <module>\n",
      "    line for line in traceback.format_stack()\n",
      "\n",
      "\n",
      "  matplotlib.use('Agg')\n",
      "/home/aliche/anaconda3/envs/py27/lib/python2.7/site-packages/NeuroTools/plotting.py:36: UserWarning: \n",
      "This call to matplotlib.use() has no effect because the backend has already\n",
      "been chosen; matplotlib.use() must be called *before* pylab, matplotlib.pyplot,\n",
      "or matplotlib.backends is imported for the first time.\n",
      "\n",
      "The backend was *originally* set to u'Qt5Agg' by the following code:\n",
      "  File \"/home/aliche/anaconda3/envs/py27/lib/python2.7/runpy.py\", line 174, in _run_module_as_main\n",
      "    \"__main__\", fname, loader, pkg_name)\n",
      "  File \"/home/aliche/anaconda3/envs/py27/lib/python2.7/runpy.py\", line 72, in _run_code\n",
      "    exec code in run_globals\n",
      "  File \"/home/aliche/anaconda3/envs/py27/lib/python2.7/site-packages/ipykernel_launcher.py\", line 16, in <module>\n",
      "    app.launch_new_instance()\n",
      "  File \"/home/aliche/anaconda3/envs/py27/lib/python2.7/site-packages/traitlets/config/application.py\", line 658, in launch_instance\n",
      "    app.start()\n",
      "  File \"/home/aliche/anaconda3/envs/py27/lib/python2.7/site-packages/ipykernel/kernelapp.py\", line 478, in start\n",
      "    self.io_loop.start()\n",
      "  File \"/home/aliche/anaconda3/envs/py27/lib/python2.7/site-packages/zmq/eventloop/ioloop.py\", line 177, in start\n",
      "    super(ZMQIOLoop, self).start()\n",
      "  File \"/home/aliche/anaconda3/envs/py27/lib/python2.7/site-packages/tornado/ioloop.py\", line 888, in start\n",
      "    handler_func(fd_obj, events)\n",
      "  File \"/home/aliche/anaconda3/envs/py27/lib/python2.7/site-packages/tornado/stack_context.py\", line 277, in null_wrapper\n",
      "    return fn(*args, **kwargs)\n",
      "  File \"/home/aliche/anaconda3/envs/py27/lib/python2.7/site-packages/zmq/eventloop/zmqstream.py\", line 440, in _handle_events\n",
      "    self._handle_recv()\n",
      "  File \"/home/aliche/anaconda3/envs/py27/lib/python2.7/site-packages/zmq/eventloop/zmqstream.py\", line 472, in _handle_recv\n",
      "    self._run_callback(callback, msg)\n",
      "  File \"/home/aliche/anaconda3/envs/py27/lib/python2.7/site-packages/zmq/eventloop/zmqstream.py\", line 414, in _run_callback\n",
      "    callback(*args, **kwargs)\n",
      "  File \"/home/aliche/anaconda3/envs/py27/lib/python2.7/site-packages/tornado/stack_context.py\", line 277, in null_wrapper\n",
      "    return fn(*args, **kwargs)\n",
      "  File \"/home/aliche/anaconda3/envs/py27/lib/python2.7/site-packages/ipykernel/kernelbase.py\", line 283, in dispatcher\n",
      "    return self.dispatch_shell(stream, msg)\n",
      "  File \"/home/aliche/anaconda3/envs/py27/lib/python2.7/site-packages/ipykernel/kernelbase.py\", line 233, in dispatch_shell\n",
      "    handler(stream, idents, msg)\n",
      "  File \"/home/aliche/anaconda3/envs/py27/lib/python2.7/site-packages/ipykernel/kernelbase.py\", line 399, in execute_request\n",
      "    user_expressions, allow_stdin)\n",
      "  File \"/home/aliche/anaconda3/envs/py27/lib/python2.7/site-packages/ipykernel/ipkernel.py\", line 208, in do_execute\n",
      "    res = shell.run_cell(code, store_history=store_history, silent=silent)\n",
      "  File \"/home/aliche/anaconda3/envs/py27/lib/python2.7/site-packages/ipykernel/zmqshell.py\", line 537, in run_cell\n",
      "    return super(ZMQInteractiveShell, self).run_cell(*args, **kwargs)\n",
      "  File \"/home/aliche/anaconda3/envs/py27/lib/python2.7/site-packages/IPython/core/interactiveshell.py\", line 2718, in run_cell\n",
      "    interactivity=interactivity, compiler=compiler, result=result)\n",
      "  File \"/home/aliche/anaconda3/envs/py27/lib/python2.7/site-packages/IPython/core/interactiveshell.py\", line 2822, in run_ast_nodes\n",
      "    if self.run_code(code, result):\n",
      "  File \"/home/aliche/anaconda3/envs/py27/lib/python2.7/site-packages/IPython/core/interactiveshell.py\", line 2882, in run_code\n",
      "    exec(code_obj, self.user_global_ns, self.user_ns)\n",
      "  File \"<ipython-input-2-0a8239197952>\", line 1, in <module>\n",
      "    get_ipython().magic(u'matplotlib')\n",
      "  File \"/home/aliche/anaconda3/envs/py27/lib/python2.7/site-packages/IPython/core/interactiveshell.py\", line 2160, in magic\n",
      "    return self.run_line_magic(magic_name, magic_arg_s)\n",
      "  File \"/home/aliche/anaconda3/envs/py27/lib/python2.7/site-packages/IPython/core/interactiveshell.py\", line 2081, in run_line_magic\n",
      "    result = fn(*args,**kwargs)\n",
      "  File \"<decorator-gen-105>\", line 2, in matplotlib\n",
      "  File \"/home/aliche/anaconda3/envs/py27/lib/python2.7/site-packages/IPython/core/magic.py\", line 188, in <lambda>\n",
      "    call = lambda f, *a, **k: f(*a, **k)\n",
      "  File \"/home/aliche/anaconda3/envs/py27/lib/python2.7/site-packages/IPython/core/magics/pylab.py\", line 100, in matplotlib\n",
      "    gui, backend = self.shell.enable_matplotlib(args.gui)\n",
      "  File \"/home/aliche/anaconda3/envs/py27/lib/python2.7/site-packages/IPython/core/interactiveshell.py\", line 2950, in enable_matplotlib\n",
      "    pt.activate_matplotlib(backend)\n",
      "  File \"/home/aliche/anaconda3/envs/py27/lib/python2.7/site-packages/IPython/core/pylabtools.py\", line 308, in activate_matplotlib\n",
      "    matplotlib.pyplot.switch_backend(backend)\n",
      "  File \"/home/aliche/anaconda3/envs/py27/lib/python2.7/site-packages/matplotlib/pyplot.py\", line 232, in switch_backend\n",
      "    matplotlib.use(newbackend, warn=False, force=True)\n",
      "  File \"/home/aliche/anaconda3/envs/py27/lib/python2.7/site-packages/matplotlib/__init__.py\", line 1305, in use\n",
      "    reload(sys.modules['matplotlib.backends'])\n",
      "  File \"/home/aliche/anaconda3/envs/py27/lib/python2.7/site-packages/matplotlib/backends/__init__.py\", line 14, in <module>\n",
      "    line for line in traceback.format_stack()\n",
      "\n",
      "\n",
      "  use('Agg')\n",
      "/home/aliche/anaconda3/envs/py27/lib/python2.7/site-packages/NeuroTools/__init__.py:125: DependencyWarning: ** interval ** package is not installed.\n",
      "To have functions using interval please install the package.\n",
      "website : http://pypi.python.org/pypi/interval/1.0.0\n",
      "\n",
      "  warnings.warn(get_import_warning(name), DependencyWarning)\n",
      "/home/aliche/anaconda3/envs/py27/lib/python2.7/site-packages/NeuroTools/signals/spikes.py:44: UserWarning: \n",
      "This call to matplotlib.use() has no effect because the backend has already\n",
      "been chosen; matplotlib.use() must be called *before* pylab, matplotlib.pyplot,\n",
      "or matplotlib.backends is imported for the first time.\n",
      "\n",
      "The backend was *originally* set to u'Qt5Agg' by the following code:\n",
      "  File \"/home/aliche/anaconda3/envs/py27/lib/python2.7/runpy.py\", line 174, in _run_module_as_main\n",
      "    \"__main__\", fname, loader, pkg_name)\n",
      "  File \"/home/aliche/anaconda3/envs/py27/lib/python2.7/runpy.py\", line 72, in _run_code\n",
      "    exec code in run_globals\n",
      "  File \"/home/aliche/anaconda3/envs/py27/lib/python2.7/site-packages/ipykernel_launcher.py\", line 16, in <module>\n",
      "    app.launch_new_instance()\n",
      "  File \"/home/aliche/anaconda3/envs/py27/lib/python2.7/site-packages/traitlets/config/application.py\", line 658, in launch_instance\n",
      "    app.start()\n",
      "  File \"/home/aliche/anaconda3/envs/py27/lib/python2.7/site-packages/ipykernel/kernelapp.py\", line 478, in start\n",
      "    self.io_loop.start()\n",
      "  File \"/home/aliche/anaconda3/envs/py27/lib/python2.7/site-packages/zmq/eventloop/ioloop.py\", line 177, in start\n",
      "    super(ZMQIOLoop, self).start()\n",
      "  File \"/home/aliche/anaconda3/envs/py27/lib/python2.7/site-packages/tornado/ioloop.py\", line 888, in start\n",
      "    handler_func(fd_obj, events)\n",
      "  File \"/home/aliche/anaconda3/envs/py27/lib/python2.7/site-packages/tornado/stack_context.py\", line 277, in null_wrapper\n",
      "    return fn(*args, **kwargs)\n",
      "  File \"/home/aliche/anaconda3/envs/py27/lib/python2.7/site-packages/zmq/eventloop/zmqstream.py\", line 440, in _handle_events\n",
      "    self._handle_recv()\n",
      "  File \"/home/aliche/anaconda3/envs/py27/lib/python2.7/site-packages/zmq/eventloop/zmqstream.py\", line 472, in _handle_recv\n",
      "    self._run_callback(callback, msg)\n",
      "  File \"/home/aliche/anaconda3/envs/py27/lib/python2.7/site-packages/zmq/eventloop/zmqstream.py\", line 414, in _run_callback\n",
      "    callback(*args, **kwargs)\n",
      "  File \"/home/aliche/anaconda3/envs/py27/lib/python2.7/site-packages/tornado/stack_context.py\", line 277, in null_wrapper\n",
      "    return fn(*args, **kwargs)\n",
      "  File \"/home/aliche/anaconda3/envs/py27/lib/python2.7/site-packages/ipykernel/kernelbase.py\", line 283, in dispatcher\n",
      "    return self.dispatch_shell(stream, msg)\n",
      "  File \"/home/aliche/anaconda3/envs/py27/lib/python2.7/site-packages/ipykernel/kernelbase.py\", line 233, in dispatch_shell\n",
      "    handler(stream, idents, msg)\n",
      "  File \"/home/aliche/anaconda3/envs/py27/lib/python2.7/site-packages/ipykernel/kernelbase.py\", line 399, in execute_request\n",
      "    user_expressions, allow_stdin)\n",
      "  File \"/home/aliche/anaconda3/envs/py27/lib/python2.7/site-packages/ipykernel/ipkernel.py\", line 208, in do_execute\n",
      "    res = shell.run_cell(code, store_history=store_history, silent=silent)\n",
      "  File \"/home/aliche/anaconda3/envs/py27/lib/python2.7/site-packages/ipykernel/zmqshell.py\", line 537, in run_cell\n",
      "    return super(ZMQInteractiveShell, self).run_cell(*args, **kwargs)\n",
      "  File \"/home/aliche/anaconda3/envs/py27/lib/python2.7/site-packages/IPython/core/interactiveshell.py\", line 2718, in run_cell\n",
      "    interactivity=interactivity, compiler=compiler, result=result)\n",
      "  File \"/home/aliche/anaconda3/envs/py27/lib/python2.7/site-packages/IPython/core/interactiveshell.py\", line 2822, in run_ast_nodes\n",
      "    if self.run_code(code, result):\n",
      "  File \"/home/aliche/anaconda3/envs/py27/lib/python2.7/site-packages/IPython/core/interactiveshell.py\", line 2882, in run_code\n",
      "    exec(code_obj, self.user_global_ns, self.user_ns)\n",
      "  File \"<ipython-input-2-0a8239197952>\", line 1, in <module>\n",
      "    get_ipython().magic(u'matplotlib')\n",
      "  File \"/home/aliche/anaconda3/envs/py27/lib/python2.7/site-packages/IPython/core/interactiveshell.py\", line 2160, in magic\n",
      "    return self.run_line_magic(magic_name, magic_arg_s)\n",
      "  File \"/home/aliche/anaconda3/envs/py27/lib/python2.7/site-packages/IPython/core/interactiveshell.py\", line 2081, in run_line_magic\n",
      "    result = fn(*args,**kwargs)\n",
      "  File \"<decorator-gen-105>\", line 2, in matplotlib\n",
      "  File \"/home/aliche/anaconda3/envs/py27/lib/python2.7/site-packages/IPython/core/magic.py\", line 188, in <lambda>\n",
      "    call = lambda f, *a, **k: f(*a, **k)\n",
      "  File \"/home/aliche/anaconda3/envs/py27/lib/python2.7/site-packages/IPython/core/magics/pylab.py\", line 100, in matplotlib\n",
      "    gui, backend = self.shell.enable_matplotlib(args.gui)\n",
      "  File \"/home/aliche/anaconda3/envs/py27/lib/python2.7/site-packages/IPython/core/interactiveshell.py\", line 2950, in enable_matplotlib\n",
      "    pt.activate_matplotlib(backend)\n",
      "  File \"/home/aliche/anaconda3/envs/py27/lib/python2.7/site-packages/IPython/core/pylabtools.py\", line 308, in activate_matplotlib\n",
      "    matplotlib.pyplot.switch_backend(backend)\n",
      "  File \"/home/aliche/anaconda3/envs/py27/lib/python2.7/site-packages/matplotlib/pyplot.py\", line 232, in switch_backend\n",
      "    matplotlib.use(newbackend, warn=False, force=True)\n",
      "  File \"/home/aliche/anaconda3/envs/py27/lib/python2.7/site-packages/matplotlib/__init__.py\", line 1305, in use\n",
      "    reload(sys.modules['matplotlib.backends'])\n",
      "  File \"/home/aliche/anaconda3/envs/py27/lib/python2.7/site-packages/matplotlib/backends/__init__.py\", line 14, in <module>\n",
      "    line for line in traceback.format_stack()\n",
      "\n",
      "\n",
      "  matplotlib.use('Agg')\n",
      "/home/aliche/anaconda3/envs/py27/lib/python2.7/site-packages/NeuroTools/signals/analogs.py:41: UserWarning: \n",
      "This call to matplotlib.use() has no effect because the backend has already\n",
      "been chosen; matplotlib.use() must be called *before* pylab, matplotlib.pyplot,\n",
      "or matplotlib.backends is imported for the first time.\n",
      "\n",
      "The backend was *originally* set to u'Qt5Agg' by the following code:\n",
      "  File \"/home/aliche/anaconda3/envs/py27/lib/python2.7/runpy.py\", line 174, in _run_module_as_main\n",
      "    \"__main__\", fname, loader, pkg_name)\n",
      "  File \"/home/aliche/anaconda3/envs/py27/lib/python2.7/runpy.py\", line 72, in _run_code\n",
      "    exec code in run_globals\n",
      "  File \"/home/aliche/anaconda3/envs/py27/lib/python2.7/site-packages/ipykernel_launcher.py\", line 16, in <module>\n",
      "    app.launch_new_instance()\n",
      "  File \"/home/aliche/anaconda3/envs/py27/lib/python2.7/site-packages/traitlets/config/application.py\", line 658, in launch_instance\n",
      "    app.start()\n",
      "  File \"/home/aliche/anaconda3/envs/py27/lib/python2.7/site-packages/ipykernel/kernelapp.py\", line 478, in start\n",
      "    self.io_loop.start()\n",
      "  File \"/home/aliche/anaconda3/envs/py27/lib/python2.7/site-packages/zmq/eventloop/ioloop.py\", line 177, in start\n",
      "    super(ZMQIOLoop, self).start()\n",
      "  File \"/home/aliche/anaconda3/envs/py27/lib/python2.7/site-packages/tornado/ioloop.py\", line 888, in start\n",
      "    handler_func(fd_obj, events)\n",
      "  File \"/home/aliche/anaconda3/envs/py27/lib/python2.7/site-packages/tornado/stack_context.py\", line 277, in null_wrapper\n",
      "    return fn(*args, **kwargs)\n",
      "  File \"/home/aliche/anaconda3/envs/py27/lib/python2.7/site-packages/zmq/eventloop/zmqstream.py\", line 440, in _handle_events\n",
      "    self._handle_recv()\n",
      "  File \"/home/aliche/anaconda3/envs/py27/lib/python2.7/site-packages/zmq/eventloop/zmqstream.py\", line 472, in _handle_recv\n",
      "    self._run_callback(callback, msg)\n",
      "  File \"/home/aliche/anaconda3/envs/py27/lib/python2.7/site-packages/zmq/eventloop/zmqstream.py\", line 414, in _run_callback\n",
      "    callback(*args, **kwargs)\n",
      "  File \"/home/aliche/anaconda3/envs/py27/lib/python2.7/site-packages/tornado/stack_context.py\", line 277, in null_wrapper\n",
      "    return fn(*args, **kwargs)\n",
      "  File \"/home/aliche/anaconda3/envs/py27/lib/python2.7/site-packages/ipykernel/kernelbase.py\", line 283, in dispatcher\n",
      "    return self.dispatch_shell(stream, msg)\n",
      "  File \"/home/aliche/anaconda3/envs/py27/lib/python2.7/site-packages/ipykernel/kernelbase.py\", line 233, in dispatch_shell\n",
      "    handler(stream, idents, msg)\n",
      "  File \"/home/aliche/anaconda3/envs/py27/lib/python2.7/site-packages/ipykernel/kernelbase.py\", line 399, in execute_request\n",
      "    user_expressions, allow_stdin)\n",
      "  File \"/home/aliche/anaconda3/envs/py27/lib/python2.7/site-packages/ipykernel/ipkernel.py\", line 208, in do_execute\n",
      "    res = shell.run_cell(code, store_history=store_history, silent=silent)\n",
      "  File \"/home/aliche/anaconda3/envs/py27/lib/python2.7/site-packages/ipykernel/zmqshell.py\", line 537, in run_cell\n",
      "    return super(ZMQInteractiveShell, self).run_cell(*args, **kwargs)\n",
      "  File \"/home/aliche/anaconda3/envs/py27/lib/python2.7/site-packages/IPython/core/interactiveshell.py\", line 2718, in run_cell\n",
      "    interactivity=interactivity, compiler=compiler, result=result)\n",
      "  File \"/home/aliche/anaconda3/envs/py27/lib/python2.7/site-packages/IPython/core/interactiveshell.py\", line 2822, in run_ast_nodes\n",
      "    if self.run_code(code, result):\n",
      "  File \"/home/aliche/anaconda3/envs/py27/lib/python2.7/site-packages/IPython/core/interactiveshell.py\", line 2882, in run_code\n",
      "    exec(code_obj, self.user_global_ns, self.user_ns)\n",
      "  File \"<ipython-input-2-0a8239197952>\", line 1, in <module>\n",
      "    get_ipython().magic(u'matplotlib')\n",
      "  File \"/home/aliche/anaconda3/envs/py27/lib/python2.7/site-packages/IPython/core/interactiveshell.py\", line 2160, in magic\n",
      "    return self.run_line_magic(magic_name, magic_arg_s)\n",
      "  File \"/home/aliche/anaconda3/envs/py27/lib/python2.7/site-packages/IPython/core/interactiveshell.py\", line 2081, in run_line_magic\n",
      "    result = fn(*args,**kwargs)\n",
      "  File \"<decorator-gen-105>\", line 2, in matplotlib\n",
      "  File \"/home/aliche/anaconda3/envs/py27/lib/python2.7/site-packages/IPython/core/magic.py\", line 188, in <lambda>\n",
      "    call = lambda f, *a, **k: f(*a, **k)\n",
      "  File \"/home/aliche/anaconda3/envs/py27/lib/python2.7/site-packages/IPython/core/magics/pylab.py\", line 100, in matplotlib\n",
      "    gui, backend = self.shell.enable_matplotlib(args.gui)\n",
      "  File \"/home/aliche/anaconda3/envs/py27/lib/python2.7/site-packages/IPython/core/interactiveshell.py\", line 2950, in enable_matplotlib\n",
      "    pt.activate_matplotlib(backend)\n",
      "  File \"/home/aliche/anaconda3/envs/py27/lib/python2.7/site-packages/IPython/core/pylabtools.py\", line 308, in activate_matplotlib\n",
      "    matplotlib.pyplot.switch_backend(backend)\n",
      "  File \"/home/aliche/anaconda3/envs/py27/lib/python2.7/site-packages/matplotlib/pyplot.py\", line 232, in switch_backend\n",
      "    matplotlib.use(newbackend, warn=False, force=True)\n",
      "  File \"/home/aliche/anaconda3/envs/py27/lib/python2.7/site-packages/matplotlib/__init__.py\", line 1305, in use\n",
      "    reload(sys.modules['matplotlib.backends'])\n",
      "  File \"/home/aliche/anaconda3/envs/py27/lib/python2.7/site-packages/matplotlib/backends/__init__.py\", line 14, in <module>\n",
      "    line for line in traceback.format_stack()\n",
      "\n",
      "\n",
      "  matplotlib.use('Agg')\n",
      "/home/aliche/anaconda3/envs/py27/lib/python2.7/site-packages/statsmodels/compat/pandas.py:56: FutureWarning: The pandas.core.datetools module is deprecated and will be removed in a future version. Please use the pandas.tseries module instead.\n",
      "  from pandas.core import datetools\n"
     ]
    }
   ],
   "source": [
    "%matplotlib\n",
    "#inline\n",
    "%load_ext autoreload\n",
    "%autoreload 2\n",
    "import numpy as np\n",
    "import matplotlib.pyplot as pl\n",
    "import pickle as pkl\n",
    "import Recordings\n",
    "import signale,trajectory\n",
    "import extras.trees\n",
    "import os,sys\n",
    "import fnmatch\n",
    "import colormaps as cmaps\n",
    "import seaborn as sns\n",
    "import scipy.signal as scsig\n",
    "import seaborn as sns\n",
    "import random\n",
    "from statsmodels.nonparametric.kernel_density import KDEMultivariate\n",
    "import pandas as pd\n",
    "from scipy.io import savemat"
   ]
  },
  {
   "cell_type": "code",
   "execution_count": 3,
   "metadata": {},
   "outputs": [],
   "source": [
    "def PolyArea(x,y):\n",
    "    return 0.5*np.abs(np.dot(x,np.roll(y,1))-np.dot(y,np.roll(x,1)))\n",
    "def my_shuffle(array):\n",
    "        random.shuffle(array)\n",
    "        return array\n",
    "def locate(pattern, root=os.curdir):\n",
    "    '''\n",
    "    Locate all files matching supplied filename pattern in and below\n",
    "        supplied root directory.\n",
    "    Parameters\n",
    "    ----------\n",
    "        pattern : string\n",
    "            A string representing pattern you want to look for in the path.\n",
    "        root : string\n",
    "            contains the path address you want to look trough!\n",
    "    Returns\n",
    "    ----------\n",
    "        Array of strings consist of two column, first contains the path and second the file names that matched \n",
    "        the desired pattern.\n",
    "    '''\n",
    "    for path, dirs, files in os.walk(os.path.abspath(root)):\n",
    "        for filename in fnmatch.filter(files, pattern):\n",
    "            yield [path,filename]\n",
    "def ncs_loader(fileName):\n",
    "    ncs_dtype = np.dtype([\n",
    "        ('qTimeStamps'  ,     '<u8'),\n",
    "        ('ChannelNumber'  , '<u4'),\n",
    "        ('SampleFreq',      '<u4'),\n",
    "        ('NumValidSamples', '<u4'),\n",
    "        ('Samples'  ,       '<i2',(512,)),\n",
    "    ])\n",
    "    return np.memmap(fileName,dtype=ncs_dtype,offset=(16 * 2**10))\n",
    "def nvt_loader(filename):\n",
    "    \"\"\" \n",
    "    Memory map the Neuralynx .nvt format\n",
    "    Fields\n",
    "    -------\n",
    "    swstx\n",
    "    swid\n",
    "    sw_data_size\n",
    "    qTimeStamps       Cheetah timestamp for this record. This value is in microseconds.\n",
    "    dwpoints          Points with the color bitfield values for this record.This is a 400\n",
    "                      element array.  See Video Tracker in reference. \n",
    "    sncrc\n",
    "    dnextracted_x     Extracted X location of the target being tracked. \n",
    "    dnextracted_y     Extracted Y location of the target being tracked.\n",
    "    dnextracted_angle The calculated head angle in degrees clockwise from the positive Y\n",
    "                      axis. Zero will be assigned if angle tracking is disabled.\n",
    "    dnTargets         Colored targets using the samebitfield format used by the dwPoints array.\n",
    "                      Instead of transitions, the bitfield indicates the colors that make up \n",
    "                      each particular target and the center point of that target.  This is a 50\n",
    "                      element array sorted by size from largest (index 0) to smallest(index 49).\n",
    "                      A target value of 0 means that no target is present in thatindex location.\n",
    "                      See Video Tracker Bitfield Information in reference. \n",
    "    \n",
    "    Reference:\n",
    "    ----------\n",
    "        http://neuralynx.com/software/NeuralynxDataFileFormats.pdf\n",
    "    \"\"\" \n",
    "    nev_dtype = np.dtype([\n",
    "        ('swstx'              , '<i2'),\n",
    "        ('swid'               , '<i2'),\n",
    "        ('sw_data_size'       , '<i2'),\n",
    "        ('qTimeStamps'        , '<u8'),\n",
    "        ('dwPoints'           , '<u4',(400,)),\n",
    "        ('sncrc'              , '<i2'),\n",
    "        ('dnextracted_x'      , '<i4'),\n",
    "        ('dnextracted_y'      , '<i4'),\n",
    "        ('dnextracted_angle'  , '<i4'),\n",
    "        ('dnTargets'          , '<i4',(50,)),\n",
    "    ])\n",
    "    return np.memmap(filename, dtype=nev_dtype, mode='readwrite',\n",
    "       offset=(16 * 2**10))\n",
    "def nev_loader(filename):\n",
    "    \"\"\" Memory map the Neuralynx .nev format \"\"\" \n",
    "    nev_dtype = np.dtype([\n",
    "        ('nstx'           , '<i2'),\n",
    "        ('npkt_id'        , '<i2'),\n",
    "        ('npkt_data_size' , '<i2'),\n",
    "        ('qTimeStamps'    , '<u8'),\n",
    "        ('nevent_id'      , '<i2'),\n",
    "        ('nttl'           , '<i2'),\n",
    "        ('ncrc'           , '<i2'),\n",
    "        ('ndummy1'        , '<i2'),\n",
    "        ('ndummy2'        , '<i2'),\n",
    "        ('dnExtra'        , '<i4',(8,)),\n",
    "        ('String'         , '<S128')\n",
    "    ])\n",
    "    return np.memmap(filename, dtype=nev_dtype, mode='r',\n",
    "       offset=(16 * 2**10))\n",
    "###################################################### initialization\n",
    "###################################################### Parameters\n",
    "expType = 'real'\n",
    "prefix = 'TT'\n",
    "suffix = ''\n",
    "noSpeck = False\n",
    "onlyRunning = True\n",
    "showHeadDir = False\n",
    "saveFigs = True\n",
    "useRecommended = False\n",
    "TTName = '.t'\n",
    "\n",
    "# initialize in order to make them available globally\n",
    "spikes=[]\n",
    "ID=-1\n",
    "stList=signale.spikezugList(t_start=None, t_stop=None, dims=[2])\n",
    "eventData = None\n",
    "\n",
    "cwd=os.getcwd()\n",
    "\n",
    "\n",
    "###################################################### functions\n",
    "\n",
    "def getData(folderName):\n",
    "    global spikes, ID, eventData\n",
    "\n",
    "    if os.path.isdir(folderName):\n",
    "        dirList=os.listdir(folderName)\n",
    "        os.chdir(folderName)\n",
    "    else:\n",
    "        dirList = [folderName]\n",
    "    for item in sorted(dirList):\n",
    "        if os.path.isfile(item):\n",
    "            if (TTName.__class__ == list and item in TTName) or\\\n",
    "                    (TTName.__class__ == str and item.endswith(suffix+'.t') and item.startswith(prefix)):\n",
    "                print 'loading', item , 'from folder: '+'/'.join(folderName.split('/')[-3:])\n",
    "                spikes = signale.load_tFile(item, showHeader=False)\n",
    "                ID += 1\n",
    "                stList.__setitem__(ID, spikes)\n",
    "                stList.addTags(ID, file=item, dir=folderName)\n",
    "            \n",
    "        elif os.path.isdir(item):\n",
    "            getData(item)\n",
    "    os.chdir('..')\n"
   ]
  },
  {
   "cell_type": "code",
   "execution_count": 4,
   "metadata": {},
   "outputs": [],
   "source": [
    "WorkPath = '/home/aliche/ownCloud/IpythonNotebooks/Sleep/MEC_Lesion_Project/PCA_MEC/DATA/'\n",
    "experimentFolder = '/home/aliche/dataWork/ali/MECLesion_SleepData/Marta/Rat3906/LinearTrack_06-03-16_Day4/'"
   ]
  },
  {
   "cell_type": "code",
   "execution_count": 5,
   "metadata": {
    "scrolled": false
   },
   "outputs": [
    {
     "name": "stdout",
     "output_type": "stream",
     "text": [
      "Rat3906-----Day4\n",
      "loading TT12_01.t from folder: LinearTrack_06-03-16_Day4/parrentData/\n",
      "loading TT12_02.t from folder: LinearTrack_06-03-16_Day4/parrentData/\n",
      "loading TT12_03.t from folder: LinearTrack_06-03-16_Day4/parrentData/\n",
      "loading TT12_04.t from folder: LinearTrack_06-03-16_Day4/parrentData/\n",
      "loading TT12_05.t from folder: LinearTrack_06-03-16_Day4/parrentData/\n",
      "loading TT12_06.t from folder: LinearTrack_06-03-16_Day4/parrentData/\n",
      "loading TT12_07.t from folder: LinearTrack_06-03-16_Day4/parrentData/\n",
      "loading TT12_08.t from folder: LinearTrack_06-03-16_Day4/parrentData/\n",
      "loading TT12_09.t from folder: LinearTrack_06-03-16_Day4/parrentData/\n",
      "loading TT12_10.t from folder: LinearTrack_06-03-16_Day4/parrentData/\n",
      "loading TT12_11.t from folder: LinearTrack_06-03-16_Day4/parrentData/\n",
      "loading TT12_12.t from folder: LinearTrack_06-03-16_Day4/parrentData/\n",
      "loading TT12_13.t from folder: LinearTrack_06-03-16_Day4/parrentData/\n",
      "loading TT12_14.t from folder: LinearTrack_06-03-16_Day4/parrentData/\n",
      "loading TT1_01.t from folder: LinearTrack_06-03-16_Day4/parrentData/\n",
      "loading TT1_02.t from folder: LinearTrack_06-03-16_Day4/parrentData/\n",
      "loading TT1_03.t from folder: LinearTrack_06-03-16_Day4/parrentData/\n",
      "loading TT1_04.t from folder: LinearTrack_06-03-16_Day4/parrentData/\n",
      "loading TT1_05.t from folder: LinearTrack_06-03-16_Day4/parrentData/\n",
      "loading TT1_06.t from folder: LinearTrack_06-03-16_Day4/parrentData/\n",
      "loading TT1_07.t from folder: LinearTrack_06-03-16_Day4/parrentData/\n",
      "loading TT1_09.t from folder: LinearTrack_06-03-16_Day4/parrentData/\n",
      "loading TT1_10.t from folder: LinearTrack_06-03-16_Day4/parrentData/\n",
      "loading TT2_01.t from folder: LinearTrack_06-03-16_Day4/parrentData/\n",
      "loading TT2_02.t from folder: LinearTrack_06-03-16_Day4/parrentData/\n",
      "loading TT2_03.t from folder: LinearTrack_06-03-16_Day4/parrentData/\n",
      "loading TT2_04.t from folder: LinearTrack_06-03-16_Day4/parrentData/\n",
      "loading TT2_05.t from folder: LinearTrack_06-03-16_Day4/parrentData/\n",
      "loading TT2_06.t from folder: LinearTrack_06-03-16_Day4/parrentData/\n",
      "loading TT2_07.t from folder: LinearTrack_06-03-16_Day4/parrentData/\n",
      "loading TT3_01.t from folder: LinearTrack_06-03-16_Day4/parrentData/\n",
      "loading TT3_02.t from folder: LinearTrack_06-03-16_Day4/parrentData/\n",
      "loading TT3_03.t from folder: LinearTrack_06-03-16_Day4/parrentData/\n",
      "loading TT3_04.t from folder: LinearTrack_06-03-16_Day4/parrentData/\n",
      "loading TT3_05.t from folder: LinearTrack_06-03-16_Day4/parrentData/\n",
      "loading TT3_06.t from folder: LinearTrack_06-03-16_Day4/parrentData/\n",
      "loading TT3_07.t from folder: LinearTrack_06-03-16_Day4/parrentData/\n",
      "loading TT3_08.t from folder: LinearTrack_06-03-16_Day4/parrentData/\n",
      "loading TT3_09.t from folder: LinearTrack_06-03-16_Day4/parrentData/\n",
      "loading TT3_10.t from folder: LinearTrack_06-03-16_Day4/parrentData/\n",
      "loading TT3_11.t from folder: LinearTrack_06-03-16_Day4/parrentData/\n",
      "loading TT4_01.t from folder: LinearTrack_06-03-16_Day4/parrentData/\n",
      "loading TT5_01.t from folder: LinearTrack_06-03-16_Day4/parrentData/\n",
      "loading TT5_02.t from folder: LinearTrack_06-03-16_Day4/parrentData/\n",
      "loading TT5_03.t from folder: LinearTrack_06-03-16_Day4/parrentData/\n",
      "loading TT5_04.t from folder: LinearTrack_06-03-16_Day4/parrentData/\n",
      "loading TT5_05.t from folder: LinearTrack_06-03-16_Day4/parrentData/\n",
      "loading TT6_01.t from folder: LinearTrack_06-03-16_Day4/parrentData/\n",
      "loading TT6_02.t from folder: LinearTrack_06-03-16_Day4/parrentData/\n",
      "loading TT6_03.t from folder: LinearTrack_06-03-16_Day4/parrentData/\n",
      "loading TT6_04.t from folder: LinearTrack_06-03-16_Day4/parrentData/\n",
      "loading TT7_01.t from folder: LinearTrack_06-03-16_Day4/parrentData/\n",
      "loading TT7_02.t from folder: LinearTrack_06-03-16_Day4/parrentData/\n",
      "loading TT7_03.t from folder: LinearTrack_06-03-16_Day4/parrentData/\n",
      "loading TT7_04.t from folder: LinearTrack_06-03-16_Day4/parrentData/\n",
      "loading TT8_01.t from folder: LinearTrack_06-03-16_Day4/parrentData/\n",
      "loading TT8_02.t from folder: LinearTrack_06-03-16_Day4/parrentData/\n",
      "loading TT8_03.t from folder: LinearTrack_06-03-16_Day4/parrentData/\n",
      "loading TT8_04.t from folder: LinearTrack_06-03-16_Day4/parrentData/\n",
      "loading TT8_05.t from folder: LinearTrack_06-03-16_Day4/parrentData/\n",
      "loading TT8_06.t from folder: LinearTrack_06-03-16_Day4/parrentData/\n",
      "loading TT8_07.t from folder: LinearTrack_06-03-16_Day4/parrentData/\n",
      "loading TT8_08.t from folder: LinearTrack_06-03-16_Day4/parrentData/\n",
      "loading TT8_09.t from folder: LinearTrack_06-03-16_Day4/parrentData/\n",
      "loading TT8_10.t from folder: LinearTrack_06-03-16_Day4/parrentData/\n",
      "loading TT8_11.t from folder: LinearTrack_06-03-16_Day4/parrentData/\n",
      "loading TT8_12.t from folder: LinearTrack_06-03-16_Day4/parrentData/\n",
      "loading TT8_13.t from folder: LinearTrack_06-03-16_Day4/parrentData/\n",
      "loading TT8_14.t from folder: LinearTrack_06-03-16_Day4/parrentData/\n",
      "loading TT8_15.t from folder: LinearTrack_06-03-16_Day4/parrentData/\n",
      "loading TT9_01.t from folder: LinearTrack_06-03-16_Day4/parrentData/\n",
      "loading TT9_02.t from folder: LinearTrack_06-03-16_Day4/parrentData/\n",
      "loading TT9_03.t from folder: LinearTrack_06-03-16_Day4/parrentData/\n",
      "loading TT9_04.t from folder: LinearTrack_06-03-16_Day4/parrentData/\n",
      "loading TT9_05.t from folder: LinearTrack_06-03-16_Day4/parrentData/\n",
      "loading TT9_06.t from folder: LinearTrack_06-03-16_Day4/parrentData/\n",
      "loading TT9_07.t from folder: LinearTrack_06-03-16_Day4/parrentData/\n",
      "loading TT9_08.t from folder: LinearTrack_06-03-16_Day4/parrentData/\n",
      "loading TT9_09.t from folder: LinearTrack_06-03-16_Day4/parrentData/\n",
      "loading TT9_10.t from folder: LinearTrack_06-03-16_Day4/parrentData/\n",
      "loading TT9_11.t from folder: LinearTrack_06-03-16_Day4/parrentData/\n",
      "loading TT9_12.t from folder: LinearTrack_06-03-16_Day4/parrentData/\n",
      "loading TT9_13.t from folder: LinearTrack_06-03-16_Day4/parrentData/\n",
      "loading TT9_14.t from folder: LinearTrack_06-03-16_Day4/parrentData/\n",
      "loading TT9_15.t from folder: LinearTrack_06-03-16_Day4/parrentData/\n",
      "loading TT9_16.t from folder: LinearTrack_06-03-16_Day4/parrentData/\n",
      "loading TT9_17.t from folder: LinearTrack_06-03-16_Day4/parrentData/\n",
      "loading TT9_18.t from folder: LinearTrack_06-03-16_Day4/parrentData/\n",
      "loading TT9_19.t from folder: LinearTrack_06-03-16_Day4/parrentData/\n",
      "loading TT9_20.t from folder: LinearTrack_06-03-16_Day4/parrentData/\n",
      "loading TT9_21.t from folder: LinearTrack_06-03-16_Day4/parrentData/\n",
      "0\n",
      "bin edges are caclulated with width 100 ms\n",
      "1\n",
      "bin edges are caclulated with width 100 ms\n",
      "2\n",
      "bin edges are caclulated with width 100 ms\n",
      "0\n",
      "time bin edges are proovided by user.\n",
      "1\n",
      "time bin edges are proovided by user.\n",
      "2\n",
      "time bin edges are proovided by user.\n",
      "(array([66, 67, 68, 69, 70, 71, 72, 73, 74, 75, 76, 77, 78, 79, 80, 81, 82,\n",
      "       83, 84, 85, 86, 87, 88, 89, 90]),)\n",
      "(array([65, 66, 67, 68, 69, 70, 71, 72, 73, 74, 75, 76, 77, 78, 79, 80, 81,\n",
      "       82, 83, 84, 85, 86, 87, 88, 89, 90]),)\n"
     ]
    }
   ],
   "source": [
    "Nslices = 1 #number of slices that a theta cycle should be cut\n",
    "animal = experimentFolder.split('/')[-3]\n",
    "dday = experimentFolder.split('_')[-1][:-1]\n",
    "print animal+'-----'+dday\n",
    "parrentFolder = os.path.join(experimentFolder,'parrentData/')\n",
    "getData(parrentFolder)\n",
    "if Nslices==1:\n",
    "    tt = pkl.load(open(parrentFolder+'thBins.npArr','rb'))\n",
    "    bb = 100\n",
    "else:\n",
    "    tt = pkl.load(open(parrentFolder+'4thBins.npArr','rb'))\n",
    "    bb = 25\n",
    "pre,track,post  = [stList.time_slice(item[0],item[-1]) for item in tt[:3]]\n",
    "ExperimentSessions = [pre,track,post]\n",
    "corrMatrices = []\n",
    "Qs = []\n",
    "eigVals = []\n",
    "eigVecs = []\n",
    "Ps = []\n",
    "for ii,item in enumerate(ExperimentSessions):\n",
    "    print ii\n",
    "    Q,C,l,V,P = item.PCA(bb)\n",
    "    corrMatrices.append(C)\n",
    "    Qs.append(Q)\n",
    "    eigVals.append(l)\n",
    "    eigVecs.append(V)\n",
    "    Ps.append(P)\n",
    "            \n",
    "#####PCA with time bins defined by theta periods\n",
    "ThetaCorrMatrices = []\n",
    "ThetaQs = []\n",
    "ThetaEigVals = []\n",
    "ThetaEigVecs = []\n",
    "ThetaPs = []\n",
    "for ii,item in enumerate(ExperimentSessions):\n",
    "    print ii\n",
    "    Q,C,l,V,P = item.PCA(bins=tt[ii])\n",
    "    ThetaCorrMatrices.append(C)\n",
    "    ThetaQs.append(Q)\n",
    "    ThetaEigVals.append(l)\n",
    "    ThetaEigVecs.append(V)\n",
    "    ThetaPs.append(P)\n",
    "\n",
    "N = stList.id_list.size*1.0\n",
    "lMax = []\n",
    "lMin = []\n",
    "TlMax = []\n",
    "TlMin = []\n",
    "for q,Tq in zip(Qs,ThetaQs):\n",
    "    lMax.append(np.math.pow(1 + np.math.sqrt(N/q.size),2))\n",
    "    lMin.append(np.math.pow(1 - np.math.sqrt(N/q.size),2))\n",
    "    TlMax.append(np.math.pow(1 + np.math.sqrt(N/Tq.size),2))\n",
    "    TlMin.append(np.math.pow(1 - np.math.sqrt(N/Tq.size),2))\n",
    "TW_limit =  np.math.pow(N,-0.6666666666)\n",
    "#print lMax,lMin,TW_limit\n",
    "##################################################################\n",
    "f,axarr = pl.subplots(2,3,figsize=[15,10],sharey=True)\n",
    "axarr[0,0].scatter(range(eigVals[0].size),eigVals[0],s=25)\n",
    "axarr[0,0].axhline(lMax[0]+TW_limit,color = 'r',linestyle='--')\n",
    "axarr[0,1].scatter(range(eigVals[1].size),eigVals[1],s=25)\n",
    "axarr[0,1].axhline(lMax[1]+TW_limit,color = 'r',linestyle='--')\n",
    "axarr[0,2].scatter(range(eigVals[2].size),eigVals[2],s=25)\n",
    "axarr[0,2].axhline(lMax[2]+TW_limit,color = 'r',linestyle='--')\n",
    "############\n",
    "axarr[1,0].scatter(range(ThetaEigVals[0].size),ThetaEigVals[0],s=75)\n",
    "axarr[1,0].axhline(TlMax[0]+TW_limit,color = 'r',linestyle='--')\n",
    "axarr[1,1].scatter(range(eigVals[1].size),ThetaEigVals[1],s=25)\n",
    "axarr[1,1].axhline(TlMax[1]+TW_limit,color = 'r',linestyle='--')\n",
    "axarr[1,2].scatter(range(eigVals[2].size),ThetaEigVals[2],s=25)\n",
    "axarr[1,2].axhline(TlMax[2]+TW_limit,color = 'r',linestyle='--')\n",
    "######################################################################\n",
    "Gamma = []\n",
    "TGamma = []\n",
    "for ii in range(3):\n",
    "    G = []\n",
    "    TG = []\n",
    "    for jj in range(int(N)):\n",
    "        G.append(eigVecs[1][jj].T.dot(corrMatrices[ii]).dot(eigVecs[1][jj]))\n",
    "        TG.append(ThetaEigVecs[1][jj].T.dot(ThetaCorrMatrices[ii]).dot(ThetaEigVecs[1][jj]))\n",
    "    Gamma.append(np.array(G))\n",
    "    TGamma.append(np.array(TG))\n",
    "print np.where(eigVals[2]>lMax[2]+TW_limit)\n",
    "print np.where(ThetaEigVals[2]>TlMax[2]+TW_limit)"
   ]
  },
  {
   "cell_type": "code",
   "execution_count": 6,
   "metadata": {},
   "outputs": [
    {
     "data": {
      "text/plain": [
       "[<matplotlib.lines.Line2D at 0x7fec3c197710>]"
      ]
     },
     "execution_count": 6,
     "metadata": {},
     "output_type": "execute_result"
    }
   ],
   "source": [
    "pl.plot(np.diff(tt[0]))"
   ]
  },
  {
   "cell_type": "code",
   "execution_count": 6,
   "metadata": {},
   "outputs": [
    {
     "data": {
      "text/plain": [
       "Text(0.5,1,u'PRE vs. POST')"
      ]
     },
     "execution_count": 6,
     "metadata": {},
     "output_type": "execute_result"
    }
   ],
   "source": [
    "sigN = 1\n",
    "f,(ax1,ax2,ax3,ax4) = pl.subplots(1,4,figsize=[30,10])\n",
    "ax1.scatter(eigVals[1][sigN:],Gamma[0][sigN:],s=10)\n",
    "ax1.scatter(ThetaEigVals[1][sigN:],TGamma[0][sigN:],c='r',s=10)\n",
    "ax2.scatter(eigVals[1][sigN:],Gamma[1][sigN:],s=10)\n",
    "ax2.scatter(ThetaEigVals[1][sigN:],TGamma[1][sigN:],c='r',s=10)\n",
    "ax3.scatter(eigVals[1][sigN:],Gamma[2][sigN:],s=10)\n",
    "ax3.scatter(ThetaEigVals[1][sigN:],TGamma[2][sigN:],c='r',s=10)\n",
    "ax4.scatter(Gamma[0][sigN:],Gamma[2][sigN:],s=100)\n",
    "ax4.scatter(TGamma[0][sigN:],TGamma[2][sigN:],c='r',s=100,alpha=0.7)\n",
    "ax1.plot([0.51,1.85],[0.51,1.85],'k--', lw=1)\n",
    "ax2.plot([0.51,1.85],[0.51,1.85],'k--', lw=1)\n",
    "ax3.plot([0.51,1.85],[0.51,1.85],'k--', lw=1)\n",
    "ax4.plot([0.51,1.85],[0.51,1.85],'k--', lw=1)\n",
    "ax1.set_ylabel('Avg Reactivation PRE')\n",
    "ax1.set_xlabel('Signal EigVals LinearTrack')\n",
    "ax3.set_ylabel('Avg Reactivation POST')\n",
    "ax2.set_xlabel('Signal EigVals LinearTrack')\n",
    "ax3.set_xlabel('Signal EigVals LinearTrack')\n",
    "ax4.set_ylabel('Avg Reactivation POST')\n",
    "ax4.set_xlabel('Avg Reactivation PRE')\n",
    "ax1.set_title('Sleep PRE')\n",
    "ax3.set_title('Sleep POST')\n",
    "ax4.set_title('PRE vs. POST')"
   ]
  },
  {
   "cell_type": "code",
   "execution_count": 7,
   "metadata": {},
   "outputs": [],
   "source": [
    "GmSh = []\n",
    "TGmSh = []\n",
    "for ss in range(1500):\n",
    "    \n",
    "    evSH = []\n",
    "    TevSH = []\n",
    "    for ii,ev in enumerate(eigVecs[1]):\n",
    "        shuffledIDS  = my_shuffle(stList.id_list)\n",
    "        evSH.append(ev[shuffledIDS])\n",
    "        TevSH.append(ThetaEigVecs[1][ii][shuffledIDS])\n",
    "    for ii in range(3):\n",
    "        G = []\n",
    "        TG = []\n",
    "        for jj in range(int(N)):\n",
    "            cm = corrMatrices[ii]\n",
    "            #cmSH = cm[:,shuffledIDS]\n",
    "            #cmSH = cmSH[shuffledIDS,:]\n",
    "            G.append(evSH[jj].T.dot(cm).dot(evSH[jj]))\n",
    "            TG.append(TevSH[jj].T.dot(ThetaCorrMatrices[ii]).dot(TevSH[jj]))\n",
    "        GmSh.append(np.array(G))\n",
    "        TGmSh.append(np.array(TG))"
   ]
  },
  {
   "cell_type": "code",
   "execution_count": 14,
   "metadata": {},
   "outputs": [],
   "source": [
    "pd.to_pickle(Gscatt,'/home/aliche/ownCloud/IpythonNotebooks/Sleep/MEC_Lesion_Project/files/GammaShuffled.pkl')"
   ]
  },
  {
   "cell_type": "code",
   "execution_count": 8,
   "metadata": {},
   "outputs": [
    {
     "name": "stdout",
     "output_type": "stream",
     "text": [
      "LinregressResult(slope=0.440738901251335, intercept=0.5592216775734162, rvalue=0.43063091545647075, pvalue=0.0, stderr=0.0025144839626495405)\n",
      "LinregressResult(slope=0.5151845578234345, intercept=0.48478783815720305, rvalue=0.4813502825091887, pvalue=0.0, stderr=0.0025537566324126603)\n"
     ]
    },
    {
     "data": {
      "text/plain": [
       "<matplotlib.collections.PathCollection at 0x7feee80fc9d0>"
      ]
     },
     "execution_count": 8,
     "metadata": {},
     "output_type": "execute_result"
    }
   ],
   "source": [
    "from scipy.stats import  linregress\n",
    "sns.set_style('ticks')\n",
    "sigN=0\n",
    "f,(ax,bx) = pl.subplots(1,2,figsize=[20,10])\n",
    "Gscatt = []\n",
    "TGscatt = []\n",
    "for ii in np.arange(0,4447,3):\n",
    "    for jj in range(sigN,eigVals[1].size):\n",
    "        Gscatt.append([GmSh[ii][jj],GmSh[ii+2][jj]])\n",
    "        TGscatt.append([TGmSh[ii][jj],TGmSh[ii+2][jj]])\n",
    "Gscatt = np.array(Gscatt)\n",
    "TGscatt = np.array(TGscatt)\n",
    "print linregress(Gscatt[:,0],Gscatt[:,1])\n",
    "print linregress(TGscatt[:,0],TGscatt[:,1])\n",
    "#sns.kdeplot(Gscatt,ax=ax,shade=True,shade_lowest=False,n_levels=20)\n",
    "#sns.kdeplot(TGscatt,ax=bx,shade=True,shade_lowest=False)\n",
    "ax.plot([0.81,1.85],[0.81,1.85],'k--', lw=1)\n",
    "ax.scatter(Gamma[0][sigN:],Gamma[2][sigN:],marker='x',c='k',s=50,zorder=20)\n",
    "bx.plot([0.81,1.85],[0.81,1.85],'k--', lw=1)\n",
    "bx.scatter(TGamma[0][sigN:],TGamma[2][sigN:],marker='x',c='k',s=50,zorder=20)\n",
    "#pl.scatter(TGamma[0][sigN:],TGamma[2][sigN:],c='r',s=100,alpha=0.7)"
   ]
  },
  {
   "cell_type": "code",
   "execution_count": 9,
   "metadata": {},
   "outputs": [],
   "source": [
    "kde = KDEMultivariate(Gscatt,var_type='cc', bw='normal_reference')\n",
    "kdeTh = KDEMultivariate(TGscatt,var_type='cc', bw='normal_reference')"
   ]
  },
  {
   "cell_type": "code",
   "execution_count": 10,
   "metadata": {},
   "outputs": [
    {
     "name": "stdout",
     "output_type": "stream",
     "text": [
      "0.9921404000453174\n"
     ]
    }
   ],
   "source": [
    "f,ax = pl.subplots(1,1)\n",
    "xx,yy = np.meshgrid(np.linspace(0.8,1.2,100),np.linspace(0.8,1.2,100))\n",
    "points = np.vstack([xx.ravel(), yy.ravel()])\n",
    "z=kdeTh.pdf(points).reshape(xx.shape)\n",
    "zc=kdeTh.cdf(points).reshape(xx.shape)\n",
    "area = np.power(np.diff(xx)[0][0],2)\n",
    "cdfArray = []\n",
    "print z.sum()*area\n",
    "CS = pl.contour(xx,yy,z,200,colors='k')\n",
    "contourSet = CS.collections\n",
    "cProb = 0\n",
    "for iidxC,c in enumerate(contourSet):\n",
    "    pth = c.get_paths()[0]\n",
    "    if iidxC<len(contourSet)-1:\n",
    "        nextPth = contourSet[iidxC+1].get_paths()[0]\n",
    "        A_current = PolyArea(pth.vertices[:,0],pth.vertices[:,1])\n",
    "        A_next = PolyArea(nextPth.vertices[:,0],nextPth.vertices[:,1])\n",
    "    prob = kdeTh.pdf(pth.vertices).mean()\n",
    "    probNext = kdeTh.pdf(nextPth.vertices).mean()\n",
    "    pMass = (prob+probNext)*(A_current-A_next)/2\n",
    "    cProb+=pMass\n",
    "    cdfArray.append(cProb)\n",
    "    #pl.scatter(iidxC,cProb,c='r')\n",
    "#pl.axhline(5e-2,lw=1)\n",
    "#pl.axhline(1e-2,lw=1)"
   ]
  },
  {
   "cell_type": "code",
   "execution_count": 11,
   "metadata": {},
   "outputs": [
    {
     "data": {
      "text/plain": [
       "<matplotlib.collections.PathCollection at 0x7feed16d6190>"
      ]
     },
     "execution_count": 11,
     "metadata": {},
     "output_type": "execute_result"
    }
   ],
   "source": [
    "#pl.scatter(range(cdfArray.size),cdfArray)\n",
    "#pl.axhline(5e-2,lw=1)\n",
    "#pl.axhline(1e-2,lw=1)\n",
    "cdfArray = np.array(cdfArray)\n",
    "selContourIdx = []\n",
    "for prob in [0.01,0.05,0.5,0.9]:\n",
    "    selContourIdx.append(np.power((cdfArray-prob),2).argmin())\n",
    "for idx in selContourIdx:\n",
    "    #pl.scatter(idx+1,cdfArray[idx+1],c='r',s=50)\n",
    "    pth = contourSet[idx+1].get_paths()[0]\n",
    "    pl.plot(pth.vertices[:,0],pth.vertices[:,1])\n",
    "pl.scatter(Gamma[0][sigN:],Gamma[2][sigN:],marker='x',c='k',s=50,zorder=20)"
   ]
  },
  {
   "cell_type": "code",
   "execution_count": 64,
   "metadata": {
    "collapsed": true
   },
   "outputs": [],
   "source": [
    "pkl.dump({'selectedContours':selContourIdx,'contours':contourSet},open('/home/chenani/ownCloud/IpythonNotebooks/Sleep/MEC_Lesion_Project/files/shuffledGammaContours.pkl','wb'))"
   ]
  },
  {
   "cell_type": "code",
   "execution_count": 281,
   "metadata": {
    "collapsed": true
   },
   "outputs": [],
   "source": [
    "#pkl.dump(stList,open('/home/chenani/dataWork/ali/MECLesion_SleepData/Marta/Rat3661/LinearTrack_03-04-15Day2/parrentData/FiringUnits-N.spk','wb'))"
   ]
  },
  {
   "cell_type": "code",
   "execution_count": 10,
   "metadata": {},
   "outputs": [
    {
     "name": "stdout",
     "output_type": "stream",
     "text": [
      "D------------------------------------------------------NE!\n"
     ]
    }
   ],
   "source": [
    "N = int(N)\n",
    "reactivationStrengths  = np.array([Gamma[0][sigN:],Gamma[2][sigN:]])\n",
    "TreactivationStrengths = np.array([TGamma[0][sigN:],TGamma[2][sigN:]])\n",
    "fixedBinsName = str(100/Nslices)+'ms'\n",
    "if Nslices==4:\n",
    "    thBinsName = '4theta'\n",
    "elif Nslices==1:\n",
    "    thBinsName = 'theta'\n",
    "pkl.dump(reactivationStrengths, open(WorkPath+animal+'-'+dday+'-'+fixedBinsName+'-vis.lsn','wb'),pkl.HIGHEST_PROTOCOL)\n",
    "pkl.dump(TreactivationStrengths,open(WorkPath+animal+'-'+dday+'-'+thBinsName+'-vis.lsn','wb'),pkl.HIGHEST_PROTOCOL)\n",
    "\n",
    "Tidx = 1\n",
    "Rz = []\n",
    "threshold = []\n",
    "for Midx in [0,2]:\n",
    "    R0 = 0\n",
    "    for ii in range(N):\n",
    "        for jj in range(N):\n",
    "            if ii != jj:\n",
    "                R0 += Qs[Midx][ii]*corrMatrices[Tidx][ii,jj]*Qs[Midx][jj]\n",
    "    #print R0\n",
    "    Rz.append(R0)        \n",
    "    threshold.append(R0.mean()+3.50*R0.std())\n",
    "pkl.dump([sigN,Rz],open(WorkPath+animal+'-'+dday+'-'+fixedBinsName+'.R0','wb'),pkl.HIGHEST_PROTOCOL)\n",
    "#######################\n",
    "Rz = []\n",
    "threshold = []\n",
    "for Midx in [0,2]:\n",
    "    R0 = 0\n",
    "    for ii in range(N):\n",
    "        for jj in range(N):\n",
    "            if ii != jj:\n",
    "                R0 += ThetaQs[Midx][ii]*ThetaCorrMatrices[Tidx][ii,jj]*ThetaQs[Midx][jj]\n",
    "    Rz.append(R0)        \n",
    "pkl.dump([sigN,Rz],open(WorkPath+animal+'-'+dday+'-'+thBinsName+'.R0','wb'),pkl.HIGHEST_PROTOCOL)\n",
    "###############################\n",
    "Rzl = []\n",
    "for Midx in [0,2]:\n",
    "    Ri = np.zeros(Qs[Midx][-10:].shape)\n",
    "    for pIdx,pattern in enumerate(Ps[Tidx][-10:]):\n",
    "        for ii in range(N):\n",
    "            for jj in range(N):\n",
    "                if ii != jj:\n",
    "                    Ri[pIdx] += Qs[Midx][ii]*pattern[ii,jj]*Qs[Midx][jj]\n",
    "    Rzl.append(Ri)        \n",
    "pkl.dump([sigN,Rzl],open(WorkPath+animal+'-'+dday+'-'+fixedBinsName+'.Rl','wb'),pkl.HIGHEST_PROTOCOL)\n",
    "#############################\n",
    "Rzl = []\n",
    "for Midx in [0,2]:\n",
    "    Ri = np.zeros(ThetaQs[Midx][-10:].shape)\n",
    "    for pIdx,pattern in enumerate(ThetaPs[Tidx][-10:]):\n",
    "        for ii in range(N):\n",
    "            for jj in range(N):\n",
    "                if ii != jj:\n",
    "                    Ri[pIdx] += ThetaQs[Midx][ii]*pattern[ii,jj]*ThetaQs[Midx][jj]\n",
    "    Rzl.append(Ri)        \n",
    "pkl.dump([sigN,Rzl],open(WorkPath+animal+'-'+dday+'-'+thBinsName+'.Rl','wb'),pkl.HIGHEST_PROTOCOL)\n",
    "print 'D------------------------------------------------------NE!'"
   ]
  },
  {
   "cell_type": "code",
   "execution_count": 22,
   "metadata": {},
   "outputs": [
    {
     "data": {
      "text/plain": [
       "[30145, 31124]"
      ]
     },
     "execution_count": 22,
     "metadata": {},
     "output_type": "execute_result"
    }
   ],
   "source": [
    "[z.size for z in Rz]"
   ]
  },
  {
   "cell_type": "code",
   "execution_count": 255,
   "metadata": {
    "collapsed": true
   },
   "outputs": [],
   "source": [
    "xlist = np.linspace(-2.0, 2.0, 100) # Create 1-D arrays for x,y dimensions\n",
    "ylist = np.linspace(-2.0, 2.0, 100)\n",
    "X,Y = np.meshgrid(xlist, ylist) # Create 2-D grid xlist,ylist values\n",
    "Z = np.sqrt(X**2 + Y**2)"
   ]
  },
  {
   "cell_type": "code",
   "execution_count": 256,
   "metadata": {},
   "outputs": [
    {
     "data": {
      "text/plain": [
       "<a list of 4 text.Text objects>"
      ]
     },
     "execution_count": 256,
     "metadata": {},
     "output_type": "execute_result"
    }
   ],
   "source": [
    "sq = pl.contour(X, Y, Z, [0.5, 1.0, 1.2, 1.5,12], colors ='k')\n",
    "pl.clabel(sq, inline=1, fontsize=10)"
   ]
  },
  {
   "cell_type": "code",
   "execution_count": 14,
   "metadata": {
    "collapsed": true
   },
   "outputs": [],
   "source": []
  },
  {
   "cell_type": "code",
   "execution_count": 15,
   "metadata": {},
   "outputs": [
    {
     "ename": "NameError",
     "evalue": "name 'pth0' is not defined",
     "output_type": "error",
     "traceback": [
      "\u001b[1;31m---------------------------------------------------------------------------\u001b[0m",
      "\u001b[1;31mNameError\u001b[0m                                 Traceback (most recent call last)",
      "\u001b[1;32m<ipython-input-15-2e429955a816>\u001b[0m in \u001b[0;36m<module>\u001b[1;34m()\u001b[0m\n\u001b[1;32m----> 1\u001b[1;33m \u001b[0mpl\u001b[0m\u001b[1;33m.\u001b[0m\u001b[0mscatter\u001b[0m\u001b[1;33m(\u001b[0m\u001b[0mpth0\u001b[0m\u001b[1;33m.\u001b[0m\u001b[0mvertices\u001b[0m\u001b[1;33m[\u001b[0m\u001b[1;33m:\u001b[0m\u001b[1;33m,\u001b[0m\u001b[1;36m0\u001b[0m\u001b[1;33m]\u001b[0m\u001b[1;33m,\u001b[0m\u001b[0mpth0\u001b[0m\u001b[1;33m.\u001b[0m\u001b[0mvertices\u001b[0m\u001b[1;33m[\u001b[0m\u001b[1;33m:\u001b[0m\u001b[1;33m,\u001b[0m\u001b[1;36m1\u001b[0m\u001b[1;33m]\u001b[0m\u001b[1;33m)\u001b[0m\u001b[1;33m\u001b[0m\u001b[0m\n\u001b[0m",
      "\u001b[1;31mNameError\u001b[0m: name 'pth0' is not defined"
     ]
    }
   ],
   "source": [
    "pl.scatter(pth0.vertices[:,0],pth0.vertices[:,1])"
   ]
  },
  {
   "cell_type": "code",
   "execution_count": 19,
   "metadata": {
    "collapsed": true
   },
   "outputs": [],
   "source": [
    "savemat('/home/chenani/ownCloud/IpythonNotebooks/Sleep/MEC_Lesion_Project/PCA_MEC/DATA/surrogateGamma.mat',pd.DataFrame(TGscatt,columns=['A_pre','A_post']).to_dict(orient='list'))"
   ]
  },
  {
   "cell_type": "code",
   "execution_count": 29,
   "metadata": {},
   "outputs": [
    {
     "data": {
      "text/plain": [
       "<matplotlib.lines.Line2D at 0x7fec1c9e1d10>"
      ]
     },
     "execution_count": 29,
     "metadata": {},
     "output_type": "execute_result"
    }
   ],
   "source": [
    "import statsmodels.api as sm\n",
    "slopes = []\n",
    "for _ii in range(5000):\n",
    "    samp_idx = np.random.randint(0,Gscatt.shape[0],72)\n",
    "    ols = sm.OLS(Gscatt[samp_idx,0],Gscatt[samp_idx,1]).fit()\n",
    "    slopes.append(ols.params[0])\n",
    "    #slopes.append(linregress(TGmSh[_ii],TGmSh[_ii+2]).slope)\n",
    "sns.distplot(slopes,norm_hist=True)\n",
    "pl.xlabel('Regression Slope')\n",
    "pl.ylabel('Counts')\n",
    "ols = sm.OLS(Gscatt[:,0],Gscatt[:,1]).fit()\n",
    "pl.axvline(ols.params[0],color='r')\n",
    "#pkl.dump(slopes,open('/home/aliche/ownCloud/IpythonNotebooks/Sleep/MEC_Lesion_Project/files/SlopesShuffled.pkl','wb'))"
   ]
  },
  {
   "cell_type": "code",
   "execution_count": 104,
   "metadata": {},
   "outputs": [],
   "source": [
    "slope_kde = sm.nonparametric.KDEUnivariate(slopes)"
   ]
  },
  {
   "cell_type": "code",
   "execution_count": 116,
   "metadata": {},
   "outputs": [
    {
     "data": {
      "text/plain": [
       "[<matplotlib.lines.Line2D at 0x7f61b5809b50>]"
      ]
     },
     "execution_count": 116,
     "metadata": {},
     "output_type": "execute_result"
    }
   ],
   "source": [
    "slope_kde.fit()\n",
    "pl.plot(slope_kde.support,slope_kde.density / slope_kde.density.sum())"
   ]
  },
  {
   "cell_type": "code",
   "execution_count": 114,
   "metadata": {},
   "outputs": [
    {
     "data": {
      "text/plain": [
       "0.9999999999999998"
      ]
     },
     "execution_count": 114,
     "metadata": {},
     "output_type": "execute_result"
    }
   ],
   "source": [
    "np.sum(slope_kde.density/ slope_kde.density.sum())"
   ]
  },
  {
   "cell_type": "code",
   "execution_count": 13,
   "metadata": {},
   "outputs": [
    {
     "data": {
      "text/plain": [
       "[<matplotlib.lines.Line2D at 0x7fec1bae4590>]"
      ]
     },
     "execution_count": 13,
     "metadata": {},
     "output_type": "execute_result"
    }
   ],
   "source": [
    "pl.plot(Gscatt[:,0],Gscatt[:,1],'.')"
   ]
  },
  {
   "cell_type": "code",
   "execution_count": 22,
   "metadata": {},
   "outputs": [
    {
     "name": "stdout",
     "output_type": "stream",
     "text": [
      "                            OLS Regression Results                            \n",
      "==============================================================================\n",
      "Dep. Variable:                      y   R-squared:                       0.998\n",
      "Model:                            OLS   Adj. R-squared:                  0.998\n",
      "Method:                 Least Squares   F-statistic:                 7.085e+07\n",
      "Date:                 Di, 08 Mai 2018   Prob (F-statistic):               0.00\n",
      "Time:                        08:54:27   Log-Likelihood:             2.3115e+05\n",
      "No. Observations:              134953   AIC:                        -4.623e+05\n",
      "Df Residuals:                  134952   BIC:                        -4.623e+05\n",
      "Df Model:                           1                                         \n",
      "Covariance Type:            nonrobust                                         \n",
      "==============================================================================\n",
      "                 coef    std err          t      P>|t|      [0.025      0.975]\n",
      "------------------------------------------------------------------------------\n",
      "x1             0.9990      0.000   8417.159      0.000       0.999       0.999\n",
      "==============================================================================\n",
      "Omnibus:                     1315.138   Durbin-Watson:                   1.979\n",
      "Prob(Omnibus):                  0.000   Jarque-Bera (JB):             2220.390\n",
      "Skew:                          -0.012   Prob(JB):                         0.00\n",
      "Kurtosis:                       3.628   Cond. No.                         1.00\n",
      "==============================================================================\n",
      "\n",
      "Warnings:\n",
      "[1] Standard Errors assume that the covariance matrix of the errors is correctly specified.\n"
     ]
    }
   ],
   "source": [
    "ols = sm.OLS(Gscatt[:,0],Gscatt[:,1]).fit()\n",
    "print ols.summary()"
   ]
  },
  {
   "cell_type": "code",
   "execution_count": 24,
   "metadata": {},
   "outputs": [
    {
     "data": {
      "text/plain": [
       "Ttest_1sampResult(statistic=0.05572986811775097, pvalue=0.9555592322877478)"
      ]
     },
     "execution_count": 24,
     "metadata": {},
     "output_type": "execute_result"
    }
   ],
   "source": [
    "from scipy import stats\n",
    "stats.ttest_1samp(np.array(slopes),0.9988)"
   ]
  },
  {
   "cell_type": "code",
   "execution_count": 26,
   "metadata": {},
   "outputs": [
    {
     "ename": "TypeError",
     "evalue": "len() of unsized object",
     "output_type": "error",
     "traceback": [
      "\u001b[0;31m---------------------------------------------------------------------------\u001b[0m",
      "\u001b[0;31mTypeError\u001b[0m                                 Traceback (most recent call last)",
      "\u001b[0;32m<ipython-input-26-8005295bb155>\u001b[0m in \u001b[0;36m<module>\u001b[0;34m()\u001b[0m\n\u001b[0;32m----> 1\u001b[0;31m \u001b[0mstats\u001b[0m\u001b[0;34m.\u001b[0m\u001b[0mwilcoxon\u001b[0m\u001b[0;34m(\u001b[0m\u001b[0mnp\u001b[0m\u001b[0;34m.\u001b[0m\u001b[0marray\u001b[0m\u001b[0;34m(\u001b[0m\u001b[0mslopes\u001b[0m\u001b[0;34m)\u001b[0m\u001b[0;34m,\u001b[0m\u001b[0;36m1\u001b[0m\u001b[0;34m)\u001b[0m\u001b[0;34m\u001b[0m\u001b[0m\n\u001b[0m",
      "\u001b[0;32m/home/aliche/anaconda3/envs/py27/lib/python2.7/site-packages/scipy/stats/morestats.pyc\u001b[0m in \u001b[0;36mwilcoxon\u001b[0;34m(x, y, zero_method, correction)\u001b[0m\n\u001b[1;32m   2373\u001b[0m     \u001b[0;32melse\u001b[0m\u001b[0;34m:\u001b[0m\u001b[0;34m\u001b[0m\u001b[0m\n\u001b[1;32m   2374\u001b[0m         \u001b[0mx\u001b[0m\u001b[0;34m,\u001b[0m \u001b[0my\u001b[0m \u001b[0;34m=\u001b[0m \u001b[0mmap\u001b[0m\u001b[0;34m(\u001b[0m\u001b[0masarray\u001b[0m\u001b[0;34m,\u001b[0m \u001b[0;34m(\u001b[0m\u001b[0mx\u001b[0m\u001b[0;34m,\u001b[0m \u001b[0my\u001b[0m\u001b[0;34m)\u001b[0m\u001b[0;34m)\u001b[0m\u001b[0;34m\u001b[0m\u001b[0m\n\u001b[0;32m-> 2375\u001b[0;31m         \u001b[0;32mif\u001b[0m \u001b[0mlen\u001b[0m\u001b[0;34m(\u001b[0m\u001b[0mx\u001b[0m\u001b[0;34m)\u001b[0m \u001b[0;34m!=\u001b[0m \u001b[0mlen\u001b[0m\u001b[0;34m(\u001b[0m\u001b[0my\u001b[0m\u001b[0;34m)\u001b[0m\u001b[0;34m:\u001b[0m\u001b[0;34m\u001b[0m\u001b[0m\n\u001b[0m\u001b[1;32m   2376\u001b[0m             \u001b[0;32mraise\u001b[0m \u001b[0mValueError\u001b[0m\u001b[0;34m(\u001b[0m\u001b[0;34m'Unequal N in wilcoxon.  Aborting.'\u001b[0m\u001b[0;34m)\u001b[0m\u001b[0;34m\u001b[0m\u001b[0m\n\u001b[1;32m   2377\u001b[0m         \u001b[0md\u001b[0m \u001b[0;34m=\u001b[0m \u001b[0mx\u001b[0m \u001b[0;34m-\u001b[0m \u001b[0my\u001b[0m\u001b[0;34m\u001b[0m\u001b[0m\n",
      "\u001b[0;31mTypeError\u001b[0m: len() of unsized object"
     ]
    }
   ],
   "source": [
    "stats.wilcoxon(np.array(slopes),1)"
   ]
  },
  {
   "cell_type": "code",
   "execution_count": 27,
   "metadata": {},
   "outputs": [
    {
     "data": {
      "text/plain": [
       "NormaltestResult(statistic=2.476346675498724, pvalue=0.28991330825342476)"
      ]
     },
     "execution_count": 27,
     "metadata": {},
     "output_type": "execute_result"
    }
   ],
   "source": [
    "stats.normaltest(slopes)"
   ]
  },
  {
   "cell_type": "code",
   "execution_count": null,
   "metadata": {},
   "outputs": [],
   "source": []
  }
 ],
 "metadata": {
  "kernelspec": {
   "display_name": "Python 2",
   "language": "python",
   "name": "python2"
  },
  "language_info": {
   "codemirror_mode": {
    "name": "ipython",
    "version": 2
   },
   "file_extension": ".py",
   "mimetype": "text/x-python",
   "name": "python",
   "nbconvert_exporter": "python",
   "pygments_lexer": "ipython2",
   "version": "2.7.14"
  }
 },
 "nbformat": 4,
 "nbformat_minor": 1
}
