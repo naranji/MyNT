{
 "cells": [
  {
   "cell_type": "code",
   "execution_count": 1,
   "metadata": {
    "collapsed": false
   },
   "outputs": [
    {
     "data": {
      "text/html": [
       "<style>.container { width:80% !important; }</style>"
      ],
      "text/plain": [
       "<IPython.core.display.HTML object>"
      ]
     },
     "metadata": {},
     "output_type": "display_data"
    }
   ],
   "source": [
    "from IPython.core.display import display, HTML\n",
    "display(HTML(\"<style>.container { width:80% !important; }</style>\"))\n",
    "import sys\n",
    "sys.path.append('/home/chenani/ownCloud/Workspaces/Eclipse/dataAnalysis/Sleep-current/src/')"
   ]
  },
  {
   "cell_type": "code",
   "execution_count": 2,
   "metadata": {
    "collapsed": false
   },
   "outputs": [
    {
     "name": "stdout",
     "output_type": "stream",
     "text": [
      "Using matplotlib backend: Qt4Agg\n"
     ]
    },
    {
     "name": "stderr",
     "output_type": "stream",
     "text": [
      "/home/chenani/anaconda/lib/python2.7/site-packages/IPython/html.py:14: ShimWarning: The `IPython.html` package has been deprecated. You should import from `notebook` instead. `IPython.html.widgets` has moved to `ipywidgets`.\n",
      "  \"`IPython.html.widgets` has moved to `ipywidgets`.\", ShimWarning)\n"
     ]
    }
   ],
   "source": [
    "%matplotlib \n",
    "#inline\n",
    "%load_ext autoreload\n",
    "%autoreload 2\n",
    "import matplotlib.pyplot as pl\n",
    "import numpy as np\n",
    "import pickle as pkl\n",
    "import os\n",
    "import seaborn as sns\n",
    "import pandas as pd\n",
    "import fnmatch\n",
    "from scipy.stats import binom_test"
   ]
  },
  {
   "cell_type": "code",
   "execution_count": 3,
   "metadata": {
    "collapsed": false
   },
   "outputs": [],
   "source": [
    "def locate(pattern, root=os.curdir):\n",
    "    '''Locate all files matching supplied filename pattern in and below\n",
    "        supplied root directory.\n",
    "    '''\n",
    "    for path, dirs, files in os.walk(os.path.abspath(root)):\n",
    "        for filename in fnmatch.filter(files, pattern):\n",
    "            yield [path,filename]\n",
    "def findClosestPoint(values,array):\n",
    "    values = np.array(values)\n",
    "    array = np.array(array)\n",
    "    idx = np.array([np.square(array - value).argmin() for value in values])\n",
    "    return idx,array[idx]\n",
    "def sigCounter(df,min_N = 3):\n",
    "    dbMinN = df[(df.lSub>min_N)|(df.rSub>min_N)]\n",
    "    nT = dbMinN.shape[0]\n",
    "    nS = df[(df.Lpv<0.05)|(df.Rpv<0.05)].shape[0]\n",
    "    print nT,nS,binom_test(nS,nT,0.05)\n",
    "    print 1e2*nS/nT\n",
    "sns.set_style('white')"
   ]
  },
  {
   "cell_type": "code",
   "execution_count": 4,
   "metadata": {
    "collapsed": false
   },
   "outputs": [],
   "source": [
    "dataFolder = '/home/chenani/ownCloud/IpythonNotebooks/Sleep/MEC_Lesion_Project/lesion/Rat434Lesion/'"
   ]
  },
  {
   "cell_type": "code",
   "execution_count": 5,
   "metadata": {
    "collapsed": false,
    "scrolled": true
   },
   "outputs": [
    {
     "data": {
      "text/plain": [
       "(['/home/chenani/ownCloud/IpythonNotebooks/Sleep/MEC_Lesion_Project/lesion/Rat434Lesion/dataFiles/sleepDB/434-popDB-D1.db'],\n",
       " ['/home/chenani/ownCloud/IpythonNotebooks/Sleep/MEC_Lesion_Project/lesion/Rat434Lesion/dataFiles/awakeReplays-434-D1-PR.db',\n",
       "  '/home/chenani/ownCloud/IpythonNotebooks/Sleep/MEC_Lesion_Project/lesion/Rat434Lesion/dataFiles/awakeReplays-434-D1-RO.db',\n",
       "  '/home/chenani/ownCloud/IpythonNotebooks/Sleep/MEC_Lesion_Project/lesion/Rat434Lesion/dataFiles/awakeReplays-434-D1.db'])"
      ]
     },
     "execution_count": 5,
     "metadata": {},
     "output_type": "execute_result"
    }
   ],
   "source": [
    "asleepDBs = sorted([os.path.join(item[0],item[1])for item in locate('*pop*.db',dataFolder)])\n",
    "awakeDBs  = sorted([os.path.join(item[0],item[1])for item in locate('*awake*.db',dataFolder)])\n",
    "asleepDBs,awakeDBs"
   ]
  },
  {
   "cell_type": "code",
   "execution_count": 55,
   "metadata": {
    "collapsed": false,
    "scrolled": false
   },
   "outputs": [
    {
     "name": "stderr",
     "output_type": "stream",
     "text": [
      "/home/chenani/anaconda/lib/python2.7/site-packages/ipykernel/__main__.py:27: SettingWithCopyWarning: \n",
      "A value is trying to be set on a copy of a slice from a DataFrame\n",
      "\n",
      "See the caveats in the documentation: http://pandas.pydata.org/pandas-docs/stable/indexing.html#indexing-view-versus-copy\n",
      "/home/chenani/anaconda/lib/python2.7/site-packages/ipykernel/__main__.py:33: SettingWithCopyWarning: \n",
      "A value is trying to be set on a copy of a slice from a DataFrame\n",
      "\n",
      "See the caveats in the documentation: http://pandas.pydata.org/pandas-docs/stable/indexing.html#indexing-view-versus-copy\n",
      "/home/chenani/anaconda/lib/python2.7/site-packages/ipykernel/__main__.py:49: SettingWithCopyWarning: \n",
      "A value is trying to be set on a copy of a slice from a DataFrame\n",
      "\n",
      "See the caveats in the documentation: http://pandas.pydata.org/pandas-docs/stable/indexing.html#indexing-view-versus-copy\n",
      "/home/chenani/anaconda/lib/python2.7/site-packages/ipykernel/__main__.py:57: SettingWithCopyWarning: \n",
      "A value is trying to be set on a copy of a slice from a DataFrame\n",
      "\n",
      "See the caveats in the documentation: http://pandas.pydata.org/pandas-docs/stable/indexing.html#indexing-view-versus-copy\n"
     ]
    },
    {
     "name": "stdout",
     "output_type": "stream",
     "text": [
      "Day1\n",
      "sleep05 (1007, 15)\n",
      "sleep06 (891, 15)\n",
      "Day1"
     ]
    },
    {
     "name": "stderr",
     "output_type": "stream",
     "text": [
      "/home/chenani/anaconda/lib/python2.7/site-packages/ipykernel/__main__.py:61: DeprecationWarning: object of type <type 'float'> cannot be safely interpreted as an integer.\n",
      "/home/chenani/anaconda/lib/python2.7/site-packages/ipykernel/__main__.py:83: SettingWithCopyWarning: \n",
      "A value is trying to be set on a copy of a slice from a DataFrame\n",
      "\n",
      "See the caveats in the documentation: http://pandas.pydata.org/pandas-docs/stable/indexing.html#indexing-view-versus-copy\n"
     ]
    },
    {
     "name": "stdout",
     "output_type": "stream",
     "text": [
      "\n"
     ]
    },
    {
     "name": "stderr",
     "output_type": "stream",
     "text": [
      "/home/chenani/anaconda/lib/python2.7/site-packages/ipykernel/__main__.py:86: SettingWithCopyWarning: \n",
      "A value is trying to be set on a copy of a slice from a DataFrame\n",
      "\n",
      "See the caveats in the documentation: http://pandas.pydata.org/pandas-docs/stable/indexing.html#indexing-view-versus-copy\n"
     ]
    }
   ],
   "source": [
    "corrBinsPR = np.arange(-1.05,1.15,0.05)\n",
    "corrBinsCentersPR = (corrBinsPR+0.025)[:-1]\n",
    "surrProbs = []\n",
    "for n in range(4,11):\n",
    "    crr = pkl.load(open('/home/chenani/ownCloud/IpythonNotebooks/Sleep/MEC_Lesion_Project/RankOrder/corr'+str(n)+'.crr','rb'))\n",
    "    hst = np.histogram(crr,corrBinsPR,normed=True)[0]\n",
    "    surrProbs.append(hst)\n",
    "#################################\n",
    "for dbFile in asleepDBs:\n",
    "    asleepDF = pd.read_pickle(dbFile)\n",
    "    print asleepDF.date[0]\n",
    "    for sess in ['sleep05','sleep06']:\n",
    "        df = asleepDF[asleepDF.session==sess]\n",
    "        print sess,df.shape\n",
    "        for n in range(4,11):\n",
    "            #print n\n",
    "            #print '----------------'\n",
    "            dfLsub = df[df.lSub==n]\n",
    "            dfRsub = df[df.rSub==n]\n",
    "            hstL = np.histogram(dfLsub.Lcorr,corrBinsPR)[0]\n",
    "            hstR = np.histogram(dfRsub.Rcorr,corrBinsPR)[0]\n",
    "            for item in np.where(hstL)[0]:\n",
    "                p_value = binom_test(hstL[item],hstL.sum(),surrProbs[n-4][item]*0.05)\n",
    "                if p_value < 0.05:\n",
    "                    idxs = np.where(np.abs(findClosestPoint(dfLsub.Lcorr,corrBinsCentersPR)[1]- corrBinsCentersPR[item])<0.01)[0]\n",
    "                    locs = dfLsub.index[idxs]\n",
    "                    asleepDF.Lpv[locs] += (p_value-1)\n",
    "            for item in np.where(hstR)[0]:\n",
    "                p_value = binom_test(hstR[item],hstR.sum(),surrProbs[n-4][item]*0.05)\n",
    "                if p_value < 0.05:\n",
    "                    idxs = np.where(np.abs(findClosestPoint(dfRsub.Rcorr,corrBinsCentersPR)[1]- corrBinsCentersPR[item])<0.01)[0]\n",
    "                    locs = dfRsub.index[idxs]\n",
    "                    asleepDF.Rpv[locs] += (p_value-1)\n",
    "\n",
    "            #print '##############################################################################'\n",
    "        ###################################################################################\n",
    "        #print '10++'\n",
    "        dfLsub = df[df.lSub>10]\n",
    "        dfRsub = df[df.rSub>10]\n",
    "        hstL = np.histogram(dfLsub.Lcorr,corrBinsPR)[0]\n",
    "        hstR = np.histogram(dfRsub.Rcorr,corrBinsPR)[0]\n",
    "        for item in np.where(hstL)[0]:\n",
    "            #print hstL[item],corrBinsCenters[item]\n",
    "            p_value = binom_test(hstL[item],hstL.sum(),surrProbs[-1][item]*0.05)\n",
    "            if p_value < 0.05:\n",
    "                #print corrBinsCenters[item],p_value\n",
    "                idxs = np.where(np.abs(findClosestPoint(dfLsub.Lcorr,corrBinsCentersPR)[1]- corrBinsCentersPR[item])<0.01)[0]\n",
    "                locs = dfLsub.index[idxs]\n",
    "                asleepDF.Lpv[locs] += (p_value-1)\n",
    "        #print '####################'\n",
    "        for item in np.where(hstR)[0]:\n",
    "            #print hstR[item],corrBinsCenters[item]\n",
    "            p_value = binom_test(hstR[item],hstR.sum(),surrProbs[-1][item]*0.05)\n",
    "            if p_value < 0.05:\n",
    "                idxs = np.where(np.abs(findClosestPoint(dfRsub.Rcorr,corrBinsCentersPR)[1]- corrBinsCentersPR[item])<0.01)[0]\n",
    "                locs = dfRsub.index[idxs]\n",
    "                asleepDF.Rpv[locs] += (p_value-1)\n",
    "#        asleepDF.to_pickle(dbFile.split('-')[0]+'-prDB-'+ dbFile.split('-')[-1])\n",
    "\n",
    "binwidth = 0.1\n",
    "A = np.linspace(0,1.,1.0/binwidth+1)\n",
    "binwidth = np.diff(A)[0]\n",
    "corrBinsCenters = np.union1d(-1*A,A)\n",
    "corrBins = corrBinsCenters-binwidth/2\n",
    "corrBins = np.insert(corrBins,[corrBins.size],[corrBins[-1]+binwidth])\n",
    "##########################################\n",
    "surrProbs = []\n",
    "for n in range(4,11):\n",
    "    crr = pkl.load(open('/home/chenani/ownCloud/IpythonNotebooks/Sleep/MEC_Lesion_Project/RankOrder/corr'+str(n)+'.crr','rb'))\n",
    "    hst = np.histogram(crr,corrBins,normed=True)[0]\n",
    "    surrProbs.append(hst)\n",
    "idx = [findClosestPoint([0.025],binwidth*np.cumsum(surrProbs[n-5]))[0] for n in range(5,11)]\n",
    "SigCorrMin = [np.abs(corrBinsCenters[ii+1][0]) for ii in idx]\n",
    "#################################\n",
    "for dbFile in asleepDBs:\n",
    "    asleepDF = pd.read_pickle(dbFile)\n",
    "    print asleepDF.date[0]\n",
    "    for sess in ['sleep05','sleep06']:\n",
    "        df = asleepDF[asleepDF.session==sess]\n",
    "        for idx,row in df.iterrows():\n",
    "            if row.lSub>4:\n",
    "                if np.abs(row.Lcorr) > SigCorrMin[min(int(row.lSub - 5),len(SigCorrMin)-1)]:\n",
    "                    asleepDF.Lpv[idx]-=0.96\n",
    "            if row.rSub>4:\n",
    "                if np.abs(row.Rcorr) > SigCorrMin[min(int(row.rSub - 5),len(SigCorrMin)-1)]:\n",
    "                    asleepDF.Rpv[idx]-=0.96\n",
    "#    asleepDF.to_pickle(dbFile.split('-')[0]+'-roDB-'+ dbFile.split('-')[-1])\n",
    "            "
   ]
  },
  {
   "cell_type": "code",
   "execution_count": 8,
   "metadata": {
    "collapsed": false
   },
   "outputs": [
    {
     "name": "stderr",
     "output_type": "stream",
     "text": [
      "/home/chenani/anaconda/lib/python2.7/site-packages/ipykernel/__main__.py:51: DeprecationWarning: object of type <type 'float'> cannot be safely interpreted as an integer.\n"
     ]
    }
   ],
   "source": [
    "corrBinsPR = np.arange(-1.05,1.15,0.05)\n",
    "corrBinsCentersPR = (corrBinsPR+0.025)[:-1]\n",
    "surrProbs = []\n",
    "for n in range(4,11):\n",
    "    crr = pkl.load(open('/home/chenani/ownCloud/IpythonNotebooks/Sleep/MEC_Lesion_Project/RankOrder/corr'+str(n)+'.crr','rb'))\n",
    "    hst = np.histogram(crr,corrBinsPR,normed=True)[0]\n",
    "    surrProbs.append(hst)\n",
    "#################################\n",
    "for dbFile in awakeDBs:\n",
    "    awakeDF = pd.read_pickle(dbFile)\n",
    "    df = awakeDF.copy()\n",
    "    for n in range(4,11):\n",
    "        dfLsub = df[df.lSub==n]\n",
    "        dfRsub = df[df.rSub==n]\n",
    "        hstL = np.histogram(dfLsub.Lcorr,corrBinsPR)[0]\n",
    "        hstR = np.histogram(dfRsub.Rcorr,corrBinsPR)[0]\n",
    "        for item in np.where(hstL)[0]:\n",
    "            p_value = binom_test(hstL[item],hstL.sum(),surrProbs[n-4][item]*0.05)\n",
    "            if p_value < 0.05:\n",
    "                idxs = np.where(np.abs(findClosestPoint(dfLsub.Lcorr,corrBinsCentersPR)[1]- corrBinsCentersPR[item])<0.01)[0]\n",
    "                locs = dfLsub.index[idxs]\n",
    "                awakeDF.Lpv[locs] += (p_value-1)\n",
    "        for item in np.where(hstR)[0]:\n",
    "            p_value = binom_test(hstR[item],hstR.sum(),surrProbs[n-4][item]*0.05)\n",
    "            if p_value < 0.05:\n",
    "                idxs = np.where(np.abs(findClosestPoint(dfRsub.Rcorr,corrBinsCentersPR)[1]- corrBinsCentersPR[item])<0.01)[0]\n",
    "                locs = dfRsub.index[idxs]\n",
    "                awakeDF.Rpv[locs] += (p_value-1)\n",
    "\n",
    "    dfLsub = df[df.lSub>10]\n",
    "    dfRsub = df[df.rSub>10]\n",
    "    hstL = np.histogram(dfLsub.Lcorr,corrBinsPR)[0]\n",
    "    hstR = np.histogram(dfRsub.Rcorr,corrBinsPR)[0]\n",
    "    for item in np.where(hstL)[0]:\n",
    "        #print hstL[item],corrBinsCenters[item]\n",
    "        p_value = binom_test(hstL[item],hstL.sum(),surrProbs[-1][item]*0.05)\n",
    "        if p_value < 0.05:\n",
    "            #print corrBinsCenters[item],p_value\n",
    "            idxs = np.where(np.abs(findClosestPoint(dfLsub.Lcorr,corrBinsCentersPR)[1]- corrBinsCentersPR[item])<0.01)[0]\n",
    "            locs = dfLsub.index[idxs]\n",
    "            awakeDF.Lpv[locs] += (p_value-1)\n",
    "    for item in np.where(hstR)[0]:\n",
    "        p_value = binom_test(hstR[item],hstR.sum(),surrProbs[-1][item]*0.05)\n",
    "        if p_value < 0.05:\n",
    "            idxs = np.where(np.abs(findClosestPoint(dfRsub.Rcorr,corrBinsCentersPR)[1]- corrBinsCentersPR[item])<0.01)[0]\n",
    "            locs = dfRsub.index[idxs]\n",
    "            awakeDF.Rpv[locs] += (p_value-1)\n",
    "    #awakeDF.to_pickle(dbFile.split('.')[0]+'-PR.db')\n",
    "##############################################################################################################################################\n",
    "binwidth = 0.1\n",
    "A = np.linspace(0,1.,1.0/binwidth+1)\n",
    "binwidth = np.diff(A)[0]\n",
    "corrBinsCenters = np.union1d(-1*A,A)\n",
    "corrBins = corrBinsCenters-binwidth/2\n",
    "corrBins = np.insert(corrBins,[corrBins.size],[corrBins[-1]+binwidth])\n",
    "##########################################\n",
    "surrProbs = []\n",
    "for n in range(4,11):\n",
    "    crr = pkl.load(open('/home/chenani/ownCloud/IpythonNotebooks/Sleep/MEC_Lesion_Project/RankOrder/corr'+str(n)+'.crr','rb'))\n",
    "    hst = np.histogram(crr,corrBins,normed=True)[0]\n",
    "    surrProbs.append(hst)\n",
    "idx = [findClosestPoint([0.025],binwidth*np.cumsum(surrProbs[n-5]))[0] for n in range(5,11)]\n",
    "SigCorrMin = [np.abs(corrBinsCenters[ii+1][0]) for ii in idx]\n",
    "#################################\n",
    "for dbFile in awakeDBs:\n",
    "    awakeDF = pd.read_pickle(dbFile)\n",
    "    df = awakeDF.copy()\n",
    "    for idx,row in df.iterrows():\n",
    "        if row.lSub>4:\n",
    "            if np.abs(row.Lcorr) > SigCorrMin[min(int(row.lSub - 5),len(SigCorrMin)-1)]:\n",
    "                awakeDF.Lpv[idx]-=0.96\n",
    "        if row.rSub>4:\n",
    "            if np.abs(row.Rcorr) > SigCorrMin[min(int(row.rSub - 5),len(SigCorrMin)-1)]:\n",
    "                awakeDF.Rpv[idx]-=0.96\n",
    "    #awakeDF.to_pickle(dbFile.split('.')[0]+'-RO.db')"
   ]
  },
  {
   "cell_type": "code",
   "execution_count": 117,
   "metadata": {
    "collapsed": false
   },
   "outputs": [
    {
     "name": "stdout",
     "output_type": "stream",
     "text": [
      "1954 72 0.00686033053494\n",
      "3.68474923234\n"
     ]
    }
   ],
   "source": [
    "sigCounter(asleepDF)"
   ]
  },
  {
   "cell_type": "code",
   "execution_count": 118,
   "metadata": {
    "collapsed": false
   },
   "outputs": [
    {
     "data": {
      "text/plain": [
       "(50, 11)"
      ]
     },
     "execution_count": 118,
     "metadata": {},
     "output_type": "execute_result"
    }
   ],
   "source": [
    "awakeDF[(awakeDF.Lpv<0.05)|(awakeDF.Rpv<0.054)].shape"
   ]
  },
  {
   "cell_type": "code",
   "execution_count": 41,
   "metadata": {
    "collapsed": false
   },
   "outputs": [
    {
     "data": {
      "text/plain": [
       "(-1.05, 1.05)"
      ]
     },
     "execution_count": 41,
     "metadata": {},
     "output_type": "execute_result"
    },
    {
     "data": {
      "image/png": "[encoded data removed]",
      "text/plain": [
       "<matplotlib.figure.Figure at 0x7f2511998c90>"
      ]
     },
     "metadata": {},
     "output_type": "display_data"
    }
   ],
   "source": [
    "f,ax = pl.subplots(1,1,figsize=[5,5])\n",
    "corrBinsPR = np.arange(-1.05,1.15,0.05)\n",
    "corrBinsCentersPR = (corrBinsPR+0.025)[:-1]\n",
    "crr = pkl.load(open('/home/chenani/ownCloud/IpythonNotebooks/Sleep/MEC_Lesion_Project/RankOrder/corr5.crr','rb'))\n",
    "crr9 = pkl.load(open('/home/chenani/ownCloud/IpythonNotebooks/Sleep/MEC_Lesion_Project/RankOrder/corr9.crr','rb'))\n",
    "ax.hist(crr,corrBinsPR,normed=True);\n",
    "ax.set_ylabel('Prob. density',fontsize=24)\n",
    "ax.set_xlabel('Correlation',fontsize=24)\n",
    "pl.xlim(-1.05,1.05)"
   ]
  },
  {
   "cell_type": "code",
   "execution_count": 27,
   "metadata": {
    "collapsed": false
   },
   "outputs": [
    {
     "data": {
      "text/plain": [
       "[<matplotlib.lines.Line2D at 0x7f250d8bf0d0>]"
      ]
     },
     "execution_count": 27,
     "metadata": {},
     "output_type": "execute_result"
    },
    {
     "data": {
      "image/png": "[encoded data removed]",
      "text/plain": [
       "<matplotlib.figure.Figure at 0x7f25118e3790>"
      ]
     },
     "metadata": {},
     "output_type": "display_data"
    }
   ],
   "source": [
    "#sns.kdeplot(crr)\n",
    "sns.kdeplot(crr9)\n",
    "pl.plot(corrBinsCenters,surrProbs[-1])"
   ]
  },
  {
   "cell_type": "code",
   "execution_count": 19,
   "metadata": {
    "collapsed": false,
    "scrolled": true
   },
   "outputs": [
    {
     "name": "stderr",
     "output_type": "stream",
     "text": [
      "/home/chenani/anaconda/lib/python2.7/site-packages/ipykernel/__main__.py:3: DeprecationWarning: object of type <type 'float'> cannot be safely interpreted as an integer.\n",
      "  app.launch_new_instance()\n"
     ]
    },
    {
     "data": {
      "text/plain": [
       "<matplotlib.legend.Legend at 0x7fd7fd259a50>"
      ]
     },
     "execution_count": 19,
     "metadata": {},
     "output_type": "execute_result"
    }
   ],
   "source": [
    "f,ax = pl.subplots(1,1)\n",
    "binwidth = 0.1\n",
    "A = np.linspace(0,1.,1.0/binwidth+1)\n",
    "binwidth = np.diff(A)[0]\n",
    "corrBinsCenters = np.union1d(-1*A,A)\n",
    "corrBins = corrBinsCenters-binwidth/2\n",
    "corrBins = np.insert(corrBins,[corrBins.size],[corrBins[-1]+binwidth])\n",
    "#print corrBinsCenters\n",
    "##########################################\n",
    "surrProbs = []\n",
    "ax.axhline(0.96,linewidth=1,color='k')\n",
    "ax.axhline(0.025,linewidth=1,color='k')\n",
    "for n in range(4,11):\n",
    "    crr = pkl.load(open('/home/chenani/ownCloud/IpythonNotebooks/Sleep/MEC_Lesion_Project/RankOrder/corr'+str(n)+'.crr','rb'))\n",
    "    hst = np.histogram(crr,corrBins,normed=True)[0]\n",
    "    ax.plot(corrBinsCenters,binwidth*np.cumsum(hst),'--',label=n)\n",
    "    surrProbs.append(hst)\n",
    "idx = [findClosestPoint([0.04],binwidth*np.cumsum(surrProbs[n-4]))[0] for n in range(4,11)]\n",
    "SigCorrMin = [np.abs(corrBinsCenters[ii+1][0]) for ii in idx]\n",
    "#################################\n",
    "for smin in SigCorrMin:\n",
    "    ax.axvline(smin,linewidth=1)\n",
    "pl.legend(loc=0)"
   ]
  },
  {
   "cell_type": "code",
   "execution_count": 20,
   "metadata": {
    "collapsed": false
   },
   "outputs": [],
   "source": [
    "#f,ax = pl.subplots(1,1)\n",
    "ax.set_title(binwidth,fontsize=30)\n",
    "ax.set_xlim(0.4,1.05)\n",
    "ax.set_ylim(0.9,1.02)\n",
    "for n in range(4,11):\n",
    "    crr = pkl.load(open('/home/chenani/ownCloud/IpythonNotebooks/Sleep/MEC_Lesion_Project/RankOrder/corr'+str(n)+'.crr','rb'))\n",
    "    crrP = np.absolute(crr)\n",
    "    ax.text(SigCorrMin[n-4],1+0.01*np.mod(n,2),round(1e2*(crrP>SigCorrMin[n-4]).sum()/crrP.size,1),fontsize=20,ha='center', va='center')#, transform=ax.transAxes)\n",
    "#f.savefig('/home/chenani/ownCloud/Plots/Lesion-Project/Minsig'+str(int(1e6*binwidth))+'.png')"
   ]
  },
  {
   "cell_type": "code",
   "execution_count": 10,
   "metadata": {
    "collapsed": false
   },
   "outputs": [
    {
     "name": "stderr",
     "output_type": "stream",
     "text": [
      "/home/chenani/anaconda/lib/python2.7/site-packages/statsmodels/nonparametric/kde.py:454: RuntimeWarning: invalid value encountered in greater\n",
      "  X = X[np.logical_and(X>clip[0], X<clip[1])] # won't work for two columns.\n",
      "/home/chenani/anaconda/lib/python2.7/site-packages/statsmodels/nonparametric/kde.py:454: RuntimeWarning: invalid value encountered in less\n",
      "  X = X[np.logical_and(X>clip[0], X<clip[1])] # won't work for two columns.\n"
     ]
    },
    {
     "data": {
      "text/plain": [
       "<matplotlib.axes._subplots.AxesSubplot at 0x7fd80c0a52d0>"
      ]
     },
     "execution_count": 10,
     "metadata": {},
     "output_type": "execute_result"
    }
   ],
   "source": [
    "sns.kdeplot(asleepDF.Rcorr)"
   ]
  },
  {
   "cell_type": "code",
   "execution_count": 58,
   "metadata": {
    "collapsed": false
   },
   "outputs": [
    {
     "name": "stdout",
     "output_type": "stream",
     "text": [
      "4 2 1.0 8.33333333333\n",
      "5 12 0.8 10.0\n",
      "6 72 0.771428571429 10.0\n",
      "7 504 0.678571428571 10.0\n",
      "8 4032 0.619047619048 10.0\n",
      "9 36288 0.583333333333 10.0\n",
      "10 362880 0.551515151515 10.0\n"
     ]
    }
   ],
   "source": [
    "for n in range(4,11):\n",
    "    crr = pkl.load(open('/home/chenani/ownCloud/IpythonNotebooks/Sleep/MEC_Lesion_Project/RankOrder/corr'+str(n)+'.crr','rb'))\n",
    "    absCrr = np.abs(crr)\n",
    "    print n,int(len(crr)*1e-1),np.sort(absCrr)[-1*int(len(crr)*1e-1)],1e2*int(len(crr)*1e-1)/len(crr)\n",
    "    #print np.sort(absCrr)"
   ]
  },
  {
   "cell_type": "code",
   "execution_count": 57,
   "metadata": {
    "collapsed": false
   },
   "outputs": [
    {
     "data": {
      "text/plain": [
       "(59, 15)"
      ]
     },
     "execution_count": 57,
     "metadata": {},
     "output_type": "execute_result"
    }
   ],
   "source": [
    "asleepDF[asleepDF.Lpv<1].shape"
   ]
  },
  {
   "cell_type": "code",
   "execution_count": null,
   "metadata": {
    "collapsed": true
   },
   "outputs": [],
   "source": []
  }
 ],
 "metadata": {
  "kernelspec": {
   "display_name": "Python 2",
   "language": "python",
   "name": "python2"
  },
  "language_info": {
   "codemirror_mode": {
    "name": "ipython",
    "version": 2
   },
   "file_extension": ".py",
   "mimetype": "text/x-python",
   "name": "python",
   "nbconvert_exporter": "python",
   "pygments_lexer": "ipython2",
   "version": "2.7.12"
  }
 },
 "nbformat": 4,
 "nbformat_minor": 0
}
