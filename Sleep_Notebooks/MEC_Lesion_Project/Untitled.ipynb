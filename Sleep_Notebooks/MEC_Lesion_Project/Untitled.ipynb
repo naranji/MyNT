{
 "cells": [
  {
   "cell_type": "code",
   "execution_count": 1,
   "metadata": {
    "collapsed": true
   },
   "outputs": [],
   "source": [
    "%matplotlib inline\n",
    "%load_ext autoreload\n",
    "%autoreload 2"
   ]
  },
  {
   "cell_type": "code",
   "execution_count": 2,
   "metadata": {
    "collapsed": false
   },
   "outputs": [
    {
     "data": {
      "text/html": [
       "<style>.container { width:90% !important; }</style>"
      ],
      "text/plain": [
       "<IPython.core.display.HTML object>"
      ]
     },
     "metadata": {},
     "output_type": "display_data"
    }
   ],
   "source": [
    "from IPython.core.display import display, HTML\n",
    "display(HTML(\"<style>.container { width:90% !important; }</style>\"))\n",
    "import sys\n",
    "sys.path.append('/mnt/Data/ownCloud/Workspaces/Eclipse/dataAnalysis/Sleep-current/src/')\n",
    "from scipy.io import savemat,loadmat"
   ]
  },
  {
   "cell_type": "code",
   "execution_count": 3,
   "metadata": {
    "collapsed": false
   },
   "outputs": [
    {
     "name": "stderr",
     "output_type": "stream",
     "text": [
      "/home/chenani/anaconda/lib/python2.7/site-packages/matplotlib/__init__.py:1350: UserWarning:  This call to matplotlib.use() has no effect\n",
      "because the backend has already been chosen;\n",
      "matplotlib.use() must be called *before* pylab, matplotlib.pyplot,\n",
      "or matplotlib.backends is imported for the first time.\n",
      "\n",
      "  warnings.warn(_use_error_msg)\n",
      "/home/chenani/anaconda/lib/python2.7/site-packages/statsmodels/compat/pandas.py:56: FutureWarning: The pandas.core.datetools module is deprecated and will be removed in a future version. Please use the pandas.tseries module instead.\n",
      "  from pandas.core import datetools\n",
      "/home/chenani/anaconda/lib/python2.7/site-packages/IPython/html.py:14: ShimWarning: The `IPython.html` package has been deprecated. You should import from `notebook` instead. `IPython.html.widgets` has moved to `ipywidgets`.\n",
      "  \"`IPython.html.widgets` has moved to `ipywidgets`.\", ShimWarning)\n"
     ]
    }
   ],
   "source": [
    "from signale.tools import locate\n",
    "import numpy as np\n",
    "import matplotlib.pyplot as pl\n",
    "import cPickle as pkl\n",
    "import scipy.signal as scsig\n",
    "import signale.tools as tools\n",
    "import os\n",
    "import itertools\n",
    "import pandas as pd\n",
    "import seaborn as sns\n",
    "from os import path\n"
   ]
  },
  {
   "cell_type": "code",
   "execution_count": 38,
   "metadata": {
    "collapsed": false
   },
   "outputs": [
    {
     "name": "stdout",
     "output_type": "stream",
     "text": [
      "control L D1 Rat3661\n",
      "control L D2 Rat3661\n",
      "control L D3 Rat3661\n",
      "control R D1 Rat3661\n",
      "control R D2 Rat3661\n",
      "control R D3 Rat3661\n",
      "control L D5 Rat3839\n",
      "control R D5 Rat3839\n",
      "control L D1 Rat3906\n",
      "control L D2 Rat3906\n",
      "control L D3 Rat3906\n",
      "control L D4 Rat3906\n",
      "control R D1 Rat3906\n",
      "control R D2 Rat3906\n",
      "control R D3 Rat3906\n",
      "control R D4 Rat3906\n",
      "control L D1 Rat614\n",
      "control L D2 Rat614\n",
      "control L D3 Rat614\n",
      "control R D1 Rat614\n",
      "control R D2 Rat614\n",
      "control R D3 Rat614\n",
      "control L T1 Rat616\n",
      "control R T1 Rat616\n",
      "lesion L D1 Rat3656Lesion\n",
      "lesion L D2 Rat3656Lesion\n",
      "lesion R D1 Rat3656Lesion\n",
      "lesion R D2 Rat3656Lesion\n",
      "lesion L D3 Rat3754Lesion\n",
      "lesion R D3 Rat3754Lesion\n",
      "lesion L D1 Rat3837Lesion\n",
      "lesion L D3 Rat3837Lesion\n",
      "lesion R D1 Rat3837Lesion\n",
      "lesion R D3 Rat3837Lesion\n",
      "lesion L D1 Rat3838Lesion\n",
      "lesion L D2 Rat3838Lesion\n",
      "lesion L D3 Rat3838Lesion\n",
      "lesion L D4 Rat3838Lesion\n",
      "lesion R D1 Rat3838Lesion\n",
      "lesion R D2 Rat3838Lesion\n",
      "lesion R D3 Rat3838Lesion\n",
      "lesion R D4 Rat3838Lesion\n",
      "lesion L D1 Rat3903Lesion\n",
      "lesion L D2 Rat3903Lesion\n",
      "lesion L D3 Rat3903Lesion\n",
      "lesion L D4 Rat3903Lesion\n",
      "lesion R D1 Rat3903Lesion\n",
      "lesion R D2 Rat3903Lesion\n",
      "lesion R D3 Rat3903Lesion\n",
      "lesion R D4 Rat3903Lesion\n",
      "lesion L D1 Rat405Lesion\n",
      "lesion R D1 Rat405Lesion\n",
      "lesion L D1 Rat434Lesion\n",
      "lesion R D1 Rat434Lesion\n"
     ]
    }
   ],
   "source": [
    "for iitem in locate('N-*','/mnt/Data/ownCloud/IpythonNotebooks/Sleep/MEC_Lesion_Project/'):\n",
    "    dbName = path.join(iitem[0],iitem[1])\n",
    "    group = dbName.split('/')[-4]\n",
    "    dday  = dbName.split('/')[-1].split('.')[0][-2:]\n",
    "    richtung  = dbName.split('/')[-1].split('-')[1][0]\n",
    "    try:\n",
    "        anID  = dbName.split('/')[-3].split('C')[0]\n",
    "    except IndexError:\n",
    "        anID  = dbName.split('/')[-3].split('L')[110]\n",
    "    print group,richtung,dday,anID\n",
    "    data = {'cell_ids': pkl.load(open(dbName,'rb'))}\n",
    "    savemat('/mnt/Data/ownCloud/IpythonNotebooks/Sleep/MEC_Lesion_Project/files/replay_DataSet/templates/'+\n",
    "            anID+'-'+dday+'-'+richtung+'.mat',data)"
   ]
  },
  {
   "cell_type": "code",
   "execution_count": 36,
   "metadata": {
    "collapsed": false
   },
   "outputs": [
    {
     "data": {
      "text/plain": [
       "{'Ltemplate': array([[13, 11,  4,  9,  5, 10,  7, 12,  2,  8]]),\n",
       " 'Rat3906Control': array([[ 352.49999985,           nan,  251.27929673, ...,           nan,\n",
       "          251.27929673,           nan],\n",
       "        [ 365.37747513,  613.90779691,           nan, ...,           nan,\n",
       "                   nan,           nan],\n",
       "        [          nan,    6.91352723,           nan, ...,           nan,\n",
       "          281.52825326,           nan],\n",
       "        ..., \n",
       "        [ 263.19444428,  349.99999983,    9.72222206, ...,           nan,\n",
       "          374.30555539,           nan],\n",
       "        [ 289.13043461,  789.13043461,  169.56521722, ...,           nan,\n",
       "                   nan,           nan],\n",
       "        [          nan,  843.88888876,  316.11111098, ...,           nan,\n",
       "          291.11111098,           nan]]),\n",
       " 'Rtemplate': array([[13,  4, 11, 12,  2,  0,  1, 10,  3,  6,  7,  9]]),\n",
       " '__globals__': [],\n",
       " '__header__': 'MATLAB 5.0 MAT-file Platform: posix, Created on: Fri Feb 24 14:37:07 2017',\n",
       " '__version__': '1.0',\n",
       " 'epochs': array([u'rem  ', u'rem  ', u'rem  ', u'rem  ', u'rem  ', u'rem  ',\n",
       "        u'rem  ', u'rem  ', u'awake', u'sws  ', u'sws  ', u'sws  ',\n",
       "        u'sws  ', u'sws  ', u'sws  ', u'sws  ', u'sws  ', u'sws  ',\n",
       "        u'sws  ', u'sws  ', u'sws  ', u'sws  ', u'awake', u'awake',\n",
       "        u'sws  ', u'sws  ', u'sws  ', u'sws  ', u'awake', u'sws  ',\n",
       "        u'sws  ', u'sws  ', u'sws  ', u'rem  ', u'rem  ', u'awake',\n",
       "        u'awake', u'awake', u'awake', u'awake', u'awake', u'sws  ',\n",
       "        u'awake', u'rem  ', u'sws  ', u'sws  ', u'sws  ', u'sws  ',\n",
       "        u'sws  ', u'sws  ', u'sws  ', u'sws  ', u'awake', u'awake',\n",
       "        u'awake', u'awake', u'awake', u'rem  ', u'sws  ', u'sws  ',\n",
       "        u'sws  ', u'sws  ', u'awake', u'awake', u'rem  ', u'rem  ',\n",
       "        u'rem  ', u'rem  ', u'awake', u'awake', u'sws  ', u'sws  ',\n",
       "        u'sws  ', u'sws  ', u'sws  ', u'awake', u'awake', u'awake',\n",
       "        u'awake', u'awake', u'awake', u'awake', u'awake', u'sws  ',\n",
       "        u'sws  ', u'sws  ', u'sws  ', u'rem  ', u'sws  ', u'sws  ',\n",
       "        u'sws  ', u'sws  ', u'sws  ', u'sws  ', u'sws  ', u'sws  ',\n",
       "        u'NA   ', u'sws  ', u'sws  ', u'sws  ', u'sws  ', u'sws  ',\n",
       "        u'awake', u'sws  ', u'rem  ', u'rem  ', u'rem  ', u'rem  ',\n",
       "        u'rem  ', u'rem  ', u'NA   ', u'NA   ', u'NA   ', u'NA   ',\n",
       "        u'NA   ', u'NA   '], \n",
       "       dtype='<U5')}"
      ]
     },
     "execution_count": 36,
     "metadata": {},
     "output_type": "execute_result"
    }
   ],
   "source": [
    "loadmat('/home/chenani/Desktop/Rat3838-D3-sleep01.mat')"
   ]
  },
  {
   "cell_type": "code",
   "execution_count": null,
   "metadata": {
    "collapsed": true
   },
   "outputs": [],
   "source": []
  }
 ],
 "metadata": {
  "kernelspec": {
   "display_name": "Python 2",
   "language": "python",
   "name": "python2"
  },
  "language_info": {
   "codemirror_mode": {
    "name": "ipython",
    "version": 2
   },
   "file_extension": ".py",
   "mimetype": "text/x-python",
   "name": "python",
   "nbconvert_exporter": "python",
   "pygments_lexer": "ipython2",
   "version": "2.7.12"
  }
 },
 "nbformat": 4,
 "nbformat_minor": 0
}
