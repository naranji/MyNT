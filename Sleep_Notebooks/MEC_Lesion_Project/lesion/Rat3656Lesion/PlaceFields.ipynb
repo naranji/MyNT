{
 "cells": [
  {
   "cell_type": "code",
   "execution_count": 1,
   "metadata": {
    "collapsed": false
   },
   "outputs": [
    {
     "name": "stdout",
     "output_type": "stream",
     "text": [
      "/mnt/Data/Scripts/Sleep-Oct14/src\n"
     ]
    }
   ],
   "source": [
    "cd /mnt/Data/Scripts/Sleep-Oct14/src/"
   ]
  },
  {
   "cell_type": "code",
   "execution_count": 2,
   "metadata": {
    "collapsed": false
   },
   "outputs": [
    {
     "name": "stdout",
     "output_type": "stream",
     "text": [
      "Using matplotlib backend: Qt4Agg\n"
     ]
    }
   ],
   "source": [
    "%matplotlib\n",
    "%load_ext autoreload\n",
    "%autoreload 2\n",
    "import numpy as np\n",
    "import matplotlib.pyplot as pl\n",
    "import pickle as pkl\n",
    "import random\n",
    "import os,sys\n",
    "import scipy.signal as scsig"
   ]
  },
  {
   "cell_type": "code",
   "execution_count": 4,
   "metadata": {
    "collapsed": false
   },
   "outputs": [],
   "source": [
    "extraPaths=[\"/home/chenani/pypacks/lib/python2.7/site-packages\",\n",
    "    \"/home/chenani/ATLAS-clone/workspace/NeuNeuro/src/scripts/\",\n",
    "    \"/home/haas/.local/lib/\"]\n",
    "for p in extraPaths:\n",
    "    if not sys.path.count(p):\n",
    "        sys.path.insert(1, p)\n"
   ]
  },
  {
   "cell_type": "code",
   "execution_count": null,
   "metadata": {
    "collapsed": false
   },
   "outputs": [],
   "source": [
    "import Recordings\n",
    "import signale, trajectory, custom_plot"
   ]
  },
  {
   "cell_type": "code",
   "execution_count": null,
   "metadata": {
    "collapsed": false
   },
   "outputs": [],
   "source": [
    "colors = ['#FF0000', '#0000FF', '#008000', '#00FFFF', '#FF00FF', '#EE82EE',\n",
    "        '#808000', '#800080', '#FF6347', '#FFFF00', '#9ACD32', '#4B0082',\n",
    "        '#FFFACD', '#C0C0C0', '#A0522D', '#FA8072', '#FFEFD5', '#E6E6FA',\n",
    "        '#F1FAC1', '#C5C5C5', '#A152ED', '#FADD72', '#F0EFD0', '#EEE6FF',\n",
    "        '#01FAC1', '#F5F5F5', '#A152FF', '#FAFD72', '#F0EFDF', '#EEEFFF',\n",
    "        '#F1FA99', '#C9C9C9', '#A152DD', '#FA5572', '#FFFFD0', '#EDD6FF']\n",
    "pretty_colors_set1 = [(0.8941176470588236, 0.10196078431372549, 0.10980392156862745),\n",
    " (0.21568627450980393, 0.49411764705882355, 0.7215686274509804),\n",
    " (0.30196078431372547, 0.6862745098039216, 0.2901960784313726),\n",
    " (0.596078431372549, 0.3058823529411765, 0.6392156862745098),\n",
    " (1.0, 0.4980392156862745, 0.0),\n",
    " (1.0, 1.0, 0.2),\n",
    " (0.6509803921568628, 0.33725490196078434, 0.1568627450980392),\n",
    " (0.9686274509803922, 0.5058823529411764, 0.7490196078431373),\n",
    " (0.6, 0.6, 0.6)]\n",
    "\n",
    "pretty_colors_set2 = [(0.4, 0.7607843137254902, 0.6470588235294118),\n",
    " (0.9882352941176471, 0.5529411764705883, 0.3843137254901961),\n",
    " (0.5529411764705883, 0.6274509803921569, 0.796078431372549),\n",
    " (0.9058823529411765, 0.5411764705882353, 0.7647058823529411),\n",
    " (0.6509803921568628, 0.8470588235294118, 0.32941176470588235),\n",
    " (1.0, 0.8509803921568627, 0.1843137254901961),\n",
    " (0.8980392156862745, 0.7686274509803922, 0.5803921568627451),\n",
    " (0.7019607843137254, 0.7019607843137254, 0.7019607843137254)]\n",
    "grey = np.ones(3) * .25\n",
    "transred = '#FFA1A1'"
   ]
  },
  {
   "cell_type": "code",
   "execution_count": null,
   "metadata": {
    "collapsed": false
   },
   "outputs": [],
   "source": [
    "trajFile = '/home/chenani/dataWork/ali/MECLesion_SleepData/Marta/Rat3656/LinearTrack_03-03-2015_Day1/parrentData/linearTrack_Trajectory.traj'\n",
    "placeCellList = '/home/chenani/dataWork/ali/MECLesion_SleepData/Marta/Rat3656/LinearTrack_03-03-2015_Day1/parrentData/placeCells.spk'"
   ]
  },
  {
   "cell_type": "code",
   "execution_count": 11,
   "metadata": {
    "collapsed": false
   },
   "outputs": [
    {
     "ename": "ImportError",
     "evalue": "No module named NeuroTools.signals",
     "output_type": "error",
     "traceback": [
      "\u001b[1;31m---------------------------------------------------------------------------\u001b[0m",
      "\u001b[1;31mImportError\u001b[0m                               Traceback (most recent call last)",
      "\u001b[1;32m<ipython-input-11-6b6806e88477>\u001b[0m in \u001b[0;36m<module>\u001b[1;34m()\u001b[0m\n\u001b[1;32m----> 1\u001b[1;33m \u001b[0mplzList\u001b[0m \u001b[1;33m=\u001b[0m \u001b[0mpkl\u001b[0m\u001b[1;33m.\u001b[0m\u001b[0mload\u001b[0m\u001b[1;33m(\u001b[0m\u001b[0mopen\u001b[0m\u001b[1;33m(\u001b[0m\u001b[0mplaceCellList\u001b[0m\u001b[1;33m,\u001b[0m\u001b[1;34m'rb'\u001b[0m\u001b[1;33m)\u001b[0m\u001b[1;33m)\u001b[0m\u001b[1;33m\u001b[0m\u001b[0m\n\u001b[0m\u001b[0;32m      2\u001b[0m \u001b[0mtraj\u001b[0m \u001b[1;33m=\u001b[0m \u001b[0mpkl\u001b[0m\u001b[1;33m.\u001b[0m\u001b[0mload\u001b[0m\u001b[1;33m(\u001b[0m\u001b[0mopen\u001b[0m\u001b[1;33m(\u001b[0m\u001b[0mtrajFile\u001b[0m\u001b[1;33m,\u001b[0m\u001b[1;34m'rb'\u001b[0m\u001b[1;33m)\u001b[0m\u001b[1;33m)\u001b[0m\u001b[1;33m\u001b[0m\u001b[0m\n",
      "\u001b[1;32m/home/chenani/anaconda/lib/python2.7/pickle.pyc\u001b[0m in \u001b[0;36mload\u001b[1;34m(file)\u001b[0m\n\u001b[0;32m   1376\u001b[0m \u001b[1;33m\u001b[0m\u001b[0m\n\u001b[0;32m   1377\u001b[0m \u001b[1;32mdef\u001b[0m \u001b[0mload\u001b[0m\u001b[1;33m(\u001b[0m\u001b[0mfile\u001b[0m\u001b[1;33m)\u001b[0m\u001b[1;33m:\u001b[0m\u001b[1;33m\u001b[0m\u001b[0m\n\u001b[1;32m-> 1378\u001b[1;33m     \u001b[1;32mreturn\u001b[0m \u001b[0mUnpickler\u001b[0m\u001b[1;33m(\u001b[0m\u001b[0mfile\u001b[0m\u001b[1;33m)\u001b[0m\u001b[1;33m.\u001b[0m\u001b[0mload\u001b[0m\u001b[1;33m(\u001b[0m\u001b[1;33m)\u001b[0m\u001b[1;33m\u001b[0m\u001b[0m\n\u001b[0m\u001b[0;32m   1379\u001b[0m \u001b[1;33m\u001b[0m\u001b[0m\n\u001b[0;32m   1380\u001b[0m \u001b[1;32mdef\u001b[0m \u001b[0mloads\u001b[0m\u001b[1;33m(\u001b[0m\u001b[0mstr\u001b[0m\u001b[1;33m)\u001b[0m\u001b[1;33m:\u001b[0m\u001b[1;33m\u001b[0m\u001b[0m\n",
      "\u001b[1;32m/home/chenani/anaconda/lib/python2.7/pickle.pyc\u001b[0m in \u001b[0;36mload\u001b[1;34m(self)\u001b[0m\n\u001b[0;32m    856\u001b[0m             \u001b[1;32mwhile\u001b[0m \u001b[1;36m1\u001b[0m\u001b[1;33m:\u001b[0m\u001b[1;33m\u001b[0m\u001b[0m\n\u001b[0;32m    857\u001b[0m                 \u001b[0mkey\u001b[0m \u001b[1;33m=\u001b[0m \u001b[0mread\u001b[0m\u001b[1;33m(\u001b[0m\u001b[1;36m1\u001b[0m\u001b[1;33m)\u001b[0m\u001b[1;33m\u001b[0m\u001b[0m\n\u001b[1;32m--> 858\u001b[1;33m                 \u001b[0mdispatch\u001b[0m\u001b[1;33m[\u001b[0m\u001b[0mkey\u001b[0m\u001b[1;33m]\u001b[0m\u001b[1;33m(\u001b[0m\u001b[0mself\u001b[0m\u001b[1;33m)\u001b[0m\u001b[1;33m\u001b[0m\u001b[0m\n\u001b[0m\u001b[0;32m    859\u001b[0m         \u001b[1;32mexcept\u001b[0m \u001b[0m_Stop\u001b[0m\u001b[1;33m,\u001b[0m \u001b[0mstopinst\u001b[0m\u001b[1;33m:\u001b[0m\u001b[1;33m\u001b[0m\u001b[0m\n\u001b[0;32m    860\u001b[0m             \u001b[1;32mreturn\u001b[0m \u001b[0mstopinst\u001b[0m\u001b[1;33m.\u001b[0m\u001b[0mvalue\u001b[0m\u001b[1;33m\u001b[0m\u001b[0m\n",
      "\u001b[1;32m/home/chenani/anaconda/lib/python2.7/pickle.pyc\u001b[0m in \u001b[0;36mload_global\u001b[1;34m(self)\u001b[0m\n\u001b[0;32m   1088\u001b[0m         \u001b[0mmodule\u001b[0m \u001b[1;33m=\u001b[0m \u001b[0mself\u001b[0m\u001b[1;33m.\u001b[0m\u001b[0mreadline\u001b[0m\u001b[1;33m(\u001b[0m\u001b[1;33m)\u001b[0m\u001b[1;33m[\u001b[0m\u001b[1;33m:\u001b[0m\u001b[1;33m-\u001b[0m\u001b[1;36m1\u001b[0m\u001b[1;33m]\u001b[0m\u001b[1;33m\u001b[0m\u001b[0m\n\u001b[0;32m   1089\u001b[0m         \u001b[0mname\u001b[0m \u001b[1;33m=\u001b[0m \u001b[0mself\u001b[0m\u001b[1;33m.\u001b[0m\u001b[0mreadline\u001b[0m\u001b[1;33m(\u001b[0m\u001b[1;33m)\u001b[0m\u001b[1;33m[\u001b[0m\u001b[1;33m:\u001b[0m\u001b[1;33m-\u001b[0m\u001b[1;36m1\u001b[0m\u001b[1;33m]\u001b[0m\u001b[1;33m\u001b[0m\u001b[0m\n\u001b[1;32m-> 1090\u001b[1;33m         \u001b[0mklass\u001b[0m \u001b[1;33m=\u001b[0m \u001b[0mself\u001b[0m\u001b[1;33m.\u001b[0m\u001b[0mfind_class\u001b[0m\u001b[1;33m(\u001b[0m\u001b[0mmodule\u001b[0m\u001b[1;33m,\u001b[0m \u001b[0mname\u001b[0m\u001b[1;33m)\u001b[0m\u001b[1;33m\u001b[0m\u001b[0m\n\u001b[0m\u001b[0;32m   1091\u001b[0m         \u001b[0mself\u001b[0m\u001b[1;33m.\u001b[0m\u001b[0mappend\u001b[0m\u001b[1;33m(\u001b[0m\u001b[0mklass\u001b[0m\u001b[1;33m)\u001b[0m\u001b[1;33m\u001b[0m\u001b[0m\n\u001b[0;32m   1092\u001b[0m     \u001b[0mdispatch\u001b[0m\u001b[1;33m[\u001b[0m\u001b[0mGLOBAL\u001b[0m\u001b[1;33m]\u001b[0m \u001b[1;33m=\u001b[0m \u001b[0mload_global\u001b[0m\u001b[1;33m\u001b[0m\u001b[0m\n",
      "\u001b[1;32m/home/chenani/anaconda/lib/python2.7/pickle.pyc\u001b[0m in \u001b[0;36mfind_class\u001b[1;34m(self, module, name)\u001b[0m\n\u001b[0;32m   1122\u001b[0m     \u001b[1;32mdef\u001b[0m \u001b[0mfind_class\u001b[0m\u001b[1;33m(\u001b[0m\u001b[0mself\u001b[0m\u001b[1;33m,\u001b[0m \u001b[0mmodule\u001b[0m\u001b[1;33m,\u001b[0m \u001b[0mname\u001b[0m\u001b[1;33m)\u001b[0m\u001b[1;33m:\u001b[0m\u001b[1;33m\u001b[0m\u001b[0m\n\u001b[0;32m   1123\u001b[0m         \u001b[1;31m# Subclasses may override this\u001b[0m\u001b[1;33m\u001b[0m\u001b[1;33m\u001b[0m\u001b[0m\n\u001b[1;32m-> 1124\u001b[1;33m         \u001b[0m__import__\u001b[0m\u001b[1;33m(\u001b[0m\u001b[0mmodule\u001b[0m\u001b[1;33m)\u001b[0m\u001b[1;33m\u001b[0m\u001b[0m\n\u001b[0m\u001b[0;32m   1125\u001b[0m         \u001b[0mmod\u001b[0m \u001b[1;33m=\u001b[0m \u001b[0msys\u001b[0m\u001b[1;33m.\u001b[0m\u001b[0mmodules\u001b[0m\u001b[1;33m[\u001b[0m\u001b[0mmodule\u001b[0m\u001b[1;33m]\u001b[0m\u001b[1;33m\u001b[0m\u001b[0m\n\u001b[0;32m   1126\u001b[0m         \u001b[0mklass\u001b[0m \u001b[1;33m=\u001b[0m \u001b[0mgetattr\u001b[0m\u001b[1;33m(\u001b[0m\u001b[0mmod\u001b[0m\u001b[1;33m,\u001b[0m \u001b[0mname\u001b[0m\u001b[1;33m)\u001b[0m\u001b[1;33m\u001b[0m\u001b[0m\n",
      "\u001b[1;32m/mnt/Data/Workspaces/Eclipse/dataAnalysis/Sleep-current/src/signale/__init__.py\u001b[0m in \u001b[0;36m<module>\u001b[1;34m()\u001b[0m\n\u001b[0;32m     30\u001b[0m \u001b[1;33m\u001b[0m\u001b[0m\n\u001b[0;32m     31\u001b[0m \u001b[1;31m# package modules\u001b[0m\u001b[1;33m\u001b[0m\u001b[1;33m\u001b[0m\u001b[0m\n\u001b[1;32m---> 32\u001b[1;33m \u001b[1;32mfrom\u001b[0m \u001b[0mcscs\u001b[0m \u001b[1;32mimport\u001b[0m \u001b[1;33m*\u001b[0m\u001b[1;33m\u001b[0m\u001b[0m\n\u001b[0m\u001b[0;32m     33\u001b[0m \u001b[1;32mfrom\u001b[0m \u001b[0mio\u001b[0m \u001b[1;32mimport\u001b[0m \u001b[1;33m*\u001b[0m\u001b[1;33m\u001b[0m\u001b[0m\n\u001b[0;32m     34\u001b[0m \u001b[1;32mfrom\u001b[0m \u001b[0mplace_cells\u001b[0m \u001b[1;32mimport\u001b[0m \u001b[1;33m*\u001b[0m\u001b[1;33m\u001b[0m\u001b[0m\n",
      "\u001b[1;32m/mnt/Data/Workspaces/Eclipse/dataAnalysis/Sleep-current/src/signale/cscs.py\u001b[0m in \u001b[0;36m<module>\u001b[1;34m()\u001b[0m\n\u001b[0;32m     13\u001b[0m \u001b[1;32mimport\u001b[0m \u001b[0mnumpy\u001b[0m\u001b[1;33m\u001b[0m\u001b[0m\n\u001b[0;32m     14\u001b[0m \u001b[1;32mimport\u001b[0m \u001b[0mscipy\u001b[0m\u001b[1;33m.\u001b[0m\u001b[0msignal\u001b[0m \u001b[1;32mas\u001b[0m \u001b[0mscsig\u001b[0m\u001b[1;33m\u001b[0m\u001b[0m\n\u001b[1;32m---> 15\u001b[1;33m \u001b[1;32mimport\u001b[0m \u001b[0mNeuroTools\u001b[0m\u001b[1;33m.\u001b[0m\u001b[0msignals\u001b[0m \u001b[1;32mas\u001b[0m \u001b[0mNTsig\u001b[0m\u001b[1;33m\u001b[0m\u001b[0m\n\u001b[0m\u001b[0;32m     16\u001b[0m \u001b[1;32mimport\u001b[0m \u001b[0mmatplotlib\u001b[0m\u001b[1;33m.\u001b[0m\u001b[0mpyplot\u001b[0m \u001b[1;32mas\u001b[0m \u001b[0mpl\u001b[0m\u001b[1;33m\u001b[0m\u001b[0m\n\u001b[0;32m     17\u001b[0m \u001b[1;32mimport\u001b[0m \u001b[0mmatplotlib\u001b[0m \u001b[1;32mas\u001b[0m \u001b[0mmpl\u001b[0m\u001b[1;33m\u001b[0m\u001b[0m\n",
      "\u001b[1;31mImportError\u001b[0m: No module named NeuroTools.signals"
     ]
    }
   ],
   "source": [
    "plzList = pkl.load(open(placeCellList,'rb'))\n",
    "traj = pkl.load(open(trajFile,'rb'))"
   ]
  },
  {
   "cell_type": "code",
   "execution_count": 13,
   "metadata": {
    "collapsed": false
   },
   "outputs": [
    {
     "name": "stdout",
     "output_type": "stream",
     "text": [
      "NOTE: Need to calculate running trajectory.\n",
      "calculating trajectory with running speed >= 0.8\n",
      "WARNING: Calculating without head directions! If head directions are needed                 calculate them first!\n"
     ]
    }
   ],
   "source": [
    "speed = traj.getSpeed()\n",
    "pl.plot(speed[0],speed[1])\n",
    "traj.threshspeed = 0.8\n",
    "traj.getLeftAndRightwardRuns()"
   ]
  },
  {
   "cell_type": "code",
   "execution_count": 14,
   "metadata": {
    "collapsed": false
   },
   "outputs": [
    {
     "data": {
      "text/plain": [
       "2.5120805555555554"
      ]
     },
     "execution_count": 14,
     "metadata": {},
     "output_type": "execute_result"
    }
   ],
   "source": [
    "(plzList.t_stop - plzList.t_start)/3600000"
   ]
  },
  {
   "cell_type": "code",
   "execution_count": 15,
   "metadata": {
    "collapsed": false
   },
   "outputs": [],
   "source": [
    "for ii in range(len(plzList)):\n",
    "    plzList[ii].tags = plzList.tags[ii].copy()"
   ]
  },
  {
   "cell_type": "code",
   "execution_count": 16,
   "metadata": {
    "collapsed": false
   },
   "outputs": [
    {
     "data": {
      "text/plain": [
       "1.0017772222222223"
      ]
     },
     "execution_count": 16,
     "metadata": {},
     "output_type": "execute_result"
    }
   ],
   "source": [
    "(traj.t_start*1000 - plzList.t_start)/3600000"
   ]
  },
  {
   "cell_type": "code",
   "execution_count": 17,
   "metadata": {
    "collapsed": false
   },
   "outputs": [],
   "source": [
    "lt1List = plzList.time_slice(traj.t_start * 1000,traj.t_stop * 1000)"
   ]
  },
  {
   "cell_type": "code",
   "execution_count": 18,
   "metadata": {
    "collapsed": false
   },
   "outputs": [
    {
     "data": {
      "text/plain": [
       "(array([], dtype=int64),\n",
       " array([ 0,  1,  2,  3,  4,  5,  6,  7,  8,  9, 10, 11, 12]))"
      ]
     },
     "execution_count": 18,
     "metadata": {},
     "output_type": "execute_result"
    }
   ],
   "source": [
    "interNeuronIDs = np.int0([])\n",
    "for jj,item in enumerate(plzList):\n",
    "    if item.mean_rate() > 5.5:\n",
    "        interNeuronIDs = np.append(interNeuronIDs,jj)\n",
    "placeCellIDs = np.array([item for item in lt1List.id_list if item not in interNeuronIDs])\n",
    "interNeuronIDs,placeCellIDs"
   ]
  },
  {
   "cell_type": "code",
   "execution_count": 19,
   "metadata": {
    "collapsed": false
   },
   "outputs": [],
   "source": [
    "leftplz = np.int0([0,1,2,3,5,6,8,10,11,12])\n",
    "rightplz = np.int0([0,1,2,3,5,6,10,11,12])"
   ]
  },
  {
   "cell_type": "code",
   "execution_count": 20,
   "metadata": {
    "collapsed": false
   },
   "outputs": [
    {
     "data": {
      "text/plain": [
       "[<matplotlib.lines.Line2D at 0x7f01fa8fbd90>]"
      ]
     },
     "execution_count": 20,
     "metadata": {},
     "output_type": "execute_result"
    }
   ],
   "source": [
    "pl.plot(plzList.mean_rates())"
   ]
  },
  {
   "cell_type": "code",
   "execution_count": 21,
   "metadata": {
    "collapsed": false
   },
   "outputs": [],
   "source": [
    "lt1List._spikezugList__recalc_startstop()\n",
    "lt1List.changeTimeUnit('s')"
   ]
  },
  {
   "cell_type": "code",
   "execution_count": 22,
   "metadata": {
    "collapsed": false
   },
   "outputs": [],
   "source": [
    "for item in lt1List:\n",
    "    if item.t_stop > traj.t_stop * 1000:\n",
    "        print item.t_stop"
   ]
  },
  {
   "cell_type": "code",
   "execution_count": 23,
   "metadata": {
    "collapsed": false
   },
   "outputs": [
    {
     "name": "stdout",
     "output_type": "stream",
     "text": [
      "NOTE: Using linear interpolation to get the places.\n",
      "WARNING: Calculating without spike phases! If spike phases are needed caluculate them before!\n",
      "WARNING: Calculating without spike head directions! If spike head directions are needed caluculate them before!\n",
      "WARNING: Calculating without spike phases! If spike phases are needed                 spike phases have to be calculated first!\n",
      "NOTE: Using linear interpolation to get the places.\n",
      "WARNING: Calculating without spike phases! If spike phases are needed caluculate them before!\n",
      "WARNING: Calculating without spike head directions! If spike head directions are needed caluculate them before!\n",
      "WARNING: Calculating without spike phases! If spike phases are needed                 spike phases have to be calculated first!\n",
      "NOTE: Using linear interpolation to get the places.\n",
      "WARNING: Calculating without spike phases! If spike phases are needed caluculate them before!\n",
      "WARNING: Calculating without spike head directions! If spike head directions are needed caluculate them before!\n",
      "WARNING: Calculating without spike phases! If spike phases are needed                 spike phases have to be calculated first!\n",
      "NOTE: Using linear interpolation to get the places.\n",
      "WARNING: Calculating without spike phases! If spike phases are needed caluculate them before!\n",
      "WARNING: Calculating without spike head directions! If spike head directions are needed caluculate them before!\n",
      "WARNING: Calculating without spike phases! If spike phases are needed                 spike phases have to be calculated first!\n",
      "NOTE: Using linear interpolation to get the places.\n",
      "WARNING: Calculating without spike phases! If spike phases are needed caluculate them before!\n",
      "WARNING: Calculating without spike head directions! If spike head directions are needed caluculate them before!\n",
      "WARNING: Calculating without spike phases! If spike phases are needed                 spike phases have to be calculated first!\n",
      "NOTE: Using linear interpolation to get the places.\n",
      "WARNING: Calculating without spike phases! If spike phases are needed caluculate them before!\n",
      "WARNING: Calculating without spike head directions! If spike head directions are needed caluculate them before!\n",
      "WARNING: Calculating without spike phases! If spike phases are needed                 spike phases have to be calculated first!\n",
      "NOTE: Using linear interpolation to get the places.\n",
      "WARNING: Calculating without spike phases! If spike phases are needed caluculate them before!\n",
      "WARNING: Calculating without spike head directions! If spike head directions are needed caluculate them before!\n",
      "WARNING: Calculating without spike phases! If spike phases are needed                 spike phases have to be calculated first!\n",
      "NOTE: Using linear interpolation to get the places.\n",
      "WARNING: Calculating without spike phases! If spike phases are needed caluculate them before!\n",
      "WARNING: Calculating without spike head directions! If spike head directions are needed caluculate them before!\n",
      "WARNING: Calculating without spike phases! If spike phases are needed                 spike phases have to be calculated first!\n",
      "NOTE: Using linear interpolation to get the places.\n",
      "WARNING: Calculating without spike phases! If spike phases are needed caluculate them before!\n",
      "WARNING: Calculating without spike head directions! If spike head directions are needed caluculate them before!\n",
      "WARNING: Calculating without spike phases! If spike phases are needed                 spike phases have to be calculated first!\n",
      "NOTE: Using linear interpolation to get the places.\n",
      "WARNING: Calculating without spike phases! If spike phases are needed caluculate them before!\n",
      "WARNING: Calculating without spike head directions! If spike head directions are needed caluculate them before!\n",
      "WARNING: Calculating without spike phases! If spike phases are needed                 spike phases have to be calculated first!\n",
      "NOTE: Using linear interpolation to get the places.\n",
      "WARNING: Calculating without spike phases! If spike phases are needed caluculate them before!\n",
      "WARNING: Calculating without spike head directions! If spike head directions are needed caluculate them before!\n",
      "WARNING: Calculating without spike phases! If spike phases are needed                 spike phases have to be calculated first!\n",
      "NOTE: Using linear interpolation to get the places.\n",
      "WARNING: Calculating without spike phases! If spike phases are needed caluculate them before!\n",
      "WARNING: Calculating without spike head directions! If spike head directions are needed caluculate them before!\n",
      "WARNING: Calculating without spike phases! If spike phases are needed                 spike phases have to be calculated first!\n",
      "NOTE: Using linear interpolation to get the places.\n",
      "WARNING: Calculating without spike phases! If spike phases are needed caluculate them before!\n",
      "WARNING: Calculating without spike head directions! If spike head directions are needed caluculate them before!\n",
      "WARNING: Calculating without spike phases! If spike phases are needed                 spike phases have to be calculated first!\n"
     ]
    },
    {
     "name": "stderr",
     "output_type": "stream",
     "text": [
      "/usr/local/bin/anaconda/lib/python2.7/site-packages/numpy/ma/core.py:2200: RuntimeWarning: invalid value encountered in less_equal\n",
      "  condition = umath.less_equal(mabs(xnew - value), atol + rtol * mabs(value))\n"
     ]
    }
   ],
   "source": [
    "for zaehler, st in enumerate(lt1List):\n",
    "    st.traj = traj\n",
    "    st.getSpikePlaces()\n",
    "    st.getRunningSpikes()\n",
    "    st.getLeftAndRightwardSpikes(onlyRunning=True)\n",
    "    "
   ]
  },
  {
   "cell_type": "code",
   "execution_count": 79,
   "metadata": {
    "collapsed": false
   },
   "outputs": [],
   "source": []
  },
  {
   "cell_type": "code",
   "execution_count": 79,
   "metadata": {
    "collapsed": false
   },
   "outputs": [],
   "source": [
    "\n",
    "        "
   ]
  },
  {
   "cell_type": "code",
   "execution_count": 30,
   "metadata": {
    "collapsed": false
   },
   "outputs": [],
   "source": []
  },
  {
   "cell_type": "code",
   "execution_count": 30,
   "metadata": {
    "collapsed": false
   },
   "outputs": [],
   "source": []
  },
  {
   "cell_type": "code",
   "execution_count": 30,
   "metadata": {
    "collapsed": false
   },
   "outputs": [],
   "source": []
  },
  {
   "cell_type": "code",
   "execution_count": 24,
   "metadata": {
    "collapsed": false
   },
   "outputs": [
    {
     "name": "stdout",
     "output_type": "stream",
     "text": [
      "NOTE: Reset threshspeed from 0.8 to 1.2 m/s\n",
      "NOTE: Now calculating running traj > 1.2 m/s\n",
      "calculating trajectory with running speed >= 1.2\n",
      "WARNING: Calculating without head directions! If head directions are needed                 calculate them first!\n",
      "WARNING: Calculating without spike phases! If spike phases are needed caluculate them before!\n",
      "WARNING: Calculating without spike head directions! If spike head directions are needed caluculate them before!\n",
      "WARNING: Calculating without spike phases! If spike phases are needed caluculate them before!\n",
      "WARNING: Calculating without spike head directions! If spike head directions are needed caluculate them before!\n",
      "WARNING: Calculating without spike phases! If spike phases are needed caluculate them before!\n",
      "WARNING: Calculating without spike head directions! If spike head directions are needed caluculate them before!\n",
      "WARNING: Calculating without spike phases! If spike phases are needed caluculate them before!\n",
      "WARNING: Calculating without spike head directions! If spike head directions are needed caluculate them before!\n",
      "WARNING: Calculating without spike phases! If spike phases are needed caluculate them before!\n",
      "WARNING: Calculating without spike head directions! If spike head directions are needed caluculate them before!\n",
      "WARNING: Calculating without spike phases! If spike phases are needed caluculate them before!\n",
      "WARNING: Calculating without spike head directions! If spike head directions are needed caluculate them before!\n",
      "WARNING: Calculating without spike phases! If spike phases are needed caluculate them before!\n",
      "WARNING: Calculating without spike head directions! If spike head directions are needed caluculate them before!\n",
      "WARNING: Calculating without spike phases! If spike phases are needed caluculate them before!\n",
      "WARNING: Calculating without spike head directions! If spike head directions are needed caluculate them before!\n",
      "WARNING: Calculating without spike phases! If spike phases are needed caluculate them before!\n",
      "WARNING: Calculating without spike head directions! If spike head directions are needed caluculate them before!\n",
      "WARNING: Calculating without spike phases! If spike phases are needed caluculate them before!\n",
      "WARNING: Calculating without spike head directions! If spike head directions are needed caluculate them before!\n",
      "WARNING: Calculating without spike phases! If spike phases are needed caluculate them before!\n",
      "WARNING: Calculating without spike head directions! If spike head directions are needed caluculate them before!\n",
      "WARNING: Calculating without spike phases! If spike phases are needed caluculate them before!\n",
      "WARNING: Calculating without spike head directions! If spike head directions are needed caluculate them before!\n",
      "WARNING: Calculating without spike phases! If spike phases are needed caluculate them before!\n",
      "WARNING: Calculating without spike head directions! If spike head directions are needed caluculate them before!\n",
      "WARNING: Calculating without spike phases! If spike phases are needed caluculate them before!\n",
      "WARNING: Calculating without spike head directions! If spike head directions are needed caluculate them before!\n",
      "WARNING: Calculating without spike phases! If spike phases are needed caluculate them before!\n",
      "WARNING: Calculating without spike head directions! If spike head directions are needed caluculate them before!\n",
      "WARNING: Calculating without spike phases! If spike phases are needed caluculate them before!\n",
      "WARNING: Calculating without spike head directions! If spike head directions are needed caluculate them before!\n",
      "WARNING: Calculating without spike phases! If spike phases are needed caluculate them before!\n",
      "WARNING: Calculating without spike head directions! If spike head directions are needed caluculate them before!\n",
      "WARNING: Calculating without spike phases! If spike phases are needed caluculate them before!\n",
      "WARNING: Calculating without spike head directions! If spike head directions are needed caluculate them before!\n",
      "WARNING: Calculating without spike phases! If spike phases are needed caluculate them before!\n",
      "WARNING: Calculating without spike head directions! If spike head directions are needed caluculate them before!\n"
     ]
    }
   ],
   "source": [
    "bins = np.linspace(0,2,80)\n",
    "height = 0\n",
    "idxL = leftplz#80p\n",
    "idxR = rightplz#80p\n",
    "peaksR = []\n",
    "peaksL = []\n",
    "hstSmoothR = []\n",
    "hstSmoothL = []\n",
    "fR,axarrR = pl.subplots(len(idxR),sharex=True,sharey=True)\n",
    "fL,axarrL = pl.subplots(len(idxL),sharex=True,sharey=True)\n",
    "\n",
    "for ii in range(len(idxR)):\n",
    "    lt1List[idxR[ii]].getRunningSpikes(1.2)\n",
    "    hstR = np.histogram(np.intersect1d(lt1List[idxR[ii]].run_spikePlaces[:,0],lt1List[idxR[ii]].rechts_spikePlaces[:,0]),bins)\n",
    "    hstL = np.histogram(np.intersect1d(lt1List[idxR[ii]].run_spikePlaces[:,0],lt1List[idxR[ii]].links_spikePlaces[:,0]),bins)\n",
    "    hstSmoothR.append(np.convolve(hstR[0],scsig.gaussian(20,4),'same'))\n",
    "    hstSmoothL.append(np.convolve(hstL[0],scsig.gaussian(20,4),'same'))\n",
    "    hstSmoothR[-1] /= float(hstSmoothR[-1].max())\n",
    "    hstSmoothL[-1] /= float(hstSmoothL[-1].max())\n",
    "    peaksR.append(bins[hstSmoothR[-1].argmax()])\n",
    "    #peaksL.append(bins[hstSmoothL[-1].argmax()])\n",
    "\n",
    "#peaksL = np.array(peaksL)\n",
    "peaksR = np.array(peaksR)\n",
    "plidxR = peaksR.argsort()\n",
    "#plidxL = peaksL.argsort()\n",
    "placeSortedR = idxR[plidxR]\n",
    "#placeSortedL = idxR[plidxL]\n",
    "for ii in range(placeSortedR.size):\n",
    "    axarrR[ii].plot(bins[:-1],hstSmoothR[plidxR[ii]] + height,color=pretty_colors_set1[np.int0(np.math.fmod(ii,9))])\n",
    "    axarrR[ii].plot(bins[:-1],hstSmoothL[plidxR[ii]] + height,color=colors[plidxR[ii]],dashes=(5,10))\n",
    "    axarrR[ii].axvline(bins[hstSmoothR[plidxR[ii]].argmax()],0.05,0.95,color=pretty_colors_set1[np.int0(np.math.fmod(ii,9))])\n",
    "    #axarr[ii].axvline(bins[hstSmoothL[plidxL[ii]].argmax()],0.79,0.95,color=colors[plidxL[ii]])\n",
    "    axarrR[ii].set_ylabel(placeSortedR[ii])#spk.tags[idx[ii]]['file'][2:6])\n",
    "    height += 0.0005\n",
    "    pl.setp(axarrR[ii].get_yticklabels(), visible=False)\n",
    "\n",
    "###############################LEFTWARDS FIELDS!\n",
    "############################################################################\n",
    "peaksR = []\n",
    "peaksL = []\n",
    "hstSmoothR = []\n",
    "hstSmoothL = []\n",
    "for ii in range(len(idxL)):\n",
    "    lt1List[idxL[ii]].getRunningSpikes(1.2)\n",
    "    hstR = np.histogram(np.intersect1d(lt1List[idxL[ii]].run_spikePlaces[:,0],lt1List[idxL[ii]].rechts_spikePlaces[:,0]),bins)\n",
    "    hstL = np.histogram(np.intersect1d(lt1List[idxL[ii]].run_spikePlaces[:,0],lt1List[idxL[ii]].links_spikePlaces[:,0]),bins)\n",
    "    hstSmoothR.append(np.convolve(hstR[0],scsig.gaussian(20,4),'same'))\n",
    "    hstSmoothL.append(np.convolve(hstL[0],scsig.gaussian(20,4),'same'))\n",
    "    hstSmoothR[-1] /= float(hstSmoothR[-1].max())\n",
    "    hstSmoothL[-1] /= float(hstSmoothL[-1].max())\n",
    "    #peaksR.append(bins[hstSmoothR[-1].argmax()])\n",
    "    peaksL.append(bins[hstSmoothL[-1].argmax()])\n",
    "\n",
    "peaksL = np.array(peaksL)\n",
    "#peaksR = np.array(peaksR)\n",
    "#plidxR = peaksR.argsort()\n",
    "plidxL = peaksL.argsort()\n",
    "#placeSortedR = idxL[plidxR]\n",
    "placeSortedL = idxL[plidxL]\n",
    "for ii in range(placeSortedL.size):\n",
    "    axarrL[ii].plot(bins[:-1],hstSmoothL[plidxL[ii]] + height,color=pretty_colors_set1[np.int0(np.math.fmod(ii,9))])\n",
    "    axarrL[ii].plot(bins[:-1],hstSmoothR[plidxL[ii]] + height,color=colors[plidxL[ii]],dashes=(5,10))\n",
    "    axarrL[ii].axvline(bins[hstSmoothL[plidxL[ii]].argmax()],0.05,0.95,color=pretty_colors_set1[np.int0(np.math.fmod(ii,9))])\n",
    "    #axarr[ii].axvline(bins[hstSmoothL[plidxL[ii]].argmax()],0.79,0.95,color=colors[plidxL[ii]])\n",
    "    axarrL[ii].set_ylabel(placeSortedL[ii])#spk.tags[idx[ii]]['file'][2:6])\n",
    "    height += 0.0005\n",
    "    pl.setp(axarrL[ii].get_yticklabels(), visible=False)\n"
   ]
  },
  {
   "cell_type": "code",
   "execution_count": 25,
   "metadata": {
    "collapsed": false
   },
   "outputs": [
    {
     "data": {
      "text/plain": [
       "(array([ 8, 10, 11,  3,  5,  6,  0, 12,  2,  1]),\n",
       " array([ 5,  1,  2,  3, 11,  0,  6, 10, 12]))"
      ]
     },
     "execution_count": 25,
     "metadata": {},
     "output_type": "execute_result"
    }
   ],
   "source": [
    "placeSortedL,placeSortedR"
   ]
  },
  {
   "cell_type": "code",
   "execution_count": 87,
   "metadata": {
    "collapsed": false
   },
   "outputs": [
    {
     "name": "stdout",
     "output_type": "stream",
     "text": [
      "********************\n"
     ]
    }
   ],
   "source": [
    "for ii,item in enumerate(placeSortedL):\n",
    "    fname =  lt1List.tags[item]['file']\n",
    "    if fname.find('TT7') ==0:\n",
    "        print fname\n",
    "        print item\n",
    "print '********************'\n",
    "for ii,item in enumerate(placeSortedR):\n",
    "    fname =  lt1List.tags[item]['file']\n",
    "    if fname.find('TT7') ==0:\n",
    "        print fname\n",
    "        print item"
   ]
  },
  {
   "cell_type": "code",
   "execution_count": 88,
   "metadata": {
    "collapsed": false
   },
   "outputs": [],
   "source": []
  },
  {
   "cell_type": "code",
   "execution_count": 91,
   "metadata": {
    "collapsed": false
   },
   "outputs": [],
   "source": [
    "idx = []\n",
    "for jj,item in enumerate(lt1List):\n",
    "    if hasattr(item,'run_spikePlaces'):\n",
    "        n = item.run_spikePlaces.shape[0]\n",
    "        nr = np.intersect1d(item.run_spikePlaces[:,0],item.rechts_spikePlaces[:,0]).size\n",
    "        nl = np.intersect1d(item.run_spikePlaces[:,0],item.links_spikePlaces[:,0]).size\n",
    "        if (n > 100 and n <19800):\n",
    "            idx.append(jj)"
   ]
  },
  {
   "cell_type": "code",
   "execution_count": 92,
   "metadata": {
    "collapsed": false
   },
   "outputs": [
    {
     "name": "stdout",
     "output_type": "stream",
     "text": [
      "WARNING: Calculating without spike phases! If spike phases are needed caluculate them before!\n",
      "WARNING: Calculating without spike head directions! If spike head directions are needed caluculate them before!\n",
      "WARNING: Calculating without spike phases! If spike phases are needed caluculate them before!\n",
      "WARNING: Calculating without spike head directions! If spike head directions are needed caluculate them before!\n",
      "WARNING: Calculating without spike phases! If spike phases are needed caluculate them before!\n",
      "WARNING: Calculating without spike head directions! If spike head directions are needed caluculate them before!\n",
      "WARNING: Calculating without spike phases! If spike phases are needed caluculate them before!\n",
      "WARNING: Calculating without spike head directions! If spike head directions are needed caluculate them before!\n",
      "WARNING: Calculating without spike phases! If spike phases are needed caluculate them before!\n",
      "WARNING: Calculating without spike head directions! If spike head directions are needed caluculate them before!\n",
      "WARNING: Calculating without spike phases! If spike phases are needed caluculate them before!\n",
      "WARNING: Calculating without spike head directions! If spike head directions are needed caluculate them before!\n",
      "WARNING: Calculating without spike phases! If spike phases are needed caluculate them before!\n",
      "WARNING: Calculating without spike head directions! If spike head directions are needed caluculate them before!\n",
      "WARNING: Calculating without spike phases! If spike phases are needed caluculate them before!\n",
      "WARNING: Calculating without spike head directions! If spike head directions are needed caluculate them before!\n",
      "WARNING: Calculating without spike phases! If spike phases are needed caluculate them before!\n",
      "WARNING: Calculating without spike head directions! If spike head directions are needed caluculate them before!\n",
      "WARNING: Calculating without spike phases! If spike phases are needed caluculate them before!\n",
      "WARNING: Calculating without spike head directions! If spike head directions are needed caluculate them before!\n",
      "WARNING: Calculating without spike phases! If spike phases are needed caluculate them before!\n",
      "WARNING: Calculating without spike head directions! If spike head directions are needed caluculate them before!\n",
      "WARNING: Calculating without spike phases! If spike phases are needed caluculate them before!\n",
      "WARNING: Calculating without spike head directions! If spike head directions are needed caluculate them before!\n",
      "WARNING: Calculating without spike phases! If spike phases are needed caluculate them before!\n",
      "WARNING: Calculating without spike head directions! If spike head directions are needed caluculate them before!\n",
      "WARNING: Calculating without spike phases! If spike phases are needed caluculate them before!\n",
      "WARNING: Calculating without spike head directions! If spike head directions are needed caluculate them before!\n",
      "WARNING: Calculating without spike phases! If spike phases are needed caluculate them before!\n",
      "WARNING: Calculating without spike head directions! If spike head directions are needed caluculate them before!\n",
      "WARNING: Calculating without spike phases! If spike phases are needed caluculate them before!\n",
      "WARNING: Calculating without spike head directions! If spike head directions are needed caluculate them before!\n",
      "WARNING: Calculating without spike phases! If spike phases are needed caluculate them before!\n",
      "WARNING: Calculating without spike head directions! If spike head directions are needed caluculate them before!\n",
      "WARNING: Calculating without spike phases! If spike phases are needed caluculate them before!\n",
      "WARNING: Calculating without spike head directions! If spike head directions are needed caluculate them before!\n",
      "WARNING: Calculating without spike phases! If spike phases are needed caluculate them before!\n",
      "WARNING: Calculating without spike head directions! If spike head directions are needed caluculate them before!\n",
      "WARNING: Calculating without spike phases! If spike phases are needed caluculate them before!\n",
      "WARNING: Calculating without spike head directions! If spike head directions are needed caluculate them before!\n",
      "WARNING: Calculating without spike phases! If spike phases are needed caluculate them before!\n",
      "WARNING: Calculating without spike head directions! If spike head directions are needed caluculate them before!\n",
      "WARNING: Calculating without spike phases! If spike phases are needed caluculate them before!\n",
      "WARNING: Calculating without spike head directions! If spike head directions are needed caluculate them before!\n",
      "WARNING: Calculating without spike phases! If spike phases are needed caluculate them before!\n",
      "WARNING: Calculating without spike head directions! If spike head directions are needed caluculate them before!\n",
      "WARNING: Calculating without spike phases! If spike phases are needed caluculate them before!\n",
      "WARNING: Calculating without spike head directions! If spike head directions are needed caluculate them before!\n",
      "WARNING: Calculating without spike phases! If spike phases are needed caluculate them before!\n",
      "WARNING: Calculating without spike head directions! If spike head directions are needed caluculate them before!\n",
      "WARNING: Calculating without spike phases! If spike phases are needed caluculate them before!\n",
      "WARNING: Calculating without spike head directions! If spike head directions are needed caluculate them before!\n",
      "WARNING: Calculating without spike phases! If spike phases are needed caluculate them before!\n",
      "WARNING: Calculating without spike head directions! If spike head directions are needed caluculate them before!\n",
      "WARNING: Calculating without spike phases! If spike phases are needed caluculate them before!\n",
      "WARNING: Calculating without spike head directions! If spike head directions are needed caluculate them before!\n",
      "WARNING: Calculating without spike phases! If spike phases are needed caluculate them before!\n",
      "WARNING: Calculating without spike head directions! If spike head directions are needed caluculate them before!\n",
      "WARNING: Calculating without spike phases! If spike phases are needed caluculate them before!\n",
      "WARNING: Calculating without spike head directions! If spike head directions are needed caluculate them before!\n",
      "WARNING: Calculating without spike phases! If spike phases are needed caluculate them before!\n",
      "WARNING: Calculating without spike head directions! If spike head directions are needed caluculate them before!\n",
      "WARNING: Calculating without spike phases! If spike phases are needed caluculate them before!\n",
      "WARNING: Calculating without spike head directions! If spike head directions are needed caluculate them before!\n"
     ]
    },
    {
     "data": {
      "text/plain": [
       "<matplotlib.text.Text at 0x7f5c8ddabbd0>"
      ]
     },
     "execution_count": 92,
     "metadata": {},
     "output_type": "execute_result"
    }
   ],
   "source": [
    "#idx = np.array(right)\n",
    "peaksR = []\n",
    "f,axarr = pl.subplots(len(idx),sharex=True,sharey=True)\n",
    "hstSmoothR = []\n",
    "\n",
    "for ii in range(len(idx)):\n",
    "    lt1List[idx[ii]].getRunningSpikes()\n",
    "    hstR = np.histogram(np.intersect1d(lt1List[idx[ii]].run_spikePlaces[:,0],lt1List[idx[ii]].rechts_spikePlaces[:,0]),bins)\n",
    "    hstSmoothR.append(np.convolve(hstR[0],scsig.gaussian(10,3),'same'))\n",
    "    hstSmoothR[-1] /= float(hstSmoothR[-1].max())\n",
    "    #hstSmoothL /= float(hstSmoothL.max())\n",
    "    peaksR.append(bins[hstSmoothR[-1].argmax()])\n",
    "    #if hstR[0].sum() > 10:\n",
    "    axarr[ii].plot(bins[:-1],hstSmoothR[-1] + height,color=colors[ii])\n",
    "    axarr[ii].axvline(bins[hstSmoothR[-1].argmax()],0.9,0.95,color=colors[ii])\n",
    "    height += 0.0005\n",
    "    axarr[ii].set_ylabel(idx[ii])#spk.tags[idx[ii]]['file'][2:6])\n",
    "    pl.setp(axarr[ii].get_yticklabels(), visible=False)\n",
    "\n",
    "peaksL = []\n",
    "fL,axarrL = pl.subplots(len(idx),sharex=True,sharey=True)\n",
    "hstSmoothL = []\n",
    "for ii in range(len(idx)):\n",
    "    lt1List[idx[ii]].getRunningSpikes()\n",
    "    hstR = np.histogram(np.intersect1d(lt1List[idx[ii]].run_spikePlaces[:,0],lt1List[idx[ii]].links_spikePlaces[:,0]),bins)\n",
    "    hstSmoothL.append(np.convolve(hstR[0],scsig.gaussian(10,3),'same'))\n",
    "    hstSmoothL[-1] /= float(hstSmoothL[-1].max())\n",
    "    peaksL.append(bins[hstSmoothR[-1].argmax()])\n",
    "    axarrL[ii].plot(bins[:-1],hstSmoothL[-1] + height,color=colors[ii])\n",
    "    axarrL[ii].axvline(bins[hstSmoothL[-1].argmax()],0.9,0.95,color=colors[ii])\n",
    "    height += 0.0005\n",
    "    axarrL[ii].set_ylabel(idx[ii])#spk.tags[idx[ii]]['file'][2:6])\n",
    "    pl.setp(axarrL[ii].get_yticklabels(), visible=False)\n",
    "pl.title('Left Fields')"
   ]
  },
  {
   "cell_type": "code",
   "execution_count": 92,
   "metadata": {
    "collapsed": false
   },
   "outputs": [],
   "source": []
  },
  {
   "cell_type": "code",
   "execution_count": 93,
   "metadata": {
    "collapsed": false
   },
   "outputs": [
    {
     "ename": "NameError",
     "evalue": "name 'zell' is not defined",
     "output_type": "error",
     "traceback": [
      "\u001b[1;31m---------------------------------------------------------------------------\u001b[0m\n\u001b[1;31mNameError\u001b[0m                                 Traceback (most recent call last)",
      "\u001b[1;32m<ipython-input-93-9c5ea4d80c3c>\u001b[0m in \u001b[0;36m<module>\u001b[1;34m()\u001b[0m\n\u001b[1;32m----> 1\u001b[1;33m \u001b[0mpl\u001b[0m\u001b[1;33m.\u001b[0m\u001b[0mplot\u001b[0m\u001b[1;33m(\u001b[0m\u001b[0mzell\u001b[0m\u001b[1;33m.\u001b[0m\u001b[0mtraj\u001b[0m\u001b[1;33m.\u001b[0m\u001b[0mrun_times\u001b[0m\u001b[1;33m,\u001b[0m \u001b[0mzell\u001b[0m\u001b[1;33m.\u001b[0m\u001b[0mtraj\u001b[0m\u001b[1;33m.\u001b[0m\u001b[0mrun_places\u001b[0m\u001b[1;33m[\u001b[0m\u001b[1;33m:\u001b[0m\u001b[1;33m,\u001b[0m \u001b[1;36m0\u001b[0m\u001b[1;33m]\u001b[0m\u001b[1;33m,\u001b[0m \u001b[0mlinewidth\u001b[0m\u001b[1;33m=\u001b[0m\u001b[1;36m2.5\u001b[0m\u001b[1;33m,\u001b[0m\u001b[0mcolor\u001b[0m\u001b[1;33m=\u001b[0m\u001b[0mgrey\u001b[0m\u001b[1;33m)\u001b[0m  \u001b[1;31m# only run trajectory\u001b[0m\u001b[1;33m\u001b[0m\u001b[0m\n\u001b[0m\u001b[0;32m      2\u001b[0m \u001b[0mpl\u001b[0m\u001b[1;33m.\u001b[0m\u001b[0mplot\u001b[0m\u001b[1;33m(\u001b[0m\u001b[0mzell\u001b[0m\u001b[1;33m.\u001b[0m\u001b[0mtraj\u001b[0m\u001b[1;33m.\u001b[0m\u001b[0mtimes\u001b[0m\u001b[1;33m,\u001b[0m \u001b[0mzell\u001b[0m\u001b[1;33m.\u001b[0m\u001b[0mtraj\u001b[0m\u001b[1;33m.\u001b[0m\u001b[0mplaces\u001b[0m\u001b[1;33m[\u001b[0m\u001b[1;33m:\u001b[0m\u001b[1;33m,\u001b[0m \u001b[1;36m0\u001b[0m\u001b[1;33m]\u001b[0m\u001b[1;33m,\u001b[0m \u001b[0mlinewidth\u001b[0m\u001b[1;33m=\u001b[0m\u001b[1;36m.5\u001b[0m\u001b[1;33m,\u001b[0m \u001b[0mcolor\u001b[0m\u001b[1;33m=\u001b[0m\u001b[1;34m'k'\u001b[0m\u001b[1;33m)\u001b[0m  \u001b[1;31m# original/full trajectory\u001b[0m\u001b[1;33m\u001b[0m\u001b[0m\n\u001b[0;32m      3\u001b[0m \u001b[0mpl\u001b[0m\u001b[1;33m.\u001b[0m\u001b[0mplot\u001b[0m\u001b[1;33m(\u001b[0m\u001b[0mzell\u001b[0m\u001b[1;33m.\u001b[0m\u001b[0mspike_times\u001b[0m\u001b[1;33m,\u001b[0m \u001b[0mzell\u001b[0m\u001b[1;33m.\u001b[0m\u001b[0mspikePlaces\u001b[0m\u001b[1;33m[\u001b[0m\u001b[1;33m:\u001b[0m\u001b[1;33m,\u001b[0m \u001b[1;36m0\u001b[0m\u001b[1;33m]\u001b[0m\u001b[1;33m,\u001b[0m \u001b[0mmarker\u001b[0m\u001b[1;33m=\u001b[0m\u001b[1;34m'.'\u001b[0m\u001b[1;33m,\u001b[0m \u001b[0mlinestyle\u001b[0m\u001b[1;33m=\u001b[0m\u001b[1;34m'None'\u001b[0m\u001b[1;33m,\u001b[0m\u001b[0mcolor\u001b[0m\u001b[1;33m=\u001b[0m \u001b[0mtransred\u001b[0m\u001b[1;33m)\u001b[0m  \u001b[1;31m# all spiketimes\u001b[0m\u001b[1;33m\u001b[0m\u001b[0m\n\u001b[0;32m      4\u001b[0m \u001b[0mpl\u001b[0m\u001b[1;33m.\u001b[0m\u001b[0mplot\u001b[0m\u001b[1;33m(\u001b[0m\u001b[0mzell\u001b[0m\u001b[1;33m.\u001b[0m\u001b[0mrun_spikeTimes\u001b[0m\u001b[1;33m,\u001b[0m \u001b[0mzell\u001b[0m\u001b[1;33m.\u001b[0m\u001b[0mrun_spikePlaces\u001b[0m\u001b[1;33m[\u001b[0m\u001b[1;33m:\u001b[0m\u001b[1;33m,\u001b[0m \u001b[1;36m0\u001b[0m\u001b[1;33m]\u001b[0m\u001b[1;33m,\u001b[0m \u001b[1;34m'r.'\u001b[0m\u001b[1;33m)\u001b[0m  \u001b[1;31m# only running-spikes\u001b[0m\u001b[1;33m\u001b[0m\u001b[0m\n",
      "\u001b[1;31mNameError\u001b[0m: name 'zell' is not defined"
     ]
    }
   ],
   "source": [
    "pl.plot(zell.traj.run_times, zell.traj.run_places[:, 0], linewidth=2.5,color=grey)  # only run trajectory\n",
    "pl.plot(zell.traj.times, zell.traj.places[:, 0], linewidth=.5, color='k')  # original/full trajectory\n",
    "pl.plot(zell.spike_times, zell.spikePlaces[:, 0], marker='.', linestyle='None',color= transred)  # all spiketimes\n",
    "pl.plot(zell.run_spikeTimes, zell.run_spikePlaces[:, 0], 'r.')  # only running-spikes\n"
   ]
  },
  {
   "cell_type": "code",
   "execution_count": 285,
   "metadata": {
    "collapsed": false
   },
   "outputs": [
    {
     "data": {
      "text/plain": [
       "[<matplotlib.lines.Line2D at 0x325eccd0>]"
      ]
     },
     "execution_count": 285,
     "metadata": {},
     "output_type": "execute_result"
    }
   ],
   "source": [
    "pl.plot(zell.spike_times,zell.spikePlaces[:,0],'r.')"
   ]
  },
  {
   "cell_type": "code",
   "execution_count": 33,
   "metadata": {
    "collapsed": false
   },
   "outputs": [
    {
     "ename": "NameError",
     "evalue": "name 'right' is not defined",
     "output_type": "error",
     "traceback": [
      "\u001b[1;31m---------------------------------------------------------------------------\u001b[0m\n\u001b[1;31mNameError\u001b[0m                                 Traceback (most recent call last)",
      "\u001b[1;32m<ipython-input-33-89ecd20626f9>\u001b[0m in \u001b[0;36m<module>\u001b[1;34m()\u001b[0m\n\u001b[0;32m      1\u001b[0m \u001b[0mright80p\u001b[0m \u001b[1;33m=\u001b[0m \u001b[1;33m[\u001b[0m\u001b[1;33m]\u001b[0m\u001b[1;33m\u001b[0m\u001b[0m\n\u001b[1;32m----> 2\u001b[1;33m \u001b[1;32mfor\u001b[0m \u001b[0mitem\u001b[0m \u001b[1;32min\u001b[0m \u001b[0mright\u001b[0m\u001b[1;33m:\u001b[0m\u001b[1;33m\u001b[0m\u001b[0m\n\u001b[0m\u001b[0;32m      3\u001b[0m     \u001b[0mhst\u001b[0m \u001b[1;33m=\u001b[0m \u001b[0mlt1List\u001b[0m\u001b[1;33m[\u001b[0m\u001b[0mitem\u001b[0m\u001b[1;33m]\u001b[0m\u001b[1;33m.\u001b[0m\u001b[0mtime_histogram\u001b[0m\u001b[1;33m(\u001b[0m\u001b[1;33m)\u001b[0m\u001b[1;33m\u001b[0m\u001b[0m\n\u001b[0;32m      4\u001b[0m     \u001b[1;32mif\u001b[0m \u001b[0mnp\u001b[0m\u001b[1;33m.\u001b[0m\u001b[0mwhere\u001b[0m\u001b[1;33m(\u001b[0m\u001b[0mhst\u001b[0m \u001b[1;33m==\u001b[0m \u001b[1;36m0\u001b[0m\u001b[1;33m)\u001b[0m\u001b[1;33m[\u001b[0m\u001b[1;36m0\u001b[0m\u001b[1;33m]\u001b[0m\u001b[1;33m.\u001b[0m\u001b[0msize\u001b[0m \u001b[1;33m<\u001b[0m \u001b[1;36m24\u001b[0m\u001b[1;33m:\u001b[0m\u001b[1;33m\u001b[0m\u001b[0m\n\u001b[0;32m      5\u001b[0m         \u001b[0mright80p\u001b[0m\u001b[1;33m.\u001b[0m\u001b[0mappend\u001b[0m\u001b[1;33m(\u001b[0m\u001b[0mitem\u001b[0m\u001b[1;33m)\u001b[0m\u001b[1;33m\u001b[0m\u001b[0m\n",
      "\u001b[1;31mNameError\u001b[0m: name 'right' is not defined"
     ]
    }
   ],
   "source": [
    "right80p = []\n",
    "for item in right:\n",
    "    hst = lt1List[item].time_histogram()\n",
    "    if np.where(hst == 0)[0].size < 24:\n",
    "        right80p.append(item)\n",
    "leftt80p = []\n",
    "for item in left:\n",
    "    hst = lt1List[item].time_histogram()\n",
    "    if np.where(hst == 0)[0].size < 24:\n",
    "        leftt80p.append(item)\n",
    "right80p = np.array(right80p)\n",
    "leftt80p = np.array(leftt80p)"
   ]
  },
  {
   "cell_type": "code",
   "execution_count": 337,
   "metadata": {
    "collapsed": false
   },
   "outputs": [
    {
     "data": {
      "text/plain": [
       "(39, 43)"
      ]
     },
     "execution_count": 337,
     "metadata": {},
     "output_type": "execute_result"
    }
   ],
   "source": [
    "right80p.size,leftt80p.size"
   ]
  },
  {
   "cell_type": "code",
   "execution_count": 302,
   "metadata": {
    "collapsed": false
   },
   "outputs": [
    {
     "data": {
      "text/plain": [
       "-22.427700735040005"
      ]
     },
     "execution_count": 302,
     "metadata": {},
     "output_type": "execute_result"
    }
   ],
   "source": []
  },
  {
   "cell_type": "code",
   "execution_count": 311,
   "metadata": {
    "collapsed": false
   },
   "outputs": [
    {
     "data": {
      "text/plain": [
       "[<matplotlib.lines.Line2D at 0x37ae85d0>]"
      ]
     },
     "execution_count": 311,
     "metadata": {},
     "output_type": "execute_result"
    }
   ],
   "source": [
    "pl.plot(zell.time_histogram())"
   ]
  },
  {
   "cell_type": "code",
   "execution_count": null,
   "metadata": {
    "collapsed": false
   },
   "outputs": [],
   "source": []
  }
 ],
 "metadata": {
  "kernelspec": {
   "display_name": "Python 2",
   "language": "python",
   "name": "python2"
  },
  "language_info": {
   "codemirror_mode": {
    "name": "ipython",
    "version": 2
   },
   "file_extension": ".py",
   "mimetype": "text/x-python",
   "name": "python",
   "nbconvert_exporter": "python",
   "pygments_lexer": "ipython2",
   "version": "2.7.9"
  }
 },
 "nbformat": 4,
 "nbformat_minor": 0
}
