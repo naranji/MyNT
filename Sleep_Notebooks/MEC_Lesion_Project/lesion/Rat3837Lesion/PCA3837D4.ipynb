{
 "cells": [
  {
   "cell_type": "code",
   "execution_count": 1,
   "metadata": {
    "collapsed": false
   },
   "outputs": [
    {
     "data": {
      "text/html": [
       "<style>.container { width:80% !important; }</style>"
      ],
      "text/plain": [
       "<IPython.core.display.HTML object>"
      ]
     },
     "metadata": {},
     "output_type": "display_data"
    }
   ],
   "source": [
    "from IPython.core.display import display, HTML\n",
    "display(HTML(\"<style>.container { width:80% !important; }</style>\"))\n",
    "import sys\n",
    "sys.path.append('/home/chenani/ownCloud/Workspaces/Eclipse/dataAnalysis/Sleep-current/src/')"
   ]
  },
  {
   "cell_type": "code",
   "execution_count": 7,
   "metadata": {
    "collapsed": false
   },
   "outputs": [
    {
     "name": "stdout",
     "output_type": "stream",
     "text": [
      "The autoreload extension is already loaded. To reload it, use:\n",
      "  %reload_ext autoreload\n"
     ]
    }
   ],
   "source": [
    "%matplotlib inline\n",
    "%load_ext autoreload\n",
    "%autoreload 2\n",
    "import numpy as np\n",
    "import matplotlib.pyplot as pl\n",
    "import pickle as pkl\n",
    "import Recordings\n",
    "import signale,trajectory\n",
    "import extras.trees\n",
    "import os,sys\n",
    "import fnmatch\n",
    "import colormaps as cmaps\n",
    "import seaborn as sns\n",
    "import scipy.signal as scsig"
   ]
  },
  {
   "cell_type": "code",
   "execution_count": 8,
   "metadata": {
    "collapsed": false
   },
   "outputs": [],
   "source": [
    "def locate(pattern, root=os.curdir):\n",
    "    '''\n",
    "    Locate all files matching supplied filename pattern in and below\n",
    "        supplied root directory.\n",
    "    Parameters\n",
    "    ----------\n",
    "        pattern : string\n",
    "            A string representing pattern you want to look for in the path.\n",
    "        root : string\n",
    "            contains the path address you want to look trough!\n",
    "    Returns\n",
    "    ----------\n",
    "        Array of strings consist of two column, first contains the path and second the file names that matched \n",
    "        the desired pattern.\n",
    "    '''\n",
    "    for path, dirs, files in os.walk(os.path.abspath(root)):\n",
    "        for filename in fnmatch.filter(files, pattern):\n",
    "            yield [path,filename]\n",
    "\n",
    "def nvt_loader(filename):\n",
    "    \"\"\" \n",
    "    Memory map the Neuralynx .nvt format\n",
    "    Fields\n",
    "    -------\n",
    "    swstx\n",
    "    swid\n",
    "    sw_data_size\n",
    "    qTimeStamps       Cheetah timestamp for this record. This value is in microseconds.\n",
    "    dwpoints          Points with the color bitfield values for this record.This is a 400\n",
    "                      element array.  See Video Tracker in reference. \n",
    "    sncrc\n",
    "    dnextracted_x     Extracted X location of the target being tracked. \n",
    "    dnextracted_y     Extracted Y location of the target being tracked.\n",
    "    dnextracted_angle The calculated head angle in degrees clockwise from the positive Y\n",
    "                      axis. Zero will be assigned if angle tracking is disabled.\n",
    "    dnTargets         Colored targets using the samebitfield format used by the dwPoints array.\n",
    "                      Instead of transitions, the bitfield indicates the colors that make up \n",
    "                      each particular target and the center point of that target.  This is a 50\n",
    "                      element array sorted by size from largest (index 0) to smallest(index 49).\n",
    "                      A target value of 0 means that no target is present in thatindex location.\n",
    "                      See Video Tracker Bitfield Information in reference. \n",
    "    \n",
    "    Reference:\n",
    "    ----------\n",
    "        http://neuralynx.com/software/NeuralynxDataFileFormats.pdf\n",
    "    \"\"\" \n",
    "    nev_dtype = np.dtype([\n",
    "        ('swstx'              , '<i2'),\n",
    "        ('swid'               , '<i2'),\n",
    "        ('sw_data_size'       , '<i2'),\n",
    "        ('qTimeStamps'        , '<u8'),\n",
    "        ('dwPoints'           , '<u4',(400,)),\n",
    "        ('sncrc'              , '<i2'),\n",
    "        ('dnextracted_x'      , '<i4'),\n",
    "        ('dnextracted_y'      , '<i4'),\n",
    "        ('dnextracted_angle'  , '<i4'),\n",
    "        ('dnTargets'          , '<i4',(50,)),\n",
    "    ])\n",
    "    return np.memmap(filename, dtype=nev_dtype, mode='readwrite',\n",
    "       offset=(16 * 2**10))\n",
    "def nev_loader(filename):\n",
    "    \"\"\" Memory map the Neuralynx .nev format \"\"\" \n",
    "    nev_dtype = np.dtype([\n",
    "        ('nstx'           , '<i2'),\n",
    "        ('npkt_id'        , '<i2'),\n",
    "        ('npkt_data_size' , '<i2'),\n",
    "        ('qTimeStamps'    , '<u8'),\n",
    "        ('nevent_id'      , '<i2'),\n",
    "        ('nttl'           , '<i2'),\n",
    "        ('ncrc'           , '<i2'),\n",
    "        ('ndummy1'        , '<i2'),\n",
    "        ('ndummy2'        , '<i2'),\n",
    "        ('dnExtra'        , '<i4',(8,)),\n",
    "        ('String'         , '<S128')\n",
    "    ])\n",
    "    return np.memmap(filename, dtype=nev_dtype, mode='r',\n",
    "       offset=(16 * 2**10))\n",
    "###################################################### initialization\n",
    "###################################################### Parameters\n",
    "expType = 'real'\n",
    "prefix = 'TT'\n",
    "suffix = ''\n",
    "noSpeck = False\n",
    "onlyRunning = True\n",
    "showHeadDir = False\n",
    "saveFigs = True\n",
    "useRecommended = False\n",
    "TTName = '.t'\n",
    "\n",
    "# initialize in order to make them available globally\n",
    "spikes=[]\n",
    "ID=-1\n",
    "stList=signale.spikezugList(t_start=None, t_stop=None, dims=[2])\n",
    "eventData = None\n",
    "\n",
    "cwd=os.getcwd()\n",
    "\n",
    "\n",
    "###################################################### functions\n",
    "\n",
    "def getData(folderName):\n",
    "    global spikes, ID, eventData\n",
    "\n",
    "    if os.path.isdir(folderName):\n",
    "        dirList=os.listdir(folderName)\n",
    "        os.chdir(folderName)\n",
    "    else:\n",
    "        dirList = [folderName]\n",
    "    for item in sorted(dirList):\n",
    "        if os.path.isfile(item):\n",
    "            if (TTName.__class__ == list and item in TTName) or\\\n",
    "                    (TTName.__class__ == str and item.endswith(suffix+'.t') and item.startswith(prefix)):\n",
    "                print 'loading', item , 'from folder: '+'/'.join(folderName.split('/')[-3:])\n",
    "                spikes = signale.load_tFile(item, showHeader=False)\n",
    "                ID += 1\n",
    "                stList.__setitem__(ID, spikes)\n",
    "                stList.addTags(ID, file=item, dir=folderName)\n",
    "            \n",
    "        elif os.path.isdir(item):\n",
    "            getData(item)\n",
    "    os.chdir('..')\n"
   ]
  },
  {
   "cell_type": "code",
   "execution_count": 9,
   "metadata": {
    "collapsed": false
   },
   "outputs": [],
   "source": [
    "WorkPath = '/home/chenani/ownCloud/IpythonNotebooks/Sleep/MEC_Lesion_Project/PCA_MEC/'\n",
    "rat3837D4 = '/home/chenani/dataWork/ali/MECLesion_SleepData/Marta/Rat3837/LinearTrack_02-01-16_Day4/'\n",
    "parrentFolder = rat3837D4 + 'parrentData/'"
   ]
  },
  {
   "cell_type": "code",
   "execution_count": 10,
   "metadata": {
    "collapsed": false
   },
   "outputs": [
    {
     "name": "stdout",
     "output_type": "stream",
     "text": [
      "loading TT10_01.t from folder: LinearTrack_02-01-16_Day4/parrentData/\n",
      "loading TT11_01.t from folder: LinearTrack_02-01-16_Day4/parrentData/\n",
      "loading TT12_01.t from folder: LinearTrack_02-01-16_Day4/parrentData/\n",
      "loading TT12_02.t from folder: LinearTrack_02-01-16_Day4/parrentData/\n",
      "loading TT12_03.t from folder: LinearTrack_02-01-16_Day4/parrentData/\n",
      "loading TT12_04.t from folder: LinearTrack_02-01-16_Day4/parrentData/\n",
      "loading TT12_05.t from folder: LinearTrack_02-01-16_Day4/parrentData/\n",
      "loading TT12_06.t from folder: LinearTrack_02-01-16_Day4/parrentData/\n",
      "loading TT2_02.t from folder: LinearTrack_02-01-16_Day4/parrentData/\n",
      "loading TT3_01.t from folder: LinearTrack_02-01-16_Day4/parrentData/\n",
      "loading TT3_02.t from folder: LinearTrack_02-01-16_Day4/parrentData/\n",
      "loading TT3_03.t from folder: LinearTrack_02-01-16_Day4/parrentData/\n",
      "loading TT3_04.t from folder: LinearTrack_02-01-16_Day4/parrentData/\n"
     ]
    }
   ],
   "source": [
    "getData(parrentFolder)\n",
    "lfpList = sorted([os.path.join(item[0],item[1]) for item in locate('*CSC3-*.lfp',rat3837D4)])\n",
    "lfpPRE,lfpTRACK,lfpPOST =[pkl.load(open(lfpFile,'rb')) for lfpFile in lfpList]\n",
    "for lfp in [lfpPRE,lfpTRACK,lfpPOST]:\n",
    "    #lfp.periodogram()\n",
    "    lfp.filter(5,10)"
   ]
  },
  {
   "cell_type": "code",
   "execution_count": 11,
   "metadata": {
    "collapsed": false
   },
   "outputs": [],
   "source": [
    "pre,track,post  = [stList.time_slice(lfp.timeAxis[0],lfp.timeAxis[-1]) for lfp in [lfpPRE,lfpTRACK,lfpPOST]]\n",
    "ExperimentSessions = [pre,track,post]\n",
    "\n",
    "thetaTimeBinEdges = []\n",
    "for lfp in [lfpPRE,lfpTRACK,lfpPOST]:\n",
    "    thetaTimeBinEdges.append(lfp.timeAxis[scsig.argrelmax(lfp.signal_filtered)[0]])\n",
    "\n",
    "nulIdx1 = np.where((np.array([item.spike_times.size for item in pre])==0))[0]\n",
    "nulIdx2 = np.where((np.array([item.spike_times.size for item in track])==0))[0]\n",
    "nulIdx3 = np.where((np.array([item.spike_times.size for item in post])==0))[0]\n",
    "nullList= np.union1d(np.union1d(nulIdx1,nulIdx2),nulIdx3)\n",
    "for null in nullList:\n",
    "    print stList.tags[null]"
   ]
  },
  {
   "cell_type": "code",
   "execution_count": 12,
   "metadata": {
    "collapsed": false
   },
   "outputs": [
    {
     "name": "stdout",
     "output_type": "stream",
     "text": [
      "0\n",
      "bin edges are caclulated with width 100 ms\n",
      "1\n",
      "bin edges are caclulated with width 100 ms\n",
      "2\n",
      "bin edges are caclulated with width 100 ms\n",
      "0\n",
      "time bin edges are proovided by user.\n",
      "1\n",
      "time bin edges are proovided by user.\n",
      "2\n",
      "time bin edges are proovided by user.\n"
     ]
    }
   ],
   "source": [
    "#####PCA with fixed time bins of width 100 ms\n",
    "corrMatrices = []\n",
    "Qs = []\n",
    "eigVals = []\n",
    "eigVecs = []\n",
    "Ps = []\n",
    "for ii,item in enumerate(ExperimentSessions):\n",
    "    print ii\n",
    "    Q,C,l,V,P = item.PCA()\n",
    "    corrMatrices.append(C)\n",
    "    Qs.append(Q)\n",
    "    eigVals.append(l)\n",
    "    eigVecs.append(V)\n",
    "    Ps.append(P)\n",
    "#####PCA with time bins defined by theta periods\n",
    "ThetaCorrMatrices = []\n",
    "ThetaQs = []\n",
    "ThetaEigVals = []\n",
    "ThetaEigVecs = []\n",
    "ThetaPs = []\n",
    "for ii,item in enumerate(ExperimentSessions):\n",
    "    print ii\n",
    "    Q,C,l,V,P = item.PCA(bins=thetaTimeBinEdges[ii])\n",
    "    ThetaCorrMatrices.append(C)\n",
    "    ThetaQs.append(Q)\n",
    "    ThetaEigVals.append(l)\n",
    "    ThetaEigVecs.append(V)\n",
    "    ThetaPs.append(P)"
   ]
  },
  {
   "cell_type": "code",
   "execution_count": 13,
   "metadata": {
    "collapsed": false
   },
   "outputs": [
    {
     "name": "stdout",
     "output_type": "stream",
     "text": [
      "[1.009527231705637, 1.0149551719310892, 1.0105556291626874] [0.9905179374528613, 0.9851558281799109, 0.9894997893859009] 0.180871899086\n"
     ]
    }
   ],
   "source": [
    "N = stList.id_list.size*1.0\n",
    "lMax = []\n",
    "lMin = []\n",
    "TlMax = []\n",
    "TlMin = []\n",
    "for q,Tq in zip(Qs,ThetaQs):\n",
    "    lMax.append(np.math.pow(1 + np.math.sqrt(N/q.size),2))\n",
    "    lMin.append(np.math.pow(1 - np.math.sqrt(N/q.size),2))\n",
    "    TlMax.append(np.math.pow(1 + np.math.sqrt(N/Tq.size),2))\n",
    "    TlMin.append(np.math.pow(1 - np.math.sqrt(N/Tq.size),2))\n",
    "TW_limit =  np.math.pow(N,-0.6666666666)\n",
    "print lMax,lMin,TW_limit"
   ]
  },
  {
   "cell_type": "code",
   "execution_count": 14,
   "metadata": {
    "collapsed": false
   },
   "outputs": [
    {
     "data": {
      "image/png": "[encoded data removed]",
      "text/plain": [
       "<matplotlib.figure.Figure at 0x7f32b78e0190>"
      ]
     },
     "metadata": {},
     "output_type": "display_data"
    }
   ],
   "source": [
    "sns.set_style('white')\n",
    "f,axarr = pl.subplots(2,3,figsize=[15,10])\n",
    "im1 = axarr[0,0].pcolor(corrMatrices[0] - np.identity(N),cmap='magma');\n",
    "im2 = axarr[0,1].pcolor(corrMatrices[1] - np.identity(N),cmap='magma');\n",
    "im3 = axarr[0,2].pcolor(corrMatrices[2] - np.identity(N),cmap='magma');\n",
    "im4 = axarr[1,0].pcolor(ThetaCorrMatrices[0] - np.identity(N),cmap=cmaps.magma);\n",
    "im5 = axarr[1,1].pcolor(ThetaCorrMatrices[1] - np.identity(N),cmap=cmaps.magma);\n",
    "im6 = axarr[1,2].pcolor(ThetaCorrMatrices[2] - np.identity(N),cmap=cmaps.magma)\n",
    "'''\n",
    "ax1.set_title('Sleep PRE')\n",
    "ax2.set_title('LinearTrack')\n",
    "ax3.set_title('Sleep POST')\n",
    "#pl.colorbar(im3);\n",
    "'''\n",
    "pl.tight_layout()"
   ]
  },
  {
   "cell_type": "code",
   "execution_count": 15,
   "metadata": {
    "collapsed": false
   },
   "outputs": [
    {
     "data": {
      "text/plain": [
       "\"\\nax1.set_ylabel('EigVals PRE')\\nax1.set_xlabel('#')\\nax2.set_ylabel('EigVals LinearTrack')\\nax2.set_xlabel('#')\\nax3.set_ylabel('EigVals POST')\\nax3.set_xlabel('#')\\nax1.set_title('Sleep PRE')\\nax2.set_title('LinearTrack')\\nax3.set_title('Sleep POST')\\nax2.yaxis.label.set_color('white')\\nax2.tick_params(axis='y', colors='white')\\nax3.yaxis.label.set_color('white')\\nax3.tick_params(axis='y', colors='white')\\n\""
      ]
     },
     "execution_count": 15,
     "metadata": {},
     "output_type": "execute_result"
    },
    {
     "data": {
      "image/png": "[encoded data removed]",
      "text/plain": [
       "<matplotlib.figure.Figure at 0x7f32ac0f6190>"
      ]
     },
     "metadata": {},
     "output_type": "display_data"
    }
   ],
   "source": [
    "f,axarr = pl.subplots(2,3,figsize=[15,10],sharey=True)\n",
    "axarr[0,0].scatter(range(eigVals[0].size),eigVals[0],s=75)\n",
    "axarr[0,0].axhline(lMax[0]+TW_limit,color = 'r',linestyle='--')\n",
    "axarr[0,1].scatter(range(eigVals[1].size),eigVals[1],s=75)\n",
    "axarr[0,1].axhline(lMax[1]+TW_limit,color = 'r',linestyle='--')\n",
    "axarr[0,2].scatter(range(eigVals[2].size),eigVals[2],s=75)\n",
    "axarr[0,2].axhline(lMax[2]+TW_limit,color = 'r',linestyle='--')\n",
    "############\n",
    "axarr[1,0].scatter(range(ThetaEigVals[0].size),ThetaEigVals[0],s=75)\n",
    "axarr[1,0].axhline(TlMax[0]+TW_limit,color = 'r',linestyle='--')\n",
    "axarr[1,1].scatter(range(eigVals[1].size),ThetaEigVals[1],s=75)\n",
    "axarr[1,1].axhline(TlMax[1]+TW_limit,color = 'r',linestyle='--')\n",
    "axarr[1,2].scatter(range(eigVals[2].size),ThetaEigVals[2],s=75)\n",
    "axarr[1,2].axhline(TlMax[2]+TW_limit,color = 'r',linestyle='--')\n",
    "'''\n",
    "ax1.set_ylabel('EigVals PRE')\n",
    "ax1.set_xlabel('#')\n",
    "ax2.set_ylabel('EigVals LinearTrack')\n",
    "ax2.set_xlabel('#')\n",
    "ax3.set_ylabel('EigVals POST')\n",
    "ax3.set_xlabel('#')\n",
    "ax1.set_title('Sleep PRE')\n",
    "ax2.set_title('LinearTrack')\n",
    "ax3.set_title('Sleep POST')\n",
    "ax2.yaxis.label.set_color('white')\n",
    "ax2.tick_params(axis='y', colors='white')\n",
    "ax3.yaxis.label.set_color('white')\n",
    "ax3.tick_params(axis='y', colors='white')\n",
    "'''"
   ]
  },
  {
   "cell_type": "code",
   "execution_count": 16,
   "metadata": {
    "collapsed": false
   },
   "outputs": [
    {
     "name": "stdout",
     "output_type": "stream",
     "text": [
      "0.180871899086\n",
      "(array([12]),)\n",
      "(array([12]),)\n"
     ]
    }
   ],
   "source": [
    "Gamma = []\n",
    "TGamma = []\n",
    "for ii in range(3):\n",
    "    G = []\n",
    "    TG = []\n",
    "    for jj in range(int(N)):\n",
    "        G.append(eigVecs[1][jj].T.dot(corrMatrices[ii]).dot(eigVecs[1][jj]))\n",
    "        TG.append(ThetaEigVecs[1][jj].T.dot(ThetaCorrMatrices[ii]).dot(ThetaEigVecs[1][jj]))\n",
    "    Gamma.append(np.array(G))\n",
    "    TGamma.append(np.array(TG))\n",
    "print '%s\\n%s\\n%s' %(TW_limit,np.where(eigVals[2]>lMax[2]+TW_limit),np.where(ThetaEigVals[2]>TlMax[2]+TW_limit))"
   ]
  },
  {
   "cell_type": "code",
   "execution_count": 17,
   "metadata": {
    "collapsed": false
   },
   "outputs": [
    {
     "data": {
      "text/plain": [
       "<matplotlib.text.Text at 0x7f32abb15d90>"
      ]
     },
     "execution_count": 17,
     "metadata": {},
     "output_type": "execute_result"
    },
    {
     "data": {
      "image/png": "[encoded data removed]",
      "text/plain": [
       "<matplotlib.figure.Figure at 0x7f32ac0e2810>"
      ]
     },
     "metadata": {},
     "output_type": "display_data"
    }
   ],
   "source": [
    "sigN = 11\n",
    "f,(ax1,ax2,ax3) = pl.subplots(1,3,figsize=[30,10],sharey=True)\n",
    "ax1.scatter(eigVals[1][sigN:],Gamma[0][sigN:],s=100)\n",
    "ax1.scatter(ThetaEigVals[1][sigN:],TGamma[0][sigN:],c='r',s=100)\n",
    "ax2.scatter(eigVals[1][sigN:],Gamma[2][sigN:],s=100)\n",
    "ax2.scatter(ThetaEigVals[1][sigN:],TGamma[2][sigN:],c='r',s=100)\n",
    "ax3.scatter(Gamma[0][sigN:],Gamma[2][sigN:],s=100)\n",
    "ax3.scatter(TGamma[0][sigN:],TGamma[2][sigN:],c='r',s=100,alpha=0.7)\n",
    "ax3.plot([1,1.9],[1,1.9],'k--', lw=1)\n",
    "ax1.set_ylabel('Avg Reactivation PRE')\n",
    "ax1.set_xlabel('Signal EigVals LinearTrack')\n",
    "ax2.set_ylabel('Avg Reactivation POST')\n",
    "ax2.set_xlabel('Signal EigVals LinearTrack')\n",
    "ax3.set_ylabel('Avg Reactivation POST')\n",
    "ax3.set_xlabel('Avg Reactivation PRE')\n",
    "ax1.set_title('Sleep PRE')\n",
    "ax2.set_title('Sleep POST')\n",
    "ax3.set_title('PRE vs. POST')"
   ]
  },
  {
   "cell_type": "code",
   "execution_count": 18,
   "metadata": {
    "collapsed": false
   },
   "outputs": [
    {
     "data": {
      "text/plain": [
       "'\\nNothing to Save!\\n'"
      ]
     },
     "execution_count": 18,
     "metadata": {},
     "output_type": "execute_result"
    }
   ],
   "source": [
    "'''\n",
    "Nothing to Save!\n",
    "'''"
   ]
  },
  {
   "cell_type": "code",
   "execution_count": null,
   "metadata": {
    "collapsed": false
   },
   "outputs": [],
   "source": []
  }
 ],
 "metadata": {
  "kernelspec": {
   "display_name": "Python 2",
   "language": "python",
   "name": "python2"
  },
  "language_info": {
   "codemirror_mode": {
    "name": "ipython",
    "version": 2
   },
   "file_extension": ".py",
   "mimetype": "text/x-python",
   "name": "python",
   "nbconvert_exporter": "python",
   "pygments_lexer": "ipython2",
   "version": "2.7.12"
  }
 },
 "nbformat": 4,
 "nbformat_minor": 0
}
