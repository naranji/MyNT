{
 "cells": [
  {
   "cell_type": "code",
   "execution_count": 1,
   "metadata": {
    "collapsed": false
   },
   "outputs": [
    {
     "data": {
      "text/html": [
       "<style>.container { width:80% !important; }</style>"
      ],
      "text/plain": [
       "<IPython.core.display.HTML object>"
      ]
     },
     "metadata": {},
     "output_type": "display_data"
    }
   ],
   "source": [
    "from IPython.core.display import display, HTML\n",
    "display(HTML(\"<style>.container { width:80% !important; }</style>\"))\n",
    "import sys\n",
    "sys.path.append('/home/chenani/ownCloud/Workspaces/Eclipse/dataAnalysis/Sleep-current/src/')\n"
   ]
  },
  {
   "cell_type": "code",
   "execution_count": 32,
   "metadata": {
    "collapsed": false
   },
   "outputs": [
    {
     "name": "stdout",
     "output_type": "stream",
     "text": [
      "Using matplotlib backend: Qt4Agg\n"
     ]
    },
    {
     "name": "stderr",
     "output_type": "stream",
     "text": [
      "/home/chenani/anaconda/lib/python2.7/site-packages/IPython/html.py:14: ShimWarning: The `IPython.html` package has been deprecated. You should import from `notebook` instead. `IPython.html.widgets` has moved to `ipywidgets`.\n",
      "  \"`IPython.html.widgets` has moved to `ipywidgets`.\", ShimWarning)\n"
     ]
    }
   ],
   "source": [
    "import signale.tools as tools\n",
    "import numpy as np\n",
    "import cPickle as pkl\n",
    "from mtspec import mtspec, sine_psd\n",
    "from mtspec.util import _load_mtdata\n",
    "import matplotlib.pyplot as plt\n",
    "import scipy.io as sio\n",
    "import h5py\n",
    "from scipy.signal import argrelmax\n",
    "import seaborn as sns\n",
    "%matplotlib "
   ]
  },
  {
   "cell_type": "code",
   "execution_count": 35,
   "metadata": {
    "collapsed": false
   },
   "outputs": [],
   "source": [
    "lfpS = pkl.load(open('/home/chenani/dataWork/ali/MECLesion_SleepData/Marta/Rat3903/LinearTrack_05-12-16_Day4/01-sleep1/CSC6-pre.lfp','rb'))\n",
    "#lfpR = pkl.load(open('/home/chenani/dataWork/ali/MECLesion_SleepData/Marta/Rat3661/LinearTrack_03-03-15Day1/02-begin1/CSC02.lfp','rb'))"
   ]
  },
  {
   "cell_type": "code",
   "execution_count": 7,
   "metadata": {
    "collapsed": false
   },
   "outputs": [
    {
     "name": "stdout",
     "output_type": "stream",
     "text": [
      "Using matplotlib backend: Qt4Agg\n",
      "1 2661.03 4043.33\n",
      "2 3645.71 13024.3\n",
      "3 6188.92 51836.5\n",
      "4 3548.9 8983.7\n"
     ]
    }
   ],
   "source": [
    "\n",
    "#inline\n",
    "\n",
    "plt.style.use(\"ggplot\")\n",
    "\n",
    "\n",
    "NN = np.random.randint(1,lfpS.signal_white.size-2048)\n",
    "data = lfpS.signal_white[NN:NN+2048]#_load_mtdata('PASC.dat.gz')\n",
    "plt.figure(figsize=[30,20])\n",
    "plt.subplot(311)\n",
    "plt.plot(data, color='black')\n",
    "plt.xlim(0, len(data))\n",
    "\n",
    "spec, freq = mtspec(data, 1.0, 1.5, number_of_tapers=1,nfft=4096)\n",
    "freq*=2e3\n",
    "print 1,spec[:5].mean(),spec[6:11].mean()\n",
    "plt.subplot(323)\n",
    "plt.plot(freq, spec, color='black')\n",
    "#plt.yscale('log')\n",
    "plt.xlim(freq[0], freq[41])\n",
    "plt.text(x=0.5, y=0.85, s=\"Single Taper\",\n",
    "         transform=plt.gca().transAxes, ha=\"center\")\n",
    "\n",
    "spec, freq = mtspec(data, 1.0, 2, number_of_tapers=5,nfft=4096)\n",
    "freq*=2e3\n",
    "print 2,spec[:5].mean(),spec[6:11].mean()\n",
    "plt.subplot(324)\n",
    "plt.plot(freq, spec, color='black')\n",
    "plt.xlim(freq[0], freq[41])\n",
    "#plt.yscale('log')\n",
    "plt.text(x=0.5, y=0.85, s=\"5 Tapers Multitaper\",\n",
    "         transform=plt.gca().transAxes, ha=\"center\")\n",
    "\n",
    "spec, freq = sine_psd(data, 1.0,number_of_tapers=5,number_of_iterations=1)\n",
    "freq*=2e3\n",
    "print 3,spec[:5].mean(),spec[6:11].mean()\n",
    "plt.subplot(325)\n",
    "plt.plot(freq, spec, color='black')\n",
    "plt.xlim(freq[0], freq[41])\n",
    "#plt.yscale('log')\n",
    "plt.text(x=0.5, y=0.85, s=\"Sine Multitaper\",\n",
    "         transform=plt.gca().transAxes, ha=\"center\")\n",
    "\n",
    "spec, freq = mtspec(data, 1.0, 1, number_of_tapers=5,quadratic=False,nfft=4096)\n",
    "freq*=2e3\n",
    "print 4,spec[:5].mean(),spec[6:11].mean()\n",
    "plt.subplot(326)\n",
    "plt.plot(freq, spec, color='black')\n",
    "plt.xlim(freq[0], freq[41])\n",
    "#plt.yscale('log')\n",
    "plt.text(x=0.5, y=0.85, s=\"Quadratic Multitaper\",\n",
    "         transform=plt.gca().transAxes, ha=\"center\")\n",
    "\n",
    "plt.tight_layout()\n",
    "plt.show()"
   ]
  },
  {
   "cell_type": "code",
   "execution_count": 8,
   "metadata": {
    "collapsed": false
   },
   "outputs": [],
   "source": [
    "def mySpecgram(sig,minFreq = None,maxFreq = None,overlap=None,\n",
    "               windowSize= None,NFFT = None,Fs = None,method=None):\n",
    "    if not overlap:\n",
    "        overlap = 48\n",
    "    kIdx = 0\n",
    "    timeSlices = []\n",
    "    timeCenters = []\n",
    "    while kIdx < sig.size:\n",
    "        #timeEdges = np.arange(0,Nbins*windowSize,windowSize)\n",
    "        timeSlices.append([kIdx,kIdx+windowSize])\n",
    "        kIdx += windowSize - overlap\n",
    "    Pxx = []\n",
    "    for item in timeSlices: \n",
    "        timeCenters.append((item[0]+np.diff(item)/2)[0])\n",
    "        data = sig[item[0]:item[1]]\n",
    "        if data.size < windowSize:\n",
    "            ddd = windowSize - data.size\n",
    "            if ddd%2 ==0:\n",
    "                data = np.lib.pad(data, (ddd/2,ddd/2), 'constant', constant_values=(0,0))\n",
    "            else:\n",
    "                data = np.lib.pad(data, (ddd/2,ddd/2+1), 'constant', constant_values=(0,0))\n",
    "        spec, freqz = mtspec(data, 1.0, 1.5, number_of_tapers=5,quadratic=False,nfft=4096)\n",
    "        freqz*=2e3\n",
    "        Pxx.append(spec)\n",
    "    Pxx = np.array(Pxx).T\n",
    "    if not minFreq:\n",
    "        minFreq = freqz.min()\n",
    "    if not maxFreq:\n",
    "        maxFreq = freqz.max()\n",
    "    indexstart = np.where(freqz >= minFreq)[0][0]\n",
    "    indexend   = np.where(freqz <= maxFreq)[0][-1]\n",
    "    freqz = freqz[indexstart:indexend]\n",
    "    Pxx = Pxx[indexstart:indexend]\n",
    "    timeCenters = np.array(timeCenters)\n",
    "    return timeCenters,freqz,Pxx\n"
   ]
  },
  {
   "cell_type": "code",
   "execution_count": 9,
   "metadata": {
    "collapsed": false
   },
   "outputs": [],
   "source": [
    "t,frq,Pxx = mySpecgram(lfpS.signal_white[:],windowSize=2048,overlap=10,minFreq=0.1,maxFreq=200)\n",
    "#Pxx = np.clip(Pxx,Pxx.min(),Pxx.mean()+2*Pxx.std())\n",
    "for idx in range(Pxx.shape[1]):\n",
    "    Pxx[:,idx] /= Pxx[:,idx].std()\n",
    "    Pxx[:,idx] -= Pxx[:,idx].mean()"
   ]
  },
  {
   "cell_type": "code",
   "execution_count": 10,
   "metadata": {
    "collapsed": false
   },
   "outputs": [
    {
     "data": {
      "text/plain": [
       "<matplotlib.collections.PolyCollection at 0x7f7b6a370a90>"
      ]
     },
     "execution_count": 10,
     "metadata": {},
     "output_type": "execute_result"
    }
   ],
   "source": [
    "f,ax=plt.subplots(1,1,figsize=[25,15])\n",
    "ax.pcolor(t/2,frq,Pxx,cmap='viridis')\n",
    "#plt.colorbar()"
   ]
  },
  {
   "cell_type": "code",
   "execution_count": 75,
   "metadata": {
    "collapsed": false
   },
   "outputs": [
    {
     "data": {
      "text/plain": [
       "<matplotlib.axes._subplots.AxesSubplot at 0x7f8273c3fd10>"
      ]
     },
     "execution_count": 75,
     "metadata": {},
     "output_type": "execute_result"
    },
    {
     "data": {
      "image/png": "[encoded data removed]",
      "text/plain": [
       "<matplotlib.figure.Figure at 0x7f827c2b0b50>"
      ]
     },
     "metadata": {},
     "output_type": "display_data"
    }
   ],
   "source": [
    "import seaborn as sns\n",
    "sns.tsplot(Pxx[:,100:290].T,time=frq)"
   ]
  },
  {
   "cell_type": "code",
   "execution_count": 74,
   "metadata": {
    "collapsed": false
   },
   "outputs": [
    {
     "data": {
      "text/plain": [
       "array([  0.48828125,   0.9765625 ,   1.46484375,   1.953125  ,\n",
       "         2.44140625,   2.9296875 ,   3.41796875,   3.90625   ,\n",
       "         4.39453125,   4.8828125 ,   5.37109375,   5.859375  ,\n",
       "         6.34765625,   6.8359375 ,   7.32421875,   7.8125    ,\n",
       "         8.30078125,   8.7890625 ,   9.27734375,   9.765625  ,\n",
       "        10.25390625,  10.7421875 ,  11.23046875,  11.71875   ,\n",
       "        12.20703125,  12.6953125 ,  13.18359375,  13.671875  ,\n",
       "        14.16015625,  14.6484375 ,  15.13671875,  15.625     ,\n",
       "        16.11328125,  16.6015625 ,  17.08984375,  17.578125  ,\n",
       "        18.06640625,  18.5546875 ,  19.04296875,  19.53125   ,\n",
       "        20.01953125,  20.5078125 ,  20.99609375,  21.484375  ,\n",
       "        21.97265625,  22.4609375 ,  22.94921875,  23.4375    ,\n",
       "        23.92578125,  24.4140625 ], dtype=float32)"
      ]
     },
     "execution_count": 74,
     "metadata": {},
     "output_type": "execute_result"
    }
   ],
   "source": [
    "frq"
   ]
  },
  {
   "cell_type": "code",
   "execution_count": 66,
   "metadata": {
    "collapsed": false
   },
   "outputs": [],
   "source": [
    "f = h5py.File('./signal_run_white.h5', 'w')\n",
    "f['signal'] = lfpR.signal_white\n",
    "f.close()"
   ]
  },
  {
   "cell_type": "code",
   "execution_count": null,
   "metadata": {
    "collapsed": true
   },
   "outputs": [],
   "source": []
  }
 ],
 "metadata": {
  "kernelspec": {
   "display_name": "Python 2",
   "language": "python",
   "name": "python2"
  },
  "language_info": {
   "codemirror_mode": {
    "name": "ipython",
    "version": 2
   },
   "file_extension": ".py",
   "mimetype": "text/x-python",
   "name": "python",
   "nbconvert_exporter": "python",
   "pygments_lexer": "ipython2",
   "version": "2.7.12"
  }
 },
 "nbformat": 4,
 "nbformat_minor": 0
}
