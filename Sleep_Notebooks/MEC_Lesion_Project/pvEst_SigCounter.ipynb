{
 "cells": [
  {
   "cell_type": "code",
   "execution_count": 23,
   "metadata": {
    "collapsed": false
   },
   "outputs": [
    {
     "data": {
      "text/html": [
       "<style>.container { width:80% !important; }</style>"
      ],
      "text/plain": [
       "<IPython.core.display.HTML object>"
      ]
     },
     "metadata": {},
     "output_type": "display_data"
    }
   ],
   "source": [
    "from IPython.core.display import display, HTML\n",
    "display(HTML(\"<style>.container { width:80% !important; }</style>\"))\n",
    "import sys\n",
    "sys.path.append('/home/chenani/ownCloud/Workspaces/Eclipse/dataAnalysis/Sleep-current/src/')"
   ]
  },
  {
   "cell_type": "code",
   "execution_count": 52,
   "metadata": {
    "collapsed": false
   },
   "outputs": [
    {
     "name": "stdout",
     "output_type": "stream",
     "text": [
      "The autoreload extension is already loaded. To reload it, use:\n",
      "  %reload_ext autoreload\n"
     ]
    }
   ],
   "source": [
    "%matplotlib inline\n",
    "%load_ext autoreload\n",
    "%autoreload 2\n",
    "import matplotlib.pyplot as pl\n",
    "import numpy as np\n",
    "import pickle as pkl\n",
    "import os\n",
    "import seaborn as sns\n",
    "import pandas as pd\n",
    "import fnmatch\n",
    "from scipy.stats import binom_test\n",
    "from scipy.io import loadmat,savemat\n",
    "from os import path\n",
    "from scipy.stats import ranksums"
   ]
  },
  {
   "cell_type": "code",
   "execution_count": 25,
   "metadata": {
    "collapsed": false
   },
   "outputs": [],
   "source": [
    "def locate(pattern, root=os.curdir):\n",
    "    '''Locate all files matching supplied filename pattern in and below\n",
    "        supplied root directory.\n",
    "    '''\n",
    "    for path, dirs, files in os.walk(os.path.abspath(root)):\n",
    "        for filename in fnmatch.filter(files, pattern):\n",
    "            yield [path,filename]\n",
    "def findClosestPoint(values,array):\n",
    "    values = np.array(values)\n",
    "    array = np.array(array)\n",
    "    idx = np.array([np.square(array - value).argmin() for value in values])\n",
    "    return idx,array[idx]\n",
    "def sigCounter(df,min_N = 3,pSig = 5e-2):\n",
    "    dbMinN = df[(df.lSub>min_N)|(df.rSub>min_N)]\n",
    "    nT = dbMinN.shape[0]\n",
    "    nS = dbMinN[(dbMinN.Lpv<0.05)|(dbMinN.Rpv<0.05)].shape[0]\n",
    "    #print nT,nS,binom_test(nS,nT,pSig),1e2*nS/nT\n",
    "    try:\n",
    "        prcnt = 1e2*nS/nT\n",
    "    except ZeroDivisionError:\n",
    "        prcnt = None\n",
    "    #print nT,nS,binom_test(nS,nT,0.05)\n",
    "    #print 1e2*nS/nT\n",
    "    return nT,nS,prcnt,binom_test(nS,nT,pSig)\n",
    "sns.set_style('white')"
   ]
  },
  {
   "cell_type": "code",
   "execution_count": 35,
   "metadata": {
    "collapsed": false
   },
   "outputs": [
    {
     "name": "stdout",
     "output_type": "stream",
     "text": [
      "4 1.0\n",
      "5 0.9\n",
      "6 0.828571428571\n",
      "7 0.75\n",
      "8 0.714285714286\n",
      "9 0.683333333333\n",
      "10 0.636363636364\n"
     ]
    },
    {
     "name": "stderr",
     "output_type": "stream",
     "text": [
      "/home/chenani/anaconda/lib/python2.7/site-packages/ipykernel/__main__.py:2: DeprecationWarning: object of type <type 'float'> cannot be safely interpreted as an integer.\n",
      "  from ipykernel import kernelapp as app\n"
     ]
    }
   ],
   "source": [
    "binwidth = 0.1\n",
    "A = np.linspace(0,1.,1.0/binwidth+1)\n",
    "binwidth = np.diff(A)[0]\n",
    "corrBinsCenters = np.union1d(-1*A,A)\n",
    "corrBins = corrBinsCenters-binwidth/2\n",
    "corrBins = np.insert(corrBins,[corrBins.size],[corrBins[-1]+binwidth])\n",
    "##########################################\n",
    "SigPrcntMin = 95\n",
    "sigN = []\n",
    "sigPrcnt = []\n",
    "SigCorrMin = []\n",
    "for n in range(4,11):\n",
    "    crr = pkl.load(open('/home/chenani/ownCloud/IpythonNotebooks/Sleep/MEC_Lesion_Project/RankOrder/corr'+str(n)+'.crr','rb'))\n",
    "    absCrr = np.abs(crr)\n",
    "    cSet = np.unique(absCrr)\n",
    "    prcSet = 100.0*np.cumsum([(absCrr==cor).sum() for cor in cSet])/ np.math.factorial(n)\n",
    "    #print n,prcSet\n",
    "    SigCorrMin.append(cSet[np.where(prcSet>= SigPrcntMin)[0][0]])\n",
    "#################################\n",
    "for ii,cmin in enumerate(SigCorrMin):\n",
    "    print ii+4,cmin"
   ]
  },
  {
   "cell_type": "code",
   "execution_count": 27,
   "metadata": {
    "collapsed": false
   },
   "outputs": [
    {
     "name": "stdout",
     "output_type": "stream",
     "text": [
      "Index([u'animal', u'lesion_extent', u'session', u'N_pCell_left',\n",
      "       u'N_pCell_right', u'Ns', u'Rate_s', u'Nt', u'Rate_t', u'prct',\n",
      "       u'NsDelta', u'NtDelta', u'prctDelta', u'Rate_s_Delta', u'Rate_t_delta',\n",
      "       u'NsTheta', u'NtTheta', u'prctTheta', u'Rate_s_theta', u'Rate_t_theta',\n",
      "       u'group'],\n",
      "      dtype='object')\n"
     ]
    }
   ],
   "source": [
    "dataFolder = '/home/chenani/ownCloud/IpythonNotebooks/Sleep/MEC_Lesion_Project/'\n",
    "xls_keys = pd.read_excel('/home/chenani/ownCloud/IpythonNotebooks/Sleep/MEC_Lesion_Project/files/RO-PR-dataframe-RankOrder.xls',sheetname='PRE').keys()\n",
    "print xls_keys"
   ]
  },
  {
   "cell_type": "code",
   "execution_count": 54,
   "metadata": {
    "collapsed": false,
    "scrolled": false
   },
   "outputs": [
    {
     "name": "stdout",
     "output_type": "stream",
     "text": [
      "616\n",
      "616\n",
      "616\n",
      "616\n"
     ]
    }
   ],
   "source": [
    "keys = np.array(['animal','session','date','N_sig_RO', 'N_all_RO','Rate_s', 'Rate_t','pv_RO','prcnt_RO','group'])\n",
    "pdb = pd.DataFrame([],columns=keys)\n",
    "Nmin = 4\n",
    "for item in locate('awakeReplays-*RO.db',dataFolder):\n",
    "    dbName = path.join(item[0],item[1])\n",
    "    group = dbName.split('/')[-4]\n",
    "    dday  = dbName.split('/')[-1].split('-')[-2]\n",
    "    anID  = dbName.split('/')[-1].split('-')[-3]\n",
    "    session = 'linearTrack'\n",
    "    try:\n",
    "        trjName = [path.join(item[0],item[1])for item in locate('linearTrack_Trajectory.traj','/home/chenani/dataWork/ali/MECLesion_SleepData/')\n",
    "                   if ((path.join(item[0],item[1]).find((dday[0]+'ay'+dday[-1]))>0) and (path.join(item[0],item[1]).find(anID)>0))][0]\n",
    "        loadFiles = True\n",
    "        \n",
    "    except:\n",
    "        print anID\n",
    "        loadFiles = False\n",
    "    trj = pkl.load(open(trjName))\n",
    "    tv,v = trj.getSpeed()\n",
    "    tImmo = (v<0.05).sum()*1.0/tv.size*(tv[-1]-tv[0])\n",
    "    awro = pkl.load(open(dbName))\n",
    "    for idx,row in awro.iterrows():\n",
    "        if row.lSub>3:\n",
    "            if np.abs(row.Lcorr) > SigCorrMin[min(int(row.lSub - 4),len(SigCorrMin)-1)]:\n",
    "                awro.Lpv[idx]-=0.96\n",
    "                #print row.lSub,row.Lcorr,SigCorrMin[min(int(row.lSub - 4),len(SigCorrMin)-1)]\n",
    "        if row.rSub>3:\n",
    "            if np.abs(row.Rcorr) > SigCorrMin[min(int(row.rSub - 4),len(SigCorrMin)-1)]:\n",
    "                awro.Rpv[idx]-=0.96\n",
    "    #print group,anID,dday,'\\n'\n",
    "    nt,ns,prct,pv = sigCounter(awro,min_N=Nmin)\n",
    "    if nt:\n",
    "        pdb = pdb.append(pd.DataFrame([[anID,session,dday,ns,nt,ns/tImmo,nt/tImmo,pv,prct,group]],columns=keys),ignore_index=True)\n",
    "#pdb.to_pickle('/home/chenani/ownCloud/IpythonNotebooks/Sleep/MEC_Lesion_Project/files/run_percentiles_05.db')"
   ]
  },
  {
   "cell_type": "code",
   "execution_count": null,
   "metadata": {
    "collapsed": false
   },
   "outputs": [],
   "source": []
  },
  {
   "cell_type": "code",
   "execution_count": 55,
   "metadata": {
    "collapsed": false
   },
   "outputs": [
    {
     "data": {
      "text/plain": [
       "(-1, 31)"
      ]
     },
     "execution_count": 55,
     "metadata": {},
     "output_type": "execute_result"
    },
    {
     "data": {
      "image/png": "[encoded data removed]",
      "text/plain": [
       "<matplotlib.figure.Figure at 0x7facd849b350>"
      ]
     },
     "metadata": {},
     "output_type": "display_data"
    }
   ],
   "source": [
    "cdb = pdb[pdb.group=='control']\n",
    "ldb = pdb[pdb.group=='lesion']\n",
    "sns.boxplot(x='group',y='prcnt_RO',data=pdb[pdb.prcnt_RO>=0])\n",
    "for idx,row in cdb.iterrows():\n",
    "    if row.pv_RO <5e-2:\n",
    "        pl.plot(0,row.prcnt_RO,'d',c='r')\n",
    "    else:\n",
    "        pl.plot(0,row.prcnt_RO,'d',c='k')\n",
    "for idx,row in ldb.iterrows():\n",
    "    if row.pv_RO <5e-2:\n",
    "        pl.plot(1,row.prcnt_RO,'d',c='r')\n",
    "    else:\n",
    "        pl.plot(1,row.prcnt_RO,'d',c='k')\n",
    "pl.ylim(-1,31)"
   ]
  },
  {
   "cell_type": "code",
   "execution_count": 57,
   "metadata": {
    "collapsed": false
   },
   "outputs": [
    {
     "name": "stderr",
     "output_type": "stream",
     "text": [
      "/home/chenani/anaconda/lib/python2.7/site-packages/ipykernel/__main__.py:34: SettingWithCopyWarning: \n",
      "A value is trying to be set on a copy of a slice from a DataFrame\n",
      "\n",
      "See the caveats in the documentation: http://pandas.pydata.org/pandas-docs/stable/indexing.html#indexing-view-versus-copy\n",
      "/home/chenani/anaconda/lib/python2.7/site-packages/ipykernel/__main__.py:38: SettingWithCopyWarning: \n",
      "A value is trying to be set on a copy of a slice from a DataFrame\n",
      "\n",
      "See the caveats in the documentation: http://pandas.pydata.org/pandas-docs/stable/indexing.html#indexing-view-versus-copy\n"
     ]
    },
    {
     "name": "stdout",
     "output_type": "stream",
     "text": [
      "3839 Day5 set(['PRE', 'POST']) set(['PRE', 'POST'])\n",
      "614 Day3 set(['PRE', 'POST']) set(['PRE', 'POST'])\n",
      "614 Day2 set(['PRE', 'POST']) set(['PRE', 'POST'])\n",
      "614 Day1 set(['PRE', 'POST']) set(['PRE', 'POST'])\n",
      "3661 Day3 set(['PRE', 'POST']) set(['PRE', 'POST'])\n",
      "3661 Day1 set(['PRE', 'POST']) set(['PRE', 'POST'])\n",
      "3661 Day2 set(['PRE', 'POST']) set(['PRE', 'POST'])\n",
      "3906 Day2 set(['PRE', 'POST']) set(['PRE', 'POST'])\n",
      "3906 Day1 set(['PRE', 'POST']) set(['PRE', 'POST'])\n",
      "3906 Day3 set(['PRE', 'POST']) set(['PRE', 'POST'])\n",
      "3906 Day4 set(['PRE', 'POST']) set(['PRE', 'POST'])\n",
      "616 Day1 set(['PRE', 'POST']) set(['PRE', 'POST'])\n",
      "3837 Day3 set(['PRE', 'POST']) set(['PRE', 'POST'])\n",
      "3837 Day1 set(['PRE', 'POST']) set(['PRE', 'POST'])\n",
      "434 Day1 set(['PRE', 'POST']) set(['PRE', 'POST'])\n",
      "3838 Day2 set(['PRE', 'POST']) set(['PRE', 'POST'])\n",
      "3838 Day3 set(['PRE', 'POST']) set(['PRE', 'POST'])\n",
      "3838 Day1 set(['PRE', 'POST']) set(['PRE', 'POST'])\n",
      "3838 Day4 set(['PRE', 'POST']) set(['PRE', 'POST'])\n",
      "3656 Day2 set(['PRE', 'POST']) set(['PRE', 'POST'])\n",
      "3656 Day1 set(['PRE', 'POST']) set(['PRE', 'POST'])\n",
      "3754 Day3 set(['PRE', 'POST']) set(['PRE', 'POST'])\n",
      "3754 Day2 set(['PRE', 'POST']) set(['PRE', 'POST'])\n",
      "405 Day1 set(['PRE', 'POST']) set(['PRE', 'POST'])\n",
      "3903 Day3 set(['PRE', 'POST']) set(['PRE', 'POST'])\n",
      "3903 Day1 set(['PRE', 'POST']) set(['PRE', 'POST'])\n",
      "3903 Day4 set(['PRE', 'POST']) set(['PRE', 'POST'])\n",
      "3903 Day2 set(['PRE', 'POST']) set(['PRE', 'POST'])\n"
     ]
    }
   ],
   "source": [
    "keys = np.array(['animal','session','date',\n",
    "                 'N_sig_RO', 'N_all_RO','Rate_s', 'Rate_t','pv_RO','prcnt_RO',\n",
    "                 'NsDelta','NtDelta','prctDelta','Rate_s_Delta','Rate_t_delta','pv_del',\n",
    "                 'NsTheta','NtTheta','prctTheta','Rate_s_theta','Rate_t_theta','pv_th','group'])\n",
    "sldb = pd.DataFrame([],columns=keys) \n",
    "for item in locate('*roDB*.db','/home/chenani/ownCloud/IpythonNotebooks/Sleep/MEC_Lesion_Project/'):\n",
    "    dbName = path.join(item[0],item[1])\n",
    "    group = dbName.split('/')[-5]\n",
    "    dday  = dbName.split('/')[-1].split('-')[-1].split('.')[0]\n",
    "    anID  = dbName.split('/')[-1].split('-')[0]\n",
    "    ddday = 'Day'+ dday.split('D')[-1]\n",
    "    slName = np.array([os.path.join(item[0],item[1])for item in locate('SleepEpoch*.db',dataFolder) if ((item[1].find(anID)>0)and(item[1].find(ddday)>0))])[:]\n",
    "    sldf = pd.read_pickle(slName)\n",
    "    sldf = sldf.replace('sleep01','PRE')\n",
    "    sldf = sldf.replace('sleep05','PRE')\n",
    "    sldf = sldf.replace('sleep02','POST')\n",
    "    sldf = sldf.replace('sleep06','POST')\n",
    "    sldf = sldf.replace('sleep03','POST')\n",
    "    popro = pkl.load(open(dbName))\n",
    "    popro = popro.replace('sleep01','PRE')\n",
    "    popro = popro.replace('sleep05','PRE')\n",
    "    popro = popro.replace('sleep02','POST')\n",
    "    popro = popro.replace('sleep06','POST')\n",
    "    popro = popro.replace('sleep03','POST')\n",
    "    print anID,ddday,set(sldf.session),set(popro.session)\n",
    "    for sess in ['PRE','POST']:\n",
    "        df = popro[popro.session==sess]\n",
    "        duration = np.sum(sldf[(sldf.epoch!='AWAKE')].t1-sldf[(sldf.epoch!='AWAKE')].t0)\n",
    "        th_duration  = np.sum(sldf[(sldf.epoch=='REM')].t1-sldf[sldf.epoch=='REM'].t0)\n",
    "        del_duration = np.sum(sldf[sldf.epoch=='SWS'].t1-sldf[sldf.epoch=='SWS'].t0)\n",
    "        for idx,row in df.iterrows():\n",
    "            if row.lSub>3:\n",
    "                if np.abs(row.Lcorr) > SigCorrMin[min(int(row.lSub - 4),len(SigCorrMin)-1)]:\n",
    "                    popro.Lpv[idx]-=0.96\n",
    "                    #print row.lSub,row.Lcorr,SigCorrMin[min(int(row.lSub - 4),len(SigCorrMin)-1)]\n",
    "            if row.rSub>3:\n",
    "                if np.abs(row.Rcorr) > SigCorrMin[min(int(row.rSub - 4),len(SigCorrMin)-1)]:\n",
    "                    popro.Rpv[idx]-=0.96\n",
    "        ntT,nsT,prctT,pvT = sigCounter(df[df.epoch=='rem'],min_N=Nmin)\n",
    "        ntD,nsD,prctD,pvD = sigCounter(df[df.epoch=='sws'],min_N=Nmin)\n",
    "        nt,ns,prct,pv = sigCounter(df[df.epoch!='awake'],min_N=Nmin)\n",
    "        if nt:\n",
    "            sldb = sldb.append(pd.DataFrame([[anID,sess,dday,\n",
    "                                         ns,nt,ns/duration,nt/duration,pv,prct,\n",
    "                                         nsD,ntD,prctD,nsD/del_duration,ntD/del_duration,pvD,\n",
    "                                         nsT,ntT,prctT,nsT/th_duration,ntT/th_duration,pvT,\n",
    "                                         group]],columns=keys),ignore_index=True)"
   ]
  },
  {
   "cell_type": "code",
   "execution_count": 61,
   "metadata": {
    "collapsed": false
   },
   "outputs": [
    {
     "data": {
      "text/plain": [
       "<matplotlib.axes._subplots.AxesSubplot at 0x7facd816bb50>"
      ]
     },
     "execution_count": 61,
     "metadata": {},
     "output_type": "execute_result"
    },
    {
     "data": {
      "image/png": "[encoded data removed]",
      "text/plain": [
       "<matplotlib.figure.Figure at 0x7facd8258050>"
      ]
     },
     "metadata": {},
     "output_type": "display_data"
    }
   ],
   "source": [
    "#sldb.to_excel('/home/chenani/ownCloud/IpythonNotebooks/Sleep/MEC_Lesion_Project/files/sleep_percentiles_05.xls')\n",
    "sns.violinplot(x='group',y='Rate_t',data=sldb,hue='session',split=True)\n"
   ]
  },
  {
   "cell_type": "code",
   "execution_count": 91,
   "metadata": {
    "collapsed": false
   },
   "outputs": [
    {
     "data": {
      "text/plain": [
       "<matplotlib.legend.Legend at 0x7f231b8d2090>"
      ]
     },
     "execution_count": 91,
     "metadata": {},
     "output_type": "execute_result"
    }
   ],
   "source": [
    "SigPrcntMin = 95\n",
    "for n in range(4,11):\n",
    "    crr = pkl.load(open('/home/chenani/ownCloud/IpythonNotebooks/Sleep/MEC_Lesion_Project/RankOrder/corr'+str(n)+'.crr','rb'))\n",
    "    absCrr = np.abs(crr)\n",
    "    cSet = np.unique(absCrr)\n",
    "    prcSet = 100.0*np.cumsum([(absCrr==cor).sum() for cor in cSet])/ np.math.factorial(n)\n",
    "    pl.plot(cSet[prcSet>SigPrcntMin],prcSet[prcSet>SigPrcntMin],lw=3,label=n)\n",
    "pl.legend()"
   ]
  },
  {
   "cell_type": "code",
   "execution_count": 25,
   "metadata": {
    "collapsed": false
   },
   "outputs": [
    {
     "name": "stdout",
     "output_type": "stream",
     "text": [
      "46 6 0.45870941883 13.0434782609\n",
      "46 6 0.45870941883 13.0434782609\n",
      "10 2 0.2639010709 20.0\n",
      "10 2 0.2639010709 20.0\n",
      "2 0 1.0 0.0\n",
      "2 0 1.0 0.0\n"
     ]
    }
   ],
   "source": [
    "f,ax = pl.subplots(1,1)\n",
    "for ii in range(4,7):\n",
    "    if sigCounter(asleepDF,min_N=ii,pSig=0.1)[1]<5e-2:\n",
    "        ax.plot(ii,sigCounter(asleepDF,min_N=ii,pSig=0.1)[0],'v',c='r')\n",
    "        print ii\n",
    "    else:\n",
    "        ax.plot(ii,sigCounter(asleepDF,min_N=ii,pSig=0.1)[0],'v',c='k')"
   ]
  },
  {
   "cell_type": "code",
   "execution_count": 274,
   "metadata": {
    "collapsed": false
   },
   "outputs": [],
   "source": [
    "lc = asleepDF[(asleepDF.session=='sleep02')&(asleepDF.lSub>4)].Lcorr\n",
    "rc = asleepDF[(asleepDF.session=='sleep02')&(asleepDF.rSub>4)].Rcorr"
   ]
  },
  {
   "cell_type": "code",
   "execution_count": 49,
   "metadata": {
    "collapsed": false
   },
   "outputs": [],
   "source": [
    "cdat = tdat[0][0][0]"
   ]
  },
  {
   "cell_type": "code",
   "execution_count": 77,
   "metadata": {
    "collapsed": false
   },
   "outputs": [
    {
     "data": {
      "text/plain": [
       "<matplotlib.legend.Legend at 0x7f9581850850>"
      ]
     },
     "execution_count": 77,
     "metadata": {},
     "output_type": "execute_result"
    }
   ],
   "source": [
    "pl.hist([cdat[0],lc,rc],corrBins,color=['r','0.8','0.7'],label=['c','l','r'],normed=True)\n",
    "pl.legend()"
   ]
  },
  {
   "cell_type": "code",
   "execution_count": 282,
   "metadata": {
    "collapsed": false
   },
   "outputs": [
    {
     "data": {
      "text/plain": [
       "(511, -203, 414, (308, 15))"
      ]
     },
     "execution_count": 282,
     "metadata": {},
     "output_type": "execute_result"
    }
   ],
   "source": [
    "s2 = asleepDF[asleepDF.session=='sleep02']\n",
    "lc.size+rc.size,-np.intersect1d(lc.index,rc.index).size,cdat[0].size,df[df.session=='sleep02'].shape"
   ]
  },
  {
   "cell_type": "code",
   "execution_count": 267,
   "metadata": {
    "collapsed": false
   },
   "outputs": [
    {
     "data": {
      "text/plain": [
       "(0.65, 1.35)"
      ]
     },
     "execution_count": 267,
     "metadata": {},
     "output_type": "execute_result"
    }
   ],
   "source": [
    "pl.plot(lc,np.ones(lc.size),'d')\n",
    "#pl.plot(rc,np.ones(rc.size)-1e-2,'d')\n",
    "pl.plot(cdat[0],np.ones(cdat[0].size)+1e-2,'d')\n",
    "pl.ylim(0.65,1.35)"
   ]
  },
  {
   "cell_type": "code",
   "execution_count": 88,
   "metadata": {
    "collapsed": false
   },
   "outputs": [],
   "source": [
    "surrDists = loadmat('/home/chenani/ownCloud/IpythonNotebooks/Sleep/MEC_Lesion_Project/files/replay_DataSet/rt2.mat')['rt2'][0]"
   ]
  },
  {
   "cell_type": "code",
   "execution_count": 246,
   "metadata": {
    "collapsed": false
   },
   "outputs": [
    {
     "data": {
      "text/plain": [
       "<matplotlib.legend.Legend at 0x7f952853b110>"
      ]
     },
     "execution_count": 246,
     "metadata": {},
     "output_type": "execute_result"
    }
   ],
   "source": [
    "f,axarr = pl.subplots(2,3,figsize=[12,8])\n",
    "for n in range(4,10):\n",
    "    crr = pkl.load(open('/home/chenani/ownCloud/IpythonNotebooks/Sleep/MEC_Lesion_Project/RankOrder/corr'+str(n)+'.crr','rb'))\n",
    "    srr = surrDists[n-4][1][0].T\n",
    "    axarr[(n-4)/3,np.mod(n-4,3)].hist([srr,crr],corrBins,color=['k','r'],label=['Christian','Ali'],normed=True)\n",
    "pl.legend()"
   ]
  },
  {
   "cell_type": "code",
   "execution_count": 312,
   "metadata": {
    "collapsed": false
   },
   "outputs": [
    {
     "data": {
      "text/plain": [
       "413"
      ]
     },
     "execution_count": 312,
     "metadata": {},
     "output_type": "execute_result"
    }
   ],
   "source": [
    "s2[(s2.rSub>4)|(s2.lSub>4)].shape[0]+s2[(s2.rSub>4)^(s2.lSub>4)].shape[0]\n",
    "#s24 = s2[(~np.isnan(s2.Lcorr))|(~np.isnan(s2.Rcorr))]#.shape[0]#-s2[(~np.isnan(s2.Lcorr))^(~np.isnan(s2.Rcorr))].shape[0]\n",
    "#s24[(s24.lSub>4)|(s24.rSub>4)].shape"
   ]
  },
  {
   "cell_type": "code",
   "execution_count": 80,
   "metadata": {
    "collapsed": false
   },
   "outputs": [
    {
     "data": {
      "text/plain": [
       "array([ '/home/chenani/ownCloud/IpythonNotebooks/Sleep/MEC_Lesion_Project/control/Rat3839Control/dataFiles/sleepDB/SleepEpoch-Rat3839-Day5.db'], \n",
       "      dtype='|S132')"
      ]
     },
     "execution_count": 80,
     "metadata": {},
     "output_type": "execute_result"
    }
   ],
   "source": []
  },
  {
   "cell_type": "code",
   "execution_count": 83,
   "metadata": {
    "collapsed": false
   },
   "outputs": [
    {
     "data": {
      "text/plain": [
       "0       168.647\n",
       "1       332.706\n",
       "2       368.371\n",
       "3       382.637\n",
       "4       399.960\n",
       "5       412.188\n",
       "6       447.853\n",
       "7       462.119\n",
       "8       497.784\n",
       "9       531.411\n",
       "10      560.962\n",
       "11      579.304\n",
       "12      603.760\n",
       "13      618.026\n",
       "14      648.596\n",
       "15      725.021\n",
       "16      745.401\n",
       "17      774.952\n",
       "18      787.180\n",
       "19      814.693\n",
       "20      826.921\n",
       "21      839.149\n",
       "22     1041.930\n",
       "23     1214.141\n",
       "24     1230.445\n",
       "25     1278.338\n",
       "26     1301.775\n",
       "27     1343.554\n",
       "28     1375.143\n",
       "29     1420.998\n",
       "         ...   \n",
       "114    7637.055\n",
       "115    7664.568\n",
       "116    7689.024\n",
       "117    7743.031\n",
       "118    7798.057\n",
       "119    7820.475\n",
       "120    7834.741\n",
       "121    7875.501\n",
       "122    7957.021\n",
       "123    8038.541\n",
       "124    8185.277\n",
       "125    8219.923\n",
       "126    8259.664\n",
       "127    8294.310\n",
       "128    8315.709\n",
       "129    8342.203\n",
       "130    8391.115\n",
       "131    8407.419\n",
       "132    8488.939\n",
       "133    8537.851\n",
       "134    8552.117\n",
       "135    8568.421\n",
       "136    8648.922\n",
       "137    8696.815\n",
       "138    8711.081\n",
       "139    8729.423\n",
       "140    8754.898\n",
       "141    8940.356\n",
       "142    8992.325\n",
       "143    9063.655\n",
       "Name: t1, dtype: float64"
      ]
     },
     "execution_count": 83,
     "metadata": {},
     "output_type": "execute_result"
    }
   ],
   "source": [
    "sldf.t1"
   ]
  },
  {
   "cell_type": "code",
   "execution_count": null,
   "metadata": {
    "collapsed": true
   },
   "outputs": [],
   "source": []
  }
 ],
 "metadata": {
  "kernelspec": {
   "display_name": "Python 2",
   "language": "python",
   "name": "python2"
  },
  "language_info": {
   "codemirror_mode": {
    "name": "ipython",
    "version": 2
   },
   "file_extension": ".py",
   "mimetype": "text/x-python",
   "name": "python",
   "nbconvert_exporter": "python",
   "pygments_lexer": "ipython2",
   "version": "2.7.12"
  }
 },
 "nbformat": 4,
 "nbformat_minor": 0
}
