{
 "cells": [
  {
   "cell_type": "code",
   "execution_count": 1,
   "metadata": {
    "collapsed": false
   },
   "outputs": [
    {
     "data": {
      "text/html": [
       "<style>.container { width:95% !important; }</style>"
      ],
      "text/plain": [
       "<IPython.core.display.HTML object>"
      ]
     },
     "metadata": {},
     "output_type": "display_data"
    }
   ],
   "source": [
    "from IPython.core.display import display, HTML\n",
    "display(HTML(\"<style>.container { width:95% !important; }</style>\"))\n",
    "import sys\n",
    "sys.path.append('/home/chenani/ownCloud/Workspaces/Eclipse/dataAnalysis/Sleep-current/src/')"
   ]
  },
  {
   "cell_type": "code",
   "execution_count": 2,
   "metadata": {
    "collapsed": false
   },
   "outputs": [
    {
     "name": "stderr",
     "output_type": "stream",
     "text": [
      "/home/chenani/anaconda/lib/python2.7/site-packages/IPython/html.py:14: ShimWarning: The `IPython.html` package has been deprecated. You should import from `notebook` instead. `IPython.html.widgets` has moved to `ipywidgets`.\n",
      "  \"`IPython.html.widgets` has moved to `ipywidgets`.\", ShimWarning)\n"
     ]
    }
   ],
   "source": [
    "%matplotlib inline\n",
    "%load_ext autoreload\n",
    "%autoreload 2\n",
    "import matplotlib.pyplot as pl\n",
    "import numpy as np\n",
    "import pickle as pkl\n",
    "import os\n",
    "import seaborn as sns\n",
    "import pandas as pd\n",
    "import fnmatch\n",
    "from scipy.stats import binom_test"
   ]
  },
  {
   "cell_type": "code",
   "execution_count": 3,
   "metadata": {
    "collapsed": false
   },
   "outputs": [],
   "source": [
    "def locate(pattern, root=os.curdir):\n",
    "    '''Locate all files matching supplied filename pattern in and below\n",
    "        supplied root directory.\n",
    "    '''\n",
    "    for path, dirs, files in os.walk(os.path.abspath(root)):\n",
    "        for filename in fnmatch.filter(files, pattern):\n",
    "            yield [path,filename]\n",
    "def findClosestPoint(values,array):\n",
    "    values = np.array(values)\n",
    "    array = np.array(array)\n",
    "    idx = np.array([np.square(array - value).argmin() for value in values])\n",
    "    return idx,array[idx]\n",
    "def sigCounter(df,min_N = 3):\n",
    "    dbMinN = df[(df.lSub>min_N)|(df.rSub>min_N)]\n",
    "    nT = dbMinN.shape[0]\n",
    "    nS = df[(df.Lpv<0.05)|(df.Rpv<0.05)].shape[0]\n",
    "    try:\n",
    "        prcnt = 1e2*nS/nT\n",
    "    except ZeroDivisionError:\n",
    "        prcnt = None\n",
    "    #print nT,nS,binom_test(nS,nT,0.05)\n",
    "    #print 1e2*nS/nT\n",
    "    return nT,nS,prcnt"
   ]
  },
  {
   "cell_type": "code",
   "execution_count": 22,
   "metadata": {
    "collapsed": false
   },
   "outputs": [],
   "source": [
    "dataFolder = '/home/chenani/ownCloud/IpythonNotebooks/Sleep/MEC_Lesion_Project/lesion/Rat434Lesion/dataFiles/'"
   ]
  },
  {
   "cell_type": "code",
   "execution_count": 23,
   "metadata": {
    "collapsed": false
   },
   "outputs": [],
   "source": [
    "slpDB = np.array(sorted([os.path.join(item[0],item[1])for item in locate('SleepEpoch*.db',dataFolder)]))[:]\n",
    "roDBs = sorted([os.path.join(item[0],item[1])for item in locate('*roDB*.db',dataFolder)])\n",
    "prDBs = sorted([os.path.join(item[0],item[1])for item in locate('*prDB*.db',dataFolder)])\n",
    "awROs = sorted([os.path.join(item[0],item[1])for item in locate('*RO.db',dataFolder)])\n",
    "awPRs = sorted([os.path.join(item[0],item[1])for item in locate('*PR.db',dataFolder)])"
   ]
  },
  {
   "cell_type": "code",
   "execution_count": 24,
   "metadata": {
    "collapsed": false
   },
   "outputs": [
    {
     "data": {
      "text/plain": [
       "(array([ '/home/chenani/ownCloud/IpythonNotebooks/Sleep/MEC_Lesion_Project/lesion/Rat434Lesion/dataFiles/sleepDB/SleepEpoch-Rat434Lesion-Day1.db'], \n",
       "       dtype='|S134'),\n",
       " ['/home/chenani/ownCloud/IpythonNotebooks/Sleep/MEC_Lesion_Project/lesion/Rat434Lesion/dataFiles/sleepDB/434-prDB-D1.db'],\n",
       " ['/home/chenani/ownCloud/IpythonNotebooks/Sleep/MEC_Lesion_Project/lesion/Rat434Lesion/dataFiles/sleepDB/434-roDB-D1.db'],\n",
       " ['/home/chenani/ownCloud/IpythonNotebooks/Sleep/MEC_Lesion_Project/lesion/Rat434Lesion/dataFiles/awakeReplays-434-D1-RO.db'],\n",
       " ['/home/chenani/ownCloud/IpythonNotebooks/Sleep/MEC_Lesion_Project/lesion/Rat434Lesion/dataFiles/awakeReplays-434-D1-PR.db'])"
      ]
     },
     "execution_count": 24,
     "metadata": {},
     "output_type": "execute_result"
    }
   ],
   "source": [
    "slpDB,prDBs,roDBs,awROs,awPRs"
   ]
  },
  {
   "cell_type": "code",
   "execution_count": 25,
   "metadata": {
    "collapsed": false
   },
   "outputs": [
    {
     "name": "stdout",
     "output_type": "stream",
     "text": [
      "--------------------------------------------RANK-ORDER-------------------------------------------------\n",
      "+++++++++++++++++++++++++++\n",
      "D1.db\n",
      "979.259 2028.829 299.586 679.673 1150.451 878.378\n",
      "PRE---- Nt= 432, Ns= 29 percentage= 6.71296296296 --- Rt = 0.4411 , Rs = 0.029614 \n",
      "PRE--DLT Nt= 84, Ns= 5 percentage= 5.95238095238 --- Rt_del = 0.2804, Rs_del = 0.016690\n",
      "PRE--THT Nt= 255, Ns= 19 percentage= 7.45098039216 --- Rt_tht = 0.3752, Rs_tht = 0.027955\n",
      "############################\n",
      "POST---- Nt= 562, Ns= 73 percentage= 12.9893238434 --- Rt = 0.2770 , Rs = 0.035981 \n",
      "POST--DLT Nt= 120, Ns= 20 percentage= 16.6666666667 --- Rt_del = 0.1043, Rs_del = 0.017384\n",
      "POST--THT Nt= 299, Ns= 21 percentage= 7.02341137124 --- Rt_tht = 0.3404, Rs_tht = 0.023908\n",
      "--------------------------------------------PERSISTANCE-------------------------------------------------\n",
      "+++++++++++++++++++++++++++\n",
      "D1.db\n",
      "PRE---- Nt= 593, Ns= 88 percentage= 14.8397976391 --- Rt = 0.6056 , Rs = 0.089864 \n",
      "PRE--DLT Nt= 114, Ns= 12 percentage= 10.5263157895 --- Rt_del = 0.3805, Rs_del = 0.040055\n",
      "PRE--THT Nt= 354, Ns= 49 percentage= 13.8418079096 --- Rt_tht = 0.5208, Rs_tht = 0.072093\n",
      "############################\n",
      "POST---- Nt= 666, Ns= 54 percentage= 8.10810810811 --- Rt = 0.33 , Rs = 0.026616 \n",
      "POST--DLT Nt= 147, Ns= 10 percentage= 6.80272108844 --- Rt_del = 0.1278, Rs_del = 0.008692\n",
      "POST--THT Nt= 365, Ns= 28 percentage= 7.67123287671 --- Rt_tht = 0.4155, Rs_tht = 0.031877\n"
     ]
    }
   ],
   "source": [
    "print '--------------------------------------------RANK-ORDER-------------------------------------------------'\n",
    "for slp,db in zip(slpDB,roDBs):\n",
    "    print '+++++++++++++++++++++++++++'\n",
    "    print db.split('-')[-1]\n",
    "    sldf = pd.read_pickle(slp)\n",
    "    sldf = sldf.replace('sleep05','sleep01')\n",
    "    sldf = sldf.replace('sleep06','sleep02')\n",
    "    PRE_durarion = np.sum(sldf[(sldf.session=='sleep01')&(sldf.epoch!='AWAKE')].t1-sldf[(sldf.session=='sleep01')&(sldf.epoch!='AWAKE')].t0)\n",
    "    POS_duration = np.sum(sldf[(sldf.session=='sleep02')&(sldf.epoch!='AWAKE')].t1-sldf[(sldf.session=='sleep02')&(sldf.epoch!='AWAKE')].t0)\n",
    "    th_PRE_duration  = np.sum(sldf[(sldf.session=='sleep01')&(sldf.epoch=='REM')].t1-sldf[(sldf.session=='sleep01')&(sldf.epoch=='REM')].t0)\n",
    "    del_PRE_duration = np.sum(sldf[(sldf.session=='sleep01')&(sldf.epoch=='SWS')].t1-sldf[(sldf.session=='sleep01')&(sldf.epoch=='SWS')].t0)\n",
    "    th_POST_duration  = np.sum(sldf[(sldf.session=='sleep02')&(sldf.epoch=='REM')].t1-sldf[(sldf.session=='sleep02')&(sldf.epoch=='REM')].t0)\n",
    "    del_POST_duration = np.sum(sldf[(sldf.session=='sleep02')&(sldf.epoch=='SWS')].t1-sldf[(sldf.session=='sleep02')&(sldf.epoch=='SWS')].t0)\n",
    "    print PRE_durarion,POS_duration,del_PRE_duration,th_PRE_duration,del_POST_duration,th_POST_duration\n",
    "    df   = pd.read_pickle(db)\n",
    "    df = df.replace('sleep05','sleep01')\n",
    "    df = df.replace('sleep06','sleep02')\n",
    "    dfPRE   = df[df.session=='sleep01']\n",
    "    dfPOST  = df[df.session=='sleep02']\n",
    "    delPRE  = dfPRE[dfPRE.epoch=='sws']\n",
    "    thePRE  = dfPRE[dfPRE.epoch=='rem']\n",
    "    delPOST = dfPOST[dfPOST.epoch=='sws']\n",
    "    thePOST = dfPOST[dfPOST.epoch=='rem']\n",
    "    #####Countimg and rating\n",
    "    preCounts = np.array(sigCounter(dfPRE,4))\n",
    "    postCounts = np.array(sigCounter(dfPOST,4))\n",
    "    del_preC  = np.array(sigCounter(delPRE,4))\n",
    "    del_postC = np.array(sigCounter(delPOST,4))\n",
    "    th_preC  = np.array(sigCounter(thePRE,4))\n",
    "    th_postC = np.array(sigCounter(thePOST,4))\n",
    "    print 'PRE---- Nt= %0.0f, Ns= %0.0f percentage= %s --- Rt = %0.4f , Rs = %f ' %(preCounts[0],preCounts[1],preCounts[2],\n",
    "                                                                                       (preCounts[0]/PRE_durarion),preCounts[1]/PRE_durarion)\n",
    "    print 'PRE--DLT Nt= %0.0f, Ns= %0.0f percentage= %s --- Rt_del = %0.4f, Rs_del = %f'%(del_preC[0],del_preC[1],del_preC[2],\n",
    "                                                                                            (del_preC[0]/del_PRE_duration),(del_preC[1]/del_PRE_duration))\n",
    "    print 'PRE--THT Nt= %0.0f, Ns= %0.0f percentage= %s --- Rt_tht = %0.4f, Rs_tht = %f' %(th_preC[0],th_preC[1],th_preC[2],\n",
    "                                                                                              (th_preC[0]/th_PRE_duration),(th_preC[1]/th_PRE_duration))\n",
    "    print '############################'\n",
    "    print 'POST---- Nt= %0.0f, Ns= %0.0f percentage= %s --- Rt = %0.4f , Rs = %f ' %(postCounts[0],postCounts[1],postCounts[2],\n",
    "                                                                                        (postCounts[0]/POS_duration),postCounts[1]/ POS_duration)\n",
    "    print 'POST--DLT Nt= %0.0f, Ns= %0.0f percentage= %s --- Rt_del = %0.4f, Rs_del = %f'%(del_postC[0],del_postC[1],del_postC[2],\n",
    "                                                                                            (del_postC[0]/del_POST_duration),(del_postC[1]/del_POST_duration))\n",
    "    print 'POST--THT Nt= %0.0f, Ns= %0.0f percentage= %s --- Rt_tht = %0.4f, Rs_tht = %f' %(th_postC[0],th_postC[1],th_postC[2],\n",
    "                                                                                              (th_postC[0]/th_POST_duration),(th_postC[1]/th_POST_duration))\n",
    "print '--------------------------------------------PERSISTANCE-------------------------------------------------'\n",
    "for slp,db in zip(slpDB,prDBs):\n",
    "    print '+++++++++++++++++++++++++++'\n",
    "    print db.split('-')[-1]\n",
    "    sldf = pd.read_pickle(slp)\n",
    "    sldf = sldf.replace('sleep05','sleep01')\n",
    "    sldf = sldf.replace('sleep06','sleep02')\n",
    "    PRE_durarion = np.sum(sldf[(sldf.session=='sleep01')&(sldf.epoch!='AWAKE')].t1-sldf[(sldf.session=='sleep01')&(sldf.epoch!='AWAKE')].t0)\n",
    "    POS_duration = np.sum(sldf[(sldf.session=='sleep02')&(sldf.epoch!='AWAKE')].t1-sldf[(sldf.session=='sleep02')&(sldf.epoch!='AWAKE')].t0)\n",
    "    th_PRE_duration  = np.sum(sldf[(sldf.session=='sleep01')&(sldf.epoch=='REM')].t1-sldf[(sldf.session=='sleep01')&(sldf.epoch=='REM')].t0)\n",
    "    del_PRE_duration = np.sum(sldf[(sldf.session=='sleep01')&(sldf.epoch=='SWS')].t1-sldf[(sldf.session=='sleep01')&(sldf.epoch=='SWS')].t0)\n",
    "    th_POST_duration  = np.sum(sldf[(sldf.session=='sleep02')&(sldf.epoch=='REM')].t1-sldf[(sldf.session=='sleep02')&(sldf.epoch=='REM')].t0)\n",
    "    del_POST_duration = np.sum(sldf[(sldf.session=='sleep02')&(sldf.epoch=='SWS')].t1-sldf[(sldf.session=='sleep02')&(sldf.epoch=='SWS')].t0)\n",
    "    df   = pd.read_pickle(db)\n",
    "    df = df.replace('sleep05','sleep01')\n",
    "    df = df.replace('sleep06','sleep02')\n",
    "    dfPRE   = df[df.session=='sleep01']\n",
    "    dfPOST  = df[df.session=='sleep02']\n",
    "    delPRE  = dfPRE[dfPRE.epoch=='sws']\n",
    "    thePRE  = dfPRE[dfPRE.epoch=='rem']\n",
    "    delPOST = dfPOST[dfPOST.epoch=='sws']\n",
    "    thePOST = dfPOST[dfPOST.epoch=='rem']\n",
    "    #####Countimg and rating\n",
    "    preCounts = np.array(sigCounter(dfPRE))\n",
    "    postCounts = np.array(sigCounter(dfPOST))\n",
    "    del_preC  = np.array(sigCounter(delPRE))\n",
    "    del_postC = np.array(sigCounter(delPOST))\n",
    "    th_preC  = np.array(sigCounter(thePRE))\n",
    "    th_postC = np.array(sigCounter(thePOST))\n",
    "    print 'PRE---- Nt= %0.0f, Ns= %0.0f percentage= %s --- Rt = %0.4f , Rs = %f ' %(preCounts[0],preCounts[1],preCounts[2],\n",
    "                                                                                       (preCounts[0]/PRE_durarion),preCounts[1]/PRE_durarion)\n",
    "    print 'PRE--DLT Nt= %0.0f, Ns= %0.0f percentage= %s --- Rt_del = %0.4f, Rs_del = %f'%(del_preC[0],del_preC[1],del_preC[2],\n",
    "                                                                                            (del_preC[0]/del_PRE_duration),(del_preC[1]/del_PRE_duration))\n",
    "    print 'PRE--THT Nt= %0.0f, Ns= %0.0f percentage= %s --- Rt_tht = %0.4f, Rs_tht = %f' %(th_preC[0],th_preC[1],th_preC[2],\n",
    "                                                                                              (th_preC[0]/th_PRE_duration),(th_preC[1]/th_PRE_duration))\n",
    "    print '############################'\n",
    "    print 'POST---- Nt= %0.0f, Ns= %0.0f percentage= %s --- Rt = %0.2f , Rs = %f ' %(postCounts[0],postCounts[1],postCounts[2],\n",
    "                                                                                        (postCounts[0]/POS_duration),postCounts[1]/ POS_duration)\n",
    "    print 'POST--DLT Nt= %0.0f, Ns= %0.0f percentage= %s --- Rt_del = %0.4f, Rs_del = %f'%(del_postC[0],del_postC[1],del_postC[2],\n",
    "                                                                                            (del_postC[0]/del_POST_duration),(del_postC[1]/del_POST_duration))\n",
    "    print 'POST--THT Nt= %0.0f, Ns= %0.0f percentage= %s --- Rt_tht = %0.4f, Rs_tht = %f' %(th_postC[0],th_postC[1],th_postC[2],\n",
    "                                                                                              (th_postC[0]/th_POST_duration),(th_postC[1]/th_POST_duration))"
   ]
  },
  {
   "cell_type": "code",
   "execution_count": 19,
   "metadata": {
    "collapsed": false
   },
   "outputs": [
    {
     "name": "stdout",
     "output_type": "stream",
     "text": [
      "--------------------------------------------RANK-ORDER-------------------------------------------------\n",
      "awakeReplays-3837-D1-RO.db\n",
      "RUN------- count are 104 total, 13 significant with percentage: 12.5\n",
      "awakeReplays-3837-D3-RO.db\n",
      "RUN------- count are 55 total, 0 significant with percentage: 0.0\n",
      "awakeReplays-3837-D4-RO.db\n",
      "RUN------- count are 0 total, 0 significant with percentage: None\n",
      "--------------------------------------------PERSISTANCE-------------------------------------------------\n",
      "awakeReplays-3837-D1-PR.db\n",
      "RUN------- count are 159 total, 29 significant with percentage: 18.2389937107\n",
      "awakeReplays-3837-D3-PR.db\n",
      "RUN------- count are 92 total, 19 significant with percentage: 20.652173913\n",
      "awakeReplays-3837-D4-PR.db\n",
      "RUN------- count are 1 total, 1 significant with percentage: 100.0\n"
     ]
    }
   ],
   "source": [
    "print '--------------------------------------------RANK-ORDER-------------------------------------------------'\n",
    "for db in awROs:\n",
    "    print db.split('/')[-1]\n",
    "    df = pd.read_pickle(db)\n",
    "    print 'RUN------- count are %s total, %s significant with percentage: %s' %sigCounter(df,4)\n",
    "    \n",
    "print '--------------------------------------------PERSISTANCE-------------------------------------------------'\n",
    "for db in awPRs:\n",
    "    print db.split('/')[-1]\n",
    "    df = pd.read_pickle(db)\n",
    "    print 'RUN------- count are %s total, %s significant with percentage: %s' %sigCounter(df)"
   ]
  },
  {
   "cell_type": "code",
   "execution_count": 277,
   "metadata": {
    "collapsed": false
   },
   "outputs": [
    {
     "data": {
      "text/plain": [
       "['/home/chenani/dataWork/ali/MECLesion_SleepData/Marta/Rat3754/LinearTrack_07-09-15_Day3/01-sleep1/CSC2.lfp',\n",
       " '/home/chenani/dataWork/ali/MECLesion_SleepData/Marta/Rat3754/LinearTrack_07-09-15_Day3/02-begin1/CSC2.lfp',\n",
       " '/home/chenani/dataWork/ali/MECLesion_SleepData/Marta/Rat3754/LinearTrack_07-09-15_Day3/03-sleep2/CSC2.lfp']"
      ]
     },
     "execution_count": 277,
     "metadata": {},
     "output_type": "execute_result"
    }
   ],
   "source": [
    "animalPath  = '/home/chenani/dataWork/ali/MECLesion_SleepData/Marta/Rat3754/LinearTrack_07-09-15_Day3/'\n",
    "lfpPaths = sorted([os.path.join(item[0],item[1])for item in locate('CSC2.lfp',animalPath)])\n",
    "lfpPaths"
   ]
  },
  {
   "cell_type": "code",
   "execution_count": 278,
   "metadata": {
    "collapsed": false
   },
   "outputs": [
    {
     "name": "stdout",
     "output_type": "stream",
     "text": [
      "[3602.944]\n",
      "[3602.944, 1801.216]\n",
      "[3602.944, 1801.216, 3614.464]\n"
     ]
    }
   ],
   "source": [
    "duration = []\n",
    "for pth in lfpPaths:\n",
    "    duration.append(pkl.load(open(pth,'rb')).time_parameters()[1]/1e3)\n",
    "    print duration"
   ]
  },
  {
   "cell_type": "code",
   "execution_count": 282,
   "metadata": {
    "collapsed": false
   },
   "outputs": [
    {
     "data": {
      "text/plain": [
       "(0.0027666619448969473, 0.0365199376726397)"
      ]
     },
     "execution_count": 282,
     "metadata": {},
     "output_type": "execute_result"
    }
   ],
   "source": [
    "10/ duration[2],132/ duration[2]"
   ]
  },
  {
   "cell_type": "code",
   "execution_count": 445,
   "metadata": {
    "collapsed": false
   },
   "outputs": [],
   "source": [
    "animalPath  = '/home/chenani/dataWork/ali/MECLesion_SleepData/Marta/Rat3839/'\n",
    "trajPaths = np.array(sorted([os.path.join(item[0],item[1])for item in locate('*.traj',animalPath)]))\n",
    "dataFolder = '/home/chenani/ownCloud/IpythonNotebooks/Sleep/MEC_Lesion_Project/control/Rat3839Control/dataFiles/'\n",
    "ltPaths = np.array(sorted([os.path.join(item[0],item[1])for item in locate('linearTrack*.db',dataFolder)]))"
   ]
  },
  {
   "cell_type": "code",
   "execution_count": 449,
   "metadata": {
    "collapsed": false
   },
   "outputs": [],
   "source": [
    "restTime = []\n",
    "for pth in zip(ltPaths[2:],trajPaths[2:]):\n",
    "    db = pkl.load(open(pth[0]))\n",
    "    N = pkl.load(open(pth[1],'rb')).times.size\n",
    "    dd = pkl.load(open(pth[1],'rb')).t_stop - pkl.load(open(pth[1],'rb')).t_start\n",
    "    Nitp = np.arange(0,N,0.15).size\n",
    "    restTime.append(1.0*(Nitp-np.diff(db,axis=1)[:,0].sum())/Nitp*dd)\n",
    "    "
   ]
  },
  {
   "cell_type": "code",
   "execution_count": 24,
   "metadata": {
    "collapsed": false
   },
   "outputs": [
    {
     "data": {
      "text/plain": [
       "201119.24100000001"
      ]
     },
     "execution_count": 24,
     "metadata": {},
     "output_type": "execute_result"
    }
   ],
   "source": [
    "sldf[(sldf.session=='sleep01')&(sldf.epoch!='AWAKE')].t0.sum()"
   ]
  },
  {
   "cell_type": "code",
   "execution_count": 32,
   "metadata": {
    "collapsed": false
   },
   "outputs": [
    {
     "name": "stdout",
     "output_type": "stream",
     "text": [
      "PRE--DLT Nt= 0, Ns= 0 percentage= None --- Rt_del = 0.00, Rs_del = 0.000000\n"
     ]
    }
   ],
   "source": [
    "print 'PRE--DLT Nt= %0.0f, Ns= %0.0f percentage= %s --- Rt_del = %0.2f, Rs_del = %f'%(del_preC[0],del_preC[1],del_preC[2],(del_preC[0]/del_PRE_duration),(del_preC[1]/del_PRE_duration))"
   ]
  },
  {
   "cell_type": "code",
   "execution_count": 21,
   "metadata": {
    "collapsed": false
   },
   "outputs": [
    {
     "data": {
      "text/html": [
       "<div>\n",
       "<table border=\"1\" class=\"dataframe\">\n",
       "  <thead>\n",
       "    <tr style=\"text-align: right;\">\n",
       "      <th></th>\n",
       "      <th>ti</th>\n",
       "      <th>tf</th>\n",
       "      <th>tp</th>\n",
       "      <th>tSub</th>\n",
       "      <th>lSub</th>\n",
       "      <th>rSub</th>\n",
       "      <th>Lcorr</th>\n",
       "      <th>Rcorr</th>\n",
       "      <th>Lpv</th>\n",
       "      <th>Rpv</th>\n",
       "      <th>animal_ID</th>\n",
       "    </tr>\n",
       "  </thead>\n",
       "  <tbody>\n",
       "    <tr>\n",
       "      <th>2</th>\n",
       "      <td>5535877.0</td>\n",
       "      <td>5535988.0</td>\n",
       "      <td>5535932.0</td>\n",
       "      <td>5.0</td>\n",
       "      <td>4.0</td>\n",
       "      <td>4.0</td>\n",
       "      <td>-0.2</td>\n",
       "      <td>0.6</td>\n",
       "      <td>1.0</td>\n",
       "      <td>1.0</td>\n",
       "      <td>3837.0</td>\n",
       "    </tr>\n",
       "  </tbody>\n",
       "</table>\n",
       "</div>"
      ],
      "text/plain": [
       "          ti         tf         tp  tSub  lSub  rSub  Lcorr  Rcorr  Lpv  Rpv  \\\n",
       "2  5535877.0  5535988.0  5535932.0   5.0   4.0   4.0   -0.2    0.6  1.0  1.0   \n",
       "\n",
       "   animal_ID  \n",
       "2     3837.0  "
      ]
     },
     "execution_count": 21,
     "metadata": {},
     "output_type": "execute_result"
    }
   ],
   "source": [
    "dfg = pd.read_pickle(awROs[2])\n",
    "dfg[(dfg.lSub>3)|(dfg.rSub>3)]"
   ]
  },
  {
   "cell_type": "code",
   "execution_count": null,
   "metadata": {
    "collapsed": true
   },
   "outputs": [],
   "source": []
  }
 ],
 "metadata": {
  "kernelspec": {
   "display_name": "Python 2",
   "language": "python",
   "name": "python2"
  },
  "language_info": {
   "codemirror_mode": {
    "name": "ipython",
    "version": 2
   },
   "file_extension": ".py",
   "mimetype": "text/x-python",
   "name": "python",
   "nbconvert_exporter": "python",
   "pygments_lexer": "ipython2",
   "version": "2.7.12"
  }
 },
 "nbformat": 4,
 "nbformat_minor": 0
}
