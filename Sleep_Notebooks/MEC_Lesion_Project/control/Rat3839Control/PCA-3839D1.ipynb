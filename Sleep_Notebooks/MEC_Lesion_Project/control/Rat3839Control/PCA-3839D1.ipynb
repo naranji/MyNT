{
 "cells": [
  {
   "cell_type": "code",
   "execution_count": 1,
   "metadata": {
    "collapsed": false
   },
   "outputs": [
    {
     "data": {
      "text/html": [
       "<style>.container { width:90% !important; }</style>"
      ],
      "text/plain": [
       "<IPython.core.display.HTML object>"
      ]
     },
     "metadata": {},
     "output_type": "display_data"
    }
   ],
   "source": [
    "from IPython.core.display import display, HTML\n",
    "display(HTML(\"<style>.container { width:90% !important; }</style>\"))\n",
    "import sys\n",
    "sys.path.append('/home/chenani/ownCloud/Workspaces/Eclipse/dataAnalysis/Sleep-current/src/')"
   ]
  },
  {
   "cell_type": "code",
   "execution_count": 2,
   "metadata": {
    "collapsed": false
   },
   "outputs": [
    {
     "name": "stderr",
     "output_type": "stream",
     "text": [
      "/home/chenani/anaconda/lib/python2.7/site-packages/matplotlib/__init__.py:1350: UserWarning:  This call to matplotlib.use() has no effect\n",
      "because the backend has already been chosen;\n",
      "matplotlib.use() must be called *before* pylab, matplotlib.pyplot,\n",
      "or matplotlib.backends is imported for the first time.\n",
      "\n",
      "  warnings.warn(_use_error_msg)\n",
      "/home/chenani/anaconda/lib/python2.7/site-packages/IPython/html.py:14: ShimWarning: The `IPython.html` package has been deprecated. You should import from `notebook` instead. `IPython.html.widgets` has moved to `ipywidgets`.\n",
      "  \"`IPython.html.widgets` has moved to `ipywidgets`.\", ShimWarning)\n"
     ]
    }
   ],
   "source": [
    "%matplotlib inline\n",
    "%load_ext autoreload\n",
    "%autoreload 2\n",
    "import numpy as np\n",
    "import matplotlib.pyplot as pl\n",
    "import pickle as pkl\n",
    "import Recordings\n",
    "import signale,trajectory\n",
    "import extras.trees\n",
    "import os,sys\n",
    "import fnmatch\n",
    "import colormaps as cmaps\n",
    "import seaborn as sns\n",
    "import scipy.signal as scsig"
   ]
  },
  {
   "cell_type": "code",
   "execution_count": 13,
   "metadata": {
    "collapsed": false
   },
   "outputs": [],
   "source": [
    "def locate(pattern, root=os.curdir):\n",
    "    '''\n",
    "    Locate all files matching supplied filename pattern in and below\n",
    "        supplied root directory.\n",
    "    Parameters\n",
    "    ----------\n",
    "        pattern : string\n",
    "            A string representing pattern you want to look for in the path.\n",
    "        root : string\n",
    "            contains the path address you want to look trough!\n",
    "    Returns\n",
    "    ----------\n",
    "        Array of strings consist of two column, first contains the path and second the file names that matched \n",
    "        the desired pattern.\n",
    "    '''\n",
    "    for path, dirs, files in os.walk(os.path.abspath(root)):\n",
    "        for filename in fnmatch.filter(files, pattern):\n",
    "            yield [path,filename]\n",
    "\n",
    "def nvt_loader(filename):\n",
    "    \"\"\" \n",
    "    Memory map the Neuralynx .nvt format\n",
    "    Fields\n",
    "    -------\n",
    "    swstx\n",
    "    swid\n",
    "    sw_data_size\n",
    "    qTimeStamps       Cheetah timestamp for this record. This value is in microseconds.\n",
    "    dwpoints          Points with the color bitfield values for this record.This is a 400\n",
    "                      element array.  See Video Tracker in reference. \n",
    "    sncrc\n",
    "    dnextracted_x     Extracted X location of the target being tracked. \n",
    "    dnextracted_y     Extracted Y location of the target being tracked.\n",
    "    dnextracted_angle The calculated head angle in degrees clockwise from the positive Y\n",
    "                      axis. Zero will be assigned if angle tracking is disabled.\n",
    "    dnTargets         Colored targets using the samebitfield format used by the dwPoints array.\n",
    "                      Instead of transitions, the bitfield indicates the colors that make up \n",
    "                      each particular target and the center point of that target.  This is a 50\n",
    "                      element array sorted by size from largest (index 0) to smallest(index 49).\n",
    "                      A target value of 0 means that no target is present in thatindex location.\n",
    "                      See Video Tracker Bitfield Information in reference. \n",
    "    \n",
    "    Reference:\n",
    "    ----------\n",
    "        http://neuralynx.com/software/NeuralynxDataFileFormats.pdf\n",
    "    \"\"\" \n",
    "    nev_dtype = np.dtype([\n",
    "        ('swstx'              , '<i2'),\n",
    "        ('swid'               , '<i2'),\n",
    "        ('sw_data_size'       , '<i2'),\n",
    "        ('qTimeStamps'        , '<u8'),\n",
    "        ('dwPoints'           , '<u4',(400,)),\n",
    "        ('sncrc'              , '<i2'),\n",
    "        ('dnextracted_x'      , '<i4'),\n",
    "        ('dnextracted_y'      , '<i4'),\n",
    "        ('dnextracted_angle'  , '<i4'),\n",
    "        ('dnTargets'          , '<i4',(50,)),\n",
    "    ])\n",
    "    return np.memmap(filename, dtype=nev_dtype, mode='readwrite',\n",
    "       offset=(16 * 2**10))\n",
    "def nev_loader(filename):\n",
    "    \"\"\" Memory map the Neuralynx .nev format \"\"\" \n",
    "    nev_dtype = np.dtype([\n",
    "        ('nstx'           , '<i2'),\n",
    "        ('npkt_id'        , '<i2'),\n",
    "        ('npkt_data_size' , '<i2'),\n",
    "        ('qTimeStamps'    , '<u8'),\n",
    "        ('nevent_id'      , '<i2'),\n",
    "        ('nttl'           , '<i2'),\n",
    "        ('ncrc'           , '<i2'),\n",
    "        ('ndummy1'        , '<i2'),\n",
    "        ('ndummy2'        , '<i2'),\n",
    "        ('dnExtra'        , '<i4',(8,)),\n",
    "        ('String'         , '<S128')\n",
    "    ])\n",
    "    return np.memmap(filename, dtype=nev_dtype, mode='r',\n",
    "       offset=(16 * 2**10))\n",
    "###################################################### initialization\n",
    "###################################################### Parameters\n",
    "expType = 'real'\n",
    "prefix = 'TT'\n",
    "suffix = ''\n",
    "noSpeck = False\n",
    "onlyRunning = True\n",
    "showHeadDir = False\n",
    "saveFigs = True\n",
    "useRecommended = False\n",
    "TTName = '.t'\n",
    "\n",
    "# initialize in order to make them available globally\n",
    "spikes=[]\n",
    "ID=-1\n",
    "stList=signale.spikezugList(t_start=None, t_stop=None, dims=[2])\n",
    "eventData = None\n",
    "\n",
    "cwd=os.getcwd()\n",
    "\n",
    "\n",
    "###################################################### functions\n",
    "\n",
    "def getData(folderName):\n",
    "    global spikes, ID, eventData\n",
    "\n",
    "    if os.path.isdir(folderName):\n",
    "        dirList=os.listdir(folderName)\n",
    "        os.chdir(folderName)\n",
    "    else:\n",
    "        dirList = [folderName]\n",
    "    for item in sorted(dirList):\n",
    "        if os.path.isfile(item):\n",
    "            if (TTName.__class__ == list and item in TTName) or\\\n",
    "                    (TTName.__class__ == str and item.endswith(suffix+'.t') and item.startswith(prefix)):\n",
    "                print 'loading', item , 'from folder: '+'/'.join(folderName.split('/')[-3:])\n",
    "                spikes = signale.load_tFile(item, showHeader=False)\n",
    "                ID += 1\n",
    "                stList.__setitem__(ID, spikes)\n",
    "                stList.addTags(ID, file=item, dir=folderName)\n",
    "            \n",
    "        elif os.path.isdir(item):\n",
    "            getData(item)\n",
    "    os.chdir('..')\n"
   ]
  },
  {
   "cell_type": "code",
   "execution_count": 14,
   "metadata": {
    "collapsed": true
   },
   "outputs": [],
   "source": [
    "WorkPath = '/home/chenani/ownCloud/IpythonNotebooks/Sleep/MEC_Lesion_Project/PCA_MEC/'\n",
    "experimentFolder = '/home/chenani/dataWork/ali/MECLesion_SleepData/Marta/Rat3839/LinearTrack_12-21-15_Day1/'\n",
    "parrentFolder = experimentFolder + 'parrentData/'"
   ]
  },
  {
   "cell_type": "code",
   "execution_count": 15,
   "metadata": {
    "collapsed": false,
    "scrolled": true
   },
   "outputs": [
    {
     "name": "stdout",
     "output_type": "stream",
     "text": [
      "loading TT10_01.t from folder: LinearTrack_12-21-15_Day1/parrentData/\n",
      "loading TT3_01.t from folder: LinearTrack_12-21-15_Day1/parrentData/\n",
      "loading TT4_01.t from folder: LinearTrack_12-21-15_Day1/parrentData/\n",
      "loading TT4_04.t from folder: LinearTrack_12-21-15_Day1/parrentData/\n",
      "loading TT4_05.t from folder: LinearTrack_12-21-15_Day1/parrentData/\n",
      "loading TT4_06.t from folder: LinearTrack_12-21-15_Day1/parrentData/\n",
      "loading TT4_07.t from folder: LinearTrack_12-21-15_Day1/parrentData/\n",
      "loading TT4_08.t from folder: LinearTrack_12-21-15_Day1/parrentData/\n",
      "loading TT4_09.t from folder: LinearTrack_12-21-15_Day1/parrentData/\n",
      "loading TT5_03.t from folder: LinearTrack_12-21-15_Day1/parrentData/\n"
     ]
    }
   ],
   "source": [
    "getData(parrentFolder)\n",
    "lfpList = sorted([os.path.join(item[0],item[1]) for item in locate('*CSC2*.lfp',experimentFolder)])\n",
    "lfpPRE,lfpTRACK,lfpPOST =[pkl.load(open(lfpFile,'rb')) for lfpFile in lfpList]\n",
    "for lfp in [lfpPRE,lfpTRACK,lfpPOST]:\n",
    "    lfp.filter(5,10)"
   ]
  },
  {
   "cell_type": "code",
   "execution_count": 16,
   "metadata": {
    "collapsed": false
   },
   "outputs": [],
   "source": [
    "pre,track,post  = [stList.time_slice(lfp.timeAxis[0],lfp.timeAxis[-1]) for lfp in [lfpPRE,lfpTRACK,lfpPOST]]\n",
    "ExperimentSessions = [pre,track,post]\n",
    "\n",
    "nulIdx1 = np.where((np.array([item.spike_times.size for item in pre])==0))[0]\n",
    "nulIdx2 = np.where((np.array([item.spike_times.size for item in track])==0))[0]\n",
    "nulIdx3 = np.where((np.array([item.spike_times.size for item in post])==0))[0]\n",
    "nullList= np.union1d(np.union1d(nulIdx1,nulIdx2),nulIdx3)\n",
    "for null in nullList:\n",
    "    print stList.tags[null]"
   ]
  },
  {
   "cell_type": "code",
   "execution_count": 17,
   "metadata": {
    "collapsed": false
   },
   "outputs": [
    {
     "data": {
      "text/plain": [
       "25.0"
      ]
     },
     "execution_count": 17,
     "metadata": {},
     "output_type": "execute_result"
    }
   ],
   "source": [
    "thetaTimeBinEdges = []\n",
    "for lfp in [lfpPRE,lfpTRACK,lfpPOST]:\n",
    "    thetaTimeBinEdges.append(lfp.timeAxis[scsig.argrelmax(lfp.signal_filtered)[0]])\n",
    "tInterp = []\n",
    "for item in thetaTimeBinEdges:\n",
    "    t = item\n",
    "    It = np.arange(0,t.size)\n",
    "    Itp = np.arange(0,t.size,0.25)\n",
    "    tInterp.append(np.interp(Itp,It,t)) #interpolated times\n",
    "1e2*thetaTimeBinEdges[2].size/tInterp[2].size"
   ]
  },
  {
   "cell_type": "code",
   "execution_count": 26,
   "metadata": {
    "collapsed": false
   },
   "outputs": [
    {
     "name": "stdout",
     "output_type": "stream",
     "text": [
      "0\n",
      "bin edges are caclulated with width 25 ms\n",
      "1\n",
      "bin edges are caclulated with width 25 ms\n",
      "2\n",
      "bin edges are caclulated with width 25 ms\n",
      "0\n",
      "time bin edges are proovided by user.\n",
      "1\n",
      "time bin edges are proovided by user.\n",
      "2\n",
      "time bin edges are proovided by user.\n"
     ]
    }
   ],
   "source": [
    "#####PCA with fixed time bins of width 100 ms\n",
    "corrMatrices = []\n",
    "Qs = []\n",
    "eigVals = []\n",
    "eigVecs = []\n",
    "Ps = []\n",
    "for ii,item in enumerate(ExperimentSessions):\n",
    "    print ii\n",
    "    Q,C,l,V,P = item.PCA(25)\n",
    "    corrMatrices.append(C)\n",
    "    Qs.append(Q)\n",
    "    eigVals.append(l)\n",
    "    eigVecs.append(V)\n",
    "    Ps.append(P)\n",
    "#####PCA with time bins defined by theta periods\n",
    "ThetaCorrMatrices = []\n",
    "ThetaQs = []\n",
    "ThetaEigVals = []\n",
    "ThetaEigVecs = []\n",
    "ThetaPs = []\n",
    "for ii,item in enumerate(ExperimentSessions):\n",
    "    print ii\n",
    "    Q,C,l,V,P = item.PCA(bins=tInterp[ii])\n",
    "    ThetaCorrMatrices.append(C)\n",
    "    ThetaQs.append(Q)\n",
    "    ThetaEigVals.append(l)\n",
    "    ThetaEigVecs.append(V)\n",
    "    ThetaPs.append(P)"
   ]
  },
  {
   "cell_type": "code",
   "execution_count": 27,
   "metadata": {
    "collapsed": false
   },
   "outputs": [
    {
     "name": "stdout",
     "output_type": "stream",
     "text": [
      "[1.0052085405997655, 1.0079268435769348, 1.0051110969029857] [0.9948049886369149, 0.9921044499406131, 0.9949019314793451] 0.215443469036\n"
     ]
    }
   ],
   "source": [
    "N = stList.id_list.size*1.0\n",
    "lMax = []\n",
    "lMin = []\n",
    "TlMax = []\n",
    "TlMin = []\n",
    "for q,Tq in zip(Qs,ThetaQs):\n",
    "    lMax.append(np.math.pow(1 + np.math.sqrt(N/q.size),2))\n",
    "    lMin.append(np.math.pow(1 - np.math.sqrt(N/q.size),2))\n",
    "    TlMax.append(np.math.pow(1 + np.math.sqrt(N/Tq.size),2))\n",
    "    TlMin.append(np.math.pow(1 - np.math.sqrt(N/Tq.size),2))\n",
    "TW_limit =  np.math.pow(N,-0.6666666666)\n",
    "print lMax,lMin,TW_limit"
   ]
  },
  {
   "cell_type": "code",
   "execution_count": 28,
   "metadata": {
    "collapsed": false
   },
   "outputs": [
    {
     "data": {
      "image/png": "[encoded data removed]",
      "text/plain": [
       "<matplotlib.figure.Figure at 0x7fad5d2abfd0>"
      ]
     },
     "metadata": {},
     "output_type": "display_data"
    }
   ],
   "source": [
    "N = int(N)\n",
    "sns.set_style('white')\n",
    "f,axarr = pl.subplots(2,3,figsize=[15,10],sharex=True,sharey=True)\n",
    "im1 = axarr[0,0].pcolor(corrMatrices[0] - np.identity(N),cmap='inferno_r');\n",
    "im2 = axarr[0,1].pcolor(corrMatrices[1] - np.identity(N),cmap='inferno_r');\n",
    "im3 = axarr[0,2].pcolor(corrMatrices[2] - np.identity(N),cmap='inferno_r');\n",
    "im4 = axarr[1,0].pcolor(ThetaCorrMatrices[0] - np.identity(N),cmap='inferno_r');\n",
    "im5 = axarr[1,1].pcolor(ThetaCorrMatrices[1] - np.identity(N),cmap='inferno_r');\n",
    "im6 = axarr[1,2].pcolor(ThetaCorrMatrices[2] - np.identity(N),cmap='inferno_r')\n",
    "\n",
    "axarr[0,0].set_xlim([0,N])\n",
    "axarr[0,0].set_ylim([0,N])\n",
    "#ax2.set_title('LinearTrack')\n",
    "#ax3.set_title('Sleep POST')\n",
    "#pl.colorbar(im3);\n",
    "pl.tight_layout()"
   ]
  },
  {
   "cell_type": "code",
   "execution_count": 29,
   "metadata": {
    "collapsed": false,
    "scrolled": false
   },
   "outputs": [
    {
     "data": {
      "text/plain": [
       "\"\\nax1.set_ylabel('EigVals',fontsize=22)\\n#ax1.set_xlabel('#',fontsize=12)\\nax2.set_ylabel('')\\n#ax2.set_xlabel('#',fontsize=12)\\n#ax3.set_ylabel('')\\nax3.set_xlabel('#',fontsize=12)\\nax1.set_xticks([5,40,70])\\nax2.set_xticks([5,40,70])\\nax3.set_xticks([5,40,70])\\n#ax1.set_title('Sleep PRE')\\n#ax2.set_title('LinearTrack')\\n#ax3.set_title('Sleep POST')\\nax2.yaxis.label.set_color('white')\\nax2.tick_params(axis='y', colors='white')\\nax3.yaxis.label.set_color('white')\\nax3.tick_params(axis='y', colors='white')\\nf.savefig('/home/chenani/Pictures/BCCN-poster/EigVals.svg',transparent=True)\\n\""
      ]
     },
     "execution_count": 29,
     "metadata": {},
     "output_type": "execute_result"
    },
    {
     "data": {
      "image/png": "[encoded data removed]",
      "text/plain": [
       "<matplotlib.figure.Figure at 0x7fad5cb79090>"
      ]
     },
     "metadata": {},
     "output_type": "display_data"
    }
   ],
   "source": [
    "f,axarr = pl.subplots(2,3,figsize=[10,7],sharey=True)\n",
    "axarr[0,0].scatter(range(eigVals[0].size),eigVals[0],s=75)\n",
    "axarr[0,0].axhline(lMax[0]+TW_limit,color = 'r',linestyle='--')\n",
    "axarr[0,1].scatter(range(eigVals[1].size),eigVals[1],s=75)\n",
    "axarr[0,1].axhline(lMax[1]+TW_limit,color = 'r',linestyle='--')\n",
    "axarr[0,2].scatter(range(eigVals[2].size),eigVals[2],s=75)\n",
    "axarr[0,2].axhline(lMax[2]+TW_limit,color = 'r',linestyle='--')\n",
    "############\n",
    "axarr[1,0].scatter(range(ThetaEigVals[0].size),ThetaEigVals[0],s=75)\n",
    "axarr[1,0].axhline(TlMax[0]+TW_limit,color = 'r',linestyle='--')\n",
    "axarr[1,1].scatter(range(eigVals[1].size),ThetaEigVals[1],s=75)\n",
    "axarr[1,1].axhline(TlMax[1]+TW_limit,color = 'r',linestyle='--')\n",
    "axarr[1,2].scatter(range(eigVals[2].size),ThetaEigVals[2],s=75)\n",
    "axarr[1,2].axhline(TlMax[2]+TW_limit,color = 'r',linestyle='--')\n",
    "axarr[1,0].set_ylabel('EigVals PRE')\n",
    "'''\n",
    "ax1.set_ylabel('EigVals',fontsize=22)\n",
    "#ax1.set_xlabel('#',fontsize=12)\n",
    "ax2.set_ylabel('')\n",
    "#ax2.set_xlabel('#',fontsize=12)\n",
    "#ax3.set_ylabel('')\n",
    "ax3.set_xlabel('#',fontsize=12)\n",
    "ax1.set_xticks([5,40,70])\n",
    "ax2.set_xticks([5,40,70])\n",
    "ax3.set_xticks([5,40,70])\n",
    "#ax1.set_title('Sleep PRE')\n",
    "#ax2.set_title('LinearTrack')\n",
    "#ax3.set_title('Sleep POST')\n",
    "ax2.yaxis.label.set_color('white')\n",
    "ax2.tick_params(axis='y', colors='white')\n",
    "ax3.yaxis.label.set_color('white')\n",
    "ax3.tick_params(axis='y', colors='white')\n",
    "f.savefig('/home/chenani/Pictures/BCCN-poster/EigVals.svg',transparent=True)\n",
    "'''"
   ]
  },
  {
   "cell_type": "code",
   "execution_count": 30,
   "metadata": {
    "collapsed": false
   },
   "outputs": [],
   "source": [
    "Gamma = []\n",
    "TGamma = []\n",
    "for ii in range(3):\n",
    "    G = []\n",
    "    TG = []\n",
    "    for jj in range(int(N)):\n",
    "        G.append(eigVecs[1][jj].T.dot(corrMatrices[ii]).dot(eigVecs[1][jj]))\n",
    "        TG.append(ThetaEigVecs[1][jj].T.dot(ThetaCorrMatrices[ii]).dot(ThetaEigVecs[1][jj]))\n",
    "    Gamma.append(np.array(G))\n",
    "    TGamma.append(np.array(TG))"
   ]
  },
  {
   "cell_type": "code",
   "execution_count": 31,
   "metadata": {
    "collapsed": false
   },
   "outputs": [
    {
     "data": {
      "text/plain": [
       "(0.2154434690362602, (array([], dtype=int64),))"
      ]
     },
     "execution_count": 31,
     "metadata": {},
     "output_type": "execute_result"
    }
   ],
   "source": [
    "TW_limit,np.where(eigVals[2]>lMax[2]+TW_limit)"
   ]
  },
  {
   "cell_type": "code",
   "execution_count": 32,
   "metadata": {
    "collapsed": false
   },
   "outputs": [
    {
     "data": {
      "text/plain": [
       "<matplotlib.text.Text at 0x7fad5c55b110>"
      ]
     },
     "execution_count": 32,
     "metadata": {},
     "output_type": "execute_result"
    },
    {
     "data": {
      "image/png": "[encoded data removed]",
      "text/plain": [
       "<matplotlib.figure.Figure at 0x7fad5cc0a2d0>"
      ]
     },
     "metadata": {},
     "output_type": "display_data"
    }
   ],
   "source": [
    "sigN = 9\n",
    "f,(ax1,ax2,ax3) = pl.subplots(1,3,figsize=[30,10])\n",
    "ax1.scatter(eigVals[1][sigN:],Gamma[0][sigN:],s=100)\n",
    "ax1.scatter(ThetaEigVals[1][sigN:],TGamma[0][sigN:],c='r',s=100)\n",
    "ax2.scatter(eigVals[1][sigN:],Gamma[2][sigN:],s=100)\n",
    "ax2.scatter(ThetaEigVals[1][sigN:],TGamma[2][sigN:],c='r',s=100)\n",
    "ax3.scatter(Gamma[0][sigN:],Gamma[2][sigN:],s=100)\n",
    "ax3.scatter(TGamma[0][sigN:],TGamma[2][sigN:],c='r',s=100)\n",
    "ax3.plot([1,3.5],[1,3.5],'k--', lw=1)\n",
    "ax1.set_ylabel('Avg Reactivation PRE')\n",
    "ax1.set_xlabel('Signal EigVals LinearTrack')\n",
    "ax2.set_ylabel('Avg Reactivation POST')\n",
    "ax2.set_xlabel('Signal EigVals LinearTrack')\n",
    "ax3.set_ylabel('Avg Reactivation POST')\n",
    "ax3.set_xlabel('Avg Reactivation PRE')\n",
    "ax1.set_title('Sleep PRE')\n",
    "ax2.set_title('Sleep POST')\n",
    "ax3.set_title('PRE vs. POST')"
   ]
  },
  {
   "cell_type": "code",
   "execution_count": 23,
   "metadata": {
    "collapsed": false
   },
   "outputs": [],
   "source": []
  },
  {
   "cell_type": "code",
   "execution_count": null,
   "metadata": {
    "collapsed": false
   },
   "outputs": [],
   "source": []
  },
  {
   "cell_type": "code",
   "execution_count": null,
   "metadata": {
    "collapsed": true
   },
   "outputs": [],
   "source": []
  }
 ],
 "metadata": {
  "kernelspec": {
   "display_name": "Python 2",
   "language": "python",
   "name": "python2"
  },
  "language_info": {
   "codemirror_mode": {
    "name": "ipython",
    "version": 2
   },
   "file_extension": ".py",
   "mimetype": "text/x-python",
   "name": "python",
   "nbconvert_exporter": "python",
   "pygments_lexer": "ipython2",
   "version": "2.7.12"
  }
 },
 "nbformat": 4,
 "nbformat_minor": 0
}
