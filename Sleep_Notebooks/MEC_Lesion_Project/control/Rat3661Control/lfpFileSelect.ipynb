{
 "cells": [
  {
   "cell_type": "code",
   "execution_count": 2,
   "metadata": {
    "collapsed": false
   },
   "outputs": [
    {
     "name": "stdout",
     "output_type": "stream",
     "text": [
      "Using matplotlib backend: Qt4Agg\n"
     ]
    }
   ],
   "source": [
    "%matplotlib \n",
    "%load_ext autoreload\n",
    "%autoreload 2"
   ]
  },
  {
   "cell_type": "code",
   "execution_count": 1,
   "metadata": {
    "collapsed": true
   },
   "outputs": [],
   "source": [
    "import sys\n",
    "sys.path.append(\"/mnt/Data/Workspaces/Eclipse/dataAnalysis/Sleep-current/src/\")"
   ]
  },
  {
   "cell_type": "code",
   "execution_count": 2,
   "metadata": {
    "collapsed": false
   },
   "outputs": [
    {
     "name": "stderr",
     "output_type": "stream",
     "text": [
      "/home/chenani/anaconda/lib/python2.7/site-packages/matplotlib/__init__.py:872: UserWarning: axes.color_cycle is deprecated and replaced with axes.prop_cycle; please use the latter.\n",
      "  warnings.warn(self.msg_depr % (key, alt_key))\n"
     ]
    }
   ],
   "source": [
    "import signale\n",
    "import numpy as np\n",
    "import matplotlib.pyplot as pl\n",
    "import spectrum as sp\n",
    "import pickle as pkl\n",
    "import scipy.signal as scsig\n",
    "import pywt\n",
    "import colormaps as mycmps\n",
    "import signale.tools as tools\n",
    "import os\n",
    "import itertools\n",
    "import pandas as pd\n",
    "import statsmodels.api as sm\n",
    "import seaborn as sns"
   ]
  },
  {
   "cell_type": "code",
   "execution_count": 3,
   "metadata": {
    "collapsed": false
   },
   "outputs": [],
   "source": [
    "animalPath = '/home/chenani/dataWork/ali/MECLesion_SleepData/Marta/Rat3661/LinearTrack_03-03-15Day1/01-2015-03-03_11-33-58/'"
   ]
  },
  {
   "cell_type": "code",
   "execution_count": 4,
   "metadata": {
    "collapsed": false
   },
   "outputs": [
    {
     "data": {
      "text/plain": [
       "['/home/chenani/dataWork/ali/MECLesion_SleepData/Marta/Rat3661/LinearTrack_03-03-15Day1/01-2015-03-03_11-33-58/CSC01.lfp',\n",
       " '/home/chenani/dataWork/ali/MECLesion_SleepData/Marta/Rat3661/LinearTrack_03-03-15Day1/01-2015-03-03_11-33-58/CSC02.lfp',\n",
       " '/home/chenani/dataWork/ali/MECLesion_SleepData/Marta/Rat3661/LinearTrack_03-03-15Day1/01-2015-03-03_11-33-58/CSC03.lfp',\n",
       " '/home/chenani/dataWork/ali/MECLesion_SleepData/Marta/Rat3661/LinearTrack_03-03-15Day1/01-2015-03-03_11-33-58/CSC04.lfp',\n",
       " '/home/chenani/dataWork/ali/MECLesion_SleepData/Marta/Rat3661/LinearTrack_03-03-15Day1/01-2015-03-03_11-33-58/CSC05.lfp',\n",
       " '/home/chenani/dataWork/ali/MECLesion_SleepData/Marta/Rat3661/LinearTrack_03-03-15Day1/01-2015-03-03_11-33-58/CSC06-pre.lfp',\n",
       " '/home/chenani/dataWork/ali/MECLesion_SleepData/Marta/Rat3661/LinearTrack_03-03-15Day1/01-2015-03-03_11-33-58/CSC06.lfp',\n",
       " '/home/chenani/dataWork/ali/MECLesion_SleepData/Marta/Rat3661/LinearTrack_03-03-15Day1/01-2015-03-03_11-33-58/CSC07.lfp',\n",
       " '/home/chenani/dataWork/ali/MECLesion_SleepData/Marta/Rat3661/LinearTrack_03-03-15Day1/01-2015-03-03_11-33-58/CSC08.lfp',\n",
       " '/home/chenani/dataWork/ali/MECLesion_SleepData/Marta/Rat3661/LinearTrack_03-03-15Day1/01-2015-03-03_11-33-58/CSC09.lfp',\n",
       " '/home/chenani/dataWork/ali/MECLesion_SleepData/Marta/Rat3661/LinearTrack_03-03-15Day1/01-2015-03-03_11-33-58/CSC10.lfp',\n",
       " '/home/chenani/dataWork/ali/MECLesion_SleepData/Marta/Rat3661/LinearTrack_03-03-15Day1/01-2015-03-03_11-33-58/CSC11.lfp',\n",
       " '/home/chenani/dataWork/ali/MECLesion_SleepData/Marta/Rat3661/LinearTrack_03-03-15Day1/01-2015-03-03_11-33-58/CSC12.lfp',\n",
       " '/home/chenani/dataWork/ali/MECLesion_SleepData/Marta/Rat3661/LinearTrack_03-03-15Day1/01-2015-03-03_11-33-58/CSC13.lfp',\n",
       " '/home/chenani/dataWork/ali/MECLesion_SleepData/Marta/Rat3661/LinearTrack_03-03-15Day1/01-2015-03-03_11-33-58/CSC14.lfp',\n",
       " '/home/chenani/dataWork/ali/MECLesion_SleepData/Marta/Rat3661/LinearTrack_03-03-15Day1/01-2015-03-03_11-33-58/CSC15.lfp',\n",
       " '/home/chenani/dataWork/ali/MECLesion_SleepData/Marta/Rat3661/LinearTrack_03-03-15Day1/01-2015-03-03_11-33-58/CSC16.lfp']"
      ]
     },
     "execution_count": 4,
     "metadata": {},
     "output_type": "execute_result"
    }
   ],
   "source": [
    "lfpPaths = []\n",
    "for lfp in tools.locate('*.lfp',animalPath):\n",
    "    lfpPaths.append(os.path.join(lfp[0],lfp[1]))\n",
    "lfpPaths = sorted(lfpPaths)\n",
    "[ path for path in lfpPaths if (path.find('leep')>0 and path.find('CS')>0) ]\n"
   ]
  },
  {
   "cell_type": "code",
   "execution_count": 5,
   "metadata": {
    "collapsed": false
   },
   "outputs": [],
   "source": [
    "lfps =[]\n",
    "for item in lfpPaths:\n",
    "    try:\n",
    "        lfps.append(pkl.load(open(item,'rb')))\n",
    "    except ValueError:\n",
    "        print  \"%s is broken or contains no data!\" %(item.split('/')[-1])"
   ]
  },
  {
   "cell_type": "code",
   "execution_count": 6,
   "metadata": {
    "collapsed": false
   },
   "outputs": [
    {
     "name": "stdout",
     "output_type": "stream",
     "text": [
      "/home/chenani/dataWork/ali/MECLesion_SleepData/Marta/Rat3661/LinearTrack_03-03-15Day1/01-2015-03-03_11-33-58/CSC01.lfp\n",
      "/home/chenani/dataWork/ali/MECLesion_SleepData/Marta/Rat3661/LinearTrack_03-03-15Day1/01-2015-03-03_11-33-58/CSC02.lfp\n",
      "/home/chenani/dataWork/ali/MECLesion_SleepData/Marta/Rat3661/LinearTrack_03-03-15Day1/01-2015-03-03_11-33-58/CSC03.lfp\n",
      "/home/chenani/dataWork/ali/MECLesion_SleepData/Marta/Rat3661/LinearTrack_03-03-15Day1/01-2015-03-03_11-33-58/CSC04.lfp\n",
      "/home/chenani/dataWork/ali/MECLesion_SleepData/Marta/Rat3661/LinearTrack_03-03-15Day1/01-2015-03-03_11-33-58/CSC05.lfp\n",
      "/home/chenani/dataWork/ali/MECLesion_SleepData/Marta/Rat3661/LinearTrack_03-03-15Day1/01-2015-03-03_11-33-58/CSC06-pre.lfp\n",
      "/home/chenani/dataWork/ali/MECLesion_SleepData/Marta/Rat3661/LinearTrack_03-03-15Day1/01-2015-03-03_11-33-58/CSC06.lfp\n",
      "/home/chenani/dataWork/ali/MECLesion_SleepData/Marta/Rat3661/LinearTrack_03-03-15Day1/01-2015-03-03_11-33-58/CSC07.lfp\n",
      "/home/chenani/dataWork/ali/MECLesion_SleepData/Marta/Rat3661/LinearTrack_03-03-15Day1/01-2015-03-03_11-33-58/CSC08.lfp\n",
      "/home/chenani/dataWork/ali/MECLesion_SleepData/Marta/Rat3661/LinearTrack_03-03-15Day1/01-2015-03-03_11-33-58/CSC09.lfp\n",
      "/home/chenani/dataWork/ali/MECLesion_SleepData/Marta/Rat3661/LinearTrack_03-03-15Day1/01-2015-03-03_11-33-58/CSC10.lfp\n",
      "/home/chenani/dataWork/ali/MECLesion_SleepData/Marta/Rat3661/LinearTrack_03-03-15Day1/01-2015-03-03_11-33-58/CSC11.lfp\n",
      "/home/chenani/dataWork/ali/MECLesion_SleepData/Marta/Rat3661/LinearTrack_03-03-15Day1/01-2015-03-03_11-33-58/CSC12.lfp\n",
      "/home/chenani/dataWork/ali/MECLesion_SleepData/Marta/Rat3661/LinearTrack_03-03-15Day1/01-2015-03-03_11-33-58/CSC13.lfp\n",
      "/home/chenani/dataWork/ali/MECLesion_SleepData/Marta/Rat3661/LinearTrack_03-03-15Day1/01-2015-03-03_11-33-58/CSC14.lfp\n",
      "/home/chenani/dataWork/ali/MECLesion_SleepData/Marta/Rat3661/LinearTrack_03-03-15Day1/01-2015-03-03_11-33-58/CSC15.lfp\n",
      "/home/chenani/dataWork/ali/MECLesion_SleepData/Marta/Rat3661/LinearTrack_03-03-15Day1/01-2015-03-03_11-33-58/CSC16.lfp\n",
      "/home/chenani/dataWork/ali/MECLesion_SleepData/Marta/Rat3661/LinearTrack_03-03-15Day1/01-2015-03-03_11-33-58/CSC01.lfp\n",
      "/home/chenani/dataWork/ali/MECLesion_SleepData/Marta/Rat3661/LinearTrack_03-03-15Day1/01-2015-03-03_11-33-58/CSC02.lfp\n",
      "/home/chenani/dataWork/ali/MECLesion_SleepData/Marta/Rat3661/LinearTrack_03-03-15Day1/01-2015-03-03_11-33-58/CSC03.lfp\n",
      "/home/chenani/dataWork/ali/MECLesion_SleepData/Marta/Rat3661/LinearTrack_03-03-15Day1/01-2015-03-03_11-33-58/CSC04.lfp\n",
      "/home/chenani/dataWork/ali/MECLesion_SleepData/Marta/Rat3661/LinearTrack_03-03-15Day1/01-2015-03-03_11-33-58/CSC05.lfp\n",
      "/home/chenani/dataWork/ali/MECLesion_SleepData/Marta/Rat3661/LinearTrack_03-03-15Day1/01-2015-03-03_11-33-58/CSC06-pre.lfp\n",
      "/home/chenani/dataWork/ali/MECLesion_SleepData/Marta/Rat3661/LinearTrack_03-03-15Day1/01-2015-03-03_11-33-58/CSC06.lfp\n",
      "/home/chenani/dataWork/ali/MECLesion_SleepData/Marta/Rat3661/LinearTrack_03-03-15Day1/01-2015-03-03_11-33-58/CSC07.lfp\n",
      "/home/chenani/dataWork/ali/MECLesion_SleepData/Marta/Rat3661/LinearTrack_03-03-15Day1/01-2015-03-03_11-33-58/CSC08.lfp\n",
      "/home/chenani/dataWork/ali/MECLesion_SleepData/Marta/Rat3661/LinearTrack_03-03-15Day1/01-2015-03-03_11-33-58/CSC09.lfp\n",
      "/home/chenani/dataWork/ali/MECLesion_SleepData/Marta/Rat3661/LinearTrack_03-03-15Day1/01-2015-03-03_11-33-58/CSC10.lfp\n",
      "/home/chenani/dataWork/ali/MECLesion_SleepData/Marta/Rat3661/LinearTrack_03-03-15Day1/01-2015-03-03_11-33-58/CSC11.lfp\n",
      "/home/chenani/dataWork/ali/MECLesion_SleepData/Marta/Rat3661/LinearTrack_03-03-15Day1/01-2015-03-03_11-33-58/CSC12.lfp\n",
      "/home/chenani/dataWork/ali/MECLesion_SleepData/Marta/Rat3661/LinearTrack_03-03-15Day1/01-2015-03-03_11-33-58/CSC13.lfp\n",
      "/home/chenani/dataWork/ali/MECLesion_SleepData/Marta/Rat3661/LinearTrack_03-03-15Day1/01-2015-03-03_11-33-58/CSC14.lfp\n",
      "/home/chenani/dataWork/ali/MECLesion_SleepData/Marta/Rat3661/LinearTrack_03-03-15Day1/01-2015-03-03_11-33-58/CSC15.lfp\n",
      "/home/chenani/dataWork/ali/MECLesion_SleepData/Marta/Rat3661/LinearTrack_03-03-15Day1/01-2015-03-03_11-33-58/CSC16.lfp\n"
     ]
    }
   ],
   "source": [
    "Nlfp = len(lfpPaths[:])\n",
    "f,ax = pl.subplots((Nlfp/4)+1,4,sharex=True,sharey=False)\n",
    "for pp, path in enumerate(lfpPaths[:]):\n",
    "    ax[pp/4,np.mod(pp,4)].axvspan(150,225,alpha = 0.5,color='g')\n",
    "    print path\n",
    "    lfp = lfps[pp]\n",
    "    dsig = scsig.decimate(lfp.signal_white,2)\n",
    "    p = sp.Periodogram(dsig,sampling=1000,NFFT=2**14)\n",
    "    p()\n",
    "    ax[pp/4,np.mod(pp,4)].plot(p.frequencies(),40*p.psd,alpha=0.75,)\n",
    "    ax[pp/4,np.mod(pp,4)].plot(p.frequencies(),np.convolve(p.psd,scsig.gaussian(p.psd.size/50,p.psd.size/100),'same'),c='m')\n",
    "    for fff in range(0,300,50):\n",
    "        ax[pp/4,np.mod(pp,4)].axvline(fff,c='r')\n",
    "    ax[pp/4,np.mod(pp,4)].legend([lfp.tags['file'].split('/')[-1],'6',lfp.tags['channel']])\n",
    "    ax[pp/4,np.mod(pp,4)].set_xlim(0,300)\n",
    "f,ax = pl.subplots((Nlfp/4)+1,4,sharex=True,sharey=False)\n",
    "for pp, path in enumerate(lfpPaths[:]):\n",
    "    print path\n",
    "    lfp = lfps[pp]\n",
    "    dsig = scsig.decimate(lfp.signal,2)\n",
    "    ax[pp/4,np.mod(pp,4)].plot(dsig,lw=1,label =lfp.tags['file'].split('/')[-1])\n",
    "    ax[pp/4,np.mod(pp,4)].legend() "
   ]
  },
  {
   "cell_type": "code",
   "execution_count": null,
   "metadata": {
    "collapsed": false
   },
   "outputs": [],
   "source": []
  },
  {
   "cell_type": "code",
   "execution_count": 30,
   "metadata": {
    "collapsed": false
   },
   "outputs": [],
   "source": [
    "nn =8\n",
    "pkl.dump(lfps[nn],open(lfps[nn].tags['file'].split('.')[0]+'-post.lfp','wb'),pkl.HIGHEST_PROTOCOL)"
   ]
  },
  {
   "cell_type": "code",
   "execution_count": null,
   "metadata": {
    "collapsed": false
   },
   "outputs": [],
   "source": []
  },
  {
   "cell_type": "code",
   "execution_count": null,
   "metadata": {
    "collapsed": false
   },
   "outputs": [],
   "source": []
  },
  {
   "cell_type": "code",
   "execution_count": null,
   "metadata": {
    "collapsed": true
   },
   "outputs": [],
   "source": []
  }
 ],
 "metadata": {
  "kernelspec": {
   "display_name": "Python 2",
   "language": "python",
   "name": "python2"
  },
  "language_info": {
   "codemirror_mode": {
    "name": "ipython",
    "version": 2
   },
   "file_extension": ".py",
   "mimetype": "text/x-python",
   "name": "python",
   "nbconvert_exporter": "python",
   "pygments_lexer": "ipython2",
   "version": "2.7.11"
  }
 },
 "nbformat": 4,
 "nbformat_minor": 0
}
