{
 "cells": [
  {
   "cell_type": "code",
   "execution_count": 1,
   "metadata": {
    "collapsed": false
   },
   "outputs": [
    {
     "name": "stdout",
     "output_type": "stream",
     "text": [
      "/mnt/Data/Scripts/Sleep-Oct14/src\n"
     ]
    }
   ],
   "source": [
    "cd /mnt/Data/Scripts/Sleep-Oct14/src/"
   ]
  },
  {
   "cell_type": "code",
   "execution_count": 2,
   "metadata": {
    "collapsed": false
   },
   "outputs": [
    {
     "name": "stdout",
     "output_type": "stream",
     "text": [
      "Using matplotlib backend: Qt4Agg\n"
     ]
    },
    {
     "name": "stderr",
     "output_type": "stream",
     "text": [
      "/home/chenani/anaconda/lib/python2.7/site-packages/matplotlib/__init__.py:1318: UserWarning:  This call to matplotlib.use() has no effect\n",
      "because the backend has already been chosen;\n",
      "matplotlib.use() must be called *before* pylab, matplotlib.pyplot,\n",
      "or matplotlib.backends is imported for the first time.\n",
      "\n",
      "  warnings.warn(_use_error_msg)\n"
     ]
    }
   ],
   "source": [
    "%matplotlib \n",
    "%load_ext autoreload\n",
    "%autoreload 2\n",
    "import numpy as np\n",
    "import pickle as pkl\n",
    "import Recordings\n",
    "import signale, trajectory\n",
    "import os"
   ]
  },
  {
   "cell_type": "code",
   "execution_count": 3,
   "metadata": {
    "collapsed": true
   },
   "outputs": [],
   "source": [
    "def subsequence(sub,ref):\n",
    "    '''\n",
    "    A function to determine the number of specefic sequence repeated within a larger sequence.\n",
    "    \n",
    "    Parameters:\n",
    "    sub:\n",
    "    ref:\n",
    "    \n",
    "    \n",
    "    Returns:\n",
    "    idx : This an array containing the index of elements of sub in the ref! if idx is stricktly increasing the sequence sub\n",
    "    is replayed whithin sequence ref!\n",
    "    '''\n",
    "    ref = np.array(ref)\n",
    "    idx = np.array([])\n",
    "    for ii in range(len(sub)):\n",
    "        index = np.where(ref == sub[ii])[0]\n",
    "        if index.size:\n",
    "            idx = np.append(idx,index)\n",
    "    idx = np.int0(idx)\n",
    "    if idx.size:\n",
    "        return idx, True\n",
    "    else: \n",
    "        return [] , False\n",
    "def locate(pattern, root=os.curdir):\n",
    "    '''Locate all files matching supplied filename pattern in and below\n",
    "        supplied root directory.\n",
    "    '''\n",
    "    for path, dirs, files in os.walk(os.path.abspath(root)):\n",
    "        for filename in fnmatch.filter(files, pattern):\n",
    "            yield [path,filename]\n",
    "def coincidence(spikes):\n",
    "    spikes.burstDetector()\n",
    "    spikes.MuaDetector()\n",
    "    mua = spikes.MultiUnitFiring\n",
    "    ccdc = []\n",
    "    for k in range(len(spikes)):\n",
    "        for i in range(spikes[k].spike_times.size):\n",
    "            less = np.where(mua[:, 0] < spikes[k].spike_times[i])[0]  # Ripples started before spike!    \n",
    "            more = np.where(mua[:, 1] > spikes[k].spike_times[i])[0]  # Ripples ended after spike!\n",
    "            mua_idx = np.intersect1d(less, more)  # index of the ripple covering the spike!\n",
    "            if mua_idx.size:\n",
    "                ccdc.append([k, i, mua_idx])\n",
    "    ccdc = np.array(ccdc)\n",
    "    ccdc = ccdc[np.argsort(ccdc[:, 2])]  # sorting w.r.t ripple index  \n",
    "    spikes.overlap = ccdc\n",
    "def MUA(spikes):\n",
    "\n",
    "        if not hasattr(spikes, 'overlap'):\n",
    "            print 'There is no overlap detected between spikes and ripples, calculating using default arguments...'\n",
    "            spikes.coincidence()\n",
    "        mua = []  # Multi Unit Activity\n",
    "        bursts = []  # This keeps the firing activity(>=2spikes) during ripples\n",
    "        repetition = []  # Contains the number of spikes in each ripple!\n",
    "        ripp_set = set(spikes.overlap[:, 2])  # Keeps the tags of ripples containing MUA! \n",
    "        \n",
    "        for item in ripp_set:\n",
    "            repetition.append([item, np.where(spikes.overlap[:, 2] == item)[0].size])\n",
    "        repetition = np.array(repetition)\n",
    "        spikes.rippleSpikeContent = repetition\n",
    "        \n",
    "        for item in repetition[:, 0]:\n",
    "            activity_block = spikes.overlap[np.where(spikes.overlap[:, 2] == item)]\n",
    "            if not activity_block[:, 0].mean() == activity_block[0, 0]:\n",
    "                mua.append(activity_block)\n",
    "        spikes.MultiUnitActivity = mua\n",
    "def sequencing(spikes):\n",
    "        '''\n",
    "        This function sequences the events detected by MUA() function\n",
    "        \n",
    "        Parameters\n",
    "        ----------\n",
    "        Returns\n",
    "        ----------\n",
    "        sequence_1st_spike : \n",
    "        sequence_median :\n",
    "        \n",
    "        See also\n",
    "        ----------\n",
    "        coincidence, MUA\n",
    "        \n",
    "        Notes\n",
    "        ----------\n",
    "         It takes the result of MUA function as input.\n",
    "        '''\n",
    "        fst_spk_sq = []\n",
    "        median_sq = []  # Sequences based on first spike times!\n",
    "        for item in spikes.MultiUnitActivity:\n",
    "            cells = set(item[:, 0])\n",
    "            sequence = []\n",
    "            for jtem in cells:\n",
    "                row_idx = np.where(item[:, 0] == jtem)[0]\n",
    "                spk_times = spikes[jtem].spike_times[item[row_idx, 1]]  # This returns the spike times of a specific cell.\n",
    "                sequence.append([jtem, spk_times.min(), np.median(spk_times), spk_times.size, item[0, 2]]) #No use for the last 2! Why did i put them there?\n",
    "            sequence = np.array(sequence)\n",
    "            sequence = sequence[np.argsort(sequence[:, 1])]\n",
    "            fst_spk_sq.append(sequence)\n",
    "            sequence = sequence[np.argsort(sequence[:, 2])]\n",
    "            median_sq.append(sequence)\n",
    "        spikes.sequence_1st_spike = fst_spk_sq\n",
    "        spikes.sequence_median = median_sq"
   ]
  },
  {
   "cell_type": "code",
   "execution_count": 24,
   "metadata": {
    "collapsed": true
   },
   "outputs": [],
   "source": [
    "placeCellList = '/mnt/Data/IpythonNotebooks/Sleep/MEC_Lesion_Project/Rat614Control/dataFiles/placeCellsD1.spk'\n",
    "trajectory = '/mnt/Data/IpythonNotebooks/Sleep/MEC_Lesion_Project/Rat614Control/dataFiles/trajD1.traj'\n",
    "dataFolder = '/mnt/Data/IpythonNotebooks/Sleep/MEC_Lesion_Project/Rat614Control/dataFiles/'"
   ]
  },
  {
   "cell_type": "code",
   "execution_count": 36,
   "metadata": {
    "collapsed": false
   },
   "outputs": [],
   "source": [
    "pllSpikeTrain = pkl.load(open(placeCellList,'rb'))\n",
    "traj = pkl.load(open(trajectory,'rb'))\n",
    "sleepPreTrain = pllSpikeTrain.time_slice(pllSpikeTrain.t_start,traj.t_start)\n",
    "sleepPostTrain = pllSpikeTrain.time_slice(traj.t_stop,pllSpikeTrain.t_stop)\n",
    "sleepPreTrain.timeAxis = sleepPreTrain.time_axis(0.5)\n",
    "sleepPostTrain.timeAxis = sleepPostTrain.time_axis(0.5)\n",
    "#del pllSpikeTrain\n",
    "#del traj\n",
    "animal = 'rat614D1'\n",
    "fileBases = ['pre','post']\n",
    "sessions = [sleepPreTrain,sleepPostTrain]"
   ]
  },
  {
   "cell_type": "code",
   "execution_count": 32,
   "metadata": {
    "collapsed": false
   },
   "outputs": [
    {
     "name": "stdout",
     "output_type": "stream",
     "text": [
      "There is no convolved spiketrain at the moment... \n",
      "              Calculating spike trains by covolving with a Gaussian kernel of sigma = 8 ms\n",
      "There is no burst detected for this SpikeList. Calling the burstDetector function with default values...\n",
      "There is no convolved spiketrain at the moment... \n",
      "              Calculating spike trains by covolving with a Gaussian kernel of sigma = 8 ms\n",
      "There is no burst detected for this SpikeList. Calling the burstDetector function with default values...\n"
     ]
    }
   ],
   "source": [
    "for ii,item in enumerate(sessions):\n",
    "    item.binwidth = 1\n",
    "    coincidence(item)\n",
    "    MUA(item)\n",
    "    sequencing(item)\n",
    "    mua = [] \n",
    "    for jj in range(len(sleepPreTrain.MultiUnitActivity)):\n",
    "        mua.append(sleepPreTrain.MultiUnitActivity[jj][:,0])\n",
    "    mua = np.array(mua)\n",
    "    pkl.dump(mua,open(dataFolder + animal + fileBases[ii]+'.mua','wb'),pkl.HIGHEST_PROTOCOL)\n",
    "    pkl.dump(item.sequence_1st_spike,open(dataFolder + animal + fileBases[ii]+'1st.seqz','wb'),pkl.HIGHEST_PROTOCOL)\n",
    "    pkl.dump(item.sequence_median,open(dataFolder + animal + fileBases[ii]+'Median.seqz','wb'),pkl.HIGHEST_PROTOCOL)"
   ]
  },
  {
   "cell_type": "code",
   "execution_count": 38,
   "metadata": {
    "collapsed": false
   },
   "outputs": [
    {
     "data": {
      "text/plain": [
       "(954.22398499999997, 2017.9411110000001)"
      ]
     },
     "execution_count": 38,
     "metadata": {},
     "output_type": "execute_result"
    }
   ],
   "source": [
    "traj.t_start,traj.t_stop"
   ]
  },
  {
   "cell_type": "code",
   "execution_count": 40,
   "metadata": {
    "collapsed": false
   },
   "outputs": [
    {
     "data": {
      "text/plain": [
       "(369.04572, 4213.6504)"
      ]
     },
     "execution_count": 40,
     "metadata": {},
     "output_type": "execute_result"
    }
   ],
   "source": [
    "pllSpikeTrain.time_parameters()"
   ]
  },
  {
   "cell_type": "code",
   "execution_count": null,
   "metadata": {
    "collapsed": false
   },
   "outputs": [],
   "source": []
  },
  {
   "cell_type": "code",
   "execution_count": null,
   "metadata": {
    "collapsed": false
   },
   "outputs": [],
   "source": []
  },
  {
   "cell_type": "code",
   "execution_count": null,
   "metadata": {
    "collapsed": true
   },
   "outputs": [],
   "source": []
  }
 ],
 "metadata": {
  "kernelspec": {
   "display_name": "Python 2",
   "language": "python",
   "name": "python2"
  },
  "language_info": {
   "codemirror_mode": {
    "name": "ipython",
    "version": 2
   },
   "file_extension": ".py",
   "mimetype": "text/x-python",
   "name": "python",
   "nbconvert_exporter": "python",
   "pygments_lexer": "ipython2",
   "version": "2.7.9"
  }
 },
 "nbformat": 4,
 "nbformat_minor": 0
}
