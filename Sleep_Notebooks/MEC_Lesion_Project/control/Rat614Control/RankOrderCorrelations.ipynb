{
 "cells": [
  {
   "cell_type": "code",
   "execution_count": 1,
   "metadata": {
    "collapsed": true
   },
   "outputs": [],
   "source": [
    "%matplotlib inline\n",
    "%load_ext autoreload\n",
    "%autoreload 2\n",
    "from scipy.misc import comb\n",
    "import scipy as scp\n",
    "import numpy as np\n",
    "import matplotlib.pyplot as pl\n",
    "import pickle as pkl\n",
    "import sets\n",
    "import random\n",
    "import itertools\n",
    "import os,sys,fnmatch\n",
    "import timeit\n",
    "import scipy.stats"
   ]
  },
  {
   "cell_type": "code",
   "execution_count": 2,
   "metadata": {
    "collapsed": true
   },
   "outputs": [],
   "source": [
    "def subsequence(sub,ref):\n",
    "    '''\n",
    "    A function to determine the number of specefic sequence repeated within a larger sequence.\n",
    "    \n",
    "    Parameters:\n",
    "    sub:\n",
    "    ref:\n",
    "    \n",
    "    \n",
    "    Returns:\n",
    "    idx : This an array containing the index of elements of sub in the ref! if idx is stricktly increasing the sequence sub\n",
    "    is replayed whithin sequence ref!\n",
    "    '''\n",
    "    ref = np.array(ref)\n",
    "    idx = np.array([])\n",
    "    for ii in range(len(sub)):\n",
    "        index = np.where(ref == sub[ii])[0]\n",
    "        if index.size:\n",
    "            idx = np.append(idx,index)\n",
    "    idx = np.int0(idx)\n",
    "    if idx.size:\n",
    "        return idx, True\n",
    "    else: \n",
    "        return [] , False\n",
    "def locate(pattern, root=os.curdir):\n",
    "    '''Locate all files matching supplied filename pattern in and below\n",
    "        supplied root directory.\n",
    "    '''\n",
    "    for path, dirs, files in os.walk(os.path.abspath(root)):\n",
    "        for filename in fnmatch.filter(files, pattern):\n",
    "            yield [path,filename]"
   ]
  },
  {
   "cell_type": "code",
   "execution_count": 9,
   "metadata": {
    "collapsed": false
   },
   "outputs": [],
   "source": [
    "leftFields = np.array([12,  6,  2, 17, 16, 21, 15, 27,  3, 11,  9,  7,  5, 20, 26, 22, 25,8, 23, 13, 24, 18,  4,  1, 10, 28])\n",
    "rightFields = np.array([ 6,  9, 13, 25,  2,  8,  1,  7, 26, 28, 18, 14, 17, 22,  5, 12,  4])\n",
    "test= np.arange(28)\n",
    "pre = './dataFiles/rat614D1pre1st.seqz'\n",
    "post = './dataFiles/rat614D1post1st.seqz'\n",
    "seqzListPre = pkl.load(open(pre,'rb'))\n",
    "seqzListPost = pkl.load(open(post,'rb'))"
   ]
  },
  {
   "cell_type": "code",
   "execution_count": 10,
   "metadata": {
    "collapsed": true
   },
   "outputs": [],
   "source": [
    "seqzPre = [seqzListPre[ii][:,0] for ii,sqz in enumerate(seqzListPre)]\n",
    "seqzPost = [seqzListPost[ii][:,0] for ii,sqz in enumerate(seqzListPost)]"
   ]
  },
  {
   "cell_type": "code",
   "execution_count": 11,
   "metadata": {
    "collapsed": false
   },
   "outputs": [],
   "source": [
    "sqSize = []\n",
    "PLrankCorrLPre = []\n",
    "for item in seqzPre:\n",
    "    if subsequence(item,rightFields)[1] and subsequence(item,rightFields)[0].size > 5:\n",
    "        corrPL =  scipy.stats.pearsonr(subsequence(item,rightFields)[0],sorted(subsequence(item,rightFields)[0]))\n",
    "        PLrankCorrLPre.append(corrPL)\n",
    "    sqSize.append(item.size)\n",
    "PLrankCorrLPost = []\n",
    "for item in seqzPost:\n",
    "    if subsequence(item,rightFields)[1] and subsequence(item,rightFields)[0].size > 5:\n",
    "        corrPL =  scipy.stats.pearsonr(subsequence(item,rightFields)[0],sorted(subsequence(item,rightFields)[0]))\n",
    "        PLrankCorrLPost.append(corrPL)\n",
    "    sqSize.append(item.size)"
   ]
  },
  {
   "cell_type": "code",
   "execution_count": 12,
   "metadata": {
    "collapsed": false
   },
   "outputs": [
    {
     "data": {
      "image/png": "[encoded data removed]",
      "text/plain": [
       "<matplotlib.figure.Figure at 0x7f9e186caf10>"
      ]
     },
     "metadata": {},
     "output_type": "display_data"
    }
   ],
   "source": [
    "bins = np.arange(4.5,30.5,1)\n",
    "pl.hist(sqSize,bins);"
   ]
  },
  {
   "cell_type": "code",
   "execution_count": 7,
   "metadata": {
    "collapsed": false
   },
   "outputs": [
    {
     "data": {
      "text/plain": [
       "<matplotlib.text.Text at 0x7f9e18564210>"
      ]
     },
     "execution_count": 7,
     "metadata": {},
     "output_type": "execute_result"
    },
    {
     "data": {
      "image/png": "[encoded data removed]",
      "text/plain": [
       "<matplotlib.figure.Figure at 0x7f9e1860f550>"
      ]
     },
     "metadata": {},
     "output_type": "display_data"
    }
   ],
   "source": [
    "f,(ax1,ax2) = pl.subplots(1,2,figsize=[15,5],sharex=True,sharey=True)\n",
    "ax1.hist(np.array(PLrankCorrLPre)[:,0],30);\n",
    "ax2.hist(np.array(PLrankCorrLPost)[:,0],30,normed=True);\n",
    "ax1.set_title('PRE')\n",
    "ax2.set_title('POST')\n",
    "ax1.set_ylabel('# of events')\n",
    "ax1.set_xlabel('Pearson Correlation')\n",
    "ax2.set_xlabel('Pearson Correlation')"
   ]
  },
  {
   "cell_type": "code",
   "execution_count": 8,
   "metadata": {
    "collapsed": false,
    "scrolled": false
   },
   "outputs": [
    {
     "name": "stdout",
     "output_type": "stream",
     "text": [
      "[ 20.   3.  18.  22.   2.   5.  12.  10.  21.  17.  16.  28.  15.   7.  13.\n",
      "  25.   9.  24.  11.  19.   1.   4.   6.   8.  27.   0.  23.  14.]\n",
      "[13  8 21 15  2 12  0 24  5  3  4 25  6 11 19 16 10 20  9 23 22  1 17  7 18]\n",
      "[0, 1, 2, 3, 4, 5, 6, 7, 8, 9, 10, 11, 12, 13, 15, 16, 17, 18, 19, 20, 21, 22, 23, 24, 25]\n",
      "-----------------------------------------\n",
      "[  0.  17.  22.  21.  15.   8.  12.   5.  27.  13.   4.   1.  24.  11.   7.\n",
      "  28.  16.   6.   3.   9.]\n",
      "[ 3 15  5  6 17  0 12  7 19 22 23 20  9 11 25  4  1  8 10]\n",
      "[0, 1, 3, 4, 5, 6, 7, 8, 9, 10, 11, 12, 15, 17, 19, 20, 22, 23, 25]\n",
      "-----------------------------------------\n",
      "[ 10.  14.   9.   8.  28.  15.  27.  24.  17.   5.   3.  13.   4.   7.  11.\n",
      "  16.   1.   6.  12.]\n",
      "[24 10 17 25  6  7 20  3 12  8 19 22 11  9  4 23  1  0]\n",
      "[0, 1, 3, 4, 6, 7, 8, 9, 10, 11, 12, 17, 19, 20, 22, 23, 24, 25]\n",
      "-----------------------------------------\n",
      "[  1.  14.  16.  15.   8.  27.   7.  17.  13.  11.   5.   6.   4.  24.  22.\n",
      "   3.   9.  12.]\n",
      "[23  4  6 17  7 11  3 19  9 12  1 22 20 15  8 10  0]\n",
      "[0, 1, 3, 4, 6, 7, 8, 9, 10, 11, 12, 15, 17, 19, 20, 22, 23]\n",
      "-----------------------------------------\n",
      "[  0.  22.  28.  27.  11.  13.  14.  15.  23.   8.  24.   7.   4.   1.   5.\n",
      "  20.  21.   3.   6.  17.  16.  12.   9.]\n",
      "[15 25  7  9 19  6 18 17 20 11 22 23 12 13  5  8  1  3  4  0 10]\n",
      "[0, 1, 3, 4, 5, 6, 7, 8, 9, 10, 11, 12, 13, 15, 17, 18, 19, 20, 22, 23, 25]\n",
      "-----------------------------------------\n",
      "[ 10.   3.  25.  15.   4.  20.   9.  27.  24.  21.  17.   8.  28.   5.   1.\n",
      "   7.   6.  11.  16.  23.  13.  14.  12.]\n",
      "[24  8 16  6 22 13 10  7 20  5  3 17 25 12 23 11  1  9  4 18 19  0]\n",
      "[0, 1, 3, 4, 5, 6, 7, 8, 9, 10, 11, 12, 13, 16, 17, 18, 19, 20, 22, 23, 24, 25]\n",
      "-----------------------------------------\n",
      "[ 13.  12.  20.   5.  16.   7.  28.   2.   6.   4.   8.  21.  27.  11.  23.\n",
      "   9.  14.  15.  17.  10.]\n",
      "[19  0 13 12  4 11 25  2  1 22 17  5  7  9 18 10  6  3 24]\n",
      "[0, 1, 2, 3, 4, 5, 6, 7, 9, 10, 11, 12, 13, 17, 18, 19, 22, 24, 25]\n",
      "-----------------------------------------\n"
     ]
    }
   ],
   "source": [
    "for item in seqzPost:\n",
    "    if subsequence(item,leftFields)[1] and subsequence(item,leftFields)[0].size>10:\n",
    "        print item\n",
    "        print subsequence(item,leftFields)[0]\n",
    "        print sorted(subsequence(item,leftFields)[0])\n",
    "        print '-----------------------------------------'"
   ]
  },
  {
   "cell_type": "code",
   "execution_count": 52,
   "metadata": {
    "collapsed": false
   },
   "outputs": [
    {
     "data": {
      "text/plain": [
       "(9, True)"
      ]
     },
     "execution_count": 52,
     "metadata": {},
     "output_type": "execute_result"
    }
   ],
   "source": [
    "subsequence(item,leftFields)"
   ]
  },
  {
   "cell_type": "code",
   "execution_count": 63,
   "metadata": {
    "collapsed": false
   },
   "outputs": [
    {
     "data": {
      "text/plain": [
       "(array([ 1, 16, 18, 17]), True)"
      ]
     },
     "execution_count": 63,
     "metadata": {},
     "output_type": "execute_result"
    }
   ],
   "source": [
    "subsequence([1,16,18,17],np.arange(20))"
   ]
  },
  {
   "cell_type": "code",
   "execution_count": 67,
   "metadata": {
    "collapsed": false
   },
   "outputs": [
    {
     "data": {
      "text/plain": [
       "(-0.40721649484536082, 0.59278350515463896)"
      ]
     },
     "execution_count": 67,
     "metadata": {},
     "output_type": "execute_result"
    }
   ],
   "source": [
    "scp.stats.pearsonr(np.array([ 17, 16, 18, 1]),sorted(np.array([ 1, 16, 18, 17])))"
   ]
  },
  {
   "cell_type": "code",
   "execution_count": 68,
   "metadata": {
    "collapsed": false
   },
   "outputs": [
    {
     "data": {
      "text/plain": [
       "(-0.40000000000000002, 0.59999999999999976)"
      ]
     },
     "execution_count": 68,
     "metadata": {},
     "output_type": "execute_result"
    }
   ],
   "source": [
    "scp.stats.pearsonr(np.array([ 3, 2,4,1]),[1,2,3,4])"
   ]
  },
  {
   "cell_type": "code",
   "execution_count": 76,
   "metadata": {
    "collapsed": false
   },
   "outputs": [],
   "source": [
    "cosines = np.random.uniform(-1,1,10000)"
   ]
  },
  {
   "cell_type": "code",
   "execution_count": 77,
   "metadata": {
    "collapsed": false
   },
   "outputs": [
    {
     "data": {
      "image/png": "[encoded data removed]",
      "text/plain": [
       "<matplotlib.figure.Figure at 0x7f09377b73d0>"
      ]
     },
     "metadata": {},
     "output_type": "display_data"
    }
   ],
   "source": [
    "pl.hist(np.arccos(cosines),1000);"
   ]
  },
  {
   "cell_type": "code",
   "execution_count": null,
   "metadata": {
    "collapsed": true
   },
   "outputs": [],
   "source": []
  }
 ],
 "metadata": {
  "kernelspec": {
   "display_name": "Python 2",
   "language": "python",
   "name": "python2"
  },
  "language_info": {
   "codemirror_mode": {
    "name": "ipython",
    "version": 2
   },
   "file_extension": ".py",
   "mimetype": "text/x-python",
   "name": "python",
   "nbconvert_exporter": "python",
   "pygments_lexer": "ipython2",
   "version": "2.7.9"
  }
 },
 "nbformat": 4,
 "nbformat_minor": 0
}
