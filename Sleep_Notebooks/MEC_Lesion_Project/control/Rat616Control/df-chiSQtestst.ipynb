{
 "cells": [
  {
   "cell_type": "code",
   "execution_count": 1,
   "metadata": {
    "collapsed": false
   },
   "outputs": [
    {
     "data": {
      "text/html": [
       "<style>.container { width:80% !important; }</style>"
      ],
      "text/plain": [
       "<IPython.core.display.HTML object>"
      ]
     },
     "metadata": {},
     "output_type": "display_data"
    }
   ],
   "source": [
    "from IPython.core.display import display, HTML\n",
    "display(HTML(\"<style>.container { width:80% !important; }</style>\"))\n",
    "import sys\n",
    "sys.path.append('/home/chenani/ownCloud/Workspaces/Eclipse/dataAnalysis/Sleep-current/src/')"
   ]
  },
  {
   "cell_type": "code",
   "execution_count": 2,
   "metadata": {
    "collapsed": false
   },
   "outputs": [
    {
     "name": "stderr",
     "output_type": "stream",
     "text": [
      "/home/chenani/anaconda/lib/python2.7/site-packages/matplotlib/__init__.py:872: UserWarning: axes.color_cycle is deprecated and replaced with axes.prop_cycle; please use the latter.\n",
      "  warnings.warn(self.msg_depr % (key, alt_key))\n"
     ]
    }
   ],
   "source": [
    "%matplotlib inline\n",
    "%load_ext autoreload\n",
    "%autoreload 2\n",
    "import matplotlib.pyplot as pl\n",
    "import numpy as np\n",
    "import pickle as pkl\n",
    "import pandas as pd\n",
    "import os\n",
    "from scipy.stats import binom_test\n",
    "import seaborn as sns\n",
    "import itertools as it\n",
    "import fnmatch"
   ]
  },
  {
   "cell_type": "code",
   "execution_count": 3,
   "metadata": {
    "collapsed": true
   },
   "outputs": [],
   "source": [
    "def locate(pattern, root=os.curdir):\n",
    "    '''Locate all files matching supplied filename pattern in and below\n",
    "        supplied root directory.\n",
    "    '''\n",
    "    for path, dirs, files in os.walk(os.path.abspath(root)):\n",
    "        for filename in fnmatch.filter(files, pattern):\n",
    "            yield [path,filename]\n",
    "def findClosestPoint(values,array):\n",
    "    values = np.array(values)\n",
    "    array = np.array(array)\n",
    "    idx = np.array([np.square(array - value).argmin() for value in values])\n",
    "    return idx,array[idx]"
   ]
  },
  {
   "cell_type": "code",
   "execution_count": 4,
   "metadata": {
    "collapsed": false
   },
   "outputs": [],
   "source": [
    "dbList = [os.path.join(item[0],item[1]) for item in locate('aw*.db','./dataFiles/')]\n",
    "roDB = pd.DataFrame([],columns=['ti','tf','tp','tSub','lSub','rSub','Lcorr','Rcorr','Lpv','Rpv','animal_ID'])\n",
    "for db in dbList:\n",
    "    roDB = roDB.append(pd.read_pickle(db),ignore_index=True)\n",
    "df = roDB.copy()"
   ]
  },
  {
   "cell_type": "code",
   "execution_count": 5,
   "metadata": {
    "collapsed": false
   },
   "outputs": [
    {
     "name": "stdout",
     "output_type": "stream",
     "text": [
      "4\n",
      "----------------\n",
      "##############################################################################\n",
      "5\n",
      "----------------\n",
      "##############################################################################\n",
      "6\n",
      "----------------\n",
      "##############################################################################\n",
      "7\n",
      "----------------\n",
      "##############################################################################\n",
      "8\n",
      "----------------\n",
      "##############################################################################\n",
      "9\n",
      "----------------\n",
      "##############################################################################\n",
      "10\n",
      "----------------\n",
      "##############################################################################\n",
      "10++\n",
      "####################\n"
     ]
    }
   ],
   "source": [
    "corrBins = np.arange(-1.05,1.15,0.05)\n",
    "corrBinsCenters = (corrBins+0.025)[:-1]\n",
    "##########################################\n",
    "surrProbs = []\n",
    "for n in range(4,11):\n",
    "    crr = pkl.load(open('/home/chenani/ownCloud/IpythonNotebooks/Sleep/MEC_Lesion_Project/RankOrder/corr'+str(n)+'.crr','rb'))\n",
    "    hst = np.histogram(crr,corrBins,normed=True)[0]\n",
    "    surrProbs.append(hst)\n",
    "#################################\n",
    "for n in range(4,11):\n",
    "    print n\n",
    "    print '----------------'\n",
    "    dfLsub = df[df.lSub==n]\n",
    "    dfRsub = df[df.rSub==n]\n",
    "    hstL = np.histogram(dfLsub.Lcorr,corrBins)[0]\n",
    "    hstR = np.histogram(dfRsub.Rcorr,corrBins)[0]\n",
    "    for item in np.where(hstL)[0]:\n",
    "        #print hstL[item],corrBinsCenters[item]\n",
    "        p_value = binom_test(hstL[item],hstL.sum(),surrProbs[n-4][item]*0.05)\n",
    "        if p_value < 0.05:\n",
    "            idxs = np.where(np.abs(findClosestPoint(dfLsub.Lcorr,corrBinsCenters)[1]- corrBinsCenters[item])<0.01)[0]\n",
    "            locs = dfLsub.index[idxs]\n",
    "            df.Lpv[locs] += (p_value-1)\n",
    "            #print p_value,dfLsub.Lcorr.loc[locs]\n",
    "    #print '####################'\n",
    "    for item in np.where(hstR)[0]:\n",
    "        #print hstR[item],corrBinsCenters[item]\n",
    "        p_value = binom_test(hstR[item],hstR.sum(),surrProbs[n-4][item]*0.05)\n",
    "        if p_value < 0.05:\n",
    "            idxs = np.where(np.abs(findClosestPoint(dfRsub.Rcorr,corrBinsCenters)[1]- corrBinsCenters[item])<0.01)[0]\n",
    "            locs = dfRsub.index[idxs]\n",
    "            df.Rpv[locs] += (p_value-1)\n",
    "            #print p_value\n",
    "\n",
    "    print '##############################################################################'\n",
    "###################################################################################\n",
    "print '10++'\n",
    "dfLsub = df[df.lSub>10]\n",
    "dfRsub = df[df.rSub>10]\n",
    "hstL = np.histogram(dfLsub.Lcorr,corrBins)[0]\n",
    "hstR = np.histogram(dfRsub.Rcorr,corrBins)[0]\n",
    "for item in np.where(hstL)[0]:\n",
    "    #print hstL[item],corrBinsCenters[item]\n",
    "    p_value = binom_test(hstL[item],hstL.sum(),surrProbs[-1][item]*0.05)\n",
    "    if p_value < 0.05:\n",
    "        #print corrBinsCenters[item],p_value\n",
    "        idxs = np.where(np.abs(findClosestPoint(dfLsub.Lcorr,corrBinsCenters)[1]- corrBinsCenters[item])<0.01)[0]\n",
    "        locs = dfLsub.index[idxs]\n",
    "        df.Lpv[locs] += (p_value-1)\n",
    "print '####################'\n",
    "for item in np.where(hstR)[0]:\n",
    "    #print hstR[item],corrBinsCenters[item]\n",
    "    p_value = binom_test(hstR[item],hstR.sum(),surrProbs[-1][item]*0.05)\n",
    "    if p_value < 0.05:\n",
    "        idxs = np.where(np.abs(findClosestPoint(dfRsub.Rcorr,corrBinsCenters)[1]- corrBinsCenters[item])<0.01)[0]\n",
    "        locs = dfRsub.index[idxs]\n",
    "        df.Rpv[locs] += (p_value-1)\n"
   ]
  },
  {
   "cell_type": "code",
   "execution_count": 6,
   "metadata": {
    "collapsed": false
   },
   "outputs": [
    {
     "name": "stdout",
     "output_type": "stream",
     "text": [
      "4 40 11\n",
      "2.91564838356e-06\n",
      "5 17 0\n",
      "1.0\n",
      "6 4 0\n",
      "1.0\n",
      "7 7 0\n",
      "1.0\n",
      "8 1 1\n",
      "0.05\n",
      "9 0 0\n",
      "1.0\n",
      "10 0 0\n",
      "1.0\n",
      "11 0 0\n",
      "1.0\n",
      "12 0 0\n",
      "1.0\n",
      "13 0 0\n",
      "1.0\n",
      "14 0 0\n",
      "1.0\n",
      "15 0 0\n",
      "1.0\n",
      "16 0 0\n",
      "1.0\n",
      "17 0 0\n",
      "1.0\n",
      "18 0 0\n",
      "1.0\n",
      "19 0 0\n",
      "1.0\n",
      "------------------------\n",
      "########################\n",
      "4 55 0\n",
      "0.115543694531\n",
      "5 17 4\n",
      "0.00880060494769\n",
      "6 8 2\n",
      "0.0572446502734\n",
      "7 0 0\n",
      "1.0\n",
      "8 1 1\n",
      "0.05\n",
      "9 0 0\n",
      "1.0\n",
      "10 1 1\n",
      "0.05\n",
      "11 0 0\n",
      "1.0\n",
      "12 0 0\n",
      "1.0\n",
      "13 0 0\n",
      "1.0\n",
      "14 0 0\n",
      "1.0\n",
      "15 0 0\n",
      "1.0\n",
      "16 0 0\n",
      "1.0\n",
      "17 0 0\n",
      "1.0\n",
      "18 0 0\n",
      "1.0\n",
      "19 0 0\n",
      "1.0\n",
      "------------------------\n",
      "151 20 7.09410668979e-05\n"
     ]
    },
    {
     "name": "stderr",
     "output_type": "stream",
     "text": [
      "/home/chenani/anaconda/lib/python2.7/site-packages/matplotlib/axes/_axes.py:519: UserWarning: No labelled objects found. Use label='...' kwarg on individual plots.\n",
      "  warnings.warn(\"No labelled objects found. \"\n"
     ]
    },
    {
     "data": {
      "image/png": "[encoded data removed]",
      "text/plain": [
       "<matplotlib.figure.Figure at 0x7fefd3874250>"
      ]
     },
     "metadata": {},
     "output_type": "display_data"
    }
   ],
   "source": [
    "fig,(ax,bx) = pl.subplots(1,2,figsize=[30,10],sharex=True)\n",
    "ax.hist([df[df.Lpv==1].Lcorr,df[df.Lpv!=1].Lcorr],corrBins,label=[],normed=False,stacked=True);\n",
    "bx.hist([df[df.Rpv==1].Rcorr,df[df.Rpv!=1].Rcorr],corrBins,label=[],normed=False,stacked=True);\n",
    "ax.set_xlim(-1,1)\n",
    "pl.legend()\n",
    "#############################\n",
    "nT = 0\n",
    "nS = 0\n",
    "for n in range(4,20):\n",
    "    dbN = df[df.lSub==n]\n",
    "    if 1:#dbN[dbN.Lpv<1].shape[0]:\n",
    "        nT+=dbN.shape[0]\n",
    "        nS+=dbN[dbN.Lpv<0.05].shape[0]\n",
    "        print n,dbN.shape[0],dbN[dbN.Lpv<0.5].shape[0]\n",
    "        print binom_test(dbN[dbN.Lpv<0.5].shape[0],dbN.shape[0],5e-2)\n",
    "print '------------------------'\n",
    "print '########################'\n",
    "for n in range(4,20):\n",
    "    dbN = df[df.rSub==n]\n",
    "    if 1:#dbN[dbN.Rpv<1].shape[0]:\n",
    "        nT+=dbN.shape[0]\n",
    "        nS+=dbN[dbN.Rpv<0.05].shape[0]\n",
    "        print n,dbN.shape[0],dbN[dbN.Rpv<0.5].shape[0]\n",
    "        print binom_test(dbN[dbN.Rpv<0.5].shape[0],dbN.shape[0],5e-2)\n",
    "print '------------------------'\n",
    "print nT,nS,binom_test(nS,nT,0.05)"
   ]
  },
  {
   "cell_type": "code",
   "execution_count": 7,
   "metadata": {
    "collapsed": false
   },
   "outputs": [
    {
     "name": "stdout",
     "output_type": "stream",
     "text": [
      "5 17 0\n",
      "1.0\n",
      "6 4 0\n",
      "1.0\n",
      "7 7 0\n",
      "1.0\n",
      "8 1 0\n",
      "1.0\n",
      "9 0 0\n",
      "1.0\n",
      "10 0 0\n",
      "1.0\n",
      "11 0 0\n",
      "1.0\n",
      "12 0 0\n",
      "1.0\n",
      "13 0 0\n",
      "1.0\n",
      "14 0 0\n",
      "1.0\n",
      "15 0 0\n",
      "1.0\n",
      "16 0 0\n",
      "1.0\n",
      "17 0 0\n",
      "1.0\n",
      "18 0 0\n",
      "1.0\n",
      "19 0 0\n",
      "1.0\n",
      "------------------------\n",
      "########################\n",
      "5 17 0\n",
      "1.0\n",
      "6 8 3\n",
      "0.00578821792969\n",
      "7 0 0\n",
      "1.0\n",
      "8 1 1\n",
      "0.05\n",
      "9 0 0\n",
      "1.0\n",
      "10 1 0\n",
      "1.0\n",
      "11 0 0\n",
      "1.0\n",
      "12 0 0\n",
      "1.0\n",
      "13 0 0\n",
      "1.0\n",
      "14 0 0\n",
      "1.0\n",
      "15 0 0\n",
      "1.0\n",
      "16 0 0\n",
      "1.0\n",
      "17 0 0\n",
      "1.0\n",
      "18 0 0\n",
      "1.0\n",
      "19 0 0\n",
      "1.0\n",
      "------------------------\n",
      "56 4 0.363415747933\n"
     ]
    }
   ],
   "source": [
    "binwidth = 0.1\n",
    "A = np.linspace(0,1.,1.0/binwidth+1)\n",
    "binwidth = np.diff(A)[0]\n",
    "corrBinsCenters = np.union1d(-1*A,A)\n",
    "corrBins = corrBinsCenters-binwidth/2\n",
    "corrBins = np.insert(corrBins,[corrBins.size],[corrBins[-1]+binwidth])\n",
    "##########################################\n",
    "surrProbs = []\n",
    "for n in range(4,11):\n",
    "    crr = pkl.load(open('/home/chenani/ownCloud/IpythonNotebooks/Sleep/MEC_Lesion_Project/RankOrder/corr'+str(n)+'.crr','rb'))\n",
    "    hst = np.histogram(crr,corrBins,normed=True)[0]\n",
    "    surrProbs.append(hst)\n",
    "#################################\n",
    "idx = [findClosestPoint([0.025],binwidth*np.cumsum(surrProbs[n-5]))[0] for n in range(5,11)]\n",
    "SigCorrMin = [np.abs(corrBinsCenters[ii+1][0]) for ii in idx]\n",
    "for idx,row in roDB.iterrows():\n",
    "    if row.lSub>4:\n",
    "        if np.abs(row.Lcorr) > SigCorrMin[min(int(row.lSub - 5),len(SigCorrMin)-1)]:\n",
    "            row.Lpv-=0.96\n",
    "    if row.rSub>4:\n",
    "        if np.abs(row.Rcorr) > SigCorrMin[min(int(row.rSub - 5),len(SigCorrMin)-1)]:\n",
    "            row.Rpv-=0.96\n",
    "            \n",
    "nT = 0\n",
    "nS = 0\n",
    "for n in range(5,20):\n",
    "    dbN = roDB[roDB.lSub==n]\n",
    "    if 1:#dbN[dbN.Lpv<1].shape[0]:\n",
    "        nT+=dbN.shape[0]\n",
    "        nS+=dbN[dbN.Lpv<0.05].shape[0]\n",
    "        print n,dbN.shape[0],dbN[dbN.Lpv<0.5].shape[0]\n",
    "        print binom_test(dbN[dbN.Lpv<0.5].shape[0],dbN.shape[0],5e-2)\n",
    "print '------------------------'\n",
    "print '########################'\n",
    "for n in range(5,20):\n",
    "    dbN = roDB[roDB.rSub==n]\n",
    "    if 1:#dbN[dbN.Rpv<1].shape[0]:\n",
    "        nT+=dbN.shape[0]\n",
    "        nS+=dbN[dbN.Rpv<0.05].shape[0]\n",
    "        print n,dbN.shape[0],dbN[dbN.Rpv<0.5].shape[0]\n",
    "        print binom_test(dbN[dbN.Rpv<0.5].shape[0],dbN.shape[0],5e-2)\n",
    "print '------------------------'\n",
    "print nT,nS,binom_test(nS,nT,0.05)"
   ]
  },
  {
   "cell_type": "code",
   "execution_count": 9,
   "metadata": {
    "collapsed": false
   },
   "outputs": [
    {
     "data": {
      "text/plain": [
       "(0, 11)"
      ]
     },
     "execution_count": 9,
     "metadata": {},
     "output_type": "execute_result"
    }
   ],
   "source": [
    "df[(df.Lpv<0.05)&(df.Rpv<0.05)].shape"
   ]
  },
  {
   "cell_type": "code",
   "execution_count": 11,
   "metadata": {
    "collapsed": false
   },
   "outputs": [
    {
     "data": {
      "text/plain": [
       "(0, 11)"
      ]
     },
     "execution_count": 11,
     "metadata": {},
     "output_type": "execute_result"
    }
   ],
   "source": [
    "roDB[(roDB.Lpv<0.05)&(roDB.Rpv<0.05)].shape"
   ]
  },
  {
   "cell_type": "code",
   "execution_count": 12,
   "metadata": {
    "collapsed": false
   },
   "outputs": [
    {
     "name": "stdout",
     "output_type": "stream",
     "text": [
      "(5, 11)\n",
      "(18, 11)\n"
     ]
    }
   ],
   "source": [
    "print roDB[(roDB.lSub-roDB.rSub==0)&(df.rSub>4)].shape\n",
    "\n",
    "print df[(df.lSub-df.rSub==0)&(df.rSub>3)].shape"
   ]
  },
  {
   "cell_type": "code",
   "execution_count": 13,
   "metadata": {
    "collapsed": false
   },
   "outputs": [
    {
     "name": "stdout",
     "output_type": "stream",
     "text": [
      "0.323683507474 7.8431372549\n",
      "1.09938570027e-05 15.037593985\n"
     ]
    }
   ],
   "source": [
    "print binom_test(4,51,0.05),400.0/51\n",
    "print binom_test(20,133,0.05),2000.0/133"
   ]
  },
  {
   "cell_type": "code",
   "execution_count": null,
   "metadata": {
    "collapsed": true
   },
   "outputs": [],
   "source": []
  }
 ],
 "metadata": {
  "kernelspec": {
   "display_name": "Python 2",
   "language": "python",
   "name": "python2"
  },
  "language_info": {
   "codemirror_mode": {
    "name": "ipython",
    "version": 2
   },
   "file_extension": ".py",
   "mimetype": "text/x-python",
   "name": "python",
   "nbconvert_exporter": "python",
   "pygments_lexer": "ipython2",
   "version": "2.7.12"
  }
 },
 "nbformat": 4,
 "nbformat_minor": 0
}
