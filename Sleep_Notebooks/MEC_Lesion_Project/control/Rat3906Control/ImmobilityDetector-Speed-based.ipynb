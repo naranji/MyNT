{
 "cells": [
  {
   "cell_type": "code",
   "execution_count": 1,
   "metadata": {},
   "outputs": [],
   "source": [
    "%matplotlib inline\n",
    "%load_ext autoreload\n",
    "%autoreload 2"
   ]
  },
  {
   "cell_type": "code",
   "execution_count": 2,
   "metadata": {},
   "outputs": [
    {
     "data": {
      "text/html": [
       "<style>.container { width:80% !important; }</style>"
      ],
      "text/plain": [
       "<IPython.core.display.HTML object>"
      ]
     },
     "metadata": {},
     "output_type": "display_data"
    }
   ],
   "source": [
    "from IPython.core.display import display, HTML\n",
    "display(HTML(\"<style>.container { width:80% !important; }</style>\"))\n",
    "import sys\n",
    "sys.path.append('/home/chenani/ownCloud/Workspaces/Eclipse/dataAnalysis/Sleep-current/src/')"
   ]
  },
  {
   "cell_type": "code",
   "execution_count": 3,
   "metadata": {},
   "outputs": [
    {
     "name": "stderr",
     "output_type": "stream",
     "text": [
      "/home/chenani/anaconda/lib/python2.7/site-packages/matplotlib/__init__.py:1350: UserWarning:  This call to matplotlib.use() has no effect\n",
      "because the backend has already been chosen;\n",
      "matplotlib.use() must be called *before* pylab, matplotlib.pyplot,\n",
      "or matplotlib.backends is imported for the first time.\n",
      "\n",
      "  warnings.warn(_use_error_msg)\n"
     ]
    }
   ],
   "source": [
    "#!/usr/bin/python\n",
    "import matplotlib as mpl\n",
    "import matplotlib.pyplot as pl\n",
    "import numpy as np\n",
    "import pandas as pd\n",
    "import scipy.signal as scsig\n",
    "import spectrum as sp\n",
    "import signale\n",
    "import cPickle as pkl\n",
    "import time\n",
    "import statsmodels.api as sm\n",
    "import signale.tools as tools\n",
    "import sys,os\n",
    "import trajectory\n",
    "from sklearn.cluster import KMeans\n",
    "from matplotlib.mlab import specgram\n",
    "import matplotlib.mlab as mlab\n",
    "\n",
    "###Functions\n",
    "def MA(array,ord=2):\n",
    "    ma = np.array([array[ii-ord/2:ii+ord/2].mean() for ii in range(array.size) if ii >= ord ],dtype=float)\n",
    "    ma = np.insert(ma,0,array[0:ord/2])\n",
    "    ma = np.append(ma,array[-(ord/2)-1:-1])\n",
    "    return ma\n",
    "def zScore(array):\n",
    "    return(array - np.average(array))/ np.std(array)\n",
    "def nvt_loader(filename):\n",
    "    \"\"\" \n",
    "    Memory map the Neuralynx .nvt format\n",
    "    Fields\n",
    "    -------\n",
    "    swstx\n",
    "    swid\n",
    "    sw_data_size\n",
    "    qTimeStamps       Cheetah timestamp for this record. This value is in microseconds.\n",
    "    dwpoints          Points with the color bitfield values for this record.This is a 400\n",
    "                      element array.  See Video Tracker in reference. \n",
    "    sncrc\n",
    "    dnextracted_x     Extracted X location of the target being tracked. \n",
    "    dnextracted_y     Extracted Y location of the target being tracked.\n",
    "    dnextracted_angle The calculated head angle in degrees clockwise from the positive Y\n",
    "                      axis. Zero will be assigned if angle tracking is disabled.\n",
    "    dnTargets         Colored targets using the samebitfield format used by the dwPoints array.\n",
    "                      Instead of transitions, the bitfield indicates the colors that make up \n",
    "                      each particular target and the center point of that target.  This is a 50\n",
    "                      element array sorted by size from largest (index 0) to smallest(index 49).\n",
    "                      A target value of 0 means that no target is present in thatindex location.\n",
    "                      See Video Tracker Bitfield Information in reference. \n",
    "    \n",
    "    Reference:\n",
    "    ----------\n",
    "        http://neuralynx.com/software/NeuralynxDataFileFormats.pdf\n",
    "    \"\"\" \n",
    "    nev_dtype = np.dtype([\n",
    "        ('swstx'              , '<i2'),\n",
    "        ('swid'               , '<i2'),\n",
    "        ('sw_data_size'       , '<i2'),\n",
    "        ('qTimeStamps'        , '<u8'),\n",
    "        ('dwPoints'           , '<u4',(400,)),\n",
    "        ('sncrc'              , '<i2'),\n",
    "        ('dnextracted_x'      , '<i4'),\n",
    "        ('dnextracted_y'      , '<i4'),\n",
    "        ('dnextracted_angle'  , '<i4'),\n",
    "        ('dnTargets'          , '<i4',(50,)),\n",
    "    ])\n",
    "    return np.memmap(filename, dtype=nev_dtype, mode='readwrite',\n",
    "       offset=(16 * 2**10))"
   ]
  },
  {
   "cell_type": "code",
   "execution_count": 4,
   "metadata": {},
   "outputs": [
    {
     "name": "stdout",
     "output_type": "stream",
     "text": [
      "['/home/chenani/dataWork/ali/MECLesion_SleepData/Magda/Rat405Lesion/LinearTrack_0-0-0_Day1/01-sleep1/VT1.nvt', '/home/chenani/dataWork/ali/MECLesion_SleepData/Magda/Rat405Lesion/LinearTrack_0-0-0_Day1/02-lineartrack1/VT1.nvt', '/home/chenani/dataWork/ali/MECLesion_SleepData/Magda/Rat405Lesion/LinearTrack_0-0-0_Day1/03-sleep2/VT1.nvt']\n"
     ]
    }
   ],
   "source": [
    "animalPath = '/home/chenani/dataWork/ali/MECLesion_SleepData/Magda/Rat405Lesion/'\n",
    "dataFolder = '/home/chenani/ownCloud/IpythonNotebooks/Sleep/MEC_Lesion_Project/lesion/Rat405Lesion/dataFiles/sleepDB/'\n",
    "nvtPaths = []\n",
    "for nvt in tools.locate('*.nvt',animalPath):\n",
    "    nvtPaths.append(os.path.join(nvt[0],nvt[1]))\n",
    "nvtPaths = sorted(nvtPaths)\n",
    "nvtPaths = np.array(nvtPaths)\n",
    "print [item for item in nvtPaths]"
   ]
  },
  {
   "cell_type": "code",
   "execution_count": 5,
   "metadata": {},
   "outputs": [
    {
     "name": "stdout",
     "output_type": "stream",
     "text": [
      "/home/chenani/dataWork/ali/MECLesion_SleepData/Magda/Rat405Lesion/LinearTrack_0-0-0_Day1/01-sleep1/VT1.nvt\n",
      "/home/chenani/dataWork/ali/MECLesion_SleepData/Magda/Rat405Lesion/LinearTrack_0-0-0_Day1/03-sleep2/VT1.nvt\n"
     ]
    },
    {
     "name": "stderr",
     "output_type": "stream",
     "text": [
      "/home/chenani/anaconda/lib/python2.7/site-packages/ipykernel/__main__.py:39: RuntimeWarning: invalid value encountered in less\n",
      "/home/chenani/anaconda/lib/python2.7/site-packages/ipykernel/__main__.py:40: FutureWarning: pd.rolling_std is deprecated for ndarrays and will be removed in a future version\n",
      "/home/chenani/anaconda/lib/python2.7/site-packages/ipykernel/__main__.py:40: RuntimeWarning: invalid value encountered in greater\n",
      "/home/chenani/anaconda/lib/python2.7/site-packages/ipykernel/__main__.py:61: FutureWarning: pd.rolling_std is deprecated for ndarrays and will be removed in a future version\n",
      "/home/chenani/anaconda/lib/python2.7/site-packages/ipykernel/__main__.py:61: RuntimeWarning: invalid value encountered in greater\n"
     ]
    },
    {
     "data": {
      "image/png": "[encoded data removed]",
      "text/plain": [
       "<matplotlib.figure.Figure at 0x7f360ebff190>"
      ]
     },
     "metadata": {},
     "output_type": "display_data"
    }
   ],
   "source": [
    "f,ax = pl.subplots(2,1,figsize=[30,10])\n",
    "for iii,nvtFile in enumerate(nvtPaths[[0,2]]):\n",
    "    immoDB = pd.DataFrame([],columns=['t_start','t_stop','type'])\n",
    "    pathSplit = nvtFile.split('/')\n",
    "    datecnd = np.array(['LinearTrack' in item for item in pathSplit])\n",
    "    sessioncnd = np.array(['-sleep' in item for item in pathSplit])\n",
    "    animalcnd = np.array(['Rat' in item for item in pathSplit])\n",
    "    date =  np.array(pathSplit)[datecnd][0].split('_')[-1]\n",
    "    animal =  np.array(pathSplit)[animalcnd][0].split('_')[-1]\n",
    "    ####Loading trajectory data\n",
    "    print nvtFile\n",
    "    ts = np.array(nvt_loader(nvtFile)['qTimeStamps']/1e6)\n",
    "    x  = np.array(nvt_loader(nvtFile)['dnextracted_x'])\n",
    "    y  = np.array(nvt_loader(nvtFile)['dnextracted_y'])\n",
    "    a  = np.array(nvt_loader(nvtFile)['dnextracted_angle'])\n",
    "    r = np.sqrt(np.power(x,2)+np.power(y,2))\n",
    "    #### Fixing invalid position data points\n",
    "    dta = pd.DataFrame(np.transpose([ts,x,y,a,r]),columns=['t','x','y','a','r'])\n",
    "    dta = dta.replace(0,np.nan)\n",
    "    ###Determining the moving average of position and head direction\n",
    "    dtaI = dta.interpolate()\n",
    "    xRange = dtaI.x.max()- dtaI.x.min()\n",
    "    yRange = dtaI.y.max()- dtaI.y.min()\n",
    "    littleFactor = 30.48/min(xRange,yRange)\n",
    "    biggerFactor = 55.88/max(xRange,yRange)\n",
    "    if xRange<yRange:\n",
    "        dtaI.x*=littleFactor\n",
    "        dtaI.y*=biggerFactor\n",
    "    else:\n",
    "        dtaI.x*=biggerFactor\n",
    "        dtaI.y*=littleFactor\n",
    "    dtaI.x = MA(dtaI.x,300)\n",
    "    dtaI.y = MA(dtaI.y,300)\n",
    "    dtaI.y = MA(dtaI.a,300)\n",
    "    dtaI.r = np.sqrt(np.power(dtaI.x,2)+np.power(dtaI.y,2))\n",
    "    Vx = MA(np.diff(dtaI.x)/np.diff(dtaI.t),160)\n",
    "    Vy = MA(np.diff(dtaI.y)/np.diff(dtaI.t),160)\n",
    "    Speed = np.sqrt(np.square(Vx),np.square(Vy))\n",
    "    cond1 = Speed < 2.\n",
    "    chIdx = np.where(pd.rolling_std(cond1,2)>0)[0]\n",
    "    if not chIdx.size:\n",
    "        immoDB = immoDB.append(pd.DataFrame([[dtaI.t[0]+60,dtaI.t[dtaI.shape[0]-1]-60,'asleep']],columns=['t_start','t_stop','type']),ignore_index=True)\n",
    "        if not iii:\n",
    "            immoDB.to_pickle(dataFolder+'ImmPeriods-'+animal+'-'+date+'-01-pre.db')\n",
    "        else:\n",
    "            immoDB.to_pickle(dataFolder+'ImmPeriods-'+animal+'-'+date+'-03-post.db')\n",
    "        ax[iii].plot(dtaI.t[:-1],Speed)\n",
    "        for idx,row in immoDB[immoDB.type=='asleep'].iterrows():\n",
    "            ax[iii].axvspan(row.t_start,row.t_stop,color='k',alpha=0.2)\n",
    "        ax[iii].set_ylim([0,6])  \n",
    "        continue;\n",
    "    kk = 0\n",
    "    while kk <chIdx.size:\n",
    "        initIdx =  chIdx[kk-1]\n",
    "        finIdx =   chIdx[kk]\n",
    "        if finIdx - initIdx < 10 and finIdx-initIdx > 0:\n",
    "            cond1[initIdx:finIdx] = np.ones(finIdx-initIdx)\n",
    "        kk+=2\n",
    "    ####Extracting long spans of immobility!\n",
    "    sleepList = []\n",
    "    chIdx = np.where(pd.rolling_std(cond1,2)>0)[0]\n",
    "    if cond1[chIdx[0]-1]:\n",
    "        if chIdx[0] > 150:\n",
    "            sleepList.append(ts[0],ts[chIdx[0]])\n",
    "            kk = 1\n",
    "    else:\n",
    "        kk = 0\n",
    "    while kk < len(chIdx)-1:\n",
    "        try:\n",
    "            if  chIdx[kk+1] - chIdx[kk]> 150:\n",
    "                sleepList.append([ts[chIdx[kk]],ts[chIdx[kk+1]]])\n",
    "            kk+=2 \n",
    "        except ValueError:\n",
    "            print kk\n",
    "            kk +=2\n",
    "    sleepList = np.array(sleepList)\n",
    "    slFlat = sleepList.flatten()\n",
    "    duDi = np.diff(slFlat)\n",
    "    for DiIdx in np.where(duDi<2)[0]:\n",
    "        slFlat[DiIdx] -= slFlat[DiIdx]\n",
    "        slFlat[DiIdx+1] -= slFlat[DiIdx+1]\n",
    "    sleepListFixed = slFlat[slFlat>0].reshape([slFlat[slFlat>0].shape[0]/2,2])\n",
    "    slst = []\n",
    "    for ii in range(sleepListFixed.shape[0]):\n",
    "        if sleepListFixed[ii,1]-sleepListFixed[ii,0]>60:\n",
    "            slst.append([sleepListFixed[ii,0],sleepListFixed[ii,1]])\n",
    "    if len(slst):\n",
    "        for ii,item in enumerate(slst):\n",
    "            immoDB = immoDB.append(pd.DataFrame([[item[0],item[1],'asleep']],columns=['t_start','t_stop','type']),ignore_index=True)\n",
    "            try:\n",
    "                immoDB = immoDB.append(pd.DataFrame([[item[1],slst[ii+1][0],'awake']],columns=['t_start','t_stop','type']),ignore_index=True)\n",
    "            except IndexError:\n",
    "                print 'Done with %s' %nvtFile\n",
    "    else:\n",
    "        immoDB = immoDB.append(pd.DataFrame([[dtaI.t[0]+60,dtaI.t[dtaI.shape[0]-1]-60,'asleep']],columns=['t_start','t_stop','type']),ignore_index=True)\n",
    "    \n",
    "    if not iii:\n",
    "        immoDB.to_pickle(dataFolder+'ImmPeriods-'+animal+'-'+date+'-01-pre.db')\n",
    "    else:\n",
    "        immoDB.to_pickle(dataFolder+'ImmPeriods-'+animal+'-'+date+'-03-post.db')\n",
    "    ax[iii].plot(dtaI.t[:-1],Speed)\n",
    "    for idx,row in immoDB[immoDB.type=='asleep'].iterrows():\n",
    "        ax[iii].axvspan(row.t_start,row.t_stop,color='k',alpha=0.2)\n",
    "    ax[iii].set_ylim([0,6])        "
   ]
  },
  {
   "cell_type": "code",
   "execution_count": 6,
   "metadata": {
    "scrolled": false
   },
   "outputs": [
    {
     "data": {
      "text/html": [
       "<div>\n",
       "<table border=\"1\" class=\"dataframe\">\n",
       "  <thead>\n",
       "    <tr style=\"text-align: right;\">\n",
       "      <th></th>\n",
       "      <th>t_start</th>\n",
       "      <th>t_stop</th>\n",
       "      <th>type</th>\n",
       "    </tr>\n",
       "  </thead>\n",
       "  <tbody>\n",
       "    <tr>\n",
       "      <th>0</th>\n",
       "      <td>22380.244506</td>\n",
       "      <td>23074.888723</td>\n",
       "      <td>asleep</td>\n",
       "    </tr>\n",
       "  </tbody>\n",
       "</table>\n",
       "</div>"
      ],
      "text/plain": [
       "        t_start        t_stop    type\n",
       "0  22380.244506  23074.888723  asleep"
      ]
     },
     "execution_count": 6,
     "metadata": {},
     "output_type": "execute_result"
    }
   ],
   "source": [
    "immoDB\n"
   ]
  },
  {
   "cell_type": "code",
   "execution_count": 10,
   "metadata": {},
   "outputs": [
    {
     "data": {
      "text/html": [
       "<div>\n",
       "<table border=\"1\" class=\"dataframe\">\n",
       "  <thead>\n",
       "    <tr style=\"text-align: right;\">\n",
       "      <th></th>\n",
       "      <th>t_start</th>\n",
       "      <th>t_stop</th>\n",
       "      <th>type</th>\n",
       "    </tr>\n",
       "  </thead>\n",
       "  <tbody>\n",
       "    <tr>\n",
       "      <th>0</th>\n",
       "      <td>3660.64</td>\n",
       "      <td>5345.960459</td>\n",
       "      <td>asleep</td>\n",
       "    </tr>\n",
       "  </tbody>\n",
       "</table>\n",
       "</div>"
      ],
      "text/plain": [
       "   t_start       t_stop    type\n",
       "0  3660.64  5345.960459  asleep"
      ]
     },
     "execution_count": 10,
     "metadata": {},
     "output_type": "execute_result"
    }
   ],
   "source": [
    "pd.read_pickle(dataFolder+'ImmPeriods-Rat3839-Day5-03-post.db')"
   ]
  },
  {
   "cell_type": "code",
   "execution_count": 41,
   "metadata": {},
   "outputs": [
    {
     "data": {
      "text/plain": [
       "[<matplotlib.lines.Line2D at 0x7f6cec7a8fd0>]"
      ]
     },
     "execution_count": 41,
     "metadata": {},
     "output_type": "execute_result"
    },
    {
     "data": {
      "image/png": "[encoded data removed]",
      "text/plain": [
       "<matplotlib.figure.Figure at 0x7f6ced8f3f10>"
      ]
     },
     "metadata": {},
     "output_type": "display_data"
    }
   ],
   "source": [
    "pl.plot(ts,r)"
   ]
  },
  {
   "cell_type": "code",
   "execution_count": null,
   "metadata": {},
   "outputs": [],
   "source": []
  },
  {
   "cell_type": "code",
   "execution_count": null,
   "metadata": {
    "collapsed": true
   },
   "outputs": [],
   "source": []
  },
  {
   "cell_type": "code",
   "execution_count": null,
   "metadata": {
    "collapsed": true
   },
   "outputs": [],
   "source": []
  }
 ],
 "metadata": {
  "kernelspec": {
   "display_name": "Python 2",
   "language": "python",
   "name": "python2"
  },
  "language_info": {
   "codemirror_mode": {
    "name": "ipython",
    "version": 2
   },
   "file_extension": ".py",
   "mimetype": "text/x-python",
   "name": "python",
   "nbconvert_exporter": "python",
   "pygments_lexer": "ipython2",
   "version": "2.7.14"
  }
 },
 "nbformat": 4,
 "nbformat_minor": 1
}
