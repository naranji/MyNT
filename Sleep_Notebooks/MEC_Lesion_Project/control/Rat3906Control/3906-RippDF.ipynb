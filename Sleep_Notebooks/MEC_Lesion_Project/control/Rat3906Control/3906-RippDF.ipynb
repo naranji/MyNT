{
 "cells": [
  {
   "cell_type": "code",
   "execution_count": 1,
   "metadata": {
    "collapsed": false
   },
   "outputs": [
    {
     "name": "stdout",
     "output_type": "stream",
     "text": [
      "Using matplotlib backend: Qt4Agg\n"
     ]
    }
   ],
   "source": [
    "%matplotlib \n",
    "%load_ext autoreload\n",
    "%autoreload 2"
   ]
  },
  {
   "cell_type": "code",
   "execution_count": 2,
   "metadata": {
    "collapsed": false
   },
   "outputs": [
    {
     "data": {
      "text/html": [
       "<style>.container { width:80% !important; }</style>"
      ],
      "text/plain": [
       "<IPython.core.display.HTML object>"
      ]
     },
     "metadata": {},
     "output_type": "display_data"
    }
   ],
   "source": [
    "from IPython.core.display import display, HTML\n",
    "display(HTML(\"<style>.container { width:80% !important; }</style>\"))\n",
    "import sys\n",
    "sys.path.append('/home/chenani/ownCloud/Workspaces/Eclipse/dataAnalysis/Sleep-current/src/')"
   ]
  },
  {
   "cell_type": "code",
   "execution_count": 3,
   "metadata": {
    "collapsed": false
   },
   "outputs": [
    {
     "name": "stderr",
     "output_type": "stream",
     "text": [
      "/home/chenani/anaconda/lib/python2.7/site-packages/matplotlib/__init__.py:1350: UserWarning:  This call to matplotlib.use() has no effect\n",
      "because the backend has already been chosen;\n",
      "matplotlib.use() must be called *before* pylab, matplotlib.pyplot,\n",
      "or matplotlib.backends is imported for the first time.\n",
      "\n",
      "  warnings.warn(_use_error_msg)\n",
      "/home/chenani/anaconda/lib/python2.7/site-packages/IPython/html.py:14: ShimWarning: The `IPython.html` package has been deprecated. You should import from `notebook` instead. `IPython.html.widgets` has moved to `ipywidgets`.\n",
      "  \"`IPython.html.widgets` has moved to `ipywidgets`.\", ShimWarning)\n"
     ]
    }
   ],
   "source": [
    "import signale\n",
    "import numpy as np\n",
    "import matplotlib.pyplot as pl\n",
    "import spectrum as sp\n",
    "import pickle as pkl\n",
    "import scipy.signal as scsig\n",
    "import pywt\n",
    "import colormaps as mycmps\n",
    "import signale.tools as tools\n",
    "import os\n",
    "import itertools\n",
    "import pandas as pd\n",
    "import statsmodels.api as sm\n",
    "import seaborn as sns\n",
    "from matplotlib.mlab import  PCA as mlabPCA"
   ]
  },
  {
   "cell_type": "code",
   "execution_count": 4,
   "metadata": {
    "collapsed": false
   },
   "outputs": [],
   "source": [
    "colors = [\"windows blue\", \"amber\", \"greyish\", \"faded green\", \"dusty purple\"]\n",
    "seabC = sns.xkcd_palette(colors)\n",
    "colorsss = ['#FF0000', '#0000FF', '#008000', '#00FFFF', '#FF00FF', '#EE82EE',\n",
    "        '#808000', '#800080', '#FF6347', '#FFFF00', '#9ACD32', '#4B0082',\n",
    "        '#FFFACD', '#C0C0C0', '#A0522D', '#FA8072', '#FFEFD5', '#E6E6FA',\n",
    "        '#F1FAC1', '#C5C5C5', '#A152ED', '#FADD72', '#F0EFD0', '#EEE6FF',\n",
    "        '#01FAC1', '#F5F5F5', '#A152FF', '#FAFD72', '#F0EFDF', '#EEEFFF',\n",
    "        '#F1FA99', '#C9C9C9', '#A152DD', '#FA5572', '#FFFFD0', '#EDD6FF']\n",
    "def zScore(array):\n",
    "    return(array - np.average(array))/ np.std(array)\n",
    "clPalette = sns.color_palette('deep')"
   ]
  },
  {
   "cell_type": "code",
   "execution_count": 5,
   "metadata": {
    "collapsed": true
   },
   "outputs": [],
   "source": [
    "animalPath = '/home/chenani/dataWork/ali/MECLesion_SleepData/Marta/Rat3906/'\n",
    "dataFolder = '/home/chenani/ownCloud/IpythonNotebooks/Sleep/MEC_Lesion_Project/control/Rat3906Control/dataFiles/sleepDB/'"
   ]
  },
  {
   "cell_type": "code",
   "execution_count": 8,
   "metadata": {
    "collapsed": false
   },
   "outputs": [
    {
     "data": {
      "text/plain": [
       "['/home/chenani/dataWork/ali/MECLesion_SleepData/Marta/Rat3906/LinearTrack_05-31-16_Day1/01-sleep1/CSC1-pre.lfp',\n",
       " '/home/chenani/dataWork/ali/MECLesion_SleepData/Marta/Rat3906/LinearTrack_05-31-16_Day1/02-begin1/CSC1-track.lfp',\n",
       " '/home/chenani/dataWork/ali/MECLesion_SleepData/Marta/Rat3906/LinearTrack_05-31-16_Day1/03-sleep2/CSC1-post.lfp',\n",
       " '/home/chenani/dataWork/ali/MECLesion_SleepData/Marta/Rat3906/LinearTrack_06-01-16_Day2/01-sleep1/CSC6-pre.lfp',\n",
       " '/home/chenani/dataWork/ali/MECLesion_SleepData/Marta/Rat3906/LinearTrack_06-01-16_Day2/02-begin1/CSC6-track.lfp',\n",
       " '/home/chenani/dataWork/ali/MECLesion_SleepData/Marta/Rat3906/LinearTrack_06-01-16_Day2/03-sleep2/CSC6-post.lfp',\n",
       " '/home/chenani/dataWork/ali/MECLesion_SleepData/Marta/Rat3906/LinearTrack_06-02-16_Day3/01-sleep1/CSC2-pre.lfp',\n",
       " '/home/chenani/dataWork/ali/MECLesion_SleepData/Marta/Rat3906/LinearTrack_06-02-16_Day3/02-begin1/CSC2-track.lfp',\n",
       " '/home/chenani/dataWork/ali/MECLesion_SleepData/Marta/Rat3906/LinearTrack_06-02-16_Day3/03-sleep2/CSC2-post.lfp',\n",
       " '/home/chenani/dataWork/ali/MECLesion_SleepData/Marta/Rat3906/LinearTrack_06-03-16_Day4/01-sleep1/CSC6-pre.lfp',\n",
       " '/home/chenani/dataWork/ali/MECLesion_SleepData/Marta/Rat3906/LinearTrack_06-03-16_Day4/02-begin1/CSC6-track.lfp',\n",
       " '/home/chenani/dataWork/ali/MECLesion_SleepData/Marta/Rat3906/LinearTrack_06-03-16_Day4/03-sleep2/CSC6-post.lfp']"
      ]
     },
     "execution_count": 8,
     "metadata": {},
     "output_type": "execute_result"
    }
   ],
   "source": [
    "lfpPaths = []\n",
    "for lfp in tools.locate('*-*.lfp',animalPath):\n",
    "    lfpPaths.append(os.path.join(lfp[0],lfp[1]))\n",
    "lfpPaths = sorted(lfpPaths)\n",
    "lfpPaths = [ path for path in lfpPaths if (path.find('l')>0 and path.find('CS')>0) ]\n",
    "lfpPaths"
   ]
  },
  {
   "cell_type": "code",
   "execution_count": 9,
   "metadata": {
    "collapsed": false
   },
   "outputs": [
    {
     "data": {
      "text/plain": [
       "['/home/chenani/ownCloud/IpythonNotebooks/Sleep/MEC_Lesion_Project/control/Rat3906Control/dataFiles/sleepDB/SleepEpoch-Rat3906-Day1.db',\n",
       " '/home/chenani/ownCloud/IpythonNotebooks/Sleep/MEC_Lesion_Project/control/Rat3906Control/dataFiles/sleepDB/SleepEpoch-Rat3906-Day2.db',\n",
       " '/home/chenani/ownCloud/IpythonNotebooks/Sleep/MEC_Lesion_Project/control/Rat3906Control/dataFiles/sleepDB/SleepEpoch-Rat3906-Day3.db',\n",
       " '/home/chenani/ownCloud/IpythonNotebooks/Sleep/MEC_Lesion_Project/control/Rat3906Control/dataFiles/sleepDB/SleepEpoch-Rat3906-Day4.db']"
      ]
     },
     "execution_count": 9,
     "metadata": {},
     "output_type": "execute_result"
    }
   ],
   "source": [
    "sleepDBPaths = []\n",
    "for db in tools.locate('Sleep*.db',dataFolder):\n",
    "    sleepDBPaths.append(os.path.join(db[0],db[1]))\n",
    "sleepDBPaths = sorted(sleepDBPaths)\n",
    "sleepDBPaths"
   ]
  },
  {
   "cell_type": "markdown",
   "metadata": {},
   "source": [
    "## Sleep epochs\n",
    "Loading pre-identified sleep epochs and inserting them into neuralynxCSC objects and saving as .lfp files"
   ]
  },
  {
   "cell_type": "code",
   "execution_count": 142,
   "metadata": {
    "collapsed": false
   },
   "outputs": [
    {
     "name": "stdout",
     "output_type": "stream",
     "text": [
      "/home/chenani/dataWork/ali/MECLesion_SleepData/Marta/Rat3906/LinearTrack_05-31-16_Day1/01-sleep1/CSC1-pre.lfp\n",
      "05-31-16"
     ]
    },
    {
     "name": "stderr",
     "output_type": "stream",
     "text": [
      "/home/chenani/anaconda/lib/python2.7/site-packages/ipykernel/__main__.py:57: SettingWithCopyWarning: \n",
      "A value is trying to be set on a copy of a slice from a DataFrame\n",
      "\n",
      "See the caveats in the documentation: http://pandas.pydata.org/pandas-docs/stable/indexing.html#indexing-view-versus-copy\n",
      "/home/chenani/anaconda/lib/python2.7/site-packages/ipykernel/__main__.py:63: SettingWithCopyWarning: \n",
      "A value is trying to be set on a copy of a slice from a DataFrame\n",
      "\n",
      "See the caveats in the documentation: http://pandas.pydata.org/pandas-docs/stable/indexing.html#indexing-view-versus-copy\n"
     ]
    },
    {
     "name": "stdout",
     "output_type": "stream",
     "text": [
      " 01-sleep01\n",
      "/home/chenani/dataWork/ali/MECLesion_SleepData/Marta/Rat3906/LinearTrack_05-31-16_Day1/03-sleep2/CSC1-post.lfp\n",
      "05-31-16 03-sleep02\n",
      "/home/chenani/dataWork/ali/MECLesion_SleepData/Marta/Rat3906/LinearTrack_06-01-16_Day2/01-sleep1/CSC6-pre.lfp\n",
      "06-01-16 01-sleep01\n",
      "/home/chenani/dataWork/ali/MECLesion_SleepData/Marta/Rat3906/LinearTrack_06-01-16_Day2/03-sleep2/CSC6-post.lfp\n",
      "06-01-16 03-sleep02\n",
      "/home/chenani/dataWork/ali/MECLesion_SleepData/Marta/Rat3906/LinearTrack_06-02-16_Day3/01-sleep1/CSC2-pre.lfp\n",
      "06-02-16 01-sleep01\n",
      "/home/chenani/dataWork/ali/MECLesion_SleepData/Marta/Rat3906/LinearTrack_06-02-16_Day3/03-sleep2/CSC2-post.lfp\n",
      "06-02-16 03-sleep02\n",
      "/home/chenani/dataWork/ali/MECLesion_SleepData/Marta/Rat3906/LinearTrack_06-03-16_Day4/01-sleep1/CSC6-pre.lfp\n",
      "06-03-16 01-sleep01\n",
      "/home/chenani/dataWork/ali/MECLesion_SleepData/Marta/Rat3906/LinearTrack_06-03-16_Day4/03-sleep2/CSC6-post.lfp\n",
      "06-03-16 03-sleep02\n"
     ]
    }
   ],
   "source": [
    "rippDB = []\n",
    "rippPSD = []\n",
    "whiteRippPSD = []\n",
    "SWRsignal = []\n",
    "for ii,path in enumerate(lfpPaths[:]):\n",
    "    print path\n",
    "    SleepEpochs = pd.read_pickle(sleepDBPaths[ii/2])\n",
    "    pickedChannel = pkl.load(open(path,'rb'))\n",
    "    pickedChannel.tags['file']\n",
    "    expDate = path.split('_')[2].split('/')[-1]\n",
    "    animal = path.split('/')[-4]\n",
    "    session = path.split('/')[-2]\n",
    "    session = session[:-1]+'0'+session[-1]\n",
    "    print expDate,session\n",
    "    Nepochs = SleepEpochs.shape[0]\n",
    "    pickedChannel.rem_episodes = []\n",
    "    pickedChannel.sws_episodes = []\n",
    "    for idx in SleepEpochs.index:\n",
    "        if SleepEpochs.loc[idx].epoch == 'REM':\n",
    "            pickedChannel.rem_episodes.append([SleepEpochs.loc[idx].t0+pickedChannel.timeAxis[0],\n",
    "                                               SleepEpochs.loc[idx].t1+pickedChannel.timeAxis[0]])\n",
    "        elif SleepEpochs.loc[idx].epoch == 'SWS':\n",
    "            pickedChannel.sws_episodes.append([SleepEpochs.loc[idx].t0+pickedChannel.timeAxis[0],\n",
    "                                               SleepEpochs.loc[idx].t1+pickedChannel.timeAxis[0]])\n",
    "    pickedChannel.rem_episodes = np.array(pickedChannel.rem_episodes)\n",
    "    pickedChannel.sws_episodes = np.array(pickedChannel.sws_episodes)\n",
    "    ###################################\n",
    "    ###########RippDetec\n",
    "    ###################################\n",
    "    if (pickedChannel.rem_episodes.size and pickedChannel.sws_episodes.size):\n",
    "        if not hasattr(pickedChannel,'hilbertAbsolute'):\n",
    "            print 'Hilbert is busy transforming %s' %pickedChannel.tags['file'].split('/')[-1]\n",
    "            pickedChannel.hilbertTransform()\n",
    "        if hasattr(pickedChannel,'ripples') is False:\n",
    "            print 'Hunting ripples in  %s' %path.split('/')[-1]\n",
    "            pickedChannel.ripple_recorder(sigma=12, length=12, rippleMix=False,rippleCut=True,SWRmix=True,removeREMripples = False)\n",
    "    ####################################\n",
    "    ##########SWR DataFrame\n",
    "    ####################################\n",
    "    removeIdx = []\n",
    "    if pickedChannel.rem_episodes.size and pickedChannel.sws_episodes.size:\n",
    "        for idx in range(pickedChannel.ripples.shape[0]):\n",
    "            tP = pickedChannel.ripples[idx,3]\n",
    "            t1 = tools.findNearest(pickedChannel.timeAxis,tP-50)[0]\n",
    "            t2 = tools.findNearest(pickedChannel.timeAxis,tP+50)[0]\n",
    "            if t1!=t2:\n",
    "                removeIdx.append(idx)\n",
    "            ripplesMatrix = pickedChannel.ripples[removeIdx,:]\n",
    "                \n",
    "        rippDF = pd.DataFrame(ripplesMatrix,columns=['t_start', 't_end','peak value', 't_peak'])\n",
    "        rippDF['epoch'] = ripplesMatrix.shape[0]*['NA']\n",
    "        for item in pickedChannel.sws_episodes:\n",
    "            before = (rippDF.t_peak) < item[1]\n",
    "            after = (rippDF.t_peak ) > item[0]\n",
    "            inBetween = np.logical_and(before,after)\n",
    "            Nep = rippDF['epoch'][inBetween].size\n",
    "            rippDF['epoch'][inBetween] = Nep * ['sws']\n",
    "        for item in pickedChannel.rem_episodes:\n",
    "            before = (rippDF.t_peak) < item[1]\n",
    "            after = (rippDF.t_peak ) > item[0]\n",
    "            inBetween = np.logical_and(before,after)\n",
    "            Nep = rippDF['epoch'][inBetween].size\n",
    "            rippDF['epoch'][inBetween] = Nep * ['rem']\n",
    "        rippDF['date'] = rippDF.shape[0]*[expDate]\n",
    "        rippDF['session'] = rippDF.shape[0]*[session]\n",
    "        rippDF['animal'] = rippDF.shape[0]*[animal]\n",
    "        rippDB.append(rippDF.as_matrix().flatten())\n",
    "    pkl.dump(pickedChannel,open(path,'wb'),pkl.HIGHEST_PROTOCOL)\n",
    "   \n",
    "rippDB = np.hstack(rippDB)\n",
    "rippDB = rippDB.reshape(rippDB.size/8,8)\n",
    "rippDB = pd.DataFrame(rippDB,\n",
    "                      columns=['t_i','t_f','peak_value','t_peak','epoch','date','session','animal'])\n"
   ]
  },
  {
   "cell_type": "code",
   "execution_count": 53,
   "metadata": {
    "collapsed": false
   },
   "outputs": [],
   "source": []
  },
  {
   "cell_type": "code",
   "execution_count": null,
   "metadata": {
    "collapsed": false
   },
   "outputs": [],
   "source": []
  },
  {
   "cell_type": "markdown",
   "metadata": {},
   "source": [
    "## Frequency and Signal Dataframes"
   ]
  },
  {
   "cell_type": "code",
   "execution_count": 209,
   "metadata": {
    "collapsed": false
   },
   "outputs": [
    {
     "name": "stdout",
     "output_type": "stream",
     "text": [
      "05-31-16 Rat3906 01-sleep1\n",
      "Int64Index([   0,    1,    2,    3,    4,    5,    6,    7,    8,    9,\n",
      "            ...\n",
      "            3231, 3232, 3233, 3234, 3235, 3236, 3237, 3238, 3239, 3240],\n",
      "           dtype='int64', length=3241)\n",
      "05-31-16 Rat3906 03-sleep2\n",
      "Int64Index([3241, 3242, 3243, 3244, 3245, 3246, 3247, 3248, 3249, 3250,\n",
      "            ...\n",
      "            6151, 6152, 6153, 6154, 6155, 6156, 6157, 6158, 6159, 6160],\n",
      "           dtype='int64', length=2920)\n",
      "06-01-16 Rat3906 01-sleep1\n",
      "Int64Index([6161, 6162, 6163, 6164, 6165, 6166, 6167, 6168, 6169, 6170,\n",
      "            ...\n",
      "            8555, 8556, 8557, 8558, 8559, 8560, 8561, 8562, 8563, 8564],\n",
      "           dtype='int64', length=2404)\n",
      "06-01-16 Rat3906 03-sleep2\n",
      "Int64Index([ 8565,  8566,  8567,  8568,  8569,  8570,  8571,  8572,  8573,\n",
      "             8574,\n",
      "            ...\n",
      "            11417, 11418, 11419, 11420, 11421, 11422, 11423, 11424, 11425,\n",
      "            11426],\n",
      "           dtype='int64', length=2862)\n",
      "06-02-16 Rat3906 01-sleep1\n",
      "Int64Index([11427, 11428, 11429, 11430, 11431, 11432, 11433, 11434, 11435,\n",
      "            11436,\n",
      "            ...\n",
      "            14449, 14450, 14451, 14452, 14453, 14454, 14455, 14456, 14457,\n",
      "            14458],\n",
      "           dtype='int64', length=3032)\n",
      "06-02-16 Rat3906 03-sleep2\n",
      "Int64Index([14459, 14460, 14461, 14462, 14463, 14464, 14465, 14466, 14467,\n",
      "            14468,\n",
      "            ...\n",
      "            17517, 17518, 17519, 17520, 17521, 17522, 17523, 17524, 17525,\n",
      "            17526],\n",
      "           dtype='int64', length=3068)\n",
      "06-03-16 Rat3906 01-sleep1\n",
      "Int64Index([17527, 17528, 17529, 17530, 17531, 17532, 17533, 17534, 17535,\n",
      "            17536,\n",
      "            ...\n",
      "            19458, 19459, 19460, 19461, 19462, 19463, 19464, 19465, 19466,\n",
      "            19467],\n",
      "           dtype='int64', length=1941)\n",
      "06-03-16 Rat3906 03-sleep2\n",
      "Int64Index([19468, 19469, 19470, 19471, 19472, 19473, 19474, 19475, 19476,\n",
      "            19477,\n",
      "            ...\n",
      "            21902, 21903, 21904, 21905, 21906, 21907, 21908, 21909, 21910,\n",
      "            21911],\n",
      "           dtype='int64', length=2444)\n"
     ]
    }
   ],
   "source": [
    "rippPSD = []\n",
    "whiteRippPSD = []\n",
    "SWRsignal = []\n",
    "for path in lfpPaths[:]:\n",
    "    pickedChannel = pkl.load(open(path,'rb'))\n",
    "    expDate = path.split('_')[2].split('/')[-1]\n",
    "    animal = path.split('/')[-4]\n",
    "    session = path.split('/')[-2]\n",
    "    session = session[:-1]+'0'+session[-1]\n",
    "    relevantEpochs = rippDB[np.logical_and(rippDB['date']== expDate,\n",
    "                                                rippDB['session']==session)]\n",
    "    \n",
    "    indexArray = relevantEpochs.index\n",
    "    print path.split('_')[2].split('/')[-1],path.split('/')[-4],path.split('/')[-2]\n",
    "    print indexArray\n",
    "    for idx in indexArray:\n",
    "        tP = rippDB['t_peak'][idx]\n",
    "        t1 = tools.findNearest(pickedChannel.timeAxis,tP-50)[0]\n",
    "        t2 = tools.findNearest(pickedChannel.timeAxis,tP+50)[0]\n",
    "        if t1!=t2:\n",
    "            sig = pickedChannel.signal[t1:t2]\n",
    "            #print sig\n",
    "            wsig = pickedChannel.signal_white[t1:t2]\n",
    "        else:\n",
    "            sig = np.ones(1)\n",
    "            wsig=np.ones(1)\n",
    "        p = sp.Periodogram(sig,sampling=2000,NFFT=256)\n",
    "        wp = sp.Periodogram(wsig,sampling=2000,NFFT=256)\n",
    "        p();\n",
    "        wp();\n",
    "        rippPSD.append(p.psd[:35])\n",
    "        whiteRippPSD.append(wp.psd[:35])\n",
    "        SWRsignal.append(sig)\n",
    "rippPSD = np.array(rippPSD)\n",
    "whiteRippPSD = np.array(whiteRippPSD)\n",
    "SWRsignal = np.array(SWRsignal)"
   ]
  },
  {
   "cell_type": "code",
   "execution_count": 210,
   "metadata": {
    "collapsed": false
   },
   "outputs": [],
   "source": [
    "pkl.dump(rippPSD,open(dataFolder+'rippPSD.npArr','wb'),pkl.HIGHEST_PROTOCOL)\n",
    "pkl.dump(whiteRippPSD,open(dataFolder+'whiteRippPSD.npArr','wb'),pkl.HIGHEST_PROTOCOL)\n",
    "pkl.dump(SWRsignal,open(dataFolder+'rippSignal.npArr','wb'),pkl.HIGHEST_PROTOCOL)"
   ]
  },
  {
   "cell_type": "code",
   "execution_count": 211,
   "metadata": {
    "collapsed": false
   },
   "outputs": [],
   "source": [
    "rippDB = pd.read_pickle(dataFolder+'RipplesTimeDB.pd')\n",
    "rippPSD = pkl.load(open(dataFolder+'rippPSD.npArr','rb'))\n",
    "whiteRippPSD = pkl.load(open(dataFolder+'whiteRippPSD.npArr','rb'))"
   ]
  },
  {
   "cell_type": "code",
   "execution_count": 201,
   "metadata": {
    "collapsed": false
   },
   "outputs": [
    {
     "data": {
      "text/plain": [
       "<matplotlib.collections.PathCollection at 0x7ff4f64a7d90>"
      ]
     },
     "execution_count": 201,
     "metadata": {},
     "output_type": "execute_result"
    }
   ],
   "source": [
    "pl.scatter(rippDB.c+np.random.rand(rippDB.index.size)/1e2,rippDB.wc+np.random.rand(rippDB.index.size)/1e1)"
   ]
  },
  {
   "cell_type": "markdown",
   "metadata": {},
   "source": [
    "### Zcoring PSD dataframes"
   ]
  },
  {
   "cell_type": "code",
   "execution_count": 212,
   "metadata": {
    "collapsed": false
   },
   "outputs": [],
   "source": [
    "for jjj in range(rippPSD.shape[0]):\n",
    "    rippPSD[jjj,:] = zScore(np.log10(rippPSD[jjj,:]))\n",
    "    whiteRippPSD[jjj,:] = zScore(np.log10(whiteRippPSD[jjj,:]))"
   ]
  },
  {
   "cell_type": "markdown",
   "metadata": {},
   "source": [
    "## PCA of PSD dataframes\n",
    "\n",
    "Calculating PCA components of SWR power spectrum (both white and original) and adding the first 5 PC components to SWR dataframe!"
   ]
  },
  {
   "cell_type": "code",
   "execution_count": 213,
   "metadata": {
    "collapsed": false
   },
   "outputs": [],
   "source": [
    "pca = mlabPCA(rippPSD)\n",
    "wpca = mlabPCA(whiteRippPSD)\n",
    "usefulComps = pca.Y[:,range(5)]\n",
    "wusefulComps = wpca.Y[:,range(5)]"
   ]
  },
  {
   "cell_type": "code",
   "execution_count": 214,
   "metadata": {
    "collapsed": false
   },
   "outputs": [],
   "source": [
    "rippDB['PC1'] = usefulComps[:,0]\n",
    "rippDB['PC2'] = usefulComps[:,1]\n",
    "rippDB['PC3'] = usefulComps[:,2]\n",
    "rippDB['PC4'] = usefulComps[:,3]\n",
    "rippDB['PC5'] = usefulComps[:,4]\n",
    "rippDB['wPC1'] = wusefulComps[:,0]\n",
    "rippDB['wPC2'] = wusefulComps[:,1]\n",
    "rippDB['wPC3'] = wusefulComps[:,2]\n",
    "rippDB['wPC4'] = wusefulComps[:,3]\n",
    "rippDB['wPC5'] = wusefulComps[:,4]"
   ]
  },
  {
   "cell_type": "code",
   "execution_count": 215,
   "metadata": {
    "collapsed": true
   },
   "outputs": [],
   "source": [
    "rippDB.to_pickle(dataFolder+'RipplesTimeDB.pd')"
   ]
  },
  {
   "cell_type": "markdown",
   "metadata": {},
   "source": [
    "## Creating Feature files and Clustering"
   ]
  },
  {
   "cell_type": "code",
   "execution_count": 216,
   "metadata": {
    "collapsed": false
   },
   "outputs": [],
   "source": [
    "Rkeys =  rippDB.keys()\n",
    "keys = Rkeys[[8,9,10,11,12]]\n",
    "wkeys = Rkeys[[13,14,15,16,17]]\n",
    "features = rippDB[keys].as_matrix()\n",
    "wfeatures = rippDB[wkeys].as_matrix()\n",
    "np.savetxt(dataFolder+'pink.fet.1',features,fmt='%f',delimiter='\\t',\n",
    "           header=str(features.shape[1]),comments='')\n",
    "np.savetxt(dataFolder+'white.fet.1',wfeatures,fmt='%f',delimiter='\\t',\n",
    "           header=str(wfeatures.shape[1]),comments='')"
   ]
  },
  {
   "cell_type": "markdown",
   "metadata": {},
   "source": [
    "Clustering is done using KlustaKwik program in unix console\n",
    "## Loading Clusters"
   ]
  },
  {
   "cell_type": "code",
   "execution_count": 244,
   "metadata": {
    "collapsed": true
   },
   "outputs": [],
   "source": [
    "c = np.int16(np.loadtxt(dataFolder+'pink.clu.1'))[1:]\n",
    "wc = np.int16(np.loadtxt(dataFolder+'white.clu.1'))[1:]"
   ]
  },
  {
   "cell_type": "code",
   "execution_count": 245,
   "metadata": {
    "collapsed": false
   },
   "outputs": [
    {
     "data": {
      "text/plain": [
       "(4,\n",
       " 4,\n",
       " array([    0,     1,     0,   637,     0,   109,     0, 21165,     0]),\n",
       " array([    0,     0,     0, 21912,     0,     0,     0,     0,     0]))"
      ]
     },
     "execution_count": 245,
     "metadata": {},
     "output_type": "execute_result"
    }
   ],
   "source": [
    "cCounts = np.histogram(c,bins=np.arange(0.5,5.5,0.5))[0]\n",
    "wcCounts = np.histogram(wc,bins=np.arange(0.5,5.5,0.5))[0]\n",
    "ccc = np.array([cCounts,wcCounts])\n",
    "c.max(),c.max(),cCounts,wcCounts"
   ]
  },
  {
   "cell_type": "code",
   "execution_count": 165,
   "metadata": {
    "collapsed": true
   },
   "outputs": [],
   "source": [
    "np.place(wc,wc==1,[100])\n",
    "np.place(c,c==1,[100])\n",
    "np.place(wc,wc==3,[1])\n",
    "np.place(c,c==2,[1])\n",
    "np.place(c,c==3,[2])\n",
    "np.place(wc,wc==100,[3])\n",
    "np.place(c,c==100,[3])"
   ]
  },
  {
   "cell_type": "code",
   "execution_count": 189,
   "metadata": {
    "collapsed": true
   },
   "outputs": [],
   "source": [
    "cCounts = np.histogram(c,bins=[0.5,1.5,2.5,3.5])[0]\n",
    "wcCounts = np.histogram(wc,bins=[0.5,1.5,2.5,3.5])[0]\n",
    "ccc = np.array([cCounts,wcCounts])\n",
    "rippDB['wc'] = wc\n",
    "rippDB['c'] = c"
   ]
  },
  {
   "cell_type": "code",
   "execution_count": 266,
   "metadata": {
    "collapsed": false
   },
   "outputs": [],
   "source": [
    "rippDB.to_pickle(dataFolder+'RipplesTimeDB.pd')"
   ]
  },
  {
   "cell_type": "code",
   "execution_count": 169,
   "metadata": {
    "collapsed": false
   },
   "outputs": [
    {
     "data": {
      "text/plain": [
       "(0.5, 4)"
      ]
     },
     "execution_count": 169,
     "metadata": {},
     "output_type": "execute_result"
    }
   ],
   "source": [
    "f,ax = pl.subplots(1,1)\n",
    "ax.bar(np.array([1,2,3]), cCounts, 0.35,color= clPalette[0])\n",
    "ax.bar(np.array([1,2,3]) + 0.35, wcCounts, 0.35,color= clPalette[1])\n",
    "# add some text for labels, title and axes ticks\n",
    "ax.set_ylabel('Number of Candidates')\n",
    "ax.set_title('Clusters')\n",
    "ax.set_xticks(np.array([1,2,3]) + 0.35)\n",
    "ax.set_xticklabels(('C1', 'C2','C3'))\n",
    "ax.set_xlim([00.5,4])"
   ]
  },
  {
   "cell_type": "code",
   "execution_count": 264,
   "metadata": {
    "collapsed": false
   },
   "outputs": [],
   "source": [
    "Rcond = np.logical_or(rippDB.wc ==2, rippDB.wc == 8)\n",
    "Gcond = (rippDB.wc==6)\n",
    "#Gcond = np.logical_and(rippDB.c ==1, rippDB.wc == 1)\n",
    "#cond12 = np.logical_and(rippDB.c ==1, rippDB.wc == 2)\n",
    "#cond21 = np.logical_and(rippDB.c ==2, rippDB.wc == 1)"
   ]
  },
  {
   "cell_type": "code",
   "execution_count": 265,
   "metadata": {
    "collapsed": false
   },
   "outputs": [
    {
     "name": "stderr",
     "output_type": "stream",
     "text": [
      "/home/chenani/anaconda/lib/python2.7/site-packages/matplotlib/axes/_axes.py:519: UserWarning: No labelled objects found. Use label='...' kwarg on individual plots.\n",
      "  warnings.warn(\"No labelled objects found. \"\n"
     ]
    }
   ],
   "source": [
    "pl.figure()\n",
    "sns.tsplot(rippPSD[Rcond.as_matrix(),:],time = p.frequencies()[:35],color='b')\n",
    "sns.tsplot(rippPSD[Rcond.as_matrix(),:],time = p.frequencies()[:35],color='b',err_style=\"ci_bars\", interpolate=False)\n",
    "sns.tsplot(rippPSD[Gcond.as_matrix(),:],time = p.frequencies()[:35],color='r')\n",
    "sns.tsplot(rippPSD[Gcond.as_matrix(),:],time = p.frequencies()[:35],color='r',err_style=\"ci_bars\", interpolate=False)\n",
    "pl.legend()"
   ]
  },
  {
   "cell_type": "code",
   "execution_count": 261,
   "metadata": {
    "collapsed": false
   },
   "outputs": [
    {
     "name": "stdout",
     "output_type": "stream",
     "text": [
      "2 758 windows blue\n",
      "6 16645 amber\n",
      "8 923 greyish\n"
     ]
    }
   ],
   "source": [
    "for ii,item in enumerate([2,6,8]):#enumerate(np.unique(rippDB.wc)):\n",
    "    indicies = np.where(rippDB.wc==item)[0]\n",
    "    if indicies.size>200:\n",
    "        print item,indicies.size,colors[ii]\n",
    "        sns.tsplot(rippPSD[indicies,:],time = p.frequencies()[:35],color=seabC[ii])"
   ]
  },
  {
   "cell_type": "code",
   "execution_count": 263,
   "metadata": {
    "collapsed": false
   },
   "outputs": [
    {
     "data": {
      "text/plain": [
       "array([ True,  True,  True, ...,  True,  True,  True], dtype=bool)"
      ]
     },
     "execution_count": 263,
     "metadata": {},
     "output_type": "execute_result"
    }
   ],
   "source": [
    "Gcond"
   ]
  },
  {
   "cell_type": "code",
   "execution_count": 131,
   "metadata": {
    "collapsed": false
   },
   "outputs": [],
   "source": []
  },
  {
   "cell_type": "code",
   "execution_count": null,
   "metadata": {
    "collapsed": false
   },
   "outputs": [],
   "source": []
  },
  {
   "cell_type": "code",
   "execution_count": null,
   "metadata": {
    "collapsed": false
   },
   "outputs": [],
   "source": []
  },
  {
   "cell_type": "code",
   "execution_count": null,
   "metadata": {
    "collapsed": false
   },
   "outputs": [],
   "source": []
  },
  {
   "cell_type": "code",
   "execution_count": null,
   "metadata": {
    "collapsed": false
   },
   "outputs": [],
   "source": []
  },
  {
   "cell_type": "code",
   "execution_count": 241,
   "metadata": {
    "collapsed": false
   },
   "outputs": [],
   "source": [
    "\n"
   ]
  },
  {
   "cell_type": "code",
   "execution_count": null,
   "metadata": {
    "collapsed": true
   },
   "outputs": [],
   "source": []
  }
 ],
 "metadata": {
  "kernelspec": {
   "display_name": "Python 2",
   "language": "python",
   "name": "python2"
  },
  "language_info": {
   "codemirror_mode": {
    "name": "ipython",
    "version": 2
   },
   "file_extension": ".py",
   "mimetype": "text/x-python",
   "name": "python",
   "nbconvert_exporter": "python",
   "pygments_lexer": "ipython2",
   "version": "2.7.12"
  }
 },
 "nbformat": 4,
 "nbformat_minor": 0
}
