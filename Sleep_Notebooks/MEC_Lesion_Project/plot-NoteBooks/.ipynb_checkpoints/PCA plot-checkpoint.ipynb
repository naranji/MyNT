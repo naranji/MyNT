{
 "cells": [
  {
   "cell_type": "code",
   "execution_count": 1,
   "metadata": {},
   "outputs": [
    {
     "data": {
      "text/html": [
       "<style>.container { width:90% !important; }</style>"
      ],
      "text/plain": [
       "<IPython.core.display.HTML object>"
      ]
     },
     "metadata": {},
     "output_type": "display_data"
    }
   ],
   "source": [
    "from IPython.core.display import display, HTML\n",
    "display(HTML(\"<style>.container { width:90% !important; }</style>\"))\n",
    "import sys\n",
    "sys.path.append('/mnt/sdb1/ownCloud/Workspaces/Eclipse/dataAnalysis/Sleep-current/src/')"
   ]
  },
  {
   "cell_type": "code",
   "execution_count": 2,
   "metadata": {},
   "outputs": [
    {
     "name": "stdout",
     "output_type": "stream",
     "text": [
      "Using matplotlib backend: Qt5Agg\n"
     ]
    },
    {
     "name": "stderr",
     "output_type": "stream",
     "text": [
      "/mnt/sdb1/softwares/anaconda2/envs/caiman/lib/python2.7/site-packages/NeuroTools/analysis.py:34: UserWarning: \n",
      "This call to matplotlib.use() has no effect because the backend has already\n",
      "been chosen; matplotlib.use() must be called *before* pylab, matplotlib.pyplot,\n",
      "or matplotlib.backends is imported for the first time.\n",
      "\n",
      "The backend was *originally* set to u'Qt5Agg' by the following code:\n",
      "  File \"/mnt/sdb1/softwares/anaconda2/envs/caiman/lib/python2.7/runpy.py\", line 174, in _run_module_as_main\n",
      "    \"__main__\", fname, loader, pkg_name)\n",
      "  File \"/mnt/sdb1/softwares/anaconda2/envs/caiman/lib/python2.7/runpy.py\", line 72, in _run_code\n",
      "    exec code in run_globals\n",
      "  File \"/mnt/sdb1/softwares/anaconda2/envs/caiman/lib/python2.7/site-packages/ipykernel_launcher.py\", line 16, in <module>\n",
      "    app.launch_new_instance()\n",
      "  File \"/mnt/sdb1/softwares/anaconda2/envs/caiman/lib/python2.7/site-packages/traitlets/config/application.py\", line 658, in launch_instance\n",
      "    app.start()\n",
      "  File \"/mnt/sdb1/softwares/anaconda2/envs/caiman/lib/python2.7/site-packages/ipykernel/kernelapp.py\", line 477, in start\n",
      "    ioloop.IOLoop.instance().start()\n",
      "  File \"/mnt/sdb1/softwares/anaconda2/envs/caiman/lib/python2.7/site-packages/zmq/eventloop/ioloop.py\", line 177, in start\n",
      "    super(ZMQIOLoop, self).start()\n",
      "  File \"/mnt/sdb1/softwares/anaconda2/envs/caiman/lib/python2.7/site-packages/tornado/ioloop.py\", line 888, in start\n",
      "    handler_func(fd_obj, events)\n",
      "  File \"/mnt/sdb1/softwares/anaconda2/envs/caiman/lib/python2.7/site-packages/tornado/stack_context.py\", line 277, in null_wrapper\n",
      "    return fn(*args, **kwargs)\n",
      "  File \"/mnt/sdb1/softwares/anaconda2/envs/caiman/lib/python2.7/site-packages/zmq/eventloop/zmqstream.py\", line 440, in _handle_events\n",
      "    self._handle_recv()\n",
      "  File \"/mnt/sdb1/softwares/anaconda2/envs/caiman/lib/python2.7/site-packages/zmq/eventloop/zmqstream.py\", line 472, in _handle_recv\n",
      "    self._run_callback(callback, msg)\n",
      "  File \"/mnt/sdb1/softwares/anaconda2/envs/caiman/lib/python2.7/site-packages/zmq/eventloop/zmqstream.py\", line 414, in _run_callback\n",
      "    callback(*args, **kwargs)\n",
      "  File \"/mnt/sdb1/softwares/anaconda2/envs/caiman/lib/python2.7/site-packages/tornado/stack_context.py\", line 277, in null_wrapper\n",
      "    return fn(*args, **kwargs)\n",
      "  File \"/mnt/sdb1/softwares/anaconda2/envs/caiman/lib/python2.7/site-packages/ipykernel/kernelbase.py\", line 283, in dispatcher\n",
      "    return self.dispatch_shell(stream, msg)\n",
      "  File \"/mnt/sdb1/softwares/anaconda2/envs/caiman/lib/python2.7/site-packages/ipykernel/kernelbase.py\", line 235, in dispatch_shell\n",
      "    handler(stream, idents, msg)\n",
      "  File \"/mnt/sdb1/softwares/anaconda2/envs/caiman/lib/python2.7/site-packages/ipykernel/kernelbase.py\", line 399, in execute_request\n",
      "    user_expressions, allow_stdin)\n",
      "  File \"/mnt/sdb1/softwares/anaconda2/envs/caiman/lib/python2.7/site-packages/ipykernel/ipkernel.py\", line 196, in do_execute\n",
      "    res = shell.run_cell(code, store_history=store_history, silent=silent)\n",
      "  File \"/mnt/sdb1/softwares/anaconda2/envs/caiman/lib/python2.7/site-packages/ipykernel/zmqshell.py\", line 533, in run_cell\n",
      "    return super(ZMQInteractiveShell, self).run_cell(*args, **kwargs)\n",
      "  File \"/mnt/sdb1/softwares/anaconda2/envs/caiman/lib/python2.7/site-packages/IPython/core/interactiveshell.py\", line 2718, in run_cell\n",
      "    interactivity=interactivity, compiler=compiler, result=result)\n",
      "  File \"/mnt/sdb1/softwares/anaconda2/envs/caiman/lib/python2.7/site-packages/IPython/core/interactiveshell.py\", line 2822, in run_ast_nodes\n",
      "    if self.run_code(code, result):\n",
      "  File \"/mnt/sdb1/softwares/anaconda2/envs/caiman/lib/python2.7/site-packages/IPython/core/interactiveshell.py\", line 2882, in run_code\n",
      "    exec(code_obj, self.user_global_ns, self.user_ns)\n",
      "  File \"<ipython-input-2-d270d9beb70f>\", line 1, in <module>\n",
      "    get_ipython().magic(u'matplotlib')\n",
      "  File \"/mnt/sdb1/softwares/anaconda2/envs/caiman/lib/python2.7/site-packages/IPython/core/interactiveshell.py\", line 2160, in magic\n",
      "    return self.run_line_magic(magic_name, magic_arg_s)\n",
      "  File \"/mnt/sdb1/softwares/anaconda2/envs/caiman/lib/python2.7/site-packages/IPython/core/interactiveshell.py\", line 2081, in run_line_magic\n",
      "    result = fn(*args,**kwargs)\n",
      "  File \"<decorator-gen-105>\", line 2, in matplotlib\n",
      "  File \"/mnt/sdb1/softwares/anaconda2/envs/caiman/lib/python2.7/site-packages/IPython/core/magic.py\", line 188, in <lambda>\n",
      "    call = lambda f, *a, **k: f(*a, **k)\n",
      "  File \"/mnt/sdb1/softwares/anaconda2/envs/caiman/lib/python2.7/site-packages/IPython/core/magics/pylab.py\", line 100, in matplotlib\n",
      "    gui, backend = self.shell.enable_matplotlib(args.gui)\n",
      "  File \"/mnt/sdb1/softwares/anaconda2/envs/caiman/lib/python2.7/site-packages/IPython/core/interactiveshell.py\", line 2950, in enable_matplotlib\n",
      "    pt.activate_matplotlib(backend)\n",
      "  File \"/mnt/sdb1/softwares/anaconda2/envs/caiman/lib/python2.7/site-packages/IPython/core/pylabtools.py\", line 308, in activate_matplotlib\n",
      "    matplotlib.pyplot.switch_backend(backend)\n",
      "  File \"/mnt/sdb1/softwares/anaconda2/envs/caiman/lib/python2.7/site-packages/matplotlib/pyplot.py\", line 229, in switch_backend\n",
      "    matplotlib.use(newbackend, warn=False, force=True)\n",
      "  File \"/mnt/sdb1/softwares/anaconda2/envs/caiman/lib/python2.7/site-packages/matplotlib/__init__.py\", line 1305, in use\n",
      "    reload(sys.modules['matplotlib.backends'])\n",
      "  File \"/mnt/sdb1/softwares/anaconda2/envs/caiman/lib/python2.7/site-packages/matplotlib/backends/__init__.py\", line 14, in <module>\n",
      "    line for line in traceback.format_stack()\n",
      "\n",
      "\n",
      "  matplotlib.use('Agg')\n",
      "/mnt/sdb1/softwares/anaconda2/envs/caiman/lib/python2.7/site-packages/NeuroTools/plotting.py:36: UserWarning: \n",
      "This call to matplotlib.use() has no effect because the backend has already\n",
      "been chosen; matplotlib.use() must be called *before* pylab, matplotlib.pyplot,\n",
      "or matplotlib.backends is imported for the first time.\n",
      "\n",
      "The backend was *originally* set to u'Qt5Agg' by the following code:\n",
      "  File \"/mnt/sdb1/softwares/anaconda2/envs/caiman/lib/python2.7/runpy.py\", line 174, in _run_module_as_main\n",
      "    \"__main__\", fname, loader, pkg_name)\n",
      "  File \"/mnt/sdb1/softwares/anaconda2/envs/caiman/lib/python2.7/runpy.py\", line 72, in _run_code\n",
      "    exec code in run_globals\n",
      "  File \"/mnt/sdb1/softwares/anaconda2/envs/caiman/lib/python2.7/site-packages/ipykernel_launcher.py\", line 16, in <module>\n",
      "    app.launch_new_instance()\n",
      "  File \"/mnt/sdb1/softwares/anaconda2/envs/caiman/lib/python2.7/site-packages/traitlets/config/application.py\", line 658, in launch_instance\n",
      "    app.start()\n",
      "  File \"/mnt/sdb1/softwares/anaconda2/envs/caiman/lib/python2.7/site-packages/ipykernel/kernelapp.py\", line 477, in start\n",
      "    ioloop.IOLoop.instance().start()\n",
      "  File \"/mnt/sdb1/softwares/anaconda2/envs/caiman/lib/python2.7/site-packages/zmq/eventloop/ioloop.py\", line 177, in start\n",
      "    super(ZMQIOLoop, self).start()\n",
      "  File \"/mnt/sdb1/softwares/anaconda2/envs/caiman/lib/python2.7/site-packages/tornado/ioloop.py\", line 888, in start\n",
      "    handler_func(fd_obj, events)\n",
      "  File \"/mnt/sdb1/softwares/anaconda2/envs/caiman/lib/python2.7/site-packages/tornado/stack_context.py\", line 277, in null_wrapper\n",
      "    return fn(*args, **kwargs)\n",
      "  File \"/mnt/sdb1/softwares/anaconda2/envs/caiman/lib/python2.7/site-packages/zmq/eventloop/zmqstream.py\", line 440, in _handle_events\n",
      "    self._handle_recv()\n",
      "  File \"/mnt/sdb1/softwares/anaconda2/envs/caiman/lib/python2.7/site-packages/zmq/eventloop/zmqstream.py\", line 472, in _handle_recv\n",
      "    self._run_callback(callback, msg)\n",
      "  File \"/mnt/sdb1/softwares/anaconda2/envs/caiman/lib/python2.7/site-packages/zmq/eventloop/zmqstream.py\", line 414, in _run_callback\n",
      "    callback(*args, **kwargs)\n",
      "  File \"/mnt/sdb1/softwares/anaconda2/envs/caiman/lib/python2.7/site-packages/tornado/stack_context.py\", line 277, in null_wrapper\n",
      "    return fn(*args, **kwargs)\n",
      "  File \"/mnt/sdb1/softwares/anaconda2/envs/caiman/lib/python2.7/site-packages/ipykernel/kernelbase.py\", line 283, in dispatcher\n",
      "    return self.dispatch_shell(stream, msg)\n",
      "  File \"/mnt/sdb1/softwares/anaconda2/envs/caiman/lib/python2.7/site-packages/ipykernel/kernelbase.py\", line 235, in dispatch_shell\n",
      "    handler(stream, idents, msg)\n",
      "  File \"/mnt/sdb1/softwares/anaconda2/envs/caiman/lib/python2.7/site-packages/ipykernel/kernelbase.py\", line 399, in execute_request\n",
      "    user_expressions, allow_stdin)\n",
      "  File \"/mnt/sdb1/softwares/anaconda2/envs/caiman/lib/python2.7/site-packages/ipykernel/ipkernel.py\", line 196, in do_execute\n",
      "    res = shell.run_cell(code, store_history=store_history, silent=silent)\n",
      "  File \"/mnt/sdb1/softwares/anaconda2/envs/caiman/lib/python2.7/site-packages/ipykernel/zmqshell.py\", line 533, in run_cell\n",
      "    return super(ZMQInteractiveShell, self).run_cell(*args, **kwargs)\n",
      "  File \"/mnt/sdb1/softwares/anaconda2/envs/caiman/lib/python2.7/site-packages/IPython/core/interactiveshell.py\", line 2718, in run_cell\n",
      "    interactivity=interactivity, compiler=compiler, result=result)\n",
      "  File \"/mnt/sdb1/softwares/anaconda2/envs/caiman/lib/python2.7/site-packages/IPython/core/interactiveshell.py\", line 2822, in run_ast_nodes\n",
      "    if self.run_code(code, result):\n",
      "  File \"/mnt/sdb1/softwares/anaconda2/envs/caiman/lib/python2.7/site-packages/IPython/core/interactiveshell.py\", line 2882, in run_code\n",
      "    exec(code_obj, self.user_global_ns, self.user_ns)\n",
      "  File \"<ipython-input-2-d270d9beb70f>\", line 1, in <module>\n",
      "    get_ipython().magic(u'matplotlib')\n",
      "  File \"/mnt/sdb1/softwares/anaconda2/envs/caiman/lib/python2.7/site-packages/IPython/core/interactiveshell.py\", line 2160, in magic\n",
      "    return self.run_line_magic(magic_name, magic_arg_s)\n",
      "  File \"/mnt/sdb1/softwares/anaconda2/envs/caiman/lib/python2.7/site-packages/IPython/core/interactiveshell.py\", line 2081, in run_line_magic\n",
      "    result = fn(*args,**kwargs)\n",
      "  File \"<decorator-gen-105>\", line 2, in matplotlib\n",
      "  File \"/mnt/sdb1/softwares/anaconda2/envs/caiman/lib/python2.7/site-packages/IPython/core/magic.py\", line 188, in <lambda>\n",
      "    call = lambda f, *a, **k: f(*a, **k)\n",
      "  File \"/mnt/sdb1/softwares/anaconda2/envs/caiman/lib/python2.7/site-packages/IPython/core/magics/pylab.py\", line 100, in matplotlib\n",
      "    gui, backend = self.shell.enable_matplotlib(args.gui)\n",
      "  File \"/mnt/sdb1/softwares/anaconda2/envs/caiman/lib/python2.7/site-packages/IPython/core/interactiveshell.py\", line 2950, in enable_matplotlib\n",
      "    pt.activate_matplotlib(backend)\n",
      "  File \"/mnt/sdb1/softwares/anaconda2/envs/caiman/lib/python2.7/site-packages/IPython/core/pylabtools.py\", line 308, in activate_matplotlib\n",
      "    matplotlib.pyplot.switch_backend(backend)\n",
      "  File \"/mnt/sdb1/softwares/anaconda2/envs/caiman/lib/python2.7/site-packages/matplotlib/pyplot.py\", line 229, in switch_backend\n",
      "    matplotlib.use(newbackend, warn=False, force=True)\n",
      "  File \"/mnt/sdb1/softwares/anaconda2/envs/caiman/lib/python2.7/site-packages/matplotlib/__init__.py\", line 1305, in use\n",
      "    reload(sys.modules['matplotlib.backends'])\n",
      "  File \"/mnt/sdb1/softwares/anaconda2/envs/caiman/lib/python2.7/site-packages/matplotlib/backends/__init__.py\", line 14, in <module>\n",
      "    line for line in traceback.format_stack()\n",
      "\n",
      "\n",
      "  use('Agg')\n",
      "/mnt/sdb1/softwares/anaconda2/envs/caiman/lib/python2.7/site-packages/NeuroTools/__init__.py:125: DependencyWarning: ** interval ** package is not installed.\n",
      "To have functions using interval please install the package.\n",
      "website : http://pypi.python.org/pypi/interval/1.0.0\n",
      "\n",
      "  warnings.warn(get_import_warning(name), DependencyWarning)\n",
      "/mnt/sdb1/softwares/anaconda2/envs/caiman/lib/python2.7/site-packages/NeuroTools/signals/spikes.py:44: UserWarning: \n",
      "This call to matplotlib.use() has no effect because the backend has already\n",
      "been chosen; matplotlib.use() must be called *before* pylab, matplotlib.pyplot,\n",
      "or matplotlib.backends is imported for the first time.\n",
      "\n",
      "The backend was *originally* set to u'Qt5Agg' by the following code:\n",
      "  File \"/mnt/sdb1/softwares/anaconda2/envs/caiman/lib/python2.7/runpy.py\", line 174, in _run_module_as_main\n",
      "    \"__main__\", fname, loader, pkg_name)\n",
      "  File \"/mnt/sdb1/softwares/anaconda2/envs/caiman/lib/python2.7/runpy.py\", line 72, in _run_code\n",
      "    exec code in run_globals\n",
      "  File \"/mnt/sdb1/softwares/anaconda2/envs/caiman/lib/python2.7/site-packages/ipykernel_launcher.py\", line 16, in <module>\n",
      "    app.launch_new_instance()\n",
      "  File \"/mnt/sdb1/softwares/anaconda2/envs/caiman/lib/python2.7/site-packages/traitlets/config/application.py\", line 658, in launch_instance\n",
      "    app.start()\n",
      "  File \"/mnt/sdb1/softwares/anaconda2/envs/caiman/lib/python2.7/site-packages/ipykernel/kernelapp.py\", line 477, in start\n",
      "    ioloop.IOLoop.instance().start()\n",
      "  File \"/mnt/sdb1/softwares/anaconda2/envs/caiman/lib/python2.7/site-packages/zmq/eventloop/ioloop.py\", line 177, in start\n",
      "    super(ZMQIOLoop, self).start()\n",
      "  File \"/mnt/sdb1/softwares/anaconda2/envs/caiman/lib/python2.7/site-packages/tornado/ioloop.py\", line 888, in start\n",
      "    handler_func(fd_obj, events)\n",
      "  File \"/mnt/sdb1/softwares/anaconda2/envs/caiman/lib/python2.7/site-packages/tornado/stack_context.py\", line 277, in null_wrapper\n",
      "    return fn(*args, **kwargs)\n",
      "  File \"/mnt/sdb1/softwares/anaconda2/envs/caiman/lib/python2.7/site-packages/zmq/eventloop/zmqstream.py\", line 440, in _handle_events\n",
      "    self._handle_recv()\n",
      "  File \"/mnt/sdb1/softwares/anaconda2/envs/caiman/lib/python2.7/site-packages/zmq/eventloop/zmqstream.py\", line 472, in _handle_recv\n",
      "    self._run_callback(callback, msg)\n",
      "  File \"/mnt/sdb1/softwares/anaconda2/envs/caiman/lib/python2.7/site-packages/zmq/eventloop/zmqstream.py\", line 414, in _run_callback\n",
      "    callback(*args, **kwargs)\n",
      "  File \"/mnt/sdb1/softwares/anaconda2/envs/caiman/lib/python2.7/site-packages/tornado/stack_context.py\", line 277, in null_wrapper\n",
      "    return fn(*args, **kwargs)\n",
      "  File \"/mnt/sdb1/softwares/anaconda2/envs/caiman/lib/python2.7/site-packages/ipykernel/kernelbase.py\", line 283, in dispatcher\n",
      "    return self.dispatch_shell(stream, msg)\n",
      "  File \"/mnt/sdb1/softwares/anaconda2/envs/caiman/lib/python2.7/site-packages/ipykernel/kernelbase.py\", line 235, in dispatch_shell\n",
      "    handler(stream, idents, msg)\n",
      "  File \"/mnt/sdb1/softwares/anaconda2/envs/caiman/lib/python2.7/site-packages/ipykernel/kernelbase.py\", line 399, in execute_request\n",
      "    user_expressions, allow_stdin)\n",
      "  File \"/mnt/sdb1/softwares/anaconda2/envs/caiman/lib/python2.7/site-packages/ipykernel/ipkernel.py\", line 196, in do_execute\n",
      "    res = shell.run_cell(code, store_history=store_history, silent=silent)\n",
      "  File \"/mnt/sdb1/softwares/anaconda2/envs/caiman/lib/python2.7/site-packages/ipykernel/zmqshell.py\", line 533, in run_cell\n",
      "    return super(ZMQInteractiveShell, self).run_cell(*args, **kwargs)\n",
      "  File \"/mnt/sdb1/softwares/anaconda2/envs/caiman/lib/python2.7/site-packages/IPython/core/interactiveshell.py\", line 2718, in run_cell\n",
      "    interactivity=interactivity, compiler=compiler, result=result)\n",
      "  File \"/mnt/sdb1/softwares/anaconda2/envs/caiman/lib/python2.7/site-packages/IPython/core/interactiveshell.py\", line 2822, in run_ast_nodes\n",
      "    if self.run_code(code, result):\n",
      "  File \"/mnt/sdb1/softwares/anaconda2/envs/caiman/lib/python2.7/site-packages/IPython/core/interactiveshell.py\", line 2882, in run_code\n",
      "    exec(code_obj, self.user_global_ns, self.user_ns)\n",
      "  File \"<ipython-input-2-d270d9beb70f>\", line 1, in <module>\n",
      "    get_ipython().magic(u'matplotlib')\n",
      "  File \"/mnt/sdb1/softwares/anaconda2/envs/caiman/lib/python2.7/site-packages/IPython/core/interactiveshell.py\", line 2160, in magic\n",
      "    return self.run_line_magic(magic_name, magic_arg_s)\n",
      "  File \"/mnt/sdb1/softwares/anaconda2/envs/caiman/lib/python2.7/site-packages/IPython/core/interactiveshell.py\", line 2081, in run_line_magic\n",
      "    result = fn(*args,**kwargs)\n",
      "  File \"<decorator-gen-105>\", line 2, in matplotlib\n",
      "  File \"/mnt/sdb1/softwares/anaconda2/envs/caiman/lib/python2.7/site-packages/IPython/core/magic.py\", line 188, in <lambda>\n",
      "    call = lambda f, *a, **k: f(*a, **k)\n",
      "  File \"/mnt/sdb1/softwares/anaconda2/envs/caiman/lib/python2.7/site-packages/IPython/core/magics/pylab.py\", line 100, in matplotlib\n",
      "    gui, backend = self.shell.enable_matplotlib(args.gui)\n",
      "  File \"/mnt/sdb1/softwares/anaconda2/envs/caiman/lib/python2.7/site-packages/IPython/core/interactiveshell.py\", line 2950, in enable_matplotlib\n",
      "    pt.activate_matplotlib(backend)\n",
      "  File \"/mnt/sdb1/softwares/anaconda2/envs/caiman/lib/python2.7/site-packages/IPython/core/pylabtools.py\", line 308, in activate_matplotlib\n",
      "    matplotlib.pyplot.switch_backend(backend)\n",
      "  File \"/mnt/sdb1/softwares/anaconda2/envs/caiman/lib/python2.7/site-packages/matplotlib/pyplot.py\", line 229, in switch_backend\n",
      "    matplotlib.use(newbackend, warn=False, force=True)\n",
      "  File \"/mnt/sdb1/softwares/anaconda2/envs/caiman/lib/python2.7/site-packages/matplotlib/__init__.py\", line 1305, in use\n",
      "    reload(sys.modules['matplotlib.backends'])\n",
      "  File \"/mnt/sdb1/softwares/anaconda2/envs/caiman/lib/python2.7/site-packages/matplotlib/backends/__init__.py\", line 14, in <module>\n",
      "    line for line in traceback.format_stack()\n",
      "\n",
      "\n",
      "  matplotlib.use('Agg')\n",
      "/mnt/sdb1/softwares/anaconda2/envs/caiman/lib/python2.7/site-packages/NeuroTools/signals/analogs.py:41: UserWarning: \n",
      "This call to matplotlib.use() has no effect because the backend has already\n",
      "been chosen; matplotlib.use() must be called *before* pylab, matplotlib.pyplot,\n",
      "or matplotlib.backends is imported for the first time.\n",
      "\n",
      "The backend was *originally* set to u'Qt5Agg' by the following code:\n",
      "  File \"/mnt/sdb1/softwares/anaconda2/envs/caiman/lib/python2.7/runpy.py\", line 174, in _run_module_as_main\n",
      "    \"__main__\", fname, loader, pkg_name)\n",
      "  File \"/mnt/sdb1/softwares/anaconda2/envs/caiman/lib/python2.7/runpy.py\", line 72, in _run_code\n",
      "    exec code in run_globals\n",
      "  File \"/mnt/sdb1/softwares/anaconda2/envs/caiman/lib/python2.7/site-packages/ipykernel_launcher.py\", line 16, in <module>\n",
      "    app.launch_new_instance()\n",
      "  File \"/mnt/sdb1/softwares/anaconda2/envs/caiman/lib/python2.7/site-packages/traitlets/config/application.py\", line 658, in launch_instance\n",
      "    app.start()\n",
      "  File \"/mnt/sdb1/softwares/anaconda2/envs/caiman/lib/python2.7/site-packages/ipykernel/kernelapp.py\", line 477, in start\n",
      "    ioloop.IOLoop.instance().start()\n",
      "  File \"/mnt/sdb1/softwares/anaconda2/envs/caiman/lib/python2.7/site-packages/zmq/eventloop/ioloop.py\", line 177, in start\n",
      "    super(ZMQIOLoop, self).start()\n",
      "  File \"/mnt/sdb1/softwares/anaconda2/envs/caiman/lib/python2.7/site-packages/tornado/ioloop.py\", line 888, in start\n",
      "    handler_func(fd_obj, events)\n",
      "  File \"/mnt/sdb1/softwares/anaconda2/envs/caiman/lib/python2.7/site-packages/tornado/stack_context.py\", line 277, in null_wrapper\n",
      "    return fn(*args, **kwargs)\n",
      "  File \"/mnt/sdb1/softwares/anaconda2/envs/caiman/lib/python2.7/site-packages/zmq/eventloop/zmqstream.py\", line 440, in _handle_events\n",
      "    self._handle_recv()\n",
      "  File \"/mnt/sdb1/softwares/anaconda2/envs/caiman/lib/python2.7/site-packages/zmq/eventloop/zmqstream.py\", line 472, in _handle_recv\n",
      "    self._run_callback(callback, msg)\n",
      "  File \"/mnt/sdb1/softwares/anaconda2/envs/caiman/lib/python2.7/site-packages/zmq/eventloop/zmqstream.py\", line 414, in _run_callback\n",
      "    callback(*args, **kwargs)\n",
      "  File \"/mnt/sdb1/softwares/anaconda2/envs/caiman/lib/python2.7/site-packages/tornado/stack_context.py\", line 277, in null_wrapper\n",
      "    return fn(*args, **kwargs)\n",
      "  File \"/mnt/sdb1/softwares/anaconda2/envs/caiman/lib/python2.7/site-packages/ipykernel/kernelbase.py\", line 283, in dispatcher\n",
      "    return self.dispatch_shell(stream, msg)\n",
      "  File \"/mnt/sdb1/softwares/anaconda2/envs/caiman/lib/python2.7/site-packages/ipykernel/kernelbase.py\", line 235, in dispatch_shell\n",
      "    handler(stream, idents, msg)\n",
      "  File \"/mnt/sdb1/softwares/anaconda2/envs/caiman/lib/python2.7/site-packages/ipykernel/kernelbase.py\", line 399, in execute_request\n",
      "    user_expressions, allow_stdin)\n",
      "  File \"/mnt/sdb1/softwares/anaconda2/envs/caiman/lib/python2.7/site-packages/ipykernel/ipkernel.py\", line 196, in do_execute\n",
      "    res = shell.run_cell(code, store_history=store_history, silent=silent)\n",
      "  File \"/mnt/sdb1/softwares/anaconda2/envs/caiman/lib/python2.7/site-packages/ipykernel/zmqshell.py\", line 533, in run_cell\n",
      "    return super(ZMQInteractiveShell, self).run_cell(*args, **kwargs)\n",
      "  File \"/mnt/sdb1/softwares/anaconda2/envs/caiman/lib/python2.7/site-packages/IPython/core/interactiveshell.py\", line 2718, in run_cell\n",
      "    interactivity=interactivity, compiler=compiler, result=result)\n",
      "  File \"/mnt/sdb1/softwares/anaconda2/envs/caiman/lib/python2.7/site-packages/IPython/core/interactiveshell.py\", line 2822, in run_ast_nodes\n",
      "    if self.run_code(code, result):\n",
      "  File \"/mnt/sdb1/softwares/anaconda2/envs/caiman/lib/python2.7/site-packages/IPython/core/interactiveshell.py\", line 2882, in run_code\n",
      "    exec(code_obj, self.user_global_ns, self.user_ns)\n",
      "  File \"<ipython-input-2-d270d9beb70f>\", line 1, in <module>\n",
      "    get_ipython().magic(u'matplotlib')\n",
      "  File \"/mnt/sdb1/softwares/anaconda2/envs/caiman/lib/python2.7/site-packages/IPython/core/interactiveshell.py\", line 2160, in magic\n",
      "    return self.run_line_magic(magic_name, magic_arg_s)\n",
      "  File \"/mnt/sdb1/softwares/anaconda2/envs/caiman/lib/python2.7/site-packages/IPython/core/interactiveshell.py\", line 2081, in run_line_magic\n",
      "    result = fn(*args,**kwargs)\n",
      "  File \"<decorator-gen-105>\", line 2, in matplotlib\n",
      "  File \"/mnt/sdb1/softwares/anaconda2/envs/caiman/lib/python2.7/site-packages/IPython/core/magic.py\", line 188, in <lambda>\n",
      "    call = lambda f, *a, **k: f(*a, **k)\n",
      "  File \"/mnt/sdb1/softwares/anaconda2/envs/caiman/lib/python2.7/site-packages/IPython/core/magics/pylab.py\", line 100, in matplotlib\n",
      "    gui, backend = self.shell.enable_matplotlib(args.gui)\n",
      "  File \"/mnt/sdb1/softwares/anaconda2/envs/caiman/lib/python2.7/site-packages/IPython/core/interactiveshell.py\", line 2950, in enable_matplotlib\n",
      "    pt.activate_matplotlib(backend)\n",
      "  File \"/mnt/sdb1/softwares/anaconda2/envs/caiman/lib/python2.7/site-packages/IPython/core/pylabtools.py\", line 308, in activate_matplotlib\n",
      "    matplotlib.pyplot.switch_backend(backend)\n",
      "  File \"/mnt/sdb1/softwares/anaconda2/envs/caiman/lib/python2.7/site-packages/matplotlib/pyplot.py\", line 229, in switch_backend\n",
      "    matplotlib.use(newbackend, warn=False, force=True)\n",
      "  File \"/mnt/sdb1/softwares/anaconda2/envs/caiman/lib/python2.7/site-packages/matplotlib/__init__.py\", line 1305, in use\n",
      "    reload(sys.modules['matplotlib.backends'])\n",
      "  File \"/mnt/sdb1/softwares/anaconda2/envs/caiman/lib/python2.7/site-packages/matplotlib/backends/__init__.py\", line 14, in <module>\n",
      "    line for line in traceback.format_stack()\n",
      "\n",
      "\n",
      "  matplotlib.use('Agg')\n"
     ]
    },
    {
     "name": "stderr",
     "output_type": "stream",
     "text": [
      "/mnt/sdb1/softwares/anaconda2/envs/caiman/lib/python2.7/site-packages/statsmodels/compat/pandas.py:56: FutureWarning: The pandas.core.datetools module is deprecated and will be removed in a future version. Please use the pandas.tseries module instead.\n",
      "  from pandas.core import datetools\n"
     ]
    }
   ],
   "source": [
    "%matplotlib\n",
    "%load_ext autoreload\n",
    "%autoreload 2\n",
    "import numpy as np\n",
    "import matplotlib.pyplot as pl\n",
    "import pickle as pkl\n",
    "import fnmatch,os\n",
    "import itertools\n",
    "import statsmodels.formula.api as sm\n",
    "from scipy.stats import pearsonr,ttest_ind,ranksums,linregress,ks_2samp,entropy,mannwhitneyu\n",
    "import pandas as pd\n",
    "import seaborn as sns\n",
    "from signale.tools import locate\n",
    "import statsmodels.api as sm\n",
    "from matplotlib.gridspec import GridSpec\n",
    "from scipy.cluster.hierarchy import fcluster,linkage,dendrogram\n",
    "from scipy.io import savemat,loadmat\n",
    "from mpl_toolkits.axes_grid1.inset_locator import inset_axes"
   ]
  },
  {
   "cell_type": "code",
   "execution_count": 3,
   "metadata": {},
   "outputs": [],
   "source": [
    "clr4 = [\"#cb535a\",\"#5ba952\",\"#c97d3d\",\"#9a993e\"]\n",
    "cl3 = [\"#cb6a49\",\"#a46cb7\",\"#7aa457\"]\n",
    "clrs = [\"#e55982\",\"#41c563\",\"#874ac4\",\"#77ba3f\",\"#b171ed\",\"#aab632\",\"#4e6ddc\",\"#408f2c\",\"#de5fcd\",\"#80bc6a\",\n",
    "        \"#a63798\",\"#5bc79f\",\"#dd378e\",\"#508d4e\",\"#c174d6\",\"#cca238\",\"#754da1\",\"#e18e31\",\"#9488e0\",\"#dd6a35\",\"#4fbddc\",\n",
    "        \"#c23d26\",\"#5d92d3\",\"#d33f4f\",\"#379680\",\"#da63a9\",\"#416831\",\"#e38edb\",\"#7a7529\",\"#5163a5\",\"#b0b166\",\"#b03063\",\n",
    "        \"#da9c6b\",\"#a96cae\",\"#995e2b\",\"#bea0df\",\"#d77768\",\"#97527f\",\"#e08aa5\",\"#9f4d5a\"]\n",
    "colors = ['#FF0000', '#0000FF', '#008000', '#00FFFF', '#FF00FF', '#EE82EE',\n",
    "        '#808000', '#800080', '#FF6347', '#FFFF00', '#9ACD32', '#4B0082',\n",
    "        '#FFFACD', '#C0C0C0', '#A0522D', '#FA8072', '#FFEFD5', '#E6E6FA',\n",
    "        '#F1FAC1', '#C5C5C5', '#A152ED', '#FADD72', '#F0EFD0', '#EEE6FF',\n",
    "        '#01FAC1', '#F5F5F5', '#A152FF', '#FAFD72', '#F0EFDF', '#EEEFFF',\n",
    "        '#F1FA99', '#C9C9C9', '#A152DD', '#FA5572', '#FFFFD0', '#EDD6FF']"
   ]
  },
  {
   "cell_type": "code",
   "execution_count": null,
   "metadata": {},
   "outputs": [],
   "source": [
    "###100ms\n",
    "les100rn = sorted([os.path.join(item[0],item[1])for item in locate('*100ms.lsn','../PCA_MEC/DATA/')])\n",
    "cnt100rn = sorted([os.path.join(item[0],item[1])for item in locate('*100ms.cnt','../PCA_MEC/DATA/')])\n",
    "###Theta\n",
    "lesThrn = sorted([os.path.join(item[0],item[1])for item in locate('*-theta.lsn','../PCA_MEC/DATA/')])\n",
    "cntThrn = sorted([os.path.join(item[0],item[1])for item in locate('*-theta.cnt','../PCA_MEC/DATA/')])\n",
    "##############################################################################\n",
    "###100ms\n",
    "les100 = sorted([os.path.join(item[0],item[1])for item in locate('*100ms-vis.lsn','../PCA_MEC/DATA/')])\n",
    "les100Pre = np.array([])\n",
    "les100Post = np.array([])\n",
    "for item in les100:\n",
    "    les100Pre  = np.append(les100Pre,pkl.load(open(item,'rb'))[0])\n",
    "    les100Post = np.append(les100Post,pkl.load(open(item,'rb'))[1])\n",
    "cnt100 = sorted([os.path.join(item[0],item[1])for item in locate('*100ms-vis.cnt','../PCA_MEC/DATA/')])\n",
    "cnt100Pre = np.array([])\n",
    "cnt100Post = np.array([])\n",
    "for item in cnt100:\n",
    "    cnt100Pre  = np.append(cnt100Pre,pkl.load(open(item,'rb'))[0])\n",
    "    cnt100Post = np.append(cnt100Post,pkl.load(open(item,'rb'))[1])\n",
    "###Theta\n",
    "lesTh = sorted([os.path.join(item[0],item[1])for item in locate('*-theta-vis.lsn','../PCA_MEC/DATA/')])\n",
    "lesThPre = np.array([])\n",
    "lesThPost = np.array([])\n",
    "for item in lesTh:\n",
    "    lesThPre  = np.append(lesThPre,pkl.load(open(item,'rb'))[0])\n",
    "    lesThPost = np.append(lesThPost,pkl.load(open(item,'rb'))[1])\n",
    "cntTh = sorted([os.path.join(item[0],item[1])for item in locate('*-theta-vis.cnt','../PCA_MEC/DATA/')])\n",
    "cntThPre = np.array([])\n",
    "cntThPost = np.array([])\n",
    "for item in cntTh:\n",
    "    cntThPre  = np.append(cntThPre,pkl.load(open(item,'rb'))[0])\n",
    "    cntThPost = np.append(cntThPost,pkl.load(open(item,'rb'))[1])\n",
    "\n",
    "##############################################################################"
   ]
  },
  {
   "cell_type": "code",
   "execution_count": 5,
   "metadata": {},
   "outputs": [
    {
     "ename": "NameError",
     "evalue": "name 'spk' is not defined",
     "output_type": "error",
     "traceback": [
      "\u001b[0;31m---------------------------------------------------------------------------\u001b[0m",
      "\u001b[0;31mNameError\u001b[0m                                 Traceback (most recent call last)",
      "\u001b[0;32m<ipython-input-5-92221be22994>\u001b[0m in \u001b[0;36m<module>\u001b[0;34m()\u001b[0m\n\u001b[1;32m      4\u001b[0m \u001b[0mRls\u001b[0m \u001b[0;34m=\u001b[0m \u001b[0mpkl\u001b[0m\u001b[0;34m.\u001b[0m\u001b[0mload\u001b[0m\u001b[0;34m(\u001b[0m\u001b[0mopen\u001b[0m\u001b[0;34m(\u001b[0m\u001b[0;34m'/home/aliche/ownCloud/IpythonNotebooks/Sleep/MEC_Lesion_Project/PCA_MEC/DATA/Rat3661-Day2-theta.Rl'\u001b[0m\u001b[0;34m)\u001b[0m\u001b[0;34m)\u001b[0m\u001b[0;34m\u001b[0m\u001b[0m\n\u001b[1;32m      5\u001b[0m \u001b[0mtBins\u001b[0m \u001b[0;34m=\u001b[0m \u001b[0mpkl\u001b[0m\u001b[0;34m.\u001b[0m\u001b[0mload\u001b[0m\u001b[0;34m(\u001b[0m\u001b[0mopen\u001b[0m\u001b[0;34m(\u001b[0m\u001b[0;34m'/home/aliche/dataWork/ali/MECLesion_SleepData/Marta/Rat3661/LinearTrack_03-04-15Day2/parrentData/thBins.npArr'\u001b[0m\u001b[0;34m)\u001b[0m\u001b[0;34m)\u001b[0m\u001b[0;34m\u001b[0m\u001b[0m\n\u001b[0;32m----> 6\u001b[0;31m \u001b[0mS1\u001b[0m\u001b[0;34m,\u001b[0m\u001b[0mLT\u001b[0m\u001b[0;34m,\u001b[0m\u001b[0mS2\u001b[0m  \u001b[0;34m=\u001b[0m \u001b[0;34m[\u001b[0m\u001b[0mspk\u001b[0m\u001b[0;34m.\u001b[0m\u001b[0mtime_slice\u001b[0m\u001b[0;34m(\u001b[0m\u001b[0mitem\u001b[0m\u001b[0;34m[\u001b[0m\u001b[0;36m0\u001b[0m\u001b[0;34m]\u001b[0m\u001b[0;34m,\u001b[0m\u001b[0mitem\u001b[0m\u001b[0;34m[\u001b[0m\u001b[0;34m-\u001b[0m\u001b[0;36m1\u001b[0m\u001b[0;34m]\u001b[0m\u001b[0;34m)\u001b[0m \u001b[0;32mfor\u001b[0m \u001b[0mitem\u001b[0m \u001b[0;32min\u001b[0m \u001b[0mtBins\u001b[0m\u001b[0;34m]\u001b[0m\u001b[0;34m\u001b[0m\u001b[0m\n\u001b[0m\u001b[1;32m      7\u001b[0m \u001b[0mQ1\u001b[0m\u001b[0;34m,\u001b[0m\u001b[0mC1\u001b[0m\u001b[0;34m,\u001b[0m\u001b[0ml\u001b[0m\u001b[0;34m,\u001b[0m\u001b[0mV\u001b[0m\u001b[0;34m,\u001b[0m\u001b[0mP\u001b[0m \u001b[0;34m=\u001b[0m \u001b[0mS1\u001b[0m\u001b[0;34m.\u001b[0m\u001b[0mPCA\u001b[0m\u001b[0;34m(\u001b[0m\u001b[0mbins\u001b[0m\u001b[0;34m=\u001b[0m\u001b[0mtBins\u001b[0m\u001b[0;34m[\u001b[0m\u001b[0;36m0\u001b[0m\u001b[0;34m]\u001b[0m\u001b[0;34m)\u001b[0m\u001b[0;34m\u001b[0m\u001b[0m\n\u001b[1;32m      8\u001b[0m \u001b[0mQT\u001b[0m\u001b[0;34m,\u001b[0m\u001b[0mCT\u001b[0m\u001b[0;34m,\u001b[0m\u001b[0mlT\u001b[0m\u001b[0;34m,\u001b[0m\u001b[0mVT\u001b[0m\u001b[0;34m,\u001b[0m\u001b[0mPT\u001b[0m \u001b[0;34m=\u001b[0m \u001b[0mLT\u001b[0m\u001b[0;34m.\u001b[0m\u001b[0mPCA\u001b[0m\u001b[0;34m(\u001b[0m\u001b[0mbins\u001b[0m\u001b[0;34m=\u001b[0m\u001b[0mtBins\u001b[0m\u001b[0;34m[\u001b[0m\u001b[0;36m1\u001b[0m\u001b[0;34m]\u001b[0m\u001b[0;34m)\u001b[0m\u001b[0;34m\u001b[0m\u001b[0m\n",
      "\u001b[0;31mNameError\u001b[0m: name 'spk' is not defined"
     ]
    }
   ],
   "source": [
    "#lfp = pkl.load(open('/home/aliche/dataWork/ali/MECLesion_SleepData/Marta/Rat3661/LinearTrack_03-04-15Day2/03-sleep2/CSC1-post.lfp','rb'))\n",
    "#spk = pkl.load(open('/home/aliche/dataWork/ali/MECLesion_SleepData/Marta/Rat3661/LinearTrack_03-04-15Day2/parrentData/FiringUnits.spk','rb'))\n",
    "R0s = pkl.load(open('/home/aliche/ownCloud/IpythonNotebooks/Sleep/MEC_Lesion_Project/PCA_MEC/DATA/Rat3661-Day2-theta.R0'))\n",
    "Rls = pkl.load(open('/home/aliche/ownCloud/IpythonNotebooks/Sleep/MEC_Lesion_Project/PCA_MEC/DATA/Rat3661-Day2-theta.Rl'))\n",
    "tBins = pkl.load(open('/home/aliche/dataWork/ali/MECLesion_SleepData/Marta/Rat3661/LinearTrack_03-04-15Day2/parrentData/thBins.npArr'))\n",
    "S1,LT,S2  = [spk.time_slice(item[0],item[-1]) for item in tBins]\n",
    "Q1,C1,l,V,P = S1.PCA(bins=tBins[0])\n",
    "QT,CT,lT,VT,PT = LT.PCA(bins=tBins[1])\n",
    "Q2,C2,l,V,P = S2.PCA(bins=tBins[2])\n",
    "Z = linkage(CT,method='ward')#,metric='')\n",
    "order = dendrogram(Z,no_plot=True)['leaves']\n",
    "C1sort = np.zeros(CT.shape)\n",
    "CTsort = np.zeros(CT.shape)\n",
    "PTsort = [np.zeros(CT.shape) for ii in range(CT.shape[0])]\n",
    "C2sort = np.zeros(CT.shape)\n",
    "for ii,idx in enumerate(order):\n",
    "    C1sort[ii,:]+=C1[idx,order]\n",
    "    CTsort[ii,:]+=CT[idx,order]\n",
    "    C2sort[ii,:]+=C2[idx,order]\n",
    "    for pat in PT:\n",
    "        pat[ii,:]+= pat[idx,order]\n",
    "f,(ax,bx,cx) = pl.subplots(1,3,sharey=True,sharex=True,figsize=[6,2])\n",
    "ax.pcolormesh(C1sort-np.identity(CT.shape[0]),cmap=\"RdBu_r\")\n",
    "im = bx.pcolormesh(CTsort-np.identity(CT.shape[0]),cmap=\"RdBu_r\")\n",
    "cx.pcolormesh(C2sort-np.identity(CT.shape[0]),cmap=\"RdBu_r\")\n",
    "cx.set_ylim(0,CT.shape[0])\n",
    "for axx in [ax,bx,cx]:\n",
    "    axx.invert_yaxis()\n",
    "    axx.set_xlim(0,CT.shape[0])\n",
    "#pl.colorbar(im)"
   ]
  },
  {
   "cell_type": "code",
   "execution_count": 6,
   "metadata": {},
   "outputs": [],
   "source": [
    "ThdistL = np.sqrt(np.square(lesThPost)+np.square(lesThPre))\n",
    "ThdistC = np.sqrt(np.square(cntThPost)+np.square(cntThPre))\n",
    "outerC = np.logical_or(cntThPost>1.18,cntThPre>1.13)\n",
    "outerL = np.logical_or(lesThPost>1.18,lesThPre>1.13)\n",
    "######################\n",
    "ddf = pd.DataFrame([],columns=['d','range','group'])\n",
    "for ii,distances in enumerate([ThdistC,ThdistL]):\n",
    "    gr = ['control','lesioned']\n",
    "    for d in distances:\n",
    "        if d<1.5:\n",
    "            ddf = ddf.append(pd.DataFrame([[d,'short',gr[ii]]],columns=['d','range','group']),ignore_index=True)\n",
    "        elif d<1.9:\n",
    "            ddf = ddf.append(pd.DataFrame([[d,'medium',gr[ii]]],columns=['d','range','group']),ignore_index=True)\n",
    "        else:\n",
    "            ddf = ddf.append(pd.DataFrame([[d,'long',gr[ii]]],columns=['d','range','group']),ignore_index=True)\n",
    "##############################\n",
    "ThangL = np.arctan(lesThPost[outerL]/lesThPre[outerL])/np.pi*180\n",
    "ThangC = np.arctan(cntThPost[outerC]/cntThPre[outerC])/np.pi*180\n",
    "aaf = pd.DataFrame([],columns=['d','region','group'])\n",
    "for ii,angles in enumerate([ThangC,ThangL]):\n",
    "    gr = ['control','lesioned']\n",
    "    for a in angles:\n",
    "        if a<43:\n",
    "            aaf = aaf.append(pd.DataFrame([[a,'lower',gr[ii]]],columns=['d','region','group']),ignore_index=True)\n",
    "        elif a<47:\n",
    "            aaf = aaf.append(pd.DataFrame([[a,'middle',gr[ii]]],columns=['d','region','group']),ignore_index=True)\n",
    "        else:\n",
    "            aaf = aaf.append(pd.DataFrame([[a,'upper',gr[ii]]],columns=['d','region','group']),ignore_index=True)\n",
    "##############################\n",
    "ThprcL = 1e2*(lesThPost-lesThPre)/(lesThPost+lesThPre)\n",
    "ThprcC = 1e2*(cntThPost-cntThPre)/(cntThPost+cntThPre)\n",
    "ppf = pd.DataFrame([],columns=['p','range','group'])\n",
    "for ii,percents in enumerate([ThprcC,ThprcL]):\n",
    "    gr = ['control','lesioned']\n",
    "    for p in percents:\n",
    "        if p<-50:\n",
    "            ppf = ppf.append(pd.DataFrame([[p,'least',gr[ii]]],columns=['p','range','group']),ignore_index=True)\n",
    "        elif p<0:\n",
    "            ppf = ppf.append(pd.DataFrame([[p,'neg',gr[ii]]],columns=['p','range','group']),ignore_index=True)\n",
    "        elif p<5:\n",
    "            ppf = ppf.append(pd.DataFrame([[p,'pos',gr[ii]]],columns=['p','range','group']),ignore_index=True)\n",
    "        else:\n",
    "            ppf = ppf.append(pd.DataFrame([[p,'most',gr[ii]]],columns=['p','range','group']),ignore_index=True)"
   ]
  },
  {
   "cell_type": "code",
   "execution_count": 7,
   "metadata": {},
   "outputs": [
    {
     "ename": "NameError",
     "evalue": "name 'Q2' is not defined",
     "output_type": "error",
     "traceback": [
      "\u001b[0;31m---------------------------------------------------------------------------\u001b[0m",
      "\u001b[0;31mNameError\u001b[0m                                 Traceback (most recent call last)",
      "\u001b[0;32m<ipython-input-7-0085b6d6cda5>\u001b[0m in \u001b[0;36m<module>\u001b[0;34m()\u001b[0m\n\u001b[0;32m----> 1\u001b[0;31m \u001b[0mQ2sort\u001b[0m \u001b[0;34m=\u001b[0m \u001b[0mnp\u001b[0m\u001b[0;34m.\u001b[0m\u001b[0mzeros\u001b[0m\u001b[0;34m(\u001b[0m\u001b[0mQ2\u001b[0m\u001b[0;34m.\u001b[0m\u001b[0mshape\u001b[0m\u001b[0;34m)\u001b[0m\u001b[0;34m\u001b[0m\u001b[0m\n\u001b[0m\u001b[1;32m      2\u001b[0m \u001b[0;32mfor\u001b[0m \u001b[0mii\u001b[0m\u001b[0;34m,\u001b[0m\u001b[0midx\u001b[0m \u001b[0;32min\u001b[0m \u001b[0menumerate\u001b[0m\u001b[0;34m(\u001b[0m\u001b[0morder\u001b[0m\u001b[0;34m)\u001b[0m\u001b[0;34m:\u001b[0m\u001b[0;34m\u001b[0m\u001b[0m\n\u001b[1;32m      3\u001b[0m     \u001b[0mQ2sort\u001b[0m\u001b[0;34m[\u001b[0m\u001b[0mii\u001b[0m\u001b[0;34m,\u001b[0m\u001b[0;34m:\u001b[0m\u001b[0;34m]\u001b[0m\u001b[0;34m+=\u001b[0m\u001b[0mQ2\u001b[0m\u001b[0;34m[\u001b[0m\u001b[0midx\u001b[0m\u001b[0;34m,\u001b[0m\u001b[0;34m:\u001b[0m\u001b[0;34m]\u001b[0m\u001b[0;34m\u001b[0m\u001b[0m\n",
      "\u001b[0;31mNameError\u001b[0m: name 'Q2' is not defined"
     ]
    }
   ],
   "source": [
    "Q2sort = np.zeros(Q2.shape)\n",
    "for ii,idx in enumerate(order):\n",
    "    Q2sort[ii,:]+=Q2[idx,:]"
   ]
  },
  {
   "cell_type": "code",
   "execution_count": 8,
   "metadata": {},
   "outputs": [],
   "source": [
    "binSteps = np.zeros(2*tBins[2].size)\n",
    "binIdxSteps = np.zeros(2*tBins[2].size)\n",
    "r0Steps  = np.zeros(2*R0s[1][1].size)\n",
    "pt1Steps  = np.zeros(2*Rls[1][1][1].size)\n",
    "pt2Steps  = np.zeros(2*Rls[1][1][1].size)\n",
    "pt3Steps  = np.zeros(2*Rls[1][1][2].size)\n",
    "for ii,b in enumerate(tBins[2]):\n",
    "    binSteps[2*ii]+=b\n",
    "    binSteps[2*ii+1]+=b\n",
    "    binIdxSteps[2*ii]+=ii\n",
    "    binIdxSteps[2*ii+1]+=ii\n",
    "for ii,r in enumerate(R0s[1][1]):\n",
    "    r0Steps[2*ii]  +=r\n",
    "    r0Steps[2*ii+1]+=r\n",
    "for ii,r in enumerate(Rls[1][1][1]):\n",
    "    pt1Steps[2*ii]  +=r\n",
    "    pt1Steps[2*ii+1]+=r\n",
    "for ii,r in enumerate(Rls[1][1][2]):\n",
    "    pt2Steps[2*ii]  +=r\n",
    "    pt2Steps[2*ii+1]+=r\n",
    "for ii,r in enumerate(Rls[1][1][3]):\n",
    "    pt3Steps[2*ii]  +=r\n",
    "    pt3Steps[2*ii+1]+=r\n",
    "tBinCenters = np.zeros(tBins[1].size-1)\n",
    "for ii,b in enumerate(tBins[1][:-1]):\n",
    "    tBinCenters[ii]+= (b+tBins[1][ii+1])/2.0"
   ]
  },
  {
   "cell_type": "code",
   "execution_count": 9,
   "metadata": {},
   "outputs": [
    {
     "ename": "NameError",
     "evalue": "name 'lfp' is not defined",
     "output_type": "error",
     "traceback": [
      "\u001b[0;31m---------------------------------------------------------------------------\u001b[0m",
      "\u001b[0;31mNameError\u001b[0m                                 Traceback (most recent call last)",
      "\u001b[0;32m<ipython-input-9-b10bc8aca7a2>\u001b[0m in \u001b[0;36m<module>\u001b[0;34m()\u001b[0m\n\u001b[1;32m      1\u001b[0m \u001b[0;31m#lfp = pkl.load(open('/home/chenani/dataWork/ali/MECLesion_SleepData/Marta/Rat3906/LinearTrack_05-31-16_Day1/03-sleep2/CSC1-post.lfp','rb'))\u001b[0m\u001b[0;34m\u001b[0m\u001b[0;34m\u001b[0m\u001b[0m\n\u001b[1;32m      2\u001b[0m \u001b[0;31m#spk = pkl.load(open('/home/chenani/dataWork/ali/MECLesion_SleepData/Marta/Rat3906/LinearTrack_05-31-16_Day1/parrentData/FiringUnits.spk','rb'))\u001b[0m\u001b[0;34m\u001b[0m\u001b[0;34m\u001b[0m\u001b[0m\n\u001b[0;32m----> 3\u001b[0;31m \u001b[0mlfp\u001b[0m\u001b[0;34m.\u001b[0m\u001b[0mfilter\u001b[0m\u001b[0;34m(\u001b[0m\u001b[0;36m150\u001b[0m\u001b[0;34m,\u001b[0m\u001b[0;36m250\u001b[0m\u001b[0;34m)\u001b[0m\u001b[0;34m\u001b[0m\u001b[0m\n\u001b[0m\u001b[1;32m      4\u001b[0m \u001b[0mrippfilt\u001b[0m \u001b[0;34m=\u001b[0m \u001b[0mlfp\u001b[0m\u001b[0;34m.\u001b[0m\u001b[0msignal_filtered\u001b[0m\u001b[0;34m\u001b[0m\u001b[0m\n\u001b[1;32m      5\u001b[0m \u001b[0mlfp\u001b[0m\u001b[0;34m.\u001b[0m\u001b[0mhilbertTransform\u001b[0m\u001b[0;34m(\u001b[0m\u001b[0;34m)\u001b[0m\u001b[0;34m\u001b[0m\u001b[0m\n",
      "\u001b[0;31mNameError\u001b[0m: name 'lfp' is not defined"
     ]
    }
   ],
   "source": [
    "#lfp = pkl.load(open('/home/chenani/dataWork/ali/MECLesion_SleepData/Marta/Rat3906/LinearTrack_05-31-16_Day1/03-sleep2/CSC1-post.lfp','rb'))\n",
    "#spk = pkl.load(open('/home/chenani/dataWork/ali/MECLesion_SleepData/Marta/Rat3906/LinearTrack_05-31-16_Day1/parrentData/FiringUnits.spk','rb'))\n",
    "lfp.filter(150,250)\n",
    "rippfilt = lfp.signal_filtered\n",
    "lfp.hilbertTransform()\n",
    "rippHilb = lfp.hilbertAbsSmooth\n",
    "lfp.filter(5,10)\n",
    "thetfilt = lfp.signal_filtered\n",
    "lfp.hilbertTransform()\n",
    "thetHilb = lfp.hilbertAbsSmooth"
   ]
  },
  {
   "cell_type": "code",
   "execution_count": 10,
   "metadata": {},
   "outputs": [
    {
     "ename": "NameError",
     "evalue": "name 'spk' is not defined",
     "output_type": "error",
     "traceback": [
      "\u001b[0;31m---------------------------------------------------------------------------\u001b[0m",
      "\u001b[0;31mNameError\u001b[0m                                 Traceback (most recent call last)",
      "\u001b[0;32m<ipython-input-10-f8f3ce03cb55>\u001b[0m in \u001b[0;36m<module>\u001b[0;34m()\u001b[0m\n\u001b[1;32m      1\u001b[0m \u001b[0mf\u001b[0m\u001b[0;34m,\u001b[0m\u001b[0;34m(\u001b[0m\u001b[0mxx\u001b[0m\u001b[0;34m,\u001b[0m\u001b[0myx\u001b[0m\u001b[0;34m,\u001b[0m\u001b[0mzx\u001b[0m\u001b[0;34m)\u001b[0m \u001b[0;34m=\u001b[0m \u001b[0mpl\u001b[0m\u001b[0;34m.\u001b[0m\u001b[0msubplots\u001b[0m\u001b[0;34m(\u001b[0m\u001b[0;36m3\u001b[0m\u001b[0;34m,\u001b[0m\u001b[0;36m1\u001b[0m\u001b[0;34m,\u001b[0m\u001b[0msharex\u001b[0m\u001b[0;34m=\u001b[0m\u001b[0mTrue\u001b[0m\u001b[0;34m)\u001b[0m\u001b[0;34m\u001b[0m\u001b[0m\n\u001b[0;32m----> 2\u001b[0;31m \u001b[0;32mfor\u001b[0m \u001b[0m_i_\u001b[0m\u001b[0;34m,\u001b[0m\u001b[0mcell\u001b[0m \u001b[0;32min\u001b[0m \u001b[0menumerate\u001b[0m\u001b[0;34m(\u001b[0m\u001b[0mspk\u001b[0m\u001b[0;34m)\u001b[0m\u001b[0;34m:\u001b[0m\u001b[0;34m\u001b[0m\u001b[0m\n\u001b[0m\u001b[1;32m      3\u001b[0m     \u001b[0mxx\u001b[0m\u001b[0;34m.\u001b[0m\u001b[0mscatter\u001b[0m\u001b[0;34m(\u001b[0m\u001b[0mcell\u001b[0m\u001b[0;34m.\u001b[0m\u001b[0mspike_times\u001b[0m\u001b[0;34m,\u001b[0m\u001b[0m_i_\u001b[0m\u001b[0;34m*\u001b[0m\u001b[0mnp\u001b[0m\u001b[0;34m.\u001b[0m\u001b[0mones\u001b[0m\u001b[0;34m(\u001b[0m\u001b[0mcell\u001b[0m\u001b[0;34m.\u001b[0m\u001b[0mspike_times\u001b[0m\u001b[0;34m.\u001b[0m\u001b[0msize\u001b[0m\u001b[0;34m)\u001b[0m\u001b[0;34m)\u001b[0m\u001b[0;34m\u001b[0m\u001b[0m\n\u001b[1;32m      4\u001b[0m \u001b[0myx\u001b[0m\u001b[0;34m.\u001b[0m\u001b[0mplot\u001b[0m\u001b[0;34m(\u001b[0m\u001b[0mlfp\u001b[0m\u001b[0;34m.\u001b[0m\u001b[0mtimeAxis\u001b[0m\u001b[0;34m,\u001b[0m\u001b[0mlfp\u001b[0m\u001b[0;34m.\u001b[0m\u001b[0msignal\u001b[0m\u001b[0;34m)\u001b[0m\u001b[0;34m\u001b[0m\u001b[0m\n\u001b[1;32m      5\u001b[0m \u001b[0mzx\u001b[0m\u001b[0;34m.\u001b[0m\u001b[0mplot\u001b[0m\u001b[0;34m(\u001b[0m\u001b[0mlfp\u001b[0m\u001b[0;34m.\u001b[0m\u001b[0mtimeAxis\u001b[0m\u001b[0;34m,\u001b[0m\u001b[0;34m(\u001b[0m\u001b[0mrippHilb\u001b[0m\u001b[0;34m-\u001b[0m\u001b[0mrippHilb\u001b[0m\u001b[0;34m.\u001b[0m\u001b[0mmean\u001b[0m\u001b[0;34m(\u001b[0m\u001b[0;34m)\u001b[0m\u001b[0;34m)\u001b[0m\u001b[0;34m/\u001b[0m\u001b[0mrippHilb\u001b[0m\u001b[0;34m.\u001b[0m\u001b[0mstd\u001b[0m\u001b[0;34m(\u001b[0m\u001b[0;34m)\u001b[0m\u001b[0;34m,\u001b[0m\u001b[0;34m'r'\u001b[0m\u001b[0;34m)\u001b[0m\u001b[0;34m\u001b[0m\u001b[0m\n",
      "\u001b[0;31mNameError\u001b[0m: name 'spk' is not defined"
     ]
    }
   ],
   "source": [
    "f,(xx,yx,zx) = pl.subplots(3,1,sharex=True)\n",
    "for _i_,cell in enumerate(spk):\n",
    "    xx.scatter(cell.spike_times,_i_*np.ones(cell.spike_times.size))\n",
    "yx.plot(lfp.timeAxis,lfp.signal)\n",
    "zx.plot(lfp.timeAxis,(rippHilb-rippHilb.mean())/rippHilb.std(),'r')\n",
    "zx.plot(lfp.timeAxis,(thetHilb-thetHilb.mean())/thetHilb.std(),'c')"
   ]
  },
  {
   "cell_type": "code",
   "execution_count": 11,
   "metadata": {},
   "outputs": [],
   "source": [
    "sns.set_context(\"paper\",font_scale=1.6)\n",
    "colors = [\"windows blue\", \"amber\", \"greyish\", \"faded green\", \"dusty purple\"]\n",
    "leftRight = sns.color_palette(['#f9ba32','#426e86'])\n",
    "seabC = sns.xkcd_palette(colors)\n",
    "seabP = sns.color_palette(\"Paired\")\n",
    "flatui = sns.color_palette([  \"#34495e\",\"#e74c3c\", \"#2ecc71\",\"#9b59b6\", \"#3498db\", \"#95a5a6\"])\n",
    "#sns.palplot(flatui)\n",
    "sns.set_style('ticks')\n",
    "kr = sns.color_palette(['k','r'])\n",
    "###############BASIC LAYOUT\n",
    "figure = pl.figure(figsize = [13,9])\n",
    "gs1 = GridSpec(8,32,wspace=0.1)\n",
    "gs1.update(left=0.07, right=0.93,bottom=0.42,top=0.62, wspace=1)\n",
    "#gs1.update(left=0.05, right=0.95,bottom=0.5,top=0.75, wspace=1)\n",
    "gs2 = GridSpec(42,42,wspace=0.1)\n",
    "#gs2.update(left=0.05, right=0.95,bottom=0.25,top=0.5, wspace=1)\n",
    "gs2.update(left=0.07, right=0.93,bottom=0.05,top=0.40, wspace=1)\n",
    "gs3 = GridSpec(21,2,wspace=0.1)\n",
    "#gs3.update(left=0.05, right=0.95,bottom=0.750,top=0.99, wspace=1)\n",
    "gs3.update(left=0.07, right=0.93,bottom=0.65,top=0.98, wspace=1)\n",
    "#####gs1\n",
    "ax0 = pl.subplot(gs1[:8,:6],)\n",
    "ax00 = pl.subplot(gs1[:8,20:32])\n",
    "ax1 = pl.subplot(gs1[:8,7:9],sharey=ax0)\n",
    "ax2 = pl.subplot(gs1[:8,9:10],sharey=ax0)\n",
    "ax3 = pl.subplot(gs1[:8,10:11],sharey=ax0)\n",
    "ax4 = pl.subplot(gs1[:8,11:12],sharey=ax0)\n",
    "ax5 = pl.subplot(gs1[:8,13:15],sharey=ax0)\n",
    "ax6 = pl.subplot(gs1[:8,15:16],sharey=ax0)\n",
    "ax7 = pl.subplot(gs1[:8,16:17],sharey=ax0)\n",
    "ax8 = pl.subplot(gs1[:8,17:18],sharey=ax0)\n",
    "########gs2\n",
    "ax9  = pl.subplot(gs2[8:38,:15])\n",
    "#ax10 = pl.subplot(gs2[7:19,9:15])\n",
    "ax12 = pl.subplot(gs2[8:38,18:25])\n",
    "ax11 = pl.subplot(gs2[8:38,29:])\n",
    "#######gs3\n",
    "bx1 = pl.subplot(gs3[:8,:])\n",
    "bx2 = pl.subplot(gs3[8:15,:],sharex=bx1)\n",
    "bx3 = pl.subplot(gs3[15:18,:],sharex=bx1)\n",
    "axarrAll = [ax0,ax1,ax2,ax3,ax4,ax5,ax6,ax7,ax8]#,ax9,ax10,ax11]\n",
    "narroax = [ax2,ax3,ax4,ax6,ax7,ax8]\n",
    "fatax = [ax0,ax1,ax5]\n",
    "for axx in axarrAll[:]:\n",
    "    pl.setp(axx.get_yticklabels(), visible=False)\n",
    "for axx in narroax[:]:\n",
    "    pl.setp(axx.get_xticklabels(), visible=False)\n",
    "    pl.setp(axx.get_xticklines(),visible=False)\n",
    "    pl.setp(axx.get_yticklines(),visible=False)\n",
    "for axx in fatax:\n",
    "    pl.setp(axx.get_yticklines(),visible=False)\n",
    "    pl.setp(axx.get_xticklines(),visible=False)"
   ]
  },
  {
   "cell_type": "code",
   "execution_count": 12,
   "metadata": {},
   "outputs": [
    {
     "ename": "NameError",
     "evalue": "name 'spk' is not defined",
     "output_type": "error",
     "traceback": [
      "\u001b[0;31m---------------------------------------------------------------------------\u001b[0m",
      "\u001b[0;31mNameError\u001b[0m                                 Traceback (most recent call last)",
      "\u001b[0;32m<ipython-input-12-3a33504f165b>\u001b[0m in \u001b[0;36m<module>\u001b[0;34m()\u001b[0m\n\u001b[1;32m      1\u001b[0m \u001b[0;31m#f,ax = pl.subplots(1,1)\u001b[0m\u001b[0;34m\u001b[0m\u001b[0;34m\u001b[0m\u001b[0m\n\u001b[0;32m----> 2\u001b[0;31m \u001b[0mspkCut\u001b[0m \u001b[0;34m=\u001b[0m \u001b[0mspk\u001b[0m\u001b[0;34m.\u001b[0m\u001b[0mtime_slice\u001b[0m\u001b[0;34m(\u001b[0m\u001b[0;36m5755000\u001b[0m\u001b[0;34m,\u001b[0m\u001b[0;36m5769000\u001b[0m\u001b[0;34m)\u001b[0m\u001b[0;34m\u001b[0m\u001b[0m\n\u001b[0m\u001b[1;32m      3\u001b[0m \u001b[0mspkCut\u001b[0m\u001b[0;34m.\u001b[0m\u001b[0mrasterPlot\u001b[0m\u001b[0;34m(\u001b[0m\u001b[0mfig\u001b[0m\u001b[0;34m=\u001b[0m\u001b[0mfigure\u001b[0m\u001b[0;34m,\u001b[0m\u001b[0max\u001b[0m\u001b[0;34m=\u001b[0m\u001b[0mbx1\u001b[0m\u001b[0;34m,\u001b[0m\u001b[0mlw\u001b[0m\u001b[0;34m=\u001b[0m\u001b[0;36m3\u001b[0m\u001b[0;34m)\u001b[0m\u001b[0;34m\u001b[0m\u001b[0m\n\u001b[1;32m      4\u001b[0m \u001b[0mbx2\u001b[0m\u001b[0;34m.\u001b[0m\u001b[0mplot\u001b[0m\u001b[0;34m(\u001b[0m\u001b[0mlfp\u001b[0m\u001b[0;34m.\u001b[0m\u001b[0mtimeAxis\u001b[0m\u001b[0;34m,\u001b[0m\u001b[0mlfp\u001b[0m\u001b[0;34m.\u001b[0m\u001b[0msignal\u001b[0m\u001b[0;34m,\u001b[0m\u001b[0mc\u001b[0m\u001b[0;34m=\u001b[0m\u001b[0;34m'k'\u001b[0m\u001b[0;34m,\u001b[0m\u001b[0mlw\u001b[0m\u001b[0;34m=\u001b[0m\u001b[0;36m1\u001b[0m\u001b[0;34m)\u001b[0m\u001b[0;34m\u001b[0m\u001b[0m\n\u001b[1;32m      5\u001b[0m \u001b[0mbx2\u001b[0m\u001b[0;34m.\u001b[0m\u001b[0mset_ylim\u001b[0m\u001b[0;34m(\u001b[0m\u001b[0;34m-\u001b[0m\u001b[0;36m2e4\u001b[0m\u001b[0;34m,\u001b[0m\u001b[0;36m2e4\u001b[0m\u001b[0;34m)\u001b[0m\u001b[0;34m\u001b[0m\u001b[0m\n",
      "\u001b[0;31mNameError\u001b[0m: name 'spk' is not defined"
     ]
    }
   ],
   "source": [
    "#f,ax = pl.subplots(1,1)\n",
    "spkCut = spk.time_slice(5755000,5769000)\n",
    "spkCut.rasterPlot(fig=figure,ax=bx1,lw=3)\n",
    "bx2.plot(lfp.timeAxis,lfp.signal,c='k',lw=1)\n",
    "bx2.set_ylim(-2e4,2e4)\n",
    "bx3.plot(lfp.timeAxis,(rippHilb-rippHilb.mean())/rippHilb.std(),color = '#ba5ee8')\n",
    "#bx3.plot(lfp.timeAxis,(thetHilb-thetHilb.mean())/thetHilb.std(),'c')\n",
    "bx2.set_xlim([5755500,5769000])\n",
    "bx3.set_xticklabels(np.arange(-2,15,2))\n",
    "bx3.set_ylim(-2,7)\n",
    "pl.setp(bx3.get_yticklabels(),visible=False)\n",
    "pl.setp(bx2.get_yticklabels(),visible=False)\n",
    "pl.setp(bx3.get_yticklines(),visible=False)\n",
    "pl.setp(bx2.get_yticklines(),visible=False);\n",
    "bx3.set_xlabel('Time (s)')"
   ]
  },
  {
   "cell_type": "code",
   "execution_count": 13,
   "metadata": {},
   "outputs": [],
   "source": [
    "gs3.update(left=0.07, right=0.93,bottom=0.65,top=0.98, wspace=1)"
   ]
  },
  {
   "cell_type": "code",
   "execution_count": 325,
   "metadata": {},
   "outputs": [],
   "source": [
    "bx1.cla()\n",
    "bx2.cla()\n",
    "bx3.cla()"
   ]
  },
  {
   "cell_type": "code",
   "execution_count": 14,
   "metadata": {},
   "outputs": [
    {
     "ename": "NameError",
     "evalue": "name 'Q2' is not defined",
     "output_type": "error",
     "traceback": [
      "\u001b[0;31m---------------------------------------------------------------------------\u001b[0m",
      "\u001b[0;31mNameError\u001b[0m                                 Traceback (most recent call last)",
      "\u001b[0;32m<ipython-input-14-e8588c5a5805>\u001b[0m in \u001b[0;36m<module>\u001b[0;34m()\u001b[0m\n\u001b[1;32m      1\u001b[0m \u001b[0mptMap\u001b[0m \u001b[0;34m=\u001b[0m \u001b[0;34m'coolwarm'\u001b[0m\u001b[0;34m\u001b[0m\u001b[0m\n\u001b[0;32m----> 2\u001b[0;31m \u001b[0max00\u001b[0m\u001b[0;34m.\u001b[0m\u001b[0mplot\u001b[0m\u001b[0;34m(\u001b[0m\u001b[0mbinIdxSteps\u001b[0m\u001b[0;34m[\u001b[0m\u001b[0;36m1\u001b[0m\u001b[0;34m:\u001b[0m\u001b[0;34m-\u001b[0m\u001b[0;36m1\u001b[0m\u001b[0;34m]\u001b[0m\u001b[0;34m,\u001b[0m\u001b[0mpt2Steps\u001b[0m\u001b[0;34m/\u001b[0m\u001b[0;36m2\u001b[0m\u001b[0;34m+\u001b[0m\u001b[0mQ2\u001b[0m\u001b[0;34m.\u001b[0m\u001b[0mshape\u001b[0m\u001b[0;34m[\u001b[0m\u001b[0;36m0\u001b[0m\u001b[0;34m]\u001b[0m\u001b[0;34m,\u001b[0m\u001b[0mlabel\u001b[0m\u001b[0;34m=\u001b[0m\u001b[0;34m'1st pattern'\u001b[0m\u001b[0;34m)\u001b[0m\u001b[0;34m\u001b[0m\u001b[0m\n\u001b[0m\u001b[1;32m      3\u001b[0m \u001b[0max00\u001b[0m\u001b[0;34m.\u001b[0m\u001b[0mplot\u001b[0m\u001b[0;34m(\u001b[0m\u001b[0mbinIdxSteps\u001b[0m\u001b[0;34m[\u001b[0m\u001b[0;36m1\u001b[0m\u001b[0;34m:\u001b[0m\u001b[0;34m-\u001b[0m\u001b[0;36m1\u001b[0m\u001b[0;34m]\u001b[0m\u001b[0;34m,\u001b[0m\u001b[0mpt3Steps\u001b[0m\u001b[0;34m/\u001b[0m\u001b[0;36m2\u001b[0m\u001b[0;34m+\u001b[0m\u001b[0mQ2\u001b[0m\u001b[0;34m.\u001b[0m\u001b[0mshape\u001b[0m\u001b[0;34m[\u001b[0m\u001b[0;36m0\u001b[0m\u001b[0;34m]\u001b[0m\u001b[0;34m,\u001b[0m\u001b[0mlabel\u001b[0m\u001b[0;34m=\u001b[0m\u001b[0;34m'2nd pattern'\u001b[0m\u001b[0;34m)\u001b[0m\u001b[0;34m\u001b[0m\u001b[0m\n\u001b[1;32m      4\u001b[0m \u001b[0max00\u001b[0m\u001b[0;34m.\u001b[0m\u001b[0mset_xlim\u001b[0m\u001b[0;34m(\u001b[0m\u001b[0;36m500\u001b[0m\u001b[0;34m,\u001b[0m\u001b[0;36m5000\u001b[0m\u001b[0;34m)\u001b[0m\u001b[0;34m\u001b[0m\u001b[0m\n\u001b[1;32m      5\u001b[0m \u001b[0max00\u001b[0m\u001b[0;34m.\u001b[0m\u001b[0mset_ylim\u001b[0m\u001b[0;34m(\u001b[0m\u001b[0;36m0\u001b[0m\u001b[0;34m,\u001b[0m\u001b[0;36m400\u001b[0m\u001b[0;34m)\u001b[0m\u001b[0;34m\u001b[0m\u001b[0m\n",
      "\u001b[0;31mNameError\u001b[0m: name 'Q2' is not defined"
     ]
    }
   ],
   "source": [
    "ptMap = 'coolwarm'\n",
    "ax00.plot(binIdxSteps[1:-1],pt2Steps/2+Q2.shape[0],label='1st pattern')\n",
    "ax00.plot(binIdxSteps[1:-1],pt3Steps/2+Q2.shape[0],label='2nd pattern')\n",
    "ax00.set_xlim(500,5000)\n",
    "ax00.set_ylim(0,400)\n",
    "ax00.set_ylabel('Aactivation (a.u.)')\n",
    "ax00.legend(loc=0)\n",
    "pl.setp(ax00.get_yticklabels(), visible=False)\n",
    "pl.setp(ax00.get_yticklines(), visible=False)\n",
    "ax00.xaxis.tick_bottom()\n",
    "ax00.set_xticks([700,1700,2700,3700,4700])\n",
    "ax00.set_xticklabels([0,1,2,3,4])\n",
    "ax00.set_xlabel('Time(s)')\n",
    "##########\n",
    "ax0.pcolormesh(CTsort- np.identity(CT.shape[0]),cmap=ptMap)#'RdBu_r')\n",
    "ax0.set_xlim(0,CT.shape[0])\n",
    "ax0.set_ylim(0,CT.shape[0])\n",
    "ax1.pcolormesh(VT[-5][order].reshape(54,1),cmap=ptMap)\n",
    "#print VT[2].max()\n",
    "ax1.set_xlim(0,1)\n",
    "q11 = Q2sort[:,21300:21301]\n",
    "q12 = Q2sort[:,8184:8185]\n",
    "q13 = Q2sort[:,3335:3336]\n",
    "ax2.pcolormesh(q11/q11.max()*VT[-5].max(),cmap=ptMap,vmin=VT[-5].min()*VT[-5].max(),vmax=VT[-5].max())\n",
    "ax3.pcolormesh(q12/q12.max()*VT[-5].max(),cmap=ptMap,vmin=VT[-5].min()*VT[-5].max(),vmax=VT[-5].max())\n",
    "ax4.pcolormesh(q13/q13.max()*VT[-5].max(),cmap=ptMap,vmin=VT[-5].min()*VT[-5].max(),vmax=VT[-5].max())\n",
    "######################\n",
    "ax5.pcolormesh(VT[-2][order].reshape(54,1),cmap=ptMap)\n",
    "ax5.set_xlim(0,1)\n",
    "q21 = Q2sort[:,18270:18271]\n",
    "q22 = Q2sort[:,2153:2154]\n",
    "q23 = Q2sort[:,2648:2649]\n",
    "ax6.pcolormesh(q21/q21.max()*VT[-2].max(),cmap=ptMap,vmin=VT[-2].min(),vmax=VT[-2].max())#,vmin=30*VT[-2].min(),vmax=3*VT[-2].max())\n",
    "ax7.pcolormesh(q22/q22.max()*VT[-2].max(),cmap=ptMap,vmin=VT[-2].min(),vmax=VT[-2].max())\n",
    "ax8.pcolormesh(q23/q23.max()*VT[-2].max(),cmap=ptMap,vmin=VT[-2].min(),vmax=VT[-2].max())\n",
    "ax1.set_ylim(0,CT.shape[0])\n",
    "ax0.invert_yaxis()\n",
    "for axx in axarrAll[:]:\n",
    "    pl.setp(axx.get_yticklabels(), visible=False)\n",
    "    pl.setp(axx.get_xticklabels(), visible=False)\n",
    "for axx in axarrAll:\n",
    "    pl.setp(axx.get_yticklines(),visible=False)\n",
    "    pl.setp(axx.get_xticklines(),visible=False)"
   ]
  },
  {
   "cell_type": "code",
   "execution_count": 354,
   "metadata": {},
   "outputs": [],
   "source": [
    "ax00.cla()\n",
    "ax0.cla()\n",
    "ax1.cla()\n",
    "ax2.cla()\n",
    "ax3.cla()\n",
    "ax4.cla()\n",
    "ax5.cla()\n",
    "ax6.cla()\n",
    "ax7.cla()\n",
    "ax8.cla()"
   ]
  },
  {
   "cell_type": "code",
   "execution_count": 321,
   "metadata": {},
   "outputs": [
    {
     "data": {
      "text/plain": [
       "<matplotlib.legend.Legend at 0x7f1597a97390>"
      ]
     },
     "execution_count": 321,
     "metadata": {},
     "output_type": "execute_result"
    }
   ],
   "source": [
    "ft,dfx =pl.subplots(1,1)\n",
    "dfx.plot(R0s[1][1]-50)\n",
    "dfx.plot(Rls[1][1][7]+25,label='1st')\n",
    "dfx.plot(Rls[1][1][8]+50,label='2nd')\n",
    "dfx.plot(Rls[1][1][6],'--',label='3d')\n",
    "pl.legend()"
   ]
  },
  {
   "cell_type": "code",
   "execution_count": 324,
   "metadata": {},
   "outputs": [
    {
     "data": {
      "text/plain": [
       "[<matplotlib.lines.Line2D at 0x7f1597892d10>]"
      ]
     },
     "execution_count": 324,
     "metadata": {},
     "output_type": "execute_result"
    }
   ],
   "source": [
    "dfx.cla()\n",
    "VTT = np.zeros_like(VT)\n",
    "for ii,row in enumerate(VT.T):\n",
    "    VTT[ii]= (row-row.mean())/row.std()\n",
    "VTT.max()\n",
    "#dfx.pcolorfast(VTT[order],cmap=ptMap)\n",
    "#pl.plot(\n",
    "#for item in zip(np.argsort(Rls[1][1].max(axis=1)),np.sort(Rls[1][1].max(axis=1))):\n",
    "    #print item\n",
    "#Q2sort.shape,pt1Steps.shape,Q2.min(),VT.min(),Q2.max(),VT.max()\n",
    "#dfx.hist(Q2)\n",
    "#print l\n",
    "#dfx.plot(q21)\n",
    "dfx.plot(VT[-2][order])\n",
    "dfx.plot(q21/q21.max()*VT[-2].max())"
   ]
  },
  {
   "cell_type": "code",
   "execution_count": 305,
   "metadata": {},
   "outputs": [
    {
     "name": "stdout",
     "output_type": "stream",
     "text": [
      "[24715  4508  5244 21300  8184  3335]\n"
     ]
    }
   ],
   "source": [
    "from scipy.signal import argrelmax\n",
    "q2dotV=Q2.T.dot(VT[-5])\n",
    "argmax = argrelmax(q2dotV)[0]\n",
    "bigMax = argmax[np.argsort(q2dotV[argmax])][-6:]\n",
    "bigMax\n",
    "#pl.plot(q2dotV)\n",
    "#pl.scatter(bigMax,q2dotV[bigMax],c='r')\n",
    "print bigMax"
   ]
  },
  {
   "cell_type": "code",
   "execution_count": 31,
   "metadata": {},
   "outputs": [],
   "source": [
    "gs1.update(left=0.07, right=0.93,bottom=0.42,top=0.62, wspace=1)"
   ]
  },
  {
   "cell_type": "code",
   "execution_count": 19,
   "metadata": {},
   "outputs": [
    {
     "ename": "ValueError",
     "evalue": "Buffer dtype mismatch, expected 'DOUBLE' but got 'complex double'",
     "output_type": "error",
     "traceback": [
      "\u001b[0;31m---------------------------------------------------------------------------\u001b[0m",
      "\u001b[0;31mValueError\u001b[0m                                Traceback (most recent call last)",
      "\u001b[0;32m<ipython-input-19-c9cfb1b17398>\u001b[0m in \u001b[0;36m<module>\u001b[0;34m()\u001b[0m\n\u001b[1;32m      3\u001b[0m \u001b[0mcDkde\u001b[0m\u001b[0;34m.\u001b[0m\u001b[0mfit\u001b[0m\u001b[0;34m(\u001b[0m\u001b[0;34m)\u001b[0m\u001b[0;34m\u001b[0m\u001b[0m\n\u001b[1;32m      4\u001b[0m \u001b[0mbw\u001b[0m \u001b[0;34m=\u001b[0m \u001b[0mcDkde\u001b[0m\u001b[0;34m.\u001b[0m\u001b[0mbw\u001b[0m\u001b[0;34m\u001b[0m\u001b[0m\n\u001b[0;32m----> 5\u001b[0;31m \u001b[0mlDkde\u001b[0m\u001b[0;34m.\u001b[0m\u001b[0mfit\u001b[0m\u001b[0;34m(\u001b[0m\u001b[0mbw\u001b[0m\u001b[0;34m=\u001b[0m\u001b[0mbw\u001b[0m\u001b[0;34m)\u001b[0m\u001b[0;34m\u001b[0m\u001b[0m\n\u001b[0m\u001b[1;32m      6\u001b[0m \u001b[0;31m#ax10.plot(cDkde.support,cDkde.cdf,'k')\u001b[0m\u001b[0;34m\u001b[0m\u001b[0;34m\u001b[0m\u001b[0m\n\u001b[1;32m      7\u001b[0m \u001b[0;31m#ax10.plot(lDkde.support,lDkde.cdf,'r')\u001b[0m\u001b[0;34m\u001b[0m\u001b[0;34m\u001b[0m\u001b[0m\n",
      "\u001b[0;32m/home/aliche/anaconda3/envs/py27/lib/python2.7/site-packages/statsmodels/nonparametric/kde.pyc\u001b[0m in \u001b[0;36mfit\u001b[0;34m(self, kernel, bw, fft, weights, gridsize, adjust, cut, clip)\u001b[0m\n\u001b[1;32m    144\u001b[0m             density, grid, bw = kdensityfft(endog, kernel=kernel, bw=bw,\n\u001b[1;32m    145\u001b[0m                     \u001b[0madjust\u001b[0m\u001b[0;34m=\u001b[0m\u001b[0madjust\u001b[0m\u001b[0;34m,\u001b[0m \u001b[0mweights\u001b[0m\u001b[0;34m=\u001b[0m\u001b[0mweights\u001b[0m\u001b[0;34m,\u001b[0m \u001b[0mgridsize\u001b[0m\u001b[0;34m=\u001b[0m\u001b[0mgridsize\u001b[0m\u001b[0;34m,\u001b[0m\u001b[0;34m\u001b[0m\u001b[0m\n\u001b[0;32m--> 146\u001b[0;31m                     clip=clip, cut=cut)\n\u001b[0m\u001b[1;32m    147\u001b[0m         \u001b[0;32melse\u001b[0m\u001b[0;34m:\u001b[0m\u001b[0;34m\u001b[0m\u001b[0m\n\u001b[1;32m    148\u001b[0m             density, grid, bw = kdensity(endog, kernel=kernel, bw=bw,\n",
      "\u001b[0;32m/home/aliche/anaconda3/envs/py27/lib/python2.7/site-packages/statsmodels/nonparametric/kde.pyc\u001b[0m in \u001b[0;36mkdensityfft\u001b[0;34m(X, kernel, bw, weights, gridsize, adjust, clip, cut, retgrid)\u001b[0m\n\u001b[1;32m    492\u001b[0m \u001b[0;34m\u001b[0m\u001b[0m\n\u001b[1;32m    493\u001b[0m \u001b[0;31m#NOTE: THE ABOVE IS WRONG, JUST TRY WITH LINEAR BINNING\u001b[0m\u001b[0;34m\u001b[0m\u001b[0;34m\u001b[0m\u001b[0m\n\u001b[0;32m--> 494\u001b[0;31m     \u001b[0mbinned\u001b[0m \u001b[0;34m=\u001b[0m \u001b[0mfast_linbin\u001b[0m\u001b[0;34m(\u001b[0m\u001b[0mX\u001b[0m\u001b[0;34m,\u001b[0m\u001b[0ma\u001b[0m\u001b[0;34m,\u001b[0m\u001b[0mb\u001b[0m\u001b[0;34m,\u001b[0m\u001b[0mgridsize\u001b[0m\u001b[0;34m)\u001b[0m\u001b[0;34m/\u001b[0m\u001b[0;34m(\u001b[0m\u001b[0mdelta\u001b[0m\u001b[0;34m*\u001b[0m\u001b[0mnobs\u001b[0m\u001b[0;34m)\u001b[0m\u001b[0;34m\u001b[0m\u001b[0m\n\u001b[0m\u001b[1;32m    495\u001b[0m \u001b[0;34m\u001b[0m\u001b[0m\n\u001b[1;32m    496\u001b[0m     \u001b[0;31m# step 2 compute FFT of the weights, using Munro (1976) FFT convention\u001b[0m\u001b[0;34m\u001b[0m\u001b[0;34m\u001b[0m\u001b[0m\n",
      "\u001b[0;32mstatsmodels\\nonparametric\\linbin.pyx\u001b[0m in \u001b[0;36mstatsmodels.nonparametric.linbin.fast_linbin (statsmodels/nonparametric/linbin.c:1683)\u001b[0;34m()\u001b[0m\n",
      "\u001b[0;31mValueError\u001b[0m: Buffer dtype mismatch, expected 'DOUBLE' but got 'complex double'"
     ]
    }
   ],
   "source": [
    "cDkde = sm.nonparametric.KDEUnivariate(cntThPost[outerC])#ddf[ddf.group=='control'].d)\n",
    "lDkde = sm.nonparametric.KDEUnivariate(lesThPost[outerL])#ddf[ddf.group=='lesioned'].d)\n",
    "cDkde.fit()\n",
    "bw = cDkde.bw\n",
    "lDkde.fit(bw=bw)\n",
    "#ax10.plot(cDkde.support,cDkde.cdf,'k')\n",
    "#ax10.plot(lDkde.support,lDkde.cdf,'r')\n",
    "#sns.boxplot(x='range',y='d',data=ddf,hue='group',order=['short','medium','long'],linewidth=1,ax=ax10,palette=kr)\n",
    "#ax10.set_ylim([0.9,3.1])\n",
    "#ax10.set_xticks([1,3,5])\n",
    "#ax10.set_xlabel(r'$A_{POST}$')\n",
    "ax11.set_ylabel(' Cumulative probability')\n",
    "#ax10.set_xticklabels(['low','mid','high'])\n",
    "#ax10.set_yticks([1,2,3])\n",
    "#ax10.legend(['Contol','Lesioned'])\n",
    "#ax10.set_ylim(-0.05,1.05)\n",
    "#ax10.set_yticks([0,0.5,1])\n",
    "#ax10.xaxis.tick_bottom()\n",
    "#ax10.yaxis.tick_left()\n",
    "###############\n",
    "cAkde = sm.nonparametric.KDEUnivariate(aaf[aaf.group=='control'].d)\n",
    "lAkde = sm.nonparametric.KDEUnivariate(aaf[aaf.group=='lesioned'].d)\n",
    "cAkde.fit()\n",
    "lAkde.fit()\n",
    "#ax11.plot(cAkde.support,cAkde.cdf,'k')\n",
    "#ax11.plot(lAkde.support,lAkde.cdf,'r')\n",
    "#sns.boxplot(x='region',y='d',data=aaf,hue='group',order=['lower','middle','upper'],linewidth=1,ax=ax11,palette=kr)\n",
    "#ax11.set_ylim([-0.05,1.05])\n",
    "#ax11.legend('')\n",
    "#ax11.set_xticks([45,55,65])\n",
    "#ax11.set_yticks([0,0.5,1])\n",
    "#ax11.set_xticklabels([1.0,1.4,2.1])\n",
    "#ax11.set_xticklabels([r'$\\vee$',r'$\\times$',r'$\\wedge$'],fontsize=20)\n",
    "#ax11.set_xlabel('Ratio')\n",
    "#ax11.set_ylabel('')\n",
    "#ax11.xaxis.tick_bottom()\n",
    "#ax11.yaxis.tick_left()\n",
    "##############\n",
    "cCkde = sm.nonparametric.KDEUnivariate(ppf[ppf.group=='control'].p)\n",
    "lCkde = sm.nonparametric.KDEUnivariate(ppf[ppf.group=='lesioned'].p)\n",
    "cCkde.fit()\n",
    "Cbw = cCkde.bw\n",
    "lCkde.fit(bw =Cbw)\n",
    "ax11.plot(cCkde.support,cCkde.cdf,'k')\n",
    "ax11.plot(lCkde.support,lCkde.cdf,'r')\n",
    "#sns.boxplot(x='range',y='p',data=ppf,hue='group',order=['least','neg','pos','most'],linewidth=1,ax=ax12,palette=kr)\n",
    "ax11.set_ylim([-0.05,1.05])\n",
    "#ax12.set_xlim([0.5,3.5])\n",
    "#ax12.set_xticklabels([r'$\\nearrow$',r'$\\searrow$','-',r'$\\nearrow$'],fontsize=20)\n",
    "ax11.set_xticks([-20,0,20,40])\n",
    "ax11.set_yticks([0,0.5,1])\n",
    "ax11.set_xlabel('Change (%)')\n",
    "#ax12.set_ylabel('%')\n",
    "ax11.legend('')\n",
    "ax11.xaxis.tick_bottom()\n",
    "ax11.yaxis.tick_left()\n",
    "##############\n",
    "contourSet = pkl.load(open('/home/aliche/ownCloud/IpythonNotebooks/Sleep/MEC_Lesion_Project/files/shuffledGammaContours.pkl','rb'))['contours']\n",
    "selContourIdx = pkl.load(open('/home/aliche/ownCloud/IpythonNotebooks/Sleep/MEC_Lesion_Project/files/shuffledGammaContours.pkl','rb'))['selectedContours']\n",
    "for idx in selContourIdx[:]:\n",
    "    #pl.scatter(idx+1,cdfArray[idx+1],c='r',s=50)\n",
    "    pth = contourSet[idx+1].get_paths()[0]\n",
    "    ax9.plot(pth.vertices[:,0],pth.vertices[:,1],c=seabC[0],lw=1)\n",
    "ax9.plot(lesThPre,lesThPost,'r.')\n",
    "ax9.plot(cntThPre,cntThPost,'k.')\n",
    "ax9.set_xticks([1,2,3,4])\n",
    "ax9.set_yticks([1,2,3,4])\n",
    "ax9.set_ylim([0.8,3.2])\n",
    "ax9.set_xlim([0.8,4.2])\n",
    "ax9.yaxis.tick_left()\n",
    "ax9.xaxis.tick_bottom()\n",
    "ax9.set_ylabel(r'$A_{POST}}$')\n",
    "ax9.set_xlabel(r'$A_{PRE}}$')\n",
    "#################################\n",
    "axins = inset_axes(ax9,width=\"50%\",height=\"50%\",loc=4)\n",
    "axins.plot(lesThPre,lesThPost,'r.')\n",
    "axins.plot(cntThPre,cntThPost,'k.')\n",
    "for idx in selContourIdx:\n",
    "    pth = contourSet[idx+1].get_paths()[0]\n",
    "    axins.plot(pth.vertices[:,0],pth.vertices[:,1],c=seabC[0])\n",
    "axins.set_xlim(0.82,1.22)\n",
    "axins.set_ylim(0.82,1.22)\n",
    "pl.setp(axins.get_yticklabels(), visible=False)\n",
    "pl.setp(axins.get_xticklabels(), visible=False)\n",
    "pl.setp(axins.get_yticklines(),visible=False)\n",
    "pl.setp(axins.get_xticklines(),visible=False);"
   ]
  },
  {
   "cell_type": "code",
   "execution_count": 16,
   "metadata": {},
   "outputs": [],
   "source": [
    "slopeDB = pd.DataFrame([],columns=['slope','group'])\n",
    "for item in cntTh:\n",
    "    gmm = pkl.load(open(item,'rb'))\n",
    "    Lregress = sm.OLS( gmm[1],gmm[0] ).fit()\n",
    "    slopeDB = slopeDB.append(pd.DataFrame([[Lregress.params[0],'control']],columns=['slope','group']),ignore_index=True)\n",
    "for item in lesTh:\n",
    "    gmm = pkl.load(open(item,'rb'))\n",
    "    Lregress = sm.OLS( gmm[1],gmm[0] ).fit()\n",
    "    slopeDB = slopeDB.append(pd.DataFrame([[Lregress.params[0],'lesioned']],columns=['slope','group']),ignore_index=True)"
   ]
  },
  {
   "cell_type": "code",
   "execution_count": 17,
   "metadata": {},
   "outputs": [
    {
     "name": "stderr",
     "output_type": "stream",
     "text": [
      "/home/aliche/anaconda3/envs/py27/lib/python2.7/site-packages/numpy/core/numeric.py:492: ComplexWarning: Casting complex values to real discards the imaginary part\n",
      "  return array(a, dtype, copy=False, order=order)\n"
     ]
    },
    {
     "data": {
      "text/plain": [
       "Text(0.5,35.4529,u'')"
      ]
     },
     "execution_count": 17,
     "metadata": {},
     "output_type": "execute_result"
    }
   ],
   "source": [
    "sns.boxplot(x='group',y='slope',data=slopeDB,palette=kr,ax=ax12,fliersize=0.1)\n",
    "for i,artist in enumerate(ax12.artists):\n",
    "    # Set the linecolor on the artist to the facecolor, and set the facecolor to None\n",
    "    col = artist.get_facecolor()\n",
    "    artist.set_edgecolor(col)\n",
    "    artist.set_facecolor('None')\n",
    "\n",
    "    # Each box has 6 associated Line2D objects (to make the whiskers, fliers, etc.)\n",
    "    # Loop over them here, and use the same colour as above\n",
    "    for j in range(i*6,i*6+6):\n",
    "        line = ax12.lines[j]\n",
    "        line.set_color(col)\n",
    "        line.set_mfc(col)\n",
    "        line.set_mec(col)\n",
    "ax12.xaxis.tick_bottom()\n",
    "ax12.set_xticklabels(['Ctr.','Les.'])\n",
    "ax12.yaxis.tick_left()\n",
    "ax12.set_yticks([0.9,1.0,1.1,1.2,1.3])\n",
    "ax12.set_ylim(0.85,1.35)\n",
    "ax12.set_ylabel('Regression slope')\n",
    "ax12.set_xlabel('')"
   ]
  },
  {
   "cell_type": "code",
   "execution_count": 139,
   "metadata": {},
   "outputs": [],
   "source": [
    "ax9.cla()\n",
    "axins.cla()\n",
    "#ax10.cla()\n",
    "ax11.cla()\n",
    "ax12.cla()"
   ]
  },
  {
   "cell_type": "code",
   "execution_count": 174,
   "metadata": {},
   "outputs": [
    {
     "data": {
      "text/plain": [
       "<matplotlib.lines.Line2D at 0x7fdd432e50d0>"
      ]
     },
     "execution_count": 174,
     "metadata": {},
     "output_type": "execute_result"
    }
   ],
   "source": [
    "ax11.axvline(0,linewidth=1,alpha=0.5)"
   ]
  },
  {
   "cell_type": "code",
   "execution_count": 18,
   "metadata": {},
   "outputs": [
    {
     "name": "stderr",
     "output_type": "stream",
     "text": [
      "/home/aliche/anaconda3/envs/py27/lib/python2.7/site-packages/numpy/core/numeric.py:544: ComplexWarning: Casting complex values to real discards the imaginary part\n",
      "  return array(a, dtype, copy=False, order=order, subok=True)\n",
      "/home/aliche/anaconda3/envs/py27/lib/python2.7/site-packages/statsmodels/regression/linear_model.py:1353: RuntimeWarning: invalid value encountered in double_scalars\n",
      "  return np.dot(wresid, wresid) / self.df_resid\n"
     ]
    }
   ],
   "source": [
    "combList = list(itertools.product(cntTh,lesTh))\n",
    "Xx = []\n",
    "Yy = []\n",
    "gg = 0.0\n",
    "kk = 0.0\n",
    "for ii,item in enumerate(combList[:]):\n",
    "    cnt = pkl.load(open(item[0],'rb'))\n",
    "    lsn = pkl.load(open(item[1],'rb'))\n",
    "    if len(lsn) and len(cnt):\n",
    "        #a,b = np.polyfit(cnt[0],cnt[1],1)\n",
    "        #c,d = np.polyfit(lsn[0],lsn[1],1)\n",
    "        cntFit = sm.OLS( cnt[1],cnt[0] ).fit()\n",
    "        lsnFit = sm.OLS( lsn[1],lsn[0] ).fit()\n",
    "        x= lsnFit.params\n",
    "        Xx.append(x)\n",
    "        xerr = np.abs(x-lsnFit.conf_int())/10\n",
    "        #xerr_up = [lsnFit.conf_int()[0]-x]\n",
    "        y = cntFit.params\n",
    "        Yy.append(y)\n",
    "        yerr = np.abs(y-cntFit.conf_int())/10\n",
    "        #yerr_up = [cntFit.conf_int()[0]-y]\n",
    "        if y>x:\n",
    "            gg+=1\n",
    "        else:\n",
    "            kk+=1\n",
    "            \n",
    "    else:\n",
    "        a=-1\n",
    "        b=-1\n",
    "        c=-1\n",
    "        d= -1\n",
    "    #print ii\n",
    "    ax12.scatter(x, y,marker='.') #yerr=list(yerr), xerr=list(xerr),color=clrs[-1],fmt='.', ecolor='g', capthick=0.1)\n",
    "ax12.plot([0.4,1.6],[0.4,1.6],'k--')\n",
    "ax12.set_xlim(0.85,1.25)\n",
    "ax12.set_ylim(0.9,1.45)\n",
    "ax12.set_xticks([0.9,1.0,1.1,1.2])\n",
    "ax12.set_yticks([1.0,1.2,1.4])\n",
    "ax12.set_xlabel('Lesioned')\n",
    "ax12.set_ylabel('Control')\n",
    "ax12.set_title('Regression slope')\n",
    "ax12.xaxis.tick_bottom()\n",
    "ax12.yaxis.tick_left()"
   ]
  },
  {
   "cell_type": "code",
   "execution_count": 13,
   "metadata": {},
   "outputs": [
    {
     "name": "stdout",
     "output_type": "stream",
     "text": [
      "Ks_2sampResult(statistic=0.54296875, pvalue=5.0412101528660321e-67) \n",
      "RanksumsResult(statistic=14.556540493482984, pvalue=5.3076660046359134e-48) \n",
      "MannwhitneyuResult(statistic=62191.0, pvalue=2.6442921425335295e-48)\n",
      "--------------------------------------------------------\n",
      "Ks_2sampResult(statistic=0.3125, pvalue=1.7400371772547789e-22) \n",
      "RanksumsResult(statistic=6.8191583839332903, pvalue=9.1575397168960304e-12) \n",
      "MannwhitneyuResult(statistic=98804.0, pvalue=4.5821384515956189e-12)\n"
     ]
    }
   ],
   "source": [
    "print ks_2samp(cDkde.density,lDkde.density),'\\n',ranksums(cDkde.density,lDkde.density),'\\n',mannwhitneyu(cDkde.density,lDkde.density)\n",
    "print '--------------------------------------------------------'\n",
    "print ks_2samp(cCkde.density,lCkde.density),'\\n',ranksums(cCkde.density,lCkde.density),'\\n',mannwhitneyu(cCkde.density,lCkde.density)\n",
    "#pl.plot(lDkde.support,lDkde.density)\n",
    "#pl.plot(cDkde.support,cDkde.density)"
   ]
  },
  {
   "cell_type": "code",
   "execution_count": 89,
   "metadata": {},
   "outputs": [
    {
     "name": "stdout",
     "output_type": "stream",
     "text": [
      "RanksumsResult(statistic=3.8686904096910188, pvalue=0.00010942146966095677)\n",
      "Ks_2sampResult(statistic=0.38235294117647056, pvalue=0.0033246896586344994)\n",
      "Ttest_indResult(statistic=4.513534293369168, pvalue=2.0590729409224729e-05)\n"
     ]
    }
   ],
   "source": [
    "print ranksums(ThprcC[outerC],ThprcL[outerL])\n",
    "print ks_2samp(ThprcC[outerC],ThprcL[outerL])\n",
    "print ttest_ind(ThprcC[outerC],ThprcL[outerL])"
   ]
  },
  {
   "cell_type": "code",
   "execution_count": 86,
   "metadata": {},
   "outputs": [
    {
     "name": "stdout",
     "output_type": "stream",
     "text": [
      "RanksumsResult(statistic=3.1355824096810769, pvalue=0.0017151323254267212)\n",
      "Ks_2sampResult(statistic=0.34162895927601805, pvalue=0.012085322002535563)\n",
      "Ttest_indResult(statistic=3.3183946451285853, pvalue=0.0013399577379647532)\n"
     ]
    }
   ],
   "source": [
    "print ranksums(cntThPost[outerC],lesThPost[outerL])\n",
    "print ks_2samp(cntThPost[outerC],lesThPost[outerL])\n",
    "print ttest_ind(cntThPost[outerC],lesThPost[outerL])"
   ]
  },
  {
   "cell_type": "code",
   "execution_count": 18,
   "metadata": {},
   "outputs": [],
   "source": [
    "Xx = np.array(Xx)\n",
    "Yy = np.array(Yy)\n"
   ]
  },
  {
   "cell_type": "code",
   "execution_count": 19,
   "metadata": {},
   "outputs": [
    {
     "data": {
      "text/plain": [
       "(Ttest_indResult(statistic=array([-14.5486638]), pvalue=array([  1.23820340e-39])),\n",
       " RanksumsResult(statistic=-11.667156392764118, pvalue=1.8758906975130546e-31),\n",
       " MannwhitneyuResult(statistic=9576.0, pvalue=8.6684094352097132e-32))"
      ]
     },
     "execution_count": 19,
     "metadata": {},
     "output_type": "execute_result"
    }
   ],
   "source": [
    "ttest_ind(Xx,Yy),ranksums(Xx,Yy),mannwhitneyu(Xx,Yy)"
   ]
  },
  {
   "cell_type": "code",
   "execution_count": null,
   "metadata": {},
   "outputs": [],
   "source": []
  },
  {
   "cell_type": "code",
   "execution_count": 69,
   "metadata": {},
   "outputs": [
    {
     "data": {
      "text/plain": [
       "[<matplotlib.lines.Line2D at 0x7fd7db46df50>]"
      ]
     },
     "execution_count": 69,
     "metadata": {},
     "output_type": "execute_result"
    }
   ],
   "source": [
    "pl.plot(np.linspace(0,4,100)[:-1],1.0*np.cumsum(np.histogram(cntThPost,bins=np.linspace(0,4,100))[0])/len(cntThPost),'k')\n",
    "pl.plot(np.linspace(0,4,100)[:-1],1.0*np.cumsum(np.histogram(lesThPost,bins=np.linspace(0,4,100))[0])/len(lesThPost),'r')"
   ]
  },
  {
   "cell_type": "code",
   "execution_count": null,
   "metadata": {},
   "outputs": [],
   "source": []
  },
  {
   "cell_type": "code",
   "execution_count": 8,
   "metadata": {},
   "outputs": [],
   "source": [
    "data = pd.DataFrame(np.array([cntThPre,cntThPost,['Control']*cntThPost.size]).T,columns=['pre','post','group'])\n",
    "df = pd.DataFrame(np.array([lesThPre,lesThPost,['Lesion']*lesThPost.size]).T,columns=['pre','post','group'])\n",
    "data = data.append(df,ignore_index=True)\n",
    "data[['pre','post']] = data[['pre','post']].astype(float)"
   ]
  },
  {
   "cell_type": "code",
   "execution_count": 124,
   "metadata": {},
   "outputs": [
    {
     "name": "stdout",
     "output_type": "stream",
     "text": [
      "                            OLS Regression Results                            \n",
      "==============================================================================\n",
      "Dep. Variable:                   post   R-squared:                       0.762\n",
      "Model:                            OLS   Adj. R-squared:                  0.758\n",
      "Method:                 Least Squares   F-statistic:                     193.7\n",
      "Date:                Mi, 22 Mär 2017   Prob (F-statistic):           1.93e-38\n",
      "Time:                        13:20:21   Log-Likelihood:                 28.914\n",
      "No. Observations:                 124   AIC:                            -51.83\n",
      "Df Residuals:                     121   BIC:                            -43.37\n",
      "Df Model:                           2                                         \n",
      "Covariance Type:            nonrobust                                         \n",
      "==================================================================================\n",
      "                     coef    std err          t      P>|t|      [95.0% Conf. Int.]\n",
      "----------------------------------------------------------------------------------\n",
      "group[Control]    -0.0956      0.086     -1.114      0.268        -0.265     0.074\n",
      "group[Lesion]     -0.2565      0.084     -3.055      0.003        -0.423    -0.090\n",
      "pre                1.2591      0.066     19.054      0.000         1.128     1.390\n",
      "==============================================================================\n",
      "Omnibus:                       25.064   Durbin-Watson:                   1.774\n",
      "Prob(Omnibus):                  0.000   Jarque-Bera (JB):               40.450\n",
      "Skew:                           0.948   Prob(JB):                     1.65e-09\n",
      "Kurtosis:                       5.058   Cond. No.                         11.1\n",
      "==============================================================================\n",
      "\n",
      "Warnings:\n",
      "[1] Standard Errors assume that the covariance matrix of the errors is correctly specified.\n",
      "group[Control]    2.676268e-01\n",
      "group[Lesion]     2.768189e-03\n",
      "pre               3.111410e-38\n",
      "dtype: float64\n",
      "                    Robust linear Model Regression Results                    \n",
      "==============================================================================\n",
      "Dep. Variable:                   post   No. Observations:                  124\n",
      "Model:                            RLM   Df Residuals:                      121\n",
      "Method:                          IRLS   Df Model:                            2\n",
      "Norm:                          HuberT                                         \n",
      "Scale Est.:                       mad                                         \n",
      "Cov Type:                          H1                                         \n",
      "Date:                Mi, 22 Mär 2017                                         \n",
      "Time:                        13:20:21                                         \n",
      "No. Iterations:                    50                                         \n",
      "==================================================================================\n",
      "                     coef    std err          z      P>|z|      [95.0% Conf. Int.]\n",
      "----------------------------------------------------------------------------------\n",
      "group[Control]    -0.0663      0.077     -0.865      0.387        -0.217     0.084\n",
      "group[Lesion]     -0.1831      0.075     -2.441      0.015        -0.330    -0.036\n",
      "pre                1.1972      0.059     20.284      0.000         1.081     1.313\n",
      "==================================================================================\n",
      "\n",
      "If the model instance has been used for another fit with different fit\n",
      "parameters, then the fit options might not be the correct ones anymore .\n",
      "group[Control]    3.868493e-01\n",
      "group[Lesion]     1.465080e-02\n",
      "pre               1.793313e-91\n",
      "dtype: float64\n"
     ]
    }
   ],
   "source": [
    "from statsmodels.formula.api import ols,rlm\n",
    "from statsmodels.stats.anova import anova_lm\n",
    "formula = 'post ~ pre + group-1'  # ANCOVA formula\n",
    "lm = ols(formula, data)\n",
    "Rlm = rlm(formula, data)\n",
    "fit = lm.fit()\n",
    "Rfit = Rlm.fit()\n",
    "print fit.summary()\n",
    "print fit.pvalues\n",
    "print Rfit.summary()\n",
    "print Rfit.pvalues"
   ]
  },
  {
   "cell_type": "code",
   "execution_count": 143,
   "metadata": {},
   "outputs": [
    {
     "name": "stdout",
     "output_type": "stream",
     "text": [
      "                            OLS Regression Results                            \n",
      "==============================================================================\n",
      "Dep. Variable:                   post   R-squared:                       0.801\n",
      "Model:                            OLS   Adj. R-squared:                  0.796\n",
      "Method:                 Least Squares   F-statistic:                     160.8\n",
      "Date:                Mi, 22 Mär 2017   Prob (F-statistic):           7.16e-42\n",
      "Time:                        15:49:34   Log-Likelihood:                 39.954\n",
      "No. Observations:                 124   AIC:                            -71.91\n",
      "Df Residuals:                     120   BIC:                            -60.63\n",
      "Df Model:                           3                                         \n",
      "Covariance Type:            nonrobust                                         \n",
      "=======================================================================================\n",
      "                          coef    std err          t      P>|t|      [95.0% Conf. Int.]\n",
      "---------------------------------------------------------------------------------------\n",
      "group[Control]         -0.3322      0.093     -3.581      0.000        -0.516    -0.149\n",
      "group[Lesion]           0.2924      0.137      2.131      0.035         0.021     0.564\n",
      "pre                     1.4510      0.073     20.007      0.000         1.307     1.595\n",
      "group[T.Lesion]:pre    -0.6409      0.133     -4.836      0.000        -0.903    -0.379\n",
      "==============================================================================\n",
      "Omnibus:                       41.989   Durbin-Watson:                   1.708\n",
      "Prob(Omnibus):                  0.000   Jarque-Bera (JB):               98.786\n",
      "Skew:                           1.350   Prob(JB):                     3.54e-22\n",
      "Kurtosis:                       6.440   Cond. No.                         19.3\n",
      "==============================================================================\n",
      "\n",
      "Warnings:\n",
      "[1] Standard Errors assume that the covariance matrix of the errors is correctly specified.\n",
      "group[Control]         4.954105e-04\n",
      "group[Lesion]          3.514599e-02\n",
      "pre                    4.940142e-40\n",
      "group[T.Lesion]:pre    3.968270e-06\n",
      "dtype: float64\n"
     ]
    }
   ],
   "source": [
    "interX_lm = ols(\"post ~ group * pre-1\", data).fit()\n",
    "print interX_lm.summary()\n",
    "print interX_lm.pvalues"
   ]
  },
  {
   "cell_type": "code",
   "execution_count": 20,
   "metadata": {},
   "outputs": [
    {
     "ename": "NameError",
     "evalue": "name 'anova_lm' is not defined",
     "output_type": "error",
     "traceback": [
      "\u001b[1;31m---------------------------------------------------------------------------\u001b[0m",
      "\u001b[1;31mNameError\u001b[0m                                 Traceback (most recent call last)",
      "\u001b[1;32m<ipython-input-20-9df124c8b91a>\u001b[0m in \u001b[0;36m<module>\u001b[1;34m()\u001b[0m\n\u001b[1;32m----> 1\u001b[1;33m \u001b[1;32mprint\u001b[0m \u001b[0manova_lm\u001b[0m\u001b[1;33m(\u001b[0m\u001b[0mfit\u001b[0m\u001b[1;33m,\u001b[0m \u001b[0minterX_lm\u001b[0m\u001b[1;33m)\u001b[0m\u001b[1;33m\u001b[0m\u001b[0m\n\u001b[0m",
      "\u001b[1;31mNameError\u001b[0m: name 'anova_lm' is not defined"
     ]
    }
   ],
   "source": [
    "print anova_lm(fit, interX_lm)"
   ]
  },
  {
   "cell_type": "code",
   "execution_count": 131,
   "metadata": {},
   "outputs": [],
   "source": [
    "lmC = ols(\"post ~ pre -1\", data[data.group=='Control']).fit()\n",
    "lmL = ols(\"post ~ pre -1\", data[data.group=='Lesion']).fit()"
   ]
  },
  {
   "cell_type": "code",
   "execution_count": 146,
   "metadata": {},
   "outputs": [
    {
     "name": "stdout",
     "output_type": "stream",
     "text": [
      "pre    1.200688\n",
      "dtype: float64 pre    8.978122e-44\n",
      "dtype: float64\n",
      "pre    1.043664\n",
      "dtype: float64 pre    6.380734e-69\n",
      "dtype: float64\n"
     ]
    }
   ],
   "source": [
    "print lmC.params,lmC.pvalues\n",
    "print lmL.params,lmL.pvalues"
   ]
  },
  {
   "cell_type": "code",
   "execution_count": 22,
   "metadata": {},
   "outputs": [],
   "source": [
    "GammaDF = pd.DataFrame(zip(lesThPre,lesThPost,['lesion']*lesThPre.size),columns=['A_pre','A_post','group']).append(\n",
    "          pd.DataFrame(zip(cntThPre,cntThPost,['control']*lesThPre.size),columns=['A_pre','A_post','group']),ignore_index=True)"
   ]
  },
  {
   "cell_type": "code",
   "execution_count": 45,
   "metadata": {},
   "outputs": [],
   "source": [
    "savemat('/home/chenani/ownCloud/IpythonNotebooks/Sleep/MEC_Lesion_Project/PCA_MEC/DATA/gammaDF.mat',GammaDF.to_dict(orient='list'))"
   ]
  },
  {
   "cell_type": "code",
   "execution_count": 20,
   "metadata": {},
   "outputs": [],
   "source": [
    "savemat('/home/chenani/ownCloud/IpythonNotebooks/Sleep/MEC_Lesion_Project/PCA_MEC/DATA/slopeDF.mat',slopeDB.to_dict(orient='list'))"
   ]
  },
  {
   "cell_type": "code",
   "execution_count": 20,
   "metadata": {},
   "outputs": [
    {
     "name": "stderr",
     "output_type": "stream",
     "text": [
      "/home/aliche/anaconda3/envs/py27/lib/python2.7/site-packages/matplotlib/figure.py:1689: UserWarning: This figure was saved with matplotlib version 1.5.1 and is unlikely to function correctly.\n",
      "  (version, ))\n"
     ]
    }
   ],
   "source": [
    "contourSet = pkl.load(open('/home/aliche/ownCloud/IpythonNotebooks/Sleep/MEC_Lesion_Project/files/shuffledGammaContours.pkl','rb'))['contours']\n",
    "selContourIdx = pkl.load(open('/home/aliche/ownCloud/IpythonNotebooks/Sleep/MEC_Lesion_Project/files/shuffledGammaContours.pkl','rb'))['selectedContours']\n"
   ]
  },
  {
   "cell_type": "code",
   "execution_count": 24,
   "metadata": {},
   "outputs": [],
   "source": [
    "for idx in selContourIdx[:]:\n",
    "    #pl.scatter(idx+1,cdfArray[idx+1],c='r',s=50)\n",
    "    pth = contourSet[idx+1].get_paths()[0]\n",
    "    pl.plot(pth.vertices[:,0],pth.vertices[:,1],c=seabC[0],lw=1)"
   ]
  },
  {
   "cell_type": "code",
   "execution_count": null,
   "metadata": {},
   "outputs": [],
   "source": []
  }
 ],
 "metadata": {
  "kernelspec": {
   "display_name": "Python 2",
   "language": "python",
   "name": "python2"
  },
  "language_info": {
   "codemirror_mode": {
    "name": "ipython",
    "version": 2
   },
   "file_extension": ".py",
   "mimetype": "text/x-python",
   "name": "python",
   "nbconvert_exporter": "python",
   "pygments_lexer": "ipython2",
   "version": "2.7.14"
  }
 },
 "nbformat": 4,
 "nbformat_minor": 1
}
