{
 "cells": [
  {
   "cell_type": "code",
   "execution_count": 1,
   "metadata": {},
   "outputs": [
    {
     "data": {
      "text/html": [
       "<style>.container { width:80% !important; }</style>"
      ],
      "text/plain": [
       "<IPython.core.display.HTML object>"
      ]
     },
     "metadata": {},
     "output_type": "display_data"
    }
   ],
   "source": [
    "from IPython.core.display import display, HTML\n",
    "display(HTML(\"<style>.container { width:80% !important; }</style>\"))\n",
    "import sys\n",
    "sys.path.append('/home/chenani/ownCloud/Workspaces/Eclipse/dataAnalysis/Sleep-current/src/')"
   ]
  },
  {
   "cell_type": "code",
   "execution_count": 2,
   "metadata": {},
   "outputs": [
    {
     "name": "stdout",
     "output_type": "stream",
     "text": [
      "Using matplotlib backend: Qt4Agg\n"
     ]
    },
    {
     "name": "stderr",
     "output_type": "stream",
     "text": [
      "/home/chenani/anaconda/lib/python2.7/site-packages/IPython/html.py:14: ShimWarning: The `IPython.html` package has been deprecated. You should import from `notebook` instead. `IPython.html.widgets` has moved to `ipywidgets`.\n",
      "  \"`IPython.html.widgets` has moved to `ipywidgets`.\", ShimWarning)\n",
      "/home/chenani/anaconda/lib/python2.7/site-packages/matplotlib/__init__.py:1350: UserWarning:  This call to matplotlib.use() has no effect\n",
      "because the backend has already been chosen;\n",
      "matplotlib.use() must be called *before* pylab, matplotlib.pyplot,\n",
      "or matplotlib.backends is imported for the first time.\n",
      "\n",
      "  warnings.warn(_use_error_msg)\n"
     ]
    }
   ],
   "source": [
    "%matplotlib \n",
    "#inline\n",
    "%load_ext autoreload\n",
    "%autoreload 2\n",
    "import matplotlib.pyplot as pl\n",
    "import numpy as np\n",
    "import pickle as pkl\n",
    "import os\n",
    "import seaborn as sns\n",
    "import pandas as pd\n",
    "from signale.tools import locate,findNearest_vec\n",
    "import matplotlib.gridspec as gridspec\n",
    "from scipy.signal import gaussian \n",
    "import statsmodels.api as sm "
   ]
  },
  {
   "cell_type": "code",
   "execution_count": 3,
   "metadata": {},
   "outputs": [
    {
     "data": {
      "text/plain": [
       "('/home/chenani/dataWork/ali/MECLesion_SleepData/Marta/Rat3906/LinearTrack_05-31-16_Day1/parrentData/placeCells.spk',\n",
       " '/home/chenani/dataWork/ali/MECLesion_SleepData/Marta/Rat3906/LinearTrack_05-31-16_Day1/parrentData/linearTrack_Trajectory.traj')"
      ]
     },
     "execution_count": 3,
     "metadata": {},
     "output_type": "execute_result"
    }
   ],
   "source": [
    "aniPath = '/home/chenani/dataWork/ali/MECLesion_SleepData/'\n",
    "anID = '3906'\n",
    "dd = 'D1'\n",
    "dday = '05-31-16_Day1'\n",
    "spkPaths = [os.path.join(item[0],item[1])for item in locate('placeCells.spk',aniPath)]\n",
    "trjPaths = [os.path.join(item[0],item[1])for item in locate('*.traj',aniPath)]\n",
    "ltDB = pkl.load(open([os.path.join(item[0],item[1]) for item in locate('linearTrack'+dd+'.db','/home/chenani/ownCloud/') if item[0].find(anID)>0][0],'rb'))\n",
    "Rtemp = pkl.load(open([os.path.join(item[0],item[1]) for item in locate('Rtemplate'+dd+'.nparr','/home/chenani/ownCloud/') if item[0].find(anID)>0][0],'rb'))\n",
    "Ltemp = pkl.load(open([os.path.join(item[0],item[1]) for item in locate('Ltemplate'+dd+'.nparr','/home/chenani/ownCloud/') if item[0].find(anID)>0][0],'rb'))\n",
    "RtempMod = np.delete(Rtemp,6)\n",
    "lfp = pkl.load(open('/home/chenani/dataWork/ali/MECLesion_SleepData/Marta/Rat3906/LinearTrack_05-31-16_Day1/02-begin1/CSC2.lfp'))\n",
    "if hasattr(lfp,'signal_filtered'):\n",
    "    lfp.filter(100,250)\n",
    "if hasattr(lfp,'hilbertAbsSmooth'):\n",
    "    lfp.hilbertTransform()\n",
    "selSpk = [item for item in spkPaths if item.find(dday)>0][0]\n",
    "selTrj = [item for item in trjPaths if item.find(dday)>0][0]\n",
    "selSpk,selTrj"
   ]
  },
  {
   "cell_type": "code",
   "execution_count": 4,
   "metadata": {},
   "outputs": [],
   "source": [
    "spk = pkl.load(open(selSpk,'rb'))\n",
    "trj = pkl.load(open(selTrj,'rb'))\n",
    "spk.changeTimeUnit('s')\n",
    "stList = spk.time_slice(trj.t_start,trj.t_stop)\n",
    "#Interpolating trajectory\n",
    "t = trj.times\n",
    "It = np.arange(0,trj.times.size)\n",
    "Itp = np.arange(0,trj.times.size,0.15)\n",
    "tInterp = np.interp(Itp,It,t) #interpolated traj times\n",
    "x = trj.places[:,0]\n",
    "xp = np.interp(tInterp,t,x)       #interpolated traj Xposition\n",
    "popsTi = [4544.7,4564.5,4567.9,4571.1,4577.6]\n",
    "popsTf = [4545.1,4564.8,4568.3,4571.4,4578.0]"
   ]
  },
  {
   "cell_type": "code",
   "execution_count": 5,
   "metadata": {},
   "outputs": [],
   "source": [
    "sns.set_context(\"paper\",font_scale=1.6)\n",
    "colors = [\"windows blue\", \"amber\", \"greyish\", \"faded green\", \"dusty purple\"]\n",
    "leftRight = sns.color_palette(['#f9ba32','#426e86'])\n",
    "seabC = sns.xkcd_palette(colors)\n",
    "seabP = sns.color_palette(\"Paired\")\n",
    "flatui = sns.color_palette([  \"#34495e\",\"#e74c3c\", \"#2ecc71\",\"#9b59b6\", \"#3498db\", \"#95a5a6\"])\n",
    "#sns.palplot(flatui)\n",
    "sns.set_style('ticks')\n",
    "kr = np.array(['k','r'])\n",
    "###############BASIC LAYOUT\n",
    "figure = pl.figure(figsize = [16,9])\n",
    "gs1 = gridspec.GridSpec(9, 1)\n",
    "gs1.update(left=0.05, right=0.45,top=0.99,bottom=0.65, wspace=0.01)\n",
    "ax0 = pl.subplot(gs1[2:, :])\n",
    "ax1 = pl.subplot(gs1[:2,:],sharex=ax0)\n",
    "ax1tw = ax1.twinx()\n",
    "ax1.set_xticks([])\n",
    "gs2 = gridspec.GridSpec(9, 15)\n",
    "gs2.update(left=0.1, right=0.45,top=0.60, hspace=0.05)\n",
    "ax2 = pl.subplot(gs2[:2,:2])\n",
    "ax7 = pl.subplot(gs2[2:4,:2],sharex=ax2)\n",
    "ax3 = pl.subplot(gs2[:2,3:5])\n",
    "ax8 = pl.subplot(gs2[2:4,3:5],sharex=ax3)\n",
    "ax4 = pl.subplot(gs2[:2,6:8])\n",
    "ax9 = pl.subplot(gs2[2:4,6:8],sharex=ax4)\n",
    "ax5 = pl.subplot(gs2[:2,9:11])\n",
    "ax10 = pl.subplot(gs2[2:4,9:11],sharex=ax5)\n",
    "ax6 = pl.subplot(gs2[:2,12:14])\n",
    "ax11 = pl.subplot(gs2[2:4,12:14],sharex=ax6)\n",
    "##Lesion ax\n",
    "axl2 = pl.subplot(gs2[5:7,:2])\n",
    "axl7 = pl.subplot(gs2[7:,:2],sharex=axl2)\n",
    "axl3 = pl.subplot(gs2[5:7,3:5])\n",
    "axl8 = pl.subplot(gs2[7:,3:5],sharex=axl3)\n",
    "axl4 = pl.subplot(gs2[5:7,6:8])\n",
    "axl9 = pl.subplot(gs2[7:,6:8],sharex=axl4)\n",
    "axl5 = pl.subplot(gs2[5:7,9:11])\n",
    "axl10 = pl.subplot(gs2[7:,9:11],sharex=axl5)\n",
    "axl6 = pl.subplot(gs2[5:7,12:14])\n",
    "axl11 = pl.subplot(gs2[7:,12:14],sharex=axl6)\n",
    "#gs1.tight_layout(figure,rect=[0, 0.35, 0.45,1])\n",
    "#gs2.tight_layout(figure,rect=[0.05, 0, 0.45,0.3])\n",
    "axarrAll = [ax0,ax1,ax1tw,ax2,ax3,ax4,ax5,ax6,ax7,ax8,ax9,ax10,ax11]\n",
    "for axx in axarrAll[4:]:\n",
    "    pl.setp(axx.get_yticklabels(), visible=False)"
   ]
  },
  {
   "cell_type": "code",
   "execution_count": 7,
   "metadata": {},
   "outputs": [],
   "source": [
    "lfp.filter(6,10)\n",
    "lfp.hilbertTransform()\n",
    "thtf = lfp.signal_filtered\n",
    "thts = np.convolve(lfp.hilbertAbsolute,gaussian(1500,500),'same')\n",
    "lfp.filter(150,200)\n",
    "lfp.hilbertTransform()\n",
    "Rts = np.convolve(lfp.hilbertAbsolute,gaussian(150,50),'same')"
   ]
  },
  {
   "cell_type": "code",
   "execution_count": 78,
   "metadata": {},
   "outputs": [],
   "source": [
    "stList = spk.time_slice(4535,4595)\n",
    "ax1.plot(lfp.timeAxis/1e3,thts,'c',lw=1.5,label=r'$\\theta$',zorder=-1)\n",
    "ax1tw.plot(lfp.timeAxis/1e3,Rts,'r',lw=1.0,label='Ripp',zorder=-1)\n",
    "ax1.set_ylim(-3e6,5.4e6)\n",
    "ax1tw.set_ylim(-3e3,3.2e5)\n",
    "twax = ax0.twinx()\n",
    "axarr = [ax0,twax,ax1,ax1tw]\n",
    "for item in ltDB[ltDB[:,2]==1]:\n",
    "    ax0.plot(tInterp[item[0]:item[1]],xp[item[0]:item[1]],c=leftRight[0],lw=5,zorder=1)#7f64b9\n",
    "for item in ltDB[ltDB[:,2]==-1]:\n",
    "    ax0.plot(tInterp[item[0]:item[1]],xp[item[0]:item[1]],c=leftRight[1],lw=5,zorder=1)#c36785\n",
    "for pair in zip(popsTi,popsTf):\n",
    "    ax0.axvspan(pair[0]-0.1,pair[1]+0.1,color=seabC[3],alpha=0.75,lw=0)#FFD700\n",
    "for tIdx,cIdx in enumerate(RtempMod):\n",
    "    zug  = stList[cIdx]\n",
    "    twax.scatter(zug.spike_times,tIdx*np.ones(zug.spike_times.size),marker=\"|\",c='k',lw=0.75)\n",
    "'''for axx,pair in zip([ax2,ax3,ax4,ax5,ax6],zip(popsTi,popsTf)):\n",
    "    stCut = stList.time_slice(pair[0]-0.001,pair[1]+0.001)\n",
    "    for tIdx,cIdx in enumerate(RtempMod):\n",
    "        zug  = stCut[cIdx]\n",
    "        axx.scatter(zug.spike_times,tIdx*np.ones(zug.spike_times.size),marker=\"|\",c='k',lw=2)\n",
    "        axx.set_xticks([stCut.t_start,stCut.t_stop])\n",
    "        axx.set_xticklabels([0,round(stCut.t_stop-stCut.t_start,1)])\n",
    "   ''' \n",
    "ax0.set_ylabel('Position (m)')\n",
    "#ax2.set_ylabel('Cells')\n",
    "#ax2.set_xlabel('Time (s)')\n",
    "#ax2.set_yticks([0,20,40])\n",
    "#ax2.set_yticklabels([])\n",
    "pl.setp(ax1.get_xticklabels(), visible=False)#ax1tw.set_ylim([0,800])\n",
    "pl.setp(ax1tw.get_yticklabels(), visible=False)#\n",
    "ax1tw.set_xticklabels([])\n",
    "ax1tw.set_yticklabels([])\n",
    "#ax1.xaxis.tick_bottom()\n",
    "ax1.set_yticklabels([])\n",
    "twax.set_ylim(-4,50)\n",
    "ax0.set_xlabel('Time (s)')\n",
    "twax.set_yticks([0,len(RtempMod)])\n",
    "twax.set_yticklabels([len(RtempMod),0])\n",
    "twax.set_xticks([4540,4555,4570,4585])\n",
    "twax.set_xticklabels([0,15,30,45])\n",
    "ax0.set_yticks([0.4,1.6])\n",
    "twax.set_ylabel('Cell #',rotation=270)\n",
    "ax0.set_xlim(4535,4595)\n",
    "############LEGENDS\n",
    "l1 = ax1.legend(fontsize=16)\n",
    "l1.set_zorder(20)\n",
    "l1.set_frame_on(False)\n",
    "l1.set_alpha(0.9)\n",
    "l1.set_bbox_to_anchor([1.2,1.0])\n",
    "for ll in l1.legendHandles:\n",
    "    ll.set_linewidth(2)\n",
    "##----------------\n",
    "l1w = ax1tw.legend(fontsize=16)\n",
    "l1w.set_zorder(20)\n",
    "l1w.set_frame_on(False)\n",
    "l1w.set_alpha(0.9)\n",
    "l1w.set_bbox_to_anchor([1.25,0.4])\n",
    "for ll in l1w.legendHandles:\n",
    "    ll.set_linewidth(2)\n",
    "#figure.tight_layout()"
   ]
  },
  {
   "cell_type": "code",
   "execution_count": 13,
   "metadata": {},
   "outputs": [],
   "source": [
    "for axx in axarr[:]:\n",
    "    axx.cla()\n",
    "    axx.set_yticks([])"
   ]
  },
  {
   "cell_type": "code",
   "execution_count": 20,
   "metadata": {
    "collapsed": true
   },
   "outputs": [],
   "source": [
    "for axx in axarrAll[3:]:\n",
    "    axx.cla()\n",
    "    axx.set_yticks([])"
   ]
  },
  {
   "cell_type": "code",
   "execution_count": 79,
   "metadata": {
    "collapsed": true
   },
   "outputs": [],
   "source": [
    "awro = pd.read_pickle('/home/chenani/ownCloud/IpythonNotebooks/Sleep/MEC_Lesion_Project/control/Rat3906Control/dataFiles/awakeReplays-3906-D1-RO.db')\n",
    "Rtemp = pd.read_pickle('/home/chenani/ownCloud/IpythonNotebooks/Sleep/MEC_Lesion_Project/control/Rat3906Control/dataFiles/RtemplateD1.nparr')\n",
    "Ltemp = pd.read_pickle('/home/chenani/ownCloud/IpythonNotebooks/Sleep/MEC_Lesion_Project/control/Rat3906Control/dataFiles/LtemplateD1.nparr')\n",
    "lapsDB = pd.read_pickle('/home/chenani/ownCloud/IpythonNotebooks/Sleep/MEC_Lesion_Project/control/Rat3906Control/dataFiles/trajectory/linearTrackD1.db')\n",
    "spk = pkl.load(open('/home/chenani/dataWork/ali/MECLesion_SleepData/Marta/Rat3906/LinearTrack_05-31-16_Day1/parrentData/placeCells.spk'))\n",
    "trj = pkl.load(open('/home/chenani/dataWork/ali/MECLesion_SleepData/Marta/Rat3906/LinearTrack_05-31-16_Day1/parrentData/linearTrack_Trajectory.traj'))\n",
    "sel_examples = [8,60,87,122,140]"
   ]
  },
  {
   "cell_type": "code",
   "execution_count": 80,
   "metadata": {},
   "outputs": [],
   "source": [
    "axx = [ax2,ax3,ax4,ax5,ax6]\n",
    "bxx = [ax7,ax8,ax9,ax10,ax11]\n",
    "for ii,idx in enumerate(sel_examples):\n",
    "    row = awro.loc[idx]\n",
    "    ax = axx[ii]\n",
    "    bx = bxx[ii]\n",
    "    zug = spk.time_slice(row.ti-1e0,row.tf+1e0)\n",
    "    zug.rasterPlot(temp=Ltemp,lw=3,clr=leftRight[0],meanClr='k',fig=figure,ax=ax,activeonly=True,yticks=False)# dgc[1]\n",
    "    zug.rasterPlot(temp=Rtemp,lw=3,clr=leftRight[1],meanClr='k' ,fig=figure,ax=bx,activeonly=True,yticks=False)#'#ff0038'\n",
    "    bx.set_xticks([row.ti,row.tf])\n",
    "    bx.set_xticklabels([0,int(row.tf-row.ti)])\n",
    "    #bx.set_xlabel('Time (ms)')\n",
    "    bx.set_xlim(zug.t_start,zug.t_stop)\n",
    "    axYmax = ax.get_ylim()\n",
    "    bxYmax = bx.get_ylim()\n",
    "    ax.set_ylim(axYmax[0],axYmax[1]+4)\n",
    "    bx.set_ylim(bxYmax[0],bxYmax[1]+4)\n",
    "    ax.text(round(zug.t_stop-4*(zug.t_stop-zug.t_start)/10),int(axYmax[1]+1.5),'r = '+str(round(row.Lcorr,2)),fontsize=12,ha='center', va='center')#, transform=ax.transAxes)\n",
    "    bx.text(round(zug.t_stop-4*(zug.t_stop-zug.t_start)/10),int(bxYmax[1]+1.5),'r = '+str(round(row.Rcorr,2)),fontsize=12,ha='center', va='center')#, transform=bx.transAxes)\n",
    "    ax.set_ylabel('')\n",
    "    bx.set_ylabel('')\n",
    "    ax.set_xticklabels(['',''])\n",
    "    ax.set_yticklabels(['',''])\n",
    "    bx.set_yticklabels(['',''])\n",
    "    bx.set_xticklabels([0,int(zug.t_stop-zug.t_start)])\n",
    "    ax.xaxis.tick_bottom()\n",
    "    bx.xaxis.tick_bottom()\n",
    "    ax.yaxis.tick_left()\n",
    "    bx.yaxis.tick_left()\n",
    "    if ii:\n",
    "        ax.set_xlabel('')\n",
    "        bx.set_xlabel('')\n",
    "    pl.setp(ax.get_xticklabels(), visible=False)\n",
    "    #bx.set_xlabel(int(zug.t_stop-zug.t_start),fontsize=16)"
   ]
  },
  {
   "cell_type": "code",
   "execution_count": 7,
   "metadata": {
    "collapsed": true
   },
   "outputs": [],
   "source": [
    "awro = pd.read_pickle('/home/chenani/ownCloud/IpythonNotebooks/Sleep/MEC_Lesion_Project/lesion/Rat434Lesion/dataFiles/awakeReplays-434-D1-RO.db')\n",
    "Rtemp = pd.read_pickle('/home/chenani/ownCloud/IpythonNotebooks/Sleep/MEC_Lesion_Project/lesion/Rat434Lesion/dataFiles/RtemplateD1.nparr')\n",
    "Ltemp = pd.read_pickle('/home/chenani/ownCloud/IpythonNotebooks/Sleep/MEC_Lesion_Project/lesion/Rat434Lesion/dataFiles/LtemplateD1.nparr')\n",
    "lapsDB = pd.read_pickle('/home/chenani/ownCloud/IpythonNotebooks/Sleep/MEC_Lesion_Project/lesion/Rat434Lesion/dataFiles/linearTrackD1.db')\n",
    "spk = pkl.load(open('/home/chenani/dataWork/ali/MECLesion_SleepData/Magda/Rat434Lesion/LinearTrack_0-0-0_Day1/parrentData/placeCells.spk'))\n",
    "trj = pkl.load(open('/home/chenani/dataWork/ali/MECLesion_SleepData/Magda/Rat434Lesion/LinearTrack_0-0-0_Day1/parrentData/linearTrack_Trajectory.traj'))\n",
    "sel_examples = [176,150,55,105,128]"
   ]
  },
  {
   "cell_type": "code",
   "execution_count": 11,
   "metadata": {},
   "outputs": [
    {
     "name": "stdout",
     "output_type": "stream",
     "text": [
      "17.0 14.0 11.0\n",
      "30.0 25.0 21.0\n",
      "26.0 20.0 17.0\n",
      "25.0 21.0 19.0\n",
      "21.0 18.0 15.0\n"
     ]
    }
   ],
   "source": [
    "laxx = [axl2,axl3,axl4,axl5,axl6]\n",
    "lbxx = [axl7,axl8,axl9,axl10,axl11]\n",
    "for ii,idx in enumerate(sel_examples):\n",
    "    row = awro.loc[idx]\n",
    "    print row.tSub,row.lSub,row.rSub\n",
    "    ax = laxx[ii]\n",
    "    bx = lbxx[ii]\n",
    "    zug = spk.time_slice(row.ti-1e0,row.tf+1e0)\n",
    "    zug.rasterPlot(temp=Ltemp,lw=3,clr=leftRight[0],meanClr='k',fig=figure,ax=ax,activeonly=True,yticks=False)# dgc[1]\n",
    "    zug.rasterPlot(temp=Rtemp,lw=3,clr=leftRight[1],meanClr='k' ,fig=figure,ax=bx,activeonly=True,yticks=False)#'#ff0038'\n",
    "    bx.set_xticks([row.ti,row.tf])\n",
    "    bx.set_xticklabels([0,int(row.tf-row.ti)])\n",
    "    bx.set_xlabel('Time (ms)')\n",
    "    bx.set_xlim(zug.t_start,zug.t_stop)\n",
    "    axYmax = ax.get_ylim()\n",
    "    bxYmax = bx.get_ylim()\n",
    "    ax.set_ylim(axYmax[0],axYmax[1]+4)\n",
    "    bx.set_ylim(bxYmax[0],bxYmax[1]+4)\n",
    "    ax.text(round(zug.t_stop-4*(zug.t_stop-zug.t_start)/10),int(axYmax[1]+1.5),'r = '+str(round(row.Lcorr,2)),fontsize=12,ha='center', va='center')#, transform=ax.transAxes)\n",
    "    bx.text(round(zug.t_stop-4*(zug.t_stop-zug.t_start)/10),int(bxYmax[1]+1.5),'r = '+str(round(row.Rcorr,2)),fontsize=12,ha='center', va='center')#, transform=bx.transAxes)\n",
    "    ax.set_ylabel('')\n",
    "    bx.set_ylabel('')\n",
    "    ax.set_xticklabels(['',''])\n",
    "    ax.set_yticklabels(['',''])\n",
    "    bx.set_yticklabels(['',''])\n",
    "    bx.set_xticklabels([0,int(zug.t_stop-zug.t_start)])\n",
    "    ax.xaxis.tick_bottom()\n",
    "    bx.xaxis.tick_bottom()\n",
    "    ax.yaxis.tick_left()\n",
    "    bx.yaxis.tick_left()\n",
    "    if ii:\n",
    "        ax.set_xlabel('')\n",
    "        bx.set_xlabel('')\n",
    "    pl.setp(ax.get_xticklabels(), visible=False)\n",
    "    #bx.set_xlabel(int(zug.t_stop-zug.t_start),fontsize=16)"
   ]
  },
  {
   "cell_type": "code",
   "execution_count": 86,
   "metadata": {},
   "outputs": [],
   "source": [
    "#figure.savefig('/home/chenani/ownCloud/Plots/Lesion-Project/RO-Raster.pdf')"
   ]
  },
  {
   "cell_type": "code",
   "execution_count": 9,
   "metadata": {},
   "outputs": [
    {
     "data": {
      "text/plain": [
       "ti           2.303721e+07\n",
       "tf           2.303752e+07\n",
       "tp           2.303744e+07\n",
       "tSub         2.100000e+01\n",
       "lSub         1.800000e+01\n",
       "rSub         1.500000e+01\n",
       "Lcorr       -2.425181e-01\n",
       "Rcorr        6.071429e-01\n",
       "Lpv          1.000000e+00\n",
       "Rpv          4.000000e-02\n",
       "animal_ID    4.340000e+02\n",
       "Name: 128, dtype: float64"
      ]
     },
     "execution_count": 9,
     "metadata": {},
     "output_type": "execute_result"
    }
   ],
   "source": [
    "row"
   ]
  },
  {
   "cell_type": "code",
   "execution_count": 83,
   "metadata": {
    "collapsed": true
   },
   "outputs": [],
   "source": [
    "gs2.update(left=0.05, right=0.48,top=0.55, hspace=0.02,wspace=0.001)"
   ]
  },
  {
   "cell_type": "markdown",
   "metadata": {},
   "source": [
    "# Not plotted!!!"
   ]
  },
  {
   "cell_type": "code",
   "execution_count": 408,
   "metadata": {},
   "outputs": [],
   "source": [
    "fireX = []\n",
    "for idx in RtempMod:\n",
    "    cell = spk[idx]\n",
    "    validTimes = np.intersect1d(cell.right_spike_times[cell.right_spike_times/1e3>tInterp[0]],cell.right_spike_times[cell.right_spike_times/1e3<tInterp[-1]])\n",
    "    cellXpos = xp[np.array([np.power((tInterp - validTimes[ijk]/1e3),2).argmin() for ijk in range(validTimes.size)])]\n",
    "    fireX.append(cellXpos)\n",
    "    #sns.kdeplot(cellXpos)"
   ]
  },
  {
   "cell_type": "code",
   "execution_count": 422,
   "metadata": {},
   "outputs": [],
   "source": [
    "for item in fireX[20:30]:\n",
    "    sns.kdeplot(item,bw=0.1)"
   ]
  },
  {
   "cell_type": "code",
   "execution_count": 411,
   "metadata": {},
   "outputs": [],
   "source": [
    "for iii,item in enumerate(fireX):\n",
    "    dens = sm.nonparametric.KDEUnivariate(item)\n",
    "    dens.fit()\n",
    "    xIn = np.linspace(0,2,100) \n",
    "    probs = dens.evaluate(xIn)\n",
    "    pl.plot(xIn,iii+(probs/probs.max()))"
   ]
  },
  {
   "cell_type": "code",
   "execution_count": 406,
   "metadata": {},
   "outputs": [],
   "source": [
    "for cId in spk.id_list[:]:\n",
    "    cell = spk[cId]\n",
    "    LspkTimes = np.array([])\n",
    "    RspkTimes = np.array([])\n",
    "    for lap in lapsDB:\n",
    "        if lap[-1]<0:\n",
    "            LspkTimes = np.append(LspkTimes,np.intersect1d(cell.spike_times[cell.spike_times/1e3>tInterp[lap[0]]],cell.spike_times[cell.spike_times/1e3<tInterp[lap[1]]]))\n",
    "        else:\n",
    "            RspkTimes = np.append(RspkTimes,np.intersect1d(cell.spike_times[cell.spike_times/1e3>tInterp[lap[0]]],cell.spike_times[cell.spike_times/1e3<tInterp[lap[1]]]))\n",
    "    spk[cId].left_spike_times = LspkTimes\n",
    "    spk[cId].right_spike_times = RspkTimes"
   ]
  },
  {
   "cell_type": "code",
   "execution_count": 407,
   "metadata": {},
   "outputs": [
    {
     "data": {
      "text/plain": [
       "array([ 3692007.  ,  3752177.25,  3786147.25, ...,  5433602.5 ,\n",
       "        5433691.5 ,  5433820.  ])"
      ]
     },
     "execution_count": 407,
     "metadata": {},
     "output_type": "execute_result"
    }
   ],
   "source": [
    "cell.right_spike_times"
   ]
  },
  {
   "cell_type": "code",
   "execution_count": 8,
   "metadata": {},
   "outputs": [
    {
     "data": {
      "text/plain": [
       "array([ 272.39753414,  295.80887551,  319.59835586, ...,  205.39155491,\n",
       "        227.1267598 ,  249.47535331])"
      ]
     },
     "execution_count": 8,
     "metadata": {},
     "output_type": "execute_result"
    }
   ],
   "source": [
    "lfp.hilbertTransform()"
   ]
  },
  {
   "cell_type": "code",
   "execution_count": null,
   "metadata": {
    "collapsed": true
   },
   "outputs": [],
   "source": []
  },
  {
   "cell_type": "code",
   "execution_count": null,
   "metadata": {},
   "outputs": [],
   "source": [
    "ff,axx = pl.subplots(1,1,figsize=[10,20])\n",
    "ti = stList.t_stop-200\n",
    "counter = 1\n",
    "while ti<stList.t_stop:\n",
    "    spkCut = stList.time_slice(ti,ti+10)\n",
    "    axx.set_xticks([])\n",
    "    axx.set_xticklabels([])\n",
    "    spikkes = np.zeros([30,RtempMod.size])\n",
    "    spkBins = np.linspace(0,5,31)\n",
    "    for tIdx,cIdx in enumerate(RtempMod):\n",
    "        zug  = spkCut[cIdx]\n",
    "        xspkT = zug.spike_times-spkCut.t_start\n",
    "        hst,bns = np.histogram(xspkT,bins=spkBins)\n",
    "        spikkes[hst>0,tIdx]+=1\n",
    "    for iii in range(30):\n",
    "        axx.pcolor(spikkes[:iii,:].T)#,marker=\"|\",c='k',lw=2)\n",
    "        #axx.set_ylim(-4,50)\n",
    "        axx.set_xlim([0,30])\n",
    "        ff.savefig('/home/chenani/ownCloud/Plots/Lesion-Project/anime/raster_'+str(counter)+'.jpg')\n",
    "        counter+=1\n",
    "    axx.cla()\n",
    "    ti+=10\n",
    "    print ti\n"
   ]
  },
  {
   "cell_type": "code",
   "execution_count": null,
   "metadata": {},
   "outputs": [],
   "source": [
    "ff,axx = pl.subplots(1,1,figsize=[10,20])\n",
    "ti = stList.t_stop-300\n",
    "dividesecondTo = 10\n",
    "spkCut = stList.time_slice(ti,stList.t_stop)\n",
    "axx.set_xticks([])\n",
    "axx.set_xticklabels([])\n",
    "duration = int(np.diff(spkCut.time_parameters())[0])\n",
    "spikkes = np.zeros([dividesecondTo*duration,RtempMod.size])\n",
    "spkBins = np.linspace(0,duration,dividesecondTo*duration+1)\n",
    "for tIdx,cIdx in enumerate(RtempMod):\n",
    "    zug  = spkCut[cIdx]\n",
    "    xspkT = zug.spike_times-spkCut.t_start\n",
    "    hst,bns = np.histogram(xspkT,bins=spkBins)\n",
    "    spikkes[hst>0,tIdx]+=1\n",
    "for iii in range(spikkes.shape[0]):\n",
    "    mtx = spikkes[iii:iii+10*dividesecondTo,:]\n",
    "    axx.pcolor(mtx.T)\n",
    "    axx.set_xlim([0,10*dividesecondTo])\n",
    "    axx.set_xlabel('Time',fontsize=34)\n",
    "    axx.set_xticks([])\n",
    "    axx.set_ylabel('Cells',fontsize=34)\n",
    "    ff.savefig('/home/chenani/ownCloud/Plots/Lesion-Project/anime/raster_'+str(iii)+'.jpg')\n",
    "    axx.cla()\n"
   ]
  }
 ],
 "metadata": {
  "kernelspec": {
   "display_name": "Python 2",
   "language": "python",
   "name": "python2"
  },
  "language_info": {
   "codemirror_mode": {
    "name": "ipython",
    "version": 2
   },
   "file_extension": ".py",
   "mimetype": "text/x-python",
   "name": "python",
   "nbconvert_exporter": "python",
   "pygments_lexer": "ipython2",
   "version": "2.7.14"
  }
 },
 "nbformat": 4,
 "nbformat_minor": 1
}
