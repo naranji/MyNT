{
 "cells": [
  {
   "cell_type": "code",
   "execution_count": 1,
   "metadata": {
    "collapsed": false
   },
   "outputs": [
    {
     "name": "stdout",
     "output_type": "stream",
     "text": [
      "Using matplotlib backend: Qt4Agg\n"
     ]
    }
   ],
   "source": [
    "%matplotlib \n",
    "%load_ext autoreload\n",
    "%autoreload 2"
   ]
  },
  {
   "cell_type": "code",
   "execution_count": 2,
   "metadata": {
    "collapsed": false
   },
   "outputs": [
    {
     "data": {
      "text/html": [
       "<style>.container { width:80% !important; }</style>"
      ],
      "text/plain": [
       "<IPython.core.display.HTML object>"
      ]
     },
     "metadata": {},
     "output_type": "display_data"
    }
   ],
   "source": [
    "from IPython.core.display import display, HTML\n",
    "display(HTML(\"<style>.container { width:80% !important; }</style>\"))\n",
    "import sys\n",
    "sys.path.append('/home/chenani/ownCloud/Workspaces/Eclipse/dataAnalysis/Sleep-current/src/')"
   ]
  },
  {
   "cell_type": "code",
   "execution_count": 3,
   "metadata": {
    "collapsed": false
   },
   "outputs": [
    {
     "name": "stderr",
     "output_type": "stream",
     "text": [
      "/home/chenani/anaconda/lib/python2.7/site-packages/IPython/html.py:14: ShimWarning: The `IPython.html` package has been deprecated. You should import from `notebook` instead. `IPython.html.widgets` has moved to `ipywidgets`.\n",
      "  \"`IPython.html.widgets` has moved to `ipywidgets`.\", ShimWarning)\n",
      "/home/chenani/anaconda/lib/python2.7/site-packages/matplotlib/__init__.py:1350: UserWarning:  This call to matplotlib.use() has no effect\n",
      "because the backend has already been chosen;\n",
      "matplotlib.use() must be called *before* pylab, matplotlib.pyplot,\n",
      "or matplotlib.backends is imported for the first time.\n",
      "\n",
      "  warnings.warn(_use_error_msg)\n"
     ]
    },
    {
     "name": "stdout",
     "output_type": "stream",
     "text": [
      "Automatically created module for IPython interactive environment\n"
     ]
    }
   ],
   "source": [
    "print(__doc__)\n",
    "import seaborn as sns\n",
    "import numpy as np\n",
    "import matplotlib.pyplot as pl\n",
    "import pandas as pd\n",
    "import cPickle as pkl\n",
    "import statsmodels.api as sm\n",
    "from signale.tools import locate\n",
    "import signale\n",
    "from os import path"
   ]
  },
  {
   "cell_type": "code",
   "execution_count": 4,
   "metadata": {
    "collapsed": false
   },
   "outputs": [],
   "source": [
    "sns.set_style('white')\n",
    "sns.set_context(\"poster\",font_scale=1.7)\n",
    "leftRight = sns.color_palette(['#f9ba32','#426e86'])\n",
    "dgc = sns.color_palette(['#0f1f38','#c5001A','#1b45ba'])\n",
    "sns.palplot(dgc)\n",
    "#lrC = sns.xkcd_palette(leftRight)"
   ]
  },
  {
   "cell_type": "code",
   "execution_count": 5,
   "metadata": {
    "collapsed": false
   },
   "outputs": [],
   "source": [
    "sigSigPths = []\n",
    "for item in locate('awakeReplays-*RO.db','/home/chenani/ownCloud/IpythonNotebooks/Sleep/MEC_Lesion_Project/lesion/'):\n",
    "    dbPth = path.join(item[0],item[1])\n",
    "    awro = pd.read_pickle(dbPth)\n",
    "    sigRO = awro[(awro.Lpv<0.05)|(awro.Rpv<0.05)]\n",
    "    sigSig = sigRO[sigRO.tSub>10]\n",
    "    if sigSig.shape[0] and dbPth.find('Rat616')<0:\n",
    "        sigSigPths.append(path.join(item[0],item[1]))\n",
    "    "
   ]
  },
  {
   "cell_type": "code",
   "execution_count": 7,
   "metadata": {
    "collapsed": false
   },
   "outputs": [],
   "source": [
    "for dbName in sigSigPths[:]:\n",
    "    group = dbName.split('/')[-4]\n",
    "    dday  = dbName.split('/')[-1].split('-')[-2]\n",
    "    anID  = dbName.split('/')[-1].split('-')[-3]\n",
    "    RtName = [path.join(ijk[0],ijk[1])for ijk in locate('Rt*.nparr','/home/chenani/ownCloud/') if (path.join(ijk[0],ijk[1]).find('Rat'+anID)>0 and path.join(ijk[0],ijk[1]).find(dday)>0)][0]\n",
    "    LtName = [path.join(ijk[0],ijk[1])for ijk in locate('Lt*.nparr','/home/chenani/ownCloud/') if (path.join(ijk[0],ijk[1]).find('Rat'+anID)>0 and path.join(ijk[0],ijk[1]).find(dday)>0)][0]\n",
    "    spkName = [path.join(item[0],item[1])for item in locate('placeCells.spk','/home/chenani/dataWork/ali/MECLesion_SleepData/') \n",
    "               if ((path.join(item[0],item[1]).find((dday[0]+'ay'+dday[-1]))>0) and (path.join(item[0],item[1]).find(anID)>0))][0]\n",
    "    trjName = [path.join(item[0],item[1])for item in locate('linearTrack_Trajectory.traj','/home/chenani/dataWork/ali/MECLesion_SleepData/') \n",
    "               if ((path.join(item[0],item[1]).find((dday[0]+'ay'+dday[-1]))>0) and (path.join(item[0],item[1]).find(anID)>0))][0]\n",
    "    ########\n",
    "    awro = pkl.load(open(dbName))\n",
    "    Rtemp = pkl.load(open(RtName))\n",
    "    Ltemp = pkl.load(open(LtName))\n",
    "    spk = pkl.load(open(spkName))\n",
    "    trj = pkl.load(open(trjName))\n",
    "    sigRO = awro[(awro.Lpv<0.05)|(awro.Rpv<0.05)]\n",
    "    #sigSig = awro[(awro.Lcorr**2<0.05)&(awro.Rcorr**2<0.05)]\n",
    "    df = sigRO[sigRO.tSub>14]\n",
    "    #df = sigSig[sigSig.tSub>14]\n",
    "    k = 0\n",
    "    for idx,row in df.iterrows():\n",
    "        f,(ax,bx) = pl.subplots(2,1,figsize = [4,12],sharex=True)\n",
    "        zug = spk.time_slice(row.ti-1e0,row.tf+1e0)\n",
    "        zug.rasterPlot(temp=Ltemp,lw=4,clr=leftRight[0],meanClr='k',fig=f,ax=ax,activeonly=True,yticks=False)# dgc[1]\n",
    "        zug.rasterPlot(temp=Rtemp,lw=4,clr=leftRight[1],meanClr='k' ,fig=f,ax=bx,activeonly=True,yticks=False)#'#ff0038'\n",
    "        bx.set_xticks([row.ti,row.tf])\n",
    "        bx.set_xticklabels([0,int(row.tf-row.ti)])\n",
    "        bx.set_xlabel('time (ms)')\n",
    "        bx.set_xlim(zug.t_start,zug.t_stop)\n",
    "        axYmax = ax.get_ylim()\n",
    "        bxYmax = bx.get_ylim()\n",
    "        ax.set_ylim(axYmax[0],axYmax[1]+1)\n",
    "        bx.set_ylim(bxYmax[0],bxYmax[1]+1)\n",
    "        ax.text(round(zug.t_stop-3*(zug.t_stop-zug.t_start)/10),int(axYmax[1]+0.5),'r = '+str(round(row.Lcorr,2)),fontsize=22,ha='center', va='center')#, transform=ax.transAxes)\n",
    "        bx.text(round(zug.t_stop-3*(zug.t_stop-zug.t_start)/10),int(bxYmax[1]+0.5),'r = '+str(round(row.Rcorr,2)),fontsize=22,ha='center', va='center')#, transform=bx.transAxes)\n",
    "        f.tight_layout()\n",
    "        f.savefig('/home/chenani/ownCloud/Plots/Lesion-Project/Rank-Order/replay-rasters/'+anID+'-'+dday+'-'+group+'-awake999-'+str(idx)+'.eps')\n",
    "        k+=1\n",
    "    \n",
    "    \n",
    "#axarr[1].plot(range(10),'r--')"
   ]
  },
  {
   "cell_type": "code",
   "execution_count": 7,
   "metadata": {
    "collapsed": false
   },
   "outputs": [],
   "source": [
    "#df = sigRO[sigRO.tSub>4]\n",
    "df = sigSig\n",
    "k = 0\n",
    "for idx,row in df.iterrows():\n",
    "    f,(ax,bx) = pl.subplots(2,1,figsize = [4,12],sharex=True)\n",
    "    zug = spk.time_slice(row.ti-1e0,row.tf+1e0)\n",
    "    zug.rasterPlot(temp=Ltemp,lw=4,clr=leftRight[0],fig=f,ax=ax,activeonly=True,yticks=True)\n",
    "    zug.rasterPlot(temp=Rtemp,lw=4,clr=leftRight[1],fig=f,ax=bx,activeonly=True,yticks=True)\n",
    "    bx.set_xticks([row.ti,row.tf])\n",
    "    bx.set_xticklabels([0,int(row.tf-row.ti)])\n",
    "    bx.set_xlabel('time (ms)')\n",
    "    f.tight_layout()\n",
    "    #f.savefig()\n",
    "    k+=1\n",
    "    \n",
    "    \n",
    "#axarr[1].plot(range(10),'r--')"
   ]
  },
  {
   "cell_type": "code",
   "execution_count": 8,
   "metadata": {
    "collapsed": false
   },
   "outputs": [
    {
     "data": {
      "text/html": [
       "<div>\n",
       "<table border=\"1\" class=\"dataframe\">\n",
       "  <thead>\n",
       "    <tr style=\"text-align: right;\">\n",
       "      <th></th>\n",
       "      <th>ti</th>\n",
       "      <th>tf</th>\n",
       "      <th>tp</th>\n",
       "      <th>tSub</th>\n",
       "      <th>lSub</th>\n",
       "      <th>rSub</th>\n",
       "      <th>Lcorr</th>\n",
       "      <th>Rcorr</th>\n",
       "      <th>Lpv</th>\n",
       "      <th>Rpv</th>\n",
       "      <th>animal_ID</th>\n",
       "    </tr>\n",
       "  </thead>\n",
       "  <tbody>\n",
       "  </tbody>\n",
       "</table>\n",
       "</div>"
      ],
      "text/plain": [
       "Empty DataFrame\n",
       "Columns: [ti, tf, tp, tSub, lSub, rSub, Lcorr, Rcorr, Lpv, Rpv, animal_ID]\n",
       "Index: []"
      ]
     },
     "execution_count": 8,
     "metadata": {},
     "output_type": "execute_result"
    }
   ],
   "source": [
    "df"
   ]
  },
  {
   "cell_type": "code",
   "execution_count": 147,
   "metadata": {
    "collapsed": false
   },
   "outputs": [
    {
     "data": {
      "text/plain": [
       "['/home/chenani/dataWork/ali/MECLesion_SleepData/Marta/Rat3906/LinearTrack_06-02-16_Day3/parrentData/placeCells.spk']"
      ]
     },
     "execution_count": 147,
     "metadata": {},
     "output_type": "execute_result"
    }
   ],
   "source": [
    "[path.join(item[0],item[1])for item in locate('placeCells.spk','/home/chenani/dataWork/ali/MECLesion_SleepData/') \n",
    " if ((path.join(item[0],item[1]).find((dday[0]+'ay'+dday[-1]))>0) and (path.join(item[0],item[1]).find(anID)>0))]"
   ]
  },
  {
   "cell_type": "code",
   "execution_count": 142,
   "metadata": {
    "collapsed": false
   },
   "outputs": [
    {
     "data": {
      "text/plain": [
       "'Day3'"
      ]
     },
     "execution_count": 142,
     "metadata": {},
     "output_type": "execute_result"
    }
   ],
   "source": [
    "(dday[0]+'ay'+dday[-1])"
   ]
  }
 ],
 "metadata": {
  "kernelspec": {
   "display_name": "Python 2",
   "language": "python",
   "name": "python2"
  },
  "language_info": {
   "codemirror_mode": {
    "name": "ipython",
    "version": 2
   },
   "file_extension": ".py",
   "mimetype": "text/x-python",
   "name": "python",
   "nbconvert_exporter": "python",
   "pygments_lexer": "ipython2",
   "version": "2.7.12"
  }
 },
 "nbformat": 4,
 "nbformat_minor": 0
}
