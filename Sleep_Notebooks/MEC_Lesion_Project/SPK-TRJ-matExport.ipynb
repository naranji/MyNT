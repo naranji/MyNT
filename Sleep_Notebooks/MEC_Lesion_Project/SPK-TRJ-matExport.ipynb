{
 "cells": [
  {
   "cell_type": "code",
   "execution_count": 11,
   "metadata": {},
   "outputs": [
    {
     "name": "stdout",
     "output_type": "stream",
     "text": [
      "The autoreload extension is already loaded. To reload it, use:\n",
      "  %reload_ext autoreload\n"
     ]
    }
   ],
   "source": [
    "%matplotlib inline\n",
    "%load_ext autoreload\n",
    "%autoreload 2"
   ]
  },
  {
   "cell_type": "code",
   "execution_count": 12,
   "metadata": {},
   "outputs": [
    {
     "data": {
      "text/html": [
       "<style>.container { width:90% !important; }</style>"
      ],
      "text/plain": [
       "<IPython.core.display.HTML object>"
      ]
     },
     "metadata": {},
     "output_type": "display_data"
    }
   ],
   "source": [
    "from IPython.core.display import display, HTML\n",
    "display(HTML(\"<style>.container { width:90% !important; }</style>\"))\n",
    "import sys\n",
    "sys.path.append('/home/aliche/ownCloud/Workspaces/Eclipse/dataAnalysis/Sleep-current/src/')\n",
    "from scipy.io import savemat,loadmat"
   ]
  },
  {
   "cell_type": "code",
   "execution_count": 13,
   "metadata": {},
   "outputs": [
    {
     "name": "stderr",
     "output_type": "stream",
     "text": [
      "/home/aliche/anaconda3/envs/py27/lib/python2.7/site-packages/statsmodels/compat/pandas.py:56: FutureWarning: The pandas.core.datetools module is deprecated and will be removed in a future version. Please use the pandas.tseries module instead.\n",
      "  from pandas.core import datetools\n"
     ]
    }
   ],
   "source": [
    "from signale.tools import locate\n",
    "import numpy as np\n",
    "import matplotlib.pyplot as pl\n",
    "import cPickle as pkl\n",
    "import scipy.signal as scsig\n",
    "import signale.tools as tools\n",
    "import os\n",
    "import itertools\n",
    "import pandas as pd\n",
    "import seaborn as sns\n",
    "from os import path"
   ]
  },
  {
   "cell_type": "code",
   "execution_count": 14,
   "metadata": {},
   "outputs": [],
   "source": [
    "plSpkList = [path.join(spkpth[0],spkpth[1])for spkpth in locate('placeCells.spk','/home/chenani/dataWork/ali/MECLesion_SleepData/Marta/Rat3906/')]\n",
    "trjList   = [path.join(item[0],item[1])for item in locate('linearTrack_Trajectory.traj','/home/chenani/dataWork/ali/MECLesion_SleepData/Marta/Rat3906/')]"
   ]
  },
  {
   "cell_type": "code",
   "execution_count": 19,
   "metadata": {},
   "outputs": [
    {
     "name": "stdout",
     "output_type": "stream",
     "text": [
      "3906--------------------------------------------awakeReplays-3906-D3-RO.db\n",
      "3906--------------------------------------------awakeReplays-3906-D4-RO.db\n",
      "3906--------------------------------------------awakeReplays-3906-D2-RO.db\n",
      "3906--------------------------------------------awakeReplays-3906-D1-RO.db\n"
     ]
    }
   ],
   "source": [
    "for iitem in locate('awakeReplays-*-RO.db','/home/aliche/ownCloud/IpythonNotebooks/Sleep/MEC_Lesion_Project/control/Rat3906Control/'):\n",
    "    dbName = path.join(iitem[0],iitem[1])\n",
    "    group = dbName.split('/')[-4]\n",
    "    dday  ='D1'# dbName.split('/')[-1].split('-')[-2]\n",
    "    anID  = dbName.split('/')[-1].split('-')[-3]\n",
    "    try:\n",
    "        spkName = [spkpth for spkpth in plSpkList if (spkpth.find(('Day'+dday[-1]))>0) and (spkpth.find(anID)>0)][0]\n",
    "        trjName = [item for item in trjList if (item.find(('Day'+dday[-1]))>0) and item.find(anID)>0][0]\n",
    "        loadFiles = True\n",
    "        #print '---'+anID\n",
    "        print anID,dday,trjName\n",
    "        print '0000000000000000000000000000000'\n",
    "    except:\n",
    "        print anID+'--------------------------------------------'+iitem[1]\n",
    "        loadFiles = False\n",
    "    if loadFiles:\n",
    "        #print spkName,trjName\n",
    "        spk = pkl.load(open(spkName,'rb'))\n",
    "        trj = pkl.load(open(trjName,'rb'))\n",
    "        data = {}\n",
    "        print spk.timeUnit,trj.timeUnit\n",
    "        spk.changeTimeUnit('ms')\n",
    "        t_i = 1e3*trj.times[0]\n",
    "        t_f = 1e3*trj.times[-1]\n",
    "        print t_i,t_f\n",
    "        for cellID in spk.id_list:\n",
    "            cell = spk[cellID]\n",
    "            cellTrk = cell.time_slice(t_i,t_f)\n",
    "            data['unit_'+str(cellID)]=cellTrk.spike_times\n",
    "        data['trajTimes']=1e3*trj.times\n",
    "        data['trajCoordinates'] = trj.places\n",
    "        #savemat('/home/chenani/ownCloud/IpythonNotebooks/Sleep/MEC_Lesion_Project/files/replay_DataSet/spike-traj-data/control/Rat'+anID+dday+'.mat',data)"
   ]
  },
  {
   "cell_type": "code",
   "execution_count": 20,
   "metadata": {
    "scrolled": false
   },
   "outputs": [
    {
     "ename": "NameError",
     "evalue": "name 'data' is not defined",
     "output_type": "error",
     "traceback": [
      "\u001b[0;31m---------------------------------------------------------------------------\u001b[0m",
      "\u001b[0;31mNameError\u001b[0m                                 Traceback (most recent call last)",
      "\u001b[0;32m<ipython-input-20-6137cde4893c>\u001b[0m in \u001b[0;36m<module>\u001b[0;34m()\u001b[0m\n\u001b[0;32m----> 1\u001b[0;31m \u001b[0mdata\u001b[0m\u001b[0;34m\u001b[0m\u001b[0m\n\u001b[0m",
      "\u001b[0;31mNameError\u001b[0m: name 'data' is not defined"
     ]
    }
   ],
   "source": [
    "data"
   ]
  },
  {
   "cell_type": "code",
   "execution_count": null,
   "metadata": {},
   "outputs": [],
   "source": []
  },
  {
   "cell_type": "code",
   "execution_count": null,
   "metadata": {
    "collapsed": true
   },
   "outputs": [],
   "source": []
  }
 ],
 "metadata": {
  "kernelspec": {
   "display_name": "Python 2",
   "language": "python",
   "name": "python2"
  },
  "language_info": {
   "codemirror_mode": {
    "name": "ipython",
    "version": 2
   },
   "file_extension": ".py",
   "mimetype": "text/x-python",
   "name": "python",
   "nbconvert_exporter": "python",
   "pygments_lexer": "ipython2",
   "version": "2.7.14"
  }
 },
 "nbformat": 4,
 "nbformat_minor": 1
}
