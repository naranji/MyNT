{
 "cells": [
  {
   "cell_type": "code",
   "execution_count": 1,
   "metadata": {},
   "outputs": [
    {
     "name": "stdout",
     "output_type": "stream",
     "text": [
      "Using matplotlib backend: Qt4Agg\n"
     ]
    }
   ],
   "source": [
    "%matplotlib \n",
    "%load_ext autoreload\n",
    "%autoreload 2"
   ]
  },
  {
   "cell_type": "code",
   "execution_count": 2,
   "metadata": {
    "collapsed": true
   },
   "outputs": [],
   "source": [
    "import sys\n",
    "sys.path.append('/mnt/Data/Workspaces/Eclipse/dataAnalysis/Sleep-current/src/')"
   ]
  },
  {
   "cell_type": "code",
   "execution_count": 3,
   "metadata": {},
   "outputs": [
    {
     "name": "stderr",
     "output_type": "stream",
     "text": [
      "/home/chenani/anaconda/lib/python2.7/site-packages/matplotlib/__init__.py:1350: UserWarning:  This call to matplotlib.use() has no effect\n",
      "because the backend has already been chosen;\n",
      "matplotlib.use() must be called *before* pylab, matplotlib.pyplot,\n",
      "or matplotlib.backends is imported for the first time.\n",
      "\n",
      "  warnings.warn(_use_error_msg)\n",
      "/home/chenani/anaconda/lib/python2.7/site-packages/matplotlib/__init__.py:872: UserWarning: axes.color_cycle is deprecated and replaced with axes.prop_cycle; please use the latter.\n",
      "  warnings.warn(self.msg_depr % (key, alt_key))\n"
     ]
    }
   ],
   "source": [
    "import matplotlib as mpl\n",
    "import matplotlib.pyplot as pl\n",
    "import numpy as np\n",
    "import pandas as pd\n",
    "import scipy.signal as scsig\n",
    "import spectrum as sp\n",
    "import signale\n",
    "import cPickle as pkl\n",
    "import time\n",
    "import statsmodels.api as sm\n",
    "import colormaps as cm\n",
    "import seaborn as sns\n",
    "import signale.tools as tools\n",
    "import os"
   ]
  },
  {
   "cell_type": "code",
   "execution_count": 4,
   "metadata": {
    "collapsed": true
   },
   "outputs": [],
   "source": [
    "def whitenARMA(sig,AR=2,MA=0):\n",
    "        arma = sm.tsa.ARMA(sig, (AR,MA)).fit(disp=0)\n",
    "        print 'ARMA parameters calculated for order(%s,%s)' %(AR,MA)\n",
    "        return arma.resid\n",
    "def MA(array,ord=2):\n",
    "    ma = np.array([array[ii-ord/2:ii+ord/2].mean() for ii in range(array.size) if ii >= ord ],dtype=float)\n",
    "    ma = np.insert(ma,0,array[0:ord/2])\n",
    "    ma = np.append(ma,array[-(ord/2)-1:-1])\n",
    "    return ma\n",
    "def zScore(array):\n",
    "    return(array - np.average(array))/ np.std(array)"
   ]
  },
  {
   "cell_type": "code",
   "execution_count": 5,
   "metadata": {},
   "outputs": [],
   "source": [
    "animalPath = '/home/chenani/dataWork/ali/MECLesion_SleepData/Marta/Rat3661/LinearTrack_03-03-15Day1/'\n",
    "localPath = '/mnt/Data/ephysdata/Rats/'"
   ]
  },
  {
   "cell_type": "code",
   "execution_count": 7,
   "metadata": {},
   "outputs": [
    {
     "data": {
      "text/plain": [
       "(['/home/chenani/dataWork/ali/MECLesion_SleepData/Marta/Rat3661/LinearTrack_03-03-15Day1/01-2015-03-03_11-33-58/CSC06-pre.lfp',\n",
       "  '/home/chenani/dataWork/ali/MECLesion_SleepData/Marta/Rat3661/LinearTrack_03-03-15Day1/03-2015-03-03_12-40-50/CSC06-post.lfp'],\n",
       " 2)"
      ]
     },
     "execution_count": 7,
     "metadata": {},
     "output_type": "execute_result"
    }
   ],
   "source": [
    "lfpPaths = []\n",
    "for lfp in tools.locate('*-p*.lfp',animalPath):\n",
    "    lfpPaths.append(os.path.join(lfp[0],lfp[1]))\n",
    "lfpPaths = sorted(lfpPaths)\n",
    "#lfpPaths = [ path for path in lfpPaths if (path.find('leep')>0 and path.find('CSC4')>0) ]\n",
    "lfpPaths,len(lfpPaths)"
   ]
  },
  {
   "cell_type": "code",
   "execution_count": 16,
   "metadata": {},
   "outputs": [],
   "source": [
    "-"
   ]
  },
  {
   "cell_type": "code",
   "execution_count": 11,
   "metadata": {},
   "outputs": [],
   "source": [
    "for item in lfpPaths[:1]:\n",
    "    lfp = pkl.load(open(item,'rb'))\n",
    "    Pxx, freqs, t = lfp.spectrogram(minFreq=.1,maxFreq=200,overlap=1,windowSize=2048,whiten=True)\n",
    "#print freqs[50:,0]\n",
    "Dspg = Pxx[:7,:]\n",
    "Tspg = Pxx[8:15,:]\n",
    "Gspg = Pxx[17:30,:]\n",
    "FGspg = Pxx[130:215,:]\n",
    "Rspg = Pxx[260:300,:]\n",
    "Dp = Dspg.mean(axis=0)\n",
    "Tp = Tspg.mean(axis=0)\n",
    "Gp = Gspg.mean(axis=0)\n",
    "FGp = FGspg.mean(axis=0)\n",
    "Rp = Rspg.mean(axis=0)"
   ]
  },
  {
   "cell_type": "code",
   "execution_count": 15,
   "metadata": {},
   "outputs": [
    {
     "data": {
      "text/plain": [
       "<matplotlib.collections.PathCollection at 0x7f80cbf83850>"
      ]
     },
     "execution_count": 15,
     "metadata": {},
     "output_type": "execute_result"
    }
   ],
   "source": [
    "pl.scatter(t[0,:]/1e3,y_pred)"
   ]
  },
  {
   "cell_type": "code",
   "execution_count": 12,
   "metadata": {},
   "outputs": [],
   "source": [
    "X = np.array([Dp,Tp,Gp,FGp,Rp]).T\n",
    "from sklearn.cluster import KMeans\n",
    "y_pred = KMeans(n_clusters=3).fit_predict(X)"
   ]
  },
  {
   "cell_type": "code",
   "execution_count": 14,
   "metadata": {},
   "outputs": [
    {
     "data": {
      "text/plain": [
       "<matplotlib.collections.PathCollection at 0x7f80c1d04950>"
      ]
     },
     "execution_count": 14,
     "metadata": {},
     "output_type": "execute_result"
    }
   ],
   "source": [
    "pl.scatter(X[:,0],X[:,1],c=y_pred)"
   ]
  },
  {
   "cell_type": "code",
   "execution_count": 59,
   "metadata": {},
   "outputs": [
    {
     "data": {
      "text/plain": [
       "<matplotlib.legend.Legend at 0x7f2ed6101450>"
      ]
     },
     "execution_count": 59,
     "metadata": {},
     "output_type": "execute_result"
    }
   ],
   "source": [
    "pl.plot(zScore(Dp))\n",
    "pl.plot(zScore(Tp),label='Tp')\n",
    "pl.plot(zScore(Rp))\n",
    "pl.legend()"
   ]
  },
  {
   "cell_type": "code",
   "execution_count": 47,
   "metadata": {},
   "outputs": [
    {
     "data": {
      "text/plain": [
       "array([ 172.81054688,  173.47265625,  174.13476563,  174.796875  ,\n",
       "        175.45898438,  176.12109375,  176.78320313,  177.4453125 ,\n",
       "        178.10742188,  178.76953125,  179.43164063,  180.09375   ,\n",
       "        180.75585938,  181.41796875,  182.08007813,  182.7421875 ,\n",
       "        183.40429688,  184.06640625,  184.72851563,  185.390625  ,\n",
       "        186.05273438,  186.71484375,  187.37695313,  188.0390625 ,\n",
       "        188.70117188,  189.36328125,  190.02539063,  190.6875    ,\n",
       "        191.34960938,  192.01171875,  192.67382813,  193.3359375 ,\n",
       "        193.99804688,  194.66015625,  195.32226563,  195.984375  ,\n",
       "        196.64648438,  197.30859375,  197.97070313,  198.6328125 ])"
      ]
     },
     "execution_count": 47,
     "metadata": {},
     "output_type": "execute_result"
    }
   ],
   "source": [
    "freqs[260:300,0]"
   ]
  },
  {
   "cell_type": "code",
   "execution_count": 38,
   "metadata": {},
   "outputs": [],
   "source": [
    "SleepEpochsEven = pd.DataFrame([[1,30,'SWS','sleep01','2013-05-31','R616'],\n",
    "                            [31,45,'REM','sleep01','2013-05-31','R616'],\n",
    "                            [45,55,'SWS','sleep01','2013-05-31','R616'],\n",
    "                            [68,90,'SWS','sleep01','2013-05-31','R616'],\n",
    "                            [95,115,'REM','sleep01','2013-05-31','R616'],\n",
    "                            [120,135,'SWS','sleep01','2013-05-31','R616'],\n",
    "                            [145,185,'SWS','sleep01','2013-05-31','R616'],\n",
    "                            [190,215,'REM','sleep01','2013-05-31','R616'],\n",
    "                            [218,232,'SWS','sleep01','2013-05-31','R616'],\n",
    "                            [233,260,'REM','sleep01','2013-05-31','R616'],\n",
    "                            [261,295,'SWS','sleep01','2013-05-31','R616'],\n",
    "                            [300,330,'REM','sleep01','2013-05-31','R616'],\n",
    "                            [330,360,'SWS','sleep01','2013-05-31','R616'],\n",
    "                            [361,402,'REM','sleep01','2013-05-31','R616'],\n",
    "                            [403,415,'SWS','sleep01','2013-05-31','R616'],\n",
    "                            [430,485,'SWS','sleep01','2013-05-31','R616'],\n",
    "                            [485,505,'REM','sleep01','2013-05-31','R616'],\n",
    "                            [0,270,'REM','sleep02','2013-05-31','R616'],\n",
    "                            [271,335,'SWS','sleep02','2013-05-31','R616'],\n",
    "                            [271,335,'SWS','sleep02','2013-05-31','R616'],\n",
    "                            ],\n",
    "                           columns=['t0','t1','epoch','session','date','animal'])\n"
   ]
  },
  {
   "cell_type": "code",
   "execution_count": null,
   "metadata": {},
   "outputs": [],
   "source": []
  },
  {
   "cell_type": "code",
   "execution_count": 33,
   "metadata": {},
   "outputs": [
    {
     "name": "stdout",
     "output_type": "stream",
     "text": [
      "MECLesion /home/chenani/dataWork/ali/MECLesio0n\n",
      "MECLesion /home/chenani/dataWork/ali/MECLesio0n\n"
     ]
    }
   ],
   "source": [
    "psd = np.array([])\n",
    "dates = []\n",
    "sessions = []\n",
    "animals = []\n",
    "state = []\n",
    "freqz = []\n",
    "epN = 0\n",
    "epochNo = []\n",
    "for path in lfpPaths[:]:\n",
    "    pickedChannel = pkl.load(open(path,'rb'))\n",
    "    NFFT = int(2 ** 17)\n",
    "    expDate = path.split('_')[0].split('/')[-1]\n",
    "    session = path.split('_')[-2]\n",
    "    session = session[:-1]+'0'+session[-1]\n",
    "    relevantEpochs = SleepEpochsEven[np.logical_and(SleepEpochsEven['date']== expDate,\n",
    "                                                SleepEpochsEven['session']==session)]\n",
    "    relevantEpochs.index = range(relevantEpochs.index.size)\n",
    "    Nepochs = relevantEpochs.shape[0]\n",
    "    print expDate,session\n",
    "    if Nepochs:\n",
    "        print Nepochs\n",
    "        print relevantEpochs\n",
    "        for kk in range(Nepochs):\n",
    "            t0 = relevantEpochs.t0[kk]\n",
    "            tf = relevantEpochs.t1[kk]\n",
    "            sigSlice = np.logical_and(pickedChannel.time_axis()>t0*1e3,pickedChannel.time_axis()<tf*1e3)\n",
    "            dsig = scsig.decimate(pickedChannel.signal[sigSlice],2)\n",
    "            arma = sm.tsa.ARMA(dsig,(2,0)).fit(disp=0)\n",
    "            residPSD = sp.Periodogram(arma.resid,sampling=1000,NFFT=NFFT)\n",
    "            residPSD()\n",
    "            Nfreqz = residPSD.psd.size\n",
    "            smoothingKernel = scsig.gaussian(Nfreqz/100,Nfreqz/200)\n",
    "            residPSDSmooth = np.convolve(residPSD.psd,smoothingKernel,'same')\n",
    "            residPSDSmooth = scsig.decimate(residPSDSmooth,10)\n",
    "            psd = np.append(psd,residPSDSmooth)\n",
    "            freqz.append(scsig.decimate(residPSD.frequencies(),10))\n",
    "            dates.append(residPSDSmooth.size*[relevantEpochs.date[0]])\n",
    "            sessions.append(residPSDSmooth.size*[relevantEpochs.session[0]])\n",
    "            animals.append(residPSDSmooth.size*[relevantEpochs.animal[0]])\n",
    "            state.append(residPSDSmooth.size*[relevantEpochs.epoch[kk]])\n",
    "            epochNo.append(residPSDSmooth.size*[epN])\n",
    "            epN+=1\n",
    "animals = np.array(animals).flatten()\n",
    "dates = np.array(dates).flatten()\n",
    "sessions = np.array(sessions).flatten()\n",
    "state = np.array(state).flatten()\n",
    "freqz = np.array(freqz).flatten()\n",
    "epochNo = np.array(epochNo).flatten()\n",
    "dfm = np.array([psd,freqz,state,epochNo,sessions,dates,animals]).T\n",
    "df = pd.DataFrame(dfm,columns=['psd','f','epoch','epochNo','session','date','animal'])\n",
    "df[['psd', 'f']] = df[['psd', 'f']].astype(float)\n",
    "df[['epochNo']] = df[['epochNo']].astype(int)\n",
    "df[['epoch','session','date','animal']] = df[['epoch','session','date','animal']].astype(str)"
   ]
  },
  {
   "cell_type": "code",
   "execution_count": 34,
   "metadata": {},
   "outputs": [
    {
     "name": "stdout",
     "output_type": "stream",
     "text": [
      "MECLesion /home/chenani/dataWork/ali/MECLesio0n\n",
      "MECLesion /home/chenani/dataWork/ali/MECLesio0n\n"
     ]
    }
   ],
   "source": [
    "freqBins = np.linspace(0.5,300.5,600)\n",
    "psd = np.array([])\n",
    "dates = []\n",
    "sessions = []\n",
    "animals = []\n",
    "state = []\n",
    "freqz = []\n",
    "epN = 0\n",
    "epochNo = []\n",
    "for path in lfpPaths[:]:\n",
    "    pickedChannel = pkl.load(open(path,'rb'))\n",
    "    expDate = path.split('_')[0].split('/')[-1]\n",
    "    session = path.split('_')[-2]\n",
    "    session = session[:-1]+'0'+session[-1]\n",
    "    relevantEpochs = SleepEpochs[np.logical_and(SleepEpochs['date']== expDate,\n",
    "                                                SleepEpochs['session']==session)]\n",
    "    relevantEpochs.index = range(relevantEpochs.index.size)\n",
    "    Nepochs = relevantEpochs.shape[0]\n",
    "    print expDate,session\n",
    "    if Nepochs:\n",
    "        #print Nepochs\n",
    "        #print relevantEpochs\n",
    "        for kk in range(Nepochs):\n",
    "            t0 = relevantEpochs.t0[kk]\n",
    "            tf = relevantEpochs.t1[kk]\n",
    "            sigSlice = np.logical_and(pickedChannel.time_axis()>t0*1e3,pickedChannel.time_axis()<tf*1e3)\n",
    "            dsig = scsig.decimate(pickedChannel.signal[sigSlice],2)\n",
    "            NFFT = int(2**(np.floor(np.log2(dsig.size))+1))\n",
    "            arma = sm.tsa.ARMA(dsig,(2,0)).fit(disp=0)\n",
    "            residPSD = sp.Periodogram(arma.resid,sampling=1000,NFFT=NFFT)\n",
    "            residPSD()\n",
    "            Nfreqz = residPSD.psd.size\n",
    "            hst,freqBins = np.histogram(residPSD.frequencies(),bins=freqBins)\n",
    "            avgPSD = np.zeros(hst.size)\n",
    "            idx = 0\n",
    "            for ii,item in enumerate(hst):\n",
    "                avgPSD[ii] = residPSD.psd[idx:idx+item].mean()\n",
    "                idx+=item\n",
    "            Imax = avgPSD.argmax()\n",
    "            avgPSD[Imax] = (avgPSD[Imax-1] + avgPSD[Imax+1])/2.0\n",
    "            #avgPSD = np.convolve(avgPSD,scsig.gaussian(freqBins.size/30,freqBins.size/60),'same')\n",
    "            psd = np.append(psd,avgPSD)\n",
    "            freqz.append(np.arange(1,300.5,0.5))\n",
    "            dates.append(avgPSD.size*[relevantEpochs.date[0]])\n",
    "            sessions.append(avgPSD.size*[relevantEpochs.session[0]])\n",
    "            animals.append(avgPSD.size*[relevantEpochs.animal[0]])\n",
    "            state.append(avgPSD.size*[relevantEpochs.epoch[kk]])\n",
    "            epochNo.append(avgPSD.size*[epN])\n",
    "            epN+=1\n",
    "animals = np.array(animals).flatten()\n",
    "dates = np.array(dates).flatten()\n",
    "sessions = np.array(sessions).flatten()\n",
    "state = np.array(state).flatten()\n",
    "freqz = np.array(freqz).flatten()\n",
    "epochNo = np.array(epochNo).flatten()\n",
    "dfm = np.array([psd,freqz,state,epochNo,sessions,dates,animals]).T\n",
    "df = pd.DataFrame(dfm,columns=['psd','f','epoch','epochNo','session','date','animal'])\n",
    "df[['psd', 'f']] = df[['psd', 'f']].astype(float)\n",
    "df[['epochNo']] = df[['epochNo']].astype(int)\n",
    "df[['epoch','session','date','animal']] = df[['epoch','session','date','animal']].astype(str)"
   ]
  },
  {
   "cell_type": "code",
   "execution_count": 35,
   "metadata": {},
   "outputs": [
    {
     "name": "stderr",
     "output_type": "stream",
     "text": [
      "/home/chenani/anaconda/lib/python2.7/site-packages/matplotlib/__init__.py:892: UserWarning: axes.color_cycle is deprecated and replaced with axes.prop_cycle; please use the latter.\n",
      "  warnings.warn(self.msg_depr % (key, alt_key))\n"
     ]
    },
    {
     "ename": "UnboundLocalError",
     "evalue": "local variable 'x' referenced before assignment",
     "output_type": "error",
     "traceback": [
      "\u001b[1;31m---------------------------------------------------------------------------\u001b[0m",
      "\u001b[1;31mUnboundLocalError\u001b[0m                         Traceback (most recent call last)",
      "\u001b[1;32m<ipython-input-35-08de68680c29>\u001b[0m in \u001b[0;36m<module>\u001b[1;34m()\u001b[0m\n\u001b[0;32m      1\u001b[0m \u001b[0mpl\u001b[0m\u001b[1;33m.\u001b[0m\u001b[0myscale\u001b[0m\u001b[1;33m(\u001b[0m\u001b[1;34m'log'\u001b[0m\u001b[1;33m)\u001b[0m\u001b[1;33m\u001b[0m\u001b[0m\n\u001b[1;32m----> 2\u001b[1;33m \u001b[0msns\u001b[0m\u001b[1;33m.\u001b[0m\u001b[0mtsplot\u001b[0m\u001b[1;33m(\u001b[0m\u001b[0mvalue\u001b[0m\u001b[1;33m=\u001b[0m\u001b[1;34m'psd'\u001b[0m\u001b[1;33m,\u001b[0m\u001b[0mtime\u001b[0m\u001b[1;33m=\u001b[0m\u001b[1;34m'f'\u001b[0m\u001b[1;33m,\u001b[0m\u001b[0mcondition\u001b[0m\u001b[1;33m=\u001b[0m\u001b[1;34m'epoch'\u001b[0m\u001b[1;33m,\u001b[0m\u001b[0munit\u001b[0m\u001b[1;33m=\u001b[0m\u001b[1;34m'epochNo'\u001b[0m\u001b[1;33m,\u001b[0m\u001b[0mdata\u001b[0m\u001b[1;33m=\u001b[0m\u001b[0mdf\u001b[0m\u001b[1;33m)\u001b[0m\u001b[1;31m#[df['epoch']=='SWS'])\u001b[0m\u001b[1;33m\u001b[0m\u001b[0m\n\u001b[0m\u001b[0;32m      3\u001b[0m \u001b[0mpl\u001b[0m\u001b[1;33m.\u001b[0m\u001b[0mxlim\u001b[0m\u001b[1;33m(\u001b[0m\u001b[1;36m0\u001b[0m\u001b[1;33m,\u001b[0m\u001b[1;36m250\u001b[0m\u001b[1;33m)\u001b[0m\u001b[1;33m\u001b[0m\u001b[0m\n",
      "\u001b[1;32m/home/chenani/anaconda/lib/python2.7/site-packages/seaborn/timeseries.pyc\u001b[0m in \u001b[0;36mtsplot\u001b[1;34m(data, time, unit, condition, value, err_style, ci, interpolate, color, estimator, n_boot, err_palette, err_kws, legend, ax, **kwargs)\u001b[0m\n\u001b[0;32m    327\u001b[0m \u001b[1;33m\u001b[0m\u001b[0m\n\u001b[0;32m    328\u001b[0m     \u001b[1;31m# Pad the sides of the plot only when not interpolating\u001b[0m\u001b[1;33m\u001b[0m\u001b[1;33m\u001b[0m\u001b[0m\n\u001b[1;32m--> 329\u001b[1;33m     \u001b[0max\u001b[0m\u001b[1;33m.\u001b[0m\u001b[0mset_xlim\u001b[0m\u001b[1;33m(\u001b[0m\u001b[0mx\u001b[0m\u001b[1;33m.\u001b[0m\u001b[0mmin\u001b[0m\u001b[1;33m(\u001b[0m\u001b[1;33m)\u001b[0m\u001b[1;33m,\u001b[0m \u001b[0mx\u001b[0m\u001b[1;33m.\u001b[0m\u001b[0mmax\u001b[0m\u001b[1;33m(\u001b[0m\u001b[1;33m)\u001b[0m\u001b[1;33m)\u001b[0m\u001b[1;33m\u001b[0m\u001b[0m\n\u001b[0m\u001b[0;32m    330\u001b[0m     \u001b[0mx_diff\u001b[0m \u001b[1;33m=\u001b[0m \u001b[0mx\u001b[0m\u001b[1;33m[\u001b[0m\u001b[1;36m1\u001b[0m\u001b[1;33m]\u001b[0m \u001b[1;33m-\u001b[0m \u001b[0mx\u001b[0m\u001b[1;33m[\u001b[0m\u001b[1;36m0\u001b[0m\u001b[1;33m]\u001b[0m\u001b[1;33m\u001b[0m\u001b[0m\n\u001b[0;32m    331\u001b[0m     \u001b[1;32mif\u001b[0m \u001b[1;32mnot\u001b[0m \u001b[0minterpolate\u001b[0m\u001b[1;33m:\u001b[0m\u001b[1;33m\u001b[0m\u001b[0m\n",
      "\u001b[1;31mUnboundLocalError\u001b[0m: local variable 'x' referenced before assignment"
     ]
    }
   ],
   "source": [
    "pl.yscale('log')\n",
    "sns.tsplot(value='psd',time='f',condition='epoch',unit='epochNo',data=df)#[df['epoch']=='SWS'])\n",
    "pl.xlim(0,250)"
   ]
  },
  {
   "cell_type": "code",
   "execution_count": 106,
   "metadata": {},
   "outputs": [],
   "source": [
    "df.to_pickle(localPath+'psdDataavg.pd')\n",
    "#SleepEpochsEven.to_pickle(localPath+'SleepEpochsEven.pd')"
   ]
  },
  {
   "cell_type": "code",
   "execution_count": 32,
   "metadata": {},
   "outputs": [],
   "source": [
    "(SleepEpochsEven[SleepEpochsEven['epoch']=='REM']['t1']-SleepEpochsEven[SleepEpochsEven['epoch']=='REM']['t0']).hist(bins=40)\n",
    "(SleepEpochsEven[SleepEpochsEven['epoch']=='SWS']['t1']-SleepEpochsEven[SleepEpochsEven['epoch']=='SWS']['t0']).hist(bins=40,alpha=0.5)\n",
    "pl.show()"
   ]
  },
  {
   "cell_type": "code",
   "execution_count": 25,
   "metadata": {},
   "outputs": [
    {
     "data": {
      "text/html": [
       "<div>\n",
       "<table border=\"1\" class=\"dataframe\">\n",
       "  <thead>\n",
       "    <tr style=\"text-align: right;\">\n",
       "      <th></th>\n",
       "      <th>t0</th>\n",
       "      <th>t1</th>\n",
       "      <th>epoch</th>\n",
       "      <th>session</th>\n",
       "      <th>date</th>\n",
       "      <th>animal</th>\n",
       "    </tr>\n",
       "  </thead>\n",
       "  <tbody>\n",
       "    <tr>\n",
       "      <th>84</th>\n",
       "      <td>550</td>\n",
       "      <td>660</td>\n",
       "      <td>SWS</td>\n",
       "      <td>sleep03</td>\n",
       "      <td>2011-09-23</td>\n",
       "      <td>G6</td>\n",
       "    </tr>\n",
       "    <tr>\n",
       "      <th>92</th>\n",
       "      <td>980</td>\n",
       "      <td>1130</td>\n",
       "      <td>SWS</td>\n",
       "      <td>sleep03</td>\n",
       "      <td>2011-09-23</td>\n",
       "      <td>G6</td>\n",
       "    </tr>\n",
       "  </tbody>\n",
       "</table>\n",
       "</div>"
      ],
      "text/plain": [
       "     t0    t1 epoch  session        date animal\n",
       "84  550   660   SWS  sleep03  2011-09-23     G6\n",
       "92  980  1130   SWS  sleep03  2011-09-23     G6"
      ]
     },
     "execution_count": 25,
     "metadata": {},
     "output_type": "execute_result"
    }
   ],
   "source": [
    "SleepEpochsEven[(SleepEpochsEven.t1 - SleepEpochsEven.t0) >100]"
   ]
  },
  {
   "cell_type": "code",
   "execution_count": 94,
   "metadata": {},
   "outputs": [
    {
     "data": {
      "text/plain": [
       "(1569, 1497, 1569, 1569, 1569, 1569, 1569)"
      ]
     },
     "execution_count": 94,
     "metadata": {},
     "output_type": "execute_result"
    }
   ],
   "source": [
    "psd.size,freqz.size,state.size,epochNo.size,sessions.size,dates.size,animals.size"
   ]
  },
  {
   "cell_type": "code",
   "execution_count": 66,
   "metadata": {},
   "outputs": [
    {
     "data": {
      "text/plain": [
       "array([   0.,   50.,  100.,  150.,  200.,  250.,  300.,  350.,  400.,\n",
       "        450.,  500.])"
      ]
     },
     "execution_count": 66,
     "metadata": {},
     "output_type": "execute_result"
    }
   ],
   "source": [
    "freqBins"
   ]
  },
  {
   "cell_type": "code",
   "execution_count": 82,
   "metadata": {},
   "outputs": [
    {
     "data": {
      "text/plain": [
       "'2011-08-04'"
      ]
     },
     "execution_count": 82,
     "metadata": {},
     "output_type": "execute_result"
    }
   ],
   "source": []
  },
  {
   "cell_type": "code",
   "execution_count": 93,
   "metadata": {},
   "outputs": [],
   "source": [
    "relevantEpochs.index = range(relevantEpochs.index.size)"
   ]
  },
  {
   "cell_type": "code",
   "execution_count": 15,
   "metadata": {},
   "outputs": [],
   "source": [
    "s = lfpPaths[0].split('_')[-2]"
   ]
  },
  {
   "cell_type": "code",
   "execution_count": 21,
   "metadata": {},
   "outputs": [
    {
     "data": {
      "text/plain": [
       "'sleep01'"
      ]
     },
     "execution_count": 21,
     "metadata": {},
     "output_type": "execute_result"
    }
   ],
   "source": [
    "s[:-1]+'0'+s[-1]"
   ]
  },
  {
   "cell_type": "code",
   "execution_count": 69,
   "metadata": {
    "collapsed": true
   },
   "outputs": [],
   "source": [
    "freqBins = np.linspace(0.5,255.5,255)"
   ]
  },
  {
   "cell_type": "code",
   "execution_count": 90,
   "metadata": {},
   "outputs": [
    {
     "data": {
      "text/plain": [
       "(499, 500)"
      ]
     },
     "execution_count": 90,
     "metadata": {},
     "output_type": "execute_result"
    }
   ],
   "source": [
    "np.arange(1,250.5,0.5).size,freqBins.size"
   ]
  },
  {
   "cell_type": "code",
   "execution_count": 70,
   "metadata": {},
   "outputs": [
    {
     "data": {
      "text/plain": [
       "(array([132, 131, 132, 131, 132, 132, 131, 132, 131, 132, 132, 131, 132,\n",
       "        131, 132, 131, 132, 132, 131, 132, 131, 132, 132, 131, 132, 131,\n",
       "        132, 132, 131, 132, 131, 132, 131, 132, 132, 131, 132, 131, 132,\n",
       "        132, 131, 132, 131, 132, 131, 132, 132, 131, 132, 131, 132, 132,\n",
       "        131, 132, 131, 132, 132, 131, 132, 131, 132, 131, 132, 132, 131,\n",
       "        132, 131, 132, 132, 131, 132, 131, 132, 132, 131, 132, 131, 132,\n",
       "        131, 132, 132, 131, 132, 131, 132, 132, 131, 132, 131, 132, 132,\n",
       "        131, 132, 131, 132, 131, 132, 132, 131, 132, 131, 132, 132, 131,\n",
       "        132, 131, 132, 132, 131, 132, 131, 132, 131, 132, 132, 131, 132,\n",
       "        131, 132, 132, 131, 132, 131, 132, 132, 131, 132, 131, 132, 131,\n",
       "        132, 132, 131, 132, 131, 132, 132, 131, 132, 131, 132, 132, 131,\n",
       "        132, 131, 132, 131, 132, 132, 131, 132, 131, 132, 132, 131, 132,\n",
       "        131, 132, 132, 131, 132, 131, 132, 131, 132, 132, 131, 132, 131,\n",
       "        132, 132, 131, 132, 131, 132, 132, 131, 132, 131, 132, 131, 132,\n",
       "        132, 131, 132, 131, 132, 132, 131, 132, 131, 132, 132, 131, 132,\n",
       "        131, 132, 131, 132, 132, 131, 132, 131, 132, 132, 131, 132, 131,\n",
       "        132, 132, 131, 132, 131, 132, 131, 132, 132, 131, 132, 131, 132,\n",
       "        132, 131, 132, 131, 132, 132, 131, 132, 131, 132, 131, 132, 132,\n",
       "        131, 132, 131, 132, 132, 131, 132, 131, 132, 132, 131, 132, 131,\n",
       "        132, 131, 132, 132, 131, 132, 131]),\n",
       " array([   0.5       ,    1.50393701,    2.50787402,    3.51181102,\n",
       "           4.51574803,    5.51968504,    6.52362205,    7.52755906,\n",
       "           8.53149606,    9.53543307,   10.53937008,   11.54330709,\n",
       "          12.54724409,   13.5511811 ,   14.55511811,   15.55905512,\n",
       "          16.56299213,   17.56692913,   18.57086614,   19.57480315,\n",
       "          20.57874016,   21.58267717,   22.58661417,   23.59055118,\n",
       "          24.59448819,   25.5984252 ,   26.6023622 ,   27.60629921,\n",
       "          28.61023622,   29.61417323,   30.61811024,   31.62204724,\n",
       "          32.62598425,   33.62992126,   34.63385827,   35.63779528,\n",
       "          36.64173228,   37.64566929,   38.6496063 ,   39.65354331,\n",
       "          40.65748031,   41.66141732,   42.66535433,   43.66929134,\n",
       "          44.67322835,   45.67716535,   46.68110236,   47.68503937,\n",
       "          48.68897638,   49.69291339,   50.69685039,   51.7007874 ,\n",
       "          52.70472441,   53.70866142,   54.71259843,   55.71653543,\n",
       "          56.72047244,   57.72440945,   58.72834646,   59.73228346,\n",
       "          60.73622047,   61.74015748,   62.74409449,   63.7480315 ,\n",
       "          64.7519685 ,   65.75590551,   66.75984252,   67.76377953,\n",
       "          68.76771654,   69.77165354,   70.77559055,   71.77952756,\n",
       "          72.78346457,   73.78740157,   74.79133858,   75.79527559,\n",
       "          76.7992126 ,   77.80314961,   78.80708661,   79.81102362,\n",
       "          80.81496063,   81.81889764,   82.82283465,   83.82677165,\n",
       "          84.83070866,   85.83464567,   86.83858268,   87.84251969,\n",
       "          88.84645669,   89.8503937 ,   90.85433071,   91.85826772,\n",
       "          92.86220472,   93.86614173,   94.87007874,   95.87401575,\n",
       "          96.87795276,   97.88188976,   98.88582677,   99.88976378,\n",
       "         100.89370079,  101.8976378 ,  102.9015748 ,  103.90551181,\n",
       "         104.90944882,  105.91338583,  106.91732283,  107.92125984,\n",
       "         108.92519685,  109.92913386,  110.93307087,  111.93700787,\n",
       "         112.94094488,  113.94488189,  114.9488189 ,  115.95275591,\n",
       "         116.95669291,  117.96062992,  118.96456693,  119.96850394,\n",
       "         120.97244094,  121.97637795,  122.98031496,  123.98425197,\n",
       "         124.98818898,  125.99212598,  126.99606299,  128.        ,\n",
       "         129.00393701,  130.00787402,  131.01181102,  132.01574803,\n",
       "         133.01968504,  134.02362205,  135.02755906,  136.03149606,\n",
       "         137.03543307,  138.03937008,  139.04330709,  140.04724409,\n",
       "         141.0511811 ,  142.05511811,  143.05905512,  144.06299213,\n",
       "         145.06692913,  146.07086614,  147.07480315,  148.07874016,\n",
       "         149.08267717,  150.08661417,  151.09055118,  152.09448819,\n",
       "         153.0984252 ,  154.1023622 ,  155.10629921,  156.11023622,\n",
       "         157.11417323,  158.11811024,  159.12204724,  160.12598425,\n",
       "         161.12992126,  162.13385827,  163.13779528,  164.14173228,\n",
       "         165.14566929,  166.1496063 ,  167.15354331,  168.15748031,\n",
       "         169.16141732,  170.16535433,  171.16929134,  172.17322835,\n",
       "         173.17716535,  174.18110236,  175.18503937,  176.18897638,\n",
       "         177.19291339,  178.19685039,  179.2007874 ,  180.20472441,\n",
       "         181.20866142,  182.21259843,  183.21653543,  184.22047244,\n",
       "         185.22440945,  186.22834646,  187.23228346,  188.23622047,\n",
       "         189.24015748,  190.24409449,  191.2480315 ,  192.2519685 ,\n",
       "         193.25590551,  194.25984252,  195.26377953,  196.26771654,\n",
       "         197.27165354,  198.27559055,  199.27952756,  200.28346457,\n",
       "         201.28740157,  202.29133858,  203.29527559,  204.2992126 ,\n",
       "         205.30314961,  206.30708661,  207.31102362,  208.31496063,\n",
       "         209.31889764,  210.32283465,  211.32677165,  212.33070866,\n",
       "         213.33464567,  214.33858268,  215.34251969,  216.34645669,\n",
       "         217.3503937 ,  218.35433071,  219.35826772,  220.36220472,\n",
       "         221.36614173,  222.37007874,  223.37401575,  224.37795276,\n",
       "         225.38188976,  226.38582677,  227.38976378,  228.39370079,\n",
       "         229.3976378 ,  230.4015748 ,  231.40551181,  232.40944882,\n",
       "         233.41338583,  234.41732283,  235.42125984,  236.42519685,\n",
       "         237.42913386,  238.43307087,  239.43700787,  240.44094488,\n",
       "         241.44488189,  242.4488189 ,  243.45275591,  244.45669291,\n",
       "         245.46062992,  246.46456693,  247.46850394,  248.47244094,\n",
       "         249.47637795,  250.48031496,  251.48425197,  252.48818898,\n",
       "         253.49212598,  254.49606299,  255.5       ]))"
      ]
     },
     "execution_count": 70,
     "metadata": {},
     "output_type": "execute_result"
    }
   ],
   "source": [
    "np.histogram(residPSD.frequencies(),bins=freqBins)"
   ]
  },
  {
   "cell_type": "code",
   "execution_count": 83,
   "metadata": {},
   "outputs": [
    {
     "data": {
      "text/plain": [
       "array([  1.00000000e-02,   5.10981964e-01,   1.01196393e+00,\n",
       "         1.51294589e+00,   2.01392786e+00,   2.51490982e+00,\n",
       "         3.01589178e+00,   3.51687375e+00,   4.01785571e+00,\n",
       "         4.51883768e+00,   5.01981964e+00,   5.52080160e+00,\n",
       "         6.02178357e+00,   6.52276553e+00,   7.02374749e+00,\n",
       "         7.52472946e+00,   8.02571142e+00,   8.52669339e+00,\n",
       "         9.02767535e+00,   9.52865731e+00,   1.00296393e+01,\n",
       "         1.05306212e+01,   1.10316032e+01,   1.15325852e+01,\n",
       "         1.20335671e+01,   1.25345491e+01,   1.30355311e+01,\n",
       "         1.35365130e+01,   1.40374950e+01,   1.45384770e+01,\n",
       "         1.50394589e+01,   1.55404409e+01,   1.60414228e+01,\n",
       "         1.65424048e+01,   1.70433868e+01,   1.75443687e+01,\n",
       "         1.80453507e+01,   1.85463327e+01,   1.90473146e+01,\n",
       "         1.95482966e+01,   2.00492786e+01,   2.05502605e+01,\n",
       "         2.10512425e+01,   2.15522244e+01,   2.20532064e+01,\n",
       "         2.25541884e+01,   2.30551703e+01,   2.35561523e+01,\n",
       "         2.40571343e+01,   2.45581162e+01,   2.50590982e+01,\n",
       "         2.55600802e+01,   2.60610621e+01,   2.65620441e+01,\n",
       "         2.70630261e+01,   2.75640080e+01,   2.80649900e+01,\n",
       "         2.85659719e+01,   2.90669539e+01,   2.95679359e+01,\n",
       "         3.00689178e+01,   3.05698998e+01,   3.10708818e+01,\n",
       "         3.15718637e+01,   3.20728457e+01,   3.25738277e+01,\n",
       "         3.30748096e+01,   3.35757916e+01,   3.40767735e+01,\n",
       "         3.45777555e+01,   3.50787375e+01,   3.55797194e+01,\n",
       "         3.60807014e+01,   3.65816834e+01,   3.70826653e+01,\n",
       "         3.75836473e+01,   3.80846293e+01,   3.85856112e+01,\n",
       "         3.90865932e+01,   3.95875752e+01,   4.00885571e+01,\n",
       "         4.05895391e+01,   4.10905210e+01,   4.15915030e+01,\n",
       "         4.20924850e+01,   4.25934669e+01,   4.30944489e+01,\n",
       "         4.35954309e+01,   4.40964128e+01,   4.45973948e+01,\n",
       "         4.50983768e+01,   4.55993587e+01,   4.61003407e+01,\n",
       "         4.66013226e+01,   4.71023046e+01,   4.76032866e+01,\n",
       "         4.81042685e+01,   4.86052505e+01,   4.91062325e+01,\n",
       "         4.96072144e+01,   5.01081964e+01,   5.06091784e+01,\n",
       "         5.11101603e+01,   5.16111423e+01,   5.21121242e+01,\n",
       "         5.26131062e+01,   5.31140882e+01,   5.36150701e+01,\n",
       "         5.41160521e+01,   5.46170341e+01,   5.51180160e+01,\n",
       "         5.56189980e+01,   5.61199800e+01,   5.66209619e+01,\n",
       "         5.71219439e+01,   5.76229259e+01,   5.81239078e+01,\n",
       "         5.86248898e+01,   5.91258717e+01,   5.96268537e+01,\n",
       "         6.01278357e+01,   6.06288176e+01,   6.11297996e+01,\n",
       "         6.16307816e+01,   6.21317635e+01,   6.26327455e+01,\n",
       "         6.31337275e+01,   6.36347094e+01,   6.41356914e+01,\n",
       "         6.46366733e+01,   6.51376553e+01,   6.56386373e+01,\n",
       "         6.61396192e+01,   6.66406012e+01,   6.71415832e+01,\n",
       "         6.76425651e+01,   6.81435471e+01,   6.86445291e+01,\n",
       "         6.91455110e+01,   6.96464930e+01,   7.01474749e+01,\n",
       "         7.06484569e+01,   7.11494389e+01,   7.16504208e+01,\n",
       "         7.21514028e+01,   7.26523848e+01,   7.31533667e+01,\n",
       "         7.36543487e+01,   7.41553307e+01,   7.46563126e+01,\n",
       "         7.51572946e+01,   7.56582766e+01,   7.61592585e+01,\n",
       "         7.66602405e+01,   7.71612224e+01,   7.76622044e+01,\n",
       "         7.81631864e+01,   7.86641683e+01,   7.91651503e+01,\n",
       "         7.96661323e+01,   8.01671142e+01,   8.06680962e+01,\n",
       "         8.11690782e+01,   8.16700601e+01,   8.21710421e+01,\n",
       "         8.26720240e+01,   8.31730060e+01,   8.36739880e+01,\n",
       "         8.41749699e+01,   8.46759519e+01,   8.51769339e+01,\n",
       "         8.56779158e+01,   8.61788978e+01,   8.66798798e+01,\n",
       "         8.71808617e+01,   8.76818437e+01,   8.81828257e+01,\n",
       "         8.86838076e+01,   8.91847896e+01,   8.96857715e+01,\n",
       "         9.01867535e+01,   9.06877355e+01,   9.11887174e+01,\n",
       "         9.16896994e+01,   9.21906814e+01,   9.26916633e+01,\n",
       "         9.31926453e+01,   9.36936273e+01,   9.41946092e+01,\n",
       "         9.46955912e+01,   9.51965731e+01,   9.56975551e+01,\n",
       "         9.61985371e+01,   9.66995190e+01,   9.72005010e+01,\n",
       "         9.77014830e+01,   9.82024649e+01,   9.87034469e+01,\n",
       "         9.92044289e+01,   9.97054108e+01,   1.00206393e+02,\n",
       "         1.00707375e+02,   1.01208357e+02,   1.01709339e+02,\n",
       "         1.02210321e+02,   1.02711303e+02,   1.03212285e+02,\n",
       "         1.03713267e+02,   1.04214248e+02,   1.04715230e+02,\n",
       "         1.05216212e+02,   1.05717194e+02,   1.06218176e+02,\n",
       "         1.06719158e+02,   1.07220140e+02,   1.07721122e+02,\n",
       "         1.08222104e+02,   1.08723086e+02,   1.09224068e+02,\n",
       "         1.09725050e+02,   1.10226032e+02,   1.10727014e+02,\n",
       "         1.11227996e+02,   1.11728978e+02,   1.12229960e+02,\n",
       "         1.12730942e+02,   1.13231924e+02,   1.13732906e+02,\n",
       "         1.14233888e+02,   1.14734870e+02,   1.15235852e+02,\n",
       "         1.15736834e+02,   1.16237816e+02,   1.16738798e+02,\n",
       "         1.17239780e+02,   1.17740762e+02,   1.18241743e+02,\n",
       "         1.18742725e+02,   1.19243707e+02,   1.19744689e+02,\n",
       "         1.20245671e+02,   1.20746653e+02,   1.21247635e+02,\n",
       "         1.21748617e+02,   1.22249599e+02,   1.22750581e+02,\n",
       "         1.23251563e+02,   1.23752545e+02,   1.24253527e+02,\n",
       "         1.24754509e+02,   1.25255491e+02,   1.25756473e+02,\n",
       "         1.26257455e+02,   1.26758437e+02,   1.27259419e+02,\n",
       "         1.27760401e+02,   1.28261383e+02,   1.28762365e+02,\n",
       "         1.29263347e+02,   1.29764329e+02,   1.30265311e+02,\n",
       "         1.30766293e+02,   1.31267275e+02,   1.31768257e+02,\n",
       "         1.32269238e+02,   1.32770220e+02,   1.33271202e+02,\n",
       "         1.33772184e+02,   1.34273166e+02,   1.34774148e+02,\n",
       "         1.35275130e+02,   1.35776112e+02,   1.36277094e+02,\n",
       "         1.36778076e+02,   1.37279058e+02,   1.37780040e+02,\n",
       "         1.38281022e+02,   1.38782004e+02,   1.39282986e+02,\n",
       "         1.39783968e+02,   1.40284950e+02,   1.40785932e+02,\n",
       "         1.41286914e+02,   1.41787896e+02,   1.42288878e+02,\n",
       "         1.42789860e+02,   1.43290842e+02,   1.43791824e+02,\n",
       "         1.44292806e+02,   1.44793788e+02,   1.45294770e+02,\n",
       "         1.45795752e+02,   1.46296733e+02,   1.46797715e+02,\n",
       "         1.47298697e+02,   1.47799679e+02,   1.48300661e+02,\n",
       "         1.48801643e+02,   1.49302625e+02,   1.49803607e+02,\n",
       "         1.50304589e+02,   1.50805571e+02,   1.51306553e+02,\n",
       "         1.51807535e+02,   1.52308517e+02,   1.52809499e+02,\n",
       "         1.53310481e+02,   1.53811463e+02,   1.54312445e+02,\n",
       "         1.54813427e+02,   1.55314409e+02,   1.55815391e+02,\n",
       "         1.56316373e+02,   1.56817355e+02,   1.57318337e+02,\n",
       "         1.57819319e+02,   1.58320301e+02,   1.58821283e+02,\n",
       "         1.59322265e+02,   1.59823246e+02,   1.60324228e+02,\n",
       "         1.60825210e+02,   1.61326192e+02,   1.61827174e+02,\n",
       "         1.62328156e+02,   1.62829138e+02,   1.63330120e+02,\n",
       "         1.63831102e+02,   1.64332084e+02,   1.64833066e+02,\n",
       "         1.65334048e+02,   1.65835030e+02,   1.66336012e+02,\n",
       "         1.66836994e+02,   1.67337976e+02,   1.67838958e+02,\n",
       "         1.68339940e+02,   1.68840922e+02,   1.69341904e+02,\n",
       "         1.69842886e+02,   1.70343868e+02,   1.70844850e+02,\n",
       "         1.71345832e+02,   1.71846814e+02,   1.72347796e+02,\n",
       "         1.72848778e+02,   1.73349760e+02,   1.73850741e+02,\n",
       "         1.74351723e+02,   1.74852705e+02,   1.75353687e+02,\n",
       "         1.75854669e+02,   1.76355651e+02,   1.76856633e+02,\n",
       "         1.77357615e+02,   1.77858597e+02,   1.78359579e+02,\n",
       "         1.78860561e+02,   1.79361543e+02,   1.79862525e+02,\n",
       "         1.80363507e+02,   1.80864489e+02,   1.81365471e+02,\n",
       "         1.81866453e+02,   1.82367435e+02,   1.82868417e+02,\n",
       "         1.83369399e+02,   1.83870381e+02,   1.84371363e+02,\n",
       "         1.84872345e+02,   1.85373327e+02,   1.85874309e+02,\n",
       "         1.86375291e+02,   1.86876273e+02,   1.87377255e+02,\n",
       "         1.87878236e+02,   1.88379218e+02,   1.88880200e+02,\n",
       "         1.89381182e+02,   1.89882164e+02,   1.90383146e+02,\n",
       "         1.90884128e+02,   1.91385110e+02,   1.91886092e+02,\n",
       "         1.92387074e+02,   1.92888056e+02,   1.93389038e+02,\n",
       "         1.93890020e+02,   1.94391002e+02,   1.94891984e+02,\n",
       "         1.95392966e+02,   1.95893948e+02,   1.96394930e+02,\n",
       "         1.96895912e+02,   1.97396894e+02,   1.97897876e+02,\n",
       "         1.98398858e+02,   1.98899840e+02,   1.99400822e+02,\n",
       "         1.99901804e+02,   2.00402786e+02,   2.00903768e+02,\n",
       "         2.01404749e+02,   2.01905731e+02,   2.02406713e+02,\n",
       "         2.02907695e+02,   2.03408677e+02,   2.03909659e+02,\n",
       "         2.04410641e+02,   2.04911623e+02,   2.05412605e+02,\n",
       "         2.05913587e+02,   2.06414569e+02,   2.06915551e+02,\n",
       "         2.07416533e+02,   2.07917515e+02,   2.08418497e+02,\n",
       "         2.08919479e+02,   2.09420461e+02,   2.09921443e+02,\n",
       "         2.10422425e+02,   2.10923407e+02,   2.11424389e+02,\n",
       "         2.11925371e+02,   2.12426353e+02,   2.12927335e+02,\n",
       "         2.13428317e+02,   2.13929299e+02,   2.14430281e+02,\n",
       "         2.14931263e+02,   2.15432244e+02,   2.15933226e+02,\n",
       "         2.16434208e+02,   2.16935190e+02,   2.17436172e+02,\n",
       "         2.17937154e+02,   2.18438136e+02,   2.18939118e+02,\n",
       "         2.19440100e+02,   2.19941082e+02,   2.20442064e+02,\n",
       "         2.20943046e+02,   2.21444028e+02,   2.21945010e+02,\n",
       "         2.22445992e+02,   2.22946974e+02,   2.23447956e+02,\n",
       "         2.23948938e+02,   2.24449920e+02,   2.24950902e+02,\n",
       "         2.25451884e+02,   2.25952866e+02,   2.26453848e+02,\n",
       "         2.26954830e+02,   2.27455812e+02,   2.27956794e+02,\n",
       "         2.28457776e+02,   2.28958758e+02,   2.29459739e+02,\n",
       "         2.29960721e+02,   2.30461703e+02,   2.30962685e+02,\n",
       "         2.31463667e+02,   2.31964649e+02,   2.32465631e+02,\n",
       "         2.32966613e+02,   2.33467595e+02,   2.33968577e+02,\n",
       "         2.34469559e+02,   2.34970541e+02,   2.35471523e+02,\n",
       "         2.35972505e+02,   2.36473487e+02,   2.36974469e+02,\n",
       "         2.37475451e+02,   2.37976433e+02,   2.38477415e+02,\n",
       "         2.38978397e+02,   2.39479379e+02,   2.39980361e+02,\n",
       "         2.40481343e+02,   2.40982325e+02,   2.41483307e+02,\n",
       "         2.41984289e+02,   2.42485271e+02,   2.42986253e+02,\n",
       "         2.43487234e+02,   2.43988216e+02,   2.44489198e+02,\n",
       "         2.44990180e+02,   2.45491162e+02,   2.45992144e+02,\n",
       "         2.46493126e+02,   2.46994108e+02,   2.47495090e+02,\n",
       "         2.47996072e+02,   2.48497054e+02,   2.48998036e+02,\n",
       "         2.49499018e+02,   2.50000000e+02])"
      ]
     },
     "execution_count": 83,
     "metadata": {},
     "output_type": "execute_result"
    }
   ],
   "source": [
    "np.linspace(0.01,250,500)"
   ]
  },
  {
   "cell_type": "code",
   "execution_count": 14,
   "metadata": {},
   "outputs": [
    {
     "name": "stdout",
     "output_type": "stream",
     "text": [
      "Shit\n",
      "/mnt/Data/ephysdata/Gerbils/G5/2011-08-07_sleep1_csc4.lfp\n",
      "Shit\n",
      "Shit\n",
      "/mnt/Data/ephysdata/Gerbils/G5/2011-08-07_sleep2_csc4.lfp\n",
      "Shit\n"
     ]
    }
   ],
   "source": [
    "for path in lfpPaths:\n",
    "    try :\n",
    "        pkl.load(open(path,'rb'))\n",
    "        #print path\n",
    "        #print 'passed!!!'\n",
    "    except EOFError:\n",
    "        print 'Shit'\n",
    "        print path\n",
    "        print 'Shit'"
   ]
  },
  {
   "cell_type": "code",
   "execution_count": 15,
   "metadata": {
    "collapsed": true
   },
   "outputs": [],
   "source": [
    "import shutil\n",
    "shutil.copy2('/home/chenani/dataWork/ali/Gerbils/gerbil5/2011-08-07/')"
   ]
  },
  {
   "cell_type": "code",
   "execution_count": null,
   "metadata": {},
   "outputs": [],
   "source": []
  },
  {
   "cell_type": "code",
   "execution_count": null,
   "metadata": {
    "collapsed": true
   },
   "outputs": [],
   "source": []
  }
 ],
 "metadata": {
  "kernelspec": {
   "display_name": "Python 3",
   "language": "python",
   "name": "python3"
  },
  "language_info": {
   "codemirror_mode": {
    "name": "ipython",
    "version": 3
   },
   "file_extension": ".py",
   "mimetype": "text/x-python",
   "name": "python",
   "nbconvert_exporter": "python",
   "pygments_lexer": "ipython3",
   "version": "3.6.4"
  }
 },
 "nbformat": 4,
 "nbformat_minor": 1
}
