{
 "cells": [
  {
   "cell_type": "code",
   "execution_count": 1,
   "metadata": {},
   "outputs": [
    {
     "name": "stdout",
     "output_type": "stream",
     "text": [
      "Using matplotlib backend: Qt4Agg\n"
     ]
    }
   ],
   "source": [
    "%matplotlib \n",
    "%load_ext autoreload\n",
    "%autoreload 2"
   ]
  },
  {
   "cell_type": "code",
   "execution_count": 2,
   "metadata": {},
   "outputs": [
    {
     "data": {
      "text/html": [
       "<style>.container { width:80% !important; }</style>"
      ],
      "text/plain": [
       "<IPython.core.display.HTML object>"
      ]
     },
     "metadata": {},
     "output_type": "display_data"
    }
   ],
   "source": [
    "from IPython.core.display import display, HTML\n",
    "display(HTML(\"<style>.container { width:80% !important; }</style>\"))\n",
    "import sys\n",
    "sys.path.append('/home/chenani/ownCloud/Workspaces/Eclipse/dataAnalysis/Sleep-current/src/')"
   ]
  },
  {
   "cell_type": "code",
   "execution_count": 3,
   "metadata": {},
   "outputs": [
    {
     "name": "stderr",
     "output_type": "stream",
     "text": [
      "/home/chenani/anaconda/lib/python2.7/site-packages/matplotlib/__init__.py:1350: UserWarning:  This call to matplotlib.use() has no effect\n",
      "because the backend has already been chosen;\n",
      "matplotlib.use() must be called *before* pylab, matplotlib.pyplot,\n",
      "or matplotlib.backends is imported for the first time.\n",
      "\n",
      "  warnings.warn(_use_error_msg)\n",
      "/home/chenani/anaconda/lib/python2.7/site-packages/matplotlib/__init__.py:872: UserWarning: axes.color_cycle is deprecated and replaced with axes.prop_cycle; please use the latter.\n",
      "  warnings.warn(self.msg_depr % (key, alt_key))\n"
     ]
    }
   ],
   "source": [
    "import matplotlib\n",
    "import signale\n",
    "import numpy as np\n",
    "import matplotlib.pyplot as pl\n",
    "import spectrum as sp\n",
    "import pickle as pkl\n",
    "import scipy.signal as scsig\n",
    "import pywt\n",
    "import colormaps as mycmps\n",
    "import signale.tools as tools\n",
    "import os\n",
    "import itertools\n",
    "import pandas as pd\n",
    "import statsmodels.api as sm\n",
    "import seaborn as sns\n",
    "from sklearn.cluster import KMeans\n",
    "from matplotlib.mlab import PCA as mlabPCA\n",
    "import mtspec"
   ]
  },
  {
   "cell_type": "code",
   "execution_count": 4,
   "metadata": {},
   "outputs": [],
   "source": [
    "def MA(array,ord=2):\n",
    "    ma = np.array([array[ii-ord/2:ii+ord/2].mean() for ii in range(array.size) if ii >= ord ],dtype=float)\n",
    "    ma = np.insert(ma,0,array[0:ord/2])\n",
    "    ma = np.append(ma,array[-(ord/2)-1:-1])\n",
    "    return ma\n",
    "def zScore(array):\n",
    "    return(array - np.average(array))/ np.std(array)\n",
    "def mySpecgram(sig,minFreq = None,maxFreq = None,overlap=None,\n",
    "               windowSize= None,NFFT = None,Fs = None,method=None):\n",
    "    if not overlap:\n",
    "        overlap = 48\n",
    "    kIdx = 0\n",
    "    timeSlices = []\n",
    "    timeCenters = []\n",
    "    while kIdx < sig.size:\n",
    "        #timeEdges = np.arange(0,Nbins*windowSize,windowSize)\n",
    "        timeSlices.append([kIdx,kIdx+windowSize])\n",
    "        kIdx += windowSize - overlap\n",
    "    Pxx = []\n",
    "    p = sp.Periodogram(sig[timeSlices[0][0]:timeSlices[0][1]],NFFT=NFFT,sampling=Fs)\n",
    "    freqz = np.array(p.frequencies())\n",
    "    for item in timeSlices: \n",
    "        timeCenters.append((item[0]+np.diff(item)/2)[0])\n",
    "        data = sig[item[0]:item[1]]\n",
    "        if data.size < windowSize:\n",
    "            ddd = windowSize - data.size\n",
    "            if ddd%2 ==0:\n",
    "                data = np.lib.pad(data, (ddd/2,ddd/2), 'constant', constant_values=(0,0))\n",
    "            else:\n",
    "                data = np.lib.pad(data, (ddd/2,ddd/2+1), 'constant', constant_values=(0,0))\n",
    "        if method == 'yule':\n",
    "            p = sp.pyule(data, 550, norm='biased', NFFT=NFFT,sampling=Fs)\n",
    "        elif method =='fft':\n",
    "            p = sp.Periodogram(data,NFFT=NFFT,sampling=Fs)\n",
    "        elif method =='mpm':\n",
    "            [tapers, eigen] = sp.dpss(windowSize, 3, 6)\n",
    "            res = sp.pmtm(data, e=tapers, v=eigen, show=False)\n",
    "            res = res.flatten()\n",
    "        p();\n",
    "        if method=='mpm':\n",
    "            Pxx.append(res[:freqz.size])\n",
    "        else:\n",
    "            Pxx.append(p.psd)\n",
    "    Pxx = np.array(Pxx).T\n",
    "    if not minFreq:\n",
    "        minFreq = freqz.min()\n",
    "    if not maxFreq:\n",
    "        maxFreq = freqz.max()\n",
    "    indexstart = np.where(freqz >= minFreq)[0][0]\n",
    "    indexend   = np.where(freqz <= maxFreq)[0][-1]\n",
    "    freqz = freqz[indexstart:indexend]\n",
    "    Pxx = Pxx[indexstart:indexend]\n",
    "    timeCenters = np.array(timeCenters)\n",
    "    return timeCenters,freqz,Pxx\n"
   ]
  },
  {
   "cell_type": "code",
   "execution_count": 5,
   "metadata": {},
   "outputs": [
    {
     "name": "stdout",
     "output_type": "stream",
     "text": [
      "1\n"
     ]
    }
   ],
   "source": [
    "animalPath = '/home/chenani/dataWork/ali/MECLesion_SleepData/Marta/Rat3661/LinearTrack_03-03-15Day1/'\n",
    "ddayx = animalPath.split('/')[-2].split('_')[-1]\n",
    "print ddayx[-1]\n",
    "dataFolder = '/home/chenani/ownCloud/IpythonNotebooks/Sleep/MEC_Lesion_Project/control/Rat3661Control/dataFiles/trajectory/'"
   ]
  },
  {
   "cell_type": "code",
   "execution_count": 6,
   "metadata": {},
   "outputs": [
    {
     "data": {
      "text/plain": [
       "(['/home/chenani/dataWork/ali/MECLesion_SleepData/Marta/Rat3661/LinearTrack_03-03-15Day1/02-begin1/CSC01.lfp',\n",
       "  '/home/chenani/dataWork/ali/MECLesion_SleepData/Marta/Rat3661/LinearTrack_03-03-15Day1/02-begin1/CSC02.lfp',\n",
       "  '/home/chenani/dataWork/ali/MECLesion_SleepData/Marta/Rat3661/LinearTrack_03-03-15Day1/02-begin1/CSC03.lfp',\n",
       "  '/home/chenani/dataWork/ali/MECLesion_SleepData/Marta/Rat3661/LinearTrack_03-03-15Day1/02-begin1/CSC04.lfp',\n",
       "  '/home/chenani/dataWork/ali/MECLesion_SleepData/Marta/Rat3661/LinearTrack_03-03-15Day1/02-begin1/CSC05.lfp',\n",
       "  '/home/chenani/dataWork/ali/MECLesion_SleepData/Marta/Rat3661/LinearTrack_03-03-15Day1/02-begin1/CSC06.lfp',\n",
       "  '/home/chenani/dataWork/ali/MECLesion_SleepData/Marta/Rat3661/LinearTrack_03-03-15Day1/02-begin1/CSC07.lfp',\n",
       "  '/home/chenani/dataWork/ali/MECLesion_SleepData/Marta/Rat3661/LinearTrack_03-03-15Day1/02-begin1/CSC08.lfp',\n",
       "  '/home/chenani/dataWork/ali/MECLesion_SleepData/Marta/Rat3661/LinearTrack_03-03-15Day1/02-begin1/CSC09.lfp',\n",
       "  '/home/chenani/dataWork/ali/MECLesion_SleepData/Marta/Rat3661/LinearTrack_03-03-15Day1/02-begin1/CSC1.lfp',\n",
       "  '/home/chenani/dataWork/ali/MECLesion_SleepData/Marta/Rat3661/LinearTrack_03-03-15Day1/02-begin1/CSC10.lfp',\n",
       "  '/home/chenani/dataWork/ali/MECLesion_SleepData/Marta/Rat3661/LinearTrack_03-03-15Day1/02-begin1/CSC11.lfp',\n",
       "  '/home/chenani/dataWork/ali/MECLesion_SleepData/Marta/Rat3661/LinearTrack_03-03-15Day1/02-begin1/CSC12.lfp',\n",
       "  '/home/chenani/dataWork/ali/MECLesion_SleepData/Marta/Rat3661/LinearTrack_03-03-15Day1/02-begin1/CSC13.lfp',\n",
       "  '/home/chenani/dataWork/ali/MECLesion_SleepData/Marta/Rat3661/LinearTrack_03-03-15Day1/02-begin1/CSC14.lfp',\n",
       "  '/home/chenani/dataWork/ali/MECLesion_SleepData/Marta/Rat3661/LinearTrack_03-03-15Day1/02-begin1/CSC15.lfp',\n",
       "  '/home/chenani/dataWork/ali/MECLesion_SleepData/Marta/Rat3661/LinearTrack_03-03-15Day1/02-begin1/CSC16.lfp',\n",
       "  '/home/chenani/dataWork/ali/MECLesion_SleepData/Marta/Rat3661/LinearTrack_03-03-15Day1/02-begin1/CSC2.lfp',\n",
       "  '/home/chenani/dataWork/ali/MECLesion_SleepData/Marta/Rat3661/LinearTrack_03-03-15Day1/02-begin1/CSC3.lfp',\n",
       "  '/home/chenani/dataWork/ali/MECLesion_SleepData/Marta/Rat3661/LinearTrack_03-03-15Day1/02-begin1/CSC4.lfp',\n",
       "  '/home/chenani/dataWork/ali/MECLesion_SleepData/Marta/Rat3661/LinearTrack_03-03-15Day1/02-begin1/CSC5.lfp',\n",
       "  '/home/chenani/dataWork/ali/MECLesion_SleepData/Marta/Rat3661/LinearTrack_03-03-15Day1/02-begin1/CSC6-track.lfp',\n",
       "  '/home/chenani/dataWork/ali/MECLesion_SleepData/Marta/Rat3661/LinearTrack_03-03-15Day1/02-begin1/CSC6.lfp',\n",
       "  '/home/chenani/dataWork/ali/MECLesion_SleepData/Marta/Rat3661/LinearTrack_03-03-15Day1/02-begin1/CSC7.lfp',\n",
       "  '/home/chenani/dataWork/ali/MECLesion_SleepData/Marta/Rat3661/LinearTrack_03-03-15Day1/02-begin1/CSC8.lfp',\n",
       "  '/home/chenani/dataWork/ali/MECLesion_SleepData/Marta/Rat3661/LinearTrack_03-03-15Day1/02-begin1/CSC9.lfp'],\n",
       " ['/home/chenani/ownCloud/IpythonNotebooks/Sleep/MEC_Lesion_Project/control/Rat3661Control/dataFiles/trajectory/linearTrackD1.db'])"
      ]
     },
     "execution_count": 6,
     "metadata": {},
     "output_type": "execute_result"
    }
   ],
   "source": [
    "lfpPaths = []\n",
    "for lfp in tools.locate('*CSC*lfp',animalPath):#animalPath):\n",
    "     if lfp[0].find('02')>0:\n",
    "            lfpPaths.append(os.path.join(lfp[0],lfp[1]))\n",
    "lfpPaths = sorted(lfpPaths)\n",
    "ImmoDBpaths = []\n",
    "for db in tools.locate('lin*.db',dataFolder):\n",
    "    if db[1].find(ddayx[-1])>0:\n",
    "        ImmoDBpaths.append(os.path.join(db[0],db[1]))\n",
    "lfpPaths = sorted(lfpPaths)\n",
    "ImmoDBpaths = sorted(ImmoDBpaths)\n",
    "traj = pkl.load(open(animalPath + 'parrentData/linearTrack_Trajectory.traj','rb'))\n",
    "lfpPaths,ImmoDBpaths\n"
   ]
  },
  {
   "cell_type": "code",
   "execution_count": 7,
   "metadata": {
    "scrolled": true
   },
   "outputs": [
    {
     "name": "stdout",
     "output_type": "stream",
     "text": [
      "LOADING /home/chenani/dataWork/ali/MECLesion_SleepData/Marta/Rat3661/LinearTrack_03-03-15Day1/02-begin1/CSC02.lfp\n"
     ]
    },
    {
     "name": "stderr",
     "output_type": "stream",
     "text": [
      "/home/chenani/anaconda/lib/python2.7/site-packages/spectrum-0.6.1-py2.7-linux-x86_64.egg/spectrum/psd.py:451: FutureWarning: comparison to `None` will result in an elementwise object comparison in the future.\n",
      "  if self.__psd == None:\n"
     ]
    }
   ],
   "source": [
    "SleepEpochsDB = pd.DataFrame([],columns=['t0','t1','epoch','session','date','animal'])\n",
    "for jtem in lfpPaths[1:2]:\n",
    "    print 'LOADING %s' %jtem\n",
    "    ##Loading...\n",
    "    expDate = animalPath.split('/')[-2].split('_')[-1]\n",
    "    session = jtem.split('/')[-2].split('-')[-1]\n",
    "    session = session[:-1]+'0'+session[-1]\n",
    "    animal = [prt for prt in jtem.split('/') if not prt.find('Rat')][0]\n",
    "    #SleepTimeIndex = pd.read_pickle(item)\n",
    "    lfp = pkl.load(open(jtem,'rb'))\n",
    "    t,frq,Pxx =  mySpecgram(lfp.signal_white[:],minFreq=0.1,maxFreq=20,windowSize=1028,method='fft',Fs=2000,overlap=0,NFFT=4096)\n",
    "    Pxx = np.clip(Pxx,0,Pxx.mean()+3*Pxx.std())\n",
    "    pxxFlat = Pxx# np.array([Pxx[:,ii]*frq for ii in range(Pxx.shape[1])]).T\n",
    "    for jjj in range(pxxFlat.shape[0]):\n",
    "        pxxFlat[jjj,:] = MA(pxxFlat[jjj,:],2)\n",
    "    \n",
    "    ##Grouping into different freqency bands, delta,theta,gamma\n",
    "    Dmean = frq[frq<3.5].mean()\n",
    "    Tmean = frq[np.logical_and(frq>4,frq<8)].mean()\n",
    "    Gmean = frq[frq>10].mean()\n",
    "    Dbounds = np.where(frq<3.5)[0][[0,-1]]\n",
    "    Tbounds = np.where(np.logical_and(frq>4,frq<8))[0][[0,-1]]\n",
    "    Gbounds = np.where(frq>10)[0][[0,-1]]\n",
    "    DavgPwr = Pxx[Dbounds[0]:Dbounds[-1]+1,:].mean(axis=0)\n",
    "    TavgPwr = Pxx[Tbounds[0]:Tbounds[-1]+1,:].mean(axis=0)\n",
    "    GavgPwr = Pxx[Gbounds[0]:Gbounds[-1]+1,:].mean(axis=0)\n",
    "    #DpwrNormal = DavgPwr*Dmean\n",
    "    #TpwrNormal = TavgPwr*Tmean\n",
    "    #GpwrNormal = GavgPwr*Gmean\n",
    "    DpwrNormal = pxxFlat[Dbounds[0]:Dbounds[-1]+1,:].mean(axis=0)\n",
    "    TpwrNormal = pxxFlat[Tbounds[0]:Tbounds[-1]+1,:].mean(axis=0)\n",
    "    GpwrNormal = pxxFlat[Gbounds[0]:Gbounds[-1]+1,:].mean(axis=0)\n",
    "    ###Clustering states using k-means\n",
    "    pwrData = np.array([DpwrNormal,TpwrNormal,GpwrNormal]).T\n",
    "    \n",
    "    f,ax=pl.subplots(1,1)\n",
    "    ax.pcolormesh(t/2,frq,np.log10(pxxFlat),cmap='magma')\n",
    "    #pl.plot(t/2,zScore(TpwrNormal))\n",
    "    #ax.plot(traj.times*1e3- traj.times[0]*1e3,1+zScore(traj.places[:,0])+3,lw=1)\n",
    "    #ax.set_xlim(0,3.5e5)"
   ]
  },
  {
   "cell_type": "code",
   "execution_count": 8,
   "metadata": {},
   "outputs": [
    {
     "data": {
      "text/plain": [
       "[<matplotlib.lines.Line2D at 0x7f11ca395190>]"
      ]
     },
     "execution_count": 8,
     "metadata": {},
     "output_type": "execute_result"
    }
   ],
   "source": [
    "T,S = traj.getSpeed()\n",
    "S = np.clip(S,S.mean(),S.mean()+3*S.std())\n",
    "pl.plot(t/2,zScore(DpwrNormal))\n",
    "pl.plot(t/2,zScore(TpwrNormal))\n",
    "pl.plot(t/2,zScore(GpwrNormal))\n",
    "pl.plot((T- lfp.timeAxis[0]/1e3)*1e3,MA(S,6),lw=1)"
   ]
  },
  {
   "cell_type": "code",
   "execution_count": 210,
   "metadata": {},
   "outputs": [
    {
     "data": {
      "text/plain": [
       "<matplotlib.lines.Line2D at 0x7fb7dbc58810>"
      ]
     },
     "execution_count": 210,
     "metadata": {},
     "output_type": "execute_result"
    }
   ],
   "source": [
    "pl.plot(t/2,zScore(DpwrNormal- TpwrNormal))\n",
    "pl.plot((T- lfp.timeAxis[0]/1e3)*1e3,3*MA(S,10),lw=1)\n",
    "pl.axhline(0)"
   ]
  },
  {
   "cell_type": "code",
   "execution_count": 8,
   "metadata": {},
   "outputs": [
    {
     "ename": "NameError",
     "evalue": "name 'p' is not defined",
     "output_type": "error",
     "traceback": [
      "\u001b[1;31m---------------------------------------------------------------------------\u001b[0m",
      "\u001b[1;31mNameError\u001b[0m                                 Traceback (most recent call last)",
      "\u001b[1;32m<ipython-input-8-4d6d5550a67f>\u001b[0m in \u001b[0;36m<module>\u001b[1;34m()\u001b[0m\n\u001b[0;32m      5\u001b[0m \u001b[0mres\u001b[0m \u001b[1;33m=\u001b[0m \u001b[0msp\u001b[0m\u001b[1;33m.\u001b[0m\u001b[0mpmtm\u001b[0m\u001b[1;33m(\u001b[0m\u001b[0mdata\u001b[0m\u001b[1;33m,\u001b[0m \u001b[0me\u001b[0m\u001b[1;33m=\u001b[0m\u001b[0mtapers\u001b[0m\u001b[1;33m,\u001b[0m \u001b[0mv\u001b[0m\u001b[1;33m=\u001b[0m\u001b[0meigen\u001b[0m\u001b[1;33m,\u001b[0m\u001b[0mshow\u001b[0m\u001b[1;33m=\u001b[0m\u001b[0mFalse\u001b[0m\u001b[1;33m)\u001b[0m\u001b[1;33m\u001b[0m\u001b[0m\n\u001b[0;32m      6\u001b[0m \u001b[1;31m# You do not need to compute the DPSS before end\u001b[0m\u001b[1;33m\u001b[0m\u001b[1;33m\u001b[0m\u001b[0m\n\u001b[1;32m----> 7\u001b[1;33m \u001b[0mpl\u001b[0m\u001b[1;33m.\u001b[0m\u001b[0mplot\u001b[0m\u001b[1;33m(\u001b[0m\u001b[0mp\u001b[0m\u001b[1;33m.\u001b[0m\u001b[0mfrequencies\u001b[0m\u001b[1;33m(\u001b[0m\u001b[1;33m)\u001b[0m\u001b[1;33m,\u001b[0m\u001b[0mres\u001b[0m\u001b[1;33m[\u001b[0m\u001b[1;33m:\u001b[0m\u001b[0mlen\u001b[0m\u001b[1;33m(\u001b[0m\u001b[0mp\u001b[0m\u001b[1;33m.\u001b[0m\u001b[0mfrequencies\u001b[0m\u001b[1;33m(\u001b[0m\u001b[1;33m)\u001b[0m\u001b[1;33m)\u001b[0m\u001b[1;33m]\u001b[0m\u001b[1;33m)\u001b[0m\u001b[1;33m\u001b[0m\u001b[0m\n\u001b[0m\u001b[0;32m      8\u001b[0m \u001b[1;31m#pl.plot(p.frequencies(),p.psd)\u001b[0m\u001b[1;33m\u001b[0m\u001b[1;33m\u001b[0m\u001b[0m\n\u001b[0;32m      9\u001b[0m \u001b[0mpl\u001b[0m\u001b[1;33m.\u001b[0m\u001b[0myscale\u001b[0m\u001b[1;33m(\u001b[0m\u001b[1;34m'log'\u001b[0m\u001b[1;33m)\u001b[0m\u001b[1;33m\u001b[0m\u001b[0m\n",
      "\u001b[1;31mNameError\u001b[0m: name 'p' is not defined"
     ]
    }
   ],
   "source": [
    "#data = sp.data_cosine(N=512, A=0.1, sampling=2000, freq=200)\n",
    "data = lfp.signal_white[12000:12512]\n",
    "# If you already have the DPSS windows\n",
    "[tapers, eigen] = sp.dpss(512, 2, 4)\n",
    "res = sp.pmtm(data, e=tapers, v=eigen,show=False)\n",
    "# You do not need to compute the DPSS before end\n",
    "pl.plot(p.frequencies(),res[:len(p.frequencies())])\n",
    "#pl.plot(p.frequencies(),p.psd)\n",
    "pl.yscale('log')"
   ]
  },
  {
   "cell_type": "code",
   "execution_count": 139,
   "metadata": {},
   "outputs": [
    {
     "data": {
      "text/plain": [
       "[<matplotlib.lines.Line2D at 0x7fb7dbdc2b90>]"
      ]
     },
     "execution_count": 139,
     "metadata": {},
     "output_type": "execute_result"
    }
   ],
   "source": [
    "p = sp.Periodogram(data,sampling=2000)\n",
    "p();\n",
    "pl.plot(p.frequencies(),p.psd)"
   ]
  },
  {
   "cell_type": "code",
   "execution_count": null,
   "metadata": {
    "collapsed": true
   },
   "outputs": [],
   "source": []
  }
 ],
 "metadata": {
  "kernelspec": {
   "display_name": "Python 2",
   "language": "python",
   "name": "python2"
  },
  "language_info": {
   "codemirror_mode": {
    "name": "ipython",
    "version": 2
   },
   "file_extension": ".py",
   "mimetype": "text/x-python",
   "name": "python",
   "nbconvert_exporter": "python",
   "pygments_lexer": "ipython2",
   "version": "2.7.14"
  }
 },
 "nbformat": 4,
 "nbformat_minor": 1
}
