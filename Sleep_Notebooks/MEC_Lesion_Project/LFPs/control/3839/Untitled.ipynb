{
 "cells": [
  {
   "cell_type": "code",
   "execution_count": 127,
   "metadata": {
    "collapsed": false
   },
   "outputs": [
    {
     "name": "stdout",
     "output_type": "stream",
     "text": [
      "Using matplotlib backend: Qt4Agg\n",
      "The autoreload extension is already loaded. To reload it, use:\n",
      "  %reload_ext autoreload\n"
     ]
    }
   ],
   "source": [
    "%matplotlib \n",
    "%load_ext autoreload\n",
    "%autoreload 2"
   ]
  },
  {
   "cell_type": "code",
   "execution_count": 128,
   "metadata": {
    "collapsed": true
   },
   "outputs": [],
   "source": [
    "import sys\n",
    "sys.path.append('/mnt/Data/Workspaces/Eclipse/dataAnalysis/Sleep-current/src/')"
   ]
  },
  {
   "cell_type": "code",
   "execution_count": 129,
   "metadata": {
    "collapsed": false
   },
   "outputs": [],
   "source": [
    "import pylab\n",
    "import matplotlib as mpl\n",
    "import matplotlib.pyplot as pl\n",
    "import numpy as np\n",
    "import pandas as pd\n",
    "import scipy.signal as scsig\n",
    "import spectrum as sp\n",
    "import signale\n",
    "import cPickle as pkl\n",
    "import time\n",
    "import statsmodels.api as sm\n",
    "import colormaps as cm\n",
    "import seaborn as sns\n",
    "import signale.tools as tools\n",
    "import os\n",
    "import trajectory\n",
    "from sklearn.cluster import KMeans\n",
    "from matplotlib.mlab import specgram\n",
    "import matplotlib.mlab as mlab\n",
    "from sklearn import linear_model, datasets"
   ]
  },
  {
   "cell_type": "code",
   "execution_count": 130,
   "metadata": {
    "collapsed": true
   },
   "outputs": [],
   "source": [
    "def whitenARMA(sig,AR=2,MA=0):\n",
    "        arma = sm.tsa.ARMA(sig, (AR,MA)).fit(disp=0)\n",
    "        print 'ARMA parameters calculated for order(%s,%s)' %(AR,MA)\n",
    "        return arma.resid\n",
    "def MA(array,ord=2):\n",
    "    ma = np.array([array[ii-ord/2:ii+ord/2].mean() for ii in range(array.size) if ii >= ord ],dtype=float)\n",
    "    ma = np.insert(ma,0,array[0:ord/2])\n",
    "    ma = np.append(ma,array[-(ord/2)-1:-1])\n",
    "    return ma\n",
    "def zScore(array):\n",
    "    return(array - np.average(array))/ np.std(array)\n",
    "def nvt_loader(filename):\n",
    "    \"\"\" \n",
    "    Memory map the Neuralynx .nvt format\n",
    "    Fields\n",
    "    -------\n",
    "    swstx\n",
    "    swid\n",
    "    sw_data_size\n",
    "    qTimeStamps       Cheetah timestamp for this record. This value is in microseconds.\n",
    "    dwpoints          Points with the color bitfield values for this record.This is a 400\n",
    "                      element array.  See Video Tracker in reference. \n",
    "    sncrc\n",
    "    dnextracted_x     Extracted X location of the target being tracked. \n",
    "    dnextracted_y     Extracted Y location of the target being tracked.\n",
    "    dnextracted_angle The calculated head angle in degrees clockwise from the positive Y\n",
    "                      axis. Zero will be assigned if angle tracking is disabled.\n",
    "    dnTargets         Colored targets using the samebitfield format used by the dwPoints array.\n",
    "                      Instead of transitions, the bitfield indicates the colors that make up \n",
    "                      each particular target and the center point of that target.  This is a 50\n",
    "                      element array sorted by size from largest (index 0) to smallest(index 49).\n",
    "                      A target value of 0 means that no target is present in thatindex location.\n",
    "                      See Video Tracker Bitfield Information in reference. \n",
    "    \n",
    "    Reference:\n",
    "    ----------\n",
    "        http://neuralynx.com/software/NeuralynxDataFileFormats.pdf\n",
    "    \"\"\" \n",
    "    nev_dtype = np.dtype([\n",
    "        ('swstx'              , '<i2'),\n",
    "        ('swid'               , '<i2'),\n",
    "        ('sw_data_size'       , '<i2'),\n",
    "        ('qTimeStamps'        , '<u8'),\n",
    "        ('dwPoints'           , '<u4',(400,)),\n",
    "        ('sncrc'              , '<i2'),\n",
    "        ('dnextracted_x'      , '<i4'),\n",
    "        ('dnextracted_y'      , '<i4'),\n",
    "        ('dnextracted_angle'  , '<i4'),\n",
    "        ('dnTargets'          , '<i4',(50,)),\n",
    "    ])\n",
    "    return np.memmap(filename, dtype=nev_dtype, mode='readwrite',\n",
    "       offset=(16 * 2**10))\n",
    "\n",
    "def mySpecgram(sig,minFreq = None,maxFreq = None,overlap=None,\n",
    "               windowSize= None,NFFT = None,Fs = None,method=None):\n",
    "    if not overlap:\n",
    "        overlap = 48\n",
    "    kIdx = 0\n",
    "    timeSlices = []\n",
    "    timeCenters = []\n",
    "    while kIdx < sig.size:\n",
    "        #timeEdges = np.arange(0,Nbins*windowSize,windowSize)\n",
    "        timeSlices.append([kIdx,kIdx+windowSize])\n",
    "        kIdx += windowSize - overlap\n",
    "    Pxx = []\n",
    "    #print timeSlices\n",
    "    for item in timeSlices:\n",
    "        timeCenters.append((item[0]+np.diff(item)/2)[0])\n",
    "        data = sig[item[0]:item[1]]\n",
    "        if data.size < windowSize:\n",
    "            ddd = windowSize - data.size\n",
    "            if ddd%2 ==0:\n",
    "                data = np.lib.pad(data, (ddd/2,ddd/2), 'constant', constant_values=(0,0))\n",
    "            else:\n",
    "                data = np.lib.pad(data, (ddd/2,ddd/2+1), 'constant', constant_values=(0,0))\n",
    "        if method == 'yule':\n",
    "            p = sp.pyule(data, 550, norm='biased', NFFT=NFFT,sampling=Fs)\n",
    "        elif method =='fft':\n",
    "            p = sp.Periodogram(data,NFFT=NFFT,sampling=Fs)\n",
    "        p();\n",
    "        freqz = np.array(p.frequencies())\n",
    "        Pxx.append(p.psd)\n",
    "    Pxx = np.array(Pxx).T\n",
    "    if not minFreq:\n",
    "        minFreq = freqz.min()\n",
    "    if not maxFreq:\n",
    "        maxFreq = freqz.max()\n",
    "    indexstart = np.where(freqz >= minFreq)[0][0]\n",
    "    indexend   = np.where(freqz <= maxFreq)[0][-1]\n",
    "    freqz = freqz[indexstart:indexend]\n",
    "    Pxx = Pxx[indexstart:indexend]\n",
    "    timeCenters = np.array(timeCenters)\n",
    "    return timeCenters,freqz,Pxx\n"
   ]
  },
  {
   "cell_type": "code",
   "execution_count": 5,
   "metadata": {
    "collapsed": true
   },
   "outputs": [],
   "source": [
    "animalPath = '/home/chenani/dataWork/ali/MECLesion_SleepData/Marta/Rat3839/LinearTrack_12-22-15_Day2/01-sleep1/'\n",
    "nvtFile = animalPath+'VT1.nvt'\n",
    "localPath = '/mnt/Data/ephysdata/Rats/'\n",
    "lfpPaths = []\n",
    "for lfp in tools.locate('*-p*.lfp',animalPath):#animalPath):\n",
    "    lfpPaths.append(os.path.join(lfp[0],lfp[1]))\n",
    "lfpPaths = sorted(lfpPaths)"
   ]
  },
  {
   "cell_type": "code",
   "execution_count": 6,
   "metadata": {
    "collapsed": false
   },
   "outputs": [],
   "source": [
    "lfp = pkl.load(open(lfpPaths[0],'rb'))"
   ]
  },
  {
   "cell_type": "code",
   "execution_count": 7,
   "metadata": {
    "collapsed": true
   },
   "outputs": [],
   "source": [
    "SleepPeriodsDF = pkl.load(open('sleep1Periods.pd','rb'))"
   ]
  },
  {
   "cell_type": "code",
   "execution_count": 8,
   "metadata": {
    "collapsed": false
   },
   "outputs": [],
   "source": [
    "swsIdx = SleepPeriodsDF[SleepPeriodsDF.epoch =='sws'].index\n",
    "remIdx = SleepPeriodsDF[SleepPeriodsDF.epoch =='rem'].index"
   ]
  },
  {
   "cell_type": "code",
   "execution_count": 9,
   "metadata": {
    "collapsed": false
   },
   "outputs": [
    {
     "name": "stderr",
     "output_type": "stream",
     "text": [
      "/home/chenani/anaconda/lib/python2.7/site-packages/spectrum-0.6.1-py2.7-linux-x86_64.egg/spectrum/psd.py:451: FutureWarning: comparison to `None` will result in an elementwise object comparison in the future.\n",
      "  if self.__psd == None:\n"
     ]
    }
   ],
   "source": [
    "REMpsdStack = []\n",
    "SWSpsdStack = []\n",
    "REMpsdStackWhite = []\n",
    "SWSpsdStackWhite = []\n",
    "for ii in swsIdx:\n",
    "    sampIdx = np.where(np.logical_and(lfp.timeAxis>SleepPeriodsDF.t0[ii],\n",
    "                                  lfp.timeAxis<SleepPeriodsDF.t1[ii]))[0]\n",
    "    flag = True\n",
    "    while flag:\n",
    "        sampSig = lfp.signal[sampIdx]\n",
    "        p = sp.Periodogram(sampSig,sampling=2000,NFFT=2**15)\n",
    "        try:\n",
    "            p();\n",
    "            flag = False\n",
    "        except AssertionError:\n",
    "            sampIdx = np.insert(sampIdx,-1,sampIdx[-1]+1)\n",
    "    p.psd = MA(p.psd,10)\n",
    "    freqz = np.power(np.array(p.frequencies()),2.5)\n",
    "    SWSpsdStackWhite.append(np.multiply(p.psd,freqz))\n",
    "    SWSpsdStack.append(p.psd)\n",
    "for ii in remIdx:\n",
    "    sampIdx = np.where(np.logical_and(lfp.timeAxis>SleepPeriodsDF.t0[ii],\n",
    "                                  lfp.timeAxis<SleepPeriodsDF.t1[ii]))[0]\n",
    "    flag = True\n",
    "    while flag:\n",
    "        sampSig = lfp.signal[sampIdx]\n",
    "        p = sp.Periodogram(sampSig,sampling=2000,NFFT=2**15)\n",
    "        try:\n",
    "            p();\n",
    "            flag = False\n",
    "        except AssertionError:\n",
    "            sampIdx = np.insert(sampIdx,-1,sampIdx[-1]+1)\n",
    "    p.psd = MA(p.psd,10)\n",
    "    freqz = np.power(np.array(p.frequencies()),2.5)\n",
    "    REMpsdStackWhite.append(np.multiply(p.psd,freqz))\n",
    "    REMpsdStack.append(p.psd)"
   ]
  },
  {
   "cell_type": "code",
   "execution_count": 10,
   "metadata": {
    "collapsed": false
   },
   "outputs": [
    {
     "name": "stderr",
     "output_type": "stream",
     "text": [
      "/home/chenani/anaconda/lib/python2.7/site-packages/matplotlib/__init__.py:892: UserWarning: axes.color_cycle is deprecated and replaced with axes.prop_cycle; please use the latter.\n",
      "  warnings.warn(self.msg_depr % (key, alt_key))\n"
     ]
    },
    {
     "data": {
      "text/plain": [
       "<matplotlib.axes._subplots.AxesSubplot at 0x7f23147a3a50>"
      ]
     },
     "execution_count": 10,
     "metadata": {},
     "output_type": "execute_result"
    }
   ],
   "source": [
    "sns.tsplot(SWSpsdStack[:],time=p.frequencies())\n",
    "sns.tsplot(SWSpsdStackWhite[:],time=p.frequencies(),c='c')\n",
    "sns.tsplot(REMpsdStack[:],time=p.frequencies(),c='r')\n",
    "sns.tsplot(REMpsdStackWhite[:],time=p.frequencies(),c='m')"
   ]
  },
  {
   "cell_type": "code",
   "execution_count": 11,
   "metadata": {
    "collapsed": false
   },
   "outputs": [
    {
     "data": {
      "text/plain": [
       "(1, 1000.0)"
      ]
     },
     "execution_count": 11,
     "metadata": {},
     "output_type": "execute_result"
    }
   ],
   "source": [
    "pl.yscale('log')\n",
    "pl.xscale('log')\n",
    "pl.xlim(1,1e3)"
   ]
  },
  {
   "cell_type": "code",
   "execution_count": 59,
   "metadata": {
    "collapsed": false
   },
   "outputs": [
    {
     "name": "stderr",
     "output_type": "stream",
     "text": [
      "/home/chenani/anaconda/lib/python2.7/site-packages/spectrum-0.6.1-py2.7-linux-x86_64.egg/spectrum/psd.py:639: FutureWarning: comparison to `None` will result in an elementwise object comparison in the future.\n",
      "  if self.__psd == None:\n"
     ]
    }
   ],
   "source": [
    "p = sp.Periodogram(lfp.signal,NFFT=2**22,sampling=2e3)\n",
    "p();\n",
    "p.plot()"
   ]
  },
  {
   "cell_type": "code",
   "execution_count": 61,
   "metadata": {
    "collapsed": false
   },
   "outputs": [],
   "source": [
    "freqz = np.array(p.frequencies())"
   ]
  },
  {
   "cell_type": "code",
   "execution_count": 124,
   "metadata": {
    "collapsed": false
   },
   "outputs": [
    {
     "data": {
      "text/plain": [
       "(0.001, 10000000000.0)"
      ]
     },
     "execution_count": 124,
     "metadata": {},
     "output_type": "execute_result"
    }
   ],
   "source": [
    "pl.scatter(freqz,MA(p.psd,10))\n",
    "pl.xscale('log')\n",
    "pl.yscale('log')\n",
    "pl.xlim(1,1000)\n",
    "pl.ylim(1e-3,1e10)"
   ]
  },
  {
   "cell_type": "code",
   "execution_count": 63,
   "metadata": {
    "collapsed": false
   },
   "outputs": [
    {
     "ename": "TypeError",
     "evalue": "get_converted_psd() takes exactly 2 arguments (1 given)",
     "output_type": "error",
     "traceback": [
      "\u001b[1;31m---------------------------------------------------------------------------\u001b[0m",
      "\u001b[1;31mTypeError\u001b[0m                                 Traceback (most recent call last)",
      "\u001b[1;32m<ipython-input-63-c31b6198aedd>\u001b[0m in \u001b[0;36m<module>\u001b[1;34m()\u001b[0m\n\u001b[1;32m----> 1\u001b[1;33m \u001b[0mp\u001b[0m\u001b[1;33m.\u001b[0m\u001b[0mget_converted_psd\u001b[0m\u001b[1;33m(\u001b[0m\u001b[1;33m)\u001b[0m\u001b[1;33m\u001b[0m\u001b[0m\n\u001b[0m",
      "\u001b[1;31mTypeError\u001b[0m: get_converted_psd() takes exactly 2 arguments (1 given)"
     ]
    }
   ],
   "source": [
    "p.get_"
   ]
  },
  {
   "cell_type": "code",
   "execution_count": 70,
   "metadata": {
    "collapsed": false
   },
   "outputs": [],
   "source": [
    "s = sp.Periodogram(lfp.signal[:1000])\n",
    "s();"
   ]
  },
  {
   "cell_type": "code",
   "execution_count": 78,
   "metadata": {
    "collapsed": false
   },
   "outputs": [],
   "source": [
    "s.periodogram()"
   ]
  },
  {
   "cell_type": "code",
   "execution_count": 85,
   "metadata": {
    "collapsed": false
   },
   "outputs": [
    {
     "data": {
      "text/plain": [
       "False"
      ]
     },
     "execution_count": 85,
     "metadata": {},
     "output_type": "execute_result"
    }
   ],
   "source": [
    "s."
   ]
  },
  {
   "cell_type": "code",
   "execution_count": 34,
   "metadata": {
    "collapsed": false
   },
   "outputs": [],
   "source": [
    "lfp.estimateNoisefreqRelation(detectOutliers=False)"
   ]
  },
  {
   "cell_type": "code",
   "execution_count": 13,
   "metadata": {
    "collapsed": false
   },
   "outputs": [
    {
     "name": "stdout",
     "output_type": "stream",
     "text": [
      "23\n"
     ]
    },
    {
     "name": "stderr",
     "output_type": "stream",
     "text": [
      "/home/chenani/anaconda/lib/python2.7/site-packages/spectrum-0.6.1-py2.7-linux-x86_64.egg/spectrum/psd.py:639: FutureWarning: comparison to `None` will result in an elementwise object comparison in the future.\n",
      "  if self.__psd == None:\n"
     ]
    }
   ],
   "source": [
    "lfp.fft(display=True)"
   ]
  },
  {
   "cell_type": "code",
   "execution_count": 41,
   "metadata": {
    "collapsed": false
   },
   "outputs": [],
   "source": [
    "lfp.estimateNoisefreqRelation(detectOutliers=True,noOfIterations = 50)"
   ]
  },
  {
   "cell_type": "code",
   "execution_count": 42,
   "metadata": {
    "collapsed": false
   },
   "outputs": [
    {
     "data": {
      "text/plain": [
       "-2.440137742434362"
      ]
     },
     "execution_count": 42,
     "metadata": {},
     "output_type": "execute_result"
    }
   ],
   "source": [
    "lfp.noiseFreqExponent"
   ]
  },
  {
   "cell_type": "code",
   "execution_count": 43,
   "metadata": {
    "collapsed": false
   },
   "outputs": [],
   "source": [
    "lfp.flattenPowerspectrum()"
   ]
  },
  {
   "cell_type": "code",
   "execution_count": 56,
   "metadata": {
    "collapsed": false
   },
   "outputs": [
    {
     "data": {
      "text/plain": [
       "[<matplotlib.lines.Line2D at 0x7f86105a9910>]"
      ]
     },
     "execution_count": 56,
     "metadata": {},
     "output_type": "execute_result"
    }
   ],
   "source": [
    "pl.plot(lfp.freq[1:],MA(lfp.spPower,15))\n",
    "pl.plot(lfp.freq[1:],MA(lfp.spPower_whitened,15)/30.0)"
   ]
  },
  {
   "cell_type": "code",
   "execution_count": 99,
   "metadata": {
    "collapsed": false
   },
   "outputs": [
    {
     "name": "stdout",
     "output_type": "stream",
     "text": [
      "23\n"
     ]
    }
   ],
   "source": [
    "lfp.fft()"
   ]
  },
  {
   "cell_type": "code",
   "execution_count": 123,
   "metadata": {
    "collapsed": false
   },
   "outputs": [
    {
     "name": "stdout",
     "output_type": "stream",
     "text": [
      "2048\n",
      "1025\n"
     ]
    },
    {
     "data": {
      "text/plain": [
       "[<matplotlib.lines.Line2D at 0x7f860caab250>]"
      ]
     },
     "execution_count": 123,
     "metadata": {},
     "output_type": "execute_result"
    }
   ],
   "source": [
    "sampSig = lfp.signal[:2048]\n",
    "print sampSig.size\n",
    "ftrans = np.fft.rfft(sampSig,n=2048)\n",
    "print ftrans.size\n",
    "fback = np.fft.irfft(ftrans)\n",
    "pl.plot(sampSig - fback)"
   ]
  },
  {
   "cell_type": "code",
   "execution_count": 137,
   "metadata": {
    "collapsed": false
   },
   "outputs": [
    {
     "ename": "AttributeError",
     "evalue": "'NeuralynxCSC' object has no attribute 'whitenLinearRegression'",
     "output_type": "error",
     "traceback": [
      "\u001b[1;31m---------------------------------------------------------------------------\u001b[0m",
      "\u001b[1;31mAttributeError\u001b[0m                            Traceback (most recent call last)",
      "\u001b[1;32m<ipython-input-137-317d7e0f54ca>\u001b[0m in \u001b[0;36m<module>\u001b[1;34m()\u001b[0m\n\u001b[1;32m----> 1\u001b[1;33m \u001b[0mlfp\u001b[0m\u001b[1;33m.\u001b[0m\u001b[0mwhitenLinearRegression\u001b[0m\u001b[1;33m(\u001b[0m\u001b[1;33m)\u001b[0m\u001b[1;33m\u001b[0m\u001b[0m\n\u001b[0m",
      "\u001b[1;31mAttributeError\u001b[0m: 'NeuralynxCSC' object has no attribute 'whitenLinearRegression'"
     ]
    }
   ],
   "source": [
    "lfp.whitenLinearRegression()"
   ]
  },
  {
   "cell_type": "code",
   "execution_count": 138,
   "metadata": {
    "collapsed": false
   },
   "outputs": [],
   "source": [
    "lfp.filter(0,10)"
   ]
  },
  {
   "cell_type": "code",
   "execution_count": 139,
   "metadata": {
    "collapsed": false
   },
   "outputs": [
    {
     "data": {
      "text/plain": [
       "<unbound method NeuralynxCSC.whitenLinearRegression>"
      ]
     },
     "execution_count": 139,
     "metadata": {},
     "output_type": "execute_result"
    }
   ],
   "source": [
    "signale.cscs.NeuralynxCSC.whitenLinearRegression"
   ]
  },
  {
   "cell_type": "code",
   "execution_count": 121,
   "metadata": {
    "collapsed": false
   },
   "outputs": [
    {
     "data": {
      "text/plain": [
       "7127552"
      ]
     },
     "execution_count": 121,
     "metadata": {},
     "output_type": "execute_result"
    }
   ],
   "source": [
    "np.fft.irfft(lfp.sp).size"
   ]
  },
  {
   "cell_type": "code",
   "execution_count": null,
   "metadata": {
    "collapsed": true
   },
   "outputs": [],
   "source": []
  }
 ],
 "metadata": {
  "kernelspec": {
   "display_name": "Python 2",
   "language": "python",
   "name": "python2"
  },
  "language_info": {
   "codemirror_mode": {
    "name": "ipython",
    "version": 2
   },
   "file_extension": ".py",
   "mimetype": "text/x-python",
   "name": "python",
   "nbconvert_exporter": "python",
   "pygments_lexer": "ipython2",
   "version": "2.7.12"
  }
 },
 "nbformat": 4,
 "nbformat_minor": 0
}
