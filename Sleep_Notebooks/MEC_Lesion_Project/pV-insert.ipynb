{
 "cells": [
  {
   "cell_type": "code",
   "execution_count": 1,
   "metadata": {
    "collapsed": false
   },
   "outputs": [],
   "source": [
    "%matplotlib inline\n",
    "%load_ext autoreload\n",
    "%autoreload 2"
   ]
  },
  {
   "cell_type": "code",
   "execution_count": 2,
   "metadata": {
    "collapsed": false
   },
   "outputs": [
    {
     "data": {
      "text/html": [
       "<style>.container { width:90% !important; }</style>"
      ],
      "text/plain": [
       "<IPython.core.display.HTML object>"
      ]
     },
     "metadata": {},
     "output_type": "display_data"
    }
   ],
   "source": [
    "from IPython.core.display import display, HTML\n",
    "display(HTML(\"<style>.container { width:90% !important; }</style>\"))\n",
    "import sys\n",
    "sys.path.append('/home/chenani/ownCloud/Workspaces/Eclipse/dataAnalysis/Sleep-current/src/')\n",
    "from scipy.io import savemat,loadmat"
   ]
  },
  {
   "cell_type": "code",
   "execution_count": 3,
   "metadata": {
    "collapsed": false
   },
   "outputs": [
    {
     "name": "stderr",
     "output_type": "stream",
     "text": [
      "/home/chenani/anaconda/lib/python2.7/site-packages/matplotlib/__init__.py:1350: UserWarning:  This call to matplotlib.use() has no effect\n",
      "because the backend has already been chosen;\n",
      "matplotlib.use() must be called *before* pylab, matplotlib.pyplot,\n",
      "or matplotlib.backends is imported for the first time.\n",
      "\n",
      "  warnings.warn(_use_error_msg)\n",
      "/home/chenani/anaconda/lib/python2.7/site-packages/IPython/html.py:14: ShimWarning: The `IPython.html` package has been deprecated. You should import from `notebook` instead. `IPython.html.widgets` has moved to `ipywidgets`.\n",
      "  \"`IPython.html.widgets` has moved to `ipywidgets`.\", ShimWarning)\n"
     ]
    }
   ],
   "source": [
    "from signale.tools import locate\n",
    "import numpy as np\n",
    "import matplotlib.pyplot as pl\n",
    "import cPickle as pkl\n",
    "import scipy.signal as scsig\n",
    "import signale.tools as tools\n",
    "import os\n",
    "import itertools\n",
    "import pandas as pd\n",
    "import seaborn as sns\n",
    "from os import path"
   ]
  },
  {
   "cell_type": "markdown",
   "metadata": {
    "collapsed": false
   },
   "source": [
    "# C mat file"
   ]
  },
  {
   "cell_type": "code",
   "execution_count": 4,
   "metadata": {
    "collapsed": false
   },
   "outputs": [
    {
     "name": "stdout",
     "output_type": "stream",
     "text": [
      "[u'Rat3656-D1-sleep02.mat']\n",
      "[u'Rat3656-D2-sleep02.mat']\n",
      "[]\n",
      "[u'Rat3754-D3-sleep02.mat']\n",
      "[u'Rat3837-D1-sleep02.mat']\n",
      "[u'Rat3837-D3-sleep02.mat']\n",
      "[]\n",
      "[]\n",
      "[u'Rat3838-D2-sleep02.mat']\n",
      "[]\n",
      "[u'Rat3838-D4-sleep02.mat']\n",
      "[u'Rat3903-D1-sleep02.mat']\n",
      "[u'Rat3903-D2-sleep02.mat']\n",
      "[u'Rat3903-D3-sleep02.mat']\n",
      "[u'Rat3903-D4-sleep02.mat']\n",
      "[u'Rat405-D1-sleep02.mat']\n",
      "[u'Rat434-D1-sleep06.mat']\n"
     ]
    }
   ],
   "source": [
    "cmat = loadmat('/home/chenani/ownCloud/IpythonNotebooks/Sleep/MEC_Lesion_Project/files/dnew.mat')\n",
    "cntPRE = cmat['d']['co'][0][0][0]['pre'][0][0]\n",
    "cntPOS = cmat['d']['co'][0][0][0]['post'][0][0]\n",
    "cntLIN = cmat['d']['co'][0][0][0]['run'][0][0]\n",
    "lesPRE = cmat['d']['le'][0][0][0]['pre'][0][0]\n",
    "lesPOS = cmat['d']['le'][0][0][0]['post'][0][0]\n",
    "lesLIN = cmat['d']['le'][0][0][0]['run'][0][0]\n",
    "for item in lesPOS:\n",
    "    print item[1]\n",
    "#pd.read_csv('/home/chenani/ownCloud/IpythonNotebooks/Sleep/MEC_Lesion_Project/files/dnew.csv')\n",
    "#cmat['d']['co'][0][0][0]['post'][0][0]['file']"
   ]
  },
  {
   "cell_type": "code",
   "execution_count": 5,
   "metadata": {
    "collapsed": false,
    "scrolled": false
   },
   "outputs": [
    {
     "name": "stdout",
     "output_type": "stream",
     "text": [
      "*3661-D1-RO.db 3661 D1 307\n",
      "307 200 37\n"
     ]
    },
    {
     "ename": "ValueError",
     "evalue": "Length of values does not match length of index",
     "output_type": "error",
     "traceback": [
      "\u001b[1;31m---------------------------------------------------------------------------\u001b[0m",
      "\u001b[1;31mValueError\u001b[0m                                Traceback (most recent call last)",
      "\u001b[1;32m<ipython-input-5-92bc88264f1c>\u001b[0m in \u001b[0;36m<module>\u001b[1;34m()\u001b[0m\n\u001b[0;32m     14\u001b[0m         \u001b[0mawro\u001b[0m \u001b[1;33m=\u001b[0m \u001b[0mawro\u001b[0m\u001b[1;33m.\u001b[0m\u001b[0mdrop\u001b[0m\u001b[1;33m(\u001b[0m\u001b[1;33m[\u001b[0m\u001b[1;34m'Lpv'\u001b[0m\u001b[1;33m]\u001b[0m\u001b[1;33m,\u001b[0m\u001b[1;36m1\u001b[0m\u001b[1;33m)\u001b[0m\u001b[1;33m\u001b[0m\u001b[0m\n\u001b[0;32m     15\u001b[0m         \u001b[1;32mprint\u001b[0m \u001b[0msigVec\u001b[0m\u001b[1;33m.\u001b[0m\u001b[0msize\u001b[0m\u001b[1;33m,\u001b[0m\u001b[0mawro\u001b[0m\u001b[1;33m.\u001b[0m\u001b[0mshape\u001b[0m\u001b[1;33m[\u001b[0m\u001b[1;36m0\u001b[0m\u001b[1;33m]\u001b[0m\u001b[1;33m,\u001b[0m\u001b[0msigVec\u001b[0m\u001b[1;33m.\u001b[0m\u001b[0msum\u001b[0m\u001b[1;33m(\u001b[0m\u001b[1;33m)\u001b[0m\u001b[1;33m\u001b[0m\u001b[0m\n\u001b[1;32m---> 16\u001b[1;33m         \u001b[0mawro\u001b[0m\u001b[1;33m[\u001b[0m\u001b[1;34m'Rpv'\u001b[0m\u001b[1;33m]\u001b[0m \u001b[1;33m=\u001b[0m \u001b[0msigVec\u001b[0m\u001b[1;33m\u001b[0m\u001b[0m\n\u001b[0m",
      "\u001b[1;32m/home/chenani/anaconda/lib/python2.7/site-packages/pandas/core/frame.pyc\u001b[0m in \u001b[0;36m__setitem__\u001b[1;34m(self, key, value)\u001b[0m\n\u001b[0;32m   2417\u001b[0m         \u001b[1;32melse\u001b[0m\u001b[1;33m:\u001b[0m\u001b[1;33m\u001b[0m\u001b[0m\n\u001b[0;32m   2418\u001b[0m             \u001b[1;31m# set column\u001b[0m\u001b[1;33m\u001b[0m\u001b[1;33m\u001b[0m\u001b[0m\n\u001b[1;32m-> 2419\u001b[1;33m             \u001b[0mself\u001b[0m\u001b[1;33m.\u001b[0m\u001b[0m_set_item\u001b[0m\u001b[1;33m(\u001b[0m\u001b[0mkey\u001b[0m\u001b[1;33m,\u001b[0m \u001b[0mvalue\u001b[0m\u001b[1;33m)\u001b[0m\u001b[1;33m\u001b[0m\u001b[0m\n\u001b[0m\u001b[0;32m   2420\u001b[0m \u001b[1;33m\u001b[0m\u001b[0m\n\u001b[0;32m   2421\u001b[0m     \u001b[1;32mdef\u001b[0m \u001b[0m_setitem_slice\u001b[0m\u001b[1;33m(\u001b[0m\u001b[0mself\u001b[0m\u001b[1;33m,\u001b[0m \u001b[0mkey\u001b[0m\u001b[1;33m,\u001b[0m \u001b[0mvalue\u001b[0m\u001b[1;33m)\u001b[0m\u001b[1;33m:\u001b[0m\u001b[1;33m\u001b[0m\u001b[0m\n",
      "\u001b[1;32m/home/chenani/anaconda/lib/python2.7/site-packages/pandas/core/frame.pyc\u001b[0m in \u001b[0;36m_set_item\u001b[1;34m(self, key, value)\u001b[0m\n\u001b[0;32m   2483\u001b[0m \u001b[1;33m\u001b[0m\u001b[0m\n\u001b[0;32m   2484\u001b[0m         \u001b[0mself\u001b[0m\u001b[1;33m.\u001b[0m\u001b[0m_ensure_valid_index\u001b[0m\u001b[1;33m(\u001b[0m\u001b[0mvalue\u001b[0m\u001b[1;33m)\u001b[0m\u001b[1;33m\u001b[0m\u001b[0m\n\u001b[1;32m-> 2485\u001b[1;33m         \u001b[0mvalue\u001b[0m \u001b[1;33m=\u001b[0m \u001b[0mself\u001b[0m\u001b[1;33m.\u001b[0m\u001b[0m_sanitize_column\u001b[0m\u001b[1;33m(\u001b[0m\u001b[0mkey\u001b[0m\u001b[1;33m,\u001b[0m \u001b[0mvalue\u001b[0m\u001b[1;33m)\u001b[0m\u001b[1;33m\u001b[0m\u001b[0m\n\u001b[0m\u001b[0;32m   2486\u001b[0m         \u001b[0mNDFrame\u001b[0m\u001b[1;33m.\u001b[0m\u001b[0m_set_item\u001b[0m\u001b[1;33m(\u001b[0m\u001b[0mself\u001b[0m\u001b[1;33m,\u001b[0m \u001b[0mkey\u001b[0m\u001b[1;33m,\u001b[0m \u001b[0mvalue\u001b[0m\u001b[1;33m)\u001b[0m\u001b[1;33m\u001b[0m\u001b[0m\n\u001b[0;32m   2487\u001b[0m \u001b[1;33m\u001b[0m\u001b[0m\n",
      "\u001b[1;32m/home/chenani/anaconda/lib/python2.7/site-packages/pandas/core/frame.pyc\u001b[0m in \u001b[0;36m_sanitize_column\u001b[1;34m(self, key, value, broadcast)\u001b[0m\n\u001b[0;32m   2654\u001b[0m \u001b[1;33m\u001b[0m\u001b[0m\n\u001b[0;32m   2655\u001b[0m             \u001b[1;31m# turn me into an ndarray\u001b[0m\u001b[1;33m\u001b[0m\u001b[1;33m\u001b[0m\u001b[0m\n\u001b[1;32m-> 2656\u001b[1;33m             \u001b[0mvalue\u001b[0m \u001b[1;33m=\u001b[0m \u001b[0m_sanitize_index\u001b[0m\u001b[1;33m(\u001b[0m\u001b[0mvalue\u001b[0m\u001b[1;33m,\u001b[0m \u001b[0mself\u001b[0m\u001b[1;33m.\u001b[0m\u001b[0mindex\u001b[0m\u001b[1;33m,\u001b[0m \u001b[0mcopy\u001b[0m\u001b[1;33m=\u001b[0m\u001b[0mFalse\u001b[0m\u001b[1;33m)\u001b[0m\u001b[1;33m\u001b[0m\u001b[0m\n\u001b[0m\u001b[0;32m   2657\u001b[0m             \u001b[1;32mif\u001b[0m \u001b[1;32mnot\u001b[0m \u001b[0misinstance\u001b[0m\u001b[1;33m(\u001b[0m\u001b[0mvalue\u001b[0m\u001b[1;33m,\u001b[0m \u001b[1;33m(\u001b[0m\u001b[0mnp\u001b[0m\u001b[1;33m.\u001b[0m\u001b[0mndarray\u001b[0m\u001b[1;33m,\u001b[0m \u001b[0mIndex\u001b[0m\u001b[1;33m)\u001b[0m\u001b[1;33m)\u001b[0m\u001b[1;33m:\u001b[0m\u001b[1;33m\u001b[0m\u001b[0m\n\u001b[0;32m   2658\u001b[0m                 \u001b[1;32mif\u001b[0m \u001b[0misinstance\u001b[0m\u001b[1;33m(\u001b[0m\u001b[0mvalue\u001b[0m\u001b[1;33m,\u001b[0m \u001b[0mlist\u001b[0m\u001b[1;33m)\u001b[0m \u001b[1;32mand\u001b[0m \u001b[0mlen\u001b[0m\u001b[1;33m(\u001b[0m\u001b[0mvalue\u001b[0m\u001b[1;33m)\u001b[0m \u001b[1;33m>\u001b[0m \u001b[1;36m0\u001b[0m\u001b[1;33m:\u001b[0m\u001b[1;33m\u001b[0m\u001b[0m\n",
      "\u001b[1;32m/home/chenani/anaconda/lib/python2.7/site-packages/pandas/core/series.pyc\u001b[0m in \u001b[0;36m_sanitize_index\u001b[1;34m(data, index, copy)\u001b[0m\n\u001b[0;32m   2798\u001b[0m \u001b[1;33m\u001b[0m\u001b[0m\n\u001b[0;32m   2799\u001b[0m     \u001b[1;32mif\u001b[0m \u001b[0mlen\u001b[0m\u001b[1;33m(\u001b[0m\u001b[0mdata\u001b[0m\u001b[1;33m)\u001b[0m \u001b[1;33m!=\u001b[0m \u001b[0mlen\u001b[0m\u001b[1;33m(\u001b[0m\u001b[0mindex\u001b[0m\u001b[1;33m)\u001b[0m\u001b[1;33m:\u001b[0m\u001b[1;33m\u001b[0m\u001b[0m\n\u001b[1;32m-> 2800\u001b[1;33m         \u001b[1;32mraise\u001b[0m \u001b[0mValueError\u001b[0m\u001b[1;33m(\u001b[0m\u001b[1;34m'Length of values does not match length of '\u001b[0m \u001b[1;34m'index'\u001b[0m\u001b[1;33m)\u001b[0m\u001b[1;33m\u001b[0m\u001b[0m\n\u001b[0m\u001b[0;32m   2801\u001b[0m \u001b[1;33m\u001b[0m\u001b[0m\n\u001b[0;32m   2802\u001b[0m     \u001b[1;32mif\u001b[0m \u001b[0misinstance\u001b[0m\u001b[1;33m(\u001b[0m\u001b[0mdata\u001b[0m\u001b[1;33m,\u001b[0m \u001b[0mPeriodIndex\u001b[0m\u001b[1;33m)\u001b[0m\u001b[1;33m:\u001b[0m\u001b[1;33m\u001b[0m\u001b[0m\n",
      "\u001b[1;31mValueError\u001b[0m: Length of values does not match length of index"
     ]
    }
   ],
   "source": [
    "for item in cntLIN:\n",
    "    sigVec = item[0][0]\n",
    "    anID = item[1][0].split('-')[0].split('Rat')[-1]\n",
    "    dd = item[1][0].split('-')[1]\n",
    "    dbName = '*'+anID+'-'+dd+'-RO.db'\n",
    "    print dbName,anID,dd,sigVec.size\n",
    "    for item in locate(dbName,'/home/chenani/ownCloud/IpythonNotebooks/Sleep/MEC_Lesion_Project/control/'):\n",
    "        dbName = path.join(item[0],item[1])\n",
    "        #group = dbName.split('/')[-4]\n",
    "        #dday  = dbName.split('/')[-1].split('-')[-2]\n",
    "        #anID  = dbName.split('/')[-1].split('-')[-3]\n",
    "        awro = pkl.load(open(dbName))\n",
    "        awro = awro[(awro.lSub>4)|(awro.rSub>4)]#awro[np.logical_not(np.isnan(awro.Lcorr))|np.logical_not(np.isnan(awro.Lcorr))]\n",
    "        awro = awro.drop(['Lpv'],1)\n",
    "        print sigVec.size,awro.shape[0],sigVec.sum()\n",
    "        awro['Rpv'] = sigVec"
   ]
  },
  {
   "cell_type": "code",
   "execution_count": 62,
   "metadata": {
    "collapsed": false
   },
   "outputs": [
    {
     "name": "stdout",
     "output_type": "stream",
     "text": [
      "*3656-D1-RO.db\n",
      "105 105\n",
      "*3656-D2-RO.db\n",
      "63 63\n",
      "*3754-D2-RO.db\n",
      "1 1\n",
      "*3754-D3-RO.db\n",
      "35 35\n",
      "*3837-D1-RO.db\n",
      "104 104\n",
      "*3837-D3-RO.db\n",
      "55 55\n",
      "*3838-D1-RO.db\n",
      "2 2\n",
      "*3838-D2-RO.db\n",
      "123 123\n",
      "*3838-D3-RO.db\n",
      "168 168\n",
      "*3838-D4-RO.db\n",
      "18 18\n",
      "*3903-D1-RO.db\n",
      "55 55\n",
      "*3903-D2-RO.db\n",
      "7 7\n",
      "*3903-D4-RO.db\n",
      "6 6\n",
      "*405-D1-RO.db\n",
      "106 107\n"
     ]
    },
    {
     "ename": "ValueError",
     "evalue": "Length of values does not match length of index",
     "output_type": "error",
     "traceback": [
      "\u001b[1;31m---------------------------------------------------------------------------\u001b[0m",
      "\u001b[1;31mValueError\u001b[0m                                Traceback (most recent call last)",
      "\u001b[1;32m<ipython-input-62-95509615bab8>\u001b[0m in \u001b[0;36m<module>\u001b[1;34m()\u001b[0m\n\u001b[0;32m     12\u001b[0m             \u001b[0mawro\u001b[0m \u001b[1;33m=\u001b[0m \u001b[0mawro\u001b[0m\u001b[1;33m.\u001b[0m\u001b[0mdrop\u001b[0m\u001b[1;33m(\u001b[0m\u001b[1;33m[\u001b[0m\u001b[1;34m'Lpv'\u001b[0m\u001b[1;33m]\u001b[0m\u001b[1;33m,\u001b[0m\u001b[1;36m1\u001b[0m\u001b[1;33m)\u001b[0m\u001b[1;33m\u001b[0m\u001b[0m\n\u001b[0;32m     13\u001b[0m             \u001b[1;32mprint\u001b[0m \u001b[0msigVec\u001b[0m\u001b[1;33m.\u001b[0m\u001b[0msize\u001b[0m\u001b[1;33m,\u001b[0m\u001b[0mawro\u001b[0m\u001b[1;33m.\u001b[0m\u001b[0mshape\u001b[0m\u001b[1;33m[\u001b[0m\u001b[1;36m0\u001b[0m\u001b[1;33m]\u001b[0m\u001b[1;33m\u001b[0m\u001b[0m\n\u001b[1;32m---> 14\u001b[1;33m             \u001b[0mawro\u001b[0m\u001b[1;33m[\u001b[0m\u001b[1;34m'Rpv'\u001b[0m\u001b[1;33m]\u001b[0m \u001b[1;33m=\u001b[0m \u001b[0msigVec\u001b[0m\u001b[1;33m\u001b[0m\u001b[0m\n\u001b[0m",
      "\u001b[1;32m/home/chenani/anaconda/lib/python2.7/site-packages/pandas/core/frame.pyc\u001b[0m in \u001b[0;36m__setitem__\u001b[1;34m(self, key, value)\u001b[0m\n\u001b[0;32m   2417\u001b[0m         \u001b[1;32melse\u001b[0m\u001b[1;33m:\u001b[0m\u001b[1;33m\u001b[0m\u001b[0m\n\u001b[0;32m   2418\u001b[0m             \u001b[1;31m# set column\u001b[0m\u001b[1;33m\u001b[0m\u001b[1;33m\u001b[0m\u001b[0m\n\u001b[1;32m-> 2419\u001b[1;33m             \u001b[0mself\u001b[0m\u001b[1;33m.\u001b[0m\u001b[0m_set_item\u001b[0m\u001b[1;33m(\u001b[0m\u001b[0mkey\u001b[0m\u001b[1;33m,\u001b[0m \u001b[0mvalue\u001b[0m\u001b[1;33m)\u001b[0m\u001b[1;33m\u001b[0m\u001b[0m\n\u001b[0m\u001b[0;32m   2420\u001b[0m \u001b[1;33m\u001b[0m\u001b[0m\n\u001b[0;32m   2421\u001b[0m     \u001b[1;32mdef\u001b[0m \u001b[0m_setitem_slice\u001b[0m\u001b[1;33m(\u001b[0m\u001b[0mself\u001b[0m\u001b[1;33m,\u001b[0m \u001b[0mkey\u001b[0m\u001b[1;33m,\u001b[0m \u001b[0mvalue\u001b[0m\u001b[1;33m)\u001b[0m\u001b[1;33m:\u001b[0m\u001b[1;33m\u001b[0m\u001b[0m\n",
      "\u001b[1;32m/home/chenani/anaconda/lib/python2.7/site-packages/pandas/core/frame.pyc\u001b[0m in \u001b[0;36m_set_item\u001b[1;34m(self, key, value)\u001b[0m\n\u001b[0;32m   2483\u001b[0m \u001b[1;33m\u001b[0m\u001b[0m\n\u001b[0;32m   2484\u001b[0m         \u001b[0mself\u001b[0m\u001b[1;33m.\u001b[0m\u001b[0m_ensure_valid_index\u001b[0m\u001b[1;33m(\u001b[0m\u001b[0mvalue\u001b[0m\u001b[1;33m)\u001b[0m\u001b[1;33m\u001b[0m\u001b[0m\n\u001b[1;32m-> 2485\u001b[1;33m         \u001b[0mvalue\u001b[0m \u001b[1;33m=\u001b[0m \u001b[0mself\u001b[0m\u001b[1;33m.\u001b[0m\u001b[0m_sanitize_column\u001b[0m\u001b[1;33m(\u001b[0m\u001b[0mkey\u001b[0m\u001b[1;33m,\u001b[0m \u001b[0mvalue\u001b[0m\u001b[1;33m)\u001b[0m\u001b[1;33m\u001b[0m\u001b[0m\n\u001b[0m\u001b[0;32m   2486\u001b[0m         \u001b[0mNDFrame\u001b[0m\u001b[1;33m.\u001b[0m\u001b[0m_set_item\u001b[0m\u001b[1;33m(\u001b[0m\u001b[0mself\u001b[0m\u001b[1;33m,\u001b[0m \u001b[0mkey\u001b[0m\u001b[1;33m,\u001b[0m \u001b[0mvalue\u001b[0m\u001b[1;33m)\u001b[0m\u001b[1;33m\u001b[0m\u001b[0m\n\u001b[0;32m   2487\u001b[0m \u001b[1;33m\u001b[0m\u001b[0m\n",
      "\u001b[1;32m/home/chenani/anaconda/lib/python2.7/site-packages/pandas/core/frame.pyc\u001b[0m in \u001b[0;36m_sanitize_column\u001b[1;34m(self, key, value, broadcast)\u001b[0m\n\u001b[0;32m   2654\u001b[0m \u001b[1;33m\u001b[0m\u001b[0m\n\u001b[0;32m   2655\u001b[0m             \u001b[1;31m# turn me into an ndarray\u001b[0m\u001b[1;33m\u001b[0m\u001b[1;33m\u001b[0m\u001b[0m\n\u001b[1;32m-> 2656\u001b[1;33m             \u001b[0mvalue\u001b[0m \u001b[1;33m=\u001b[0m \u001b[0m_sanitize_index\u001b[0m\u001b[1;33m(\u001b[0m\u001b[0mvalue\u001b[0m\u001b[1;33m,\u001b[0m \u001b[0mself\u001b[0m\u001b[1;33m.\u001b[0m\u001b[0mindex\u001b[0m\u001b[1;33m,\u001b[0m \u001b[0mcopy\u001b[0m\u001b[1;33m=\u001b[0m\u001b[0mFalse\u001b[0m\u001b[1;33m)\u001b[0m\u001b[1;33m\u001b[0m\u001b[0m\n\u001b[0m\u001b[0;32m   2657\u001b[0m             \u001b[1;32mif\u001b[0m \u001b[1;32mnot\u001b[0m \u001b[0misinstance\u001b[0m\u001b[1;33m(\u001b[0m\u001b[0mvalue\u001b[0m\u001b[1;33m,\u001b[0m \u001b[1;33m(\u001b[0m\u001b[0mnp\u001b[0m\u001b[1;33m.\u001b[0m\u001b[0mndarray\u001b[0m\u001b[1;33m,\u001b[0m \u001b[0mIndex\u001b[0m\u001b[1;33m)\u001b[0m\u001b[1;33m)\u001b[0m\u001b[1;33m:\u001b[0m\u001b[1;33m\u001b[0m\u001b[0m\n\u001b[0;32m   2658\u001b[0m                 \u001b[1;32mif\u001b[0m \u001b[0misinstance\u001b[0m\u001b[1;33m(\u001b[0m\u001b[0mvalue\u001b[0m\u001b[1;33m,\u001b[0m \u001b[0mlist\u001b[0m\u001b[1;33m)\u001b[0m \u001b[1;32mand\u001b[0m \u001b[0mlen\u001b[0m\u001b[1;33m(\u001b[0m\u001b[0mvalue\u001b[0m\u001b[1;33m)\u001b[0m \u001b[1;33m>\u001b[0m \u001b[1;36m0\u001b[0m\u001b[1;33m:\u001b[0m\u001b[1;33m\u001b[0m\u001b[0m\n",
      "\u001b[1;32m/home/chenani/anaconda/lib/python2.7/site-packages/pandas/core/series.pyc\u001b[0m in \u001b[0;36m_sanitize_index\u001b[1;34m(data, index, copy)\u001b[0m\n\u001b[0;32m   2798\u001b[0m \u001b[1;33m\u001b[0m\u001b[0m\n\u001b[0;32m   2799\u001b[0m     \u001b[1;32mif\u001b[0m \u001b[0mlen\u001b[0m\u001b[1;33m(\u001b[0m\u001b[0mdata\u001b[0m\u001b[1;33m)\u001b[0m \u001b[1;33m!=\u001b[0m \u001b[0mlen\u001b[0m\u001b[1;33m(\u001b[0m\u001b[0mindex\u001b[0m\u001b[1;33m)\u001b[0m\u001b[1;33m:\u001b[0m\u001b[1;33m\u001b[0m\u001b[0m\n\u001b[1;32m-> 2800\u001b[1;33m         \u001b[1;32mraise\u001b[0m \u001b[0mValueError\u001b[0m\u001b[1;33m(\u001b[0m\u001b[1;34m'Length of values does not match length of '\u001b[0m \u001b[1;34m'index'\u001b[0m\u001b[1;33m)\u001b[0m\u001b[1;33m\u001b[0m\u001b[0m\n\u001b[0m\u001b[0;32m   2801\u001b[0m \u001b[1;33m\u001b[0m\u001b[0m\n\u001b[0;32m   2802\u001b[0m     \u001b[1;32mif\u001b[0m \u001b[0misinstance\u001b[0m\u001b[1;33m(\u001b[0m\u001b[0mdata\u001b[0m\u001b[1;33m,\u001b[0m \u001b[0mPeriodIndex\u001b[0m\u001b[1;33m)\u001b[0m\u001b[1;33m:\u001b[0m\u001b[1;33m\u001b[0m\u001b[0m\n",
      "\u001b[1;31mValueError\u001b[0m: Length of values does not match length of index"
     ]
    }
   ],
   "source": [
    "for item in lesLIN:\n",
    "    if item[0].size:\n",
    "        sigVec = item[0][0]\n",
    "        anID = item[1][0].split('-')[0].split('Rat')[-1]\n",
    "        dd = item[1][0].split('-')[1]\n",
    "        dbName = '*'+anID+'-'+dd+'-RO.db'\n",
    "        print dbName\n",
    "        for item in locate(dbName,'/home/chenani/ownCloud/IpythonNotebooks/Sleep/MEC_Lesion_Project/lesion/'):\n",
    "            dbName = path.join(item[0],item[1])\n",
    "            awro = pkl.load(open(dbName))\n",
    "            awro = awro[(awro.lSub>4)|(awro.rSub>4)]#awro[np.logical_not(np.isnan(awro.Lcorr))|np.logical_not(np.isnan(awro.Lcorr))]\n",
    "            awro = awro.drop(['Lpv'],1)\n",
    "            print sigVec.size,awro.shape[0]\n",
    "            awro['Rpv'] = sigVec"
   ]
  },
  {
   "cell_type": "markdown",
   "metadata": {},
   "source": [
    "# Sleeeeeeeeeeeeeeeep"
   ]
  },
  {
   "cell_type": "code",
   "execution_count": 7,
   "metadata": {
    "collapsed": false,
    "scrolled": false
   },
   "outputs": [
    {
     "name": "stdout",
     "output_type": "stream",
     "text": [
      "3661-popDB-D1.db 3661\n",
      "299 307\n",
      "pre-- 299 14\n",
      "pos-- 308 37\n",
      "3661-popDB-D2.db 3661\n",
      "339 235\n",
      "pre-- 339 21\n",
      "pos-- 235 37\n",
      "3661-popDB-D3.db 3661\n",
      "499 610\n",
      "pre-- 499 29\n",
      "pos-- 611 43\n",
      "3906-popDB-D1.db 3906\n",
      "1768 1741\n",
      "pre-- 1768 91\n",
      "pos-- 1741 107\n",
      "3906-popDB-D2.db 3906\n",
      "810 1207\n",
      "pre-- 810 55\n",
      "pos-- 1207 66\n",
      "3906-popDB-D3.db 3906\n",
      "666 1062\n",
      "pre-- 666 48\n",
      "pos-- 1062 85\n",
      "3906-popDB-D4.db 3906\n",
      "563 423\n",
      "pre-- 563 24\n",
      "pos-- 423 34\n",
      "614-popDB-D1.db 614\n",
      "262 766\n",
      "pre-- 262 12\n",
      "pos-- 766 55\n",
      "616-popDB-D1.db 616\n",
      "6 80\n",
      "pre-- 6 0\n",
      "pos-- 80 10\n"
     ]
    }
   ],
   "source": [
    "for ii in range(9):\n",
    "    sigVec_PRE = cntPRE[ii][0][0]\n",
    "    sigVec_POS = cntPOS[ii][0][0]\n",
    "    if ii==8:\n",
    "        anID = '616' \n",
    "        dd = 'D1'\n",
    "    else:\n",
    "        anID = cntPRE[ii][1][0].split('-')[0].split('Rat')[-1]\n",
    "        dd = cntPRE[ii][1][0].split('-')[1]\n",
    "    dbName = anID+'-popDB-'+dd+'.db'\n",
    "    print dbName,anID\n",
    "    for item in locate(dbName,'/home/chenani/ownCloud/IpythonNotebooks/Sleep/MEC_Lesion_Project/control/'):\n",
    "        dbName = path.join(item[0],item[1])\n",
    "        popro = pkl.load(open(dbName))\n",
    "        popro = popro[(popro.lSub>4)|(popro.rSub>4)]#awro[np.logical_not(np.isnan(awro.Lcorr))|np.logical_not(np.isnan(awro.Lcorr))]\n",
    "        popro = popro.replace('sleep01','PRE')\n",
    "        popro = popro.replace('sleep02','POST')\n",
    "        print sigVec_PRE.size,sigVec_POS.size\n",
    "        if popro[popro.session=='PRE'].shape[0]>sigVec_PRE.size:\n",
    "            sigVec_PRE = np.append(sigVec_PRE,0)\n",
    "        if popro[popro.session=='POST'].shape[0]>sigVec_POS.size:\n",
    "            sigVec_POS = np.append(sigVec_POS,0)\n",
    "        popro = popro.drop('Lpv',1)\n",
    "        preIdx = popro[popro.session=='PRE'].index\n",
    "        posIdx = popro[popro.session=='POST'].index\n",
    "        print 'pre--',sigVec_PRE.size,sigVec_PRE.sum()\n",
    "        print 'pos--',sigVec_POS.size,sigVec_POS.sum()\n",
    "        for iix,sigV in enumerate(sigVec_PRE):        \n",
    "            popro.loc[preIdx[iix],'Rpv'] = sigV\n",
    "        for iix,sigV in enumerate(sigVec_POS):\n",
    "            popro.loc[posIdx[iix],'Rpv'] = sigV\n",
    "        #popro.to_pickle(dbName.split('.')[0]+'-Chsig.db')"
   ]
  },
  {
   "cell_type": "code",
   "execution_count": 9,
   "metadata": {
    "collapsed": false
   },
   "outputs": [
    {
     "data": {
      "text/plain": [
       "'/home/chenani/ownCloud/IpythonNotebooks/Sleep/MEC_Lesion_Project/control/Rat616Control/dataFiles/sleepDB/616-popDB-D1-Chsig.db'"
      ]
     },
     "execution_count": 9,
     "metadata": {},
     "output_type": "execute_result"
    }
   ],
   "source": [
    "dbName.split('.')[0]+'-Chsig.db'"
   ]
  },
  {
   "cell_type": "code",
   "execution_count": 68,
   "metadata": {
    "collapsed": false
   },
   "outputs": [
    {
     "name": "stdout",
     "output_type": "stream",
     "text": [
      "[u'Rat3656-D1-sleep01.mat'] [u'Rat3656-D1-sleep02.mat']\n",
      "69 66\n",
      "3656-roDB-D1.db 3656\n",
      "2 3\n",
      "=====================\n",
      "[u'Rat3656-D2-sleep01.mat'] [u'Rat3656-D2-sleep02.mat']\n",
      "9 25\n",
      "3656-roDB-D2.db 3656\n",
      "1 1\n",
      "=====================\n",
      "[] []\n",
      "0 0\n",
      "[u'Rat3754-D3-sleep01.mat'] [u'Rat3754-D3-sleep02.mat']\n",
      "22 50\n",
      "3754-roDB-D3.db 3754\n",
      "0 3\n",
      "=====================\n",
      "[u'Rat3837-D1-sleep01.mat'] [u'Rat3837-D1-sleep02.mat']\n",
      "419 313\n",
      "3837-roDB-D1.db 3837\n",
      "39 21\n",
      "=====================\n",
      "[u'Rat3837-D3-sleep01.mat'] [u'Rat3837-D3-sleep02.mat']\n",
      "1 41\n",
      "3837-roDB-D3.db 3837\n",
      "0 1\n",
      "=====================\n",
      "[] []\n",
      "0 0\n",
      "[u'Rat3838-D1-sleep01.mat'] []\n",
      "1 0\n",
      "3838-roDB-D1.db 3838\n",
      "0 0.0\n",
      "=====================\n",
      "[u'Rat3838-D2-sleep01.mat'] [u'Rat3838-D2-sleep02.mat']\n",
      "72 113\n",
      "3838-roDB-D2.db 3838\n",
      "2 6\n",
      "=====================\n",
      "[u'Rat3838-D3-sleep01.mat'] []\n",
      "116 0\n",
      "3838-roDB-D3.db 3838\n",
      "5 0.0\n",
      "=====================\n",
      "[u'Rat3838-D4-sleep01.mat'] [u'Rat3838-D4-sleep02.mat']\n",
      "12 27\n",
      "3838-roDB-D4.db 3838\n",
      "0 7\n",
      "=====================\n",
      "[u'Rat3903-D1-sleep01.mat'] [u'Rat3903-D1-sleep02.mat']\n",
      "5 31\n",
      "3903-roDB-D1.db 3903\n",
      "0 2\n",
      "=====================\n",
      "[] [u'Rat3903-D2-sleep02.mat']\n",
      "0 1\n",
      "3903-roDB-D2.db 3903\n",
      "0.0 0\n",
      "=====================\n",
      "[u'Rat3903-D3-sleep01.mat'] [u'Rat3903-D3-sleep02.mat']\n",
      "8 4\n",
      "3903-roDB-D3.db 3903\n",
      "0 0\n",
      "=====================\n",
      "[u'Rat3903-D4-sleep01.mat'] [u'Rat3903-D4-sleep02.mat']\n",
      "4 42\n",
      "3903-roDB-D4.db 3903\n",
      "0 3\n",
      "=====================\n",
      "[u'Rat405-D1-sleep01.mat'] [u'Rat405-D1-sleep02.mat']\n",
      "9 46\n",
      "405-roDB-D1.db 405\n",
      "0 4\n",
      "=====================\n",
      "[u'Rat434-D1-sleep05.mat'] [u'Rat434-D1-sleep06.mat']\n",
      "431 553\n",
      "434-roDB-D1.db 434\n",
      "18 87\n",
      "1\n",
      "9\n",
      "=====================\n"
     ]
    },
    {
     "ename": "IndexError",
     "evalue": "index 17 is out of bounds for axis 0 with size 17",
     "output_type": "error",
     "traceback": [
      "\u001b[1;31m---------------------------------------------------------------------------\u001b[0m",
      "\u001b[1;31mIndexError\u001b[0m                                Traceback (most recent call last)",
      "\u001b[1;32m<ipython-input-68-b32b2edcb7f8>\u001b[0m in \u001b[0;36m<module>\u001b[1;34m()\u001b[0m\n\u001b[0;32m      1\u001b[0m \u001b[1;32mfor\u001b[0m \u001b[0mii\u001b[0m \u001b[1;32min\u001b[0m \u001b[0mrange\u001b[0m\u001b[1;33m(\u001b[0m\u001b[1;36m18\u001b[0m\u001b[1;33m)\u001b[0m\u001b[1;33m:\u001b[0m\u001b[1;33m\u001b[0m\u001b[0m\n\u001b[1;32m----> 2\u001b[1;33m     \u001b[1;32mprint\u001b[0m \u001b[0mlesPRE\u001b[0m\u001b[1;33m[\u001b[0m\u001b[0mii\u001b[0m\u001b[1;33m]\u001b[0m\u001b[1;33m[\u001b[0m\u001b[1;36m1\u001b[0m\u001b[1;33m]\u001b[0m\u001b[1;33m,\u001b[0m\u001b[0mlesPOS\u001b[0m\u001b[1;33m[\u001b[0m\u001b[0mii\u001b[0m\u001b[1;33m]\u001b[0m\u001b[1;33m[\u001b[0m\u001b[1;36m1\u001b[0m\u001b[1;33m]\u001b[0m\u001b[1;33m\u001b[0m\u001b[0m\n\u001b[0m\u001b[0;32m      3\u001b[0m     \u001b[1;32mprint\u001b[0m \u001b[0mlesPRE\u001b[0m\u001b[1;33m[\u001b[0m\u001b[0mii\u001b[0m\u001b[1;33m]\u001b[0m\u001b[1;33m[\u001b[0m\u001b[1;36m0\u001b[0m\u001b[1;33m]\u001b[0m\u001b[1;33m.\u001b[0m\u001b[0msize\u001b[0m\u001b[1;33m,\u001b[0m\u001b[0mlesPOS\u001b[0m\u001b[1;33m[\u001b[0m\u001b[0mii\u001b[0m\u001b[1;33m]\u001b[0m\u001b[1;33m[\u001b[0m\u001b[1;36m0\u001b[0m\u001b[1;33m]\u001b[0m\u001b[1;33m.\u001b[0m\u001b[0msize\u001b[0m\u001b[1;33m\u001b[0m\u001b[0m\n\u001b[0;32m      4\u001b[0m     \u001b[1;32mif\u001b[0m\u001b[1;33m(\u001b[0m\u001b[0mlesPRE\u001b[0m\u001b[1;33m[\u001b[0m\u001b[0mii\u001b[0m\u001b[1;33m]\u001b[0m\u001b[1;33m[\u001b[0m\u001b[1;36m0\u001b[0m\u001b[1;33m]\u001b[0m\u001b[1;33m.\u001b[0m\u001b[0msize\u001b[0m \u001b[1;32mor\u001b[0m \u001b[0mlesPOS\u001b[0m\u001b[1;33m[\u001b[0m\u001b[0mii\u001b[0m\u001b[1;33m]\u001b[0m\u001b[1;33m[\u001b[0m\u001b[1;36m0\u001b[0m\u001b[1;33m]\u001b[0m\u001b[1;33m.\u001b[0m\u001b[0msize\u001b[0m\u001b[1;33m)\u001b[0m\u001b[1;33m:\u001b[0m\u001b[1;33m\u001b[0m\u001b[0m\n\u001b[0;32m      5\u001b[0m         \u001b[1;32mif\u001b[0m \u001b[0mlesPRE\u001b[0m\u001b[1;33m[\u001b[0m\u001b[0mii\u001b[0m\u001b[1;33m]\u001b[0m\u001b[1;33m[\u001b[0m\u001b[1;36m0\u001b[0m\u001b[1;33m]\u001b[0m\u001b[1;33m.\u001b[0m\u001b[0msize\u001b[0m\u001b[1;33m:\u001b[0m\u001b[1;33m\u001b[0m\u001b[0m\n",
      "\u001b[1;31mIndexError\u001b[0m: index 17 is out of bounds for axis 0 with size 17"
     ]
    }
   ],
   "source": [
    "for ii in range(18):\n",
    "    print lesPRE[ii][1],lesPOS[ii][1]\n",
    "    print lesPRE[ii][0].size,lesPOS[ii][0].size\n",
    "    if(lesPRE[ii][0].size or lesPOS[ii][0].size):\n",
    "        if lesPRE[ii][0].size:\n",
    "            anID = lesPRE[ii][1][0].split('-')[0].split('Rat')[-1]\n",
    "            dd   = lesPRE[ii][1][0].split('-')[1]\n",
    "            dbName = anID+'-roDB-'+dd+'.db'\n",
    "        else:\n",
    "            anID = lesPOS[ii][1][0].split('-')[0].split('Rat')[-1]\n",
    "            dd   = lesPOS[ii][1][0].split('-')[1]\n",
    "            dbName = anID+'-roDB-'+dd+'.db'\n",
    "        print dbName,anID\n",
    "        for item in locate(dbName,'/home/chenani/ownCloud/IpythonNotebooks/Sleep/MEC_Lesion_Project/lesion/'):\n",
    "            dbName = path.join(item[0],item[1])\n",
    "            popro = pkl.load(open(dbName))\n",
    "            popro = popro[(popro.lSub>4)|(popro.rSub>4)]#awro[np.logical_not(np.isnan(awro.Lcorr))|np.logical_not(np.isnan(awro.Lcorr))]\n",
    "            popro = popro.replace('sleep01','PRE')\n",
    "            popro = popro.replace('sleep02','POST')\n",
    "            popro = popro.replace('sleep05','PRE')\n",
    "            popro = popro.replace('sleep06','POST')\n",
    "            if lesPRE[ii][0].size:\n",
    "                sigVec_PRE = lesPRE[ii][0][0]\n",
    "            else:\n",
    "                sigVec_PRE = np.zeros(popro[popro.session=='PRE'].shape[0])\n",
    "            if lesPOS[ii][0].size:\n",
    "                sigVec_POS = lesPOS[ii][0][0]\n",
    "            else:\n",
    "                sigVec_POS = np.zeros(popro[popro.session=='POST'].shape[0])\n",
    "            print sigVec_PRE.sum(),sigVec_POS.sum()\n",
    "            if popro[popro.session=='PRE'].shape[0]>sigVec_PRE.size:\n",
    "                print popro[popro.session=='PRE'].shape[0]-sigVec_PRE.size\n",
    "                sigVec_PRE = np.append(sigVec_PRE,np.zeros(1))\n",
    "            if popro[popro.session=='POST'].shape[0]>sigVec_POS.size:\n",
    "                print popro[popro.session=='POST'].shape[0]-sigVec_POS.size\n",
    "                sigVec_POS = np.append(sigVec_POS,np.zeros(1))\n",
    "            #popro = popro.drop('Lpv',1)\n",
    "            preIdx = popro[popro.session=='PRE'].index\n",
    "            posIdx = popro[popro.session=='POST'].index\n",
    "            for iix,sigV in enumerate(sigVec_PRE):\n",
    "                 popro.loc[preIdx[iix],'Rpv'] = sigV\n",
    "            for iix,sigV in enumerate(sigVec_POS):\n",
    "                 popro.loc[posIdx[iix],'Rpv'] = sigV\n",
    "            popro.to_pickle(dbName.split('.')[0]+'-Chsig.db')\n",
    "        print '====================='\n",
    "            "
   ]
  },
  {
   "cell_type": "code",
   "execution_count": 57,
   "metadata": {
    "collapsed": false
   },
   "outputs": [
    {
     "name": "stdout",
     "output_type": "stream",
     "text": [
      "7 11 0.7 0.542857142857 1.0 1.0\n",
      "16 28 -0.283333333333 -0.142857142857 1.0 1.0\n",
      "35 61 0.291208791209 0.0238095238095 1.0 1.0\n",
      "55 123 -0.535714285714 0.214285714286 1.0 1.0\n",
      "90 203 0.642857142857 0.6 1.0 1.0\n",
      "91 205 -0.7 -0.4 1.0 1.0\n",
      "115 251 0.333333333333 0.35 1.0 1.0\n",
      "120 275 -0.3 -0.6 1.0 1.0\n",
      "121 278 0.428571428571 0.485714285714 1.0 1.0\n",
      "166 387 -0.542857142857 -0.371428571429 1.0 1.0\n",
      "191 436 -0.0714285714286 0.142857142857 1.0 1.0\n",
      "193 438 0.0285714285714 0.542857142857 1.0 1.0\n",
      "206 465 -0.607142857143 nan 1.0 1.0\n",
      "237 551 0.542857142857 1.0 1.0 1.0\n",
      "240 561 -0.464285714286 0.714285714286 1.0 1.0\n",
      "243 568 0.478787878788 0.3 1.0 1.0\n",
      "245 570 0.13986013986 -0.321212121212 1.0 1.0\n",
      "296 702 -0.428571428571 -0.4 1.0 1.0\n",
      "297 703 -0.0857142857143 -0.7 1.0 1.0\n",
      "303 719 0.8 0.8 1.0 1.0\n",
      "322 764 0.1 -0.0285714285714 1.0 1.0\n",
      "348 813 -0.3 -0.133333333333 1.0 1.0\n",
      "379 881 -0.371428571429 0.8 1.0 1.0\n",
      "412 950 0.571428571429 0.3 1.0 1.0\n",
      "434 1009 -0.321804511278 -0.0178571428571 1.0 1.0\n",
      "436 1011 -0.9 -0.7 1.0 1.0\n",
      "437 1012 -0.8 -0.6 1.0 1.0\n"
     ]
    }
   ],
   "source": [
    "for idx in np.where(sigVec_PRE)[0]:\n",
    "    print idx,popro.index[idx],popro.loc[popro.index[idx],'Lcorr'],popro.loc[popro.index[idx],'Rcorr'],popro.loc[popro.index[idx],'Lpv'],popro.loc[popro.index[idx],'Rpv']"
   ]
  },
  {
   "cell_type": "code",
   "execution_count": 60,
   "metadata": {
    "collapsed": false
   },
   "outputs": [
    {
     "data": {
      "text/plain": [
       "16"
      ]
     },
     "execution_count": 60,
     "metadata": {},
     "output_type": "execute_result"
    }
   ],
   "source": [
    "ii"
   ]
  },
  {
   "cell_type": "markdown",
   "metadata": {},
   "source": [
    "## Special Cases"
   ]
  },
  {
   "cell_type": "code",
   "execution_count": 214,
   "metadata": {
    "collapsed": false
   },
   "outputs": [
    {
     "name": "stdout",
     "output_type": "stream",
     "text": [
      "RtemplateLT4.nparr sleepDB/616-roDB-D1.db\n"
     ]
    }
   ],
   "source": [
    "dataFolder = '/home/chenani/ownCloud/IpythonNotebooks/Sleep/MEC_Lesion_Project/control/Rat616Control/dataFiles/'\n",
    "animalPath = '/home/chenani/dataWork/ali/MECLesion_SleepData/Magda/Rat616Control/LinearTrack_2013-06-02_Day1/parrentData/'\n",
    "dday = 'LT4'\n",
    "RName = 'Rtemplate'+dday+'.nparr'\n",
    "LName = 'Ltemplate'+dday+'.nparr'\n",
    "#dday = 'D1'\n",
    "DBfileName = 'sleepDB/616-roDB-D1.db'#'awakeReplays-616-'+dday+'.db'#'awakeReplays-3906-D1.db'\n",
    "print RName,DBfileName"
   ]
  },
  {
   "cell_type": "code",
   "execution_count": 213,
   "metadata": {
    "collapsed": false
   },
   "outputs": [
    {
     "ename": "AttributeError",
     "evalue": "'DataFrame' object has no attribute 'tf'",
     "output_type": "error",
     "traceback": [
      "\u001b[1;31m---------------------------------------------------------------------------\u001b[0m",
      "\u001b[1;31mAttributeError\u001b[0m                            Traceback (most recent call last)",
      "\u001b[1;32m<ipython-input-213-b75b58f297a0>\u001b[0m in \u001b[0;36m<module>\u001b[1;34m()\u001b[0m\n\u001b[0;32m      8\u001b[0m \u001b[0mLtemplate\u001b[0m \u001b[1;33m=\u001b[0m \u001b[0mpkl\u001b[0m\u001b[1;33m.\u001b[0m\u001b[0mload\u001b[0m\u001b[1;33m(\u001b[0m\u001b[0mopen\u001b[0m\u001b[1;33m(\u001b[0m\u001b[0mdataFolder\u001b[0m\u001b[1;33m+\u001b[0m\u001b[0mLName\u001b[0m\u001b[1;33m)\u001b[0m\u001b[1;33m)\u001b[0m\u001b[1;33m\u001b[0m\u001b[0m\n\u001b[0;32m      9\u001b[0m \u001b[0mpopDB\u001b[0m \u001b[1;33m=\u001b[0m \u001b[0mpopDB\u001b[0m\u001b[1;33m[\u001b[0m\u001b[0mpopDB\u001b[0m\u001b[1;33m.\u001b[0m\u001b[0mtSub\u001b[0m\u001b[1;33m>\u001b[0m\u001b[1;36m3\u001b[0m\u001b[1;33m]\u001b[0m\u001b[1;33m\u001b[0m\u001b[0m\n\u001b[1;32m---> 10\u001b[1;33m \u001b[0mduration\u001b[0m \u001b[1;33m=\u001b[0m \u001b[1;33m(\u001b[0m\u001b[0mpopDB\u001b[0m\u001b[1;33m.\u001b[0m\u001b[0mtf\u001b[0m\u001b[1;33m-\u001b[0m\u001b[0mpopDB\u001b[0m\u001b[1;33m.\u001b[0m\u001b[0mti\u001b[0m\u001b[1;33m)\u001b[0m\u001b[1;33m\u001b[0m\u001b[0m\n\u001b[0m\u001b[0;32m     11\u001b[0m \u001b[0mExpDay\u001b[0m \u001b[1;33m=\u001b[0m \u001b[0mDBfileName\u001b[0m\u001b[1;33m.\u001b[0m\u001b[0msplit\u001b[0m\u001b[1;33m(\u001b[0m\u001b[1;34m'.'\u001b[0m\u001b[1;33m)\u001b[0m\u001b[1;33m[\u001b[0m\u001b[1;36m0\u001b[0m\u001b[1;33m]\u001b[0m\u001b[1;33m.\u001b[0m\u001b[0msplit\u001b[0m\u001b[1;33m(\u001b[0m\u001b[1;34m'-'\u001b[0m\u001b[1;33m)\u001b[0m\u001b[1;33m[\u001b[0m\u001b[1;33m-\u001b[0m\u001b[1;36m1\u001b[0m\u001b[1;33m]\u001b[0m\u001b[1;33m\u001b[0m\u001b[0m\n\u001b[0;32m     12\u001b[0m \u001b[0msession\u001b[0m \u001b[1;33m=\u001b[0m \u001b[1;34m'linearTrack'\u001b[0m\u001b[1;33m\u001b[0m\u001b[0m\n",
      "\u001b[1;32m/home/chenani/anaconda/lib/python2.7/site-packages/pandas/core/generic.pyc\u001b[0m in \u001b[0;36m__getattr__\u001b[1;34m(self, name)\u001b[0m\n\u001b[0;32m   2742\u001b[0m             \u001b[1;32mif\u001b[0m \u001b[0mname\u001b[0m \u001b[1;32min\u001b[0m \u001b[0mself\u001b[0m\u001b[1;33m.\u001b[0m\u001b[0m_info_axis\u001b[0m\u001b[1;33m:\u001b[0m\u001b[1;33m\u001b[0m\u001b[0m\n\u001b[0;32m   2743\u001b[0m                 \u001b[1;32mreturn\u001b[0m \u001b[0mself\u001b[0m\u001b[1;33m[\u001b[0m\u001b[0mname\u001b[0m\u001b[1;33m]\u001b[0m\u001b[1;33m\u001b[0m\u001b[0m\n\u001b[1;32m-> 2744\u001b[1;33m             \u001b[1;32mreturn\u001b[0m \u001b[0mobject\u001b[0m\u001b[1;33m.\u001b[0m\u001b[0m__getattribute__\u001b[0m\u001b[1;33m(\u001b[0m\u001b[0mself\u001b[0m\u001b[1;33m,\u001b[0m \u001b[0mname\u001b[0m\u001b[1;33m)\u001b[0m\u001b[1;33m\u001b[0m\u001b[0m\n\u001b[0m\u001b[0;32m   2745\u001b[0m \u001b[1;33m\u001b[0m\u001b[0m\n\u001b[0;32m   2746\u001b[0m     \u001b[1;32mdef\u001b[0m \u001b[0m__setattr__\u001b[0m\u001b[1;33m(\u001b[0m\u001b[0mself\u001b[0m\u001b[1;33m,\u001b[0m \u001b[0mname\u001b[0m\u001b[1;33m,\u001b[0m \u001b[0mvalue\u001b[0m\u001b[1;33m)\u001b[0m\u001b[1;33m:\u001b[0m\u001b[1;33m\u001b[0m\u001b[0m\n",
      "\u001b[1;31mAttributeError\u001b[0m: 'DataFrame' object has no attribute 'tf'"
     ]
    }
   ],
   "source": [
    "animal = dataFolder.split('/')[-3]\n",
    "spikeZug = pkl.load(open(animalPath+'placeCells.spk'))\n",
    "spikeZug.changeTimeUnit('ms')\n",
    "#popDB = pd.read_pickle(dataFolder+ '3838-popDB-D4.db')\n",
    "popDB = pd.read_pickle(dataFolder+ DBfileName)\n",
    "popDB = popDB[(popDB.lSub>4)|(popDB.rSub>4)]\n",
    "Rtemplate = pkl.load(open(dataFolder+RName))\n",
    "Ltemplate = pkl.load(open(dataFolder+LName))\n",
    "popDB = popDB[popDB.tSub>3]\n",
    "duration = (popDB.tf-popDB.ti)\n",
    "ExpDay = DBfileName.split('.')[0].split('-')[-1]\n",
    "session = 'linearTrack'\n",
    "popVector = []\n",
    "for idx,row in popDB.iterrows():\n",
    "    ti = row.ti\n",
    "    tf = row.tf\n",
    "    NormalizedTimes = []\n",
    "    try:\n",
    "        spkCut= spikeZug.time_slice(ti,tf)\n",
    "        for zug in spkCut:\n",
    "            NormalizedTimes.append((zug.spike_times.mean()-row.ti)/duration[idx])\n",
    "        popVector.append(NormalizedTimes)\n",
    "    except Exception:\n",
    "        print idx,tf-ti\n",
    "data={'Rtemplate':Rtemplate,'Ltemplate':Ltemplate,animal: np.array(popVector, dtype=np.float64)}\n",
    "savemat('/home/chenani/ownCloud/IpythonNotebooks/Sleep/MEC_Lesion_Project/files/replay_DataSet/control/'+animal+'-'+ExpDay+'-'+session+'.mat',data)    \n",
    "print animal+'-'+ExpDay+'-'+session+'.mat'\n",
    "if len(popVector):\n",
    "    popVector = np.array(popVector)\n",
    "    binPop = popVector>0\n",
    "    nActive = binPop.sum(axis=1)\n",
    "    print DBfileName.split('/')[-1],session,data['Ltemplate'].size,data['Rtemplate'].size,'--------------',popVector.shape[0],(nActive>4).sum(),sigCounter(popDB)"
   ]
  },
  {
   "cell_type": "code",
   "execution_count": 216,
   "metadata": {
    "collapsed": false
   },
   "outputs": [
    {
     "name": "stderr",
     "output_type": "stream",
     "text": [
      "/home/chenani/anaconda/lib/python2.7/site-packages/ipykernel/__main__.py:22: RuntimeWarning: Mean of empty slice.\n",
      "/home/chenani/anaconda/lib/python2.7/site-packages/ipykernel/__main__.py:32: RuntimeWarning: invalid value encountered in greater\n"
     ]
    },
    {
     "name": "stdout",
     "output_type": "stream",
     "text": [
      "Rat616Control-Day1-sleep02.mat\n",
      "616-roDB-D1.db sleep02 17 17 -------------- 80 80 (80, 11, 13.75)\n",
      "Rat616Control-Day1-sleep01.mat\n",
      "616-roDB-D1.db sleep01 17 17 -------------- 6 6 (6, 0, 0.0)\n"
     ]
    }
   ],
   "source": [
    "animal = dataFolder.split('/')[-3]\n",
    "spikeZug = pkl.load(open(animalPath+'placeCells.spk'))\n",
    "spikeZug.changeTimeUnit('ms')\n",
    "popDB = pd.read_pickle(dataFolder+ DBfileName)\n",
    "Rtemplate = pkl.load(open(dataFolder+RName))\n",
    "Ltemplate = pkl.load(open(dataFolder+LName))\n",
    "popDB = popDB[(popDB.lSub>4)|(popDB.rSub>4)]\n",
    "duration = 1e3*(popDB.t_end-popDB.t_start)\n",
    "for session in set(popDB.session):\n",
    "    popVector = []\n",
    "    epochs = []\n",
    "    df = popDB[popDB.session==session]\n",
    "    ExpDay = np.unique(popDB.date)[0]\n",
    "    for idx,row in df.iterrows():\n",
    "        ti = row.t_start*1e3\n",
    "        tf = row.t_end*1e3\n",
    "        NormalizedTimes = []\n",
    "        try:\n",
    "            #print ti,tf\n",
    "            spkCut= spikeZug.time_slice(ti,tf)\n",
    "            for zug in spkCut:\n",
    "                NormalizedTimes.append((zug.spike_times.mean()-popDB.t_start.loc[idx]*1e3)/duration[idx])\n",
    "            popVector.append(NormalizedTimes)\n",
    "            epochs.append(row.epoch)\n",
    "        except Exception:\n",
    "            print tf-ti\n",
    "    data={'Rtemplate':Rtemplate,'Ltemplate':Ltemplate,'epochs': np.array(epochs),animal: np.array(popVector, dtype=np.float64)}\n",
    "    savemat('/home/chenani/ownCloud/IpythonNotebooks/Sleep/MEC_Lesion_Project/files/replay_DataSet/control/'+animal+'-'+ExpDay+'-'+session+'.mat',data)   \n",
    "    print animal+'-'+ExpDay+'-'+session+'.mat'\n",
    "    if len(popVector):\n",
    "        popVector = np.array(popVector)\n",
    "        binPop = popVector>0\n",
    "        nActive = binPop.sum(axis=1)\n",
    "        print DBfileName.split('/')[-1],session,data['Ltemplate'].size,data['Rtemplate'].size,'--------------',popVector.shape[0],(nActive>4).sum(),sigCounter(df)"
   ]
  },
  {
   "cell_type": "code",
   "execution_count": 389,
   "metadata": {
    "collapsed": false
   },
   "outputs": [],
   "source": [
    "#dic = loadmat('/home/chenani/ownCloud/IpythonNotebooks/Sleep/MEC_Lesion_Project/files/replay-Motif-dataSet/control/Control-old/Rat616Control-D1-linearTrack.mat')"
   ]
  },
  {
   "cell_type": "code",
   "execution_count": 393,
   "metadata": {
    "collapsed": false
   },
   "outputs": [],
   "source": [
    "#data = {'Rtemplate':Rtemplate,'Ltemplate':Ltemplate,animal:dic['Rat616Control']}\n",
    "#savemat('/home/chenani/ownCloud/IpythonNotebooks/Sleep/MEC_Lesion_Project/files/replay-Motif-dataSet/'+animal+'-D1-'+session+'.mat',data)"
   ]
  },
  {
   "cell_type": "code",
   "execution_count": 29,
   "metadata": {
    "collapsed": false
   },
   "outputs": [],
   "source": [
    "matPaths = [os.path.join(item[0],item[1]) for item in locate('*.mat','/home/chenani/ownCloud/IpythonNotebooks/Sleep/MEC_Lesion_Project/files/replay-Motif-dataSet/')]"
   ]
  },
  {
   "cell_type": "code",
   "execution_count": 70,
   "metadata": {
    "collapsed": false
   },
   "outputs": [
    {
     "name": "stdout",
     "output_type": "stream",
     "text": [
      "Rat3837Lesion-D1-linearTrack.mat Rat3837Lesion 12 13 -------------- 161 115\n",
      "Rat3837Lesion-D3-linearTrack.mat Rat3837Lesion 9 11 -------------- 100 68\n",
      "Rat3837Lesion-D4-linearTrack.mat Rat3837Lesion 4 5 -------------- 2 1\n"
     ]
    },
    {
     "name": "stderr",
     "output_type": "stream",
     "text": [
      "/home/chenani/anaconda/lib/python2.7/site-packages/ipykernel/__main__.py:7: RuntimeWarning: invalid value encountered in greater\n"
     ]
    }
   ],
   "source": [
    "for item in sorted(matPaths):\n",
    "    if (item.find('7Lesion-')>0 and item.find('linearTrack')>0):\n",
    "        dic = loadmat(item)\n",
    "        anName = [key for key in  dic.keys() if key.find('Rat')>=0][0]\n",
    "        popV = dic[anName]\n",
    "        #################\n",
    "        binPop = popV>0\n",
    "        nActive = binPop.sum(axis=1)\n",
    "        print item.split('/')[-1],anName,dic['Ltemplate'][0].size,dic['Rtemplate'][0].size,'--------------',popV.shape[0],(nActive>4).sum()"
   ]
  }
 ],
 "metadata": {
  "kernelspec": {
   "display_name": "Python 2",
   "language": "python",
   "name": "python2"
  },
  "language_info": {
   "codemirror_mode": {
    "name": "ipython",
    "version": 2
   },
   "file_extension": ".py",
   "mimetype": "text/x-python",
   "name": "python",
   "nbconvert_exporter": "python",
   "pygments_lexer": "ipython2",
   "version": "2.7.12"
  }
 },
 "nbformat": 4,
 "nbformat_minor": 0
}
