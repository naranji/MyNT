{
 "cells": [
  {
   "cell_type": "code",
   "execution_count": 1,
   "metadata": {},
   "outputs": [
    {
     "data": {
      "text/html": [
       "<style>.container { width:90% !important; }</style>"
      ],
      "text/plain": [
       "<IPython.core.display.HTML object>"
      ]
     },
     "metadata": {},
     "output_type": "display_data"
    }
   ],
   "source": [
    "from IPython.core.display import display, HTML\n",
    "display(HTML(\"<style>.container { width:90% !important; }</style>\"))\n",
    "import sys\n",
    "sys.path.append('/home/aliche/ownCloud/Workspaces/Eclipse/dataAnalysis/Sleep-current/src/')"
   ]
  },
  {
   "cell_type": "code",
   "execution_count": 12,
   "metadata": {},
   "outputs": [
    {
     "name": "stdout",
     "output_type": "stream",
     "text": [
      "Using matplotlib backend: Qt5Agg\n",
      "The autoreload extension is already loaded. To reload it, use:\n",
      "  %reload_ext autoreload\n"
     ]
    }
   ],
   "source": [
    "%matplotlib\n",
    "%load_ext autoreload\n",
    "%autoreload 2\n",
    "import numpy as np\n",
    "import matplotlib.pyplot as pl\n",
    "import pickle as pkl\n",
    "import fnmatch,os\n",
    "import itertools\n",
    "import statsmodels.formula.api as sm\n",
    "from scipy.stats import pearsonr,ttest_ind,ranksums,linregress\n",
    "import pandas as pd\n",
    "import seaborn as sns\n",
    "from signale.tools import locate\n",
    "import statsmodels.api as sm\n",
    "from matplotlib.gridspec import GridSpec\n",
    "from NeuroTools import analysis\n",
    "from scipy import stats"
   ]
  },
  {
   "cell_type": "code",
   "execution_count": 95,
   "metadata": {},
   "outputs": [],
   "source": [
    "FR_list = sorted([os.path.join(pth[0],pth[1]) for pth in locate('FiringUnits.spk','/home/aliche/dataWork/ali/MECLesion_SleepData/')])"
   ]
  },
  {
   "cell_type": "code",
   "execution_count": 96,
   "metadata": {},
   "outputs": [],
   "source": [
    "controlIDs = ['3906','3661','614','616','3839']\n",
    "df = pd.DataFrame([],columns=['Nu','Np','group'])"
   ]
  },
  {
   "cell_type": "code",
   "execution_count": 97,
   "metadata": {},
   "outputs": [
    {
     "name": "stdout",
     "output_type": "stream",
     "text": [
      "/home/aliche/dataWork/ali/MECLesion_SleepData/Magda/Rat405/LinearTrack_0-0-0_Day1/parrentData/\n",
      "/home/aliche/dataWork/ali/MECLesion_SleepData/Magda/Rat434/LinearTrack_0-0-0_Day1/parrentData/\n",
      "/home/aliche/dataWork/ali/MECLesion_SleepData/Magda/Rat614/LinearTrack_05-31-13_Day1/parrentData/\n",
      "/home/aliche/dataWork/ali/MECLesion_SleepData/Magda/Rat616/LinearTrack_2013-06-02_Day1/parrentData/\n",
      "/home/aliche/dataWork/ali/MECLesion_SleepData/Marta/Rat3656/LinearTrack_03-03-2015_Day1/parrentData/\n",
      "/home/aliche/dataWork/ali/MECLesion_SleepData/Marta/Rat3656/LinearTrack_03-04-2015_Day2/parrentData/\n",
      "/home/aliche/dataWork/ali/MECLesion_SleepData/Marta/Rat3661/LinearTrack_03-03-15Day1/parrentData/\n",
      "/home/aliche/dataWork/ali/MECLesion_SleepData/Marta/Rat3661/LinearTrack_03-04-15Day2/parrentData/\n",
      "/home/aliche/dataWork/ali/MECLesion_SleepData/Marta/Rat3661/LinearTrack_03-05-15Day3/parrentData/\n",
      "/home/aliche/dataWork/ali/MECLesion_SleepData/Marta/Rat3754/LinearTrack_07-07-15_Day2/parrentData/\n",
      "/home/aliche/dataWork/ali/MECLesion_SleepData/Marta/Rat3754/LinearTrack_07-09-15_Day3/parrentData/\n",
      "/home/aliche/dataWork/ali/MECLesion_SleepData/Marta/Rat3837/LinearTrack_01-28-16_Day1/parrentData/\n",
      "/home/aliche/dataWork/ali/MECLesion_SleepData/Marta/Rat3837/LinearTrack_01-30-16_Day3/parrentData/\n",
      "/home/aliche/dataWork/ali/MECLesion_SleepData/Marta/Rat3837/LinearTrack_02-01-16_Day4/parrentData/\n",
      "/home/aliche/dataWork/ali/MECLesion_SleepData/Marta/Rat3838/LinearTrack_02-01-16_Day1/parrentData/\n",
      "/home/aliche/dataWork/ali/MECLesion_SleepData/Marta/Rat3838/LinearTrack_02-02-16_Day2/parrentData/\n",
      "/home/aliche/dataWork/ali/MECLesion_SleepData/Marta/Rat3838/LinearTrack_02-03-16_Day3/parrentData/\n",
      "/home/aliche/dataWork/ali/MECLesion_SleepData/Marta/Rat3838/LinearTrack_02-04-16_Day4/parrentData/\n",
      "/home/aliche/dataWork/ali/MECLesion_SleepData/Marta/Rat3903/LinearTrack_05-09-16_Day1/parrentData/\n",
      "/home/aliche/dataWork/ali/MECLesion_SleepData/Marta/Rat3903/LinearTrack_05-10-16_Day2/parrentData/\n",
      "/home/aliche/dataWork/ali/MECLesion_SleepData/Marta/Rat3903/LinearTrack_05-11-16_Day3/parrentData/\n",
      "/home/aliche/dataWork/ali/MECLesion_SleepData/Marta/Rat3903/LinearTrack_05-12-16_Day4/parrentData/\n",
      "/home/aliche/dataWork/ali/MECLesion_SleepData/Marta/Rat3906/LinearTrack_05-31-16_Day1/parrentData/\n",
      "/home/aliche/dataWork/ali/MECLesion_SleepData/Marta/Rat3906/LinearTrack_06-01-16_Day2/parrentData/\n",
      "/home/aliche/dataWork/ali/MECLesion_SleepData/Marta/Rat3906/LinearTrack_06-02-16_Day3/parrentData/\n",
      "/home/aliche/dataWork/ali/MECLesion_SleepData/Marta/Rat3906/LinearTrack_06-03-16_Day4/parrentData/\n"
     ]
    }
   ],
   "source": [
    "for item in FR_list:\n",
    "    NP=0\n",
    "    NU=0\n",
    "    pthSplit = item.split('.')[0][:-11]\n",
    "    print pthSplit\n",
    "    if pthSplit.endswith('/'):\n",
    "        fuSPK = pkl.load(open(item,'rb'))\n",
    "        try:\n",
    "            plSPK = pkl.load(open(pthSplit+'placeCells.spk','rb'))\n",
    "            #print plSPK.id_list.size\n",
    "            NP += plSPK.id_list.size\n",
    "        except IOError:\n",
    "            print 'No PL'\n",
    "        #print fuSPK.id_list.size\n",
    "        #print '--------------------------------------------'\n",
    "        NU+=fuSPK.id_list.size\n",
    "        isControl = np.array([pthSplit.find(tag)>0 for tag in controlIDs]).sum()\n",
    "        if isControl:\n",
    "            df = df.append([{'Nu':NU,'Np':NP,'group':'Cnt'}],ignore_index=True)\n",
    "        else:\n",
    "            df = df.append([{'Nu':NU,'Np':NP,'group':'Les'}],ignore_index=True)"
   ]
  },
  {
   "cell_type": "code",
   "execution_count": 90,
   "metadata": {},
   "outputs": [
    {
     "data": {
      "text/plain": [
       "<seaborn.axisgrid.PairGrid at 0x7f7d836ac410>"
      ]
     },
     "execution_count": 90,
     "metadata": {},
     "output_type": "execute_result"
    }
   ],
   "source": [
    "sns.pairplot(df[df.Np>0],hue='group')"
   ]
  },
  {
   "cell_type": "code",
   "execution_count": 98,
   "metadata": {},
   "outputs": [
    {
     "data": {
      "text/plain": [
       "((9, 3), (17, 3))"
      ]
     },
     "execution_count": 98,
     "metadata": {},
     "output_type": "execute_result"
    }
   ],
   "source": [
    "df[df.group=='Cnt'].shape,df[df.group=='Les'].shape"
   ]
  },
  {
   "cell_type": "code",
   "execution_count": 29,
   "metadata": {},
   "outputs": [
    {
     "ename": "AttributeError",
     "evalue": "Cannot access callable attribute 'get' of 'DataFrameGroupBy' objects, try using the 'apply' method",
     "output_type": "error",
     "traceback": [
      "\u001b[0;31m---------------------------------------------------------------------------\u001b[0m",
      "\u001b[0;31mAttributeError\u001b[0m                            Traceback (most recent call last)",
      "\u001b[0;32m<ipython-input-29-d555850be521>\u001b[0m in \u001b[0;36m<module>\u001b[0;34m()\u001b[0m\n\u001b[0;32m----> 1\u001b[0;31m \u001b[0msns\u001b[0m\u001b[0;34m.\u001b[0m\u001b[0mjointplot\u001b[0m\u001b[0;34m(\u001b[0m\u001b[0;34m\"Nu\"\u001b[0m\u001b[0;34m,\u001b[0m\u001b[0;34m\"Np\"\u001b[0m\u001b[0;34m,\u001b[0m\u001b[0mdata\u001b[0m\u001b[0;34m=\u001b[0m\u001b[0mdf\u001b[0m\u001b[0;34m.\u001b[0m\u001b[0mgroupby\u001b[0m\u001b[0;34m(\u001b[0m\u001b[0;34m'group'\u001b[0m\u001b[0;34m)\u001b[0m\u001b[0;34m)\u001b[0m\u001b[0;31m#,color=['r','g'])\u001b[0m\u001b[0;34m\u001b[0m\u001b[0m\n\u001b[0m",
      "\u001b[0;32m/home/aliche/anaconda3/envs/py27/lib/python2.7/site-packages/seaborn/axisgrid.pyc\u001b[0m in \u001b[0;36mjointplot\u001b[0;34m(x, y, data, kind, stat_func, color, size, ratio, space, dropna, xlim, ylim, joint_kws, marginal_kws, annot_kws, **kwargs)\u001b[0m\n\u001b[1;32m   2239\u001b[0m     grid = JointGrid(x, y, data, dropna=dropna,\n\u001b[1;32m   2240\u001b[0m                      \u001b[0msize\u001b[0m\u001b[0;34m=\u001b[0m\u001b[0msize\u001b[0m\u001b[0;34m,\u001b[0m \u001b[0mratio\u001b[0m\u001b[0;34m=\u001b[0m\u001b[0mratio\u001b[0m\u001b[0;34m,\u001b[0m \u001b[0mspace\u001b[0m\u001b[0;34m=\u001b[0m\u001b[0mspace\u001b[0m\u001b[0;34m,\u001b[0m\u001b[0;34m\u001b[0m\u001b[0m\n\u001b[0;32m-> 2241\u001b[0;31m                      xlim=xlim, ylim=ylim)\n\u001b[0m\u001b[1;32m   2242\u001b[0m \u001b[0;34m\u001b[0m\u001b[0m\n\u001b[1;32m   2243\u001b[0m     \u001b[0;31m# Plot the data using the grid\u001b[0m\u001b[0;34m\u001b[0m\u001b[0;34m\u001b[0m\u001b[0m\n",
      "\u001b[0;32m/home/aliche/anaconda3/envs/py27/lib/python2.7/site-packages/seaborn/axisgrid.pyc\u001b[0m in \u001b[0;36m__init__\u001b[0;34m(self, x, y, data, size, ratio, space, dropna, xlim, ylim)\u001b[0m\n\u001b[1;32m   1675\u001b[0m         \u001b[0;31m# Possibly extract the variables from a DataFrame\u001b[0m\u001b[0;34m\u001b[0m\u001b[0;34m\u001b[0m\u001b[0m\n\u001b[1;32m   1676\u001b[0m         \u001b[0;32mif\u001b[0m \u001b[0mdata\u001b[0m \u001b[0;32mis\u001b[0m \u001b[0;32mnot\u001b[0m \u001b[0mNone\u001b[0m\u001b[0;34m:\u001b[0m\u001b[0;34m\u001b[0m\u001b[0m\n\u001b[0;32m-> 1677\u001b[0;31m             \u001b[0mx\u001b[0m \u001b[0;34m=\u001b[0m \u001b[0mdata\u001b[0m\u001b[0;34m.\u001b[0m\u001b[0mget\u001b[0m\u001b[0;34m(\u001b[0m\u001b[0mx\u001b[0m\u001b[0;34m,\u001b[0m \u001b[0mx\u001b[0m\u001b[0;34m)\u001b[0m\u001b[0;34m\u001b[0m\u001b[0m\n\u001b[0m\u001b[1;32m   1678\u001b[0m             \u001b[0my\u001b[0m \u001b[0;34m=\u001b[0m \u001b[0mdata\u001b[0m\u001b[0;34m.\u001b[0m\u001b[0mget\u001b[0m\u001b[0;34m(\u001b[0m\u001b[0my\u001b[0m\u001b[0;34m,\u001b[0m \u001b[0my\u001b[0m\u001b[0;34m)\u001b[0m\u001b[0;34m\u001b[0m\u001b[0m\n\u001b[1;32m   1679\u001b[0m \u001b[0;34m\u001b[0m\u001b[0m\n",
      "\u001b[0;32m/home/aliche/anaconda3/envs/py27/lib/python2.7/site-packages/pandas/core/groupby.pyc\u001b[0m in \u001b[0;36m__getattr__\u001b[0;34m(self, attr)\u001b[0m\n\u001b[1;32m    671\u001b[0m             \u001b[0;32mreturn\u001b[0m \u001b[0mself\u001b[0m\u001b[0;34m[\u001b[0m\u001b[0mattr\u001b[0m\u001b[0;34m]\u001b[0m\u001b[0;34m\u001b[0m\u001b[0m\n\u001b[1;32m    672\u001b[0m         \u001b[0;32mif\u001b[0m \u001b[0mhasattr\u001b[0m\u001b[0;34m(\u001b[0m\u001b[0mself\u001b[0m\u001b[0;34m.\u001b[0m\u001b[0mobj\u001b[0m\u001b[0;34m,\u001b[0m \u001b[0mattr\u001b[0m\u001b[0;34m)\u001b[0m\u001b[0;34m:\u001b[0m\u001b[0;34m\u001b[0m\u001b[0m\n\u001b[0;32m--> 673\u001b[0;31m             \u001b[0;32mreturn\u001b[0m \u001b[0mself\u001b[0m\u001b[0;34m.\u001b[0m\u001b[0m_make_wrapper\u001b[0m\u001b[0;34m(\u001b[0m\u001b[0mattr\u001b[0m\u001b[0;34m)\u001b[0m\u001b[0;34m\u001b[0m\u001b[0m\n\u001b[0m\u001b[1;32m    674\u001b[0m \u001b[0;34m\u001b[0m\u001b[0m\n\u001b[1;32m    675\u001b[0m         raise AttributeError(\"%r object has no attribute %r\" %\n",
      "\u001b[0;32m/home/aliche/anaconda3/envs/py27/lib/python2.7/site-packages/pandas/core/groupby.pyc\u001b[0m in \u001b[0;36m_make_wrapper\u001b[0;34m(self, name)\u001b[0m\n\u001b[1;32m    685\u001b[0m                    \"using the 'apply' method\".format(kind, name,\n\u001b[1;32m    686\u001b[0m                                                      type(self).__name__))\n\u001b[0;32m--> 687\u001b[0;31m             \u001b[0;32mraise\u001b[0m \u001b[0mAttributeError\u001b[0m\u001b[0;34m(\u001b[0m\u001b[0mmsg\u001b[0m\u001b[0;34m)\u001b[0m\u001b[0;34m\u001b[0m\u001b[0m\n\u001b[0m\u001b[1;32m    688\u001b[0m \u001b[0;34m\u001b[0m\u001b[0m\n\u001b[1;32m    689\u001b[0m         \u001b[0;31m# need to setup the selection\u001b[0m\u001b[0;34m\u001b[0m\u001b[0;34m\u001b[0m\u001b[0m\n",
      "\u001b[0;31mAttributeError\u001b[0m: Cannot access callable attribute 'get' of 'DataFrameGroupBy' objects, try using the 'apply' method"
     ]
    }
   ],
   "source": [
    "sns.jointplot(\"Nu\",\"Np\",data=df.groupby('group'))#,color=['r','g'])"
   ]
  },
  {
   "cell_type": "code",
   "execution_count": 17,
   "metadata": {},
   "outputs": [],
   "source": [
    "tips = sns.load_dataset(\"tips\")\n",
    "g = sns.jointplot(x=\"total_bill\", y=\"tip\", data=tips)"
   ]
  },
  {
   "cell_type": "code",
   "execution_count": 99,
   "metadata": {},
   "outputs": [],
   "source": [
    "df.Np = np.int16(df.Np)\n",
    "df.Nu = np.int16(df.Nu)"
   ]
  },
  {
   "cell_type": "code",
   "execution_count": 103,
   "metadata": {},
   "outputs": [
    {
     "data": {
      "text/plain": [
       "Text(68.4689,0.5,u'Number of place cells')"
      ]
     },
     "execution_count": 103,
     "metadata": {},
     "output_type": "execute_result"
    }
   ],
   "source": [
    "sns.lmplot(x=\"Nu\", y=\"Np\", hue=\"group\", data=df,markers=[\"o\", \"x\"], palette=\"Set1\",ci=0.0066,fit_reg=True,robust=True)\n",
    "pl.xlabel('Number of all firing units')\n",
    "pl.ylabel('Number of place cells')"
   ]
  },
  {
   "cell_type": "code",
   "execution_count": 102,
   "metadata": {},
   "outputs": [
    {
     "name": "stdout",
     "output_type": "stream",
     "text": [
      "Intercept    3.605311e-02\n",
      "Nu           5.662635e-08\n",
      "dtype: float64                             OLS Regression Results                            \n",
      "==============================================================================\n",
      "Dep. Variable:                     Np   R-squared:                       0.867\n",
      "Model:                            OLS   Adj. R-squared:                  0.859\n",
      "Method:                 Least Squares   F-statistic:                     98.11\n",
      "Date:                 So, 20 Mai 2018   Prob (F-statistic):           5.66e-08\n",
      "Time:                        21:48:19   Log-Likelihood:                -46.195\n",
      "No. Observations:                  17   AIC:                             96.39\n",
      "Df Residuals:                      15   BIC:                             98.06\n",
      "Df Model:                           1                                         \n",
      "Covariance Type:            nonrobust                                         \n",
      "==============================================================================\n",
      "                 coef    std err          t      P>|t|      [0.025      0.975]\n",
      "------------------------------------------------------------------------------\n",
      "Intercept     -5.1224      2.225     -2.302      0.036      -9.864      -0.380\n",
      "Nu             0.4851      0.049      9.905      0.000       0.381       0.589\n",
      "==============================================================================\n",
      "Omnibus:                        0.111   Durbin-Watson:                   2.552\n",
      "Prob(Omnibus):                  0.946   Jarque-Bera (JB):                0.281\n",
      "Skew:                           0.150   Prob(JB):                        0.869\n",
      "Kurtosis:                       2.446   Cond. No.                         107.\n",
      "==============================================================================\n",
      "\n",
      "Warnings:\n",
      "[1] Standard Errors assume that the covariance matrix of the errors is correctly specified.\n",
      "Nu    0.000002\n",
      "dtype: float64                             OLS Regression Results                            \n",
      "==============================================================================\n",
      "Dep. Variable:                     Np   R-squared:                       0.947\n",
      "Model:                            OLS   Adj. R-squared:                  0.941\n",
      "Method:                 Least Squares   F-statistic:                     143.3\n",
      "Date:                 So, 20 Mai 2018   Prob (F-statistic):           2.18e-06\n",
      "Time:                        21:48:19   Log-Likelihood:                -32.617\n",
      "No. Observations:                   9   AIC:                             67.23\n",
      "Df Residuals:                       8   BIC:                             67.43\n",
      "Df Model:                           1                                         \n",
      "Covariance Type:            nonrobust                                         \n",
      "==============================================================================\n",
      "                 coef    std err          t      P>|t|      [0.025      0.975]\n",
      "------------------------------------------------------------------------------\n",
      "Nu             0.5099      0.043     11.971      0.000       0.412       0.608\n",
      "==============================================================================\n",
      "Omnibus:                       17.328   Durbin-Watson:                   2.180\n",
      "Prob(Omnibus):                  0.000   Jarque-Bera (JB):                8.273\n",
      "Skew:                           1.884   Prob(JB):                       0.0160\n",
      "Kurtosis:                       5.803   Cond. No.                         1.00\n",
      "==============================================================================\n",
      "\n",
      "Warnings:\n",
      "[1] Standard Errors assume that the covariance matrix of the errors is correctly specified.\n"
     ]
    },
    {
     "name": "stderr",
     "output_type": "stream",
     "text": [
      "/home/aliche/anaconda3/envs/py27/lib/python2.7/site-packages/scipy/stats/stats.py:1390: UserWarning: kurtosistest only valid for n>=20 ... continuing anyway, n=17\n",
      "  \"anyway, n=%i\" % int(n))\n",
      "/home/aliche/anaconda3/envs/py27/lib/python2.7/site-packages/scipy/stats/stats.py:1390: UserWarning: kurtosistest only valid for n>=20 ... continuing anyway, n=9\n",
      "  \"anyway, n=%i\" % int(n))\n"
     ]
    }
   ],
   "source": [
    "from statsmodels.formula.api import ols\n",
    "llm = ols('Np~Nu',df[df.group=='Les']).fit()\n",
    "print llm.pvalues,llm.summary()\n",
    "lx = lambda x:llm.params[1]*x+llm.params[0]\n",
    "clm = ols('Np~Nu-1',df[df.group=='Cnt']).fit()\n",
    "print clm.pvalues,clm.summary()\n",
    "cx = lambda x:clm.params[0]*x"
   ]
  },
  {
   "cell_type": "code",
   "execution_count": 86,
   "metadata": {},
   "outputs": [
    {
     "data": {
      "text/plain": [
       "[<matplotlib.lines.Line2D at 0x7f7d8166cb10>]"
      ]
     },
     "execution_count": 86,
     "metadata": {},
     "output_type": "execute_result"
    }
   ],
   "source": [
    "xxx = np.array([df[df.group=='Cnt'].Nu.min(),df[df.group=='Cnt'].Nu.max()])\n",
    "pl.plot(xxx,cx(xxx),c='r')\n",
    "pl.plot(xxx,lx(xxx))"
   ]
  },
  {
   "cell_type": "code",
   "execution_count": 72,
   "metadata": {},
   "outputs": [
    {
     "data": {
      "text/plain": [
       "array([0.        , 0.36488485, 0.7297697 ])"
      ]
     },
     "execution_count": 72,
     "metadata": {},
     "output_type": "execute_result"
    }
   ],
   "source": [
    "lx(np.array([0,1,2]))"
   ]
  },
  {
   "cell_type": "code",
   "execution_count": 55,
   "metadata": {},
   "outputs": [
    {
     "data": {
      "text/plain": [
       "Nu       109\n",
       "Np        52\n",
       "group    Les\n",
       "dtype: object"
      ]
     },
     "execution_count": 55,
     "metadata": {},
     "output_type": "execute_result"
    }
   ],
   "source": [
    "\n",
    "df.max()"
   ]
  },
  {
   "cell_type": "code",
   "execution_count": 76,
   "metadata": {},
   "outputs": [
    {
     "ename": "TypeError",
     "evalue": "lmplot() takes at least 3 arguments (0 given)",
     "output_type": "error",
     "traceback": [
      "\u001b[0;31m---------------------------------------------------------------------------\u001b[0m",
      "\u001b[0;31mTypeError\u001b[0m                                 Traceback (most recent call last)",
      "\u001b[0;32m<ipython-input-76-ab0bf748786d>\u001b[0m in \u001b[0;36m<module>\u001b[0;34m()\u001b[0m\n\u001b[0;32m----> 1\u001b[0;31m \u001b[0msns\u001b[0m\u001b[0;34m.\u001b[0m\u001b[0mlmplot\u001b[0m\u001b[0;34m(\u001b[0m\u001b[0;34m)\u001b[0m\u001b[0;34m\u001b[0m\u001b[0m\n\u001b[0m",
      "\u001b[0;31mTypeError\u001b[0m: lmplot() takes at least 3 arguments (0 given)"
     ]
    }
   ],
   "source": [
    "sns.lmplot()"
   ]
  },
  {
   "cell_type": "code",
   "execution_count": null,
   "metadata": {},
   "outputs": [],
   "source": []
  }
 ],
 "metadata": {
  "kernelspec": {
   "display_name": "Python 2",
   "language": "python",
   "name": "python2"
  },
  "language_info": {
   "codemirror_mode": {
    "name": "ipython",
    "version": 2
   },
   "file_extension": ".py",
   "mimetype": "text/x-python",
   "name": "python",
   "nbconvert_exporter": "python",
   "pygments_lexer": "ipython2",
   "version": "2.7.14"
  }
 },
 "nbformat": 4,
 "nbformat_minor": 2
}
