{
 "cells": [
  {
   "cell_type": "code",
   "execution_count": 1,
   "metadata": {},
   "outputs": [
    {
     "data": {
      "text/html": [
       "<style>.container { width:90% !important; }</style>"
      ],
      "text/plain": [
       "<IPython.core.display.HTML object>"
      ]
     },
     "metadata": {},
     "output_type": "display_data"
    }
   ],
   "source": [
    "from IPython.core.display import display, HTML\n",
    "display(HTML(\"<style>.container { width:90% !important; }</style>\"))\n",
    "import sys\n",
    "sys.path.append('/home/aliche/ownCloud/Workspaces/Eclipse/dataAnalysis/Sleep-current/src/')"
   ]
  },
  {
   "cell_type": "code",
   "execution_count": 3,
   "metadata": {},
   "outputs": [
    {
     "name": "stdout",
     "output_type": "stream",
     "text": [
      "The autoreload extension is already loaded. To reload it, use:\n",
      "  %reload_ext autoreload\n"
     ]
    }
   ],
   "source": [
    "%matplotlib inline\n",
    "%load_ext autoreload\n",
    "%autoreload 2\n",
    "import numpy as np\n",
    "import matplotlib.pyplot as pl\n",
    "import pickle as pkl\n",
    "import Recordings\n",
    "import signale,trajectory\n",
    "import extras.trees\n",
    "import os,sys\n",
    "import fnmatch\n",
    "import colormaps as cmaps\n",
    "import seaborn as sns\n",
    "import scipy.signal as scsig\n",
    "import seaborn as sns\n",
    "import random\n",
    "import pandas as pd\n",
    "from scipy.io import savemat\n",
    "from signale.tools import locate\n",
    "from os import path"
   ]
  },
  {
   "cell_type": "code",
   "execution_count": 9,
   "metadata": {},
   "outputs": [],
   "source": [
    "plSpkList = [path.join(spkpth[0],spkpth[1])for spkpth in locate('placeCells.spk','/home/aliche/dataWork/ali/MECLesion_SleepData/')]\n",
    "lfpList   = [path.join(item[0],item[1])for item in locate('*track.lfp','/home/aliche/dataWork/ali/MECLesion_SleepData/')]\n",
    "trjList   = [path.join(item[0],item[1])for item in locate('linearTrack_Trajectory.traj','/home/aliche/dataWork/ali/MECLesion_SleepData/')]"
   ]
  },
  {
   "cell_type": "code",
   "execution_count": 4,
   "metadata": {},
   "outputs": [
    {
     "data": {
      "text/plain": [
       "(33, 37)"
      ]
     },
     "execution_count": 4,
     "metadata": {},
     "output_type": "execute_result"
    }
   ],
   "source": [
    "len(plSpkList),len(lfpList)"
   ]
  },
  {
   "cell_type": "code",
   "execution_count": 7,
   "metadata": {},
   "outputs": [],
   "source": [
    "plSpkList.sort()\n",
    "lfpList.sort()"
   ]
  },
  {
   "cell_type": "code",
   "execution_count": 10,
   "metadata": {},
   "outputs": [
    {
     "name": "stdout",
     "output_type": "stream",
     "text": [
      "ms\n",
      "ms\n",
      "ms\n",
      "ms\n",
      "ms\n",
      "ms\n",
      "ms\n",
      "ms\n",
      "ms\n",
      "ms\n",
      "ms\n",
      "ms\n",
      "ms\n",
      "ms\n",
      "ms\n",
      "ms\n",
      "ms\n",
      "ms\n",
      "ms\n",
      "ms\n",
      "ms\n",
      "ms\n",
      "ms\n",
      "ms\n",
      "ms\n",
      "ms\n",
      "ms\n",
      "ms\n",
      "ms\n",
      "ms\n",
      "ms\n",
      "ms\n",
      "ms\n"
     ]
    }
   ],
   "source": [
    "for plpath in plSpkList:\n",
    "    anID    = [item for item in plpath.split('/') if item.find('Rat')>-1][0]\n",
    "    Dday    = [item for item in plpath.split('/') if item.find('Day')>-1][0]\n",
    "    lfppath = [item for item in lfpList if (item.find(Dday)>-1 and item.find(anID)>-1)][0]\n",
    "    trjpath = [item for item in trjList if (item.find(Dday)>-1 and item.find(anID)>-1)][0]\n",
    "    spk = pd.read_pickle(plpath)\n",
    "    lfp = pd.read_pickle(lfppath)\n",
    "    trj = pd.read_pickle(trjpath)\n",
    "    spk.changeTimeUnit('ms')\n",
    "    print lfp.timeUnit\n",
    "    t_i = 1e3*trj.times[0]\n",
    "    t_f = 1e3*trj.times[-1]\n",
    "    data = {}\n",
    "    for cellID in spk.id_list:\n",
    "        cell = spk[cellID]\n",
    "        cellTrk = cell.time_slice(t_i,t_f)\n",
    "        data['unit_'+str(cellID)]=cellTrk.spike_times\n",
    "        data['trajTimes']=1e3*trj.times\n",
    "        data['trajCoordinates'] = trj.places\n",
    "        data['lfpTimes'] = lfp.timeAxis\n",
    "        data['lfpSignal'] = lfp.signal\n",
    "        savemat('/home/aliche/ownCloud/IpythonNotebooks/Sleep/MEC_Lesion_Project/files/replay_DataSet/LFP_set/'+anID+'_Day'+Dday[-1]+'.mat',data)"
   ]
  },
  {
   "cell_type": "code",
   "execution_count": 8,
   "metadata": {},
   "outputs": [
    {
     "ename": "NameError",
     "evalue": "name 'lfp' is not defined",
     "output_type": "error",
     "traceback": [
      "\u001b[0;31m---------------------------------------------------------------------------\u001b[0m",
      "\u001b[0;31mNameError\u001b[0m                                 Traceback (most recent call last)",
      "\u001b[0;32m<ipython-input-8-efc43f0d026b>\u001b[0m in \u001b[0;36m<module>\u001b[0;34m()\u001b[0m\n\u001b[0;32m----> 1\u001b[0;31m \u001b[0mlfp\u001b[0m\u001b[0;34m.\u001b[0m\u001b[0mtimes\u001b[0m\u001b[0;34m.\u001b[0m\u001b[0msize\u001b[0m\u001b[0;34m,\u001b[0m\u001b[0mlfp\u001b[0m\u001b[0;34m.\u001b[0m\u001b[0msignal\u001b[0m\u001b[0;34m.\u001b[0m\u001b[0msize\u001b[0m\u001b[0;34m\u001b[0m\u001b[0m\n\u001b[0m",
      "\u001b[0;31mNameError\u001b[0m: name 'lfp' is not defined"
     ]
    }
   ],
   "source": [
    "lfp.times.size,lfp.signal.size"
   ]
  },
  {
   "cell_type": "code",
   "execution_count": 51,
   "metadata": {},
   "outputs": [
    {
     "data": {
      "text/plain": [
       "[<matplotlib.lines.Line2D at 0x7f4ddfb7c350>]"
      ]
     },
     "execution_count": 51,
     "metadata": {},
     "output_type": "execute_result"
    },
    {
     "data": {
      "image/png": "[encoded data removed]",
      "text/plain": [
       "<matplotlib.figure.Figure at 0x7f4de9886cd0>"
      ]
     },
     "metadata": {},
     "output_type": "display_data"
    }
   ],
   "source": [
    "pl.plot(lfp.signal)"
   ]
  },
  {
   "cell_type": "code",
   "execution_count": 54,
   "metadata": {},
   "outputs": [
    {
     "data": {
      "text/plain": [
       "array([22399529.868, 22399563.371, 22399596.882, ..., 23599489.625,\n",
       "       23599523.332, 23599556.715])"
      ]
     },
     "execution_count": 54,
     "metadata": {},
     "output_type": "execute_result"
    }
   ],
   "source": [
    "trj.times*1e3"
   ]
  },
  {
   "cell_type": "code",
   "execution_count": 55,
   "metadata": {},
   "outputs": [
    {
     "data": {
      "text/plain": [
       "array([22399614.898, 22399866.556, 22400118.214, ..., 23599018.07 ,\n",
       "       23599269.728, 23599521.386])"
      ]
     },
     "execution_count": 55,
     "metadata": {},
     "output_type": "execute_result"
    }
   ],
   "source": [
    "lfp.times*1e-3"
   ]
  },
  {
   "cell_type": "code",
   "execution_count": 56,
   "metadata": {},
   "outputs": [
    {
     "data": {
      "text/plain": [
       "array([ 1170026.2,  1174130. ,  1175044. , ..., 25818034. , 25818120. ,\n",
       "       25818124. ], dtype=float32)"
      ]
     },
     "execution_count": 56,
     "metadata": {},
     "output_type": "execute_result"
    }
   ],
   "source": []
  },
  {
   "cell_type": "code",
   "execution_count": null,
   "metadata": {},
   "outputs": [],
   "source": []
  }
 ],
 "metadata": {
  "kernelspec": {
   "display_name": "Python 2",
   "language": "python",
   "name": "python2"
  },
  "language_info": {
   "codemirror_mode": {
    "name": "ipython",
    "version": 2
   },
   "file_extension": ".py",
   "mimetype": "text/x-python",
   "name": "python",
   "nbconvert_exporter": "python",
   "pygments_lexer": "ipython2",
   "version": "2.7.14"
  }
 },
 "nbformat": 4,
 "nbformat_minor": 2
}
