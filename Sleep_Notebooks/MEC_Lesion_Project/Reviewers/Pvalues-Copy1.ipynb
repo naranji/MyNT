{
 "cells": [
  {
   "cell_type": "code",
   "execution_count": 1,
   "metadata": {},
   "outputs": [
    {
     "data": {
      "text/html": [
       "<style>.container { width:90% !important; }</style>"
      ],
      "text/plain": [
       "<IPython.core.display.HTML object>"
      ]
     },
     "metadata": {},
     "output_type": "display_data"
    }
   ],
   "source": [
    "from IPython.core.display import display, HTML\n",
    "display(HTML(\"<style>.container { width:90% !important; }</style>\"))\n",
    "import sys\n",
    "sys.path.append('/mnt/sdb1/ownCloud/Workspaces/Eclipse/dataAnalysis/Sleep-current/src/')"
   ]
  },
  {
   "cell_type": "code",
   "execution_count": 2,
   "metadata": {},
   "outputs": [
    {
     "name": "stderr",
     "output_type": "stream",
     "text": [
      "/mnt/sdb1/softwares/anaconda2/envs/caiman/lib/python2.7/site-packages/NeuroTools/analysis.py:34: UserWarning: \n",
      "This call to matplotlib.use() has no effect because the backend has already\n",
      "been chosen; matplotlib.use() must be called *before* pylab, matplotlib.pyplot,\n",
      "or matplotlib.backends is imported for the first time.\n",
      "\n",
      "The backend was *originally* set to 'module://ipykernel.pylab.backend_inline' by the following code:\n",
      "  File \"/mnt/sdb1/softwares/anaconda2/envs/caiman/lib/python2.7/runpy.py\", line 174, in _run_module_as_main\n",
      "    \"__main__\", fname, loader, pkg_name)\n",
      "  File \"/mnt/sdb1/softwares/anaconda2/envs/caiman/lib/python2.7/runpy.py\", line 72, in _run_code\n",
      "    exec code in run_globals\n",
      "  File \"/mnt/sdb1/softwares/anaconda2/envs/caiman/lib/python2.7/site-packages/ipykernel_launcher.py\", line 16, in <module>\n",
      "    app.launch_new_instance()\n",
      "  File \"/mnt/sdb1/softwares/anaconda2/envs/caiman/lib/python2.7/site-packages/traitlets/config/application.py\", line 658, in launch_instance\n",
      "    app.start()\n",
      "  File \"/mnt/sdb1/softwares/anaconda2/envs/caiman/lib/python2.7/site-packages/ipykernel/kernelapp.py\", line 477, in start\n",
      "    ioloop.IOLoop.instance().start()\n",
      "  File \"/mnt/sdb1/softwares/anaconda2/envs/caiman/lib/python2.7/site-packages/zmq/eventloop/ioloop.py\", line 177, in start\n",
      "    super(ZMQIOLoop, self).start()\n",
      "  File \"/mnt/sdb1/softwares/anaconda2/envs/caiman/lib/python2.7/site-packages/tornado/ioloop.py\", line 888, in start\n",
      "    handler_func(fd_obj, events)\n",
      "  File \"/mnt/sdb1/softwares/anaconda2/envs/caiman/lib/python2.7/site-packages/tornado/stack_context.py\", line 277, in null_wrapper\n",
      "    return fn(*args, **kwargs)\n",
      "  File \"/mnt/sdb1/softwares/anaconda2/envs/caiman/lib/python2.7/site-packages/zmq/eventloop/zmqstream.py\", line 440, in _handle_events\n",
      "    self._handle_recv()\n",
      "  File \"/mnt/sdb1/softwares/anaconda2/envs/caiman/lib/python2.7/site-packages/zmq/eventloop/zmqstream.py\", line 472, in _handle_recv\n",
      "    self._run_callback(callback, msg)\n",
      "  File \"/mnt/sdb1/softwares/anaconda2/envs/caiman/lib/python2.7/site-packages/zmq/eventloop/zmqstream.py\", line 414, in _run_callback\n",
      "    callback(*args, **kwargs)\n",
      "  File \"/mnt/sdb1/softwares/anaconda2/envs/caiman/lib/python2.7/site-packages/tornado/stack_context.py\", line 277, in null_wrapper\n",
      "    return fn(*args, **kwargs)\n",
      "  File \"/mnt/sdb1/softwares/anaconda2/envs/caiman/lib/python2.7/site-packages/ipykernel/kernelbase.py\", line 283, in dispatcher\n",
      "    return self.dispatch_shell(stream, msg)\n",
      "  File \"/mnt/sdb1/softwares/anaconda2/envs/caiman/lib/python2.7/site-packages/ipykernel/kernelbase.py\", line 235, in dispatch_shell\n",
      "    handler(stream, idents, msg)\n",
      "  File \"/mnt/sdb1/softwares/anaconda2/envs/caiman/lib/python2.7/site-packages/ipykernel/kernelbase.py\", line 399, in execute_request\n",
      "    user_expressions, allow_stdin)\n",
      "  File \"/mnt/sdb1/softwares/anaconda2/envs/caiman/lib/python2.7/site-packages/ipykernel/ipkernel.py\", line 196, in do_execute\n",
      "    res = shell.run_cell(code, store_history=store_history, silent=silent)\n",
      "  File \"/mnt/sdb1/softwares/anaconda2/envs/caiman/lib/python2.7/site-packages/ipykernel/zmqshell.py\", line 533, in run_cell\n",
      "    return super(ZMQInteractiveShell, self).run_cell(*args, **kwargs)\n",
      "  File \"/mnt/sdb1/softwares/anaconda2/envs/caiman/lib/python2.7/site-packages/IPython/core/interactiveshell.py\", line 2718, in run_cell\n",
      "    interactivity=interactivity, compiler=compiler, result=result)\n",
      "  File \"/mnt/sdb1/softwares/anaconda2/envs/caiman/lib/python2.7/site-packages/IPython/core/interactiveshell.py\", line 2822, in run_ast_nodes\n",
      "    if self.run_code(code, result):\n",
      "  File \"/mnt/sdb1/softwares/anaconda2/envs/caiman/lib/python2.7/site-packages/IPython/core/interactiveshell.py\", line 2882, in run_code\n",
      "    exec(code_obj, self.user_global_ns, self.user_ns)\n",
      "  File \"<ipython-input-2-0cc1e9b748f9>\", line 1, in <module>\n",
      "    get_ipython().magic(u'matplotlib inline')\n",
      "  File \"/mnt/sdb1/softwares/anaconda2/envs/caiman/lib/python2.7/site-packages/IPython/core/interactiveshell.py\", line 2160, in magic\n",
      "    return self.run_line_magic(magic_name, magic_arg_s)\n",
      "  File \"/mnt/sdb1/softwares/anaconda2/envs/caiman/lib/python2.7/site-packages/IPython/core/interactiveshell.py\", line 2081, in run_line_magic\n",
      "    result = fn(*args,**kwargs)\n",
      "  File \"<decorator-gen-105>\", line 2, in matplotlib\n",
      "  File \"/mnt/sdb1/softwares/anaconda2/envs/caiman/lib/python2.7/site-packages/IPython/core/magic.py\", line 188, in <lambda>\n",
      "    call = lambda f, *a, **k: f(*a, **k)\n",
      "  File \"/mnt/sdb1/softwares/anaconda2/envs/caiman/lib/python2.7/site-packages/IPython/core/magics/pylab.py\", line 100, in matplotlib\n",
      "    gui, backend = self.shell.enable_matplotlib(args.gui)\n",
      "  File \"/mnt/sdb1/softwares/anaconda2/envs/caiman/lib/python2.7/site-packages/IPython/core/interactiveshell.py\", line 2950, in enable_matplotlib\n",
      "    pt.activate_matplotlib(backend)\n",
      "  File \"/mnt/sdb1/softwares/anaconda2/envs/caiman/lib/python2.7/site-packages/IPython/core/pylabtools.py\", line 308, in activate_matplotlib\n",
      "    matplotlib.pyplot.switch_backend(backend)\n",
      "  File \"/mnt/sdb1/softwares/anaconda2/envs/caiman/lib/python2.7/site-packages/matplotlib/pyplot.py\", line 229, in switch_backend\n",
      "    matplotlib.use(newbackend, warn=False, force=True)\n",
      "  File \"/mnt/sdb1/softwares/anaconda2/envs/caiman/lib/python2.7/site-packages/matplotlib/__init__.py\", line 1305, in use\n",
      "    reload(sys.modules['matplotlib.backends'])\n",
      "  File \"/mnt/sdb1/softwares/anaconda2/envs/caiman/lib/python2.7/site-packages/matplotlib/backends/__init__.py\", line 14, in <module>\n",
      "    line for line in traceback.format_stack()\n",
      "\n",
      "\n",
      "  matplotlib.use('Agg')\n",
      "/mnt/sdb1/softwares/anaconda2/envs/caiman/lib/python2.7/site-packages/NeuroTools/plotting.py:36: UserWarning: \n",
      "This call to matplotlib.use() has no effect because the backend has already\n",
      "been chosen; matplotlib.use() must be called *before* pylab, matplotlib.pyplot,\n",
      "or matplotlib.backends is imported for the first time.\n",
      "\n",
      "The backend was *originally* set to 'module://ipykernel.pylab.backend_inline' by the following code:\n",
      "  File \"/mnt/sdb1/softwares/anaconda2/envs/caiman/lib/python2.7/runpy.py\", line 174, in _run_module_as_main\n",
      "    \"__main__\", fname, loader, pkg_name)\n",
      "  File \"/mnt/sdb1/softwares/anaconda2/envs/caiman/lib/python2.7/runpy.py\", line 72, in _run_code\n",
      "    exec code in run_globals\n",
      "  File \"/mnt/sdb1/softwares/anaconda2/envs/caiman/lib/python2.7/site-packages/ipykernel_launcher.py\", line 16, in <module>\n",
      "    app.launch_new_instance()\n",
      "  File \"/mnt/sdb1/softwares/anaconda2/envs/caiman/lib/python2.7/site-packages/traitlets/config/application.py\", line 658, in launch_instance\n",
      "    app.start()\n",
      "  File \"/mnt/sdb1/softwares/anaconda2/envs/caiman/lib/python2.7/site-packages/ipykernel/kernelapp.py\", line 477, in start\n",
      "    ioloop.IOLoop.instance().start()\n",
      "  File \"/mnt/sdb1/softwares/anaconda2/envs/caiman/lib/python2.7/site-packages/zmq/eventloop/ioloop.py\", line 177, in start\n",
      "    super(ZMQIOLoop, self).start()\n",
      "  File \"/mnt/sdb1/softwares/anaconda2/envs/caiman/lib/python2.7/site-packages/tornado/ioloop.py\", line 888, in start\n",
      "    handler_func(fd_obj, events)\n",
      "  File \"/mnt/sdb1/softwares/anaconda2/envs/caiman/lib/python2.7/site-packages/tornado/stack_context.py\", line 277, in null_wrapper\n",
      "    return fn(*args, **kwargs)\n",
      "  File \"/mnt/sdb1/softwares/anaconda2/envs/caiman/lib/python2.7/site-packages/zmq/eventloop/zmqstream.py\", line 440, in _handle_events\n",
      "    self._handle_recv()\n",
      "  File \"/mnt/sdb1/softwares/anaconda2/envs/caiman/lib/python2.7/site-packages/zmq/eventloop/zmqstream.py\", line 472, in _handle_recv\n",
      "    self._run_callback(callback, msg)\n",
      "  File \"/mnt/sdb1/softwares/anaconda2/envs/caiman/lib/python2.7/site-packages/zmq/eventloop/zmqstream.py\", line 414, in _run_callback\n",
      "    callback(*args, **kwargs)\n",
      "  File \"/mnt/sdb1/softwares/anaconda2/envs/caiman/lib/python2.7/site-packages/tornado/stack_context.py\", line 277, in null_wrapper\n",
      "    return fn(*args, **kwargs)\n",
      "  File \"/mnt/sdb1/softwares/anaconda2/envs/caiman/lib/python2.7/site-packages/ipykernel/kernelbase.py\", line 283, in dispatcher\n",
      "    return self.dispatch_shell(stream, msg)\n",
      "  File \"/mnt/sdb1/softwares/anaconda2/envs/caiman/lib/python2.7/site-packages/ipykernel/kernelbase.py\", line 235, in dispatch_shell\n",
      "    handler(stream, idents, msg)\n",
      "  File \"/mnt/sdb1/softwares/anaconda2/envs/caiman/lib/python2.7/site-packages/ipykernel/kernelbase.py\", line 399, in execute_request\n",
      "    user_expressions, allow_stdin)\n",
      "  File \"/mnt/sdb1/softwares/anaconda2/envs/caiman/lib/python2.7/site-packages/ipykernel/ipkernel.py\", line 196, in do_execute\n",
      "    res = shell.run_cell(code, store_history=store_history, silent=silent)\n",
      "  File \"/mnt/sdb1/softwares/anaconda2/envs/caiman/lib/python2.7/site-packages/ipykernel/zmqshell.py\", line 533, in run_cell\n",
      "    return super(ZMQInteractiveShell, self).run_cell(*args, **kwargs)\n",
      "  File \"/mnt/sdb1/softwares/anaconda2/envs/caiman/lib/python2.7/site-packages/IPython/core/interactiveshell.py\", line 2718, in run_cell\n",
      "    interactivity=interactivity, compiler=compiler, result=result)\n",
      "  File \"/mnt/sdb1/softwares/anaconda2/envs/caiman/lib/python2.7/site-packages/IPython/core/interactiveshell.py\", line 2822, in run_ast_nodes\n",
      "    if self.run_code(code, result):\n",
      "  File \"/mnt/sdb1/softwares/anaconda2/envs/caiman/lib/python2.7/site-packages/IPython/core/interactiveshell.py\", line 2882, in run_code\n",
      "    exec(code_obj, self.user_global_ns, self.user_ns)\n",
      "  File \"<ipython-input-2-0cc1e9b748f9>\", line 1, in <module>\n",
      "    get_ipython().magic(u'matplotlib inline')\n",
      "  File \"/mnt/sdb1/softwares/anaconda2/envs/caiman/lib/python2.7/site-packages/IPython/core/interactiveshell.py\", line 2160, in magic\n",
      "    return self.run_line_magic(magic_name, magic_arg_s)\n",
      "  File \"/mnt/sdb1/softwares/anaconda2/envs/caiman/lib/python2.7/site-packages/IPython/core/interactiveshell.py\", line 2081, in run_line_magic\n",
      "    result = fn(*args,**kwargs)\n",
      "  File \"<decorator-gen-105>\", line 2, in matplotlib\n",
      "  File \"/mnt/sdb1/softwares/anaconda2/envs/caiman/lib/python2.7/site-packages/IPython/core/magic.py\", line 188, in <lambda>\n",
      "    call = lambda f, *a, **k: f(*a, **k)\n",
      "  File \"/mnt/sdb1/softwares/anaconda2/envs/caiman/lib/python2.7/site-packages/IPython/core/magics/pylab.py\", line 100, in matplotlib\n",
      "    gui, backend = self.shell.enable_matplotlib(args.gui)\n",
      "  File \"/mnt/sdb1/softwares/anaconda2/envs/caiman/lib/python2.7/site-packages/IPython/core/interactiveshell.py\", line 2950, in enable_matplotlib\n",
      "    pt.activate_matplotlib(backend)\n",
      "  File \"/mnt/sdb1/softwares/anaconda2/envs/caiman/lib/python2.7/site-packages/IPython/core/pylabtools.py\", line 308, in activate_matplotlib\n",
      "    matplotlib.pyplot.switch_backend(backend)\n",
      "  File \"/mnt/sdb1/softwares/anaconda2/envs/caiman/lib/python2.7/site-packages/matplotlib/pyplot.py\", line 229, in switch_backend\n",
      "    matplotlib.use(newbackend, warn=False, force=True)\n",
      "  File \"/mnt/sdb1/softwares/anaconda2/envs/caiman/lib/python2.7/site-packages/matplotlib/__init__.py\", line 1305, in use\n",
      "    reload(sys.modules['matplotlib.backends'])\n",
      "  File \"/mnt/sdb1/softwares/anaconda2/envs/caiman/lib/python2.7/site-packages/matplotlib/backends/__init__.py\", line 14, in <module>\n",
      "    line for line in traceback.format_stack()\n",
      "\n",
      "\n",
      "  use('Agg')\n",
      "/mnt/sdb1/softwares/anaconda2/envs/caiman/lib/python2.7/site-packages/NeuroTools/__init__.py:125: DependencyWarning: ** interval ** package is not installed.\n",
      "To have functions using interval please install the package.\n",
      "website : http://pypi.python.org/pypi/interval/1.0.0\n",
      "\n",
      "  warnings.warn(get_import_warning(name), DependencyWarning)\n",
      "/mnt/sdb1/softwares/anaconda2/envs/caiman/lib/python2.7/site-packages/NeuroTools/signals/spikes.py:44: UserWarning: \n",
      "This call to matplotlib.use() has no effect because the backend has already\n",
      "been chosen; matplotlib.use() must be called *before* pylab, matplotlib.pyplot,\n",
      "or matplotlib.backends is imported for the first time.\n",
      "\n",
      "The backend was *originally* set to 'module://ipykernel.pylab.backend_inline' by the following code:\n",
      "  File \"/mnt/sdb1/softwares/anaconda2/envs/caiman/lib/python2.7/runpy.py\", line 174, in _run_module_as_main\n",
      "    \"__main__\", fname, loader, pkg_name)\n",
      "  File \"/mnt/sdb1/softwares/anaconda2/envs/caiman/lib/python2.7/runpy.py\", line 72, in _run_code\n",
      "    exec code in run_globals\n",
      "  File \"/mnt/sdb1/softwares/anaconda2/envs/caiman/lib/python2.7/site-packages/ipykernel_launcher.py\", line 16, in <module>\n",
      "    app.launch_new_instance()\n",
      "  File \"/mnt/sdb1/softwares/anaconda2/envs/caiman/lib/python2.7/site-packages/traitlets/config/application.py\", line 658, in launch_instance\n",
      "    app.start()\n",
      "  File \"/mnt/sdb1/softwares/anaconda2/envs/caiman/lib/python2.7/site-packages/ipykernel/kernelapp.py\", line 477, in start\n",
      "    ioloop.IOLoop.instance().start()\n",
      "  File \"/mnt/sdb1/softwares/anaconda2/envs/caiman/lib/python2.7/site-packages/zmq/eventloop/ioloop.py\", line 177, in start\n",
      "    super(ZMQIOLoop, self).start()\n",
      "  File \"/mnt/sdb1/softwares/anaconda2/envs/caiman/lib/python2.7/site-packages/tornado/ioloop.py\", line 888, in start\n",
      "    handler_func(fd_obj, events)\n",
      "  File \"/mnt/sdb1/softwares/anaconda2/envs/caiman/lib/python2.7/site-packages/tornado/stack_context.py\", line 277, in null_wrapper\n",
      "    return fn(*args, **kwargs)\n",
      "  File \"/mnt/sdb1/softwares/anaconda2/envs/caiman/lib/python2.7/site-packages/zmq/eventloop/zmqstream.py\", line 440, in _handle_events\n",
      "    self._handle_recv()\n",
      "  File \"/mnt/sdb1/softwares/anaconda2/envs/caiman/lib/python2.7/site-packages/zmq/eventloop/zmqstream.py\", line 472, in _handle_recv\n",
      "    self._run_callback(callback, msg)\n",
      "  File \"/mnt/sdb1/softwares/anaconda2/envs/caiman/lib/python2.7/site-packages/zmq/eventloop/zmqstream.py\", line 414, in _run_callback\n",
      "    callback(*args, **kwargs)\n",
      "  File \"/mnt/sdb1/softwares/anaconda2/envs/caiman/lib/python2.7/site-packages/tornado/stack_context.py\", line 277, in null_wrapper\n",
      "    return fn(*args, **kwargs)\n",
      "  File \"/mnt/sdb1/softwares/anaconda2/envs/caiman/lib/python2.7/site-packages/ipykernel/kernelbase.py\", line 283, in dispatcher\n",
      "    return self.dispatch_shell(stream, msg)\n",
      "  File \"/mnt/sdb1/softwares/anaconda2/envs/caiman/lib/python2.7/site-packages/ipykernel/kernelbase.py\", line 235, in dispatch_shell\n",
      "    handler(stream, idents, msg)\n",
      "  File \"/mnt/sdb1/softwares/anaconda2/envs/caiman/lib/python2.7/site-packages/ipykernel/kernelbase.py\", line 399, in execute_request\n",
      "    user_expressions, allow_stdin)\n",
      "  File \"/mnt/sdb1/softwares/anaconda2/envs/caiman/lib/python2.7/site-packages/ipykernel/ipkernel.py\", line 196, in do_execute\n",
      "    res = shell.run_cell(code, store_history=store_history, silent=silent)\n",
      "  File \"/mnt/sdb1/softwares/anaconda2/envs/caiman/lib/python2.7/site-packages/ipykernel/zmqshell.py\", line 533, in run_cell\n",
      "    return super(ZMQInteractiveShell, self).run_cell(*args, **kwargs)\n",
      "  File \"/mnt/sdb1/softwares/anaconda2/envs/caiman/lib/python2.7/site-packages/IPython/core/interactiveshell.py\", line 2718, in run_cell\n",
      "    interactivity=interactivity, compiler=compiler, result=result)\n",
      "  File \"/mnt/sdb1/softwares/anaconda2/envs/caiman/lib/python2.7/site-packages/IPython/core/interactiveshell.py\", line 2822, in run_ast_nodes\n",
      "    if self.run_code(code, result):\n",
      "  File \"/mnt/sdb1/softwares/anaconda2/envs/caiman/lib/python2.7/site-packages/IPython/core/interactiveshell.py\", line 2882, in run_code\n",
      "    exec(code_obj, self.user_global_ns, self.user_ns)\n",
      "  File \"<ipython-input-2-0cc1e9b748f9>\", line 1, in <module>\n",
      "    get_ipython().magic(u'matplotlib inline')\n",
      "  File \"/mnt/sdb1/softwares/anaconda2/envs/caiman/lib/python2.7/site-packages/IPython/core/interactiveshell.py\", line 2160, in magic\n",
      "    return self.run_line_magic(magic_name, magic_arg_s)\n",
      "  File \"/mnt/sdb1/softwares/anaconda2/envs/caiman/lib/python2.7/site-packages/IPython/core/interactiveshell.py\", line 2081, in run_line_magic\n",
      "    result = fn(*args,**kwargs)\n",
      "  File \"<decorator-gen-105>\", line 2, in matplotlib\n",
      "  File \"/mnt/sdb1/softwares/anaconda2/envs/caiman/lib/python2.7/site-packages/IPython/core/magic.py\", line 188, in <lambda>\n",
      "    call = lambda f, *a, **k: f(*a, **k)\n",
      "  File \"/mnt/sdb1/softwares/anaconda2/envs/caiman/lib/python2.7/site-packages/IPython/core/magics/pylab.py\", line 100, in matplotlib\n",
      "    gui, backend = self.shell.enable_matplotlib(args.gui)\n",
      "  File \"/mnt/sdb1/softwares/anaconda2/envs/caiman/lib/python2.7/site-packages/IPython/core/interactiveshell.py\", line 2950, in enable_matplotlib\n",
      "    pt.activate_matplotlib(backend)\n",
      "  File \"/mnt/sdb1/softwares/anaconda2/envs/caiman/lib/python2.7/site-packages/IPython/core/pylabtools.py\", line 308, in activate_matplotlib\n",
      "    matplotlib.pyplot.switch_backend(backend)\n",
      "  File \"/mnt/sdb1/softwares/anaconda2/envs/caiman/lib/python2.7/site-packages/matplotlib/pyplot.py\", line 229, in switch_backend\n",
      "    matplotlib.use(newbackend, warn=False, force=True)\n",
      "  File \"/mnt/sdb1/softwares/anaconda2/envs/caiman/lib/python2.7/site-packages/matplotlib/__init__.py\", line 1305, in use\n",
      "    reload(sys.modules['matplotlib.backends'])\n",
      "  File \"/mnt/sdb1/softwares/anaconda2/envs/caiman/lib/python2.7/site-packages/matplotlib/backends/__init__.py\", line 14, in <module>\n",
      "    line for line in traceback.format_stack()\n",
      "\n",
      "\n",
      "  matplotlib.use('Agg')\n",
      "/mnt/sdb1/softwares/anaconda2/envs/caiman/lib/python2.7/site-packages/NeuroTools/signals/analogs.py:41: UserWarning: \n",
      "This call to matplotlib.use() has no effect because the backend has already\n",
      "been chosen; matplotlib.use() must be called *before* pylab, matplotlib.pyplot,\n",
      "or matplotlib.backends is imported for the first time.\n",
      "\n",
      "The backend was *originally* set to 'module://ipykernel.pylab.backend_inline' by the following code:\n",
      "  File \"/mnt/sdb1/softwares/anaconda2/envs/caiman/lib/python2.7/runpy.py\", line 174, in _run_module_as_main\n",
      "    \"__main__\", fname, loader, pkg_name)\n",
      "  File \"/mnt/sdb1/softwares/anaconda2/envs/caiman/lib/python2.7/runpy.py\", line 72, in _run_code\n",
      "    exec code in run_globals\n",
      "  File \"/mnt/sdb1/softwares/anaconda2/envs/caiman/lib/python2.7/site-packages/ipykernel_launcher.py\", line 16, in <module>\n",
      "    app.launch_new_instance()\n",
      "  File \"/mnt/sdb1/softwares/anaconda2/envs/caiman/lib/python2.7/site-packages/traitlets/config/application.py\", line 658, in launch_instance\n",
      "    app.start()\n",
      "  File \"/mnt/sdb1/softwares/anaconda2/envs/caiman/lib/python2.7/site-packages/ipykernel/kernelapp.py\", line 477, in start\n",
      "    ioloop.IOLoop.instance().start()\n",
      "  File \"/mnt/sdb1/softwares/anaconda2/envs/caiman/lib/python2.7/site-packages/zmq/eventloop/ioloop.py\", line 177, in start\n",
      "    super(ZMQIOLoop, self).start()\n",
      "  File \"/mnt/sdb1/softwares/anaconda2/envs/caiman/lib/python2.7/site-packages/tornado/ioloop.py\", line 888, in start\n",
      "    handler_func(fd_obj, events)\n",
      "  File \"/mnt/sdb1/softwares/anaconda2/envs/caiman/lib/python2.7/site-packages/tornado/stack_context.py\", line 277, in null_wrapper\n",
      "    return fn(*args, **kwargs)\n",
      "  File \"/mnt/sdb1/softwares/anaconda2/envs/caiman/lib/python2.7/site-packages/zmq/eventloop/zmqstream.py\", line 440, in _handle_events\n",
      "    self._handle_recv()\n",
      "  File \"/mnt/sdb1/softwares/anaconda2/envs/caiman/lib/python2.7/site-packages/zmq/eventloop/zmqstream.py\", line 472, in _handle_recv\n",
      "    self._run_callback(callback, msg)\n",
      "  File \"/mnt/sdb1/softwares/anaconda2/envs/caiman/lib/python2.7/site-packages/zmq/eventloop/zmqstream.py\", line 414, in _run_callback\n",
      "    callback(*args, **kwargs)\n",
      "  File \"/mnt/sdb1/softwares/anaconda2/envs/caiman/lib/python2.7/site-packages/tornado/stack_context.py\", line 277, in null_wrapper\n",
      "    return fn(*args, **kwargs)\n",
      "  File \"/mnt/sdb1/softwares/anaconda2/envs/caiman/lib/python2.7/site-packages/ipykernel/kernelbase.py\", line 283, in dispatcher\n",
      "    return self.dispatch_shell(stream, msg)\n",
      "  File \"/mnt/sdb1/softwares/anaconda2/envs/caiman/lib/python2.7/site-packages/ipykernel/kernelbase.py\", line 235, in dispatch_shell\n",
      "    handler(stream, idents, msg)\n",
      "  File \"/mnt/sdb1/softwares/anaconda2/envs/caiman/lib/python2.7/site-packages/ipykernel/kernelbase.py\", line 399, in execute_request\n",
      "    user_expressions, allow_stdin)\n",
      "  File \"/mnt/sdb1/softwares/anaconda2/envs/caiman/lib/python2.7/site-packages/ipykernel/ipkernel.py\", line 196, in do_execute\n",
      "    res = shell.run_cell(code, store_history=store_history, silent=silent)\n",
      "  File \"/mnt/sdb1/softwares/anaconda2/envs/caiman/lib/python2.7/site-packages/ipykernel/zmqshell.py\", line 533, in run_cell\n",
      "    return super(ZMQInteractiveShell, self).run_cell(*args, **kwargs)\n",
      "  File \"/mnt/sdb1/softwares/anaconda2/envs/caiman/lib/python2.7/site-packages/IPython/core/interactiveshell.py\", line 2718, in run_cell\n",
      "    interactivity=interactivity, compiler=compiler, result=result)\n",
      "  File \"/mnt/sdb1/softwares/anaconda2/envs/caiman/lib/python2.7/site-packages/IPython/core/interactiveshell.py\", line 2822, in run_ast_nodes\n",
      "    if self.run_code(code, result):\n",
      "  File \"/mnt/sdb1/softwares/anaconda2/envs/caiman/lib/python2.7/site-packages/IPython/core/interactiveshell.py\", line 2882, in run_code\n",
      "    exec(code_obj, self.user_global_ns, self.user_ns)\n",
      "  File \"<ipython-input-2-0cc1e9b748f9>\", line 1, in <module>\n",
      "    get_ipython().magic(u'matplotlib inline')\n",
      "  File \"/mnt/sdb1/softwares/anaconda2/envs/caiman/lib/python2.7/site-packages/IPython/core/interactiveshell.py\", line 2160, in magic\n",
      "    return self.run_line_magic(magic_name, magic_arg_s)\n",
      "  File \"/mnt/sdb1/softwares/anaconda2/envs/caiman/lib/python2.7/site-packages/IPython/core/interactiveshell.py\", line 2081, in run_line_magic\n",
      "    result = fn(*args,**kwargs)\n",
      "  File \"<decorator-gen-105>\", line 2, in matplotlib\n",
      "  File \"/mnt/sdb1/softwares/anaconda2/envs/caiman/lib/python2.7/site-packages/IPython/core/magic.py\", line 188, in <lambda>\n",
      "    call = lambda f, *a, **k: f(*a, **k)\n",
      "  File \"/mnt/sdb1/softwares/anaconda2/envs/caiman/lib/python2.7/site-packages/IPython/core/magics/pylab.py\", line 100, in matplotlib\n",
      "    gui, backend = self.shell.enable_matplotlib(args.gui)\n",
      "  File \"/mnt/sdb1/softwares/anaconda2/envs/caiman/lib/python2.7/site-packages/IPython/core/interactiveshell.py\", line 2950, in enable_matplotlib\n",
      "    pt.activate_matplotlib(backend)\n",
      "  File \"/mnt/sdb1/softwares/anaconda2/envs/caiman/lib/python2.7/site-packages/IPython/core/pylabtools.py\", line 308, in activate_matplotlib\n",
      "    matplotlib.pyplot.switch_backend(backend)\n",
      "  File \"/mnt/sdb1/softwares/anaconda2/envs/caiman/lib/python2.7/site-packages/matplotlib/pyplot.py\", line 229, in switch_backend\n",
      "    matplotlib.use(newbackend, warn=False, force=True)\n",
      "  File \"/mnt/sdb1/softwares/anaconda2/envs/caiman/lib/python2.7/site-packages/matplotlib/__init__.py\", line 1305, in use\n",
      "    reload(sys.modules['matplotlib.backends'])\n",
      "  File \"/mnt/sdb1/softwares/anaconda2/envs/caiman/lib/python2.7/site-packages/matplotlib/backends/__init__.py\", line 14, in <module>\n",
      "    line for line in traceback.format_stack()\n",
      "\n",
      "\n",
      "  matplotlib.use('Agg')\n",
      "/mnt/sdb1/softwares/anaconda2/envs/caiman/lib/python2.7/site-packages/statsmodels/compat/pandas.py:56: FutureWarning: The pandas.core.datetools module is deprecated and will be removed in a future version. Please use the pandas.tseries module instead.\n",
      "  from pandas.core import datetools\n"
     ]
    }
   ],
   "source": [
    "%matplotlib inline\n",
    "%load_ext autoreload\n",
    "%autoreload 2\n",
    "import numpy as np\n",
    "import matplotlib.pyplot as pl\n",
    "import pickle as pkl\n",
    "import fnmatch,os\n",
    "import itertools\n",
    "import statsmodels.formula.api as sm\n",
    "from scipy.stats import pearsonr,ttest_ind,ranksums,linregress,ks_2samp,entropy,mannwhitneyu,spearmanr,wilcoxon\n",
    "import pandas as pd\n",
    "import seaborn as sns\n",
    "from signale.tools import locate"
   ]
  },
  {
   "cell_type": "code",
   "execution_count": 26,
   "metadata": {},
   "outputs": [],
   "source": [
    "lesTh  =  ['/mnt/sdb1/ownCloud/IpythonNotebooks/Sleep/MEC_Lesion_Project/PCA_MEC/DATA_REV/Rat3656-D1.db-theta-vis.lsn',\n",
    "            '/mnt/sdb1/ownCloud/IpythonNotebooks/Sleep/MEC_Lesion_Project/PCA_MEC/DATA_REV/Rat3754-D2.db-theta-vis.lsn',\n",
    "            '/mnt/sdb1/ownCloud/IpythonNotebooks/Sleep/MEC_Lesion_Project/PCA_MEC/DATA_REV/Rat3837-D1.db-theta-vis.lsn',\n",
    "            '/mnt/sdb1/ownCloud/IpythonNotebooks/Sleep/MEC_Lesion_Project/PCA_MEC/DATA_REV/Rat3838-D2.db-theta-vis.lsn',\n",
    "            '/mnt/sdb1/ownCloud/IpythonNotebooks/Sleep/MEC_Lesion_Project/PCA_MEC/DATA_REV/Rat3903-D1.db-theta-vis.lsn',\n",
    "            '/mnt/sdb1/ownCloud/IpythonNotebooks/Sleep/MEC_Lesion_Project/PCA_MEC/DATA_REV/Rat405-D1.db-100ms-vis.lsn']\n",
    "cntTh  = ['/mnt/sdb1/ownCloud/IpythonNotebooks/Sleep/MEC_Lesion_Project/PCA_MEC/DATA_REV/Rat3906-D2.db-theta-vis.cnt',\n",
    "            '/mnt/sdb1/ownCloud/IpythonNotebooks/Sleep/MEC_Lesion_Project/PCA_MEC/DATA_REV/Rat3839-D4.db-theta-vis.cnt',\n",
    "            '/mnt/sdb1/ownCloud/IpythonNotebooks/Sleep/MEC_Lesion_Project/PCA_MEC/DATA_REV/Rat3661-D3.db-theta-vis.cnt',\n",
    "            '/mnt/sdb1/ownCloud/IpythonNotebooks/Sleep/MEC_Lesion_Project/PCA_MEC/DATA_REV/Rat614-D1.db-theta-vis.cnt',\n",
    "            '/mnt/sdb1/ownCloud/IpythonNotebooks/Sleep/MEC_Lesion_Project/PCA_MEC/DATA_REV/Rat616-D1.db-theta-vis.cnt']\n",
    "##############################################################################\n",
    "###Theta\n",
    "lesThPre = np.array([])\n",
    "lesThImm = np.array([])\n",
    "lesThPost = np.array([])\n",
    "for item in lesTh:\n",
    "    lesThPre  = np.append(lesThPre,pkl.load(open(item,'rb'))[0])\n",
    "    lesThImm  = np.append(lesThImm,pkl.load(open(item,'rb'))[1])\n",
    "    lesThPost = np.append(lesThPost,pkl.load(open(item,'rb'))[2])\n",
    "##############################################################################\n",
    "    cntThPre = np.array([])\n",
    "cntThImm = np.array([])\n",
    "cntThPost = np.array([])\n",
    "for item in cntTh:\n",
    "    cntThPre  = np.append(cntThPre,pkl.load(open(item,'rb'))[0])\n",
    "    cntThImm  = np.append(cntThImm,pkl.load(open(item,'rb'))[1])\n",
    "    cntThPost = np.append(cntThPost,pkl.load(open(item,'rb'))[2])\n",
    "\n",
    "##############################################################################"
   ]
  },
  {
   "cell_type": "code",
   "execution_count": 5,
   "metadata": {},
   "outputs": [],
   "source": [
    "shuffled_slopes = pkl.load(open('/mnt/sdb1/ownCloud/IpythonNotebooks/Sleep/MEC_Lesion_Project/files/SlopesShuffled.pkl','rb'))\n",
    "shuffled_gammas = pkl.load(open('/mnt/sdb1/ownCloud/IpythonNotebooks/Sleep/MEC_Lesion_Project/files/GammaShuffled.pkl','rb'))"
   ]
  },
  {
   "cell_type": "code",
   "execution_count": 27,
   "metadata": {},
   "outputs": [
    {
     "data": {
      "text/plain": [
       "[<matplotlib.lines.Line2D at 0x7f1a1d93a510>]"
      ]
     },
     "execution_count": 27,
     "metadata": {},
     "output_type": "execute_result"
    },
    {
     "data": {
      "image/png": "[encoded data removed]",
      "text/plain": [
       "<matplotlib.figure.Figure at 0x7f1a1da0b350>"
      ]
     },
     "metadata": {},
     "output_type": "display_data"
    }
   ],
   "source": [
    "#pl.plot(shuffled_gammas[:1000,0],shuffled_gammas[:1000,1],'.')\n",
    "pl.plot(cntThPre,cntThPost,'.')\n",
    "pl.plot(lesThPre,lesThPost,'.')"
   ]
  },
  {
   "cell_type": "code",
   "execution_count": 28,
   "metadata": {},
   "outputs": [
    {
     "name": "stdout",
     "output_type": "stream",
     "text": [
      "Control Gamma Tests\n",
      "===========PRE===============\n",
      "Ttest_indResult(statistic=36.72568689507635, pvalue=8.1192777404166565e-294)\n",
      "RanksumsResult(statistic=4.973544128437756, pvalue=6.5739800438306473e-07)\n",
      "MannwhitneyuResult(statistic=529027.0, pvalue=3.2870375293213157e-07)\n",
      "===========IMM===============\n",
      "Ttest_indResult(statistic=106.19384068325577, pvalue=0.0)\n",
      "RanksumsResult(statistic=6.3574871346622075, pvalue=2.0508084133974781e-10)\n",
      "MannwhitneyuResult(statistic=281937.0, pvalue=1.0254228948947777e-10)\n",
      "===========POST===============\n",
      "Ttest_indResult(statistic=67.25892284911798, pvalue=0.0)\n",
      "RanksumsResult(statistic=7.4961301777128915, pvalue=6.5729514089439358e-14)\n",
      "MannwhitneyuResult(statistic=78643.0, pvalue=3.2865458850478383e-14)\n"
     ]
    }
   ],
   "source": [
    "print 'Control Gamma Tests'\n",
    "print '===========PRE==============='\n",
    "print ttest_ind(cntThPre,shuffled_gammas[:,0])\n",
    "print ranksums(cntThPre,shuffled_gammas[:,0])\n",
    "print mannwhitneyu(cntThPre,shuffled_gammas[:,0])\n",
    "\n",
    "print '===========IMM==============='\n",
    "print ttest_ind(cntThImm,shuffled_gammas[:,1])\n",
    "print ranksums(cntThImm,shuffled_gammas[:,1])\n",
    "print mannwhitneyu(cntThImm,shuffled_gammas[:,1])\n",
    "\n",
    "print '===========POST==============='\n",
    "print ttest_ind(cntThPost,shuffled_gammas[:,1])\n",
    "print ranksums(cntThPost,shuffled_gammas[:,1])\n",
    "print mannwhitneyu(cntThPost,shuffled_gammas[:,1])\n"
   ]
  },
  {
   "cell_type": "code",
   "execution_count": 29,
   "metadata": {},
   "outputs": [
    {
     "name": "stdout",
     "output_type": "stream",
     "text": [
      "Lesion Gamma Tests\n",
      "===========PRE===============\n",
      "Ttest_indResult(statistic=34.906095472924868, pvalue=9.2848820215996641e-266)\n",
      "RanksumsResult(statistic=7.3856389017742359, pvalue=1.5172304893824283e-13)\n",
      "MannwhitneyuResult(statistic=248141.0, pvalue=7.5862988014286697e-14)\n",
      "===========IMM===============\n",
      "Ttest_indResult(statistic=69.690396488301658, pvalue=0.0)\n",
      "RanksumsResult(statistic=7.8551146851349474, pvalue=3.9940651859235809e-15)\n",
      "MannwhitneyuResult(statistic=156684.0, pvalue=1.9970734890822681e-15)\n",
      "===========POST===============\n",
      "Ttest_indResult(statistic=46.595998361472112, pvalue=0.0)\n",
      "RanksumsResult(statistic=7.6943655444902648, pvalue=1.4219798642324136e-14)\n",
      "MannwhitneyuResult(statistic=187999.0, pvalue=7.1100420316175099e-15)\n"
     ]
    }
   ],
   "source": [
    "print 'Lesion Gamma Tests'\n",
    "print '===========PRE==============='\n",
    "print ttest_ind(lesThPre,shuffled_gammas[:,0])\n",
    "print ranksums(lesThPre,shuffled_gammas[:,0])\n",
    "print mannwhitneyu(lesThPre,shuffled_gammas[:,0])\n",
    "\n",
    "print '===========IMM==============='\n",
    "print ttest_ind(lesThImm,shuffled_gammas[:,1])\n",
    "print ranksums(lesThImm,shuffled_gammas[:,1])\n",
    "print mannwhitneyu(lesThImm,shuffled_gammas[:,1])\n",
    "\n",
    "print '===========POST==============='\n",
    "print ttest_ind(lesThPost,shuffled_gammas[:,1])\n",
    "print ranksums(lesThPost,shuffled_gammas[:,1])\n",
    "print mannwhitneyu(lesThPost,shuffled_gammas[:,1])"
   ]
  },
  {
   "cell_type": "code",
   "execution_count": 30,
   "metadata": {},
   "outputs": [
    {
     "data": {
      "text/plain": [
       "LinregressResult(slope=1.4146857115474283, intercept=-0.24929152299034274, rvalue=0.9829055544310038, pvalue=1.9957620495693915e-15, stderr=0.060792485781454755)"
      ]
     },
     "execution_count": 30,
     "metadata": {},
     "output_type": "execute_result"
    }
   ],
   "source": [
    "linregress(cntThPre,cntThPost)"
   ]
  },
  {
   "cell_type": "code",
   "execution_count": 31,
   "metadata": {},
   "outputs": [
    {
     "name": "stdout",
     "output_type": "stream",
     "text": [
      "                            OLS Regression Results                            \n",
      "==============================================================================\n",
      "Dep. Variable:                      y   R-squared:                       0.987\n",
      "Model:                            OLS   Adj. R-squared:                  0.987\n",
      "Method:                 Least Squares   F-statistic:                     1563.\n",
      "Date:                Thu, 02 Aug 2018   Prob (F-statistic):           1.84e-20\n",
      "Time:                        12:56:56   Log-Likelihood:                 7.6139\n",
      "No. Observations:                  21   AIC:                            -13.23\n",
      "Df Residuals:                      20   BIC:                            -12.18\n",
      "Df Model:                           1                                         \n",
      "Covariance Type:            nonrobust                                         \n",
      "==============================================================================\n",
      "                 coef    std err          t      P>|t|      [0.025      0.975]\n",
      "------------------------------------------------------------------------------\n",
      "x1             0.7795      0.020     39.532      0.000       0.738       0.821\n",
      "==============================================================================\n",
      "Omnibus:                        2.859   Durbin-Watson:                   1.435\n",
      "Prob(Omnibus):                  0.239   Jarque-Bera (JB):                2.169\n",
      "Skew:                          -0.646   Prob(JB):                        0.338\n",
      "Kurtosis:                       2.101   Cond. No.                         1.00\n",
      "==============================================================================\n",
      "\n",
      "Warnings:\n",
      "[1] Standard Errors assume that the covariance matrix of the errors is correctly specified.\n",
      "[  1.83880158e-20]\n"
     ]
    }
   ],
   "source": [
    "ols = sm.OLS(cntThPre,cntThPost).fit()\n",
    "print ols.summary()\n",
    "print ols.pvalues"
   ]
  },
  {
   "cell_type": "code",
   "execution_count": 32,
   "metadata": {},
   "outputs": [
    {
     "data": {
      "text/plain": [
       "[<matplotlib.lines.Line2D at 0x7f1a1d7f8590>]"
      ]
     },
     "execution_count": 32,
     "metadata": {},
     "output_type": "execute_result"
    },
    {
     "data": {
      "image/png": "[encoded data removed]",
      "text/plain": [
       "<matplotlib.figure.Figure at 0x7f1a1d7f8510>"
      ]
     },
     "metadata": {},
     "output_type": "display_data"
    }
   ],
   "source": [
    "x_new = np.arange(0,4,0.1)\n",
    "pred = ols.predict(x_new)\n",
    "pl.plot(x_new,pred)\n",
    "pl.plot(cntThPre,cntThPost,'.')"
   ]
  },
  {
   "cell_type": "code",
   "execution_count": 60,
   "metadata": {},
   "outputs": [
    {
     "name": "stdout",
     "output_type": "stream",
     "text": [
      "Control ---------> SpearmanrResult(correlation=0.84545454545454546, pvalue=1.3991106993623216e-06)\n",
      "21\n",
      "Control ---------> SpearmanrResult(correlation=0.51428571428571423, pvalue=0.01707135314181649)\n",
      "21\n",
      "Lesion ---------> SpearmanrResult(correlation=0.6692307692307693, pvalue=0.0002540133332153958)\n",
      "25\n",
      "Lesion ---------> SpearmanrResult(correlation=0.64307692307692299, pvalue=0.00052570013269132303)\n",
      "25\n"
     ]
    }
   ],
   "source": [
    "print 'Control --------->',spearmanr(cntThPre,cntThPost)\n",
    "print len(cntThPre)\n",
    "print 'Control --------->',spearmanr(cntThPre,cntThImm)\n",
    "print len(cntThPre)\n",
    "print 'Lesion --------->',spearmanr(lesThPre,lesThPost)\n",
    "print len(lesThPre)\n",
    "print 'Lesion --------->',spearmanr(lesThPre,lesThImm)\n",
    "print len(lesThPre)"
   ]
  },
  {
   "cell_type": "code",
   "execution_count": 33,
   "metadata": {},
   "outputs": [
    {
     "data": {
      "text/plain": [
       "SpearmanrResult(correlation=0.37661572787767122, pvalue=0.0)"
      ]
     },
     "execution_count": 33,
     "metadata": {},
     "output_type": "execute_result"
    }
   ],
   "source": [
    "spearmanr(shuffled_gammas[:,0],shuffled_gammas[:,1])"
   ]
  },
  {
   "cell_type": "code",
   "execution_count": 90,
   "metadata": {},
   "outputs": [],
   "source": [
    "slopeDB = pd.DataFrame([],columns=['slope','group'])\n",
    "for item in cntTh:\n",
    "    gmm = pkl.load(open(item,'rb'))\n",
    "    Lregress_imm = sm.OLS( gmm[1],gmm[0] ).fit()\n",
    "    Lregress = sm.OLS( gmm[2],gmm[0] ).fit()\n",
    "    slopeDB = slopeDB.append(pd.DataFrame([[Lregress_imm.params[0],'control_im']],columns=['slope','group']),ignore_index=True)\n",
    "    slopeDB = slopeDB.append(pd.DataFrame([[Lregress.params[0],'control_po']],columns=['slope','group']),ignore_index=True)\n",
    "for item in lesTh:\n",
    "    gmm = pkl.load(open(item,'rb'))\n",
    "    Lregress_imm = sm.OLS( gmm[1],gmm[0] ).fit()\n",
    "    Lregress = sm.OLS( gmm[2],gmm[0] ).fit()\n",
    "    slopeDB = slopeDB.append(pd.DataFrame([[Lregress_imm.params[0],'lesioned_im']],columns=['slope','group']),ignore_index=True)\n",
    "    slopeDB = slopeDB.append(pd.DataFrame([[Lregress.params[0],'lesioned_po']],columns=['slope','group']),ignore_index=True)"
   ]
  },
  {
   "cell_type": "code",
   "execution_count": 68,
   "metadata": {},
   "outputs": [
    {
     "name": "stdout",
     "output_type": "stream",
     "text": [
      "RanksumsResult(statistic=0.73029674334022143, pvalue=0.46520881845214179)\n"
     ]
    }
   ],
   "source": [
    "print ranksums(slopeDB[slopeDB.group=='control_im'].slope,slopeDB[slopeDB.group=='lesioned_im'].slope)"
   ]
  },
  {
   "cell_type": "code",
   "execution_count": 69,
   "metadata": {},
   "outputs": [
    {
     "name": "stdout",
     "output_type": "stream",
     "text": [
      "RanksumsResult(statistic=2.556038601690775, pvalue=0.010587137334056945)\n"
     ]
    },
    {
     "data": {
      "text/plain": [
       "11"
      ]
     },
     "execution_count": 69,
     "metadata": {},
     "output_type": "execute_result"
    }
   ],
   "source": [
    "print ranksums(slopeDB[slopeDB.group=='control_po'].slope,slopeDB[slopeDB.group=='lesioned_po'].slope)\n",
    "slopeDB[slopeDB.group=='lesioned_po'].shape[0]+slopeDB[slopeDB.group=='control_po'].shape[0]"
   ]
  },
  {
   "cell_type": "code",
   "execution_count": 70,
   "metadata": {},
   "outputs": [
    {
     "data": {
      "text/plain": [
       "11"
      ]
     },
     "execution_count": 70,
     "metadata": {},
     "output_type": "execute_result"
    }
   ],
   "source": [
    "slopeDB[slopeDB.group=='lesioned_im'].shape[0]+slopeDB[slopeDB.group=='control_im'].shape[0]"
   ]
  },
  {
   "cell_type": "code",
   "execution_count": 91,
   "metadata": {},
   "outputs": [
    {
     "name": "stdout",
     "output_type": "stream",
     "text": [
      "RanksumsResult(statistic=2.556038601690775, pvalue=0.010587137334056945)\n",
      "19\n",
      "12\n"
     ]
    }
   ],
   "source": [
    "slopeDB_orig = pd.read_pickle('/mnt/sdb1/ownCloud/IpythonNotebooks/Sleep/MEC_Lesion_Project/PCA_MEC/DATA/Slopes.db')\n",
    "print ranksums(slopeDB[slopeDB.group=='control_po'].slope,slopeDB[slopeDB.group=='lesioned_po'].slope)\n",
    "print slopeDB_orig[slopeDB_orig.group=='lesioned_po'].shape[0]\n",
    "print slopeDB_orig[slopeDB_orig.group=='control_po'].shape[0]"
   ]
  },
  {
   "cell_type": "code",
   "execution_count": 109,
   "metadata": {},
   "outputs": [
    {
     "name": "stdout",
     "output_type": "stream",
     "text": [
      "WilcoxonResult(statistic=0.0, pvalue=0.043114446783075355)\n",
      "Control ()---------> WilcoxonResult(statistic=0.0, pvalue=0.043114446783075355)\n",
      "WilcoxonResult(statistic=6.0, pvalue=0.68583043445160574)\n",
      "WilcoxonResult(statistic=0.0, pvalue=0.027707849358079864)\n",
      "Cont-Les._POST ---------> MannwhitneyuResult(statistic=1.0, pvalue=0.0068554150390666103)\n",
      "Cont-Les._POST ---------> MannwhitneyuResult(statistic=35.0, pvalue=0.00072729088788739285)\n",
      "------------------------------------------------------------------\n",
      "Cont-Les._IMM ---------> MannwhitneyuResult(statistic=11.0, pvalue=0.2614083269595443)\n",
      "Cont-Les._IMM ---------> MannwhitneyuResult(statistic=55.0, pvalue=0.0088343617397103891)\n",
      "------------------------------------------------------------------\n",
      "Cont. POST_IMM ---------> RanksumsResult(statistic=-0.73112615501393097, pvalue=0.46470209994046485)\n",
      "MannwhitneyuResult(statistic=9.0, pvalue=0.26543465198425409)\n"
     ]
    }
   ],
   "source": [
    "z_cnt_im = (slopeDB[slopeDB.group=='control_im'].slope)\n",
    "print wilcoxon(z_cnt_im)\n",
    "print 'Control ()--------->', wilcoxon(slopeDB[slopeDB.group=='control_po'].slope)\n",
    "print wilcoxon(slopeDB[slopeDB.group=='control_po'].slope,slopeDB[slopeDB.group=='control_im'].slope)\n",
    "print wilcoxon(slopeDB[slopeDB.group=='lesioned_po'].slope,slopeDB[slopeDB.group=='lesioned_im'].slope)\n",
    "print 'Cont-Les._POST --------->', mannwhitneyu(slopeDB[slopeDB.group=='lesioned_po'].slope,slopeDB[slopeDB.group=='control_po'].slope)\n",
    "print 'Cont-Les._POST --------->', mannwhitneyu(slopeDB_orig[slopeDB_orig.group=='lesioned_po'].slope,slopeDB_orig[slopeDB_orig.group=='control_po'].slope)\n",
    "print '------------------------------------------------------------------'\n",
    "print 'Cont-Les._IMM --------->', mannwhitneyu(slopeDB[slopeDB.group=='lesioned_im'].slope,slopeDB[slopeDB.group=='control_im'].slope)\n",
    "print 'Cont-Les._IMM --------->', mannwhitneyu(slopeDB_orig[slopeDB_orig.group=='lesioned_im'].slope,slopeDB_orig[slopeDB_orig.group=='control_im'].slope)\n",
    "print '------------------------------------------------------------------'\n",
    "print 'Cont. POST_IMM --------->',ranksums(slopeDB[slopeDB.group=='control_po'].slope,slopeDB[slopeDB.group=='control_im'].slope)\n",
    "print mannwhitneyu(slopeDB[slopeDB.group=='control_po'].slope,slopeDB[slopeDB.group=='control_im'].slope,use_continuity=True)"
   ]
  },
  {
   "cell_type": "code",
   "execution_count": 88,
   "metadata": {},
   "outputs": [
    {
     "name": "stdout",
     "output_type": "stream",
     "text": [
      "WilcoxonResult(statistic=0.0, pvalue=0.027707849358079864)\n",
      "WilcoxonResult(statistic=0.0, pvalue=0.027707849358079864)\n",
      "WilcoxonResult(statistic=0.0, pvalue=0.027707849358079864)\n"
     ]
    }
   ],
   "source": [
    "print wilcoxon(slopeDB[slopeDB.group=='lesioned_im'].slope)\n",
    "print wilcoxon(slopeDB[slopeDB.group=='lesioned_po'].slope)\n",
    "print wilcoxon(slopeDB[slopeDB.group=='lesioned_po'].slope,slopeDB[slopeDB.group=='lesioned_im'].slope)"
   ]
  },
  {
   "cell_type": "code",
   "execution_count": 104,
   "metadata": {},
   "outputs": [
    {
     "name": "stdout",
     "output_type": "stream",
     "text": [
      "WilcoxonResult(statistic=16.0, pvalue=0.00054342184989428785)\n",
      "WilcoxonResult(statistic=53.0, pvalue=0.0032159320975066147)\n",
      "21\n",
      "25\n"
     ]
    }
   ],
   "source": [
    "cnt_diff_Im = (cntThImm - cntThPre)/(cntThImm + cntThPre)*100\n",
    "les_diff_Im = (lesThImm - lesThPre)/(lesThImm + lesThPre)*100\n",
    "cnt_diff_Po = (cntThPost - cntThPre)/(cntThPost + cntThPre)*100\n",
    "les_diff_Po = (lesThPost - lesThPre)/(lesThPost + lesThPre)*100\n",
    "print wilcoxon(cnt_diff_Im)\n",
    "print wilcoxon(les_diff_Im)\n",
    "print cnt_diff_Im.size\n",
    "print les_diff_Im.size"
   ]
  },
  {
   "cell_type": "code",
   "execution_count": 100,
   "metadata": {},
   "outputs": [
    {
     "name": "stdout",
     "output_type": "stream",
     "text": [
      "RanksumsResult(statistic=2.6287748488865055, pvalue=0.0085693076055389349)\n",
      "WilcoxonResult(statistic=71.0, pvalue=0.013817143683192262)\n"
     ]
    }
   ],
   "source": [
    "print ranksums(cnt_diff_Im,cnt_diff_Po)\n",
    "print wilcoxon(les_diff_Im,les_diff_Po)"
   ]
  },
  {
   "cell_type": "code",
   "execution_count": 106,
   "metadata": {},
   "outputs": [
    {
     "name": "stdout",
     "output_type": "stream",
     "text": [
      "MannwhitneyuResult(statistic=143.0, pvalue=0.0043417083252219992)\n",
      "MannwhitneyuResult(statistic=133.0, pvalue=0.0022219652028425828)\n"
     ]
    }
   ],
   "source": [
    "print mannwhitneyu(cnt_diff_Im,les_diff_Im)\n",
    "print mannwhitneyu(cnt_diff_Po,les_diff_Po)"
   ]
  },
  {
   "cell_type": "code",
   "execution_count": 54,
   "metadata": {},
   "outputs": [],
   "source": [
    "import matplotlib.pyplot as pl"
   ]
  },
  {
   "cell_type": "code",
   "execution_count": 56,
   "metadata": {},
   "outputs": [
    {
     "data": {
      "text/plain": [
       "[<matplotlib.lines.Line2D at 0x7f1a142e6910>]"
      ]
     },
     "execution_count": 56,
     "metadata": {},
     "output_type": "execute_result"
    },
    {
     "data": {
      "image/png": "[encoded data removed]",
      "text/plain": [
       "<matplotlib.figure.Figure at 0x7f1a1433e710>"
      ]
     },
     "metadata": {},
     "output_type": "display_data"
    }
   ],
   "source": [
    "pl.plot(np.arange(10)**2)"
   ]
  },
  {
   "cell_type": "code",
   "execution_count": null,
   "metadata": {},
   "outputs": [],
   "source": []
  }
 ],
 "metadata": {
  "kernelspec": {
   "display_name": "Python 2",
   "language": "python",
   "name": "python2"
  },
  "language_info": {
   "codemirror_mode": {
    "name": "ipython",
    "version": 2
   },
   "file_extension": ".py",
   "mimetype": "text/x-python",
   "name": "python",
   "nbconvert_exporter": "python",
   "pygments_lexer": "ipython2",
   "version": "2.7.14"
  }
 },
 "nbformat": 4,
 "nbformat_minor": 2
}
