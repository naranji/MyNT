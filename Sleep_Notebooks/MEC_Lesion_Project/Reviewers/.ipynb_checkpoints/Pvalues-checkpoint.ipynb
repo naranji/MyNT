{
 "cells": [
  {
   "cell_type": "code",
   "execution_count": 1,
   "metadata": {},
   "outputs": [
    {
     "data": {
      "text/html": [
       "<style>.container { width:90% !important; }</style>"
      ],
      "text/plain": [
       "<IPython.core.display.HTML object>"
      ]
     },
     "metadata": {},
     "output_type": "display_data"
    }
   ],
   "source": [
    "from IPython.core.display import display, HTML\n",
    "display(HTML(\"<style>.container { width:90% !important; }</style>\"))\n",
    "import sys\n",
    "sys.path.append('/home/aliche/ownCloud/Workspaces/Eclipse/dataAnalysis/Sleep-current/src/')"
   ]
  },
  {
   "cell_type": "code",
   "execution_count": 2,
   "metadata": {},
   "outputs": [
    {
     "name": "stderr",
     "output_type": "stream",
     "text": [
      "/home/aliche/anaconda3/envs/py27/lib/python2.7/site-packages/NeuroTools/analysis.py:34: UserWarning: \n",
      "This call to matplotlib.use() has no effect because the backend has already\n",
      "been chosen; matplotlib.use() must be called *before* pylab, matplotlib.pyplot,\n",
      "or matplotlib.backends is imported for the first time.\n",
      "\n",
      "The backend was *originally* set to 'module://ipykernel.pylab.backend_inline' by the following code:\n",
      "  File \"/home/aliche/anaconda3/envs/py27/lib/python2.7/runpy.py\", line 174, in _run_module_as_main\n",
      "    \"__main__\", fname, loader, pkg_name)\n",
      "  File \"/home/aliche/anaconda3/envs/py27/lib/python2.7/runpy.py\", line 72, in _run_code\n",
      "    exec code in run_globals\n",
      "  File \"/home/aliche/anaconda3/envs/py27/lib/python2.7/site-packages/ipykernel_launcher.py\", line 16, in <module>\n",
      "    app.launch_new_instance()\n",
      "  File \"/home/aliche/anaconda3/envs/py27/lib/python2.7/site-packages/traitlets/config/application.py\", line 658, in launch_instance\n",
      "    app.start()\n",
      "  File \"/home/aliche/anaconda3/envs/py27/lib/python2.7/site-packages/ipykernel/kernelapp.py\", line 478, in start\n",
      "    self.io_loop.start()\n",
      "  File \"/home/aliche/anaconda3/envs/py27/lib/python2.7/site-packages/zmq/eventloop/ioloop.py\", line 177, in start\n",
      "    super(ZMQIOLoop, self).start()\n",
      "  File \"/home/aliche/anaconda3/envs/py27/lib/python2.7/site-packages/tornado/ioloop.py\", line 888, in start\n",
      "    handler_func(fd_obj, events)\n",
      "  File \"/home/aliche/anaconda3/envs/py27/lib/python2.7/site-packages/tornado/stack_context.py\", line 277, in null_wrapper\n",
      "    return fn(*args, **kwargs)\n",
      "  File \"/home/aliche/anaconda3/envs/py27/lib/python2.7/site-packages/zmq/eventloop/zmqstream.py\", line 440, in _handle_events\n",
      "    self._handle_recv()\n",
      "  File \"/home/aliche/anaconda3/envs/py27/lib/python2.7/site-packages/zmq/eventloop/zmqstream.py\", line 472, in _handle_recv\n",
      "    self._run_callback(callback, msg)\n",
      "  File \"/home/aliche/anaconda3/envs/py27/lib/python2.7/site-packages/zmq/eventloop/zmqstream.py\", line 414, in _run_callback\n",
      "    callback(*args, **kwargs)\n",
      "  File \"/home/aliche/anaconda3/envs/py27/lib/python2.7/site-packages/tornado/stack_context.py\", line 277, in null_wrapper\n",
      "    return fn(*args, **kwargs)\n",
      "  File \"/home/aliche/anaconda3/envs/py27/lib/python2.7/site-packages/ipykernel/kernelbase.py\", line 283, in dispatcher\n",
      "    return self.dispatch_shell(stream, msg)\n",
      "  File \"/home/aliche/anaconda3/envs/py27/lib/python2.7/site-packages/ipykernel/kernelbase.py\", line 233, in dispatch_shell\n",
      "    handler(stream, idents, msg)\n",
      "  File \"/home/aliche/anaconda3/envs/py27/lib/python2.7/site-packages/ipykernel/kernelbase.py\", line 399, in execute_request\n",
      "    user_expressions, allow_stdin)\n",
      "  File \"/home/aliche/anaconda3/envs/py27/lib/python2.7/site-packages/ipykernel/ipkernel.py\", line 208, in do_execute\n",
      "    res = shell.run_cell(code, store_history=store_history, silent=silent)\n",
      "  File \"/home/aliche/anaconda3/envs/py27/lib/python2.7/site-packages/ipykernel/zmqshell.py\", line 537, in run_cell\n",
      "    return super(ZMQInteractiveShell, self).run_cell(*args, **kwargs)\n",
      "  File \"/home/aliche/anaconda3/envs/py27/lib/python2.7/site-packages/IPython/core/interactiveshell.py\", line 2718, in run_cell\n",
      "    interactivity=interactivity, compiler=compiler, result=result)\n",
      "  File \"/home/aliche/anaconda3/envs/py27/lib/python2.7/site-packages/IPython/core/interactiveshell.py\", line 2822, in run_ast_nodes\n",
      "    if self.run_code(code, result):\n",
      "  File \"/home/aliche/anaconda3/envs/py27/lib/python2.7/site-packages/IPython/core/interactiveshell.py\", line 2882, in run_code\n",
      "    exec(code_obj, self.user_global_ns, self.user_ns)\n",
      "  File \"<ipython-input-2-0cc1e9b748f9>\", line 1, in <module>\n",
      "    get_ipython().magic(u'matplotlib inline')\n",
      "  File \"/home/aliche/anaconda3/envs/py27/lib/python2.7/site-packages/IPython/core/interactiveshell.py\", line 2160, in magic\n",
      "    return self.run_line_magic(magic_name, magic_arg_s)\n",
      "  File \"/home/aliche/anaconda3/envs/py27/lib/python2.7/site-packages/IPython/core/interactiveshell.py\", line 2081, in run_line_magic\n",
      "    result = fn(*args,**kwargs)\n",
      "  File \"<decorator-gen-105>\", line 2, in matplotlib\n",
      "  File \"/home/aliche/anaconda3/envs/py27/lib/python2.7/site-packages/IPython/core/magic.py\", line 188, in <lambda>\n",
      "    call = lambda f, *a, **k: f(*a, **k)\n",
      "  File \"/home/aliche/anaconda3/envs/py27/lib/python2.7/site-packages/IPython/core/magics/pylab.py\", line 100, in matplotlib\n",
      "    gui, backend = self.shell.enable_matplotlib(args.gui)\n",
      "  File \"/home/aliche/anaconda3/envs/py27/lib/python2.7/site-packages/IPython/core/interactiveshell.py\", line 2950, in enable_matplotlib\n",
      "    pt.activate_matplotlib(backend)\n",
      "  File \"/home/aliche/anaconda3/envs/py27/lib/python2.7/site-packages/IPython/core/pylabtools.py\", line 308, in activate_matplotlib\n",
      "    matplotlib.pyplot.switch_backend(backend)\n",
      "  File \"/home/aliche/anaconda3/envs/py27/lib/python2.7/site-packages/matplotlib/pyplot.py\", line 232, in switch_backend\n",
      "    matplotlib.use(newbackend, warn=False, force=True)\n",
      "  File \"/home/aliche/anaconda3/envs/py27/lib/python2.7/site-packages/matplotlib/__init__.py\", line 1305, in use\n",
      "    reload(sys.modules['matplotlib.backends'])\n",
      "  File \"/home/aliche/anaconda3/envs/py27/lib/python2.7/site-packages/matplotlib/backends/__init__.py\", line 14, in <module>\n",
      "    line for line in traceback.format_stack()\n",
      "\n",
      "\n",
      "  matplotlib.use('Agg')\n",
      "/home/aliche/anaconda3/envs/py27/lib/python2.7/site-packages/NeuroTools/plotting.py:36: UserWarning: \n",
      "This call to matplotlib.use() has no effect because the backend has already\n",
      "been chosen; matplotlib.use() must be called *before* pylab, matplotlib.pyplot,\n",
      "or matplotlib.backends is imported for the first time.\n",
      "\n",
      "The backend was *originally* set to 'module://ipykernel.pylab.backend_inline' by the following code:\n",
      "  File \"/home/aliche/anaconda3/envs/py27/lib/python2.7/runpy.py\", line 174, in _run_module_as_main\n",
      "    \"__main__\", fname, loader, pkg_name)\n",
      "  File \"/home/aliche/anaconda3/envs/py27/lib/python2.7/runpy.py\", line 72, in _run_code\n",
      "    exec code in run_globals\n",
      "  File \"/home/aliche/anaconda3/envs/py27/lib/python2.7/site-packages/ipykernel_launcher.py\", line 16, in <module>\n",
      "    app.launch_new_instance()\n",
      "  File \"/home/aliche/anaconda3/envs/py27/lib/python2.7/site-packages/traitlets/config/application.py\", line 658, in launch_instance\n",
      "    app.start()\n",
      "  File \"/home/aliche/anaconda3/envs/py27/lib/python2.7/site-packages/ipykernel/kernelapp.py\", line 478, in start\n",
      "    self.io_loop.start()\n",
      "  File \"/home/aliche/anaconda3/envs/py27/lib/python2.7/site-packages/zmq/eventloop/ioloop.py\", line 177, in start\n",
      "    super(ZMQIOLoop, self).start()\n",
      "  File \"/home/aliche/anaconda3/envs/py27/lib/python2.7/site-packages/tornado/ioloop.py\", line 888, in start\n",
      "    handler_func(fd_obj, events)\n",
      "  File \"/home/aliche/anaconda3/envs/py27/lib/python2.7/site-packages/tornado/stack_context.py\", line 277, in null_wrapper\n",
      "    return fn(*args, **kwargs)\n",
      "  File \"/home/aliche/anaconda3/envs/py27/lib/python2.7/site-packages/zmq/eventloop/zmqstream.py\", line 440, in _handle_events\n",
      "    self._handle_recv()\n",
      "  File \"/home/aliche/anaconda3/envs/py27/lib/python2.7/site-packages/zmq/eventloop/zmqstream.py\", line 472, in _handle_recv\n",
      "    self._run_callback(callback, msg)\n",
      "  File \"/home/aliche/anaconda3/envs/py27/lib/python2.7/site-packages/zmq/eventloop/zmqstream.py\", line 414, in _run_callback\n",
      "    callback(*args, **kwargs)\n",
      "  File \"/home/aliche/anaconda3/envs/py27/lib/python2.7/site-packages/tornado/stack_context.py\", line 277, in null_wrapper\n",
      "    return fn(*args, **kwargs)\n",
      "  File \"/home/aliche/anaconda3/envs/py27/lib/python2.7/site-packages/ipykernel/kernelbase.py\", line 283, in dispatcher\n",
      "    return self.dispatch_shell(stream, msg)\n",
      "  File \"/home/aliche/anaconda3/envs/py27/lib/python2.7/site-packages/ipykernel/kernelbase.py\", line 233, in dispatch_shell\n",
      "    handler(stream, idents, msg)\n",
      "  File \"/home/aliche/anaconda3/envs/py27/lib/python2.7/site-packages/ipykernel/kernelbase.py\", line 399, in execute_request\n",
      "    user_expressions, allow_stdin)\n",
      "  File \"/home/aliche/anaconda3/envs/py27/lib/python2.7/site-packages/ipykernel/ipkernel.py\", line 208, in do_execute\n",
      "    res = shell.run_cell(code, store_history=store_history, silent=silent)\n",
      "  File \"/home/aliche/anaconda3/envs/py27/lib/python2.7/site-packages/ipykernel/zmqshell.py\", line 537, in run_cell\n",
      "    return super(ZMQInteractiveShell, self).run_cell(*args, **kwargs)\n",
      "  File \"/home/aliche/anaconda3/envs/py27/lib/python2.7/site-packages/IPython/core/interactiveshell.py\", line 2718, in run_cell\n",
      "    interactivity=interactivity, compiler=compiler, result=result)\n",
      "  File \"/home/aliche/anaconda3/envs/py27/lib/python2.7/site-packages/IPython/core/interactiveshell.py\", line 2822, in run_ast_nodes\n",
      "    if self.run_code(code, result):\n",
      "  File \"/home/aliche/anaconda3/envs/py27/lib/python2.7/site-packages/IPython/core/interactiveshell.py\", line 2882, in run_code\n",
      "    exec(code_obj, self.user_global_ns, self.user_ns)\n",
      "  File \"<ipython-input-2-0cc1e9b748f9>\", line 1, in <module>\n",
      "    get_ipython().magic(u'matplotlib inline')\n",
      "  File \"/home/aliche/anaconda3/envs/py27/lib/python2.7/site-packages/IPython/core/interactiveshell.py\", line 2160, in magic\n",
      "    return self.run_line_magic(magic_name, magic_arg_s)\n",
      "  File \"/home/aliche/anaconda3/envs/py27/lib/python2.7/site-packages/IPython/core/interactiveshell.py\", line 2081, in run_line_magic\n",
      "    result = fn(*args,**kwargs)\n",
      "  File \"<decorator-gen-105>\", line 2, in matplotlib\n",
      "  File \"/home/aliche/anaconda3/envs/py27/lib/python2.7/site-packages/IPython/core/magic.py\", line 188, in <lambda>\n",
      "    call = lambda f, *a, **k: f(*a, **k)\n",
      "  File \"/home/aliche/anaconda3/envs/py27/lib/python2.7/site-packages/IPython/core/magics/pylab.py\", line 100, in matplotlib\n",
      "    gui, backend = self.shell.enable_matplotlib(args.gui)\n",
      "  File \"/home/aliche/anaconda3/envs/py27/lib/python2.7/site-packages/IPython/core/interactiveshell.py\", line 2950, in enable_matplotlib\n",
      "    pt.activate_matplotlib(backend)\n",
      "  File \"/home/aliche/anaconda3/envs/py27/lib/python2.7/site-packages/IPython/core/pylabtools.py\", line 308, in activate_matplotlib\n",
      "    matplotlib.pyplot.switch_backend(backend)\n",
      "  File \"/home/aliche/anaconda3/envs/py27/lib/python2.7/site-packages/matplotlib/pyplot.py\", line 232, in switch_backend\n",
      "    matplotlib.use(newbackend, warn=False, force=True)\n",
      "  File \"/home/aliche/anaconda3/envs/py27/lib/python2.7/site-packages/matplotlib/__init__.py\", line 1305, in use\n",
      "    reload(sys.modules['matplotlib.backends'])\n",
      "  File \"/home/aliche/anaconda3/envs/py27/lib/python2.7/site-packages/matplotlib/backends/__init__.py\", line 14, in <module>\n",
      "    line for line in traceback.format_stack()\n",
      "\n",
      "\n",
      "  use('Agg')\n",
      "/home/aliche/anaconda3/envs/py27/lib/python2.7/site-packages/NeuroTools/__init__.py:125: DependencyWarning: ** interval ** package is not installed.\n",
      "To have functions using interval please install the package.\n",
      "website : http://pypi.python.org/pypi/interval/1.0.0\n",
      "\n",
      "  warnings.warn(get_import_warning(name), DependencyWarning)\n",
      "/home/aliche/anaconda3/envs/py27/lib/python2.7/site-packages/NeuroTools/signals/spikes.py:44: UserWarning: \n",
      "This call to matplotlib.use() has no effect because the backend has already\n",
      "been chosen; matplotlib.use() must be called *before* pylab, matplotlib.pyplot,\n",
      "or matplotlib.backends is imported for the first time.\n",
      "\n",
      "The backend was *originally* set to 'module://ipykernel.pylab.backend_inline' by the following code:\n",
      "  File \"/home/aliche/anaconda3/envs/py27/lib/python2.7/runpy.py\", line 174, in _run_module_as_main\n",
      "    \"__main__\", fname, loader, pkg_name)\n",
      "  File \"/home/aliche/anaconda3/envs/py27/lib/python2.7/runpy.py\", line 72, in _run_code\n",
      "    exec code in run_globals\n",
      "  File \"/home/aliche/anaconda3/envs/py27/lib/python2.7/site-packages/ipykernel_launcher.py\", line 16, in <module>\n",
      "    app.launch_new_instance()\n",
      "  File \"/home/aliche/anaconda3/envs/py27/lib/python2.7/site-packages/traitlets/config/application.py\", line 658, in launch_instance\n",
      "    app.start()\n",
      "  File \"/home/aliche/anaconda3/envs/py27/lib/python2.7/site-packages/ipykernel/kernelapp.py\", line 478, in start\n",
      "    self.io_loop.start()\n",
      "  File \"/home/aliche/anaconda3/envs/py27/lib/python2.7/site-packages/zmq/eventloop/ioloop.py\", line 177, in start\n",
      "    super(ZMQIOLoop, self).start()\n",
      "  File \"/home/aliche/anaconda3/envs/py27/lib/python2.7/site-packages/tornado/ioloop.py\", line 888, in start\n",
      "    handler_func(fd_obj, events)\n",
      "  File \"/home/aliche/anaconda3/envs/py27/lib/python2.7/site-packages/tornado/stack_context.py\", line 277, in null_wrapper\n",
      "    return fn(*args, **kwargs)\n",
      "  File \"/home/aliche/anaconda3/envs/py27/lib/python2.7/site-packages/zmq/eventloop/zmqstream.py\", line 440, in _handle_events\n",
      "    self._handle_recv()\n",
      "  File \"/home/aliche/anaconda3/envs/py27/lib/python2.7/site-packages/zmq/eventloop/zmqstream.py\", line 472, in _handle_recv\n",
      "    self._run_callback(callback, msg)\n",
      "  File \"/home/aliche/anaconda3/envs/py27/lib/python2.7/site-packages/zmq/eventloop/zmqstream.py\", line 414, in _run_callback\n",
      "    callback(*args, **kwargs)\n",
      "  File \"/home/aliche/anaconda3/envs/py27/lib/python2.7/site-packages/tornado/stack_context.py\", line 277, in null_wrapper\n",
      "    return fn(*args, **kwargs)\n",
      "  File \"/home/aliche/anaconda3/envs/py27/lib/python2.7/site-packages/ipykernel/kernelbase.py\", line 283, in dispatcher\n",
      "    return self.dispatch_shell(stream, msg)\n",
      "  File \"/home/aliche/anaconda3/envs/py27/lib/python2.7/site-packages/ipykernel/kernelbase.py\", line 233, in dispatch_shell\n",
      "    handler(stream, idents, msg)\n",
      "  File \"/home/aliche/anaconda3/envs/py27/lib/python2.7/site-packages/ipykernel/kernelbase.py\", line 399, in execute_request\n",
      "    user_expressions, allow_stdin)\n",
      "  File \"/home/aliche/anaconda3/envs/py27/lib/python2.7/site-packages/ipykernel/ipkernel.py\", line 208, in do_execute\n",
      "    res = shell.run_cell(code, store_history=store_history, silent=silent)\n",
      "  File \"/home/aliche/anaconda3/envs/py27/lib/python2.7/site-packages/ipykernel/zmqshell.py\", line 537, in run_cell\n",
      "    return super(ZMQInteractiveShell, self).run_cell(*args, **kwargs)\n",
      "  File \"/home/aliche/anaconda3/envs/py27/lib/python2.7/site-packages/IPython/core/interactiveshell.py\", line 2718, in run_cell\n",
      "    interactivity=interactivity, compiler=compiler, result=result)\n",
      "  File \"/home/aliche/anaconda3/envs/py27/lib/python2.7/site-packages/IPython/core/interactiveshell.py\", line 2822, in run_ast_nodes\n",
      "    if self.run_code(code, result):\n",
      "  File \"/home/aliche/anaconda3/envs/py27/lib/python2.7/site-packages/IPython/core/interactiveshell.py\", line 2882, in run_code\n",
      "    exec(code_obj, self.user_global_ns, self.user_ns)\n",
      "  File \"<ipython-input-2-0cc1e9b748f9>\", line 1, in <module>\n",
      "    get_ipython().magic(u'matplotlib inline')\n",
      "  File \"/home/aliche/anaconda3/envs/py27/lib/python2.7/site-packages/IPython/core/interactiveshell.py\", line 2160, in magic\n",
      "    return self.run_line_magic(magic_name, magic_arg_s)\n",
      "  File \"/home/aliche/anaconda3/envs/py27/lib/python2.7/site-packages/IPython/core/interactiveshell.py\", line 2081, in run_line_magic\n",
      "    result = fn(*args,**kwargs)\n",
      "  File \"<decorator-gen-105>\", line 2, in matplotlib\n",
      "  File \"/home/aliche/anaconda3/envs/py27/lib/python2.7/site-packages/IPython/core/magic.py\", line 188, in <lambda>\n",
      "    call = lambda f, *a, **k: f(*a, **k)\n",
      "  File \"/home/aliche/anaconda3/envs/py27/lib/python2.7/site-packages/IPython/core/magics/pylab.py\", line 100, in matplotlib\n",
      "    gui, backend = self.shell.enable_matplotlib(args.gui)\n",
      "  File \"/home/aliche/anaconda3/envs/py27/lib/python2.7/site-packages/IPython/core/interactiveshell.py\", line 2950, in enable_matplotlib\n",
      "    pt.activate_matplotlib(backend)\n",
      "  File \"/home/aliche/anaconda3/envs/py27/lib/python2.7/site-packages/IPython/core/pylabtools.py\", line 308, in activate_matplotlib\n",
      "    matplotlib.pyplot.switch_backend(backend)\n",
      "  File \"/home/aliche/anaconda3/envs/py27/lib/python2.7/site-packages/matplotlib/pyplot.py\", line 232, in switch_backend\n",
      "    matplotlib.use(newbackend, warn=False, force=True)\n",
      "  File \"/home/aliche/anaconda3/envs/py27/lib/python2.7/site-packages/matplotlib/__init__.py\", line 1305, in use\n",
      "    reload(sys.modules['matplotlib.backends'])\n",
      "  File \"/home/aliche/anaconda3/envs/py27/lib/python2.7/site-packages/matplotlib/backends/__init__.py\", line 14, in <module>\n",
      "    line for line in traceback.format_stack()\n",
      "\n",
      "\n",
      "  matplotlib.use('Agg')\n",
      "/home/aliche/anaconda3/envs/py27/lib/python2.7/site-packages/NeuroTools/signals/analogs.py:41: UserWarning: \n",
      "This call to matplotlib.use() has no effect because the backend has already\n",
      "been chosen; matplotlib.use() must be called *before* pylab, matplotlib.pyplot,\n",
      "or matplotlib.backends is imported for the first time.\n",
      "\n",
      "The backend was *originally* set to 'module://ipykernel.pylab.backend_inline' by the following code:\n",
      "  File \"/home/aliche/anaconda3/envs/py27/lib/python2.7/runpy.py\", line 174, in _run_module_as_main\n",
      "    \"__main__\", fname, loader, pkg_name)\n",
      "  File \"/home/aliche/anaconda3/envs/py27/lib/python2.7/runpy.py\", line 72, in _run_code\n",
      "    exec code in run_globals\n",
      "  File \"/home/aliche/anaconda3/envs/py27/lib/python2.7/site-packages/ipykernel_launcher.py\", line 16, in <module>\n",
      "    app.launch_new_instance()\n",
      "  File \"/home/aliche/anaconda3/envs/py27/lib/python2.7/site-packages/traitlets/config/application.py\", line 658, in launch_instance\n",
      "    app.start()\n",
      "  File \"/home/aliche/anaconda3/envs/py27/lib/python2.7/site-packages/ipykernel/kernelapp.py\", line 478, in start\n",
      "    self.io_loop.start()\n",
      "  File \"/home/aliche/anaconda3/envs/py27/lib/python2.7/site-packages/zmq/eventloop/ioloop.py\", line 177, in start\n",
      "    super(ZMQIOLoop, self).start()\n",
      "  File \"/home/aliche/anaconda3/envs/py27/lib/python2.7/site-packages/tornado/ioloop.py\", line 888, in start\n",
      "    handler_func(fd_obj, events)\n",
      "  File \"/home/aliche/anaconda3/envs/py27/lib/python2.7/site-packages/tornado/stack_context.py\", line 277, in null_wrapper\n",
      "    return fn(*args, **kwargs)\n",
      "  File \"/home/aliche/anaconda3/envs/py27/lib/python2.7/site-packages/zmq/eventloop/zmqstream.py\", line 440, in _handle_events\n",
      "    self._handle_recv()\n",
      "  File \"/home/aliche/anaconda3/envs/py27/lib/python2.7/site-packages/zmq/eventloop/zmqstream.py\", line 472, in _handle_recv\n",
      "    self._run_callback(callback, msg)\n",
      "  File \"/home/aliche/anaconda3/envs/py27/lib/python2.7/site-packages/zmq/eventloop/zmqstream.py\", line 414, in _run_callback\n",
      "    callback(*args, **kwargs)\n",
      "  File \"/home/aliche/anaconda3/envs/py27/lib/python2.7/site-packages/tornado/stack_context.py\", line 277, in null_wrapper\n",
      "    return fn(*args, **kwargs)\n",
      "  File \"/home/aliche/anaconda3/envs/py27/lib/python2.7/site-packages/ipykernel/kernelbase.py\", line 283, in dispatcher\n",
      "    return self.dispatch_shell(stream, msg)\n",
      "  File \"/home/aliche/anaconda3/envs/py27/lib/python2.7/site-packages/ipykernel/kernelbase.py\", line 233, in dispatch_shell\n",
      "    handler(stream, idents, msg)\n",
      "  File \"/home/aliche/anaconda3/envs/py27/lib/python2.7/site-packages/ipykernel/kernelbase.py\", line 399, in execute_request\n",
      "    user_expressions, allow_stdin)\n",
      "  File \"/home/aliche/anaconda3/envs/py27/lib/python2.7/site-packages/ipykernel/ipkernel.py\", line 208, in do_execute\n",
      "    res = shell.run_cell(code, store_history=store_history, silent=silent)\n",
      "  File \"/home/aliche/anaconda3/envs/py27/lib/python2.7/site-packages/ipykernel/zmqshell.py\", line 537, in run_cell\n",
      "    return super(ZMQInteractiveShell, self).run_cell(*args, **kwargs)\n",
      "  File \"/home/aliche/anaconda3/envs/py27/lib/python2.7/site-packages/IPython/core/interactiveshell.py\", line 2718, in run_cell\n",
      "    interactivity=interactivity, compiler=compiler, result=result)\n",
      "  File \"/home/aliche/anaconda3/envs/py27/lib/python2.7/site-packages/IPython/core/interactiveshell.py\", line 2822, in run_ast_nodes\n",
      "    if self.run_code(code, result):\n",
      "  File \"/home/aliche/anaconda3/envs/py27/lib/python2.7/site-packages/IPython/core/interactiveshell.py\", line 2882, in run_code\n",
      "    exec(code_obj, self.user_global_ns, self.user_ns)\n",
      "  File \"<ipython-input-2-0cc1e9b748f9>\", line 1, in <module>\n",
      "    get_ipython().magic(u'matplotlib inline')\n",
      "  File \"/home/aliche/anaconda3/envs/py27/lib/python2.7/site-packages/IPython/core/interactiveshell.py\", line 2160, in magic\n",
      "    return self.run_line_magic(magic_name, magic_arg_s)\n",
      "  File \"/home/aliche/anaconda3/envs/py27/lib/python2.7/site-packages/IPython/core/interactiveshell.py\", line 2081, in run_line_magic\n",
      "    result = fn(*args,**kwargs)\n",
      "  File \"<decorator-gen-105>\", line 2, in matplotlib\n",
      "  File \"/home/aliche/anaconda3/envs/py27/lib/python2.7/site-packages/IPython/core/magic.py\", line 188, in <lambda>\n",
      "    call = lambda f, *a, **k: f(*a, **k)\n",
      "  File \"/home/aliche/anaconda3/envs/py27/lib/python2.7/site-packages/IPython/core/magics/pylab.py\", line 100, in matplotlib\n",
      "    gui, backend = self.shell.enable_matplotlib(args.gui)\n",
      "  File \"/home/aliche/anaconda3/envs/py27/lib/python2.7/site-packages/IPython/core/interactiveshell.py\", line 2950, in enable_matplotlib\n",
      "    pt.activate_matplotlib(backend)\n",
      "  File \"/home/aliche/anaconda3/envs/py27/lib/python2.7/site-packages/IPython/core/pylabtools.py\", line 308, in activate_matplotlib\n",
      "    matplotlib.pyplot.switch_backend(backend)\n",
      "  File \"/home/aliche/anaconda3/envs/py27/lib/python2.7/site-packages/matplotlib/pyplot.py\", line 232, in switch_backend\n",
      "    matplotlib.use(newbackend, warn=False, force=True)\n",
      "  File \"/home/aliche/anaconda3/envs/py27/lib/python2.7/site-packages/matplotlib/__init__.py\", line 1305, in use\n",
      "    reload(sys.modules['matplotlib.backends'])\n",
      "  File \"/home/aliche/anaconda3/envs/py27/lib/python2.7/site-packages/matplotlib/backends/__init__.py\", line 14, in <module>\n",
      "    line for line in traceback.format_stack()\n",
      "\n",
      "\n",
      "  matplotlib.use('Agg')\n",
      "/home/aliche/anaconda3/envs/py27/lib/python2.7/site-packages/statsmodels/compat/pandas.py:56: FutureWarning: The pandas.core.datetools module is deprecated and will be removed in a future version. Please use the pandas.tseries module instead.\n",
      "  from pandas.core import datetools\n"
     ]
    }
   ],
   "source": [
    "%matplotlib inline\n",
    "%load_ext autoreload\n",
    "%autoreload 2\n",
    "import numpy as np\n",
    "import matplotlib.pyplot as pl\n",
    "import pickle as pkl\n",
    "import fnmatch,os\n",
    "import itertools\n",
    "import statsmodels.formula.api as sm\n",
    "from scipy.stats import pearsonr,ttest_ind,ranksums,linregress,ks_2samp,entropy,mannwhitneyu,spearmanr,wilcoxon\n",
    "import pandas as pd\n",
    "import seaborn as sns\n",
    "from signale.tools import locate"
   ]
  },
  {
   "cell_type": "code",
   "execution_count": 3,
   "metadata": {},
   "outputs": [],
   "source": [
    "###100ms\n",
    "les100rn = sorted([os.path.join(item[0],item[1])for item in locate('*100ms.lsn','../PCA_MEC/DATA_REV/')])\n",
    "cnt100rn = sorted([os.path.join(item[0],item[1])for item in locate('*100ms.cnt','../PCA_MEC/DATA_REV/')])\n",
    "###Theta\n",
    "lesThrn = sorted([os.path.join(item[0],item[1])for item in locate('*-theta.lsn','../PCA_MEC/DATA_REV/')])\n",
    "cntThrn = sorted([os.path.join(item[0],item[1])for item in locate('*-theta.cnt','../PCA_MEC/DATA_REV/')])\n",
    "##############################################################################\n",
    "###100ms\n",
    "les100 = sorted([os.path.join(item[0],item[1])for item in locate('*100ms-vis.lsn','../PCA_MEC/DATA_REV/')])\n",
    "les100Pre = np.array([])\n",
    "les100Imm = np.array([])\n",
    "les100Post = np.array([])\n",
    "for item in les100:\n",
    "    les100Pre  = np.append(les100Pre,pkl.load(open(item,'rb'))[0])\n",
    "    les100Imm  = np.append(les100Imm,pkl.load(open(item,'rb'))[1])\n",
    "    les100Post = np.append(les100Post,pkl.load(open(item,'rb'))[2])\n",
    "cnt100 = sorted([os.path.join(item[0],item[1])for item in locate('*100ms-vis.cnt','../PCA_MEC/DATA_REV/')])\n",
    "cnt100Pre = np.array([])\n",
    "cnt100Imm = np.array([])\n",
    "cnt100Post = np.array([])\n",
    "for item in cnt100:\n",
    "    cnt100Pre  = np.append(cnt100Pre,pkl.load(open(item,'rb'))[0])\n",
    "    cnt100Imm  = np.append(cnt100Imm,pkl.load(open(item,'rb'))[1])\n",
    "    cnt100Post = np.append(cnt100Post,pkl.load(open(item,'rb'))[2])\n",
    "###Theta\n",
    "lesTh = sorted([os.path.join(item[0],item[1])for item in locate('*-theta-vis.lsn','../PCA_MEC/DATA_REV/')])\n",
    "lesThPre = np.array([])\n",
    "lesThImm = np.array([])\n",
    "lesThPost = np.array([])\n",
    "for item in lesTh:\n",
    "    lesThPre  = np.append(lesThPre,pkl.load(open(item,'rb'))[0])\n",
    "    lesThImm  = np.append(lesThImm,pkl.load(open(item,'rb'))[1])\n",
    "    lesThPost = np.append(lesThPost,pkl.load(open(item,'rb'))[2])\n",
    "cntTh = sorted([os.path.join(item[0],item[1])for item in locate('*-theta-vis.cnt','../PCA_MEC/DATA_REV/')])\n",
    "cntThPre = np.array([])\n",
    "cntThImm = np.array([])\n",
    "cntThPost = np.array([])\n",
    "for item in cntTh:\n",
    "    cntThPre  = np.append(cntThPre,pkl.load(open(item,'rb'))[0])\n",
    "    cntThImm  = np.append(cntThImm,pkl.load(open(item,'rb'))[1])\n",
    "    cntThPost = np.append(cntThPost,pkl.load(open(item,'rb'))[2])\n",
    "\n",
    "##############################################################################"
   ]
  },
  {
   "cell_type": "code",
   "execution_count": 4,
   "metadata": {},
   "outputs": [],
   "source": [
    "shuffled_slopes = pkl.load(open('/home/aliche/ownCloud/IpythonNotebooks/Sleep/MEC_Lesion_Project/files/SlopesShuffled.pkl','rb'))\n",
    "shuffled_gammas = pkl.load(open('/home/aliche/ownCloud/IpythonNotebooks/Sleep/MEC_Lesion_Project/files/GammaShuffled.pkl','rb'))"
   ]
  },
  {
   "cell_type": "code",
   "execution_count": 5,
   "metadata": {},
   "outputs": [
    {
     "data": {
      "text/plain": [
       "[<matplotlib.lines.Line2D at 0x7f1b767cfd90>]"
      ]
     },
     "execution_count": 5,
     "metadata": {},
     "output_type": "execute_result"
    },
    {
     "data": {
      "image/png": "[encoded data removed]",
      "text/plain": [
       "<matplotlib.figure.Figure at 0x7f1b76872e90>"
      ]
     },
     "metadata": {},
     "output_type": "display_data"
    }
   ],
   "source": [
    "pl.plot(shuffled_gammas[:1000,0],shuffled_gammas[:1000,1],'.')\n",
    "pl.plot(cntThPre,cntThPost,'.')\n",
    "pl.plot(lesThPre,lesThPost,'.')"
   ]
  },
  {
   "cell_type": "code",
   "execution_count": 6,
   "metadata": {},
   "outputs": [
    {
     "name": "stdout",
     "output_type": "stream",
     "text": [
      "Control Gamma Tests\n",
      "===========PRE===============\n",
      "Ttest_indResult(statistic=48.51439926785624, pvalue=0.0)\n",
      "RanksumsResult(statistic=8.535247929837157, pvalue=1.398551991303051e-17)\n",
      "MannwhitneyuResult(statistic=1110525.0, pvalue=6.992867585371401e-18)\n",
      "===========IMM===============\n",
      "Ttest_indResult(statistic=148.05929697627542, pvalue=0.0)\n",
      "RanksumsResult(statistic=10.978801029692152, pvalue=4.832954626942115e-28)\n",
      "MannwhitneyuResult(statistic=423930.0, pvalue=2.4165249087932383e-28)\n",
      "===========POST===============\n",
      "Ttest_indResult(statistic=88.13167370053532, pvalue=0.0)\n",
      "RanksumsResult(statistic=10.960411966464264, pvalue=5.922912988758572e-28)\n",
      "MannwhitneyuResult(statistic=429097.0, pvalue=2.9615147275568303e-28)\n"
     ]
    }
   ],
   "source": [
    "print 'Control Gamma Tests'\n",
    "print '===========PRE==============='\n",
    "print ttest_ind(cntThPre,shuffled_gammas[:,0])\n",
    "print ranksums(cntThPre,shuffled_gammas[:,0])\n",
    "print mannwhitneyu(cntThPre,shuffled_gammas[:,0])\n",
    "\n",
    "print '===========IMM==============='\n",
    "print ttest_ind(cntThImm,shuffled_gammas[:,1])\n",
    "print ranksums(cntThImm,shuffled_gammas[:,1])\n",
    "print mannwhitneyu(cntThImm,shuffled_gammas[:,1])\n",
    "\n",
    "print '===========POST==============='\n",
    "print ttest_ind(cntThPost,shuffled_gammas[:,1])\n",
    "print ranksums(cntThPost,shuffled_gammas[:,1])\n",
    "print mannwhitneyu(cntThPost,shuffled_gammas[:,1])\n"
   ]
  },
  {
   "cell_type": "code",
   "execution_count": 7,
   "metadata": {},
   "outputs": [
    {
     "name": "stdout",
     "output_type": "stream",
     "text": [
      "Lesion Gamma Tests\n",
      "===========PRE===============\n",
      "Ttest_indResult(statistic=50.952231826632556, pvalue=0.0)\n",
      "RanksumsResult(statistic=12.60920948961071, pvalue=1.8786790592963717e-36)\n",
      "MannwhitneyuResult(statistic=689005.0, pvalue=9.393575514776752e-37)\n",
      "===========IMM===============\n",
      "Ttest_indResult(statistic=102.80823289525684, pvalue=0.0)\n",
      "RanksumsResult(statistic=13.46055507177262, pvalue=2.6690362761115755e-41)\n",
      "MannwhitneyuResult(statistic=407503.0, pvalue=1.334545449899383e-41)\n",
      "===========POST===============\n",
      "Ttest_indResult(statistic=66.62990246889464, pvalue=0.0)\n",
      "RanksumsResult(statistic=13.25210844295674, pvalue=4.387024964298939e-40)\n",
      "MannwhitneyuResult(statistic=476427.0, pvalue=2.1935566862482378e-40)\n"
     ]
    }
   ],
   "source": [
    "print 'Lesion Gamma Tests'\n",
    "print '===========PRE==============='\n",
    "print ttest_ind(lesThPre,shuffled_gammas[:,0])\n",
    "print ranksums(lesThPre,shuffled_gammas[:,0])\n",
    "print mannwhitneyu(lesThPre,shuffled_gammas[:,0])\n",
    "\n",
    "print '===========IMM==============='\n",
    "print ttest_ind(lesThImm,shuffled_gammas[:,1])\n",
    "print ranksums(lesThImm,shuffled_gammas[:,1])\n",
    "print mannwhitneyu(lesThImm,shuffled_gammas[:,1])\n",
    "\n",
    "print '===========POST==============='\n",
    "print ttest_ind(lesThPost,shuffled_gammas[:,1])\n",
    "print ranksums(lesThPost,shuffled_gammas[:,1])\n",
    "print mannwhitneyu(lesThPost,shuffled_gammas[:,1])"
   ]
  },
  {
   "cell_type": "code",
   "execution_count": 8,
   "metadata": {},
   "outputs": [
    {
     "data": {
      "text/plain": [
       "LinregressResult(slope=1.418768055503035, intercept=-0.279153049885176, rvalue=0.9466751484454189, pvalue=3.010918185638646e-26, stderr=0.06828683634303076)"
      ]
     },
     "execution_count": 8,
     "metadata": {},
     "output_type": "execute_result"
    }
   ],
   "source": [
    "linregress(cntThPre,cntThPost)"
   ]
  },
  {
   "cell_type": "code",
   "execution_count": 9,
   "metadata": {},
   "outputs": [
    {
     "name": "stdout",
     "output_type": "stream",
     "text": [
      "                            OLS Regression Results                            \n",
      "==============================================================================\n",
      "Dep. Variable:                      y   R-squared:                       0.977\n",
      "Model:                            OLS   Adj. R-squared:                  0.976\n",
      "Method:                 Least Squares   F-statistic:                     2142.\n",
      "Date:                Fri, 18 May 2018   Prob (F-statistic):           2.50e-43\n",
      "Time:                        07:45:41   Log-Likelihood:                 7.5059\n",
      "No. Observations:                  52   AIC:                            -13.01\n",
      "Df Residuals:                      51   BIC:                            -11.06\n",
      "Df Model:                           1                                         \n",
      "Covariance Type:            nonrobust                                         \n",
      "==============================================================================\n",
      "                 coef    std err          t      P>|t|      [0.025      0.975]\n",
      "------------------------------------------------------------------------------\n",
      "x1             0.7946      0.017     46.279      0.000       0.760       0.829\n",
      "==============================================================================\n",
      "Omnibus:                       19.450   Durbin-Watson:                   2.009\n",
      "Prob(Omnibus):                  0.000   Jarque-Bera (JB):               26.367\n",
      "Skew:                          -1.334   Prob(JB):                     1.88e-06\n",
      "Kurtosis:                       5.246   Cond. No.                         1.00\n",
      "==============================================================================\n",
      "\n",
      "Warnings:\n",
      "[1] Standard Errors assume that the covariance matrix of the errors is correctly specified.\n",
      "[2.50373701e-43]\n"
     ]
    }
   ],
   "source": [
    "ols = sm.OLS(cntThPre,cntThPost).fit()\n",
    "print ols.summary()\n",
    "print ols.pvalues"
   ]
  },
  {
   "cell_type": "code",
   "execution_count": 10,
   "metadata": {},
   "outputs": [
    {
     "data": {
      "text/plain": [
       "[<matplotlib.lines.Line2D at 0x7f1b76685290>]"
      ]
     },
     "execution_count": 10,
     "metadata": {},
     "output_type": "execute_result"
    },
    {
     "data": {
      "image/png": "[encoded data removed]",
      "text/plain": [
       "<matplotlib.figure.Figure at 0x7f1b766851d0>"
      ]
     },
     "metadata": {},
     "output_type": "display_data"
    }
   ],
   "source": [
    "x_new = np.arange(0,4,0.1)\n",
    "pred = ols.predict(x_new)\n",
    "pl.plot(x_new,pred)\n",
    "pl.plot(cntThPre,cntThPost,'.')"
   ]
  },
  {
   "cell_type": "code",
   "execution_count": 11,
   "metadata": {},
   "outputs": [
    {
     "name": "stdout",
     "output_type": "stream",
     "text": [
      "Control ---------> SpearmanrResult(correlation=0.7040894732348673, pvalue=5.765624020877721e-09)\n",
      "Lesion ---------> SpearmanrResult(correlation=0.5002572512701783, pvalue=7.65673532026784e-06)\n"
     ]
    }
   ],
   "source": [
    "print 'Control --------->',spearmanr(cntThPre,cntThImm)\n",
    "print 'Lesion --------->',spearmanr(lesThPre,lesThImm)"
   ]
  },
  {
   "cell_type": "code",
   "execution_count": 12,
   "metadata": {},
   "outputs": [
    {
     "data": {
      "text/plain": [
       "SpearmanrResult(correlation=0.3766157278776712, pvalue=0.0)"
      ]
     },
     "execution_count": 12,
     "metadata": {},
     "output_type": "execute_result"
    }
   ],
   "source": [
    "spearmanr(shuffled_gammas[:,0],shuffled_gammas[:,1])"
   ]
  },
  {
   "cell_type": "code",
   "execution_count": 13,
   "metadata": {},
   "outputs": [],
   "source": [
    "slopeDB = pd.read_pickle('/home/aliche/ownCloud/IpythonNotebooks/Sleep/MEC_Lesion_Project/PCA_MEC/DATA/Slopes.db')"
   ]
  },
  {
   "cell_type": "code",
   "execution_count": 14,
   "metadata": {},
   "outputs": [
    {
     "name": "stdout",
     "output_type": "stream",
     "text": [
      "RanksumsResult(statistic=2.3927659616787476, pvalue=0.01672190375949676)\n"
     ]
    }
   ],
   "source": [
    "print ranksums(slopeDB[slopeDB.group=='control_im'].slope,slopeDB[slopeDB.group=='lesioned_im'].slope)"
   ]
  },
  {
   "cell_type": "code",
   "execution_count": 15,
   "metadata": {},
   "outputs": [
    {
     "data": {
      "text/plain": [
       "31"
      ]
     },
     "execution_count": 15,
     "metadata": {},
     "output_type": "execute_result"
    }
   ],
   "source": [
    "slopeDB[slopeDB.group=='lesioned_im'].shape[0]+slopeDB[slopeDB.group=='control_im'].shape[0]"
   ]
  },
  {
   "cell_type": "code",
   "execution_count": 16,
   "metadata": {},
   "outputs": [
    {
     "name": "stdout",
     "output_type": "stream",
     "text": [
      "RanksumsResult(statistic=3.20387306733256, pvalue=0.0013559224231836037)\n"
     ]
    },
    {
     "data": {
      "text/plain": [
       "31"
      ]
     },
     "execution_count": 16,
     "metadata": {},
     "output_type": "execute_result"
    }
   ],
   "source": [
    "print ranksums(slopeDB[slopeDB.group=='control_po'].slope,slopeDB[slopeDB.group=='lesioned_po'].slope)\n",
    "slopeDB[slopeDB.group=='lesioned_po'].shape[0]+slopeDB[slopeDB.group=='control_po'].shape[0]"
   ]
  },
  {
   "cell_type": "code",
   "execution_count": 17,
   "metadata": {},
   "outputs": [
    {
     "name": "stdout",
     "output_type": "stream",
     "text": [
      "WilcoxonResult(statistic=0.0, pvalue=0.002217721464237049)\n",
      "WilcoxonResult(statistic=0.0, pvalue=0.002217721464237049)\n",
      "WilcoxonResult(statistic=13.0, pvalue=0.041389404009149304)\n"
     ]
    }
   ],
   "source": [
    "z_cnt_im = (slopeDB[slopeDB.group=='control_im'].slope)\n",
    "print wilcoxon(z_cnt_im,y=np.ones_like(z_cnt_im))\n",
    "print wilcoxon(slopeDB[slopeDB.group=='control_po'].slope,np.ones_like(z_cnt_im))\n",
    "print wilcoxon(slopeDB[slopeDB.group=='control_po'].slope,slopeDB[slopeDB.group=='control_im'].slope)"
   ]
  },
  {
   "cell_type": "code",
   "execution_count": 18,
   "metadata": {},
   "outputs": [
    {
     "name": "stdout",
     "output_type": "stream",
     "text": [
      "WilcoxonResult(statistic=0.0, pvalue=0.0001318338889828333)\n",
      "WilcoxonResult(statistic=0.0, pvalue=0.0001318338889828333)\n",
      "WilcoxonResult(statistic=5.0, pvalue=0.00029256438440193296)\n"
     ]
    }
   ],
   "source": [
    "print wilcoxon(slopeDB[slopeDB.group=='lesioned_im'].slope)\n",
    "print wilcoxon(slopeDB[slopeDB.group=='lesioned_po'].slope)\n",
    "print wilcoxon(slopeDB[slopeDB.group=='lesioned_po'].slope,slopeDB[slopeDB.group=='lesioned_im'].slope)"
   ]
  },
  {
   "cell_type": "code",
   "execution_count": 20,
   "metadata": {},
   "outputs": [
    {
     "name": "stdout",
     "output_type": "stream",
     "text": [
      "WilcoxonResult(statistic=60.0, pvalue=1.0147158704532841e-08)\n",
      "WilcoxonResult(statistic=380.0, pvalue=1.5943047101625235e-07)\n"
     ]
    }
   ],
   "source": [
    "cnt_diff_Im = (cntThImm - cntThPre)/(cntThImm + cntThPre)*100\n",
    "les_diff_Im = (lesThImm - lesThPre)/(lesThImm + lesThPre)*100\n",
    "cnt_diff_Po = (cntThPost - cntThPre)/(cntThPost + cntThPre)*100\n",
    "les_diff_Po = (lesThPost - lesThPre)/(lesThPost + lesThPre)*100\n",
    "print wilcoxon(cnt_diff_Im)\n",
    "print wilcoxon(les_diff_Im)"
   ]
  },
  {
   "cell_type": "code",
   "execution_count": 22,
   "metadata": {},
   "outputs": [
    {
     "name": "stdout",
     "output_type": "stream",
     "text": [
      "WilcoxonResult(statistic=199.0, pvalue=8.105084475971961e-06)\n",
      "WilcoxonResult(statistic=623.0, pvalue=0.00010545721385243926)\n"
     ]
    }
   ],
   "source": [
    "print wilcoxon(cnt_diff_Im,cnt_diff_Po)\n",
    "print wilcoxon(les_diff_Im,les_diff_Po)"
   ]
  },
  {
   "cell_type": "code",
   "execution_count": 92,
   "metadata": {},
   "outputs": [
    {
     "data": {
      "text/plain": [
       "RanksumsResult(statistic=4.395288853143113, pvalue=1.1062554962606284e-05)"
      ]
     },
     "execution_count": 92,
     "metadata": {},
     "output_type": "execute_result"
    }
   ],
   "source": [
    "ranksums(cnt_diff_Im,les_diff_Im)"
   ]
  },
  {
   "cell_type": "code",
   "execution_count": null,
   "metadata": {},
   "outputs": [],
   "source": []
  }
 ],
 "metadata": {
  "kernelspec": {
   "display_name": "Python 2",
   "language": "python",
   "name": "python2"
  },
  "language_info": {
   "codemirror_mode": {
    "name": "ipython",
    "version": 2
   },
   "file_extension": ".py",
   "mimetype": "text/x-python",
   "name": "python",
   "nbconvert_exporter": "python",
   "pygments_lexer": "ipython2",
   "version": "2.7.15"
  }
 },
 "nbformat": 4,
 "nbformat_minor": 2
}
