{
 "metadata": {
  "name": "",
  "signature": "sha256:2c572b210268d856a15ae8ea5c99b9a255f4df89239cbde779c25ce7040668a4"
 },
 "nbformat": 3,
 "nbformat_minor": 0,
 "worksheets": [
  {
   "cells": [
    {
     "cell_type": "heading",
     "level": 1,
     "metadata": {},
     "source": [
      "Replays in Control Animal"
     ]
    },
    {
     "cell_type": "heading",
     "level": 6,
     "metadata": {},
     "source": [
      "This Notebooks contains codes for examining the quality of replay events in control experiments. "
     ]
    },
    {
     "cell_type": "code",
     "collapsed": false,
     "input": [
      "cd /media/chenani/Data/Scripts/Sleep-Oct14/src/"
     ],
     "language": "python",
     "metadata": {},
     "outputs": [
      {
       "output_type": "stream",
       "stream": "stdout",
       "text": [
        "/media/chenani/Data/Scripts/Sleep-Oct14/src\n"
       ]
      }
     ],
     "prompt_number": 3
    },
    {
     "cell_type": "code",
     "collapsed": false,
     "input": [
      "%matplotlib\n",
      "%load_ext autoreload\n",
      "%autoreload 2\n",
      "import numpy as np\n",
      "import matplotlib.pyplot as pl\n",
      "import pickle as pkl\n",
      "import Recordings\n",
      "import signale\n",
      "import extras.trees\n",
      "import os\n",
      "from scipy import stats\n",
      "import scipy.signal as scsig"
     ],
     "language": "python",
     "metadata": {},
     "outputs": [
      {
       "output_type": "stream",
       "stream": "stdout",
       "text": [
        "Using matplotlib backend: Qt4Agg\n",
        "The autoreload extension is already loaded. To reload it, use:\n",
        "  %reload_ext autoreload\n"
       ]
      }
     ],
     "prompt_number": 4
    },
    {
     "cell_type": "code",
     "collapsed": false,
     "input": [
      "animalPath = '/media/chenani/Data/ephysdata/Rats/MECLesion/Rat616Control/'\n",
      "#####Color themes\n",
      "Kay_theme = ['#66C2A5','#FC8D62']\n",
      "Sunshine_over_glacier = ['#004056','#2C858D','#74CEB7','#C9FFD5','#FFFFCB']\n",
      "Sweet_Valentine  = ['#7E001B','#BF1B32','#FF475A','#FF9583','#A97C53'] "
     ],
     "language": "python",
     "metadata": {},
     "outputs": [],
     "prompt_number": 5
    },
    {
     "cell_type": "code",
     "collapsed": false,
     "input": [
      "muaBL = []\n",
      "for item in extras.trees.locate('*p1.mua',animalPath):\n",
      "    muaBL.append(os.path.join(item[0],item[1]))\n",
      "seqzBL = []\n",
      "for item in extras.trees.locate('*p1M*.seqz',animalPath):\n",
      "    seqzBL.append(os.path.join(item[0],item[1]))\n",
      "muaAL = []\n",
      "for item in extras.trees.locate('*p2.mua',animalPath):\n",
      "    muaAL.append(os.path.join(item[0],item[1]))\n",
      "seqzAL = []\n",
      "for item in extras.trees.locate('*p2M*.seqz',animalPath):\n",
      "    seqzAL.append(os.path.join(item[0],item[1]))"
     ],
     "language": "python",
     "metadata": {},
     "outputs": [],
     "prompt_number": 6
    },
    {
     "cell_type": "code",
     "collapsed": false,
     "input": [
      "muaB = []\n",
      "for item in muaBL:\n",
      "    muaTemp = pkl.load(open(item,'rb'))\n",
      "    for jtem in muaTemp:\n",
      "        muaB.append(jtem)\n",
      "muaA = []\n",
      "for item in muaAL:\n",
      "    muaTemp = pkl.load(open(item,'rb'))\n",
      "    for jtem in muaTemp:\n",
      "        muaA.append(jtem)"
     ],
     "language": "python",
     "metadata": {},
     "outputs": [],
     "prompt_number": 7
    },
    {
     "cell_type": "code",
     "collapsed": false,
     "input": [
      "seqzMB = []\n",
      "for item in seqzBL:\n",
      "    seqzTemp = pkl.load(open(item,'rb'))\n",
      "    for jtem in seqzTemp:\n",
      "        seqzMB.append(jtem[:,0])\n",
      "seqzMA = []\n",
      "for item in seqzAL:\n",
      "    seqzTemp = pkl.load(open(item,'rb'))\n",
      "    for jtem in seqzTemp:\n",
      "        seqzMA.append(jtem[:,0])"
     ],
     "language": "python",
     "metadata": {},
     "outputs": [],
     "prompt_number": 8
    },
    {
     "cell_type": "code",
     "collapsed": false,
     "input": [
      "LeftFields = np.array([ 6,  9, 10,  5, 11,  7,  1,  0, 18, 12,  4, 13, 20])\n",
      "RightFields = np.array([19,  6,  5,  9, 10,  8,  7, 11,  4,  0, 20,  1, 18, 12, 13])\n",
      "interNeuronsIDs = np.int0([7,  4, 5])\n",
      "LeftFields = np.int0([item for item in LeftFields if item not in interNeuronsIDs])\n",
      "RightFields = np.int0([item for item in RightFields if item not in interNeuronsIDs])\n",
      "print RightFields,LeftFields"
     ],
     "language": "python",
     "metadata": {},
     "outputs": [
      {
       "output_type": "stream",
       "stream": "stdout",
       "text": [
        "[19  6  9 10  8 11  0 20  1 18 12 13] [ 6  9 10 11  1  0 18 12 13 20]\n"
       ]
      }
     ],
     "prompt_number": 9
    },
    {
     "cell_type": "heading",
     "level": 3,
     "metadata": {},
     "source": [
      "Order vectors of replay events!"
     ]
    },
    {
     "cell_type": "code",
     "collapsed": false,
     "input": [
      "#Note: plseqzALeft, plseqzARight, plseqzBLeft and plseqzBRight contain the place order vectors of place cells within\n",
      "#      each sequenced event!\n",
      "##################################\n",
      "##################################\n",
      "plseqzBRight = []\n",
      "for item in seqzMB:\n",
      "    plseq = []\n",
      "    for jj in range(RightFields.size):\n",
      "        order = np.where(item == RightFields[jj])[0]\n",
      "        if  order.size == 0 :\n",
      "            a = 1\n",
      "        else:\n",
      "            plseq.append(order[0])\n",
      "    plseqzBRight.append(plseq)\n",
      "###################################\n",
      "plseqzARight = []\n",
      "for item in seqzMA:\n",
      "    plseq = []\n",
      "    for jj in range(RightFields.size):\n",
      "        order = np.where(item == RightFields[jj])[0]\n",
      "        if  order.size == 0 :\n",
      "            a = 1\n",
      "        else:\n",
      "            plseq.append(order[0])\n",
      "    plseqzARight.append(plseq)\n",
      "\n",
      "##################################\n",
      "##################################\n",
      "plseqzBLeft = []\n",
      "for item in seqzMB:\n",
      "    plseq = []\n",
      "    for jj in range(LeftFields.size):\n",
      "        order = np.where(item == LeftFields[jj])[0]\n",
      "        if  order.size == 0 :\n",
      "            a = 1\n",
      "        else:\n",
      "            plseq.append(order[0])\n",
      "    plseqzBLeft.append(plseq)\n",
      "###################################\n",
      "plseqzALeft = []\n",
      "for item in seqzMA:\n",
      "    plseq = []\n",
      "    for jj in range(LeftFields.size):\n",
      "        order = np.where(item == LeftFields[jj])[0]\n",
      "        if  order.size == 0 :\n",
      "            a = 1\n",
      "        else:\n",
      "            plseq.append(order[0])\n",
      "    plseqzALeft.append(plseq)"
     ],
     "language": "python",
     "metadata": {},
     "outputs": [],
     "prompt_number": 10
    },
    {
     "cell_type": "code",
     "collapsed": false,
     "input": [
      "a = np.int0([4,8,5,0])\n",
      "rank = np.arange(a.size)\n",
      "print stats.pearsonr(rank,a)\n",
      "print stats.pearsonr(np.sort(a),a)"
     ],
     "language": "python",
     "metadata": {},
     "outputs": [
      {
       "output_type": "stream",
       "stream": "stdout",
       "text": [
        "(-0.58609849887342269, 0.41390150112657736)\n",
        "(-0.46564885496183206, 0.53435114503816783)\n"
       ]
      }
     ],
     "prompt_number": 11
    },
    {
     "cell_type": "code",
     "collapsed": false,
     "input": [
      "for jj,item in enumerate(plseqzBLeft):\n",
      "    if  len(item) == 4:\n",
      "        print item\n",
      "        print np.sort(item)\n",
      "        print seqzMB[jj]\n",
      "        print seqzMB[jj][item]"
     ],
     "language": "python",
     "metadata": {},
     "outputs": [
      {
       "output_type": "stream",
       "stream": "stdout",
       "text": [
        "[4, 8, 5, 0]\n",
        "[0 4 5 8]\n",
        "[ 20.  16.  14.   7.   0.  13.   4.   5.  12.  21.  22.  15.]\n",
        "[  0.  12.  13.  20.]\n"
       ]
      }
     ],
     "prompt_number": 12
    },
    {
     "cell_type": "code",
     "collapsed": false,
     "input": [
      "pearsonRBR  = []\n",
      "for item in plseqzBRight:\n",
      "    if len(item) > 3:\n",
      "        a,b= stats.pearsonr(range(len(item)),item)\n",
      "        pearsonRBR.append(np.array([a,b]))\n",
      "pearsonRBR = np.array(pearsonRBR)\n",
      "\n",
      "pearsonRAR  = []\n",
      "for item in plseqzARight:\n",
      "    if len(item) > 3:\n",
      "        a,b= stats.pearsonr(range(len(item)),item)\n",
      "        pearsonRAR.append(np.array([a,b]))\n",
      "pearsonRAR = np.array(pearsonRAR)\n",
      "##########################################\n",
      "pearsonRBL  = []\n",
      "for item in plseqzBLeft:\n",
      "    if len(item) > 3:\n",
      "        a,b= stats.pearsonr(range(len(item)),item)\n",
      "        pearsonRBL.append(np.array([a,b]))\n",
      "pearsonRBL = np.array(pearsonRBL)\n",
      "\n",
      "pearsonRAL  = []\n",
      "for item in plseqzALeft:\n",
      "    if len(item) > 3:\n",
      "        a,b= stats.pearsonr(range(len(item)),item)\n",
      "        pearsonRAL.append(np.array([a,b]))\n",
      "pearsonRAL = np.array(pearsonRAL)"
     ],
     "language": "python",
     "metadata": {},
     "outputs": [],
     "prompt_number": 13
    },
    {
     "cell_type": "code",
     "collapsed": false,
     "input": [
      "###################################\n",
      "###################################\n",
      "#\n",
      "#PEARSON R w.r.t place sorted event!\n",
      "#\n",
      "###################################\n",
      "###################################\n",
      "pearsonRBR  = []\n",
      "for item in plseqzBRight:\n",
      "    if len(item) > 2:\n",
      "        a,b= stats.pearsonr(np.sort(item),item)\n",
      "        pearsonRBR.append(np.array([a,b]))\n",
      "pearsonRBR = np.array(pearsonRBR)\n",
      "\n",
      "pearsonRAR  = []\n",
      "for item in plseqzARight:\n",
      "    if len(item) > 2:\n",
      "        a,b= stats.pearsonr(np.sort(item),item)\n",
      "        pearsonRAR.append(np.array([a,b]))\n",
      "pearsonRAR = np.array(pearsonRAR)\n",
      "##########################################\n",
      "pearsonRBL  = []\n",
      "for item in plseqzBLeft:\n",
      "    if len(item) > 2:\n",
      "        a,b= stats.pearsonr(np.sort(item),item)\n",
      "        pearsonRBL.append(np.array([a,b]))\n",
      "pearsonRBL = np.array(pearsonRBL)\n",
      "\n",
      "pearsonRAL  = []\n",
      "for item in plseqzALeft:\n",
      "    if len(item) > 2:\n",
      "        a,b= stats.pearsonr(np.sort(item),item)\n",
      "        pearsonRAL.append(np.array([a,b]))\n",
      "pearsonRAL = np.array(pearsonRAL)"
     ],
     "language": "python",
     "metadata": {},
     "outputs": [],
     "prompt_number": 14
    },
    {
     "cell_type": "code",
     "collapsed": false,
     "input": [
      "pearsonRBR,pearsonRBL"
     ],
     "language": "python",
     "metadata": {},
     "outputs": [
      {
       "metadata": {},
       "output_type": "pyout",
       "prompt_number": 15,
       "text": [
        "(array([[-1.        ,  0.        ],\n",
        "        [-0.76190476,  0.23809524],\n",
        "        [-0.5       ,  0.66666667],\n",
        "        [-0.5       ,  0.66666667],\n",
        "        [-0.5       ,  0.66666667],\n",
        "        [ 0.68421053,  0.52029388],\n",
        "        [ 0.78571429,  0.42459123],\n",
        "        [-0.76190476,  0.23809524],\n",
        "        [ 0.5       ,  0.66666667],\n",
        "        [-0.4       ,  0.6       ],\n",
        "        [ 0.23664122,  0.76335878],\n",
        "        [-0.8       ,  0.2       ],\n",
        "        [ 0.14285714,  0.9087421 ],\n",
        "        [-0.97368421,  0.14637279],\n",
        "        [-0.84615385,  0.35782475]]), array([[-0.5       ,  0.66666667],\n",
        "        [-0.5       ,  0.66666667],\n",
        "        [-0.92857143,  0.24207544],\n",
        "        [ 0.68421053,  0.52029388],\n",
        "        [ 0.78571429,  0.42459123],\n",
        "        [ 1.        ,  0.        ],\n",
        "        [ 1.        ,  0.        ],\n",
        "        [-0.5       ,  0.66666667],\n",
        "        [-0.46564885,  0.53435115],\n",
        "        [-1.        ,  0.        ],\n",
        "        [ 0.14285714,  0.9087421 ],\n",
        "        [-0.5       ,  0.66666667],\n",
        "        [-0.5       ,  0.66666667]]))"
       ]
      }
     ],
     "prompt_number": 15
    },
    {
     "cell_type": "code",
     "collapsed": false,
     "input": [
      "if pearsonRBR.size > 1:\n",
      "    histPBR,binsPBR = np.histogram(pearsonRBR[:,0],8000,normed=False)\n",
      "if pearsonRAR.size > 1:\n",
      "    histPAR,binsPAR = np.histogram(pearsonRAR[:,0],8000,normed=False)\n",
      "winPBR = scsig.gaussian(2115,2115/3)\n",
      "winPAR = scsig.gaussian(721,721/3)\n",
      "########################################\n",
      "if pearsonRBL.size > 1:\n",
      "    histPBL,binsPBL = np.histogram(pearsonRBL[:,0],8000,normed=False)\n",
      "if pearsonRAL.size > 1:\n",
      "    histPAL,binsPAL = np.histogram(pearsonRAL[:,0],8000,normed=False)\n",
      "winPBL = scsig.gaussian(2115,2115/3)\n",
      "winPAL = scsig.gaussian(1095,1095/3)"
     ],
     "language": "python",
     "metadata": {},
     "outputs": [],
     "prompt_number": 16
    },
    {
     "cell_type": "code",
     "collapsed": false,
     "input": [
      "f,ax = pl.subplots()\n",
      "if 'binsPBR' in locals():\n",
      "    binSizePB = np.diff(binsPBR)[0]\n",
      "    distPBR = np.convolve(histPBR,winPBR,'same')\n",
      "    distPBR = distPBR / distPBR.sum()\n",
      "    ax.plot((binsPBR+binSizePB)[:-1],distPBR,'k')\n",
      "if 'binsPAR' in locals():\n",
      "    binSizePA = np.diff(binsPAR)[0]\n",
      "    distPAR = np.convolve(histPAR,winPAR,'same')\n",
      "    distPAR = distPAR / distPAR.sum()\n",
      "    ax.plot((binsPAR+binSizePA)[:-1],distPAR,'r')\n",
      "\n",
      "##############################################\n",
      "if 'binsPBL' in locals():\n",
      "    binSizePB = np.diff(binsPBL)[0]\n",
      "    distPBL = np.convolve(histPBL,winPBL,'same')\n",
      "    distPBL = distPBL / distPBL.sum()\n",
      "    ax.plot((binsPBL+binSizePB)[:-1],distPBL,'g')\n",
      "if 'binsPAL' in locals():\n",
      "    binSizePA = np.diff(binsPAL)[0]\n",
      "    distPAL = np.convolve(histPAL,winPAL,'same')\n",
      "    distPAL = distPAL / distPAL.sum()\n",
      "    ax.plot((binsPAL+binSizePA)[:-1],distPAL,'m')\n",
      "#pl.yscale('log')\n",
      "#pl.xscale('log')"
     ],
     "language": "python",
     "metadata": {},
     "outputs": [],
     "prompt_number": 17
    },
    {
     "cell_type": "code",
     "collapsed": false,
     "input": [],
     "language": "python",
     "metadata": {},
     "outputs": [],
     "prompt_number": 17
    },
    {
     "cell_type": "code",
     "collapsed": false,
     "input": [
      "\n",
      "if 'binsPBR' in locals() and 'binsPBL' in locals():\n",
      "    f2, ax2 = pl.subplots()\n",
      "    n, bins, patches = ax2.hist([pearsonRBL[:,0],pearsonRBR[:,0]], 10, normed=1, histtype='bar',\n",
      "                            color=Sunshine_over_glacier[0:2],\n",
      "                            label=['Before L', 'Before R'])\n",
      "    pl.legend()\n",
      "    pl.title('Control Animal')\n",
      "    pl.xlabel('Pearson r')\n",
      "    pl.ylabel('Normed count')\n",
      "elif 'binsPBL' in locals():\n",
      "    f2, ax2 = pl.subplots()\n",
      "    n, bins = ax2.hist(pearsonRBL[:,0], 10, normed=1, histtype='bar',\n",
      "                            color=Sunshine_over_glacier[0],\n",
      "                            label=['Before L'])\n",
      "    pl.legend()\n",
      "    pl.title('Control Animal')\n",
      "    pl.xlabel('Pearson r')\n",
      "    pl.ylabel('Normed count')\n",
      "elif 'binsPBR' in locals():\n",
      "    f2, ax2 = pl.subplots()\n",
      "    n, bins = ax2.hist(pearsonRBR[:,0], 10, normed=1, histtype='bar',\n",
      "                            color=Sunshine_over_glacier[1],\n",
      "                            label=['Before R'])\n",
      "    pl.legend()\n",
      "    pl.title('Control Animal')\n",
      "    pl.xlabel('Pearson r')\n",
      "    pl.ylabel('Normed count')\n",
      "#################################\n",
      "\n",
      "if 'binsPAR' in locals() and 'binsPAR' in locals():\n",
      "    fig1, ax1 = pl.subplots()\n",
      "    n, bins, patches = ax1.hist([pearsonRAL[:,0],pearsonRAR[:,0]], 10, normed=True, histtype='bar',\n",
      "                            color=Sweet_Valentine[0:2],\n",
      "                            label=['After L', 'After R'])\n",
      "    pl.legend()\n",
      "    pl.title('Control Animal')\n",
      "    pl.xlabel('Pearson r')\n",
      "    pl.ylabel('Normed count')\n",
      "elif 'binsPAL' in locals():\n",
      "    fig1, ax1 = pl.subplots()\n",
      "    n, bins = ax1.hist(pearsonRAL[:,0], 10, normed=1, histtype='bar',\n",
      "                            color=Sweet_Valentine[0],\n",
      "                            label=['After L'])\n",
      "    pl.legend()\n",
      "    pl.title('Control Animal')\n",
      "    pl.xlabel('Pearson r')\n",
      "    pl.ylabel('Normed count')\n",
      "elif 'binsPAR' in locals():\n",
      "    fig1, ax1 = pl.subplots()\n",
      "    n, bins = ax1.hist(pearsonRAR[:,0], 10, normed=1, histtype='bar',\n",
      "                            color=Sweet_Valentine[1],\n",
      "                            label=['After R'])\n",
      "    pl.legend()\n",
      "    pl.title('Control Animal')\n",
      "    pl.xlabel('Pearson r')\n",
      "    pl.ylabel('Normed count')"
     ],
     "language": "python",
     "metadata": {},
     "outputs": [],
     "prompt_number": 18
    },
    {
     "cell_type": "code",
     "collapsed": false,
     "input": [],
     "language": "python",
     "metadata": {},
     "outputs": [],
     "prompt_number": 94
    },
    {
     "cell_type": "code",
     "collapsed": false,
     "input": [],
     "language": "python",
     "metadata": {},
     "outputs": [],
     "prompt_number": 106
    },
    {
     "cell_type": "code",
     "collapsed": false,
     "input": [],
     "language": "python",
     "metadata": {},
     "outputs": [],
     "prompt_number": 107
    },
    {
     "cell_type": "code",
     "collapsed": false,
     "input": [
      "nBL = []\n",
      "for item  in plseqzBLeft:\n",
      "    nBL.append(len(item))\n",
      "Lbins = np.linspace(0.5,20.5,21)\n",
      "BLhist,Lbins = np.histogram(nBL,Lbins)\n",
      "##################\n",
      "nAL = []\n",
      "for item  in plseqzALeft:\n",
      "    nAL.append(len(item))\n",
      "Lbins = np.linspace(0.5,20.5,21)\n",
      "ALhist,Lbins = np.histogram(nAL,Lbins)\n",
      "##############################\n",
      "##############################\n",
      "nBR = []\n",
      "for item  in plseqzBRight:\n",
      "    nBR.append(len(item))\n",
      "Lbins = np.linspace(0.5,20.5,21)\n",
      "BRhist,Lbins = np.histogram(nBR,Lbins)\n",
      "#################\n",
      "nAR = []\n",
      "for item  in plseqzARight:\n",
      "    nAR.append(len(item))\n",
      "Lbins = np.linspace(0.5,20.5,21)\n",
      "ARhist,Lbins = np.histogram(nAR,Lbins)\n",
      "###################"
     ],
     "language": "python",
     "metadata": {},
     "outputs": [],
     "prompt_number": 19
    },
    {
     "cell_type": "code",
     "collapsed": false,
     "input": [
      "fig, ax = pl.subplots()\n",
      "ind = np.arange(20)  # the x locations for the groups\n",
      "width = 0.35         # the width of the bars\n",
      "rects1 = ax.bar(ind, ALhist, width, color=Sweet_Valentine[0],log=1)\n",
      "rects2 = ax.bar(ind+width, ARhist, width, color=Sweet_Valentine[1])\n",
      "pl.legend(['After L','After R'])\n",
      "pl.xlim(-0.5,21)\n",
      "pl.xlabel('Sequence Length')\n",
      "pl.ylabel('Count')\n",
      "pl.title('Control Animal')\n",
      "#############################\n",
      "#############################\n",
      "fig1, ax1 = pl.subplots()\n",
      "ind = np.arange(20)  # the x locations for the groups\n",
      "width = 0.35         # the width of the bars\n",
      "rects3 = ax1.bar(ind, BLhist, width, color=Sunshine_over_glacier[0],log=1)\n",
      "rects4 = ax1.bar(ind+width, BRhist, width, color=Sunshine_over_glacier[1])\n",
      "pl.legend(['Before L', 'Before R'])\n",
      "pl.xlim(-0.5,21)\n",
      "pl.xlabel('Sequence Length')\n",
      "pl.ylabel('Count')\n",
      "pl.title('Control Animal')"
     ],
     "language": "python",
     "metadata": {},
     "outputs": [
      {
       "metadata": {},
       "output_type": "pyout",
       "prompt_number": 20,
       "text": [
        "<matplotlib.text.Text at 0x7f6f3be93b90>"
       ]
      }
     ],
     "prompt_number": 20
    },
    {
     "cell_type": "code",
     "collapsed": false,
     "input": [
      "print (3.5 * pearsonRB[:,0].std()) / np.math.pow(pearsonRB.shape[0],0.3333333333) / np.diff(binsPB)[0]\n",
      "print (3.5 * pearsonRA[:,0].std()) / np.math.pow(pearsonRA.shape[0],0.3333333333) / np.diff(binsPA)[0]"
     ],
     "language": "python",
     "metadata": {},
     "outputs": [
      {
       "ename": "NameError",
       "evalue": "name 'pearsonRB' is not defined",
       "output_type": "pyerr",
       "traceback": [
        "\u001b[1;31m---------------------------------------------------------------------------\u001b[0m\n\u001b[1;31mNameError\u001b[0m                                 Traceback (most recent call last)",
        "\u001b[1;32m<ipython-input-110-86f8068beca0>\u001b[0m in \u001b[0;36m<module>\u001b[1;34m()\u001b[0m\n\u001b[1;32m----> 1\u001b[1;33m \u001b[1;32mprint\u001b[0m \u001b[1;33m(\u001b[0m\u001b[1;36m3.5\u001b[0m \u001b[1;33m*\u001b[0m \u001b[0mpearsonRB\u001b[0m\u001b[1;33m[\u001b[0m\u001b[1;33m:\u001b[0m\u001b[1;33m,\u001b[0m\u001b[1;36m0\u001b[0m\u001b[1;33m]\u001b[0m\u001b[1;33m.\u001b[0m\u001b[0mstd\u001b[0m\u001b[1;33m(\u001b[0m\u001b[1;33m)\u001b[0m\u001b[1;33m)\u001b[0m \u001b[1;33m/\u001b[0m \u001b[0mnp\u001b[0m\u001b[1;33m.\u001b[0m\u001b[0mmath\u001b[0m\u001b[1;33m.\u001b[0m\u001b[0mpow\u001b[0m\u001b[1;33m(\u001b[0m\u001b[0mpearsonRB\u001b[0m\u001b[1;33m.\u001b[0m\u001b[0mshape\u001b[0m\u001b[1;33m[\u001b[0m\u001b[1;36m0\u001b[0m\u001b[1;33m]\u001b[0m\u001b[1;33m,\u001b[0m\u001b[1;36m0.3333333333\u001b[0m\u001b[1;33m)\u001b[0m \u001b[1;33m/\u001b[0m \u001b[0mnp\u001b[0m\u001b[1;33m.\u001b[0m\u001b[0mdiff\u001b[0m\u001b[1;33m(\u001b[0m\u001b[0mbinsPB\u001b[0m\u001b[1;33m)\u001b[0m\u001b[1;33m[\u001b[0m\u001b[1;36m0\u001b[0m\u001b[1;33m]\u001b[0m\u001b[1;33m\u001b[0m\u001b[0m\n\u001b[0m\u001b[0;32m      2\u001b[0m \u001b[1;32mprint\u001b[0m \u001b[1;33m(\u001b[0m\u001b[1;36m3.5\u001b[0m \u001b[1;33m*\u001b[0m \u001b[0mpearsonRA\u001b[0m\u001b[1;33m[\u001b[0m\u001b[1;33m:\u001b[0m\u001b[1;33m,\u001b[0m\u001b[1;36m0\u001b[0m\u001b[1;33m]\u001b[0m\u001b[1;33m.\u001b[0m\u001b[0mstd\u001b[0m\u001b[1;33m(\u001b[0m\u001b[1;33m)\u001b[0m\u001b[1;33m)\u001b[0m \u001b[1;33m/\u001b[0m \u001b[0mnp\u001b[0m\u001b[1;33m.\u001b[0m\u001b[0mmath\u001b[0m\u001b[1;33m.\u001b[0m\u001b[0mpow\u001b[0m\u001b[1;33m(\u001b[0m\u001b[0mpearsonRA\u001b[0m\u001b[1;33m.\u001b[0m\u001b[0mshape\u001b[0m\u001b[1;33m[\u001b[0m\u001b[1;36m0\u001b[0m\u001b[1;33m]\u001b[0m\u001b[1;33m,\u001b[0m\u001b[1;36m0.3333333333\u001b[0m\u001b[1;33m)\u001b[0m \u001b[1;33m/\u001b[0m \u001b[0mnp\u001b[0m\u001b[1;33m.\u001b[0m\u001b[0mdiff\u001b[0m\u001b[1;33m(\u001b[0m\u001b[0mbinsPA\u001b[0m\u001b[1;33m)\u001b[0m\u001b[1;33m[\u001b[0m\u001b[1;36m0\u001b[0m\u001b[1;33m]\u001b[0m\u001b[1;33m\u001b[0m\u001b[0m\n",
        "\u001b[1;31mNameError\u001b[0m: name 'pearsonRB' is not defined"
       ]
      }
     ],
     "prompt_number": 110
    },
    {
     "cell_type": "code",
     "collapsed": false,
     "input": [
      "np.diff(binsPA)[0]"
     ],
     "language": "python",
     "metadata": {},
     "outputs": [
      {
       "metadata": {},
       "output_type": "pyout",
       "prompt_number": 65,
       "text": [
        "0.0040000000000000036"
       ]
      }
     ],
     "prompt_number": 65
    },
    {
     "cell_type": "code",
     "collapsed": false,
     "input": [
      "pearsonRA.size"
     ],
     "language": "python",
     "metadata": {},
     "outputs": [
      {
       "metadata": {},
       "output_type": "pyout",
       "prompt_number": 124,
       "text": [
        "312"
       ]
      }
     ],
     "prompt_number": 124
    },
    {
     "cell_type": "code",
     "collapsed": false,
     "input": [
      "seqzAL"
     ],
     "language": "python",
     "metadata": {},
     "outputs": [
      {
       "metadata": {},
       "output_type": "pyout",
       "prompt_number": 111,
       "text": [
        "['/home/chenani/DATA-clone/MECLesion/Rat616Control/2013-06-02_07-42-38/sleep2/sleep2Median.seqz']"
       ]
      }
     ],
     "prompt_number": 111
    },
    {
     "cell_type": "code",
     "collapsed": false,
     "input": [],
     "language": "python",
     "metadata": {},
     "outputs": []
    }
   ],
   "metadata": {}
  }
 ]
}