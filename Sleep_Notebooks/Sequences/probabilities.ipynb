{
 "metadata": {
  "name": "",
  "signature": "sha256:6a2c66b1b8d5fad0dfddbe16c310f06b7cc20151b58f509af96136948c090006"
 },
 "nbformat": 3,
 "nbformat_minor": 0,
 "worksheets": [
  {
   "cells": [
    {
     "cell_type": "code",
     "collapsed": false,
     "input": [
      "%matplotlib inline\n",
      "%load_ext autoreload\n",
      "%autoreload 2\n",
      "from scipy.misc import comb\n",
      "import numpy as np\n",
      "import matplotlib.pyplot as pl\n",
      "import pickle as pkl\n",
      "import sets\n",
      "import random\n",
      "import itertools\n",
      "import os,sys,fnmatch"
     ],
     "language": "python",
     "metadata": {},
     "outputs": [],
     "prompt_number": 1
    },
    {
     "cell_type": "code",
     "collapsed": false,
     "input": [
      "def subsequence(sub,ref):\n",
      "    '''\n",
      "    A function to determine the number of specefic sequence repeated within a larger sequence.\n",
      "    \n",
      "    Parameters:\n",
      "    sub:\n",
      "    ref:\n",
      "    \n",
      "    \n",
      "    Returns:\n",
      "    idx : This an array containing the index of elements of sub in the ref! if idx is stricktly increasing the sequence sub\n",
      "    is replayed whithin sequence ref!\n",
      "    '''\n",
      "    ref = np.array(ref)\n",
      "    idx = np.array([])\n",
      "    for ii in range(len(sub)):\n",
      "        index = np.where(ref == sub[ii])[0]\n",
      "        if index.size:\n",
      "            idx = np.append(idx,index)\n",
      "        else: \n",
      "            return [] , False\n",
      "    idx = np.int0(idx)\n",
      "    return idx, True\n",
      "\n",
      "def median(arr):\n",
      "    '''\n",
      "    mY median... ;)\n",
      "    '''\n",
      "    arr = np.array(arr)\n",
      "    if np.mod(arr.size,2) == 0 :\n",
      "        return arr[arr.size / 2 - 1]\n",
      "    else: \n",
      "        return arr[arr.size / 2 ]\n",
      "    \n",
      "def sequencer(arr,method = 'median'):\n",
      "    '''\n",
      "    This function sequences the given array(with possible repeated elements) into an array of distinct elements! Considering either \n",
      "    first or the midian position of repeated elements.\n",
      "    '''\n",
      "    arr = np.array(arr)\n",
      "    idx_seq = np.array([])\n",
      "    if method == 'median':\n",
      "        for item in set(arr):\n",
      "            idx_seq = np.append(idx_seq,median(np.where(arr == item)[0]))\n",
      "        idx_seq.sort()\n",
      "    if method == 'first':\n",
      "        for item in set(arr):\n",
      "            idx_seq = np.append(idx_seq,np.where(arr == item)[0][0])\n",
      "        idx_seq.sort()\n",
      "\n",
      "    return arr[np.int0(idx_seq)]\n",
      "\n",
      "def duplicate_indicator(arr_group,weights=np.array([])):\n",
      "    '''\n",
      "    Finds and counts the duplicates! This Function makes a frequency distribution the number of\n",
      "    arrays within a goup of arrays.\n",
      "    \n",
      "    Parameters:\n",
      "    -----------\n",
      "    arr_group: The one that you want to count\n",
      "    weights: an array containig the wights(results of a previous counting of etc.). If non empty the distribution will be weighted \n",
      "             with respect to this array!\n",
      "    Returns:\n",
      "    -----------\n",
      "    arr_set: Set of distinct arrays in arr_group\n",
      "    arr_weights: repitition counts of elements in arr_set.\n",
      "    '''\n",
      "    \n",
      "    arr_cp = np.copy(arr_group)   \n",
      "    for ii in range(len(arr_group)):\n",
      "        for jj in range(len(arr_group)):\n",
      "            if np.array_equal(arr_cp[jj], arr_cp[ii]) and ii != jj:\n",
      "                arr_cp[jj] = np.array([-1])\n",
      "    arr_set = []\n",
      "    for item in arr_cp:\n",
      "        if item.sum() > 0:\n",
      "            arr_set.append(item)\n",
      "    arr_set = np.array(arr_set)\n",
      "    ### Counting number of repititions\n",
      "    arr_weights = np.zeros(len(arr_set))\n",
      "    for ii in range(len(arr_set)):\n",
      "        for jj in range(len(arr_group)):\n",
      "            if np.array_equal(arr_group[jj],arr_set[ii]):\n",
      "                if weights.size:\n",
      "                    arr_weights[ii] += weights[jj]\n",
      "                else:\n",
      "                    arr_weights[ii] += 1\n",
      "    return arr_set,arr_weights\n",
      "\n",
      "def next_permutation(arr):\n",
      "    '''\n",
      "    \n",
      "        Computes the next lexicographical permutation of the specified list in place,\n",
      "     returning whether a next permutation existed. (Returns False when the argument\n",
      "     is already the last possible permutation.)\n",
      "    \n",
      "    \n",
      "         Example:\n",
      "            arr = [0, 1, 0]\n",
      "            next_permutation(arr)  (returns True)\n",
      "            arr has been modified to be [1, 0, 0]\n",
      "    Reference:\n",
      "    -----------\n",
      "    Nayuki Minase, 2014. Public domain.\n",
      "    http://nayuki.eigenstate.org/page/next-lexicographical-permutation-algorithm\n",
      "            '''\n",
      "    \n",
      "    i = len(arr) - 1\n",
      "    while i > 0 and arr[i - 1] >= arr[i]:\n",
      "        i -= 1\n",
      "    if i <= 0:\n",
      "        return False\n",
      "    \n",
      "    # Find successor to pivot\n",
      "    j = len(arr) - 1\n",
      "    while arr[j] <= arr[i - 1]:\n",
      "        j -= 1\n",
      "    arr[i - 1], arr[j] = arr[j], arr[i - 1]\n",
      "    \n",
      "    # Reverse suffix\n",
      "    arr[i : ] = arr[len(arr) - 1 : i - 1 : -1]\n",
      "    return True\n",
      "\n",
      "def number_of_permutations(arr):\n",
      "    Cnk = [] #keep the combinations!\n",
      "    s = 0    # sum of repitiotions of elements in arr!\n",
      "    arrcp = np.array(arr).copy()\n",
      "    arrcp.sort()\n",
      "    for item in set(arrcp):\n",
      "        reps = np.where(arrcp == item)[0].size\n",
      "        Cnk.append(comb(arrcp.size - s,reps,True))\n",
      "        s += reps\n",
      "    return np.prod(np.array(Cnk))\n",
      "def all_permutations(arr):\n",
      "    '''\n",
      "    produces all possible permutations of a given array using lexographical ordering.\n",
      "    Sequence the arrays and returns the weights of all possible sequences!\n",
      "    written by A. Chenani Sep. 2014\n",
      "    '''\n",
      "    sqStack = []\n",
      "    weightsStack = []\n",
      "    for item in arr:\n",
      "        item.sort()\n",
      "        arr_seqz = [sequencer(item)]\n",
      "        \n",
      "        #####creating MUA permutation list!\n",
      "        while next_permutation(item):\n",
      "            arr_seqz.append(sequencer(item))\n",
      "        arr_seqz = np.array(arr_seqz) \n",
      "        #print 'mua permutated!!!'\n",
      "        \n",
      "        #####Sequencing Permutations\n",
      "        arr_seqz_set = np.array([])\n",
      "        sample_seq = arr_seqz[1].copy()\n",
      "        sample_seq.sort()\n",
      "        arr_seqz_set = np.append(arr_seqz_set,sample_seq)\n",
      "    \n",
      "        while next_permutation(sample_seq):\n",
      "            arr_seqz_set = np.append(arr_seqz_set,sample_seq)\n",
      "        arr_seqz_set = arr_seqz_set.reshape(np.math.factorial(sample_seq.size),arr_seqz[0].size)\n",
      "        #print arr_seqz_set\n",
      "        \n",
      "        #####Calculating the wights of all possible sequences\n",
      "        weights = []\n",
      "        for item in arr_seqz_set:\n",
      "            selection = arr_seqz[np.where(arr_seqz[:,0]==item[0])[0]]\n",
      "            for ii in range(1,arr_seqz_set.shape[1]):\n",
      "                selection = selection[np.where(selection[:,ii]==item[ii])[0]]\n",
      "            weights.append(selection.size/float(arr_seqz.size))\n",
      "        weightsStack.append(np.array(weights))\n",
      "        sqStack.append(arr_seqz_set)\n",
      "    return sqStack,weightsStack\n",
      "\n",
      "def locate(pattern, root=os.curdir):\n",
      "    '''Locate all files matching supplied filename pattern in and below\n",
      "        supplied root directory.\n",
      "    '''\n",
      "    for path, dirs, files in os.walk(os.path.abspath(root)):\n",
      "        for filename in fnmatch.filter(files, pattern):\n",
      "            yield [path,filename]"
     ],
     "language": "python",
     "metadata": {},
     "outputs": [],
     "prompt_number": 2
    },
    {
     "cell_type": "code",
     "collapsed": false,
     "input": [
      "all_permutations(np.arange(5))"
     ],
     "language": "python",
     "metadata": {},
     "outputs": [
      {
       "ename": "TypeError",
       "evalue": "iteration over a 0-d array",
       "output_type": "pyerr",
       "traceback": [
        "\u001b[1;31m---------------------------------------------------------------------------\u001b[0m\n\u001b[1;31mTypeError\u001b[0m                                 Traceback (most recent call last)",
        "\u001b[1;32m<ipython-input-6-ee9a8f3c8403>\u001b[0m in \u001b[0;36m<module>\u001b[1;34m()\u001b[0m\n\u001b[1;32m----> 1\u001b[1;33m \u001b[0mall_permutations\u001b[0m\u001b[1;33m(\u001b[0m\u001b[0mnp\u001b[0m\u001b[1;33m.\u001b[0m\u001b[0marange\u001b[0m\u001b[1;33m(\u001b[0m\u001b[1;36m5\u001b[0m\u001b[1;33m)\u001b[0m\u001b[1;33m)\u001b[0m\u001b[1;33m\u001b[0m\u001b[0m\n\u001b[0m",
        "\u001b[1;32m<ipython-input-2-954a58dde417>\u001b[0m in \u001b[0;36mall_permutations\u001b[1;34m(arr)\u001b[0m\n\u001b[0;32m    142\u001b[0m     \u001b[1;32mfor\u001b[0m \u001b[0mitem\u001b[0m \u001b[1;32min\u001b[0m \u001b[0marr\u001b[0m\u001b[1;33m:\u001b[0m\u001b[1;33m\u001b[0m\u001b[0m\n\u001b[0;32m    143\u001b[0m         \u001b[0mitem\u001b[0m\u001b[1;33m.\u001b[0m\u001b[0msort\u001b[0m\u001b[1;33m(\u001b[0m\u001b[1;33m)\u001b[0m\u001b[1;33m\u001b[0m\u001b[0m\n\u001b[1;32m--> 144\u001b[1;33m         \u001b[0marr_seqz\u001b[0m \u001b[1;33m=\u001b[0m \u001b[1;33m[\u001b[0m\u001b[0msequencer\u001b[0m\u001b[1;33m(\u001b[0m\u001b[0mitem\u001b[0m\u001b[1;33m)\u001b[0m\u001b[1;33m]\u001b[0m\u001b[1;33m\u001b[0m\u001b[0m\n\u001b[0m\u001b[0;32m    145\u001b[0m \u001b[1;33m\u001b[0m\u001b[0m\n\u001b[0;32m    146\u001b[0m         \u001b[1;31m#####creating MUA permutation list!\u001b[0m\u001b[1;33m\u001b[0m\u001b[1;33m\u001b[0m\u001b[0m\n",
        "\u001b[1;32m<ipython-input-2-954a58dde417>\u001b[0m in \u001b[0;36msequencer\u001b[1;34m(arr, method)\u001b[0m\n\u001b[0;32m     41\u001b[0m     \u001b[0midx_seq\u001b[0m \u001b[1;33m=\u001b[0m \u001b[0mnp\u001b[0m\u001b[1;33m.\u001b[0m\u001b[0marray\u001b[0m\u001b[1;33m(\u001b[0m\u001b[1;33m[\u001b[0m\u001b[1;33m]\u001b[0m\u001b[1;33m)\u001b[0m\u001b[1;33m\u001b[0m\u001b[0m\n\u001b[0;32m     42\u001b[0m     \u001b[1;32mif\u001b[0m \u001b[0mmethod\u001b[0m \u001b[1;33m==\u001b[0m \u001b[1;34m'median'\u001b[0m\u001b[1;33m:\u001b[0m\u001b[1;33m\u001b[0m\u001b[0m\n\u001b[1;32m---> 43\u001b[1;33m         \u001b[1;32mfor\u001b[0m \u001b[0mitem\u001b[0m \u001b[1;32min\u001b[0m \u001b[0mset\u001b[0m\u001b[1;33m(\u001b[0m\u001b[0marr\u001b[0m\u001b[1;33m)\u001b[0m\u001b[1;33m:\u001b[0m\u001b[1;33m\u001b[0m\u001b[0m\n\u001b[0m\u001b[0;32m     44\u001b[0m             \u001b[0midx_seq\u001b[0m \u001b[1;33m=\u001b[0m \u001b[0mnp\u001b[0m\u001b[1;33m.\u001b[0m\u001b[0mappend\u001b[0m\u001b[1;33m(\u001b[0m\u001b[0midx_seq\u001b[0m\u001b[1;33m,\u001b[0m\u001b[0mmedian\u001b[0m\u001b[1;33m(\u001b[0m\u001b[0mnp\u001b[0m\u001b[1;33m.\u001b[0m\u001b[0mwhere\u001b[0m\u001b[1;33m(\u001b[0m\u001b[0marr\u001b[0m \u001b[1;33m==\u001b[0m \u001b[0mitem\u001b[0m\u001b[1;33m)\u001b[0m\u001b[1;33m[\u001b[0m\u001b[1;36m0\u001b[0m\u001b[1;33m]\u001b[0m\u001b[1;33m)\u001b[0m\u001b[1;33m)\u001b[0m\u001b[1;33m\u001b[0m\u001b[0m\n\u001b[0;32m     45\u001b[0m         \u001b[0midx_seq\u001b[0m\u001b[1;33m.\u001b[0m\u001b[0msort\u001b[0m\u001b[1;33m(\u001b[0m\u001b[1;33m)\u001b[0m\u001b[1;33m\u001b[0m\u001b[0m\n",
        "\u001b[1;31mTypeError\u001b[0m: iteration over a 0-d array"
       ]
      }
     ],
     "prompt_number": 6
    },
    {
     "cell_type": "code",
     "collapsed": false,
     "input": [
      "np.ar"
     ],
     "language": "python",
     "metadata": {},
     "outputs": [
      {
       "output_type": "stream",
       "stream": "stdout",
       "text": [
        "/media/chenani/Data/ephysdata/Rats/MECLesion/Rat616Control/2013-06-02_07-42-38/sleep2\n"
       ]
      }
     ],
     "prompt_number": 3
    },
    {
     "cell_type": "code",
     "collapsed": false,
     "input": [],
     "language": "python",
     "metadata": {},
     "outputs": [],
     "prompt_number": 6
    },
    {
     "cell_type": "code",
     "collapsed": false,
     "input": [],
     "language": "python",
     "metadata": {},
     "outputs": [],
     "prompt_number": 7
    },
    {
     "cell_type": "code",
     "collapsed": false,
     "input": [],
     "language": "python",
     "metadata": {},
     "outputs": [],
     "prompt_number": 45
    },
    {
     "cell_type": "code",
     "collapsed": false,
     "input": [],
     "language": "python",
     "metadata": {},
     "outputs": [],
     "prompt_number": 13
    },
    {
     "cell_type": "code",
     "collapsed": false,
     "input": [
      "plMUA = np.array(pkl.load(open('place_cells.mua','rb')))"
     ],
     "language": "python",
     "metadata": {},
     "outputs": [],
     "prompt_number": 12
    },
    {
     "cell_type": "code",
     "collapsed": false,
     "input": [
      "seqz = pkl.load(open('sleep2.seqz','rb'))"
     ],
     "language": "python",
     "metadata": {},
     "outputs": [],
     "prompt_number": 13
    },
    {
     "cell_type": "code",
     "collapsed": false,
     "input": [
      "prb2 = []\n",
      "for ii in range(0,BBB2[1].size,2):\n",
      "    sms = BBB2[1][ii]+BBB2[1][ii+1]\n",
      "    prb2.append(BBB2[1][ii]/float(sms))\n",
      "    prb2.append(BBB2[1][ii+1]/float(sms))"
     ],
     "language": "python",
     "metadata": {},
     "outputs": [],
     "prompt_number": 143
    },
    {
     "cell_type": "code",
     "collapsed": false,
     "input": [
      "plSorted = np.array([np.array([np.where(idx == item)[0][0] for item in jtem]) for jtem in plSeqz])"
     ],
     "language": "python",
     "metadata": {},
     "outputs": [],
     "prompt_number": 13
    },
    {
     "cell_type": "code",
     "collapsed": false,
     "input": [
      "plSorted.dtype"
     ],
     "language": "python",
     "metadata": {},
     "outputs": [
      {
       "metadata": {},
       "output_type": "pyout",
       "prompt_number": 111,
       "text": [
        "dtype('O')"
       ]
      }
     ],
     "prompt_number": 111
    },
    {
     "cell_type": "code",
     "collapsed": false,
     "input": [
      "plSorted = np.array(plSorted)\n",
      "ccc = 0\n",
      "for item in plSorted:\n",
      "    if ((np.where(np.diff(item) > 0 )[0].size == item.size -2 or np.where(np.diff(item) < 0 )[0].size == item.size -2)\n",
      "        and item.size > 3):\n",
      "        print item\n",
      "        ccc +=1"
     ],
     "language": "python",
     "metadata": {},
     "outputs": [
      {
       "output_type": "stream",
       "stream": "stdout",
       "text": [
        "[ 0 10  7  9]\n",
        "[ 2  3  8 10  7]\n",
        "[ 0  8 10  5]\n",
        "[ 0  7  2  3  8 10]\n",
        "[6 8 0 3]\n",
        "[10  8  0  6  3]\n",
        "[6 3 7 4]\n",
        "[ 6 10  8  0]\n",
        "[10  7  3  4  0]\n",
        "[ 5 10  8  0]\n",
        "[4 0 1 7]\n",
        "[7 2 6 8]\n",
        "[0 2 7 3]\n",
        "[6 9 0 7]\n",
        "[7 1 0 3 2]\n",
        "[4 8 6 0]\n",
        "[7 6 8 5]\n",
        "[7 2 0 9]\n",
        "[ 0  1 10  7]\n",
        "[ 2  7  6 10]\n",
        "[3 1 7 9]\n",
        "[ 0  9  2  7  8 10]\n",
        "[0 4 8 1 7 9]\n",
        "[6 0 8 5]\n",
        "[3 0 7 2]\n",
        "[ 8  5  2 10]\n",
        "[ 6  5  2 10]\n",
        "[0 3 8 1]\n",
        "[ 7  8 10  0  2]\n",
        "[ 0  6  8 10  5]\n",
        "[ 6  8  0  5 10]\n",
        "[4 1 3 7]\n",
        "[1 3 4 0 6]\n",
        "[10  0  2  5]\n",
        "[2 0 5 6]\n",
        "[ 2 10  6  5]\n",
        "[2 3 4 8 0 1 7]\n",
        "[6 7 0 5]\n",
        "[10  8  0  6  5]\n",
        "[2 7 3 0]\n",
        "[ 7  8 10  0]\n",
        "[3 2 6 8]\n",
        "[2 5 6 8 0]\n",
        "[ 8 10  0  2]\n",
        "[10  0  2  6]\n",
        "[2 0 9 7]\n",
        "[8 6 0 9 7 2]\n",
        "[2 7 0 9]\n",
        "[7 6 9 0]\n",
        "[ 0 10  3  5  7]\n",
        "[ 0  7  8 10  5]\n"
       ]
      }
     ],
     "prompt_number": 119
    },
    {
     "cell_type": "code",
     "collapsed": false,
     "input": [
      "ccc/ float(len(plSeqz))"
     ],
     "language": "python",
     "metadata": {},
     "outputs": [
      {
       "metadata": {},
       "output_type": "pyout",
       "prompt_number": 120,
       "text": [
        "0.34459459459459457"
       ]
      }
     ],
     "prompt_number": 120
    },
    {
     "cell_type": "code",
     "collapsed": false,
     "input": [],
     "language": "python",
     "metadata": {},
     "outputs": []
    }
   ],
   "metadata": {}
  }
 ]
}