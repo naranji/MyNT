{
 "metadata": {
  "name": ""
 },
 "nbformat": 3,
 "nbformat_minor": 0,
 "worksheets": [
  {
   "cells": [
    {
     "cell_type": "code",
     "collapsed": false,
     "input": [
      "%matplotlib\n",
      "%load_ext autoreload\n",
      "%autoreload 2\n",
      "from scipy.misc import comb\n",
      "import numpy as np\n",
      "import matplotlib.pyplot as pl\n",
      "import pickle as pkl\n",
      "import sets\n",
      "import random\n",
      "import itertools\n",
      "import os,sys,fnmatch\n",
      "from scipy.misc import comb"
     ],
     "language": "python",
     "metadata": {},
     "outputs": [
      {
       "output_type": "stream",
       "stream": "stdout",
       "text": [
        "Using matplotlib backend: Qt4Agg\n"
       ]
      }
     ],
     "prompt_number": 1
    },
    {
     "cell_type": "code",
     "collapsed": false,
     "input": [
      "def subsequence(sub,ref):\n",
      "    '''\n",
      "    A function to determine the number of specefic sequence repeated within a larger sequence.\n",
      "    \n",
      "    Parameters:\n",
      "    sub:\n",
      "    ref:\n",
      "    \n",
      "    \n",
      "    Returns:\n",
      "    idx : This an array containing the index of elements of sub in the ref! if idx is stricktly increasing the sequence sub\n",
      "    is replayed whithin sequence ref!\n",
      "    '''\n",
      "    ref = np.array(ref)\n",
      "    idx = np.array([])\n",
      "    for ii in range(len(sub)):\n",
      "        index = np.where(ref == sub[ii])[0]\n",
      "        if index.size:\n",
      "            idx = np.append(idx,index)\n",
      "        else: \n",
      "            return [] , False\n",
      "    idx = np.int0(idx)\n",
      "    return idx, True\n",
      "\n",
      "def median(arr):\n",
      "    '''\n",
      "    mY median... ;)\n",
      "    '''\n",
      "    arr = np.array(arr)\n",
      "    if np.mod(arr.size,2) == 0 :\n",
      "        return arr[arr.size / 2 - 1]\n",
      "    else: \n",
      "        return arr[arr.size / 2 ]\n",
      "    \n",
      "def sequencer(arr):\n",
      "    '''\n",
      "    sequences the given array!\n",
      "    '''\n",
      "    arr = np.array(arr)\n",
      "    idx_seq = np.array([])\n",
      "    for item in set(arr):\n",
      "        idx_seq = np.append(idx_seq,median(np.where(arr == item)[0]))\n",
      "    idx_seq.sort()\n",
      "\n",
      "    return arr[np.int0(idx_seq)]\n",
      "\n",
      "def duplicate_indicator(arr,weights=np.array([])):\n",
      "    '''\n",
      "    Finds and counts the duplicates!\n",
      "    '''\n",
      "    \n",
      "    arr_cp = np.copy(arr)   \n",
      "    for ii in range(len(arr)):\n",
      "        for jj in range(len(arr)):\n",
      "            if np.array_equal(arr_cp[jj], arr_cp[ii]) and ii != jj:\n",
      "                arr_cp[jj] = np.array([-1])\n",
      "    arr_set = []\n",
      "    for item in arr_cp:\n",
      "        if item.sum() > 0:\n",
      "            arr_set.append(item)\n",
      "    arr_set = np.array(arr_set)\n",
      "    ### Counting number of repititions\n",
      "    arr_weights = np.zeros(len(arr_set))\n",
      "    for ii in range(len(arr_set)):\n",
      "        for jj in range(len(arr)):\n",
      "            if np.array_equal(arr[jj],arr_set[ii]):\n",
      "                if weights.size:\n",
      "                    arr_weights[ii] += weights[jj]\n",
      "                else:\n",
      "                    arr_weights[ii] += 1\n",
      "    return arr_set,arr_weights\n",
      "\n",
      "def next_permutation(arr):\n",
      "    '''\n",
      "    \n",
      "        Computes the next lexicographical permutation of the specified list in place,\n",
      "     returning whether a next permutation existed. (Returns False when the argument\n",
      "     is already the last possible permutation.)\n",
      "    \n",
      "    \n",
      "         Example:\n",
      "            arr = [0, 1, 0]\n",
      "            next_permutation(arr)  (returns True)\n",
      "            arr has been modified to be [1, 0, 0]\n",
      "    Reference:\n",
      "    -----------\n",
      "    Nayuki Minase, 2014. Public domain.\n",
      "    http://nayuki.eigenstate.org/page/next-lexicographical-permutation-algorithm\n",
      "            '''\n",
      "    \n",
      "    i = len(arr) - 1\n",
      "    while i > 0 and arr[i - 1] >= arr[i]:\n",
      "        i -= 1\n",
      "    if i <= 0:\n",
      "        return False\n",
      "    \n",
      "    # Find successor to pivot\n",
      "    j = len(arr) - 1\n",
      "    while arr[j] <= arr[i - 1]:\n",
      "        j -= 1\n",
      "    arr[i - 1], arr[j] = arr[j], arr[i - 1]\n",
      "    \n",
      "    # Reverse suffix\n",
      "    arr[i : ] = arr[len(arr) - 1 : i - 1 : -1]\n",
      "    return True\n",
      "\n",
      "def number_of_permutations(arr):\n",
      "    Cnk = [] #keep the combinations!\n",
      "    s = 0    # sum of repitiotions of elements in arr!\n",
      "    arrcp = np.array(arr).copy()\n",
      "    arrcp.sort()\n",
      "    for item in set(arrcp):\n",
      "        reps = np.where(arrcp == item)[0].size\n",
      "        Cnk.append(comb(arrcp.size - s,reps,True))\n",
      "        s += reps\n",
      "    return np.prod(np.array(Cnk))\n",
      "def all_permutations(arr):\n",
      "    '''\n",
      "    produces all possible permutations of a given array using lexographical ordering.\n",
      "    Sequence the arrays and returns the weights of all possible sequences!\n",
      "    written by A. Chenani Sep. 2014\n",
      "    '''\n",
      "    sqStack = []\n",
      "    weightsStack = []\n",
      "    for item in arr:\n",
      "        item.sort()\n",
      "        arr_seqz = [sequencer(item)]\n",
      "        #####creating MUA permutation list!\n",
      "        while next_permutation(item):\n",
      "            arr_seqz.append(sequencer(item))\n",
      "        arr_seqz = np.array(arr_seqz) \n",
      "        #print 'mua permutated!!!'\n",
      "        #####Sequencing Permutations\n",
      "        arr_seqz_set = np.array([])\n",
      "        sample_seq = arr_seqz[1].copy()\n",
      "        sample_seq.sort()\n",
      "        arr_seqz_set = np.append(arr_seqz_set,sample_seq)\n",
      "    \n",
      "        while next_permutation(sample_seq):\n",
      "            arr_seqz_set = np.append(arr_seqz_set,sample_seq)\n",
      "        arr_seqz_set = arr_seqz_set.reshape(np.math.factorial(sample_seq.size),arr_seqz[0].size)\n",
      "        #print arr_seqz_set\n",
      "        #####Calculating the wights of all possible sequences\n",
      "        weights = []\n",
      "        for item in arr_seqz_set:\n",
      "            selection = arr_seqz[np.where(arr_seqz[:,0]==item[0])[0]]\n",
      "            for ii in range(1,arr_seqz_set.shape[1]):\n",
      "                selection = selection[np.where(selection[:,ii]==item[ii])[0]]\n",
      "            weights.append(selection.size/float(arr_seqz.size))\n",
      "        weightsStack.append(np.array(weights))\n",
      "        sqStack.append(arr_seqz_set)\n",
      "    return sqStack,weightsStack\n",
      "def locate(pattern, root=os.curdir):\n",
      "    '''Locate all files matching supplied filename pattern in and below\n",
      "        supplied root directory.\n",
      "    '''\n",
      "    for path, dirs, files in os.walk(os.path.abspath(root)):\n",
      "        for filename in fnmatch.filter(files, pattern):\n",
      "            yield [path,filename]"
     ],
     "language": "python",
     "metadata": {},
     "outputs": [],
     "prompt_number": 2
    },
    {
     "cell_type": "code",
     "collapsed": false,
     "input": [
      "cd /home/chenani/atlas-home/Sleep/scripts/probs_pl/"
     ],
     "language": "python",
     "metadata": {},
     "outputs": [
      {
       "output_type": "stream",
       "stream": "stdout",
       "text": [
        "/home/chenani/atlas-home/Sleep/scripts/probs_pl\n"
       ]
      }
     ],
     "prompt_number": 4
    },
    {
     "cell_type": "code",
     "collapsed": false,
     "input": [
      "sqStack4 = []\n",
      "weightStack4 = []\n",
      "for item in locate(\"*5.prob\"):\n",
      "    AAA = pkl.load(open(os.path.join(item[0],item[1]),\"rb\"))\n",
      "    for ii in range(len(AAA[0])):\n",
      "        for jj in range(len(AAA[0][ii])):\n",
      "            sqStack4.append(AAA[0][ii][jj])\n",
      "            weightStack4.append(AAA[1][ii][jj])"
     ],
     "language": "python",
     "metadata": {},
     "outputs": [],
     "prompt_number": 5
    },
    {
     "cell_type": "code",
     "collapsed": false,
     "input": [
      "weightStack4 = np.array(weightStack4)\n",
      "prb4n = []\n",
      "for ii in range(0,weightStack4.size,120):\n",
      "    sms = weightStack4[ii:ii+120].sum()\n",
      "    for jj in range(120):\n",
      "        prb4n.append(weightStack4[ii + jj]/float(sms))\n",
      "prb4n = np.array(prb4n)"
     ],
     "language": "python",
     "metadata": {},
     "outputs": [],
     "prompt_number": 6
    },
    {
     "cell_type": "code",
     "collapsed": false,
     "input": [
      "BBB4n   = duplicate_indicator(np.array(sqStack4),prb4n)\n",
      "BBB4r = duplicate_indicator(np.array(sqStack4))"
     ],
     "language": "python",
     "metadata": {},
     "outputs": [],
     "prompt_number": 7
    },
    {
     "cell_type": "code",
     "collapsed": false,
     "input": [
      "cd /home/chenani/ATLAS-clone/workspace/scripts"
     ],
     "language": "python",
     "metadata": {},
     "outputs": [
      {
       "output_type": "stream",
       "stream": "stdout",
       "text": [
        "/home/chenani/ATLAS-clone/workspace/scripts\n"
       ]
      }
     ],
     "prompt_number": 10
    },
    {
     "cell_type": "code",
     "collapsed": false,
     "input": [
      "mua = np.array(pkl.load(open(\"place_cells.mua\",\"rb\")))\n",
      "seqz = np.array(pkl.load(open(\"sleep2.seqz\",\"rb\")))"
     ],
     "language": "python",
     "metadata": {},
     "outputs": [],
     "prompt_number": 11
    },
    {
     "cell_type": "code",
     "collapsed": false,
     "input": [
      "plSeqz = []\n",
      "for item in seqz:\n",
      "    arr = np.delete(item,np.where(item==2))\n",
      "    arr = np.delete(arr,np.where(arr==3))\n",
      "    arr = np.delete(arr,np.where(arr==4))\n",
      "    arr = np.delete(arr,np.where(arr==5))\n",
      "    arr = np.delete(arr,np.where(arr==14))\n",
      "    arr = np.delete(arr,np.where(arr==15))\n",
      "    arr = np.delete(arr,np.where(arr==16))\n",
      "    arr = np.delete(arr,np.where(arr==18))\n",
      "    arr = np.delete(arr,np.where(arr==19))\n",
      "    arr = np.delete(arr,np.where(arr==20))\n",
      "    arr = np.delete(arr,np.where(arr==21))\n",
      "    if len(set(arr)) > 2:\n",
      "        plSeqz.append(arr)"
     ],
     "language": "python",
     "metadata": {},
     "outputs": [],
     "prompt_number": 14
    },
    {
     "cell_type": "code",
     "collapsed": false,
     "input": [
      "prb4 = []\n",
      "for ii in range(0,BBB4n[1].size,120):\n",
      "    sms = BBB4r[1][ii]  # Number of repititions in permutations!\n",
      "    for jj in range(120):\n",
      "        prb4.append(BBB4n[1][ii + jj]/float(sms))\n",
      "prb4 = np.array(prb4)"
     ],
     "language": "python",
     "metadata": {},
     "outputs": [],
     "prompt_number": 12
    },
    {
     "cell_type": "code",
     "collapsed": false,
     "input": [
      "cc = 0\n",
      "for ii in range(0,len(BBB4n[0]),120):\n",
      "    picked_seq = []\n",
      "    for item in plSeqz:\n",
      "        if (subsequence(BBB4n[0][ii],item)[1] and item.size < 6):\n",
      "            picked_seq.append(item)\n",
      "    sq,wt = duplicate_indicator(picked_seq)\n",
      "    N = wt.sum()\n",
      "    idx = []\n",
      "    for item in sq:\n",
      "        for kk in range(len(BBB4n[0])):\n",
      "            if np.array_equal(item,BBB4n[0][kk]):\n",
      "                idx.append(kk)\n",
      "                break\n",
      "            \n",
      "    for jj in range(len(sq)): \n",
      "        if (np.math.pow(prb4[idx[jj]],wt[jj]) * np.math.pow(1-prb4[idx[jj]],N - wt[jj]) * comb(N,wt[jj])) < 0.05 :\n",
      "            cc +=1\n",
      "            print BBB4n[0][idx[jj]],(np.math.pow(prb4[idx[jj]],wt[jj]) * np.math.pow(1-prb4[idx[jj]],N - wt[jj]) * comb(N,wt[jj])),wt[jj],N\n",
      "            for ii in range(len(sq)):\n",
      "                print '%s ---> %d' %(sq[ii],wt[ii]) \n",
      "    print '-----------------------'\n",
      "print cc"
     ],
     "language": "python",
     "metadata": {},
     "outputs": [
      {
       "output_type": "stream",
       "stream": "stdout",
       "text": [
        "[  7.   8.  12.   0.   1.] 0.0159032375913 1.0 2.0\n",
        "[  7.   8.  12.   0.   1.] ---> 1\n",
        "[ 12.   0.   7.   1.   8.] ---> 1\n",
        "[ 12.   0.   7.   1.   8.] 0.0310499929138 1.0 2.0\n",
        "[  7.   8.  12.   0.   1.] ---> 1\n",
        "[ 12.   0.   7.   1.   8.] ---> 1\n",
        "-----------------------\n",
        "[  0.  12.   7.  13.  11.] 0.0141694494939 1.0 2.0\n",
        "[  0.  12.   7.  13.  11.] ---> 1\n",
        "[ 13.  12.   7.   0.  11.] ---> 1\n",
        "[ 13.  12.   7.   0.  11.] 0.0330497439609 1.0 2.0\n",
        "[  0.  12.   7.  13.  11.] ---> 1\n",
        "[ 13.  12.   7.   0.  11.] ---> 1\n",
        "-----------------------\n",
        "[  6.   9.  10.   7.   0.] 0.0125 1.0 1.0\n",
        "[  6.   9.  10.   7.   0.] ---> 1\n",
        "-----------------------\n",
        "[  8.  12.  13.   0.  11.] 0.0077380952381 1.0 1.0\n",
        "[  8.  12.  13.   0.  11.] ---> 1\n",
        "-----------------------\n",
        "[  7.   1.  12.  13.  11.] 0.00634920634921 1.0 1.0\n",
        "[  7.   1.  12.  13.  11.] ---> 1\n",
        "-----------------------\n",
        "[  7.   1.  10.   6.   9.] 0.00539682539683 1.0 1.0\n",
        "[  7.   1.  10.   6.   9.] ---> 1\n",
        "-----------------------\n",
        "[  0.  12.   7.   1.   6.] 0.0147828362114 1.0 1.0\n",
        "[  0.  12.   7.   1.   6.] ---> 1\n",
        "-----------------------\n",
        "[  7.  13.   9.  11.   1.]"
       ]
      },
      {
       "output_type": "stream",
       "stream": "stdout",
       "text": [
        " 0.00549783549784 1.0 1.0\n",
        "[  7.  13.   9.  11.   1.] ---> 1\n",
        "-----------------------\n",
        "[ 17.   7.  12.  13.  11.] 0.0123684373887 1.0 2.0\n",
        "[ 17.   7.  12.  13.  11.] ---> 1\n",
        "[ 11.  13.  17.  12.   7.] ---> 1\n",
        "[ 11.  13.  17.  12.   7.] 0.0178890116377 1.0 2.0\n",
        "[ 17.   7.  12.  13.  11.] ---> 1\n",
        "[ 11.  13.  17.  12.   7.] ---> 1\n",
        "-----------------------\n",
        "[ 13.  12.   7.   0.   9.] 0.00535714285714 1.0 1.0\n",
        "[ 13.  12.   7.   0.   9.] ---> 1\n",
        "-----------------------\n",
        "[ 0.  8.  1.  6.  9.] 0.0107142857143 1.0 1.0\n",
        "[ 0.  8.  1.  6.  9.] ---> 1\n",
        "-----------------------\n",
        "[  7.   8.  11.   0.  13.]"
       ]
      },
      {
       "output_type": "stream",
       "stream": "stdout",
       "text": [
        " 0.00614718614719 1.0 1.0\n",
        "[  7.   8.  11.   0.  13.] ---> 1\n",
        "-----------------------\n",
        "[ 13.   1.   9.  10.   7.] 0.0033189033189 1.0 1.0\n",
        "[ 13.   1.   9.  10.   7.] ---> 1\n",
        "-----------------------\n",
        "[  7.  12.   9.   0.  11.] 0.00952380952381 1.0 1.0\n",
        "[  7.  12.   9.   0.  11.] ---> 1\n",
        "-----------------------\n",
        "[  8.   9.  12.  13.   1.] 0.00277777777778 1.0 1.0\n",
        "[  8.   9.  12.  13.   1.] ---> 1\n",
        "-----------------------\n",
        "[  7.  10.  12.   6.   1.]"
       ]
      },
      {
       "output_type": "stream",
       "stream": "stdout",
       "text": [
        " 0.00595238095238 1.0 1.0\n",
        "[  7.  10.  12.   6.   1.] ---> 1\n",
        "-----------------------\n",
        "[ 1.  6.  7.  9.  8.] 0.00714285714286 1.0 1.0\n",
        "[ 1.  6.  7.  9.  8.] ---> 1\n",
        "-----------------------\n",
        "[  7.   8.   1.  12.  13.] 0.0154761904762 1.0 1.0\n",
        "[  7.   8.   1.  12.  13.] ---> 1\n",
        "-----------------------\n",
        "[  8.   1.   0.  12.  13.]"
       ]
      },
      {
       "output_type": "stream",
       "stream": "stdout",
       "text": [
        " 0.0165656565657 1.0 1.0\n",
        "[  8.   1.   0.  12.  13.] ---> 1\n",
        "-----------------------\n",
        "[ 13.  12.   7.   8.  11.] 0.00833333333333 1.0 1.0\n",
        "[ 13.  12.   7.   8.  11.] ---> 1\n",
        "-----------------------\n",
        "23\n"
       ]
      }
     ],
     "prompt_number": 18
    },
    {
     "cell_type": "code",
     "collapsed": false,
     "input": [
      "cc = 0\n",
      "for item in plSeqz:\n",
      "    if item.size ==5:\n",
      "        cc +=1\n",
      "print cc"
     ],
     "language": "python",
     "metadata": {},
     "outputs": [
      {
       "output_type": "stream",
       "stream": "stdout",
       "text": [
        "23\n"
       ]
      }
     ],
     "prompt_number": 17
    },
    {
     "cell_type": "code",
     "collapsed": false,
     "input": [],
     "language": "python",
     "metadata": {},
     "outputs": []
    }
   ],
   "metadata": {}
  }
 ]
}