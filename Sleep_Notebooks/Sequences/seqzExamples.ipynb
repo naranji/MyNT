{
 "metadata": {
  "name": ""
 },
 "nbformat": 3,
 "nbformat_minor": 0,
 "worksheets": [
  {
   "cells": [
    {
     "cell_type": "code",
     "collapsed": false,
     "input": [
      "cd /home/chenani/ATLAS-clone/workspace/Sleep/src/"
     ],
     "language": "python",
     "metadata": {},
     "outputs": [
      {
       "output_type": "stream",
       "stream": "stdout",
       "text": [
        "/home/chenani/ATLAS-clone/workspace/Sleep/src\n"
       ]
      }
     ],
     "prompt_number": 129
    },
    {
     "cell_type": "code",
     "collapsed": false,
     "input": [
      "%matplotlib\n",
      "%load_ext autoreload\n",
      "%autoreload 2\n",
      "import numpy as np\n",
      "import matplotlib.pyplot as pl\n",
      "import pickle as pkl\n",
      "import Recordings\n",
      "import signale\n",
      "import extras.trees\n",
      "import os\n",
      "from scipy import stats\n",
      "import scipy.signal as scsig"
     ],
     "language": "python",
     "metadata": {},
     "outputs": [
      {
       "output_type": "stream",
       "stream": "stdout",
       "text": [
        "Using matplotlib backend: Qt4Agg\n",
        "The autoreload extension is already loaded. To reload it, use:\n",
        "  %reload_ext autoreload\n"
       ]
      }
     ],
     "prompt_number": 130
    },
    {
     "cell_type": "code",
     "collapsed": false,
     "input": [
      "ControlAnimal = \"/home/chenani/DATA-clone/MECLesion/Rat616Control/2013-06-02_07-42-38/\"\n",
      "LesionedAnimal = \"/home/chenani/DATA-clone/MECLesion/Rat434Lesion/\""
     ],
     "language": "python",
     "metadata": {},
     "outputs": [],
     "prompt_number": 131
    },
    {
     "cell_type": "code",
     "collapsed": false,
     "input": [
      "LesionedSPK = pkl.load(open(LesionedAnimal+'sleep6/sleep6.spk','rb'))\n",
      "LesionedCSC = pkl.load(open(LesionedAnimal+'sleep6/sleep6.ephys','rb')).LFPs\n",
      "LesionREC = Recordings.ephys(LesionedSPK,LesionedCSC)\n",
      "del LesionedCSC\n",
      "del LesionedSPK"
     ],
     "language": "python",
     "metadata": {},
     "outputs": [],
     "prompt_number": 132
    },
    {
     "cell_type": "code",
     "collapsed": false,
     "input": [
      "for item in LesionREC.spikes:\n",
      "    item.timeAxis = LesionREC.timeAxis\n",
      "LesionREC.spikes.timeAxis = LesionREC.timeAxis\n",
      "LesionREC.spikes.convolveSpikes()\n",
      "LesionREC.spikes.sumConvolvedSpikeTrains()"
     ],
     "language": "python",
     "metadata": {},
     "outputs": [
      {
       "metadata": {},
       "output_type": "pyout",
       "prompt_number": 133,
       "text": [
        "array([ 0.,  0.,  0., ...,  0.,  0.,  0.])"
       ]
      }
     ],
     "prompt_number": 133
    },
    {
     "cell_type": "code",
     "collapsed": false,
     "input": [
      "LesionREC.coincidence('s')"
     ],
     "language": "python",
     "metadata": {},
     "outputs": [
      {
       "output_type": "stream",
       "stream": "stdout",
       "text": [
        "Using surrogate data...\n"
       ]
      }
     ],
     "prompt_number": 134
    },
    {
     "cell_type": "code",
     "collapsed": false,
     "input": [
      "LesionREC.MUA()"
     ],
     "language": "python",
     "metadata": {},
     "outputs": [],
     "prompt_number": 135
    },
    {
     "cell_type": "code",
     "collapsed": false,
     "input": [
      "LesionREC.sequencing()"
     ],
     "language": "python",
     "metadata": {},
     "outputs": [],
     "prompt_number": 136
    },
    {
     "cell_type": "code",
     "collapsed": false,
     "input": [
      "interNeuronIDs = np.int0([  7,  14,  27,  31,  38,  92, 102])\n",
      "\n",
      "placeCellIDs = np.int0([  0,   1,   2,   3,   4,   5,   6,   8,   9,  10,  11,  12,  13,\n",
      "        15,  16,  17,  18,  19,  20,  21,  22,  23,  24,  25,  26,  28,\n",
      "        29,  30,  32,  33,  34,  35,  36,  37,  39,  40,  41,  42,  43,\n",
      "        44,  45,  46,  47,  48,  49,  50,  51,  52,  53,  54,  55,  56,\n",
      "        57,  58,  59,  60,  61,  62,  63,  64,  65,  66,  67,  68,  69,\n",
      "        70,  71,  72,  73,  74,  75,  76,  77,  78,  79,  80,  81,  82,\n",
      "        83,  84,  85,  86,  87,  88,  89,  90,  91,  93,  94,  95,  96,\n",
      "        97,  98,  99, 100, 101, 103, 104, 105, 106, 107, 108, 109, 110,\n",
      "       111, 112])\n",
      "LeftFields = np.array([ 93,  53,  35,  49,  43,  86,  99,  89,  18,  82,  71, 104,  56,\n",
      "        17,  84,  90,  67,  23,  81,  22, 101,  70,   0,  97,  11, 100,\n",
      "        60,  96,  13,  95,  75,   2,   9,  88,   8,  80,   6,  34,  83,\n",
      "        78,  92,  25,   3])\n",
      "RightFields = np.array([ 35,  93,  43,  49,  89,  31,  18,  56,  86,  17,  71,  82,  67,\n",
      "        81,  90,  23,  22,  96, 100,  11,  70, 101,   0,  97,  60,  98,\n",
      "        13, 112,   2,   9,  88,  80,  34,  83,  29,  78,  25,  92,   3])"
     ],
     "language": "python",
     "metadata": {},
     "outputs": [],
     "prompt_number": 145
    },
    {
     "cell_type": "code",
     "collapsed": false,
     "input": [
      "a = []\n",
      "pl_t = []\n",
      "pl_s = []\n",
      "for jj,item in enumerate(LesionREC.sequence_median):\n",
      "    sqz = item[:,0]\n",
      "    plseqR = []\n",
      "    plseqL = []\n",
      "    for kk in range(RightFields.size):\n",
      "        order = np.where(sqz == RightFields[kk])[0]\n",
      "        if  order.size == 0 :\n",
      "            aa = 1\n",
      "        else:\n",
      "            plseqR.append(order[0])\n",
      "    if len(plseqR) >5:\n",
      "        R,P = stats.pearsonr(np.sort(plseqR),plseqR)\n",
      "        if np.abs(R) < 0.1:\n",
      "            a.append(item[:,0])\n",
      "            pl_t.append(np.int0([jtem for jtem in item[:,0] if jtem  in RightFields]))\n",
      "            pl_s.append(np.int0([jtem for jtem in RightFields if jtem  in item[:,0]]))\n",
      "            print jj\n",
      "            print R\n",
      "            if jj == 271:\n",
      "                f,ax = pl.subplots()\n",
      "                ax.plot(plseqR,'r*')\n",
      "            print '******'"
     ],
     "language": "python",
     "metadata": {},
     "outputs": [
      {
       "output_type": "stream",
       "stream": "stdout",
       "text": [
        "10\n",
        "0.046875\n",
        "******\n",
        "14\n",
        "-0.0391621129326\n",
        "******\n",
        "19\n",
        "-0.0945945945946\n",
        "******\n",
        "271\n",
        "0.0879478827362\n",
        "******"
       ]
      },
      {
       "output_type": "stream",
       "stream": "stdout",
       "text": [
        "\n",
        "276\n",
        "0.00437190323521\n",
        "******\n",
        "279\n",
        "-0.0552268244576\n",
        "******\n",
        "288\n",
        "0.0813220265275\n",
        "******\n",
        "302\n",
        "0.0485907409769\n",
        "******\n",
        "303\n",
        "-0.00786924939467\n",
        "******\n",
        "321\n",
        "0.0851697438952\n",
        "******\n",
        "333\n",
        "-0.00550122249389\n",
        "******\n",
        "342\n",
        "-0.0174568851854\n",
        "******\n",
        "349\n",
        "-0.0622009569378\n",
        "******\n",
        "383\n",
        "-0.0888888888889\n",
        "******\n",
        "402\n",
        "-0.0732323232323\n",
        "******\n",
        "428\n",
        "0.0546875\n",
        "******\n",
        "458\n",
        "-0.095652173913\n",
        "******\n",
        "465\n",
        "-0.099730458221\n",
        "******\n",
        "508"
       ]
      },
      {
       "output_type": "stream",
       "stream": "stdout",
       "text": [
        "\n",
        "-0.0135135135135\n",
        "******\n",
        "518\n",
        "0.0957661290323\n",
        "******\n",
        "526\n",
        "-0.0659425911559\n",
        "******\n",
        "531\n",
        "0.0412111017662\n",
        "******\n",
        "550\n",
        "0.00896458987001\n",
        "******\n",
        "557\n",
        "0.0660792951542\n",
        "******\n",
        "558\n",
        "-0.0778985507246\n",
        "******\n",
        "597\n",
        "-0.052207428171\n",
        "******\n",
        "609\n",
        "-0.0653811388973\n",
        "******\n",
        "640\n",
        "0.0952732644018\n",
        "******\n",
        "648\n",
        "0.0313293818798\n",
        "******\n",
        "669\n",
        "-0.0441527446301\n",
        "******\n",
        "693\n",
        "0.0217573221757\n",
        "******\n",
        "731\n",
        "0.0798004987531\n",
        "******\n",
        "740\n",
        "0.0138305754507\n",
        "******\n",
        "744\n",
        "-0.0777070063694\n",
        "******\n",
        "752\n",
        "-0.0879478827362\n",
        "******\n",
        "754\n",
        "-0.0359116022099\n",
        "******\n",
        "776\n",
        "0.0315160670146\n",
        "******\n",
        "796"
       ]
      },
      {
       "output_type": "stream",
       "stream": "stdout",
       "text": [
        "\n",
        "0.0878378378378\n",
        "******\n",
        "802\n",
        "0.0178066704353\n",
        "******\n",
        "812\n",
        "-0.0947368421053\n",
        "******\n",
        "813\n",
        "0.0327418145464\n",
        "******\n",
        "822\n",
        "0.0828471411902\n",
        "******\n",
        "833\n",
        "0.0588235294118\n",
        "******\n",
        "895\n",
        "-0.0988372093023\n",
        "******\n",
        "941\n",
        "0.00490196078431\n",
        "******\n",
        "962\n",
        "-0.0186150409531\n",
        "******\n",
        "965\n",
        "-0.098275862069\n",
        "******\n",
        "1011\n",
        "0.015351217243\n",
        "******\n",
        "1065\n",
        "-0.0918977705275\n",
        "******\n",
        "1097\n",
        "-0.0761534185659\n",
        "******\n",
        "1098\n",
        "0.0489178180656\n",
        "******\n",
        "1137"
       ]
      },
      {
       "output_type": "stream",
       "stream": "stdout",
       "text": [
        "\n",
        "0.0939738206965\n",
        "******\n",
        "1151\n",
        "-0.0046511627907\n",
        "******\n",
        "1161\n",
        "-0.0508474576271\n",
        "******\n",
        "1194\n",
        "-0.0857142857143\n",
        "******\n",
        "1197\n",
        "0.0453752181501\n",
        "******\n",
        "1215\n",
        "0.0962025316456\n",
        "******\n",
        "1219\n",
        "-0.0225130890052\n",
        "******\n",
        "1235\n",
        "-0.0652173913043\n",
        "******\n",
        "1236\n",
        "0.0776859504132\n",
        "******\n",
        "1260\n",
        "0.0953846153846\n",
        "******\n",
        "1268\n",
        "0.0369426751592\n",
        "******\n",
        "1316\n",
        "-0.0804174340086\n",
        "******\n",
        "1359\n",
        "0.0179894179894\n",
        "******\n",
        "1361\n",
        "-0.020316027088\n",
        "******\n",
        "1389\n",
        "-0.0515846704681\n",
        "******\n",
        "1404\n",
        "0.0222222222222\n",
        "******\n",
        "1406\n",
        "-0.0978947368421\n",
        "******\n",
        "1426\n",
        "0.0609756097561\n",
        "******\n",
        "1433\n",
        "-0.0965120887832\n",
        "******\n",
        "1435"
       ]
      },
      {
       "output_type": "stream",
       "stream": "stdout",
       "text": [
        "\n",
        "0.0714285714286\n",
        "******\n",
        "1493\n",
        "-0.0660258430507\n",
        "******\n",
        "1527\n",
        "-0.0577507598784\n",
        "******\n",
        "1541\n",
        "-0.00115074798619\n",
        "******\n",
        "1546\n",
        "-0.06600128783\n",
        "******\n",
        "1564\n",
        "-0.0646551724138\n",
        "******\n",
        "1565\n",
        "0.000190803281816\n",
        "******\n",
        "1568\n",
        "0.0232558139535\n",
        "******\n",
        "1573\n",
        "0.0780487804878\n",
        "******\n",
        "1655\n",
        "0.0\n",
        "******\n",
        "1656\n",
        "0.0330744786868\n",
        "******\n",
        "1676\n",
        "-0.015923566879\n",
        "******\n",
        "1689\n",
        "0.0106200753683\n",
        "******\n",
        "1694\n",
        "-0.0967741935484\n",
        "******\n",
        "1717"
       ]
      },
      {
       "output_type": "stream",
       "stream": "stdout",
       "text": [
        "\n",
        "-0.065371024735\n",
        "******\n",
        "1751\n",
        "0.0378630705394\n",
        "******\n",
        "1775\n",
        "0.0502049180328\n",
        "******\n",
        "1794\n",
        "-0.0558823529412\n",
        "******\n",
        "1822\n",
        "0.0964230171073\n",
        "******\n",
        "1841\n",
        "-0.0989660265879\n",
        "******\n",
        "1850\n",
        "0.0811638591118\n",
        "******\n",
        "1853\n",
        "-0.0338461538462\n",
        "******\n",
        "1866\n",
        "0.0893760539629\n",
        "******\n",
        "1867\n",
        "-0.0409356725146\n",
        "******\n",
        "1870\n",
        "0.0165289256198\n",
        "******\n",
        "1879\n",
        "0.0932664157256\n",
        "******\n",
        "1930\n",
        "-0.0599675850891\n",
        "******\n",
        "1947\n",
        "-0.0993150684932\n",
        "******\n",
        "1969"
       ]
      },
      {
       "output_type": "stream",
       "stream": "stdout",
       "text": [
        "\n",
        "0.00666666666667\n",
        "******\n",
        "2012\n",
        "-0.0927079516306\n",
        "******\n"
       ]
      }
     ],
     "prompt_number": 187
    },
    {
     "cell_type": "code",
     "collapsed": false,
     "input": [
      "LesionREC.sequence_raster(550,placeFields=RightFields,placeSort=1)\n",
      "pl.yticks(range(len(pl_s[3])),pl_s[3])"
     ],
     "language": "python",
     "metadata": {},
     "outputs": [
      {
       "metadata": {},
       "output_type": "pyout",
       "prompt_number": 176,
       "text": [
        "([<matplotlib.axis.YTick at 0x4408ca10>,\n",
        "  <matplotlib.axis.YTick at 0x4408cd50>,\n",
        "  <matplotlib.axis.YTick at 0x440a6a50>,\n",
        "  <matplotlib.axis.YTick at 0x43cb7a90>,\n",
        "  <matplotlib.axis.YTick at 0x43cb8210>,\n",
        "  <matplotlib.axis.YTick at 0x43cb8950>,\n",
        "  <matplotlib.axis.YTick at 0x43cbe0d0>,\n",
        "  <matplotlib.axis.YTick at 0x43cbe810>,\n",
        "  <matplotlib.axis.YTick at 0x43cbef50>,\n",
        "  <matplotlib.axis.YTick at 0x43cbf6d0>,\n",
        "  <matplotlib.axis.YTick at 0x43cbfe10>,\n",
        "  <matplotlib.axis.YTick at 0x43cc3590>],\n",
        " <a list of 12 Text yticklabel objects>)"
       ]
      }
     ],
     "prompt_number": 176
    },
    {
     "cell_type": "code",
     "collapsed": false,
     "input": [
      "pl_a[1]"
     ],
     "language": "python",
     "metadata": {},
     "outputs": [
      {
       "metadata": {},
       "output_type": "pyout",
       "prompt_number": 172,
       "text": [
        "array([10])"
       ]
      }
     ],
     "prompt_number": 172
    },
    {
     "cell_type": "code",
     "collapsed": false,
     "input": [
      "times = []\n",
      "for item in LesionREC.MultiUnitActivity[88]:\n",
      "    cell = item[0]\n",
      "    time_idx = item[1]\n",
      "    times.append(LesionREC.spikes[cell].spike_times[time_idx])\n",
      "times = np.array(times)"
     ],
     "language": "python",
     "metadata": {},
     "outputs": [],
     "prompt_number": 13
    },
    {
     "cell_type": "code",
     "collapsed": false,
     "input": [
      "times.min(),times.max()"
     ],
     "language": "python",
     "metadata": {},
     "outputs": [
      {
       "metadata": {},
       "output_type": "pyout",
       "prompt_number": 14,
       "text": [
        "(23758040.0, 23758226.0)"
       ]
      }
     ],
     "prompt_number": 14
    },
    {
     "cell_type": "code",
     "collapsed": false,
     "input": [
      "times"
     ],
     "language": "python",
     "metadata": {},
     "outputs": [
      {
       "metadata": {},
       "output_type": "pyout",
       "prompt_number": 15,
       "text": [
        "array([ 23758098.,  23758046.,  23758052.,  23758116.,  23758062.,\n",
        "        23758134.,  23758196.,  23758104.,  23758076.,  23758168.,\n",
        "        23758040.,  23758164.,  23758064.,  23758048.,  23758056.,\n",
        "        23758078.,  23758066.,  23758072.,  23758212.,  23758174.,\n",
        "        23758102.,  23758064.,  23758140.,  23758092.,  23758056.,\n",
        "        23758186.,  23758192.,  23758146.,  23758060.,  23758072.,\n",
        "        23758206.,  23758168.,  23758124.,  23758048.,  23758132.,\n",
        "        23758132.,  23758172.,  23758092.,  23758202.,  23758102.,\n",
        "        23758204.,  23758082.,  23758074.,  23758070.,  23758130.,\n",
        "        23758176.,  23758194.,  23758078.,  23758072.,  23758070.,\n",
        "        23758128.,  23758192.,  23758208.,  23758076.,  23758196.,\n",
        "        23758182.,  23758110.,  23758086.,  23758184.,  23758206.,\n",
        "        23758120.,  23758188.,  23758198.,  23758052.,  23758056.,\n",
        "        23758062.,  23758142.,  23758118.,  23758184.,  23758196.,\n",
        "        23758044.,  23758120.,  23758220.,  23758068.,  23758120.,\n",
        "        23758040.,  23758050.,  23758068.,  23758092.,  23758116.,\n",
        "        23758154.,  23758186.,  23758050.,  23758194.,  23758198.,\n",
        "        23758198.,  23758164.,  23758116.,  23758072.,  23758176.,\n",
        "        23758172.,  23758210.,  23758204.,  23758066.,  23758058.,\n",
        "        23758054.,  23758058.,  23758044.,  23758192.,  23758078.,\n",
        "        23758166.,  23758214.,  23758206.,  23758074.,  23758120.,\n",
        "        23758042.,  23758202.,  23758156.,  23758158.,  23758180.,\n",
        "        23758194.,  23758136.,  23758208.,  23758206.,  23758088.,\n",
        "        23758064.,  23758090.,  23758148.,  23758180.,  23758086.,\n",
        "        23758068.,  23758144.,  23758048.,  23758226.,  23758096.], dtype=float32)"
       ]
      }
     ],
     "prompt_number": 15
    },
    {
     "cell_type": "code",
     "collapsed": false,
     "input": [
      "LesionREC.sequence_raster(1119,placeFields=placeCellIDs)\n",
      "pl.yticks(range(40),np.int0(LesionREC.sequence_median[1119][:,0]))"
     ],
     "language": "python",
     "metadata": {},
     "outputs": [
      {
       "metadata": {},
       "output_type": "pyout",
       "prompt_number": 10,
       "text": [
        "([<matplotlib.axis.YTick at 0x39675d0>,\n",
        "  <matplotlib.axis.YTick at 0x3967cd0>,\n",
        "  <matplotlib.axis.YTick at 0x3970e50>,\n",
        "  <matplotlib.axis.YTick at 0x39d27d0>,\n",
        "  <matplotlib.axis.YTick at 0x39d2f10>,\n",
        "  <matplotlib.axis.YTick at 0x39ab690>,\n",
        "  <matplotlib.axis.YTick at 0x39abdd0>,\n",
        "  <matplotlib.axis.YTick at 0x39ac550>,\n",
        "  <matplotlib.axis.YTick at 0x39acc90>,\n",
        "  <matplotlib.axis.YTick at 0x39b5410>,\n",
        "  <matplotlib.axis.YTick at 0x39b5b50>,\n",
        "  <matplotlib.axis.YTick at 0x39b12d0>,\n",
        "  <matplotlib.axis.YTick at 0x39b1a10>,\n",
        "  <matplotlib.axis.YTick at 0x39c1190>,\n",
        "  <matplotlib.axis.YTick at 0x39c18d0>,\n",
        "  <matplotlib.axis.YTick at 0x39bf050>,\n",
        "  <matplotlib.axis.YTick at 0x39bf790>,\n",
        "  <matplotlib.axis.YTick at 0x39bfed0>,\n",
        "  <matplotlib.axis.YTick at 0x39cb650>,\n",
        "  <matplotlib.axis.YTick at 0x39cbd90>,\n",
        "  <matplotlib.axis.YTick at 0x39c4510>,\n",
        "  <matplotlib.axis.YTick at 0x39c4c50>,\n",
        "  <matplotlib.axis.YTick at 0x39c33d0>,\n",
        "  <matplotlib.axis.YTick at 0x39c3b10>,\n",
        "  <matplotlib.axis.YTick at 0x39c5290>,\n",
        "  <matplotlib.axis.YTick at 0x39c59d0>,\n",
        "  <matplotlib.axis.YTick at 0x39ba150>,\n",
        "  <matplotlib.axis.YTick at 0x39ba890>,\n",
        "  <matplotlib.axis.YTick at 0x39bafd0>,\n",
        "  <matplotlib.axis.YTick at 0x39b2750>,\n",
        "  <matplotlib.axis.YTick at 0x39b2e90>,\n",
        "  <matplotlib.axis.YTick at 0x399d610>,\n",
        "  <matplotlib.axis.YTick at 0x399dd50>,\n",
        "  <matplotlib.axis.YTick at 0x39a04d0>,\n",
        "  <matplotlib.axis.YTick at 0x39a0c10>,\n",
        "  <matplotlib.axis.YTick at 0x39a3390>,\n",
        "  <matplotlib.axis.YTick at 0x39a3ad0>,\n",
        "  <matplotlib.axis.YTick at 0x39d1250>,\n",
        "  <matplotlib.axis.YTick at 0x39d1990>,\n",
        "  <matplotlib.axis.YTick at 0x39d8110>],\n",
        " <a list of 40 Text yticklabel objects>)"
       ]
      }
     ],
     "prompt_number": 10
    },
    {
     "cell_type": "code",
     "collapsed": false,
     "input": [
      "del LesionREC"
     ],
     "language": "python",
     "metadata": {},
     "outputs": [],
     "prompt_number": 11
    },
    {
     "cell_type": "code",
     "collapsed": false,
     "input": [
      "ControlSPK = pkl.load(open(ControlAnimal+'sleep2/sleep2.spk','rb'))\n",
      "ControlCSC = pkl.load(open(ControlAnimal+'sleep2/sleep2.ephys','rb')).LFPs\n",
      "ControlREC = Recordings.ephys(ControlSPK,ControlCSC)\n",
      "del ControlSPK\n",
      "del ControlCSC"
     ],
     "language": "python",
     "metadata": {},
     "outputs": [],
     "prompt_number": 4
    },
    {
     "cell_type": "code",
     "collapsed": false,
     "input": [
      "for item in ControlREC.spikes:\n",
      "    item.timeAxis = ControlREC.timeAxis\n",
      "ControlREC.spikes.timeAxis = ControlREC.timeAxis\n",
      "ControlREC.spikes.convolveSpikes()\n",
      "ControlREC.spikes.sumConvolvedSpikeTrains()"
     ],
     "language": "python",
     "metadata": {},
     "outputs": [
      {
       "metadata": {},
       "output_type": "pyout",
       "prompt_number": 5,
       "text": [
        "array([ 0.,  0.,  0., ...,  0.,  0.,  0.])"
       ]
      }
     ],
     "prompt_number": 5
    },
    {
     "cell_type": "code",
     "collapsed": false,
     "input": [
      "ControlREC.coincidence('s')"
     ],
     "language": "python",
     "metadata": {},
     "outputs": [
      {
       "output_type": "stream",
       "stream": "stdout",
       "text": [
        "Using surrogate data...\n"
       ]
      }
     ],
     "prompt_number": 6
    },
    {
     "cell_type": "code",
     "collapsed": false,
     "input": [
      "ControlREC.MUA()"
     ],
     "language": "python",
     "metadata": {},
     "outputs": [],
     "prompt_number": 7
    },
    {
     "cell_type": "code",
     "collapsed": false,
     "input": [
      "ControlREC.sequencing()"
     ],
     "language": "python",
     "metadata": {},
     "outputs": [],
     "prompt_number": 8
    },
    {
     "cell_type": "code",
     "collapsed": false,
     "input": [
      "LeftFields = np.array([ 6,  9, 10, 11,  1,  0, 18, 12, 13, 20])\n",
      "RightFields = np.array([19,  6,  9, 10,  8, 11,  0, 20,  1, 18, 12, 13])\n",
      "placeIDs = np.union1d(LeftFields,RightFields)\n",
      "a = []\n",
      "pl_a = []\n",
      "for jj,item in enumerate(ControlREC.sequence_median):\n",
      "    sqz = item[:,0]\n",
      "    plseqR = []\n",
      "    plseqL = []\n",
      "    for kk in range(RightFields.size):\n",
      "        order = np.where(sqz == RightFields[kk])[0]\n",
      "        if  order.size == 0 :\n",
      "            aa = 1\n",
      "        else:\n",
      "            plseqR.append(order[0])\n",
      "    if len(plseqR) >3:\n",
      "        R,P = stats.pearsonr(np.sort(plseqR),plseqR)\n",
      "        if np.abs(R) > 0.8:\n",
      "            a.append(item[:,0])\n",
      "            pl_a.append(np.int0([jtem for jtem in item[:,0] if jtem  in placeIDs]))\n",
      "            print jj\n",
      "            print R\n",
      "            print plseqR\n",
      "            print '******'"
     ],
     "language": "python",
     "metadata": {},
     "outputs": [
      {
       "output_type": "stream",
       "stream": "stdout",
       "text": [
        "94\n",
        "0.855421686747\n",
        "[0, 5, 6, 4]\n",
        "******\n",
        "177\n",
        "-0.828571428571\n",
        "[4, 1, 2, 0]\n",
        "******\n",
        "247\n",
        "0.885714285714\n",
        "[2, 5, 4, 6]\n",
        "******\n",
        "550\n",
        "1.0\n",
        "[1, 2, 3, 5]\n",
        "******\n",
        "675\n",
        "-1.0\n",
        "[3, 2, 1, 0]\n",
        "******\n",
        "1118"
       ]
      },
      {
       "output_type": "stream",
       "stream": "stdout",
       "text": [
        "\n",
        "0.885714285714\n",
        "[1, 0, 2, 4]\n",
        "******\n",
        "1567\n",
        "-0.966101694915\n",
        "[5, 3, 1, 0]\n",
        "******\n",
        "1908\n",
        "0.902912621359\n",
        "[0, 3, 1, 5, 8]\n",
        "******\n",
        "2257"
       ]
      },
      {
       "output_type": "stream",
       "stream": "stdout",
       "text": [
        "\n",
        "0.946666666667\n",
        "[0, 4, 3, 6]\n",
        "******\n"
       ]
      }
     ],
     "prompt_number": 126
    },
    {
     "cell_type": "code",
     "collapsed": false,
     "input": [
      "ControlREC.sequence_raster(550,placeFields=RightFields,placeSort=0)\n",
      "#pl.yticks(range(len(pl_a[0])),pl_a[0])"
     ],
     "language": "python",
     "metadata": {},
     "outputs": [
      {
       "metadata": {},
       "output_type": "pyout",
       "prompt_number": 128,
       "text": [
        "(<matplotlib.figure.Figure at 0x390b3150>,\n",
        " <matplotlib.axes.AxesSubplot at 0x390c38d0>)"
       ]
      }
     ],
     "prompt_number": 128
    },
    {
     "cell_type": "code",
     "collapsed": false,
     "input": [
      "plseqR"
     ],
     "language": "python",
     "metadata": {},
     "outputs": [
      {
       "metadata": {},
       "output_type": "pyout",
       "prompt_number": 113,
       "text": [
        "[]"
       ]
      }
     ],
     "prompt_number": 113
    },
    {
     "cell_type": "code",
     "collapsed": false,
     "input": [
      "a[0],pl_a[0]"
     ],
     "language": "python",
     "metadata": {},
     "outputs": [
      {
       "metadata": {},
       "output_type": "pyout",
       "prompt_number": 68,
       "text": [
        "(array([ 17.,   0.,   9.,   4.,   1.,   5.,  10.]), array([ 0,  9,  1, 10]))"
       ]
      }
     ],
     "prompt_number": 68
    },
    {
     "cell_type": "code",
     "collapsed": false,
     "input": [],
     "language": "python",
     "metadata": {},
     "outputs": []
    }
   ],
   "metadata": {}
  }
 ]
}