{
 "metadata": {
  "name": "",
  "signature": "sha256:4a6554515fc5afcbf768cfa1fc8b60246d120fcec4997be56cdc74b8438547a4"
 },
 "nbformat": 3,
 "nbformat_minor": 0,
 "worksheets": [
  {
   "cells": [
    {
     "cell_type": "code",
     "collapsed": false,
     "input": [
      "%matplotlib inline\n",
      "%load_ext autoreload\n",
      "%autoreload 2\n",
      "from scipy.misc import comb\n",
      "import scipy as scp\n",
      "import numpy as np\n",
      "import matplotlib.pyplot as pl\n",
      "import pickle as pkl\n",
      "import sets\n",
      "import random\n",
      "import itertools\n",
      "import os,sys,fnmatch\n",
      "import timeit\n",
      "import scipy.stats"
     ],
     "language": "python",
     "metadata": {},
     "outputs": [],
     "prompt_number": 1
    },
    {
     "cell_type": "code",
     "collapsed": false,
     "input": [
      "def subsequence(sub,ref):\n",
      "    '''\n",
      "    A function to determine the number of specefic sequence repeated within a larger sequence.\n",
      "    \n",
      "    Parameters:\n",
      "    sub:\n",
      "    ref:\n",
      "    \n",
      "    \n",
      "    Returns:\n",
      "    idx : This an array containing the index of elements of sub in the ref! if idx is stricktly increasing the sequence sub\n",
      "    is replayed whithin sequence ref!\n",
      "    '''\n",
      "    ref = np.array(ref)\n",
      "    idx = np.array([])\n",
      "    for ii in range(len(sub)):\n",
      "        index = np.where(ref == sub[ii])[0]\n",
      "        if index.size:\n",
      "            idx = np.append(idx,index)\n",
      "        else: \n",
      "            return [] , False\n",
      "    idx = np.int0(idx)\n",
      "    return idx, True\n",
      "\n",
      "def median(arr):\n",
      "    '''\n",
      "    mY median... ;)\n",
      "    '''\n",
      "    arr = np.array(arr)\n",
      "    if np.mod(arr.size,2) == 0 :\n",
      "        return arr[arr.size / 2 - 1]\n",
      "    else: \n",
      "        return arr[arr.size / 2 ]\n",
      "    \n",
      "def sequencer(arr,method = 'median'):\n",
      "    '''\n",
      "    This function sequences the given array(with possible repeated elements) into an array of distinct elements! Considering either \n",
      "    first or the midian position of repeated elements.\n",
      "    '''\n",
      "    arr = np.array(arr)\n",
      "    idx_seq = np.array([])\n",
      "    if method == 'median':\n",
      "        for item in set(arr):\n",
      "            idx_seq = np.append(idx_seq,median(np.where(arr == item)[0]))\n",
      "        idx_seq.sort()\n",
      "    if method == 'first':\n",
      "        for item in set(arr):\n",
      "            idx_seq = np.append(idx_seq,np.where(arr == item)[0][0])\n",
      "        idx_seq.sort()\n",
      "\n",
      "    return arr[np.int0(idx_seq)]\n",
      "\n",
      "def duplicate_indicator(arr_group,weights=np.array([]),rptIndex = False):\n",
      "    '''\n",
      "    Finds and counts the duplicates! This Function makes a frequency distribution the number of\n",
      "    arrays within a goup of arrays.\n",
      "    \n",
      "    Parameters:\n",
      "    -----------\n",
      "    arr_group: The one that you want to count\n",
      "    weights: an array containig the wights(results of a previous counting of etc.). \n",
      "    If non empty the distribution will be weighted \n",
      "             with respect to this array!\n",
      "    Returns:\n",
      "    -----------\n",
      "    arr_set: Set of distinct arrays in arr_group\n",
      "    arr_weights: repitition counts of elements in arr_set.\n",
      "    '''\n",
      "    \n",
      "    arr_cp = np.copy(arr_group)   \n",
      "    for ii in range(len(arr_group)):\n",
      "        for jj in range(len(arr_group)):\n",
      "            if np.array_equal(arr_cp[jj], arr_cp[ii]) and ii != jj:\n",
      "                arr_cp[jj] = np.array([-1])\n",
      "    arr_set = []\n",
      "    for item in arr_cp:\n",
      "        if item.sum() > 0:\n",
      "            arr_set.append(item)\n",
      "    arr_set = np.array(arr_set)\n",
      "    ### Counting number of repititions\n",
      "    \n",
      "    if rptIndex:\n",
      "        rptIndex = []\n",
      "        arr_weights = np.zeros(len(arr_set))\n",
      "        for ii in range(len(arr_set)):\n",
      "            rpt_idx = []\n",
      "            for jj in range(len(arr_group)):\n",
      "                if np.array_equal(arr_group[jj],arr_set[ii]):\n",
      "                    if weights.size:\n",
      "                        arr_weights[ii] += weights[jj]\n",
      "                        rpt_idx.append(jj)\n",
      "                    else:\n",
      "                        arr_weights[ii] += 1\n",
      "                        rpt_idx.append(jj)\n",
      "            rptIndex.append(np.array(rpt_idx))\n",
      "        return arr_set,arr_weights,rptIndex\n",
      "    else:\n",
      "        arr_weights = np.zeros(len(arr_set))\n",
      "        for ii in range(len(arr_set)):\n",
      "            for jj in range(len(arr_group)):\n",
      "                if np.array_equal(arr_group[jj],arr_set[ii]):\n",
      "                    if weights.size:\n",
      "                        arr_weights[ii] += weights[jj]\n",
      "                    else:\n",
      "                        arr_weights[ii] += 1\n",
      "        return arr_set,arr_weights\n",
      "                    \n",
      "    \n",
      "\n",
      "def next_permutation(arr):\n",
      "    '''\n",
      "    \n",
      "        Computes the next lexicographical permutation of the specified list in place,\n",
      "     returning whether a next permutation existed. (Returns False when the argument\n",
      "     is already the last possible permutation.)\n",
      "    \n",
      "    \n",
      "         Example:\n",
      "            arr = [0, 1, 0]\n",
      "            next_permutation(arr)  (returns True)\n",
      "            arr has been modified to be [1, 0, 0]\n",
      "    Reference:\n",
      "    -----------\n",
      "    Nayuki Minase, 2014. Public domain.\n",
      "    http://nayuki.eigenstate.org/page/next-lexicographical-permutation-algorithm\n",
      "            '''\n",
      "    \n",
      "    i = len(arr) - 1\n",
      "    while i > 0 and arr[i - 1] >= arr[i]:\n",
      "        i -= 1\n",
      "    if i <= 0:\n",
      "        return False\n",
      "    \n",
      "    # Find successor to pivot\n",
      "    j = len(arr) - 1\n",
      "    while arr[j] <= arr[i - 1]:\n",
      "        j -= 1\n",
      "    arr[i - 1], arr[j] = arr[j], arr[i - 1]\n",
      "    \n",
      "    # Reverse suffix\n",
      "    arr[i : ] = arr[len(arr) - 1 : i - 1 : -1]\n",
      "    return True\n",
      "\n",
      "def number_of_permutations(arr):\n",
      "    Cnk = [] #keep the combinations!\n",
      "    s = 0    # sum of repitiotions of elements in arr!\n",
      "    arrcp = np.array(arr).copy()\n",
      "    arrcp.sort()\n",
      "    for item in set(arrcp):\n",
      "        reps = np.where(arrcp == item)[0].size\n",
      "        Cnk.append(comb(arrcp.size - s,reps,True))\n",
      "        s += reps\n",
      "    return np.prod(np.array(Cnk))\n",
      "def all_permutations(arr):\n",
      "    '''\n",
      "    produces all possible permutations of a given array using lexographical ordering.\n",
      "    Sequence the arrays and returns the weights of all possible sequences!\n",
      "    This version is fast but memory consuming, better for the short arrays!\n",
      "    written by A. Chenani Sep. 2014\n",
      "    '''\n",
      "    sqStack = []\n",
      "    weightsStack = []\n",
      "    for item in arr:\n",
      "        item.sort()\n",
      "        arr_seqz = [sequencer(item)]\n",
      "        #####Cunstructing sequence set\n",
      "        #start =  timeit.default_timer()\n",
      "        \n",
      "        arr_seqz_set = np.array([])\n",
      "        sample_seq = arr_seqz[0].copy()\n",
      "        sample_seq.sort()\n",
      "        arr_seqz_set = np.append(arr_seqz_set,sample_seq)\n",
      "        while next_permutation(sample_seq):\n",
      "            arr_seqz_set = np.append(arr_seqz_set,sample_seq)\n",
      "        arr_seqz_set = arr_seqz_set.reshape(np.math.factorial(sample_seq.size),arr_seqz[0].size)\n",
      "        \n",
      "        #stop = timeit.default_timer()\n",
      "        #print 'part one --> %f' %(stop - start)\n",
      "        \n",
      "        \n",
      "        #####creating MUA permutation list!\n",
      "        #start =  timeit.default_timer()\n",
      "        \n",
      "        while next_permutation(item):\n",
      "            arr_seqz.append(sequencer(item))\n",
      "        arr_seqz = np.array(arr_seqz) #This contains all sequences coming from permutations of an specific MUA!\n",
      "       \n",
      "        #stop = timeit.default_timer()\n",
      "        #print 'part two --> %f' %(stop - start)\n",
      "        \n",
      "        #####Calculating the wights of all possible sequences\n",
      "        #start =  timeit.default_timer()\n",
      "        weights = []\n",
      "        for item in arr_seqz_set:\n",
      "            selection = arr_seqz[np.where(arr_seqz[:,0]==item[0])[0]]\n",
      "            for ii in range(1,arr_seqz_set.shape[1]):\n",
      "                selection = selection[np.where(selection[:,ii]==item[ii])[0]]\n",
      "            weights.append(selection.size/float(arr_seqz.size))\n",
      "        weightsStack.append(np.array(weights))\n",
      "        sqStack.append(arr_seqz_set)\n",
      "        \n",
      "        #stop = timeit.default_timer()\n",
      "        #print 'part three --> %f' %(stop - start)\n",
      "    return sqStack,weightsStack\n",
      "def All_permutations(arr):\n",
      "    '''\n",
      "    produces all possible permutations of a given array using lexographical ordering.\n",
      "    Sequence the arrays and returns the weights of all possible sequences!\n",
      "    This version is not using that much memory but its slow, better for long arrays.\n",
      "    written by A. Chenani Sep. 2014\n",
      "    '''\n",
      "    sqStack = []\n",
      "    weightsStack = []\n",
      "    for item in arr:\n",
      "        item.sort()\n",
      "        #####Cunstructing sequence set\n",
      "        arr_seqz_set = np.array([])\n",
      "        sample_seq = sequencer(item)\n",
      "        sample_seq.sort()\n",
      "        arr_seqz_set = np.append(arr_seqz_set,sample_seq)\n",
      "        while next_permutation(sample_seq):\n",
      "            arr_seqz_set = np.append(arr_seqz_set,sample_seq)\n",
      "        arr_seqz_set = arr_seqz_set.reshape(np.math.factorial(sample_seq.size),sample_seq.size)\n",
      "        \n",
      "        \n",
      "        \n",
      "        \n",
      "        #####creating MUA permutation list!\n",
      "        start =  timeit.default_timer()\n",
      "        lexRank = [0]\n",
      "        while next_permutation(item):\n",
      "            selection = np.arange(arr_seqz_set.size)\n",
      "            for ii in range(arr_seqz_set[0].size -1 ):\n",
      "                selection = np.intersect1d(selection,np.where(arr_seqz_set[:,ii]==sequencer(item)[ii])[0])\n",
      "            lexRank.append(selection[0])\n",
      "        lexRank = np.array(lexRank)\n",
      "        stop = timeit.default_timer()\n",
      "        print 'part two --> %f' %(stop - start)\n",
      "        #####Calculating the wights of all possible sequences\n",
      "        weights = []\n",
      "        for ii,item in enumerate(arr_seqz_set):\n",
      "            weights.append(np.where(lexRank == ii)[0].size /float(lexRank.size))\n",
      "        weightsStack.append(np.array(weights))\n",
      "        sqStack.append(arr_seqz_set)\n",
      "    return sqStack,weightsStack\n",
      "\n",
      "def locate(pattern, root=os.curdir):\n",
      "    '''Locate all files matching supplied filename pattern in and below\n",
      "        supplied root directory.\n",
      "    '''\n",
      "    for path, dirs, files in os.walk(os.path.abspath(root)):\n",
      "        for filename in fnmatch.filter(files, pattern):\n",
      "            yield [path,filename]"
     ],
     "language": "python",
     "metadata": {},
     "outputs": [],
     "prompt_number": 2
    },
    {
     "cell_type": "code",
     "collapsed": false,
     "input": [
      "cd /media/chenani/Data/ephysdata/Rats/MECLesion/Rat616Control/2013-06-02_07-42-38/sleep2/"
     ],
     "language": "python",
     "metadata": {},
     "outputs": [
      {
       "output_type": "stream",
       "stream": "stdout",
       "text": [
        "/media/chenani/Data/ephysdata/Rats/MECLesion/Rat616Control/2013-06-02_07-42-38/sleep2\n"
       ]
      }
     ],
     "prompt_number": 3
    },
    {
     "cell_type": "code",
     "collapsed": false,
     "input": [
      "#probFile = './probs_pl/seqz-length5.prob'\n",
      "mua = pkl.load(open('place_cells.mua','rb'))\n",
      "mua = np.array(mua)\n",
      "### Filtering the place cells from recorded sequences\n",
      "plSeqz = []\n",
      "plSeqz_idx = []\n",
      "for ii,item in enumerate(mua):\n",
      "    sqz = sequencer(item)\n",
      "    if sqz.size > 1:\n",
      "        plSeqz.append(sqz)\n",
      "        plSeqz_idx.append(ii)\n",
      "    else:\n",
      "        plSeqz.append(np.arange(200,210))\n",
      "        plSeqz_idx.append(-1)\n",
      "plSeqz_idx = np.array(plSeqz_idx)\n",
      "plSeqz = np.array(plSeqz)"
     ],
     "language": "python",
     "metadata": {},
     "outputs": [],
     "prompt_number": 4
    },
    {
     "cell_type": "code",
     "collapsed": false,
     "input": [
      "set_len = []\n",
      "for item in plSeqz:\n",
      "    set_len.append(len(set(item)))\n",
      "set_len = np.int0(set_len)\n",
      "pl.hist(set_len,20);"
     ],
     "language": "python",
     "metadata": {},
     "outputs": [
      {
       "metadata": {},
       "output_type": "display_data",
       "png": "[encoded data removed]",
       "text": [
        "<matplotlib.figure.Figure at 0x7f2804225d50>"
       ]
      }
     ],
     "prompt_number": 5
    },
    {
     "cell_type": "code",
     "collapsed": false,
     "input": [
      "dataIndex = np.where(set_len ==7)[0]\n",
      "mua = mua[dataIndex]\n",
      "plSeqz = plSeqz[dataIndex]"
     ],
     "language": "python",
     "metadata": {},
     "outputs": [],
     "prompt_number": 6
    },
    {
     "cell_type": "code",
     "collapsed": false,
     "input": [
      "#probs_seqz,probs = pkl.load(open(probFile,'rb'))"
     ],
     "language": "python",
     "metadata": {},
     "outputs": [],
     "prompt_number": 7
    },
    {
     "cell_type": "code",
     "collapsed": false,
     "input": [
      "mua_set,muaW8tz,rpt = duplicate_indicator(mua,rptIndex=True)\n",
      "seqz_set,seqzW8tz = duplicate_indicator(plSeqz)"
     ],
     "language": "python",
     "metadata": {},
     "outputs": [],
     "prompt_number": 8
    },
    {
     "cell_type": "code",
     "collapsed": false,
     "input": [],
     "language": "python",
     "metadata": {},
     "outputs": [],
     "prompt_number": 8
    },
    {
     "cell_type": "code",
     "collapsed": false,
     "input": [
      "equalMUAIndex = []\n",
      "for ii,item in enumerate(mua_set):\n",
      "    #print item\n",
      "    #print '---'\n",
      "    eq_mua_idx = []\n",
      "    for jj in range(ii+1,len(mua_set)):\n",
      "        if np.array_equal(np.histogram(item,np.unique(item).size)[0],np.histogram(mua_set[jj],np.unique(item).size)[0]):\n",
      "            if np.array_equal(np.unique(item),np.unique(mua_set[jj])):\n",
      "                eq_mua_idx.append(jj)\n",
      "                #print jj\n",
      "    equalMUAIndex.append(np.array(eq_mua_idx))\n",
      "    #print '*******'"
     ],
     "language": "python",
     "metadata": {},
     "outputs": [],
     "prompt_number": 9
    },
    {
     "cell_type": "code",
     "collapsed": false,
     "input": [
      "sigVec = []\n",
      "sigSeqz = []\n",
      "for ii in range(len(mua_set)):\n",
      "    sq =  sequencer(mua_set[ii])\n",
      "    n = sq.size\n",
      "    #print muaW8tz[ii]\n",
      "    for jj in range(np.math.factorial(n)):\n",
      "        if jj == 0:#np.array_equal(sq,np.array(probs_seqz)[rpt[ii]][0][jj]):\n",
      "            if equalMUAIndex[ii].size:\n",
      "                equivalentsSummed = np.sum(muaW8tz[equalMUAIndex[ii]])\n",
      "                #print equivalentsSummed\n",
      "                #print np.array(probs)[rpt[ii]][0][jj]\n",
      "                n = muaW8tz[ii]+equivalentsSummed\n",
      "                pval = scipy.stats.binom_test(muaW8tz[ii],n,np.array(probs)[rpt[ii]][0][jj])\n",
      "                if pval < 0.05:\n",
      "                    print mua_set[ii]\n",
      "                    print sq\n",
      "                    print 'with %d (%d,%d) repititions'%(n,muaW8tz[ii],equivalentsSummed)\n",
      "                    print 'Significant with p-value %f in Binomial test' %pval\n",
      "                    print np.array(probs_seqz)[rpt[ii]][0]\n",
      "                    print np.array(probs)[rpt[ii]][0]\n",
      "                    print '###########################################################################'\n",
      "                sigVec.append(pval)\n",
      "                sigSeqz.append(sq)\n",
      "            else:\n",
      "                #print np.array(probs)[rpt[ii]][0][jj]\n",
      "                #pval = scipy.stats.binom_test(muaW8tz[ii],muaW8tz[ii],np.array(probs)[rpt[ii]][0][jj])\n",
      "                #if pval < 0.05:\n",
      "                #    print mua_set[ii]\n",
      "                #    print sq\n",
      "                #    print 'with %d repititions'%muaW8tz[ii]\n",
      "                #    print 'Significant with p-value %f in Binomial test' %pval\n",
      "                #    print np.array(probs_seqz)[rpt[ii]][0]\n",
      "                #    print np.array(probs)[rpt[ii]][0]\n",
      "                #    print '###########################################################################'\n",
      "                #sigVec.append(pval)\n",
      "                sigSeqz.append(sq)\n",
      "    #print '****************************************'\n",
      "sigVec = np.array(sigVec)"
     ],
     "language": "python",
     "metadata": {},
     "outputs": [],
     "prompt_number": 10
    },
    {
     "cell_type": "code",
     "collapsed": false,
     "input": [
      "#pl.hist(sigVec);\n",
      "print sigSeqz\n",
      "pkl.dump(sigSeqz,open('sigSeqz07.sqz','wb'),pkl.HIGHEST_PROTOCOL)"
     ],
     "language": "python",
     "metadata": {},
     "outputs": [
      {
       "output_type": "stream",
       "stream": "stdout",
       "text": [
        "[array([13,  0, 12,  1, 20, 10,  9]), array([13, 12,  9,  1, 11, 18,  0]), array([12,  9,  1, 10, 11,  0, 13]), array([ 1,  9,  0, 11, 20, 12, 13]), array([ 6, 20,  0, 13,  9, 10, 12])]\n"
       ]
      }
     ],
     "prompt_number": 11
    },
    {
     "cell_type": "code",
     "collapsed": false,
     "input": [
      "sigIndex = np.where(sigVec < 0.05)[0]\n",
      "float(sigIndex.size) / sigVec.size * 100"
     ],
     "language": "python",
     "metadata": {},
     "outputs": [
      {
       "metadata": {},
       "output_type": "pyout",
       "prompt_number": 16,
       "text": [
        "100.0"
       ]
      }
     ],
     "prompt_number": 16
    },
    {
     "cell_type": "code",
     "collapsed": false,
     "input": [
      "leftFields = np.array([ 6,  9, 10, 11,  1,  0, 18, 12, 13, 20])\n",
      "rightFields = np.array([19,  6,  9, 10,  8, 11,  0, 20,  1, 18, 12, 13])"
     ],
     "language": "python",
     "metadata": {},
     "outputs": [],
     "prompt_number": 13
    },
    {
     "cell_type": "code",
     "collapsed": false,
     "input": [
      "PLrankCorrL = []\n",
      "for item in sigSeqz:\n",
      "    corrPL =  scipy.stats.pearsonr(subsequence(item,rightFields)[0],range(7))\n",
      "    PLrankCorrL.append(corrPL)"
     ],
     "language": "python",
     "metadata": {},
     "outputs": [],
     "prompt_number": 17
    },
    {
     "cell_type": "code",
     "collapsed": false,
     "input": [
      "pl.hist(np.array(PLrankCorrL)[:,0]);"
     ],
     "language": "python",
     "metadata": {},
     "outputs": [
      {
       "metadata": {},
       "output_type": "display_data",
       "png": "[encoded data removed]",
       "text": [
        "<matplotlib.figure.Figure at 0x7f510ac7d390>"
       ]
      }
     ],
     "prompt_number": 18
    },
    {
     "cell_type": "code",
     "collapsed": false,
     "input": [
      "for item in sigSeqz:\n",
      "    corrPL =  scipy.stats.pearsonr(subsequence(item,leftFields)[0],range(7))\n",
      "    if corrPL[1] < 0.1:\n",
      "        print item\n",
      "        print subsequence(item,rightFields)\n",
      "        print corrPL\n",
      "        print '**************'"
     ],
     "language": "python",
     "metadata": {},
     "outputs": [
      {
       "output_type": "stream",
       "stream": "stdout",
       "text": [
        "[ 1  9  0 11 20 12 13]\n",
        "(array([ 8,  2,  6,  5,  7, 10, 11]), True)\n",
        "(0.75264466279865838, 0.050891002316574702)\n",
        "**************\n"
       ]
      }
     ],
     "prompt_number": 19
    },
    {
     "cell_type": "code",
     "collapsed": false,
     "input": [
      "6/float(np.where(sigVec < 0.05)[0].size)"
     ],
     "language": "python",
     "metadata": {},
     "outputs": [
      {
       "metadata": {},
       "output_type": "pyout",
       "prompt_number": 23,
       "text": [
        "0.42857142857142855"
       ]
      }
     ],
     "prompt_number": 23
    },
    {
     "cell_type": "code",
     "collapsed": false,
     "input": [
      "k = 1\n",
      "x = np.array([1, 2, 3, 8])\n",
      "while next_permutation(x[::-1]):\n",
      "    k+=1\n",
      "print 24-k"
     ],
     "language": "python",
     "metadata": {},
     "outputs": [
      {
       "output_type": "stream",
       "stream": "stdout",
       "text": [
        "23\n"
       ]
      }
     ],
     "prompt_number": 167
    },
    {
     "cell_type": "code",
     "collapsed": false,
     "input": [
      "SiglexicographicalRanksL = []\n",
      "SiglexicographicalRanksR = []\n",
      "for item in np.array(sigSeqz):#[sigIndex]:\n",
      "    Lrank = subsequence(item,leftFields)[0]\n",
      "    Rrank = subsequence(item,rightFields)[0]\n",
      "    lexiRankL = 1\n",
      "    lexiRankR = 1\n",
      "    while next_permutation(Lrank):\n",
      "        lexiRankL +=1\n",
      "    SiglexicographicalRanksL.append(720 - lexiRankL)\n",
      "    while next_permutation(Rrank):\n",
      "        lexiRankR +=1\n",
      "    SiglexicographicalRanksR.append(720 - lexiRankR)\n",
      "    "
     ],
     "language": "python",
     "metadata": {},
     "outputs": [],
     "prompt_number": 17
    },
    {
     "cell_type": "code",
     "collapsed": false,
     "input": [
      "lexicographicalRanksL = []\n",
      "lexicographicalRanksR = []\n",
      "for item in sigSeqz:\n",
      "    Lrank = subsequence(item,leftFields)[0]\n",
      "    Rrank = subsequence(item,rightFields)[0]\n",
      "    lexiRankL = 1\n",
      "    lexiRankR = 1\n",
      "    while next_permutation(Lrank):\n",
      "        lexiRankL +=1\n",
      "    lexicographicalRanksL.append(np.math.factorial(n) - lexiRankL)\n",
      "    while next_permutation(Rrank):\n",
      "        lexiRankR +=1\n",
      "    lexicographicalRanksR.append(np.math.factorial(n) - lexiRankR)\n",
      "    "
     ],
     "language": "python",
     "metadata": {},
     "outputs": [],
     "prompt_number": 21
    },
    {
     "cell_type": "code",
     "collapsed": false,
     "input": [
      "f,ax = pl.subplots(2,1,figsize = [20,10])\n",
      "ax[0].hist([lexicographicalRanksR],np.arange(-0.5,np.math.factorial(n)+0.5,840),normed=True);\n",
      "ax[1].hist([lexicographicalRanksL],np.arange(-0.5,np.math.factorial(n)+0.5,840),normed=True);\n",
      "ax[0].set_title('Right')\n",
      "ax[1].set_title('Left')\n",
      "#ax[0].set_xticks(range(0,120));\n",
      "#ax[1].set_xticks(range(0,120));\n",
      "ax[0].set_xlim([-1,np.math.factorial(n)]);\n",
      "ax[0].spines['bottom'].set_color('r')\n",
      "ax[0].spines['left'].set_color('r') \n",
      "ax[0].tick_params(axis='x', colors='white')\n",
      "ax[0].tick_params(axis='y', colors='white')\n",
      "ax[0].title.set_color('white')\n",
      "ax[1].set_xlim([-1,np.math.factorial(n)]);\n",
      "ax[1].spines['bottom'].set_color('r')\n",
      "ax[1].spines['left'].set_color('r') \n",
      "ax[1].tick_params(axis='x', colors='white')\n",
      "ax[1].tick_params(axis='y', colors='white')\n",
      "ax[1].title.set_color('white')"
     ],
     "language": "python",
     "metadata": {},
     "outputs": [
      {
       "metadata": {},
       "output_type": "display_data",
       "png": "[encoded data removed]",
       "text": [
        "<matplotlib.figure.Figure at 0x7f5109a32050>"
       ]
      }
     ],
     "prompt_number": 29
    },
    {
     "cell_type": "code",
     "collapsed": false,
     "input": [
      "surrogage = np.random.choice(range(720),500000,)\n",
      "pl.hist(surrogage,normed=True);"
     ],
     "language": "python",
     "metadata": {},
     "outputs": [
      {
       "metadata": {},
       "output_type": "display_data",
       "png": "[encoded data removed]",
       "text": [
        "<matplotlib.figure.Figure at 0x7f510a438fd0>"
       ]
      }
     ],
     "prompt_number": 26
    },
    {
     "cell_type": "code",
     "collapsed": false,
     "input": [
      "np.math.factorial(n)/6"
     ],
     "language": "python",
     "metadata": {},
     "outputs": [
      {
       "metadata": {},
       "output_type": "pyout",
       "prompt_number": 28,
       "text": [
        "840"
       ]
      }
     ],
     "prompt_number": 28
    },
    {
     "cell_type": "code",
     "collapsed": false,
     "input": [
      "sessionPath = '/media/chenani/Data/ephysdata/Rats/MECLesion/Rat616Control/2013-06-02_07-42-38/sleep2/'\n",
      "lexNormedL = np.array(lexicographicalRanksL)/float(np.math.factorial(n))\n",
      "lexNormedR = np.array(lexicographicalRanksR)/float(np.math.factorial(n))\n",
      "pkl.dump(lexNormedL,open(sessionPath+'lexRanks/lexNormed_L_'+str(n)+'.lex','wb'),pkl.HIGHEST_PROTOCOL)\n",
      "pkl.dump(lexNormedR,open(sessionPath+'lexRanks/lexNormed_R_'+str(n)+'.lex','wb'),pkl.HIGHEST_PROTOCOL)"
     ],
     "language": "python",
     "metadata": {},
     "outputs": [],
     "prompt_number": 30
    },
    {
     "cell_type": "code",
     "collapsed": false,
     "input": [],
     "language": "python",
     "metadata": {},
     "outputs": []
    }
   ],
   "metadata": {}
  }
 ]
}