{
 "metadata": {
  "name": "",
  "signature": "sha256:a3eedd0557f019256395eb2d36727b9f09342a06aa784b5ae1f0a0146ca3b3d7"
 },
 "nbformat": 3,
 "nbformat_minor": 0,
 "worksheets": [
  {
   "cells": [
    {
     "cell_type": "code",
     "collapsed": false,
     "input": [
      "%matplotlib inline\n",
      "%load_ext autoreload\n",
      "%autoreload 2\n",
      "from scipy.misc import comb\n",
      "import scipy as scp\n",
      "import numpy as np\n",
      "import matplotlib.pyplot as pl\n",
      "import pickle as pkl\n",
      "import sets\n",
      "import random\n",
      "import itertools\n",
      "import os,sys,fnmatch\n",
      "import timeit\n",
      "import scipy.stats"
     ],
     "language": "python",
     "metadata": {},
     "outputs": [],
     "prompt_number": 1
    },
    {
     "cell_type": "code",
     "collapsed": false,
     "input": [
      "def subsequence(sub,ref):\n",
      "    '''\n",
      "    A function to determine the number of specefic sequence repeated within a larger sequence.\n",
      "    \n",
      "    Parameters:\n",
      "    sub:\n",
      "    ref:\n",
      "    \n",
      "    \n",
      "    Returns:\n",
      "    idx : This an array containing the index of elements of sub in the ref! if idx is stricktly increasing the sequence sub\n",
      "    is replayed whithin sequence ref!\n",
      "    '''\n",
      "    ref = np.array(ref)\n",
      "    idx = np.array([])\n",
      "    for ii in range(len(sub)):\n",
      "        index = np.where(ref == sub[ii])[0]\n",
      "        if index.size:\n",
      "            idx = np.append(idx,index)\n",
      "        else: \n",
      "            return [] , False\n",
      "    idx = np.int0(idx)\n",
      "    return idx, True\n",
      "\n",
      "def median(arr):\n",
      "    '''\n",
      "    mY median... ;)\n",
      "    '''\n",
      "    arr = np.array(arr)\n",
      "    if np.mod(arr.size,2) == 0 :\n",
      "        return arr[arr.size / 2 - 1]\n",
      "    else: \n",
      "        return arr[arr.size / 2 ]\n",
      "    \n",
      "def sequencer(arr,method = 'median'):\n",
      "    '''\n",
      "    This function sequences the given array(with possible repeated elements) into an array of distinct elements! Considering either \n",
      "    first or the midian position of repeated elements.\n",
      "    '''\n",
      "    arr = np.array(arr)\n",
      "    idx_seq = np.array([])\n",
      "    if method == 'median':\n",
      "        for item in set(arr):\n",
      "            idx_seq = np.append(idx_seq,median(np.where(arr == item)[0]))\n",
      "        idx_seq.sort()\n",
      "    if method == 'first':\n",
      "        for item in set(arr):\n",
      "            idx_seq = np.append(idx_seq,np.where(arr == item)[0][0])\n",
      "        idx_seq.sort()\n",
      "\n",
      "    return arr[np.int0(idx_seq)]\n",
      "\n",
      "def duplicate_indicator(arr_group,weights=np.array([]),rptIndex = False):\n",
      "    '''\n",
      "    Finds and counts the duplicates! This Function makes a frequency distribution the number of\n",
      "    arrays within a goup of arrays.\n",
      "    \n",
      "    Parameters:\n",
      "    -----------\n",
      "    arr_group: The one that you want to count\n",
      "    weights: an array containig the wights(results of a previous counting of etc.). \n",
      "    If non empty the distribution will be weighted \n",
      "             with respect to this array!\n",
      "    Returns:\n",
      "    -----------\n",
      "    arr_set: Set of distinct arrays in arr_group\n",
      "    arr_weights: repitition counts of elements in arr_set.\n",
      "    '''\n",
      "    \n",
      "    arr_cp = np.copy(arr_group)   \n",
      "    for ii in range(len(arr_group)):\n",
      "        for jj in range(len(arr_group)):\n",
      "            if np.array_equal(arr_cp[jj], arr_cp[ii]) and ii != jj:\n",
      "                arr_cp[jj] = np.array([-1])\n",
      "    arr_set = []\n",
      "    for item in arr_cp:\n",
      "        if item.sum() > 0:\n",
      "            arr_set.append(item)\n",
      "    arr_set = np.array(arr_set)\n",
      "    ### Counting number of repititions\n",
      "    \n",
      "    if rptIndex:\n",
      "        rptIndex = []\n",
      "        arr_weights = np.zeros(len(arr_set))\n",
      "        for ii in range(len(arr_set)):\n",
      "            rpt_idx = []\n",
      "            for jj in range(len(arr_group)):\n",
      "                if np.array_equal(arr_group[jj],arr_set[ii]):\n",
      "                    if weights.size:\n",
      "                        arr_weights[ii] += weights[jj]\n",
      "                        rpt_idx.append(jj)\n",
      "                    else:\n",
      "                        arr_weights[ii] += 1\n",
      "                        rpt_idx.append(jj)\n",
      "            rptIndex.append(np.array(rpt_idx))\n",
      "        return arr_set,arr_weights,rptIndex\n",
      "    else:\n",
      "        arr_weights = np.zeros(len(arr_set))\n",
      "        for ii in range(len(arr_set)):\n",
      "            for jj in range(len(arr_group)):\n",
      "                if np.array_equal(arr_group[jj],arr_set[ii]):\n",
      "                    if weights.size:\n",
      "                        arr_weights[ii] += weights[jj]\n",
      "                    else:\n",
      "                        arr_weights[ii] += 1\n",
      "        return arr_set,arr_weights\n",
      "                    \n",
      "    \n",
      "\n",
      "def next_permutation(arr):\n",
      "    '''\n",
      "    \n",
      "        Computes the next lexicographical permutation of the specified list in place,\n",
      "     returning whether a next permutation existed. (Returns False when the argument\n",
      "     is already the last possible permutation.)\n",
      "    \n",
      "    \n",
      "         Example:\n",
      "            arr = [0, 1, 0]\n",
      "            next_permutation(arr)  (returns True)\n",
      "            arr has been modified to be [1, 0, 0]\n",
      "    Reference:\n",
      "    -----------\n",
      "    Nayuki Minase, 2014. Public domain.\n",
      "    http://nayuki.eigenstate.org/page/next-lexicographical-permutation-algorithm\n",
      "            '''\n",
      "    \n",
      "    i = len(arr) - 1\n",
      "    while i > 0 and arr[i - 1] >= arr[i]:\n",
      "        i -= 1\n",
      "    if i <= 0:\n",
      "        return False\n",
      "    \n",
      "    # Find successor to pivot\n",
      "    j = len(arr) - 1\n",
      "    while arr[j] <= arr[i - 1]:\n",
      "        j -= 1\n",
      "    arr[i - 1], arr[j] = arr[j], arr[i - 1]\n",
      "    \n",
      "    # Reverse suffix\n",
      "    arr[i : ] = arr[len(arr) - 1 : i - 1 : -1]\n",
      "    return True\n",
      "\n",
      "def number_of_permutations(arr):\n",
      "    Cnk = [] #keep the combinations!\n",
      "    s = 0    # sum of repitiotions of elements in arr!\n",
      "    arrcp = np.array(arr).copy()\n",
      "    arrcp.sort()\n",
      "    for item in set(arrcp):\n",
      "        reps = np.where(arrcp == item)[0].size\n",
      "        Cnk.append(comb(arrcp.size - s,reps,True))\n",
      "        s += reps\n",
      "    return np.prod(np.array(Cnk))\n",
      "def all_permutations(arr):\n",
      "    '''\n",
      "    produces all possible permutations of a given array using lexographical ordering.\n",
      "    Sequence the arrays and returns the weights of all possible sequences!\n",
      "    This version is fast but memory consuming, better for the short arrays!\n",
      "    written by A. Chenani Sep. 2014\n",
      "    '''\n",
      "    sqStack = []\n",
      "    weightsStack = []\n",
      "    for item in arr:\n",
      "        item.sort()\n",
      "        arr_seqz = [sequencer(item)]\n",
      "        #####Cunstructing sequence set\n",
      "        #start =  timeit.default_timer()\n",
      "        \n",
      "        arr_seqz_set = np.array([])\n",
      "        sample_seq = arr_seqz[0].copy()\n",
      "        sample_seq.sort()\n",
      "        arr_seqz_set = np.append(arr_seqz_set,sample_seq)\n",
      "        while next_permutation(sample_seq):\n",
      "            arr_seqz_set = np.append(arr_seqz_set,sample_seq)\n",
      "        arr_seqz_set = arr_seqz_set.reshape(np.math.factorial(sample_seq.size),arr_seqz[0].size)\n",
      "        \n",
      "        #stop = timeit.default_timer()\n",
      "        #print 'part one --> %f' %(stop - start)\n",
      "        \n",
      "        \n",
      "        #####creating MUA permutation list!\n",
      "        #start =  timeit.default_timer()\n",
      "        \n",
      "        while next_permutation(item):\n",
      "            arr_seqz.append(sequencer(item))\n",
      "        arr_seqz = np.array(arr_seqz) #This contains all sequences coming from permutations of an specific MUA!\n",
      "       \n",
      "        #stop = timeit.default_timer()\n",
      "        #print 'part two --> %f' %(stop - start)\n",
      "        \n",
      "        #####Calculating the wights of all possible sequences\n",
      "        #start =  timeit.default_timer()\n",
      "        weights = []\n",
      "        for item in arr_seqz_set:\n",
      "            selection = arr_seqz[np.where(arr_seqz[:,0]==item[0])[0]]\n",
      "            for ii in range(1,arr_seqz_set.shape[1]):\n",
      "                selection = selection[np.where(selection[:,ii]==item[ii])[0]]\n",
      "            weights.append(selection.size/float(arr_seqz.size))\n",
      "        weightsStack.append(np.array(weights))\n",
      "        sqStack.append(arr_seqz_set)\n",
      "        \n",
      "        #stop = timeit.default_timer()\n",
      "        #print 'part three --> %f' %(stop - start)\n",
      "    return sqStack,weightsStack\n",
      "def All_permutations(arr):\n",
      "    '''\n",
      "    produces all possible permutations of a given array using lexographical ordering.\n",
      "    Sequence the arrays and returns the weights of all possible sequences!\n",
      "    This version is not using that much memory but its slow, better for long arrays.\n",
      "    written by A. Chenani Sep. 2014\n",
      "    '''\n",
      "    sqStack = []\n",
      "    weightsStack = []\n",
      "    for item in arr:\n",
      "        item.sort()\n",
      "        #####Cunstructing sequence set\n",
      "        arr_seqz_set = np.array([])\n",
      "        sample_seq = sequencer(item)\n",
      "        sample_seq.sort()\n",
      "        arr_seqz_set = np.append(arr_seqz_set,sample_seq)\n",
      "        while next_permutation(sample_seq):\n",
      "            arr_seqz_set = np.append(arr_seqz_set,sample_seq)\n",
      "        arr_seqz_set = arr_seqz_set.reshape(np.math.factorial(sample_seq.size),sample_seq.size)\n",
      "        \n",
      "        \n",
      "        \n",
      "        \n",
      "        #####creating MUA permutation list!\n",
      "        start =  timeit.default_timer()\n",
      "        lexRank = [0]\n",
      "        while next_permutation(item):\n",
      "            selection = np.arange(arr_seqz_set.size)\n",
      "            for ii in range(arr_seqz_set[0].size -1 ):\n",
      "                selection = np.intersect1d(selection,np.where(arr_seqz_set[:,ii]==sequencer(item)[ii])[0])\n",
      "            lexRank.append(selection[0])\n",
      "        lexRank = np.array(lexRank)\n",
      "        stop = timeit.default_timer()\n",
      "        print 'part two --> %f' %(stop - start)\n",
      "        #####Calculating the wights of all possible sequences\n",
      "        weights = []\n",
      "        for ii,item in enumerate(arr_seqz_set):\n",
      "            weights.append(np.where(lexRank == ii)[0].size /float(lexRank.size))\n",
      "        weightsStack.append(np.array(weights))\n",
      "        sqStack.append(arr_seqz_set)\n",
      "    return sqStack,weightsStack\n",
      "\n",
      "def locate(pattern, root=os.curdir):\n",
      "    '''Locate all files matching supplied filename pattern in and below\n",
      "        supplied root directory.\n",
      "    '''\n",
      "    for path, dirs, files in os.walk(os.path.abspath(root)):\n",
      "        for filename in fnmatch.filter(files, pattern):\n",
      "            yield [path,filename]"
     ],
     "language": "python",
     "metadata": {},
     "outputs": [],
     "prompt_number": 2
    },
    {
     "cell_type": "code",
     "collapsed": false,
     "input": [
      "cd /media/chenani/Data/ephysdata/Rats/MECLesion/Rat616Control/2013-06-02_07-42-38/sleep2/"
     ],
     "language": "python",
     "metadata": {},
     "outputs": [
      {
       "output_type": "stream",
       "stream": "stdout",
       "text": [
        "/media/chenani/Data/ephysdata/Rats/MECLesion/Rat616Control/2013-06-02_07-42-38/sleep2\n"
       ]
      }
     ],
     "prompt_number": 3
    },
    {
     "cell_type": "code",
     "collapsed": false,
     "input": [
      "probFile = './probs_pl/seqz-length3.prob'\n",
      "mua = pkl.load(open('place_cells.mua','rb'))\n",
      "mua = np.array(mua)\n",
      "### Filtering the place cells from recorded sequences\n",
      "plSeqz = []\n",
      "plSeqz_idx = []\n",
      "for ii,item in enumerate(mua):\n",
      "    sqz = sequencer(item)\n",
      "    if sqz.size > 1:\n",
      "        plSeqz.append(sqz)\n",
      "        plSeqz_idx.append(ii)\n",
      "    else:\n",
      "        plSeqz.append(np.arange(200,210))\n",
      "        plSeqz_idx.append(-1)\n",
      "plSeqz_idx = np.array(plSeqz_idx)\n",
      "plSeqz = np.array(plSeqz)"
     ],
     "language": "python",
     "metadata": {},
     "outputs": [],
     "prompt_number": 4
    },
    {
     "cell_type": "code",
     "collapsed": false,
     "input": [
      "set_len = []\n",
      "for item in plSeqz:\n",
      "    set_len.append(len(set(item)))\n",
      "set_len = np.int0(set_len)\n",
      "pl.hist(set_len,20);"
     ],
     "language": "python",
     "metadata": {},
     "outputs": [
      {
       "metadata": {},
       "output_type": "display_data",
       "png": "[encoded data removed]",
       "text": [
        "<matplotlib.figure.Figure at 0x7fad6ffcc490>"
       ]
      }
     ],
     "prompt_number": 5
    },
    {
     "cell_type": "code",
     "collapsed": false,
     "input": [
      "dataIndex = np.where(set_len ==3)[0]\n",
      "mua = mua[dataIndex]\n",
      "plSeqz = plSeqz[dataIndex]"
     ],
     "language": "python",
     "metadata": {},
     "outputs": [],
     "prompt_number": 6
    },
    {
     "cell_type": "code",
     "collapsed": false,
     "input": [
      "probs_seqz,probs = pkl.load(open(probFile,'rb'))"
     ],
     "language": "python",
     "metadata": {},
     "outputs": [],
     "prompt_number": 7
    },
    {
     "cell_type": "code",
     "collapsed": false,
     "input": [
      "mua_set,muaW8tz,rpt = duplicate_indicator(mua,rptIndex=True)\n",
      "seqz_set,seqzW8tz = duplicate_indicator(plSeqz)"
     ],
     "language": "python",
     "metadata": {},
     "outputs": [],
     "prompt_number": 8
    },
    {
     "cell_type": "code",
     "collapsed": false,
     "input": [
      "mua_set[10],mua[rpt[10]]\n",
      "rpt[4],mua[rpt[4]],muaW8tz[4]"
     ],
     "language": "python",
     "metadata": {},
     "outputs": [
      {
       "metadata": {},
       "output_type": "pyout",
       "prompt_number": 9,
       "text": [
        "(array([4]), array([array([18, 20,  0, 18])], dtype=object), 1.0)"
       ]
      }
     ],
     "prompt_number": 9
    },
    {
     "cell_type": "code",
     "collapsed": false,
     "input": [
      "equalMUAIndex = []\n",
      "for ii,item in enumerate(mua_set):\n",
      "    print item\n",
      "    print '---'\n",
      "    eq_mua_idx = []\n",
      "    for jj in range(ii+1,len(mua_set)):\n",
      "        if np.array_equal(np.histogram(item,np.unique(item).size)[0],np.histogram(mua_set[jj],np.unique(item).size)[0]):\n",
      "            if np.array_equal(np.unique(item),np.unique(mua_set[jj])):\n",
      "                eq_mua_idx.append(jj)\n",
      "                print jj\n",
      "    equalMUAIndex.append(np.array(eq_mua_idx))\n",
      "    print '*******'"
     ],
     "language": "python",
     "metadata": {},
     "outputs": [
      {
       "output_type": "stream",
       "stream": "stdout",
       "text": [
        "[18 13  1  1  1]\n",
        "---\n",
        "*******\n",
        "[9 9 1 6 1]\n",
        "---\n",
        "*******\n",
        "[13 12 12 12 12 11]\n",
        "---\n",
        "*******\n",
        "[ 0  9  9  9 12 12]\n",
        "---\n",
        "*******\n",
        "[18 20  0 18]\n",
        "---\n",
        "*******\n",
        "[20 13 13 13 12 12]\n",
        "---\n",
        "*******\n",
        "[13 12  0]\n",
        "---\n",
        "9\n",
        "*******\n",
        "[12 13 11 11 11 12 12]\n",
        "---\n",
        "*******"
       ]
      },
      {
       "output_type": "stream",
       "stream": "stdout",
       "text": [
        "\n",
        "[ 1 10 10  6  6  6]\n",
        "---\n",
        "*******\n",
        "[ 0 12 13]\n",
        "---\n",
        "*******\n",
        "[12  1 18  1 18 18 18 18]\n",
        "---\n",
        "*******\n",
        "[18  1  0]\n",
        "---\n",
        "12\n",
        "*******\n",
        "[18  0  1]\n",
        "---\n",
        "*******\n",
        "[11  0  0  0  0 13 13 11]\n",
        "---\n",
        "*******\n",
        "[9 9 1 6]\n",
        "---\n",
        "*******\n",
        "[10  0 12]\n",
        "---\n",
        "*******\n",
        "[13 13 13  0  0  0 11]"
       ]
      },
      {
       "output_type": "stream",
       "stream": "stdout",
       "text": [
        "\n",
        "---\n",
        "*******\n",
        "[6 6 1 9 6]\n",
        "---\n",
        "*******\n",
        "[ 6  1  6 13]\n",
        "---\n",
        "*******\n",
        "[13 13 13  0  0  0 13 13  1 13]\n",
        "---\n",
        "*******\n",
        "[12 12  0 11 12]\n",
        "---\n",
        "*******\n",
        "[11 13 13 12 13 11]\n",
        "---\n",
        "*******\n",
        "[ 0 20 20 18  0]\n",
        "---\n",
        "*******\n",
        "[13 11  0]\n",
        "---\n",
        "30\n",
        "*******\n",
        "[12 12  1 13 13 13 13 13]\n",
        "---\n",
        "*******\n",
        "[12 13 13 13 13  1]\n",
        "---\n",
        "*******\n",
        "[12 12 12 12  0  0  9  0]\n",
        "---\n",
        "*******\n",
        "[13 12 12 12 13 11]\n",
        "---\n",
        "*******\n",
        "[13 13 13 11  1]\n",
        "---\n",
        "*******\n",
        "[20  0 11]\n",
        "---\n",
        "*******\n",
        "[ 0 13 11]\n",
        "---\n",
        "*******"
       ]
      },
      {
       "output_type": "stream",
       "stream": "stdout",
       "text": [
        "\n",
        "[12 11 13]\n",
        "---\n",
        "*******\n",
        "[6 9 1 1]\n",
        "---\n",
        "*******\n",
        "[ 0  1 11  0]\n",
        "---\n",
        "*******\n",
        "[13  1  1 13  1 12 12  1]\n",
        "---\n",
        "*******\n",
        "[ 0  0  0  0  9  9 12 12 12]\n",
        "---\n",
        "*******\n",
        "[13 13  0 20 20]\n",
        "---\n",
        "*******\n",
        "[20 13 20  0 20]\n",
        "---\n",
        "*******\n",
        "[ 0 18  1  1  1  1 18]\n",
        "---\n",
        "*******\n",
        "[ 0 20 13 13]\n",
        "---\n",
        "*******\n",
        "[ 0  0 13 13 20]\n",
        "---\n",
        "*******\n"
       ]
      }
     ],
     "prompt_number": 10
    },
    {
     "cell_type": "code",
     "collapsed": false,
     "input": [
      "sigVec = []\n",
      "sigSeqz = []\n",
      "for ii in range(len(mua_set)):\n",
      "    sq =  sequencer(mua_set[ii])\n",
      "    n = sq.size\n",
      "    #print muaW8tz[ii]\n",
      "    for jj in range(np.math.factorial(n)):\n",
      "        if np.array_equal(sq,np.array(probs_seqz)[rpt[ii]][0][jj]):\n",
      "            if equalMUAIndex[ii].size:\n",
      "                equivalentsSummed = np.sum(muaW8tz[equalMUAIndex[ii]])\n",
      "                #print equivalentsSummed\n",
      "                #print np.array(probs)[rpt[ii]][0][jj]\n",
      "                n = muaW8tz[ii]+equivalentsSummed\n",
      "                pval = scipy.stats.binom_test(muaW8tz[ii],n,np.array(probs)[rpt[ii]][0][jj])\n",
      "                if pval < 0.1:\n",
      "                    print mua_set[ii]\n",
      "                    print sq\n",
      "                    print 'with %d (%d,%d) repititions'%(n,muaW8tz[ii],equivalentsSummed)\n",
      "                    print 'Significant with p-value %f in Binomial test' %pval\n",
      "                    print np.array(probs_seqz)[rpt[ii]][0]\n",
      "                    print np.array(probs)[rpt[ii]][0]\n",
      "                    print '###########################################################################'\n",
      "                sigVec.append(pval)\n",
      "                sigSeqz.append(sq)\n",
      "            else:\n",
      "                #print np.array(probs)[rpt[ii]][0][jj]\n",
      "                pval = scipy.stats.binom_test(muaW8tz[ii],muaW8tz[ii],np.array(probs)[rpt[ii]][0][jj])\n",
      "                if pval < 0.1:\n",
      "                    print mua_set[ii]\n",
      "                    print sq\n",
      "                    print 'with %d repititions'%muaW8tz[ii]\n",
      "                    print 'Significant with p-value %f in Binomial test' %pval\n",
      "                    print np.array(probs_seqz)[rpt[ii]][0]\n",
      "                    print np.array(probs)[rpt[ii]][0]\n",
      "                    print '###########################################################################'\n",
      "                sigVec.append(pval)\n",
      "                sigSeqz.append(sq)\n",
      "    #print '****************************************'\n",
      "sigVec = np.array(sigVec)"
     ],
     "language": "python",
     "metadata": {},
     "outputs": [
      {
       "output_type": "stream",
       "stream": "stdout",
       "text": [
        "[ 0  9  9  9 12 12]\n",
        "[ 0  9 12]\n",
        "with 1 repititions\n",
        "Significant with p-value 0.100000 in Binomial test\n",
        "[[  0.   9.  12.]\n",
        " [  0.  12.   9.]\n",
        " [  9.   0.  12.]\n",
        " [  9.  12.   0.]\n",
        " [ 12.   0.   9.]\n",
        " [ 12.   9.   0.]]\n",
        "[ 0.1         0.16666667  0.06666667  0.13333333  0.23333333  0.3       ]\n",
        "###########################################################################\n",
        "[20 13 13 13 12 12]\n",
        "[20 13 12]\n",
        "with 1 repititions\n",
        "Significant with p-value 0.100000 in Binomial test\n",
        "[[ 12.  13.  20.]\n",
        " [ 12.  20.  13.]\n",
        " [ 13.  12.  20.]\n",
        " [ 13.  20.  12.]\n",
        " [ 20.  12.  13.]\n",
        " [ 20.  13.  12.]]\n",
        "[ 0.3         0.23333333  0.13333333  0.06666667  0.16666667  0.1       ]\n",
        "###########################################################################\n",
        "[6 9 1 1]\n",
        "[6 9 1]\n",
        "with 1 repititions\n",
        "Significant with p-value 0.083333 in Binomial test\n",
        "[[ 1.  6.  9.]\n",
        " [ 1.  9.  6.]\n",
        " [ 6.  1.  9.]\n",
        " [ 6.  9.  1.]\n",
        " [ 9.  1.  6.]\n",
        " [ 9.  6.  1.]]\n",
        "[ 0.25        0.25        0.16666667  0.08333333  0.16666667  0.08333333]\n",
        "###########################################################################\n",
        "[ 0 20 13 13]\n",
        "[ 0 20 13]\n",
        "with 1 repititions\n",
        "Significant with p-value 0.083333 in Binomial test\n",
        "[[  0.  13.  20.]\n",
        " [  0.  20.  13.]\n",
        " [ 13.   0.  20.]\n",
        " [ 13.  20.   0.]\n",
        " [ 20.   0.  13.]\n",
        " [ 20.  13.   0.]]\n",
        "[ 0.16666667  0.08333333  0.25        0.25        0.08333333  0.16666667]\n",
        "###########################################################################\n"
       ]
      }
     ],
     "prompt_number": 11
    },
    {
     "cell_type": "code",
     "collapsed": false,
     "input": [
      "pl.hist(sigVec,5);\n",
      "pkl.dump(sigSeqz,open('sigSeqz03.sqz','wb'),pkl.HIGHEST_PROTOCOL)"
     ],
     "language": "python",
     "metadata": {},
     "outputs": [
      {
       "metadata": {},
       "output_type": "display_data",
       "png": "[encoded data removed]",
       "text": [
        "<matplotlib.figure.Figure at 0x7fad59f1e7d0>"
       ]
      }
     ],
     "prompt_number": 17
    },
    {
     "cell_type": "code",
     "collapsed": false,
     "input": [
      "sigIndex = np.where(sigVec < 0.1)[0]\n",
      "float(sigIndex.size) / sigVec.size * 100"
     ],
     "language": "python",
     "metadata": {},
     "outputs": [
      {
       "metadata": {},
       "output_type": "pyout",
       "prompt_number": 13,
       "text": [
        "9.75609756097561"
       ]
      }
     ],
     "prompt_number": 13
    },
    {
     "cell_type": "code",
     "collapsed": false,
     "input": [
      "leftFields = np.array([ 6,  9, 10, 11,  1,  0, 18, 12, 13, 20])\n",
      "rightFields = np.array([19,  6,  9, 10,  8, 11,  0, 20,  1, 18, 12, 13])"
     ],
     "language": "python",
     "metadata": {},
     "outputs": [],
     "prompt_number": 14
    },
    {
     "cell_type": "code",
     "collapsed": false,
     "input": [
      "sigSeqz"
     ],
     "language": "python",
     "metadata": {},
     "outputs": [
      {
       "metadata": {},
       "output_type": "pyout",
       "prompt_number": 16,
       "text": [
        "[array([18, 13,  1]),\n",
        " array([9, 1, 6]),\n",
        " array([13, 12, 11]),\n",
        " array([ 0,  9, 12]),\n",
        " array([18, 20,  0]),\n",
        " array([20, 13, 12]),\n",
        " array([13, 12,  0]),\n",
        " array([13, 11, 12]),\n",
        " array([ 1, 10,  6]),\n",
        " array([ 0, 12, 13]),\n",
        " array([12,  1, 18]),\n",
        " array([18,  1,  0]),\n",
        " array([18,  0,  1]),\n",
        " array([11,  0, 13]),\n",
        " array([9, 1, 6]),\n",
        " array([10,  0, 12]),\n",
        " array([13,  0, 11]),\n",
        " array([6, 1, 9]),\n",
        " array([ 6,  1, 13]),\n",
        " array([13,  0,  1]),\n",
        " array([12,  0, 11]),\n",
        " array([11, 13, 12]),\n",
        " array([ 0, 20, 18]),\n",
        " array([13, 11,  0]),\n",
        " array([12,  1, 13]),\n",
        " array([12, 13,  1]),\n",
        " array([12,  0,  9]),\n",
        " array([13, 12, 11]),\n",
        " array([13, 11,  1]),\n",
        " array([20,  0, 11]),\n",
        " array([ 0, 13, 11]),\n",
        " array([12, 11, 13]),\n",
        " array([6, 9, 1]),\n",
        " array([ 0,  1, 11]),\n",
        " array([13,  1, 12]),\n",
        " array([ 0,  9, 12]),\n",
        " array([13,  0, 20]),\n",
        " array([13, 20,  0]),\n",
        " array([ 0, 18,  1]),\n",
        " array([ 0, 20, 13]),\n",
        " array([ 0, 13, 20])]"
       ]
      }
     ],
     "prompt_number": 16
    },
    {
     "cell_type": "code",
     "collapsed": false,
     "input": [
      "PLrankCorrL = []\n",
      "for item in np.array(sigSeqz):#[sigIndex]:\n",
      "    corrPL =  scipy.stats.pearsonr(subsequence(item,leftFields)[0],sorted(subsequence(item,leftFields)[0]))\n",
      "    PLrankCorrL.append(corrPL)\n",
      "PLrankCorrL1 = []\n",
      "for item in np.array(sigSeqz)[sigIndex]:\n",
      "    corrPL =  scipy.stats.pearsonr(subsequence(item,leftFields)[0],sorted(subsequence(item,leftFields)[0]))\n",
      "    PLrankCorrL1.append(corrPL)\n",
      "pl.hist(np.array(PLrankCorrL)[:,0]);\n",
      "pl.hist(np.array(PLrankCorrL1)[:,0]);"
     ],
     "language": "python",
     "metadata": {},
     "outputs": [
      {
       "metadata": {},
       "output_type": "display_data",
       "png": "[encoded data removed]",
       "text": [
        "<matplotlib.figure.Figure at 0x7fad59e60c50>"
       ]
      }
     ],
     "prompt_number": 15
    },
    {
     "cell_type": "code",
     "collapsed": false,
     "input": [
      "PLrankCorrR = []\n",
      "for item in np.array(sigSeqz):#[sigIndex]:\n",
      "    corrPR =  scipy.stats.pearsonr(subsequence(item,rightFields)[0],sorted(subsequence(item,rightFields)[0]))\n",
      "    PLrankCorrR.append(corrPR)\n",
      "PLrankCorrR1 = []\n",
      "for item in np.array(sigSeqz)[sigIndex]:\n",
      "    corrPL =  scipy.stats.pearsonr(subsequence(item,rightFields)[0],sorted(subsequence(item,rightFields)[0]))\n",
      "    PLrankCorrR1.append(corrPR)\n",
      "pl.hist(np.array(PLrankCorrR)[:,0]);\n",
      "pl.hist(np.array(PLrankCorrR1)[:,0]);"
     ],
     "language": "python",
     "metadata": {},
     "outputs": [
      {
       "metadata": {},
       "output_type": "display_data",
       "png": "[encoded data removed]",
       "text": [
        "<matplotlib.figure.Figure at 0x7f9f28782c50>"
       ]
      }
     ],
     "prompt_number": 19
    },
    {
     "cell_type": "code",
     "collapsed": false,
     "input": [
      "SiglexicographicalRanksL = []\n",
      "SiglexicographicalRanksR = []\n",
      "for item in np.array(sigSeqz)[sigIndex]:\n",
      "    Lrank = subsequence(item,leftFields)[0]\n",
      "    Rrank = subsequence(item,rightFields)[0]\n",
      "    lexiRankL = 0\n",
      "    lexiRankR = 0\n",
      "    while next_permutation(Lrank):\n",
      "        lexiRankL +=1\n",
      "    SiglexicographicalRanksL.append(6 - lexiRankL)\n",
      "    while next_permutation(Rrank):\n",
      "        lexiRankR +=1\n",
      "    SiglexicographicalRanksR.append(6 - lexiRankR)\n",
      "    "
     ],
     "language": "python",
     "metadata": {},
     "outputs": [],
     "prompt_number": 21
    },
    {
     "cell_type": "code",
     "collapsed": false,
     "input": [
      "lexicographicalRanksL = []\n",
      "lexicographicalRanksR = []\n",
      "for item in sigSeqz:\n",
      "    Lrank = subsequence(item,leftFields)[0]\n",
      "    Rrank = subsequence(item,rightFields)[0]\n",
      "    lexiRankL = 0\n",
      "    lexiRankR = 0\n",
      "    while next_permutation(Lrank):\n",
      "        lexiRankL +=1\n",
      "    lexicographicalRanksL.append(6 - lexiRankL)\n",
      "    while next_permutation(Rrank):\n",
      "        lexiRankR +=1\n",
      "    lexicographicalRanksR.append(6 - lexiRankR)\n",
      "    "
     ],
     "language": "python",
     "metadata": {},
     "outputs": [],
     "prompt_number": 22
    },
    {
     "cell_type": "code",
     "collapsed": false,
     "input": [
      "f,ax = pl.subplots(1,2,figsize = [20,5])\n",
      "ax[0].hist([lexicographicalRanksR,SiglexicographicalRanksR],np.arange(-0.5,7.5),normed=False)\n",
      "ax[1].hist([lexicographicalRanksL,SiglexicographicalRanksL],np.arange(-0.5,7.5),normed=False);\n",
      "ax[0].set_title('Right')\n",
      "ax[1].set_title('Left')\n",
      "ax[0].set_xticks(range(1,7));\n",
      "ax[1].set_xticks(range(1,7));"
     ],
     "language": "python",
     "metadata": {},
     "outputs": [
      {
       "metadata": {},
       "output_type": "display_data",
       "png": "[encoded data removed]",
       "text": [
        "<matplotlib.figure.Figure at 0x7f9f28635110>"
       ]
      }
     ],
     "prompt_number": 23
    },
    {
     "cell_type": "code",
     "collapsed": false,
     "input": [
      "lexHistAllRight= np.histogram(lexicographicalRanksR,np.arange(-0.5,7.5))\n",
      "lexHistSigRight = np.histogram(SiglexicographicalRanksR,np.arange(-0.5,7.5))\n",
      "\n",
      "lexHistAllLeft= np.histogram(lexicographicalRanksL,np.arange(-0.5,7.5))\n",
      "lexHistSigLeft = np.histogram(SiglexicographicalRanksL,np.arange(-0.5,7.5))\n",
      "\n",
      "\n",
      "RsigPercent = []\n",
      "for ii,item in enumerate(lexHistAllRight[0]):\n",
      "    if lexHistAllRight[0][ii] == 0:\n",
      "        if lexHistSigRight[0][ii] == 0:\n",
      "            RsigPercent.append(0.0)\n",
      "    else:\n",
      "        RsigPercent.append(float(lexHistSigRight[0][ii])/lexHistAllRight[0][ii] * 100)\n",
      "\n",
      "        \n",
      "LsigPercent = []\n",
      "for ii,item in enumerate(lexHistAllLeft[0]):\n",
      "    if lexHistAllLeft[0][ii] == 0:\n",
      "        if lexHistSigLeft[0][ii] == 0:\n",
      "            LsigPercent.append(0.0)\n",
      "    else:\n",
      "        LsigPercent.append(float(lexHistSigLeft[0][ii])/lexHistAllLeft[0][ii] *100 )"
     ],
     "language": "python",
     "metadata": {},
     "outputs": [],
     "prompt_number": 94
    },
    {
     "cell_type": "code",
     "collapsed": false,
     "input": [
      "pl.bar(range(0,7),LsigPercent,width=0.4)\n",
      "pl.bar(np.arange(0.4,7.4),RsigPercent,width=0.4,color='y')\n",
      "pl.legend(['L','R'])"
     ],
     "language": "python",
     "metadata": {},
     "outputs": [
      {
       "metadata": {},
       "output_type": "pyout",
       "prompt_number": 139,
       "text": [
        "<matplotlib.legend.Legend at 0x7f5fea32c190>"
       ]
      },
      {
       "metadata": {},
       "output_type": "display_data",
       "png": "[encoded data removed]",
       "text": [
        "<matplotlib.figure.Figure at 0x7f5fea37c350>"
       ]
      }
     ],
     "prompt_number": 139
    },
    {
     "cell_type": "code",
     "collapsed": false,
     "input": [
      "%psource pl.bar"
     ],
     "language": "python",
     "metadata": {},
     "outputs": [],
     "prompt_number": 121
    },
    {
     "cell_type": "code",
     "collapsed": false,
     "input": [
      "lexHistSigLeft"
     ],
     "language": "python",
     "metadata": {},
     "outputs": [
      {
       "metadata": {},
       "output_type": "pyout",
       "prompt_number": 112,
       "text": [
        "(array([0, 4, 2, 4, 5, 4, 7]),\n",
        " array([-0.5,  0.5,  1.5,  2.5,  3.5,  4.5,  5.5,  6.5]))"
       ]
      }
     ],
     "prompt_number": 112
    },
    {
     "cell_type": "code",
     "collapsed": false,
     "input": [
      "sessionPath = '/media/chenani/Data/ephysdata/Rats/MECLesion/Rat616Control/2013-06-02_07-42-38/sleep2/'\n",
      "lexNormedL = np.array(lexicographicalRanksL)/float(np.math.factorial(n))\n",
      "lexNormedR = np.array(lexicographicalRanksR)/float(np.math.factorial(n))\n",
      "pkl.dump(lexNormedL,open(sessionPath+'lexRanks/lexNormed_L_'+str(n)+'.lex','wb'),pkl.HIGHEST_PROTOCOL)\n",
      "pkl.dump(lexNormedR,open(sessionPath+'lexRanks/lexNormed_R_'+str(n)+'.lex','wb'),pkl.HIGHEST_PROTOCOL)"
     ],
     "language": "python",
     "metadata": {},
     "outputs": [],
     "prompt_number": 140
    },
    {
     "cell_type": "code",
     "collapsed": false,
     "input": [
      "pl.hist(lexNormedL,normed=False)"
     ],
     "language": "python",
     "metadata": {},
     "outputs": [
      {
       "metadata": {},
       "output_type": "pyout",
       "prompt_number": 142,
       "text": [
        "(array([  6.,   4.,   0.,   0.,   5.,   0.,   8.,   0.,   6.,  12.]),\n",
        " array([ 0.16666667,  0.25      ,  0.33333333,  0.41666667,  0.5       ,\n",
        "         0.58333333,  0.66666667,  0.75      ,  0.83333333,  0.91666667,  1.        ]),\n",
        " <a list of 10 Patch objects>)"
       ]
      },
      {
       "metadata": {},
       "output_type": "display_data",
       "png": "[encoded data removed]",
       "text": [
        "<matplotlib.figure.Figure at 0x7f5fea1984d0>"
       ]
      }
     ],
     "prompt_number": 142
    },
    {
     "cell_type": "code",
     "collapsed": false,
     "input": [],
     "language": "python",
     "metadata": {},
     "outputs": []
    }
   ],
   "metadata": {}
  }
 ]
}