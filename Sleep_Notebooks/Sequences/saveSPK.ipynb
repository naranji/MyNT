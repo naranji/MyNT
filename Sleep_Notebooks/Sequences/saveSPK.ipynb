{
 "metadata": {
  "name": "",
  "signature": "sha256:5144dfaa502228829f2609bc1ec509de4df696f11300eceba17dd7db27306b80"
 },
 "nbformat": 3,
 "nbformat_minor": 0,
 "worksheets": [
  {
   "cells": [
    {
     "cell_type": "code",
     "collapsed": false,
     "input": [
      "cd /mnt/Data/Scripts/Sleep-Oct14/src/"
     ],
     "language": "python",
     "metadata": {},
     "outputs": [
      {
       "output_type": "stream",
       "stream": "stdout",
       "text": [
        "/mnt/Data/Scripts/Sleep-Oct14/src\n"
       ]
      }
     ],
     "prompt_number": 1
    },
    {
     "cell_type": "code",
     "collapsed": false,
     "input": [
      "'''\n",
      "Created on Dec 18, 2013\n",
      "\n",
      "@author: chenani\n",
      "'''\n",
      "import pickle as pkl\n",
      "from __future__ import division\n",
      "import os, sys\n",
      "# add additional custom paths\n",
      "extraPaths = [\"/home/chenani/pypacks/lib/python2.7/site-packages\", \\\n",
      "    \"/home/thurley/data/\", \\\n",
      "    \"/home/haas/packages/lib/python2.6/site-packages\",\n",
      "    \"/home/chenani/ATLAS-clone/workspace/Sleep/src/\"]\n",
      "for p in extraPaths:\n",
      "    if not sys.path.count(p):\n",
      "        sys.path.insert(1, p)\n",
      "# Additional Modules\n",
      "import numpy as np\n",
      "import matplotlib as mpl\n",
      "import matplotlib.pyplot as pl\n",
      "import signale, trajectory, Recordings\n",
      "# getting the path of the working directory.\n",
      "############################PARAMETERS!!!\n",
      "expType = 'real'\n",
      "prefix = 'pl-'\n",
      "suffix = ''\n",
      "noSpeck = False\n",
      "onlyRunning = False\n",
      "showHeadDir = False\n",
      "saveFigs = True\n",
      "useRecommended = False\n",
      "TTName = '.t'\n",
      "###Flags!!!\n",
      "for argv in sys.argv[2:]:\n",
      "    if argv.startswith('prefix:'):\n",
      "        prefix = argv.split(':')[-1]  # name prefix\n",
      "    if argv.startswith('suffix:'):\n",
      "        suffix = argv.split(':')[-1]  # name suffix\n",
      "    if argv.startswith('TT:'):  # Tetrode files to load\n",
      "        TTName = argv.split('TT:')[1].strip('[').strip(']')\n",
      "        TTName = [s for s in TTName.split(',')]\n",
      "    if argv == 'noSpeck':\n",
      "        noSpeck = True\n",
      "    if argv == 'onlyRunning':\n",
      "        onlyRunning = True    \n",
      "    if argv == 'showHeadDir':\n",
      "        showHeadDir = True  # show head direction\n",
      "    if argv == 'saveFigs':\n",
      "        saveFigs = True  # save pics\n",
      "    if argv == 'useRecommended':\n",
      "        useRecommended = True  # use recommendations from metadata.dat\n",
      "    if argv.startswith('expType:'):\n",
      "        expType = argv.split(':')[-1]\n",
      "# Initializing spikeList\n",
      "spikes = []\n",
      "ID = -1\n",
      "stList = signale.spikezugList(t_start=None, t_stop=None, dims=[2])\n",
      "traj = None\n",
      "eventData = None\n",
      "\n",
      "cwd = os.getcwd()\n",
      "\n",
      "#############FUNCTIONS!\n",
      "def getTData(folderName):\n",
      "    '''\n",
      "    a function to load the t files, written by 'KT'\n",
      "    \n",
      "    '''\n",
      "    global spikes, ID, traj, eventData\n",
      "\n",
      "    if os.path.isdir(folderName):\n",
      "        dirList = os.listdir(folderName)\n",
      "        os.chdir(folderName)\n",
      "    else:\n",
      "        dirList = [folderName]\n",
      "        \n",
      "    dirList.sort()\n",
      "    for item in sorted(dirList):\n",
      "        if os.path.isfile(item):\n",
      "            if (TTName.__class__ == list and item in TTName) or\\\n",
      "                    (TTName.__class__ == str and item.endswith(suffix + '.t') and item.startswith(prefix)):\n",
      "                print 'loading', item , 'from folder: ' + folderName\n",
      "                spikes = signale.load_tFile(item, showHeader=False)\n",
      "                ID += 1\n",
      "                stList.__setitem__(ID, spikes)\n",
      "                stList.addTags(ID, file=item, dir=folderName)\n",
      "            # real\n",
      "            elif expType == 'real':\n",
      "                if item.endswith('.nvt'):  # # or item.endswith('2.ncs'):\n",
      "                    print 'loading', item , 'from folder: ' + folderName\n",
      "                    loadedSomething = True\n",
      "                    traj = trajectory.load_nvtFile(item, 'linearMaze', showHeader=False)\n",
      "#                    HDtraj = traj[1]        # head direction\n",
      "                    traj = traj[0]  # trajectory\n",
      "#         elif os.path.isdir(item):\n",
      "#             getTData(item)\n",
      "    os.chdir('..')\n",
      "    #return dirList"
     ],
     "language": "python",
     "metadata": {},
     "outputs": [],
     "prompt_number": 2
    },
    {
     "cell_type": "code",
     "collapsed": false,
     "input": [
      "animalPath = \"/home/chenani/dataWork/ali/MECLesion_SleepData/Marta/Rat3661/LinearTrack_03-05-15Day3/parrentData/\""
     ],
     "language": "python",
     "metadata": {},
     "outputs": [],
     "prompt_number": 3
    },
    {
     "cell_type": "code",
     "collapsed": false,
     "input": [
      "getTData(animalPath)"
     ],
     "language": "python",
     "metadata": {},
     "outputs": [
      {
       "output_type": "stream",
       "stream": "stdout",
       "text": [
        "loading VT1.nvt from folder: /home/chenani/dataWork/ali/MECLesion_SleepData/Marta/Rat3661/LinearTrack_03-05-15Day3/parrentData/\n",
        "loading"
       ]
      },
      {
       "output_type": "stream",
       "stream": "stdout",
       "text": [
        " pl-TT1_03.t from folder: /home/chenani/dataWork/ali/MECLesion_SleepData/Marta/Rat3661/LinearTrack_03-05-15Day3/parrentData/\n",
        "loading pl-TT1_04.t from folder: /home/chenani/dataWork/ali/MECLesion_SleepData/Marta/Rat3661/LinearTrack_03-05-15Day3/parrentData/\n",
        "loading pl-TT1_08.t from folder: /home/chenani/dataWork/ali/MECLesion_SleepData/Marta/Rat3661/LinearTrack_03-05-15Day3/parrentData/\n",
        "loading pl-TT1_10.t from folder: /home/chenani/dataWork/ali/MECLesion_SleepData/Marta/Rat3661/LinearTrack_03-05-15Day3/parrentData/\n",
        "loading pl-TT1_17.t from folder: /home/chenani/dataWork/ali/MECLesion_SleepData/Marta/Rat3661/LinearTrack_03-05-15Day3/parrentData/\n",
        "loading"
       ]
      },
      {
       "output_type": "stream",
       "stream": "stdout",
       "text": [
        " pl-TT1_19.t from folder: /home/chenani/dataWork/ali/MECLesion_SleepData/Marta/Rat3661/LinearTrack_03-05-15Day3/parrentData/\n",
        "loading pl-TT2_02.t from folder: /home/chenani/dataWork/ali/MECLesion_SleepData/Marta/Rat3661/LinearTrack_03-05-15Day3/parrentData/\n",
        "loading pl-TT2_04.t from folder: /home/chenani/dataWork/ali/MECLesion_SleepData/Marta/Rat3661/LinearTrack_03-05-15Day3/parrentData/\n",
        "loading pl-TT2_05.t from folder: /home/chenani/dataWork/ali/MECLesion_SleepData/Marta/Rat3661/LinearTrack_03-05-15Day3/parrentData/\n",
        "loading pl-TT2_07.t from folder: /home/chenani/dataWork/ali/MECLesion_SleepData/Marta/Rat3661/LinearTrack_03-05-15Day3/parrentData/\n",
        "loading"
       ]
      },
      {
       "output_type": "stream",
       "stream": "stdout",
       "text": [
        " pl-TT2_12.t from folder: /home/chenani/dataWork/ali/MECLesion_SleepData/Marta/Rat3661/LinearTrack_03-05-15Day3/parrentData/\n",
        "loading"
       ]
      },
      {
       "output_type": "stream",
       "stream": "stdout",
       "text": [
        " pl-TT2_15.t from folder: /home/chenani/dataWork/ali/MECLesion_SleepData/Marta/Rat3661/LinearTrack_03-05-15Day3/parrentData/\n",
        "loading pl-TT2_17.t from folder: /home/chenani/dataWork/ali/MECLesion_SleepData/Marta/Rat3661/LinearTrack_03-05-15Day3/parrentData/\n",
        "loading pl-TT2_18.t from folder: /home/chenani/dataWork/ali/MECLesion_SleepData/Marta/Rat3661/LinearTrack_03-05-15Day3/parrentData/\n",
        "loading pl-TT3_01.t from folder: /home/chenani/dataWork/ali/MECLesion_SleepData/Marta/Rat3661/LinearTrack_03-05-15Day3/parrentData/\n",
        "loading pl-TT3_02.t from folder: /home/chenani/dataWork/ali/MECLesion_SleepData/Marta/Rat3661/LinearTrack_03-05-15Day3/parrentData/\n",
        "loading pl-TT3_03.t from folder: /home/chenani/dataWork/ali/MECLesion_SleepData/Marta/Rat3661/LinearTrack_03-05-15Day3/parrentData/\n",
        "loading pl-TT3_04.t from folder: /home/chenani/dataWork/ali/MECLesion_SleepData/Marta/Rat3661/LinearTrack_03-05-15Day3/parrentData/\n",
        "loading"
       ]
      },
      {
       "output_type": "stream",
       "stream": "stdout",
       "text": [
        " pl-TT3_05.t from folder: /home/chenani/dataWork/ali/MECLesion_SleepData/Marta/Rat3661/LinearTrack_03-05-15Day3/parrentData/\n",
        "loading pl-TT3_06.t from folder: /home/chenani/dataWork/ali/MECLesion_SleepData/Marta/Rat3661/LinearTrack_03-05-15Day3/parrentData/\n",
        "loading"
       ]
      },
      {
       "output_type": "stream",
       "stream": "stdout",
       "text": [
        " pl-TT3_07.t from folder: /home/chenani/dataWork/ali/MECLesion_SleepData/Marta/Rat3661/LinearTrack_03-05-15Day3/parrentData/\n",
        "loading pl-TT3_08.t from folder: /home/chenani/dataWork/ali/MECLesion_SleepData/Marta/Rat3661/LinearTrack_03-05-15Day3/parrentData/\n",
        "loading pl-TT5_11.t from folder: /home/chenani/dataWork/ali/MECLesion_SleepData/Marta/Rat3661/LinearTrack_03-05-15Day3/parrentData/\n",
        "loading pl-TT7_01.t from folder: /home/chenani/dataWork/ali/MECLesion_SleepData/Marta/Rat3661/LinearTrack_03-05-15Day3/parrentData/\n"
       ]
      }
     ],
     "prompt_number": 4
    },
    {
     "cell_type": "code",
     "collapsed": false,
     "input": [
      "stList._spikezugList__recalc_startstop()\n",
      "for cell in stList:\n",
      "    if cell.t_stop >  stList.t_stop:\n",
      "        print '%s ---- %s' %(cell.t_stop,stList.t_stop)\n",
      "    if cell.t_start < stList.t_start:\n",
      "        print '%s ---- %s' %(cell.t_start,stList.t_start)"
     ],
     "language": "python",
     "metadata": {},
     "outputs": [],
     "prompt_number": 18
    },
    {
     "cell_type": "code",
     "collapsed": false,
     "input": [
      "pkl.dump(stList,open(animalPath + 'placeCells.spk','wb'),pkl.HIGHEST_PROTOCOL)\n",
      "#pkl.dump(traj,open(animalPath + 'linearTrack_Trajectory.traj','wb'),pkl.HIGHEST_PROTOCOL)"
     ],
     "language": "python",
     "metadata": {},
     "outputs": [],
     "prompt_number": 19
    },
    {
     "cell_type": "code",
     "collapsed": false,
     "input": [
      "events = signale.io.load_nevFile(animalPath + 'Events.nev')"
     ],
     "language": "python",
     "metadata": {},
     "outputs": [
      {
       "ename": "IOError",
       "evalue": "[Errno 2] No such file or directory: '/mnt/Data/ephysdata/Rats/MECLesion/Rat434Lesion/Tfiles/Events.nev'",
       "output_type": "pyerr",
       "traceback": [
        "\u001b[1;31m---------------------------------------------------------------------------\u001b[0m\n\u001b[1;31mIOError\u001b[0m                                   Traceback (most recent call last)",
        "\u001b[1;32m<ipython-input-20-014adbbbfda4>\u001b[0m in \u001b[0;36m<module>\u001b[1;34m()\u001b[0m\n\u001b[1;32m----> 1\u001b[1;33m \u001b[0mevents\u001b[0m \u001b[1;33m=\u001b[0m \u001b[0msignale\u001b[0m\u001b[1;33m.\u001b[0m\u001b[0mio\u001b[0m\u001b[1;33m.\u001b[0m\u001b[0mload_nevFile\u001b[0m\u001b[1;33m(\u001b[0m\u001b[0manimalPath\u001b[0m \u001b[1;33m+\u001b[0m \u001b[1;34m'Events.nev'\u001b[0m\u001b[1;33m)\u001b[0m\u001b[1;33m\u001b[0m\u001b[0m\n\u001b[0m",
        "\u001b[1;32m/mnt/Data/ephysdata/Rats/MECLesion/Rat434Lesion/signale/io.pyc\u001b[0m in \u001b[0;36mload_nevFile\u001b[1;34m(fileName, showHeader)\u001b[0m\n",
        "\u001b[1;31mIOError\u001b[0m: [Errno 2] No such file or directory: '/mnt/Data/ephysdata/Rats/MECLesion/Rat434Lesion/Tfiles/Events.nev'"
       ]
      }
     ],
     "prompt_number": 20
    },
    {
     "cell_type": "code",
     "collapsed": false,
     "input": [
      "print events.eventStrings\n",
      "print events.times"
     ],
     "language": "python",
     "metadata": {},
     "outputs": [
      {
       "output_type": "stream",
       "stream": "stdout",
       "text": [
        "['sleep1', 'endsleep1', 'Stopping Recording', 'Starting Recording', 'begin1', 'end1', 'Starting Recording', 'sleep2', 'endsleep2']\n",
        "[ 19598001.576  24177637.399  24186838.113    442248.468    478851.976\n",
        "   2276622.043  26447795.356  26451669.875  30048181.579]\n"
       ]
      }
     ],
     "prompt_number": 16
    },
    {
     "cell_type": "code",
     "collapsed": false,
     "input": [
      "s5List = stList.time_slice(events.times[107],events.times[108])"
     ],
     "language": "python",
     "metadata": {},
     "outputs": [],
     "prompt_number": 18
    },
    {
     "cell_type": "code",
     "collapsed": false,
     "input": [
      "s5List.t_stop,events.times[-1]"
     ],
     "language": "python",
     "metadata": {},
     "outputs": [
      {
       "metadata": {},
       "output_type": "pyout",
       "prompt_number": 19,
       "text": [
        "(22268051.177999999, 25757846.346999999)"
       ]
      }
     ],
     "prompt_number": 19
    },
    {
     "cell_type": "code",
     "collapsed": false,
     "input": [
      "pkl.dump(s5List,open(animalPath+'sleep5.spk','wb'),pkl.HIGHEST_PROTOCOL)"
     ],
     "language": "python",
     "metadata": {},
     "outputs": [],
     "prompt_number": 20
    },
    {
     "cell_type": "code",
     "collapsed": false,
     "input": [
      "stList.id_list"
     ],
     "language": "python",
     "metadata": {},
     "outputs": [
      {
       "metadata": {},
       "output_type": "pyout",
       "prompt_number": 21,
       "text": [
        "array([ 0,  1,  2,  3,  4,  5,  6,  7,  8,  9, 10, 11, 12, 13, 14, 15, 16,\n",
        "       17, 18, 19, 20, 21, 22, 23, 24, 25, 26, 27, 28, 29, 30, 31, 32, 33,\n",
        "       34, 35, 36, 37, 38, 39, 40, 41])"
       ]
      }
     ],
     "prompt_number": 21
    },
    {
     "cell_type": "code",
     "collapsed": false,
     "input": [],
     "language": "python",
     "metadata": {},
     "outputs": []
    }
   ],
   "metadata": {}
  }
 ]
}