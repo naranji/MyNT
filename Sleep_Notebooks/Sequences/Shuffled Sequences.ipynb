{
 "metadata": {
  "name": "",
  "signature": "sha256:e93b8288cb9b2e8bb028ca9f31b4d2ea7e0683b3f60db26f2c915d70567749dd"
 },
 "nbformat": 3,
 "nbformat_minor": 0,
 "worksheets": [
  {
   "cells": [
    {
     "cell_type": "code",
     "collapsed": false,
     "input": [
      "%matplotlib\n",
      "%load_ext autoreload\n",
      "%autoreload 2\n",
      "import numpy as np\n",
      "import matplotlib.pyplot as pl\n",
      "import pickle as pkl\n",
      "import sets\n",
      "import random\n",
      "import itertools"
     ],
     "language": "python",
     "metadata": {},
     "outputs": [
      {
       "output_type": "stream",
       "stream": "stdout",
       "text": [
        "Using matplotlib backend: Qt4Agg\n"
       ]
      }
     ],
     "prompt_number": 1
    },
    {
     "cell_type": "code",
     "collapsed": false,
     "input": [
      "cd /media/chenani/Data/Scripts/Sleep-Oct14/src/"
     ],
     "language": "python",
     "metadata": {},
     "outputs": [
      {
       "output_type": "stream",
       "stream": "stdout",
       "text": [
        "/media/chenani/Data/Scripts/Sleep-Oct14/src\n"
       ]
      }
     ],
     "prompt_number": 2
    },
    {
     "cell_type": "code",
     "collapsed": false,
     "input": [
      "def subsequence(sub,ref):\n",
      "    '''\n",
      "    A function to determine if a sequence(ref) contains a specific subsequence(sub).\n",
      "    \n",
      "    Parameters:\n",
      "    sub:\n",
      "    ref:\n",
      "    \n",
      "    \n",
      "    Returns:\n",
      "    idx : This an array containing the index of elements of sub in the ref! if idx is stricktly increasing the sequence sub\n",
      "    is replayed whithin sequence ref!\n",
      "    '''\n",
      "    ref = np.array(ref)\n",
      "    idx = np.array([])\n",
      "    for ii in range(len(sub)):\n",
      "        index = np.where(ref == sub[ii])[0]\n",
      "        if index.size:\n",
      "            idx = np.append(idx,index)\n",
      "        else: \n",
      "            return [] , False\n",
      "    idx = np.int0(idx)\n",
      "    return idx, True\n",
      "\n",
      "def median(arr):\n",
      "    '''\n",
      "    mY median... ;)\n",
      "    '''\n",
      "    arr = np.array(arr)\n",
      "    if np.mod(arr.size,2) == 0 :\n",
      "        return arr[arr.size / 2 - 1]\n",
      "    else: \n",
      "        return arr[arr.size / 2 ]\n",
      "    \n",
      "def sequencer(arr,method = 'median'):\n",
      "    '''\n",
      "    This function sequences the given array(with possible repeated elements) into an array of distinct elements! Considering either \n",
      "    first or the midian position of repeated elements.\n",
      "    '''\n",
      "    arr = np.array(arr)\n",
      "    idx_seq = np.array([])\n",
      "    if method == 'median':\n",
      "        for item in set(arr):\n",
      "            idx_seq = np.append(idx_seq,median(np.where(arr == item)[0]))\n",
      "        idx_seq.sort()\n",
      "    if method == 'first':\n",
      "        for item in set(arr):\n",
      "            idx_seq = np.append(idx_seq,np.where(arr == item)[0][0])\n",
      "        idx_seq.sort()\n",
      "\n",
      "    return arr[np.int0(idx_seq)]\n",
      "\n",
      "def duplicate_indicator(arr_group,weights=np.array([])):\n",
      "    '''\n",
      "    Finds and counts the duplicates! This Function makes a frequency distribution the number of\n",
      "    arrays within a goup of arrays.\n",
      "    \n",
      "    Parameters:\n",
      "    -----------\n",
      "    arr_group: The one that you want to count\n",
      "    weights: an array containig the wights(results of a previous counting of etc.). If non empty the distribution will be weighted \n",
      "             with respect to this array!\n",
      "    Returns:\n",
      "    -----------\n",
      "    arr_set: Set of distinct arrays in arr_group\n",
      "    arr_weights: repitition counts of elements in arr_set.\n",
      "    '''\n",
      "    \n",
      "    arr_cp = np.copy(arr_group)   \n",
      "    for ii in range(len(arr_group)):\n",
      "        for jj in range(len(arr_group)):\n",
      "            if np.array_equal(arr_cp[jj], arr_cp[ii]) and ii != jj:\n",
      "                arr_cp[jj] = np.array([-1])\n",
      "    arr_set = []\n",
      "    for item in arr_cp:\n",
      "        if item.sum() > 0:\n",
      "            arr_set.append(item)\n",
      "    arr_set = np.array(arr_set)\n",
      "    ### Counting number of repititions\n",
      "    arr_weights = np.zeros(len(arr_set))\n",
      "    for ii in range(len(arr_set)):\n",
      "        for jj in range(len(arr_group)):\n",
      "            if np.array_equal(arr_group[jj],arr_set[ii]):\n",
      "                if weights.size:\n",
      "                    arr_weights[ii] += weights[jj]\n",
      "                else:\n",
      "                    arr_weights[ii] += 1\n",
      "    return arr_set,arr_weights"
     ],
     "language": "python",
     "metadata": {},
     "outputs": [],
     "prompt_number": 3
    },
    {
     "cell_type": "code",
     "collapsed": false,
     "input": [
      "cd .."
     ],
     "language": "python",
     "metadata": {},
     "outputs": [
      {
       "output_type": "stream",
       "stream": "stdout",
       "text": [
        "/media/chenani/Data/Scripts/Sleep-Oct14\n"
       ]
      }
     ],
     "prompt_number": 4
    },
    {
     "cell_type": "code",
     "collapsed": false,
     "input": [
      "%run ephys_loader.py /media/chenani/Data/ephysdata/Rats/MECLesion/Rat616Control/2013-06-02_07-42-38/sleep2/sleep2.ephys"
     ],
     "language": "python",
     "metadata": {},
     "outputs": [],
     "prompt_number": 16
    },
    {
     "cell_type": "code",
     "collapsed": false,
     "input": [
      "### Sequencing recording data\n",
      "rec.coincidence('s')\n",
      "rec.MUA()\n",
      "rec.sequencing()"
     ],
     "language": "python",
     "metadata": {},
     "outputs": [
      {
       "output_type": "stream",
       "stream": "stdout",
       "text": [
        "Using surrogate data...\n",
        "There is no spiketrain at the moment... \n",
        "              Calculating spike trains by covolving with a Gaussian kernel of sigma = 12 ms\n",
        "There is no burst detected for this SpikeList. Calling the burstDetector function with default values..."
       ]
      },
      {
       "output_type": "stream",
       "stream": "stdout",
       "text": [
        "\n"
       ]
      }
     ],
     "prompt_number": 17
    },
    {
     "cell_type": "code",
     "collapsed": false,
     "input": [
      "rec.spikes.tags"
     ],
     "language": "python",
     "metadata": {},
     "outputs": [
      {
       "ename": "NameError",
       "evalue": "name 'rec' is not defined",
       "output_type": "pyerr",
       "traceback": [
        "\u001b[1;31m---------------------------------------------------------------------------\u001b[0m\n\u001b[1;31mNameError\u001b[0m                                 Traceback (most recent call last)",
        "\u001b[1;32m<ipython-input-32-a59f86d90013>\u001b[0m in \u001b[0;36m<module>\u001b[1;34m()\u001b[0m\n\u001b[1;32m----> 1\u001b[1;33m \u001b[0mrec\u001b[0m\u001b[1;33m.\u001b[0m\u001b[0mspikes\u001b[0m\u001b[1;33m.\u001b[0m\u001b[0mtags\u001b[0m\u001b[1;33m\u001b[0m\u001b[0m\n\u001b[0m",
        "\u001b[1;31mNameError\u001b[0m: name 'rec' is not defined"
       ]
      }
     ],
     "prompt_number": 32
    },
    {
     "cell_type": "code",
     "collapsed": false,
     "input": [
      "mua = [] \n",
      "seqz = []\n",
      "for ii in range(len(rec.MultiUnitActivity)):\n",
      "    mua.append(rec.MultiUnitActivity[ii][:,0])\n",
      "    seqz.append(rec.sequence_median[ii][:,0])\n",
      "mua = np.array(mua)\n",
      "seqz = np.array(seqz)\n",
      "del rec\n",
      "pkl.dump(mua,open('/media/chenani/Data/ephysdata/Rats/MECLesion/Rat616Control/2013-06-02_07-42-38/sleep2/sleep2.mua','wb'),pkl.HIGHEST_PROTOCOL)\n",
      "pkl.dump(seqz,open('/media/chenani/Data/ephysdata/Rats/MECLesion/Rat616Control/2013-06-02_07-42-38/sleep2/sleep2.seqz','wb'),pkl.HIGHEST_PROTOCOL)"
     ],
     "language": "python",
     "metadata": {},
     "outputs": [],
     "prompt_number": 18
    },
    {
     "cell_type": "code",
     "collapsed": false,
     "input": [
      "seqz = pkl.load(open('/media/chenani/Data/ephysdata/Rats/MECLesion/Rat616Control/2013-06-02_07-42-38/sleep2/sleep2.seqz','rb'))\n",
      "left = np.array([9,12,18,20,0,1,6,10,11,13])\n",
      "right = np.array([9,12,18,19,20,0,1,6,8,10,11,13,])"
     ],
     "language": "python",
     "metadata": {},
     "outputs": [],
     "prompt_number": 7
    },
    {
     "cell_type": "code",
     "collapsed": false,
     "input": [
      "recSeqz,recSeqzWeights = duplicate_indicator(seqz)"
     ],
     "language": "python",
     "metadata": {},
     "outputs": [],
     "prompt_number": 9
    },
    {
     "cell_type": "code",
     "collapsed": false,
     "input": [
      "### Filtering the place cells from recorded sequences\n",
      "plSeqz = []\n",
      "placCellIDs = np.intersect1d(left,right)\n",
      "for item in recSeqz:\n",
      "    idx = np.in1d(item,placCellIDs) #boolean intersection indicator!\n",
      "    if np.where(idx)[0].size > 1:\n",
      "        plSeqz.append(item[idx])"
     ],
     "language": "python",
     "metadata": {},
     "outputs": [],
     "prompt_number": 27
    },
    {
     "cell_type": "code",
     "collapsed": false,
     "input": [
      "duplicate_indicator(plSeqz)[0].size"
     ],
     "language": "python",
     "metadata": {},
     "outputs": [
      {
       "metadata": {},
       "output_type": "pyout",
       "prompt_number": 31,
       "text": [
        "139"
       ]
      }
     ],
     "prompt_number": 31
    },
    {
     "cell_type": "code",
     "collapsed": false,
     "input": [
      "seqzStack = []\n",
      "weightStack = []\n",
      "for kk in range(len(recSeqz)):\n",
      "    redundance = mua[kk].size / seqz[kk].size\n",
      "    shuffled = []\n",
      "    for ii in range(10000/redundance):\n",
      "       shuffled.append(np.random.permutation(mua[kk]))\n",
      "    shuffled = np.array(shuffled)\n",
      "    \n",
      "    ### making a set out of sequences\n",
      "    mua_set,mua_weights = duplicate_indicator(shuffled)\n",
      "    sequences = []\n",
      "    for item in mua_set:\n",
      "        sequences.append(sequencer(item))\n",
      "    \n",
      "    sequences = np.array(sequences)\n",
      "    \n",
      "    seqzSet,seqzWeights = duplicate_indicator(sequences,mua_weights)\n",
      "    seqzStack.append(seqzSet)\n",
      "    weightStack.append(seqzWeights)\n"
     ],
     "language": "python",
     "metadata": {},
     "outputs": []
    },
    {
     "cell_type": "code",
     "collapsed": false,
     "input": [
      "import os\n",
      "for item in range(10):\n",
      "    os.system('play --no-show-progress --null --channels 1 synth %s sine %f' % ( 0.1, 5000))"
     ],
     "language": "python",
     "metadata": {},
     "outputs": [],
     "prompt_number": 27
    },
    {
     "cell_type": "code",
     "collapsed": false,
     "input": [
      "qqq = shuffled[:1000]\n",
      "setz,histz = duplicate_indicator(qqq)\n",
      "sqz = []\n",
      "for item in setz:\n",
      "    sqz.append(sequencer(item))\n",
      "sqzst,sqhist = duplicate_indicator(sqz,histz)"
     ],
     "language": "python",
     "metadata": {},
     "outputs": [],
     "prompt_number": 233
    },
    {
     "cell_type": "code",
     "collapsed": false,
     "input": [
      "sqhist.sum()"
     ],
     "language": "python",
     "metadata": {},
     "outputs": [
      {
       "metadata": {},
       "output_type": "pyout",
       "prompt_number": 235,
       "text": [
        "1000.0"
       ]
      }
     ],
     "prompt_number": 235
    },
    {
     "cell_type": "code",
     "collapsed": false,
     "input": [
      "seqz = []\n",
      "seqzO = []\n",
      "for item in sq_set:\n",
      "    seqz.append(sequencer(item))\n",
      "    seqzO.append(sequencer(item))\n",
      "for ii in range(len(seqz)):\n",
      "    for jj in range(len(seqz)):\n",
      "        if np.array_equal(seqz[jj], seqz[ii]) and ii != jj:\n",
      "            seqz[jj] = np.array([-1])\n",
      "\n",
      "seqzS =[]                \n",
      "for ii in range(len(seqz)):\n",
      "    if seqz[ii].sum() > 0:\n",
      "        seqzS.append(seqz[ii])\n",
      "seqzW = np.zeros(len(seqzS))\n",
      "for ii in range(len(seqzS)):\n",
      "    for jj in range(len(seqz)):\n",
      "        if np.array_equal(seqzS[ii],seqzO[jj]):\n",
      "            seqzW[ii] += hist[jj]\n",
      "seqzW"
     ],
     "language": "python",
     "metadata": {},
     "outputs": [
      {
       "metadata": {},
       "output_type": "pyout",
       "prompt_number": 187,
       "text": [
        "array([ 1055.,  1945.])"
       ]
      }
     ],
     "prompt_number": 187
    },
    {
     "cell_type": "code",
     "collapsed": false,
     "input": [
      "### making a set out of sequences\n",
      "shf_cp = np.copy(shf)   # Set of sequnces found in recorded data\n",
      "for ii in range(len(shf_cp)):\n",
      "    for jj in range(len(shf_cp)):\n",
      "        if np.array_equal(shf_cp[jj], shf_cp[ii]) and ii != jj:\n",
      "            shf_cp[jj] = np.array([-1])\n"
     ],
     "language": "python",
     "metadata": {},
     "outputs": [],
     "prompt_number": 79
    },
    {
     "cell_type": "code",
     "collapsed": false,
     "input": [
      "sq_set = []\n",
      "for item in shf_cp:\n",
      "    if item.sum() > 0:\n",
      "        sq_set.append(item)\n",
      "print len(sq_set)"
     ],
     "language": "python",
     "metadata": {},
     "outputs": [
      {
       "output_type": "stream",
       "stream": "stdout",
       "text": [
        "126\n"
       ]
      }
     ],
     "prompt_number": 80
    },
    {
     "cell_type": "code",
     "collapsed": false,
     "input": [
      "hist = np.zeros(len(sq_set))\n",
      "for ii in range(hist.size):\n",
      "    for item in shf:\n",
      "        if np.array_equal(item,sq_set[ii]):\n",
      "            hist[ii] += 1"
     ],
     "language": "python",
     "metadata": {},
     "outputs": [],
     "prompt_number": 81
    },
    {
     "cell_type": "code",
     "collapsed": false,
     "input": [
      "args = hist.argsort()"
     ],
     "language": "python",
     "metadata": {},
     "outputs": [],
     "prompt_number": 82
    },
    {
     "cell_type": "code",
     "collapsed": false,
     "input": [
      "hist[args[::-1]]"
     ],
     "language": "python",
     "metadata": {},
     "outputs": [
      {
       "metadata": {},
       "output_type": "pyout",
       "prompt_number": 83,
       "text": [
        "array([ 35.,  34.,  34.,  33.,  33.,  33.,  33.,  32.,  32.,  31.,  31.,\n",
        "        31.,  31.,  31.,  30.,  30.,  30.,  30.,  30.,  29.,  28.,  28.,\n",
        "        28.,  28.,  28.,  28.,  28.,  28.,  27.,  27.,  27.,  27.,  27.,\n",
        "        27.,  27.,  27.,  27.,  27.,  27.,  26.,  26.,  26.,  26.,  26.,\n",
        "        26.,  26.,  26.,  26.,  26.,  26.,  26.,  25.,  25.,  25.,  25.,\n",
        "        25.,  25.,  25.,  25.,  25.,  25.,  25.,  25.,  24.,  24.,  24.,\n",
        "        24.,  24.,  24.,  24.,  24.,  23.,  23.,  23.,  23.,  23.,  22.,\n",
        "        22.,  22.,  22.,  22.,  22.,  22.,  22.,  22.,  21.,  21.,  21.,\n",
        "        21.,  21.,  21.,  20.,  20.,  20.,  20.,  20.,  20.,  20.,  20.,\n",
        "        20.,  19.,  19.,  18.,  18.,  18.,  18.,  18.,  18.,  17.,  17.,\n",
        "        17.,  17.,  17.,  16.,  16.,  16.,  16.,  16.,  15.,  15.,  15.,\n",
        "        14.,  14.,  14.,  13.,  12.])"
       ]
      }
     ],
     "prompt_number": 83
    },
    {
     "cell_type": "code",
     "collapsed": false,
     "input": [
      "pl.plot(hist[args[::-1]])"
     ],
     "language": "python",
     "metadata": {},
     "outputs": [
      {
       "metadata": {},
       "output_type": "pyout",
       "prompt_number": 84,
       "text": [
        "[<matplotlib.lines.Line2D at 0xff77b10>]"
       ]
      }
     ],
     "prompt_number": 84
    },
    {
     "cell_type": "code",
     "collapsed": false,
     "input": [
      "sq_set[hist.argmin()],sq_set[hist.argmax()]"
     ],
     "language": "python",
     "metadata": {},
     "outputs": [
      {
       "metadata": {},
       "output_type": "pyout",
       "prompt_number": 90,
       "text": [
        "(array([5, 2, 5, 2, 5, 2, 2, 2, 5]), array([5, 2, 5, 2, 2, 2, 5, 5, 2]))"
       ]
      }
     ],
     "prompt_number": 90
    },
    {
     "cell_type": "code",
     "collapsed": false,
     "input": [
      "count = 0\n",
      "for item in shf:\n",
      "    if np.array_equal(item, mua[4]):\n",
      "        count += 1\n",
      "print count"
     ],
     "language": "python",
     "metadata": {},
     "outputs": [
      {
       "output_type": "stream",
       "stream": "stdout",
       "text": [
        "30\n"
       ]
      }
     ],
     "prompt_number": 88
    },
    {
     "cell_type": "code",
     "collapsed": false,
     "input": [
      "9/2"
     ],
     "language": "python",
     "metadata": {},
     "outputs": [
      {
       "metadata": {},
       "output_type": "pyout",
       "prompt_number": 152,
       "text": [
        "4"
       ]
      }
     ],
     "prompt_number": 152
    },
    {
     "cell_type": "code",
     "collapsed": false,
     "input": [
      "np.mod(8,3)"
     ],
     "language": "python",
     "metadata": {},
     "outputs": [
      {
       "metadata": {},
       "output_type": "pyout",
       "prompt_number": 148,
       "text": [
        "2"
       ]
      }
     ],
     "prompt_number": 148
    },
    {
     "cell_type": "code",
     "collapsed": false,
     "input": [
      "for item in rec.spikes:\n",
      "    print item.isi().min()"
     ],
     "language": "python",
     "metadata": {},
     "outputs": [
      {
       "output_type": "stream",
       "stream": "stdout",
       "text": [
        "7.5\n",
        "3.0\n",
        "1.0\n",
        "2.0\n",
        "1.0\n",
        "0.5\n",
        "3.5\n",
        "1.0\n",
        "3.0\n",
        "1.0\n",
        "3.5\n",
        "3.0\n",
        "1.0\n",
        "1.0\n",
        "1.0\n",
        "1.5\n",
        "3.0\n",
        "2.0\n",
        "3.5\n",
        "5.0\n",
        "2.5\n",
        "3.5\n",
        "2.0\n"
       ]
      }
     ],
     "prompt_number": 23
    },
    {
     "cell_type": "code",
     "collapsed": false,
     "input": [
      "rec.sequence_1st_spike[4][:,2] - rec.sequence_1st_spike[4][:,1]"
     ],
     "language": "python",
     "metadata": {},
     "outputs": [
      {
       "metadata": {},
       "output_type": "pyout",
       "prompt_number": 20,
       "text": [
        "array([ 11.5,  10.5])"
       ]
      }
     ],
     "prompt_number": 20
    },
    {
     "cell_type": "code",
     "collapsed": false,
     "input": [
      "rec.MultiUnitActivity[44]"
     ],
     "language": "python",
     "metadata": {},
     "outputs": [
      {
       "metadata": {},
       "output_type": "pyout",
       "prompt_number": 19,
       "text": [
        "array([[   4, 2087,   45],\n",
        "       [   8,   35,   45],\n",
        "       [  13,   83,   45],\n",
        "       [   4, 2081,   45],\n",
        "       [   4, 2084,   45],\n",
        "       [   1,   35,   45],\n",
        "       [   1,   36,   45],\n",
        "       [   4, 2085,   45],\n",
        "       [   9,    2,   45],\n",
        "       [  12,    9,   45],\n",
        "       [   4, 2082,   45],\n",
        "       [   4, 2086,   45],\n",
        "       [   4, 2083,   45]])"
       ]
      }
     ],
     "prompt_number": 19
    },
    {
     "cell_type": "code",
     "collapsed": false,
     "input": [
      "rec.spikes.MultiUnitFiring[0]"
     ],
     "language": "python",
     "metadata": {},
     "outputs": [
      {
       "metadata": {},
       "output_type": "pyout",
       "prompt_number": 32,
       "text": [
        "array([  5.05537726e+06,   5.05544116e+06,   1.08908188e+01,\n",
        "         5.05540429e+06])"
       ]
      }
     ],
     "prompt_number": 32
    },
    {
     "cell_type": "code",
     "collapsed": false,
     "input": [
      "rec.overlap"
     ],
     "language": "python",
     "metadata": {},
     "outputs": [
      {
       "metadata": {},
       "output_type": "pyout",
       "prompt_number": 33,
       "text": [
        "array([[    4,    78,     0],\n",
        "       [    4,    77,     0],\n",
        "       [    4,    76,     0],\n",
        "       ..., \n",
        "       [    4, 52148,   831],\n",
        "       [   19,  1361,   831],\n",
        "       [    5, 20602,   831]])"
       ]
      }
     ],
     "prompt_number": 33
    },
    {
     "cell_type": "code",
     "collapsed": false,
     "input": [],
     "language": "python",
     "metadata": {},
     "outputs": []
    }
   ],
   "metadata": {}
  }
 ]
}