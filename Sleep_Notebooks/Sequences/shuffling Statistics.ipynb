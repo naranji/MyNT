{
 "metadata": {
  "name": "",
  "signature": "sha256:2b2cc90510cd983bbc61e4c8b23642f9dd6dafc171a7bd494dc90e2ad519b9c1"
 },
 "nbformat": 3,
 "nbformat_minor": 0,
 "worksheets": [
  {
   "cells": [
    {
     "cell_type": "code",
     "collapsed": false,
     "input": [
      "%matplotlib inline\n",
      "%load_ext autoreload\n",
      "%autoreload 2\n",
      "from scipy.misc import comb\n",
      "import numpy as np\n",
      "import matplotlib.pyplot as pl\n",
      "import pickle as pkl\n",
      "import sets\n",
      "import random\n",
      "import itertools\n",
      "import os,sys,fnmatch\n",
      "import timeit"
     ],
     "language": "python",
     "metadata": {},
     "outputs": [],
     "prompt_number": 2
    },
    {
     "cell_type": "code",
     "collapsed": false,
     "input": [
      "def subsequence(sub,ref):\n",
      "    '''\n",
      "    A function to determine the number of specefic sequence repeated within a larger sequence.\n",
      "    \n",
      "    Parameters:\n",
      "    sub:\n",
      "    ref:\n",
      "    \n",
      "    \n",
      "    Returns:\n",
      "    idx : This an array containing the index of elements of sub in the ref! if idx is stricktly increasing the sequence sub\n",
      "    is replayed whithin sequence ref!\n",
      "    '''\n",
      "    ref = np.array(ref)\n",
      "    idx = np.array([])\n",
      "    for ii in range(len(sub)):\n",
      "        index = np.where(ref == sub[ii])[0]\n",
      "        if index.size:\n",
      "            idx = np.append(idx,index)\n",
      "        else: \n",
      "            return [] , False\n",
      "    idx = np.int0(idx)\n",
      "    return idx, True\n",
      "\n",
      "def median(arr):\n",
      "    '''\n",
      "    mY median... ;)\n",
      "    '''\n",
      "    arr = np.array(arr)\n",
      "    if np.mod(arr.size,2) == 0 :\n",
      "        return arr[arr.size / 2 - 1]\n",
      "    else: \n",
      "        return arr[arr.size / 2 ]\n",
      "    \n",
      "def sequencer(arr,method = 'median'):\n",
      "    '''\n",
      "    This function sequences the given array(with possible repeated elements) into an array of distinct elements! Considering either \n",
      "    first or the midian position of repeated elements.\n",
      "    '''\n",
      "    arr = np.array(arr)\n",
      "    idx_seq = np.array([])\n",
      "    if method == 'median':\n",
      "        for item in set(arr):\n",
      "            idx_seq = np.append(idx_seq,median(np.where(arr == item)[0]))\n",
      "        idx_seq.sort()\n",
      "    if method == 'first':\n",
      "        for item in set(arr):\n",
      "            idx_seq = np.append(idx_seq,np.where(arr == item)[0][0])\n",
      "        idx_seq.sort()\n",
      "\n",
      "    return arr[np.int0(idx_seq)]\n",
      "\n",
      "def duplicate_indicator(arr_group,weights=np.array([])):\n",
      "    '''\n",
      "    Finds and counts the duplicates! This Function makes a frequency distribution the number of\n",
      "    arrays within a goup of arrays.\n",
      "    \n",
      "    Parameters:\n",
      "    -----------\n",
      "    arr_group: The one that you want to count\n",
      "    weights: an array containig the wights(results of a previous counting of etc.). \n",
      "    If non empty the distribution will be weighted \n",
      "             with respect to this array!\n",
      "    Returns:\n",
      "    -----------\n",
      "    arr_set: Set of distinct arrays in arr_group\n",
      "    arr_weights: repitition counts of elements in arr_set.\n",
      "    '''\n",
      "    \n",
      "    arr_cp = np.copy(arr_group)   \n",
      "    for ii in range(len(arr_group)):\n",
      "        for jj in range(len(arr_group)):\n",
      "            if np.array_equal(arr_cp[jj], arr_cp[ii]) and ii != jj:\n",
      "                arr_cp[jj] = np.array([-1])\n",
      "    arr_set = []\n",
      "    for item in arr_cp:\n",
      "        if item.sum() > 0:\n",
      "            arr_set.append(item)\n",
      "    arr_set = np.array(arr_set)\n",
      "    ### Counting number of repititions\n",
      "    arr_weights = np.zeros(len(arr_set))\n",
      "    for ii in range(len(arr_set)):\n",
      "        for jj in range(len(arr_group)):\n",
      "            if np.array_equal(arr_group[jj],arr_set[ii]):\n",
      "                if weights.size:\n",
      "                    arr_weights[ii] += weights[jj]\n",
      "                else:\n",
      "                    arr_weights[ii] += 1\n",
      "    return arr_set,arr_weights\n",
      "\n",
      "def next_permutation(arr):\n",
      "    '''\n",
      "    \n",
      "        Computes the next lexicographical permutation of the specified list in place,\n",
      "     returning whether a next permutation existed. (Returns False when the argument\n",
      "     is already the last possible permutation.)\n",
      "    \n",
      "    \n",
      "         Example:\n",
      "            arr = [0, 1, 0]\n",
      "            next_permutation(arr)  (returns True)\n",
      "            arr has been modified to be [1, 0, 0]\n",
      "    Reference:\n",
      "    -----------\n",
      "    Nayuki Minase, 2014. Public domain.\n",
      "    http://nayuki.eigenstate.org/page/next-lexicographical-permutation-algorithm\n",
      "            '''\n",
      "    \n",
      "    i = len(arr) - 1\n",
      "    while i > 0 and arr[i - 1] >= arr[i]:\n",
      "        i -= 1\n",
      "    if i <= 0:\n",
      "        return False\n",
      "    \n",
      "    # Find successor to pivot\n",
      "    j = len(arr) - 1\n",
      "    while arr[j] <= arr[i - 1]:\n",
      "        j -= 1\n",
      "    arr[i - 1], arr[j] = arr[j], arr[i - 1]\n",
      "    \n",
      "    # Reverse suffix\n",
      "    arr[i : ] = arr[len(arr) - 1 : i - 1 : -1]\n",
      "    return True\n",
      "\n",
      "def number_of_permutations(arr):\n",
      "    Cnk = [] #keep the combinations!\n",
      "    s = 0    # sum of repitiotions of elements in arr!\n",
      "    arrcp = np.array(arr).copy()\n",
      "    arrcp.sort()\n",
      "    for item in set(arrcp):\n",
      "        reps = np.where(arrcp == item)[0].size\n",
      "        Cnk.append(comb(arrcp.size - s,reps,True))\n",
      "        s += reps\n",
      "    return np.prod(np.array(Cnk))\n",
      "def all_permutations(arr):\n",
      "    '''\n",
      "    produces all possible permutations of a given array using lexographical ordering.\n",
      "    Sequence the arrays and returns the weights of all possible sequences!\n",
      "    This version is fast but memory consuming, better for the short arrays!\n",
      "    written by A. Chenani Sep. 2014\n",
      "    '''\n",
      "    sqStack = []\n",
      "    weightsStack = []\n",
      "    for item in arr:\n",
      "        item.sort()\n",
      "        arr_seqz = [sequencer(item)]\n",
      "        #####Cunstructing sequence set\n",
      "        start =  timeit.default_timer()\n",
      "        \n",
      "        arr_seqz_set = np.array([])\n",
      "        sample_seq = arr_seqz[0].copy()\n",
      "        sample_seq.sort()\n",
      "        arr_seqz_set = np.append(arr_seqz_set,sample_seq)\n",
      "        while next_permutation(sample_seq):\n",
      "            arr_seqz_set = np.append(arr_seqz_set,sample_seq)\n",
      "        arr_seqz_set = arr_seqz_set.reshape(np.math.factorial(sample_seq.size),arr_seqz[0].size)\n",
      "        \n",
      "        stop = timeit.default_timer()\n",
      "        print 'part one --> %f' %(stop - start)\n",
      "        \n",
      "        \n",
      "        #####creating MUA permutation list!\n",
      "        start =  timeit.default_timer()\n",
      "        \n",
      "        while next_permutation(item):\n",
      "            arr_seqz.append(sequencer(item))\n",
      "        arr_seqz = np.array(arr_seqz) #This contains all sequences coming from permutations of an specific MUA!\n",
      "       \n",
      "        stop = timeit.default_timer()\n",
      "        print 'part two --> %f' %(stop - start)\n",
      "        \n",
      "        #####Calculating the wights of all possible sequences\n",
      "        start =  timeit.default_timer()\n",
      "        weights = []\n",
      "        for item in arr_seqz_set:\n",
      "            selection = arr_seqz[np.where(arr_seqz[:,0]==item[0])[0]]\n",
      "            for ii in range(1,arr_seqz_set.shape[1]):\n",
      "                selection = selection[np.where(selection[:,ii]==item[ii])[0]]\n",
      "            weights.append(selection.size/float(arr_seqz.size))\n",
      "        weightsStack.append(np.array(weights))\n",
      "        sqStack.append(arr_seqz_set)\n",
      "        \n",
      "        stop = timeit.default_timer()\n",
      "        print 'part three --> %f' %(stop - start)\n",
      "    return sqStack,weightsStack\n",
      "def All_permutations(arr):\n",
      "    '''\n",
      "    produces all possible permutations of a given array using lexographical ordering.\n",
      "    Sequence the arrays and returns the weights of all possible sequences!\n",
      "    This version is not using that much memory but its slow, better for long arrays.\n",
      "    written by A. Chenani Sep. 2014\n",
      "    '''\n",
      "    sqStack = []\n",
      "    weightsStack = []\n",
      "    for item in arr:\n",
      "        item.sort()\n",
      "        #####Cunstructing sequence set\n",
      "        arr_seqz_set = np.array([])\n",
      "        sample_seq = sequencer(item)\n",
      "        sample_seq.sort()\n",
      "        arr_seqz_set = np.append(arr_seqz_set,sample_seq)\n",
      "        while next_permutation(sample_seq):\n",
      "            arr_seqz_set = np.append(arr_seqz_set,sample_seq)\n",
      "        arr_seqz_set = arr_seqz_set.reshape(np.math.factorial(sample_seq.size),sample_seq.size)\n",
      "        \n",
      "        \n",
      "        \n",
      "        \n",
      "        #####creating MUA permutation list!\n",
      "        start =  timeit.default_timer()\n",
      "        lexRank = [0]\n",
      "        while next_permutation(item):\n",
      "            selection = np.arange(arr_seqz_set.size)\n",
      "            for ii in range(arr_seqz_set[0].size -1 ):\n",
      "                selection = np.intersect1d(selection,np.where(arr_seqz_set[:,ii]==sequencer(item)[ii])[0])\n",
      "            lexRank.append(selection[0])\n",
      "        lexRank = np.array(lexRank)\n",
      "        stop = timeit.default_timer()\n",
      "        print 'part two --> %f' %(stop - start)\n",
      "        #####Calculating the wights of all possible sequences\n",
      "        weights = []\n",
      "        for ii,item in enumerate(arr_seqz_set):\n",
      "            weights.append(np.where(lexRank == ii)[0].size /float(lexRank.size))\n",
      "        weightsStack.append(np.array(weights))\n",
      "        sqStack.append(arr_seqz_set)\n",
      "    return sqStack,weightsStack\n",
      "\n",
      "def locate(pattern, root=os.curdir):\n",
      "    '''Locate all files matching supplied filename pattern in and below\n",
      "        supplied root directory.\n",
      "    '''\n",
      "    for path, dirs, files in os.walk(os.path.abspath(root)):\n",
      "        for filename in fnmatch.filter(files, pattern):\n",
      "            yield [path,filename]"
     ],
     "language": "python",
     "metadata": {},
     "outputs": [],
     "prompt_number": 3
    },
    {
     "cell_type": "code",
     "collapsed": false,
     "input": [],
     "language": "python",
     "metadata": {},
     "outputs": [],
     "prompt_number": 3
    },
    {
     "cell_type": "code",
     "collapsed": false,
     "input": [
      "s = [1,2,3,3,3,6]\n",
      "ss = range(5)\n",
      "all_permutations([ss])[1],All_permutations([s])[1]"
     ],
     "language": "python",
     "metadata": {},
     "outputs": [
      {
       "output_type": "stream",
       "stream": "stdout",
       "text": [
        "part one --> 0.001591\n",
        "part two --> 0.009631\n",
        "part three --> 0.002529\n",
        "part two --> 0.023834\n"
       ]
      },
      {
       "metadata": {},
       "output_type": "pyout",
       "prompt_number": 6,
       "text": [
        "([array([ 0.00833333,  0.00833333,  0.00833333,  0.00833333,  0.00833333,\n",
        "          0.00833333,  0.00833333,  0.00833333,  0.00833333,  0.00833333,\n",
        "          0.00833333,  0.00833333,  0.00833333,  0.00833333,  0.00833333,\n",
        "          0.00833333,  0.00833333,  0.00833333,  0.00833333,  0.00833333,\n",
        "          0.00833333,  0.00833333,  0.00833333,  0.00833333,  0.00833333,\n",
        "          0.00833333,  0.00833333,  0.00833333,  0.00833333,  0.00833333,\n",
        "          0.00833333,  0.00833333,  0.00833333,  0.00833333,  0.00833333,\n",
        "          0.00833333,  0.00833333,  0.00833333,  0.00833333,  0.00833333,\n",
        "          0.00833333,  0.00833333,  0.00833333,  0.00833333,  0.00833333,\n",
        "          0.00833333,  0.00833333,  0.00833333,  0.00833333,  0.00833333,\n",
        "          0.00833333,  0.00833333,  0.00833333,  0.00833333,  0.00833333,\n",
        "          0.00833333,  0.00833333,  0.00833333,  0.00833333,  0.00833333,\n",
        "          0.00833333,  0.00833333,  0.00833333,  0.00833333,  0.00833333,\n",
        "          0.00833333,  0.00833333,  0.00833333,  0.00833333,  0.00833333,\n",
        "          0.00833333,  0.00833333,  0.00833333,  0.00833333,  0.00833333,\n",
        "          0.00833333,  0.00833333,  0.00833333,  0.00833333,  0.00833333,\n",
        "          0.00833333,  0.00833333,  0.00833333,  0.00833333,  0.00833333,\n",
        "          0.00833333,  0.00833333,  0.00833333,  0.00833333,  0.00833333,\n",
        "          0.00833333,  0.00833333,  0.00833333,  0.00833333,  0.00833333,\n",
        "          0.00833333,  0.00833333,  0.00833333,  0.00833333,  0.00833333,\n",
        "          0.00833333,  0.00833333,  0.00833333,  0.00833333,  0.00833333,\n",
        "          0.00833333,  0.00833333,  0.00833333,  0.00833333,  0.00833333,\n",
        "          0.00833333,  0.00833333,  0.00833333,  0.00833333,  0.00833333,\n",
        "          0.00833333,  0.00833333,  0.00833333,  0.00833333,  0.00833333])],\n",
        " [array([ 0.05      ,  0.03333333,  0.05      ,  0.05      ,  0.03333333,\n",
        "          0.05      ,  0.05      ,  0.03333333,  0.05      ,  0.05      ,\n",
        "          0.03333333,  0.05      ,  0.03333333,  0.03333333,  0.03333333,\n",
        "          0.03333333,  0.03333333,  0.03333333,  0.03333333,  0.05      ,\n",
        "          0.03333333,  0.05      ,  0.05      ,  0.05      ])])"
       ]
      }
     ],
     "prompt_number": 6
    },
    {
     "cell_type": "code",
     "collapsed": false,
     "input": [
      "mua = pkl.load(open('sleep1.mua','rb'))\n",
      "#seqz = pkl.load(open('seqz','rb'))\n",
      "#sqStack,wtStack = pkl.load(open('seqz1.seqz','rb'))\n",
      "\n",
      "left = np.array([9,12,18,20,0,1,6,10,11,13])\n",
      "right = np.array([9,12,18,19,20,0,1,6,8,10,11,13,])"
     ],
     "language": "python",
     "metadata": {},
     "outputs": [],
     "prompt_number": 4
    },
    {
     "cell_type": "code",
     "collapsed": false,
     "input": [
      "a,b = duplicate_indicator(mua)\n"
     ],
     "language": "python",
     "metadata": {},
     "outputs": [],
     "prompt_number": 7
    },
    {
     "cell_type": "code",
     "collapsed": false,
     "input": [
      "### Filtering the place cells from recorded MUAs\n",
      "plMUA = []\n",
      "placCellIDs = np.intersect1d(left,right)\n",
      "for item in mua:\n",
      "    idx = np.in1d(item,placCellIDs) #boolean intersection indicator!\n",
      "    if np.where(idx)[0].size > 1:\n",
      "        plMUA.append(item[idx])\n",
      "plMUA = np.array(plMUA)"
     ],
     "language": "python",
     "metadata": {},
     "outputs": [],
     "prompt_number": 5
    },
    {
     "cell_type": "code",
     "collapsed": false,
     "input": [
      "### Filtering the place cells from recorded sequences\n",
      "plSeqz = []\n",
      "plSeqz_idx = []\n",
      "for ii,item in enumerate(plMUA):\n",
      "    sqz = sequencer(item)\n",
      "    if sqz.size > 1:\n",
      "        plSeqz.append(sqz)\n",
      "        plSeqz_idx.append(ii)"
     ],
     "language": "python",
     "metadata": {},
     "outputs": [],
     "prompt_number": 6
    },
    {
     "cell_type": "code",
     "collapsed": false,
     "input": [
      "plMUA[plSeqz_idx]"
     ],
     "language": "python",
     "metadata": {},
     "outputs": [
      {
       "metadata": {},
       "output_type": "pyout",
       "prompt_number": 7,
       "text": [
        "array([array([11, 11, 20]), array([11, 11, 11, 11, 11, 20, 11]),\n",
        "       array([11, 13, 11]), array([13, 13, 12]),\n",
        "       array([11, 11, 11,  1,  1]), array([ 1,  1, 11]),\n",
        "       array([13, 20, 13]), array([13, 11, 11]), array([ 0, 13]),\n",
        "       array([10, 13, 13]), array([11,  1, 11]), array([20, 12, 12, 12]),\n",
        "       array([20,  0]), array([13,  0]),\n",
        "       array([11, 20, 20, 20, 20, 20, 20, 20, 20, 11, 20, 20, 20, 20]),\n",
        "       array([ 0,  0, 13]), array([20, 20, 20, 20, 11, 11]),\n",
        "       array([13, 13,  0,  0]), array([12, 13, 13,  0, 13]),\n",
        "       array([12, 13, 13, 13]), array([20, 20, 20, 11]), array([13, 11]),\n",
        "       array([12,  1]), array([10, 13]),\n",
        "       array([11, 11, 20, 20, 20, 20, 11, 11]), array([ 1, 11]),\n",
        "       array([20, 20, 11, 20]), array([11,  0]), array([ 0, 12]),\n",
        "       array([11, 11, 13]), array([ 0, 20, 20]),\n",
        "       array([ 1, 11, 11, 11, 11, 11]), array([12,  6]),\n",
        "       array([12, 13,  1,  1]), array([12, 12, 12, 10, 10]),\n",
        "       array([20, 20, 20, 20, 20, 20, 20, 20, 11]),\n",
        "       array([20, 13, 20, 20]), array([11, 20, 20, 20]),\n",
        "       array([11, 11, 11, 11, 20, 20]), array([11, 11, 20]),\n",
        "       array([20, 13, 20, 13, 20, 13, 13, 13]), array([11, 11, 11,  1]),\n",
        "       array([11, 11, 11, 20]), array([11, 13]),\n",
        "       array([11, 11, 13, 13, 11]), array([11, 13, 13, 11]),\n",
        "       array([11, 11, 13, 11, 11, 13]), array([11, 11, 11, 13, 13]),\n",
        "       array([11, 11, 13, 11]), array([20, 11, 13, 13]),\n",
        "       array([11, 11, 11, 11, 11,  1]),\n",
        "       array([11, 11, 11, 11, 11, 13, 11]),\n",
        "       array([13, 20, 20, 20, 20, 20]), array([11, 20, 11]),\n",
        "       array([ 1,  1, 11, 11, 11, 11, 13, 13]),\n",
        "       array([ 0,  0,  0, 13, 11, 11, 13]), array([12, 13, 20, 20, 13]),\n",
        "       array([20,  1, 11]), array([20, 11]), array([12, 13]),\n",
        "       array([10, 20]), array([13,  0, 13,  0]), array([ 1, 13, 20]),\n",
        "       array([20, 11, 11]), array([20, 20, 11, 11, 11]),\n",
        "       array([13, 11, 11, 11]), array([ 6, 13]), array([12, 13]),\n",
        "       array([13, 13, 13, 13, 13, 13, 13, 13,  0,  0, 20, 12, 13]),\n",
        "       array([13,  1]), array([13, 13,  1,  0,  0,  1]),\n",
        "       array([13, 13, 13, 13, 13, 13, 12, 13,  0,  0,  0]),\n",
        "       array([ 1, 13]), array([13,  0]), array([ 0, 18, 20, 20]),\n",
        "       array([20, 11]), array([20, 20, 20, 20, 20, 11, 11]),\n",
        "       array([12,  0, 20, 20]), array([1, 0]), array([13, 20]),\n",
        "       array([ 0, 20]), array([ 0,  0, 12]),\n",
        "       array([20, 20, 20, 20, 20, 20,  0,  0]), array([11,  0, 11]),\n",
        "       array([20, 20, 20, 13, 13, 13, 13])], dtype=object)"
       ]
      }
     ],
     "prompt_number": 7
    },
    {
     "cell_type": "code",
     "collapsed": false,
     "input": [
      "set_len = []\n",
      "for item in plSeqz:\n",
      "    set_len.append(len(set(item)))\n",
      "set_len = np.int0(set_len)\n",
      "pl.hist(set_len);"
     ],
     "language": "python",
     "metadata": {},
     "outputs": [
      {
       "metadata": {},
       "output_type": "display_data",
       "png": "[encoded data removed]",
       "text": [
        "<matplotlib.figure.Figure at 0x7f9c4780d3d0>"
       ]
      }
     ],
     "prompt_number": 9
    },
    {
     "cell_type": "code",
     "collapsed": false,
     "input": [
      "pkl.dump(plMUA,open('/media/chenani/Data/ephysdata/Rats/MECLesion/Rat616Control/2013-06-02_07-42-38/sleep2/place_cells.mua','wb'),pkl.HIGHEST_PROTOCOL)"
     ],
     "language": "python",
     "metadata": {},
     "outputs": [],
     "prompt_number": 10
    },
    {
     "cell_type": "code",
     "collapsed": false,
     "input": [
      "sizes = np.array([item.size for item in plSeqz])\n",
      "sizes.argmax()"
     ],
     "language": "python",
     "metadata": {},
     "outputs": [
      {
       "metadata": {},
       "output_type": "pyout",
       "prompt_number": 11,
       "text": [
        "68"
       ]
      }
     ],
     "prompt_number": 11
    },
    {
     "cell_type": "code",
     "collapsed": false,
     "input": [
      "pl.hist(sizes,log=True);"
     ],
     "language": "python",
     "metadata": {},
     "outputs": [
      {
       "metadata": {},
       "output_type": "display_data",
       "png": "[encoded data removed]",
       "text": [
        "<matplotlib.figure.Figure at 0x7f9c64e25890>"
       ]
      }
     ],
     "prompt_number": 12
    },
    {
     "cell_type": "code",
     "collapsed": false,
     "input": [],
     "language": "python",
     "metadata": {},
     "outputs": [],
     "prompt_number": 182
    },
    {
     "cell_type": "heading",
     "level": 6,
     "metadata": {},
     "source": [
      "This basically says that I don't need to produce permutations for any other thing rather these sequences!"
     ]
    },
    {
     "cell_type": "code",
     "collapsed": false,
     "input": [
      "A = duplicate_indicator(plSeqz)"
     ],
     "language": "python",
     "metadata": {},
     "outputs": [],
     "prompt_number": 136
    },
    {
     "cell_type": "code",
     "collapsed": false,
     "input": [
      "rpt_idx = np.where(A[1] > 1)[0]\n",
      "rptSeqz = A[0][rpt_idx]\n",
      "rptW8tz = A[1][rpt_idx]"
     ],
     "language": "python",
     "metadata": {},
     "outputs": [],
     "prompt_number": 141
    },
    {
     "cell_type": "code",
     "collapsed": false,
     "input": [
      "rptSeqz,rptW8tz"
     ],
     "language": "python",
     "metadata": {},
     "outputs": [
      {
       "metadata": {},
       "output_type": "pyout",
       "prompt_number": 142,
       "text": [
        "(array([array([20, 13]), array([20,  0]), array([13,  0]), array([20, 18]),\n",
        "        array([13,  1]), array([13, 11]), array([9, 1, 6]), array([13, 12]),\n",
        "        array([12,  0]), array([13, 12, 11]), array([12, 13]),\n",
        "        array([ 0,  9, 12]), array([ 0, 13]), array([ 0, 20]),\n",
        "        array([11,  1]), array([13, 20]), array([ 0, 12]), array([ 1, 13]),\n",
        "        array([20,  1]), array([ 0, 11]), array([9, 1]), array([12, 11]),\n",
        "        array([ 1, 18]), array([11, 13]), array([11, 13, 12,  0]),\n",
        "        array([18,  1])], dtype=object),\n",
        " array([ 3.,  3.,  9.,  2.,  7.,  4.,  2.,  6.,  3.,  2.,  3.,  2.,  5.,\n",
        "         7.,  4.,  3.,  6.,  2.,  6.,  3.,  3.,  2.,  2.,  3.,  2.,  4.]))"
       ]
      }
     ],
     "prompt_number": 142
    },
    {
     "cell_type": "code",
     "collapsed": false,
     "input": [
      "idx = []\n",
      "for ii ,item in enumerate(plSeqz):\n",
      "    sub = subsequence(rptSeqz[-2],item)\n",
      "    if sub[1]:\n",
      "        n = len(sub[0])\n",
      "        if item.size == n and np.diff(sub[0]).sum() == n - 1:\n",
      "            idx.append(ii)"
     ],
     "language": "python",
     "metadata": {},
     "outputs": [],
     "prompt_number": 271
    },
    {
     "cell_type": "code",
     "collapsed": false,
     "input": [
      "B = plMUA[plSeqz_idx][idx]"
     ],
     "language": "python",
     "metadata": {},
     "outputs": [],
     "prompt_number": 276
    },
    {
     "cell_type": "code",
     "collapsed": false,
     "input": [
      "import timeit\n",
      "ti = timeit.default_timer()\n",
      "all_permutations([[ 1, 12, 12,  1,  1,  1,  1, 13,  0,  0,  0,  0,  0,  0,  0,  0, 10,20, 10]])\n",
      "tf = timeit.default_timer()\n",
      "print tf-ti\n"
     ],
     "language": "python",
     "metadata": {},
     "outputs": [
      {
       "output_type": "stream",
       "stream": "stdout",
       "text": [
        "part one --> 0.005380\n"
       ]
      },
      {
       "ename": "KeyboardInterrupt",
       "evalue": "",
       "output_type": "pyerr",
       "traceback": [
        "\u001b[1;31m---------------------------------------------------------------------------\u001b[0m\n\u001b[1;31mKeyboardInterrupt\u001b[0m                         Traceback (most recent call last)",
        "\u001b[1;32m<ipython-input-294-c208dbbf9743>\u001b[0m in \u001b[0;36m<module>\u001b[1;34m()\u001b[0m\n\u001b[0;32m      1\u001b[0m \u001b[1;32mimport\u001b[0m \u001b[0mtimeit\u001b[0m\u001b[1;33m\u001b[0m\u001b[0m\n\u001b[0;32m      2\u001b[0m \u001b[0mti\u001b[0m \u001b[1;33m=\u001b[0m \u001b[0mtimeit\u001b[0m\u001b[1;33m.\u001b[0m\u001b[0mdefault_timer\u001b[0m\u001b[1;33m(\u001b[0m\u001b[1;33m)\u001b[0m\u001b[1;33m\u001b[0m\u001b[0m\n\u001b[1;32m----> 3\u001b[1;33m \u001b[0mall_permutations\u001b[0m\u001b[1;33m(\u001b[0m\u001b[1;33m[\u001b[0m\u001b[1;33m[\u001b[0m \u001b[1;36m1\u001b[0m\u001b[1;33m,\u001b[0m \u001b[1;36m12\u001b[0m\u001b[1;33m,\u001b[0m \u001b[1;36m12\u001b[0m\u001b[1;33m,\u001b[0m  \u001b[1;36m1\u001b[0m\u001b[1;33m,\u001b[0m  \u001b[1;36m1\u001b[0m\u001b[1;33m,\u001b[0m  \u001b[1;36m1\u001b[0m\u001b[1;33m,\u001b[0m  \u001b[1;36m1\u001b[0m\u001b[1;33m,\u001b[0m \u001b[1;36m13\u001b[0m\u001b[1;33m,\u001b[0m  \u001b[1;36m0\u001b[0m\u001b[1;33m,\u001b[0m  \u001b[1;36m0\u001b[0m\u001b[1;33m,\u001b[0m  \u001b[1;36m0\u001b[0m\u001b[1;33m,\u001b[0m  \u001b[1;36m0\u001b[0m\u001b[1;33m,\u001b[0m  \u001b[1;36m0\u001b[0m\u001b[1;33m,\u001b[0m  \u001b[1;36m0\u001b[0m\u001b[1;33m,\u001b[0m  \u001b[1;36m0\u001b[0m\u001b[1;33m,\u001b[0m  \u001b[1;36m0\u001b[0m\u001b[1;33m,\u001b[0m \u001b[1;36m10\u001b[0m\u001b[1;33m,\u001b[0m\u001b[1;36m20\u001b[0m\u001b[1;33m,\u001b[0m \u001b[1;36m10\u001b[0m\u001b[1;33m]\u001b[0m\u001b[1;33m]\u001b[0m\u001b[1;33m)\u001b[0m\u001b[1;33m\u001b[0m\u001b[0m\n\u001b[0m\u001b[0;32m      4\u001b[0m \u001b[0mtf\u001b[0m \u001b[1;33m=\u001b[0m \u001b[0mtimeit\u001b[0m\u001b[1;33m.\u001b[0m\u001b[0mdefault_timer\u001b[0m\u001b[1;33m(\u001b[0m\u001b[1;33m)\u001b[0m\u001b[1;33m\u001b[0m\u001b[0m\n\u001b[0;32m      5\u001b[0m \u001b[1;32mprint\u001b[0m \u001b[0mtf\u001b[0m\u001b[1;33m-\u001b[0m\u001b[0mti\u001b[0m\u001b[1;33m\u001b[0m\u001b[0m\n",
        "\u001b[1;32m<ipython-input-284-f477569e7356>\u001b[0m in \u001b[0;36mall_permutations\u001b[1;34m(arr)\u001b[0m\n\u001b[0;32m    163\u001b[0m \u001b[1;33m\u001b[0m\u001b[0m\n\u001b[0;32m    164\u001b[0m         \u001b[1;32mwhile\u001b[0m \u001b[0mnext_permutation\u001b[0m\u001b[1;33m(\u001b[0m\u001b[0mitem\u001b[0m\u001b[1;33m)\u001b[0m\u001b[1;33m:\u001b[0m\u001b[1;33m\u001b[0m\u001b[0m\n\u001b[1;32m--> 165\u001b[1;33m             \u001b[0marr_seqz\u001b[0m\u001b[1;33m.\u001b[0m\u001b[0mappend\u001b[0m\u001b[1;33m(\u001b[0m\u001b[0msequencer\u001b[0m\u001b[1;33m(\u001b[0m\u001b[0mitem\u001b[0m\u001b[1;33m)\u001b[0m\u001b[1;33m)\u001b[0m\u001b[1;33m\u001b[0m\u001b[0m\n\u001b[0m\u001b[0;32m    166\u001b[0m         \u001b[0marr_seqz\u001b[0m \u001b[1;33m=\u001b[0m \u001b[0mnp\u001b[0m\u001b[1;33m.\u001b[0m\u001b[0marray\u001b[0m\u001b[1;33m(\u001b[0m\u001b[0marr_seqz\u001b[0m\u001b[1;33m)\u001b[0m \u001b[1;31m#This contains all sequences coming from permutations of an specific MUA!\u001b[0m\u001b[1;33m\u001b[0m\u001b[0m\n\u001b[0;32m    167\u001b[0m \u001b[1;33m\u001b[0m\u001b[0m\n",
        "\u001b[1;32m<ipython-input-284-f477569e7356>\u001b[0m in \u001b[0;36msequencer\u001b[1;34m(arr, method)\u001b[0m\n\u001b[0;32m     42\u001b[0m     \u001b[1;32mif\u001b[0m \u001b[0mmethod\u001b[0m \u001b[1;33m==\u001b[0m \u001b[1;34m'median'\u001b[0m\u001b[1;33m:\u001b[0m\u001b[1;33m\u001b[0m\u001b[0m\n\u001b[0;32m     43\u001b[0m         \u001b[1;32mfor\u001b[0m \u001b[0mitem\u001b[0m \u001b[1;32min\u001b[0m \u001b[0mset\u001b[0m\u001b[1;33m(\u001b[0m\u001b[0marr\u001b[0m\u001b[1;33m)\u001b[0m\u001b[1;33m:\u001b[0m\u001b[1;33m\u001b[0m\u001b[0m\n\u001b[1;32m---> 44\u001b[1;33m             \u001b[0midx_seq\u001b[0m \u001b[1;33m=\u001b[0m \u001b[0mnp\u001b[0m\u001b[1;33m.\u001b[0m\u001b[0mappend\u001b[0m\u001b[1;33m(\u001b[0m\u001b[0midx_seq\u001b[0m\u001b[1;33m,\u001b[0m\u001b[0mmedian\u001b[0m\u001b[1;33m(\u001b[0m\u001b[0mnp\u001b[0m\u001b[1;33m.\u001b[0m\u001b[0mwhere\u001b[0m\u001b[1;33m(\u001b[0m\u001b[0marr\u001b[0m \u001b[1;33m==\u001b[0m \u001b[0mitem\u001b[0m\u001b[1;33m)\u001b[0m\u001b[1;33m[\u001b[0m\u001b[1;36m0\u001b[0m\u001b[1;33m]\u001b[0m\u001b[1;33m)\u001b[0m\u001b[1;33m)\u001b[0m\u001b[1;33m\u001b[0m\u001b[0m\n\u001b[0m\u001b[0;32m     45\u001b[0m         \u001b[0midx_seq\u001b[0m\u001b[1;33m.\u001b[0m\u001b[0msort\u001b[0m\u001b[1;33m(\u001b[0m\u001b[1;33m)\u001b[0m\u001b[1;33m\u001b[0m\u001b[0m\n\u001b[0;32m     46\u001b[0m     \u001b[1;32mif\u001b[0m \u001b[0mmethod\u001b[0m \u001b[1;33m==\u001b[0m \u001b[1;34m'first'\u001b[0m\u001b[1;33m:\u001b[0m\u001b[1;33m\u001b[0m\u001b[0m\n",
        "\u001b[1;32m/usr/local/bin/anaconda/lib/python2.7/site-packages/numpy/lib/function_base.pyc\u001b[0m in \u001b[0;36mappend\u001b[1;34m(arr, values, axis)\u001b[0m\n\u001b[0;32m   3830\u001b[0m \u001b[1;33m\u001b[0m\u001b[0m\n\u001b[0;32m   3831\u001b[0m \u001b[1;33m\u001b[0m\u001b[0m\n\u001b[1;32m-> 3832\u001b[1;33m \u001b[1;32mdef\u001b[0m \u001b[0mappend\u001b[0m\u001b[1;33m(\u001b[0m\u001b[0marr\u001b[0m\u001b[1;33m,\u001b[0m \u001b[0mvalues\u001b[0m\u001b[1;33m,\u001b[0m \u001b[0maxis\u001b[0m\u001b[1;33m=\u001b[0m\u001b[0mNone\u001b[0m\u001b[1;33m)\u001b[0m\u001b[1;33m:\u001b[0m\u001b[1;33m\u001b[0m\u001b[0m\n\u001b[0m\u001b[0;32m   3833\u001b[0m     \"\"\"\n\u001b[0;32m   3834\u001b[0m     \u001b[0mAppend\u001b[0m \u001b[0mvalues\u001b[0m \u001b[0mto\u001b[0m \u001b[0mthe\u001b[0m \u001b[0mend\u001b[0m \u001b[0mof\u001b[0m \u001b[0man\u001b[0m \u001b[0marray\u001b[0m\u001b[1;33m.\u001b[0m\u001b[1;33m\u001b[0m\u001b[0m\n",
        "\u001b[1;31mKeyboardInterrupt\u001b[0m: "
       ]
      }
     ],
     "prompt_number": 294
    },
    {
     "cell_type": "code",
     "collapsed": false,
     "input": [
      "number_of_permutations([ 1, 12, 12,  1,  1,  1,  1, 13,  0,  0,  0,  0,  0,  0,  0,  0, 10,20, 10])"
     ],
     "language": "python",
     "metadata": {},
     "outputs": [
      {
       "metadata": {},
       "output_type": "pyout",
       "prompt_number": 308,
       "text": [
        "6285399120"
       ]
      }
     ],
     "prompt_number": 308
    },
    {
     "cell_type": "code",
     "collapsed": false,
     "input": [
      "del permutations"
     ],
     "language": "python",
     "metadata": {},
     "outputs": [],
     "prompt_number": 290
    },
    {
     "cell_type": "code",
     "collapsed": false,
     "input": [
      "permutations[0][0][11],permutations[1][0][11],permutations[0][1][11],permutations[1][1][11]"
     ],
     "language": "python",
     "metadata": {},
     "outputs": [
      {
       "ename": "IndexError",
       "evalue": "index 11 is out of bounds for axis 0 with size 2",
       "output_type": "pyerr",
       "traceback": [
        "\u001b[1;31m---------------------------------------------------------------------------\u001b[0m\n\u001b[1;31mIndexError\u001b[0m                                Traceback (most recent call last)",
        "\u001b[1;32m<ipython-input-219-84c4c057d14e>\u001b[0m in \u001b[0;36m<module>\u001b[1;34m()\u001b[0m\n\u001b[1;32m----> 1\u001b[1;33m \u001b[0mpermutations\u001b[0m\u001b[1;33m[\u001b[0m\u001b[1;36m0\u001b[0m\u001b[1;33m]\u001b[0m\u001b[1;33m[\u001b[0m\u001b[1;36m0\u001b[0m\u001b[1;33m]\u001b[0m\u001b[1;33m[\u001b[0m\u001b[1;36m11\u001b[0m\u001b[1;33m]\u001b[0m\u001b[1;33m,\u001b[0m\u001b[0mpermutations\u001b[0m\u001b[1;33m[\u001b[0m\u001b[1;36m1\u001b[0m\u001b[1;33m]\u001b[0m\u001b[1;33m[\u001b[0m\u001b[1;36m0\u001b[0m\u001b[1;33m]\u001b[0m\u001b[1;33m[\u001b[0m\u001b[1;36m11\u001b[0m\u001b[1;33m]\u001b[0m\u001b[1;33m,\u001b[0m\u001b[0mpermutations\u001b[0m\u001b[1;33m[\u001b[0m\u001b[1;36m0\u001b[0m\u001b[1;33m]\u001b[0m\u001b[1;33m[\u001b[0m\u001b[1;36m1\u001b[0m\u001b[1;33m]\u001b[0m\u001b[1;33m[\u001b[0m\u001b[1;36m11\u001b[0m\u001b[1;33m]\u001b[0m\u001b[1;33m,\u001b[0m\u001b[0mpermutations\u001b[0m\u001b[1;33m[\u001b[0m\u001b[1;36m1\u001b[0m\u001b[1;33m]\u001b[0m\u001b[1;33m[\u001b[0m\u001b[1;36m1\u001b[0m\u001b[1;33m]\u001b[0m\u001b[1;33m[\u001b[0m\u001b[1;36m11\u001b[0m\u001b[1;33m]\u001b[0m\u001b[1;33m\u001b[0m\u001b[0m\n\u001b[0m",
        "\u001b[1;31mIndexError\u001b[0m: index 11 is out of bounds for axis 0 with size 2"
       ]
      }
     ],
     "prompt_number": 219
    },
    {
     "cell_type": "code",
     "collapsed": false,
     "input": [
      "import sys\n",
      "sys.path.append('/home/chenani/Downloads/pprocess-0.5')\n",
      "import pprocess\n",
      "import time\n",
      "import numpy as np\n",
      " \n",
      "# Define a function to parallelize:\n",
      "def takeuptime(ntrials):\n",
      "    \"\"\"A function to waste CPU cycles\"\"\"\n",
      "    for ii in range(ntrials):\n",
      "        junk = np.std(np.random.randn(1e5))\n",
      "    return junk\n",
      " \n",
      "list_of_args = [a]\n",
      " \n",
      "# Serial computation:\n",
      "tic=time.time()\n",
      "#serial_results = [all_permutations(args) for args in list_of_args];\n",
      "print \"%f s for traditional, serial computation.\" % (time.time()-tic)\n",
      " \n",
      "# Parallel computation:\n",
      "nproc = 4  \t# maximum number of simultaneous processes desired\n",
      "results = pprocess.Map(limit=nproc, reuse=1)\n",
      "#parallel_function = results.manage(pprocess.MakeReusable(takeuptime))\n",
      "parallel_function = results.manage(pprocess.MakeReusable(all_permutations))\n",
      "tic=time.time()\n",
      "[parallel_function(args) for args in list_of_args];  # Start computing things\n",
      "parallel_results = results[0:3];\n",
      "print \"%f s for parallel computation.\" % (time.time() - tic)"
     ],
     "language": "python",
     "metadata": {},
     "outputs": [
      {
       "metadata": {},
       "output_type": "pyout",
       "prompt_number": 13,
       "text": [
        "array([[1, 2],\n",
        "       [1, 2],\n",
        "       [1, 2],\n",
        "       ..., \n",
        "       [2, 1],\n",
        "       [2, 1],\n",
        "       [2, 1]])"
       ]
      }
     ],
     "prompt_number": 13
    },
    {
     "cell_type": "code",
     "collapsed": false,
     "input": [
      "parallel_results[0][1][0]"
     ],
     "language": "python",
     "metadata": {},
     "outputs": [
      {
       "ename": "KeyboardInterrupt",
       "evalue": "",
       "output_type": "pyerr",
       "traceback": [
        "\u001b[1;31m---------------------------------------------------------------------------\u001b[0m\n\u001b[1;31mKeyboardInterrupt\u001b[0m                         Traceback (most recent call last)",
        "\u001b[1;32m<ipython-input-58-a6eb05dc17b1>\u001b[0m in \u001b[0;36m<module>\u001b[1;34m()\u001b[0m\n\u001b[1;32m----> 1\u001b[1;33m \u001b[0mparallel_results\u001b[0m\u001b[1;33m[\u001b[0m\u001b[1;36m0\u001b[0m\u001b[1;33m]\u001b[0m\u001b[1;33m[\u001b[0m\u001b[1;36m1\u001b[0m\u001b[1;33m]\u001b[0m\u001b[1;33m[\u001b[0m\u001b[1;36m0\u001b[0m\u001b[1;33m]\u001b[0m\u001b[1;33m\u001b[0m\u001b[0m\n\u001b[0m",
        "\u001b[1;32m/home/chenani/Downloads/pprocess-0.5/pprocess.pyc\u001b[0m in \u001b[0;36m__getitem__\u001b[1;34m(self, i)\u001b[0m\n\u001b[0;32m    775\u001b[0m \u001b[1;33m\u001b[0m\u001b[0m\n\u001b[0;32m    776\u001b[0m         \u001b[1;32mwhile\u001b[0m \u001b[0mself\u001b[0m\u001b[1;33m.\u001b[0m\u001b[0munfinished\u001b[0m\u001b[1;33m(\u001b[0m\u001b[1;33m)\u001b[0m\u001b[1;33m:\u001b[0m\u001b[1;33m\u001b[0m\u001b[0m\n\u001b[1;32m--> 777\u001b[1;33m             \u001b[0mself\u001b[0m\u001b[1;33m.\u001b[0m\u001b[0mstore\u001b[0m\u001b[1;33m(\u001b[0m\u001b[1;33m)\u001b[0m\u001b[1;33m\u001b[0m\u001b[0m\n\u001b[0m\u001b[0;32m    778\u001b[0m             \u001b[1;32mtry\u001b[0m\u001b[1;33m:\u001b[0m\u001b[1;33m\u001b[0m\u001b[0m\n\u001b[0;32m    779\u001b[0m                 \u001b[1;32mreturn\u001b[0m \u001b[0mself\u001b[0m\u001b[1;33m.\u001b[0m\u001b[0m_get\u001b[0m\u001b[1;33m(\u001b[0m\u001b[0mi\u001b[0m\u001b[1;33m)\u001b[0m\u001b[1;33m\u001b[0m\u001b[0m\n",
        "\u001b[1;32m/home/chenani/Downloads/pprocess-0.5/pprocess.pyc\u001b[0m in \u001b[0;36mstore\u001b[1;34m(self, timeout)\u001b[0m\n\u001b[0;32m    396\u001b[0m \u001b[1;33m\u001b[0m\u001b[0m\n\u001b[0;32m    397\u001b[0m         \u001b[1;32mif\u001b[0m \u001b[0mself\u001b[0m\u001b[1;33m.\u001b[0m\u001b[0mactive\u001b[0m\u001b[1;33m(\u001b[0m\u001b[1;33m)\u001b[0m\u001b[1;33m:\u001b[0m\u001b[1;33m\u001b[0m\u001b[0m\n\u001b[1;32m--> 398\u001b[1;33m             \u001b[1;32mfor\u001b[0m \u001b[0mchannel\u001b[0m \u001b[1;32min\u001b[0m \u001b[0mself\u001b[0m\u001b[1;33m.\u001b[0m\u001b[0mready\u001b[0m\u001b[1;33m(\u001b[0m\u001b[0mtimeout\u001b[0m\u001b[1;33m)\u001b[0m\u001b[1;33m:\u001b[0m\u001b[1;33m\u001b[0m\u001b[0m\n\u001b[0m\u001b[0;32m    399\u001b[0m                 \u001b[0mself\u001b[0m\u001b[1;33m.\u001b[0m\u001b[0mstore_data\u001b[0m\u001b[1;33m(\u001b[0m\u001b[0mchannel\u001b[0m\u001b[1;33m)\u001b[0m\u001b[1;33m\u001b[0m\u001b[0m\n\u001b[0;32m    400\u001b[0m                 \u001b[0mself\u001b[0m\u001b[1;33m.\u001b[0m\u001b[0mstart_waiting\u001b[0m\u001b[1;33m(\u001b[0m\u001b[0mchannel\u001b[0m\u001b[1;33m)\u001b[0m\u001b[1;33m\u001b[0m\u001b[0m\n",
        "\u001b[1;32m/home/chenani/Downloads/pprocess-0.5/pprocess.pyc\u001b[0m in \u001b[0;36mready\u001b[1;34m(self, timeout)\u001b[0m\n\u001b[0;32m    304\u001b[0m         \"\"\"\n\u001b[0;32m    305\u001b[0m \u001b[1;33m\u001b[0m\u001b[0m\n\u001b[1;32m--> 306\u001b[1;33m         \u001b[0mfds\u001b[0m \u001b[1;33m=\u001b[0m \u001b[0mself\u001b[0m\u001b[1;33m.\u001b[0m\u001b[0mpoller\u001b[0m\u001b[1;33m.\u001b[0m\u001b[0mpoll\u001b[0m\u001b[1;33m(\u001b[0m\u001b[0mtimeout\u001b[0m\u001b[1;33m)\u001b[0m\u001b[1;33m\u001b[0m\u001b[0m\n\u001b[0m\u001b[0;32m    307\u001b[0m         \u001b[0mreadables\u001b[0m \u001b[1;33m=\u001b[0m \u001b[1;33m[\u001b[0m\u001b[1;33m]\u001b[0m\u001b[1;33m\u001b[0m\u001b[0m\n\u001b[0;32m    308\u001b[0m         \u001b[0mself\u001b[0m\u001b[1;33m.\u001b[0m\u001b[0mremoved\u001b[0m \u001b[1;33m=\u001b[0m \u001b[1;33m[\u001b[0m\u001b[1;33m]\u001b[0m\u001b[1;33m\u001b[0m\u001b[0m\n",
        "\u001b[1;31mKeyboardInterrupt\u001b[0m: "
       ]
      }
     ],
     "prompt_number": 58
    },
    {
     "cell_type": "code",
     "collapsed": false,
     "input": [
      "cd /home/chenani/atlas-data/probs/"
     ],
     "language": "python",
     "metadata": {},
     "outputs": [
      {
       "output_type": "stream",
       "stream": "stdout",
       "text": [
        "[Errno 2] No such file or directory: '/home/chenani/atlas-data/probs/'\n",
        "/home/chenani/ATLAS-clone/workspace/scripts\n"
       ]
      }
     ],
     "prompt_number": 4
    },
    {
     "cell_type": "code",
     "collapsed": false,
     "input": [
      "sqStack = []\n",
      "weightStack = []\n",
      "for item in locate(\"*.prob\"):\n",
      "    AAA = pkl.load(open(os.path.join(item[0],item[1]),\"rb\"))\n",
      "    for ii in range(len(AAA[0])):\n",
      "        for jj in range(len(A[0][ii])):\n",
      "            sqStack.append(AAA[0][ii][jj])\n",
      "            weightStack.append(AAA[1][ii][jj])"
     ],
     "language": "python",
     "metadata": {},
     "outputs": []
    },
    {
     "cell_type": "code",
     "collapsed": false,
     "input": [
      "sqStack[10],weightStack[10]"
     ],
     "language": "python",
     "metadata": {},
     "outputs": [
      {
       "metadata": {},
       "output_type": "pyout",
       "prompt_number": 37,
       "text": [
        "(array([[  2.,  20.,  21.],\n",
        "       [  2.,  21.,  20.],\n",
        "       [ 20.,   2.,  21.],\n",
        "       [ 20.,  21.,   2.],\n",
        "       [ 21.,   2.,  20.],\n",
        "       [ 21.,  20.,   2.]]),\n",
        " array([480, 210, 570, 390, 330, 540]))"
       ]
      }
     ],
     "prompt_number": 37
    },
    {
     "cell_type": "code",
     "collapsed": false,
     "input": [
      "sample"
     ],
     "language": "python",
     "metadata": {},
     "outputs": [
      {
       "metadata": {},
       "output_type": "pyout",
       "prompt_number": 10,
       "text": [
        "array([4, 4, 4, 4, 4, 8, 4, 5, 5, 5])"
       ]
      }
     ],
     "prompt_number": 10
    },
    {
     "cell_type": "code",
     "collapsed": false,
     "input": [
      "plSeqz"
     ],
     "language": "python",
     "metadata": {},
     "outputs": [
      {
       "metadata": {},
       "output_type": "pyout",
       "prompt_number": 33,
       "text": [
        "[array([ 7, 12, 12,  9, 12, 11,  0]),\n",
        " array([ 7, 13,  1,  1,  1]),\n",
        " array([13,  8,  8,  1]),\n",
        " array([ 8, 13,  1,  1,  9, 12]),\n",
        " array([0, 7, 7, 8]),\n",
        " array([ 7,  8,  1,  1,  1, 12, 12,  0,  0, 13, 13]),\n",
        " array([13,  7,  0]),\n",
        " array([9, 9, 1, 6, 1]),\n",
        " array([13,  7, 12]),\n",
        " array([ 9,  9,  9,  8,  7,  7,  6,  6,  6,  7, 10, 10,  1]),\n",
        " array([ 7, 12,  0,  7]),\n",
        " array([13, 17, 12, 12, 12, 12, 17, 17, 11,  7]),\n",
        " array([12,  1,  1, 12, 13, 13,  7, 13,  8,  9, 12, 12,  8, 13]),\n",
        " array([1, 1, 1, 6, 7, 7, 7]),\n",
        " array([ 0,  9,  9,  9, 12, 12,  7,  7]),\n",
        " array([ 8, 12,  7,  7]),\n",
        " array([13,  0,  8]),\n",
        " array([12, 12,  1,  0, 12, 13, 11, 17, 17, 11,  0]),\n",
        " array([ 9, 13, 12,  7,  7,  0, 13, 13]),\n",
        " array([ 0,  0,  0,  1, 10, 10,  9,  9]),\n",
        " array([ 7,  7,  7, 13, 13, 13, 12, 12]),\n",
        " array([ 6,  9,  9,  7, 10,  1,  1,  1, 10,  7]),\n",
        " array([13,  7, 12,  0]),\n",
        " array([12,  0, 13]),\n",
        " array([12,  0, 12, 12, 12,  0,  7,  7,  7]),\n",
        " array([12,  1, 12, 12, 12,  0,  0,  7,  7,  7,  7, 12,  6,  6,  6]),\n",
        " array([1, 1, 1, 7, 7, 8, 7, 7]),\n",
        " array([13,  9,  9,  9,  9,  1,  1, 13, 10,  7,  7, 13]),\n",
        " array([1, 8, 7, 7]),\n",
        " array([ 7, 12, 17, 13, 17, 11, 11, 11, 12, 17, 12]),\n",
        " array([ 1,  0,  0,  0, 17, 17, 13, 13, 17, 11, 11, 12, 12, 12]),\n",
        " array([ 1, 10, 10,  7,  7,  6,  6,  6]),\n",
        " array([13,  7, 12, 13]),\n",
        " array([ 0, 17, 12, 13]),\n",
        " array([ 8, 12,  1,  7,  1,  8]),\n",
        " array([0, 6, 1, 1, 9, 1, 8]),\n",
        " array([12,  9,  9,  7,  7,  7]),\n",
        " array([ 0,  0,  0, 12, 12,  7, 12]),\n",
        " array([ 0, 11,  7]),\n",
        " array([ 8,  0, 12,  1, 12]),\n",
        " array([ 1, 12, 17, 12,  1,  1,  1,  1,  8,  8, 13,  7,  0,  0,  0,  0,  0,\n",
        "        0,  0,  0, 10, 10]),\n",
        " array([8, 9, 7, 7, 1]),\n",
        " array([0, 1, 7, 7]),\n",
        " array([11,  0,  0,  0,  0, 13, 13, 11,  8,  8,  7]),\n",
        " array([8, 9, 9, 7, 7, 7, 1, 6]),\n",
        " array([ 7, 10,  0, 12]),\n",
        " array([17, 17, 12, 17,  0, 12, 12,  7,  7,  7]),\n",
        " array([13, 13, 13,  0,  0,  0, 11]),\n",
        " array([ 0, 17,  8,  0, 13, 12,  7,  1,  8,  0, 12,  0, 12]),\n",
        " array([12, 12,  7, 17, 17, 17, 11, 17]),\n",
        " array([ 6, 10,  6,  7,  7,  7,  7,  7,  1,  1, 12,  0]),\n",
        " array([ 1, 11, 12,  0,  0,  0]),\n",
        " array([6, 6, 1, 9, 6]),\n",
        " array([7, 8, 8, 8, 8, 8, 7, 1, 1, 1]),\n",
        " array([ 6,  1,  6,  7, 13]),\n",
        " array([ 8,  1,  9, 13,  8,  0,  9,  9,  7]),\n",
        " array([ 8, 13, 13, 13,  0,  0,  0, 13, 13,  1, 13]),\n",
        " array([1, 6, 9, 9, 1, 6]),\n",
        " array([ 0,  0,  0, 12, 12, 12, 12, 12,  8,  1, 17, 17,  7,  7,  7,  1,  1,\n",
        "        1,  1, 11,  8,  8]),\n",
        " array([17, 17, 12, 12, 12, 12, 12, 12,  0,  0]),\n",
        " array([12, 13,  1,  8,  8,  7,  7,  8]),\n",
        " array([13,  0, 12, 12, 13, 17,  1,  1, 13,  8,  0]),\n",
        " array([ 8,  8, 13,  0]),\n",
        " array([13, 13, 12,  7,  7]),\n",
        " array([ 1, 10,  7,  7,  6,  7, 12]),\n",
        " array([12, 12,  0, 11,  7,  7, 12]),\n",
        " array([9, 9, 7, 8, 7, 1, 8]),\n",
        " array([11, 13, 13, 12, 13, 11,  8]),\n",
        " array([13,  8, 11,  0]),\n",
        " array([13,  7,  7, 11, 13, 13,  0, 12, 12, 12, 13]),\n",
        " array([10, 13,  8,  0,  1,  6,  9,  9,  9,  1,  9]),\n",
        " array([17,  0,  0,  7, 12,  9, 12,  1,  1,  1,  0,  0, 11]),\n",
        " array([ 7,  7, 12,  7,  7,  7,  9,  6,  9]),\n",
        " array([ 8, 12, 12, 13, 13, 13,  8,  8,  8, 12, 12, 13,  0, 13,  7,  1,  1,\n",
        "        1]),\n",
        " array([17, 12, 12,  0,  7,  7, 12,  8,  8,  1,  8]),\n",
        " array([ 7,  7,  6,  6,  6,  6,  6,  6,  7, 13,  9, 12, 10,  1,  1,  1,  9,\n",
        "        9,  9,  9,  9]),\n",
        " array([13, 13,  7,  6,  7,  7,  7,  7,  7, 13,  9,  9,  9,  8, 10, 12, 12,\n",
        "        0,  1,  8,  8,  1,  1,  1,  1]),\n",
        " array([12, 12, 17,  8,  1, 13, 13, 13, 13,  7,  7,  7, 13]),\n",
        " array([12, 12, 17, 11, 13, 13,  0,  7,  0]),\n",
        " array([17, 11, 11, 13, 13, 13, 13,  7, 12, 12, 12,  0,  0,  0]),\n",
        " array([8, 1, 1, 1, 6, 6, 0, 9, 9, 7, 7, 7]),\n",
        " array([12,  8,  8,  8, 13, 13, 13, 13,  1]),\n",
        " array([13,  8,  8,  7,  7,  7,  8]),\n",
        " array([ 6, 10, 10,  9,  1,  1]),\n",
        " array([11,  7,  7,  9,  9,  0,  1, 13,  1, 12, 13]),\n",
        " array([12, 12, 12, 12,  0,  0,  9,  0]),\n",
        " array([10,  1, 11, 12, 11, 12, 13, 11,  1,  6,  9,  9,  9,  9,  1,  6, 13,\n",
        "        1,  8,  8,  9,  8,  8, 12,  7,  7,  0,  0,  7]),\n",
        " array([ 7,  7,  7,  6,  0, 10, 10, 10,  9]),\n",
        " array([13, 11, 11, 11, 13, 12,  0, 13,  8]),\n",
        " array([13, 12, 12, 12,  7, 13,  8, 11, 17, 17, 17]),\n",
        " array([13, 13,  1,  1, 13, 12, 12, 12, 12,  8,  8,  0]),\n",
        " array([ 8, 11, 13, 13, 13, 13]),\n",
        " array([ 7, 13,  7, 13, 11, 13,  8]),\n",
        " array([ 1, 17, 12, 12, 12, 12]),\n",
        " array([13, 13, 13, 11,  1]),\n",
        " array([ 8,  0, 11,  7,  7]),\n",
        " array([ 0,  8,  8,  8,  8, 13, 11]),\n",
        " array([13,  7,  7,  7,  0]),\n",
        " array([12, 12,  0, 12, 11, 17, 11,  7,  7,  8, 17, 17, 13, 13, 13]),\n",
        " array([ 7, 12, 11, 13,  7,  8]),\n",
        " array([ 7,  8,  1,  1, 13, 11, 11, 11, 13,  0,  0, 17, 13, 13,  9, 12, 12]),\n",
        " array([6, 9, 1, 1]),\n",
        " array([13,  0,  7,  0,  0,  7,  7, 12, 12, 12, 12, 12, 12,  1,  1,  1,  0,\n",
        "        1,  7, 10, 10, 10, 17, 17,  8,  8,  9,  9,  9,  7,  7,  9]),\n",
        " array([ 1,  1,  1,  8,  8,  8,  7,  0,  0, 12]),\n",
        " array([ 9,  9,  8, 10, 10, 10, 12,  7, 10,  6,  9,  1,  9]),\n",
        " array([13, 13, 13,  7,  7, 12,  7]),\n",
        " array([ 0,  1,  7,  7, 11,  0]),\n",
        " array([ 0, 13, 13,  0,  0, 11, 12,  7,  7,  7, 12, 12]),\n",
        " array([8, 1, 9, 1, 1, 1, 1, 7, 7]),\n",
        " array([12,  7,  7,  7,  7,  0]),\n",
        " array([13,  1,  7,  7,  1,  7, 13,  1, 12, 12,  1]),\n",
        " array([7, 7, 7, 8, 9, 9]),\n",
        " array([ 7,  7, 12, 13, 13, 12, 12,  7, 12, 12]),\n",
        " array([ 0,  0,  0,  0,  8,  9,  9, 12, 12, 12]),\n",
        " array([17, 11, 17, 11,  7,  8,  7, 17, 17,  0, 12,  0]),\n",
        " array([ 8,  8,  6,  7,  7,  7,  7,  0,  0,  1, 17,  1, 10, 11, 11, 12,  0,\n",
        "        9,  6,  9, 12]),\n",
        " array([13, 13, 13, 12,  8,  7,  7,  7,  7, 13,  7,  7]),\n",
        " array([13, 12,  1,  7,  8,  8,  8,  8,  7,  9,  1,  1,  1, 13,  1, 12,  7,\n",
        "       11,  0,  0, 11,  7]),\n",
        " array([13,  8,  0,  7]),\n",
        " array([9, 8, 0]),\n",
        " array([ 1,  7,  7,  0,  1,  1, 10, 10,  6,  6, 12]),\n",
        " array([1, 8, 7]),\n",
        " array([ 0,  8, 12,  7,  0,  7, 12,  1]),\n",
        " array([ 7,  7,  7,  7,  7,  7, 12,  9,  9,  1,  1, 10, 11,  8,  0,  0, 13,\n",
        "       13]),\n",
        " array([ 6, 10,  7,  1,  9, 12,  1,  1,  1, 10]),\n",
        " array([ 7, 13,  1]),\n",
        " array([ 9, 10,  7,  7, 12,  0, 13, 17]),\n",
        " array([1, 7, 7, 7, 8, 8]),\n",
        " array([ 1,  1,  1,  0,  7,  7,  7,  7,  7,  9,  0, 13,  8,  8, 11, 12, 12,\n",
        "       13,  0, 17, 13, 13]),\n",
        " array([ 7,  7,  7,  7,  7, 12, 12, 11, 17, 11, 13, 13, 13,  8, 11, 17, 17]),\n",
        " array([12,  6,  6,  1,  7,  7,  9,  9,  8]),\n",
        " array([7, 0, 1, 1, 1, 1]),\n",
        " array([ 1, 12, 12, 11,  8, 13, 13, 13, 13, 12,  7,  7]),\n",
        " array([13,  7,  1,  1,  1, 11,  7,  0,  0,  0,  9]),\n",
        " array([ 1, 12, 12, 12,  7, 17, 17,  0,  8, 11,  0,  0,  7, 13, 13, 13]),\n",
        " array([11,  1, 13, 11, 13,  9, 13, 11,  7,  7,  7, 11]),\n",
        " array([13,  8,  7,  7,  6,  9,  9,  9,  0,  1, 10, 10]),\n",
        " array([ 0,  8, 13, 13]),\n",
        " array([ 7,  7,  7,  7, 13, 13, 13, 11]),\n",
        " array([ 6,  0,  7,  7,  7,  7, 13,  9, 10, 12,  9, 12]),\n",
        " array([13,  0,  0,  0, 13, 13, 13, 17, 17, 13,  7,  7,  9,  9, 12, 12]),\n",
        " array([ 8,  7, 12, 12, 12, 12, 12, 12,  8,  8,  0,  1,  7, 17, 17, 17, 17,\n",
        "       17, 11, 11,  8,  7]),\n",
        " array([12,  7,  1, 13, 13, 12, 11])]"
       ]
      }
     ],
     "prompt_number": 33
    },
    {
     "cell_type": "code",
     "collapsed": false,
     "input": [
      "all_permutations([[1,2,3]])"
     ],
     "language": "python",
     "metadata": {},
     "outputs": [
      {
       "metadata": {},
       "output_type": "pyout",
       "prompt_number": 79,
       "text": [
        "([array([[ 1.,  2.,  3.],\n",
        "         [ 1.,  3.,  2.],\n",
        "         [ 2.,  1.,  3.],\n",
        "         [ 2.,  3.,  1.],\n",
        "         [ 3.,  1.,  2.],\n",
        "         [ 3.,  2.,  1.]])],\n",
        " [array([ 0.16666667,  0.16666667,  0.16666667,  0.16666667,  0.16666667,\n",
        "          0.16666667])])"
       ]
      }
     ],
     "prompt_number": 79
    },
    {
     "cell_type": "code",
     "collapsed": false,
     "input": [
      "number_of_permutations([1,1,2])"
     ],
     "language": "python",
     "metadata": {},
     "outputs": [
      {
       "metadata": {},
       "output_type": "pyout",
       "prompt_number": 81,
       "text": [
        "3"
       ]
      }
     ],
     "prompt_number": 81
    },
    {
     "cell_type": "code",
     "collapsed": false,
     "input": [
      "plSeqz[1].size"
     ],
     "language": "python",
     "metadata": {},
     "outputs": [
      {
       "metadata": {},
       "output_type": "pyout",
       "prompt_number": 84,
       "text": [
        "2"
       ]
      }
     ],
     "prompt_number": 84
    },
    {
     "cell_type": "code",
     "collapsed": false,
     "input": [],
     "language": "python",
     "metadata": {},
     "outputs": []
    }
   ],
   "metadata": {}
  }
 ]
}