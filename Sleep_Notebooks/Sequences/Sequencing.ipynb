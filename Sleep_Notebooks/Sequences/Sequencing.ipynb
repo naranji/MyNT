{
 "metadata": {
  "name": ""
 },
 "nbformat": 3,
 "nbformat_minor": 0,
 "worksheets": [
  {
   "cells": [
    {
     "cell_type": "code",
     "collapsed": false,
     "input": [
      "%matplotlib\n",
      "%load_ext autoreload\n",
      "%autoreload 2\n",
      "import scipy.signal as scsig\n",
      "import numpy as np\n",
      "from NeuroTools import stgen"
     ],
     "language": "python",
     "metadata": {},
     "outputs": [
      {
       "output_type": "stream",
       "stream": "stdout",
       "text": [
        "Using matplotlib backend: Qt4Agg\n"
       ]
      },
      {
       "output_type": "stream",
       "stream": "stderr",
       "text": [
        "/home/chenani/anaconda/lib/python2.7/site-packages/matplotlib/__init__.py:1155: UserWarning:  This call to matplotlib.use() has no effect\n",
        "because the backend has already been chosen;\n",
        "matplotlib.use() must be called *before* pylab, matplotlib.pyplot,\n",
        "or matplotlib.backends is imported for the first time.\n",
        "\n",
        "  warnings.warn(_use_error_msg)\n"
       ]
      }
     ],
     "prompt_number": 1
    },
    {
     "cell_type": "code",
     "collapsed": false,
     "input": [
      "cd /home/chenani/ATLAS-clone/workspace/Sleep/src/"
     ],
     "language": "python",
     "metadata": {},
     "outputs": [
      {
       "output_type": "stream",
       "stream": "stdout",
       "text": [
        "/home/chenani/ATLAS-clone/workspace/Sleep/src\n"
       ]
      }
     ],
     "prompt_number": 2
    },
    {
     "cell_type": "code",
     "collapsed": false,
     "input": [
      "folderName = '/home/chenani/DATA-clone/MECLesion/Rat616Control/2013-06-02_07-42-38/sleep2/sleep2.ephys'"
     ],
     "language": "python",
     "metadata": {},
     "outputs": [],
     "prompt_number": 3
    },
    {
     "cell_type": "code",
     "collapsed": false,
     "input": [
      "%run ephys_loader.py  /home/chenani/DATA-clone/MECLesion/Rat616Control/2013-06-02_07-42-38/sleep2/sleep2.ephys"
     ],
     "language": "python",
     "metadata": {},
     "outputs": [],
     "prompt_number": 4
    },
    {
     "cell_type": "code",
     "collapsed": false,
     "input": [
      "for csc in rec.LFPs:\n",
      "    csc.filter(140,250)\n",
      "    csc.ripple_recorder()"
     ],
     "language": "python",
     "metadata": {},
     "outputs": [
      {
       "output_type": "stream",
       "stream": "stdout",
       "text": [
        "Hilbert transform is not calculated!\n",
        " Calculating Hilbert transform of the signal...\n",
        "SWS and REM signals are not trimmed yet!\n",
        " Trimming SWS/REM signals..."
       ]
      },
      {
       "output_type": "stream",
       "stream": "stdout",
       "text": [
        "\n",
        "SWS/REM episodes are not detected yet!\n",
        " Detecting using REM_Detector function with default thershold value... \n",
        "theta/delta ratio is not calculated yet.\n",
        " Calculating th/del ratio...\n",
        "Ripple detection on"
       ]
      },
      {
       "output_type": "stream",
       "stream": "stdout",
       "text": [
        " CSC1.ncs  is DONE!!!\n",
        "         Now you should see the attribute ripples with [t_start, t_end,peak value, t_peak] in each row for detected SWRs.\n",
        "Hilbert transform is not calculated!\n",
        " Calculating Hilbert transform of the signal..."
       ]
      },
      {
       "output_type": "stream",
       "stream": "stdout",
       "text": [
        "\n",
        "SWS and REM signals are not trimmed yet!\n",
        " Trimming SWS/REM signals..."
       ]
      },
      {
       "output_type": "stream",
       "stream": "stdout",
       "text": [
        "\n",
        "SWS/REM episodes are not detected yet!\n",
        " Detecting using REM_Detector function with default thershold value... \n",
        "theta/delta ratio is not calculated yet.\n",
        " Calculating th/del ratio...\n",
        "Ripple detection on"
       ]
      },
      {
       "output_type": "stream",
       "stream": "stdout",
       "text": [
        " CSC2.ncs  is DONE!!!\n",
        "         Now you should see the attribute ripples with [t_start, t_end,peak value, t_peak] in each row for detected SWRs.\n",
        "Hilbert transform is not calculated!\n",
        " Calculating Hilbert transform of the signal..."
       ]
      },
      {
       "output_type": "stream",
       "stream": "stdout",
       "text": [
        "\n",
        "SWS and REM signals are not trimmed yet!\n",
        " Trimming SWS/REM signals..."
       ]
      },
      {
       "output_type": "stream",
       "stream": "stdout",
       "text": [
        "\n",
        "SWS/REM episodes are not detected yet!\n",
        " Detecting using REM_Detector function with default thershold value... \n",
        "theta/delta ratio is not calculated yet.\n",
        " Calculating th/del ratio...\n",
        "Ripple detection on"
       ]
      },
      {
       "output_type": "stream",
       "stream": "stdout",
       "text": [
        " CSC7.ncs  is DONE!!!\n",
        "         Now you should see the attribute ripples with [t_start, t_end,peak value, t_peak] in each row for detected SWRs.\n"
       ]
      }
     ],
     "prompt_number": 5
    },
    {
     "cell_type": "code",
     "collapsed": false,
     "input": [
      "rec.save(folderName)"
     ],
     "language": "python",
     "metadata": {},
     "outputs": [
      {
       "output_type": "stream",
       "stream": "stdout",
       "text": [
        "data has been saved to /home/chenani/DATA-clone/MECLesion/Rat616Control/2013-06-02_07-42-38/sleep2/sleep2.ephys.ephys\n"
       ]
      }
     ],
     "prompt_number": 6
    },
    {
     "cell_type": "code",
     "collapsed": false,
     "input": [
      "rec.spikes.burstDetector()\n",
      "rec.spikes.MuaDetector()"
     ],
     "language": "python",
     "metadata": {},
     "outputs": [],
     "prompt_number": 8
    },
    {
     "cell_type": "code",
     "collapsed": false,
     "input": [
      "for i in range(len(rec.LFPs)):\n",
      "     rec.coincidence(i)\n",
      "     rec.MUA()\n",
      "     rec.sequencing()\n",
      "     txt_name = folderName.split('/')[-2] + '_'+ rec.LFPs[i].tags['file']\n",
      "     writer_1st = open(txt_name + \"_1st.txt\",'a')\n",
      "     writer_median = open(txt_name + \"_median.txt\",'a')\n",
      "     tags = rec.spikes.tags\n",
      "     writer_1st.write(\"Unit dictionary for %s \\n\"%tags[0]['dir'])\n",
      "     writer_median.write(\"Unit dictionary for %s \\n\"%tags[0]['dir'])\n",
      "     for item in tags:\n",
      "         writer_1st.write(\" Unit %s ==> %s \\n\"%(item,tags[item]['file']))\n",
      "         writer_median.write(\" Unit %s ==> %s \\n\"%(item,tags[item]['file']))\n",
      " \n",
      "     for item in rec.sequence_1st_spike:\n",
      "         writer_1st.write(\"%s \\n\"%item[:,0])\n",
      "     for item in rec.sequence_median:\n",
      "         writer_median.write(\"%s \\n\"%item[:,0])\n",
      "     writer_1st.close()\n",
      "     writer_median.close()"
     ],
     "language": "python",
     "metadata": {},
     "outputs": [
      {
       "output_type": "stream",
       "stream": "stdout",
       "text": [
        "Ripple detection on CSC1.ncs  is DONE!!!\n",
        "         Now you should see the attribute ripples with [t_start, t_end,peak value, t_peak] in each row for detected SWRs.\n",
        "The result is accessible at overlap attr with the format: [cell#,spike#,ripple#]"
       ]
      },
      {
       "output_type": "stream",
       "stream": "stdout",
       "text": [
        "\n",
        "Ripple detection on"
       ]
      },
      {
       "output_type": "stream",
       "stream": "stdout",
       "text": [
        " CSC2.ncs  is DONE!!!\n",
        "         Now you should see the attribute ripples with [t_start, t_end,peak value, t_peak] in each row for detected SWRs.\n",
        "The result is accessible at overlap attr with the format: [cell#,spike#,ripple#]"
       ]
      },
      {
       "output_type": "stream",
       "stream": "stdout",
       "text": [
        "\n",
        "Ripple detection on"
       ]
      },
      {
       "output_type": "stream",
       "stream": "stdout",
       "text": [
        " CSC7.ncs  is DONE!!!\n",
        "         Now you should see the attribute ripples with [t_start, t_end,peak value, t_peak] in each row for detected SWRs.\n",
        "The result is accessible at overlap attr with the format: [cell#,spike#,ripple#]"
       ]
      },
      {
       "output_type": "stream",
       "stream": "stdout",
       "text": [
        "\n"
       ]
      }
     ],
     "prompt_number": 8
    },
    {
     "cell_type": "code",
     "collapsed": false,
     "input": [
      "rateList = []\n",
      "for item in rec.spikes:\n",
      "    rateList.append(item.mean_rate())\n",
      "rateList = np.array(rateList)"
     ],
     "language": "python",
     "metadata": {},
     "outputs": [],
     "prompt_number": 9
    },
    {
     "cell_type": "code",
     "collapsed": false,
     "input": [
      "stgen = stgen.StGen() #initiate surogate spiketrain generator!"
     ],
     "language": "python",
     "metadata": {},
     "outputs": [],
     "prompt_number": 10
    },
    {
     "cell_type": "code",
     "collapsed": false,
     "input": [
      "spklst = signale.spikezugList(t_start=None, t_stop=None, dims=[2])\n",
      "for ID in range(rateList.size):\n",
      "    zell = stgen.poisson_generator(rate=rateList[ID] ,t_start=rec.spikes.t_start,t_stop=rec.spikes.t_stop)\n",
      "    zell = signale.spikezug(zell.spike_times)\n",
      "    spklst.__setitem__(ID, zell)"
     ],
     "language": "python",
     "metadata": {},
     "outputs": [],
     "prompt_number": 11
    },
    {
     "cell_type": "code",
     "collapsed": false,
     "input": [
      "rateListS = []\n",
      "for item in spklst:\n",
      "    rateListS.append(item.mean_rate())\n",
      "rateListS = np.array(rateList)"
     ],
     "language": "python",
     "metadata": {},
     "outputs": [],
     "prompt_number": 12
    },
    {
     "cell_type": "code",
     "collapsed": false,
     "input": [
      "rateList - rateListS"
     ],
     "language": "python",
     "metadata": {},
     "outputs": [
      {
       "metadata": {},
       "output_type": "pyout",
       "prompt_number": 13,
       "text": [
        "array([ 0.,  0.,  0.,  0.,  0.,  0.,  0.,  0.,  0.,  0.,  0.,  0.,  0.,\n",
        "        0.,  0.,  0.,  0.,  0.,  0.,  0.,  0.,  0.,  0.])"
       ]
      }
     ],
     "prompt_number": 13
    },
    {
     "cell_type": "code",
     "collapsed": false,
     "input": [
      "spklst.timeAxis = csc.timeAxis.copy()\n",
      "spklst.convolveSpikes()"
     ],
     "language": "python",
     "metadata": {},
     "outputs": [],
     "prompt_number": 14
    },
    {
     "cell_type": "code",
     "collapsed": false,
     "input": [
      "spklst.sumConvolvedSpikeTrains()\n",
      "spklst.burstDetector()"
     ],
     "language": "python",
     "metadata": {},
     "outputs": [],
     "prompt_number": 15
    },
    {
     "cell_type": "code",
     "collapsed": false,
     "input": [
      "spklst.MuaDetector()\n"
     ],
     "language": "python",
     "metadata": {},
     "outputs": [],
     "prompt_number": 16
    },
    {
     "cell_type": "code",
     "collapsed": false,
     "input": [
      "rec.spikes.overview()"
     ],
     "language": "python",
     "metadata": {},
     "outputs": [],
     "prompt_number": "*"
    },
    {
     "cell_type": "code",
     "collapsed": false,
     "input": [
      "for i in range(675):\n",
      "    if rec.sequence_1st_spike[i].size > 20:\n",
      "        print rec.sequence_1st_spike[i][:,0]"
     ],
     "language": "python",
     "metadata": {},
     "outputs": [
      {
       "output_type": "stream",
       "stream": "stdout",
       "text": [
        "[ 12.  13.   2.  14.  15.   5.   4.]\n",
        "[  5.   2.   3.  21.  13.]\n",
        "[  2.  14.   3.   5.  21.]\n",
        "[ 21.  22.   2.   0.  19.   5.]\n",
        "[  2.   5.  13.   0.  20.]\n",
        "[  5.  14.   2.   4.   3.]\n",
        "[  2.   5.   7.   3.  22.  15.  10.]\n",
        "[  2.  22.  17.  13.   4.  14.  19.]\n",
        "[  2.   5.  21.  14.  13.]\n",
        "[ 14.   4.   2.   3.  13.   5.  19.]\n",
        "[ 14.  19.   2.  13.  17.   4.   7.  12.  15.]\n",
        "[  2.  14.  12.  15.   5.  13.]\n",
        "[ 14.   2.  18.   5.   4.]\n",
        "[  5.   2.   8.  13.  15.]\n",
        "[  2.  11.   5.  13.  14.]\n",
        "[  5.   2.  13.   7.   4.   9.   1.  17.]\n",
        "[  2.   5.  13.   3.  22.  14.  17.  10.]\n",
        "[  2.  13.  14.  18.  12.  10.]\n",
        "[  2.  14.   8.  22.   5.]\n",
        "[  4.  13.  17.   2.   5.   7.  12.  14.]\n",
        "[ 19.   2.   4.   6.   7.]\n",
        "[ 18.   2.  12.  15.   3.  13.   7.   5.]\n",
        "[  5.   2.  13.  20.   3.  17.  14.]\n",
        "[  2.   3.  10.  14.   4.  12.  15.  18.   5.]\n",
        "[  5.   2.  15.  12.   4.  17.  19.  13.]\n",
        "[  2.  11.   4.  13.   5.]\n",
        "[  2.  16.  11.   5.  13.]\n",
        "[  2.  14.  15.  12.   5.   3.  22.   7.  13.]\n",
        "[  2.  12.  15.   5.   3.  13.  21.  19.]\n",
        "[ 12.   2.  18.   7.   3.   4.   9.   5.  19.  13.]\n",
        "[ 18.   2.  14.  15.   5.]\n",
        "[  2.   3.  22.  14.   5.  13.   4.  17.]\n",
        "[ 11.   2.  13.   5.  17.  20.  22.   4.  10.  15.]\n",
        "[ 14.  13.   5.   2.   4.  17.   7.   3.  12.  15.]\n",
        "[  2.  17.   7.  16.  13.]\n",
        "[  3.  12.  15.   2.   5.  13.  14.]\n",
        "[  2.   5.  19.  14.   3.  21.]\n",
        "[  2.   5.   3.  12.  15.  22.  13.   4.   6.]\n",
        "[  2.  12.   5.  15.  14.]\n",
        "[  2.   9.  22.   3.  14.]\n",
        "[  4.   2.  12.  15.  13.   7.]\n",
        "[  2.  14.   5.   7.   4.  15.   9.  13.]\n",
        "[  2.  17.  10.  14.  18.   5.  12.  15.]\n",
        "[  5.   2.  22.  14.  17.  15.]\n",
        "[  2.  13.  18.   3.  12.  22.  14.   4.   5.  10.]\n",
        "[  2.   5.  22.  18.  12.  15.   3.]\n",
        "[  7.   4.  15.   9.   6.  13.   2.]\n",
        "[  2.   8.  14.  13.   5.  22.  12.  16.]\n",
        "[ 22.   2.  10.  18.  15.  12.   3.  14.]\n",
        "[  2.   3.  12.   5.  13.]\n",
        "[  2.  22.  14.   3.  13.  15.   5.   7.  12.   6.]\n",
        "[  5.  14.   2.  13.  22.]\n",
        "[ 13.   4.   2.   7.  22.]\n",
        "[ 17.   2.  13.   5.   4.  12.  15.  19.]\n",
        "[ 19.   4.   2.   3.  17.   6.   7.]\n",
        "[  5.  19.  13.   2.  12.  21.  14.  17.]\n",
        "[ 16.   2.  14.   8.   5.]\n",
        "[ 16.   3.  15.   2.   5.  14.  11.]\n",
        "[  2.   4.  17.   7.  13.  12.  15.]\n",
        "[ 21.  22.  12.  15.   3.  13.   2.]\n",
        "[  2.  13.   6.  15.   3.  22.]\n",
        "[  2.  10.   3.  12.   4.   5.  14.   9.  18.  17.  13.  21.]\n",
        "[  2.   5.  13.  17.   4.   7.]\n",
        "[  2.   5.   3.  19.  13.   4.]\n",
        "[  2.   5.  17.  13.   3.  10.  14.]\n",
        "[  0.   2.   5.   9.  14.  17.  13.   1.]\n",
        "[ 13.   2.  16.  14.   5.]\n",
        "[  5.   3.   2.  12.   9.  13.]\n",
        "[  2.   9.   5.  17.   3.]\n",
        "[  3.   2.   5.  13.  22.  10.]\n",
        "[ 22.   2.  21.  13.   7.]\n",
        "[ 12.  14.   4.   2.  15.]\n",
        "[  2.  22.  14.   3.  10.]\n",
        "[  3.   2.  14.  20.  10.   7.]\n",
        "[  4.   3.  15.  13.   2.  14.   5.]\n",
        "[  2.   4.   9.  13.   7.]\n",
        "[  2.  10.  13.  18.  12.   3.  22.  15.   5.   4.  14.  17.]\n",
        "[ 14.   4.  20.   2.  12.  15.]\n",
        "[  2.  20.  12.  15.   5.]\n",
        "[  2.  13.  15.  19.   3.]\n",
        "[ 17.   2.  12.  13.   3.]\n",
        "[  2.   3.  17.  11.   5.]\n",
        "[ 13.   2.  10.  18.  12.  15.]\n",
        "[  2.   5.   3.  22.  12.  15.  13.   9.   6.   4.]\n",
        "[  2.  21.  22.   9.  14.  12.  13.  11.   5.   3.   7.]\n",
        "[  2.   5.  12.  15.   3.   4.  10.]\n",
        "[ 9.  5.  2.  6.  4.  7.]\n",
        "[ 13.   2.  14.   4.   5.]\n",
        "[  5.   2.  13.   6.  14.   4.]\n",
        "[  0.  13.   2.  14.   4.  17.   5.   7.  15.  21.  22.   3.]\n",
        "[ 20.   0.   2.  13.   3.]\n",
        "[ 13.  14.   3.  17.   7.   2.   4.  20.   5.]\n",
        "[  5.  19.   2.  13.  17.]\n",
        "[  5.   2.  13.   9.  21.   7.   6.   4.]\n",
        "[ 13.   2.   5.  12.  15.  22.  10.   4.  19.   3.  17.  18.]\n",
        "[ 13.   5.   2.  12.  15.]\n",
        "[  2.   4.   5.  22.  12.  15.  18.   3.]\n",
        "[ 19.  13.   5.  17.   2.   4.  12.  15.  21.  14.]\n",
        "[  2.   5.  22.  13.  21.]\n",
        "[  2.   5.  17.  15.  13.]\n",
        "[ 13.   2.   3.  18.  12.  15.   4.  17.  14.   5.]\n",
        "[  5.   2.  15.  12.  14.  13.  20.]\n",
        "[  2.   5.  13.   9.  12.  15.   6.  21.   4.  22.  19.  17.]\n",
        "[ 14.   2.  12.  15.  13.   3.]\n",
        "[  2.  12.  15.   5.  10.  14.  17.]\n",
        "[ 11.   2.   5.  14.  20.]\n",
        "[  2.  10.  17.  14.   0.   5.]\n",
        "[  2.  12.  15.  18.   3.  13.  14.  10.]\n",
        "[ 12.  15.   2.   4.   3.   9.   7.  14.   6.  17.]\n",
        "[  2.  12.  22.   3.  13.  18.  15.   4.   7.  10.]\n",
        "[  4.   9.   7.  13.  21.   2.   5.  12.  15.   6.  17.]\n",
        "[  4.  17.   2.  13.  14.  12.  15.   3.]\n",
        "[ 22.   5.   2.  14.  13.  18.  12.   3.  15.  17.   4.  19.]\n",
        "[ 13.   2.   7.   6.   4.   5.   9.  14.]\n",
        "[  5.   2.   7.  13.  15.  17.   4.   9.   6.  19.  22.]\n",
        "[  2.  13.   4.  17.  12.  14.  15.   3.]\n",
        "[  2.  14.  17.   4.  12.  15.  18.  13.   5.]\n",
        "[ 17.   2.   5.  13.   3.  12.  15.  14.  10.  18.  20.]\n",
        "[  2.  13.  18.   5.   3.  12.  15.  14.  10.  20.]\n",
        "[  2.   3.  13.   7.   6.   5.  17.   4.  19.  12.  15.  14.  22.]\n",
        "[  5.   2.   8.  10.  14.]\n",
        "[  5.   7.   2.   9.   6.   4.  12.  15.  21.  13.]\n",
        "[  2.  22.  15.   4.  12.  13.   7.   3.  20.   1.  14.  10.]\n",
        "[  2.  19.   4.   5.  13.]\n",
        "[  2.  13.  14.  12.  15.   4.  17.  20.   7.  10.   6.  22.   9.   3.   5.]\n",
        "[  2.   7.   5.  15.  13.   9.   6.]\n",
        "[ 13.   3.  12.  18.   2.  17.  15.  14.  10.]\n",
        "[  2.   5.  15.  13.   3.]\n",
        "[  5.   2.  18.  14.  12.  15.  13.  17.  10.]\n",
        "[  2.   5.  17.   4.  19.  12.]\n",
        "[  2.  22.  12.  15.  14.]\n",
        "[  2.  14.  13.  15.  10.  20.]\n",
        "[  2.  12.  15.  22.   5.  18.   4.]\n",
        "[  5.   2.  10.  14.   8.  22.  15.   4.]\n",
        "[  2.  21.  16.  11.  17.  13.  10.  22.   3.]\n",
        "[  2.  17.  14.   3.  11.  10.   5.]\n",
        "[  2.  12.  15.  14.   5.  17.  10.  13.   3.  18.]\n",
        "[ 17.   2.  14.   1.  12.  13.  10.]\n",
        "[  7.  13.  12.  15.   5.   2.   1.  14.   4.]\n",
        "[  5.   4.   2.  15.  14.]\n",
        "[  2.   5.  14.   4.  17.  22.  13.   7.   3.  12.  15.  18.  10.]\n",
        "[  2.   5.  16.   4.   6.   7.]"
       ]
      },
      {
       "output_type": "stream",
       "stream": "stdout",
       "text": [
        "\n",
        "[  2.   0.   4.  13.  19.]\n",
        "[  5.  18.   3.   2.  12.  15.  22.]\n",
        "[ 22.  12.  15.   3.   7.   4.   2.   9.  13.  21.   5.]\n",
        "[  2.   5.   4.  17.   9.  14.  13.   7.]\n",
        "[  2.   5.  17.  13.   4.  12.  15.   3.  19.]\n",
        "[  4.   2.  20.  13.  14.]\n",
        "[ 10.   2.   3.  17.  14.]\n",
        "[  4.   2.   5.   7.  17.   9.  22.  12.  13.   6.]\n",
        "[  5.  13.   2.   4.  10.]\n",
        "[  5.   2.  12.  15.  22.  11.]\n",
        "[  5.   2.  10.  14.  12.  13.   3.  15.]\n",
        "[  2.  22.  13.   7.   1.   4.]\n",
        "[ 12.  15.  14.  13.   2.   4.]\n",
        "[ 22.   7.   2.   9.  15.   6.   4.]\n",
        "[  5.   2.   7.  17.   3.  12.  15.]\n",
        "[  4.   2.  17.  10.   3.  18.   5.  22.  12.  15.  13.  21.]\n",
        "[  2.   5.  19.  17.  10.  13.   3.  12.  18.]\n",
        "[  5.  22.   7.  17.   9.   2.  13.]\n",
        "[  2.   5.   4.  19.  17.  10.  13.   3.  14.   7.  12.  15.]\n",
        "[  2.   4.   5.  19.  22.]\n",
        "[  2.  21.  20.  14.   5.]\n",
        "[  2.   5.  18.  12.  15.  13.  22.   4.   9.   6.   3.]\n",
        "[  2.   5.  19.  17.  13.  22.   4.]\n",
        "[  2.  13.  15.  22.   3.  12.  21.   5.  19.   4.]\n",
        "[  2.   5.   7.  13.  12.  15.   9.   4.  17.   3.  10.]\n",
        "[ 12.  15.  13.   2.  18.   7.   9.   4.  22.   6.]\n",
        "[  2.  12.  15.  18.   5.   9.   3.  13.  22.]\n",
        "[  2.   3.   5.   8.  10.]\n",
        "[ 12.   2.  14.   3.   5.]\n",
        "[  2.   5.  17.   4.  19.  13.  22.]\n",
        "[  2.  13.   5.  20.  22.]\n",
        "[ 21.   2.   5.   0.  20.   1.   3.]\n",
        "[ 14.  13.   3.  18.  12.  15.  22.   2.  10.   7.  21.  17.   4.]\n",
        "[ 12.   2.   6.  20.   5.   1.  13.  19.  17.  10.  15.  18.  14.]\n",
        "[  5.   7.   2.  13.   6.  12.  17.   4.]\n",
        "[  5.  12.  15.   2.   4.  17.  19.   3.  13.]\n",
        "[ 13.  16.   5.   2.  14.   4.  12.  15.  10.  17.]\n",
        "[  2.   5.  13.   4.   3.  20.  10.  22.   7.  14.  17.]\n",
        "[  5.   2.   9.  19.  18.   3.  13.  12.  15.   4.  14.  22.  17.  10.]\n",
        "[ 22.   2.  12.  15.  10.]\n",
        "[  2.   5.  14.  13.   7.  10.   4.]\n",
        "[  2.  22.   3.  12.  15.   5.]\n",
        "[  2.  14.  13.   5.   4.]\n",
        "[  5.   2.  21.  12.  14.]\n",
        "[ 14.  15.  22.  12.   2.   4.]\n",
        "[  5.   2.  14.  17.   7.   3.   4.  13.   9.   6.]\n",
        "[  2.   4.   5.  13.  17.]\n",
        "[  2.   4.  17.   5.  19.]\n",
        "[  2.   7.  22.  17.   4.]\n",
        "[  2.  20.   5.  21.   0.]\n",
        "[ 20.   2.   5.  22.   0.]\n",
        "[  2.  10.   5.  13.  18.  14.]\n",
        "[  2.  20.  13.  14.  15.]\n",
        "[  3.  12.  15.  14.   2.]\n",
        "[  2.  10.   5.  14.   8.]\n",
        "[  2.   5.  22.  13.  12.  15.   7.   3.  21.   9.   6.  14.]\n",
        "[ 22.   2.   4.  13.   7.   5.   3.  18.  12.  15.  14.]\n",
        "[ 18.  12.  15.   2.   5.  22.  17.  10.   4.  13.   3.]\n",
        "[  2.  12.  15.   4.   5.  14.]\n"
       ]
      }
     ],
     "prompt_number": 105
    },
    {
     "cell_type": "code",
     "collapsed": false,
     "input": [
      "rec.ripp_sq_plot(406)"
     ],
     "language": "python",
     "metadata": {},
     "outputs": [
      {
       "metadata": {},
       "output_type": "pyout",
       "prompt_number": 101,
       "text": [
        "(<matplotlib.figure.Figure at 0x7fb74240fa10>,\n",
        " <matplotlib.axes.AxesSubplot at 0x7fb7424105d0>,\n",
        " <matplotlib.axes.AxesSubplot at 0x7fb742431450>,\n",
        " <matplotlib.axes.AxesSubplot at 0x7fb7428623d0>)"
       ]
      }
     ],
     "prompt_number": 101
    },
    {
     "cell_type": "code",
     "collapsed": false,
     "input": [
      "rec.save(folderName)"
     ],
     "language": "python",
     "metadata": {},
     "outputs": [],
     "prompt_number": "*"
    },
    {
     "cell_type": "code",
     "collapsed": false,
     "input": [],
     "language": "python",
     "metadata": {},
     "outputs": [
      {
       "metadata": {},
       "output_type": "pyout",
       "prompt_number": 35,
       "text": [
        "(<matplotlib.figure.Figure at 0x7fb549dc9d90>,\n",
        " <matplotlib.axes.AxesSubplot at 0x299363d0>,\n",
        " <matplotlib.axes.AxesSubplot at 0x7fb549dcef10>,\n",
        " <matplotlib.axes.AxesSubplot at 0x7fb549fb0bd0>)"
       ]
      }
     ],
     "prompt_number": 35
    },
    {
     "cell_type": "code",
     "collapsed": false,
     "input": [],
     "language": "python",
     "metadata": {},
     "outputs": []
    }
   ],
   "metadata": {}
  }
 ]
}