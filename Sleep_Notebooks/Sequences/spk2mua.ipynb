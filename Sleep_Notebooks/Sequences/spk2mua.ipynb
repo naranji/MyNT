{
 "metadata": {
  "name": ""
 },
 "nbformat": 3,
 "nbformat_minor": 0,
 "worksheets": [
  {
   "cells": [
    {
     "cell_type": "code",
     "collapsed": false,
     "input": [
      "cd /home/chenani/ATLAS-clone/workspace/Sleep/src/"
     ],
     "language": "python",
     "metadata": {},
     "outputs": [
      {
       "output_type": "stream",
       "stream": "stdout",
       "text": [
        "/home/chenani/ATLAS-clone/workspace/Sleep/src\n"
       ]
      }
     ],
     "prompt_number": 13
    },
    {
     "cell_type": "code",
     "collapsed": false,
     "input": [
      "%matplotlib\n",
      "%load_ext autoreload\n",
      "%autoreload 2\n",
      "import numpy as np\n",
      "import matplotlib.pyplot as pl\n",
      "import pickle as pkl\n",
      "import Recordings\n",
      "import signale\n",
      "import extras.trees\n",
      "import os"
     ],
     "language": "python",
     "metadata": {},
     "outputs": [
      {
       "output_type": "stream",
       "stream": "stdout",
       "text": [
        "Using matplotlib backend: Qt4Agg\n",
        "The autoreload extension is already loaded. To reload it, use:\n",
        "  %reload_ext autoreload\n"
       ]
      }
     ],
     "prompt_number": 14
    },
    {
     "cell_type": "code",
     "collapsed": false,
     "input": [
      "animalPath = '/home/chenani/DATA-clone/MECLesion/Rat616Control/2013-06-02_07-42-38/sleep1/'"
     ],
     "language": "python",
     "metadata": {},
     "outputs": [],
     "prompt_number": 15
    },
    {
     "cell_type": "code",
     "collapsed": false,
     "input": [
      "ephysList = []\n",
      "spkList = []\n",
      "for item in extras.trees.locate('*.spk',animalPath):\n",
      "    spkList.append(os.path.join(item[0],item[1]))\n",
      "for item in extras.trees.locate('*1.ephys',animalPath):\n",
      "    ephysList.append(os.path.join(item[0],item[1]))"
     ],
     "language": "python",
     "metadata": {},
     "outputs": [],
     "prompt_number": 16
    },
    {
     "cell_type": "code",
     "collapsed": false,
     "input": [
      "for ii in range(len(spkList)) :\n",
      "    spk = pkl.load(open(spkList[ii],'rb'))\n",
      "    rec = pkl.load(open(ephysList[ii],'rb'))\n",
      "    recording = Recordings.ephys(spk,rec.LFPs)\n",
      "    recording.spikes.timeAxis = recording.timeAxis.copy()\n",
      "    del rec\n",
      "    recording.coincidence('s')\n",
      "    recording.MUA()\n",
      "    recording.sequencing()\n",
      "    #### Saving MultiUnitActivity array\n",
      "    mua = [] \n",
      "    for jj in range(len(recording.MultiUnitActivity)):\n",
      "        mua.append(recording.MultiUnitActivity[jj][:,0])\n",
      "    mua = np.array(mua)\n",
      "    fileBase = ephysList[ii].split('.')[0]\n",
      "    pkl.dump(mua,open(fileBase+'.mua','wb'),pkl.HIGHEST_PROTOCOL)\n",
      "    pkl.dump(recording.sequence_1st_spike,open(fileBase+'1st.seqz','wb'),pkl.HIGHEST_PROTOCOL)\n",
      "    pkl.dump(recording.sequence_median,open(fileBase+'Median.seqz','wb'),pkl.HIGHEST_PROTOCOL)"
     ],
     "language": "python",
     "metadata": {},
     "outputs": [
      {
       "output_type": "stream",
       "stream": "stdout",
       "text": [
        "Using surrogate data...\n",
        "There is no spiketrain at the moment... \n",
        "              Calculating spike trains by covolving with a Gaussian kernel of sigma = 12 ms\n",
        "There is no burst detected for this SpikeList. Calling the burstDetector function with default values..."
       ]
      },
      {
       "output_type": "stream",
       "stream": "stdout",
       "text": [
        "\n"
       ]
      }
     ],
     "prompt_number": 17
    },
    {
     "cell_type": "code",
     "collapsed": false,
     "input": [
      "sqz = pkl.load(open('/home/chenani/DATA-clone/MECLesion/Rat616Control/2013-06-02_07-42-38/sleep1/sleep11st.seqz','rb'))"
     ],
     "language": "python",
     "metadata": {},
     "outputs": [],
     "prompt_number": 21
    },
    {
     "cell_type": "code",
     "collapsed": false,
     "input": [
      "len(sqz)"
     ],
     "language": "python",
     "metadata": {},
     "outputs": [
      {
       "metadata": {},
       "output_type": "pyout",
       "prompt_number": 25,
       "text": [
        "581"
       ]
      }
     ],
     "prompt_number": 25
    },
    {
     "cell_type": "code",
     "collapsed": false,
     "input": [],
     "language": "python",
     "metadata": {},
     "outputs": [
      {
       "metadata": {},
       "output_type": "pyout",
       "prompt_number": 53,
       "text": [
        "['/home/chenani/DATA-clone/MECLesion/Rat616Control/2013-06-02_07-42-38/sleep2/sleep2.spk']"
       ]
      }
     ],
     "prompt_number": 53
    },
    {
     "cell_type": "code",
     "collapsed": false,
     "input": [
      "recording.spikes.showTags()"
     ],
     "language": "python",
     "metadata": {},
     "outputs": [
      {
       "output_type": "stream",
       "stream": "stdout",
       "text": [
        "cell # 0\n",
        "  dir : /home/chenani/DATA-clone/MECLesion/Rat616Control/2013-06-02_07-42-38/sleep1/\n",
        "  file : TT1_01.t\n",
        "\n",
        "cell # 1\n",
        "  dir : /home/chenani/DATA-clone/MECLesion/Rat616Control/2013-06-02_07-42-38/sleep1/\n",
        "  file : TT1_02.t\n",
        "\n",
        "cell # 2\n",
        "  dir : /home/chenani/DATA-clone/MECLesion/Rat616Control/2013-06-02_07-42-38/sleep1/\n",
        "  file : TT1_03.t\n",
        "\n",
        "cell # 3\n",
        "  dir : /home/chenani/DATA-clone/MECLesion/Rat616Control/2013-06-02_07-42-38/sleep1/\n",
        "  file : TT1_04.t\n",
        "\n",
        "cell # 4\n",
        "  dir : /home/chenani/DATA-clone/MECLesion/Rat616Control/2013-06-02_07-42-38/sleep1/\n",
        "  file : TT1_05.t\n",
        "\n",
        "cell # 5\n",
        "  dir : /home/chenani/DATA-clone/MECLesion/Rat616Control/2013-06-02_07-42-38/sleep1/\n",
        "  file : TT1_06.t\n",
        "\n",
        "cell # 6\n",
        "  dir : /home/chenani/DATA-clone/MECLesion/Rat616Control/2013-06-02_07-42-38/sleep1/\n",
        "  file : TT2_01.t\n",
        "\n",
        "cell # 7\n",
        "  dir : /home/chenani/DATA-clone/MECLesion/Rat616Control/2013-06-02_07-42-38/sleep1/\n",
        "  file : TT2_02.t\n",
        "\n",
        "cell # 8\n",
        "  dir : /home/chenani/DATA-clone/MECLesion/Rat616Control/2013-06-02_07-42-38/sleep1/\n",
        "  file : TT2_03.t\n",
        "\n",
        "cell # 9\n",
        "  dir : /home/chenani/DATA-clone/MECLesion/Rat616Control/2013-06-02_07-42-38/sleep1/\n",
        "  file : TT2_04.t\n",
        "\n",
        "cell # 10\n",
        "  dir : /home/chenani/DATA-clone/MECLesion/Rat616Control/2013-06-02_07-42-38/sleep1/\n",
        "  file : TT2_05.t\n",
        "\n",
        "cell # 11\n",
        "  dir : /home/chenani/DATA-clone/MECLesion/Rat616Control/2013-06-02_07-42-38/sleep1/\n",
        "  file : TT2_06.t\n",
        "\n",
        "cell # 12\n",
        "  dir : /home/chenani/DATA-clone/MECLesion/Rat616Control/2013-06-02_07-42-38/sleep1/\n",
        "  file : TT2_07.t\n",
        "\n",
        "cell # 13\n",
        "  dir : /home/chenani/DATA-clone/MECLesion/Rat616Control/2013-06-02_07-42-38/sleep1/\n",
        "  file : TT2_08.t\n",
        "\n",
        "cell # 14\n",
        "  dir : /home/chenani/DATA-clone/MECLesion/Rat616Control/2013-06-02_07-42-38/sleep1/\n",
        "  file : TT2_09.t\n",
        "\n",
        "cell # 15\n",
        "  dir : /home/chenani/DATA-clone/MECLesion/Rat616Control/2013-06-02_07-42-38/sleep1/\n",
        "  file : TT2_10.t\n",
        "\n",
        "cell # 16\n",
        "  dir : /home/chenani/DATA-clone/MECLesion/Rat616Control/2013-06-02_07-42-38/sleep1/\n",
        "  file : TT2_11.t\n",
        "\n",
        "cell # 17\n",
        "  dir : /home/chenani/DATA-clone/MECLesion/Rat616Control/2013-06-02_07-42-38/sleep1/\n",
        "  file : TT2_12.t\n",
        "\n",
        "cell # 18\n",
        "  dir : /home/chenani/DATA-clone/MECLesion/Rat616Control/2013-06-02_07-42-38/sleep1/\n",
        "  file : TT7_01.t\n",
        "\n",
        "cell # 19\n",
        "  dir : /home/chenani/DATA-clone/MECLesion/Rat616Control/2013-06-02_07-42-38/sleep1/\n",
        "  file : TT7_02.t\n",
        "\n",
        "cell # 20\n",
        "  dir : /home/chenani/DATA-clone/MECLesion/Rat616Control/2013-06-02_07-42-38/sleep1/\n",
        "  file : TT7_03.t\n",
        "\n",
        "cell # 21\n",
        "  dir : /home/chenani/DATA-clone/MECLesion/Rat616Control/2013-06-02_07-42-38/sleep1/\n",
        "  file : TT7_04.t\n",
        "\n",
        "cell # 22\n",
        "  dir : /home/chenani/DATA-clone/MECLesion/Rat616Control/2013-06-02_07-42-38/sleep1/\n",
        "  file : TT7_05.t\n",
        "\n"
       ]
      }
     ],
     "prompt_number": 20
    },
    {
     "cell_type": "code",
     "collapsed": false,
     "input": [],
     "language": "python",
     "metadata": {},
     "outputs": []
    }
   ],
   "metadata": {}
  }
 ]
}