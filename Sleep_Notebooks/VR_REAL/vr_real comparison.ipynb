{
 "metadata": {
  "name": ""
 },
 "nbformat": 3,
 "nbformat_minor": 0,
 "worksheets": [
  {
   "cells": [
    {
     "cell_type": "code",
     "collapsed": false,
     "input": [
      "import sws_rem_compare"
     ],
     "language": "python",
     "metadata": {},
     "outputs": [
      {
       "output_type": "stream",
       "stream": "stderr",
       "text": [
        "/home/chenani/anaconda/lib/python2.7/site-packages/matplotlib/__init__.py:1155: UserWarning:  This call to matplotlib.use() has no effect\n",
        "because the backend has already been chosen;\n",
        "matplotlib.use() must be called *before* pylab, matplotlib.pyplot,\n",
        "or matplotlib.backends is imported for the first time.\n",
        "\n",
        "  warnings.warn(_use_error_msg)\n"
       ]
      }
     ],
     "prompt_number": 4
    },
    {
     "cell_type": "code",
     "collapsed": false,
     "input": [
      "cd /home/chenani/ATLAS-clone/workspace/Sleep/src/"
     ],
     "language": "python",
     "metadata": {},
     "outputs": [
      {
       "output_type": "stream",
       "stream": "stdout",
       "text": [
        "/home/chenani/ATLAS-clone/workspace/Sleep/src\n"
       ]
      }
     ],
     "prompt_number": 2
    },
    {
     "cell_type": "code",
     "collapsed": false,
     "input": [
      "%matplotlib\n",
      "%load_ext autoreload\n",
      "%autoreload 2"
     ],
     "language": "python",
     "metadata": {},
     "outputs": [
      {
       "output_type": "stream",
       "stream": "stdout",
       "text": [
        "Using matplotlib backend: Qt4Agg\n"
       ]
      }
     ],
     "prompt_number": 3
    },
    {
     "cell_type": "code",
     "collapsed": false,
     "input": [
      "lt_du_means = []\n",
      "lt_du_stds = []\n",
      "vr_du_means = []\n",
      "vr_du_stds = []\n",
      "lt_iri_means = []\n",
      "lt_iri_stds = []\n",
      "vr_iri_means = []\n",
      "vr_iri_stds = []\n",
      "names = [] "
     ],
     "language": "python",
     "metadata": {},
     "outputs": [],
     "prompt_number": 5
    },
    {
     "cell_type": "code",
     "collapsed": false,
     "input": [
      "%run the_one_with_reports.py -bars"
     ],
     "language": "python",
     "metadata": {},
     "outputs": [
      {
       "output_type": "stream",
       "stream": "stdout",
       "text": [
        "/home/chenani/atlas-data/ali/8981/real/2013-06-24_10-11-40/sleep2/catalog/report.rpt\n",
        "/home/chenani/atlas-data/ali/8981/real/2013-06-21_10-29-44/sleep2/catalog/report.rpt\n",
        "/home/chenani/atlas-data/ali/8981/real/2013-06-26_12-13-33/sleep2/catalog/report.rpt\n",
        "/home/chenani/atlas-data/ali/8981/real/2013-06-12_11-29-11/sleep2/catalog/report.rpt\n",
        "/home/chenani/atlas-data/ali/8981/real/2013-06-11_11-11-25/sleep2/catalog/report.rpt"
       ]
      },
      {
       "output_type": "stream",
       "stream": "stdout",
       "text": [
        "\n",
        "/home/chenani/atlas-data/ali/8981/real/2013-06-19_10-32-48/sleep2/catalog/report.rpt\n",
        "/home/chenani/atlas-data/ali/8981/real/2013-06-17_13-17-00/sleep2/catalog/report.rpt\n",
        "/home/chenani/atlas-data/ali/8981/real/2013-06-07_13-35-53/sleep2/catalog/report.rpt\n",
        "/home/chenani/atlas-data/ali/8981/real/2013-06-18_10-28-26/sleep2/catalog/report.rpt\n",
        "/home/chenani/atlas-data/ali/8981/real/2013-06-13_11-27-45/sleep2/catalog/report.rpt"
       ]
      },
      {
       "output_type": "stream",
       "stream": "stdout",
       "text": [
        "\n",
        "/home/chenani/atlas-data/ali/8981/real/2013-06-14_10-20-56/sleep2/catalog/report.rpt\n",
        "/home/chenani/atlas-data/ali/8981/vr/2013-06-14_vr/sleep2a/catalog/report.rpt\n",
        "/home/chenani/atlas-data/ali/8981/vr/2013-06-19_vr_02/sleep2/catalog/report.rpt\n",
        "------------------------------------"
       ]
      },
      {
       "output_type": "stream",
       "stream": "stdout",
       "text": [
        "\n"
       ]
      }
     ],
     "prompt_number": 17
    },
    {
     "cell_type": "code",
     "collapsed": false,
     "input": [
      "#####Color themes\n",
      "Kay_theme = ['#66C2A5','#FC8D62']\n",
      "Sunshine_over_glacier = ['#004056','#2C858D','#74CEB7','#C9FFD5','#FFFFCB']\n",
      "Sweet_Valentine  = ['#7E001B','#BF1B32','#FF475A','#FF9583','#A97C53'] \n"
     ],
     "language": "python",
     "metadata": {},
     "outputs": [],
     "prompt_number": 20
    },
    {
     "cell_type": "code",
     "collapsed": false,
     "input": [
      "lt_du_means.append(lt_duration.mean())\n",
      "lt_du_stds.append(lt_duration.std())\n",
      "vr_du_means.append(vr_duration.mean())\n",
      "vr_du_stds.append(vr_duration.std())\n",
      "lt_iri_means.append(lt_iri.mean())\n",
      "lt_iri_stds.append(lt_iri.std())\n",
      "vr_iri_means.append(vr_iri.mean())\n",
      "vr_iri_stds.append(vr_iri.std())\n",
      "names.append('Gerbil_10353')"
     ],
     "language": "python",
     "metadata": {},
     "outputs": [],
     "prompt_number": 18
    },
    {
     "cell_type": "code",
     "collapsed": false,
     "input": [
      "lt_iri_means,vr_iri_means"
     ],
     "language": "python",
     "metadata": {},
     "outputs": [
      {
       "metadata": {},
       "output_type": "pyout",
       "prompt_number": 19,
       "text": [
        "([1087.1425268492594,\n",
        "  1255.1493590201098,\n",
        "  802.52266410116704,\n",
        "  1333.3197573876005],\n",
        " [1153.2676077756066,\n",
        "  1179.0985402673782,\n",
        "  1007.4139992892642,\n",
        "  1115.7632384294786])"
       ]
      }
     ],
     "prompt_number": 19
    },
    {
     "cell_type": "code",
     "collapsed": false,
     "input": [
      "for ii in range(4):\n",
      "    names[ii] =  'Gerbil'+ str(ii+1)\n",
      "    ii +=1"
     ],
     "language": "python",
     "metadata": {},
     "outputs": [],
     "prompt_number": 21
    },
    {
     "cell_type": "code",
     "collapsed": false,
     "input": [
      "#####################BAR PLOTS\n",
      "fig = pl.figure()\n",
      "ax = fig.add_subplot(111)\n",
      "\n",
      "## the data\n",
      "N = 4\n",
      "    \n",
      "## necessary variables\n",
      "ind = np.arange(N)                # the x locations for the groups\n",
      "width = 0.35                      # the width of the bars\n",
      "\n",
      "## the bars\n",
      "rects1 = ax.bar(ind, lt_du_means, width,\n",
      "                color=Kay_theme[0],\n",
      "                yerr=lt_du_stds,\n",
      "                error_kw=dict(elinewidth=2,ecolor='gray'),edgecolor = \"none\")\n",
      "\n",
      "rects2 = ax.bar(ind+width, vr_du_means, width,\n",
      "                color=Kay_theme[1],\n",
      "                yerr=vr_du_stds,\n",
      "                error_kw=dict(elinewidth=2,ecolor='gray'),edgecolor = \"none\")\n",
      "xtickNames = ax.set_xticklabels(names)\n",
      "ax.set_xlim(-width,len(ind)+width)\n",
      "ax.set_ylim(0,200)\n",
      "ax.set_xticks(ind+width)\n",
      "pl.setp(xtickNames, rotation=45, fontsize=10)\n",
      "ax.spines['top'].set_visible(False)\n",
      "ax.spines['right'].set_visible(False)\n",
      "ax.get_xaxis().tick_bottom()\n",
      "ax.get_yaxis().tick_left()\n",
      "## add a legend\n",
      "#ax.legend( (rects1[0], rects2[0]), ('REAL', 'VR') )\n",
      "\n",
      "pl.show()"
     ],
     "language": "python",
     "metadata": {},
     "outputs": [],
     "prompt_number": 39
    },
    {
     "cell_type": "code",
     "collapsed": false,
     "input": [
      "#####################BAR PLOTS\n",
      "fig1 = pl.figure()\n",
      "ax1 = fig1.add_subplot(111)\n",
      "\n",
      "## the data\n",
      "N = 4\n",
      "    \n",
      "## necessary variables\n",
      "ind = np.arange(N)                # the x locations for the groups\n",
      "width = 0.35                      # the width of the bars\n",
      "\n",
      "## the bars\n",
      "rects1 = ax1.bar(ind, lt_iri_means, width,\n",
      "                color=Kay_theme[0],\n",
      "                yerr=lt_iri_stds,\n",
      "                error_kw=dict(elinewidth=2,ecolor='gray'),edgecolor = \"none\")\n",
      "\n",
      "rects2 = ax1.bar(ind+width, vr_iri_means, width,\n",
      "                color=Kay_theme[1],\n",
      "                yerr=vr_iri_stds,\n",
      "                error_kw=dict(elinewidth=2,ecolor='gray'),edgecolor = \"none\")\n",
      "xtickNames1 = ax1.set_xticklabels(names)\n",
      "ax1.set_xlim(-width,len(ind)+width)\n",
      "ax1.set_ylim(0,3000)\n",
      "ax1.set_xticks(ind+width)\n",
      "ax1.spines['top'].set_visible(False)\n",
      "ax1.get_xaxis().tick_bottom()\n",
      "ax1.get_yaxis().tick_left()\n",
      "ax1.spines['right'].set_visible(False)\n",
      "pl.setp(xtickNames1, rotation=45, fontsize=10)\n",
      "\n",
      "## add a legend\n",
      "#ax1.legend( (rects1[0], rects2[0]), ('REAL', 'VR') )\n",
      "\n",
      "pl.show()"
     ],
     "language": "python",
     "metadata": {},
     "outputs": [],
     "prompt_number": 38
    },
    {
     "cell_type": "code",
     "collapsed": false,
     "input": [
      "### try to find the pick freq in the ripple band!!!!"
     ],
     "language": "python",
     "metadata": {},
     "outputs": [],
     "prompt_number": 37
    },
    {
     "cell_type": "code",
     "collapsed": false,
     "input": [
      "%run ephys_loader.py /home/chenani/DATA-clone/Gerbil_9588/vr/Sleep1/Sleep1.ephys"
     ],
     "language": "python",
     "metadata": {},
     "outputs": [],
     "prompt_number": 73
    },
    {
     "cell_type": "code",
     "collapsed": false,
     "input": [
      "vr_sig = rec.LFPs[0].signal.copy()"
     ],
     "language": "python",
     "metadata": {},
     "outputs": [],
     "prompt_number": 74
    },
    {
     "cell_type": "code",
     "collapsed": false,
     "input": [
      "%run ephys_loader.py /home/chenani/DATA-clone/Gerbil_9588/real/Sleep1/Sleep1.ephys"
     ],
     "language": "python",
     "metadata": {},
     "outputs": [],
     "prompt_number": 75
    },
    {
     "cell_type": "code",
     "collapsed": false,
     "input": [
      "real_sig = rec.LFPs[1].signal.copy()"
     ],
     "language": "python",
     "metadata": {},
     "outputs": [],
     "prompt_number": 98
    },
    {
     "cell_type": "code",
     "collapsed": false,
     "input": [
      "vr_fft,vr_freq,real_fft,real_freq = sws_rem_compare.fft(vr_sig,real_sig,sampleFreq=rec.LFPs[0].sampleFreq,step=True)"
     ],
     "language": "python",
     "metadata": {},
     "outputs": [],
     "prompt_number": 106
    },
    {
     "cell_type": "code",
     "collapsed": false,
     "input": [
      "idx = np.intersect1d(np.where(vr_freq > 120)[0], np.where(vr_freq < 220 )[0])"
     ],
     "language": "python",
     "metadata": {},
     "outputs": [],
     "prompt_number": 107
    },
    {
     "cell_type": "code",
     "collapsed": false,
     "input": [
      "maxPower_idx = np.where(vr_fft == vr_fft[idx].max())[0]"
     ],
     "language": "python",
     "metadata": {},
     "outputs": [],
     "prompt_number": 108
    },
    {
     "cell_type": "code",
     "collapsed": false,
     "input": [
      "vr_freq[maxPower_idx]"
     ],
     "language": "python",
     "metadata": {},
     "outputs": [
      {
       "metadata": {},
       "output_type": "pyout",
       "prompt_number": 109,
       "text": [
        "array([ 124.62604781])"
       ]
      }
     ],
     "prompt_number": 109
    },
    {
     "cell_type": "code",
     "collapsed": false,
     "input": [
      "idx = np.intersect1d(np.where(real_freq > 120)[0], np.where(real_freq < 220 )[0])\n",
      "maxRealPower_idx = np.where(real_fft == real_fft[idx].max())[0]\n",
      "real_freq[maxRealPower_idx]"
     ],
     "language": "python",
     "metadata": {},
     "outputs": [
      {
       "metadata": {},
       "output_type": "pyout",
       "prompt_number": 110,
       "text": [
        "array([ 122.01912123])"
       ]
      }
     ],
     "prompt_number": 110
    },
    {
     "cell_type": "code",
     "collapsed": false,
     "input": [
      "pl.plot(real_freq,real_fft)"
     ],
     "language": "python",
     "metadata": {},
     "outputs": [
      {
       "metadata": {},
       "output_type": "pyout",
       "prompt_number": 111,
       "text": [
        "[<matplotlib.lines.Line2D at 0x149e1210>]"
       ]
      }
     ],
     "prompt_number": 111
    },
    {
     "cell_type": "code",
     "collapsed": false,
     "input": [
      "from scipy.signal import butter,filtfilt, freqz\n",
      "\n",
      "def butter_bandpass(lowcut, highcut, fs, order=5):\n",
      "    nyq = 0.5 * fs\n",
      "    low = lowcut / nyq\n",
      "    high = highcut / nyq\n",
      "    b, a = butter(order, [low, high], btype='band')\n",
      "    return b, a\n",
      "\n",
      "def butter_bandpass_filter(data, lowcut, highcut, fs, order=5):\n",
      "    b, a = butter_bandpass(lowcut, highcut, fs, order=order)\n",
      "    y = filtfilt(b, a, data)\n",
      "    return y"
     ],
     "language": "python",
     "metadata": {},
     "outputs": [],
     "prompt_number": 115
    },
    {
     "cell_type": "code",
     "collapsed": false,
     "input": [
      "y = butter_bandpass_filter(np.real(real_fft),2, 10, 510, order=3)"
     ],
     "language": "python",
     "metadata": {},
     "outputs": [],
     "prompt_number": 149
    },
    {
     "cell_type": "code",
     "collapsed": false,
     "input": [
      "pl.plot(y)"
     ],
     "language": "python",
     "metadata": {},
     "outputs": [
      {
       "metadata": {},
       "output_type": "pyout",
       "prompt_number": 150,
       "text": [
        "[<matplotlib.lines.Line2D at 0x47e1a610>]"
       ]
      }
     ],
     "prompt_number": 150
    },
    {
     "cell_type": "code",
     "collapsed": false,
     "input": [
      "pl.plot(np.real(real_fft))"
     ],
     "language": "python",
     "metadata": {},
     "outputs": [
      {
       "metadata": {},
       "output_type": "pyout",
       "prompt_number": 151,
       "text": [
        "[<matplotlib.lines.Line2D at 0x47e28d50>]"
       ]
      }
     ],
     "prompt_number": 151
    },
    {
     "cell_type": "code",
     "collapsed": false,
     "input": [],
     "language": "python",
     "metadata": {},
     "outputs": []
    }
   ],
   "metadata": {}
  }
 ]
}