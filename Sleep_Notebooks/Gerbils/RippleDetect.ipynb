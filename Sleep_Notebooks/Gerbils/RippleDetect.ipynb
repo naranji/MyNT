{
 "cells": [
  {
   "cell_type": "markdown",
   "metadata": {},
   "source": [
    "# Detecting & Clustering SWRs\n",
    "Imports & path setup"
   ]
  },
  {
   "cell_type": "code",
   "execution_count": 4,
   "metadata": {
    "collapsed": false
   },
   "outputs": [
    {
     "name": "stdout",
     "output_type": "stream",
     "text": [
      "Using matplotlib backend: Qt4Agg\n",
      "The autoreload extension is already loaded. To reload it, use:\n",
      "  %reload_ext autoreload\n"
     ]
    }
   ],
   "source": [
    "%matplotlib \n",
    "%load_ext autoreload\n",
    "%autoreload 2"
   ]
  },
  {
   "cell_type": "code",
   "execution_count": 5,
   "metadata": {
    "collapsed": true
   },
   "outputs": [],
   "source": [
    "import sys\n",
    "sys.path.append(\"/mnt/Data/Workspaces/Eclipse/dataAnalysis/Sleep-current/src/\")"
   ]
  },
  {
   "cell_type": "code",
   "execution_count": 6,
   "metadata": {
    "collapsed": false
   },
   "outputs": [
    {
     "name": "stderr",
     "output_type": "stream",
     "text": [
      "/home/chenani/anaconda/lib/python2.7/site-packages/matplotlib/__init__.py:1350: UserWarning:  This call to matplotlib.use() has no effect\n",
      "because the backend has already been chosen;\n",
      "matplotlib.use() must be called *before* pylab, matplotlib.pyplot,\n",
      "or matplotlib.backends is imported for the first time.\n",
      "\n",
      "  warnings.warn(_use_error_msg)\n",
      "/home/chenani/anaconda/lib/python2.7/site-packages/matplotlib/__init__.py:872: UserWarning: axes.color_cycle is deprecated and replaced with axes.prop_cycle; please use the latter.\n",
      "  warnings.warn(self.msg_depr % (key, alt_key))\n"
     ]
    }
   ],
   "source": [
    "import numpy as np\n",
    "import matplotlib.pyplot as pl\n",
    "import spectrum as sp\n",
    "import pickle as pkl\n",
    "import scipy.signal as scsig\n",
    "import colormaps as mycmps\n",
    "import signale.tools as tools\n",
    "import os\n",
    "import itertools\n",
    "import pandas as pd\n",
    "import statsmodels.api as sm\n",
    "import seaborn as sns\n",
    "from matplotlib.mlab import PCA as mlabPCA\n",
    "import matplotlib.gridspec as gridspec"
   ]
  },
  {
   "cell_type": "code",
   "execution_count": 7,
   "metadata": {
    "collapsed": true
   },
   "outputs": [],
   "source": [
    "def zScore(array):\n",
    "    return(array - np.average(array))/ np.std(array)\n",
    "clPalette = sns.color_palette('deep')"
   ]
  },
  {
   "cell_type": "code",
   "execution_count": 8,
   "metadata": {
    "collapsed": true
   },
   "outputs": [],
   "source": [
    "animalPath = '/mnt/Data/ephysdata/Gerbils/'"
   ]
  },
  {
   "cell_type": "code",
   "execution_count": 9,
   "metadata": {
    "collapsed": false
   },
   "outputs": [
    {
     "name": "stdout",
     "output_type": "stream",
     "text": [
      "/mnt/Data/ephysdata/Gerbils/G5/data/2011-08-04_sleep1_csc4.lfp\n",
      "/mnt/Data/ephysdata/Gerbils/G5/data/2011-08-04_sleep2_csc4.lfp\n",
      "/mnt/Data/ephysdata/Gerbils/G5/data/2011-08-04_sleep3_csc4.lfp\n",
      "/mnt/Data/ephysdata/Gerbils/G5/data/2011-08-05_sleep1_csc4.lfp\n",
      "/mnt/Data/ephysdata/Gerbils/G5/data/2011-08-05_sleep2_csc4.lfp\n",
      "/mnt/Data/ephysdata/Gerbils/G5/data/2011-08-05_sleep3_csc4.lfp\n",
      "/mnt/Data/ephysdata/Gerbils/G5/data/2011-08-07_sleep1_csc4.lfp\n",
      "/mnt/Data/ephysdata/Gerbils/G5/data/2011-08-07_sleep2_csc4.lfp\n",
      "/mnt/Data/ephysdata/Gerbils/G5/data/2011-08-07_sleep3_csc4.lfp\n",
      "/mnt/Data/ephysdata/Gerbils/G5/data/2011-08-09_sleep1_csc4.lfp\n",
      "/mnt/Data/ephysdata/Gerbils/G5/data/2011-08-09_sleep2_csc4.lfp\n",
      "/mnt/Data/ephysdata/Gerbils/G5/data/2011-08-09_sleep3_csc4.lfp\n",
      "/mnt/Data/ephysdata/Gerbils/G5/data/2011-08-10_sleep1_csc4.lfp\n",
      "/mnt/Data/ephysdata/Gerbils/G5/data/2011-08-10_sleep2_csc4.lfp\n",
      "/mnt/Data/ephysdata/Gerbils/G5/data/2011-08-10_sleep3_csc4.lfp\n",
      "/mnt/Data/ephysdata/Gerbils/G5/data/2011-08-14_sleep1_csc4.lfp\n",
      "/mnt/Data/ephysdata/Gerbils/G5/data/2011-08-14_sleep2_csc4.lfp\n",
      "/mnt/Data/ephysdata/Gerbils/G5/data/2011-08-14_sleep3_csc4.lfp\n",
      "/mnt/Data/ephysdata/Gerbils/G5/data/2011-08-15_sleep1_csc4.lfp\n",
      "/mnt/Data/ephysdata/Gerbils/G5/data/2011-08-15_sleep2_csc4.lfp\n",
      "/mnt/Data/ephysdata/Gerbils/G6/2011-09-19/2011-09-19_Sleep1_CSC4.lfp\n",
      "/mnt/Data/ephysdata/Gerbils/G6/2011-09-19/2011-09-19_sleep2_CSC4.lfp\n",
      "/mnt/Data/ephysdata/Gerbils/G6/2011-09-19/2011-09-19_sleep3_CSC4.lfp\n",
      "/mnt/Data/ephysdata/Gerbils/G6/2011-09-23/2011-09-23_sleep1_CSC4.lfp\n",
      "/mnt/Data/ephysdata/Gerbils/G6/2011-09-23/2011-09-23_sleep2_CSC4.lfp\n",
      "/mnt/Data/ephysdata/Gerbils/G6/2011-09-23/2011-09-23_sleep3_CSC4.lfp\n"
     ]
    }
   ],
   "source": [
    "lfpPaths = []\n",
    "for lfp in tools.locate('*.lfp',animalPath):\n",
    "    lfpPaths.append(os.path.join(lfp[0],lfp[1]))\n",
    "lfpPaths = sorted(lfpPaths)\n",
    "for path in lfpPaths:\n",
    "    print path\n",
    "NlfpFiles = len(lfpPaths)"
   ]
  },
  {
   "cell_type": "markdown",
   "metadata": {},
   "source": [
    "### Filtering & Whitening LFP signals"
   ]
  },
  {
   "cell_type": "code",
   "execution_count": 6,
   "metadata": {
    "collapsed": false,
    "scrolled": false
   },
   "outputs": [],
   "source": [
    "for path in lfpPaths:\n",
    "    lfp = pkl.load(open(path,'rb'))\n",
    "    if not hasattr(lfp,'signal_filtered'):\n",
    "        lfp.filter(100,250)\n",
    "        pkl.dump(lfp,open(path,'wb'),pkl.HIGHEST_PROTOCOL)\n",
    "    if not hasattr(lfp,'signal_white'):\n",
    "        lfp.whitenARMA()\n",
    "        pkl.dump(lfp,open(path,'wb'),pkl.HIGHEST_PROTOCOL)"
   ]
  },
  {
   "cell_type": "markdown",
   "metadata": {},
   "source": [
    "## Sleep epochs\n",
    "Loading pre-identified sleep epochs and inserting them into neuralynxCSC objects and saving as .lfp files"
   ]
  },
  {
   "cell_type": "code",
   "execution_count": 7,
   "metadata": {
    "collapsed": false,
    "scrolled": false
   },
   "outputs": [],
   "source": [
    "SleepEpochs = pd.read_pickle(animalPath+'SleepEpochs.pd')\n",
    "for ii,path in enumerate(lfpPaths):\n",
    "    pickedChannel = pkl.load(open(path,'rb'))\n",
    "    expDate = path.split('_')[0].split('/')[-1]\n",
    "    session = path.split('_')[-2]\n",
    "    session = session[:-1]+'0'+session[-1]\n",
    "    relevantEpochs = SleepEpochs[np.logical_and(SleepEpochs['date']== expDate,\n",
    "                                                SleepEpochs['session']==session)]\n",
    "    relevantEpochs.index = range(relevantEpochs.index.size)\n",
    "    Nepochs = relevantEpochs.shape[0]\n",
    "    pickedChannel.rem_episodes = []\n",
    "    pickedChannel.sws_episodes = []\n",
    "    for idx in relevantEpochs.index:\n",
    "        if relevantEpochs.loc[idx].epoch == 'REM':\n",
    "            pickedChannel.rem_episodes.append([1000*relevantEpochs.loc[idx].t0,\n",
    "                                               1000*relevantEpochs.loc[idx].t1])\n",
    "        elif relevantEpochs.loc[idx].epoch == 'SWS':\n",
    "            pickedChannel.sws_episodes.append([1000*relevantEpochs.loc[idx].t0,\n",
    "                                               1000*relevantEpochs.loc[idx].t1])\n",
    "    pickedChannel.rem_episodes = np.array(pickedChannel.rem_episodes)\n",
    "    pickedChannel.sws_episodes = np.array(pickedChannel.sws_episodes)\n",
    "    pkl.dump(pickedChannel,open(path,'wb'),pkl.HIGHEST_PROTOCOL)"
   ]
  },
  {
   "cell_type": "markdown",
   "metadata": {},
   "source": [
    "## SWR Detection\n",
    "Identify candidate SWR events and save for later!!!"
   ]
  },
  {
   "cell_type": "code",
   "execution_count": 129,
   "metadata": {
    "collapsed": false
   },
   "outputs": [
    {
     "name": "stdout",
     "output_type": "stream",
     "text": [
      "print processing 2011-08-05_sleep1_csc4.lfp\n",
      "Ripple detection on CSC4.ncs  is DONE!!!\n",
      "         Now you should see the attribute ripples with [t_start, t_end,peak value, t_peak] in each row for detected SWRs.\n",
      "print processing 2011-08-05_sleep2_csc4.lfp\n",
      "Ripple detection on CSC4.ncs  is DONE!!!\n",
      "         Now you should see the attribute ripples with [t_start, t_end,peak value, t_peak] in each row for detected SWRs.\n",
      "print processing 2011-08-05_sleep3_csc4.lfp\n",
      "Ripple detection on CSC4.ncs  is DONE!!!\n",
      "         Now you should see the attribute ripples with [t_start, t_end,peak value, t_peak] in each row for detected SWRs.\n",
      "print processing 2011-08-07_sleep1_csc4.lfp\n",
      "Ripple detection on CSC4.ncs  is DONE!!!\n",
      "         Now you should see the attribute ripples with [t_start, t_end,peak value, t_peak] in each row for detected SWRs.\n",
      "print processing 2011-08-07_sleep2_csc4.lfp\n",
      "Ripple detection on CSC4.ncs  is DONE!!!\n",
      "         Now you should see the attribute ripples with [t_start, t_end,peak value, t_peak] in each row for detected SWRs.\n",
      "print processing 2011-08-07_sleep3_csc4.lfp\n",
      "Ripple detection on CSC4.ncs  is DONE!!!\n",
      "         Now you should see the attribute ripples with [t_start, t_end,peak value, t_peak] in each row for detected SWRs.\n",
      "print processing 2011-08-09_sleep1_csc4.lfp\n",
      "Ripple detection on CSC4.ncs  is DONE!!!\n",
      "         Now you should see the attribute ripples with [t_start, t_end,peak value, t_peak] in each row for detected SWRs.\n",
      "print processing 2011-08-09_sleep2_csc4.lfp\n",
      "Ripple detection on CSC4.ncs  is DONE!!!\n",
      "         Now you should see the attribute ripples with [t_start, t_end,peak value, t_peak] in each row for detected SWRs.\n",
      "print processing 2011-08-09_sleep3_csc4.lfp\n",
      "Ripple detection on CSC4.ncs  is DONE!!!\n",
      "         Now you should see the attribute ripples with [t_start, t_end,peak value, t_peak] in each row for detected SWRs.\n",
      "print processing 2011-08-10_sleep1_csc4.lfp\n",
      "Ripple detection on CSC4.ncs  is DONE!!!\n",
      "         Now you should see the attribute ripples with [t_start, t_end,peak value, t_peak] in each row for detected SWRs.\n",
      "print processing 2011-08-10_sleep2_csc4.lfp\n",
      "Ripple detection on CSC4.ncs  is DONE!!!\n",
      "         Now you should see the attribute ripples with [t_start, t_end,peak value, t_peak] in each row for detected SWRs.\n",
      "print processing 2011-08-10_sleep3_csc4.lfp\n",
      "Ripple detection on CSC4.ncs  is DONE!!!\n",
      "         Now you should see the attribute ripples with [t_start, t_end,peak value, t_peak] in each row for detected SWRs.\n",
      "print processing 2011-09-19_sleep2_CSC4.lfp\n",
      "Ripple detection on CSC4.ncs  is DONE!!!\n",
      "         Now you should see the attribute ripples with [t_start, t_end,peak value, t_peak] in each row for detected SWRs.\n",
      "print processing 2011-09-19_sleep3_CSC4.lfp\n",
      "Ripple detection on CSC4.ncs  is DONE!!!\n",
      "         Now you should see the attribute ripples with [t_start, t_end,peak value, t_peak] in each row for detected SWRs.\n",
      "print processing 2011-09-23_sleep1_CSC4.lfp\n",
      "Ripple detection on CSC4.ncs  is DONE!!!\n",
      "         Now you should see the attribute ripples with [t_start, t_end,peak value, t_peak] in each row for detected SWRs.\n",
      "print processing 2011-09-23_sleep2_CSC4.lfp\n",
      "Ripple detection on CSC4.ncs  is DONE!!!\n",
      "         Now you should see the attribute ripples with [t_start, t_end,peak value, t_peak] in each row for detected SWRs.\n",
      "print processing 2011-09-23_sleep3_CSC4.lfp\n",
      "Ripple detection on CSC4.ncs  is DONE!!!\n",
      "         Now you should see the attribute ripples with [t_start, t_end,peak value, t_peak] in each row for detected SWRs.\n"
     ]
    }
   ],
   "source": [
    "for path in lfpPaths:\n",
    "    lfp = pkl.load(open(path,'rb'))\n",
    "    if lfp.rem_episodes.size and lfp.sws_episodes.size:\n",
    "        lfp.hilbertTransform()\n",
    "        if hasattr(lfp,'ripples') is True:\n",
    "            print 'print processing %s' %path.split('/')[-1]\n",
    "            lfp.ripple_recorder(sigma=12, length=12, rippleMix=False,rippleCut=True,SWRmix=True,removeREMripples = True)\n",
    "            pkl.dump(lfp,open(path,'wb'),pkl.HIGHEST_PROTOCOL)"
   ]
  },
  {
   "cell_type": "markdown",
   "metadata": {},
   "source": [
    "## SWR Dataframe\n",
    "Building a pandas daraframe for candidate events!"
   ]
  },
  {
   "cell_type": "code",
   "execution_count": 219,
   "metadata": {
    "collapsed": false
   },
   "outputs": [
    {
     "name": "stderr",
     "output_type": "stream",
     "text": [
      "/home/chenani/anaconda/lib/python2.7/site-packages/ipykernel/__main__.py:16: SettingWithCopyWarning: \n",
      "A value is trying to be set on a copy of a slice from a DataFrame\n",
      "\n",
      "See the caveats in the documentation: http://pandas.pydata.org/pandas-docs/stable/indexing.html#indexing-view-versus-copy\n",
      "/home/chenani/anaconda/lib/python2.7/site-packages/ipykernel/__main__.py:22: SettingWithCopyWarning: \n",
      "A value is trying to be set on a copy of a slice from a DataFrame\n",
      "\n",
      "See the caveats in the documentation: http://pandas.pydata.org/pandas-docs/stable/indexing.html#indexing-view-versus-copy\n"
     ]
    }
   ],
   "source": [
    "rippDB = []\n",
    "for path in lfpPaths[:]:\n",
    "    lfp = pkl.load(open(path,'rb'))\n",
    "    if lfp.rem_episodes.size and lfp.sws_episodes.size:\n",
    "        expDate = path.split('_')[0].split('/')[-1]\n",
    "        animal = path.split('/')[-3]\n",
    "        session = path.split('_')[-2]\n",
    "        session = session[:-1]+'0'+session[-1]\n",
    "        rippDF = pd.DataFrame(lfp.ripples,columns=['t_start', 't_end','peak value', 't_peak'])\n",
    "        rippDF['epoch'] = lfp.ripples.shape[0]*['NA']\n",
    "        for item in lfp.sws_episodes:\n",
    "            before = (rippDF.t_peak - lfp.timeAxis[0]) < item[1]\n",
    "            after = (rippDF.t_peak - lfp.timeAxis[0]) > item[0]\n",
    "            inBetween = np.logical_and(before,after)\n",
    "            Nep = rippDF['epoch'][inBetween].size\n",
    "            rippDF['epoch'][inBetween] = Nep * ['sws']\n",
    "        for item in lfp.rem_episodes:\n",
    "            before = (rippDF.t_peak - lfp.timeAxis[0]) < item[1]\n",
    "            after = (rippDF.t_peak - lfp.timeAxis[0]) > item[0]\n",
    "            inBetween = np.logical_and(before,after)\n",
    "            Nep = rippDF['epoch'][inBetween].size\n",
    "            rippDF['epoch'][inBetween] = Nep * ['rem']\n",
    "        rippDF['date'] = rippDF.shape[0]*[expDate]\n",
    "        rippDF['session'] = rippDF.shape[0]*[session]\n",
    "        rippDF['animal'] = rippDF.shape[0]*[animal]\n",
    "        rippDB.append(rippDF.as_matrix().flatten())\n",
    "rippDB = np.hstack(rippDB)\n",
    "rippDB = rippDB.reshape(rippDB.size/8,8)\n",
    "rippDB = pd.DataFrame(rippDB,\n",
    "                      columns=['t_i','t_f','peak_value','t_peak','epoch','date','session','animal'])"
   ]
  },
  {
   "cell_type": "markdown",
   "metadata": {
    "collapsed": false
   },
   "source": [
    "### Adding more features to dataframe"
   ]
  },
  {
   "cell_type": "code",
   "execution_count": 240,
   "metadata": {
    "collapsed": false
   },
   "outputs": [
    {
     "name": "stdout",
     "output_type": "stream",
     "text": [
      "/mnt/Data/ephysdata/Gerbils/G5/data/2011-08-04_sleep1_csc4.lfp\n",
      "/mnt/Data/ephysdata/Gerbils/G5/data/2011-08-04_sleep2_csc4.lfp\n",
      "/mnt/Data/ephysdata/Gerbils/G5/data/2011-08-04_sleep3_csc4.lfp\n",
      "/mnt/Data/ephysdata/Gerbils/G5/data/2011-08-05_sleep1_csc4.lfp\n",
      "/mnt/Data/ephysdata/Gerbils/G5/data/2011-08-05_sleep2_csc4.lfp\n",
      "/mnt/Data/ephysdata/Gerbils/G5/data/2011-08-05_sleep3_csc4.lfp\n",
      "/mnt/Data/ephysdata/Gerbils/G5/data/2011-08-07_sleep1_csc4.lfp\n",
      "/mnt/Data/ephysdata/Gerbils/G5/data/2011-08-07_sleep2_csc4.lfp\n",
      "/mnt/Data/ephysdata/Gerbils/G5/data/2011-08-07_sleep3_csc4.lfp\n",
      "/mnt/Data/ephysdata/Gerbils/G5/data/2011-08-09_sleep1_csc4.lfp\n",
      "/mnt/Data/ephysdata/Gerbils/G5/data/2011-08-09_sleep2_csc4.lfp\n",
      "/mnt/Data/ephysdata/Gerbils/G5/data/2011-08-09_sleep3_csc4.lfp\n",
      "/mnt/Data/ephysdata/Gerbils/G5/data/2011-08-10_sleep1_csc4.lfp\n",
      "/mnt/Data/ephysdata/Gerbils/G5/data/2011-08-10_sleep2_csc4.lfp\n",
      "/mnt/Data/ephysdata/Gerbils/G5/data/2011-08-10_sleep3_csc4.lfp\n",
      "/mnt/Data/ephysdata/Gerbils/G5/data/2011-08-14_sleep1_csc4.lfp\n",
      "/mnt/Data/ephysdata/Gerbils/G5/data/2011-08-14_sleep2_csc4.lfp\n",
      "/mnt/Data/ephysdata/Gerbils/G5/data/2011-08-14_sleep3_csc4.lfp\n",
      "/mnt/Data/ephysdata/Gerbils/G5/data/2011-08-15_sleep1_csc4.lfp\n",
      "/mnt/Data/ephysdata/Gerbils/G5/data/2011-08-15_sleep2_csc4.lfp\n",
      "/mnt/Data/ephysdata/Gerbils/G6/2011-09-19/2011-09-19_Sleep1_CSC4.lfp\n",
      "/mnt/Data/ephysdata/Gerbils/G6/2011-09-19/2011-09-19_sleep2_CSC4.lfp\n",
      "/mnt/Data/ephysdata/Gerbils/G6/2011-09-19/2011-09-19_sleep3_CSC4.lfp\n",
      "/mnt/Data/ephysdata/Gerbils/G6/2011-09-23/2011-09-23_sleep1_CSC4.lfp\n",
      "/mnt/Data/ephysdata/Gerbils/G6/2011-09-23/2011-09-23_sleep2_CSC4.lfp\n",
      "/mnt/Data/ephysdata/Gerbils/G6/2011-09-23/2011-09-23_sleep3_CSC4.lfp\n"
     ]
    }
   ],
   "source": [
    "HilbertAbsPeak = []\n",
    "HilbertPhasePeak = []\n",
    "WhitePeak = []\n",
    "FilteredPeak = []\n",
    "for path in lfpPaths[:]:\n",
    "    pickedChannel = pkl.load(open(path,'rb'))\n",
    "    expDate = path.split('_')[0].split('/')[-1]\n",
    "    session = path.split('_')[-2]\n",
    "    session = session[:-1]+'0'+session[-1]\n",
    "    relevantEpochs = rippDB[np.logical_and(rippDB['date']== expDate,\n",
    "                                                rippDB['session']==session)]\n",
    "    indexArray = relevantEpochs.index\n",
    "    for iii in indexArray:\n",
    "        #rippDB.peak_value[iii]= (rippDB.peak_value[iii] - pickedChannel.signal.mean())/pickedChannel.signal.std()\n",
    "        idx = tools.findNearest(pickedChannel.timeAxis,rippDB.t_peak[iii])[0]\n",
    "        HilbertAbsPeak.append((pickedChannel.hilbertAbsSmooth[idx] - pickedChannel.hilbertAbsSmooth.mean())/pickedChannel.hilbertAbsSmooth.std())\n",
    "        WhitePeak.append((pickedChannel.signal_white[idx] - pickedChannel.signal_white.mean())/pickedChannel.signal_white.std())\n",
    "        HilbertPhasePeak.append(pickedChannel.hilbertPhase[idx])\n",
    "        FilteredPeak.append((pickedChannel.signal_filtered[idx] - pickedChannel.signal_filtered.mean())/ pickedChannel.signal_filtered.std())\n",
    "    #print path\n",
    "rippDB['HilbertAbsPeak'] = np.array(HilbertAbsPeak)\n",
    "rippDB['HilbertPhasePeak'] = np.array(HilbertPhasePeak)\n",
    "rippDB['WhitePeak'] = np.array(WhitePeak)\n",
    "rippDB['FilteredPeak'] = np.array(FilteredPeak)"
   ]
  },
  {
   "cell_type": "markdown",
   "metadata": {
    "collapsed": false
   },
   "source": [
    "## Frequency and Signal Dataframes"
   ]
  },
  {
   "cell_type": "code",
   "execution_count": 52,
   "metadata": {
    "collapsed": false
   },
   "outputs": [
    {
     "name": "stdout",
     "output_type": "stream",
     "text": [
      "/mnt/Data/ephysdata/Gerbils/G5/data/2011-08-04_sleep1_csc4.lfp\n",
      "/mnt/Data/ephysdata/Gerbils/G5/data/2011-08-04_sleep2_csc4.lfp\n",
      "/mnt/Data/ephysdata/Gerbils/G5/data/2011-08-04_sleep3_csc4.lfp\n",
      "/mnt/Data/ephysdata/Gerbils/G5/data/2011-08-05_sleep1_csc4.lfp\n",
      "/mnt/Data/ephysdata/Gerbils/G5/data/2011-08-05_sleep2_csc4.lfp\n",
      "/mnt/Data/ephysdata/Gerbils/G5/data/2011-08-05_sleep3_csc4.lfp\n",
      "/mnt/Data/ephysdata/Gerbils/G5/data/2011-08-07_sleep1_csc4.lfp\n",
      "/mnt/Data/ephysdata/Gerbils/G5/data/2011-08-07_sleep2_csc4.lfp\n",
      "/mnt/Data/ephysdata/Gerbils/G5/data/2011-08-07_sleep3_csc4.lfp\n",
      "/mnt/Data/ephysdata/Gerbils/G5/data/2011-08-09_sleep1_csc4.lfp\n",
      "/mnt/Data/ephysdata/Gerbils/G5/data/2011-08-09_sleep2_csc4.lfp\n",
      "/mnt/Data/ephysdata/Gerbils/G5/data/2011-08-09_sleep3_csc4.lfp\n",
      "/mnt/Data/ephysdata/Gerbils/G5/data/2011-08-10_sleep1_csc4.lfp\n",
      "/mnt/Data/ephysdata/Gerbils/G5/data/2011-08-10_sleep2_csc4.lfp\n",
      "/mnt/Data/ephysdata/Gerbils/G5/data/2011-08-10_sleep3_csc4.lfp\n",
      "/mnt/Data/ephysdata/Gerbils/G5/data/2011-08-14_sleep1_csc4.lfp\n",
      "/mnt/Data/ephysdata/Gerbils/G5/data/2011-08-14_sleep2_csc4.lfp\n",
      "/mnt/Data/ephysdata/Gerbils/G5/data/2011-08-14_sleep3_csc4.lfp\n",
      "/mnt/Data/ephysdata/Gerbils/G5/data/2011-08-15_sleep1_csc4.lfp\n",
      "/mnt/Data/ephysdata/Gerbils/G5/data/2011-08-15_sleep2_csc4.lfp\n",
      "/mnt/Data/ephysdata/Gerbils/G6/2011-09-19/2011-09-19_Sleep1_CSC4.lfp\n",
      "/mnt/Data/ephysdata/Gerbils/G6/2011-09-19/2011-09-19_sleep2_CSC4.lfp\n",
      "/mnt/Data/ephysdata/Gerbils/G6/2011-09-19/2011-09-19_sleep3_CSC4.lfp\n",
      "/mnt/Data/ephysdata/Gerbils/G6/2011-09-23/2011-09-23_sleep1_CSC4.lfp\n",
      "/mnt/Data/ephysdata/Gerbils/G6/2011-09-23/2011-09-23_sleep2_CSC4.lfp\n",
      "/mnt/Data/ephysdata/Gerbils/G6/2011-09-23/2011-09-23_sleep3_CSC4.lfp\n"
     ]
    }
   ],
   "source": [
    "rippPSD = []\n",
    "whiteRippPSD = []\n",
    "SWRsignal = []\n",
    "for path in lfpPaths[:]:\n",
    "    pickedChannel = pkl.load(open(path,'rb'))\n",
    "    expDate = path.split('_')[0].split('/')[-1]\n",
    "    session = path.split('_')[-2]\n",
    "    session = session[:-1]+'0'+session[-1]\n",
    "    relevantEpochs = rippDB[np.logical_and(rippDB['date']== expDate,\n",
    "                                                rippDB['session']==session)]\n",
    "    indexArray = relevantEpochs.index\n",
    "    print path\n",
    "    for idx in indexArray:\n",
    "        tP = rippDB['t_peak'][idx]\n",
    "        t1 = tools.findNearest(pickedChannel.timeAxis,tP-50)[0]\n",
    "        t2 = tools.findNearest(pickedChannel.timeAxis,tP+50)[0]\n",
    "        sig = pickedChannel.signal[t1:t2]\n",
    "        #print sig\n",
    "        wsig = pickedChannel.signal_white[t1:t2]\n",
    "        p = sp.Periodogram(sig,sampling=2000,NFFT=256)\n",
    "        wp = sp.Periodogram(wsig,sampling=2000,NFFT=256)\n",
    "        p();\n",
    "        wp();\n",
    "        rippPSD.append(p.psd[:35])\n",
    "        whiteRippPSD.append(wp.psd[:35])\n",
    "        SWRsignal.append(sig)\n",
    "rippPSD = np.array(rippPSD)\n",
    "whiteRippPSD = np.array(whiteRippPSD)\n",
    "SWRsignal = np.array(SWRsignal)"
   ]
  },
  {
   "cell_type": "code",
   "execution_count": 775,
   "metadata": {
    "collapsed": false
   },
   "outputs": [],
   "source": [
    "pkl.dump(rippPSD,open(animalPath+'rippPSD.npArr','wb'),pkl.HIGHEST_PROTOCOL)\n",
    "pkl.dump(whiteRippPSD,open(animalPath+'whiteRippPSD.npArr','wb'),pkl.HIGHEST_PROTOCOL)\n",
    "pkl.dump(SWRsignal,open(animalPath+'rippSignal.npArr','wb'),pkl.HIGHEST_PROTOCOL)"
   ]
  },
  {
   "cell_type": "markdown",
   "metadata": {
    "collapsed": false
   },
   "source": [
    "### Zcoring PSD dataframes"
   ]
  },
  {
   "cell_type": "code",
   "execution_count": 693,
   "metadata": {
    "collapsed": false
   },
   "outputs": [],
   "source": [
    "for jjj in range(rippPSD.shape[0]):\n",
    "    rippPSD[jjj,:] = zScore(np.log10(rippPSD[jjj,:]))\n",
    "    whiteRippPSD[jjj,:] = zScore(np.log10(whiteRippPSD[jjj,:]))"
   ]
  },
  {
   "cell_type": "markdown",
   "metadata": {
    "collapsed": false
   },
   "source": [
    "## PCA of PSD dataframes\n",
    "\n",
    "Calculating PCA components of SWR power spectrum (both white and original) and adding the first 5 PC components to SWR dataframe!"
   ]
  },
  {
   "cell_type": "code",
   "execution_count": 349,
   "metadata": {
    "collapsed": false
   },
   "outputs": [],
   "source": [
    "pca = mlabPCA(rippPSD)\n",
    "wpca = mlabPCA(whiteRippPSD)\n",
    "usefulComps = pca.Y[:,range(5)]\n",
    "wusefulComps = wpca.Y[:,range(5)]"
   ]
  },
  {
   "cell_type": "code",
   "execution_count": 357,
   "metadata": {
    "collapsed": false
   },
   "outputs": [],
   "source": [
    "rippDB['PC1'] = usefulComps[:,0]\n",
    "rippDB['PC2'] = usefulComps[:,1]\n",
    "rippDB['PC3'] = usefulComps[:,2]\n",
    "rippDB['PC4'] = usefulComps[:,3]\n",
    "rippDB['PC5'] = usefulComps[:,4]\n",
    "rippDB['wPC1'] = wusefulComps[:,0]\n",
    "rippDB['wPC2'] = wusefulComps[:,1]\n",
    "rippDB['wPC3'] = wusefulComps[:,2]\n",
    "rippDB['wPC4'] = wusefulComps[:,3]\n",
    "rippDB['wPC5'] = wusefulComps[:,4]"
   ]
  },
  {
   "cell_type": "code",
   "execution_count": 20,
   "metadata": {
    "collapsed": false
   },
   "outputs": [],
   "source": [
    "rippDB.to_pickle(animalPath+'RipplesTimeDB.pd')"
   ]
  },
  {
   "cell_type": "markdown",
   "metadata": {
    "collapsed": false
   },
   "source": [
    "## Creating Feature files and Clustering"
   ]
  },
  {
   "cell_type": "code",
   "execution_count": 468,
   "metadata": {
    "collapsed": false
   },
   "outputs": [],
   "source": [
    "Rkeys =  rippDB.keys()\n",
    "keys = Rkeys[[12,13,14,15,16]]\n",
    "wkeys = Rkeys[[17,18,19,20,21]]\n",
    "features = rippDB[keys].as_matrix()\n",
    "wfeatures = rippDB[wkeys].as_matrix()"
   ]
  },
  {
   "cell_type": "code",
   "execution_count": 469,
   "metadata": {
    "collapsed": false
   },
   "outputs": [],
   "source": [
    "np.savetxt(animalPath+'pink.fet.1',features,fmt='%f',delimiter='\\t',\n",
    "           header=str(features.shape[1]),comments='')\n",
    "np.savetxt(animalPath+'white.fet.1',wfeatures,fmt='%f',delimiter='\\t',\n",
    "           header=str(wfeatures.shape[1]),comments='')"
   ]
  },
  {
   "cell_type": "markdown",
   "metadata": {},
   "source": [
    "Clustering is done using KlustaKwik program in unix console\n",
    "## Loading Clusters"
   ]
  },
  {
   "cell_type": "code",
   "execution_count": 10,
   "metadata": {
    "collapsed": false
   },
   "outputs": [],
   "source": [
    "c = np.int16(np.loadtxt('/mnt/Data/ephysdata/Gerbils/pink.clu.1'))[1:]\n",
    "wc = np.int16(np.loadtxt('/mnt/Data/ephysdata/Gerbils/white.clu.1'))[1:]"
   ]
  },
  {
   "cell_type": "code",
   "execution_count": 11,
   "metadata": {
    "collapsed": false
   },
   "outputs": [],
   "source": [
    "np.place(wc,wc==3,[1])\n",
    "np.place(c,c==2,[1])\n",
    "np.place(c,c==3,[2])"
   ]
  },
  {
   "cell_type": "code",
   "execution_count": 14,
   "metadata": {
    "collapsed": false
   },
   "outputs": [],
   "source": [
    "rippDB['wc'] = wc\n",
    "rippDB['c'] = c"
   ]
  },
  {
   "cell_type": "code",
   "execution_count": 15,
   "metadata": {
    "collapsed": false
   },
   "outputs": [],
   "source": [
    "cCounts = np.histogram(c,bins=[0.5,1.5,2.5])[0]\n",
    "wcCounts = np.histogram(wc,bins=[0.5,1.5,2.5])[0]\n",
    "ccc = np.array([cCounts,wcCounts])"
   ]
  },
  {
   "cell_type": "code",
   "execution_count": 16,
   "metadata": {
    "collapsed": false
   },
   "outputs": [
    {
     "data": {
      "text/plain": [
       "(0.5, 3)"
      ]
     },
     "execution_count": 16,
     "metadata": {},
     "output_type": "execute_result"
    }
   ],
   "source": [
    "f,ax = pl.subplots(1,1)\n",
    "ax.bar(np.array([1,2]), cCounts, 0.35,color= clPalette[0])\n",
    "ax.bar(np.array([1,2]) + 0.35, wcCounts, 0.35,color= clPalette[1])\n",
    "# add some text for labels, title and axes ticks\n",
    "ax.set_ylabel('Number of Candidates')\n",
    "ax.set_title('Clusters')\n",
    "ax.set_xticks(np.array([1,2]) + 0.35)\n",
    "ax.set_xticklabels(('C1', 'C2'))\n",
    "ax.set_xlim([00.5,3])"
   ]
  },
  {
   "cell_type": "markdown",
   "metadata": {},
   "source": [
    "# PLOTS"
   ]
  },
  {
   "cell_type": "code",
   "execution_count": 15,
   "metadata": {
    "collapsed": false
   },
   "outputs": [],
   "source": [
    "rippDB = pd.read_pickle(animalPath+'RipplesTimeDB.pd')\n",
    "rippPSD = pkl.load(open(animalPath+'rippPSD.npArr','rb'))\n",
    "whiteRippPSD = pkl.load(open(animalPath+'whiteRippPSD.npArr','rb'))\n",
    "SWRsignal = pkl.load(open(animalPath+'rippSignal.npArr','rb'))"
   ]
  },
  {
   "cell_type": "code",
   "execution_count": 18,
   "metadata": {
    "collapsed": false
   },
   "outputs": [],
   "source": [
    "A = np.logical_and(Rcond,(rippDB.epoch=='sws').as_matrix())\n",
    "B = np.logical_and(Rcond,(rippDB.epoch=='rem').as_matrix())\n",
    "C = np.logical_and(Gcond,(rippDB.epoch=='sws').as_matrix())\n",
    "D = np.logical_and(Gcond,(rippDB.epoch=='rem').as_matrix())"
   ]
  },
  {
   "cell_type": "code",
   "execution_count": 19,
   "metadata": {
    "collapsed": false
   },
   "outputs": [
    {
     "ename": "IndexError",
     "evalue": "too many indices for array",
     "output_type": "error",
     "traceback": [
      "\u001b[1;31m---------------------------------------------------------------------------\u001b[0m",
      "\u001b[1;31mIndexError\u001b[0m                                Traceback (most recent call last)",
      "\u001b[1;32m<ipython-input-19-7777331926fb>\u001b[0m in \u001b[0;36m<module>\u001b[1;34m()\u001b[0m\n\u001b[0;32m      1\u001b[0m \u001b[1;31m#pl.figure()\u001b[0m\u001b[1;33m\u001b[0m\u001b[1;33m\u001b[0m\u001b[0m\n\u001b[1;32m----> 2\u001b[1;33m \u001b[0msns\u001b[0m\u001b[1;33m.\u001b[0m\u001b[0mtsplot\u001b[0m\u001b[1;33m(\u001b[0m\u001b[0mSWRsignal\u001b[0m\u001b[1;33m[\u001b[0m\u001b[0mA\u001b[0m\u001b[1;33m.\u001b[0m\u001b[0mas_matrix\u001b[0m\u001b[1;33m(\u001b[0m\u001b[1;33m)\u001b[0m\u001b[1;33m,\u001b[0m\u001b[1;33m:\u001b[0m\u001b[1;33m]\u001b[0m\u001b[1;33m,\u001b[0m\u001b[0mtime\u001b[0m \u001b[1;33m=\u001b[0m \u001b[0mnp\u001b[0m\u001b[1;33m.\u001b[0m\u001b[0marange\u001b[0m\u001b[1;33m(\u001b[0m\u001b[1;33m-\u001b[0m\u001b[1;36m50\u001b[0m\u001b[1;33m,\u001b[0m\u001b[1;36m50\u001b[0m\u001b[1;33m,\u001b[0m\u001b[1;36m0.5\u001b[0m\u001b[1;33m)\u001b[0m\u001b[1;33m,\u001b[0m\u001b[0mcolor\u001b[0m\u001b[1;33m=\u001b[0m\u001b[1;34m'b'\u001b[0m\u001b[1;33m,\u001b[0m\u001b[0max\u001b[0m\u001b[1;33m=\u001b[0m\u001b[0max4\u001b[0m\u001b[1;33m)\u001b[0m\u001b[1;33m\u001b[0m\u001b[0m\n\u001b[0m\u001b[0;32m      3\u001b[0m \u001b[0msns\u001b[0m\u001b[1;33m.\u001b[0m\u001b[0mtsplot\u001b[0m\u001b[1;33m(\u001b[0m\u001b[0mSWRsignal\u001b[0m\u001b[1;33m[\u001b[0m\u001b[0mB\u001b[0m\u001b[1;33m.\u001b[0m\u001b[0mas_matrix\u001b[0m\u001b[1;33m(\u001b[0m\u001b[1;33m)\u001b[0m\u001b[1;33m,\u001b[0m\u001b[1;33m:\u001b[0m\u001b[1;33m]\u001b[0m\u001b[1;33m,\u001b[0m\u001b[0mtime\u001b[0m \u001b[1;33m=\u001b[0m \u001b[0mnp\u001b[0m\u001b[1;33m.\u001b[0m\u001b[0marange\u001b[0m\u001b[1;33m(\u001b[0m\u001b[1;33m-\u001b[0m\u001b[1;36m50\u001b[0m\u001b[1;33m,\u001b[0m\u001b[1;36m50\u001b[0m\u001b[1;33m,\u001b[0m\u001b[1;36m0.5\u001b[0m\u001b[1;33m)\u001b[0m\u001b[1;33m,\u001b[0m\u001b[0mcolor\u001b[0m\u001b[1;33m=\u001b[0m\u001b[1;34m'r'\u001b[0m\u001b[1;33m,\u001b[0m\u001b[0max\u001b[0m\u001b[1;33m=\u001b[0m\u001b[0max4\u001b[0m\u001b[1;33m)\u001b[0m\u001b[1;33m\u001b[0m\u001b[0m\n",
      "\u001b[1;31mIndexError\u001b[0m: too many indices for array"
     ]
    }
   ],
   "source": [
    "#pl.figure()\n",
    "sns.tsplot(SWRsignal[A.as_matrix(),:],time = np.arange(-50,50,0.5),color='b',ax=ax4)\n",
    "sns.tsplot(SWRsignal[B.as_matrix(),:],time = np.arange(-50,50,0.5),color='r',ax=ax4)"
   ]
  },
  {
   "cell_type": "code",
   "execution_count": 20,
   "metadata": {
    "collapsed": false
   },
   "outputs": [
    {
     "ename": "NameError",
     "evalue": "name 'p' is not defined",
     "output_type": "error",
     "traceback": [
      "\u001b[1;31m---------------------------------------------------------------------------\u001b[0m",
      "\u001b[1;31mNameError\u001b[0m                                 Traceback (most recent call last)",
      "\u001b[1;32m<ipython-input-20-841a63274f53>\u001b[0m in \u001b[0;36m<module>\u001b[1;34m()\u001b[0m\n\u001b[0;32m      1\u001b[0m \u001b[0mpl\u001b[0m\u001b[1;33m.\u001b[0m\u001b[0mfigure\u001b[0m\u001b[1;33m(\u001b[0m\u001b[1;33m)\u001b[0m\u001b[1;33m\u001b[0m\u001b[0m\n\u001b[1;32m----> 2\u001b[1;33m \u001b[0msns\u001b[0m\u001b[1;33m.\u001b[0m\u001b[0mtsplot\u001b[0m\u001b[1;33m(\u001b[0m\u001b[0mrippPSD\u001b[0m\u001b[1;33m[\u001b[0m\u001b[0mA\u001b[0m\u001b[1;33m.\u001b[0m\u001b[0mas_matrix\u001b[0m\u001b[1;33m(\u001b[0m\u001b[1;33m)\u001b[0m\u001b[1;33m,\u001b[0m\u001b[1;33m:\u001b[0m\u001b[1;33m]\u001b[0m\u001b[1;33m,\u001b[0m\u001b[0mtime\u001b[0m \u001b[1;33m=\u001b[0m \u001b[0mp\u001b[0m\u001b[1;33m.\u001b[0m\u001b[0mfrequencies\u001b[0m\u001b[1;33m(\u001b[0m\u001b[1;33m)\u001b[0m\u001b[1;33m[\u001b[0m\u001b[1;33m:\u001b[0m\u001b[1;36m35\u001b[0m\u001b[1;33m]\u001b[0m\u001b[1;33m,\u001b[0m\u001b[0mcolor\u001b[0m\u001b[1;33m=\u001b[0m\u001b[1;34m'b'\u001b[0m\u001b[1;33m)\u001b[0m\u001b[1;33m\u001b[0m\u001b[0m\n\u001b[0m\u001b[0;32m      3\u001b[0m \u001b[0msns\u001b[0m\u001b[1;33m.\u001b[0m\u001b[0mtsplot\u001b[0m\u001b[1;33m(\u001b[0m\u001b[0mrippPSD\u001b[0m\u001b[1;33m[\u001b[0m\u001b[0mB\u001b[0m\u001b[1;33m.\u001b[0m\u001b[0mas_matrix\u001b[0m\u001b[1;33m(\u001b[0m\u001b[1;33m)\u001b[0m\u001b[1;33m,\u001b[0m\u001b[1;33m:\u001b[0m\u001b[1;33m]\u001b[0m\u001b[1;33m,\u001b[0m\u001b[0mtime\u001b[0m \u001b[1;33m=\u001b[0m \u001b[0mp\u001b[0m\u001b[1;33m.\u001b[0m\u001b[0mfrequencies\u001b[0m\u001b[1;33m(\u001b[0m\u001b[1;33m)\u001b[0m\u001b[1;33m[\u001b[0m\u001b[1;33m:\u001b[0m\u001b[1;36m35\u001b[0m\u001b[1;33m]\u001b[0m\u001b[1;33m,\u001b[0m\u001b[0mcolor\u001b[0m\u001b[1;33m=\u001b[0m\u001b[1;34m'r'\u001b[0m\u001b[1;33m)\u001b[0m\u001b[1;33m\u001b[0m\u001b[0m\n\u001b[0;32m      4\u001b[0m \u001b[1;31m#sns.tsplot(rippPSD[C,:],time = p.frequencies()[:35],color='g')\u001b[0m\u001b[1;33m\u001b[0m\u001b[1;33m\u001b[0m\u001b[0m\n",
      "\u001b[1;31mNameError\u001b[0m: name 'p' is not defined"
     ]
    }
   ],
   "source": [
    "pl.figure()\n",
    "sns.tsplot(rippPSD[A.as_matrix(),:],time = p.frequencies()[:35],color='b')\n",
    "sns.tsplot(rippPSD[B.as_matrix(),:],time = p.frequencies()[:35],color='r')\n",
    "#sns.tsplot(rippPSD[C,:],time = p.frequencies()[:35],color='g')"
   ]
  },
  {
   "cell_type": "code",
   "execution_count": 28,
   "metadata": {
    "collapsed": false
   },
   "outputs": [
    {
     "data": {
      "text/plain": [
       "<matplotlib.collections.PathCollection at 0x7f3a198dd290>"
      ]
     },
     "execution_count": 28,
     "metadata": {},
     "output_type": "execute_result"
    }
   ],
   "source": [
    "pl.figure()\n",
    "pl.scatter(rippDB.c+np.random.normal(0,0.1,14481),rippDB.wc++np.random.normal(0,0.1,14481),alpha=0.2)\n"
   ]
  },
  {
   "cell_type": "code",
   "execution_count": 23,
   "metadata": {
    "collapsed": false
   },
   "outputs": [
    {
     "data": {
      "text/plain": [
       "<matplotlib.collections.PathCollection at 0x7f91b4d5fcd0>"
      ]
     },
     "execution_count": 23,
     "metadata": {},
     "output_type": "execute_result"
    }
   ],
   "source": [
    "pl.scatter(rippDB.PC2,rippDB.PC1,c=rippDB.c)"
   ]
  },
  {
   "cell_type": "code",
   "execution_count": 17,
   "metadata": {
    "collapsed": false
   },
   "outputs": [],
   "source": [
    "Rcond = np.logical_and(rippDB.c ==1, rippDB.wc == 1)\n",
    "Gcond = np.logical_and(rippDB.c ==2, rippDB.wc == 2)\n",
    "cond12 = np.logical_and(rippDB.c ==1, rippDB.wc == 2)\n",
    "cond21 = np.logical_and(rippDB.c ==2, rippDB.wc == 1)"
   ]
  },
  {
   "cell_type": "code",
   "execution_count": 39,
   "metadata": {
    "collapsed": false
   },
   "outputs": [
    {
     "data": {
      "text/plain": [
       "<matplotlib.axes._subplots.AxesSubplot at 0x7f3a1997f7d0>"
      ]
     },
     "execution_count": 39,
     "metadata": {},
     "output_type": "execute_result"
    }
   ],
   "source": [
    "pl.figure()\n",
    "sns.tsplot(rippPSD[Rcond.as_matrix(),:],time = p.frequencies()[:35],color='b')\n",
    "sns.tsplot(rippPSD[Rcond.as_matrix(),:],time = p.frequencies()[:35],color='b',err_style=\"ci_bars\", interpolate=False)\n",
    "sns.tsplot(rippPSD[Gcond.as_matrix(),:],time = p.frequencies()[:35],color='r')\n",
    "sns.tsplot(rippPSD[Gcond.as_matrix(),:],time = p.frequencies()[:35],color='r',err_style=\"ci_bars\", interpolate=False)"
   ]
  },
  {
   "cell_type": "code",
   "execution_count": 70,
   "metadata": {
    "collapsed": false
   },
   "outputs": [
    {
     "name": "stderr",
     "output_type": "stream",
     "text": [
      "/home/chenani/anaconda/lib/python2.7/site-packages/matplotlib/__init__.py:892: UserWarning: axes.color_cycle is deprecated and replaced with axes.prop_cycle; please use the latter.\n",
      "  warnings.warn(self.msg_depr % (key, alt_key))\n"
     ]
    },
    {
     "data": {
      "text/plain": [
       "<matplotlib.axes._subplots.AxesSubplot at 0x7f3a1d3d5950>"
      ]
     },
     "execution_count": 70,
     "metadata": {},
     "output_type": "execute_result"
    }
   ],
   "source": [
    "pl.figure()\n",
    "sns.tsplot(ss[Rcond.as_matrix(),:],time = np.arange(-50,50,0.5),c='b')\n",
    "#sns.tsplot(ss[Rcond.as_matrix(),:],time = np.arange(-50,50,0.5),c='b',err_style=\"ci_bars\", interpolate=False)\n",
    "sns.tsplot(ss[Gcond.as_matrix(),:],time = np.arange(-50,50,0.5),c='r')\n",
    "#sns.tsplot(ss[Gcond.as_matrix(),:],time = np.arange(-50,50,0.5),c='r',err_style=\"ci_bars\", interpolate=False)"
   ]
  },
  {
   "cell_type": "code",
   "execution_count": 49,
   "metadata": {
    "collapsed": false
   },
   "outputs": [
    {
     "data": {
      "text/plain": [
       "array([ 2.4397097 ,  2.08643027,  1.90360464,  1.69197734,  0.54431374,\n",
       "       -0.29793649,  0.6502905 ,  0.8892712 ,  0.94758677,  0.3764311 ,\n",
       "       -0.54343547,  0.25632259,  0.60104347,  0.26977032, -1.52393697,\n",
       "       -0.28738658, -0.54081413, -0.84625668, -1.05377043, -0.93884031,\n",
       "       -0.16703589,  0.31818468,  0.45181206,  0.41185459,  0.33045054,\n",
       "        0.17144022, -0.15193115, -0.61699474, -1.08920116, -1.60333675,\n",
       "       -1.28249608, -0.88301805, -0.74573892, -0.77748645, -0.99087749])"
      ]
     },
     "execution_count": 49,
     "metadata": {},
     "output_type": "execute_result"
    }
   ],
   "source": [
    "rippPSD[1,:]"
   ]
  },
  {
   "cell_type": "markdown",
   "metadata": {
    "collapsed": false
   },
   "source": [
    "### Mauro\n",
    "is great"
   ]
  },
  {
   "cell_type": "code",
   "execution_count": 62,
   "metadata": {
    "collapsed": false
   },
   "outputs": [
    {
     "ename": "ValueError",
     "evalue": "total size of new array must be unchanged",
     "output_type": "error",
     "traceback": [
      "\u001b[1;31m---------------------------------------------------------------------------\u001b[0m",
      "\u001b[1;31mValueError\u001b[0m                                Traceback (most recent call last)",
      "\u001b[1;32m<ipython-input-62-6ab355a2ebe8>\u001b[0m in \u001b[0;36m<module>\u001b[1;34m()\u001b[0m\n\u001b[1;32m----> 1\u001b[1;33m \u001b[0mSWRsignal\u001b[0m\u001b[1;33m.\u001b[0m\u001b[0mflatten\u001b[0m\u001b[1;33m(\u001b[0m\u001b[1;33m)\u001b[0m\u001b[1;33m.\u001b[0m\u001b[0mreshape\u001b[0m\u001b[1;33m(\u001b[0m\u001b[0mSWRsignal\u001b[0m\u001b[1;33m.\u001b[0m\u001b[0msize\u001b[0m\u001b[1;33m/\u001b[0m\u001b[1;36m200\u001b[0m\u001b[1;33m,\u001b[0m\u001b[1;36m200\u001b[0m\u001b[1;33m)\u001b[0m\u001b[1;33m\u001b[0m\u001b[0m\n\u001b[0m",
      "\u001b[1;31mValueError\u001b[0m: total size of new array must be unchanged"
     ]
    }
   ],
   "source": [
    "SWRsignal.flatten().reshape(SWRsignal.size/200,200)"
   ]
  },
  {
   "cell_type": "code",
   "execution_count": 67,
   "metadata": {
    "collapsed": false
   },
   "outputs": [],
   "source": [
    "ss = []\n",
    "for iii,item in enumerate(SWRsignal):\n",
    "    if item.size < 200:\n",
    "        SWRsignal[iii] = np.append(item,np.zeros(200 - item.size))\n",
    "        print iii\n",
    "    ss.append(item)"
   ]
  },
  {
   "cell_type": "code",
   "execution_count": 69,
   "metadata": {
    "collapsed": false
   },
   "outputs": [],
   "source": [
    "ss = np.array(ss)"
   ]
  },
  {
   "cell_type": "code",
   "execution_count": null,
   "metadata": {
    "collapsed": true
   },
   "outputs": [],
   "source": []
  }
 ],
 "metadata": {
  "kernelspec": {
   "display_name": "Python 2",
   "language": "python",
   "name": "python2"
  },
  "language_info": {
   "codemirror_mode": {
    "name": "ipython",
    "version": 2
   },
   "file_extension": ".py",
   "mimetype": "text/x-python",
   "name": "python",
   "nbconvert_exporter": "python",
   "pygments_lexer": "ipython2",
   "version": "2.7.12"
  }
 },
 "nbformat": 4,
 "nbformat_minor": 0
}
