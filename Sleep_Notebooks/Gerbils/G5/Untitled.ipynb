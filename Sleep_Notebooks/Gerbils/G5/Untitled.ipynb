{
 "cells": [
  {
   "cell_type": "code",
   "execution_count": 1,
   "metadata": {
    "collapsed": false
   },
   "outputs": [
    {
     "name": "stdout",
     "output_type": "stream",
     "text": [
      "Using matplotlib backend: Qt4Agg\n"
     ]
    }
   ],
   "source": [
    "%matplotlib \n",
    "%load_ext autoreload\n",
    "%autoreload 2"
   ]
  },
  {
   "cell_type": "code",
   "execution_count": 2,
   "metadata": {
    "collapsed": true
   },
   "outputs": [],
   "source": [
    "import sys\n",
    "sys.path.append('/mnt/Data/Workspaces/Eclipse/dataAnalysis/Sleep-current/src/')"
   ]
  },
  {
   "cell_type": "code",
   "execution_count": 3,
   "metadata": {
    "collapsed": false
   },
   "outputs": [
    {
     "name": "stderr",
     "output_type": "stream",
     "text": [
      "/home/chenani/anaconda/lib/python2.7/site-packages/matplotlib/__init__.py:1350: UserWarning:  This call to matplotlib.use() has no effect\n",
      "because the backend has already been chosen;\n",
      "matplotlib.use() must be called *before* pylab, matplotlib.pyplot,\n",
      "or matplotlib.backends is imported for the first time.\n",
      "\n",
      "  warnings.warn(_use_error_msg)\n",
      "/home/chenani/anaconda/lib/python2.7/site-packages/statsmodels/compat/pandas.py:56: FutureWarning: The pandas.core.datetools module is deprecated and will be removed in a future version. Please use the pandas.tseries module instead.\n",
      "  from pandas.core import datetools\n",
      "/home/chenani/anaconda/lib/python2.7/site-packages/IPython/html.py:14: ShimWarning: The `IPython.html` package has been deprecated. You should import from `notebook` instead. `IPython.html.widgets` has moved to `ipywidgets`.\n",
      "  \"`IPython.html.widgets` has moved to `ipywidgets`.\", ShimWarning)\n"
     ]
    }
   ],
   "source": [
    "import matplotlib as mpl\n",
    "import matplotlib.pyplot as pl\n",
    "import numpy as np\n",
    "import pandas as pd\n",
    "import scipy.signal as scsig\n",
    "import spectrum as sp\n",
    "import signale\n",
    "import cPickle as pkl\n",
    "import time\n",
    "import statsmodels.api as sm\n",
    "import colormaps as cm\n",
    "import seaborn as sns"
   ]
  },
  {
   "cell_type": "code",
   "execution_count": 4,
   "metadata": {
    "collapsed": false
   },
   "outputs": [],
   "source": [
    "def whitenARMA(sig,AR=2,MA=0):\n",
    "        arma = sm.tsa.ARMA(sig, (AR,MA)).fit(disp=0)\n",
    "        print 'ARMA parameters calculated for order(%s,%s)' %(AR,MA)\n",
    "        return arma.resid\n",
    "def MA(array,ord=2):\n",
    "    ma = np.array([array[ii-ord/2:ii+ord/2].mean() for ii in range(array.size) if ii >= ord ],dtype=float)\n",
    "    ma = np.insert(ma,0,array[0:ord/2])\n",
    "    ma = np.append(ma,array[-(ord/2)-1:-1])\n",
    "    return ma\n",
    "def zScore(array):\n",
    "    return(array - np.average(array))/ np.std(array)"
   ]
  },
  {
   "cell_type": "code",
   "execution_count": 5,
   "metadata": {
    "collapsed": true
   },
   "outputs": [],
   "source": [
    "cscPath = '/mnt/Data/ephysdata/Gerbils/G5/CSC1.ncs'\n",
    "lfpPath =  '/home/chenani/dataWork/ali/Gerbils/gerbil5/2011-08-05/sleep2/CSC1.lfp'\n",
    "trajPath =  '/home/chenani/dataWork/ali/Gerbils/gerbil6/CA1/2011-09-23/begin1/VT1.nvt'"
   ]
  },
  {
   "cell_type": "code",
   "execution_count": 6,
   "metadata": {
    "collapsed": false
   },
   "outputs": [],
   "source": [
    "lfp = pkl.load(open(lfpPath,'rb'))\n",
    "lfp.theta_delta_ratio(whiten=True)\n",
    "lfp.REM_detector(peakTresh=3)"
   ]
  },
  {
   "cell_type": "code",
   "execution_count": 7,
   "metadata": {
    "collapsed": false
   },
   "outputs": [
    {
     "data": {
      "text/plain": [
       "<matplotlib.patches.Polygon at 0x7f87b99a8a10>"
      ]
     },
     "execution_count": 7,
     "metadata": {},
     "output_type": "execute_result"
    }
   ],
   "source": [
    "Pxx, freqs, t = lfp.spectrogram(minFreq=.1,maxFreq=20,overlap=1024,windowSize=2048,whiten=True)\n",
    "colPeaks = []\n",
    "scndPeak = []\n",
    "trdPeak = []\n",
    "BandAvg = []\n",
    "for col in range(Pxx.shape[1]):\n",
    "    Pxx[:,col] = np.convolve(Pxx[:,col],scsig.gaussian(10,3),'same')\n",
    "    BandAvg.append(np.array([np.average(Pxx[:,col][0:15]),np.average(Pxx[:,col][16:31]),np.average(Pxx[:,col][32:])]))\n",
    "for row in range(Pxx.shape[0]):\n",
    "    Pxx[row,:] = np.convolve(Pxx[row,:],scsig.gaussian(20,10),'same')\n",
    "Pxx = np.clip(Pxx,0,Pxx.mean()+3*Pxx.std())\n",
    "fig,ax = pl.subplots(1,1,figsize=[20,10])\n",
    "im = ax.pcolormesh(t,freqs,Pxx,cmap=cm.viridis)\n",
    "ax.axhline(5,c='w',lw=0.5)\n",
    "ax.set_xlim(0,t[0,-1])\n",
    "ax.plot(lfp.th_del_ratio[0],lfp.th_del_ratio[1],lw=0.5,c='w')\n",
    "#ax.plot(t[0,:],fstPeak,lw=0.5,c='r')\n",
    "#ax.plot(t[0,:],scndPeak,lw=0.5,c='g')\n",
    "#ax.scatter(t[0,:],fstPeak,c='w',s=2)\n",
    "ax.axhline(lfp.th_del_ratio[1].mean()+lfp.th_del_ratio[1].std(),lw=0.5,c='r')\n",
    "Draw = np.array(BandAvg)[:,0]\n",
    "Traw = np.array(BandAvg)[:,1]\n",
    "Graw = np.array(BandAvg)[:,2]\n",
    "Dz = (Draw - Draw.mean())/Draw.std()\n",
    "Tz = (Traw - Traw.mean())/Traw.std()\n",
    "Gz = (Graw - Graw.mean())/Graw.std()\n",
    "ax.plot(t[0,:],zScore(np.convolve(Dz,scsig.gaussian(20,10),'same'))-zScore(np.convolve(Tz,scsig.gaussian(20,10),'same')),'b')\n",
    "ax.axhspan(-1,1,alpha=0.1,color='r')"
   ]
  },
  {
   "cell_type": "code",
   "execution_count": 278,
   "metadata": {
    "collapsed": false
   },
   "outputs": [
    {
     "data": {
      "text/plain": [
       "<matplotlib.text.Text at 0x7f785c585c10>"
      ]
     },
     "execution_count": 278,
     "metadata": {},
     "output_type": "execute_result"
    }
   ],
   "source": [
    "fig = pl.figure()\n",
    "ax = fig.gca(projection='3d')\n",
    "for item in colPeaks:\n",
    "    if item[0] <9 and item[0] > 4.01 and item.size>2:\n",
    "        ax.scatter(item[0]- np.random.rand(1),item[1]- np.random.rand(1),item[2]- np.random.rand(1),c='r')\n",
    "    if item[0] <5 and item.size>2:    \n",
    "        ax.scatter(item[0]- np.random.rand(1),item[1]- np.random.rand(1),item[2]- np.random.rand(1),c='g')\n",
    "ax.set_xlabel('First')\n",
    "ax.set_ylabel('2nd')\n",
    "ax.set_zlabel('3rd')"
   ]
  },
  {
   "cell_type": "code",
   "execution_count": 272,
   "metadata": {
    "collapsed": false
   },
   "outputs": [],
   "source": [
    "for item in colPeaks:\n",
    "    if item.size ==3:\n",
    "        pl.scatter(item[0]- np.random.rand(1),item[1] + np.random.rand(1),c='r',alpha=0.5)\n",
    "    if item.size ==2:\n",
    "        pl.scatter(item[0]- np.random.rand(1),item[1]+ np.random.rand(1),c='g',alpha=0.5)\n",
    "    if item.size ==5:\n",
    "        pl.scatter(item[0]- np.random.rand(1),item[1]+ np.random.rand(1),c='m',alpha=0.5)\n",
    "    if item.size ==4:\n",
    "        pl.scatter(item[0]- np.random.rand(1),item[1]+ np.random.rand(1),c='k',alpha=0.5)"
   ]
  },
  {
   "cell_type": "code",
   "execution_count": 275,
   "metadata": {
    "collapsed": false
   },
   "outputs": [
    {
     "data": {
      "text/plain": [
       "<mpl_toolkits.mplot3d.art3d.Path3DCollection at 0x7f785f470450>"
      ]
     },
     "execution_count": 275,
     "metadata": {},
     "output_type": "execute_result"
    }
   ],
   "source": [
    "from mpl_toolkits.mplot3d import Axes3D\n",
    "fig = pl.figure()\n",
    "ax = fig.gca(projection='3d')\n",
    "#ax.plot_surface(t,freqs,Pxx, cstride=1, cmap=mpl.cm.coolwarm,\n",
    "#                       linewidth=0, antialiased=False)\n",
    "ax.scatter(fstPeak+np.random.rand(len(fstPeak)),scndPeak+np.random.rand(len(fstPeak)),trdPeak+np.random.rand(len(fstPeak)))"
   ]
  },
  {
   "cell_type": "code",
   "execution_count": 246,
   "metadata": {
    "collapsed": false
   },
   "outputs": [
    {
     "data": {
      "text/plain": [
       "[<matplotlib.lines.Line2D at 0x7f7866321f50>]"
      ]
     },
     "execution_count": 246,
     "metadata": {},
     "output_type": "execute_result"
    }
   ],
   "source": [
    "for iii,item in enumerate(fstPeak):\n",
    "    if item < 5:\n",
    "        pl.axvspan(t[0,iii],t[0,iii]+500,alpha=0.5,color='g')\n",
    "    elif item <10:\n",
    "        if not np.isnan(scndPeak[iii]):\n",
    "            if scndPeak[iii] < 5:\n",
    "                pl.axvspan(t[0,iii],t[0,iii]+500,alpha=0.5,color='g')\n",
    "            else:\n",
    "                pl.axvspan(t[0,iii],t[0,iii]+500,alpha=0.5,color='r')\n",
    "    elif not np.isnan(scndPeak[iii]):\n",
    "        if scndPeak[iii] < 5:\n",
    "            pl.axvspan(t[0,iii],t[0,iii]+500,alpha=0.5,color='g')\n",
    "        elif scndPeak[iii] < 10:\n",
    "            pl.axvspan(t[0,iii],t[0,iii]+500,alpha=0.5,color='r')\n",
    "        else:\n",
    "            pl.axvspan(t[0,iii],t[0,iii]+500,alpha=0.5,color='k')\n",
    "    else:\n",
    "        pl.axvspan(t[0,iii],t[0,iii]+500,alpha=0.5,color='k')\n",
    "pl.plot(t[0,:],fstPeak,'w')"
   ]
  },
  {
   "cell_type": "code",
   "execution_count": 28,
   "metadata": {
    "collapsed": false
   },
   "outputs": [
    {
     "data": {
      "text/plain": [
       "<matplotlib.lines.Line2D at 0x7f787fccdcd0>"
      ]
     },
     "execution_count": 28,
     "metadata": {},
     "output_type": "execute_result"
    }
   ],
   "source": [
    "\n",
    "sns.kdeplot(lfp.th_del_ratio[1]);\n",
    "pl.yscale('log')\n",
    "pl.xscale('log')\n",
    "pl.axvline(lfp.th_del_ratio[1].mean())"
   ]
  },
  {
   "cell_type": "code",
   "execution_count": 355,
   "metadata": {
    "collapsed": false
   },
   "outputs": [
    {
     "name": "stdout",
     "output_type": "stream",
     "text": [
      "for AR(1): \n",
      " time for whitening: 0.532609939575 \n",
      " time for PSD estimation: 0.0906322002411 \n",
      " time for plotting 0.0471589565277\n",
      "for AR(2): \n",
      " time for whitening: 2.25619912148 \n",
      " time for PSD estimation: 0.0939049720764 \n",
      " time for plotting 0.0614938735962\n",
      "for AR(3): \n",
      " time for whitening: 5.60937690735 \n",
      " time for PSD estimation: 0.0667719841003 \n",
      " time for plotting 0.0589051246643\n"
     ]
    }
   ],
   "source": [
    "f,ax = pl.subplots(2,3,figsize=[20,10])\n",
    "wt=[]\n",
    "l = lfp.signal.size\n",
    "dsig = scsig.decimate(lfp.signal[sigSlice],2)\n",
    "for iii in range(1,4):\n",
    "    t0 = time.time()\n",
    "    arma = sm.tsa.ARMA(dsig,(iii,0)).fit(disp=0)\n",
    "    t1 = time.time()\n",
    "    p = sp.Periodogram(dsig,sampling=1000,NFFT=2**15)\n",
    "    p();\n",
    "    residPSD = sp.Periodogram(arma.resid,sampling=1000,NFFT=2**15)\n",
    "    residPSD()\n",
    "    t2 = time.time()\n",
    "    ##########################################################################\n",
    "    Nfreqz = p.psd.size\n",
    "    smoothingKernel = scsig.gaussian(Nfreqz/200,Nfreqz/400)\n",
    "    psdSmooth = np.convolve(p.psd,smoothingKernel,'same')\n",
    "    residPSDSmooth = np.convolve(residPSD.psd,smoothingKernel,'same')\n",
    "    psdSmooth = (psdSmooth)/psdSmooth.std()\n",
    "    residPSDSmooth = (residPSDSmooth)/residPSDSmooth.std()\n",
    "    ###########################################################################\n",
    "    ax[(iii-1)/3,np.mod((iii-1),3)].set_yscale('log')\n",
    "    ax[(iii-1)/3,np.mod((iii-1),3)].plot(p.frequencies(),psdSmooth,lw=0.7)\n",
    "    ax[(iii-1)/3,np.mod((iii-1),3)].plot(residPSD.frequencies(),residPSDSmooth,lw=0.7)\n",
    "    t3 = time.time()\n",
    "    wt.append(t1-t0)\n",
    "    print \"for AR(%s): \\n time for whitening: %s \\n time for PSD estimation: %s \\n time for plotting %s\" %(iii,t1-t0,t2-t1,t3-t2)"
   ]
  },
  {
   "cell_type": "code",
   "execution_count": 334,
   "metadata": {
    "collapsed": false
   },
   "outputs": [
    {
     "data": {
      "text/plain": [
       "<matplotlib.collections.QuadMesh at 0x7f78523959d0>"
      ]
     },
     "execution_count": 334,
     "metadata": {},
     "output_type": "execute_result"
    }
   ],
   "source": [
    "Draw = np.array(BandAvg)[:,0]\n",
    "Traw = np.array(BandAvg)[:,1]\n",
    "Graw = np.array(BandAvg)[:,2]\n",
    "Dz = (Draw - Draw.mean())/Draw.std()\n",
    "Tz = (Traw Tz = (Traw - Traw.mean())/Traw.std()\n",
    "- Traw.mean())/Traw.std()\n",
    "Gz = (Graw - Graw.mean())/Graw.std()\n",
    "pl.plot(t[0,:],zScore(np.convolve(Dz,scsig.gaussian(20,10),'same'))-zScore(np.convolve(Tz,scsig.gaussian(20,10),'same')),'b')\n",
    "pl.axhspan(-1,1,alpha=0.1,color='r')\n",
    "#pl.axhline(15)\n",
    "#pl.plot(t[0,:],zScore(np.convolve(Tz,scsig.gaussian(10,5),'same'))+15,'r')\n",
    "#pl.plot(t[0,:],zScore(np.convolve(Gz,scsig.gaussian(10,5),'same'))+15,'g')\n",
    "pl.pcolormesh(t,freqs,Pxx)"
   ]
  },
  {
   "cell_type": "code",
   "execution_count": 29,
   "metadata": {
    "collapsed": false
   },
   "outputs": [
    {
     "data": {
      "text/plain": [
       "[<matplotlib.lines.Line2D at 0x7f788426cf90>]"
      ]
     },
     "execution_count": 29,
     "metadata": {},
     "output_type": "execute_result"
    }
   ],
   "source": [
    "l = lfp.signal.size\n",
    "ss = sp.Periodogram(lfp.signal[l/2:l/2+2**18],sampling=2000)\n",
    "ss();\n",
    "pl.yscale('log')\n",
    "smoothingKernel = scsig.gaussian(ss.psd.size/100,ss.psd.size/200)\n",
    "psdSmooth = np.convolve(ss.psd,smoothingKernel,'same')\n",
    "pl.plot(ss.frequencies(),psdSmooth)"
   ]
  },
  {
   "cell_type": "code",
   "execution_count": 7,
   "metadata": {
    "collapsed": false
   },
   "outputs": [
    {
     "ename": "ValueError",
     "evalue": "The computed initial MA coefficients are not invertible\nYou should induce invertibility, choose a different model order, or you can\npass your own start_params.",
     "output_type": "error",
     "traceback": [
      "\u001b[1;31m---------------------------------------------------------------------------\u001b[0m",
      "\u001b[1;31mValueError\u001b[0m                                Traceback (most recent call last)",
      "\u001b[1;32m<ipython-input-7-050050a2ef8f>\u001b[0m in \u001b[0;36m<module>\u001b[1;34m()\u001b[0m\n\u001b[0;32m      3\u001b[0m \u001b[1;32mfor\u001b[0m \u001b[0miii\u001b[0m \u001b[1;32min\u001b[0m \u001b[0mrange\u001b[0m\u001b[1;33m(\u001b[0m\u001b[1;36m1\u001b[0m\u001b[1;33m,\u001b[0m\u001b[1;36m10\u001b[0m\u001b[1;33m)\u001b[0m\u001b[1;33m:\u001b[0m\u001b[1;33m\u001b[0m\u001b[0m\n\u001b[0;32m      4\u001b[0m     \u001b[0mt0\u001b[0m \u001b[1;33m=\u001b[0m \u001b[0mtime\u001b[0m\u001b[1;33m.\u001b[0m\u001b[0mtime\u001b[0m\u001b[1;33m(\u001b[0m\u001b[1;33m)\u001b[0m\u001b[1;33m\u001b[0m\u001b[0m\n\u001b[1;32m----> 5\u001b[1;33m     \u001b[0mlfp\u001b[0m\u001b[1;33m.\u001b[0m\u001b[0mwhitenARMA\u001b[0m\u001b[1;33m(\u001b[0m\u001b[0mAR\u001b[0m\u001b[1;33m=\u001b[0m\u001b[1;36m1\u001b[0m\u001b[1;33m,\u001b[0m\u001b[0mMA\u001b[0m\u001b[1;33m=\u001b[0m\u001b[0miii\u001b[0m\u001b[1;33m)\u001b[0m\u001b[1;33m\u001b[0m\u001b[0m\n\u001b[0m\u001b[0;32m      6\u001b[0m     \u001b[0mt1\u001b[0m \u001b[1;33m=\u001b[0m \u001b[0mtime\u001b[0m\u001b[1;33m.\u001b[0m\u001b[0mtime\u001b[0m\u001b[1;33m(\u001b[0m\u001b[1;33m)\u001b[0m\u001b[1;33m\u001b[0m\u001b[0m\n\u001b[0;32m      7\u001b[0m     \u001b[0mdsig\u001b[0m \u001b[1;33m=\u001b[0m \u001b[0mscsig\u001b[0m\u001b[1;33m.\u001b[0m\u001b[0mdecimate\u001b[0m\u001b[1;33m(\u001b[0m\u001b[0mlfp\u001b[0m\u001b[1;33m.\u001b[0m\u001b[0msignal_white\u001b[0m\u001b[1;33m,\u001b[0m\u001b[1;36m2\u001b[0m\u001b[1;33m)\u001b[0m\u001b[1;33m\u001b[0m\u001b[0m\n",
      "\u001b[1;32m/mnt/Data/Workspaces/Eclipse/dataAnalysis/Sleep-current/src/signale/cscs.pyc\u001b[0m in \u001b[0;36mwhitenARMA\u001b[1;34m(self, AR, MA)\u001b[0m\n\u001b[0;32m    271\u001b[0m             \u001b[0msignal\u001b[0m \u001b[0myou\u001b[0m \u001b[0mneed\u001b[0m \u001b[0mto\u001b[0m \u001b[0mcall\u001b[0m \u001b[0mthis\u001b[0m \u001b[0mfunction\u001b[0m \u001b[0monce\u001b[0m \u001b[0mmore\u001b[0m \u001b[0mafter\u001b[0m \u001b[0mfilteration\u001b[0m\u001b[0;31m!\u001b[0m\u001b[0;31m'\u001b[0m\u001b[1;33m\u001b[0m\u001b[0m\n\u001b[0;32m    272\u001b[0m     \u001b[1;32mdef\u001b[0m \u001b[0mwhitenARMA\u001b[0m\u001b[1;33m(\u001b[0m\u001b[0mself\u001b[0m\u001b[1;33m,\u001b[0m\u001b[0mAR\u001b[0m\u001b[1;33m=\u001b[0m\u001b[1;36m2\u001b[0m\u001b[1;33m,\u001b[0m\u001b[0mMA\u001b[0m\u001b[1;33m=\u001b[0m\u001b[1;36m0\u001b[0m\u001b[1;33m)\u001b[0m\u001b[1;33m:\u001b[0m\u001b[1;33m\u001b[0m\u001b[0m\n\u001b[1;32m--> 273\u001b[1;33m         \u001b[0marma\u001b[0m \u001b[1;33m=\u001b[0m \u001b[0msm\u001b[0m\u001b[1;33m.\u001b[0m\u001b[0mtsa\u001b[0m\u001b[1;33m.\u001b[0m\u001b[0mARMA\u001b[0m\u001b[1;33m(\u001b[0m\u001b[0mself\u001b[0m\u001b[1;33m.\u001b[0m\u001b[0msignal\u001b[0m\u001b[1;33m,\u001b[0m \u001b[1;33m(\u001b[0m\u001b[0mAR\u001b[0m\u001b[1;33m,\u001b[0m\u001b[0mMA\u001b[0m\u001b[1;33m)\u001b[0m\u001b[1;33m)\u001b[0m\u001b[1;33m.\u001b[0m\u001b[0mfit\u001b[0m\u001b[1;33m(\u001b[0m\u001b[0mdisp\u001b[0m\u001b[1;33m=\u001b[0m\u001b[1;36m0\u001b[0m\u001b[1;33m)\u001b[0m\u001b[1;33m\u001b[0m\u001b[0m\n\u001b[0m\u001b[0;32m    274\u001b[0m         \u001b[1;32mprint\u001b[0m \u001b[1;34m'ARMA parameters calculated for order(%s,%s)'\u001b[0m \u001b[1;33m%\u001b[0m\u001b[1;33m(\u001b[0m\u001b[0mAR\u001b[0m\u001b[1;33m,\u001b[0m\u001b[0mMA\u001b[0m\u001b[1;33m)\u001b[0m\u001b[1;33m\u001b[0m\u001b[0m\n\u001b[0;32m    275\u001b[0m         \u001b[0mself\u001b[0m\u001b[1;33m.\u001b[0m\u001b[0msignal_white\u001b[0m \u001b[1;33m=\u001b[0m \u001b[0marma\u001b[0m\u001b[1;33m.\u001b[0m\u001b[0mresid\u001b[0m\u001b[1;33m\u001b[0m\u001b[0m\n",
      "\u001b[1;32m/home/chenani/anaconda/lib/python2.7/site-packages/statsmodels/tsa/arima_model.pyc\u001b[0m in \u001b[0;36mfit\u001b[1;34m(self, start_params, trend, method, transparams, solver, maxiter, full_output, disp, callback, **kwargs)\u001b[0m\n\u001b[0;32m    917\u001b[0m \u001b[1;33m\u001b[0m\u001b[0m\n\u001b[0;32m    918\u001b[0m         \u001b[1;32melse\u001b[0m\u001b[1;33m:\u001b[0m  \u001b[1;31m# estimate starting parameters\u001b[0m\u001b[1;33m\u001b[0m\u001b[0m\n\u001b[1;32m--> 919\u001b[1;33m             \u001b[0mstart_params\u001b[0m \u001b[1;33m=\u001b[0m \u001b[0mself\u001b[0m\u001b[1;33m.\u001b[0m\u001b[0m_fit_start_params\u001b[0m\u001b[1;33m(\u001b[0m\u001b[1;33m(\u001b[0m\u001b[0mk_ar\u001b[0m\u001b[1;33m,\u001b[0m \u001b[0mk_ma\u001b[0m\u001b[1;33m,\u001b[0m \u001b[0mk\u001b[0m\u001b[1;33m)\u001b[0m\u001b[1;33m,\u001b[0m \u001b[0mmethod\u001b[0m\u001b[1;33m)\u001b[0m\u001b[1;33m\u001b[0m\u001b[0m\n\u001b[0m\u001b[0;32m    920\u001b[0m \u001b[1;33m\u001b[0m\u001b[0m\n\u001b[0;32m    921\u001b[0m         \u001b[1;32mif\u001b[0m \u001b[0mtransparams\u001b[0m\u001b[1;33m:\u001b[0m  \u001b[1;31m# transform initial parameters to ensure invertibility\u001b[0m\u001b[1;33m\u001b[0m\u001b[0m\n",
      "\u001b[1;32m/home/chenani/anaconda/lib/python2.7/site-packages/statsmodels/tsa/arima_model.pyc\u001b[0m in \u001b[0;36m_fit_start_params\u001b[1;34m(self, order, method)\u001b[0m\n\u001b[0;32m    554\u001b[0m             \u001b[0mfunc\u001b[0m \u001b[1;33m=\u001b[0m \u001b[1;32mlambda\u001b[0m \u001b[0mparams\u001b[0m\u001b[1;33m:\u001b[0m \u001b[1;33m-\u001b[0m\u001b[0mself\u001b[0m\u001b[1;33m.\u001b[0m\u001b[0mloglike_css\u001b[0m\u001b[1;33m(\u001b[0m\u001b[0mparams\u001b[0m\u001b[1;33m)\u001b[0m\u001b[1;33m\u001b[0m\u001b[0m\n\u001b[0;32m    555\u001b[0m             \u001b[1;31m#start_params = [.1]*(k_ar+k_ma+k_exog) # different one for k?\u001b[0m\u001b[1;33m\u001b[0m\u001b[1;33m\u001b[0m\u001b[0m\n\u001b[1;32m--> 556\u001b[1;33m             \u001b[0mstart_params\u001b[0m \u001b[1;33m=\u001b[0m \u001b[0mself\u001b[0m\u001b[1;33m.\u001b[0m\u001b[0m_fit_start_params_hr\u001b[0m\u001b[1;33m(\u001b[0m\u001b[0morder\u001b[0m\u001b[1;33m)\u001b[0m\u001b[1;33m\u001b[0m\u001b[0m\n\u001b[0m\u001b[0;32m    557\u001b[0m             \u001b[1;32mif\u001b[0m \u001b[0mself\u001b[0m\u001b[1;33m.\u001b[0m\u001b[0mtransparams\u001b[0m\u001b[1;33m:\u001b[0m\u001b[1;33m\u001b[0m\u001b[0m\n\u001b[0;32m    558\u001b[0m                 \u001b[0mstart_params\u001b[0m \u001b[1;33m=\u001b[0m \u001b[0mself\u001b[0m\u001b[1;33m.\u001b[0m\u001b[0m_invtransparams\u001b[0m\u001b[1;33m(\u001b[0m\u001b[0mstart_params\u001b[0m\u001b[1;33m)\u001b[0m\u001b[1;33m\u001b[0m\u001b[0m\n",
      "\u001b[1;32m/home/chenani/anaconda/lib/python2.7/site-packages/statsmodels/tsa/arima_model.pyc\u001b[0m in \u001b[0;36m_fit_start_params_hr\u001b[1;34m(self, order)\u001b[0m\n\u001b[0;32m    540\u001b[0m         elif q and not np.all(np.abs(np.roots(np.r_[1, start_params[k + p:]]\n\u001b[0;32m    541\u001b[0m                                               )) < 1):\n\u001b[1;32m--> 542\u001b[1;33m             raise ValueError(\"The computed initial MA coefficients are not \"\n\u001b[0m\u001b[0;32m    543\u001b[0m                              \u001b[1;34m\"invertible\\nYou should induce invertibility, \"\u001b[0m\u001b[1;33m\u001b[0m\u001b[0m\n\u001b[0;32m    544\u001b[0m                              \u001b[1;34m\"choose a different model order, or you can\\n\"\u001b[0m\u001b[1;33m\u001b[0m\u001b[0m\n",
      "\u001b[1;31mValueError\u001b[0m: The computed initial MA coefficients are not invertible\nYou should induce invertibility, choose a different model order, or you can\npass your own start_params."
     ]
    },
    {
     "data": {
      "image/png": "[encoded data removed]",
      "text/plain": [
       "<matplotlib.figure.Figure at 0x7fa2a19fd950>"
      ]
     },
     "metadata": {},
     "output_type": "display_data"
    }
   ],
   "source": [
    "f,ax = pl.subplots(3,3,figsize=[10,10])\n",
    "wt=[]\n",
    "for iii in range(1,10):\n",
    "    t0 = time.time()\n",
    "    lfp.whitenARMA(AR=1,MA=iii)\n",
    "    t1 = time.time()\n",
    "    dsig = scsig.decimate(lfp.signal_white,2)\n",
    "    p = sp.Periodogram(dsig,sampling=1000)\n",
    "    p();\n",
    "    t2 = time.time()\n",
    "    Nfreqz = p.psd.size\n",
    "    smoothingKernel = scsig.gaussian(Nfreqz/100,Nfreqz/200)\n",
    "    psdSmooth = np.convolve(p.psd,smoothingKernel,'same')\n",
    "    ax[(iii-1)/3,np.mod((iii-1),3)].plot(p.frequencies(),psdSmooth)\n",
    "    t3 = time.time()\n",
    "    wt.append(t1-t0)\n",
    "    print \"for AR(%s): \\n time for whitening: %s \\n time for PSD estimation: %s \\n time for plotting %s\" %(iii,t1-t0,t2-t1,t3-t2)"
   ]
  },
  {
   "cell_type": "code",
   "execution_count": null,
   "metadata": {
    "collapsed": true
   },
   "outputs": [],
   "source": [
    "f,ax = pl.subplots(3,3,figsize=[10,10])\n",
    "wt=[]\n",
    "for iii in range(1,10):\n",
    "    t0 = time.time()\n",
    "    lfp.whitenARMA(AR=2,MA=iii)\n",
    "    t1 = time.time()\n",
    "    dsig = scsig.decimate(lfp.signal_white,2)\n",
    "    p = sp.Periodogram(dsig,sampling=1000)\n",
    "    p();\n",
    "    t2 = time.time()\n",
    "    Nfreqz = p.psd.size\n",
    "    smoothingKernel = scsig.gaussian(Nfreqz/100,Nfreqz/200)\n",
    "    psdSmooth = np.convolve(p.psd,smoothingKernel,'same')\n",
    "    ax[(iii-1)/3,np.mod((iii-1),3)].plot(p.frequencies(),psdSmooth)\n",
    "    t3 = time.time()\n",
    "    wt.append(t1-t0)\n",
    "    print \"for AR(%s): \\n time for whitening: %s \\n time for PSD estimation: %s \\n time for plotting %s\" %(iii,t1-t0,t2-t1,t3-t2)"
   ]
  },
  {
   "cell_type": "code",
   "execution_count": null,
   "metadata": {
    "collapsed": false
   },
   "outputs": [],
   "source": [
    "ss = pd.Series(np.sin(range(200))+0.1*np.random.rand(200))\n",
    "test =sm.tsa.ARMA(ss.values, (3,0)).fit()"
   ]
  },
  {
   "cell_type": "code",
   "execution_count": 61,
   "metadata": {
    "collapsed": false
   },
   "outputs": [],
   "source": [
    "lfp.spectrogram(maxFreq=20,display=True);"
   ]
  },
  {
   "cell_type": "code",
   "execution_count": 44,
   "metadata": {
    "collapsed": false
   },
   "outputs": [
    {
     "data": {
      "text/plain": [
       "[<matplotlib.lines.Line2D at 0x7f0eb80c8210>]"
      ]
     },
     "execution_count": 44,
     "metadata": {},
     "output_type": "execute_result"
    },
    {
     "data": {
      "image/png": "[encoded data removed]",
      "text/plain": [
       "<matplotlib.figure.Figure at 0x7f0eb82add10>"
      ]
     },
     "metadata": {},
     "output_type": "display_data"
    }
   ],
   "source": [
    "#pl.plot(test.df_model.real,lw=0.5)\n",
    "pl.plot(ss-test.df_model.real,lw=0.5)"
   ]
  },
  {
   "cell_type": "code",
   "execution_count": 354,
   "metadata": {
    "collapsed": false
   },
   "outputs": [],
   "source": [
    "sigSlice = np.logical_and(lfp.time_axis()>100,lfp.time_axis()<100000)\n"
   ]
  },
  {
   "cell_type": "code",
   "execution_count": 342,
   "metadata": {
    "collapsed": false
   },
   "outputs": [
    {
     "data": {
      "text/plain": [
       "[<matplotlib.lines.Line2D at 0x7f7867d92cd0>]"
      ]
     },
     "execution_count": 342,
     "metadata": {},
     "output_type": "execute_result"
    }
   ],
   "source": [
    "pl.plot(lfp.signal[sigSlice])"
   ]
  },
  {
   "cell_type": "code",
   "execution_count": 124,
   "metadata": {
    "collapsed": false
   },
   "outputs": [
    {
     "data": {
      "text/plain": [
       "<matplotlib.lines.Line2D at 0x7f30dcd60050>"
      ]
     },
     "execution_count": 124,
     "metadata": {},
     "output_type": "execute_result"
    },
    {
     "data": {
      "image/png": "[encoded data removed]",
      "text/plain": [
       "<matplotlib.figure.Figure at 0x7f30dcd60710>"
      ]
     },
     "metadata": {},
     "output_type": "display_data"
    }
   ],
   "source": []
  },
  {
   "cell_type": "code",
   "execution_count": 47,
   "metadata": {
    "collapsed": true
   },
   "outputs": [],
   "source": [
    "%psource signale.NeuralynxCSC.REM_detector"
   ]
  },
  {
   "cell_type": "code",
   "execution_count": 252,
   "metadata": {
    "collapsed": false
   },
   "outputs": [],
   "source": [
    "X = np.arange(-5, 5, 0.25)\n",
    "Y = np.arange(-5, 5, 0.25)\n",
    "X, Y = np.meshgrid(X, Y)"
   ]
  },
  {
   "cell_type": "code",
   "execution_count": 259,
   "metadata": {
    "collapsed": false
   },
   "outputs": [],
   "source": [
    "R = np.sqrt(t**2+freqs**2)"
   ]
  },
  {
   "cell_type": "code",
   "execution_count": 263,
   "metadata": {
    "collapsed": false
   },
   "outputs": [
    {
     "data": {
      "text/plain": [
       "<mpl_toolkits.mplot3d.art3d.Poly3DCollection at 0x7f786755e190>"
      ]
     },
     "execution_count": 263,
     "metadata": {},
     "output_type": "execute_result"
    }
   ],
   "source": [
    "fig = pl.figure()\n",
    "ax = fig.gca(projection='3d')\n",
    "ax.plot_surface(t,freqs,Pxx)"
   ]
  },
  {
   "cell_type": "code",
   "execution_count": 8,
   "metadata": {
    "collapsed": false
   },
   "outputs": [],
   "source": [
    "\n",
    "def nvt_loader(filename):\n",
    "    \"\"\" \n",
    "    Memory map the Neuralynx .nvt format\n",
    "    Fields\n",
    "    -------\n",
    "    swstx\n",
    "    swid\n",
    "    sw_data_size\n",
    "    qTimeStamps       Cheetah timestamp for this record. This value is in microseconds.\n",
    "    dwpoints          Points with the color bitfield values for this record.This is a 400\n",
    "                      element array.  See Video Tracker in reference. \n",
    "    sncrc\n",
    "    dnextracted_x     Extracted X location of the target being tracked. \n",
    "    dnextracted_y     Extracted Y location of the target being tracked.\n",
    "    dnextracted_angle The calculated head angle in degrees clockwise from the positive Y\n",
    "                      axis. Zero will be assigned if angle tracking is disabled.\n",
    "    dnTargets         Colored targets using the samebitfield format used by the dwPoints array.\n",
    "                      Instead of transitions, the bitfield indicates the colors that make up \n",
    "                      each particular target and the center point of that target.  This is a 50\n",
    "                      element array sorted by size from largest (index 0) to smallest(index 49).\n",
    "                      A target value of 0 means that no target is present in thatindex location.\n",
    "                      See Video Tracker Bitfield Information in reference. \n",
    "    \n",
    "    Reference:\n",
    "    ----------\n",
    "        http://neuralynx.com/software/NeuralynxDataFileFormats.pdf\n",
    "    \"\"\" \n",
    "    nev_dtype = np.dtype([\n",
    "        ('swstx'              , '<i2'),\n",
    "        ('swid'               , '<i2'),\n",
    "        ('sw_data_size'       , '<i2'),\n",
    "        ('qTimeStamps'        , '<u8'),\n",
    "        ('dwPoints'           , '<u4',(400,)),\n",
    "        ('sncrc'              , '<i2'),\n",
    "        ('dnextracted_x'      , '<i4'),\n",
    "        ('dnextracted_y'      , '<i4'),\n",
    "        ('dnextracted_angle'  , '<i4'),\n",
    "        ('dnTargets'          , '<i4',(50,)),\n",
    "    ])\n",
    "    return np.memmap(filename, dtype=nev_dtype, mode='readwrite',\n",
    "       offset=(16 * 2**10))"
   ]
  },
  {
   "cell_type": "code",
   "execution_count": null,
   "metadata": {
    "collapsed": false
   },
   "outputs": [],
   "source": []
  },
  {
   "cell_type": "code",
   "execution_count": 47,
   "metadata": {
    "collapsed": true
   },
   "outputs": [],
   "source": [
    "tt = np.array(nvt_loader(trajPath)['qTimeStamps'])\n",
    "xx = np.array(nvt_loader(trajPath)['dnextracted_x'])\n",
    "yy = np.array(nvt_loader(trajPath)['dnextracted_y'])"
   ]
  },
  {
   "cell_type": "code",
   "execution_count": 46,
   "metadata": {
    "collapsed": false
   },
   "outputs": [],
   "source": [
    "trajPath = '/home/chenani/dataWork/ali/Gerbils/gerbil5/2011-08-14/sleep3/VT1.nvt'"
   ]
  },
  {
   "cell_type": "code",
   "execution_count": 48,
   "metadata": {
    "collapsed": false
   },
   "outputs": [
    {
     "data": {
      "text/plain": [
       "[<matplotlib.lines.Line2D at 0x7f25e0ee6550>]"
      ]
     },
     "execution_count": 48,
     "metadata": {},
     "output_type": "execute_result"
    }
   ],
   "source": [
    "pl.plot(tt,xx)"
   ]
  },
  {
   "cell_type": "code",
   "execution_count": null,
   "metadata": {
    "collapsed": true
   },
   "outputs": [],
   "source": []
  }
 ],
 "metadata": {
  "kernelspec": {
   "display_name": "Python 2",
   "language": "python",
   "name": "python2"
  },
  "language_info": {
   "codemirror_mode": {
    "name": "ipython",
    "version": 2
   },
   "file_extension": ".py",
   "mimetype": "text/x-python",
   "name": "python",
   "nbconvert_exporter": "python",
   "pygments_lexer": "ipython2",
   "version": "2.7.12"
  }
 },
 "nbformat": 4,
 "nbformat_minor": 0
}
