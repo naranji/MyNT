{
 "metadata": {
  "name": "",
  "signature": "sha256:9c441f38668b4987a8fa5c26b5fee8d51123838cb6b8167a1792c71f1e2c87c3"
 },
 "nbformat": 3,
 "nbformat_minor": 0,
 "worksheets": [
  {
   "cells": [
    {
     "cell_type": "code",
     "collapsed": false,
     "input": [
      "cd /mnt/Data/Workspaces/Eclipse/dataAnalysis/Sleep-current/src/"
     ],
     "language": "python",
     "metadata": {},
     "outputs": [
      {
       "output_type": "stream",
       "stream": "stdout",
       "text": [
        "/mnt/Data/Workspaces/Eclipse/dataAnalysis/Sleep-current/src\n"
       ]
      }
     ],
     "prompt_number": 1
    },
    {
     "cell_type": "code",
     "collapsed": false,
     "input": [
      "colors = ['#0000FF','#FF0000','#008000','#BF00BF','#000000','#00FFFF','#EE82EE',\n",
      "          '#808000','#800080','#FF6347','#FFFF00','#9ACD32','#4B0082',\n",
      "          '#FFFACD','#C0C0C0','#A0522D','#FA8072','#FFEFD5','#E6E6FA',\n",
      "          '#F1FAC1','#C5C5C5','#FF00FF','#A152ED','#FADD72','#F0EFD0','#EEE6FF',\n",
      "          '#01FAC1','#F5F5F5','#A152FF','#FAFD72','#F0EFDF','#EEEFFF',\n",
      "          '#F1FA99','#C9C9C9','#A152DD','#FA5572','#FFFFD0','#EDD6FF']\n",
      "clrst = ['#6CCECB','#F9E559','#EF7126','#8EDC9D','#473E3F',\n",
      "         '#336699','#E39910','#9C691E','#FA220A','#168282','#02111A','#218C8D','#A37B45','#86942A','#507642']"
     ],
     "language": "python",
     "metadata": {},
     "outputs": [],
     "prompt_number": 18
    },
    {
     "cell_type": "code",
     "collapsed": false,
     "input": [
      "%matplotlib inline\n",
      "%load_ext autoreload\n",
      "%autoreload 2\n",
      "import numpy as np\n",
      "import matplotlib.pyplot as pl\n",
      "import pickle as pkl\n",
      "import Recordings\n",
      "import signale\n",
      "import extras.trees\n",
      "import os\n",
      "import trajectory, custom_plot,extras"
     ],
     "language": "python",
     "metadata": {},
     "outputs": [
      {
       "output_type": "stream",
       "stream": "stdout",
       "text": [
        "The autoreload extension is already loaded. To reload it, use:\n",
        "  %reload_ext autoreload\n"
       ]
      }
     ],
     "prompt_number": 21
    },
    {
     "cell_type": "code",
     "collapsed": false,
     "input": [
      "leftFields = pkl.load(open('/mnt/Data/ephysdata/Gerbils/G5/leftPlaceOrder.arr'))\n",
      "rightFields = pkl.load(open('/mnt/Data/ephysdata/Gerbils/G5/rightPlaceOrder.arr'))\n",
      "animalPath = '/mnt/Data/ephysdata/Gerbils/G5/'\n",
      "cscPath = '/home/chenani/dataWork/ali/Gerbils/gerbil5/2011-08-07/sleep3/'"
     ],
     "language": "python",
     "metadata": {},
     "outputs": [],
     "prompt_number": 4
    },
    {
     "cell_type": "code",
     "collapsed": false,
     "input": [
      "spkList = '/mnt/Data/ephysdata/Gerbils/G5/LinearSleep.spk'"
     ],
     "language": "python",
     "metadata": {},
     "outputs": [],
     "prompt_number": 5
    },
    {
     "cell_type": "code",
     "collapsed": false,
     "input": [
      "###################################################### Parameters\n",
      "expType = 'real'\n",
      "prefix = 'pl'\n",
      "suffix = ''\n",
      "noSpeck = False\n",
      "onlyRunning = True\n",
      "showHeadDir = False\n",
      "saveFigs = True\n",
      "useRecommended = False\n",
      "TTName = '.t'\n",
      "\n",
      "# initialize in order to make them available globally\n",
      "spikes=[]\n",
      "ID=-1\n",
      "stList=signale.spikezugList(t_start=None, t_stop=None, dims=[2])\n",
      "traj = None\n",
      "eventData = None\n",
      "\n",
      "cwd=os.getcwd()\n",
      "\n",
      "\n",
      "###################################################### functions\n",
      "\n",
      "def getTData(folderName):\n",
      "    global spikes, ID, traj, eventData\n",
      "\n",
      "    if os.path.isdir(folderName):\n",
      "        dirList=os.listdir(folderName)\n",
      "        os.chdir(folderName)\n",
      "    else:\n",
      "        dirList = [folderName]\n",
      "\n",
      "    for item in sorted(dirList):\n",
      "        if os.path.isfile(item):\n",
      "            if (TTName.__class__ == list and item in TTName) or\\\n",
      "                    (TTName.__class__ == str and item.endswith(suffix+'.t') and item.startswith(prefix)):\n",
      "                print 'loading', item , 'from folder: '+folderName\n",
      "                spikes = signale.load_tFile(item, showHeader=False)\n",
      "                ID += 1\n",
      "                stList.__setitem__(ID, spikes)\n",
      "                stList.addTags(ID, file=item, dir=folderName)\n",
      "            # real\n",
      "            elif expType == 'real':\n",
      "                if item.endswith('.nvt'):   ## or item.endswith('2.ncs'):\n",
      "                    print 'loading', item , 'from folder: '+folderName\n",
      "                    loadedSomething = True\n",
      "                    traj = trajectory.load_nvtFile(item, 'linearMaze', showHeader=False)\n",
      "                    HDtraj = traj[1]        # head direction\n",
      "                    traj = traj[0]          # trajectory\n",
      "            # vr\n",
      "            elif expType == 'vr':\n",
      "                if item.endswith('.nev'):\n",
      "                    print 'loading', item , 'from folder: '+folderName\n",
      "                    eventData = signale.load_nevFile(item, showHeader=False)\n",
      "                elif item.endswith('.traj') and item.find('position')+1\\\n",
      "                 and not item.find('collisions_position')+1 and not item.find('rewardsVisited_position')+1:\n",
      "                    print 'loading', item , 'from folder: '+folderName\n",
      "                    if item.startswith('linearMaze'):\n",
      "                        traj = trajectory.load_trajectory(item, showHeader=False)\n",
      "                    else:\n",
      "                        traj = trajectory.load_trajectory(item, showHeader=False)\n",
      "        elif os.path.isdir(item):\n",
      "            getData(item)\n",
      "    os.chdir('..')\n"
     ],
     "language": "python",
     "metadata": {},
     "outputs": [],
     "prompt_number": 6
    },
    {
     "cell_type": "code",
     "collapsed": false,
     "input": [
      "# parameters\n",
      "lang='e'\n",
      "color1='g'\n",
      "color2='k'\n",
      "showFigs=True\n",
      "saveFigs=True\n",
      "saveAna=True\n",
      "onlyWithTTData=False\n",
      "useRecommended = False\n",
      "excludeCSCs = []\n",
      "\n",
      "\n",
      "#################Make a help flag for the script!!!\n",
      "#\n",
      "####################################################\n",
      "\n",
      "\n",
      "# initialize in order to make them globally available\n",
      "cscID = -1\n",
      "cscList = signale.NeuralynxCSCList()\n",
      "\n",
      "loadedSomething = False\n",
      "cwd = os.getcwd()\n",
      "\n",
      "\n",
      "\n",
      "if useRecommended:\n",
      "    if os.path.isfile(folderName+'metadata.dat'):\n",
      "        print 'Loading metadata:'\n",
      "        metadata = signale._read_metadata(folderName+'metadata.dat', showHeader=True)\n",
      "        if metadata.has_key('excludeCSCs'):\n",
      "            exec 'excludeCSCs =' + metadata['excludeCSCs']\n",
      "            print 'Excluding csc data listed in metadata.dat! CSCs:', excludeCSCs\n",
      "        print\n",
      "    else:\n",
      "        print 'NOTE: There is no metadata.dat. Proceeding without instead.'\n",
      "\n",
      "\n",
      "###################################################### functions\n",
      "\n",
      "def getData(folderName):\n",
      "    global cscID, cscList, loadedSomething\n",
      "\n",
      "    if os.path.isdir(folderName):\n",
      "        dirList=os.listdir(folderName)\n",
      "        os.chdir(folderName)\n",
      "    else:\n",
      "        dirList = [folderName]\n",
      "\n",
      "    if onlyWithTTData and not any([item.endswith('.t') for item in dirList]):\n",
      "        os.chdir(cwd)\n",
      "        sys.exit('The folders do not contain tetrode data (t files)! Therefore skipping folder!')\n",
      "    for item in sorted(dirList):\n",
      "        if os.path.isfile(item):\n",
      "            if item.endswith('.ncs') and not any([item.find(str(s))+1 for s in excludeCSCs]):# or item.endswith('2.ncs'):\n",
      "                print 'loading Neuralynx data', item , 'from folder: '+folderName\n",
      "                loadedSomething = True\n",
      "                csc = signale.load_ncsFile(item, showHeader=False)\n",
      "                cscID += 1\n",
      "                cscList.append(cscID, csc)\n",
      "                cscList.addTags(cscID, file=item, dir=folderName)\n",
      "            elif item.endswith('.raw'):# or item.endswith('2.ncs'):\n",
      "                print 'loading RAW data', item , 'from folder: '+folderName\n",
      "                loadedSomething = True\n",
      "                cscList = []\n",
      "                cscList = signale.load_rawFile(item, exclude=excludeCSCs, showHeader=False)\n",
      "        #elif os.path.isdir(item):\n",
      "        #    getData(item)\n",
      "    os.chdir('..')"
     ],
     "language": "python",
     "metadata": {},
     "outputs": [
      {
       "output_type": "stream",
       "stream": "stderr",
       "text": [
        "WARNING:root:id_list is empty\n"
       ]
      }
     ],
     "prompt_number": 7
    },
    {
     "cell_type": "code",
     "collapsed": false,
     "input": [
      "getData(animalPath)\n",
      "getTData(animalPath)"
     ],
     "language": "python",
     "metadata": {},
     "outputs": [
      {
       "output_type": "stream",
       "stream": "stdout",
       "text": [
        "loading Neuralynx data CSC1.ncs from folder: /mnt/Data/ephysdata/Gerbils/G5/\n",
        "TimeAxis calculation took 0.0234160423279 seconds\n",
        "loading"
       ]
      },
      {
       "output_type": "stream",
       "stream": "stdout",
       "text": [
        " VT1.nvt from folder: /mnt/Data/ephysdata/Gerbils/G5/\n",
        "loading"
       ]
      },
      {
       "output_type": "stream",
       "stream": "stdout",
       "text": [
        " pl_TT1_01.t from folder: /mnt/Data/ephysdata/Gerbils/G5/\n",
        "loading pl_TT1_05.t from folder: /mnt/Data/ephysdata/Gerbils/G5/\n",
        "loading pl_TT1_10.t from folder: /mnt/Data/ephysdata/Gerbils/G5/\n",
        "loading pl_TT1_13.t from folder: /mnt/Data/ephysdata/Gerbils/G5/\n",
        "loading pl_TT1_15.t from folder: /mnt/Data/ephysdata/Gerbils/G5/\n",
        "loading pl_TT2_02.t from folder: /mnt/Data/ephysdata/Gerbils/G5/\n",
        "loading pl_TT3_02.t from folder: /mnt/Data/ephysdata/Gerbils/G5/\n",
        "loading pl_TT3_04.t from folder: /mnt/Data/ephysdata/Gerbils/G5/\n",
        "loading pl_TT3_06.t from folder: /mnt/Data/ephysdata/Gerbils/G5/\n",
        "loading pl_TT3_07.t from folder: /mnt/Data/ephysdata/Gerbils/G5/\n",
        "loading pl_TT4_05.t from folder: /mnt/Data/ephysdata/Gerbils/G5/\n",
        "loading pl_TT4_07.t from folder: /mnt/Data/ephysdata/Gerbils/G5/\n"
       ]
      }
     ],
     "prompt_number": 8
    },
    {
     "cell_type": "code",
     "collapsed": false,
     "input": [
      "ch0 = cscList[0]\n",
      "ch0.plot();\n",
      "stList.tags"
     ],
     "language": "python",
     "metadata": {},
     "outputs": [
      {
       "metadata": {},
       "output_type": "display_data",
       "png": "[encoded data removed]",
       "text": [
        "<matplotlib.figure.Figure at 0x7f0c4ca32d50>"
       ]
      },
      {
       "metadata": {},
       "output_type": "pyout",
       "prompt_number": 9,
       "text": [
        "{0: {'dir': '/mnt/Data/ephysdata/Gerbils/G5/', 'file': 'pl_TT1_01.t'},\n",
        " 1: {'dir': '/mnt/Data/ephysdata/Gerbils/G5/', 'file': 'pl_TT1_05.t'},\n",
        " 2: {'dir': '/mnt/Data/ephysdata/Gerbils/G5/', 'file': 'pl_TT1_10.t'},\n",
        " 3: {'dir': '/mnt/Data/ephysdata/Gerbils/G5/', 'file': 'pl_TT1_13.t'},\n",
        " 4: {'dir': '/mnt/Data/ephysdata/Gerbils/G5/', 'file': 'pl_TT1_15.t'},\n",
        " 5: {'dir': '/mnt/Data/ephysdata/Gerbils/G5/', 'file': 'pl_TT2_02.t'},\n",
        " 6: {'dir': '/mnt/Data/ephysdata/Gerbils/G5/', 'file': 'pl_TT3_02.t'},\n",
        " 7: {'dir': '/mnt/Data/ephysdata/Gerbils/G5/', 'file': 'pl_TT3_04.t'},\n",
        " 8: {'dir': '/mnt/Data/ephysdata/Gerbils/G5/', 'file': 'pl_TT3_06.t'},\n",
        " 9: {'dir': '/mnt/Data/ephysdata/Gerbils/G5/', 'file': 'pl_TT3_07.t'},\n",
        " 10: {'dir': '/mnt/Data/ephysdata/Gerbils/G5/', 'file': 'pl_TT4_05.t'},\n",
        " 11: {'dir': '/mnt/Data/ephysdata/Gerbils/G5/', 'file': 'pl_TT4_07.t'}}"
       ]
      }
     ],
     "prompt_number": 9
    },
    {
     "cell_type": "code",
     "collapsed": false,
     "input": [
      "sleepSpk = stList.time_slice(2102345.80,stList.t_stop)\n",
      "sleepSpk.timeAxis = ch0.timeAxis.copy()\n",
      "rec = Recordings.ephys(sleepSpk,cscList)\n",
      "rec.LFPs.tags"
     ],
     "language": "python",
     "metadata": {},
     "outputs": [
      {
       "metadata": {},
       "output_type": "pyout",
       "prompt_number": 10,
       "text": [
        "{}"
       ]
      }
     ],
     "prompt_number": 10
    },
    {
     "cell_type": "code",
     "collapsed": false,
     "input": [
      "rec.coincidence('s')\n",
      "rec.MUA()\n",
      "rec.sequencing()"
     ],
     "language": "python",
     "metadata": {},
     "outputs": [
      {
       "output_type": "stream",
       "stream": "stdout",
       "text": [
        "Using surrogate data...\n",
        "There is no spiketrain at the moment... \n",
        "              Calculating spike trains by covolving with a Gaussian kernel of sigma = 12 ms\n",
        "There is no burst detected for this SpikeList. Calling the burstDetector function with default values..."
       ]
      },
      {
       "output_type": "stream",
       "stream": "stdout",
       "text": [
        "\n"
       ]
      }
     ],
     "prompt_number": 11
    },
    {
     "cell_type": "code",
     "collapsed": false,
     "input": [
      "#### Saving MultiUnitActivity array\n",
      "mua = [] \n",
      "for jj in range(len(rec.MultiUnitActivity)):\n",
      "    mua.append(rec.MultiUnitActivity[jj][:,0])\n",
      "mua = np.array(mua)\n",
      "pkl.dump(mua,open(animalPath+'sleep3.mua','wb'),pkl.HIGHEST_PROTOCOL)\n",
      "pkl.dump(rec.sequence_1st_spike,open(animalPath+'sleep3_1st.seqz','wb'),pkl.HIGHEST_PROTOCOL)\n",
      "pkl.dump(rec.sequence_median,open(animalPath+'sleep3_Median.seqz','wb'),pkl.HIGHEST_PROTOCOL)"
     ],
     "language": "python",
     "metadata": {},
     "outputs": [],
     "prompt_number": 12
    },
    {
     "cell_type": "code",
     "collapsed": false,
     "input": [
      "cell_tags0 = np.int0(rec.sequence_median[222][:,0])\n",
      "cell_tags1 = np.int0(rec.sequence_median[186][:,0])\n",
      "cell_tags2 = np.int0(rec.sequence_median[110][:,0])"
     ],
     "language": "python",
     "metadata": {},
     "outputs": [],
     "prompt_number": 15
    },
    {
     "cell_type": "code",
     "collapsed": false,
     "input": [
      "ss = np.array([item.size for item in mua])\n",
      "np.where(ss > 13)"
     ],
     "language": "python",
     "metadata": {},
     "outputs": [
      {
       "metadata": {},
       "output_type": "pyout",
       "prompt_number": 22,
       "text": [
        "(array([110, 186, 222]),)"
       ]
      }
     ],
     "prompt_number": 22
    },
    {
     "cell_type": "code",
     "collapsed": false,
     "input": [
      "f,ax=pl.subplots(1,3,figsize=[15,5])\n",
      "rec.sequence_raster(222,ax1=ax[0],ClrMap =clrst)\n",
      "rec.sequence_raster(186,ax1=ax[1],ClrMap = clrst );\n",
      "rec.sequence_raster(110,ax1=ax[2],ClrMap = clrst );\n",
      "ax[0].set_ylim([-1,8]);\n",
      "ax[0].set_yticklabels(cell_tags0);\n",
      "ax[1].set_ylim([-1,8]);\n",
      "ax[1].set_yticklabels(cell_tags1);\n",
      "ax[2].set_ylim([-1,8]);\n",
      "ax[2].set_yticklabels(cell_tags2);\n",
      "#f.savefig(animalPath+'plots/examples.pdf',format='pdf')"
     ],
     "language": "python",
     "metadata": {},
     "outputs": [
      {
       "metadata": {},
       "output_type": "pyout",
       "prompt_number": 19,
       "text": [
        "[<matplotlib.text.Text at 0x7f0c3da2a2d0>,\n",
        " <matplotlib.text.Text at 0x7f0c3d915b90>,\n",
        " <matplotlib.text.Text at 0x7f0c3da0e990>,\n",
        " <matplotlib.text.Text at 0x7f0c3d990e90>,\n",
        " <matplotlib.text.Text at 0x7f0c3d789bd0>]"
       ]
      },
      {
       "metadata": {},
       "output_type": "display_data",
       "png": "[encoded data removed]",
       "text": [
        "<matplotlib.figure.Figure at 0x7f0c3dcd8f50>"
       ]
      },
      {
       "metadata": {},
       "output_type": "display_data",
       "text": [
        "<matplotlib.figure.Figure at 0x7f0c3dcd8e90>"
       ]
      },
      {
       "metadata": {},
       "output_type": "display_data",
       "text": [
        "<matplotlib.figure.Figure at 0x7f0c3d9f9b10>"
       ]
      },
      {
       "metadata": {},
       "output_type": "display_data",
       "text": [
        "<matplotlib.figure.Figure at 0x7f0c3d8d7d90>"
       ]
      }
     ],
     "prompt_number": 19
    },
    {
     "cell_type": "code",
     "collapsed": false,
     "input": [
      "f.show()"
     ],
     "language": "python",
     "metadata": {},
     "outputs": [
      {
       "output_type": "stream",
       "stream": "stderr",
       "text": [
        "/usr/local/bin/anaconda/lib/python2.7/site-packages/matplotlib/figure.py:387: UserWarning: matplotlib is currently using a non-GUI backend, so cannot show the figure\n",
        "  \"matplotlib is currently using a non-GUI backend, \"\n"
       ]
      }
     ],
     "prompt_number": 60
    },
    {
     "cell_type": "code",
     "collapsed": false,
     "input": [
      "ch0.SWS_signal()"
     ],
     "language": "python",
     "metadata": {},
     "outputs": [],
     "prompt_number": 46
    },
    {
     "cell_type": "code",
     "collapsed": false,
     "input": [
      "ch0.SWS_signal(filter=True)"
     ],
     "language": "python",
     "metadata": {},
     "outputs": [],
     "prompt_number": 24
    },
    {
     "cell_type": "code",
     "collapsed": false,
     "input": [
      "ch0.ripple_recorder()"
     ],
     "language": "python",
     "metadata": {},
     "outputs": [
      {
       "output_type": "stream",
       "stream": "stdout",
       "text": [
        "Ripple detection on CSC4.ncs  is DONE!!!\n",
        "         Now you should see the attribute ripples with [t_start, t_end,peak value, t_peak] in each row for detected SWRs.\n"
       ]
      }
     ],
     "prompt_number": 25
    },
    {
     "cell_type": "code",
     "collapsed": false,
     "input": [
      "ch0.ripple_statistics()"
     ],
     "language": "python",
     "metadata": {},
     "outputs": [
      {
       "output_type": "stream",
       "stream": "stdout",
       "text": [
        "SMILE\n"
       ]
      },
      {
       "output_type": "stream",
       "stream": "stderr",
       "text": [
        "/usr/local/bin/anaconda/lib/python2.7/site-packages/matplotlib/axes/_axes.py:4381: ComplexWarning: Casting complex values to real discards the imaginary part\n",
        "  X[1:N + 1, 1] = y1slice\n",
        "/usr/local/bin/anaconda/lib/python2.7/site-packages/numpy/core/numeric.py:462: ComplexWarning: Casting complex values to real discards the imaginary part\n",
        "  return array(a, dtype, copy=False, order=order)\n",
        "/usr/local/bin/anaconda/lib/python2.7/site-packages/matplotlib/transforms.py:978: ComplexWarning: Casting complex values to real discards the imaginary part\n",
        "  self._points[:, 1] = interval\n"
       ]
      },
      {
       "metadata": {},
       "output_type": "pyout",
       "prompt_number": 26,
       "text": [
        "(<matplotlib.figure.Figure at 0x7f25248276d0>,\n",
        " <matplotlib.axes._subplots.AxesSubplot at 0x7f2524827b50>,\n",
        " <matplotlib.axes._subplots.AxesSubplot at 0x7f25246d8850>,\n",
        " <matplotlib.axes._subplots.AxesSubplot at 0x7f2524787a50>,\n",
        " <matplotlib.axes._subplots.AxesSubplot at 0x7f252407b590>)"
       ]
      },
      {
       "metadata": {},
       "output_type": "display_data",
       "png": "[encoded data removed]",
       "text": [
        "<matplotlib.figure.Figure at 0x7f25248276d0>"
       ]
      }
     ],
     "prompt_number": 26
    },
    {
     "cell_type": "code",
     "collapsed": false,
     "input": [
      "pkl.dump(ch0,open(animalPath+'lfp','wb'),pkl.HIGHEST_PROTOCOL)"
     ],
     "language": "python",
     "metadata": {},
     "outputs": []
    },
    {
     "cell_type": "code",
     "collapsed": false,
     "input": [
      "cscList.id_list()"
     ],
     "language": "python",
     "metadata": {},
     "outputs": [
      {
       "metadata": {},
       "output_type": "pyout",
       "prompt_number": 26,
       "text": [
        "array([], dtype=float64)"
       ]
      }
     ],
     "prompt_number": 26
    },
    {
     "cell_type": "code",
     "collapsed": false,
     "input": [],
     "language": "python",
     "metadata": {},
     "outputs": [
      {
       "metadata": {},
       "output_type": "pyout",
       "prompt_number": 39,
       "text": [
        "array([ 0,  1,  2,  3,  4,  5,  6,  7,  8,  9, 10, 11])"
       ]
      }
     ],
     "prompt_number": 39
    },
    {
     "cell_type": "code",
     "collapsed": false,
     "input": [],
     "language": "python",
     "metadata": {},
     "outputs": []
    }
   ],
   "metadata": {}
  }
 ]
}