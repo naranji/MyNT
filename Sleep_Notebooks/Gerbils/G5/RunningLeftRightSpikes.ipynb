{
 "metadata": {
  "name": "",
  "signature": "sha256:2b3acc274482008e80f7e7fc91b0876324157e4c438d1cd1db0a7354302b2140"
 },
 "nbformat": 3,
 "nbformat_minor": 0,
 "worksheets": [
  {
   "cells": [
    {
     "cell_type": "code",
     "collapsed": false,
     "input": [
      "cd /mnt/Data/Scripts/NeuNeuro/src/scripts/"
     ],
     "language": "python",
     "metadata": {},
     "outputs": [
      {
       "output_type": "stream",
       "stream": "stdout",
       "text": [
        "/mnt/Data/Scripts/NeuNeuro/src/scripts\n"
       ]
      }
     ],
     "prompt_number": 1
    },
    {
     "cell_type": "code",
     "collapsed": false,
     "input": [
      "%matplotlib inline\n",
      "%load_ext autoreload\n",
      "%autoreload 2\n",
      "import numpy as np\n",
      "import matplotlib.pyplot as pl\n",
      "import pickle as pkl\n",
      "import random\n",
      "import os,sys\n",
      "import scipy.signal as scsig"
     ],
     "language": "python",
     "metadata": {},
     "outputs": [],
     "prompt_number": 2
    },
    {
     "cell_type": "code",
     "collapsed": false,
     "input": [
      "import Recordings\n",
      "import signale, trajectory, custom_plot"
     ],
     "language": "python",
     "metadata": {},
     "outputs": [
      {
       "output_type": "stream",
       "stream": "stdout",
       "text": [
        "NOTE: There was a problem when loading trajectory.decisions!\n"
       ]
      }
     ],
     "prompt_number": 3
    },
    {
     "cell_type": "code",
     "collapsed": false,
     "input": [
      "trajFile = '/mnt/Data/ephysdata/Gerbils/G5/LinearSleep.traj'\n",
      "placeCellList = '/mnt/Data/ephysdata/Gerbils/G5/LinearSleep.spk'"
     ],
     "language": "python",
     "metadata": {},
     "outputs": [],
     "prompt_number": 4
    },
    {
     "cell_type": "code",
     "collapsed": false,
     "input": [
      "plzList = pkl.load(open(placeCellList,'rb'))\n",
      "traj = pkl.load(open(trajFile,'rb'))"
     ],
     "language": "python",
     "metadata": {},
     "outputs": [],
     "prompt_number": 5
    },
    {
     "cell_type": "code",
     "collapsed": false,
     "input": [
      "pl.plot(plzList.id_list,plzList.mean_rates());\n",
      "pl.axhline(5,color = 'm',alpha=0.5);"
     ],
     "language": "python",
     "metadata": {},
     "outputs": [
      {
       "metadata": {},
       "output_type": "display_data",
       "png": "[encoded data removed]",
       "text": [
        "<matplotlib.figure.Figure at 0x7f2fea785e10>"
       ]
      }
     ],
     "prompt_number": 6
    },
    {
     "cell_type": "code",
     "collapsed": false,
     "input": [
      "interNeuronIDs = np.int0([])\n",
      "for jj,item in enumerate(plzList):\n",
      "    if item.mean_rate() > 4.5:\n",
      "        interNeuronIDs = np.append(interNeuronIDs,jj)\n",
      "placeCellIDs = np.array([item for item in plzList.id_list if item not in interNeuronIDs])"
     ],
     "language": "python",
     "metadata": {},
     "outputs": [],
     "prompt_number": 7
    },
    {
     "cell_type": "code",
     "collapsed": false,
     "input": [
      "interNeuronIDs,placeCellIDs"
     ],
     "language": "python",
     "metadata": {},
     "outputs": [
      {
       "metadata": {},
       "output_type": "pyout",
       "prompt_number": 8,
       "text": [
        "(array([], dtype=int64),\n",
        " array([ 0,  1,  2,  3,  4,  5,  6,  7,  8,  9, 10, 11]))"
       ]
      }
     ],
     "prompt_number": 8
    },
    {
     "cell_type": "code",
     "collapsed": false,
     "input": [
      "print np.intersect1d(traj.links_places[:,0],traj.rechts_places[:,0]).size\n",
      "print traj.links_places.shape\n",
      "print traj.rechts_times.size\n",
      "print traj.times.size\n",
      "traj.getRunningTraj(1.1)"
     ],
     "language": "python",
     "metadata": {},
     "outputs": [
      {
       "output_type": "stream",
       "stream": "stdout",
       "text": [
        "2754\n",
        "(33059, 3)\n",
        "33059\n",
        "36290\n",
        "NOTE: Reset threshspeed from 10 to 1.1 m/s\n",
        "calculating trajectory with running speed >= 1.1\n",
        "WARNING: Calculating without head directions! If head directions are needed                 calculate them first!\n"
       ]
      }
     ],
     "prompt_number": 9
    },
    {
     "cell_type": "code",
     "collapsed": false,
     "input": [
      "pl.plot(traj.places[:,0],traj.times,'.');\n",
      "pl.plot(traj.run_places[:,0],traj.run_times,'r.');"
     ],
     "language": "python",
     "metadata": {},
     "outputs": [
      {
       "metadata": {},
       "output_type": "display_data",
       "png": "[encoded data removed]",
       "text": [
        "<matplotlib.figure.Figure at 0x7f2fea7f3fd0>"
       ]
      }
     ],
     "prompt_number": 10
    },
    {
     "cell_type": "code",
     "collapsed": false,
     "input": [
      "lt1List = plzList.time_slice(traj.t_start * 1000,traj.t_stop * 1000)"
     ],
     "language": "python",
     "metadata": {},
     "outputs": [],
     "prompt_number": 11
    },
    {
     "cell_type": "code",
     "collapsed": false,
     "input": [
      "zug1d = lt1List[0][0]"
     ],
     "language": "python",
     "metadata": {},
     "outputs": [],
     "prompt_number": 12
    },
    {
     "cell_type": "code",
     "collapsed": false,
     "input": [
      "zug1d.spike_times"
     ],
     "language": "python",
     "metadata": {},
     "outputs": [
      {
       "metadata": {},
       "output_type": "pyout",
       "prompt_number": 13,
       "text": [
        "array([ 1493102.   ,  1493111.75 ,  1493162.5  ,  1493192.25 ,\n",
        "        1493225.875,  1493290.375,  1493308.25 ,  1493400.125,\n",
        "        1493409.625,  1493425.   ,  1493609.25 ,  1493626.75 ,\n",
        "        1493677.   ,  1499037.5  ,  1499041.125,  1499045.125,\n",
        "        1501963.875,  1502649.125,  1516655.625,  1516786.125,\n",
        "        1517690.875,  1517695.75 ,  1518761.75 ,  1518774.75 ,\n",
        "        1518788.75 ,  1518793.5  ,  1518824.875,  1518932.375,\n",
        "        1519007.75 ,  1519230.625,  1519248.5  ,  1519253.125,\n",
        "        1519375.   ,  1520395.   ,  1520408.75 ,  1520620.25 ,\n",
        "        1520625.125,  1520630.   ,  1520636.875,  1520700.25 ,\n",
        "        1520796.875,  1520805.625,  1520820.75 ,  1520862.125,\n",
        "        1520945.625,  1520958.375,  1521073.75 ,  1521091.   ,\n",
        "        1521218.375,  1521241.25 ,  1521356.5  ,  1521443.25 ,\n",
        "        1521493.125,  1521505.25 ,  1521515.625,  1521632.25 ,\n",
        "        1521806.125,  1521875.25 ,  1521938.625,  1522093.125,\n",
        "        1522625.25 ,  1522650.25 ,  1522718.875,  1522724.   ,\n",
        "        1522834.25 ,  1522947.75 ,  1522965.375,  1522988.5  ,\n",
        "        1523010.25 ,  1523033.5  ,  1523066.375,  1523071.125,\n",
        "        1523089.25 ,  1523477.   ,  1523498.75 ,  1523508.125,\n",
        "        1523514.25 ,  1523697.   ,  1523756.75 ,  1524015.5  ,\n",
        "        1524027.625,  1524073.25 ,  1524160.125,  1524271.75 ,\n",
        "        1524275.5  ,  1524400.125,  1524408.25 ,  1542987.5  ,\n",
        "        1542991.5  ,  1542995.5  ,  1543236.625,  1543824.75 ,\n",
        "        1544077.625,  1545816.375,  1546883.25 ,  1546906.25 ,\n",
        "        1548125.125,  1548137.   ,  1548274.25 ,  1548281.375,\n",
        "        1548292.25 ,  1548301.   ,  1548414.625,  1548424.75 ,\n",
        "        1548591.25 ,  1585615.   ,  1586069.375,  1586077.   ,\n",
        "        1586083.   ,  1586298.   ,  1588113.25 ,  1588136.75 ,\n",
        "        1588143.375,  1588153.5  ,  1591618.125,  1615063.75 ,\n",
        "        1615422.625,  1616931.875,  1616990.375,  1617015.875,\n",
        "        1617019.5  ,  1617446.625,  1617456.375,  1617497.875,\n",
        "        1617511.125,  1617517.625,  1617534.5  ,  1618034.75 ,\n",
        "        1618082.25 ,  1618256.75 ,  1618272.25 ,  1618280.5  ,\n",
        "        1618294.75 ,  1618322.   ,  1618382.75 ,  1618392.875,\n",
        "        1618404.375,  1618645.25 ,  1618681.75 ,  1618838.5  ,\n",
        "        1618922.625,  1618934.625,  1618955.75 ,  1619020.125,\n",
        "        1619034.375,  1619039.625,  1619066.625,  1619074.875,\n",
        "        1619103.875,  1619136.625,  1619159.875,  1619190.75 ,\n",
        "        1619316.   ,  1619378.375,  1619386.   ,  1619392.375,\n",
        "        1619526.25 ,  1619537.5  ,  1619559.25 ,  1619861.   ,\n",
        "        1619889.25 ,  1619899.75 ,  1620001.75 ,  1620056.5  ,\n",
        "        1620229.75 ,  1620236.875,  1620316.75 ,  1620327.75 ,\n",
        "        1620399.875,  1620452.   ,  1620466.875,  1620479.875,\n",
        "        1620521.5  ,  1620548.125,  1620629.25 ,  1620649.   ,\n",
        "        1620664.625,  1620742.   ,  1620792.875,  1620836.5  ,\n",
        "        1620874.625,  1620881.875,  1620897.25 ,  1620944.125,\n",
        "        1621010.375,  1621014.75 ,  1621028.75 ,  1621034.875,\n",
        "        1621184.75 ,  1621209.375,  1621652.625,  1621888.375,\n",
        "        1623048.5  ,  1624661.625,  1624692.75 ,  1624707.75 ,\n",
        "        1624726.625,  1624778.25 ,  1624835.125,  1624971.25 ,\n",
        "        1625463.5  ,  1625555.125,  1626391.625,  1626409.75 ,\n",
        "        1626511.375,  1626811.375,  1626995.5  ,  1626999.5  ,\n",
        "        1628189.625,  1629505.75 ,  1629919.25 ,  1630055.5  ,\n",
        "        1630093.625,  1630591.75 ,  1630598.875,  1630700.75 ,\n",
        "        1630741.625,  1630748.125,  1631006.75 ,  1631148.875,\n",
        "        1631324.875,  1631329.625,  1631407.875,  1631579.875,\n",
        "        1632051.75 ,  1632057.   ,  1632276.   ,  1632323.25 ,\n",
        "        1632395.   ,  1650160.375,  1655347.125,  1655356.625,\n",
        "        1655582.375,  1657519.25 ,  1657618.5  ,  1657626.625,\n",
        "        1657635.375,  1657638.875,  1657644.25 ,  1657682.   ,\n",
        "        1657739.625,  1657809.25 ,  1657825.25 ,  1657849.   ,\n",
        "        1657884.25 ,  1657907.125,  1657920.75 ,  1657939.25 ,\n",
        "        1657986.25 ,  1657997.75 ,  1658042.25 ,  1658172.25 ,\n",
        "        1658214.625,  1658232.   ,  1658341.375,  1658357.5  ,\n",
        "        1658534.25 ,  1658623.75 ,  1658634.375,  1658644.25 ,\n",
        "        1658651.375,  1658666.125,  1658697.125,  1658710.125,\n",
        "        1658776.75 ,  1658782.5  ,  1658860.75 ,  1658924.125,\n",
        "        1659107.375,  1659186.875,  1659201.   ,  1659211.75 ,\n",
        "        1659218.375,  1659245.5  ,  1659328.125,  1659337.25 ,\n",
        "        1659345.125,  1659366.125,  1659389.875,  1659447.125,\n",
        "        1659475.625,  1659489.   ,  1659502.375,  1659540.75 ,\n",
        "        1659578.75 ,  1659662.5  ,  1659674.   ,  1659683.375,\n",
        "        1659710.875,  1659781.25 ,  1659789.5  ,  1659805.25 ,\n",
        "        1672082.375,  1672310.625,  1672654.375,  1672811.625,\n",
        "        1672816.   ,  1673110.375,  1673121.75 ,  1676871.25 ,\n",
        "        1676877.25 ,  1676889.875,  1677113.125,  1677469.25 ,\n",
        "        1677477.125,  1677696.375,  1677931.25 ,  1677941.   ,\n",
        "        1677946.375,  1677981.625,  1677990.5  ,  1678683.75 ,\n",
        "        1678712.5  ,  1679003.75 ,  1696553.5  ,  1696782.375,\n",
        "        1696792.625,  1698689.125,  1699007.25 ,  1699011.25 ,\n",
        "        1703115.25 ,  1703263.75 ,  1711411.75 ,  1722315.   ,\n",
        "        1722346.625,  1722717.5  ,  1722729.875,  1722803.5  ,\n",
        "        1722816.125,  1722820.25 ,  1722824.875,  1722872.375,\n",
        "        1723042.75 ,  1725289.125,  1725635.75 ,  1725652.25 ,\n",
        "        1725846.125,  1726217.   ,  1743889.375,  1762339.5  ,\n",
        "        1763882.25 ,  1763888.375,  1763892.25 ,  1763897.   ,\n",
        "        1764002.75 ,  1764011.5  ,  1764045.625,  1765161.5  ,\n",
        "        1767316.75 ,  1769437.5  ,  1769467.5  ,  1785343.875,\n",
        "        1787780.375,  1787787.625,  1787791.5  ,  1787876.   ,\n",
        "        1787900.875,  1823447.125,  1823657.   ,  1823666.5  ,\n",
        "        1823681.125,  1823686.375,  1825059.625,  1825071.125,\n",
        "        1825074.75 ,  1826553.5  ,  1826560.75 ,  1829295.5  ,\n",
        "        1836105.75 ,  1852804.625,  1853260.25 ,  1858305.625,\n",
        "        1877962.875,  1877968.5  ,  1877976.5  ,  1879335.25 ,\n",
        "        1880038.25 ,  1880106.25 ,  1880110.625,  1880118.375,\n",
        "        1880125.625,  1880789.875,  1880991.   ,  1880998.25 ,\n",
        "        1881007.25 ,  1881052.875,  1881107.625,  1881120.   ,\n",
        "        1881168.   ,  1881190.875,  1881223.25 ,  1881252.75 ,\n",
        "        1881272.75 ,  1881358.   ,  1881396.   ,  1881517.5  ,\n",
        "        1881670.5  ,  1881679.125,  1881730.75 ,  1881776.625,\n",
        "        1881797.5  ,  1881936.375,  1881955.   ,  1881995.5  ,\n",
        "        1882122.375,  1882228.875,  1882304.125,  1882392.625,\n",
        "        1882441.   ,  1882532.5  ,  1882565.75 ,  1882714.   ,\n",
        "        1882844.75 ,  1882875.   ,  1882975.25 ,  1883006.   ,\n",
        "        1883080.375,  1883131.625,  1883640.75 ,  1885362.75 ,\n",
        "        1885377.5  ,  1885381.   ,  1885466.   ,  1886383.375,\n",
        "        1886668.875,  1886697.75 ,  1886701.75 ,  1886904.5  ,\n",
        "        1887181.25 ,  1887269.125,  1887283.5  ,  1887504.75 ,\n",
        "        1887538.875,  1888203.875,  1888372.5  ,  1888531.25 ,\n",
        "        1888639.125,  1909574.25 ,  1909612.625,  1910379.5  ,\n",
        "        1910384.   ,  1910388.125,  1910395.25 ,  1911260.125,\n",
        "        1911690.25 ,  1912297.75 ,  1914380.875,  1914385.875,\n",
        "        1914652.625,  1928323.875,  1936492.625,  1941463.875,\n",
        "        1971959.125,  1971969.5  ,  1971990.125,  1972865.625,\n",
        "        1973308.75 ,  1974538.75 ,  1975306.75 ,  1977292.25 ,\n",
        "        1978272.5  ,  1978283.75 ,  1979078.5  ,  1985866.   ,\n",
        "        1985885.125,  1998340.125,  2024877.25 ,  2025604.375,\n",
        "        2025608.625,  2025623.375,  2025640.25 ,  2027006.75 ,\n",
        "        2027015.25 ,  2027023.75 ,  2027077.125,  2027092.25 ,\n",
        "        2027096.   ,  2027149.5  ,  2027153.875,  2027159.75 ,\n",
        "        2027164.875,  2027205.75 ,  2027216.875,  2030361.5  ,\n",
        "        2030472.   ,  2030484.   ,  2030587.25 ,  2030598.125,\n",
        "        2030609.25 ,  2030674.25 ,  2030682.   ,  2030698.625,\n",
        "        2030707.75 ,  2030711.75 ,  2030823.375,  2030830.75 ,\n",
        "        2030841.875,  2030867.75 ,  2030940.625,  2030944.625,\n",
        "        2032442.875,  2033047.75 ,  2033127.625,  2033147.875,\n",
        "        2033158.25 ,  2033164.75 ,  2033175.75 ,  2033202.875,\n",
        "        2033208.875,  2033253.   ,  2033348.25 ,  2033363.25 ,\n",
        "        2033464.125,  2034808.25 ,  2035719.75 ,  2036032.75 ,\n",
        "        2036113.5  ,  2037944.75 ,  2038057.625,  2068842.75 ,\n",
        "        2071273.75 ,  2071333.25 ,  2071391.25 ,  2071397.625,\n",
        "        2071406.125,  2071420.   ,  2071925.125,  2071937.875,\n",
        "        2072022.5  ,  2072049.   ,  2074351.625,  2074367.   ,\n",
        "        2074370.875,  2074374.   ,  2074378.625,  2084332.75 ,\n",
        "        2085661.75 ,  2087052.125,  2087059.875,  2097961.5  ], dtype=float32)"
       ]
      }
     ],
     "prompt_number": 13
    },
    {
     "cell_type": "code",
     "collapsed": false,
     "input": [
      "lt1List._spikezugList__recalc_startstop()\n",
      "lt1List.changeTimeUnit('s')\n",
      "for item in lt1List:\n",
      "    item.traj = traj"
     ],
     "language": "python",
     "metadata": {},
     "outputs": [],
     "prompt_number": 27
    },
    {
     "cell_type": "code",
     "collapsed": false,
     "input": [
      "lt1List[0].spiketrains"
     ],
     "language": "python",
     "metadata": {},
     "outputs": [
      {
       "metadata": {},
       "output_type": "pyout",
       "prompt_number": 28,
       "text": [
        "{0: <signale.place_cells.placeCell_spikezug at 0x7f2fea739850>}"
       ]
      }
     ],
     "prompt_number": 28
    },
    {
     "cell_type": "code",
     "collapsed": false,
     "input": [
      "cell = lt1List[1]\n",
      "cell.getLeftAndRightwardSpikes()"
     ],
     "language": "python",
     "metadata": {},
     "outputs": [],
     "prompt_number": 29
    },
    {
     "cell_type": "code",
     "collapsed": false,
     "input": [
      "cell.getSpikePlaces()\n",
      "cell.getRunningSpikes(1)\n",
      "cell.getLeftAndRightwardSpikes()#onlyRunning=True)"
     ],
     "language": "python",
     "metadata": {},
     "outputs": [
      {
       "output_type": "stream",
       "stream": "stderr",
       "text": [
        "WARNING:signale.place_cells:Calculating without spike phases! If spike phases are needed caluculate them in advance!\n"
       ]
      },
      {
       "output_type": "stream",
       "stream": "stderr",
       "text": [
        "WARNING:signale.place_cells:Calculating without spike head directions! If spike head directions are needed caluculate them in advance!\n"
       ]
      },
      {
       "output_type": "stream",
       "stream": "stderr",
       "text": [
        "Exception AttributeError: \"'placeCell_spikezug' object has no attribute 'spike_times'\" in <bound method placeCell_spikezug.__del__ of <signale.place_cells.placeCell_spikezug object at 0x7f2fea755a10>> ignored\n"
       ]
      },
      {
       "ename": "TypeError",
       "evalue": "unbound method __init__() must be called with spikezug instance as first argument (got placeCell_spikezug instance instead)",
       "output_type": "pyerr",
       "traceback": [
        "\u001b[1;31m---------------------------------------------------------------------------\u001b[0m\n\u001b[1;31mTypeError\u001b[0m                                 Traceback (most recent call last)",
        "\u001b[1;32m<ipython-input-32-49a36ca72eee>\u001b[0m in \u001b[0;36m<module>\u001b[1;34m()\u001b[0m\n\u001b[0;32m      1\u001b[0m \u001b[0mcell\u001b[0m\u001b[1;33m.\u001b[0m\u001b[0mgetSpikePlaces\u001b[0m\u001b[1;33m(\u001b[0m\u001b[1;33m)\u001b[0m\u001b[1;33m\u001b[0m\u001b[0m\n\u001b[0;32m      2\u001b[0m \u001b[0mcell\u001b[0m\u001b[1;33m.\u001b[0m\u001b[0mgetRunningSpikes\u001b[0m\u001b[1;33m(\u001b[0m\u001b[1;36m1\u001b[0m\u001b[1;33m)\u001b[0m\u001b[1;33m\u001b[0m\u001b[0m\n\u001b[1;32m----> 3\u001b[1;33m \u001b[0mcell\u001b[0m\u001b[1;33m.\u001b[0m\u001b[0mgetLeftAndRightwardSpikes\u001b[0m\u001b[1;33m(\u001b[0m\u001b[1;33m)\u001b[0m\u001b[1;31m#onlyRunning=True)\u001b[0m\u001b[1;33m\u001b[0m\u001b[0m\n\u001b[0m",
        "\u001b[1;32m/mnt/Data/Scripts/NeuNeuro/src/scripts/signale/place_cells.pyc\u001b[0m in \u001b[0;36mgetLeftAndRightwardSpikes\u001b[1;34m(self)\u001b[0m\n\u001b[0;32m    596\u001b[0m \u001b[1;33m\u001b[0m\u001b[0m\n\u001b[0;32m    597\u001b[0m         \u001b[1;31m# put as spike trains into list\u001b[0m\u001b[1;33m\u001b[0m\u001b[1;33m\u001b[0m\u001b[0m\n\u001b[1;32m--> 598\u001b[1;33m         \u001b[0mself\u001b[0m\u001b[1;33m.\u001b[0m\u001b[0m__setitem__\u001b[0m\u001b[1;33m(\u001b[0m\u001b[1;36m1\u001b[0m\u001b[1;33m,\u001b[0m \u001b[0mplaceCell_spikezug\u001b[0m\u001b[1;33m(\u001b[0m\u001b[0mrechts_spikeTimes\u001b[0m\u001b[1;33m,\u001b[0m \u001b[1;34m'rightward'\u001b[0m\u001b[1;33m)\u001b[0m\u001b[1;33m)\u001b[0m\u001b[1;33m\u001b[0m\u001b[0m\n\u001b[0m\u001b[0;32m    599\u001b[0m         \u001b[0mself\u001b[0m\u001b[1;33m.\u001b[0m\u001b[0m__setitem__\u001b[0m\u001b[1;33m(\u001b[0m\u001b[1;36m2\u001b[0m\u001b[1;33m,\u001b[0m \u001b[0mplaceCell_spikezug\u001b[0m\u001b[1;33m(\u001b[0m\u001b[0mlinks_spikeTimes\u001b[0m\u001b[1;33m,\u001b[0m \u001b[1;34m'leftward'\u001b[0m\u001b[1;33m)\u001b[0m\u001b[1;33m)\u001b[0m\u001b[1;33m\u001b[0m\u001b[0m\n\u001b[0;32m    600\u001b[0m \u001b[1;33m\u001b[0m\u001b[0m\n",
        "\u001b[1;32m/mnt/Data/Scripts/NeuNeuro/src/scripts/signale/place_cells.pyc\u001b[0m in \u001b[0;36m__init__\u001b[1;34m(self, spike_times, spiketrain_type, t_start, t_stop, timeUnit)\u001b[0m\n\u001b[0;32m    761\u001b[0m \u001b[1;33m\u001b[0m\u001b[0m\n\u001b[0;32m    762\u001b[0m     \u001b[1;32mdef\u001b[0m \u001b[0m__init__\u001b[0m\u001b[1;33m(\u001b[0m\u001b[0mself\u001b[0m\u001b[1;33m,\u001b[0m \u001b[0mspike_times\u001b[0m\u001b[1;33m,\u001b[0m \u001b[0mspiketrain_type\u001b[0m\u001b[1;33m=\u001b[0m\u001b[1;34m''\u001b[0m\u001b[1;33m,\u001b[0m \u001b[0mt_start\u001b[0m\u001b[1;33m=\u001b[0m\u001b[0mNone\u001b[0m\u001b[1;33m,\u001b[0m \u001b[0mt_stop\u001b[0m\u001b[1;33m=\u001b[0m\u001b[0mNone\u001b[0m\u001b[1;33m,\u001b[0m \u001b[0mtimeUnit\u001b[0m\u001b[1;33m=\u001b[0m\u001b[1;34m'ms'\u001b[0m\u001b[1;33m)\u001b[0m\u001b[1;33m:\u001b[0m\u001b[1;33m\u001b[0m\u001b[0m\n\u001b[1;32m--> 763\u001b[1;33m         \u001b[0mspikes\u001b[0m\u001b[1;33m.\u001b[0m\u001b[0mspikezug\u001b[0m\u001b[1;33m.\u001b[0m\u001b[0m__init__\u001b[0m\u001b[1;33m(\u001b[0m\u001b[0mself\u001b[0m\u001b[1;33m,\u001b[0m \u001b[0mspike_times\u001b[0m\u001b[1;33m,\u001b[0m \u001b[0mspiketrain_type\u001b[0m\u001b[1;33m=\u001b[0m\u001b[0mspiketrain_type\u001b[0m\u001b[1;33m,\u001b[0m \u001b[0mt_start\u001b[0m\u001b[1;33m=\u001b[0m\u001b[0mt_start\u001b[0m\u001b[1;33m,\u001b[0m \u001b[0mt_stop\u001b[0m\u001b[1;33m=\u001b[0m\u001b[0mt_stop\u001b[0m\u001b[1;33m)\u001b[0m\u001b[1;33m\u001b[0m\u001b[0m\n\u001b[0m\u001b[0;32m    764\u001b[0m \u001b[1;33m\u001b[0m\u001b[0m\n\u001b[0;32m    765\u001b[0m     \u001b[1;32mdef\u001b[0m \u001b[0mgetRunningSpikes\u001b[0m\u001b[1;33m(\u001b[0m\u001b[0mself\u001b[0m\u001b[1;33m,\u001b[0m \u001b[0mtraj\u001b[0m\u001b[1;33m)\u001b[0m\u001b[1;33m:\u001b[0m\u001b[1;33m\u001b[0m\u001b[0m\n",
        "\u001b[1;31mTypeError\u001b[0m: unbound method __init__() must be called with spikezug instance as first argument (got placeCell_spikezug instance instead)"
       ]
      }
     ],
     "prompt_number": 32
    },
    {
     "cell_type": "code",
     "collapsed": false,
     "input": [
      "float(np.intersect1d(cell.links_spikeTimes,cell.rechts_spikeTimes).size) / cell.spike_times.size"
     ],
     "language": "python",
     "metadata": {},
     "outputs": [
      {
       "output_type": "stream",
       "stream": "stderr",
       "text": [
        "Exception AttributeError: \"'placeCell_spikezug' object has no attribute 'spike_times'\" in <bound method placeCell_spikezug.__del__ of <signale.place_cells.placeCell_spikezug object at 0x7f2fe88a3250>> ignored\n"
       ]
      },
      {
       "ename": "AttributeError",
       "evalue": "'placeCell1d' object has no attribute 'links_spikeTimes'",
       "output_type": "pyerr",
       "traceback": [
        "\u001b[1;31m---------------------------------------------------------------------------\u001b[0m\n\u001b[1;31mAttributeError\u001b[0m                            Traceback (most recent call last)",
        "\u001b[1;32m<ipython-input-33-cec494b983ba>\u001b[0m in \u001b[0;36m<module>\u001b[1;34m()\u001b[0m\n\u001b[1;32m----> 1\u001b[1;33m \u001b[0mfloat\u001b[0m\u001b[1;33m(\u001b[0m\u001b[0mnp\u001b[0m\u001b[1;33m.\u001b[0m\u001b[0mintersect1d\u001b[0m\u001b[1;33m(\u001b[0m\u001b[0mcell\u001b[0m\u001b[1;33m.\u001b[0m\u001b[0mlinks_spikeTimes\u001b[0m\u001b[1;33m,\u001b[0m\u001b[0mcell\u001b[0m\u001b[1;33m.\u001b[0m\u001b[0mrechts_spikeTimes\u001b[0m\u001b[1;33m)\u001b[0m\u001b[1;33m.\u001b[0m\u001b[0msize\u001b[0m\u001b[1;33m)\u001b[0m \u001b[1;33m/\u001b[0m \u001b[0mcell\u001b[0m\u001b[1;33m.\u001b[0m\u001b[0mspike_times\u001b[0m\u001b[1;33m.\u001b[0m\u001b[0msize\u001b[0m\u001b[1;33m\u001b[0m\u001b[0m\n\u001b[0m",
        "\u001b[1;31mAttributeError\u001b[0m: 'placeCell1d' object has no attribute 'links_spikeTimes'"
       ]
      }
     ],
     "prompt_number": 33
    },
    {
     "cell_type": "code",
     "collapsed": false,
     "input": [
      "notClassified = []\n",
      "overlap = []\n",
      "for jj in np.arange(0.4,1,0.02):\n",
      "    #cell.traj.getRunningTraj(threshspeed=float(jj+1)/33)\n",
      "    cell.getSpikePlaces()\n",
      "    cell.getRunningSpikes(threshspeed=jj)\n",
      "    cell.traj.getLeftAndRightwardRuns()\n",
      "    cell.getLeftAndRightwardSpikes(onlyRunning=True)\n",
      "    if (hasattr(cell,'links_spikeTimes') and hasattr(cell,'rechts_spikeTimes')):\n",
      "        overlap.append(float(np.intersect1d(cell.links_spikeTimes,cell.rechts_spikeTimes).size) / cell.spike_times.size)\n",
      "        notClassified.append(1 - ((cell.links_spikeTimes.size+cell.rechts_spikeTimes.size) / float(cell.spike_times.size)))\n",
      "    else:\n",
      "        overlap.append(np.nan)\n",
      "        notClassified.append(np.nan)\n",
      "overlap = np.array(overlap)\n",
      "#    ovMean.append(overlap.mean())\n",
      "#    ovSD.append(overlap.std())\n",
      "#ovMean = np.array(ovMean)\n",
      "#ovSD = np.array(ovSD)"
     ],
     "language": "python",
     "metadata": {},
     "outputs": [
      {
       "output_type": "stream",
       "stream": "stderr",
       "text": [
        "WARNING:signale.place_cells:Calculating without spike phases! If spike phases are needed caluculate them in advance!\n"
       ]
      },
      {
       "output_type": "stream",
       "stream": "stderr",
       "text": [
        "WARNING:signale.place_cells:Calculating without spike head directions! If spike head directions are needed caluculate them in advance!\n"
       ]
      },
      {
       "output_type": "stream",
       "stream": "stdout",
       "text": [
        "calculating trajectory with running speed >= 0.4\n",
        "WARNING: Calculating without head directions! If head directions are needed                 calculate them first!\n"
       ]
      },
      {
       "ename": "TypeError",
       "evalue": "getLeftAndRightwardSpikes() got an unexpected keyword argument 'onlyRunning'",
       "output_type": "pyerr",
       "traceback": [
        "\u001b[1;31m---------------------------------------------------------------------------\u001b[0m\n\u001b[1;31mTypeError\u001b[0m                                 Traceback (most recent call last)",
        "\u001b[1;32m<ipython-input-34-1b128557940b>\u001b[0m in \u001b[0;36m<module>\u001b[1;34m()\u001b[0m\n\u001b[0;32m      6\u001b[0m     \u001b[0mcell\u001b[0m\u001b[1;33m.\u001b[0m\u001b[0mgetRunningSpikes\u001b[0m\u001b[1;33m(\u001b[0m\u001b[0mthreshspeed\u001b[0m\u001b[1;33m=\u001b[0m\u001b[0mjj\u001b[0m\u001b[1;33m)\u001b[0m\u001b[1;33m\u001b[0m\u001b[0m\n\u001b[0;32m      7\u001b[0m     \u001b[0mcell\u001b[0m\u001b[1;33m.\u001b[0m\u001b[0mtraj\u001b[0m\u001b[1;33m.\u001b[0m\u001b[0mgetLeftAndRightwardRuns\u001b[0m\u001b[1;33m(\u001b[0m\u001b[1;33m)\u001b[0m\u001b[1;33m\u001b[0m\u001b[0m\n\u001b[1;32m----> 8\u001b[1;33m     \u001b[0mcell\u001b[0m\u001b[1;33m.\u001b[0m\u001b[0mgetLeftAndRightwardSpikes\u001b[0m\u001b[1;33m(\u001b[0m\u001b[0monlyRunning\u001b[0m\u001b[1;33m=\u001b[0m\u001b[0mTrue\u001b[0m\u001b[1;33m)\u001b[0m\u001b[1;33m\u001b[0m\u001b[0m\n\u001b[0m\u001b[0;32m      9\u001b[0m     \u001b[1;32mif\u001b[0m \u001b[1;33m(\u001b[0m\u001b[0mhasattr\u001b[0m\u001b[1;33m(\u001b[0m\u001b[0mcell\u001b[0m\u001b[1;33m,\u001b[0m\u001b[1;34m'links_spikeTimes'\u001b[0m\u001b[1;33m)\u001b[0m \u001b[1;32mand\u001b[0m \u001b[0mhasattr\u001b[0m\u001b[1;33m(\u001b[0m\u001b[0mcell\u001b[0m\u001b[1;33m,\u001b[0m\u001b[1;34m'rechts_spikeTimes'\u001b[0m\u001b[1;33m)\u001b[0m\u001b[1;33m)\u001b[0m\u001b[1;33m:\u001b[0m\u001b[1;33m\u001b[0m\u001b[0m\n\u001b[0;32m     10\u001b[0m         \u001b[0moverlap\u001b[0m\u001b[1;33m.\u001b[0m\u001b[0mappend\u001b[0m\u001b[1;33m(\u001b[0m\u001b[0mfloat\u001b[0m\u001b[1;33m(\u001b[0m\u001b[0mnp\u001b[0m\u001b[1;33m.\u001b[0m\u001b[0mintersect1d\u001b[0m\u001b[1;33m(\u001b[0m\u001b[0mcell\u001b[0m\u001b[1;33m.\u001b[0m\u001b[0mlinks_spikeTimes\u001b[0m\u001b[1;33m,\u001b[0m\u001b[0mcell\u001b[0m\u001b[1;33m.\u001b[0m\u001b[0mrechts_spikeTimes\u001b[0m\u001b[1;33m)\u001b[0m\u001b[1;33m.\u001b[0m\u001b[0msize\u001b[0m\u001b[1;33m)\u001b[0m \u001b[1;33m/\u001b[0m \u001b[0mcell\u001b[0m\u001b[1;33m.\u001b[0m\u001b[0mspike_times\u001b[0m\u001b[1;33m.\u001b[0m\u001b[0msize\u001b[0m\u001b[1;33m)\u001b[0m\u001b[1;33m\u001b[0m\u001b[0m\n",
        "\u001b[1;31mTypeError\u001b[0m: getLeftAndRightwardSpikes() got an unexpected keyword argument 'onlyRunning'"
       ]
      }
     ],
     "prompt_number": 34
    },
    {
     "cell_type": "code",
     "collapsed": false,
     "input": [
      "overlapC = []\n",
      "for jj in placeCellIDs:\n",
      "    #cell.traj.getRunningTraj(threshspeed=float(jj+1)/33)\n",
      "    lt1List[jj].getSpikePlaces()\n",
      "    lt1List[jj].getRunningSpikes(threshspeed=0.7)\n",
      "    lt1List[jj].traj.getLeftAndRightwardRuns()\n",
      "    lt1List[jj].getLeftAndRightwardSpikes(onlyRunning=True)\n",
      "    if (hasattr(lt1List[jj],'links_spikeTimes') and hasattr(lt1List[jj],'rechts_spikeTimes')):\n",
      "        overlapC.append(float(np.intersect1d(lt1List[jj].links_spikeTimes,lt1List[jj].rechts_spikeTimes).size) / lt1List[jj].spike_times.size)\n",
      "        #notClassified.append(1 - ((lt1List[jj].links_spikeTimes.size+lt1List[jj].rechts_spikeTimes.size) / float(lt1List[jj].spike_times.size)))\n",
      "    else:\n",
      "        overlapC.append(np.nan)\n",
      "\n",
      "overlapC = np.array(overlapC)"
     ],
     "language": "python",
     "metadata": {},
     "outputs": [
      {
       "output_type": "stream",
       "stream": "stderr",
       "text": [
        "WARNING:signale.place_cells:Calculating without spike phases! If spike phases are needed caluculate them in advance!\n"
       ]
      },
      {
       "output_type": "stream",
       "stream": "stderr",
       "text": [
        "WARNING:signale.place_cells:Calculating without spike head directions! If spike head directions are needed caluculate them in advance!\n"
       ]
      },
      {
       "output_type": "stream",
       "stream": "stdout",
       "text": [
        "calculating trajectory with running speed >= 0.7\n",
        "WARNING: Calculating without head directions! If head directions are needed                 calculate them first!\n"
       ]
      },
      {
       "ename": "TypeError",
       "evalue": "getLeftAndRightwardSpikes() got an unexpected keyword argument 'onlyRunning'",
       "output_type": "pyerr",
       "traceback": [
        "\u001b[1;31m---------------------------------------------------------------------------\u001b[0m\n\u001b[1;31mTypeError\u001b[0m                                 Traceback (most recent call last)",
        "\u001b[1;32m<ipython-input-35-6a5b79d7a666>\u001b[0m in \u001b[0;36m<module>\u001b[1;34m()\u001b[0m\n\u001b[0;32m      5\u001b[0m     \u001b[0mlt1List\u001b[0m\u001b[1;33m[\u001b[0m\u001b[0mjj\u001b[0m\u001b[1;33m]\u001b[0m\u001b[1;33m.\u001b[0m\u001b[0mgetRunningSpikes\u001b[0m\u001b[1;33m(\u001b[0m\u001b[0mthreshspeed\u001b[0m\u001b[1;33m=\u001b[0m\u001b[1;36m0.7\u001b[0m\u001b[1;33m)\u001b[0m\u001b[1;33m\u001b[0m\u001b[0m\n\u001b[0;32m      6\u001b[0m     \u001b[0mlt1List\u001b[0m\u001b[1;33m[\u001b[0m\u001b[0mjj\u001b[0m\u001b[1;33m]\u001b[0m\u001b[1;33m.\u001b[0m\u001b[0mtraj\u001b[0m\u001b[1;33m.\u001b[0m\u001b[0mgetLeftAndRightwardRuns\u001b[0m\u001b[1;33m(\u001b[0m\u001b[1;33m)\u001b[0m\u001b[1;33m\u001b[0m\u001b[0m\n\u001b[1;32m----> 7\u001b[1;33m     \u001b[0mlt1List\u001b[0m\u001b[1;33m[\u001b[0m\u001b[0mjj\u001b[0m\u001b[1;33m]\u001b[0m\u001b[1;33m.\u001b[0m\u001b[0mgetLeftAndRightwardSpikes\u001b[0m\u001b[1;33m(\u001b[0m\u001b[0monlyRunning\u001b[0m\u001b[1;33m=\u001b[0m\u001b[0mTrue\u001b[0m\u001b[1;33m)\u001b[0m\u001b[1;33m\u001b[0m\u001b[0m\n\u001b[0m\u001b[0;32m      8\u001b[0m     \u001b[1;32mif\u001b[0m \u001b[1;33m(\u001b[0m\u001b[0mhasattr\u001b[0m\u001b[1;33m(\u001b[0m\u001b[0mlt1List\u001b[0m\u001b[1;33m[\u001b[0m\u001b[0mjj\u001b[0m\u001b[1;33m]\u001b[0m\u001b[1;33m,\u001b[0m\u001b[1;34m'links_spikeTimes'\u001b[0m\u001b[1;33m)\u001b[0m \u001b[1;32mand\u001b[0m \u001b[0mhasattr\u001b[0m\u001b[1;33m(\u001b[0m\u001b[0mlt1List\u001b[0m\u001b[1;33m[\u001b[0m\u001b[0mjj\u001b[0m\u001b[1;33m]\u001b[0m\u001b[1;33m,\u001b[0m\u001b[1;34m'rechts_spikeTimes'\u001b[0m\u001b[1;33m)\u001b[0m\u001b[1;33m)\u001b[0m\u001b[1;33m:\u001b[0m\u001b[1;33m\u001b[0m\u001b[0m\n\u001b[0;32m      9\u001b[0m         \u001b[0moverlapC\u001b[0m\u001b[1;33m.\u001b[0m\u001b[0mappend\u001b[0m\u001b[1;33m(\u001b[0m\u001b[0mfloat\u001b[0m\u001b[1;33m(\u001b[0m\u001b[0mnp\u001b[0m\u001b[1;33m.\u001b[0m\u001b[0mintersect1d\u001b[0m\u001b[1;33m(\u001b[0m\u001b[0mlt1List\u001b[0m\u001b[1;33m[\u001b[0m\u001b[0mjj\u001b[0m\u001b[1;33m]\u001b[0m\u001b[1;33m.\u001b[0m\u001b[0mlinks_spikeTimes\u001b[0m\u001b[1;33m,\u001b[0m\u001b[0mlt1List\u001b[0m\u001b[1;33m[\u001b[0m\u001b[0mjj\u001b[0m\u001b[1;33m]\u001b[0m\u001b[1;33m.\u001b[0m\u001b[0mrechts_spikeTimes\u001b[0m\u001b[1;33m)\u001b[0m\u001b[1;33m.\u001b[0m\u001b[0msize\u001b[0m\u001b[1;33m)\u001b[0m \u001b[1;33m/\u001b[0m \u001b[0mlt1List\u001b[0m\u001b[1;33m[\u001b[0m\u001b[0mjj\u001b[0m\u001b[1;33m]\u001b[0m\u001b[1;33m.\u001b[0m\u001b[0mspike_times\u001b[0m\u001b[1;33m.\u001b[0m\u001b[0msize\u001b[0m\u001b[1;33m)\u001b[0m\u001b[1;33m\u001b[0m\u001b[0m\n",
        "\u001b[1;31mTypeError\u001b[0m: getLeftAndRightwardSpikes() got an unexpected keyword argument 'onlyRunning'"
       ]
      }
     ],
     "prompt_number": 35
    },
    {
     "cell_type": "code",
     "collapsed": false,
     "input": [
      "overlapC.mean()"
     ],
     "language": "python",
     "metadata": {},
     "outputs": [
      {
       "metadata": {},
       "output_type": "pyout",
       "prompt_number": 53,
       "text": [
        "0.021404655487325834"
       ]
      }
     ],
     "prompt_number": 53
    },
    {
     "cell_type": "code",
     "collapsed": false,
     "input": [
      "np.ma.count_masked(np.ma.masked_values(cell.traj.rechts_times,cell.spike_times[0], atol=cell.traj.dt)) == 0\n"
     ],
     "language": "python",
     "metadata": {},
     "outputs": [
      {
       "metadata": {},
       "output_type": "pyout",
       "prompt_number": 120,
       "text": [
        "False"
       ]
      }
     ],
     "prompt_number": 120
    },
    {
     "cell_type": "code",
     "collapsed": false,
     "input": [
      "np.ma.count_masked(np.ma.masked_values([1,2,3,4,5,5],5))"
     ],
     "language": "python",
     "metadata": {},
     "outputs": [
      {
       "metadata": {},
       "output_type": "pyout",
       "prompt_number": 137,
       "text": [
        "2"
       ]
      }
     ],
     "prompt_number": 137
    },
    {
     "cell_type": "code",
     "collapsed": false,
     "input": [
      "np.arange(0.4,1,0.02)"
     ],
     "language": "python",
     "metadata": {},
     "outputs": [
      {
       "metadata": {},
       "output_type": "pyout",
       "prompt_number": 296,
       "text": [
        "array([ 0.4 ,  0.42,  0.44,  0.46,  0.48,  0.5 ,  0.52,  0.54,  0.56,\n",
        "        0.58,  0.6 ,  0.62,  0.64,  0.66,  0.68,  0.7 ,  0.72,  0.74,\n",
        "        0.76,  0.78,  0.8 ,  0.82,  0.84,  0.86,  0.88,  0.9 ,  0.92,\n",
        "        0.94,  0.96,  0.98])"
       ]
      }
     ],
     "prompt_number": 296
    },
    {
     "cell_type": "code",
     "collapsed": false,
     "input": [
      "f = pl.figure()\n",
      "ax = pl.subplot(111)"
     ],
     "language": "python",
     "metadata": {},
     "outputs": [],
     "prompt_number": 153
    },
    {
     "cell_type": "code",
     "collapsed": false,
     "input": [
      "time,speed = traj.getSpeed()"
     ],
     "language": "python",
     "metadata": {},
     "outputs": [],
     "prompt_number": 155
    },
    {
     "cell_type": "code",
     "collapsed": false,
     "input": [
      "pl.plot(time,speed)"
     ],
     "language": "python",
     "metadata": {},
     "outputs": [
      {
       "metadata": {},
       "output_type": "pyout",
       "prompt_number": 159,
       "text": [
        "[<matplotlib.lines.Line2D at 0xac78f50>]"
       ]
      }
     ],
     "prompt_number": 159
    },
    {
     "cell_type": "code",
     "collapsed": false,
     "input": [
      "vSmooth = np.convolve(np.diff(traj.places[:,0]),scsig.gaussian(10,3),'same')"
     ],
     "language": "python",
     "metadata": {},
     "outputs": [],
     "prompt_number": 174
    },
    {
     "cell_type": "code",
     "collapsed": false,
     "input": [
      "taxis = np.array([(traj.times[i] + traj.times[i+1])/2 for i in range(traj.times.size -1)])"
     ],
     "language": "python",
     "metadata": {},
     "outputs": [],
     "prompt_number": 168
    },
    {
     "cell_type": "code",
     "collapsed": false,
     "input": [
      "pl.plot(taxis,vSmooth)"
     ],
     "language": "python",
     "metadata": {},
     "outputs": [
      {
       "metadata": {},
       "output_type": "pyout",
       "prompt_number": 175,
       "text": [
        "[<matplotlib.lines.Line2D at 0xcab1ed0>]"
       ]
      }
     ],
     "prompt_number": 175
    },
    {
     "cell_type": "code",
     "collapsed": false,
     "input": [
      "traj.getRunningTraj(0.6)\n",
      "traj.getLeftAndRightwardRuns(onlyRunning=True)"
     ],
     "language": "python",
     "metadata": {},
     "outputs": [
      {
       "output_type": "stream",
       "stream": "stdout",
       "text": [
        "NOTE: Reset threshspeed from 0.7 to 0.6 m/s\n",
        "calculating trajectory with running speed >= 0.6\n",
        "WARNING: Calculating without head directions! If head directions are needed                 calculate them first!\n"
       ]
      }
     ],
     "prompt_number": 316
    },
    {
     "cell_type": "code",
     "collapsed": false,
     "input": [
      "pl.plot(traj.places[:,0],traj.times,'b.',alpha=0.5)\n",
      "pl.plot(traj.rechts_places[:,0],traj.rechts_times,'r*',markersize=10)\n",
      "pl.plot(traj.links_places[:,0],traj.links_times,'g*',markersize=10,alpha=0.5)"
     ],
     "language": "python",
     "metadata": {},
     "outputs": [
      {
       "metadata": {},
       "output_type": "pyout",
       "prompt_number": 325,
       "text": [
        "[<matplotlib.lines.Line2D at 0x2e4fb4d0>]"
       ]
      }
     ],
     "prompt_number": 325
    },
    {
     "cell_type": "code",
     "collapsed": false,
     "input": [
      "np.where(traj.places[:,0] > 1.86)[0].size"
     ],
     "language": "python",
     "metadata": {},
     "outputs": [
      {
       "metadata": {},
       "output_type": "pyout",
       "prompt_number": 329,
       "text": [
        "5531"
       ]
      }
     ],
     "prompt_number": 329
    },
    {
     "cell_type": "code",
     "collapsed": false,
     "input": [
      "np.where(traj.places[:,0] <0.14)[0].size"
     ],
     "language": "python",
     "metadata": {},
     "outputs": [
      {
       "metadata": {},
       "output_type": "pyout",
       "prompt_number": 328,
       "text": [
        "6000"
       ]
      }
     ],
     "prompt_number": 328
    },
    {
     "cell_type": "code",
     "collapsed": false,
     "input": [
      "traj.places.size"
     ],
     "language": "python",
     "metadata": {},
     "outputs": [
      {
       "metadata": {},
       "output_type": "pyout",
       "prompt_number": 330,
       "text": [
        "105471"
       ]
      }
     ],
     "prompt_number": 330
    },
    {
     "cell_type": "code",
     "collapsed": false,
     "input": [
      "11000./105000"
     ],
     "language": "python",
     "metadata": {},
     "outputs": [
      {
       "metadata": {},
       "output_type": "pyout",
       "prompt_number": 331,
       "text": [
        "0.10476190476190476"
       ]
      }
     ],
     "prompt_number": 331
    },
    {
     "cell_type": "code",
     "collapsed": false,
     "input": [],
     "language": "python",
     "metadata": {},
     "outputs": []
    }
   ],
   "metadata": {}
  }
 ]
}