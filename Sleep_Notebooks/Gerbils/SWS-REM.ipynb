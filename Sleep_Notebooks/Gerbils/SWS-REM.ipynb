{
 "cells": [
  {
   "cell_type": "code",
   "execution_count": 1,
   "metadata": {
    "collapsed": false
   },
   "outputs": [
    {
     "name": "stdout",
     "output_type": "stream",
     "text": [
      "Using matplotlib backend: Qt4Agg\n"
     ]
    }
   ],
   "source": [
    "%matplotlib \n",
    "%load_ext autoreload\n",
    "%autoreload 2"
   ]
  },
  {
   "cell_type": "code",
   "execution_count": 2,
   "metadata": {
    "collapsed": true
   },
   "outputs": [],
   "source": [
    "import sys\n",
    "sys.path.append('/mnt/Data/Workspaces/Eclipse/dataAnalysis/Sleep-current/src/')"
   ]
  },
  {
   "cell_type": "code",
   "execution_count": 3,
   "metadata": {
    "collapsed": false
   },
   "outputs": [
    {
     "name": "stderr",
     "output_type": "stream",
     "text": [
      "/home/chenani/anaconda/lib/python2.7/site-packages/matplotlib/__init__.py:1350: UserWarning:  This call to matplotlib.use() has no effect\n",
      "because the backend has already been chosen;\n",
      "matplotlib.use() must be called *before* pylab, matplotlib.pyplot,\n",
      "or matplotlib.backends is imported for the first time.\n",
      "\n",
      "  warnings.warn(_use_error_msg)\n",
      "/home/chenani/anaconda/lib/python2.7/site-packages/IPython/html.py:14: ShimWarning: The `IPython.html` package has been deprecated. You should import from `notebook` instead. `IPython.html.widgets` has moved to `ipywidgets`.\n",
      "  \"`IPython.html.widgets` has moved to `ipywidgets`.\", ShimWarning)\n"
     ]
    }
   ],
   "source": [
    "import matplotlib as mpl\n",
    "import matplotlib.pyplot as pl\n",
    "import numpy as np\n",
    "import pandas as pd\n",
    "import scipy.signal as scsig\n",
    "import spectrum as sp\n",
    "import signale\n",
    "import cPickle as pkl\n",
    "import time\n",
    "import statsmodels.api as sm\n",
    "import colormaps as cm\n",
    "import seaborn as sns\n",
    "import signale.tools as tools\n",
    "import os"
   ]
  },
  {
   "cell_type": "code",
   "execution_count": 4,
   "metadata": {
    "collapsed": true
   },
   "outputs": [],
   "source": [
    "def whitenARMA(sig,AR=2,MA=0):\n",
    "        arma = sm.tsa.ARMA(sig, (AR,MA)).fit(disp=0)\n",
    "        print 'ARMA parameters calculated for order(%s,%s)' %(AR,MA)\n",
    "        return arma.resid\n",
    "def MA(array,ord=2):\n",
    "    ma = np.array([array[ii-ord/2:ii+ord/2].mean() for ii in range(array.size) if ii >= ord ],dtype=float)\n",
    "    ma = np.insert(ma,0,array[0:ord/2])\n",
    "    ma = np.append(ma,array[-(ord/2)-1:-1])\n",
    "    return ma\n",
    "def zScore(array):\n",
    "    return(array - np.average(array))/ np.std(array)"
   ]
  },
  {
   "cell_type": "code",
   "execution_count": 5,
   "metadata": {
    "collapsed": false
   },
   "outputs": [],
   "source": [
    "animalPath = '/home/chenani/dataWork/ali/Gerbils/gerbil5/'\n",
    "localPath = '/mnt/Data/ephysdata/Gerbils/'"
   ]
  },
  {
   "cell_type": "code",
   "execution_count": 6,
   "metadata": {
    "collapsed": false
   },
   "outputs": [
    {
     "data": {
      "text/plain": [
       "(['/mnt/Data/ephysdata/Gerbils/G5/data/2011-08-04_sleep1_csc4.lfp',\n",
       "  '/mnt/Data/ephysdata/Gerbils/G5/data/2011-08-04_sleep2_csc4.lfp',\n",
       "  '/mnt/Data/ephysdata/Gerbils/G5/data/2011-08-04_sleep3_csc4.lfp',\n",
       "  '/mnt/Data/ephysdata/Gerbils/G5/data/2011-08-05_sleep1_csc4.lfp',\n",
       "  '/mnt/Data/ephysdata/Gerbils/G5/data/2011-08-05_sleep2_csc4.lfp',\n",
       "  '/mnt/Data/ephysdata/Gerbils/G5/data/2011-08-05_sleep3_csc4.lfp',\n",
       "  '/mnt/Data/ephysdata/Gerbils/G5/data/2011-08-07_sleep1_csc4.lfp',\n",
       "  '/mnt/Data/ephysdata/Gerbils/G5/data/2011-08-07_sleep2_csc4.lfp',\n",
       "  '/mnt/Data/ephysdata/Gerbils/G5/data/2011-08-07_sleep3_csc4.lfp',\n",
       "  '/mnt/Data/ephysdata/Gerbils/G5/data/2011-08-09_sleep1_csc4.lfp',\n",
       "  '/mnt/Data/ephysdata/Gerbils/G5/data/2011-08-09_sleep2_csc4.lfp',\n",
       "  '/mnt/Data/ephysdata/Gerbils/G5/data/2011-08-09_sleep3_csc4.lfp',\n",
       "  '/mnt/Data/ephysdata/Gerbils/G5/data/2011-08-10_sleep1_csc4.lfp',\n",
       "  '/mnt/Data/ephysdata/Gerbils/G5/data/2011-08-10_sleep2_csc4.lfp',\n",
       "  '/mnt/Data/ephysdata/Gerbils/G5/data/2011-08-10_sleep3_csc4.lfp',\n",
       "  '/mnt/Data/ephysdata/Gerbils/G5/data/2011-08-14_sleep1_csc4.lfp',\n",
       "  '/mnt/Data/ephysdata/Gerbils/G5/data/2011-08-14_sleep2_csc4.lfp',\n",
       "  '/mnt/Data/ephysdata/Gerbils/G5/data/2011-08-14_sleep3_csc4.lfp',\n",
       "  '/mnt/Data/ephysdata/Gerbils/G5/data/2011-08-15_sleep1_csc4.lfp',\n",
       "  '/mnt/Data/ephysdata/Gerbils/G5/data/2011-08-15_sleep2_csc4.lfp',\n",
       "  '/mnt/Data/ephysdata/Gerbils/G6/2011-09-19/2011-09-19_sleep1_CSC4.lfp',\n",
       "  '/mnt/Data/ephysdata/Gerbils/G6/2011-09-19/2011-09-19_sleep2_CSC4.lfp',\n",
       "  '/mnt/Data/ephysdata/Gerbils/G6/2011-09-19/2011-09-19_sleep3_CSC4.lfp',\n",
       "  '/mnt/Data/ephysdata/Gerbils/G6/2011-09-23/2011-09-23_sleep1_CSC4.lfp',\n",
       "  '/mnt/Data/ephysdata/Gerbils/G6/2011-09-23/2011-09-23_sleep2_CSC4.lfp',\n",
       "  '/mnt/Data/ephysdata/Gerbils/G6/2011-09-23/2011-09-23_sleep3_CSC4.lfp'],\n",
       " 26)"
      ]
     },
     "execution_count": 6,
     "metadata": {},
     "output_type": "execute_result"
    }
   ],
   "source": [
    "lfpPaths = []\n",
    "for lfp in tools.locate('*.lfp',localPath):\n",
    "    lfpPaths.append(os.path.join(lfp[0],lfp[1]))\n",
    "lfpPaths = sorted(lfpPaths)\n",
    "#lfpPaths = [ path for path in lfpPaths if (path.find('leep')>0 and path.find('CSC4')>0) ]\n",
    "lfpPaths,len(lfpPaths)"
   ]
  },
  {
   "cell_type": "code",
   "execution_count": 7,
   "metadata": {
    "collapsed": false
   },
   "outputs": [],
   "source": [
    "fig1,ax1 = pl.subplots(7,4,figsize=[20,20],sharex=True,sharey=True)\n",
    "for iii in range(len(lfpPaths)):\n",
    "    plotter = ax1[iii/4,np.mod(iii,4)]\n",
    "    lfp = pkl.load(open(lfpPaths[iii],'rb'))\n",
    "    Pxx, freqs, t = lfp.spectrogram(minFreq=.1,maxFreq=20,overlap=1024,windowSize=2048,whiten=True)\n",
    "    BandAvg = []\n",
    "    plotter.set_title(lfp.tags['path'].split('/')[-1])\n",
    "    for col in range(Pxx.shape[1]):\n",
    "        Pxx[:,col] = np.convolve(Pxx[:,col],scsig.gaussian(10,3),'same')\n",
    "        BandAvg.append(np.array([np.average(Pxx[:,col][0:15]),np.average(Pxx[:,col][16:31]),np.average(Pxx[:,col][32:])]))\n",
    "    for row in range(Pxx.shape[0]):\n",
    "        Pxx[row,:] = np.convolve(Pxx[row,:],scsig.gaussian(20,5),'same')\n",
    "    Pxx = np.clip(Pxx,0,Pxx.mean()+1.4*Pxx.std())\n",
    "    im = plotter.pcolormesh(t/1000.0,freqs,Pxx,cmap=cm.viridis)\n",
    "    plotter.axhline(5,c='w',lw=0.5)\n",
    "    plotter.set_xlim(0,t[0,-1]/1000.0)\n",
    "    #plotter.plot(lfp.th_del_ratio[0],lfp.th_del_ratio[1],lw=0.5,c='w')\n",
    "    #plotter.axhline(lfp.th_del_ratio[1].mean()+lfp.th_del_ratio[1].std(),lw=0.5,c='r')\n",
    "    Draw = np.array(BandAvg)[:,0]\n",
    "    Traw = np.array(BandAvg)[:,1]\n",
    "    Graw = np.array(BandAvg)[:,2]\n",
    "    Dz = (Draw - Draw.mean())/Draw.std()\n",
    "    Tz = (Traw - Traw.mean())/Traw.std()\n",
    "    Gz = (Graw - Graw.mean())/Graw.std()\n",
    "    plotter.plot(t[0,:]/1000.0,zScore(np.convolve(Dz,scsig.gaussian(20,10),'same'))-zScore(np.convolve(Tz,scsig.gaussian(20,10),'same')),'b')\n",
    "    plotter.axhspan(-1,1,alpha=0.1,color='r')\n",
    "    plotter.set_ylabel(lfp.tags['file'])\n",
    "    plotter.set_xlabel(lfp.tags['path'].split('/')[-2])\n",
    "fig,ax = pl.subplots(3,4,figsize=[20,20],sharex=True,sharey=True)\n",
    "for iii in range(5):\n",
    "    plotter = ax[iii/4,np.mod(iii,4)]\n",
    "    lfp = pkl.load(open(lfpPaths[iii+15],'rb'))\n",
    "    plotter.plot(lfp.time_axis()/1e3,lfp.signal,lw=0.5)\n",
    "    BandAvg = []\n",
    "    plotter.set_xlabel(lfp.tags['path'].split('/')[-2])\n",
    "    plotter.set_title(lfp.tags['path'].split('/')[-1])\n"
   ]
  },
  {
   "cell_type": "code",
   "execution_count": null,
   "metadata": {
    "collapsed": false
   },
   "outputs": [],
   "source": []
  },
  {
   "cell_type": "code",
   "execution_count": 7,
   "metadata": {
    "collapsed": false
   },
   "outputs": [],
   "source": [
    "SleepEpochsEven = pd.DataFrame([[1,70,'REM','sleep01','2011-09-19','G6'],\n",
    "                            [70,135,'SWS','sleep01','2011-09-19','G6'],\n",
    "                            [140,200,'REM','sleep01','2011-09-19','G6'],\n",
    "                            [210,275,'SWS','sleep01','2011-09-19','G6'],\n",
    "                            [275,360,'SWS','sleep01','2011-09-19','G6'],\n",
    "                            [370,435,'REM','sleep01','2011-09-19','G6'],\n",
    "                            [435,500,'REM','sleep01','2011-09-19','G6'],\n",
    "                            [500,565,'REM','sleep01','2011-09-19','G6'],\n",
    "                            [565,620,'REM','sleep01','2011-09-19','G6'],\n",
    "                            [630,700,'SWS','sleep01','2011-09-19','G6'],\n",
    "                            [700,770,'SWS','sleep01','2011-09-19','G6'],\n",
    "                            [780,850,'REM','sleep01','2011-09-19','G6'],\n",
    "                            [850,920,'REM','sleep01','2011-09-19','G6'],\n",
    "                            [920,1000,'REM','sleep01','2011-09-19','G6'],\n",
    "                            [1000,1060,'SWS','sleep01','2011-09-19','G6'],\n",
    "                            [1080,1140,'REM','sleep01','2011-09-19','G6'],\n",
    "                            [1140,1200,'REM','sleep01','2011-09-19','G6'],\n",
    "                            [20,70,'SWS','sleep02','2011-09-19','G6'],\n",
    "                            [70,135,'REM','sleep02','2011-09-19','G6'],\n",
    "                            [135,200,'REM','sleep02','2011-09-19','G6'],\n",
    "                            [210,270,'SWS','sleep02','2011-09-19','G6'],\n",
    "                            [280,350,'REM','sleep02','2011-09-19','G6'],\n",
    "                            [350,420,'REM','sleep02','2011-09-19','G6'],\n",
    "                            [500,545,'REM','sleep02','2011-09-19','G6'],\n",
    "                            [545,590,'REM','sleep02','2011-09-19','G6'],\n",
    "                            [1,65,'SWS','sleep03','2011-09-19','G6'],\n",
    "                            [65,130,'SWS','sleep03','2011-09-19','G6'],\n",
    "                            [130,190,'SWS','sleep03','2011-09-19','G6'],\n",
    "                            [190,255,'SWS','sleep03','2011-09-19','G6'],\n",
    "                            [260,315,'REM','sleep03','2011-09-19','G6'],\n",
    "                            [315,370,'REM','sleep03','2011-09-19','G6'],\n",
    "                            [370,430,'REM','sleep03','2011-09-19','G6'],\n",
    "                            [435,495,'SWS','sleep03','2011-09-19','G6'],\n",
    "                            [495,555,'SWS','sleep03','2011-09-19','G6'],\n",
    "                            [555,615,'SWS','sleep03','2011-09-19','G6'],\n",
    "                            [615,675,'SWS','sleep03','2011-09-19','G6'],\n",
    "                            [675,735,'SWS','sleep03','2011-09-19','G6'],\n",
    "                            [735,795,'SWS','sleep03','2011-09-19','G6'],\n",
    "                            [795,855,'SWS','sleep03','2011-09-19','G6'],\n",
    "                            [855,915,'SWS','sleep03','2011-09-19','G6'],\n",
    "                            [915,975,'SWS','sleep03','2011-09-19','G6'],\n",
    "                            [975,1030,'SWS','sleep03','2011-09-19','G6'],\n",
    "                            [1100,1150,'REM','sleep03','2011-09-19','G6'],\n",
    "                            [1150,1200,'REM','sleep03','2011-09-19','G6'],\n",
    "                            [115,150,'SWS','sleep01','2011-09-23','G6'],\n",
    "                            [155,220,'REM','sleep01','2011-09-23','G6'],\n",
    "                            [220,285,'REM','sleep01','2011-09-23','G6'],\n",
    "                            [285,360,'REM','sleep01','2011-09-23','G6'],\n",
    "                            [370,410,'SWS','sleep01','2011-09-23','G6'],\n",
    "                            [425,500,'SWS','sleep01','2011-09-23','G6'],\n",
    "                            [500,580,'REM','sleep01','2011-09-23','G6'],\n",
    "                            [600,650,'SWS','sleep01','2011-09-23','G6'],\n",
    "                            [660,700,'REM','sleep01','2011-09-23','G6'],\n",
    "                            [700,760,'SWS','sleep01','2011-09-23','G6'],\n",
    "                            [760,820,'REM','sleep01','2011-09-23','G6'],\n",
    "                            [820,880,'REM','sleep01','2011-09-23','G6'],\n",
    "                            [880,940,'REM','sleep01','2011-09-23','G6'],\n",
    "                            [950,995,'SWS','sleep01','2011-09-23','G6'],\n",
    "                            [995,1040,'SWS','sleep01','2011-09-23','G6'],\n",
    "                            [1050,1110,'REM','sleep01','2011-09-23','G6'],\n",
    "                            [1110,1165,'REM','sleep01','2011-09-23','G6'],\n",
    "                            [1165,1220,'REM','sleep01','2011-09-23','G6'],\n",
    "                            [1220,1240,'SWS','sleep01','2011-09-23','G6'],\n",
    "                            [1240,1320,'REM','sleep01','2011-09-23','G6'],\n",
    "                            [40,80,'SWS','sleep02','2011-09-23','G6'],\n",
    "                            [85,140,'REM','sleep02','2011-09-23','G6'],\n",
    "                            [140,195,'REM','sleep02','2011-09-23','G6'],\n",
    "                            [195,250,'REM','sleep02','2011-09-23','G6'],\n",
    "                            [250,310,'REM','sleep02','2011-09-23','G6'],\n",
    "                            [310,370,'REM','sleep02','2011-09-23','G6'],\n",
    "                            [370,430,'REM','sleep02','2011-09-23','G6'],\n",
    "                            [430,490,'REM','sleep02','2011-09-23','G6'],\n",
    "                            [490,570,'SWS','sleep02','2011-09-23','G6'],\n",
    "                            [610,670,'SWS','sleep02','2011-09-23','G6'],\n",
    "                            [670,730,'SWS','sleep02','2011-09-23','G6'],\n",
    "                            [730,800,'REM','sleep02','2011-09-23','G6'],\n",
    "                            [800,880,'REM','sleep02','2011-09-23','G6'],\n",
    "                            [1,70,'REM','sleep03','2011-09-23','G6'],\n",
    "                            [70,110,'SWS','sleep03','2011-09-23','G6'],\n",
    "                            [110,135,'REM','sleep03','2011-09-23','G6'],\n",
    "                            [140,200,'SWS','sleep03','2011-09-23','G6'],\n",
    "                            [300,350,'REM','sleep03','2011-09-23','G6'],\n",
    "                            [360,405,'SWS','sleep03','2011-09-23','G6'],\n",
    "                            [405,450,'SWS','sleep03','2011-09-23','G6'],\n",
    "                            [550,660,'SWS','sleep03','2011-09-23','G6'],\n",
    "                            [550,605,'SWS','sleep03','2011-09-23','G6'],\n",
    "                            [605,660,'SWS','sleep03','2011-09-23','G6'],\n",
    "                            [680,735,'REM','sleep03','2011-09-23','G6'],\n",
    "                            [735,790,'REM','sleep03','2011-09-23','G6'],\n",
    "                            [790,845,'REM','sleep03','2011-09-23','G6'],\n",
    "                            [845,900,'REM','sleep03','2011-09-23','G6'],\n",
    "                            [930,1000,'SWS','sleep03','2011-09-23','G6'],\n",
    "                            [1000,1065,'SWS','sleep03','2011-09-23','G6'],\n",
    "                            [1065,1130,'SWS','sleep03','2011-09-23','G6'],\n",
    "                            [1,55,'SWS','sleep01','2011-08-05','G5'],\n",
    "                            [55,110,'SWS','sleep01','2011-08-05','G5'],\n",
    "                            [110,165,'REM','sleep01','2011-08-05','G5'],\n",
    "                            [165,220,'REM','sleep01','2011-08-05','G5'],\n",
    "                            [220,280,'REM','sleep01','2011-08-05','G5'],\n",
    "                            [280,340,'REM','sleep01','2011-08-05','G5'],\n",
    "                            [340,400,'REM','sleep01','2011-08-05','G5'],\n",
    "                            [400,475,'SWS','sleep01','2011-08-05','G5'],\n",
    "                            [475,550,'SWS','sleep01','2011-08-05','G5'],\n",
    "                            [1,55,'SWS','sleep02','2011-08-05','G5'],\n",
    "                            [55,110,'SWS','sleep02','2011-08-05','G5'],\n",
    "                            [170,220,'REM','sleep02','2011-08-05','G5'],\n",
    "                            [120,195,'REM','sleep02','2011-08-05','G5'],\n",
    "                            [195,270,'REM','sleep02','2011-08-05','G5'],\n",
    "                            [420,500,'SWS','sleep02','2011-08-05','G5'],\n",
    "                            [520,550,'REM','sleep02','2011-08-05','G5'],\n",
    "                            [550,600,'SWS','sleep02','2011-08-05','G5'],\n",
    "                            [1,75,'SWS','sleep03','2011-08-05','G5'],\n",
    "                            [100,190,'SWS','sleep03','2011-08-05','G5'],\n",
    "                            [210,260,'SWS','sleep03','2011-08-05','G5'],\n",
    "                            [260,310,'SWS','sleep03','2011-08-05','G5'],\n",
    "                            [310,360,'REM','sleep03','2011-08-05','G5'],\n",
    "                            [535,590,'SWS','sleep03','2011-08-05','G5'],\n",
    "                            [1,35,'REM','sleep01','2011-08-07','G5'],\n",
    "                            [40,80,'SWS','sleep01','2011-08-07','G5'],\n",
    "                            [80,135,'REM','sleep01','2011-08-07','G5'],\n",
    "                            [135,200,'SWS','sleep01','2011-08-07','G5'],\n",
    "                            [200,265,'SWS','sleep01','2011-08-07','G5'],\n",
    "                            [265,350,'SWS','sleep01','2011-08-07','G5'],\n",
    "                            [370,460,'REM','sleep01','2011-08-07','G5'],\n",
    "                            [5,85,'SWS','sleep02','2011-08-07','G5'],\n",
    "                            [90,160,'REM','sleep02','2011-08-07','G5'],\n",
    "                            [160,230,'REM','sleep02','2011-08-07','G5'],\n",
    "                            [230,300,'REM','sleep02','2011-08-07','G5'],\n",
    "                            [300,370,'REM','sleep02','2011-08-07','G5'],\n",
    "                            [380,445,'SWS','sleep02','2011-08-07','G5'],\n",
    "                            [445,510,'SWS','sleep02','2011-08-07','G5'],\n",
    "                            [510,575,'SWS','sleep02','2011-08-07','G5'],\n",
    "                            [575,640,'SWS','sleep02','2011-08-07','G5'],\n",
    "                            [640,710,'SWS','sleep02','2011-08-07','G5'],\n",
    "                            [1,100,'SWS','sleep03','2011-08-07','G5'],\n",
    "                            [120,170,'REM','sleep03','2011-08-07','G5'],\n",
    "                            [180,240,'SWS','sleep03','2011-08-07','G5'],\n",
    "                            [240,300,'SWS','sleep03','2011-08-07','G5'],\n",
    "                            [300,360,'SWS','sleep03','2011-08-07','G5'],\n",
    "                            [360,420,'SWS','sleep03','2011-08-07','G5'],\n",
    "                            [420,480,'SWS','sleep03','2011-08-07','G5'],\n",
    "                            [480,530,'SWS','sleep03','2011-08-07','G5'],\n",
    "                            [530,580,'SWS','sleep03','2011-08-07','G5'],\n",
    "                            [1,50,'REM','sleep01','2011-08-09','G5'],\n",
    "                            [50,140,'SWS','sleep01','2011-08-09','G5'],\n",
    "                            [140,220,'REM','sleep01','2011-08-09','G5'],\n",
    "                            [220,265,'SWS','sleep01','2011-08-09','G5'],\n",
    "                            [265,335,'REM','sleep01','2011-08-09','G5'],\n",
    "                            [335,385,'SWS','sleep01','2011-08-09','G5'],\n",
    "                            [390,470,'REM','sleep01','2011-08-09','G5'],\n",
    "                            [475,530,'SWS','sleep01','2011-08-09','G5'],\n",
    "                            [530,585,'SWS','sleep01','2011-08-09','G5'],\n",
    "                            [585,640,'SWS','sleep01','2011-08-09','G5'],\n",
    "                            [640,700,'SWS','sleep01','2011-08-09','G5'],\n",
    "                            [1,50,'REM','sleep01','2011-08-09','G5'],\n",
    "                            [20,90,'SWS','sleep02','2011-08-09','G5'],\n",
    "                            [150,200,'SWS','sleep02','2011-08-09','G5'],\n",
    "                            [200,250,'SWS','sleep02','2011-08-09','G5'],\n",
    "                            [260,320,'REM','sleep02','2011-08-09','G5'],\n",
    "                            [320,380,'REM','sleep02','2011-08-09','G5'],\n",
    "                            [380,440,'REM','sleep02','2011-08-09','G5'],\n",
    "                            [440,500,'REM','sleep02','2011-08-09','G5'],\n",
    "                            [1,50,'REM','sleep03','2011-08-09','G5'],\n",
    "                            [50,110,'SWS','sleep03','2011-08-09','G5'],\n",
    "                            [110,170,'SWS','sleep03','2011-08-09','G5'],\n",
    "                            [170,230,'SWS','sleep03','2011-08-09','G5'],\n",
    "                            [230,300,'SWS','sleep03','2011-08-09','G5'],\n",
    "                            [320,370,'REM','sleep03','2011-08-09','G5'],\n",
    "                            [370,420,'REM','sleep03','2011-08-09','G5'],\n",
    "                            [420,490,'SWS','sleep03','2011-08-09','G5'],\n",
    "                            [490,560,'SWS','sleep03','2011-08-09','G5'],\n",
    "                            [560,600,'REM','sleep03','2011-08-09','G5'],\n",
    "                            [620,690,'SWS','sleep03','2011-08-09','G5'],\n",
    "                            [10,65,'SWS','sleep01','2011-08-10','G5'],\n",
    "                            [65,120,'SWS','sleep01','2011-08-10','G5'],\n",
    "                            [120,160,'REM','sleep01','2011-08-10','G5'],\n",
    "                            [160,240,'SWS','sleep01','2011-08-10','G5'],\n",
    "                            [250,300,'REM','sleep01','2011-08-10','G5'],\n",
    "                            [300,350,'SWS','sleep01','2011-08-10','G5'],\n",
    "                            [355,390,'REM','sleep01','2011-08-10','G5'],\n",
    "                            [440,520,'SWS','sleep01','2011-08-10','G5'],\n",
    "                            [520,560,'REM','sleep01','2011-08-10','G5'],\n",
    "                            [570,595,'SWS','sleep01','2011-08-10','G5'],\n",
    "                            [80,140,'SWS','sleep02','2011-08-10','G5'],\n",
    "                            [140,200,'SWS','sleep02','2011-08-10','G5'],\n",
    "                            [200,285,'SWS','sleep02','2011-08-10','G5'],\n",
    "                            [380,450,'REM','sleep02','2011-08-10','G5'],\n",
    "                            [450,520,'REM','sleep02','2011-08-10','G5'],\n",
    "                            [10,65,'REM','sleep03','2011-08-10','G5'],\n",
    "                            [65,120,'REM','sleep03','2011-08-10','G5'],\n",
    "                            [120,195,'SWS','sleep03','2011-08-10','G5'],\n",
    "                            [200,275,'REM','sleep03','2011-08-10','G5'],\n",
    "                            [275,350,'REM','sleep03','2011-08-10','G5'],\n",
    "                            [360,410,'SWS','sleep03','2011-08-10','G5'],\n",
    "                            [410,460,'SWS','sleep03','2011-08-10','G5'],\n",
    "                            [520,590,'SWS','sleep03','2011-08-10','G5'],\n",
    "                            [620,680,'SWS','sleep03','2011-08-10','G5'],\n",
    "                            ],\n",
    "                           columns=['t0','t1','epoch','session','date','animal'])\n"
   ]
  },
  {
   "cell_type": "code",
   "execution_count": null,
   "metadata": {
    "collapsed": false
   },
   "outputs": [],
   "source": []
  },
  {
   "cell_type": "code",
   "execution_count": 15,
   "metadata": {
    "collapsed": false
   },
   "outputs": [
    {
     "name": "stdout",
     "output_type": "stream",
     "text": [
      "2011-09-23 sleep03\n",
      "17\n",
      "      t0    t1 epoch  session        date animal\n",
      "0      1    70   REM  sleep03  2011-09-23     G6\n",
      "1     70   110   SWS  sleep03  2011-09-23     G6\n",
      "2    110   135   REM  sleep03  2011-09-23     G6\n",
      "3    140   200   SWS  sleep03  2011-09-23     G6\n",
      "4    300   350   REM  sleep03  2011-09-23     G6\n",
      "5    360   405   SWS  sleep03  2011-09-23     G6\n",
      "6    405   450   SWS  sleep03  2011-09-23     G6\n",
      "7    550   660   SWS  sleep03  2011-09-23     G6\n",
      "8    550   605   SWS  sleep03  2011-09-23     G6\n",
      "9    605   660   SWS  sleep03  2011-09-23     G6\n",
      "10   680   735   REM  sleep03  2011-09-23     G6\n",
      "11   735   790   REM  sleep03  2011-09-23     G6\n",
      "12   790   845   REM  sleep03  2011-09-23     G6\n",
      "13   845   900   REM  sleep03  2011-09-23     G6\n",
      "14   930  1000   SWS  sleep03  2011-09-23     G6\n",
      "15  1000  1065   SWS  sleep03  2011-09-23     G6\n",
      "16  1065  1130   SWS  sleep03  2011-09-23     G6\n",
      "2011-09-19 sleep02\n",
      "8\n",
      "    t0   t1 epoch  session        date animal\n",
      "0   20   70   SWS  sleep02  2011-09-19     G6\n",
      "1   70  135   REM  sleep02  2011-09-19     G6\n",
      "2  135  200   REM  sleep02  2011-09-19     G6\n",
      "3  210  270   SWS  sleep02  2011-09-19     G6\n",
      "4  280  350   REM  sleep02  2011-09-19     G6\n",
      "5  350  420   REM  sleep02  2011-09-19     G6\n",
      "6  500  545   REM  sleep02  2011-09-19     G6\n",
      "7  545  590   REM  sleep02  2011-09-19     G6\n",
      "2011-08-14 sleep03\n",
      "2011-08-10 sleep02\n",
      "5\n",
      "    t0   t1 epoch  session        date animal\n",
      "0   80  140   SWS  sleep02  2011-08-10     G5\n",
      "1  140  200   SWS  sleep02  2011-08-10     G5\n",
      "2  200  285   SWS  sleep02  2011-08-10     G5\n",
      "3  380  450   REM  sleep02  2011-08-10     G5\n",
      "4  450  520   REM  sleep02  2011-08-10     G5\n",
      "2011-08-09 sleep01\n",
      "12\n",
      "     t0   t1 epoch  session        date animal\n",
      "0     1   50   REM  sleep01  2011-08-09     G5\n",
      "1    50  140   SWS  sleep01  2011-08-09     G5\n",
      "2   140  220   REM  sleep01  2011-08-09     G5\n",
      "3   220  265   SWS  sleep01  2011-08-09     G5\n",
      "4   265  335   REM  sleep01  2011-08-09     G5\n",
      "5   335  385   SWS  sleep01  2011-08-09     G5\n",
      "6   390  470   REM  sleep01  2011-08-09     G5\n",
      "7   475  530   SWS  sleep01  2011-08-09     G5\n",
      "8   530  585   SWS  sleep01  2011-08-09     G5\n",
      "9   585  640   SWS  sleep01  2011-08-09     G5\n",
      "10  640  700   SWS  sleep01  2011-08-09     G5\n",
      "11    1   50   REM  sleep01  2011-08-09     G5\n",
      "2011-08-05 sleep03\n",
      "6\n",
      "    t0   t1 epoch  session        date animal\n",
      "0    1   75   SWS  sleep03  2011-08-05     G5\n",
      "1  100  190   SWS  sleep03  2011-08-05     G5\n",
      "2  210  260   SWS  sleep03  2011-08-05     G5\n",
      "3  260  310   SWS  sleep03  2011-08-05     G5\n",
      "4  310  360   REM  sleep03  2011-08-05     G5\n",
      "5  535  590   SWS  sleep03  2011-08-05     G5\n",
      "2011-08-04 sleep02\n"
     ]
    }
   ],
   "source": [
    "psd = np.array([])\n",
    "dates = []\n",
    "sessions = []\n",
    "animals = []\n",
    "state = []\n",
    "freqz = []\n",
    "epN = 0\n",
    "epochNo = []\n",
    "for path in lfpPaths[::-4]:\n",
    "    pickedChannel = pkl.load(open(path,'rb'))\n",
    "    NFFT = int(2 ** 17)\n",
    "    expDate = path.split('_')[0].split('/')[-1]\n",
    "    session = path.split('_')[-2]\n",
    "    session = session[:-1]+'0'+session[-1]\n",
    "    relevantEpochs = SleepEpochsEven[np.logical_and(SleepEpochsEven['date']== expDate,\n",
    "                                                SleepEpochsEven['session']==session)]\n",
    "    relevantEpochs.index = range(relevantEpochs.index.size)\n",
    "    Nepochs = relevantEpochs.shape[0]\n",
    "    print expDate,session\n",
    "    if Nepochs:\n",
    "        print NepochsresidPSDSmooth\n",
    "        print relevantEpochs\n",
    "        for kk in range(Nepochs):\n",
    "            t0 = relevantEpochs.t0[kk]\n",
    "            tf = relevantEpochs.t1[kk]\n",
    "            sigSlice = np.logical_and(pickedChannel.time_axis()>t0*1e3,pickedChannel.time_axis()<tf*1e3)\n",
    "            dsig = scsig.decimate(pickedChannel.signal[sigSlice],2)\n",
    "            arma = sm.tsa.ARMA(dsig,(2,0)).fit(disp=0)\n",
    "            #residPSD = sp.Periodogram(arma.resid,sampling=1000,NFFT=NFFT)\n",
    "            residPSD = sp.Periodogram(dsig,sampling=1000,NFFT=NFFT)\n",
    "            residPSD()\n",
    "            Nfreqz = residPSD.psd.size\n",
    "            smoothingKernel = scsig.gaussian(Nfreqz/100,Nfreqz/200)\n",
    "            residPSDSmooth = np.convolve(residPSD.psd*np.power(residPSD.frequencies(),2),smoothingKernel,'same')\n",
    "            residPSDSmooth = scsig.decimate(residPSDSmooth,10)\n",
    "            residPSDSmooth = 10*np.log10(residPSDSmooth/residPSDSmooth[0])\n",
    "            psd = np.append(psd,residPSDSmooth)\n",
    "            freqz.append(scsig.decimate(np.array(residPSD.frequencies()),10))\n",
    "            dates.append(residPSDSmooth.size*[relevantEpochs.date[0]])\n",
    "            sessions.append(residPSDSmooth.size*[relevantEpochs.session[0]])\n",
    "            animals.append(residPSDSmooth.size*[relevantEpochs.animal[0]])\n",
    "            state.append(residPSDSmooth.size*[relevantEpochs.epoch[kk]])\n",
    "            epochNo.append(residPSDSmooth.size*[epN])\n",
    "            epN+=1\n",
    "animals = np.array(animals).flatten()\n",
    "dates = np.array(dates).flatten()\n",
    "sessions = np.array(sessions).flatten()\n",
    "state = np.array(state).flatten()\n",
    "freqz = np.array(freqz).flatten()\n",
    "epochNo = np.array(epochNo).flatten()\n",
    "dfm = np.array([psd,freqz,state,epochNo,sessions,dates,animals]).T\n",
    "df = pd.DataFrame(dfm,columns=['psd','f','epoch','epochNo','session','date','animal'])\n",
    "df[['psd', 'f']] = df[['psd', 'f']].astype(float)\n",
    "df[['epochNo']] = df[['epochNo']].astype(int)\n",
    "df[['epoch','session','date','animal']] = df[['epoch','session','date','animal']].astype(str)"
   ]
  },
  {
   "cell_type": "code",
   "execution_count": 11,
   "metadata": {
    "collapsed": false
   },
   "outputs": [
    {
     "ename": "SyntaxError",
     "evalue": "invalid syntax (<ipython-input-11-0125245ba182>, line 27)",
     "output_type": "error",
     "traceback": [
      "\u001b[1;36m  File \u001b[1;32m\"<ipython-input-11-0125245ba182>\"\u001b[1;36m, line \u001b[1;32m27\u001b[0m\n\u001b[1;33m    -\u001b[0m\n\u001b[1;37m     ^\u001b[0m\n\u001b[1;31mSyntaxError\u001b[0m\u001b[1;31m:\u001b[0m invalid syntax\n"
     ]
    }
   ],
   "source": [
    "freqBins = np.linspace(0.5,300.5,600)\n",
    "psd = np.array([])\n",
    "dates = []\n",
    "sessions = []\n",
    "animals = []\n",
    "state = []\n",
    "freqz = []\n",
    "epN = 0\n",
    "epochNo = []\n",
    "for path in lfpPaths[:]:\n",
    "    pickedChannel = pkl.load(open(path,'rb'))\n",
    "    expDate = path.split('_')[0].split('/')[-1]\n",
    "    session = path.split('_')[-2]\n",
    "    session = session[:-1]+'0'+session[-1]\n",
    "    relevantEpochs = SleepEpochs[np.logical_and(SleepEpochs['date']== expDate,\n",
    "                                                SleepEpochs['session']==session)]\n",
    "    relevantEpochs.index = range(relevantEpochs.index.size)\n",
    "    Nepochs = relevantEpochs.shape[0]\n",
    "    print expDate,session\n",
    "    if Nepochs:\n",
    "        #print Nepochs\n",
    "        #print relevantEpochs\n",
    "        for kk in range(Nepochs):\n",
    "            t0 = relevantEpochs.t0[kk]\n",
    "            tf = relevantEpochs.t1[kk]\n",
    "            sigSlice = np.logical_and(pickedChannel.time_axis()>t0*1e3,pickedChannel.time_axis()<tf*1e3)\n",
    "            #missing sth\n",
    "            epN+=1\n",
    "animals = np.array(animals).flatten()\n",
    "dates = np.array(dates).flatten()\n",
    "sessions = np.array(sessions).flatten()\n",
    "state = np.array(state).flatten()\n",
    "freqz = np.array(freqz).flatten()\n",
    "epochNo = np.array(epochNo).flatten()\n",
    "dfm = np.array([psd,freqz,state,epochNo,sessions,dates,animals]).T\n",
    "df = pd.DataFrame(dfm,columns=['psd','f','epoch','epochNo','session','date','animal'])\n",
    "df[['psd', 'f']] = df[['psd', 'f']].astype(float)\n",
    "df[['epochNo']] = df[['epochNo']].astype(int)\n",
    "df[['epoch','session','date','animal']] = df[['epoch','session','date','animal']].astype(str)"
   ]
  },
  {
   "cell_type": "code",
   "execution_count": 17,
   "metadata": {
    "collapsed": false
   },
   "outputs": [
    {
     "data": {
      "text/plain": [
       "(0, 450)"
      ]
     },
     "execution_count": 17,
     "metadata": {},
     "output_type": "execute_result"
    }
   ],
   "source": [
    "#pl.yscale('log')\n",
    "sns.tsplot(value='psd',time='f',condition='epoch',unit='epochNo',data=df)#[df['epoch']=='SWS'])\n",
    "pl.xlim(0,450)"
   ]
  },
  {
   "cell_type": "code",
   "execution_count": 18,
   "metadata": {
    "collapsed": false
   },
   "outputs": [],
   "source": [
    "df.to_pickle(localPath+'psdF2dB.pd')\n",
    "#SleepEpochsEven.to_pickle(localPath+'SleepEpochsEven.pd')"
   ]
  },
  {
   "cell_type": "code",
   "execution_count": 32,
   "metadata": {
    "collapsed": false
   },
   "outputs": [],
   "source": [
    "(SleepEpochsEven[SleepEpochsEven['epoch']=='REM']['t1']-SleepEpochsEven[SleepEpochsEven['epoch']=='REM']['t0']).hist(bins=40)\n",
    "(SleepEpochsEven[SleepEpochsEven['epoch']=='SWS']['t1']-SleepEpochsEven[SleepEpochsEven['epoch']=='SWS']['t0']).hist(bins=40,alpha=0.5)\n",
    "pl.show()"
   ]
  },
  {
   "cell_type": "code",
   "execution_count": 25,
   "metadata": {
    "collapsed": false
   },
   "outputs": [
    {
     "data": {
      "text/html": [
       "<div>\n",
       "<table border=\"1\" class=\"dataframe\">\n",
       "  <thead>\n",
       "    <tr style=\"text-align: right;\">\n",
       "      <th></th>\n",
       "      <th>t0</th>\n",
       "      <th>t1</th>\n",
       "      <th>epoch</th>\n",
       "      <th>session</th>\n",
       "      <th>date</th>\n",
       "      <th>animal</th>\n",
       "    </tr>\n",
       "  </thead>\n",
       "  <tbody>\n",
       "    <tr>\n",
       "      <th>84</th>\n",
       "      <td>550</td>\n",
       "      <td>660</td>\n",
       "      <td>SWS</td>\n",
       "      <td>sleep03</td>\n",
       "      <td>2011-09-23</td>\n",
       "      <td>G6</td>\n",
       "    </tr>\n",
       "    <tr>\n",
       "      <th>92</th>\n",
       "      <td>980</td>\n",
       "      <td>1130</td>\n",
       "      <td>SWS</td>\n",
       "      <td>sleep03</td>\n",
       "      <td>2011-09-23</td>\n",
       "      <td>G6</td>\n",
       "    </tr>\n",
       "  </tbody>\n",
       "</table>\n",
       "</div>"
      ],
      "text/plain": [
       "     t0    t1 epoch  session        date animal\n",
       "84  550   660   SWS  sleep03  2011-09-23     G6\n",
       "92  980  1130   SWS  sleep03  2011-09-23     G6"
      ]
     },
     "execution_count": 25,
     "metadata": {},
     "output_type": "execute_result"
    }
   ],
   "source": [
    "SleepEpochsEven[(SleepEpochsEven.t1 - SleepEpochsEven.t0) >100]"
   ]
  },
  {
   "cell_type": "code",
   "execution_count": null,
   "metadata": {
    "collapsed": true
   },
   "outputs": [],
   "source": []
  }
 ],
 "metadata": {
  "kernelspec": {
   "display_name": "Python 2",
   "language": "python",
   "name": "python2"
  },
  "language_info": {
   "codemirror_mode": {
    "name": "ipython",
    "version": 2
   },
   "file_extension": ".py",
   "mimetype": "text/x-python",
   "name": "python",
   "nbconvert_exporter": "python",
   "pygments_lexer": "ipython2",
   "version": "2.7.12"
  }
 },
 "nbformat": 4,
 "nbformat_minor": 0
}
