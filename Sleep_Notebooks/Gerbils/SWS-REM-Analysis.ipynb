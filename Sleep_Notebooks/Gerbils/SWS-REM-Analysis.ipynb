{
 "cells": [
  {
   "cell_type": "code",
   "execution_count": 1,
   "metadata": {
    "collapsed": false
   },
   "outputs": [
    {
     "name": "stdout",
     "output_type": "stream",
     "text": [
      "Using matplotlib backend: Qt4Agg\n"
     ]
    }
   ],
   "source": [
    "%matplotlib \n",
    "%load_ext autoreload\n",
    "%autoreload 2"
   ]
  },
  {
   "cell_type": "code",
   "execution_count": 2,
   "metadata": {
    "collapsed": true
   },
   "outputs": [],
   "source": [
    "import sys\n",
    "sys.path.append('/mnt/Data/Workspaces/Eclipse/dataAnalysis/Sleep-current/src/')"
   ]
  },
  {
   "cell_type": "code",
   "execution_count": 76,
   "metadata": {
    "collapsed": false
   },
   "outputs": [],
   "source": [
    "import matplotlib as mpl\n",
    "import matplotlib.pyplot as pl\n",
    "import numpy as np\n",
    "import pandas as pd\n",
    "import scipy.signal as scsig\n",
    "import spectrum as sp\n",
    "import signale\n",
    "import cPickle as pkl\n",
    "import time\n",
    "import statsmodels.api as sm\n",
    "import colormaps as cm\n",
    "import seaborn as sns\n",
    "import signale.tools as tools\n",
    "import os\n",
    "import itertools as it\n",
    "from scipy import stats\n",
    "from scipy.signal import gaussian"
   ]
  },
  {
   "cell_type": "code",
   "execution_count": 4,
   "metadata": {
    "collapsed": true
   },
   "outputs": [],
   "source": [
    "def MA(array,ord=2):\n",
    "    ma = np.array([array[ii-ord/2:ii+ord/2].mean() for ii in range(array.size) if ii >= ord ],dtype=float)\n",
    "    ma = np.insert(ma,0,array[0:ord/2])\n",
    "    ma = np.append(ma,array[-(ord/2)-1:-1])\n",
    "    return ma\n",
    "def zScore(array):\n",
    "    return(array - np.average(array))/ np.std(array)"
   ]
  },
  {
   "cell_type": "code",
   "execution_count": 5,
   "metadata": {
    "collapsed": false
   },
   "outputs": [],
   "source": [
    "localPath = '/mnt/Data/ephysdata/Gerbils/'"
   ]
  },
  {
   "cell_type": "code",
   "execution_count": 6,
   "metadata": {
    "collapsed": false
   },
   "outputs": [
    {
     "data": {
      "text/plain": [
       "['/mnt/Data/ephysdata/Gerbils/G5/data/2011-08-04_sleep1_csc4.lfp',\n",
       " '/mnt/Data/ephysdata/Gerbils/G5/data/2011-08-04_sleep2_csc4.lfp',\n",
       " '/mnt/Data/ephysdata/Gerbils/G5/data/2011-08-04_sleep3_csc4.lfp',\n",
       " '/mnt/Data/ephysdata/Gerbils/G5/data/2011-08-05_sleep1_csc4.lfp',\n",
       " '/mnt/Data/ephysdata/Gerbils/G5/data/2011-08-05_sleep2_csc4.lfp',\n",
       " '/mnt/Data/ephysdata/Gerbils/G5/data/2011-08-05_sleep3_csc4.lfp',\n",
       " '/mnt/Data/ephysdata/Gerbils/G5/data/2011-08-07_sleep1_csc4.lfp',\n",
       " '/mnt/Data/ephysdata/Gerbils/G5/data/2011-08-07_sleep2_csc4.lfp',\n",
       " '/mnt/Data/ephysdata/Gerbils/G5/data/2011-08-07_sleep3_csc4.lfp',\n",
       " '/mnt/Data/ephysdata/Gerbils/G5/data/2011-08-09_sleep1_csc4.lfp',\n",
       " '/mnt/Data/ephysdata/Gerbils/G5/data/2011-08-09_sleep2_csc4.lfp',\n",
       " '/mnt/Data/ephysdata/Gerbils/G5/data/2011-08-09_sleep3_csc4.lfp',\n",
       " '/mnt/Data/ephysdata/Gerbils/G5/data/2011-08-10_sleep1_csc4.lfp',\n",
       " '/mnt/Data/ephysdata/Gerbils/G5/data/2011-08-10_sleep2_csc4.lfp',\n",
       " '/mnt/Data/ephysdata/Gerbils/G5/data/2011-08-10_sleep3_csc4.lfp',\n",
       " '/mnt/Data/ephysdata/Gerbils/G5/data/2011-08-14_sleep1_csc4.lfp',\n",
       " '/mnt/Data/ephysdata/Gerbils/G5/data/2011-08-14_sleep2_csc4.lfp',\n",
       " '/mnt/Data/ephysdata/Gerbils/G5/data/2011-08-14_sleep3_csc4.lfp',\n",
       " '/mnt/Data/ephysdata/Gerbils/G5/data/2011-08-15_sleep1_csc4.lfp',\n",
       " '/mnt/Data/ephysdata/Gerbils/G5/data/2011-08-15_sleep2_csc4.lfp',\n",
       " '/mnt/Data/ephysdata/Gerbils/G6/2011-09-19/2011-09-19_sleep1_CSC4.lfp',\n",
       " '/mnt/Data/ephysdata/Gerbils/G6/2011-09-19/2011-09-19_sleep2_CSC4.lfp',\n",
       " '/mnt/Data/ephysdata/Gerbils/G6/2011-09-19/2011-09-19_sleep3_CSC4.lfp',\n",
       " '/mnt/Data/ephysdata/Gerbils/G6/2011-09-23/2011-09-23_sleep1_CSC4.lfp',\n",
       " '/mnt/Data/ephysdata/Gerbils/G6/2011-09-23/2011-09-23_sleep2_CSC4.lfp',\n",
       " '/mnt/Data/ephysdata/Gerbils/G6/2011-09-23/2011-09-23_sleep3_CSC4.lfp']"
      ]
     },
     "execution_count": 6,
     "metadata": {},
     "output_type": "execute_result"
    }
   ],
   "source": [
    "lfpPaths = []\n",
    "for lfp in tools.locate('*.lfp',localPath):\n",
    "    lfpPaths.append(os.path.join(lfp[0],lfp[1]))\n",
    "lfpPaths = sorted(lfpPaths)\n",
    "#lfpPaths = [ path for path in lfpPaths if (path.find('leep')>0 and path.find('CSC4')>0) ]\n",
    "lfpPaths"
   ]
  },
  {
   "cell_type": "code",
   "execution_count": 177,
   "metadata": {
    "collapsed": false
   },
   "outputs": [],
   "source": [
    "SleepEpochs = pd.read_pickle('/mnt/Data/ephysdata/Gerbils/SleepEpochs.pd')\n",
    "df = pd.read_pickle('/mnt/Data/ephysdata/Gerbils/psdData.pd')"
   ]
  },
  {
   "cell_type": "code",
   "execution_count": 80,
   "metadata": {
    "collapsed": false
   },
   "outputs": [
    {
     "data": {
      "text/plain": [
       "27.572760993510304"
      ]
     },
     "execution_count": 80,
     "metadata": {},
     "output_type": "execute_result"
    }
   ],
   "source": [
    "gaussian(100,11).sum()"
   ]
  },
  {
   "cell_type": "code",
   "execution_count": 178,
   "metadata": {
    "collapsed": false
   },
   "outputs": [
    {
     "data": {
      "text/plain": [
       "<matplotlib.axes._subplots.AxesSubplot at 0x7f829966df50>"
      ]
     },
     "execution_count": 178,
     "metadata": {},
     "output_type": "execute_result"
    }
   ],
   "source": [
    "sns.tsplot(value='psd',time='f',condition='epoch',unit='epochNo',data=df)"
   ]
  },
  {
   "cell_type": "code",
   "execution_count": null,
   "metadata": {
    "collapsed": false
   },
   "outputs": [],
   "source": []
  },
  {
   "cell_type": "code",
   "execution_count": 15,
   "metadata": {
    "collapsed": false
   },
   "outputs": [],
   "source": [
    "for idx,row in SleepEpochs.iterrows():\n",
    "    sess = row.session.split('0')[0]+row.session.split('0')[1]\n",
    "    for pth in lfpPaths:\n",
    "        if pth.find(row.date)>0 and pth.find(sess)>0:\n",
    "            lfp = pkl.load(open(pth,'rb'))"
   ]
  },
  {
   "cell_type": "code",
   "execution_count": 174,
   "metadata": {
    "collapsed": false
   },
   "outputs": [
    {
     "name": "stdout",
     "output_type": "stream",
     "text": [
      "sleep1 2011-08-05\n",
      "sleep2 2011-08-05\n",
      "sleep3 2011-08-05\n",
      "sleep1 2011-08-07\n",
      "sleep2 2011-08-07\n",
      "sleep3 2011-08-07\n",
      "sleep1 2011-08-09\n",
      "sleep2 2011-08-09\n",
      "sleep3 2011-08-09\n",
      "sleep1 2011-08-10\n",
      "sleep2 2011-08-10\n",
      "sleep3 2011-08-10\n",
      "sleep1 2011-09-19\n",
      "sleep2 2011-09-19\n",
      "sleep3 2011-09-19\n",
      "sleep1 2011-09-23\n",
      "sleep2 2011-09-23\n",
      "sleep3 2011-09-23\n"
     ]
    }
   ],
   "source": [
    "SleepEpochs# = SleepEpochs[SleepEpochs.animal=='G6']\n",
    "aaa = np.unique(SleepEpochs.session)\n",
    "bbb = np.unique(SleepEpochs.date)\n",
    "dBdf = pd.DataFrame([],columns=['epochIdx','dB','f','epoch','session','date','animal'])\n",
    "kkk = 0\n",
    "for date,session in it.product(bbb,aaa):\n",
    "    sess = session.split('0')[0] + session.split('0')[1]\n",
    "    print sess,date\n",
    "    for pth in lfpPaths:\n",
    "        if pth.find(date)>0 and pth.find(sess)>0:\n",
    "            lfp = pkl.load(open(pth,'rb'))\n",
    "    t_init = lfp.timeAxis[0]\n",
    "    df = SleepEpochs[(SleepEpochs.session==session) & (SleepEpochs.date==date)]\n",
    "    for idx,row in df.iterrows():\n",
    "        lfpChunk = lfp.signal_white[np.logical_and(lfp.timeAxis>t_init+1e3*row.t0,lfp.timeAxis<t_init+1e3*row.t1)]\n",
    "        p = sp.Periodogram(lfpChunk,NFFT=2**14,sampling=2e3)\n",
    "        p();\n",
    "        f = np.array(p.frequencies())\n",
    "        sPSD = np.convolve(p.psd*np.power(f,0),gaussian(20,5),'same')\n",
    "        db = 10*np.log10(sPSD/sPSD[0])\n",
    "        epochIdx = np.ones((f<500).sum())\n",
    "        epochIdx = np.int16(epochIdx)\n",
    "        if kkk:\n",
    "            epochIdx = np.ones((f<500).sum())\n",
    "            epochIdx = epochIdx*(kkk+1)\n",
    "            epochIdx = np.int16(epochIdx)\n",
    "        dataArr =  np.array([epochIdx,\n",
    "                             db[f<500].T,\n",
    "                             f[f<500].T,\n",
    "                             np.array([row.epoch]*(f<500).sum()).T,\n",
    "                             np.array([row.session]*(f<500).sum()).T,\n",
    "                             np.array([row.date]*(f<500).sum()).T,\n",
    "                             np.array([row.animal]*(f<500).sum()).T])\n",
    "        kkk+=1\n",
    "        dBdf = dBdf.append(pd.DataFrame(dataArr.T,columns=dBdf.columns),ignore_index=True)\n",
    "        "
   ]
  },
  {
   "cell_type": "code",
   "execution_count": 175,
   "metadata": {
    "collapsed": false
   },
   "outputs": [],
   "source": [
    "cols = ['epochIdx','dB','f']\n",
    "dBdf.ix[:, cols] = dBdf.ix[:, cols].apply(pd.to_numeric)"
   ]
  },
  {
   "cell_type": "code",
   "execution_count": 176,
   "metadata": {
    "collapsed": false
   },
   "outputs": [
    {
     "data": {
      "text/plain": [
       "<matplotlib.axes._subplots.AxesSubplot at 0x7f82d27186d0>"
      ]
     },
     "execution_count": 176,
     "metadata": {},
     "output_type": "execute_result"
    }
   ],
   "source": [
    "sns.tsplot(value='dB',time='f',condition='epoch',unit='epochIdx',data=dBdf)"
   ]
  },
  {
   "cell_type": "code",
   "execution_count": 149,
   "metadata": {
    "collapsed": false
   },
   "outputs": [
    {
     "data": {
      "text/plain": [
       "<matplotlib.collections.PathCollection at 0x7f82efe81290>"
      ]
     },
     "execution_count": 149,
     "metadata": {},
     "output_type": "execute_result"
    }
   ],
   "source": [
    "pl.scatter(f[100:2000],db[100:2000])"
   ]
  },
  {
   "cell_type": "code",
   "execution_count": 145,
   "metadata": {
    "collapsed": false
   },
   "outputs": [
    {
     "data": {
      "text/plain": [
       "LinregressResult(slope=-0.057170052706652229, intercept=-8.0581188967101181, rvalue=-0.69365158033537988, pvalue=2.319935137974389e-144, stderr=0.0018792380614175938)"
      ]
     },
     "execution_count": 145,
     "metadata": {},
     "output_type": "execute_result"
    }
   ],
   "source": [
    "#slope, intercept, r_value, p_value, std_err = \n",
    "stats.linregress(f[1000:2000],db[1000:2000])"
   ]
  },
  {
   "cell_type": "code",
   "execution_count": 140,
   "metadata": {
    "collapsed": false
   },
   "outputs": [
    {
     "data": {
      "text/plain": [
       "[<matplotlib.lines.Line2D at 0x7f82e4602290>]"
      ]
     },
     "execution_count": 140,
     "metadata": {},
     "output_type": "execute_result"
    }
   ],
   "source": [
    "pl.plot(f,db)"
   ]
  },
  {
   "cell_type": "code",
   "execution_count": 144,
   "metadata": {
    "collapsed": false
   },
   "outputs": [
    {
     "data": {
      "text/plain": [
       "244.140625"
      ]
     },
     "execution_count": 144,
     "metadata": {},
     "output_type": "execute_result"
    }
   ],
   "source": [
    "f[2000]"
   ]
  },
  {
   "cell_type": "code",
   "execution_count": 121,
   "metadata": {
    "collapsed": false
   },
   "outputs": [
    {
     "data": {
      "text/plain": [
       "array([  0.00000000e+00,   1.22070312e-01,   2.44140625e-01, ...,\n",
       "         9.99755859e+02,   9.99877930e+02,   1.00000000e+03])"
      ]
     },
     "execution_count": 121,
     "metadata": {},
     "output_type": "execute_result"
    }
   ],
   "source": [
    "f"
   ]
  },
  {
   "cell_type": "code",
   "execution_count": null,
   "metadata": {
    "collapsed": false
   },
   "outputs": [],
   "source": []
  },
  {
   "cell_type": "code",
   "execution_count": 93,
   "metadata": {
    "collapsed": false
   },
   "outputs": [],
   "source": []
  },
  {
   "cell_type": "code",
   "execution_count": null,
   "metadata": {
    "collapsed": false
   },
   "outputs": [],
   "source": []
  },
  {
   "cell_type": "code",
   "execution_count": null,
   "metadata": {
    "collapsed": false
   },
   "outputs": [],
   "source": []
  },
  {
   "cell_type": "code",
   "execution_count": null,
   "metadata": {
    "collapsed": true
   },
   "outputs": [],
   "source": []
  }
 ],
 "metadata": {
  "kernelspec": {
   "display_name": "Python 2",
   "language": "python",
   "name": "python2"
  },
  "language_info": {
   "codemirror_mode": {
    "name": "ipython",
    "version": 2
   },
   "file_extension": ".py",
   "mimetype": "text/x-python",
   "name": "python",
   "nbconvert_exporter": "python",
   "pygments_lexer": "ipython2",
   "version": "2.7.12"
  }
 },
 "nbformat": 4,
 "nbformat_minor": 0
}
