{
 "cells": [
  {
   "cell_type": "code",
   "execution_count": 1,
   "metadata": {
    "collapsed": false
   },
   "outputs": [
    {
     "name": "stdout",
     "output_type": "stream",
     "text": [
      "Using matplotlib backend: Qt4Agg\n"
     ]
    }
   ],
   "source": [
    "%matplotlib \n",
    "%load_ext autoreload\n",
    "%autoreload 2"
   ]
  },
  {
   "cell_type": "code",
   "execution_count": 2,
   "metadata": {
    "collapsed": true
   },
   "outputs": [],
   "source": [
    "import sys\n",
    "sys.path.append(\"/mnt/Data/Workspaces/Eclipse/dataAnalysis/Sleep-current/src/\")"
   ]
  },
  {
   "cell_type": "code",
   "execution_count": 3,
   "metadata": {
    "collapsed": false
   },
   "outputs": [
    {
     "name": "stderr",
     "output_type": "stream",
     "text": [
      "/home/chenani/anaconda/lib/python2.7/site-packages/matplotlib/__init__.py:1350: UserWarning:  This call to matplotlib.use() has no effect\n",
      "because the backend has already been chosen;\n",
      "matplotlib.use() must be called *before* pylab, matplotlib.pyplot,\n",
      "or matplotlib.backends is imported for the first time.\n",
      "\n",
      "  warnings.warn(_use_error_msg)\n",
      "/home/chenani/anaconda/lib/python2.7/site-packages/matplotlib/__init__.py:872: UserWarning: axes.color_cycle is deprecated and replaced with axes.prop_cycle; please use the latter.\n",
      "  warnings.warn(self.msg_depr % (key, alt_key))\n"
     ]
    }
   ],
   "source": [
    "import signale\n",
    "import numpy as np\n",
    "import matplotlib.pyplot as pl\n",
    "import spectrum as sp\n",
    "import pickle as pkl\n",
    "import scipy.signal as scsig\n",
    "import pywt\n",
    "import colormaps as mycmps\n",
    "import signale.tools as tools\n",
    "import os\n",
    "import itertools\n",
    "import pandas as pd\n",
    "import statsmodels.api as sm\n",
    "import seaborn as sns"
   ]
  },
  {
   "cell_type": "code",
   "execution_count": 76,
   "metadata": {
    "collapsed": true
   },
   "outputs": [],
   "source": [
    "animalPath = '/home/chenani/dataWork/ali/Gerbils/8891/'"
   ]
  },
  {
   "cell_type": "code",
   "execution_count": 79,
   "metadata": {
    "collapsed": false
   },
   "outputs": [
    {
     "data": {
      "text/plain": [
       "[]"
      ]
     },
     "execution_count": 79,
     "metadata": {},
     "output_type": "execute_result"
    }
   ],
   "source": [
    "lfpPaths = []\n",
    "for lfp in tools.locate('*.lfp',animalPath):\n",
    "    lfpPaths.append(os.path.join(lfp[0],lfp[1]))\n",
    "lfpPaths = sorted(lfpPaths)\n",
    "[ path for path in lfpPaths if (path.find('leep')>0 and path.find('CS')>0) ]\n"
   ]
  },
  {
   "cell_type": "code",
   "execution_count": 68,
   "metadata": {
    "collapsed": false
   },
   "outputs": [
    {
     "name": "stdout",
     "output_type": "stream",
     "text": [
      "/home/chenani/dataWork/ali/Gerbils/gerbil6/CA1/2011-09-19_14-28-50/sleep1/CSC1.lfp\n",
      "/home/chenani/dataWork/ali/Gerbils/gerbil6/CA1/2011-09-19_14-28-50/sleep1/CSC2.lfp\n",
      "/home/chenani/dataWork/ali/Gerbils/gerbil6/CA1/2011-09-19_14-28-50/sleep1/CSC3.lfp\n",
      "/home/chenani/dataWork/ali/Gerbils/gerbil6/CA1/2011-09-19_14-28-50/sleep1/CSC4.lfp\n",
      "/home/chenani/dataWork/ali/Gerbils/gerbil6/CA1/2011-09-19_14-28-50/sleep2/CSC1.lfp\n",
      "/home/chenani/dataWork/ali/Gerbils/gerbil6/CA1/2011-09-19_14-28-50/sleep2/CSC2.lfp\n",
      "/home/chenani/dataWork/ali/Gerbils/gerbil6/CA1/2011-09-19_14-28-50/sleep2/CSC3.lfp\n",
      "/home/chenani/dataWork/ali/Gerbils/gerbil6/CA1/2011-09-19_14-28-50/sleep2/CSC4.lfp\n",
      "/home/chenani/dataWork/ali/Gerbils/gerbil6/CA1/2011-09-19_14-28-50/sleep3/CSC1.lfp\n",
      "/home/chenani/dataWork/ali/Gerbils/gerbil6/CA1/2011-09-19_14-28-50/sleep3/CSC2.lfp\n",
      "/home/chenani/dataWork/ali/Gerbils/gerbil6/CA1/2011-09-19_14-28-50/sleep3/CSC3.lfp\n",
      "/home/chenani/dataWork/ali/Gerbils/gerbil6/CA1/2011-09-19_14-28-50/sleep3/CSC4.lfp\n",
      "/home/chenani/dataWork/ali/Gerbils/gerbil6/CA1/2011-09-23/sleep1/CSC1.lfp\n",
      "/home/chenani/dataWork/ali/Gerbils/gerbil6/CA1/2011-09-23/sleep1/CSC2.lfp\n",
      "/home/chenani/dataWork/ali/Gerbils/gerbil6/CA1/2011-09-23/sleep1/CSC3.lfp\n",
      "/home/chenani/dataWork/ali/Gerbils/gerbil6/CA1/2011-09-23/sleep1/CSC4.lfp\n",
      "/home/chenani/dataWork/ali/Gerbils/gerbil6/CA1/2011-09-23/sleep2/CSC1.lfp\n",
      "/home/chenani/dataWork/ali/Gerbils/gerbil6/CA1/2011-09-23/sleep2/CSC2.lfp\n",
      "/home/chenani/dataWork/ali/Gerbils/gerbil6/CA1/2011-09-23/sleep2/CSC3.lfp\n",
      "/home/chenani/dataWork/ali/Gerbils/gerbil6/CA1/2011-09-23/sleep2/CSC4.lfp\n",
      "/home/chenani/dataWork/ali/Gerbils/gerbil6/CA1/2011-09-23/sleep3/CSC1.lfp\n",
      "/home/chenani/dataWork/ali/Gerbils/gerbil6/CA1/2011-09-23/sleep3/CSC2.lfp\n",
      "/home/chenani/dataWork/ali/Gerbils/gerbil6/CA1/2011-09-23/sleep3/CSC3.lfp\n",
      "/home/chenani/dataWork/ali/Gerbils/gerbil6/CA1/2011-09-23/sleep3/CSC4.lfp\n",
      "/home/chenani/dataWork/ali/Gerbils/gerbil6/CA3/2011-10-27/2011-10-27_15-07-13/endsleep1/CSC1.lfp\n",
      "/home/chenani/dataWork/ali/Gerbils/gerbil6/CA3/2011-10-27/2011-10-27_15-07-13/endsleep1/CSC2.lfp\n",
      "/home/chenani/dataWork/ali/Gerbils/gerbil6/CA3/2011-10-27/2011-10-27_15-07-13/endsleep1/CSC3.lfp\n",
      "/home/chenani/dataWork/ali/Gerbils/gerbil6/CA3/2011-10-27/2011-10-27_15-07-13/endsleep1/CSC4.lfp\n",
      "/home/chenani/dataWork/ali/Gerbils/gerbil6/CA3/2011-10-27/2011-10-27_15-07-13/endsleep2/CSC1.lfp\n",
      "/home/chenani/dataWork/ali/Gerbils/gerbil6/CA3/2011-10-27/2011-10-27_15-07-13/endsleep2/CSC2.lfp\n",
      "/home/chenani/dataWork/ali/Gerbils/gerbil6/CA3/2011-10-27/2011-10-27_15-07-13/endsleep2/CSC3.lfp\n",
      "/home/chenani/dataWork/ali/Gerbils/gerbil6/CA3/2011-10-27/2011-10-27_15-07-13/endsleep2/CSC4.lfp\n"
     ]
    }
   ],
   "source": [
    "Nlfp = len(lfpPaths[:32])\n",
    "f,ax = pl.subplots(Nlfp/4,4,sharex=True,sharey=False)\n",
    "for pp, path in enumerate(lfpPaths[:32]):\n",
    "    ax[pp/4,np.mod(pp,4)].axvspan(150,225,alpha = 0.5,color='g')\n",
    "    print path\n",
    "    lfp = pkl.load(open(path,'rb'))\n",
    "    dsig = scsig.decimate(lfp.signal_white,2)\n",
    "    p = sp.Periodogram(dsig,sampling=1000,NFFT=2**14)\n",
    "    p()\n",
    "    ax[pp/4,np.mod(pp,4)].plot(p.frequencies(),40*p.psd,alpha=0.75,)\n",
    "    ax[pp/4,np.mod(pp,4)].plot(p.frequencies(),np.convolve(p.psd,scsig.gaussian(p.psd.size/50,p.psd.size/100),'same'),c='m')\n",
    "    for fff in range(0,300,50):\n",
    "        ax[pp/4,np.mod(pp,4)].axvline(fff,c='r')\n",
    "    ax[pp/4,np.mod(pp,4)].legend([lfp.tags['file'],lfp.tags['path'],lfp.tags['channel']])\n",
    "    ax[pp/4,np.mod(pp,4)].set_xlim(0,300)"
   ]
  },
  {
   "cell_type": "code",
   "execution_count": 74,
   "metadata": {
    "collapsed": false
   },
   "outputs": [
    {
     "data": {
      "text/plain": [
       "['/home/chenani/dataWork/ali/Gerbils/gerbil5/2011-08-04/sleep1/CSC1.lfp',\n",
       " '/home/chenani/dataWork/ali/Gerbils/gerbil5/2011-08-04/sleep1/CSC2.lfp',\n",
       " '/home/chenani/dataWork/ali/Gerbils/gerbil5/2011-08-04/sleep1/CSC3.lfp',\n",
       " '/home/chenani/dataWork/ali/Gerbils/gerbil5/2011-08-04/sleep1/CSC4.lfp',\n",
       " '/home/chenani/dataWork/ali/Gerbils/gerbil5/2011-08-04/sleep1/csc4.lfp',\n",
       " '/home/chenani/dataWork/ali/Gerbils/gerbil5/2011-08-04/sleep2/CSC1.lfp',\n",
       " '/home/chenani/dataWork/ali/Gerbils/gerbil5/2011-08-04/sleep2/CSC2.lfp',\n",
       " '/home/chenani/dataWork/ali/Gerbils/gerbil5/2011-08-04/sleep2/CSC3.lfp',\n",
       " '/home/chenani/dataWork/ali/Gerbils/gerbil5/2011-08-04/sleep2/CSC4.lfp',\n",
       " '/home/chenani/dataWork/ali/Gerbils/gerbil5/2011-08-04/sleep2/csc4.lfp',\n",
       " '/home/chenani/dataWork/ali/Gerbils/gerbil5/2011-08-04/sleep3/CSC1.lfp',\n",
       " '/home/chenani/dataWork/ali/Gerbils/gerbil5/2011-08-04/sleep3/CSC2.lfp',\n",
       " '/home/chenani/dataWork/ali/Gerbils/gerbil5/2011-08-04/sleep3/CSC3.lfp',\n",
       " '/home/chenani/dataWork/ali/Gerbils/gerbil5/2011-08-04/sleep3/CSC4.lfp',\n",
       " '/home/chenani/dataWork/ali/Gerbils/gerbil5/2011-08-04/sleep3/csc1.lfp',\n",
       " '/home/chenani/dataWork/ali/Gerbils/gerbil5/2011-08-05/sleep1/CSC1.lfp',\n",
       " '/home/chenani/dataWork/ali/Gerbils/gerbil5/2011-08-05/sleep1/CSC2.lfp',\n",
       " '/home/chenani/dataWork/ali/Gerbils/gerbil5/2011-08-05/sleep1/CSC3.lfp',\n",
       " '/home/chenani/dataWork/ali/Gerbils/gerbil5/2011-08-05/sleep1/CSC4.lfp',\n",
       " '/home/chenani/dataWork/ali/Gerbils/gerbil5/2011-08-05/sleep1/csc4.lfp',\n",
       " '/home/chenani/dataWork/ali/Gerbils/gerbil5/2011-08-05/sleep2/CSC1.lfp',\n",
       " '/home/chenani/dataWork/ali/Gerbils/gerbil5/2011-08-05/sleep2/CSC2.lfp',\n",
       " '/home/chenani/dataWork/ali/Gerbils/gerbil5/2011-08-05/sleep2/CSC3.lfp',\n",
       " '/home/chenani/dataWork/ali/Gerbils/gerbil5/2011-08-05/sleep2/CSC4.lfp',\n",
       " '/home/chenani/dataWork/ali/Gerbils/gerbil5/2011-08-05/sleep2/csc4.lfp',\n",
       " '/home/chenani/dataWork/ali/Gerbils/gerbil5/2011-08-05/sleep3/CSC1.lfp',\n",
       " '/home/chenani/dataWork/ali/Gerbils/gerbil5/2011-08-05/sleep3/CSC2.lfp',\n",
       " '/home/chenani/dataWork/ali/Gerbils/gerbil5/2011-08-05/sleep3/CSC3.lfp',\n",
       " '/home/chenani/dataWork/ali/Gerbils/gerbil5/2011-08-05/sleep3/CSC4.lfp',\n",
       " '/home/chenani/dataWork/ali/Gerbils/gerbil5/2011-08-05/sleep3/csc1.lfp',\n",
       " '/home/chenani/dataWork/ali/Gerbils/gerbil5/2011-08-07/sleep1/CSC1.lfp',\n",
       " '/home/chenani/dataWork/ali/Gerbils/gerbil5/2011-08-07/sleep1/CSC2.lfp',\n",
       " '/home/chenani/dataWork/ali/Gerbils/gerbil5/2011-08-07/sleep1/CSC3.lfp',\n",
       " '/home/chenani/dataWork/ali/Gerbils/gerbil5/2011-08-07/sleep1/CSC4.lfp',\n",
       " '/home/chenani/dataWork/ali/Gerbils/gerbil5/2011-08-07/sleep1/csc1.lfp',\n",
       " '/home/chenani/dataWork/ali/Gerbils/gerbil5/2011-08-07/sleep2/CSC1.lfp',\n",
       " '/home/chenani/dataWork/ali/Gerbils/gerbil5/2011-08-07/sleep2/CSC2.lfp',\n",
       " '/home/chenani/dataWork/ali/Gerbils/gerbil5/2011-08-07/sleep2/CSC3.lfp',\n",
       " '/home/chenani/dataWork/ali/Gerbils/gerbil5/2011-08-07/sleep2/CSC4.lfp',\n",
       " '/home/chenani/dataWork/ali/Gerbils/gerbil5/2011-08-07/sleep2/csc2.lfp',\n",
       " '/home/chenani/dataWork/ali/Gerbils/gerbil5/2011-08-07/sleep3/CSC1.lfp',\n",
       " '/home/chenani/dataWork/ali/Gerbils/gerbil5/2011-08-07/sleep3/CSC2.lfp',\n",
       " '/home/chenani/dataWork/ali/Gerbils/gerbil5/2011-08-07/sleep3/CSC3.lfp',\n",
       " '/home/chenani/dataWork/ali/Gerbils/gerbil5/2011-08-07/sleep3/CSC4.lfp',\n",
       " '/home/chenani/dataWork/ali/Gerbils/gerbil5/2011-08-07/sleep3/csc1.lfp',\n",
       " '/home/chenani/dataWork/ali/Gerbils/gerbil5/2011-08-09/sleep1/CSC1.lfp',\n",
       " '/home/chenani/dataWork/ali/Gerbils/gerbil5/2011-08-09/sleep1/CSC2.lfp',\n",
       " '/home/chenani/dataWork/ali/Gerbils/gerbil5/2011-08-09/sleep1/CSC3.lfp',\n",
       " '/home/chenani/dataWork/ali/Gerbils/gerbil5/2011-08-09/sleep1/CSC4.lfp',\n",
       " '/home/chenani/dataWork/ali/Gerbils/gerbil5/2011-08-09/sleep1/csc4.lfp',\n",
       " '/home/chenani/dataWork/ali/Gerbils/gerbil5/2011-08-09/sleep2/CSC1.lfp',\n",
       " '/home/chenani/dataWork/ali/Gerbils/gerbil5/2011-08-09/sleep2/CSC2.lfp',\n",
       " '/home/chenani/dataWork/ali/Gerbils/gerbil5/2011-08-09/sleep2/CSC3.lfp',\n",
       " '/home/chenani/dataWork/ali/Gerbils/gerbil5/2011-08-09/sleep2/CSC4.lfp',\n",
       " '/home/chenani/dataWork/ali/Gerbils/gerbil5/2011-08-09/sleep2/csc4.lfp',\n",
       " '/home/chenani/dataWork/ali/Gerbils/gerbil5/2011-08-09/sleep3/CSC1.lfp',\n",
       " '/home/chenani/dataWork/ali/Gerbils/gerbil5/2011-08-09/sleep3/CSC2.lfp',\n",
       " '/home/chenani/dataWork/ali/Gerbils/gerbil5/2011-08-09/sleep3/CSC3.lfp',\n",
       " '/home/chenani/dataWork/ali/Gerbils/gerbil5/2011-08-09/sleep3/CSC4.lfp',\n",
       " '/home/chenani/dataWork/ali/Gerbils/gerbil5/2011-08-09/sleep3/csc4.lfp',\n",
       " '/home/chenani/dataWork/ali/Gerbils/gerbil5/2011-08-10/lineartrack/sleep3/CSC1.lfp',\n",
       " '/home/chenani/dataWork/ali/Gerbils/gerbil5/2011-08-10/lineartrack/sleep3/CSC2.lfp',\n",
       " '/home/chenani/dataWork/ali/Gerbils/gerbil5/2011-08-10/lineartrack/sleep3/CSC3.lfp',\n",
       " '/home/chenani/dataWork/ali/Gerbils/gerbil5/2011-08-10/lineartrack/sleep3/CSC4.lfp',\n",
       " '/home/chenani/dataWork/ali/Gerbils/gerbil5/2011-08-10/sleep1/CSC1.lfp',\n",
       " '/home/chenani/dataWork/ali/Gerbils/gerbil5/2011-08-10/sleep1/CSC2.lfp',\n",
       " '/home/chenani/dataWork/ali/Gerbils/gerbil5/2011-08-10/sleep1/CSC3.lfp',\n",
       " '/home/chenani/dataWork/ali/Gerbils/gerbil5/2011-08-10/sleep1/CSC4.lfp',\n",
       " '/home/chenani/dataWork/ali/Gerbils/gerbil5/2011-08-10/sleep1/csc4.lfp',\n",
       " '/home/chenani/dataWork/ali/Gerbils/gerbil5/2011-08-10/sleep2/CSC1.lfp',\n",
       " '/home/chenani/dataWork/ali/Gerbils/gerbil5/2011-08-10/sleep2/CSC2.lfp',\n",
       " '/home/chenani/dataWork/ali/Gerbils/gerbil5/2011-08-10/sleep2/CSC3.lfp',\n",
       " '/home/chenani/dataWork/ali/Gerbils/gerbil5/2011-08-10/sleep2/CSC4.lfp',\n",
       " '/home/chenani/dataWork/ali/Gerbils/gerbil5/2011-08-10/sleep2/csc4.lfp',\n",
       " '/home/chenani/dataWork/ali/Gerbils/gerbil5/2011-08-14/lineartrack/sleep3/CSC1.lfp',\n",
       " '/home/chenani/dataWork/ali/Gerbils/gerbil5/2011-08-14/lineartrack/sleep3/CSC2.lfp',\n",
       " '/home/chenani/dataWork/ali/Gerbils/gerbil5/2011-08-14/lineartrack/sleep3/CSC3.lfp',\n",
       " '/home/chenani/dataWork/ali/Gerbils/gerbil5/2011-08-14/lineartrack/sleep3/CSC4.lfp',\n",
       " '/home/chenani/dataWork/ali/Gerbils/gerbil5/2011-08-14/sleep1/CSC1.lfp',\n",
       " '/home/chenani/dataWork/ali/Gerbils/gerbil5/2011-08-14/sleep1/CSC2.lfp',\n",
       " '/home/chenani/dataWork/ali/Gerbils/gerbil5/2011-08-14/sleep1/CSC3.lfp',\n",
       " '/home/chenani/dataWork/ali/Gerbils/gerbil5/2011-08-14/sleep1/CSC4.lfp',\n",
       " '/home/chenani/dataWork/ali/Gerbils/gerbil5/2011-08-14/sleep1/csc4.lfp',\n",
       " '/home/chenani/dataWork/ali/Gerbils/gerbil5/2011-08-14/sleep2/CSC1.lfp',\n",
       " '/home/chenani/dataWork/ali/Gerbils/gerbil5/2011-08-14/sleep2/CSC2.lfp',\n",
       " '/home/chenani/dataWork/ali/Gerbils/gerbil5/2011-08-14/sleep2/CSC3.lfp',\n",
       " '/home/chenani/dataWork/ali/Gerbils/gerbil5/2011-08-14/sleep2/CSC4.lfp',\n",
       " '/home/chenani/dataWork/ali/Gerbils/gerbil5/2011-08-14/sleep2/csc4.lfp',\n",
       " '/home/chenani/dataWork/ali/Gerbils/gerbil5/2011-08-15/sleep1/CSC1.lfp',\n",
       " '/home/chenani/dataWork/ali/Gerbils/gerbil5/2011-08-15/sleep1/CSC2.lfp',\n",
       " '/home/chenani/dataWork/ali/Gerbils/gerbil5/2011-08-15/sleep1/CSC3.lfp',\n",
       " '/home/chenani/dataWork/ali/Gerbils/gerbil5/2011-08-15/sleep1/CSC4.lfp',\n",
       " '/home/chenani/dataWork/ali/Gerbils/gerbil5/2011-08-15/sleep1/csc4.lfp',\n",
       " '/home/chenani/dataWork/ali/Gerbils/gerbil5/2011-08-15/sleep2/CSC1.lfp',\n",
       " '/home/chenani/dataWork/ali/Gerbils/gerbil5/2011-08-15/sleep2/CSC2.lfp',\n",
       " '/home/chenani/dataWork/ali/Gerbils/gerbil5/2011-08-15/sleep2/CSC3.lfp',\n",
       " '/home/chenani/dataWork/ali/Gerbils/gerbil5/2011-08-15/sleep2/CSC4.lfp',\n",
       " '/home/chenani/dataWork/ali/Gerbils/gerbil5/2011-08-15/sleep2/csc4.lfp']"
      ]
     },
     "execution_count": 74,
     "metadata": {},
     "output_type": "execute_result"
    }
   ],
   "source": [
    "lfpPaths"
   ]
  },
  {
   "cell_type": "code",
   "execution_count": 27,
   "metadata": {
    "collapsed": false
   },
   "outputs": [
    {
     "data": {
      "text/plain": [
       "'/home/chenani/dataWork/ali/Gerbils/8981/real/2013-06-18_10-28-26/sleep1/CSC8.lfp'"
      ]
     },
     "execution_count": 27,
     "metadata": {},
     "output_type": "execute_result"
    }
   ],
   "source": [
    "'/home/chenani/dataWork/ali/Gerbils/8981/real/2013-06-18_10-28-26/sleep1/CSC8.lfp' "
   ]
  },
  {
   "cell_type": "code",
   "execution_count": 75,
   "metadata": {
    "collapsed": false
   },
   "outputs": [
    {
     "data": {
      "text/plain": [
       "['/home/chenani/dataWork/ali/Gerbils/9588/lt/Sleep1/CSC2.lfp',\n",
       " '/home/chenani/dataWork/ali/Gerbils/9588/lt/Sleep2/CSC2.lfp',\n",
       " '/home/chenani/dataWork/ali/Gerbils/gerbil5/2011-08-04/sleep1/CSC4.lfp',\n",
       " '/home/chenani/dataWork/ali/Gerbils/gerbil5/2011-08-04/sleep2/CSC1.lfp',\n",
       " '/home/chenani/dataWork/ali/Gerbils/gerbil5/2011-08-04/sleep3/CSC1.lfp',\n",
       " '/home/chenani/dataWork/ali/Gerbils/gerbil5/2011-08-05/sleep1/CSC1.lfp',\n",
       " '/home/chenani/dataWork/ali/Gerbils/gerbil5/2011-08-05/sleep2/CSC4.lfp',\n",
       " '/home/chenani/dataWork/ali/Gerbils/gerbil5/2011-08-05/sleep3/CSC1.lfp',\n",
       " '/home/chenani/dataWork/ali/Gerbils/gerbil5/2011-08-10/sleep1/CSC1.lfp',\n",
       " '/home/chenani/dataWork/ali/Gerbils/gerbil5/2011-08-10/sleep2/CSC1.lfp',\n",
       " '/home/chenani/dataWork/ali/Gerbils/gerbil5/2011-08-14/sleep1/CSC4.lfp',\n",
       " '/home/chenani/dataWork/ali/Gerbils/gerbil5/2011-08-14/sleep2/CSC4.lfp',\n",
       " '/home/chenani/dataWork/ali/Gerbils/gerbil5/2011-08-15/sleep1/CSC4.lfp',\n",
       " '/home/chenani/dataWork/ali/Gerbils/gerbil5/2011-08-15/sleep2/CSC4.lfp']"
      ]
     },
     "execution_count": 75,
     "metadata": {},
     "output_type": "execute_result"
    }
   ],
   "source": [
    "['/home/chenani/dataWork/ali/Gerbils/9588/lt/Sleep1/CSC2.lfp',\n",
    "'/home/chenani/dataWork/ali/Gerbils/9588/lt/Sleep2/CSC2.lfp',\n",
    "'/home/chenani/dataWork/ali/Gerbils/gerbil5/2011-08-04/sleep1/CSC4.lfp',\n",
    "'/home/chenani/dataWork/ali/Gerbils/gerbil5/2011-08-04/sleep2/CSC1.lfp',\n",
    "'/home/chenani/dataWork/ali/Gerbils/gerbil5/2011-08-04/sleep3/CSC1.lfp',\n",
    "'/home/chenani/dataWork/ali/Gerbils/gerbil5/2011-08-05/sleep1/CSC1.lfp',\n",
    "'/home/chenani/dataWork/ali/Gerbils/gerbil5/2011-08-05/sleep2/CSC4.lfp',\n",
    "'/home/chenani/dataWork/ali/Gerbils/gerbil5/2011-08-05/sleep3/CSC1.lfp',\n",
    "'/home/chenani/dataWork/ali/Gerbils/gerbil5/2011-08-10/sleep1/CSC1.lfp',\n",
    "'/home/chenani/dataWork/ali/Gerbils/gerbil5/2011-08-10/sleep2/CSC1.lfp',\n",
    "'/home/chenani/dataWork/ali/Gerbils/gerbil5/2011-08-14/sleep1/CSC4.lfp',\n",
    "'/home/chenani/dataWork/ali/Gerbils/gerbil5/2011-08-14/sleep2/CSC4.lfp',\n",
    "'/home/chenani/dataWork/ali/Gerbils/gerbil5/2011-08-15/sleep1/CSC4.lfp',\n",
    "'/home/chenani/dataWork/ali/Gerbils/gerbil5/2011-08-15/sleep2/CSC4.lfp']"
   ]
  },
  {
   "cell_type": "code",
   "execution_count": null,
   "metadata": {
    "collapsed": true
   },
   "outputs": [],
   "source": []
  }
 ],
 "metadata": {
  "kernelspec": {
   "display_name": "Python 2",
   "language": "python",
   "name": "python2"
  },
  "language_info": {
   "codemirror_mode": {
    "name": "ipython",
    "version": 2
   },
   "file_extension": ".py",
   "mimetype": "text/x-python",
   "name": "python",
   "nbconvert_exporter": "python",
   "pygments_lexer": "ipython2",
   "version": "2.7.12"
  }
 },
 "nbformat": 4,
 "nbformat_minor": 0
}
