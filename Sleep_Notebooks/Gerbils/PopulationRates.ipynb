{
 "cells": [
  {
   "cell_type": "code",
   "execution_count": 1,
   "metadata": {
    "collapsed": false
   },
   "outputs": [
    {
     "name": "stdout",
     "output_type": "stream",
     "text": [
      "Using matplotlib backend: Qt4Agg\n"
     ]
    }
   ],
   "source": [
    "%matplotlib \n",
    "%load_ext autoreload\n",
    "%autoreload 2"
   ]
  },
  {
   "cell_type": "code",
   "execution_count": 2,
   "metadata": {
    "collapsed": true
   },
   "outputs": [],
   "source": [
    "import sys\n",
    "sys.path.append(\"/mnt/Data/Workspaces/Eclipse/dataAnalysis/Sleep-current/src/\")"
   ]
  },
  {
   "cell_type": "code",
   "execution_count": 126,
   "metadata": {
    "collapsed": false
   },
   "outputs": [],
   "source": [
    "import os\n",
    "import numpy as np\n",
    "import matplotlib.pyplot as pl\n",
    "import cPickle as pkl\n",
    "import colormaps as mycmps\n",
    "import signale.tools as tools\n",
    "import pandas as pd\n",
    "import seaborn as sns\n",
    "import matplotlib.gridspec as gridspec\n",
    "import matplotlib as mpl\n",
    "import scipy.signal as scsig\n",
    "import signale"
   ]
  },
  {
   "cell_type": "code",
   "execution_count": 100,
   "metadata": {
    "collapsed": true
   },
   "outputs": [],
   "source": [
    "def zScore(array):\n",
    "    return(array - np.average(array))/ np.std(array)\n",
    "def RippTrigeredPopRate(lfpPath,Tfolder,rippDB):\n",
    "    rDB = pd.read_pickle(rippDB)\n",
    "    tpaths = sorted([os.path.join(tFile[0],tFile[1]) for tFile in tools.locate('*.t',Tfolder)])\n",
    "    lfp = pkl.load(open(lfpPath))\n",
    "    bins = np.arange(np.floor(lfp.timeAxis[0]),np.floor(lfp.timeAxis[-1])+1,10)\n",
    "    r = np.zeros(bins.size-1)\n",
    "    binC = bins[:-1]+5\n",
    "    for tFile in tpaths:\n",
    "        t = signale.io.load_tFile(tFile)\n",
    "        r += np.histogram(t.spike_times,bins)[0]\n",
    "    r = zScore(r)\n",
    "    rDB = pd.read_pickle(rippDB)\n",
    "    lfpFile = lfpPath.split('/')[-1]\n",
    "    session = lfpFile.split('_')[1]\n",
    "    session = session.split('p')[0]+'p0'+session.split('p')[1]\n",
    "    date = lfpFile.split('_')[0]\n",
    "    relevantRipples = rDB[rDB.date==date]\n",
    "    relevantRipples = relevantRipples[relevantRipples.session==session]\n",
    "    Rcond = np.logical_and(relevantRipples.c ==1, relevantRipples.wc == 1)\n",
    "    Gcond = np.logical_and(relevantRipples.c ==2, relevantRipples.wc == 2)\n",
    "    tsR = []\n",
    "    tsG = []\n",
    "    for t_p in relevantRipples.t_peak[Rcond]:\n",
    "        idx,tStamp = tools.findNearest(binC,t_p)\n",
    "        tsR.append(r[idx-5:idx+5])\n",
    "    for t_p in relevantRipples.t_peak[Gcond]:\n",
    "        idx,tStamp = tools.findNearest(binC,t_p)\n",
    "        tsG.append(r[idx-5:idx+5])\n",
    "    return tsR,tsG"
   ]
  },
  {
   "cell_type": "code",
   "execution_count": 119,
   "metadata": {
    "collapsed": false
   },
   "outputs": [],
   "source": [
    "lfpPaths = ['/mnt/Data/ephysdata/Gerbils/G5/data/2011-08-05_sleep1_csc4.lfp',\n",
    "            '/mnt/Data/ephysdata/Gerbils/G5/data/2011-08-05_sleep2_csc4.lfp',\n",
    "            '/mnt/Data/ephysdata/Gerbils/G5/data/2011-08-05_sleep3_csc4.lfp',\n",
    "            '/mnt/Data/ephysdata/Gerbils/G5/data/2011-08-07_sleep1_csc4.lfp',\n",
    "            '/mnt/Data/ephysdata/Gerbils/G5/data/2011-08-07_sleep2_csc4.lfp',\n",
    "            '/mnt/Data/ephysdata/Gerbils/G5/data/2011-08-07_sleep3_csc4.lfp',\n",
    "            '/mnt/Data/ephysdata/Gerbils/G6/2011-09-23/2011-09-23_sleep1_CSC4.lfp',\n",
    "            '/mnt/Data/ephysdata/Gerbils/G6/2011-09-23/2011-09-23_sleep2_CSC4.lfp',\n",
    "            '/mnt/Data/ephysdata/Gerbils/G6/2011-09-23/2011-09-23_sleep3_CSC4.lfp']\n",
    "tFolders = ['/home/chenani/dataWork/ali/Gerbils/gerbil5/2011-08-05/sleep1/',\n",
    "            '/home/chenani/dataWork/ali/Gerbils/gerbil5/2011-08-05/sleep2/',\n",
    "            '/home/chenani/dataWork/ali/Gerbils/gerbil5/2011-08-05/sleep3/',\n",
    "            '/home/chenani/dataWork/ali/Gerbils/gerbil5/2011-08-07/sleep1/',\n",
    "            '/home/chenani/dataWork/ali/Gerbils/gerbil5/2011-08-07/sleep2/',\n",
    "            '/home/chenani/dataWork/ali/Gerbils/gerbil5/2011-08-07/sleep3/',\n",
    "            '/home/chenani/dataWork/ali/Gerbils/gerbil6/CA1/2011-09-23/sleep1',\n",
    "            '/home/chenani/dataWork/ali/Gerbils/gerbil6/CA1/2011-09-23/sleep2',\n",
    "            '/home/chenani/dataWork/ali/Gerbils/gerbil6/CA1/2011-09-23/sleep3',\n",
    "           ]\n",
    "DBpath = '/mnt/Data/ephysdata/Gerbils/RipplesTimeDB.pd'"
   ]
  },
  {
   "cell_type": "code",
   "execution_count": 120,
   "metadata": {
    "collapsed": false
   },
   "outputs": [],
   "source": [
    "rr = []\n",
    "gg = []\n",
    "for item in zip(lfpPaths,tFolders):\n",
    "    r,g = RippTrigeredPopRate(item[0],item[1],DBpath)\n",
    "    rr.extend(r)\n",
    "    gg.extend(g)"
   ]
  },
  {
   "cell_type": "code",
   "execution_count": 128,
   "metadata": {
    "collapsed": false
   },
   "outputs": [
    {
     "data": {
      "text/plain": [
       "<matplotlib.axes._subplots.AxesSubplot at 0x7f2d07c91d10>"
      ]
     },
     "execution_count": 128,
     "metadata": {},
     "output_type": "execute_result"
    }
   ],
   "source": [
    "sns.tsplot(rr)\n",
    "sns.tsplot(gg,color='r')"
   ]
  },
  {
   "cell_type": "code",
   "execution_count": 127,
   "metadata": {
    "collapsed": false
   },
   "outputs": [],
   "source": [
    "pkl.dump(rr,open('/mnt/Data/ephysdata/Gerbils/popRateRipp.npArr','wb'),pkl.HIGHEST_PROTOCOL)\n",
    "pkl.dump(gg,open('/mnt/Data/ephysdata/Gerbils/popRateFGB.npArr','wb'),pkl.HIGHEST_PROTOCOL)"
   ]
  },
  {
   "cell_type": "code",
   "execution_count": null,
   "metadata": {
    "collapsed": false
   },
   "outputs": [],
   "source": []
  },
  {
   "cell_type": "code",
   "execution_count": null,
   "metadata": {
    "collapsed": false
   },
   "outputs": [],
   "source": []
  },
  {
   "cell_type": "code",
   "execution_count": null,
   "metadata": {
    "collapsed": false
   },
   "outputs": [],
   "source": []
  },
  {
   "cell_type": "code",
   "execution_count": null,
   "metadata": {
    "collapsed": false
   },
   "outputs": [],
   "source": []
  },
  {
   "cell_type": "code",
   "execution_count": null,
   "metadata": {
    "collapsed": true
   },
   "outputs": [],
   "source": []
  }
 ],
 "metadata": {
  "kernelspec": {
   "display_name": "Python 2",
   "language": "python",
   "name": "python2"
  },
  "language_info": {
   "codemirror_mode": {
    "name": "ipython",
    "version": 2
   },
   "file_extension": ".py",
   "mimetype": "text/x-python",
   "name": "python",
   "nbconvert_exporter": "python",
   "pygments_lexer": "ipython2",
   "version": "2.7.12"
  }
 },
 "nbformat": 4,
 "nbformat_minor": 0
}
