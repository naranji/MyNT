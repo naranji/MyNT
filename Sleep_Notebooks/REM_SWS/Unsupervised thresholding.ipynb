{
 "metadata": {
  "name": ""
 },
 "nbformat": 3,
 "nbformat_minor": 0,
 "worksheets": [
  {
   "cells": [
    {
     "cell_type": "code",
     "collapsed": false,
     "input": [
      "%matplotlib"
     ],
     "language": "python",
     "metadata": {},
     "outputs": [
      {
       "output_type": "stream",
       "stream": "stdout",
       "text": [
        "Using matplotlib backend: Qt4Agg\n"
       ]
      }
     ],
     "prompt_number": 1
    },
    {
     "cell_type": "code",
     "collapsed": false,
     "input": [
      "import numpy as np\n",
      "import matplotlib.pyplot as pl\n",
      "from extras.trees import locate"
     ],
     "language": "python",
     "metadata": {},
     "outputs": [],
     "prompt_number": 158
    },
    {
     "cell_type": "code",
     "collapsed": false,
     "input": [
      "rnd = np.random.randn(100000)"
     ],
     "language": "python",
     "metadata": {},
     "outputs": [],
     "prompt_number": 3
    },
    {
     "cell_type": "code",
     "collapsed": false,
     "input": [
      "bins = np.linspace(rnd.min(),rnd.max(), 10 * NofBins,endpoint=True)"
     ],
     "language": "python",
     "metadata": {},
     "outputs": [],
     "prompt_number": 39
    },
    {
     "cell_type": "code",
     "collapsed": false,
     "input": [
      "NofBins = (rnd.max() - rnd.min())/ bin_width #min_width"
     ],
     "language": "python",
     "metadata": {},
     "outputs": [],
     "prompt_number": 52
    },
    {
     "cell_type": "code",
     "collapsed": false,
     "input": [
      "hist = np.histogram(rnd,bins)[0]\n",
      "hist.max()"
     ],
     "language": "python",
     "metadata": {},
     "outputs": [
      {
       "metadata": {},
       "output_type": "pyout",
       "prompt_number": 40,
       "text": [
        "4"
       ]
      }
     ],
     "prompt_number": 40
    },
    {
     "cell_type": "code",
     "collapsed": false,
     "input": [
      "midPoints = np.array([edge + np.diff(bins)[0] / 2. for edge in bins][:-1])"
     ],
     "language": "python",
     "metadata": {},
     "outputs": [],
     "prompt_number": 32
    },
    {
     "cell_type": "code",
     "collapsed": false,
     "input": [
      "min_width = np.abs(np.diff(rnd)).min()\n",
      "bin_width  = 3.49 * rnd.std() / np.power(rnd.size,1/3.)\n",
      "print min_width\n",
      "bin_width"
     ],
     "language": "python",
     "metadata": {},
     "outputs": [
      {
       "output_type": "stream",
       "stream": "stdout",
       "text": [
        "2.81333292145e-05\n"
       ]
      },
      {
       "metadata": {},
       "output_type": "pyout",
       "prompt_number": 17,
       "text": [
        "0.075259989482780842"
       ]
      }
     ],
     "prompt_number": 17
    },
    {
     "cell_type": "code",
     "collapsed": false,
     "input": [
      "pl.hist(rnd,NofBins,log=True);"
     ],
     "language": "python",
     "metadata": {},
     "outputs": [],
     "prompt_number": 42
    },
    {
     "cell_type": "code",
     "collapsed": false,
     "input": [
      "pl.scatter(midPoints,np.log10(hist))"
     ],
     "language": "python",
     "metadata": {},
     "outputs": [
      {
       "metadata": {},
       "output_type": "pyout",
       "prompt_number": 36,
       "text": [
        "<matplotlib.collections.PathCollection at 0x4f18910>"
       ]
      }
     ],
     "prompt_number": 36
    },
    {
     "cell_type": "code",
     "collapsed": false,
     "input": [
      "cd /home/chenani/ATLAS-clone/workspace/Sleep/src/"
     ],
     "language": "python",
     "metadata": {},
     "outputs": [
      {
       "output_type": "stream",
       "stream": "stdout",
       "text": [
        "/home/chenani/ATLAS-clone/workspace/Sleep/src\n"
       ]
      }
     ],
     "prompt_number": 3
    },
    {
     "cell_type": "code",
     "collapsed": false,
     "input": [
      "%run ephys_loader.py /home/chenani/DATA-clone/gerbil_5/real/2011-08-10/lineartrack/sleep2/sleep2.ephys #/home/chenani/DATA-clone/MECLesion/Rat616Control/2013-06-02_07-42-38/sleep1/sleep1.ephys #/home/chenani/DATA-clone/Gerbil_9588/vr/Sleep1/Sleep1.ephys"
     ],
     "language": "python",
     "metadata": {},
     "outputs": [
      {
       "output_type": "stream",
       "stream": "stderr",
       "text": [
        "/home/chenani/anaconda/lib/python2.7/site-packages/matplotlib/__init__.py:1155: UserWarning:  This call to matplotlib.use() has no effect\n",
        "because the backend has already been chosen;\n",
        "matplotlib.use() must be called *before* pylab, matplotlib.pyplot,\n",
        "or matplotlib.backends is imported for the first time.\n",
        "\n",
        "  warnings.warn(_use_error_msg)\n"
       ]
      }
     ],
     "prompt_number": 4
    },
    {
     "cell_type": "code",
     "collapsed": false,
     "input": [
      "csc = rec.LFPs[0]\n",
      "csc.theta_delta_ratio(time_window=0.5)\n",
      "r = csc.th_del_ratio[1]"
     ],
     "language": "python",
     "metadata": {},
     "outputs": [],
     "prompt_number": 5
    },
    {
     "cell_type": "code",
     "collapsed": false,
     "input": [
      "#### Optimal Number of bins according to Herbert A. Sturges \n",
      "## Journal of the American Statistical Association 1926 http://www.jstor.org/stable/2965501\n",
      "Nbins = np.ceil(1 + np.log2(r.size))\n",
      "print Nbins\n",
      "\n",
      "min_width = np.abs(np.diff(r)).min()\n",
      "bin_width  = 3.49 * r.std() / np.power(r.size,1/3.)\n",
      "print min_width\n",
      "print bin_width"
     ],
     "language": "python",
     "metadata": {},
     "outputs": [
      {
       "output_type": "stream",
       "stream": "stdout",
       "text": [
        "13.0\n",
        "0.00010890794878\n",
        "0.139605866242\n"
       ]
      }
     ],
     "prompt_number": 6
    },
    {
     "cell_type": "code",
     "collapsed": false,
     "input": [
      "bins = np.linspace(r.min(),r.max(),Nbins,endpoint=True)\n",
      "midPoints = np.array([edge + np.diff(bins)[0] / 2. for edge in bins][:-1])"
     ],
     "language": "python",
     "metadata": {},
     "outputs": [],
     "prompt_number": 7
    },
    {
     "cell_type": "code",
     "collapsed": false,
     "input": [
      "hist = np.histogram(r,bins)[0]\n",
      "pl.plot(midPoints,np.log10(hist),'k-.')"
     ],
     "language": "python",
     "metadata": {},
     "outputs": [
      {
       "output_type": "stream",
       "stream": "stderr",
       "text": [
        "-c:2: RuntimeWarning: divide by zero encountered in log10\n"
       ]
      },
      {
       "metadata": {},
       "output_type": "pyout",
       "prompt_number": 8,
       "text": [
        "[<matplotlib.lines.Line2D at 0x3b64990>]"
       ]
      }
     ],
     "prompt_number": 8
    },
    {
     "cell_type": "code",
     "collapsed": false,
     "input": [
      "pl.plot(midPoints[:-1],np.diff(np.log10(hist)),'r*')"
     ],
     "language": "python",
     "metadata": {},
     "outputs": [
      {
       "output_type": "stream",
       "stream": "stderr",
       "text": [
        "-c:1: RuntimeWarning: divide by zero encountered in log10\n",
        "/home/chenani/anaconda/lib/python2.7/site-packages/numpy/lib/function_base.py:998: RuntimeWarning: invalid value encountered in subtract\n",
        "  return a[slice1]-a[slice2]\n"
       ]
      },
      {
       "metadata": {},
       "output_type": "pyout",
       "prompt_number": 9,
       "text": [
        "[<matplotlib.lines.Line2D at 0x3ca6090>]"
       ]
      }
     ],
     "prompt_number": 9
    },
    {
     "cell_type": "code",
     "collapsed": false,
     "input": [
      "dff = np.diff(np.log10(hist+1))\n",
      "stds = []\n",
      "x_axis = []\n",
      "for i in range(dff.size/10 + 1):\n",
      "    chunk  = dff[10 * i:10 * i+9]\n",
      "    chunk = chunk[np.isfinite(chunk)]\n",
      "    chunk = chunk[~np.isnan(chunk)]\n",
      "    stds.append(np.std(chunk))\n",
      "    x_axis.append(midPoints[10 * i+2])\n",
      "stds = np.array(stds)"
     ],
     "language": "python",
     "metadata": {},
     "outputs": [
      {
       "ename": "IndexError",
       "evalue": "index out of bounds",
       "output_type": "pyerr",
       "traceback": [
        "\u001b[1;31m---------------------------------------------------------------------------\u001b[0m\n\u001b[1;31mIndexError\u001b[0m                                Traceback (most recent call last)",
        "\u001b[1;32m<ipython-input-403-c8d6b3d6a159>\u001b[0m in \u001b[0;36m<module>\u001b[1;34m()\u001b[0m\n\u001b[0;32m      7\u001b[0m     \u001b[0mchunk\u001b[0m \u001b[1;33m=\u001b[0m \u001b[0mchunk\u001b[0m\u001b[1;33m[\u001b[0m\u001b[1;33m~\u001b[0m\u001b[0mnp\u001b[0m\u001b[1;33m.\u001b[0m\u001b[0misnan\u001b[0m\u001b[1;33m(\u001b[0m\u001b[0mchunk\u001b[0m\u001b[1;33m)\u001b[0m\u001b[1;33m]\u001b[0m\u001b[1;33m\u001b[0m\u001b[0m\n\u001b[0;32m      8\u001b[0m     \u001b[0mstds\u001b[0m\u001b[1;33m.\u001b[0m\u001b[0mappend\u001b[0m\u001b[1;33m(\u001b[0m\u001b[0mnp\u001b[0m\u001b[1;33m.\u001b[0m\u001b[0mstd\u001b[0m\u001b[1;33m(\u001b[0m\u001b[0mchunk\u001b[0m\u001b[1;33m)\u001b[0m\u001b[1;33m)\u001b[0m\u001b[1;33m\u001b[0m\u001b[0m\n\u001b[1;32m----> 9\u001b[1;33m     \u001b[0mx_axis\u001b[0m\u001b[1;33m.\u001b[0m\u001b[0mappend\u001b[0m\u001b[1;33m(\u001b[0m\u001b[0mmidPoints\u001b[0m\u001b[1;33m[\u001b[0m\u001b[1;36m10\u001b[0m \u001b[1;33m*\u001b[0m \u001b[0mi\u001b[0m\u001b[1;33m+\u001b[0m\u001b[1;36m2\u001b[0m\u001b[1;33m]\u001b[0m\u001b[1;33m)\u001b[0m\u001b[1;33m\u001b[0m\u001b[0m\n\u001b[0m\u001b[0;32m     10\u001b[0m \u001b[0mstds\u001b[0m \u001b[1;33m=\u001b[0m \u001b[0mnp\u001b[0m\u001b[1;33m.\u001b[0m\u001b[0marray\u001b[0m\u001b[1;33m(\u001b[0m\u001b[0mstds\u001b[0m\u001b[1;33m)\u001b[0m\u001b[1;33m\u001b[0m\u001b[0m\n",
        "\u001b[1;31mIndexError\u001b[0m: index out of bounds"
       ]
      }
     ],
     "prompt_number": 403
    },
    {
     "cell_type": "code",
     "collapsed": false,
     "input": [
      "pl.plot(x_axis,stds,'rx')"
     ],
     "language": "python",
     "metadata": {},
     "outputs": [
      {
       "metadata": {},
       "output_type": "pyout",
       "prompt_number": 370,
       "text": [
        "[<matplotlib.lines.Line2D at 0xfcc4f10>]"
       ]
      }
     ],
     "prompt_number": 370
    },
    {
     "cell_type": "code",
     "collapsed": false,
     "input": [
      "# Determining number of empty bins in a histogram\n",
      "zz = []\n",
      "for i in range(500):\n",
      "    bins = np.linspace(rnd.min(),rnd.max(),10*(i+1),endpoint=True)\n",
      "    hist = np.histogram(rnd,bins)[0]\n",
      "    zz.append(np.histogram(hist,100)[0][0])\n",
      "pl.plot(10*(np.arange(500)+1),zz)"
     ],
     "language": "python",
     "metadata": {},
     "outputs": [
      {
       "metadata": {},
       "output_type": "pyout",
       "prompt_number": 304,
       "text": [
        "[<matplotlib.lines.Line2D at 0x3ad96810>]"
       ]
      }
     ],
     "prompt_number": 304
    },
    {
     "cell_type": "code",
     "collapsed": false,
     "input": [
      "bins = np.linspace(rnd.min(),rnd.max(),18,endpoint=True)\n",
      "midPoints = np.array([edge + np.diff(bins)[0] / 2. for edge in bins][:-1])\n",
      "hist = np.histogram(rnd,bins)[0]\n",
      "pl.plot(midPoints,np.log10(hist),'rx')"
     ],
     "language": "python",
     "metadata": {},
     "outputs": [
      {
       "metadata": {},
       "output_type": "pyout",
       "prompt_number": 331,
       "text": [
        "[<matplotlib.lines.Line2D at 0x5eb78190>]"
       ]
      }
     ],
     "prompt_number": 331
    },
    {
     "cell_type": "code",
     "collapsed": false,
     "input": [
      "# Determining jitteriness of the histogram\n",
      "\n",
      "jitter = []\n",
      "for i in range(50,500):\n",
      "    zz = []\n",
      "    bins = np.linspace(rnd.min(),rnd.max(),10*(i+1),endpoint=True)\n",
      "    hist = np.histogram(rnd,bins)[0]\n",
      "    dff = np.diff(hist)\n",
      "    for j in range(dff.size/10 + 1):\n",
      "        chunk  = hist[10 * j:10 * j+9]\n",
      "        chunk = chunk[np.isfinite(chunk)]\n",
      "        chunk = chunk[~np.isnan(chunk)]\n",
      "        zz.append((np.std(chunk)))\n",
      "    jitter.append(np.mean(zz))\n",
      "pl.plot(jitter)"
     ],
     "language": "python",
     "metadata": {},
     "outputs": [
      {
       "metadata": {},
       "output_type": "pyout",
       "prompt_number": 324,
       "text": [
        "[<matplotlib.lines.Line2D at 0x5e5975d0>]"
       ]
      }
     ],
     "prompt_number": 324
    },
    {
     "cell_type": "code",
     "collapsed": false,
     "input": [
      "from scipy.optimize import curve_fit\n",
      "def func(x, b, c):\n",
      "    return np.exp(-b*x + c)"
     ],
     "language": "python",
     "metadata": {},
     "outputs": [],
     "prompt_number": 68
    },
    {
     "cell_type": "code",
     "collapsed": false,
     "input": [
      "####Loading...\n",
      "%run ephys_loader.py /home/chenani/atlas-data/josephine/10353/2014-08-07_real/sleep1/sleep1.ephys\n",
      "###Preparation\n",
      "csc = rec.LFPs[0]\n",
      "csc.theta_delta_ratio(time_window=0.5)\n",
      "r = csc.th_del_ratio[1]\n",
      "## Setting up bin sizes\n",
      "Nbins = np.ceil(1 + np.log2(r.size))\n",
      "print Nbins\n",
      "\n",
      "min_width = np.abs(np.diff(r)).min()\n",
      "bin_width  = 3.49 * r.std() / np.power(r.size,1/3.)\n",
      "print min_width\n",
      "print bin_width\n",
      "# Determining density using a rectangular kernel of width h according to Scott 1979\n",
      "NofBins = (r.max() - r.min())/ min_width\n",
      "Nbins = (r.max() - r.min())/ bin_width\n",
      "flat_hist = np.histogram(r,NofBins)[0]\n",
      "print flat_hist.max()\n",
      "binRatio = bin_width / min_width\n",
      "density = np.convolve(flat_hist,np.ones(binRatio),'same')\n",
      "density_n = density / np.linalg.norm(density) \n",
      "###############PLOTS\n",
      "#pl.hist(r,bins=Nbins)\n",
      "#pl.plot(np.linspace(r.min(),r.max(),density.size),density_n,'g')\n",
      "#pl.yscale('log')"
     ],
     "language": "python",
     "metadata": {},
     "outputs": [
      {
       "output_type": "stream",
       "stream": "stdout",
       "text": [
        "13.0\n",
        "3.03475885861e-05\n",
        "0.0886329161691\n",
        "3\n"
       ]
      }
     ],
     "prompt_number": 151
    },
    {
     "cell_type": "code",
     "collapsed": false,
     "input": [
      "armax = density_n.argmax()"
     ],
     "language": "python",
     "metadata": {},
     "outputs": [],
     "prompt_number": 152
    },
    {
     "cell_type": "code",
     "collapsed": false,
     "input": [
      "pl.plot(np.linspace(r.min(),r.max(),density.size),density_n,'r')\n",
      "#pl.plot(np.linspace(a,b,densityb.size),density_nb,'r')\n",
      "x = np.linspace(r.min(),r.max(),density.size)\n",
      "#xab = np.linspace(a,b,densityb.size)\n",
      "pl.plot(x,np.exp(- 3 * x - 5),'b-.')\n",
      "#pl.plot(x,np.exp(- 1.1 * x - 4),'k-.')\n",
      "pl.yscale('log')\n",
      "pl.legend(['DATA_linear','exp(- 3 * x - 5)'])"
     ],
     "language": "python",
     "metadata": {},
     "outputs": [
      {
       "metadata": {},
       "output_type": "pyout",
       "prompt_number": 153,
       "text": [
        "<matplotlib.legend.Legend at 0xac96c50>"
       ]
      }
     ],
     "prompt_number": 153
    },
    {
     "cell_type": "code",
     "collapsed": false,
     "input": [
      "popt, pcov = curve_fit(func, x[armax:],density_n[armax:], p0=( 3, 1))\n",
      "popt,pcov"
     ],
     "language": "python",
     "metadata": {},
     "outputs": [
      {
       "metadata": {},
       "output_type": "pyout",
       "prompt_number": 154,
       "text": [
        "(array([ 2.30337137, -3.82924962]),\n",
        " array([[  4.87221330e-06,   2.97560318e-06],\n",
        "       [  2.97560318e-06,   2.04406959e-06]]))"
       ]
      }
     ],
     "prompt_number": 154
    },
    {
     "cell_type": "code",
     "collapsed": false,
     "input": [
      "pl.plot(x,func(x,*popt),'g')"
     ],
     "language": "python",
     "metadata": {},
     "outputs": [
      {
       "metadata": {},
       "output_type": "pyout",
       "prompt_number": 134,
       "text": [
        "[<matplotlib.lines.Line2D at 0xaa58650>]"
       ]
      }
     ],
     "prompt_number": 134
    },
    {
     "cell_type": "code",
     "collapsed": false,
     "input": [
      "x = np.arange(1,10,0.1)\n",
      "y = np.exp2(-x)\n",
      "pl.plot(x,y)\n",
      "pl.yscale('log')\n",
      "pl.xscale('linear')"
     ],
     "language": "python",
     "metadata": {},
     "outputs": [],
     "prompt_number": 14
    },
    {
     "cell_type": "code",
     "collapsed": false,
     "input": [
      "pl.yscale('log')"
     ],
     "language": "python",
     "metadata": {},
     "outputs": [],
     "prompt_number": 53
    },
    {
     "cell_type": "code",
     "collapsed": false,
     "input": [
      "np.degrees(np.arctan(np.abs((2.25 + 1.9)/(1 + 1.9 * 2.25))))"
     ],
     "language": "python",
     "metadata": {},
     "outputs": [
      {
       "metadata": {},
       "output_type": "pyout",
       "prompt_number": 156,
       "text": [
        "38.193186276902622"
       ]
      }
     ],
     "prompt_number": 156
    },
    {
     "cell_type": "code",
     "collapsed": false,
     "input": [
      "pl.xscale('linear')"
     ],
     "language": "python",
     "metadata": {},
     "outputs": [],
     "prompt_number": 18
    },
    {
     "cell_type": "code",
     "collapsed": false,
     "input": [
      "pl.yscale('linear')"
     ],
     "language": "python",
     "metadata": {},
     "outputs": [],
     "prompt_number": 113
    },
    {
     "cell_type": "code",
     "collapsed": false,
     "input": [
      "(0.52 + 0.64 + 0.78)/3"
     ],
     "language": "python",
     "metadata": {},
     "outputs": [
      {
       "metadata": {},
       "output_type": "pyout",
       "prompt_number": 123,
       "text": [
        "0.6466666666666667"
       ]
      }
     ],
     "prompt_number": 123
    },
    {
     "cell_type": "code",
     "collapsed": false,
     "input": [
      "(1.54+2.10)/2"
     ],
     "language": "python",
     "metadata": {},
     "outputs": [
      {
       "metadata": {},
       "output_type": "pyout",
       "prompt_number": 124,
       "text": [
        "1.82"
       ]
      }
     ],
     "prompt_number": 124
    },
    {
     "cell_type": "code",
     "collapsed": false,
     "input": [
      "ephysList = []\n",
      "for item in locate('*.ephys','/home/chenani/atlas-data/josephine/10353/'):\n",
      "    ephysList.append(item)"
     ],
     "language": "python",
     "metadata": {},
     "outputs": [],
     "prompt_number": 162
    },
    {
     "cell_type": "code",
     "collapsed": false,
     "input": [
      "awake_slopes = []\n",
      "sleep_slopes = []\n",
      "counter = 0\n",
      "for item in ephysList:\n",
      "    filePath = os.path.join(item[0],item[1])\n",
      "    ### Loading ephys file \n",
      "    rec = pkl.load(open(filePath, \"rb\"))\n",
      "    ### Loading report file if exists\n",
      "    reportPath = os.path.join(item[0],'catalog/report.rpt')\n",
      "    if os.path.isfile(reportPath):\n",
      "        report = pkl.load(open(reportPath, \"rb\"))\n",
      "        cscRank = report['quality_rank']+report['strength_rank']\n",
      "        csc = rec.LFPs[cscRank.argmin()]\n",
      "        print 'Using best %s for %s' %(report['name'][cscRank.argmin()],filePath)\n",
      "    else:\n",
      "        csc = rec.LFPs[0]\n",
      "        print 'Using default CSC1.ncs for %s' %filePath\n",
      "    if csc.duration() > 60000:\n",
      "        csc.theta_delta_ratio(time_window=0.5)\n",
      "        r = csc.th_del_ratio[1]\n",
      "        ## Setting up bin sizes\n",
      "        Nbins = np.ceil(1 + np.log2(r.size))\n",
      "        print Nbins\n",
      "\n",
      "        min_width = np.abs(np.diff(r)).min()\n",
      "        bin_width  = 3.49 * r.std() / np.power(r.size,1/3.)\n",
      "        print min_width\n",
      "        print bin_width\n",
      "        # Determining density using a rectangular kernel of width h according to Scott 1979\n",
      "        NofBins = (r.max() - r.min())/ min_width\n",
      "        Nbins = (r.max() - r.min())/ bin_width\n",
      "        flat_hist = np.histogram(r,NofBins)[0]\n",
      "        print flat_hist.max()\n",
      "        binRatio = bin_width / min_width\n",
      "        density = np.convolve(flat_hist,np.ones(binRatio),'same')\n",
      "        density_n = density / np.linalg.norm(density) \n",
      "        argmax = density_n.argmax()\n",
      "        x_axis = np.linspace(r.min(),r.max(),density.size)\n",
      "        popt, pcov = curve_fit(func, x_axis[argmax:],density_n[argmax:], p0=( 3, 1))\n",
      "        if filePath.find('rack') > 0:\n",
      "            awake_slopes.append(popt)\n",
      "        elif filePath.find('leep') > 0:\n",
      "            sleep_slopes.append(popt)\n",
      "    counter +=1\n",
      "    print '%f percent completed!' %(100 * counter / float(len(ephysList)))"
     ],
     "language": "python",
     "metadata": {},
     "outputs": [
      {
       "output_type": "stream",
       "stream": "stdout",
       "text": [
        "Using default CSC1.ncs for /home/chenani/atlas-data/josephine/10353/2014-08-04_real/linTrack1b/linTrack1b.ephys\n",
        "12.0"
       ]
      },
      {
       "output_type": "stream",
       "stream": "stdout",
       "text": [
        "\n",
        "7.71968048452e-06\n",
        "0.129903190678\n",
        "2\n",
        "0.961538 percent completed!"
       ]
      },
      {
       "output_type": "stream",
       "stream": "stdout",
       "text": [
        "\n",
        "Using default CSC1.ncs for /home/chenani/atlas-data/josephine/10353/2014-08-04_real/exclude/linTrack1/linTrack1.ephys"
       ]
      },
      {
       "output_type": "stream",
       "stream": "stdout",
       "text": [
        "\n",
        "1.923077 percent completed!\n",
        "Using best CSC1.ncs for /home/chenani/atlas-data/josephine/10353/2014-08-04_real/sleep2/sleep2.ephys"
       ]
      },
      {
       "output_type": "stream",
       "stream": "stdout",
       "text": [
        "\n",
        "12.0"
       ]
      },
      {
       "output_type": "stream",
       "stream": "stdout",
       "text": [
        "\n",
        "4.18400436615e-05\n",
        "0.1096962727\n",
        "3\n",
        "2.884615 percent completed!"
       ]
      },
      {
       "output_type": "stream",
       "stream": "stdout",
       "text": [
        "\n",
        "Using best CSC1.ncs for /home/chenani/atlas-data/josephine/10353/2014-08-04_real/sleep1/sleep1.ephys"
       ]
      },
      {
       "output_type": "stream",
       "stream": "stdout",
       "text": [
        "\n",
        "13.0"
       ]
      },
      {
       "output_type": "stream",
       "stream": "stdout",
       "text": [
        "\n",
        "7.456898987e-05\n",
        "0.111305090367\n",
        "4\n",
        "3.846154 percent completed!"
       ]
      },
      {
       "output_type": "stream",
       "stream": "stdout",
       "text": [
        "\n",
        "Using default CSC1.ncs for /home/chenani/atlas-data/josephine/10353/2014-08-04_real/linTrack1a/linTrack1a.ephys"
       ]
      },
      {
       "output_type": "stream",
       "stream": "stdout",
       "text": [
        "\n",
        "12.0"
       ]
      },
      {
       "output_type": "stream",
       "stream": "stdout",
       "text": [
        "\n",
        "3.25135423982e-05\n",
        "0.189816687451\n",
        "2\n",
        "4.807692 percent completed!"
       ]
      },
      {
       "output_type": "stream",
       "stream": "stdout",
       "text": [
        "\n",
        "Using best CSC1.ncs for /home/chenani/atlas-data/josephine/10353/2014-07-29_real/sleep2/sleep2.ephys"
       ]
      },
      {
       "output_type": "stream",
       "stream": "stdout",
       "text": [
        "\n",
        "12.0"
       ]
      },
      {
       "output_type": "stream",
       "stream": "stdout",
       "text": [
        "\n",
        "0.000150452542781\n",
        "0.105036223084\n",
        "4\n",
        "5.769231 percent completed!\n",
        "Using best CSC1.ncs for /home/chenani/atlas-data/josephine/10353/2014-07-29_real/sleep1/sleep1.ephys"
       ]
      },
      {
       "output_type": "stream",
       "stream": "stdout",
       "text": [
        "\n",
        "13.0"
       ]
      },
      {
       "output_type": "stream",
       "stream": "stdout",
       "text": [
        "\n",
        "0.000158259008996\n",
        "0.0911881134087\n",
        "4\n",
        "6.730769 percent completed!\n",
        "Using default CSC1.ncs for /home/chenani/atlas-data/josephine/10353/2014-07-29_real/linTrack1/linTrack1.ephys"
       ]
      },
      {
       "output_type": "stream",
       "stream": "stdout",
       "text": [
        "\n",
        "13.0"
       ]
      },
      {
       "output_type": "stream",
       "stream": "stdout",
       "text": [
        "\n",
        "7.36106419318e-05\n",
        "0.125471729528\n",
        "3\n",
        "7.692308 percent completed!"
       ]
      },
      {
       "output_type": "stream",
       "stream": "stdout",
       "text": [
        "\n",
        "Using best CSC1.ncs for /home/chenani/atlas-data/josephine/10353/2014-07-29_real/2014-07-31_real/sleep2/sleep2.ephys"
       ]
      },
      {
       "output_type": "stream",
       "stream": "stdout",
       "text": [
        "\n",
        "12.0"
       ]
      },
      {
       "output_type": "stream",
       "stream": "stdout",
       "text": [
        "\n",
        "5.36556150618e-05\n",
        "0.133115790993\n",
        "3\n",
        "8.653846 percent completed!"
       ]
      },
      {
       "output_type": "stream",
       "stream": "stdout",
       "text": [
        "\n",
        "Using best CSC1.ncs for /home/chenani/atlas-data/josephine/10353/2014-07-29_real/2014-07-31_real/sleep1/sleep1.ephys"
       ]
      },
      {
       "output_type": "stream",
       "stream": "stdout",
       "text": [
        "\n",
        "13.0"
       ]
      },
      {
       "output_type": "stream",
       "stream": "stdout",
       "text": [
        "\n",
        "0.000108097448984\n",
        "0.112417138568\n",
        "4\n",
        "9.615385 percent completed!"
       ]
      },
      {
       "output_type": "stream",
       "stream": "stdout",
       "text": [
        "\n",
        "Using default CSC1.ncs for /home/chenani/atlas-data/josephine/10353/2014-07-29_real/2014-07-31_real/linTrack1/linTrack1.ephys"
       ]
      },
      {
       "output_type": "stream",
       "stream": "stdout",
       "text": [
        "\n",
        "13.0"
       ]
      },
      {
       "output_type": "stream",
       "stream": "stdout",
       "text": [
        "\n",
        "0.000416968508636\n",
        "0.11799277288\n",
        "5\n",
        "10.576923 percent completed!\n",
        "Using best CSC1.ncs for /home/chenani/atlas-data/josephine/10353/2014-06-11_real/sleep2/sleep2.ephys"
       ]
      },
      {
       "output_type": "stream",
       "stream": "stdout",
       "text": [
        "\n",
        "12.0"
       ]
      },
      {
       "output_type": "stream",
       "stream": "stdout",
       "text": [
        "\n",
        "6.08822985969e-05\n",
        "0.0927839657112\n",
        "3\n",
        "11.538462 percent completed!"
       ]
      },
      {
       "output_type": "stream",
       "stream": "stdout",
       "text": [
        "\n",
        "Using best CSC3.ncs for /home/chenani/atlas-data/josephine/10353/2014-06-11_real/sleep1/sleep1.ephys"
       ]
      },
      {
       "output_type": "stream",
       "stream": "stdout",
       "text": [
        "\n",
        "13.0"
       ]
      },
      {
       "output_type": "stream",
       "stream": "stdout",
       "text": [
        "\n",
        "3.13239281749e-06\n",
        "0.0774280513312\n",
        "2\n",
        "12.500000 percent completed!"
       ]
      },
      {
       "output_type": "stream",
       "stream": "stdout",
       "text": [
        "\n",
        "Using default CSC1.ncs for /home/chenani/atlas-data/josephine/10353/2014-06-11_real/linTrack1/linTrack1.ephys"
       ]
      },
      {
       "output_type": "stream",
       "stream": "stdout",
       "text": [
        "\n",
        "12.0"
       ]
      },
      {
       "output_type": "stream",
       "stream": "stdout",
       "text": [
        "\n",
        "2.52472324586e-06\n",
        "0.107929625754\n",
        "2"
       ]
      },
      {
       "output_type": "stream",
       "stream": "stdout",
       "text": [
        "\n",
        "13.461538 percent completed!"
       ]
      },
      {
       "output_type": "stream",
       "stream": "stdout",
       "text": [
        "\n",
        "Using best CSC1.ncs for /home/chenani/atlas-data/josephine/10353/2014-07-25_real/sleep2/sleep2.ephys"
       ]
      },
      {
       "output_type": "stream",
       "stream": "stdout",
       "text": [
        "\n",
        "12.0"
       ]
      },
      {
       "output_type": "stream",
       "stream": "stdout",
       "text": [
        "\n",
        "4.19620200838e-05\n",
        "0.121466404521\n",
        "2\n",
        "14.423077 percent completed!"
       ]
      },
      {
       "output_type": "stream",
       "stream": "stdout",
       "text": [
        "\n",
        "Using best CSC1.ncs for /home/chenani/atlas-data/josephine/10353/2014-07-25_real/sleep1/sleep1.ephys"
       ]
      },
      {
       "output_type": "stream",
       "stream": "stdout",
       "text": [
        "\n",
        "13.0"
       ]
      },
      {
       "output_type": "stream",
       "stream": "stdout",
       "text": [
        "\n",
        "0.000211702351215\n",
        "0.111008680402\n",
        "5\n",
        "15.384615 percent completed!\n",
        "Using default CSC1.ncs for /home/chenani/atlas-data/josephine/10353/2014-07-25_real/linTrack1/linTrack1.ephys"
       ]
      },
      {
       "output_type": "stream",
       "stream": "stdout",
       "text": [
        "\n",
        "12.0"
       ]
      },
      {
       "output_type": "stream",
       "stream": "stdout",
       "text": [
        "\n",
        "6.09641066778e-05\n",
        "0.140108478114\n",
        "3\n",
        "16.346154 percent completed!"
       ]
      },
      {
       "output_type": "stream",
       "stream": "stdout",
       "text": [
        "\n",
        "Using best CSC1.ncs for /home/chenani/atlas-data/josephine/10353/2014-06-20_VR_noGC/sleep2/sleep2.ephys"
       ]
      },
      {
       "output_type": "stream",
       "stream": "stdout",
       "text": [
        "\n",
        "12.0"
       ]
      },
      {
       "output_type": "stream",
       "stream": "stdout",
       "text": [
        "\n",
        "0.000167702941084\n",
        "0.122806320023\n",
        "3\n",
        "17.307692 percent completed!\n",
        "Using best CSC1.ncs for /home/chenani/atlas-data/josephine/10353/2014-06-20_VR_noGC/sleep1/sleep1.ephys"
       ]
      },
      {
       "output_type": "stream",
       "stream": "stdout",
       "text": [
        "\n",
        "13.0"
       ]
      },
      {
       "output_type": "stream",
       "stream": "stdout",
       "text": [
        "\n",
        "9.07091510665e-05\n",
        "0.103441162015\n",
        "4\n",
        "18.269231 percent completed!"
       ]
      },
      {
       "output_type": "stream",
       "stream": "stdout",
       "text": [
        "\n",
        "Using default CSC1.ncs for /home/chenani/atlas-data/josephine/10353/2014-06-20_VR_noGC/linTrack1/linTrack1.ephys"
       ]
      },
      {
       "output_type": "stream",
       "stream": "stdout",
       "text": [
        "\n",
        "13.0"
       ]
      },
      {
       "output_type": "stream",
       "stream": "stdout",
       "text": [
        "\n",
        "2.43710215099e-05\n",
        "0.132412965487\n",
        "3\n",
        "19.230769 percent completed!"
       ]
      },
      {
       "output_type": "stream",
       "stream": "stdout",
       "text": [
        "\n",
        "Using best CSC1.ncs for /home/chenani/atlas-data/josephine/10353/2014-08-07_real/sleep2/sleep2.ephys"
       ]
      },
      {
       "output_type": "stream",
       "stream": "stdout",
       "text": [
        "\n",
        "12.0"
       ]
      },
      {
       "output_type": "stream",
       "stream": "stdout",
       "text": [
        "\n",
        "4.23114859469e-06\n",
        "0.109717221855\n",
        "2\n",
        "20.192308 percent completed!"
       ]
      },
      {
       "output_type": "stream",
       "stream": "stdout",
       "text": [
        "\n",
        "Using best CSC1.ncs for /home/chenani/atlas-data/josephine/10353/2014-08-07_real/sleep1/sleep1.ephys"
       ]
      },
      {
       "output_type": "stream",
       "stream": "stdout",
       "text": [
        "\n",
        "13.0"
       ]
      },
      {
       "output_type": "stream",
       "stream": "stdout",
       "text": [
        "\n",
        "3.03475885861e-05\n",
        "0.0886329161691\n",
        "3\n",
        "21.153846 percent completed!"
       ]
      },
      {
       "output_type": "stream",
       "stream": "stdout",
       "text": [
        "\n",
        "Using default CSC1.ncs for /home/chenani/atlas-data/josephine/10353/2014-08-07_real/linTrack1/linTrack1.ephys"
       ]
      },
      {
       "output_type": "stream",
       "stream": "stdout",
       "text": [
        "\n",
        "13.0"
       ]
      },
      {
       "output_type": "stream",
       "stream": "stdout",
       "text": [
        "\n",
        "3.09852662611e-05\n",
        "0.10039049125\n",
        "3\n",
        "22.115385 percent completed!"
       ]
      },
      {
       "output_type": "stream",
       "stream": "stdout",
       "text": [
        "\n",
        "Using best CSC1.ncs for /home/chenani/atlas-data/josephine/10353/2014-06-17_VR_noGC/sleep2/sleep2.ephys"
       ]
      },
      {
       "output_type": "stream",
       "stream": "stdout",
       "text": [
        "\n",
        "12.0"
       ]
      },
      {
       "output_type": "stream",
       "stream": "stdout",
       "text": [
        "\n",
        "4.02757444378e-06\n",
        "0.121874855643\n",
        "2"
       ]
      },
      {
       "output_type": "stream",
       "stream": "stdout",
       "text": [
        "\n",
        "23.076923 percent completed!"
       ]
      },
      {
       "output_type": "stream",
       "stream": "stdout",
       "text": [
        "\n",
        "Using best CSC1.ncs for /home/chenani/atlas-data/josephine/10353/2014-06-17_VR_noGC/sleep1/sleep1.ephys"
       ]
      },
      {
       "output_type": "stream",
       "stream": "stdout",
       "text": [
        "\n",
        "13.0"
       ]
      },
      {
       "output_type": "stream",
       "stream": "stdout",
       "text": [
        "\n",
        "4.42966190128e-06\n",
        "0.107447844036\n",
        "2"
       ]
      },
      {
       "output_type": "stream",
       "stream": "stdout",
       "text": [
        "\n",
        "24.038462 percent completed!"
       ]
      },
      {
       "output_type": "stream",
       "stream": "stdout",
       "text": [
        "\n",
        "Using default CSC1.ncs for /home/chenani/atlas-data/josephine/10353/2014-06-17_VR_noGC/linTrack1/linTrack1.ephys"
       ]
      },
      {
       "output_type": "stream",
       "stream": "stdout",
       "text": [
        "\n",
        "13.0"
       ]
      },
      {
       "output_type": "stream",
       "stream": "stdout",
       "text": [
        "\n",
        "1.70442151962e-05\n",
        "0.0815245621496\n",
        "3\n",
        "25.000000 percent completed!"
       ]
      },
      {
       "output_type": "stream",
       "stream": "stdout",
       "text": [
        "\n",
        "Using best CSC1.ncs for /home/chenani/atlas-data/josephine/10353/2014-08-06_real/sleep2/sleep2.ephys"
       ]
      },
      {
       "output_type": "stream",
       "stream": "stdout",
       "text": [
        "\n",
        "12.0"
       ]
      },
      {
       "output_type": "stream",
       "stream": "stdout",
       "text": [
        "\n",
        "1.49228343138e-05\n",
        "0.10573600346\n",
        "3\n",
        "25.961538 percent completed!"
       ]
      },
      {
       "output_type": "stream",
       "stream": "stdout",
       "text": [
        "\n",
        "Using best CSC1.ncs for /home/chenani/atlas-data/josephine/10353/2014-08-06_real/sleep1/sleep1.ephys"
       ]
      },
      {
       "output_type": "stream",
       "stream": "stdout",
       "text": [
        "\n",
        "13.0"
       ]
      },
      {
       "output_type": "stream",
       "stream": "stdout",
       "text": [
        "\n",
        "0.00010264618654\n",
        "0.0901225346661\n",
        "3\n",
        "26.923077 percent completed!"
       ]
      },
      {
       "output_type": "stream",
       "stream": "stdout",
       "text": [
        "\n",
        "Using default CSC1.ncs for /home/chenani/atlas-data/josephine/10353/2014-08-06_real/linTrack1/linTrack1.ephys"
       ]
      },
      {
       "output_type": "stream",
       "stream": "stdout",
       "text": [
        "\n",
        "13.0"
       ]
      },
      {
       "output_type": "stream",
       "stream": "stdout",
       "text": [
        "\n",
        "9.51264541743e-05\n",
        "0.0994827426384\n",
        "3\n",
        "27.884615 percent completed!"
       ]
      },
      {
       "output_type": "stream",
       "stream": "stdout",
       "text": [
        "\n",
        "Using best CSC1.ncs for /home/chenani/atlas-data/josephine/10353/2014-08-08_VR_noGC/sleep2/sleep2.ephys"
       ]
      },
      {
       "output_type": "stream",
       "stream": "stdout",
       "text": [
        "\n",
        "12.0"
       ]
      },
      {
       "output_type": "stream",
       "stream": "stdout",
       "text": [
        "\n",
        "2.94864938661e-05\n",
        "0.0941335359475\n",
        "2\n",
        "28.846154 percent completed!"
       ]
      },
      {
       "output_type": "stream",
       "stream": "stdout",
       "text": [
        "\n",
        "Using best CSC1.ncs for /home/chenani/atlas-data/josephine/10353/2014-08-08_VR_noGC/sleep1/sleep1.ephys"
       ]
      },
      {
       "output_type": "stream",
       "stream": "stdout",
       "text": [
        "\n",
        "13.0"
       ]
      },
      {
       "output_type": "stream",
       "stream": "stdout",
       "text": [
        "\n",
        "2.96953294987e-06\n",
        "0.0645008888531\n",
        "2"
       ]
      },
      {
       "output_type": "stream",
       "stream": "stdout",
       "text": [
        "\n",
        "29.807692 percent completed!"
       ]
      },
      {
       "output_type": "stream",
       "stream": "stdout",
       "text": [
        "\n",
        "Using default CSC1.ncs for /home/chenani/atlas-data/josephine/10353/2014-08-08_VR_noGC/linTrack1/linTrack1.ephys"
       ]
      },
      {
       "output_type": "stream",
       "stream": "stdout",
       "text": [
        "\n",
        "13.0"
       ]
      },
      {
       "output_type": "stream",
       "stream": "stdout",
       "text": [
        "\n",
        "4.35063210927e-05\n",
        "0.0978864038439\n",
        "3\n",
        "30.769231 percent completed!"
       ]
      },
      {
       "output_type": "stream",
       "stream": "stdout",
       "text": [
        "\n",
        "Using default CSC1.ncs for /home/chenani/atlas-data/josephine/10353/exclude/2014-06-18_VR_GCmid/linTrack1_GC_a/linTrack1_GC_a.ephys"
       ]
      },
      {
       "output_type": "stream",
       "stream": "stdout",
       "text": [
        "\n",
        "13.0"
       ]
      },
      {
       "output_type": "stream",
       "stream": "stdout",
       "text": [
        "\n",
        "3.53547009544e-05\n",
        "0.0744842121742\n",
        "4\n",
        "31.730769 percent completed!"
       ]
      },
      {
       "output_type": "stream",
       "stream": "stdout",
       "text": [
        "\n",
        "Using best CSC1.ncs for /home/chenani/atlas-data/josephine/10353/exclude/2014-06-18_VR_GCmid/sleep4/sleep4.ephys"
       ]
      },
      {
       "output_type": "stream",
       "stream": "stdout",
       "text": [
        "\n",
        "13.0"
       ]
      },
      {
       "output_type": "stream",
       "stream": "stdout",
       "text": [
        "\n",
        "4.16663921535e-05\n",
        "0.110695747941\n",
        "3\n",
        "32.692308 percent completed!"
       ]
      },
      {
       "output_type": "stream",
       "stream": "stdout",
       "text": [
        "\n",
        "Using best CSC1.ncs for /home/chenani/atlas-data/josephine/10353/exclude/2014-06-18_VR_GCmid/sleep3/sleep3.ephys"
       ]
      },
      {
       "output_type": "stream",
       "stream": "stdout",
       "text": [
        "\n",
        "11.0"
       ]
      },
      {
       "output_type": "stream",
       "stream": "stdout",
       "text": [
        "\n",
        "6.24634488657e-05\n",
        "0.101168963362\n",
        "3\n",
        "33.653846 percent completed!"
       ]
      },
      {
       "output_type": "stream",
       "stream": "stdout",
       "text": [
        "\n",
        "Using default CSC1.ncs for /home/chenani/atlas-data/josephine/10353/exclude/2014-06-17_VR_GCend/linTrack1_GC/linTrack1_GC.ephys"
       ]
      },
      {
       "output_type": "stream",
       "stream": "stdout",
       "text": [
        "\n",
        "13.0"
       ]
      },
      {
       "output_type": "stream",
       "stream": "stdout",
       "text": [
        "\n",
        "2.90803980172e-05\n",
        "0.0928837425196\n",
        "5\n",
        "34.615385 percent completed!"
       ]
      },
      {
       "output_type": "stream",
       "stream": "stdout",
       "text": [
        "\n",
        "Using best CSC1.ncs for /home/chenani/atlas-data/josephine/10353/exclude/2014-06-17_VR_GCend/sleep4/sleep4.ephys"
       ]
      },
      {
       "output_type": "stream",
       "stream": "stdout",
       "text": [
        "\n",
        "12.0"
       ]
      },
      {
       "output_type": "stream",
       "stream": "stdout",
       "text": [
        "\n",
        "1.35407201886e-05\n",
        "0.124875374543\n",
        "2\n",
        "35.576923 percent completed!"
       ]
      },
      {
       "output_type": "stream",
       "stream": "stdout",
       "text": [
        "\n",
        "Using best CSC1.ncs for /home/chenani/atlas-data/josephine/10353/exclude/2014-06-17_VR_GCend/sleep3/sleep3.ephys"
       ]
      },
      {
       "output_type": "stream",
       "stream": "stdout",
       "text": [
        "\n",
        "11.0"
       ]
      },
      {
       "output_type": "stream",
       "stream": "stdout",
       "text": [
        "\n",
        "2.26047886411e-05\n",
        "0.115476953851\n",
        "2\n",
        "36.538462 percent completed!"
       ]
      },
      {
       "output_type": "stream",
       "stream": "stdout",
       "text": [
        "\n",
        "Using default CSC1.ncs for /home/chenani/atlas-data/josephine/10353/exclude/2014-08-05_VR_GCend/linTrack1_GC/linTrack1_GC.ephys"
       ]
      },
      {
       "output_type": "stream",
       "stream": "stdout",
       "text": [
        "\n",
        "13.0"
       ]
      },
      {
       "output_type": "stream",
       "stream": "stdout",
       "text": [
        "\n",
        "4.11444579387e-05\n",
        "0.140149163254\n",
        "3\n",
        "37.500000 percent completed!"
       ]
      },
      {
       "output_type": "stream",
       "stream": "stdout",
       "text": [
        "\n",
        "Using best CSC1.ncs for /home/chenani/atlas-data/josephine/10353/exclude/2014-08-05_VR_GCend/sleep4/sleep4.ephys"
       ]
      },
      {
       "output_type": "stream",
       "stream": "stdout",
       "text": [
        "\n",
        "13.0"
       ]
      },
      {
       "output_type": "stream",
       "stream": "stdout",
       "text": [
        "\n",
        "9.79508471829e-06\n",
        "0.073800480738\n",
        "3\n",
        "38.461538 percent completed!"
       ]
      },
      {
       "output_type": "stream",
       "stream": "stdout",
       "text": [
        "\n",
        "Using best CSC1.ncs for /home/chenani/atlas-data/josephine/10353/exclude/2014-08-05_VR_GCend/sleep3/sleep3.ephys"
       ]
      },
      {
       "output_type": "stream",
       "stream": "stdout",
       "text": [
        "\n",
        "11.0"
       ]
      },
      {
       "output_type": "stream",
       "stream": "stdout",
       "text": [
        "\n",
        "0.00038875267764\n",
        "0.0743315599731\n",
        "4\n",
        "39.423077 percent completed!\n",
        "Using default CSC1.ncs for /home/chenani/atlas-data/josephine/10353/exclude/2014-08-07_VR_GCend/linTrack1_GC/linTrack1_GC.ephys"
       ]
      },
      {
       "output_type": "stream",
       "stream": "stdout",
       "text": [
        "\n",
        "11.0"
       ]
      },
      {
       "output_type": "stream",
       "stream": "stdout",
       "text": [
        "\n",
        "0.00018539352348\n",
        "0.151152247564\n",
        "2\n",
        "40.384615 percent completed!\n",
        "Using best CSC1.ncs for /home/chenani/atlas-data/josephine/10353/exclude/2014-08-07_VR_GCend/sleep4/sleep4.ephys"
       ]
      },
      {
       "output_type": "stream",
       "stream": "stdout",
       "text": [
        "\n",
        "13.0"
       ]
      },
      {
       "output_type": "stream",
       "stream": "stdout",
       "text": [
        "\n",
        "1.86953003388e-06\n",
        "0.0812735481554\n",
        "2"
       ]
      },
      {
       "output_type": "stream",
       "stream": "stdout",
       "text": [
        "\n",
        "41.346154 percent completed!"
       ]
      },
      {
       "output_type": "stream",
       "stream": "stdout",
       "text": [
        "\n",
        "Using best CSC1.ncs for /home/chenani/atlas-data/josephine/10353/exclude/2014-08-07_VR_GCend/sleep3/sleep3.ephys"
       ]
      },
      {
       "output_type": "stream",
       "stream": "stdout",
       "text": [
        "\n",
        "11.0"
       ]
      },
      {
       "output_type": "stream",
       "stream": "stdout",
       "text": [
        "\n",
        "4.08039544189e-05\n",
        "0.096978716409\n",
        "3\n",
        "42.307692 percent completed!"
       ]
      },
      {
       "output_type": "stream",
       "stream": "stdout",
       "text": [
        "\n",
        "Using default CSC1.ncs for /home/chenani/atlas-data/josephine/10353/exclude/2014-08-07_VR_GCend/linTrack1a_GC/linTrack1a_GC.ephys"
       ]
      },
      {
       "output_type": "stream",
       "stream": "stdout",
       "text": [
        "\n",
        "13.0"
       ]
      },
      {
       "output_type": "stream",
       "stream": "stdout",
       "text": [
        "\n",
        "0.000198350570825\n",
        "0.150722532432\n",
        "5\n",
        "43.269231 percent completed!"
       ]
      },
      {
       "output_type": "stream",
       "stream": "stdout",
       "text": [
        "\n",
        "Using default CSC1.ncs for /home/chenani/atlas-data/josephine/10353/exclude/2014-06-19_VR_GCend/linTrack1_GC/linTrack1_GC.ephys"
       ]
      },
      {
       "output_type": "stream",
       "stream": "stdout",
       "text": [
        "\n",
        "13.0"
       ]
      },
      {
       "output_type": "stream",
       "stream": "stdout",
       "text": [
        "\n",
        "4.29170739984e-05\n",
        "0.0955113642148\n",
        "3\n",
        "44.230769 percent completed!"
       ]
      },
      {
       "output_type": "stream",
       "stream": "stdout",
       "text": [
        "\n",
        "Using best CSC1.ncs for /home/chenani/atlas-data/josephine/10353/exclude/2014-06-19_VR_GCend/sleep4/sleep4.ephys"
       ]
      },
      {
       "output_type": "stream",
       "stream": "stdout",
       "text": [
        "\n",
        "13.0"
       ]
      },
      {
       "output_type": "stream",
       "stream": "stdout",
       "text": [
        "\n",
        "0.000172471210583\n",
        "0.112903570307\n",
        "5\n",
        "45.192308 percent completed!\n",
        "Using best CSC1.ncs for /home/chenani/atlas-data/josephine/10353/exclude/2014-06-19_VR_GCend/sleep3/sleep3.ephys"
       ]
      },
      {
       "output_type": "stream",
       "stream": "stdout",
       "text": [
        "\n",
        "11.0"
       ]
      },
      {
       "output_type": "stream",
       "stream": "stdout",
       "text": [
        "\n",
        "6.57144284886e-05\n",
        "0.189326614635\n",
        "2\n",
        "46.153846 percent completed!"
       ]
      },
      {
       "output_type": "stream",
       "stream": "stdout",
       "text": [
        "\n",
        "Using default CSC1.ncs for /home/chenani/atlas-data/josephine/10353/exclude/2014-06-13_VR_GCend/linTrack1_GC/linTrack1_GC.ephys"
       ]
      },
      {
       "output_type": "stream",
       "stream": "stdout",
       "text": [
        "\n",
        "13.0"
       ]
      },
      {
       "output_type": "stream",
       "stream": "stdout",
       "text": [
        "\n",
        "2.45360848784e-07\n",
        "0.105914103594\n",
        "2"
       ]
      }
     ],
     "prompt_number": "*"
    },
    {
     "cell_type": "code",
     "collapsed": false,
     "input": [],
     "language": "python",
     "metadata": {},
     "outputs": [],
     "prompt_number": "*"
    },
    {
     "cell_type": "code",
     "collapsed": false,
     "input": [
      "import os\n",
      "for item in range(10):\n",
      "    os.system('play --no-show-progress --null --channels 1 synth %s sine %f' % ( 0.1, 5000))"
     ],
     "language": "python",
     "metadata": {},
     "outputs": [],
     "prompt_number": "*"
    },
    {
     "cell_type": "code",
     "collapsed": false,
     "input": [],
     "language": "python",
     "metadata": {},
     "outputs": []
    }
   ],
   "metadata": {}
  }
 ]
}